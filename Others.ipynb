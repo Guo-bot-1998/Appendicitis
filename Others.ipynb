{
  "nbformat": 4,
  "nbformat_minor": 0,
  "metadata": {
    "colab": {
      "provenance": [],
      "include_colab_link": true
    },
    "kernelspec": {
      "name": "python3",
      "display_name": "Python 3"
    },
    "language_info": {
      "name": "python"
    }
  },
  "cells": [
    {
      "cell_type": "markdown",
      "metadata": {
        "id": "view-in-github",
        "colab_type": "text"
      },
      "source": [
        "<a href=\"https://colab.research.google.com/github/Guo-bot-1998/Appendicitis/blob/master/AppendixAI.ipynb\" target=\"_parent\"><img src=\"https://colab.research.google.com/assets/colab-badge.svg\" alt=\"Open In Colab\"/></a>"
      ]
    },
    {
      "cell_type": "markdown",
      "source": [
        "# 3D U-Net"
      ],
      "metadata": {
        "id": "1RsFthAjuWhS"
      }
    },
    {
      "cell_type": "code",
      "source": [
        "import torch\n",
        "import torch.nn as nn\n",
        "import torch.nn.functional as F\n",
        "import torch.optim as optim"
      ],
      "metadata": {
        "id": "kZwptaTqs68E"
      },
      "execution_count": null,
      "outputs": []
    },
    {
      "cell_type": "code",
      "source": [
        "class Custom3DNet(nn.Module):\n",
        "    def __init__(self):\n",
        "        super(Custom3DNet, self).__init__()\n",
        "        # Define 3D Convolutional layers\n",
        "        self.conv1 = nn.Conv3d(in_channels=1, out_channels=16, kernel_size=3)\n",
        "        self.conv2 = nn.Conv3d(in_channels=16, out_channels=16, kernel_size=3)\n",
        "        self.conv3 = nn.Conv3d(in_channels=16, out_channels=32, kernel_size=3)\n",
        "        self.conv4 = nn.Conv3d(in_channels=32, out_channels=32, kernel_size=3)\n",
        "        self.conv5 = nn.Conv3d(in_channels=32, out_channels=64, kernel_size=3)\n",
        "        self.conv6 = nn.Conv3d(in_channels=64, out_channels=64, kernel_size=3)\n",
        "\n",
        "        # Define Pooling layer\n",
        "        self.pool = nn.MaxPool3d(kernel_size=2, stride=2)\n",
        "\n",
        "        # Define Fully Connected layers\n",
        "        self.fc1 = nn.Linear(in_features=64, out_features=256)  # Adjust in_features according to the output of the last Conv3D layer\n",
        "        self.fc2 = nn.Linear(in_features=256, out_features=2)\n",
        "\n",
        "    def forward(self, x):\n",
        "        # Apply Convolutional layers and Pooling layers\n",
        "        x = F.relu(self.conv1(x))\n",
        "        x = self.pool(F.relu(self.conv2(x)))\n",
        "        x = F.relu(self.conv3(x))\n",
        "        x = self.pool(F.relu(self.conv4(x)))\n",
        "        x = F.relu(self.conv5(x))\n",
        "        x = self.pool(F.relu(self.conv6(x)))\n",
        "\n",
        "        # Flatten the output for the Fully Connected layer\n",
        "        x = torch.flatten(x, 1)\n",
        "\n",
        "        # Apply Fully Connected layers\n",
        "        x = F.relu(self.fc1(x))\n",
        "        x = self.fc2(x)\n",
        "\n",
        "        # Apply Softmax\n",
        "        output = F.softmax(x, dim=1)\n",
        "        return output"
      ],
      "metadata": {
        "id": "O0SY-OSbsQV_"
      },
      "execution_count": null,
      "outputs": []
    },
    {
      "cell_type": "code",
      "source": [
        "net = Custom3DNet()\n",
        "# Cross Entropy Loss\n",
        "criterion = nn.CrossEntropyLoss()\n",
        "\n",
        "# Adam Optimizer\n",
        "optimizer = optim.Adam(net.parameters(), lr=0.001)  # You can adjust the learning rate as needed\n",
        "\n",
        "num_epochs=100\n",
        "\n",
        "for epoch in range(num_epochs):  # num_epochs is the number of epochs you want to train for\n",
        "    running_loss = 0.0\n",
        "    for i, data in enumerate(trainloader, 0):  # trainloader is your data loader for training data\n",
        "        # Get the inputs; data is a list of [inputs, labels]\n",
        "        inputs, labels = data\n",
        "\n",
        "        # Zero the parameter gradients\n",
        "        optimizer.zero_grad()\n",
        "\n",
        "        # Forward pass\n",
        "        outputs = net(inputs)\n",
        "\n",
        "        # Compute the loss\n",
        "        loss = criterion(outputs, labels)\n",
        "\n",
        "        # Backward pass and optimize\n",
        "        loss.backward()\n",
        "        optimizer.step()\n",
        "\n",
        "        # Print statistics\n",
        "        running_loss += loss.item()\n",
        "        if i % 2000 == 1999:  # Print every 2000 mini-batches\n",
        "            print('[%d, %5d] loss: %.3f' %\n",
        "                  (epoch + 1, i + 1, running_loss / 2000))\n",
        "            running_loss = 0.0\n",
        "\n",
        "print('Finished Training')\n"
      ],
      "metadata": {
        "id": "ZtkK26o90wrZ"
      },
      "execution_count": null,
      "outputs": []
    },
    {
      "cell_type": "markdown",
      "source": [
        "# 驗證validation set的一個有闌尾炎的scan會連續出現多張異常cut"
      ],
      "metadata": {
        "id": "b3mI2V4ZzZRU"
      }
    },
    {
      "cell_type": "code",
      "source": [
        "import pandas as pd\n",
        "\n",
        "with open(\"TrainValid_ground_truth.csv\", 'r') as f:\n",
        "  df = pd.read_csv(f)\n",
        "\n",
        "labels = df['label']\n",
        "ids = df['id']"
      ],
      "metadata": {
        "id": "6CJsVEXS33Y0"
      },
      "execution_count": null,
      "outputs": []
    },
    {
      "cell_type": "code",
      "source": [
        "for id in ids[:10]:\n",
        "  value = id.split('_')[-1]\n",
        "  if (len(value)) == 1:\n",
        "    print(value)"
      ],
      "metadata": {
        "colab": {
          "base_uri": "https://localhost:8080/"
        },
        "id": "7PptkxqV0p90",
        "outputId": "67f55bfb-b92b-40e5-8c9b-f3b434695c0c"
      },
      "execution_count": null,
      "outputs": [
        {
          "output_type": "stream",
          "name": "stdout",
          "text": [
            "0\n",
            "1\n",
            "2\n",
            "3\n",
            "4\n",
            "5\n",
            "6\n",
            "7\n",
            "8\n"
          ]
        }
      ]
    },
    {
      "cell_type": "code",
      "source": [
        "current_id = \"\"\n",
        "current_label = 0\n",
        "ones = []\n",
        "nscan = 0\n",
        "ntagget = 0\n",
        "\n",
        "\n",
        "\n",
        "\n",
        "for i in range(len(df)):\n",
        "  data = df.iloc[i]\n",
        "  label = data['label']\n",
        "  id = data['id']\n",
        "  id_value  = id.split('_')[-1]\n",
        "  if (len(id_value) <= 3):\n",
        "      ones.append(int(label))\n",
        "  else:\n",
        "    if not cont(l):\n",
        "      print(f\"{current_id} false cont\")\n",
        "      break\n",
        "    if sum(ones) == 20:\n",
        "      print(current_id)\n",
        "      if (int(current_label) == 0):\n",
        "        print(f\"{current_id} false label\")\n",
        "      ntagget +=1\n",
        "    nscan += 1\n",
        "    current_id = id\n",
        "    current_label = label\n",
        "    ones = []\n",
        "print(nscan)\n",
        "print(ntagget)"
      ],
      "metadata": {
        "colab": {
          "base_uri": "https://localhost:8080/"
        },
        "id": "TP8LBee-2caR",
        "outputId": "5bbcb2fb-c430-4d7b-c070-321344be267f"
      },
      "execution_count": null,
      "outputs": [
        {
          "output_type": "stream",
          "name": "stdout",
          "text": [
            "ZxA92FB80B3A6C412260E6651B0695D3E4BB37DF4B0B958496\n",
            "ZxFFDF9619CAEA38ABE54015BA803F317F987FD3903FA531CF\n",
            "1000\n",
            "1\n"
          ]
        }
      ]
    },
    {
      "cell_type": "code",
      "source": [
        "def cont(l):\n",
        "  f1 = False\n",
        "  f2 = False\n",
        "  for i in range(len(l)):\n",
        "    if (l[i] == 1):\n",
        "      f1 = True\n",
        "    if (l[i] == 0):\n",
        "      if (f1):\n",
        "        f2 = True\n",
        "    if (l[i] == 1) and f2:\n",
        "      return False\n",
        "  return True"
      ],
      "metadata": {
        "id": "QFzVf5bqD40O"
      },
      "execution_count": null,
      "outputs": []
    }
  ]
}