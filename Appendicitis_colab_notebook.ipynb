{
  "cells": [
    {
      "cell_type": "markdown",
      "metadata": {
        "id": "view-in-github",
        "colab_type": "text"
      },
      "source": [
        "<a href=\"https://colab.research.google.com/github/Guo-bot-1998/Appendicitis/blob/master/Appendicitis_colab_notebook.ipynb\" target=\"_parent\"><img src=\"https://colab.research.google.com/assets/colab-badge.svg\" alt=\"Open In Colab\"/></a>"
      ]
    },
    {
      "cell_type": "markdown",
      "metadata": {
        "id": "coYrDLBnCbwQ"
      },
      "source": [
        "# import"
      ]
    },
    {
      "cell_type": "code",
      "execution_count": 1,
      "metadata": {
        "id": "Q4kBLfXWRg7N",
        "outputId": "adf6acfb-2fa0-4a10-fc96-6bb2209f97ab",
        "colab": {
          "base_uri": "https://localhost:8080/"
        }
      },
      "outputs": [
        {
          "output_type": "stream",
          "name": "stdout",
          "text": [
            "Collecting timm\n",
            "  Downloading timm-0.9.12-py3-none-any.whl (2.2 MB)\n",
            "\u001b[2K     \u001b[90m━━━━━━━━━━━━━━━━━━━━━━━━━━━━━━━━━━━━━━━━\u001b[0m \u001b[32m2.2/2.2 MB\u001b[0m \u001b[31m10.1 MB/s\u001b[0m eta \u001b[36m0:00:00\u001b[0m\n",
            "\u001b[?25hRequirement already satisfied: torch>=1.7 in /usr/local/lib/python3.10/dist-packages (from timm) (2.1.0+cu118)\n",
            "Requirement already satisfied: torchvision in /usr/local/lib/python3.10/dist-packages (from timm) (0.16.0+cu118)\n",
            "Requirement already satisfied: pyyaml in /usr/local/lib/python3.10/dist-packages (from timm) (6.0.1)\n",
            "Requirement already satisfied: huggingface-hub in /usr/local/lib/python3.10/dist-packages (from timm) (0.19.4)\n",
            "Requirement already satisfied: safetensors in /usr/local/lib/python3.10/dist-packages (from timm) (0.4.1)\n",
            "Requirement already satisfied: filelock in /usr/local/lib/python3.10/dist-packages (from torch>=1.7->timm) (3.13.1)\n",
            "Requirement already satisfied: typing-extensions in /usr/local/lib/python3.10/dist-packages (from torch>=1.7->timm) (4.5.0)\n",
            "Requirement already satisfied: sympy in /usr/local/lib/python3.10/dist-packages (from torch>=1.7->timm) (1.12)\n",
            "Requirement already satisfied: networkx in /usr/local/lib/python3.10/dist-packages (from torch>=1.7->timm) (3.2.1)\n",
            "Requirement already satisfied: jinja2 in /usr/local/lib/python3.10/dist-packages (from torch>=1.7->timm) (3.1.2)\n",
            "Requirement already satisfied: fsspec in /usr/local/lib/python3.10/dist-packages (from torch>=1.7->timm) (2023.6.0)\n",
            "Requirement already satisfied: triton==2.1.0 in /usr/local/lib/python3.10/dist-packages (from torch>=1.7->timm) (2.1.0)\n",
            "Requirement already satisfied: requests in /usr/local/lib/python3.10/dist-packages (from huggingface-hub->timm) (2.31.0)\n",
            "Requirement already satisfied: tqdm>=4.42.1 in /usr/local/lib/python3.10/dist-packages (from huggingface-hub->timm) (4.66.1)\n",
            "Requirement already satisfied: packaging>=20.9 in /usr/local/lib/python3.10/dist-packages (from huggingface-hub->timm) (23.2)\n",
            "Requirement already satisfied: numpy in /usr/local/lib/python3.10/dist-packages (from torchvision->timm) (1.23.5)\n",
            "Requirement already satisfied: pillow!=8.3.*,>=5.3.0 in /usr/local/lib/python3.10/dist-packages (from torchvision->timm) (9.4.0)\n",
            "Requirement already satisfied: MarkupSafe>=2.0 in /usr/local/lib/python3.10/dist-packages (from jinja2->torch>=1.7->timm) (2.1.3)\n",
            "Requirement already satisfied: charset-normalizer<4,>=2 in /usr/local/lib/python3.10/dist-packages (from requests->huggingface-hub->timm) (3.3.2)\n",
            "Requirement already satisfied: idna<4,>=2.5 in /usr/local/lib/python3.10/dist-packages (from requests->huggingface-hub->timm) (3.6)\n",
            "Requirement already satisfied: urllib3<3,>=1.21.1 in /usr/local/lib/python3.10/dist-packages (from requests->huggingface-hub->timm) (2.0.7)\n",
            "Requirement already satisfied: certifi>=2017.4.17 in /usr/local/lib/python3.10/dist-packages (from requests->huggingface-hub->timm) (2023.11.17)\n",
            "Requirement already satisfied: mpmath>=0.19 in /usr/local/lib/python3.10/dist-packages (from sympy->torch>=1.7->timm) (1.3.0)\n",
            "Installing collected packages: timm\n",
            "Successfully installed timm-0.9.12\n",
            "Requirement already satisfied: tqdm in /usr/local/lib/python3.10/dist-packages (4.66.1)\n",
            "Collecting kora\n",
            "  Downloading kora-0.9.20-py3-none-any.whl (57 kB)\n",
            "\u001b[2K     \u001b[90m━━━━━━━━━━━━━━━━━━━━━━━━━━━━━━━━━━━━━━━━\u001b[0m \u001b[32m57.7/57.7 kB\u001b[0m \u001b[31m948.9 kB/s\u001b[0m eta \u001b[36m0:00:00\u001b[0m\n",
            "\u001b[?25hRequirement already satisfied: ipython in /usr/local/lib/python3.10/dist-packages (from kora) (7.34.0)\n",
            "Requirement already satisfied: fastcore in /usr/local/lib/python3.10/dist-packages (from kora) (1.5.29)\n",
            "Requirement already satisfied: pip in /usr/local/lib/python3.10/dist-packages (from fastcore->kora) (23.1.2)\n",
            "Requirement already satisfied: packaging in /usr/local/lib/python3.10/dist-packages (from fastcore->kora) (23.2)\n",
            "Requirement already satisfied: setuptools>=18.5 in /usr/local/lib/python3.10/dist-packages (from ipython->kora) (67.7.2)\n",
            "Collecting jedi>=0.16 (from ipython->kora)\n",
            "  Downloading jedi-0.19.1-py2.py3-none-any.whl (1.6 MB)\n",
            "\u001b[2K     \u001b[90m━━━━━━━━━━━━━━━━━━━━━━━━━━━━━━━━━━━━━━━━\u001b[0m \u001b[32m1.6/1.6 MB\u001b[0m \u001b[31m11.0 MB/s\u001b[0m eta \u001b[36m0:00:00\u001b[0m\n",
            "\u001b[?25hRequirement already satisfied: decorator in /usr/local/lib/python3.10/dist-packages (from ipython->kora) (4.4.2)\n",
            "Requirement already satisfied: pickleshare in /usr/local/lib/python3.10/dist-packages (from ipython->kora) (0.7.5)\n",
            "Requirement already satisfied: traitlets>=4.2 in /usr/local/lib/python3.10/dist-packages (from ipython->kora) (5.7.1)\n",
            "Requirement already satisfied: prompt-toolkit!=3.0.0,!=3.0.1,<3.1.0,>=2.0.0 in /usr/local/lib/python3.10/dist-packages (from ipython->kora) (3.0.41)\n",
            "Requirement already satisfied: pygments in /usr/local/lib/python3.10/dist-packages (from ipython->kora) (2.16.1)\n",
            "Requirement already satisfied: backcall in /usr/local/lib/python3.10/dist-packages (from ipython->kora) (0.2.0)\n",
            "Requirement already satisfied: matplotlib-inline in /usr/local/lib/python3.10/dist-packages (from ipython->kora) (0.1.6)\n",
            "Requirement already satisfied: pexpect>4.3 in /usr/local/lib/python3.10/dist-packages (from ipython->kora) (4.9.0)\n",
            "Requirement already satisfied: parso<0.9.0,>=0.8.3 in /usr/local/lib/python3.10/dist-packages (from jedi>=0.16->ipython->kora) (0.8.3)\n",
            "Requirement already satisfied: ptyprocess>=0.5 in /usr/local/lib/python3.10/dist-packages (from pexpect>4.3->ipython->kora) (0.7.0)\n",
            "Requirement already satisfied: wcwidth in /usr/local/lib/python3.10/dist-packages (from prompt-toolkit!=3.0.0,!=3.0.1,<3.1.0,>=2.0.0->ipython->kora) (0.2.12)\n",
            "Installing collected packages: jedi, kora\n",
            "Successfully installed jedi-0.19.1 kora-0.9.20\n",
            "Collecting fake_useragent\n",
            "  Downloading fake_useragent-1.4.0-py3-none-any.whl (15 kB)\n",
            "Installing collected packages: fake_useragent\n",
            "Successfully installed fake_useragent-1.4.0\n"
          ]
        }
      ],
      "source": [
        "!pip install timm\n",
        "!pip install tqdm\n",
        "!pip install kora\n",
        "!pip install fake_useragent"
      ]
    },
    {
      "cell_type": "code",
      "execution_count": 2,
      "metadata": {
        "id": "bQ4w8h2LkY0g"
      },
      "outputs": [],
      "source": [
        "import nibabel as nib\n",
        "import numpy as np\n",
        "import os\n",
        "import pandas as pd\n",
        "import nibabel as nib\n",
        "import torch\n",
        "import torch.nn as nn\n",
        "import torch.optim as optim\n",
        "import random\n",
        "import re\n",
        "import json\n",
        "import tqdm\n",
        "import timm\n",
        "import gdown\n",
        "from torch.utils.data import Dataset, DataLoader\n",
        "from kora.xattr import get_id"
      ]
    },
    {
      "cell_type": "markdown",
      "source": [
        "## 存取"
      ],
      "metadata": {
        "id": "Oc3DYvY3WsL4"
      }
    },
    {
      "cell_type": "code",
      "source": [
        "def get_data_disk(driveroot, targetdir):\n",
        "  \"\"\"從雲端資料夾targetdir下載檔案到colab root底下同名資料夾\n",
        "  只下載沒有下載的檔案.\n",
        "\n",
        "  driveroot為雲端檔案資料夾root\"\"\"\n",
        "\n",
        "  if not os.path.exists('/content/' +targetdir):\n",
        "    os.makedirs(datadir)\n",
        "    print(f\"making{datadir}...\")\n",
        "\n",
        "  files_on_drive = os.listdir(driveroot+'/'+targetdir)\n",
        "  files_in_localdir = os.listdir(f\"/content/{targetdir}\")\n",
        "  files_to_download = [f for f in files_on_drive if f not in files_in_localdir]\n",
        "  files = [(filename, get_id(f'{driveroot}/{targetdir}/{filename}')) for filename in files_to_download]\n",
        "\n",
        "\n",
        "  for idx, (name, file_id) in enumerate(files):\n",
        "\n",
        "    if not file_id:\n",
        "      print(f\"未找到文件: {name}\")\n",
        "      continue\n",
        "\n",
        "    # 下载文件\n",
        "    request = drive_service.files().get_media(fileId=file_id)\n",
        "    fh = io.BytesIO()\n",
        "    downloader = MediaIoBaseDownload(fh, request)\n",
        "\n",
        "    done = False\n",
        "    while not done:\n",
        "      status, done = downloader.next_chunk()\n",
        "      # print(f\"下载 {name} 进度: {int(status.progress() * 100)}%\")\n",
        "\n",
        "    # 将文件内容写入本地文件\n",
        "    local_file_path = os.path.join('/content', targetdir, name)\n",
        "\n",
        "    with open(local_file_path, 'wb') as f:\n",
        "      fh.seek(0)\n",
        "      f.write(fh.read())\n",
        "\n",
        "    print(f\"{idx+1}/{len(files)}: {name} downloaded\")\n",
        "\n",
        "\n",
        "\n",
        "\n",
        "def process_data2(traindir, shift=0, termi=10, dropFalse=0.85, dropPos=0)\\\n",
        " -> tuple[torch.tensor, torch.tensor]:\n",
        "  \"\"\"Reading data in \"traindir\" and process them.\n",
        "  Taking care of memory efficiency\"\n",
        "\n",
        "  Args:\n",
        "    shift: 從第幾個開始讀取\n",
        "    termi: 讀取幾個\n",
        "    dropFalse: 被刪除的有闌尾炎的張數比例\n",
        "    dropPos: 被刪除的有闌尾炎的張數比例\n",
        "\n",
        "  Returns:\n",
        "    images: 输出的图像数据\n",
        "    labels: 输出的标签数据\n",
        "  \"\"\"\n",
        "  print(f\"reading {traindir=}...\")\n",
        "  labels_ = read_label(labelpath)\n",
        "\n",
        "  if labels_.index.name != 'id':\n",
        "    labels_.set_index('id', inplace=True)\n",
        "\n",
        "  #裁減過的圖片放在Cropped_[範圍]的資料夾下,用路徑名稱判斷資料使否裁減過\n",
        "  cropmatch = re.search(r'Cropped', traindir)\n",
        "  if not cropmatch:\n",
        "    print(\"讀取未切片的資料夾\")\n",
        "    xlim, ylim, zlim = [0,512], [0,512], [0,None]\n",
        "  else:\n",
        "    #範圍 = xstart-xend_ystart-yend_zstart-zend\n",
        "    ismatch = re.search(r'(\\d+-\\d+)_(\\d+-\\d+)_(\\d+-\\d+)', traindir)\n",
        "    if ismatch:\n",
        "      dimens = ismatch.group(0)\n",
        "      labelidx = dimens.split('_')\n",
        "      xlim = [int(idx) for idx in labelidx[0].split('-')]\n",
        "      ylim = [int(idx) for idx in labelidx[1].split('-')]\n",
        "      zlim = [int(idx) for idx in labelidx[2].split('-')]\n",
        "      print(f\"{xlim=}\\n{ylim=}\\n{zlim=}\")\n",
        "      if xlim[0] >= xlim[1] or ylim[0] >= ylim[1] or zlim[0] >= zlim[1]:\n",
        "        print(\"切片格式不正确\")\n",
        "        return\n",
        "    else:\n",
        "      print(\"切片格式不正确\")\n",
        "      return\n",
        "\n",
        "\n",
        "  filelist = os.listdir(traindir)\n",
        "  filelist = filelist[shift:shift+termi]\n",
        "\n",
        "  # preallocated\n",
        "  if not cropmatch:\n",
        "    selecteds = [labels_.loc[labels_.index.str.startswith(afile.strip('.nii.gz')+'_')] for afile in filelist]\n",
        "    numcuts = [len(selected) for selected in selecteds]\n",
        "    numcuts = sum(numcuts)\n",
        "  else:\n",
        "    numcuts = (zlim[1]-zlim[0]) * len(filelist)\n",
        "  images = torch.zeros(numcuts,1, ylim[-1]-ylim[0],xlim[-1]-xlim[0])\n",
        "  labels = -torch.ones(numcuts)\n",
        "  nimgs = 0\n",
        "  nprocess = 0\n",
        "\n",
        "  for key in filelist:\n",
        "    file_path = os.path.join(traindir, key)\n",
        "    key = key.strip('.nii.gz')\n",
        "    scan  = labels_.loc[labels_.index.str.startswith(key+'_')]\n",
        "    value = nib.load(file_path).get_fdata()\n",
        "\n",
        "    label_t = torch.tensor(scan['label'][zlim[0]:zlim[-1]])\n",
        "    image_t = torch.from_numpy(value).float().permute(2, 0, 1).unsqueeze(1)\n",
        "\n",
        "    #有幾筆不是512x512\n",
        "    if (not cropmatch) and (image_t.shape[2] != 512 or image_t.shape[3] != 512):\n",
        "      image_t = cropping(image_t)\n",
        "\n",
        "    image_t, label_t = remove_false_images(image_t, label_t, dropFalse)\n",
        "    image_t, label_t = remove_positive_images(image_t, label_t, dropPos)\n",
        "\n",
        "    n_new = len(label_t)\n",
        "\n",
        "    images[nimgs:nimgs+n_new] = image_t\n",
        "    labels[nimgs:nimgs+n_new] = label_t\n",
        "    nimgs += len(label_t)\n",
        "    print(f\"Process {nprocess}: {key} finished...\")\n",
        "    nprocess += 1\n",
        "\n",
        "\n",
        "  #after drop\n",
        "  counts = count_zero(images)\n",
        "  images = torch.asarray(images[:len(images)-counts])\n",
        "  labels = labels[labels != -1]\n",
        "\n",
        "  return images, labels.float()\n",
        "\n",
        "\n",
        "\n",
        "\n",
        "def read_test(testdir,shift=0,termi=10):\n",
        "  \"\"\"Reading data in \"testdir\"\n",
        "  not memory efficient\n",
        "  Args:\n",
        "    shift: 從第幾個開始讀取\n",
        "    termi: 讀取幾個\n",
        "  Returns:\n",
        "    images: 输出的图像数据\n",
        "    scans_info: 每個scan的檔名和切片數(原本nii檔所包含的數量)\n",
        "\n",
        "  \"\"\"\n",
        "\n",
        "\n",
        "  filelist = os.listdir(testdir)\n",
        "  filelist = filelist[shift:shift+termi]\n",
        "  scans_info = []\n",
        "\n",
        "  images = []\n",
        "  nprocess = 0\n",
        "\n",
        "  for key in filelist:\n",
        "    file_path = os.path.join(testdir, key)\n",
        "    key = key.strip('.nii.gz')\n",
        "    value = nib.load(file_path).get_fdata()\n",
        "    scans_info.append((key, value.shape[2]))\n",
        "\n",
        "    image_t = torch.from_numpy(value).float().permute(2, 0, 1).unsqueeze(1)\n",
        "\n",
        "    images.append(image_t)\n",
        "    print(f\"{nprocess}: Read test {key} finished...\")\n",
        "    nprocess += 1\n",
        "\n",
        "  images = torch.cat(images,dim=0)\n",
        "  print(f\"read {len(scans_info)} scans\")\n",
        "\n",
        "  return images, scans_info\n",
        "\n",
        "\n",
        "\n",
        "\n",
        "def save_model(model, modelname=\"\", dirname=\"\", root=os.path.realpath(\"/content/drive/MyDrive/AOCR2024/params\")):\n",
        "\n",
        "  if not model:\n",
        "    print(\"not given model\")\n",
        "    return\n",
        "\n",
        "  if not os.path.exists(root):\n",
        "    print(f\"{root} not exists!\")\n",
        "    return\n",
        "\n",
        "  print(f\"model will be saved under {root}\")\n",
        "\n",
        "  if not modelname:\n",
        "    modelname = input(\"請輸入模型儲存的檔名:\")\n",
        "  if not dirname:\n",
        "    dirname = input(\"請輸入模型儲存的資料夾:\")\n",
        "\n",
        "  filename = f\"{root}/{dirname}/{modelname}\"\n",
        "\n",
        "  if not os.path.exists(os.path.dirname(filename)):\n",
        "    os.mkdir(os.path.dirname(filename))\n",
        "\n",
        "  if os.path.isfile(filename+'.pth'):\n",
        "      print(f\"{filename}.pth exist.\")\n",
        "  else:\n",
        "      torch.save(model.state_dict(), f'{filename}.pth')\n",
        "\n",
        "  return filename\n",
        "\n",
        "\n",
        "\n",
        "def read_label(excel_path) -> pd.DataFrame:\n",
        "  \"\"\"Reads a csv file containing ground-truth.\n",
        "    The csv file should have two columns: 'id' and 'label'.\n",
        "  \"\"\"\n",
        "  with open(excel_path, 'r') as f:\n",
        "    df = pd.read_csv(f)\n",
        "    df.set_index('id', inplace=True)\n",
        "    return df\n",
        "\n",
        "\n",
        "\n",
        "def write_error(logpath, e, nprocess):\n",
        "  # with open(logpath, 'a') as f:\n",
        "    # f.write(f\"{nprocess:} error occured: {e}\\n\") ##! may stuck the program!!\n",
        "  print(f\"{nprocess:} error occured: {e}\\n\")\n",
        "\n",
        "\n",
        "def read_submission(excel_path) -> pd.DataFrame:\n",
        "  \"\"\"Reads a csv file containing submission file.\n",
        "    The csv file should follow the format given by Kaggle.\n",
        "  \"\"\"\n",
        "  with open(excel_path, 'r') as f:\n",
        "    df = pd.read_csv(f)\n",
        "    df.set_index('id', inplace=True)\n",
        "    return df\n",
        "\n",
        "\n"
      ],
      "metadata": {
        "id": "KLs_ItZEW0F1"
      },
      "execution_count": 3,
      "outputs": []
    },
    {
      "cell_type": "markdown",
      "source": [
        "## 列印結果"
      ],
      "metadata": {
        "id": "Fnggb7x7X8Q0"
      }
    },
    {
      "cell_type": "code",
      "source": [
        "def get_confusion(guess, truth):\n",
        "  right = guess == truth\n",
        "  wrong = np.logical_not(right)\n",
        "  TP = np.sum(np.logical_and(right, truth == np.ones(right.shape)))\n",
        "  TN = np.sum(np.logical_and(right, truth == np.zeros(right.shape)))\n",
        "  FN = np.sum(np.logical_and(wrong, truth == np.ones(wrong.shape)))\n",
        "  FP = np.sum(np.logical_and(wrong, truth == np.zeros(wrong.shape)))\n",
        "  return (TP,FP,FN,TN)\n",
        "\n",
        "\n",
        "\n",
        "def print_results(prediction, labels):\n",
        "  if torch.is_tensor(prediction):\n",
        "    prediction = prediction.cpu().numpy()\n",
        "  if torch.is_tensor(labels):\n",
        "    labels = labels.cpu().numpy()\n",
        "\n",
        "  TP,FP,FN,TN = get_confusion(prediction, labels)\n",
        "  print(f\"\\n\\\n",
        "      真實值\\n\\\n",
        "  預  +-----+-----+\\n\\\n",
        "  測| TP: {TP}| FP: {FP}|\\n\\\n",
        "  值| FN: {FN}| TN: {TN}|\\n\\\n",
        "      +-----+-----+ \\n\")\n",
        "\n",
        "  recall = TP/(TP + FN)\n",
        "  precision = TP/(TP + FP)\n",
        "  recall = 0 if np.isnan(recall) else recall.item()\n",
        "  precision = 0 if np.isnan(precision) else precision.item()\n",
        "  F1 = 0 if recall + precision == 0 else  (2*recall*precision/(recall+precision))\n",
        "\n",
        "  print(f\"{recall=}\\n{precision=}\\n{F1=}\\n\")"
      ],
      "metadata": {
        "id": "1gFEpWQ-X7nc"
      },
      "execution_count": 4,
      "outputs": []
    },
    {
      "cell_type": "markdown",
      "source": [
        "## 數據裁減\n",
        "\n",
        "\n"
      ],
      "metadata": {
        "id": "UsmaGmRwWmxv"
      }
    },
    {
      "cell_type": "code",
      "source": [
        "def argumenting(images, labels, n=5):\n",
        "  \"\"\"\n",
        "  數據增強。\n",
        "  在images裡面把所有有闌尾炎的cut複製給定次數，並\n",
        "  插入回images的隨機位置裡面\n",
        "\n",
        "  Args:\n",
        "    images: 输入的图像数据\n",
        "    labels: 输入的标签数据\n",
        "    n: 每个样本複製多少次\n",
        "\n",
        "  Returns:\n",
        "    增強后的图像数据和标签数据\n",
        "  \"\"\"\n",
        "  where = (labels == True).nonzero(as_tuple=True)[0]\n",
        "  bad_images = images[where]\n",
        "\n",
        "  rep_imgs = bad_images.repeat(n, 1, 1, 1)\n",
        "  rep_labels = torch.ones(rep_imgs.shape[0], dtype=labels.dtype)\n",
        "\n",
        "  # import pdb\n",
        "  # pdb.set_trace()\n",
        "  # 隨機插入argumented圖片\n",
        "  nimg = images.shape[0]\n",
        "  rnd_pos = torch.randint(0, nimg, (rep_imgs.shape[0],))\n",
        "  images = torch.cat((images, rep_imgs), dim=0)\n",
        "  images = images[torch.argsort(torch.cat((torch.arange(nimg), rnd_pos)))]\n",
        "\n",
        "  # 對應對置插入標籤\n",
        "  labels = torch.cat((labels, rep_labels), dim=0)\n",
        "  labels = labels[torch.argsort(torch.cat((torch.arange(nimg), rnd_pos)))]\n",
        "\n",
        "  return images, labels\n",
        "\n",
        "def remove_false_images(images, labels, ratio):\n",
        "    \"\"\"\n",
        "    隨機在images裡面移除一定比例的無闌尾炎cut\n",
        "\n",
        "    Args:\n",
        "      images: 输入的图像数据\n",
        "      labels: 输入的标签数据\n",
        "      ratio: 移除的比例\n",
        "\n",
        "    Returns:\n",
        "      移除后的图像数据和标签数据\n",
        "    \"\"\"\n",
        "    # 找出 labels == 0 的索引\n",
        "    where_false = (labels == 0).nonzero(as_tuple=True)[0]\n",
        "    mask = torch.ones(len(images), dtype=torch.bool)\n",
        "    indices_filter = torch.randperm(len(where_false))[:int(len(where_false)*ratio)]\n",
        "    mask[where_false[indices_filter]] = False\n",
        "    images = images[mask]\n",
        "    labels = labels[mask]\n",
        "\n",
        "    return images, labels\n",
        "\n",
        "def remove_positive_images(images, labels, ratio):\n",
        "    # 找出 labels == 1 的索引\n",
        "    where_positive = (labels == 1).nonzero(as_tuple=True)[0]\n",
        "    mask = torch.ones(len(images), dtype=torch.bool)\n",
        "    indices_filter = torch.randperm(len(where_positive))[:int(len(where_positive)*ratio)]\n",
        "    mask[where_positive[indices_filter]] = False\n",
        "    images = images[mask]\n",
        "    labels = labels[mask]\n",
        "\n",
        "    return images, labels"
      ],
      "metadata": {
        "id": "6nLNS0uRWl5X"
      },
      "execution_count": 5,
      "outputs": []
    },
    {
      "cell_type": "markdown",
      "source": [
        "## 其他"
      ],
      "metadata": {
        "id": "BdwzEjFhbR4z"
      }
    },
    {
      "cell_type": "code",
      "execution_count": 6,
      "metadata": {
        "id": "7dmJYugUB_3w"
      },
      "outputs": [],
      "source": [
        "\n",
        "def count_zero(images):\n",
        "  count = 0\n",
        "  for image in images:\n",
        "    if not torch.any(image):\n",
        "      count += 1\n",
        "  return count\n",
        "\n",
        "def cropping(image):\n",
        "  if image.shape[2] != 512:\n",
        "    start = (image.shape[2] - 512) // 2\n",
        "    end = start + 512\n",
        "    image = image[:, :, start:end, :]\n",
        "\n",
        "  if image.shape[3] != 512:\n",
        "    start = (image.shape[3] - 512) // 2\n",
        "    end = start + 512\n",
        "    image = image[:, :, :, start:end]\n",
        "  return image\n",
        "\n",
        "\n",
        "\n",
        "\n",
        "def custom_sort_key(val):\n",
        "    parts = val.split('_')\n",
        "    if len(parts) == 2 and parts[1].isdigit():\n",
        "        return (parts[0], int(parts[1]))\n",
        "    return (parts[0], -1)  # 使沒有_(數字)的id排最前面\n",
        "\n",
        "\n",
        "def isgpu():\n",
        "    \"\"\"檢查是否有 CUDA 支持的 GPU\"\"\"\n",
        "    if torch.cuda.is_available():\n",
        "        device = torch.device(\"cuda\")\n",
        "        print(\"GPU is available\")\n",
        "    else:\n",
        "        device = torch.device(\"cpu\")\n",
        "        # raise(\"GPU not available\")\n",
        "    return device\n"
      ]
    },
    {
      "cell_type": "code",
      "execution_count": 7,
      "metadata": {
        "id": "Ud4x-GeICQxw",
        "outputId": "3df576ed-4eef-4768-b8d9-0a19476c66bd",
        "colab": {
          "base_uri": "https://localhost:8080/"
        }
      },
      "outputs": [
        {
          "output_type": "stream",
          "name": "stdout",
          "text": [
            "GPU is available\n"
          ]
        }
      ],
      "source": [
        "device = isgpu()"
      ]
    },
    {
      "cell_type": "markdown",
      "metadata": {
        "id": "lV66iCZmCrBJ"
      },
      "source": [
        "# 掛載\n"
      ]
    },
    {
      "cell_type": "code",
      "execution_count": 8,
      "metadata": {
        "id": "bKUXzQOdBRFQ",
        "outputId": "bb778482-c969-485b-bda6-d4e21cd4194a",
        "colab": {
          "base_uri": "https://localhost:8080/"
        }
      },
      "outputs": [
        {
          "output_type": "stream",
          "name": "stdout",
          "text": [
            "Mounted at /content/drive/\n"
          ]
        }
      ],
      "source": [
        "from google.colab import drive\n",
        "drive.mount('/content/drive/',)"
      ]
    },
    {
      "cell_type": "code",
      "source": [
        "!pwd"
      ],
      "metadata": {
        "id": "5qbhdYNrGRxf",
        "outputId": "67cf35ee-fa0f-4ac1-9178-e104f73c7271",
        "colab": {
          "base_uri": "https://localhost:8080/"
        }
      },
      "execution_count": 9,
      "outputs": [
        {
          "output_type": "stream",
          "name": "stdout",
          "text": [
            "/content\n"
          ]
        }
      ]
    },
    {
      "cell_type": "code",
      "source": [
        "drive_rootdir = \"/content/drive/MyDrive/AOCR2024\"\n",
        "labelpath = '/content/drive/MyDrive/AOCR2024/TrainValid_ground_truth.csv'\n",
        "datadir =\"Train_Valid_Image\"\n"
      ],
      "metadata": {
        "id": "dzzWlsmwlPCZ"
      },
      "execution_count": 70,
      "outputs": []
    },
    {
      "cell_type": "markdown",
      "source": [
        "Use service account to access googledrive"
      ],
      "metadata": {
        "id": "CwxsNMJG9E-V"
      }
    },
    {
      "cell_type": "code",
      "source": [
        "import io\n",
        "import googleapiclient.discovery\n",
        "from google.auth.exceptions import TransportError\n",
        "from google.oauth2.service_account import Credentials\n",
        "from googleapiclient.http import MediaIoBaseDownload\n",
        "\n",
        "DriveAPIcredentials = r\"/content/drive/MyDrive/AOCR2024/creds/appendicitis-407217-c2f141040794.json\"\n",
        "credentials = Credentials.from_service_account_file(DriveAPIcredentials,scopes=[\"https://www.googleapis.com/auth/drive\"])\n",
        "drive_service = googleapiclient.discovery.build('drive', 'v3', credentials=credentials)"
      ],
      "metadata": {
        "id": "p46LlGr13crr"
      },
      "execution_count": 31,
      "outputs": []
    },
    {
      "cell_type": "markdown",
      "source": [
        "# 資料下載\n"
      ],
      "metadata": {
        "id": "3OZg-WX2NgQL"
      }
    },
    {
      "cell_type": "markdown",
      "source": [
        "preparing the folder on colab and setting path\n",
        "\n",
        "913 in 39 mins"
      ],
      "metadata": {
        "id": "S1ngtGDK-lgT"
      }
    },
    {
      "cell_type": "code",
      "source": [
        "get_data_disk(drive_rootdir, datadir)"
      ],
      "metadata": {
        "colab": {
          "base_uri": "https://localhost:8080/",
          "height": 1000
        },
        "id": "vFY-Mi1k6uS8",
        "outputId": "02908b26-c843-4d2b-f979-7af425a6cc69"
      },
      "execution_count": 71,
      "outputs": [
        {
          "output_type": "stream",
          "name": "stdout",
          "text": [
            "makingTrain_Valid_Image...\n",
            "1/1000: Zx29D944DDC12D73E641FD78628DA3CCDAD0CCD13F9C098056.nii.gz downloaded\n",
            "2/1000: Zx1950A84DEF7878F0F9E32AF9F820CA049C5880BA46C37601.nii.gz downloaded\n",
            "3/1000: Zx30D3D7722571163D6FDAC8D42EA822DE9309AA749507E680.nii.gz downloaded\n",
            "4/1000: Zx1060A72A4F5C5FFE63F395F263138C39C901CEA1B608B5D3.nii.gz downloaded\n",
            "5/1000: ZxD8736DEB1A7AFA67733E095769BBD236FFAD5150198E5109.nii.gz downloaded\n",
            "6/1000: Zx95F33E17F7F8218E9FA35FC3D79D8EB9E02019709C3A5EC2.nii.gz downloaded\n",
            "7/1000: Zx34C115FB55D8474D6F19B61FC5388EE4CF710E60F31443C5.nii.gz downloaded\n",
            "8/1000: Zx3D212F640E8BAB683711B0A2B808E94D20EC94C210350D4F.nii.gz downloaded\n",
            "9/1000: Zx4343A182A4B16B07C4E9DC4CC327DCA2B2D54632240F5179.nii.gz downloaded\n",
            "10/1000: ZxBCBA63BCCC1F7498AA92F4AF08511FFED09105BBFC63864E.nii.gz downloaded\n",
            "11/1000: ZxBE2A252CBA88052F4A6B548249B9D70F14E4552A09EFAC38.nii.gz downloaded\n",
            "12/1000: ZxEACFC663D819866E172E1DD2EC69EF67339C975F9A23A451.nii.gz downloaded\n",
            "13/1000: ZxA587DD3F3B7DEFF324487D39123C2C626E291DCF7376E42D.nii.gz downloaded\n",
            "14/1000: Zx2D43BBDA962A8DC656EF3C61E52CC75604BAD0E6AD08F938.nii.gz downloaded\n",
            "15/1000: Zx1882493D839CC3171D0FEA7AE764BB5BC308D707E75CCB60.nii.gz downloaded\n",
            "16/1000: ZxE379608F86D71DD9A2EE5FE1F9BCA94B1526AF3E1F5D036D.nii.gz downloaded\n",
            "17/1000: Zx548829E2295B777477EEF5AD7B52516483F97FE03FFCD0EF.nii.gz downloaded\n",
            "18/1000: Zx1A3FF9BBC87A0A6379CA804FA7025BE5E55D98B90E6E911E.nii.gz downloaded\n",
            "19/1000: ZxD4CF37EF147DDEE980BAB4F5256CC86CA734F199E5512303.nii.gz downloaded\n",
            "20/1000: Zx4A3A3EB7F67074DEA9C5668137108C5BDFFE5AD82B6C9968.nii.gz downloaded\n",
            "21/1000: Zx57410A845E6E8D25823E485244B4E8F17DDFC08B2883A6BA.nii.gz downloaded\n",
            "22/1000: Zx9D76C42817583BCA25AF1F14469B372700E105BFC7452D78.nii.gz downloaded\n",
            "23/1000: Zx808CBF85580C8A52F625D7FC9667F12DA964A7194E5A900F.nii.gz downloaded\n",
            "24/1000: Zx9FAE5E8EE578A076D0A2FB260477EAC119844611FEE70C48.nii.gz downloaded\n",
            "25/1000: Zx55AD3019A3318C2BD693F2094679AD6751F86FF222B86674.nii.gz downloaded\n",
            "26/1000: Zx29249C3340706D8A658BC96F288DE057693CDCA0C50018FF.nii.gz downloaded\n",
            "27/1000: ZxC7F93D23D81997D7158951EDAAC448DE709828F562E63B5C.nii.gz downloaded\n",
            "28/1000: Zx7D5AB573090376F781DC164A66E6BDA1FA3E4F8D8AEDF9EE.nii.gz downloaded\n",
            "29/1000: Zx2030E3E34625286FA6745CAFEF3F4CD81DEDDFA875C5EC23.nii.gz downloaded\n",
            "30/1000: Zx8104110A401AA0F1936937E0C991C0560D0BD7A52FA5AD62.nii.gz downloaded\n",
            "31/1000: Zx0CFB1637BD27964BE741B2AA07BC7C84B2B61731E47782E0.nii.gz downloaded\n",
            "32/1000: Zx4BBBE8ED4ABA846DB16B6B6D6836D742D8EF280D0E45CD33.nii.gz downloaded\n",
            "33/1000: Zx64A95AEC2BE98B00C48F17A4D5ECEF6081B0F041E66A9775.nii.gz downloaded\n",
            "34/1000: ZxD4CE4B3B95995BE6E2E7864BDCEBFCDCF32B2C8F5579C682.nii.gz downloaded\n",
            "35/1000: Zx704DFAE6D896E5739551E9490C9CBDAD0EB751D39CA494D0.nii.gz downloaded\n",
            "36/1000: Zx97E643B8E4A5DEB351E18CB763B8CFB27D5A870812A6C453.nii.gz downloaded\n",
            "37/1000: ZxE7279474581D135218F20333FE314E94583F697B1F36C9A1.nii.gz downloaded\n",
            "38/1000: Zx64D8ABDFA2E7D3053A50B6A3E3EB3761A40EDF894C4D8EE2.nii.gz downloaded\n",
            "39/1000: Zx016CBC4284052F6A74A56DAFFB0B39B95D4DEC066028AA4A.nii.gz downloaded\n",
            "40/1000: Zx6C2E49E5A10FF2383A6D6E9E296B9BA1B5D6ED90DAED83ED.nii.gz downloaded\n",
            "41/1000: Zx162F641C827B6EE83C571BF7AEA8A018024AC788B8C0B158.nii.gz downloaded\n",
            "42/1000: Zx7FB045DDBDDCDDC6CD339BCD1BCB21923607C957CCA0D448.nii.gz downloaded\n",
            "43/1000: Zx8E3B91ED97D86D109CFA0D0A330B3EC8D65D58EA4C3A5BA6.nii.gz downloaded\n",
            "44/1000: ZxCF53832A87A2A46F03F446DEA9CBDC35495D8AEDAD135C28.nii.gz downloaded\n",
            "45/1000: Zx46E8D3737980BCE318ECFF231D8E8E68BADF834D2C904812.nii.gz downloaded\n",
            "46/1000: ZxEDA3B604F954952AD37479E6397076219F913FA374133536.nii.gz downloaded\n",
            "47/1000: Zx85587FA5B4B2A9CC5C006A0FDCB2BCB0C43E3C187AE0E654.nii.gz downloaded\n",
            "48/1000: Zx71882377B86909CE2C7110CA50FB4FEC2E803144C9A9F126.nii.gz downloaded\n",
            "49/1000: ZxCEE7370FFD5B76396A645657D137C9BDF605494DD491495F.nii.gz downloaded\n",
            "50/1000: Zx441D6426B1525578210227CCB9A039239447D429709EFAF7.nii.gz downloaded\n",
            "51/1000: Zx19216E0DC2CA308E80238A39CC927E17148D86C6DF471355.nii.gz downloaded\n",
            "52/1000: ZxE76F21E1207D9B33203B948479CE51CF2660CA56CEF4802F.nii.gz downloaded\n",
            "53/1000: ZxAA767131DAB25B91FFFD47090A45916170B3CCC54BB52D65.nii.gz downloaded\n",
            "54/1000: Zx4285BE9103DDFF6D87B65634773FDAA54C9C783C27505529.nii.gz downloaded\n",
            "55/1000: Zx90019D6EB68057875071272397766A7ADE4635DF6C097558.nii.gz downloaded\n",
            "56/1000: Zx22D56AA7E544151923FF1A90F02F59919EC170C85187649E.nii.gz downloaded\n",
            "57/1000: ZxC91A03F282E7ACD722E61B901D4E1C17D67E09F5A338B54B.nii.gz downloaded\n",
            "58/1000: ZxAAC0790F72C11A212DEA673071C71F172814ED2C4FBE33DE.nii.gz downloaded\n",
            "59/1000: Zx13380F22EFEA0B62205EC17938D2A84A71C8153C1D25B7CF.nii.gz downloaded\n",
            "60/1000: Zx95760F4DDFEEDF4CD00784402D23636239E31D7EABCD7939.nii.gz downloaded\n",
            "61/1000: Zx37F988F53E9C391591766FE9726D7E92F0D6153B245C18BC.nii.gz downloaded\n",
            "62/1000: Zx160CFC2664FE311B6AC70F6906A5E84B13D273AD7B24162B.nii.gz downloaded\n",
            "63/1000: Zx6983E16FD09E59A7A4304A2E1E9870A3335CCAF2C16F4C3B.nii.gz downloaded\n",
            "64/1000: ZxF1D8E31B55562E67EBA90A70362DA561740036733C5C1E5C.nii.gz downloaded\n",
            "65/1000: Zx418C74DF2B303C5B8E30971984584650747FFD8B71B7CF90.nii.gz downloaded\n",
            "66/1000: ZxBD701431A8CE2FCB64098D585DF85DEA5181054BC20287D9.nii.gz downloaded\n",
            "67/1000: Zx8F595A739BFF895B064C35695C85220229B0A1913459AB78.nii.gz downloaded\n",
            "68/1000: Zx96C0C360AEBF01B06DB0555FDC9B7FDD5B3D2E3648428AAD.nii.gz downloaded\n",
            "69/1000: ZxFBBCCC5E909887D98798E50C1BA4E75F67FFFBF33B653064.nii.gz downloaded\n",
            "70/1000: ZxD4C1AF01E7091BC3D79A3DB1D0455BC0C143FAFF7D3B1036.nii.gz downloaded\n",
            "71/1000: ZxF9654BAB07B0415EC280458E14F382A4DABCC4076DF3359D.nii.gz downloaded\n",
            "72/1000: Zx12E8C030B31F39B52D2C9FA262B92370A9C7BAFDA12373AF.nii.gz downloaded\n",
            "73/1000: Zx4B3FCDA4F002E6F7DC5B4E3A1C0B374F878D53CD81E1E43A.nii.gz downloaded\n",
            "74/1000: Zx5E6AD13F5302AA05595B9EB5450DD27CBB58794EA6C7A614.nii.gz downloaded\n",
            "75/1000: ZxD1B631F69DBC3DEBF37414EEB04811A4324DA6C04CF7755C.nii.gz downloaded\n",
            "76/1000: ZxAAC0790F72C11A21866712169EF48A1707029E18B6F772CB.nii.gz downloaded\n",
            "77/1000: ZxA8783853AC1492F1BEECA64B03416D3BBF7BED1DE0985EA3.nii.gz downloaded\n",
            "78/1000: Zx6C265FEDB560B114FB7CA8D19212ACB34F9AACEE409DDAAB.nii.gz downloaded\n",
            "79/1000: ZxD77AFB6361664508339CE17B0DF5B3AAED1BDA42A3502DF1.nii.gz downloaded\n",
            "80/1000: Zx4725243262554FDCE62048D48AED30EB82CCA45F300E2133.nii.gz downloaded\n",
            "81/1000: Zx5C5DF9F03CB8A6BAC406BDF666C115EDC0A4C836B500164F.nii.gz downloaded\n",
            "82/1000: Zx8622D93E1FDBB9901E53A50C9646AAB037D44C6BAE148A96.nii.gz downloaded\n",
            "83/1000: Zx2B401975A0A7FE26B9906E1047BB2A92BC4D80CCC69F0DC8.nii.gz downloaded\n",
            "84/1000: Zx4ED2135FF0A55C3DE2379661289AFC75E374FE6B5DC4C7AC.nii.gz downloaded\n",
            "85/1000: Zx4553C091B4BEFA9D8CC7280E593AFF94F9E98724858A0654.nii.gz downloaded\n"
          ]
        },
        {
          "output_type": "error",
          "ename": "KeyboardInterrupt",
          "evalue": "ignored",
          "traceback": [
            "\u001b[0;31m---------------------------------------------------------------------------\u001b[0m",
            "\u001b[0;31mKeyboardInterrupt\u001b[0m                         Traceback (most recent call last)",
            "\u001b[0;32m<ipython-input-71-431cd8a5efc6>\u001b[0m in \u001b[0;36m<cell line: 1>\u001b[0;34m()\u001b[0m\n\u001b[0;32m----> 1\u001b[0;31m \u001b[0mget_data_disk\u001b[0m\u001b[0;34m(\u001b[0m\u001b[0mdrive_rootdir\u001b[0m\u001b[0;34m,\u001b[0m \u001b[0mdatadir\u001b[0m\u001b[0;34m)\u001b[0m\u001b[0;34m\u001b[0m\u001b[0;34m\u001b[0m\u001b[0m\n\u001b[0m",
            "\u001b[0;32m<ipython-input-41-471174611642>\u001b[0m in \u001b[0;36mget_data_disk\u001b[0;34m(driveroot, targetdir)\u001b[0m\n\u001b[1;32m     28\u001b[0m     \u001b[0mdone\u001b[0m \u001b[0;34m=\u001b[0m \u001b[0;32mFalse\u001b[0m\u001b[0;34m\u001b[0m\u001b[0;34m\u001b[0m\u001b[0m\n\u001b[1;32m     29\u001b[0m     \u001b[0;32mwhile\u001b[0m \u001b[0;32mnot\u001b[0m \u001b[0mdone\u001b[0m\u001b[0;34m:\u001b[0m\u001b[0;34m\u001b[0m\u001b[0;34m\u001b[0m\u001b[0m\n\u001b[0;32m---> 30\u001b[0;31m       \u001b[0mstatus\u001b[0m\u001b[0;34m,\u001b[0m \u001b[0mdone\u001b[0m \u001b[0;34m=\u001b[0m \u001b[0mdownloader\u001b[0m\u001b[0;34m.\u001b[0m\u001b[0mnext_chunk\u001b[0m\u001b[0;34m(\u001b[0m\u001b[0;34m)\u001b[0m\u001b[0;34m\u001b[0m\u001b[0;34m\u001b[0m\u001b[0m\n\u001b[0m\u001b[1;32m     31\u001b[0m       \u001b[0;31m# print(f\"下载 {name} 进度: {int(status.progress() * 100)}%\")\u001b[0m\u001b[0;34m\u001b[0m\u001b[0;34m\u001b[0m\u001b[0m\n\u001b[1;32m     32\u001b[0m \u001b[0;34m\u001b[0m\u001b[0m\n",
            "\u001b[0;32m/usr/local/lib/python3.10/dist-packages/googleapiclient/_helpers.py\u001b[0m in \u001b[0;36mpositional_wrapper\u001b[0;34m(*args, **kwargs)\u001b[0m\n\u001b[1;32m    128\u001b[0m                 \u001b[0;32melif\u001b[0m \u001b[0mpositional_parameters_enforcement\u001b[0m \u001b[0;34m==\u001b[0m \u001b[0mPOSITIONAL_WARNING\u001b[0m\u001b[0;34m:\u001b[0m\u001b[0;34m\u001b[0m\u001b[0;34m\u001b[0m\u001b[0m\n\u001b[1;32m    129\u001b[0m                     \u001b[0mlogger\u001b[0m\u001b[0;34m.\u001b[0m\u001b[0mwarning\u001b[0m\u001b[0;34m(\u001b[0m\u001b[0mmessage\u001b[0m\u001b[0;34m)\u001b[0m\u001b[0;34m\u001b[0m\u001b[0;34m\u001b[0m\u001b[0m\n\u001b[0;32m--> 130\u001b[0;31m             \u001b[0;32mreturn\u001b[0m \u001b[0mwrapped\u001b[0m\u001b[0;34m(\u001b[0m\u001b[0;34m*\u001b[0m\u001b[0margs\u001b[0m\u001b[0;34m,\u001b[0m \u001b[0;34m**\u001b[0m\u001b[0mkwargs\u001b[0m\u001b[0;34m)\u001b[0m\u001b[0;34m\u001b[0m\u001b[0;34m\u001b[0m\u001b[0m\n\u001b[0m\u001b[1;32m    131\u001b[0m \u001b[0;34m\u001b[0m\u001b[0m\n\u001b[1;32m    132\u001b[0m         \u001b[0;32mreturn\u001b[0m \u001b[0mpositional_wrapper\u001b[0m\u001b[0;34m\u001b[0m\u001b[0;34m\u001b[0m\u001b[0m\n",
            "\u001b[0;32m/usr/local/lib/python3.10/dist-packages/googleapiclient/http.py\u001b[0m in \u001b[0;36mnext_chunk\u001b[0;34m(self, num_retries)\u001b[0m\n\u001b[1;32m    739\u001b[0m         \u001b[0mhttp\u001b[0m \u001b[0;34m=\u001b[0m \u001b[0mself\u001b[0m\u001b[0;34m.\u001b[0m\u001b[0m_request\u001b[0m\u001b[0;34m.\u001b[0m\u001b[0mhttp\u001b[0m\u001b[0;34m\u001b[0m\u001b[0;34m\u001b[0m\u001b[0m\n\u001b[1;32m    740\u001b[0m \u001b[0;34m\u001b[0m\u001b[0m\n\u001b[0;32m--> 741\u001b[0;31m         resp, content = _retry_request(\n\u001b[0m\u001b[1;32m    742\u001b[0m             \u001b[0mhttp\u001b[0m\u001b[0;34m,\u001b[0m\u001b[0;34m\u001b[0m\u001b[0;34m\u001b[0m\u001b[0m\n\u001b[1;32m    743\u001b[0m             \u001b[0mnum_retries\u001b[0m\u001b[0;34m,\u001b[0m\u001b[0;34m\u001b[0m\u001b[0;34m\u001b[0m\u001b[0m\n",
            "\u001b[0;32m/usr/local/lib/python3.10/dist-packages/googleapiclient/http.py\u001b[0m in \u001b[0;36m_retry_request\u001b[0;34m(http, num_retries, req_type, sleep, rand, uri, method, *args, **kwargs)\u001b[0m\n\u001b[1;32m    189\u001b[0m         \u001b[0;32mtry\u001b[0m\u001b[0;34m:\u001b[0m\u001b[0;34m\u001b[0m\u001b[0;34m\u001b[0m\u001b[0m\n\u001b[1;32m    190\u001b[0m             \u001b[0mexception\u001b[0m \u001b[0;34m=\u001b[0m \u001b[0;32mNone\u001b[0m\u001b[0;34m\u001b[0m\u001b[0;34m\u001b[0m\u001b[0m\n\u001b[0;32m--> 191\u001b[0;31m             \u001b[0mresp\u001b[0m\u001b[0;34m,\u001b[0m \u001b[0mcontent\u001b[0m \u001b[0;34m=\u001b[0m \u001b[0mhttp\u001b[0m\u001b[0;34m.\u001b[0m\u001b[0mrequest\u001b[0m\u001b[0;34m(\u001b[0m\u001b[0muri\u001b[0m\u001b[0;34m,\u001b[0m \u001b[0mmethod\u001b[0m\u001b[0;34m,\u001b[0m \u001b[0;34m*\u001b[0m\u001b[0margs\u001b[0m\u001b[0;34m,\u001b[0m \u001b[0;34m**\u001b[0m\u001b[0mkwargs\u001b[0m\u001b[0;34m)\u001b[0m\u001b[0;34m\u001b[0m\u001b[0;34m\u001b[0m\u001b[0m\n\u001b[0m\u001b[1;32m    192\u001b[0m         \u001b[0;31m# Retry on SSL errors and socket timeout errors.\u001b[0m\u001b[0;34m\u001b[0m\u001b[0;34m\u001b[0m\u001b[0m\n\u001b[1;32m    193\u001b[0m         \u001b[0;32mexcept\u001b[0m \u001b[0m_ssl_SSLError\u001b[0m \u001b[0;32mas\u001b[0m \u001b[0mssl_error\u001b[0m\u001b[0;34m:\u001b[0m\u001b[0;34m\u001b[0m\u001b[0;34m\u001b[0m\u001b[0m\n",
            "\u001b[0;32m/usr/local/lib/python3.10/dist-packages/google_auth_httplib2.py\u001b[0m in \u001b[0;36mrequest\u001b[0;34m(self, uri, method, body, headers, redirections, connection_type, **kwargs)\u001b[0m\n\u001b[1;32m    216\u001b[0m \u001b[0;34m\u001b[0m\u001b[0m\n\u001b[1;32m    217\u001b[0m         \u001b[0;31m# Make the request.\u001b[0m\u001b[0;34m\u001b[0m\u001b[0;34m\u001b[0m\u001b[0m\n\u001b[0;32m--> 218\u001b[0;31m         response, content = self.http.request(\n\u001b[0m\u001b[1;32m    219\u001b[0m             \u001b[0muri\u001b[0m\u001b[0;34m,\u001b[0m\u001b[0;34m\u001b[0m\u001b[0;34m\u001b[0m\u001b[0m\n\u001b[1;32m    220\u001b[0m             \u001b[0mmethod\u001b[0m\u001b[0;34m,\u001b[0m\u001b[0;34m\u001b[0m\u001b[0;34m\u001b[0m\u001b[0m\n",
            "\u001b[0;32m/usr/local/lib/python3.10/dist-packages/httplib2/__init__.py\u001b[0m in \u001b[0;36mrequest\u001b[0;34m(self, uri, method, body, headers, redirections, connection_type)\u001b[0m\n\u001b[1;32m   1722\u001b[0m                     \u001b[0mcontent\u001b[0m \u001b[0;34m=\u001b[0m \u001b[0;34mb\"\"\u001b[0m\u001b[0;34m\u001b[0m\u001b[0;34m\u001b[0m\u001b[0m\n\u001b[1;32m   1723\u001b[0m                 \u001b[0;32melse\u001b[0m\u001b[0;34m:\u001b[0m\u001b[0;34m\u001b[0m\u001b[0;34m\u001b[0m\u001b[0m\n\u001b[0;32m-> 1724\u001b[0;31m                     (response, content) = self._request(\n\u001b[0m\u001b[1;32m   1725\u001b[0m                         \u001b[0mconn\u001b[0m\u001b[0;34m,\u001b[0m \u001b[0mauthority\u001b[0m\u001b[0;34m,\u001b[0m \u001b[0muri\u001b[0m\u001b[0;34m,\u001b[0m \u001b[0mrequest_uri\u001b[0m\u001b[0;34m,\u001b[0m \u001b[0mmethod\u001b[0m\u001b[0;34m,\u001b[0m \u001b[0mbody\u001b[0m\u001b[0;34m,\u001b[0m \u001b[0mheaders\u001b[0m\u001b[0;34m,\u001b[0m \u001b[0mredirections\u001b[0m\u001b[0;34m,\u001b[0m \u001b[0mcachekey\u001b[0m\u001b[0;34m,\u001b[0m\u001b[0;34m\u001b[0m\u001b[0;34m\u001b[0m\u001b[0m\n\u001b[1;32m   1726\u001b[0m                     )\n",
            "\u001b[0;32m/usr/local/lib/python3.10/dist-packages/httplib2/__init__.py\u001b[0m in \u001b[0;36m_request\u001b[0;34m(self, conn, host, absolute_uri, request_uri, method, body, headers, redirections, cachekey)\u001b[0m\n\u001b[1;32m   1442\u001b[0m             \u001b[0mauth\u001b[0m\u001b[0;34m.\u001b[0m\u001b[0mrequest\u001b[0m\u001b[0;34m(\u001b[0m\u001b[0mmethod\u001b[0m\u001b[0;34m,\u001b[0m \u001b[0mrequest_uri\u001b[0m\u001b[0;34m,\u001b[0m \u001b[0mheaders\u001b[0m\u001b[0;34m,\u001b[0m \u001b[0mbody\u001b[0m\u001b[0;34m)\u001b[0m\u001b[0;34m\u001b[0m\u001b[0;34m\u001b[0m\u001b[0m\n\u001b[1;32m   1443\u001b[0m \u001b[0;34m\u001b[0m\u001b[0m\n\u001b[0;32m-> 1444\u001b[0;31m         \u001b[0;34m(\u001b[0m\u001b[0mresponse\u001b[0m\u001b[0;34m,\u001b[0m \u001b[0mcontent\u001b[0m\u001b[0;34m)\u001b[0m \u001b[0;34m=\u001b[0m \u001b[0mself\u001b[0m\u001b[0;34m.\u001b[0m\u001b[0m_conn_request\u001b[0m\u001b[0;34m(\u001b[0m\u001b[0mconn\u001b[0m\u001b[0;34m,\u001b[0m \u001b[0mrequest_uri\u001b[0m\u001b[0;34m,\u001b[0m \u001b[0mmethod\u001b[0m\u001b[0;34m,\u001b[0m \u001b[0mbody\u001b[0m\u001b[0;34m,\u001b[0m \u001b[0mheaders\u001b[0m\u001b[0;34m)\u001b[0m\u001b[0;34m\u001b[0m\u001b[0;34m\u001b[0m\u001b[0m\n\u001b[0m\u001b[1;32m   1445\u001b[0m \u001b[0;34m\u001b[0m\u001b[0m\n\u001b[1;32m   1446\u001b[0m         \u001b[0;32mif\u001b[0m \u001b[0mauth\u001b[0m\u001b[0;34m:\u001b[0m\u001b[0;34m\u001b[0m\u001b[0;34m\u001b[0m\u001b[0m\n",
            "\u001b[0;32m/usr/local/lib/python3.10/dist-packages/httplib2/__init__.py\u001b[0m in \u001b[0;36m_conn_request\u001b[0;34m(self, conn, request_uri, method, body, headers)\u001b[0m\n\u001b[1;32m   1394\u001b[0m                 \u001b[0;32mpass\u001b[0m\u001b[0;34m\u001b[0m\u001b[0;34m\u001b[0m\u001b[0m\n\u001b[1;32m   1395\u001b[0m             \u001b[0;32mtry\u001b[0m\u001b[0;34m:\u001b[0m\u001b[0;34m\u001b[0m\u001b[0;34m\u001b[0m\u001b[0m\n\u001b[0;32m-> 1396\u001b[0;31m                 \u001b[0mresponse\u001b[0m \u001b[0;34m=\u001b[0m \u001b[0mconn\u001b[0m\u001b[0;34m.\u001b[0m\u001b[0mgetresponse\u001b[0m\u001b[0;34m(\u001b[0m\u001b[0;34m)\u001b[0m\u001b[0;34m\u001b[0m\u001b[0;34m\u001b[0m\u001b[0m\n\u001b[0m\u001b[1;32m   1397\u001b[0m             \u001b[0;32mexcept\u001b[0m \u001b[0;34m(\u001b[0m\u001b[0mhttp\u001b[0m\u001b[0;34m.\u001b[0m\u001b[0mclient\u001b[0m\u001b[0;34m.\u001b[0m\u001b[0mBadStatusLine\u001b[0m\u001b[0;34m,\u001b[0m \u001b[0mhttp\u001b[0m\u001b[0;34m.\u001b[0m\u001b[0mclient\u001b[0m\u001b[0;34m.\u001b[0m\u001b[0mResponseNotReady\u001b[0m\u001b[0;34m)\u001b[0m\u001b[0;34m:\u001b[0m\u001b[0;34m\u001b[0m\u001b[0;34m\u001b[0m\u001b[0m\n\u001b[1;32m   1398\u001b[0m                 \u001b[0;31m# If we get a BadStatusLine on the first try then that means\u001b[0m\u001b[0;34m\u001b[0m\u001b[0;34m\u001b[0m\u001b[0m\n",
            "\u001b[0;32m/usr/lib/python3.10/http/client.py\u001b[0m in \u001b[0;36mgetresponse\u001b[0;34m(self)\u001b[0m\n\u001b[1;32m   1373\u001b[0m         \u001b[0;32mtry\u001b[0m\u001b[0;34m:\u001b[0m\u001b[0;34m\u001b[0m\u001b[0;34m\u001b[0m\u001b[0m\n\u001b[1;32m   1374\u001b[0m             \u001b[0;32mtry\u001b[0m\u001b[0;34m:\u001b[0m\u001b[0;34m\u001b[0m\u001b[0;34m\u001b[0m\u001b[0m\n\u001b[0;32m-> 1375\u001b[0;31m                 \u001b[0mresponse\u001b[0m\u001b[0;34m.\u001b[0m\u001b[0mbegin\u001b[0m\u001b[0;34m(\u001b[0m\u001b[0;34m)\u001b[0m\u001b[0;34m\u001b[0m\u001b[0;34m\u001b[0m\u001b[0m\n\u001b[0m\u001b[1;32m   1376\u001b[0m             \u001b[0;32mexcept\u001b[0m \u001b[0mConnectionError\u001b[0m\u001b[0;34m:\u001b[0m\u001b[0;34m\u001b[0m\u001b[0;34m\u001b[0m\u001b[0m\n\u001b[1;32m   1377\u001b[0m                 \u001b[0mself\u001b[0m\u001b[0;34m.\u001b[0m\u001b[0mclose\u001b[0m\u001b[0;34m(\u001b[0m\u001b[0;34m)\u001b[0m\u001b[0;34m\u001b[0m\u001b[0;34m\u001b[0m\u001b[0m\n",
            "\u001b[0;32m/usr/lib/python3.10/http/client.py\u001b[0m in \u001b[0;36mbegin\u001b[0;34m(self)\u001b[0m\n\u001b[1;32m    316\u001b[0m         \u001b[0;31m# read until we get a non-100 response\u001b[0m\u001b[0;34m\u001b[0m\u001b[0;34m\u001b[0m\u001b[0m\n\u001b[1;32m    317\u001b[0m         \u001b[0;32mwhile\u001b[0m \u001b[0;32mTrue\u001b[0m\u001b[0;34m:\u001b[0m\u001b[0;34m\u001b[0m\u001b[0;34m\u001b[0m\u001b[0m\n\u001b[0;32m--> 318\u001b[0;31m             \u001b[0mversion\u001b[0m\u001b[0;34m,\u001b[0m \u001b[0mstatus\u001b[0m\u001b[0;34m,\u001b[0m \u001b[0mreason\u001b[0m \u001b[0;34m=\u001b[0m \u001b[0mself\u001b[0m\u001b[0;34m.\u001b[0m\u001b[0m_read_status\u001b[0m\u001b[0;34m(\u001b[0m\u001b[0;34m)\u001b[0m\u001b[0;34m\u001b[0m\u001b[0;34m\u001b[0m\u001b[0m\n\u001b[0m\u001b[1;32m    319\u001b[0m             \u001b[0;32mif\u001b[0m \u001b[0mstatus\u001b[0m \u001b[0;34m!=\u001b[0m \u001b[0mCONTINUE\u001b[0m\u001b[0;34m:\u001b[0m\u001b[0;34m\u001b[0m\u001b[0;34m\u001b[0m\u001b[0m\n\u001b[1;32m    320\u001b[0m                 \u001b[0;32mbreak\u001b[0m\u001b[0;34m\u001b[0m\u001b[0;34m\u001b[0m\u001b[0m\n",
            "\u001b[0;32m/usr/lib/python3.10/http/client.py\u001b[0m in \u001b[0;36m_read_status\u001b[0;34m(self)\u001b[0m\n\u001b[1;32m    277\u001b[0m \u001b[0;34m\u001b[0m\u001b[0m\n\u001b[1;32m    278\u001b[0m     \u001b[0;32mdef\u001b[0m \u001b[0m_read_status\u001b[0m\u001b[0;34m(\u001b[0m\u001b[0mself\u001b[0m\u001b[0;34m)\u001b[0m\u001b[0;34m:\u001b[0m\u001b[0;34m\u001b[0m\u001b[0;34m\u001b[0m\u001b[0m\n\u001b[0;32m--> 279\u001b[0;31m         \u001b[0mline\u001b[0m \u001b[0;34m=\u001b[0m \u001b[0mstr\u001b[0m\u001b[0;34m(\u001b[0m\u001b[0mself\u001b[0m\u001b[0;34m.\u001b[0m\u001b[0mfp\u001b[0m\u001b[0;34m.\u001b[0m\u001b[0mreadline\u001b[0m\u001b[0;34m(\u001b[0m\u001b[0m_MAXLINE\u001b[0m \u001b[0;34m+\u001b[0m \u001b[0;36m1\u001b[0m\u001b[0;34m)\u001b[0m\u001b[0;34m,\u001b[0m \u001b[0;34m\"iso-8859-1\"\u001b[0m\u001b[0;34m)\u001b[0m\u001b[0;34m\u001b[0m\u001b[0;34m\u001b[0m\u001b[0m\n\u001b[0m\u001b[1;32m    280\u001b[0m         \u001b[0;32mif\u001b[0m \u001b[0mlen\u001b[0m\u001b[0;34m(\u001b[0m\u001b[0mline\u001b[0m\u001b[0;34m)\u001b[0m \u001b[0;34m>\u001b[0m \u001b[0m_MAXLINE\u001b[0m\u001b[0;34m:\u001b[0m\u001b[0;34m\u001b[0m\u001b[0;34m\u001b[0m\u001b[0m\n\u001b[1;32m    281\u001b[0m             \u001b[0;32mraise\u001b[0m \u001b[0mLineTooLong\u001b[0m\u001b[0;34m(\u001b[0m\u001b[0;34m\"status line\"\u001b[0m\u001b[0;34m)\u001b[0m\u001b[0;34m\u001b[0m\u001b[0;34m\u001b[0m\u001b[0m\n",
            "\u001b[0;32m/usr/lib/python3.10/socket.py\u001b[0m in \u001b[0;36mreadinto\u001b[0;34m(self, b)\u001b[0m\n\u001b[1;32m    703\u001b[0m         \u001b[0;32mwhile\u001b[0m \u001b[0;32mTrue\u001b[0m\u001b[0;34m:\u001b[0m\u001b[0;34m\u001b[0m\u001b[0;34m\u001b[0m\u001b[0m\n\u001b[1;32m    704\u001b[0m             \u001b[0;32mtry\u001b[0m\u001b[0;34m:\u001b[0m\u001b[0;34m\u001b[0m\u001b[0;34m\u001b[0m\u001b[0m\n\u001b[0;32m--> 705\u001b[0;31m                 \u001b[0;32mreturn\u001b[0m \u001b[0mself\u001b[0m\u001b[0;34m.\u001b[0m\u001b[0m_sock\u001b[0m\u001b[0;34m.\u001b[0m\u001b[0mrecv_into\u001b[0m\u001b[0;34m(\u001b[0m\u001b[0mb\u001b[0m\u001b[0;34m)\u001b[0m\u001b[0;34m\u001b[0m\u001b[0;34m\u001b[0m\u001b[0m\n\u001b[0m\u001b[1;32m    706\u001b[0m             \u001b[0;32mexcept\u001b[0m \u001b[0mtimeout\u001b[0m\u001b[0;34m:\u001b[0m\u001b[0;34m\u001b[0m\u001b[0;34m\u001b[0m\u001b[0m\n\u001b[1;32m    707\u001b[0m                 \u001b[0mself\u001b[0m\u001b[0;34m.\u001b[0m\u001b[0m_timeout_occurred\u001b[0m \u001b[0;34m=\u001b[0m \u001b[0;32mTrue\u001b[0m\u001b[0;34m\u001b[0m\u001b[0;34m\u001b[0m\u001b[0m\n",
            "\u001b[0;32m/usr/lib/python3.10/ssl.py\u001b[0m in \u001b[0;36mrecv_into\u001b[0;34m(self, buffer, nbytes, flags)\u001b[0m\n\u001b[1;32m   1301\u001b[0m                   \u001b[0;34m\"non-zero flags not allowed in calls to recv_into() on %s\"\u001b[0m \u001b[0;34m%\u001b[0m\u001b[0;34m\u001b[0m\u001b[0;34m\u001b[0m\u001b[0m\n\u001b[1;32m   1302\u001b[0m                   self.__class__)\n\u001b[0;32m-> 1303\u001b[0;31m             \u001b[0;32mreturn\u001b[0m \u001b[0mself\u001b[0m\u001b[0;34m.\u001b[0m\u001b[0mread\u001b[0m\u001b[0;34m(\u001b[0m\u001b[0mnbytes\u001b[0m\u001b[0;34m,\u001b[0m \u001b[0mbuffer\u001b[0m\u001b[0;34m)\u001b[0m\u001b[0;34m\u001b[0m\u001b[0;34m\u001b[0m\u001b[0m\n\u001b[0m\u001b[1;32m   1304\u001b[0m         \u001b[0;32melse\u001b[0m\u001b[0;34m:\u001b[0m\u001b[0;34m\u001b[0m\u001b[0;34m\u001b[0m\u001b[0m\n\u001b[1;32m   1305\u001b[0m             \u001b[0;32mreturn\u001b[0m \u001b[0msuper\u001b[0m\u001b[0;34m(\u001b[0m\u001b[0;34m)\u001b[0m\u001b[0;34m.\u001b[0m\u001b[0mrecv_into\u001b[0m\u001b[0;34m(\u001b[0m\u001b[0mbuffer\u001b[0m\u001b[0;34m,\u001b[0m \u001b[0mnbytes\u001b[0m\u001b[0;34m,\u001b[0m \u001b[0mflags\u001b[0m\u001b[0;34m)\u001b[0m\u001b[0;34m\u001b[0m\u001b[0;34m\u001b[0m\u001b[0m\n",
            "\u001b[0;32m/usr/lib/python3.10/ssl.py\u001b[0m in \u001b[0;36mread\u001b[0;34m(self, len, buffer)\u001b[0m\n\u001b[1;32m   1157\u001b[0m         \u001b[0;32mtry\u001b[0m\u001b[0;34m:\u001b[0m\u001b[0;34m\u001b[0m\u001b[0;34m\u001b[0m\u001b[0m\n\u001b[1;32m   1158\u001b[0m             \u001b[0;32mif\u001b[0m \u001b[0mbuffer\u001b[0m \u001b[0;32mis\u001b[0m \u001b[0;32mnot\u001b[0m \u001b[0;32mNone\u001b[0m\u001b[0;34m:\u001b[0m\u001b[0;34m\u001b[0m\u001b[0;34m\u001b[0m\u001b[0m\n\u001b[0;32m-> 1159\u001b[0;31m                 \u001b[0;32mreturn\u001b[0m \u001b[0mself\u001b[0m\u001b[0;34m.\u001b[0m\u001b[0m_sslobj\u001b[0m\u001b[0;34m.\u001b[0m\u001b[0mread\u001b[0m\u001b[0;34m(\u001b[0m\u001b[0mlen\u001b[0m\u001b[0;34m,\u001b[0m \u001b[0mbuffer\u001b[0m\u001b[0;34m)\u001b[0m\u001b[0;34m\u001b[0m\u001b[0;34m\u001b[0m\u001b[0m\n\u001b[0m\u001b[1;32m   1160\u001b[0m             \u001b[0;32melse\u001b[0m\u001b[0;34m:\u001b[0m\u001b[0;34m\u001b[0m\u001b[0;34m\u001b[0m\u001b[0m\n\u001b[1;32m   1161\u001b[0m                 \u001b[0;32mreturn\u001b[0m \u001b[0mself\u001b[0m\u001b[0;34m.\u001b[0m\u001b[0m_sslobj\u001b[0m\u001b[0;34m.\u001b[0m\u001b[0mread\u001b[0m\u001b[0;34m(\u001b[0m\u001b[0mlen\u001b[0m\u001b[0;34m)\u001b[0m\u001b[0;34m\u001b[0m\u001b[0;34m\u001b[0m\u001b[0m\n",
            "\u001b[0;31mKeyboardInterrupt\u001b[0m: "
          ]
        }
      ]
    },
    {
      "cell_type": "code",
      "source": [
        "!curl ipecho.net/plain"
      ],
      "metadata": {
        "colab": {
          "base_uri": "https://localhost:8080/"
        },
        "id": "M0o3a7eXiV7b",
        "outputId": "7d4a55c5-a9c9-4141-847e-ba4d7d8ae5ed"
      },
      "execution_count": null,
      "outputs": [
        {
          "output_type": "stream",
          "name": "stdout",
          "text": [
            "34.80.136.131"
          ]
        }
      ]
    },
    {
      "cell_type": "markdown",
      "source": [
        "Use http request pulic links of google drive files  to download (error 403. be blocked from google)"
      ],
      "metadata": {
        "id": "0e-g7Blb91a0"
      }
    },
    {
      "cell_type": "code",
      "source": [
        "# from kora.xattr import get_id\n",
        "# import requests\n",
        "# from fake_useragent import UserAgent\n",
        "# import time\n",
        "\n",
        "# # user_agents = [\n",
        "# #     \"Mozilla/5.0 (Windows NT 10.0; Win64; x64) AppleWebKit/537.36 (KHTML, like Gecko) Chrome/90.0.4430.212 Safari/537.36\",  # Chrome on Windows 10\n",
        "# #     \"Mozilla/5.0 (Macintosh; Intel Mac OS X 10_15_7) AppleWebKit/605.1.15 (KHTML, like Gecko) Version/14.0.3 Safari/605.1.15\",  # Safari on macOS\n",
        "# #     \"Mozilla/5.0 (Windows NT 10.0; Win64; x64; rv:88.0) Gecko/20100101 Firefox/88.0\",  # Firefox on Windows 10\n",
        "# #     \"Mozilla/5.0 (iPhone; CPU iPhone OS 14_4 like Mac OS X) AppleWebKit/605.1.15 (KHTML, like Gecko) Version/14.0 Mobile/15E148 Safari/604.1\",  # Safari on iPhone\n",
        "# #     \"Mozilla/5.0 (Linux; Android 10; SM-G973F) AppleWebKit/537.36 (KHTML, like Gecko) Chrome/90.0.4430.210 Mobile Safari/537.36\",  # Chrome on Android\n",
        "# #     \"Mozilla/5.0 (X11; Ubuntu; Linux x86_64; rv:88.0) Gecko/20100101 Firefox/88.0\"  # Firefox on Ubuntu Linux\n",
        "# # ]\n",
        "# # headers = {\n",
        "# #     'User-Agent': random.choice(user_agents)\n",
        "# # }\n",
        "# ua = UserAgent()\n",
        "\n",
        "# files_on_drive = os.listdir(drive_rootdir+'/'+datadir)\n",
        "# files_in_localdir = os.listdir(f\"/content/{datadir}\")\n",
        "# files_to_download = [f for f in files_on_drive if f not in files_in_localdir]\n",
        "# files = [(filename, get_id(f'{drive_rootdir}/{datadir}/{filename}')) for filename in files_to_download]\n",
        "# # print(headers)\n",
        "\n",
        "# t = random.randint(20,30)\n",
        "\n",
        "# with requests.Session() as session:\n",
        "#   for idx, (name, id) in enumerate(files):\n",
        "#     headers = {'User-Agent': ua.random}\n",
        "#     # print(headers)\n",
        "#     url = f\"https://drive.google.com/uc?id={id}&confirm=t\"\n",
        "#     # url = f\"https://drive.google.com/file/d/{id}/view?usp=drive_link\"\n",
        "#     # url = f\"https://drive.google.com//uc?id={id}&confirm=t&usp=sharing\"\n",
        "#     response = session.get(url, headers=headers, allow_redirects=True)\n",
        "#     if response.status_code == 200:\n",
        "#         with open(f\"/content/{datadir}/{name}\", 'wb') as file:\n",
        "#             file.write(response.content)\n",
        "#         print(f\"{idx+1}/{len(files)}: {name}\")\n",
        "#     elif response.status_code == 403:\n",
        "#         print(f\"Error: Unable to download file. Status code: {response.status_code}\")\n",
        "#         # headers = {\n",
        "#         #   'User-Agent': random.choice(user_agents)\n",
        "#         # }\n",
        "#         # print(headers)\n",
        "#         s = random.randint(300,600)\n",
        "#         print(f\"sleeping {s} secondes...\")\n",
        "#         time.sleep(s)\n",
        "#     else:\n",
        "#         print(f\"Error: Unable to download file. Status code: {response.status_code}\")\n",
        "\n",
        "#     # if (idx+1) % t  == 0:\n",
        "#     #   s = random.randint(60,300)\n",
        "#     #   print(f\"sleeping {s} secondes...\")\n",
        "#     #   time.sleep(s)\n",
        "#     #   t = random.randint(20,30)\n",
        "\n",
        "# # files_on_drive = os.listdir(drive_rootdir+'/'+datadir)\n",
        "# # files_in_localdir = os.listdir(f\"/content/{datadir}\")\n",
        "# # files_to_download = [f for f in files_on_drive if f not in files_in_localdir]\n",
        "# # files = [(filename, get_id(f'{drive_rootdir}/{datadir}/{filename}')) for filename in files_to_download]\n",
        "# # for idx, (name, id) in enumerate(files):\n",
        "# #   gdown.download(f\"https://drive.google.com/uc?id={id}&confirm=t\", output=f\"/content/{datadir}/{name}\", quiet=True, use_cookies=False)\n",
        "# #   print(f\"{idx+1}/{len(files)}: {name}\")"
      ],
      "metadata": {
        "id": "RUZd5b8QlKRZ"
      },
      "execution_count": null,
      "outputs": []
    },
    {
      "cell_type": "code",
      "source": [
        "len(os.listdir(datadir))"
      ],
      "metadata": {
        "id": "xXH5tN8Jq4Vn",
        "colab": {
          "base_uri": "https://localhost:8080/"
        },
        "outputId": "b06254df-d1df-41ec-c007-f79336b21ae5"
      },
      "execution_count": 42,
      "outputs": [
        {
          "output_type": "execute_result",
          "data": {
            "text/plain": [
              "323"
            ]
          },
          "metadata": {},
          "execution_count": 42
        }
      ]
    },
    {
      "cell_type": "markdown",
      "source": [
        "Directly reading files from mounted google drive  \n",
        "**unknown error**: stuck after reading 9 nii files"
      ],
      "metadata": {
        "id": "b8N6QgZI-vWk"
      }
    },
    {
      "cell_type": "code",
      "source": [
        "# # 測試直接從mount下載\n",
        "# labelpath = '/content/drive/MyDrive/AOCR2024/TrainValid_ground_truth.csv'\n",
        "# datadir =\"/content/drive/MyDrive/AOCR2024/Train_Valid_Image\"\n",
        "\n",
        "# process_data2(termi=5,shift=0,dropFalse=0,dropPos=0)"
      ],
      "metadata": {
        "id": "vWZgPEJQ0C9o"
      },
      "execution_count": null,
      "outputs": []
    },
    {
      "cell_type": "code",
      "source": [
        "# # 測試下載\n",
        "# labelpath = '/content/drive/MyDrive/AOCR2024/TrainValid_ground_truth.csv'\n",
        "\n",
        "# dflabel = read_label(labelpath)\n",
        "# images, labels, _ =  process_data2(termi=3,shift=2,dropFalse=0,dropPos=0)"
      ],
      "metadata": {
        "colab": {
          "base_uri": "https://localhost:8080/"
        },
        "id": "dzXqivsbxDmZ",
        "outputId": "b9d47b5c-0e87-49dc-aa36-4738833d65d3"
      },
      "execution_count": null,
      "outputs": [
        {
          "output_type": "stream",
          "name": "stdout",
          "text": [
            "xlim=[60, 316]\n",
            "ylim=[150, 406]\n",
            "zlim=[11, 71]\n",
            "Process 0: Zx0AA2C956EEA5EAEA0DC0DA2606A8F8D0F334B97FDD860E1F finished...\n",
            "Process 1: Zx08DA48B45B5C7D0182C369B8E0B013CAF9EEA43199E8AFEF finished...\n",
            "Process 2: Zx0800DE5C96380322E442453B99E25D6F1282F2C4A610A497 finished...\n",
            "read 3 scans\n"
          ]
        }
      ]
    },
    {
      "cell_type": "code",
      "source": [
        "# s1 = labels[0:60]\n",
        "# s2 = labels[60:120]\n",
        "# s3 = labels[120:180]\n",
        "# s2"
      ],
      "metadata": {
        "id": "m-pRFYuy0xca"
      },
      "execution_count": null,
      "outputs": []
    },
    {
      "cell_type": "markdown",
      "source": [
        "# Dataset/Model"
      ],
      "metadata": {
        "id": "mei5EcNldUJr"
      }
    },
    {
      "cell_type": "code",
      "source": [
        "class CustomDataset(Dataset):\n",
        "    def __init__(self, images, labels, mode='train'):\n",
        "        self.images = images\n",
        "        self.labels = labels\n",
        "        self.mode = mode\n",
        "\n",
        "    def __len__(self):\n",
        "        return len(self.images)\n",
        "\n",
        "    def __getitem__(self, idx):\n",
        "      if self.mode == 'train' or self.mode=='valid':\n",
        "        return self.images[idx], self.labels[idx]\n",
        "      elif self.mode == 'test':\n",
        "        return self.images[idx]"
      ],
      "metadata": {
        "id": "65xrLIRzdMpE"
      },
      "execution_count": 49,
      "outputs": []
    },
    {
      "cell_type": "code",
      "source": [
        "model_name = \"tf_efficientnetv2_m\"\n",
        "pretrained_model = timm.create_model(model_name, pretrained=True)\n",
        "\n",
        "# 修改輸入通道\n",
        "pretrained_model.conv_stem = nn.Conv2d(1, 24, kernel_size=3, stride=2, padding=1, bias=False)\n",
        "\n",
        "# 修改輸出類別\n",
        "num_classes = 1\n",
        "pretrained_model.classifier = nn.Linear(pretrained_model.classifier.in_features, num_classes)\n",
        "\n",
        "# 添加 Sigmoid 激活函數\n",
        "pretrained_model = nn.Sequential(\n",
        "    pretrained_model,\n",
        "    nn.Sigmoid()\n",
        ")\n",
        "\n",
        "# 檢查模型結構\n",
        "# print(pretrained_model)\n"
      ],
      "metadata": {
        "id": "jZ0cSVS51BHz",
        "colab": {
          "base_uri": "https://localhost:8080/",
          "height": 49,
          "referenced_widgets": [
            "8def4113e96a4004a53a9a6b75c024ff",
            "fccecca1560544cd97a460216ce419ef",
            "b218b59aeeb9458bbdc54df888404cdb",
            "6a1a22c3b8474bfe8abbca8790956238",
            "6c2e34f7cf0849fea83215b25d853f9e",
            "0bf012248b0b496d9c7fa3ac52dffec2",
            "92bdc3b383334c27b398dc8616bfbc49",
            "9cd448b973814d5496d54d1f08b22855",
            "7e2294240a9c4c67a974a8444c488ca4",
            "c78d492c1dbf45f08cd9addd7ff34fce",
            "657145f7ea874dcaa1b2dc4f3c3a8d10"
          ]
        },
        "outputId": "ad08bffb-dafc-4eb9-90dc-d67059a653ec"
      },
      "execution_count": 50,
      "outputs": [
        {
          "output_type": "display_data",
          "data": {
            "text/plain": [
              "model.safetensors:   0%|          | 0.00/218M [00:00<?, ?B/s]"
            ],
            "application/vnd.jupyter.widget-view+json": {
              "version_major": 2,
              "version_minor": 0,
              "model_id": "8def4113e96a4004a53a9a6b75c024ff"
            }
          },
          "metadata": {}
        }
      ]
    },
    {
      "cell_type": "markdown",
      "metadata": {
        "id": "s0ME8m8YBRFR"
      },
      "source": [
        "# 資料處理"
      ]
    },
    {
      "cell_type": "code",
      "source": [
        "dflabel = read_label(labelpath)\n",
        "total_nii = len(os.listdir(datadir))\n",
        "images, labels =  process_data2(traindir=datadir, termi=total_nii,shift=0,dropFalse=0,dropPos=0)"
      ],
      "metadata": {
        "id": "WFJpwdc4cSci",
        "colab": {
          "base_uri": "https://localhost:8080/"
        },
        "outputId": "caef3050-813d-4b4e-aa1e-1fd3a6be951c"
      },
      "execution_count": null,
      "outputs": [
        {
          "output_type": "stream",
          "name": "stdout",
          "text": [
            "reading traindir='Train_Valid_Image'...\n",
            "讀取未切片的資料夾\n"
          ]
        }
      ]
    },
    {
      "cell_type": "code",
      "source": [
        "images_train, labels_train = remove_false_images(images, labels, 0.8)"
      ],
      "metadata": {
        "id": "MfNH0-bbSi6r"
      },
      "execution_count": null,
      "outputs": []
    },
    {
      "cell_type": "code",
      "source": [
        "# images_train, labels_train = remove_positive_images(images_train, labels_train, 0.5)\n"
      ],
      "metadata": {
        "id": "yb6v64WbS2HI"
      },
      "execution_count": null,
      "outputs": []
    },
    {
      "cell_type": "code",
      "source": [
        "images_train, labels_train = images, labels"
      ],
      "metadata": {
        "id": "NDW0AWpymMjL"
      },
      "execution_count": 47,
      "outputs": []
    },
    {
      "cell_type": "code",
      "source": [
        "print(images_train.shape)\n",
        "print(len(labels_train))\n",
        "print(images.shape)"
      ],
      "metadata": {
        "colab": {
          "base_uri": "https://localhost:8080/"
        },
        "id": "1U8IlMjbME2H",
        "outputId": "22a074d4-4bcc-44a7-9115-2a02d2934036"
      },
      "execution_count": 48,
      "outputs": [
        {
          "output_type": "stream",
          "name": "stdout",
          "text": [
            "torch.Size([19379, 1, 256, 256])\n",
            "19379\n",
            "torch.Size([19379, 1, 256, 256])\n"
          ]
        }
      ]
    },
    {
      "cell_type": "code",
      "source": [
        "# len(labels_train)"
      ],
      "metadata": {
        "colab": {
          "base_uri": "https://localhost:8080/"
        },
        "id": "WC2Zjl9fI0pm",
        "outputId": "9b73454e-b0b0-4563-ed19-eaec959ad1bc"
      },
      "execution_count": null,
      "outputs": [
        {
          "output_type": "execute_result",
          "data": {
            "text/plain": [
              "2"
            ]
          },
          "metadata": {},
          "execution_count": 66
        }
      ]
    },
    {
      "cell_type": "code",
      "source": [
        "# labels_train"
      ],
      "metadata": {
        "id": "x9QVRrY2L1VN"
      },
      "execution_count": null,
      "outputs": []
    },
    {
      "cell_type": "code",
      "source": [
        "#  %reset_selective images_train, labels_train"
      ],
      "metadata": {
        "id": "jeAD7ynnVOWw",
        "colab": {
          "base_uri": "https://localhost:8080/"
        },
        "outputId": "55b51175-57c4-47f8-c189-7b9cbe5ecbdc"
      },
      "execution_count": 46,
      "outputs": [
        {
          "name": "stdout",
          "output_type": "stream",
          "text": [
            "Once deleted, variables cannot be recovered. Proceed (y/[n])?  y\n"
          ]
        }
      ]
    },
    {
      "cell_type": "code",
      "source": [
        "# %reset_selective dataset"
      ],
      "metadata": {
        "colab": {
          "base_uri": "https://localhost:8080/"
        },
        "id": "TExWLDrnQcC4",
        "outputId": "38d4c184-5de8-4f3d-86b1-9db908925fef"
      },
      "execution_count": null,
      "outputs": [
        {
          "name": "stdout",
          "output_type": "stream",
          "text": [
            "Once deleted, variables cannot be recovered. Proceed (y/[n])?  y\n"
          ]
        }
      ]
    },
    {
      "cell_type": "code",
      "source": [
        "# %reset_selective dataloader"
      ],
      "metadata": {
        "colab": {
          "base_uri": "https://localhost:8080/"
        },
        "id": "HxHsNkSZQetn",
        "outputId": "0b5d6808-395c-4f08-d3fb-ce448a0f2196"
      },
      "execution_count": null,
      "outputs": [
        {
          "name": "stdout",
          "output_type": "stream",
          "text": [
            "Once deleted, variables cannot be recovered. Proceed (y/[n])?  y\n"
          ]
        }
      ]
    },
    {
      "cell_type": "code",
      "source": [
        "# %reset"
      ],
      "metadata": {
        "id": "ZWaEl6uf0eLv"
      },
      "execution_count": null,
      "outputs": []
    },
    {
      "cell_type": "markdown",
      "metadata": {
        "id": "0IX5HYZuSKG-"
      },
      "source": [
        "# 訓練 (EfficiencyNetV2_m)"
      ]
    },
    {
      "cell_type": "code",
      "execution_count": null,
      "metadata": {
        "id": "SdKCQjs_Ozum",
        "colab": {
          "base_uri": "https://localhost:8080/"
        },
        "outputId": "6b52f374-4b73-4f82-a07b-4902bd4c4fe4"
      },
      "outputs": [
        {
          "output_type": "stream",
          "name": "stdout",
          "text": [
            "model will be saved under /content/drive/.shortcut-targets-by-id/1sDWsPGsIDappaJPbkJswWmLhx1q6LRdv/AOCR2024/params\n",
            "Epoch 1, Loss: 0.4956642142449194\n",
            "Epoch 2, Loss: 0.4450288629140208\n",
            "Epoch 3, Loss: 0.41737352036230374\n",
            "Epoch 4, Loss: 0.40522825033298754\n",
            "Epoch 5, Loss: 0.3951245412934243\n",
            "Epoch 6, Loss: 0.38303721076531577\n",
            "Epoch 7, Loss: 0.3808166202486663\n",
            "Epoch 8, Loss: 0.36681728852144013\n",
            "Epoch 9, Loss: 0.3526452012222406\n",
            "Epoch 10, Loss: 0.34596289302274064\n",
            "model will be saved under /content/drive/.shortcut-targets-by-id/1sDWsPGsIDappaJPbkJswWmLhx1q6LRdv/AOCR2024/params\n",
            "Epoch 11, Loss: 0.33616074608367325\n",
            "Epoch 12, Loss: 0.3313720625207532\n",
            "Epoch 13, Loss: 0.3147565349133291\n",
            "Epoch 14, Loss: 0.3102927300734809\n",
            "Epoch 15, Loss: 0.3032853880503217\n",
            "Epoch 16, Loss: 0.28693789350025706\n",
            "Epoch 17, Loss: 0.2824658856706147\n",
            "Epoch 18, Loss: 0.2679240177031721\n",
            "Epoch 19, Loss: 0.25893183503093414\n",
            "Epoch 20, Loss: 0.2416423511991633\n",
            "model will be saved under /content/drive/.shortcut-targets-by-id/1sDWsPGsIDappaJPbkJswWmLhx1q6LRdv/AOCR2024/params\n",
            "Epoch 21, Loss: 0.23358508412299767\n",
            "Epoch 22, Loss: 0.2212550881924968\n",
            "Epoch 23, Loss: 0.20932984796832688\n",
            "Epoch 24, Loss: 0.2050928268165689\n",
            "Epoch 25, Loss: 0.19047186929575746\n",
            "Epoch 26, Loss: 0.17899169847063215\n",
            "Epoch 27, Loss: 0.17131291202449256\n",
            "Epoch 28, Loss: 0.1643470063393465\n",
            "Epoch 29, Loss: 0.16072274572206413\n",
            "Epoch 30, Loss: 0.15071275229976958\n",
            "model will be saved under /content/drive/.shortcut-targets-by-id/1sDWsPGsIDappaJPbkJswWmLhx1q6LRdv/AOCR2024/params\n",
            "Epoch 31, Loss: 0.1524255096145525\n",
            "Epoch 32, Loss: 0.13658459143219726\n",
            "Epoch 33, Loss: 0.13305123029080712\n",
            "Epoch 34, Loss: 0.12471826399869651\n",
            "Epoch 35, Loss: 0.12692586372049958\n",
            "Epoch 36, Loss: 0.12474931616315071\n",
            "Epoch 37, Loss: 0.11594672102681447\n",
            "Epoch 38, Loss: 0.1033730009008721\n",
            "Epoch 39, Loss: 0.10729195446170889\n",
            "Epoch 40, Loss: 0.1025647785245831\n",
            "model will be saved under /content/drive/.shortcut-targets-by-id/1sDWsPGsIDappaJPbkJswWmLhx1q6LRdv/AOCR2024/params\n",
            "Epoch 41, Loss: 0.10156748103058191\n",
            "Epoch 42, Loss: 0.0961676299530397\n",
            "Epoch 43, Loss: 0.08968666353520174\n",
            "Epoch 44, Loss: 0.08845441167513425\n",
            "Epoch 45, Loss: 0.08629570570742703\n",
            "Epoch 46, Loss: 0.08364366620871787\n",
            "Epoch 47, Loss: 0.08049435451206297\n",
            "Epoch 48, Loss: 0.08327360426097749\n",
            "Epoch 49, Loss: 0.07763820661675784\n",
            "Epoch 50, Loss: 0.07646200109747223\n",
            "model will be saved under /content/drive/.shortcut-targets-by-id/1sDWsPGsIDappaJPbkJswWmLhx1q6LRdv/AOCR2024/params\n",
            "Epoch 51, Loss: 0.07410673710888824\n",
            "Epoch 52, Loss: 0.06845347579546872\n",
            "Epoch 53, Loss: 0.07208819382087026\n",
            "Epoch 54, Loss: 0.06750267190455093\n",
            "Epoch 55, Loss: 0.06445952656768976\n",
            "Epoch 56, Loss: 0.06513051342948084\n",
            "Epoch 57, Loss: 0.06274693772661474\n",
            "Epoch 58, Loss: 0.05885997440390938\n",
            "Epoch 59, Loss: 0.06395502245270941\n",
            "Epoch 60, Loss: 0.05875225834344627\n",
            "model will be saved under /content/drive/.shortcut-targets-by-id/1sDWsPGsIDappaJPbkJswWmLhx1q6LRdv/AOCR2024/params\n",
            "Epoch 61, Loss: 0.058001360361799224\n",
            "Epoch 62, Loss: 0.0561293772572914\n",
            "Epoch 63, Loss: 0.056115130326824546\n",
            "Epoch 64, Loss: 0.052418743189163355\n",
            "Epoch 65, Loss: 0.056738930787105346\n",
            "Epoch 66, Loss: 0.0507905212179227\n",
            "Epoch 67, Loss: 0.051295613811876785\n",
            "Epoch 68, Loss: 0.04713433048880023\n",
            "Epoch 69, Loss: 0.0500352700875263\n",
            "Epoch 70, Loss: 0.046533655125364635\n",
            "model will be saved under /content/drive/.shortcut-targets-by-id/1sDWsPGsIDappaJPbkJswWmLhx1q6LRdv/AOCR2024/params\n",
            "Epoch 71, Loss: 0.045751457635213294\n",
            "Epoch 72, Loss: 0.04719571221890534\n",
            "Epoch 73, Loss: 0.04248978246195045\n",
            "Epoch 74, Loss: 0.04275559448576769\n",
            "Epoch 75, Loss: 0.04772307719374114\n",
            "Epoch 76, Loss: 0.043112298214605035\n",
            "Epoch 77, Loss: 0.047979049818712406\n",
            "Epoch 78, Loss: 0.04098127319981616\n",
            "Epoch 79, Loss: 0.03614935747847968\n",
            "Epoch 80, Loss: 0.04197300764390578\n",
            "model will be saved under /content/drive/.shortcut-targets-by-id/1sDWsPGsIDappaJPbkJswWmLhx1q6LRdv/AOCR2024/params\n",
            "Epoch 81, Loss: 0.04389060060177211\n",
            "Epoch 82, Loss: 0.03997883874914938\n",
            "Epoch 83, Loss: 0.03437511304240825\n",
            "Epoch 84, Loss: 0.043803187142888986\n",
            "Epoch 85, Loss: 0.038235153332198304\n",
            "Epoch 86, Loss: 0.03848796320021327\n",
            "Epoch 87, Loss: 0.0405369255574948\n",
            "Epoch 88, Loss: 0.038694003829917424\n",
            "Epoch 89, Loss: 0.03362044123802327\n",
            "Epoch 90, Loss: 0.03792153473642155\n",
            "model will be saved under /content/drive/.shortcut-targets-by-id/1sDWsPGsIDappaJPbkJswWmLhx1q6LRdv/AOCR2024/params\n",
            "Epoch 91, Loss: 0.03489396319502247\n",
            "Epoch 92, Loss: 0.03506358508691947\n",
            "Epoch 93, Loss: 0.03462346084887655\n",
            "Epoch 94, Loss: 0.03650182938091409\n",
            "Epoch 95, Loss: 0.028596945551167697\n",
            "Epoch 96, Loss: 0.034320508401039944\n",
            "Epoch 97, Loss: 0.03654546756403426\n",
            "Epoch 98, Loss: 0.03192608535348861\n",
            "Epoch 99, Loss: 0.03176378817604393\n",
            "Epoch 100, Loss: 0.031906357779657425\n"
          ]
        }
      ],
      "source": [
        "# 訓練參數\n",
        "num_epochs = 100\n",
        "batch_size = 16\n",
        "lr = 0.01\n",
        "running_loss_list = []\n",
        "\n",
        "# 初始化模型、損失函數和優化器\n",
        "model = pretrained_model\n",
        "criterion = nn.BCELoss()\n",
        "optimizer = optim.Adam(model.parameters(), lr)\n",
        "model = model.to(device)\n",
        "\n",
        "\n",
        "dataset = CustomDataset(images_train, labels_train)\n",
        "dataloader = DataLoader(dataset, batch_size=batch_size, shuffle=True, drop_last=True)\n",
        "model.train()\n",
        "\n",
        "for i, epoch in enumerate(range(num_epochs)):\n",
        "    running_loss = 0.0\n",
        "\n",
        "    for j, (batch_images, batch_labels) in enumerate(dataloader):\n",
        "        batch_images, batch_labels = batch_images.to(device), batch_labels.to(device)\n",
        "\n",
        "        optimizer.zero_grad()\n",
        "        outputs = model(batch_images)\n",
        "        outputs = outputs.squeeze()\n",
        "        loss = criterion(outputs, batch_labels)\n",
        "        loss.backward()\n",
        "        optimizer.step()\n",
        "\n",
        "        running_loss += loss.item()\n",
        "\n",
        "    if i % 10 == 0:\n",
        "      savepath = save_model(model, f'{model_name}_{epoch}', dirname='dropFalse0.8')\n",
        "\n",
        "    images_train, labels_train = remove_false_images(images, labels, 0.8)\n",
        "    dataset = CustomDataset(images_train, labels_train)\n",
        "    dataloader = DataLoader(dataset, batch_size=batch_size, shuffle=True, drop_last=True)\n",
        "\n",
        "    running_loss_list.append(running_loss/len(dataloader))\n",
        "    print(f\"Epoch {epoch+1}, Loss: {running_loss/len(dataloader)}\")\n",
        "\n",
        "savepath = save_model(model, f'{model_name}_{epoch}', dirname='dropFalse0.8')"
      ]
    },
    {
      "cell_type": "markdown",
      "metadata": {
        "id": "rhLO9PaUESQh"
      },
      "source": [
        "## Loss圖"
      ]
    },
    {
      "cell_type": "code",
      "execution_count": null,
      "metadata": {
        "id": "uvRouRxFEXy2",
        "colab": {
          "base_uri": "https://localhost:8080/",
          "height": 489
        },
        "outputId": "51a367f6-ed1d-4805-a9e8-2638d49cece4"
      },
      "outputs": [
        {
          "output_type": "stream",
          "name": "stdout",
          "text": [
            "/content/drive/.shortcut-targets-by-id/1sDWsPGsIDappaJPbkJswWmLhx1q6LRdv/AOCR2024/params/dropFalse0.8/tf_efficientnetv2_m_loss.json exist.\n"
          ]
        },
        {
          "output_type": "display_data",
          "data": {
            "text/plain": [
              "<Figure size 640x480 with 1 Axes>"
            ],
            "image/png": "[encoded data removed]"
          },
          "metadata": {}
        }
      ],
      "source": [
        "import matplotlib.pyplot as plt\n",
        "plt.plot(np.arange(1,num_epochs+1)[:len(running_loss_list)], running_loss_list)\n",
        "plt.title('Loss')\n",
        "plt.xlabel('Epoch')\n",
        "plt.ylabel('Loss')\n",
        "\n",
        "figname = f'{os.path.dirname(savepath)}/{model_name}_loss.png'\n",
        "if os.path.isfile(figname):\n",
        "  print(f\"{figname} exist.\")\n",
        "else:\n",
        "  plt.savefig(figname)\n",
        "\n",
        "lossname = f'{os.path.dirname(savepath)}/{model_name}_loss.json'\n",
        "\n",
        "if os.path.isfile(lossname):\n",
        "    print(f\"{lossname} exist.\")\n",
        "else:\n",
        "    with open(f'{lossname}', 'w') as f:\n",
        "        json.dump(running_loss_list, f)\n",
        "plt.show()"
      ]
    },
    {
      "cell_type": "markdown",
      "metadata": {
        "id": "fRrn6mOmBRFU"
      },
      "source": [
        "# 儲存模型參數\n",
        "\n"
      ]
    },
    {
      "cell_type": "code",
      "execution_count": null,
      "metadata": {
        "id": "2Jnh7hW3BRFU",
        "colab": {
          "base_uri": "https://localhost:8080/"
        },
        "outputId": "4845b62c-53b8-44a9-849b-736f33da9000"
      },
      "outputs": [
        {
          "name": "stdout",
          "output_type": "stream",
          "text": [
            "model will be saved under /content/drive/.shortcut-targets-by-id/1sDWsPGsIDappaJPbkJswWmLhx1q6LRdv/AOCR2024/params\n",
            "請輸入模型儲存的檔名:tf_efficientnetv2_m_100\n",
            "請輸入模型儲存的資料夾:dropFalse0.8\n"
          ]
        }
      ],
      "source": [
        "filename = save_model(model)\n",
        "\n",
        "params = {\n",
        "    'num_epochs': num_epochs,\n",
        "    'batch_size': batch_size,\n",
        "    'learning_rate': lr,\n",
        "}\n",
        "\n",
        "if os.path.isfile(filename+'.json'):\n",
        "    print(f\"{filename}.json exist.\")\n",
        "else:\n",
        "    with open(f'{filename}.json', 'w') as f:\n",
        "        json.dump(params, f)"
      ]
    },
    {
      "cell_type": "markdown",
      "metadata": {
        "id": "oBcppdev6LlG"
      },
      "source": [
        "# 讀取模型參數"
      ]
    },
    {
      "cell_type": "code",
      "source": [
        "model = pretrained_model\n",
        "model = model.to(device)"
      ],
      "metadata": {
        "id": "Pfx0VwbRN9uq"
      },
      "execution_count": 51,
      "outputs": []
    },
    {
      "cell_type": "code",
      "execution_count": 52,
      "metadata": {
        "id": "5NUlm7dg5sRE",
        "colab": {
          "base_uri": "https://localhost:8080/"
        },
        "outputId": "fcb26338-f43a-43b7-efaa-481d962bab13"
      },
      "outputs": [
        {
          "output_type": "stream",
          "name": "stdout",
          "text": [
            "請輸入要獲取模型路徑:/content/drive/MyDrive/AOCR2024/params/dropFalse0.8/tf_efficientnetv2_m_100\n",
            "<All keys matched successfully>\n"
          ]
        }
      ],
      "source": [
        "import json\n",
        "filename = input(\"請輸入要獲取模型路徑:\")\n",
        "\n",
        "if not os.path.isfile(filename+'.pth'):\n",
        "    print(f\"{filename}.pth not exist.\")\n",
        "else:\n",
        "    print(model.load_state_dict(torch.load(filename+'.pth')))\n",
        "\n",
        "if os.path.isfile(filename+'.json'):\n",
        "  with open(f'{filename}.json', 'r') as f:\n",
        "      params = json.load(f)"
      ]
    },
    {
      "cell_type": "markdown",
      "metadata": {
        "id": "6v_lVRL47kzj"
      },
      "source": [
        "# 評估\n"
      ]
    },
    {
      "cell_type": "code",
      "execution_count": 67,
      "metadata": {
        "id": "QtWJ-YYy5l2E",
        "colab": {
          "base_uri": "https://localhost:8080/"
        },
        "outputId": "36ab8bb8-5bd4-4d6b-ac3c-82abe1233fa5"
      },
      "outputs": [
        {
          "output_type": "stream",
          "name": "stdout",
          "text": [
            "16\n"
          ]
        }
      ],
      "source": [
        "# 評估設置\n",
        "try:\n",
        "  batch_size = params['batch_size']\n",
        "except:\n",
        "  batch_size = int(input(\"batch_size:\"))\n",
        "print(batch_size)\n",
        "\n",
        "dataset = CustomDataset(images_train[:8000], labels_train)\n",
        "dataloader = DataLoader(dataset, batch_size=batch_size, shuffle=False)"
      ]
    },
    {
      "cell_type": "code",
      "execution_count": 68,
      "metadata": {
        "id": "4M1qST-FslSs",
        "colab": {
          "base_uri": "https://localhost:8080/"
        },
        "outputId": "981bb1f9-d5bf-4f7f-dae6-5fcc30b8b714"
      },
      "outputs": [
        {
          "output_type": "stream",
          "name": "stdout",
          "text": [
            "Accuracy of the network on the 8000 test images: 99.1875%\n",
            "Loss: 0.0209375872412013\n"
          ]
        }
      ],
      "source": [
        "\n",
        "# testing_loss_list = []\n",
        "criterion = nn.BCELoss()\n",
        "predict_list = torch.tensor([]).to(device)\n",
        "\n",
        "model.eval()\n",
        "with torch.no_grad():\n",
        "    testing_loss = 0.0\n",
        "    correct = 0\n",
        "    total = 0\n",
        "    for j, (batch_images, batch_labels) in enumerate(dataloader):\n",
        "        batch_images, batch_labels = batch_images.to(device), batch_labels.to(device)\n",
        "        outputs = model(batch_images).squeeze()\n",
        "        predicted = (outputs > 0.5).int()\n",
        "        loss = criterion(outputs, batch_labels)\n",
        "        testing_loss += loss.item()\n",
        "        # if predicted.dim() == 0:\n",
        "        #   predicted = predicted.unsqueeze(0)\n",
        "        predict_list = torch.cat((predict_list,predicted),0)\n",
        "        total += batch_labels.size(0)\n",
        "        correct += (predicted == batch_labels).sum().item()\n",
        "\n",
        "print(f\"Accuracy of the network on the {len(predict_list)} test images: {100 * correct / total}%\")\n",
        "print(f\"Loss: {testing_loss/len(dataloader)}\")\n",
        "predict_listq = predict_list.cpu()\n",
        "\n"
      ]
    },
    {
      "cell_type": "markdown",
      "source": [
        "Accuracy of the network on the 15592   \n",
        "training images: 99.20472036942022%  \n",
        "Loss: 0.03187363331013983\n"
      ],
      "metadata": {
        "id": "fwmwmUjjiYQ8"
      }
    },
    {
      "cell_type": "code",
      "execution_count": 69,
      "metadata": {
        "id": "5s7klq4YR5Qg",
        "colab": {
          "base_uri": "https://localhost:8080/"
        },
        "outputId": "e31c4ae1-f2aa-425b-9863-bd9bba68c0a0"
      },
      "outputs": [
        {
          "output_type": "stream",
          "name": "stdout",
          "text": [
            "\n",
            "      真實值\n",
            "  預  +-----+-----+\n",
            "  測| TP: 608| FP: 61|\n",
            "  值| FN: 4| TN: 7327|\n",
            "      +-----+-----+ \n",
            "\n",
            "recall=0.9934640522875817\n",
            "precision=0.9088191330343797\n",
            "F1=0.9492583918813428\n",
            "\n"
          ]
        }
      ],
      "source": [
        "print_results(predict_listq, labels[:len(predict_list)])"
      ]
    },
    {
      "cell_type": "markdown",
      "source": [
        "# Test"
      ],
      "metadata": {
        "id": "H_IU8lUico-0"
      }
    },
    {
      "cell_type": "markdown",
      "source": [
        "images讀進來是疊在一起的。 需要info紀錄images檔名順序與分割情況"
      ],
      "metadata": {
        "id": "Z7I_nNXjjlGW"
      }
    },
    {
      "cell_type": "code",
      "source": [
        "images_test, info = read_test(r\"/content/drive/MyDrive/AOCR2024/Test_Image\",termi=5,shift=0)"
      ],
      "metadata": {
        "id": "tL3mzD9qi-3a"
      },
      "execution_count": null,
      "outputs": []
    },
    {
      "cell_type": "code",
      "source": [
        "try:\n",
        "  batch_size = params['batch_size']\n",
        "except:\n",
        "  batch_size = int(input(\"batch_size:\"))\n",
        "print(batch_size)\n",
        "\n",
        "dataset = CustomDataset(images_test, labels_train)\n",
        "dataloader = DataLoader(dataset, batch_size=batch_size, shuffle=False)\n"
      ],
      "metadata": {
        "id": "khCyQWK7d4G7"
      },
      "execution_count": null,
      "outputs": []
    },
    {
      "cell_type": "code",
      "source": [
        "model.eval()\n",
        "\n",
        "predict_list = torch.tensor([]).to(device)\n",
        "with torch.no_grad():  # 不更新梯度\n",
        "    correct = 0\n",
        "    total = 0\n",
        "    for j, batch_images in enumerate(dataloader):\n",
        "        batch_images = batch_images.to(device)\n",
        "        outputs = model(batch_images)\n",
        "        predicted = (outputs.squeeze() > 0.5).int()\n",
        "\n",
        "        # if predicted.dim() == 0:\n",
        "        #   predicted = predicted.unsqueeze(0)\n",
        "        predict_list = torch.cat((predict_list,predicted),0)\n",
        "\n",
        "\n",
        "predict_listq = predict_list.cpu()"
      ],
      "metadata": {
        "id": "N-IzPXwRcrxE"
      },
      "execution_count": null,
      "outputs": []
    },
    {
      "cell_type": "markdown",
      "metadata": {
        "id": "ml59tSf2QXty"
      },
      "source": [
        "# 輸出至submission.csv"
      ]
    },
    {
      "cell_type": "markdown",
      "source": [
        "訓練過程不改變資料順序, 所以輸出順序同輸入.   \n",
        "predict值跟隨images順序, 照著info把每個predict值(label)與檔名(id)對上. 輸出成提交格式"
      ],
      "metadata": {
        "id": "4teg7YRZj9Vq"
      }
    },
    {
      "cell_type": "code",
      "source": [
        "def cont(l):\n",
        "  \"1是否連續\"\n",
        "  f1 = False\n",
        "  f2 = False\n",
        "  for i in range(len(l)):\n",
        "    if (l[i] == 1):\n",
        "      f1 = True\n",
        "    if (l[i] == 0):\n",
        "      if (f1):\n",
        "        f2 = True\n",
        "    if (l[i] == 1) and f2:\n",
        "      return False\n",
        "  return True\n",
        "\n",
        "def yes(predict):\n",
        "  return int(sum(predict) >= 3)\n",
        "\n",
        "\n",
        "\n",
        "predict_list = predict_listq.numpy()\n",
        "\n",
        "## 還原id與對應label，假設key按照scan輸入順序排列,每個key對應的scan的cuts數是nslice\n",
        "output = {}\n",
        "k = 0  #第幾個scan\n",
        "ii = 0   #每個key輪到第幾個\n",
        "id, nslice = info[k][0], info[k][1]\n",
        "for i in range(len(predict_list)):\n",
        "\n",
        "  if (ii >= nslice):\n",
        "    #該換下一個scan了\n",
        "    output[id] = yes(predict_list[i-nslice:i]) #評估方式\n",
        "\n",
        "    k += 1\n",
        "    ii = 0\n",
        "    id, nslice = info[k][0], info[k][1]\n",
        "\n",
        "  label = predict_list[i]\n",
        "  output[id+f'_{ii}'] = int(predict_list[i])\n",
        "  ii += 1\n",
        "\n",
        "output[id] = yes(predict_list[(i+1)-ii:]) #補上最後一個scan評估\n",
        "# import pdb\n",
        "# pdb.set_trace()\n",
        "output = list(output.items())\n",
        "dfout = pd.DataFrame(output)\n",
        "dfout.columns = ['id', 'label']\n",
        "dfout = dfout.sort_values(by='id', key=lambda x: x.map(custom_sort_key))\n",
        "filename = input(\"輸入提交檔名(enter for submission)\")\n",
        "if filename == '':\n",
        "  filename = 'submission'\n",
        "dfout.to_csv(f\"{drive_rootdir}/{filename}\"+'.csv', index=False)"
      ],
      "metadata": {
        "id": "eGcPvyce5uDJ",
        "colab": {
          "base_uri": "https://localhost:8080/"
        },
        "outputId": "9c929553-db3e-4c06-ebc6-40483f1a1b36"
      },
      "execution_count": null,
      "outputs": [
        {
          "name": "stdout",
          "output_type": "stream",
          "text": [
            "輸入提交檔名(enter for submission)test2\n"
          ]
        }
      ]
    },
    {
      "cell_type": "code",
      "source": [
        "info"
      ],
      "metadata": {
        "id": "T2eaN23dXgfm"
      },
      "execution_count": null,
      "outputs": []
    },
    {
      "cell_type": "code",
      "execution_count": null,
      "metadata": {
        "id": "lhDYVsGNxVTZ"
      },
      "outputs": [],
      "source": [
        "dfout"
      ]
    },
    {
      "cell_type": "markdown",
      "source": [
        "# 查看submission.csv"
      ],
      "metadata": {
        "id": "wKe-NfBAeN8i"
      }
    },
    {
      "cell_type": "code",
      "source": [
        "!pwd"
      ],
      "metadata": {
        "id": "lC6LJpkZr4xC"
      },
      "execution_count": null,
      "outputs": []
    },
    {
      "cell_type": "code",
      "source": [
        "dftest = read_submission('fisrt_80.csv')\n",
        "# dftest = read_submission('submission.csv')\n",
        "dflabel = read_label(\"TrainValid_ground_truth.csv\")"
      ],
      "metadata": {
        "id": "oDM_yM-5bdCT"
      },
      "execution_count": null,
      "outputs": []
    },
    {
      "cell_type": "code",
      "source": [
        "len(dftest)"
      ],
      "metadata": {
        "id": "fRSaPgTBnbE2"
      },
      "execution_count": null,
      "outputs": []
    },
    {
      "cell_type": "code",
      "source": [
        "import re\n",
        "\n",
        "\n",
        "# 抓出scan-level data\n",
        "pattern = re.compile(r'.*_[0-9]+$')  # 正則表達式匹配 \"_數字\" 結尾\n",
        "mask = ~dftest.index.str.match(pattern)\n",
        "scan_guess = np.array(dftest[mask]['label'])\n",
        "scan_truth = np.array(dflabel.loc[dftest[mask]['label'].index]['label'])\n",
        "\n",
        "mask = ~mask\n",
        "cut_guess = np.array(dftest[mask]['label'])\n",
        "cut_truth = np.array(dflabel.loc[dftest[mask]['label'].index]['label'])"
      ],
      "metadata": {
        "id": "BD1NfxWTb2iL"
      },
      "execution_count": null,
      "outputs": []
    },
    {
      "cell_type": "code",
      "source": [
        "ss = 10\n",
        "print(\"=\"*ss + \"F1 score on scan level\" + \"=\"*ss)\n",
        "print_results(scan_guess, scan_truth)\n",
        "print(),print()\n",
        "print(\"=\"*ss + \"F1 score on cut level\" +\"=\"*ss )\n",
        "print_results(cut_guess, cut_truth)"
      ],
      "metadata": {
        "id": "fyMlAtUWuW8Y"
      },
      "execution_count": null,
      "outputs": []
    },
    {
      "cell_type": "markdown",
      "source": [
        "# 其他指令\n",
        "不在工作流\n",
        "當參考"
      ],
      "metadata": {
        "id": "FG2tqJ1kMhzt"
      }
    },
    {
      "cell_type": "code",
      "source": [
        "import time\n",
        "datadir = 'Train_Valid_Image'\n",
        "for idx, afile in enumerate(os.listdir(datadir)):\n",
        "  file_path = os.path.join(datadir, afile)\n",
        "  time.sleep(1)\n",
        "  nii_file =  nib.load(file_path)\n",
        "  print(f\"{idx}: read {afile}\")"
      ],
      "metadata": {
        "id": "eazF7afOHa8l"
      },
      "execution_count": null,
      "outputs": []
    },
    {
      "cell_type": "code",
      "source": [
        "pattern = re.compile(r'.*_[0-9]+$')  # 正則表達式匹配 \"_數字\" 結尾\n",
        "mask = dftest.index.to_series().str.match(pattern)\n",
        "dflabel_ = dftest[mask]\n",
        "dflabel_.index.map(lambda x : x.split('_')[1]).sort_values()[-3:]"
      ],
      "metadata": {
        "id": "lEForON9S9qE"
      },
      "execution_count": null,
      "outputs": []
    },
    {
      "cell_type": "code",
      "source": [
        "import random\n",
        "\n",
        "# 假設這是您的列表\n",
        "my_list = np.array([1, 2, 3, 4])\n",
        "\n",
        "mask = [True, False, False, True]\n",
        "my_list[mask]"
      ],
      "metadata": {
        "id": "37C0pWRQTCyU"
      },
      "execution_count": null,
      "outputs": []
    },
    {
      "cell_type": "code",
      "source": [
        "datadir =\"TrainValid_Image/train_data\"\n",
        "labelpath = 'TrainValid_ground_truth.csv'\n",
        "labels_ = read_label(labelpath)\n",
        "\n",
        "\n",
        "filelist = os.listdir(datadir)\n",
        "filelist = filelist[10:20]\n",
        "selecteds = [labels_.loc[labels_.index.str.startswith(afile.strip('.nii')+'_')] for afile in filelist]\n",
        "scans_info = []\n",
        "# preallocated\n",
        "print(\"enter\")\n",
        "numcuts = [len(selected) for selected in selecteds]\n",
        "numcut = sum(numcuts)"
      ],
      "metadata": {
        "id": "el4YgUCT6LgR"
      },
      "execution_count": null,
      "outputs": []
    },
    {
      "cell_type": "code",
      "source": [
        "numcuts = [len(selected) for selected in selecteds]"
      ],
      "metadata": {
        "id": "TBvrMIwo6nhH"
      },
      "execution_count": null,
      "outputs": []
    },
    {
      "cell_type": "code",
      "source": [
        "img = nib.load('Train_Valid_Image/Zx00AD16F8B97A53DE6E7CFE260BDF122F0E655659A3DF1628.nii.gz')\n"
      ],
      "metadata": {
        "id": "E9rP7qJsIFZx"
      },
      "execution_count": null,
      "outputs": []
    },
    {
      "cell_type": "code",
      "source": [
        "drive.flush_and_unmount()"
      ],
      "metadata": {
        "id": "RFBfoC3iMo1T"
      },
      "execution_count": null,
      "outputs": []
    },
    {
      "cell_type": "code",
      "source": [
        "t1 = torch.randint(3,(5,1,2,2))\n",
        "lab = torch.tensor([1,1,1,1,1])\n",
        "t1"
      ],
      "metadata": {
        "id": "v3E6Q2z4R6-S"
      },
      "execution_count": null,
      "outputs": []
    },
    {
      "cell_type": "code",
      "source": [
        "remove_positive_images(t1,lab,0.79)"
      ],
      "metadata": {
        "id": "vMKO8czxSMd8"
      },
      "execution_count": null,
      "outputs": []
    },
    {
      "cell_type": "code",
      "source": [
        "!pip install -U --no-cache-dir gdown gdown"
      ],
      "metadata": {
        "id": "-WWE6jOKCD0Z"
      },
      "execution_count": null,
      "outputs": []
    },
    {
      "cell_type": "code",
      "source": [
        "!pip install --upgrade --no-cache-dir gdown"
      ],
      "metadata": {
        "id": "v57WjC4VAtaa"
      },
      "execution_count": null,
      "outputs": []
    },
    {
      "cell_type": "code",
      "source": [
        "!gdown https://drive.google.com/drive/folders/1C7HXpHMw1Alvwif9hO97FUzfn4rhxG8B -O Train_Valid_Image --folder --remaining-ok"
      ],
      "metadata": {
        "id": "1T5_yrOg7RLQ"
      },
      "execution_count": null,
      "outputs": []
    }
  ],
  "metadata": {
    "colab": {
      "provenance": [],
      "collapsed_sections": [
        "RpwX2ZFOBRFT",
        "0IX5HYZuSKG-",
        "rhLO9PaUESQh"
      ],
      "machine_shape": "hm",
      "gpuType": "V100",
      "include_colab_link": true
    },
    "kernelspec": {
      "display_name": "Python 3",
      "name": "python3"
    },
    "language_info": {
      "codemirror_mode": {
        "name": "ipython",
        "version": 3
      },
      "file_extension": ".py",
      "mimetype": "text/x-python",
      "name": "python",
      "nbconvert_exporter": "python",
      "pygments_lexer": "ipython3",
      "version": "3.11.5"
    },
    "accelerator": "GPU",
    "widgets": {
      "application/vnd.jupyter.widget-state+json": {
        "8def4113e96a4004a53a9a6b75c024ff": {
          "model_module": "@jupyter-widgets/controls",
          "model_name": "HBoxModel",
          "model_module_version": "1.5.0",
          "state": {
            "_dom_classes": [],
            "_model_module": "@jupyter-widgets/controls",
            "_model_module_version": "1.5.0",
            "_model_name": "HBoxModel",
            "_view_count": null,
            "_view_module": "@jupyter-widgets/controls",
            "_view_module_version": "1.5.0",
            "_view_name": "HBoxView",
            "box_style": "",
            "children": [
              "IPY_MODEL_fccecca1560544cd97a460216ce419ef",
              "IPY_MODEL_b218b59aeeb9458bbdc54df888404cdb",
              "IPY_MODEL_6a1a22c3b8474bfe8abbca8790956238"
            ],
            "layout": "IPY_MODEL_6c2e34f7cf0849fea83215b25d853f9e"
          }
        },
        "fccecca1560544cd97a460216ce419ef": {
          "model_module": "@jupyter-widgets/controls",
          "model_name": "HTMLModel",
          "model_module_version": "1.5.0",
          "state": {
            "_dom_classes": [],
            "_model_module": "@jupyter-widgets/controls",
            "_model_module_version": "1.5.0",
            "_model_name": "HTMLModel",
            "_view_count": null,
            "_view_module": "@jupyter-widgets/controls",
            "_view_module_version": "1.5.0",
            "_view_name": "HTMLView",
            "description": "",
            "description_tooltip": null,
            "layout": "IPY_MODEL_0bf012248b0b496d9c7fa3ac52dffec2",
            "placeholder": "​",
            "style": "IPY_MODEL_92bdc3b383334c27b398dc8616bfbc49",
            "value": "model.safetensors: 100%"
          }
        },
        "b218b59aeeb9458bbdc54df888404cdb": {
          "model_module": "@jupyter-widgets/controls",
          "model_name": "FloatProgressModel",
          "model_module_version": "1.5.0",
          "state": {
            "_dom_classes": [],
            "_model_module": "@jupyter-widgets/controls",
            "_model_module_version": "1.5.0",
            "_model_name": "FloatProgressModel",
            "_view_count": null,
            "_view_module": "@jupyter-widgets/controls",
            "_view_module_version": "1.5.0",
            "_view_name": "ProgressView",
            "bar_style": "success",
            "description": "",
            "description_tooltip": null,
            "layout": "IPY_MODEL_9cd448b973814d5496d54d1f08b22855",
            "max": 217832578,
            "min": 0,
            "orientation": "horizontal",
            "style": "IPY_MODEL_7e2294240a9c4c67a974a8444c488ca4",
            "value": 217832578
          }
        },
        "6a1a22c3b8474bfe8abbca8790956238": {
          "model_module": "@jupyter-widgets/controls",
          "model_name": "HTMLModel",
          "model_module_version": "1.5.0",
          "state": {
            "_dom_classes": [],
            "_model_module": "@jupyter-widgets/controls",
            "_model_module_version": "1.5.0",
            "_model_name": "HTMLModel",
            "_view_count": null,
            "_view_module": "@jupyter-widgets/controls",
            "_view_module_version": "1.5.0",
            "_view_name": "HTMLView",
            "description": "",
            "description_tooltip": null,
            "layout": "IPY_MODEL_c78d492c1dbf45f08cd9addd7ff34fce",
            "placeholder": "​",
            "style": "IPY_MODEL_657145f7ea874dcaa1b2dc4f3c3a8d10",
            "value": " 218M/218M [00:04&lt;00:00, 39.5MB/s]"
          }
        },
        "6c2e34f7cf0849fea83215b25d853f9e": {
          "model_module": "@jupyter-widgets/base",
          "model_name": "LayoutModel",
          "model_module_version": "1.2.0",
          "state": {
            "_model_module": "@jupyter-widgets/base",
            "_model_module_version": "1.2.0",
            "_model_name": "LayoutModel",
            "_view_count": null,
            "_view_module": "@jupyter-widgets/base",
            "_view_module_version": "1.2.0",
            "_view_name": "LayoutView",
            "align_content": null,
            "align_items": null,
            "align_self": null,
            "border": null,
            "bottom": null,
            "display": null,
            "flex": null,
            "flex_flow": null,
            "grid_area": null,
            "grid_auto_columns": null,
            "grid_auto_flow": null,
            "grid_auto_rows": null,
            "grid_column": null,
            "grid_gap": null,
            "grid_row": null,
            "grid_template_areas": null,
            "grid_template_columns": null,
            "grid_template_rows": null,
            "height": null,
            "justify_content": null,
            "justify_items": null,
            "left": null,
            "margin": null,
            "max_height": null,
            "max_width": null,
            "min_height": null,
            "min_width": null,
            "object_fit": null,
            "object_position": null,
            "order": null,
            "overflow": null,
            "overflow_x": null,
            "overflow_y": null,
            "padding": null,
            "right": null,
            "top": null,
            "visibility": null,
            "width": null
          }
        },
        "0bf012248b0b496d9c7fa3ac52dffec2": {
          "model_module": "@jupyter-widgets/base",
          "model_name": "LayoutModel",
          "model_module_version": "1.2.0",
          "state": {
            "_model_module": "@jupyter-widgets/base",
            "_model_module_version": "1.2.0",
            "_model_name": "LayoutModel",
            "_view_count": null,
            "_view_module": "@jupyter-widgets/base",
            "_view_module_version": "1.2.0",
            "_view_name": "LayoutView",
            "align_content": null,
            "align_items": null,
            "align_self": null,
            "border": null,
            "bottom": null,
            "display": null,
            "flex": null,
            "flex_flow": null,
            "grid_area": null,
            "grid_auto_columns": null,
            "grid_auto_flow": null,
            "grid_auto_rows": null,
            "grid_column": null,
            "grid_gap": null,
            "grid_row": null,
            "grid_template_areas": null,
            "grid_template_columns": null,
            "grid_template_rows": null,
            "height": null,
            "justify_content": null,
            "justify_items": null,
            "left": null,
            "margin": null,
            "max_height": null,
            "max_width": null,
            "min_height": null,
            "min_width": null,
            "object_fit": null,
            "object_position": null,
            "order": null,
            "overflow": null,
            "overflow_x": null,
            "overflow_y": null,
            "padding": null,
            "right": null,
            "top": null,
            "visibility": null,
            "width": null
          }
        },
        "92bdc3b383334c27b398dc8616bfbc49": {
          "model_module": "@jupyter-widgets/controls",
          "model_name": "DescriptionStyleModel",
          "model_module_version": "1.5.0",
          "state": {
            "_model_module": "@jupyter-widgets/controls",
            "_model_module_version": "1.5.0",
            "_model_name": "DescriptionStyleModel",
            "_view_count": null,
            "_view_module": "@jupyter-widgets/base",
            "_view_module_version": "1.2.0",
            "_view_name": "StyleView",
            "description_width": ""
          }
        },
        "9cd448b973814d5496d54d1f08b22855": {
          "model_module": "@jupyter-widgets/base",
          "model_name": "LayoutModel",
          "model_module_version": "1.2.0",
          "state": {
            "_model_module": "@jupyter-widgets/base",
            "_model_module_version": "1.2.0",
            "_model_name": "LayoutModel",
            "_view_count": null,
            "_view_module": "@jupyter-widgets/base",
            "_view_module_version": "1.2.0",
            "_view_name": "LayoutView",
            "align_content": null,
            "align_items": null,
            "align_self": null,
            "border": null,
            "bottom": null,
            "display": null,
            "flex": null,
            "flex_flow": null,
            "grid_area": null,
            "grid_auto_columns": null,
            "grid_auto_flow": null,
            "grid_auto_rows": null,
            "grid_column": null,
            "grid_gap": null,
            "grid_row": null,
            "grid_template_areas": null,
            "grid_template_columns": null,
            "grid_template_rows": null,
            "height": null,
            "justify_content": null,
            "justify_items": null,
            "left": null,
            "margin": null,
            "max_height": null,
            "max_width": null,
            "min_height": null,
            "min_width": null,
            "object_fit": null,
            "object_position": null,
            "order": null,
            "overflow": null,
            "overflow_x": null,
            "overflow_y": null,
            "padding": null,
            "right": null,
            "top": null,
            "visibility": null,
            "width": null
          }
        },
        "7e2294240a9c4c67a974a8444c488ca4": {
          "model_module": "@jupyter-widgets/controls",
          "model_name": "ProgressStyleModel",
          "model_module_version": "1.5.0",
          "state": {
            "_model_module": "@jupyter-widgets/controls",
            "_model_module_version": "1.5.0",
            "_model_name": "ProgressStyleModel",
            "_view_count": null,
            "_view_module": "@jupyter-widgets/base",
            "_view_module_version": "1.2.0",
            "_view_name": "StyleView",
            "bar_color": null,
            "description_width": ""
          }
        },
        "c78d492c1dbf45f08cd9addd7ff34fce": {
          "model_module": "@jupyter-widgets/base",
          "model_name": "LayoutModel",
          "model_module_version": "1.2.0",
          "state": {
            "_model_module": "@jupyter-widgets/base",
            "_model_module_version": "1.2.0",
            "_model_name": "LayoutModel",
            "_view_count": null,
            "_view_module": "@jupyter-widgets/base",
            "_view_module_version": "1.2.0",
            "_view_name": "LayoutView",
            "align_content": null,
            "align_items": null,
            "align_self": null,
            "border": null,
            "bottom": null,
            "display": null,
            "flex": null,
            "flex_flow": null,
            "grid_area": null,
            "grid_auto_columns": null,
            "grid_auto_flow": null,
            "grid_auto_rows": null,
            "grid_column": null,
            "grid_gap": null,
            "grid_row": null,
            "grid_template_areas": null,
            "grid_template_columns": null,
            "grid_template_rows": null,
            "height": null,
            "justify_content": null,
            "justify_items": null,
            "left": null,
            "margin": null,
            "max_height": null,
            "max_width": null,
            "min_height": null,
            "min_width": null,
            "object_fit": null,
            "object_position": null,
            "order": null,
            "overflow": null,
            "overflow_x": null,
            "overflow_y": null,
            "padding": null,
            "right": null,
            "top": null,
            "visibility": null,
            "width": null
          }
        },
        "657145f7ea874dcaa1b2dc4f3c3a8d10": {
          "model_module": "@jupyter-widgets/controls",
          "model_name": "DescriptionStyleModel",
          "model_module_version": "1.5.0",
          "state": {
            "_model_module": "@jupyter-widgets/controls",
            "_model_module_version": "1.5.0",
            "_model_name": "DescriptionStyleModel",
            "_view_count": null,
            "_view_module": "@jupyter-widgets/base",
            "_view_module_version": "1.2.0",
            "_view_name": "StyleView",
            "description_width": ""
          }
        }
      }
    }
  },
  "nbformat": 4,
  "nbformat_minor": 0
}