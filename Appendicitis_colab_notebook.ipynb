{
  "cells": [
    {
      "cell_type": "markdown",
      "metadata": {
        "id": "view-in-github",
        "colab_type": "text"
      },
      "source": [
        "<a href=\"https://colab.research.google.com/github/Guo-bot-1998/Appendicitis/blob/master/Appendicitis_colab_notebook.ipynb\" target=\"_parent\"><img src=\"https://colab.research.google.com/assets/colab-badge.svg\" alt=\"Open In Colab\"/></a>"
      ]
    },
    {
      "cell_type": "markdown",
      "metadata": {
        "id": "coYrDLBnCbwQ"
      },
      "source": [
        "# import"
      ]
    },
    {
      "cell_type": "code",
      "execution_count": 1,
      "metadata": {
        "id": "Q4kBLfXWRg7N",
        "outputId": "e05da1db-db83-4b81-e239-b93b22999dba",
        "colab": {
          "base_uri": "https://localhost:8080/"
        }
      },
      "outputs": [
        {
          "output_type": "stream",
          "name": "stdout",
          "text": [
            "Collecting timm\n",
            "  Downloading timm-0.9.12-py3-none-any.whl (2.2 MB)\n",
            "\u001b[?25l     \u001b[90m━━━━━━━━━━━━━━━━━━━━━━━━━━━━━━━━━━━━━━━━\u001b[0m \u001b[32m0.0/2.2 MB\u001b[0m \u001b[31m?\u001b[0m eta \u001b[36m-:--:--\u001b[0m\r\u001b[2K     \u001b[91m━\u001b[0m\u001b[91m╸\u001b[0m\u001b[90m━━━━━━━━━━━━━━━━━━━━━━━━━━━━━━━━━━━━━━\u001b[0m \u001b[32m0.1/2.2 MB\u001b[0m \u001b[31m2.9 MB/s\u001b[0m eta \u001b[36m0:00:01\u001b[0m\r\u001b[2K     \u001b[91m━━━━━━━━━━━━━━━━━\u001b[0m\u001b[90m╺\u001b[0m\u001b[90m━━━━━━━━━━━━━━━━━━━━━━\u001b[0m \u001b[32m1.0/2.2 MB\u001b[0m \u001b[31m14.7 MB/s\u001b[0m eta \u001b[36m0:00:01\u001b[0m\r\u001b[2K     \u001b[90m━━━━━━━━━━━━━━━━━━━━━━━━━━━━━━━━━━━━━━━━\u001b[0m \u001b[32m2.2/2.2 MB\u001b[0m \u001b[31m23.4 MB/s\u001b[0m eta \u001b[36m0:00:00\u001b[0m\n",
            "\u001b[?25hRequirement already satisfied: torch>=1.7 in /usr/local/lib/python3.10/dist-packages (from timm) (2.1.0+cu118)\n",
            "Requirement already satisfied: torchvision in /usr/local/lib/python3.10/dist-packages (from timm) (0.16.0+cu118)\n",
            "Requirement already satisfied: pyyaml in /usr/local/lib/python3.10/dist-packages (from timm) (6.0.1)\n",
            "Requirement already satisfied: huggingface-hub in /usr/local/lib/python3.10/dist-packages (from timm) (0.19.4)\n",
            "Requirement already satisfied: safetensors in /usr/local/lib/python3.10/dist-packages (from timm) (0.4.1)\n",
            "Requirement already satisfied: filelock in /usr/local/lib/python3.10/dist-packages (from torch>=1.7->timm) (3.13.1)\n",
            "Requirement already satisfied: typing-extensions in /usr/local/lib/python3.10/dist-packages (from torch>=1.7->timm) (4.5.0)\n",
            "Requirement already satisfied: sympy in /usr/local/lib/python3.10/dist-packages (from torch>=1.7->timm) (1.12)\n",
            "Requirement already satisfied: networkx in /usr/local/lib/python3.10/dist-packages (from torch>=1.7->timm) (3.2.1)\n",
            "Requirement already satisfied: jinja2 in /usr/local/lib/python3.10/dist-packages (from torch>=1.7->timm) (3.1.2)\n",
            "Requirement already satisfied: fsspec in /usr/local/lib/python3.10/dist-packages (from torch>=1.7->timm) (2023.6.0)\n",
            "Requirement already satisfied: triton==2.1.0 in /usr/local/lib/python3.10/dist-packages (from torch>=1.7->timm) (2.1.0)\n",
            "Requirement already satisfied: requests in /usr/local/lib/python3.10/dist-packages (from huggingface-hub->timm) (2.31.0)\n",
            "Requirement already satisfied: tqdm>=4.42.1 in /usr/local/lib/python3.10/dist-packages (from huggingface-hub->timm) (4.66.1)\n",
            "Requirement already satisfied: packaging>=20.9 in /usr/local/lib/python3.10/dist-packages (from huggingface-hub->timm) (23.2)\n",
            "Requirement already satisfied: numpy in /usr/local/lib/python3.10/dist-packages (from torchvision->timm) (1.23.5)\n",
            "Requirement already satisfied: pillow!=8.3.*,>=5.3.0 in /usr/local/lib/python3.10/dist-packages (from torchvision->timm) (9.4.0)\n",
            "Requirement already satisfied: MarkupSafe>=2.0 in /usr/local/lib/python3.10/dist-packages (from jinja2->torch>=1.7->timm) (2.1.3)\n",
            "Requirement already satisfied: charset-normalizer<4,>=2 in /usr/local/lib/python3.10/dist-packages (from requests->huggingface-hub->timm) (3.3.2)\n",
            "Requirement already satisfied: idna<4,>=2.5 in /usr/local/lib/python3.10/dist-packages (from requests->huggingface-hub->timm) (3.6)\n",
            "Requirement already satisfied: urllib3<3,>=1.21.1 in /usr/local/lib/python3.10/dist-packages (from requests->huggingface-hub->timm) (2.0.7)\n",
            "Requirement already satisfied: certifi>=2017.4.17 in /usr/local/lib/python3.10/dist-packages (from requests->huggingface-hub->timm) (2023.11.17)\n",
            "Requirement already satisfied: mpmath>=0.19 in /usr/local/lib/python3.10/dist-packages (from sympy->torch>=1.7->timm) (1.3.0)\n",
            "Installing collected packages: timm\n",
            "Successfully installed timm-0.9.12\n",
            "Requirement already satisfied: tqdm in /usr/local/lib/python3.10/dist-packages (4.66.1)\n",
            "Collecting kora\n",
            "  Downloading kora-0.9.20-py3-none-any.whl (57 kB)\n",
            "\u001b[2K     \u001b[90m━━━━━━━━━━━━━━━━━━━━━━━━━━━━━━━━━━━━━━━━\u001b[0m \u001b[32m57.7/57.7 kB\u001b[0m \u001b[31m1.6 MB/s\u001b[0m eta \u001b[36m0:00:00\u001b[0m\n",
            "\u001b[?25hRequirement already satisfied: ipython in /usr/local/lib/python3.10/dist-packages (from kora) (7.34.0)\n",
            "Requirement already satisfied: fastcore in /usr/local/lib/python3.10/dist-packages (from kora) (1.5.29)\n",
            "Requirement already satisfied: pip in /usr/local/lib/python3.10/dist-packages (from fastcore->kora) (23.1.2)\n",
            "Requirement already satisfied: packaging in /usr/local/lib/python3.10/dist-packages (from fastcore->kora) (23.2)\n",
            "Requirement already satisfied: setuptools>=18.5 in /usr/local/lib/python3.10/dist-packages (from ipython->kora) (67.7.2)\n",
            "Collecting jedi>=0.16 (from ipython->kora)\n",
            "  Downloading jedi-0.19.1-py2.py3-none-any.whl (1.6 MB)\n",
            "\u001b[2K     \u001b[90m━━━━━━━━━━━━━━━━━━━━━━━━━━━━━━━━━━━━━━━━\u001b[0m \u001b[32m1.6/1.6 MB\u001b[0m \u001b[31m23.3 MB/s\u001b[0m eta \u001b[36m0:00:00\u001b[0m\n",
            "\u001b[?25hRequirement already satisfied: decorator in /usr/local/lib/python3.10/dist-packages (from ipython->kora) (4.4.2)\n",
            "Requirement already satisfied: pickleshare in /usr/local/lib/python3.10/dist-packages (from ipython->kora) (0.7.5)\n",
            "Requirement already satisfied: traitlets>=4.2 in /usr/local/lib/python3.10/dist-packages (from ipython->kora) (5.7.1)\n",
            "Requirement already satisfied: prompt-toolkit!=3.0.0,!=3.0.1,<3.1.0,>=2.0.0 in /usr/local/lib/python3.10/dist-packages (from ipython->kora) (3.0.41)\n",
            "Requirement already satisfied: pygments in /usr/local/lib/python3.10/dist-packages (from ipython->kora) (2.16.1)\n",
            "Requirement already satisfied: backcall in /usr/local/lib/python3.10/dist-packages (from ipython->kora) (0.2.0)\n",
            "Requirement already satisfied: matplotlib-inline in /usr/local/lib/python3.10/dist-packages (from ipython->kora) (0.1.6)\n",
            "Requirement already satisfied: pexpect>4.3 in /usr/local/lib/python3.10/dist-packages (from ipython->kora) (4.9.0)\n",
            "Requirement already satisfied: parso<0.9.0,>=0.8.3 in /usr/local/lib/python3.10/dist-packages (from jedi>=0.16->ipython->kora) (0.8.3)\n",
            "Requirement already satisfied: ptyprocess>=0.5 in /usr/local/lib/python3.10/dist-packages (from pexpect>4.3->ipython->kora) (0.7.0)\n",
            "Requirement already satisfied: wcwidth in /usr/local/lib/python3.10/dist-packages (from prompt-toolkit!=3.0.0,!=3.0.1,<3.1.0,>=2.0.0->ipython->kora) (0.2.12)\n",
            "Installing collected packages: jedi, kora\n",
            "Successfully installed jedi-0.19.1 kora-0.9.20\n",
            "Collecting fake_useragent\n",
            "  Downloading fake_useragent-1.4.0-py3-none-any.whl (15 kB)\n",
            "Installing collected packages: fake_useragent\n",
            "Successfully installed fake_useragent-1.4.0\n"
          ]
        }
      ],
      "source": [
        "!pip install timm\n",
        "!pip install tqdm\n",
        "!pip install kora\n",
        "!pip install fake_useragent"
      ]
    },
    {
      "cell_type": "code",
      "execution_count": 2,
      "metadata": {
        "id": "bQ4w8h2LkY0g"
      },
      "outputs": [],
      "source": [
        "import nibabel as nib\n",
        "import numpy as np\n",
        "import os\n",
        "import pandas as pd\n",
        "import nibabel as nib\n",
        "import torch\n",
        "import torch.nn as nn\n",
        "import torch.optim as optim\n",
        "import random\n",
        "import re\n",
        "import json\n",
        "import tqdm\n",
        "import timm\n",
        "import gdown\n",
        "from torch.utils.data import Dataset, DataLoader\n"
      ]
    },
    {
      "cell_type": "markdown",
      "source": [
        "## 存取"
      ],
      "metadata": {
        "id": "Oc3DYvY3WsL4"
      }
    },
    {
      "cell_type": "code",
      "source": [
        "\n",
        "def process_data2(shift=0, termi=10, dropFalse=0.85, dropPos=0)\\\n",
        " -> tuple[torch.tensor, torch.tensor, list[tuple[str, int]]]:\n",
        "  \"\"\"Reading data in \"datadir\" and process them.\n",
        "  Taking care of memory efficiency\"\n",
        "\n",
        "  Args:\n",
        "    shift: 從第幾個開始讀取\n",
        "    termi: 讀取幾個\n",
        "    dropFalse: 被刪除的有闌尾炎的張數比例\n",
        "    dropPos: 被刪除的有闌尾炎的張數比例\n",
        "\n",
        "  Returns:\n",
        "    images: 输出的图像数据\n",
        "    labels: 输出的标签数据\n",
        "    scans_info: 每個scan的檔名和切片數(原本nii檔所包含的數量)\n",
        "  \"\"\"\n",
        "\n",
        "  labels_ = read_label(labelpath)\n",
        "\n",
        "  if labels_.index.name != 'id':\n",
        "    labels_.set_index('id', inplace=True)\n",
        "\n",
        "  #裁減過的圖片放在Cropped_[範圍]的資料夾下,用路徑名稱判斷資料使否裁減過\n",
        "  cropmatch = re.search(r'Cropped', datadir)\n",
        "  if not cropmatch:\n",
        "    print(\"讀取未切片的資料夾\")\n",
        "    xlim, ylim, zlim = [0,512], [0,512], [0,None]\n",
        "  else:\n",
        "    #範圍 = xstart-xend_ystart-yend_zstart-zend\n",
        "    ismatch = re.search(r'(\\d+-\\d+)_(\\d+-\\d+)_(\\d+-\\d+)', datadir)\n",
        "    if ismatch:\n",
        "      dimens = ismatch.group(0)\n",
        "      labelidx = dimens.split('_')\n",
        "      xlim = [int(idx) for idx in labelidx[0].split('-')]\n",
        "      ylim = [int(idx) for idx in labelidx[1].split('-')]\n",
        "      zlim = [int(idx) for idx in labelidx[2].split('-')]\n",
        "      print(f\"{xlim=}\\n{ylim=}\\n{zlim=}\")\n",
        "      if xlim[0] >= xlim[1] or ylim[0] >= ylim[1] or zlim[0] >= zlim[1]:\n",
        "        print(\"切片格式不正确\")\n",
        "        return\n",
        "    else:\n",
        "      print(\"切片格式不正确\")\n",
        "      return\n",
        "\n",
        "\n",
        "  filelist = os.listdir(datadir)\n",
        "  filelist = filelist[shift:shift+termi]\n",
        "  scans_info = []\n",
        "\n",
        "  # preallocated\n",
        "  if not cropmatch:\n",
        "    selecteds = [labels_.loc[labels_.index.str.startswith(afile.strip('.nii.gz')+'_')] for afile in filelist]\n",
        "    numcuts = [len(selected) for selected in selecteds]\n",
        "    numcuts = sum(numcuts)\n",
        "  else:\n",
        "    numcuts = (zlim[1]-zlim[0]) * len(filelist)\n",
        "  images = torch.zeros(numcuts,1, ylim[-1]-ylim[0],xlim[-1]-xlim[0])\n",
        "  labels = -torch.ones(numcuts)\n",
        "  nimgs = 0\n",
        "  nprocess = 0\n",
        "\n",
        "  for key in filelist:\n",
        "    file_path = os.path.join(datadir, key)\n",
        "    key = key.strip('.nii.gz')\n",
        "    scan  = labels_.loc[labels_.index.str.startswith(key+'_')]\n",
        "\n",
        "    value = nib.load(file_path).get_fdata()\n",
        "    scans_info.append((key, value.shape[2]))\n",
        "\n",
        "\n",
        "    label_t = torch.tensor(scan['label'][zlim[0]:zlim[-1]])\n",
        "    image_t = torch.from_numpy(value).float().permute(2, 0, 1).unsqueeze(1)\n",
        "\n",
        "    #有幾筆不是512x512\n",
        "    if (not cropmatch) and (image_t.shape[2] != 512 or image_t.shape[3] != 512):\n",
        "      image_t = cropping(image_t)\n",
        "\n",
        "    image_t, label_t = remove_false_images(image_t, label_t, dropFalse)\n",
        "    image_t, label_t = remove_positive_images(image_t, label_t, dropPos)\n",
        "\n",
        "    n_new = len(label_t)\n",
        "\n",
        "    images[nimgs:nimgs+n_new] = image_t\n",
        "    labels[nimgs:nimgs+n_new] = label_t\n",
        "    nimgs += len(label_t)\n",
        "    print(f\"Process {nprocess}: {key} finished...\")\n",
        "    nprocess += 1\n",
        "\n",
        "  print(f\"read {len(scans_info)} scans\")\n",
        "\n",
        "  #after drop\n",
        "  counts = count_zero(images)\n",
        "  images = torch.asarray(images[:len(images)-counts])\n",
        "  labels = labels[labels != -1]\n",
        "\n",
        "  return images, labels.float(), scans_info\n",
        "\n",
        "\n",
        "\n",
        "\n",
        "def save_model(model, modelname=\"\", dirname=\"\", root=os.path.realpath(\"/content/drive/MyDrive/AOCR2024/params\")):\n",
        "\n",
        "  if not model:\n",
        "    print(\"not given model\")\n",
        "    return\n",
        "\n",
        "  if not os.path.exists(root):\n",
        "    print(f\"{root} not exists!\")\n",
        "    return\n",
        "\n",
        "  print(f\"model will be saved under {root}\")\n",
        "\n",
        "  if not modelname:\n",
        "    modelname = input(\"請輸入模型儲存的檔名:\")\n",
        "  if not dirname:\n",
        "    dirname = input(\"請輸入模型儲存的資料夾:\")\n",
        "\n",
        "  filename = f\"{root}/{dirname}/{modelname}\"\n",
        "\n",
        "  if not os.path.exists(os.path.dirname(filename)):\n",
        "    os.mkdir(os.path.dirname(filename))\n",
        "\n",
        "  if os.path.isfile(filename+'.pth'):\n",
        "      print(f\"{filename}.pth exist.\")\n",
        "  else:\n",
        "      torch.save(model.state_dict(), f'{filename}.pth')\n",
        "\n",
        "  return filename\n",
        "\n",
        "\n",
        "\n",
        "def read_label(excel_path) -> pd.DataFrame:\n",
        "  \"\"\"Reads a csv file containing ground-truth.\n",
        "    The csv file should have two columns: 'id' and 'label'.\n",
        "  \"\"\"\n",
        "  with open(excel_path, 'r') as f:\n",
        "    df = pd.read_csv(f)\n",
        "    df.set_index('id', inplace=True)\n",
        "    return df\n",
        "\n",
        "\n",
        "\n",
        "def write_error(logpath, e, nprocess):\n",
        "  # with open(logpath, 'a') as f:\n",
        "    # f.write(f\"{nprocess:} error occured: {e}\\n\") ##! may stuck the program!!\n",
        "  print(f\"{nprocess:} error occured: {e}\\n\")\n",
        "\n",
        "\n",
        "def read_submission(excel_path) -> pd.DataFrame:\n",
        "  \"\"\"Reads a csv file containing submission file.\n",
        "    The csv file should follow the format given by Kaggle.\n",
        "  \"\"\"\n",
        "  with open(excel_path, 'r') as f:\n",
        "    df = pd.read_csv(f)\n",
        "    df.set_index('id', inplace=True)\n",
        "    return df\n",
        "\n",
        "\n"
      ],
      "metadata": {
        "id": "KLs_ItZEW0F1"
      },
      "execution_count": 47,
      "outputs": []
    },
    {
      "cell_type": "markdown",
      "source": [
        "## 列印結果"
      ],
      "metadata": {
        "id": "Fnggb7x7X8Q0"
      }
    },
    {
      "cell_type": "code",
      "source": [
        "def get_confusion(guess, truth):\n",
        "  right = guess == truth\n",
        "  wrong = np.logical_not(right)\n",
        "  TP = np.sum(np.logical_and(right, truth == np.ones(right.shape)))\n",
        "  TN = np.sum(np.logical_and(right, truth == np.zeros(right.shape)))\n",
        "  FN = np.sum(np.logical_and(wrong, truth == np.ones(wrong.shape)))\n",
        "  FP = np.sum(np.logical_and(wrong, truth == np.zeros(wrong.shape)))\n",
        "  return (TP,FP,FN,TN)\n",
        "\n",
        "\n",
        "\n",
        "def print_results(prediction, labels):\n",
        "  if torch.is_tensor(prediction):\n",
        "    prediction = prediction.cpu().numpy()\n",
        "  if torch.is_tensor(labels):\n",
        "    labels = labels.cpu().numpy()\n",
        "\n",
        "  TP,FP,FN,TN = get_confusion(prediction, labels)\n",
        "  print(f\"\\n\\\n",
        "      真實值\\n\\\n",
        "  預  +-----+-----+\\n\\\n",
        "  測| TP: {TP}| FP: {FP}|\\n\\\n",
        "  值| FN: {FN}| TN: {TN}|\\n\\\n",
        "      +-----+-----+ \\n\")\n",
        "\n",
        "  recall = TP/(TP + FN)\n",
        "  precision = TP/(TP + FP)\n",
        "  recall = 0 if np.isnan(recall) else recall.item()\n",
        "  precision = 0 if np.isnan(precision) else precision.item()\n",
        "  F1 = 0 if recall + precision == 0 else  (2*recall*precision/(recall+precision))\n",
        "\n",
        "  print(f\"{recall=}\\n{precision=}\\n{F1=}\\n\")"
      ],
      "metadata": {
        "id": "1gFEpWQ-X7nc"
      },
      "execution_count": 4,
      "outputs": []
    },
    {
      "cell_type": "markdown",
      "source": [
        "## 數據處理\n",
        "\n",
        "\n"
      ],
      "metadata": {
        "id": "UsmaGmRwWmxv"
      }
    },
    {
      "cell_type": "code",
      "source": [
        "def argumenting(images, labels, n=5):\n",
        "  \"\"\"\n",
        "  數據增強。\n",
        "  在images裡面把所有有闌尾炎的cut複製給定次數，並\n",
        "  插入回images的隨機位置裡面\n",
        "\n",
        "  Args:\n",
        "    images: 输入的图像数据\n",
        "    labels: 输入的标签数据\n",
        "    n: 每个样本複製多少次\n",
        "\n",
        "  Returns:\n",
        "    增強后的图像数据和标签数据\n",
        "  \"\"\"\n",
        "  where = (labels == True).nonzero(as_tuple=True)[0]\n",
        "  bad_images = images[where]\n",
        "\n",
        "  rep_imgs = bad_images.repeat(n, 1, 1, 1)\n",
        "  rep_labels = torch.ones(rep_imgs.shape[0], dtype=labels.dtype)\n",
        "\n",
        "  # import pdb\n",
        "  # pdb.set_trace()\n",
        "  # 隨機插入argumented圖片\n",
        "  nimg = images.shape[0]\n",
        "  rnd_pos = torch.randint(0, nimg, (rep_imgs.shape[0],))\n",
        "  images = torch.cat((images, rep_imgs), dim=0)\n",
        "  images = images[torch.argsort(torch.cat((torch.arange(nimg), rnd_pos)))]\n",
        "\n",
        "  # 對應對置插入標籤\n",
        "  labels = torch.cat((labels, rep_labels), dim=0)\n",
        "  labels = labels[torch.argsort(torch.cat((torch.arange(nimg), rnd_pos)))]\n",
        "\n",
        "  return images, labels\n",
        "\n",
        "def remove_false_images(images, labels, ratio):\n",
        "    \"\"\"\n",
        "    隨機在images裡面移除一定比例的無闌尾炎cut\n",
        "\n",
        "    Args:\n",
        "      images: 输入的图像数据\n",
        "      labels: 输入的标签数据\n",
        "      ratio: 移除的比例\n",
        "\n",
        "    Returns:\n",
        "      移除后的图像数据和标签数据\n",
        "    \"\"\"\n",
        "    # 找出 labels == 0 的索引\n",
        "    where_false = (labels == 0).nonzero(as_tuple=True)[0]\n",
        "    mask = torch.ones(len(images), dtype=torch.bool)\n",
        "    indices_filter = torch.randperm(len(where_false))[:int(len(where_false)*ratio)]\n",
        "    mask[where_false[indices_filter]] = False\n",
        "    images = images[mask]\n",
        "    labels = labels[mask]\n",
        "\n",
        "    return images, labels\n",
        "\n",
        "def remove_positive_images(images, labels, ratio):\n",
        "    # 找出 labels == 1 的索引\n",
        "    where_positive = (labels == 1).nonzero(as_tuple=True)[0]\n",
        "    mask = torch.ones(len(images), dtype=torch.bool)\n",
        "    indices_filter = torch.randperm(len(where_positive))[:int(len(where_positive)*ratio)]\n",
        "    mask[where_positive[indices_filter]] = False\n",
        "    images = images[mask]\n",
        "    labels = labels[mask]\n",
        "\n",
        "    return images, labels"
      ],
      "metadata": {
        "id": "6nLNS0uRWl5X"
      },
      "execution_count": 5,
      "outputs": []
    },
    {
      "cell_type": "markdown",
      "source": [
        "## 其他"
      ],
      "metadata": {
        "id": "BdwzEjFhbR4z"
      }
    },
    {
      "cell_type": "code",
      "execution_count": 6,
      "metadata": {
        "id": "7dmJYugUB_3w"
      },
      "outputs": [],
      "source": [
        "\n",
        "def count_zero(images):\n",
        "  count = 0\n",
        "  for image in images:\n",
        "    if not torch.any(image):\n",
        "      count += 1\n",
        "  return count\n",
        "\n",
        "def cropping(image):\n",
        "  if image.shape[2] != 512:\n",
        "    start = (image.shape[2] - 512) // 2\n",
        "    end = start + 512\n",
        "    image = image[:, :, start:end, :]\n",
        "\n",
        "  if image.shape[3] != 512:\n",
        "    start = (image.shape[3] - 512) // 2\n",
        "    end = start + 512\n",
        "    image = image[:, :, :, start:end]\n",
        "  return image\n",
        "\n",
        "\n",
        "\n",
        "\n",
        "def custom_sort_key(val):\n",
        "    parts = val.split('_')\n",
        "    if len(parts) == 2 and parts[1].isdigit():\n",
        "        return (parts[0], int(parts[1]))\n",
        "    return (parts[0], -1)  # 使沒有_(數字)的id排最前面\n",
        "\n",
        "\n",
        "def isgpu():\n",
        "    \"\"\"檢查是否有 CUDA 支持的 GPU\"\"\"\n",
        "    if torch.cuda.is_available():\n",
        "        device = torch.device(\"cuda\")\n",
        "        print(\"GPU is available\")\n",
        "    else:\n",
        "        device = torch.device(\"cpu\")\n",
        "        # raise(\"GPU not available\")\n",
        "    return device\n"
      ]
    },
    {
      "cell_type": "code",
      "execution_count": 7,
      "metadata": {
        "id": "Ud4x-GeICQxw",
        "outputId": "8152f753-9529-494f-b1fd-1b635865fb7d",
        "colab": {
          "base_uri": "https://localhost:8080/"
        }
      },
      "outputs": [
        {
          "output_type": "stream",
          "name": "stdout",
          "text": [
            "GPU is available\n"
          ]
        }
      ],
      "source": [
        "device = isgpu()"
      ]
    },
    {
      "cell_type": "markdown",
      "metadata": {
        "id": "lV66iCZmCrBJ"
      },
      "source": [
        "# 掛載\n"
      ]
    },
    {
      "cell_type": "code",
      "execution_count": 8,
      "metadata": {
        "id": "bKUXzQOdBRFQ",
        "outputId": "745739c5-c1c6-4281-f5b4-53c1368272f0",
        "colab": {
          "base_uri": "https://localhost:8080/"
        }
      },
      "outputs": [
        {
          "output_type": "stream",
          "name": "stdout",
          "text": [
            "Mounted at /content/drive/\n"
          ]
        }
      ],
      "source": [
        "from google.colab import drive\n",
        "drive.mount('/content/drive/',)"
      ]
    },
    {
      "cell_type": "code",
      "source": [
        "!pwd"
      ],
      "metadata": {
        "id": "5qbhdYNrGRxf",
        "outputId": "0ab7e9f3-f6f0-4659-bc2a-18346ac02f5e",
        "colab": {
          "base_uri": "https://localhost:8080/"
        }
      },
      "execution_count": null,
      "outputs": [
        {
          "output_type": "stream",
          "name": "stdout",
          "text": [
            "/content\n"
          ]
        }
      ]
    },
    {
      "cell_type": "markdown",
      "source": [
        "Use service account to access googledrive"
      ],
      "metadata": {
        "id": "CwxsNMJG9E-V"
      }
    },
    {
      "cell_type": "code",
      "source": [
        "import io\n",
        "import googleapiclient.discovery\n",
        "from google.auth.exceptions import TransportError\n",
        "from google.oauth2.service_account import Credentials\n",
        "from googleapiclient.http import MediaIoBaseDownload\n",
        "\n",
        "DriveAPIcredentials = r\"/content/drive/MyDrive/AOCR2024/creds/appendicitis-407217-c2f141040794.json\"\n",
        "credentials = Credentials.from_service_account_file(DriveAPIcredentials,scopes=[\"https://www.googleapis.com/auth/drive\"])\n",
        "drive_service = googleapiclient.discovery.build('drive', 'v3', credentials=credentials)"
      ],
      "metadata": {
        "id": "p46LlGr13crr"
      },
      "execution_count": 9,
      "outputs": []
    },
    {
      "cell_type": "markdown",
      "source": [
        "# 資料下載"
      ],
      "metadata": {
        "id": "3OZg-WX2NgQL"
      }
    },
    {
      "cell_type": "markdown",
      "source": [
        "preparing the folder on colab and setting path\n",
        "\n",
        "913 in 39 mins"
      ],
      "metadata": {
        "id": "S1ngtGDK-lgT"
      }
    },
    {
      "cell_type": "code",
      "source": [
        "drive_rootdir = \"/content/drive/MyDrive/AOCR2024\"\n",
        "labelpath = '/content/drive/MyDrive/AOCR2024/TrainValid_ground_truth.csv'\n",
        "\n",
        "datadir =\"Cropped_60-316_150-406_11-71/Train_Valid_Image_cropped\"\n",
        "if not os.path.exists('/content/' +datadir):\n",
        "  os.makedirs(datadir)\n"
      ],
      "metadata": {
        "id": "dzzWlsmwlPCZ"
      },
      "execution_count": 13,
      "outputs": []
    },
    {
      "cell_type": "code",
      "source": [
        "from kora.xattr import get_id\n",
        "\n",
        "files_on_drive = os.listdir(drive_rootdir+'/'+datadir)\n",
        "files_in_localdir = os.listdir(f\"/content/{datadir}\")\n",
        "files_to_download = [f for f in files_on_drive if f not in files_in_localdir]\n",
        "files = [(filename, get_id(f'{drive_rootdir}/{datadir}/{filename}')) for filename in files_to_download]\n",
        "\n",
        "\n",
        "for idx, (name, file_id) in enumerate(files):\n",
        "\n",
        "  if not file_id:\n",
        "    print(f\"未找到文件: {name}\")\n",
        "    continue\n",
        "\n",
        "  # 下载文件\n",
        "  request = drive_service.files().get_media(fileId=file_id)\n",
        "  fh = io.BytesIO()\n",
        "  downloader = MediaIoBaseDownload(fh, request)\n",
        "\n",
        "  done = False\n",
        "  while not done:\n",
        "    status, done = downloader.next_chunk()\n",
        "    # print(f\"下载 {name} 进度: {int(status.progress() * 100)}%\")\n",
        "\n",
        "  # 将文件内容写入本地文件\n",
        "  local_file_path = os.path.join('/content', datadir, name)\n",
        "\n",
        "  with open(local_file_path, 'wb') as f:\n",
        "    fh.seek(0)\n",
        "    f.write(fh.read())\n",
        "\n",
        "  print(f\"{idx+1}/{len(files)}: {name} downloaded\")\n"
      ],
      "metadata": {
        "colab": {
          "base_uri": "https://localhost:8080/"
        },
        "id": "vFY-Mi1k6uS8",
        "outputId": "3e36b8e4-2652-4971-e9d6-e6123d93f19e"
      },
      "execution_count": 19,
      "outputs": [
        {
          "output_type": "stream",
          "name": "stdout",
          "text": [
            "1/913: Zx1950A84DEF7878F0F9E32AF9F820CA049C5880BA46C37601.nii.gz downloaded\n",
            "2/913: Zx19DC911CF61B42EE4F9E967F39224A9297426E7C6AC03D8E.nii.gz downloaded\n",
            "3/913: Zx19DC911CF61B42EEA04DF8635951103535C9FB92AD779276.nii.gz downloaded\n",
            "4/913: Zx1A3FF9BBC87A0A6379CA804FA7025BE5E55D98B90E6E911E.nii.gz downloaded\n",
            "5/913: Zx19A878BE9D7FCDD564CF0D0630D0E05F305D03B734E6FBE5.nii.gz downloaded\n",
            "6/913: Zx1A8AFCB885E0D8BC44A0ED9AEF59DD90D90777A8345747EE.nii.gz downloaded\n",
            "7/913: Zx1A447D96D387B7C45053917769DF2A154E9A765A87D51A24.nii.gz downloaded\n",
            "8/913: Zx1A5E6FEE5BA94F6D9C91E1BBACAE6959AB96EB6442A0524B.nii.gz downloaded\n",
            "9/913: Zx1AC280D33D45A2973879438429EB6E09CB3DF1914B26DED8.nii.gz downloaded\n",
            "10/913: Zx1BBA21D9DA37F2D063D4A85F624E8D72C0410728E334B442.nii.gz downloaded\n",
            "11/913: Zx1BDF4C967678080E6779C2713B10F3B23CE3C1CC7F2CC8BB.nii.gz downloaded\n",
            "12/913: Zx1C6B814369828D2A1FE29B8B7CD4D21752A8CB1AE56781F5.nii.gz downloaded\n",
            "13/913: Zx1ECC8B15EE2388642B2C05331250EEB951BE580304D38622.nii.gz downloaded\n",
            "14/913: Zx1D4DA6EB30F0E21BAE9B15E262721240DDC420DD988AAC16.nii.gz downloaded\n",
            "15/913: Zx1E550FA95B8A7552A06CE65E3BEED1EE034D46B71AC2990F.nii.gz downloaded\n",
            "16/913: Zx1F0C08B15A2FA4B85694E240248D208FBA9CDCFA1B19D3E5.nii.gz downloaded\n",
            "17/913: Zx1F0951EDF2B31E5E932707FD021961BFCF8586E917ABD120.nii.gz downloaded\n",
            "18/913: Zx1ED66EE4F0492C4C63EED347F5480C328DED4C1955880614.nii.gz downloaded\n",
            "19/913: Zx2030E3E34625286F57D63B10F1912D4A18F991C22F6463A1.nii.gz downloaded\n",
            "20/913: Zx1F83D85BC2A7A55A165937332E32D7646399FC21D7283669.nii.gz downloaded\n",
            "21/913: Zx1F2D6E616335D5D7A26B93C9CBB01658781603DFF3B46DF8.nii.gz downloaded\n",
            "22/913: Zx2030E3E34625286FAA000B1D4CFF2D07BD489B513C82E9A8.nii.gz downloaded\n",
            "23/913: Zx208D824934941221A20E8F9C315A6AF45B61E20DB5B3F4E5.nii.gz downloaded\n",
            "24/913: Zx2030E3E34625286FA6745CAFEF3F4CD81DEDDFA875C5EC23.nii.gz downloaded\n",
            "25/913: Zx20BDA35C14C29E61E035F264496CD4F4F97D288082512F40.nii.gz downloaded\n",
            "26/913: Zx215A14F9057233B70538C32D1748F817319662FD34E6690A.nii.gz downloaded\n",
            "27/913: Zx213F87C44A60B71BFE117EB0EB9A5870E0CEB9197701FF60.nii.gz downloaded\n",
            "28/913: Zx226CB151F5DE15D8C8C6E3F3EE8BC533BDBE65DE1A805731.nii.gz downloaded\n",
            "29/913: Zx220A8CBFA565CB8498E6FB702C7E03B920F2361EE7B62A6D.nii.gz downloaded\n",
            "30/913: Zx239BC1FBE61089C9B2368A86E36BDF3136292547D9C0EBC4.nii.gz downloaded\n",
            "31/913: Zx23BEFE24BACE6B249C37C240B74348796802474012995344.nii.gz downloaded\n",
            "32/913: Zx22D56AA7E544151923FF1A90F02F59919EC170C85187649E.nii.gz downloaded\n",
            "33/913: Zx23BEFE24BACE6B24798B7B8ADA70E5DE0151270247B6EB07.nii.gz downloaded\n",
            "34/913: Zx23CE39ADA19715437B08F04B4F1E962B9E854E1DE01B814F.nii.gz downloaded\n",
            "35/913: Zx23F8F44ED97A93B2C3487F13DBE296C7A694804866EFF350.nii.gz downloaded\n",
            "36/913: Zx246E98149CE2B848DD11D93B1DAC382E56997966B5FB4B1A.nii.gz downloaded\n",
            "37/913: Zx25DFF1358FA299AFC3345BEE8BCD80031225017D9F4DD365.nii.gz downloaded\n",
            "38/913: Zx24711EE075325408C49B564C1D646B2F1A6BE15A31716D85.nii.gz downloaded\n",
            "39/913: Zx25DFF1358FA299AFF037CA3B98580B73B25B4E2B3B4172F3.nii.gz downloaded\n",
            "40/913: Zx25DFF1358FA299AFD313E29BFC17C150096D2B97BDB7E2ED.nii.gz downloaded\n",
            "41/913: Zx247C48E8B7D1EABBA1DEF5CD4AC1D8E8ACAFA8C759A85107.nii.gz downloaded\n",
            "42/913: Zx2727C103B14E93A07709A14282274DD35B6A23AA6127CB0B.nii.gz downloaded\n",
            "43/913: Zx265C799B18CE4D6DE5A3671D65F5B018D713919204868A0F.nii.gz downloaded\n",
            "44/913: Zx27ECA58C0AE0031815C0AE04CA9002F10E1FCB7F5686AE48.nii.gz downloaded\n",
            "45/913: Zx28A11914F19501C527FADC7432C8E020873181C0B365E863.nii.gz downloaded\n",
            "46/913: Zx2821AF61A3DBB7F40C01DEA2F7BBAE3C7FB59CA82BC55B55.nii.gz downloaded\n",
            "47/913: Zx291FD6850838B643BC1A7878279A2373C32A719B91C042EC.nii.gz downloaded\n",
            "48/913: Zx28CA9394EF10537307B5B8DDC24D756E20354ED9E8B3237A.nii.gz downloaded\n",
            "49/913: Zx28C2905F39B77B64E242963BF9BA3069E135FDCC8A782720.nii.gz downloaded\n",
            "50/913: Zx29249C3340706D8A658BC96F288DE057693CDCA0C50018FF.nii.gz downloaded\n",
            "51/913: Zx29D944DDC12D73E641FD78628DA3CCDAD0CCD13F9C098056.nii.gz downloaded\n",
            "52/913: Zx29D944DDC12D73E608734644C33D08170EC666B3E934AE93.nii.gz downloaded\n",
            "53/913: Zx2933A24F5182C585C1ADECFA9FF9EDDB3F9432CBB9E30A24.nii.gz downloaded\n",
            "54/913: Zx2AAE948072335FDABDFFA2D972B5638F4069A5D8D0B432B8.nii.gz downloaded\n",
            "55/913: Zx2A1210AAD0C7673D871C9B73A00CC394F65B0A224D6EABC9.nii.gz downloaded\n",
            "56/913: Zx2A3C9F90B97FC5CF48D8F0046D61E7AA7B868D85B83054AE.nii.gz downloaded\n",
            "57/913: Zx2B401975A0A7FE26B9906E1047BB2A92BC4D80CCC69F0DC8.nii.gz downloaded\n",
            "58/913: Zx2AB19BB5DD94C321AF90101CD847A97A335713B9A85CD6E3.nii.gz downloaded\n",
            "59/913: Zx2AF7910D2CCF58C07FF4E3EFC228F15E7DBD8E71193CA7BF.nii.gz downloaded\n",
            "60/913: Zx2BDF57DC47BEBC12497878BED38545FC731D32F176C58DC9.nii.gz downloaded\n",
            "61/913: Zx2BDF57DC47BEBC12CC3C156DC1BCE0C07D16D40692007D96.nii.gz downloaded\n",
            "62/913: Zx2BCE9A7537D7DB08D8254B88EDFA79D2B5FAD113ED12B54E.nii.gz downloaded\n",
            "63/913: Zx2B7652752183E77F7E8BC4D7F8608C151B41BFCA53475095.nii.gz downloaded\n",
            "64/913: Zx2DD7E0642A4827E03C235724922D866A37D619A859B89A73.nii.gz downloaded\n",
            "65/913: Zx2D185653AC6B5E02F95806D73E5A84A02024E037C1DEB887.nii.gz downloaded\n",
            "66/913: Zx2D76DB29AAD2347759160B311EE70109FFF026792C16979A.nii.gz downloaded\n",
            "67/913: Zx2D43BBDA962A8DC656EF3C61E52CC75604BAD0E6AD08F938.nii.gz downloaded\n",
            "68/913: Zx2E111520B77E85EE6229F346D75F64EC7CDFCA78821E4341.nii.gz downloaded\n",
            "69/913: Zx2E05E179442C54DBB858D2E4A4793809F073143901DE68FF.nii.gz downloaded\n",
            "70/913: Zx2DFEA8EA90862E241A9E13821C48D3B2E872D0C2A8A32B0B.nii.gz downloaded\n",
            "71/913: Zx2E37BB6B0F79F459E7F8431E590AE9020866183BAC616B5E.nii.gz downloaded\n",
            "72/913: Zx2FA626656496845ED534D6B5B760541A21647F2F5D42B581.nii.gz downloaded\n",
            "73/913: Zx2FA626656496845ED6C525AEB7549C132AA41B54CE30EA53.nii.gz downloaded\n",
            "74/913: Zx2FA626656496845ECE881190B184E327F4D8061B2B2900DE.nii.gz downloaded\n",
            "75/913: Zx2FDB8744E9FC6EA5EF801273D38E91C4DF8A76ABD71C8668.nii.gz downloaded\n",
            "76/913: Zx2FDB8744E9FC6EA517DB8C7AF02186F20EB405618EAD35AA.nii.gz downloaded\n",
            "77/913: Zx3093899D9E29307AC4914C2AADFC81EE001ADB65AC761C42.nii.gz downloaded\n",
            "78/913: Zx30EB98600B79F8C276472CFEDB2C86FD69F24202CC043683.nii.gz downloaded\n",
            "79/913: Zx30D54DEFE5A1F6690A387C332411376210FE4A5839471C12.nii.gz downloaded\n",
            "80/913: Zx30D3D7722571163D6FDAC8D42EA822DE9309AA749507E680.nii.gz downloaded\n",
            "81/913: Zx31F5838671135830967C7971C05599F30898ECE6B723A12B.nii.gz downloaded\n",
            "82/913: Zx3140C2C02EDB97CF639FD86D9858631782AA626B70EBD723.nii.gz downloaded\n",
            "83/913: Zx310CE606A29627070A772BE54B8CD0BA3E47BAE4172C4EB0.nii.gz downloaded\n",
            "84/913: Zx328EF1C62C85DF795D818DD80646CAB28474E58B37DFEDA1.nii.gz downloaded\n",
            "85/913: Zx3306AD6CF1A7BFC1BF6522E172650664AA1DBB0EE61F704B.nii.gz downloaded\n",
            "86/913: Zx31F707B0E35DF9B8B4A76C9966A99CF199418456428E600C.nii.gz downloaded\n",
            "87/913: Zx33E6FDDA6850D397D243D3A55567D29DABFB0503956B9083.nii.gz downloaded\n",
            "88/913: Zx33560A1F5550D0D3F5A3877D204D89E91636D7B0E10E71F0.nii.gz downloaded\n",
            "89/913: Zx339923E0B41545328BB08A03DF57E5D8769CDC9340662F72.nii.gz downloaded\n",
            "90/913: Zx347D7961BD3B95547A18229A9DEB77A9C5B2216DF6890865.nii.gz downloaded\n",
            "91/913: Zx34C115FB55D8474D6F19B61FC5388EE4CF710E60F31443C5.nii.gz downloaded\n",
            "92/913: Zx35277990C2DBE37B4185DB808829526C76F8D6CDBC5C7CD7.nii.gz downloaded\n",
            "93/913: Zx35E3E6E7CBA729A68C78E99308353E84782E6E91469ECDC3.nii.gz downloaded\n",
            "94/913: Zx35E3E6E7CBA729A6039A604D4E5030CDE9F1D1B8E4B25F23.nii.gz downloaded\n",
            "95/913: Zx357B92BC3020A6B71E71EAAE33CC0DF854572A263A40A123.nii.gz downloaded\n",
            "96/913: Zx35E3E6E7CBA729A69FFB90491C3F4F8A7CCC1928F15531FE.nii.gz downloaded\n",
            "97/913: Zx35E3E6E7CBA729A69C4D5E5FF5C1FF0B522175A77B8C4CB2.nii.gz downloaded\n",
            "98/913: Zx35E3E6E7CBA729A6FC8BC9B2BD86D23A421B431FF734CD90.nii.gz downloaded\n",
            "99/913: Zx35E3E6E7CBA729A6FB73B987CF05071ECC712D25113641E4.nii.gz downloaded\n",
            "100/913: Zx368E67F85BF96985DC439B3FE00ABF3E804296FA6D8C771B.nii.gz downloaded\n",
            "101/913: Zx36B440051EEC06B876C7C58CC95BE6A4967D53C10BED4B2D.nii.gz downloaded\n",
            "102/913: Zx36871521E7690C7E8E2298CBEBC159037F9562AFAD8FDFF8.nii.gz downloaded\n",
            "103/913: Zx379A5F7814F0914A5DDC1624A2FB846629F088027004D2A6.nii.gz downloaded\n",
            "104/913: Zx37F988F53E9C391591766FE9726D7E92F0D6153B245C18BC.nii.gz downloaded\n",
            "105/913: Zx37CF014F6D0060337C7856CEE7CB09E488C90A330822072D.nii.gz downloaded\n",
            "106/913: Zx3889EF0BF9B77B23721E34BC2031D10FE9DF1A9419F4BB2E.nii.gz downloaded\n",
            "107/913: Zx379B34C33DA0FAC86BD8ADFCFC1B2CF739D4C90FEFD47551.nii.gz downloaded\n",
            "108/913: Zx39297C72B360D9264B30FF2723EADD32A2EA4EE4794DFAFB.nii.gz downloaded\n",
            "109/913: Zx396059C7C80AF72A2B9B5987A8DB6F28222500A9F881535A.nii.gz downloaded\n",
            "110/913: Zx392DC2738CF9E3FE3D894559CF117E10EF36BBDC218E7896.nii.gz downloaded\n",
            "111/913: Zx3A3EABEA40351DA0CAFC4329114A1D243B5675706C49F661.nii.gz downloaded\n",
            "112/913: Zx3A219BC45F1B5BAB2AF0AFDABDA623D33DD885F24C4D36CE.nii.gz downloaded\n",
            "113/913: Zx3A5E7419657D5644214B6C229CD7862ED9D7FC5DBFBD56F6.nii.gz downloaded\n",
            "114/913: Zx3A5E7419657D5644ED0DF48D1BD528DE82D174588DE43B26.nii.gz downloaded\n",
            "115/913: Zx3AB91ED4F2F9AA3B7A57258D3F98FCCD7E26E12DDE6A45B3.nii.gz downloaded\n",
            "116/913: Zx3AB91ED4F2F9AA3B6F1005851941D52458DDAD3716622571.nii.gz downloaded\n",
            "117/913: Zx3BBC3ED501BABA5D16E5B523FCD04D4C2AB0E94792A4401E.nii.gz downloaded\n",
            "118/913: Zx3B1D6C9714B7C54C43C7170067F7F17876E134172A8F59AF.nii.gz downloaded\n",
            "119/913: Zx3AB91ED4F2F9AA3BBF9B2425E1278FBEC919A0ACCDC4A02B.nii.gz downloaded\n",
            "120/913: Zx3C73BAEB9FF5DF9B3A6958528BDC3FC0CA1D8180877BACB7.nii.gz downloaded\n",
            "121/913: Zx3CAF1DB7C360026E40C13D13A8990245800B461709D2A425.nii.gz downloaded\n",
            "122/913: Zx3C911819A0051992F399041B71D79C707FB5FD77A1B605A8.nii.gz downloaded\n",
            "123/913: Zx3CDC546A37075405DFB8BF11A7BE8449A084A84EF4EA554E.nii.gz downloaded\n",
            "124/913: Zx3CDCA9F641D62305C95CE3BD60D231589DA1BB1068CDC923.nii.gz downloaded\n",
            "125/913: Zx3CAF1DB7C360026EC045CCBAF6DD38283021AEF22B25D811.nii.gz downloaded\n",
            "126/913: Zx3CF258177C07C53E74433236D3E2AC22B45A8FFEC3DF495E.nii.gz downloaded\n",
            "127/913: Zx3D2CD874E8BDB341DEA1814FADD0130D265176FA561C0799.nii.gz downloaded\n",
            "128/913: Zx3D212F640E8BAB683711B0A2B808E94D20EC94C210350D4F.nii.gz downloaded\n",
            "129/913: Zx3D83B53CBABAA156CAF6096C44B4820E38236E4FB31E4A61.nii.gz downloaded\n",
            "130/913: Zx3E54BDA9793D4E7B0A260267CD3901E9B5ADECDD307E0E32.nii.gz downloaded\n",
            "131/913: Zx3D9CAD8F3C4AD007279632AA3B99D80B2120EC4D76E81C98.nii.gz downloaded\n",
            "132/913: Zx3E70E64F4B2979E3961895A1F7F48F5A61F3CA426349C95C.nii.gz downloaded\n",
            "133/913: Zx3EE32B570B8DB6863F4DA6447AE91C61D04AFF02F7E64F04.nii.gz downloaded\n",
            "134/913: Zx3F0AA5B24089383F472A355FE4001AAA047B39E0C9D9D4DD.nii.gz downloaded\n",
            "135/913: Zx3F0AA5B24089383F0C3CCA7C081EF5810B5C8B85C069D780.nii.gz downloaded\n",
            "136/913: Zx3EFC704096878550259560DBD492CCDAC89B53588BA1B90B.nii.gz downloaded\n",
            "137/913: Zx3F283561EB5064407786E2685CF0EEF42F1C052BB005B1E0.nii.gz downloaded\n",
            "138/913: Zx3FBF0E56F75857106A79F089DD99578868683577250E1038.nii.gz downloaded\n",
            "139/913: Zx401C2F09F8961880B81DE71DC3591264C061FA1F64536698.nii.gz downloaded\n",
            "140/913: Zx3FAF29A82573ABC3779238FCADF11919914026A8EFAB5E98.nii.gz downloaded\n",
            "141/913: Zx40F840D637C6BE3A1BE6C9EC9082C0F9FC4989466ABF83AD.nii.gz downloaded\n",
            "142/913: Zx40816DF96E52884DF695E52EF19263822DE95B49F0649B4B.nii.gz downloaded\n",
            "143/913: Zx40F840D637C6BE3A6FE087E78441E9BEEADE6FB46EED707E.nii.gz downloaded\n",
            "144/913: Zx418C74DF2B303C5B8E30971984584650747FFD8B71B7CF90.nii.gz downloaded\n",
            "145/913: Zx41EBD2C0D9F5ED631FEF89B057AA2B0E20A73098795E7D69.nii.gz downloaded\n",
            "146/913: Zx4266C1F9BEFA9C6A16FD59791D1CC9569A8EB0209378ED9A.nii.gz downloaded\n",
            "147/913: Zx412666ED5D058647EA3C1C62B7B2E3EA254193AAC85F3CC1.nii.gz downloaded\n",
            "148/913: Zx4266C1F9BEFA9C6A74B3118E30AB5E08510E6818B3513FB9.nii.gz downloaded\n",
            "149/913: Zx4266C1F9BEFA9C6AAEE9EF65BFE5E6191A7B2B2AB0382526.nii.gz downloaded\n",
            "150/913: Zx4266C1F9BEFA9C6AA0DE3C909EB501A8AB41DBF83C8A0110.nii.gz downloaded\n",
            "151/913: Zx427D8F8A6DEFF9BF809FB207806C6707A43B2B9D9E3D4E72.nii.gz downloaded\n",
            "152/913: Zx4285BE9103DDFF6D87B65634773FDAA54C9C783C27505529.nii.gz downloaded\n",
            "153/913: Zx427D8F8A6DEFF9BF7B2EF54E37E95B76F6153BDFDE9D9A48.nii.gz downloaded\n",
            "154/913: Zx4343A182A4B16B07C4E9DC4CC327DCA2B2D54632240F5179.nii.gz downloaded\n",
            "155/913: Zx436CAA0C532C93523AA7FB9BC51F9A3737EAFA1D61767CC4.nii.gz downloaded\n",
            "156/913: Zx43FC969EA95F318B07022BABAE9D90249E0CFACFF25F792B.nii.gz downloaded\n",
            "157/913: Zx441D6426B1525578210227CCB9A039239447D429709EFAF7.nii.gz downloaded\n",
            "158/913: Zx447638CD7DD8D149D3B2E284E3E26B33E9999753A141C5C8.nii.gz downloaded\n",
            "159/913: Zx447638CD7DD8D149C3BEF257EABAABF4C46F734C71AE6981.nii.gz downloaded\n",
            "160/913: Zx44DDADDF8B1E5B444E883375CD5462450F3905013F5C97C7.nii.gz downloaded\n",
            "161/913: Zx4553C091B4BEFA9D8CC7280E593AFF94F9E98724858A0654.nii.gz downloaded\n",
            "162/913: Zx4553C091B4BEFA9D501DF368358E07BAD8C6CB96EF0E3653.nii.gz downloaded\n",
            "163/913: Zx455FA34A3BE4D4684F10C3599344433D802C092D1BF1A9D5.nii.gz downloaded\n",
            "164/913: Zx455FA34A3BE4D468CEECAB6E05B340B28E79975DC74FB194.nii.gz downloaded\n",
            "165/913: Zx457D19099A1876FB80E029E8598A9DF202D02CB9E139BFEF.nii.gz downloaded\n",
            "166/913: Zx45F13921C226C17F462A75B6CC7838AA21C2D3021AC18ACC.nii.gz downloaded\n",
            "167/913: Zx45F13921C226C17F9A7B30076DC71FEFEF892B3B7EF4B61E.nii.gz downloaded\n",
            "168/913: Zx45F13921C226C17F102A4F606603CDDBEA75BE28A72E2BE0.nii.gz downloaded\n",
            "169/913: Zx45FD7D8A9273DD8852F512C92FB230C54878555B75598939.nii.gz downloaded\n",
            "170/913: Zx46924D16A41AB87F8EA418222C570A092D58F528C0E17C9C.nii.gz downloaded\n",
            "171/913: Zx46E8D3737980BCE318ECFF231D8E8E68BADF834D2C904812.nii.gz downloaded\n",
            "172/913: Zx46869E52A3F149239D84F215C0B9EDB557D049DAE7C12BED.nii.gz downloaded\n",
            "173/913: Zx46869E52A3F149236E92AFF4B153AF238C79D10725FA71D7.nii.gz downloaded\n",
            "174/913: Zx46E8D3737980BCE3A7193955279C6617A926C56BF6DC2916.nii.gz downloaded\n",
            "175/913: Zx4725243262554FDCE62048D48AED30EB82CCA45F300E2133.nii.gz downloaded\n",
            "176/913: Zx47787568849DA67380F1BECE18D8185F851E92DEB0B22466.nii.gz downloaded\n",
            "177/913: Zx4725243262554FDC2B80C3627CAE5B3951CB1B81134D392D.nii.gz downloaded\n",
            "178/913: Zx47787568849DA673E708BFD5C10F6C55109F48B2BD0220CF.nii.gz downloaded\n",
            "179/913: Zx47F849224B4386F104A777D40C2EB9E46E8D4D948E0DF149.nii.gz downloaded\n",
            "180/913: Zx47C8EC892A72C9A3A5F181DDD2EC43B051D9CB1FF54C714A.nii.gz downloaded\n",
            "181/913: Zx48E620D924CB07B41E645DBEC9D7AA57AE2EAC78CA45BC5A.nii.gz downloaded\n",
            "182/913: Zx496C13E394BED37D1BCB2A89DBC1FECFAE893DEB04DC773D.nii.gz downloaded\n",
            "183/913: Zx47F849224B4386F1F88873AE64402F3E1783E527C68B174C.nii.gz downloaded\n",
            "184/913: Zx493F535A5628330079FF05762DFFCD954E2E98F33925D070.nii.gz downloaded\n",
            "185/913: Zx4B6596BC6B8F4E453F94CD18A4F442557E1C337ABE838769.nii.gz downloaded\n",
            "186/913: Zx4A3A3EB7F67074DEA9C5668137108C5BDFFE5AD82B6C9968.nii.gz downloaded\n",
            "187/913: Zx4B6596BC6B8F4E45528220BA49716ABC5A1D36C7AB70748C.nii.gz downloaded\n",
            "188/913: Zx4B3FCDA4F002E6F7DC5B4E3A1C0B374F878D53CD81E1E43A.nii.gz downloaded\n",
            "189/913: Zx4CD16CC71906F530428B1C4283EAB7915D7BF3C29CF4EA15.nii.gz downloaded\n",
            "190/913: Zx4BBBE8ED4ABA846DB16B6B6D6836D742D8EF280D0E45CD33.nii.gz downloaded\n",
            "191/913: Zx4C840C22A6CE7B1E6D6CFD56353E464340097A6A450AD1FF.nii.gz downloaded\n",
            "192/913: Zx4DC770B0CEF5E3B5CACF89B1C31282A563AA1186358D099C.nii.gz downloaded\n",
            "193/913: Zx4CD16CC71906F530977DB9230FE057C82495D1E34DF0FE3D.nii.gz downloaded\n",
            "194/913: Zx4CD16CC71906F53098070226ADFA18E786514A2D5955BC24.nii.gz downloaded\n",
            "195/913: Zx4E65E57D92E3B1AACBD961CAB8541E13A5975685B7E45EDB.nii.gz downloaded\n",
            "196/913: Zx4DEAB0155B0B49D7A6C97DC1BAFCA3A840D5FA76882F3909.nii.gz downloaded\n",
            "197/913: Zx4EAFC9446FC2FDA96475B0F321C447A4D8889B907C7D9914.nii.gz downloaded\n",
            "198/913: Zx4ED2135FF0A55C3D7A4B8D120D480744B2AB59059A00E138.nii.gz downloaded\n",
            "199/913: Zx4ED2135FF0A55C3D7F1BAED00A9DB4024C7C414B49313DFD.nii.gz downloaded\n",
            "200/913: Zx4ED2135FF0A55C3DDB2DCB18431F46E19C069FB908C473B6.nii.gz downloaded\n",
            "201/913: Zx4ED2135FF0A55C3D813B23BFE9225DC9B3593766EF832279.nii.gz downloaded\n",
            "202/913: Zx4ED2135FF0A55C3DE2379661289AFC75E374FE6B5DC4C7AC.nii.gz downloaded\n",
            "203/913: Zx4F4C96D1D988000B83C914F75CF613B65D523A6FE968772C.nii.gz downloaded\n",
            "204/913: Zx4EE17C1A79A4E37821C471B90E1694F15799373A2669C6E7.nii.gz downloaded\n",
            "205/913: Zx4ED2135FF0A55C3DF37F0C3D518BEF91E06140DA413A2713.nii.gz downloaded\n",
            "206/913: Zx4EE17C1A79A4E378EA88BEA9904B740828B28D6018979D29.nii.gz downloaded\n",
            "207/913: Zx4FF8FA975791743419B6BAB67980A5A742C8B1F1C7CA1D53.nii.gz downloaded\n",
            "208/913: Zx4F7C67B1B416E7F41724AED528381DCE36E232E1B962B78A.nii.gz downloaded\n",
            "209/913: Zx501820D23A5CB94739758DB1736517B8A4ACBE83C6927DB9.nii.gz downloaded\n",
            "210/913: Zx504AF1B40D661E3182C6531F7B46480E7F41078D06CDCFAF.nii.gz downloaded\n",
            "211/913: Zx504AF1B40D661E318808E342755F5F8F5F2176329B1099FC.nii.gz downloaded\n",
            "212/913: Zx50A6A79EE36E3CCD5AA6014B76839AC1847143AD49447EA3.nii.gz downloaded\n",
            "213/913: Zx5018996AE3D312B7C7CC6D1D0E2D547ED07A494F0D3A709E.nii.gz downloaded\n",
            "214/913: Zx516EDA06AFC86A96DEF620D64057D24304932BBB29032A2C.nii.gz downloaded\n",
            "215/913: Zx516EDA06AFC86A96E299B23DAF55DAA97F52807639AA71C7.nii.gz downloaded\n",
            "216/913: Zx516EDA06AFC86A96CF83E05B1E2C72062F6B42B007CCC45F.nii.gz downloaded\n",
            "217/913: Zx516EDA06AFC86A9609937263C8F528620516202A547FC1BA.nii.gz downloaded\n",
            "218/913: Zx52A1B18E58F40C8FB77C2A69696B8742CD80BDED294F9DEA.nii.gz downloaded\n",
            "219/913: Zx51A80B3E99993CFE8D49D032D315D5AA7470D7B51AAA3BA5.nii.gz downloaded\n",
            "220/913: Zx51CD05AAA1BF2AF178052BEEE6720CCE39FDAF9ABB7F7EBF.nii.gz downloaded\n",
            "221/913: Zx52F220173F215CEE2AF44E2741D07661594B72C69AE57DEE.nii.gz downloaded\n",
            "222/913: Zx53427F159B58FC850825C73FE4FD5EE6F9F5004A129732CD.nii.gz downloaded\n",
            "223/913: Zx533EC33D04581309BAE79E02170CAA48037AB85859283614.nii.gz downloaded\n",
            "224/913: Zx52C5BF85821A07F0BA9C171C7A9848144E1316D64660557C.nii.gz downloaded\n",
            "225/913: Zx539DB79E41F6AA2BDC7E79B33C76FB6FD5585583B66DDB1D.nii.gz downloaded\n",
            "226/913: Zx539AA3BFF2614BB114CAAD4E135B24474C2FD45BDCF3C18D.nii.gz downloaded\n",
            "227/913: Zx53C966B8FF31C915F35CBBABB90687CADB06D59789663C41.nii.gz downloaded\n",
            "228/913: Zx539AA3BFF2614BB11EC301F922DF1D6EB66F648CFD86B6EE.nii.gz downloaded\n",
            "229/913: Zx54ADC117CB68757CD26FAECB856335BAEA518BADA3B1D562.nii.gz downloaded\n",
            "230/913: Zx548829E2295B777477EEF5AD7B52516483F97FE03FFCD0EF.nii.gz downloaded\n",
            "231/913: Zx54187A4FBD409DDD063160262732D37E9CAEFA2A2FC29570.nii.gz downloaded\n",
            "232/913: Zx54D9C6D4D1A2099BC5128685BAA055EA5D0EBDFCAF3F5C90.nii.gz downloaded\n",
            "233/913: Zx552814BC181CA38B4610252231F024FFC655093C180B1094.nii.gz downloaded\n",
            "234/913: Zx54E4C11D0D91C0320F543B0FCAE06DBC6E06E12714DD7B01.nii.gz downloaded\n",
            "235/913: Zx55AD3019A3318C2B3949A3914CC9AC3C90BBF24D783964DB.nii.gz downloaded\n",
            "236/913: Zx556FFA44D63AD311B1EA1654E65E580B12F368456EB8402A.nii.gz downloaded\n",
            "237/913: Zx55AD3019A3318C2B6C699D41E4EBE763BC4E47BF4E9BFD8D.nii.gz downloaded\n",
            "238/913: Zx55AD3019A3318C2BF1342646FC3BC5AFD28C776950E8D4C4.nii.gz downloaded\n",
            "239/913: Zx55AD3019A3318C2BD693F2094679AD6751F86FF222B86674.nii.gz downloaded\n",
            "240/913: Zx55AD3019A3318C2B9B2E59E2B3FF6297E8A5FA91A1B64E5E.nii.gz downloaded\n",
            "241/913: Zx567CD9145A3FAD22F4F9AF5F7704C9AC0822FA6A2845A546.nii.gz downloaded\n",
            "242/913: Zx560FA552A9EA24CC8B312C0989F2E7131DE48CD20C69FFCC.nii.gz downloaded\n",
            "243/913: Zx565D74889318B8045234D290A85A4D77CDBC698F9C455063.nii.gz downloaded\n",
            "244/913: Zx570BE55F360243A2C82C21EADDBA4B7CDBBB67C1C675B6CA.nii.gz downloaded\n",
            "245/913: Zx569638AE4C6131C024DC3ACB924A14606A7FE61AA98AF107.nii.gz downloaded\n",
            "246/913: Zx5697C4D4B57C86BAC72CF2508522FF72DB9C1398212C92E3.nii.gz downloaded\n",
            "247/913: Zx570BE55F360243A2D789EA5346E536AA3B16516B7A428776.nii.gz downloaded\n",
            "248/913: Zx585B8A00D898282575834078CEA6E95B517214E5BDA4346E.nii.gz downloaded\n",
            "249/913: Zx576D16727D7458A29DD6308F918A95629EBD04C50E0663C3.nii.gz downloaded\n",
            "250/913: Zx5744CEC558A46B4B1C9CB6E9F1BB82DD31F624849A7D8889.nii.gz downloaded\n",
            "251/913: Zx57410A845E6E8D25823E485244B4E8F17DDFC08B2883A6BA.nii.gz downloaded\n",
            "252/913: Zx59081DADCE950F83F408A7E2B9243A95897D2AB71975AE9A.nii.gz downloaded\n",
            "253/913: Zx58903BF72C6A38433166E6F075772C175673B81B9F1F10AB.nii.gz downloaded\n",
            "254/913: Zx58B3541B1F7C60025FEE6D5327EF78531440992371F5596E.nii.gz downloaded\n",
            "255/913: Zx592AC19BC9D9FA058832C0A3BBF004D193EE9FCD53D7941B.nii.gz downloaded\n",
            "256/913: Zx5AA1D80CF63593C15D3C2765D610F5BA7982C25680FAF048.nii.gz downloaded\n",
            "257/913: Zx5A9FEA715FD1A8263F2E5B132F4C8BBD4C8F4DD842DD2A1B.nii.gz downloaded\n",
            "258/913: Zx59AF27E8861C2B84EA3D742C5BA50ED0FDABD819FEC40D5C.nii.gz downloaded\n",
            "259/913: Zx5B2EA8EFC623BB93EE133D50B26042A9BB1B0A00D0166B7D.nii.gz downloaded\n",
            "260/913: Zx5B2EA8EFC623BB938351A9D7366D39863A1400448399461B.nii.gz downloaded\n",
            "261/913: Zx5AE6C0BC2598BDD4418E7A8658ADA771F8FD493920A3575C.nii.gz downloaded\n",
            "262/913: Zx5B765CDC56B851B4598AF1200F042643D3195B7D11F263CF.nii.gz downloaded\n",
            "263/913: Zx5B4958EAA06DEB89D67B8BD142312D0F7310519CDB56C6DA.nii.gz downloaded\n",
            "264/913: Zx5C5DF9F03CB8A6BAC406BDF666C115EDC0A4C836B500164F.nii.gz downloaded\n",
            "265/913: Zx5B636F130DAA91A7110091642B376E06730C8832C8C0E569.nii.gz downloaded\n",
            "266/913: Zx5E3E3815ED9017334024C80AAF61BC4579BEBD361C5B7475.nii.gz downloaded\n",
            "267/913: Zx5E17136591B2A37232A19F78B2FB7A148374C27F3E4AF04B.nii.gz downloaded\n",
            "268/913: Zx5E17136591B2A372477FADCF1395486EEADFD11F92592F3D.nii.gz downloaded\n",
            "269/913: Zx5ED102CA7FB8181668D560C18DB7F2D039681F36BD74CDFD.nii.gz downloaded\n",
            "270/913: Zx5E6AD13F5302AA05595B9EB5450DD27CBB58794EA6C7A614.nii.gz downloaded\n",
            "271/913: Zx5E8347EB932D86FD061C76415E5274A2B4C198692DF29C64.nii.gz downloaded\n",
            "272/913: Zx5ED676E3244BB1F8F29FED01A9C6EC7A22CC92EB941DE0FE.nii.gz downloaded\n",
            "273/913: Zx5ED8A3BACE488CFAD795B5660B429EEB6B818FE598C0CB98.nii.gz downloaded\n",
            "274/913: Zx5ED676E3244BB1F8C12245004E0CBBB5E906C8181F79B425.nii.gz downloaded\n",
            "275/913: Zx5F2AEE74B2E52EBF5A636F34F538722F96B95B952F107966.nii.gz downloaded\n",
            "276/913: Zx5F2AEE74B2E52EBFD474D6D6E344A6FAECEA7E540513098A.nii.gz downloaded\n",
            "277/913: Zx5F2AEE74B2E52EBF6F3AB9AC2114C9935CCD157AD868C901.nii.gz downloaded\n",
            "278/913: Zx5F4477ECD6AC7C4EC0081C65A0CEADBA6EDE867305DB7CBA.nii.gz downloaded\n",
            "279/913: Zx5FB948563D7915F08329339DBA9632722C0A554057C2AB47.nii.gz downloaded\n",
            "280/913: Zx5F4477ECD6AC7C4ECB44EF66D9225614C4DCDE42A5CF50F7.nii.gz downloaded\n",
            "281/913: Zx5FA9D4DFFAB39260647D74BF41D27B7EC5D16E01356F2CA2.nii.gz downloaded\n",
            "282/913: Zx5FD6AFAD51E0F6009E9E6726BC6F6F5958F10F03345BE35C.nii.gz downloaded\n",
            "283/913: Zx5FC5BB8A8DEDB54D8DF151F0E53DC6DF425F551F8C23C86F.nii.gz downloaded\n",
            "284/913: Zx5FC5BB8A8DEDB54DACD271062B296BAA0CCE2FCBF13D07D3.nii.gz downloaded\n",
            "285/913: Zx600BB33B3216E05B9B225F545650A4CA45BB1C63C3D2A2A8.nii.gz downloaded\n",
            "286/913: Zx600898F0FDBE062A65C1DE5C5162A85C96A07C8856FE6A91.nii.gz downloaded\n",
            "287/913: Zx600BB33B3216E05B3AC413C88A493360C21EE4F2375C48A5.nii.gz downloaded\n",
            "288/913: Zx600898F0FDBE062AF67DD3D380F200539F52E04E8CA222DA.nii.gz downloaded\n",
            "289/913: Zx600E30623048158F7533EB1DCED6BE3B5202FFF03D4D6510.nii.gz downloaded\n",
            "290/913: Zx615BF0336F2C1E791E08E758A9D582776B56C66DCEBD5883.nii.gz downloaded\n",
            "291/913: Zx60858041F3848EF43F3AF1650B34638570A767547A5AA32B.nii.gz downloaded\n",
            "292/913: Zx613684AFEC73B7A5AA16CA4069B403460CF4F594FA68CF3E.nii.gz downloaded\n",
            "293/913: Zx6255D6DBE1B906A9F3A402EC7F758DB66E06ED0CB2FFBF79.nii.gz downloaded\n",
            "294/913: Zx61704E649960C4029C1C1AD27E6317C2F8C748C8B932A3AD.nii.gz downloaded\n",
            "295/913: Zx628BB0B11A734D09D44015B4D5F10CAD90535C412485404A.nii.gz downloaded\n",
            "296/913: Zx62B066968229B590D678A308537742F33C3A693E7C93B4D9.nii.gz downloaded\n",
            "297/913: Zx62B066968229B590A10133BBF71E44E9F0616A9B4B736B4E.nii.gz downloaded\n",
            "298/913: Zx62B066968229B5907BDD0B2438B643250368BBD932D0D7DD.nii.gz downloaded\n",
            "299/913: Zx63194BF7E3385CFDC26585F0DF2185ACC740B745201AFBEE.nii.gz downloaded\n",
            "300/913: Zx62B066968229B590EBB11C47F554D33E80C6E51634B8634C.nii.gz downloaded\n",
            "301/913: Zx6318BA5A929812A3EA20A9A6012BBDEAB8B71DB56B559150.nii.gz downloaded\n",
            "302/913: Zx636EDE3E46477475F68A5D49A7A32440949F06C39C0073BB.nii.gz downloaded\n",
            "303/913: Zx636EDE3E464774759F4FFC43AD1CA60FA256F09F41B06F36.nii.gz downloaded\n",
            "304/913: Zx636EDE3E4647747562CEE36581CC8883234F2231166B697C.nii.gz downloaded\n",
            "305/913: Zx63736C111D570844D142C38F9A68489F1C3AF66961367134.nii.gz downloaded\n",
            "306/913: Zx64A95AEC2BE98B00C48F17A4D5ECEF6081B0F041E66A9775.nii.gz downloaded\n",
            "307/913: Zx637726D3EB093D3049C1FA44F7E885DDFB5FAB4AC2C1820E.nii.gz downloaded\n",
            "308/913: Zx64D8ABDFA2E7D3053A50B6A3E3EB3761A40EDF894C4D8EE2.nii.gz downloaded\n",
            "309/913: Zx64A95AEC2BE98B00C9CB7485C4517A67FFA4C7D5D78C5BE2.nii.gz downloaded\n",
            "310/913: Zx64D8ABDFA2E7D305567FF5A35BD00F37D18A724E05FDE931.nii.gz downloaded\n",
            "311/913: Zx65269658C21EAC9802652A31DABC4D9FE8F885FE382BFF87.nii.gz downloaded\n",
            "312/913: Zx64E8FCD44CF250DDF6FEA4135678D14B0FA63C2D8F5909D0.nii.gz downloaded\n",
            "313/913: Zx64EAF1574DDAF8EDE415B3471C6EF446DAC86817AF514F35.nii.gz downloaded\n",
            "314/913: Zx65B039F2B5CA9CD437E732E0B9E358CC5AC409AA867EDCD6.nii.gz downloaded\n",
            "315/913: Zx65269658C21EAC987B7A7AEE55A1AB22A23D0BC79E0F8A66.nii.gz downloaded\n",
            "316/913: Zx656588024899FE03C3CEC05B7B5778D041E1ECD352CFE59C.nii.gz downloaded\n",
            "317/913: Zx657D9745A22BCF4D734ABB69FE7048520DF1376DB1C13C35.nii.gz downloaded\n",
            "318/913: Zx66A0D23C9547D4B05E3A2C2D406455F5B9AED49E9BD81CB7.nii.gz downloaded\n",
            "319/913: Zx66C236B993CD7FAFC2F125311C65147E643691D3B5C42826.nii.gz downloaded\n",
            "320/913: Zx6727174D77521EE5B2C4F676EF887A75CEE9B74E4ED97F66.nii.gz downloaded\n",
            "321/913: Zx6727174D77521EE5DBEDCBBA7660C4E2A32651135D737817.nii.gz downloaded\n",
            "322/913: Zx67415A03D61E77340BB5A07721A9EEE79141C9853DE4F7D6.nii.gz downloaded\n",
            "323/913: Zx67415A03D61E773414BD11A6A8DB2DEF90B76615A5E494F7.nii.gz downloaded\n",
            "324/913: Zx67415A03D61E7734C5EB110B87EF37FC912D606A17F24F1C.nii.gz downloaded\n",
            "325/913: Zx67441E002546BA1D6C7EEF3BDC1E58825CC1E98E5BAE4BB4.nii.gz downloaded\n",
            "326/913: Zx6807F4B56B7D076909FC86782C5E1231A9498349EA153C18.nii.gz downloaded\n",
            "327/913: Zx67A67EEF79554FEDB4301392109B55148BE639246BDBEEBA.nii.gz downloaded\n",
            "328/913: Zx6807F4B56B7D07692E6BE9484415FA09CE9C1D1E0F1AB0D7.nii.gz downloaded\n",
            "329/913: Zx698005FBCCA840800D6D5315F1EE49CFA39AB5E532D91B85.nii.gz downloaded\n",
            "330/913: Zx68514F0FF623A26E16658ACFCBAF06BB2F5824CABEE60F38.nii.gz downloaded\n",
            "331/913: Zx696C242456C97E11A3BA8A04884698607FA2811493CECACC.nii.gz downloaded\n",
            "332/913: Zx681A11F58D74D4599A6B2A227605EA0C1B77B69A7D2D12D3.nii.gz downloaded\n",
            "333/913: Zx6983E16FD09E59A7A4304A2E1E9870A3335CCAF2C16F4C3B.nii.gz downloaded\n",
            "334/913: Zx6983E16FD09E59A77137CF4C90F9B854CD3EC63D4E914DF7.nii.gz downloaded\n",
            "335/913: Zx6A2D61812017EDFAFA14F333CA7CD54CFF7BA3827489EF68.nii.gz downloaded\n",
            "336/913: Zx6A6B918136F89E64C6F45744F6CB3C010B3AB2D50B72118D.nii.gz downloaded\n",
            "337/913: Zx6AFD1A8ED05D371EE384AC2BF8421A38BE60F0A912DA7F77.nii.gz downloaded\n",
            "338/913: Zx6A887B63AD55475F2484B04AC037056DDF7179FB3E5B760A.nii.gz downloaded\n",
            "339/913: Zx6AEA21162FAE2D40E5720009794D60020B137000B885BE06.nii.gz downloaded\n",
            "340/913: Zx6B36B1FCC373347CD82A62A9ABB7A987AF08526FC746A1B5.nii.gz downloaded\n",
            "341/913: Zx6B714C12101460C52C133A7BDAD58B40301BB61DF002785E.nii.gz downloaded\n",
            "342/913: Zx6B33B06C99F2514BE9D2E82E45B19C44CBBE035F7E17B9DB.nii.gz downloaded\n",
            "343/913: Zx6C265FEDB560B114FB7CA8D19212ACB34F9AACEE409DDAAB.nii.gz downloaded\n",
            "344/913: Zx6B714C12101460C58457BD7C868E4711F1EA31991F0C39BB.nii.gz downloaded\n",
            "345/913: Zx6B714C12101460C54F1A626F8566E9BAD0EA737A57784718.nii.gz downloaded\n",
            "346/913: Zx6C2E49E5A10FF2383A6D6E9E296B9BA1B5D6ED90DAED83ED.nii.gz downloaded\n",
            "347/913: Zx6C2E49E5A10FF238DCB0F5E21F267A50C4132EFB02426EF3.nii.gz downloaded\n",
            "348/913: Zx6C601C55643BC046FB5E0B957E9BE1D4D7FD4B1F6774E4AC.nii.gz downloaded\n",
            "349/913: Zx6D601A7BDC8A50726539FBD1CCD040AF41E51715701CCD23.nii.gz downloaded\n",
            "350/913: Zx6CFEF464C113FCF500FF85095B28D6B6AA3D9138C1FA567C.nii.gz downloaded\n",
            "351/913: Zx6C638D9BFE2F6F6DA32FF3576D00729299CDE6AE847F1693.nii.gz downloaded\n",
            "352/913: Zx6E4F40BA9C3B3DD587F74C4C9C3E1F55A5006E999087B426.nii.gz downloaded\n",
            "353/913: Zx6EC130BB2F5E1ECB19C1DE97A5366FE2F3049D42D76122EC.nii.gz downloaded\n",
            "354/913: Zx6E63C4468346B19BABA5627E439A103C894ADF645DF1126C.nii.gz downloaded\n",
            "355/913: Zx6EC130BB2F5E1ECB845D551B2761210EDF8867DA59252129.nii.gz downloaded\n",
            "356/913: Zx6EC6B03372854DCB4444042A10D001CE18D091130CCCB466.nii.gz downloaded\n",
            "357/913: Zx6EEF54C45F5D2938ACB60707F0C99019CA3D388C931E8FD1.nii.gz downloaded\n",
            "358/913: Zx6F79649FE009CAFCA0846DE94398CB2D3566259CBFD0760C.nii.gz downloaded\n",
            "359/913: Zx6F9A86DB1959C933E05FB1586832FD90A346C2742BABBF81.nii.gz downloaded\n",
            "360/913: Zx6F79649FE009CAFCE973032FB8B733822FF1E6F1D98DECDE.nii.gz downloaded\n",
            "361/913: Zx6FF2EB37C2EA7D75399976E6209F9A1AB7D5F70CCD6C48A8.nii.gz downloaded\n",
            "362/913: Zx704DFAE6D896E573D76A27EB451CBB8B20B2DD0C366904AB.nii.gz downloaded\n",
            "363/913: Zx704DFAE6D896E5739551E9490C9CBDAD0EB751D39CA494D0.nii.gz downloaded\n",
            "364/913: Zx705B3531CEB972E1F928E8425B89AD7DF17BF2D273C14ADC.nii.gz downloaded\n",
            "365/913: Zx7001D8A2879148E2DB5762644ECD07771C241962E4E0C629.nii.gz downloaded\n",
            "366/913: Zx6FF2EB37C2EA7D75AFDB72C27D1CFF4D7306CA415ACD6910.nii.gz downloaded\n",
            "367/913: Zx70EA988D4E33BC00C76989F2FF828C0397AE1D94C4F1EDEB.nii.gz downloaded\n",
            "368/913: Zx709C61C9E271E65BFB0954073448C2BDCC1F496B07639C52.nii.gz downloaded\n",
            "369/913: Zx707FA86CFFC26B0362484221AF3AD855F4AB921A47B28055.nii.gz downloaded\n",
            "370/913: Zx71882377B86909CE2C7110CA50FB4FEC2E803144C9A9F126.nii.gz downloaded\n",
            "371/913: Zx710EA1D8309EC121ECE1420A7A6C998721E75E03F71F6BE9.nii.gz downloaded\n",
            "372/913: Zx733E40280941D5A0840BFD2F29D76952A88322C5D99A67CC.nii.gz downloaded\n",
            "373/913: Zx73F7FEEA92E425410EACB44DD2FF4ECC3175F0034E2D8950.nii.gz downloaded\n",
            "374/913: Zx73549B6A40980CE41A0801EF54DDA1E5D9FCC7CB6CBDE1EA.nii.gz downloaded\n",
            "375/913: Zx73AF7FBD658B2F32513C6CDC15806C5E8BD8E9B8CABAF381.nii.gz downloaded\n",
            "376/913: Zx766A344876F00BE04369DB7048D95965D644794560A8C2F5.nii.gz downloaded\n",
            "377/913: Zx744CC902CEFF398E5BFFDA5DAC03530EDCA34E098E7D8521.nii.gz downloaded\n",
            "378/913: Zx749FEB71D265630FEBB01B7E68573CC22AE4EE41BDDCCBEF.nii.gz downloaded\n",
            "379/913: Zx77A9ACDFBD87C032A6D4BD47C9303939BAB7F698FDA3DB84.nii.gz downloaded\n",
            "380/913: Zx76E046BDD20F13BC9DF52FD603260826F3A33C213013279E.nii.gz downloaded\n",
            "381/913: Zx76EA0AAF9604A2B299435142D79C05C4848E505FBFB3327A.nii.gz downloaded\n",
            "382/913: Zx7951881EF40FC42633A4A53A0E13653EEDD3AD8C6837E6B5.nii.gz downloaded\n",
            "383/913: Zx7859C612513D0CA669CA6F0A5F4BDBB73477628D42101B7E.nii.gz downloaded\n",
            "384/913: Zx791155B439440F506C9D48D6BE3E8C215CFC9406E63E9980.nii.gz downloaded\n",
            "385/913: Zx7951881EF40FC42651E18D72C193BD61B85C56A1DFA1EB9F.nii.gz downloaded\n",
            "386/913: Zx7951881EF40FC426FDE57EC6B8481F168CBD526EE2EC764E.nii.gz downloaded\n",
            "387/913: Zx7951881EF40FC426F06360F413ECA9C2E6ED202A7202534F.nii.gz downloaded\n",
            "388/913: Zx7951881EF40FC426835655F2DCC4CCDF9DC96F9B99694109.nii.gz downloaded\n",
            "389/913: Zx7960025CB586E7BF6FA909BED691E51ACD5B404162529B21.nii.gz downloaded\n",
            "390/913: Zx7A1F719E8B5B30455273FCB5DEC0C74A33BAE4D6D032DF70.nii.gz downloaded\n",
            "391/913: Zx79B59C3FC0E0419702D6AB6D3F87DC16968921B209E2FAF3.nii.gz downloaded\n",
            "392/913: Zx7A21222F0FF5E778316945EE1DFC7F0F3B1D06CCEAA59C8E.nii.gz downloaded\n",
            "393/913: Zx79D67DE4C64C5E5FC73196916AB5E19A69B2E230E335A57B.nii.gz downloaded\n",
            "394/913: Zx7C1ADB5EC3F881C119CD62993F89148864B049DB14C5318A.nii.gz downloaded\n",
            "395/913: Zx7ADA6A1993F1295DB4741D5821C2CC8DF205FB66CA563137.nii.gz downloaded\n",
            "396/913: Zx7B822BF6444125EFAE0CBE34BFE082FAB35F87CD34A7CFCE.nii.gz downloaded\n",
            "397/913: Zx7D0AAC73984A8AC95FD33AD2522F92587DF9B8371D7C79F8.nii.gz downloaded\n",
            "398/913: Zx7D5AB573090376F781DC164A66E6BDA1FA3E4F8D8AEDF9EE.nii.gz downloaded\n",
            "399/913: Zx7D3427750776456FAE73FAD9BE0A5AB930A4A8A445B914AC.nii.gz downloaded\n",
            "400/913: Zx7C5F892360CCBA6213B2028AD122A1DAE02324EE2546380C.nii.gz downloaded\n",
            "401/913: Zx7D5AB573090376F79A9B8798AEE4C2B73CA9538E432FE2D9.nii.gz downloaded\n",
            "402/913: Zx7D9191CF3AC6C1D93283C7120BC4246CCB12EC8FA504570F.nii.gz downloaded\n",
            "403/913: Zx7D8D4EE4E705B047A0C06E182E991F5EDD818C202CCD2204.nii.gz downloaded\n",
            "404/913: Zx7EB9931AA0941B211A8753255BF0F5B979AF82872A0C0D7D.nii.gz downloaded\n",
            "405/913: Zx7EB8CBD8E387BF63ED581C37CAFE7980CB4D992C1D714120.nii.gz downloaded\n",
            "406/913: Zx7FB045DDBDDCDDC6CD339BCD1BCB21923607C957CCA0D448.nii.gz downloaded\n",
            "407/913: Zx7F5C9B0247EDA7DFDDFA071A1FB4CC8DC6346FDCDB1F9925.nii.gz downloaded\n",
            "408/913: Zx7FF1443ED897B9B54788562D4CD333296BDFD657E0767B2B.nii.gz downloaded\n",
            "409/913: Zx8019CD217D62047D3A5E39B116BF85416F30FC2B90B43D26.nii.gz downloaded\n",
            "410/913: Zx800E47489EF47140BEE20BD13FE0BE47F9406FF9473A59D2.nii.gz downloaded\n",
            "411/913: Zx8024D25AB9871F3D18E5A4DCF93B28F923CC7481341C493B.nii.gz downloaded\n",
            "412/913: Zx80A5561818F25AC07CF5BBD9824B1C5E953DD87A0349CA71.nii.gz downloaded\n",
            "413/913: Zx808CBF85580C8A52F625D7FC9667F12DA964A7194E5A900F.nii.gz downloaded\n",
            "414/913: Zx808CBF85580C8A524E90D1A1B7E63CA54AB01CE941892A2C.nii.gz downloaded\n",
            "415/913: Zx80B7A4D341349B1DEEC43695767B3092D0B6C145AC4AC374.nii.gz downloaded\n",
            "416/913: Zx8139B3F5503CDA776780627D00478D990FE14D835009F4A7.nii.gz downloaded\n",
            "417/913: Zx822B1193233F74F5A5E5D0ACC8219BF8AE4EFABE2FCB080C.nii.gz downloaded\n",
            "418/913: Zx8104110A401AA0F1936937E0C991C0560D0BD7A52FA5AD62.nii.gz downloaded\n",
            "419/913: Zx82469BB018D926021A0DE68D53829466728F761F7A9FE2BC.nii.gz downloaded\n",
            "420/913: Zx826F31C25810C6A99F981287354D792E761C8429008CA0B6.nii.gz downloaded\n",
            "421/913: Zx826F31C25810C6A9E11C65F8346F837853F61BA660429400.nii.gz downloaded\n",
            "422/913: Zx82469BB018D926020D941A2CD7789B1FE69584EE93D61262.nii.gz downloaded\n",
            "423/913: Zx826F31C25810C6A9F8FDC54DDAF33D8DCD5D1BD839A83538.nii.gz downloaded\n",
            "424/913: Zx8311956639D7E7D4B356DC60FF69D205EADC526A489E6039.nii.gz downloaded\n",
            "425/913: Zx835BE89BC06B937B9B23B4F1D90881508F079ADB12ABBFDA.nii.gz downloaded\n",
            "426/913: Zx83C22F6F75B8C1821DFFE750AC7C5FF7AA44F40803C9AD45.nii.gz downloaded\n",
            "427/913: Zx842609653BFCBCE7E6E3A08743153D621778B34268156550.nii.gz downloaded\n",
            "428/913: Zx836945F670A552472975ECD5BAD33B1D8FDB441859DC209F.nii.gz downloaded\n",
            "429/913: Zx835BE89BC06B937BA926418179E4FA07E6735C97C53A176D.nii.gz downloaded\n",
            "430/913: Zx84C6541C8F8016148DEE71E2452989CFE24A78B33E600C22.nii.gz downloaded\n",
            "431/913: Zx85CDD7AD4B9541C999C60977FF7BD08E14321F60BA772359.nii.gz downloaded\n",
            "432/913: Zx85587FA5B4B2A9CCF771CA89EF3F2F3D8CB02CD05A59A8CE.nii.gz downloaded\n",
            "433/913: Zx85587FA5B4B2A9CC5C006A0FDCB2BCB0C43E3C187AE0E654.nii.gz downloaded\n",
            "434/913: Zx8622D93E1FDBB9901E53A50C9646AAB037D44C6BAE148A96.nii.gz downloaded\n",
            "435/913: Zx86E8594B94A97B534BC20D7FD912495340BD42C4D9CFA918.nii.gz downloaded\n",
            "436/913: Zx85D50811D1EA1A11B03AB2CE32A6A66D3FC2703A2D3B9DB3.nii.gz downloaded\n",
            "437/913: Zx860EE7EB77360E72DA038ADF6937F13B8B5D3C868AB15B0C.nii.gz downloaded\n",
            "438/913: Zx87AF1F682BC71658E2CFA9467AF58FBF1E6EA5854B301C38.nii.gz downloaded\n",
            "439/913: Zx87AD2F6D0872195177833288BEC6C7C75475952000F32E4B.nii.gz downloaded\n",
            "440/913: Zx86F99E7E390C00CB15F6C06905D1DB9D85D0104D663448D6.nii.gz downloaded\n",
            "441/913: Zx881D4370D4E2B3EB2E6825C81E19A9097CA157CD762C4E76.nii.gz downloaded\n",
            "442/913: Zx88ACB7F8111B28133F6ABC943B7FAD919B0F8A0C05ED78F0.nii.gz downloaded\n",
            "443/913: Zx885197EA25ED1851808083B77B6868C3530394B3C9D55E19.nii.gz downloaded\n",
            "444/913: Zx884CC84AEA488B322F652EA32D97F65A0B1FFE335A73D87C.nii.gz downloaded\n",
            "445/913: Zx88ACB7F8111B2813505A7A561719C7A0C8890C9F8CCEFE4C.nii.gz downloaded\n",
            "446/913: Zx88B03F6A7F5A1AD08A8578B8F8DFB5CDAACC33CB497FEC37.nii.gz downloaded\n",
            "447/913: Zx88B74210C12C5EACAB1558A7CFDF086BFF154B63C8EA1E4B.nii.gz downloaded\n",
            "448/913: Zx88CDD4E017AF5C828FE5F36039B1951EB155BD25D0B97A04.nii.gz downloaded\n",
            "449/913: Zx89B488AF6EEB32B25E26A6CA85C4C1C4B92A64FC21849295.nii.gz downloaded\n",
            "450/913: Zx88D671F78475F1666A356A95B0A80F6065868CB68F83FFBA.nii.gz downloaded\n",
            "451/913: Zx892330D71B2D63CAA1B4F53109D8A1A9B1A54D4C130413FF.nii.gz downloaded\n",
            "452/913: Zx8AED30772B9345517DA7A78056E7C70C0336DE70F18FB786.nii.gz downloaded\n",
            "453/913: Zx89FC1E08F4883C85AB68717F0426C0C74E27023C72AA4B8B.nii.gz downloaded\n",
            "454/913: Zx8A4DCFA5AD1BFFBBF72066AAC854D02C47E1EC6D16C33E9B.nii.gz downloaded\n",
            "455/913: Zx8AED30772B934551EAF242D511B28908E41DEC9953E2003A.nii.gz downloaded\n",
            "456/913: Zx8B08329735765986677EB5A08765BBE99C49578728989F1E.nii.gz downloaded\n",
            "457/913: Zx8AFC7B72C841CC55B4428EE569AA872C993B0B82200BAECC.nii.gz downloaded\n",
            "458/913: Zx8B381C6BB4B224AAFB36137CABD70504FB29B4BF6966BAF1.nii.gz downloaded\n",
            "459/913: Zx8B007FE85539264AE654496D82273C5857447B309FEDD6A1.nii.gz downloaded\n",
            "460/913: Zx8C2082663880EE021B90E42E51461164FC3DF5AF0FF3B195.nii.gz downloaded\n",
            "461/913: Zx8B4DDDE2EF0F838C1E46F70D88C7C7C0A1274CC062AC821D.nii.gz downloaded\n",
            "462/913: Zx8C1A2078EF9BE45B85DEC3292FCC3BADD5AA593597A6F21A.nii.gz downloaded\n",
            "463/913: Zx8CB9D88383D22A202509E149F9E08171C4FDF085C4080F8E.nii.gz downloaded\n",
            "464/913: Zx8D3C7550919257B9889A79C1A99B8EB256894F128FCB63B5.nii.gz downloaded\n",
            "465/913: Zx8C85F35CE4EDBFA5FCB3FDD340DB179EF49C37C39B0FDB6E.nii.gz downloaded\n",
            "466/913: Zx8CF89665CB88F1FFB96AA9196091B5DF0641059D070B07D2.nii.gz downloaded\n",
            "467/913: Zx8DFA64D65C82A9504675F3BE68244D5DB54E1DEBBC651FC2.nii.gz downloaded\n",
            "468/913: Zx8E3B91ED97D86D109CFA0D0A330B3EC8D65D58EA4C3A5BA6.nii.gz downloaded\n",
            "469/913: Zx8E3B91ED97D86D10777008EF1942E22752901949BB33D1EC.nii.gz downloaded\n",
            "470/913: Zx8F8A147874051D87580335860FFB6C12566887B9EEFC838A.nii.gz downloaded\n",
            "471/913: Zx8F595A739BFF895B064C35695C85220229B0A1913459AB78.nii.gz downloaded\n",
            "472/913: Zx8EEE7D7746F8BC3E0E5099D301AA0DD58DC232C21AF1598F.nii.gz downloaded\n",
            "473/913: Zx8F7A2D7C8E918A752B8C9B2558F538DA1B59E9EF05C0DAD0.nii.gz downloaded\n",
            "474/913: Zx90019D6EB68057875071272397766A7ADE4635DF6C097558.nii.gz downloaded\n",
            "475/913: Zx8F95BFDF3B3FC9F85913828B2A504CBB45535F3A81F78ADD.nii.gz downloaded\n",
            "476/913: Zx8F8A147874051D878B272B30A4BBB599BB4455C8821CE579.nii.gz downloaded\n",
            "477/913: Zx90019D6EB6805787B122BE1359C1647FCBEE4D9179EB1A9F.nii.gz downloaded\n",
            "478/913: Zx906BB2AE190BB79BAFBF33A49394FEC1628B8B1EF264FFAC.nii.gz downloaded\n",
            "479/913: Zx900F64CC3D30629A754ED04007971BD74531C686C8541AEE.nii.gz downloaded\n",
            "480/913: Zx9178DA08432AE6C72E651926E66C439966406A8A9B90EDCA.nii.gz downloaded\n",
            "481/913: Zx90A7EF10C9806EEFF37EB4C85FF08E0D7923700BEDA3BB89.nii.gz downloaded\n",
            "482/913: Zx918F8C7BBD3F587FD3F2673BDB7C9998E14206BD7E3B0398.nii.gz downloaded\n",
            "483/913: Zx91BF216E50E0A5CA5D56DE31AC383F4BA7024C31BAA17644.nii.gz downloaded\n",
            "484/913: Zx93014DFEDEF5C296DFA22750CE2784F183A3019BF3325C3D.nii.gz downloaded\n",
            "485/913: Zx93EC2D1600D91567375B0ECB647508DA93F1F35D76B24C23.nii.gz downloaded\n",
            "486/913: Zx949BBA19176EEEEE12A38BCF6569054C88BD26578D5F6D2F.nii.gz downloaded\n",
            "487/913: Zx93EC2D1600D91567B00A1006B88CD5D72005520F5B45A7F1.nii.gz downloaded\n",
            "488/913: Zx949BBA19176EEEEE5E81F9595B665E43DA1B7CDD046003BD.nii.gz downloaded\n",
            "489/913: Zx94B02A482BADC62C022512769E16EAE1B10C6D0A7ADC8B45.nii.gz downloaded\n",
            "490/913: Zx94B02A482BADC62CAFC39992E43329F1D9D6A705ED7FD8D6.nii.gz downloaded\n",
            "491/913: Zx94B3091A70945039B59E48553186CB022A5EA84DF4F1805A.nii.gz downloaded\n",
            "492/913: Zx9574DFB02B6FB06A36D9BE171710E1D155344F79C63C788C.nii.gz downloaded\n",
            "493/913: Zx9574DFB02B6FB06A386AED7F477E6F756B81014B1172904D.nii.gz downloaded\n",
            "494/913: Zx9574DFB02B6FB06A99FFA85CF26EDFFB5AC29A1E7968F189.nii.gz downloaded\n",
            "495/913: Zx95B9DA7994352855AC56A8423C0A0F1B68A3748E99C6E77E.nii.gz downloaded\n",
            "496/913: Zx95760F4DDFEEDF4CD00784402D23636239E31D7EABCD7939.nii.gz downloaded\n",
            "497/913: Zx962763BC29A2C4FC1D3F0B87FFA4D3256B5864D20EA5E8DA.nii.gz downloaded\n",
            "498/913: Zx95F33E17F7F8218E9FA35FC3D79D8EB9E02019709C3A5EC2.nii.gz downloaded\n",
            "499/913: Zx9687D8530B98BF197ADF4F6311C64517BF27DA7643D6F7F9.nii.gz downloaded\n",
            "500/913: Zx9727ED2AF24A37B21185FC63967F6988A58B21BCBF52E846.nii.gz downloaded\n",
            "501/913: Zx97261754F3796E1915B0FD671479F1AB0374CB2046EE22EB.nii.gz downloaded\n",
            "502/913: Zx9727ED2AF24A37B2F9BC2D929138ADF34CEC353B03AC7EB1.nii.gz downloaded\n",
            "503/913: Zx96C0C360AEBF01B06DB0555FDC9B7FDD5B3D2E3648428AAD.nii.gz downloaded\n",
            "504/913: Zx9809790DF26AECDF9037CC13A779C2109AD2303A52D064A2.nii.gz downloaded\n",
            "505/913: Zx97928AD5A213289C6B95B389DF91F14F90ACD2828C8AFD57.nii.gz downloaded\n",
            "506/913: Zx97E643B8E4A5DEB351E18CB763B8CFB27D5A870812A6C453.nii.gz downloaded\n",
            "507/913: Zx986A45AC9267FF16AB73E0A33F49A60A615E7B4DC3974643.nii.gz downloaded\n",
            "508/913: Zx986577E2EB1057F93287CCCFEC27380501F7AF20DF2B5CCB.nii.gz downloaded\n",
            "509/913: Zx9977B241B90F7BC8B9BB80086A4DF457D122DC866D682F4D.nii.gz downloaded\n",
            "510/913: Zx98BEC5DDF705BC23BA3D7DEAC87D8FF588F07F47D9C9492B.nii.gz downloaded\n",
            "511/913: Zx9A29DA6E21ACD7A0B49FCF887A0BF4FFD207CA7A3CDE7F85.nii.gz downloaded\n",
            "512/913: Zx9A0E70ACF621144BDE9A072548A6C14CB9709B8BB0C00FA9.nii.gz downloaded\n",
            "513/913: Zx9A0E70ACF621144B79A903E7F63D1E9CCD4F69EBEC9BF7BA.nii.gz downloaded\n",
            "514/913: Zx9B4C35462848C326141CFD0DC5F1C4EF283FC19334B3E9B7.nii.gz downloaded\n",
            "515/913: Zx9ACD059285DAFEEA6A2AA4E3165D5D07214AE7ECDDFC4A16.nii.gz downloaded\n",
            "516/913: Zx9A4E499E3BA61229D5D60C22ADA56973D6266643DA2F37B3.nii.gz downloaded\n",
            "517/913: Zx9A37AA6BF8B44163F6E9BFF94168F0F0091DC98C3C9C19A1.nii.gz downloaded\n",
            "518/913: Zx9C4D13B3283A0D24249372719EB45237B43F4F1DA6F5BB9C.nii.gz downloaded\n",
            "519/913: Zx9C2634AFDDE5A83EA11ECB13AB6417BEB06B0D5E1287C3FA.nii.gz downloaded\n",
            "520/913: Zx9C4D13B3283A0D2496EAFFCF4B47A36CE7B8803204238899.nii.gz downloaded\n",
            "521/913: Zx9C70756B5B6BC8D35F998E8DC0978B1B683122D560D25B45.nii.gz downloaded\n",
            "522/913: Zx9C70756B5B6BC8D3C7F5415BECA195B3C406529E304D5B44.nii.gz downloaded\n",
            "523/913: Zx9C70756B5B6BC8D316D57140CC7A53DF3802066E4B88F2ED.nii.gz downloaded\n",
            "524/913: Zx9C51ACC8639C583BFC19993D6BE6C355E6AB9A9570D4F21B.nii.gz downloaded\n",
            "525/913: Zx9D05ACEE4197AAC102E263F3A4A3CB86A5AF5A25B5BB74D7.nii.gz downloaded\n",
            "526/913: Zx9D0627C5FADDC3AABAA7082E72F91F2645851F71A8CDDF71.nii.gz downloaded\n",
            "527/913: Zx9D18EA978D3BD10A326DC4749DD01290C243E5DC9963868D.nii.gz downloaded\n",
            "528/913: Zx9D05ACEE4197AAC1772BAC5BEFF54C1C4C50B7CC97F54B0C.nii.gz downloaded\n",
            "529/913: Zx9D18EA978D3BD10A39721787340925858FD09F4E7B168615.nii.gz downloaded\n",
            "530/913: Zx9D28426F44724AE86117620C1784533EF1B501151875EB8C.nii.gz downloaded\n",
            "531/913: Zx9D6CE06969D7A50F451E40C9629E57D88E230878E019241C.nii.gz downloaded\n",
            "532/913: Zx9D76C42817583BCA25AF1F14469B372700E105BFC7452D78.nii.gz downloaded\n",
            "533/913: Zx9DD6040F52E36EDB6C0385CCD5F1D725BBC97B6345A59F60.nii.gz downloaded\n",
            "534/913: Zx9F55333E9B6FAB3A3A2B43885AAF93774464C16E9F455E53.nii.gz downloaded\n",
            "535/913: Zx9E1D272B5003FE2AB53F6BE7CE3E5B7F905643402B415AA3.nii.gz downloaded\n",
            "536/913: Zx9F900B383927BA7598F4791BC0CD23B85C9B319EAD69A8AA.nii.gz downloaded\n",
            "537/913: Zx9F70740616E28A470CCC31414C246AA78A7A26D407DD2431.nii.gz downloaded\n",
            "538/913: Zx9FAE5E8EE578A07677FFED34689A2B272F1FD4FFFC9E23B1.nii.gz downloaded\n",
            "539/913: Zx9FAE5E8EE578A0768598453692C15615CF0BB5909AE24784.nii.gz downloaded\n",
            "540/913: Zx9FAE5E8EE578A076D0A2FB260477EAC119844611FEE70C48.nii.gz downloaded\n",
            "541/913: Zx9FAE5E8EE578A076899C0329C54F8A6BE48B2C4B47965266.nii.gz downloaded\n",
            "542/913: Zx9FE816B863546C24945213D4A35C9F890BD4EC91F238517A.nii.gz downloaded\n",
            "543/913: ZxA077D5FA438E8FB93945C1D84AAD7586E7DC586B08B92F30.nii.gz downloaded\n",
            "544/913: ZxA0584678F6AD9E851E8AA69B22B44DB4BD85A9E5FD2F285A.nii.gz downloaded\n",
            "545/913: ZxA1CECA46F4B0B1A28F45357DA3B8964AB5A446B2E2C27FD9.nii.gz downloaded\n",
            "546/913: ZxA31B066CA4D3269F11DEA8AB97B59258C7C00A369871B1CA.nii.gz downloaded\n",
            "547/913: ZxA321207AC10B29464A450F8C1D22603E48CADBC8083F434C.nii.gz downloaded\n",
            "548/913: ZxA31B066CA4D3269FD8002A9BB0327A8EAB8B562CBF93C146.nii.gz downloaded\n",
            "549/913: ZxA1CECA46F4B0B1A2E2F950D08409F265138A1910A04F5C7C.nii.gz downloaded\n",
            "550/913: ZxA321207AC10B29467B512EE00066F7504C3284E8A1FA466B.nii.gz downloaded\n",
            "551/913: ZxA3860A70B3B944A7ACB74339F4972794B2603E38D69E7EA0.nii.gz downloaded\n",
            "552/913: ZxA3D1C1319FB1EE466697013B492A537DF50B2CB8BBD22A87.nii.gz downloaded\n",
            "553/913: ZxA321207AC10B29466F29532180D4D0BF1DB1D1CAAD5A7497.nii.gz downloaded\n",
            "554/913: ZxA3D67DE1137F5382DF1FA2D1FCA81908745EFC3511F4CD9C.nii.gz downloaded\n",
            "555/913: ZxA3F00A9B31186E9B120A21B2F8654B895A6CE7A7C2B7010A.nii.gz downloaded\n",
            "556/913: ZxA3D67DE1137F5382F34F4A0940395DCAA7DD0722E3E67493.nii.gz downloaded\n",
            "557/913: ZxA493CEB18FDED9A909C361632B6BE7F124261E9AE0B8153F.nii.gz downloaded\n",
            "558/913: ZxA4950C0ACC3EF8B26CA55C0BCC9F4B2AAF4AC97E9BE083C9.nii.gz downloaded\n",
            "559/913: ZxA3F00A9B31186E9B131CF5D73AFC8C6F378E8E9AB62D78E2.nii.gz downloaded\n",
            "560/913: ZxA4950C0ACC3EF8B27254E91E15CC969DDF9BF7C200A2B945.nii.gz downloaded\n",
            "561/913: ZxA4B4F8BA185766C2DD74FDE9943CC08DA93A93E8E1DFAC15.nii.gz downloaded\n",
            "562/913: ZxA4B4F8BA185766C22D4008861F7B1E77EF8FDD5FC608D82E.nii.gz downloaded\n",
            "563/913: ZxA4D59B81F2E473A627002B789E7971D9B33E9549990A73C6.nii.gz downloaded\n",
            "564/913: ZxA4D64354CFBAA70DB029AAA999531939E9DD4807CC0ACCC2.nii.gz downloaded\n",
            "565/913: ZxA587DD3F3B7DEFF324487D39123C2C626E291DCF7376E42D.nii.gz downloaded\n",
            "566/913: ZxA5C007B2167B56E373C34A0053EF963CFBB1A2E856879D26.nii.gz downloaded\n",
            "567/913: ZxA5736BF1D6548AC69E1D384152F062008F77D25050E397F4.nii.gz downloaded\n",
            "568/913: ZxA659E69F833B05BB97B93549E620AED2BAE6BE7237F8AF3C.nii.gz downloaded\n",
            "569/913: ZxA66CEAE1B2351EF9A123CEE1F7F017EC1466289E519D9E28.nii.gz downloaded\n",
            "570/913: ZxA66CEAE1B2351EF9061F5C2EF272C6020662D2258D1784A4.nii.gz downloaded\n",
            "571/913: ZxA659E69F833B05BB21DBB10048F9F43AFD7562CA75E089F5.nii.gz downloaded\n",
            "572/913: ZxA6885ECFAC658140234CF7659E0C602A21901A78F60E7F77.nii.gz downloaded\n",
            "573/913: ZxA6FD89D310764F7745439AE747297835DCDE8439C089EC4F.nii.gz downloaded\n",
            "574/913: ZxA6E61E4E15A62519AAAE723617782AB9F2DA93CAAE5A0219.nii.gz downloaded\n",
            "575/913: ZxA9699F56C35B1D82E9703F233BD3208C31BEBE3E7907731A.nii.gz downloaded\n",
            "576/913: ZxA88C8EF3B0DD7C105F06B48C151FB6813378C955C1EA6203.nii.gz downloaded\n",
            "577/913: ZxA92FB80B3A6C412260E6651B0695D3E4BB37DF4B0B958496.nii.gz downloaded\n",
            "578/913: ZxA8D32A5ECB8168C7F4604548458D9F688890E7B72A77A1A8.nii.gz downloaded\n",
            "579/913: ZxA8783853AC1492F1BEECA64B03416D3BBF7BED1DE0985EA3.nii.gz downloaded\n",
            "580/913: ZxA9790D652CB6D05C84BDBF01F47D0AFB4FE35E5DE8DF784F.nii.gz downloaded\n",
            "581/913: ZxA9790D652CB6D05C92E6AA5B2A87CDF102B6B5C8B92EB30C.nii.gz downloaded\n",
            "582/913: ZxAA65D147C435CAD5D711D4D03CE7EE6CD8FBD0995F71F8E1.nii.gz downloaded\n",
            "583/913: ZxA99F1F57C0D78BB4975028D7451513ECFA1F8FDCC1D8291C.nii.gz downloaded\n",
            "584/913: ZxAA4A09DA10FB3BF1FD33955272CCB989E4A91230EA99B1D0.nii.gz downloaded\n",
            "585/913: ZxAA273BD453728DAC178542491E52536C17E294ADCC76CB08.nii.gz downloaded\n",
            "586/913: ZxAAC0790F72C11A212DEA673071C71F172814ED2C4FBE33DE.nii.gz downloaded\n",
            "587/913: ZxAA767131DAB25B91FFFD47090A45916170B3CCC54BB52D65.nii.gz downloaded\n",
            "588/913: ZxAAC0790F72C11A218649543318C0B0934E8AE52E0C790A88.nii.gz downloaded\n",
            "589/913: ZxAAC0790F72C11A21866712169EF48A1707029E18B6F772CB.nii.gz downloaded\n",
            "590/913: ZxAB1E6165A4F97FA4FE3FB7CED514D82A0D51BBA8DB0E2996.nii.gz downloaded\n",
            "591/913: ZxAB6294B37A449AA964BC84B740714D10CD41C7D4C33D551F.nii.gz downloaded\n",
            "592/913: ZxAAE23650B9B4AA345EB7CD76F65A787606B6A4C55C368DB8.nii.gz downloaded\n",
            "593/913: ZxAAE23650B9B4AA34FC19B3EB0C8AD9B558DF076EA062D893.nii.gz downloaded\n",
            "594/913: ZxAB8413E050E6B483F28D7CEBAA5E4FCD6BE77076D62CC03A.nii.gz downloaded\n",
            "595/913: ZxABC17CFAF4F6320E505A7C6A13181DC809ABF975501DBCDE.nii.gz downloaded\n",
            "596/913: ZxAC0234ABF4E1D10F4AD0FD22EFBDFD8396669E8B6915E601.nii.gz downloaded\n",
            "597/913: ZxABF6FDD87B0B73F19B814C758A8894708A51B9B5EB5CC401.nii.gz downloaded\n",
            "598/913: ZxAC7AF4D4AA93212046D8BD720933BB15B7DC75032DDCDDF0.nii.gz downloaded\n",
            "599/913: ZxAC7B1B38B96FB7BD667F7AA8D95FA2E3AFDAFA42631FE379.nii.gz downloaded\n",
            "600/913: ZxAC7AF4D4AA93212033604DA258A3C5D6345F8A2537466754.nii.gz downloaded\n",
            "601/913: ZxACB9617CCE03C1D886BBE06140035A822CD22387DC32B8B6.nii.gz downloaded\n",
            "602/913: ZxACC4447A6BA1EC403FAB6F640D08F5A88F6A29DE3377AAA9.nii.gz downloaded\n",
            "603/913: ZxACB9617CCE03C1D8C28CFD4B649F9EEB1424D85723BDD5EB.nii.gz downloaded\n",
            "604/913: ZxACE4DC150A104C59EAB2D90DEA73A51C71F3C5716FF3FA96.nii.gz downloaded\n",
            "605/913: ZxAD02986A72D719698CB0EF1AE7F6D312C8937BB41BC0FCD0.nii.gz downloaded\n",
            "606/913: ZxAE238E8191029A131318F8CCF587A791E2CC0BD5F7D57D80.nii.gz downloaded\n",
            "607/913: ZxAD760D383496BF993B7C3CEF0B9AB2E3EC475B14006F010A.nii.gz downloaded\n",
            "608/913: ZxACE4DC150A104C59EBFB93F5244D1163F4F88256C211F9EF.nii.gz downloaded\n",
            "609/913: ZxAE84E65DFAE5468AE5985496628B1F6645A3F29550DDFE54.nii.gz downloaded\n",
            "610/913: ZxAE590FC3798601D32F4FEA88F30C04E22452E5D3D6E1329B.nii.gz downloaded\n",
            "611/913: ZxAE84E65DFAE5468A0DF71C5CBAF7E394833897B064792C49.nii.gz downloaded\n",
            "612/913: ZxAF3DA5750B69E9563B8455022C045F1238ED679D42F2FCAF.nii.gz downloaded\n",
            "613/913: ZxAEAB452B8148E0693BE2B17C694B413B079525301BD6871E.nii.gz downloaded\n",
            "614/913: ZxAF3DA5750B69E956D4F2ADDC3AA55218AF66620AA1BA92CB.nii.gz downloaded\n",
            "615/913: ZxAEAB452B8148E069C525E7AC43CF55113D042814C416F5E4.nii.gz downloaded\n",
            "616/913: ZxB06BFA95ACC19A1BC118657AD2BE2BE1DED5318B7CE6DC30.nii.gz downloaded\n",
            "617/913: ZxB0B65F16B756C04C10DB557AFD1ABF998061A1044CE55F0D.nii.gz downloaded\n",
            "618/913: ZxB03C746D57B71A3D860F8A8DA5FF0351F1A9C6BF623710A3.nii.gz downloaded\n",
            "619/913: ZxB22D1878278D3BF03FDC7DE7C41FF35397D34E011BBC1D5A.nii.gz downloaded\n",
            "620/913: ZxB1E644A9BA91B24975341F46EB4710A1373080D30B129229.nii.gz downloaded\n",
            "621/913: ZxB21FB0DEB2B1D4EF7B1AC7D8513AE12E32E302099A6530F6.nii.gz downloaded\n",
            "622/913: ZxB2377D8D34D0A21075B50F5899C98EAD9EC1ADD69A063446.nii.gz downloaded\n",
            "623/913: ZxB37B766FA98EB172F4358F562A02176F61F691DA7C1AFBCE.nii.gz downloaded\n",
            "624/913: ZxB341A2039401E8A693C60443A7CA3856C074FE2B3D0CDDBB.nii.gz downloaded\n",
            "625/913: ZxB304722538ECC8C844777B65CEF009FFB10289254AD0B202.nii.gz downloaded\n",
            "626/913: ZxB257D7CAB6A2BBB1FC9E3FB91F79D11FB72D53418B2AD7E6.nii.gz downloaded\n",
            "627/913: ZxB37E1CC1CCB0A0DC0B3D60AD80125B43ADAAE0C8717CC0CC.nii.gz downloaded\n",
            "628/913: ZxB506B2272F125EB0A5851A203282C03E5F16118AA97798EF.nii.gz downloaded\n",
            "629/913: ZxB37E1CC1CCB0A0DC5C9448C89F09222BA2AE06CAF45A4135.nii.gz downloaded\n",
            "630/913: ZxB5153E511119429D1DBFB3ADA85DACE4978C0D66980F3A77.nii.gz downloaded\n",
            "631/913: ZxB5837FCBA699D78F704AB333AE198A5DC67F47FE18BE61AE.nii.gz downloaded\n",
            "632/913: ZxB632718A589D2E6979A0795C786A12100D22627F2BBF3CFC.nii.gz downloaded\n",
            "633/913: ZxB75028940E6684147107D401A7E501BEA366F6EE3A9F527D.nii.gz downloaded\n",
            "634/913: ZxB7B55BFB145A343D3326E0AE0CF6188183B10F3FB55D6E51.nii.gz downloaded\n",
            "635/913: ZxB7B55BFB145A343D49B4E988FCCD3DCF867EE9B954124CC6.nii.gz downloaded\n",
            "636/913: ZxB7B55BFB145A343D06B37D039EC47901EF9B1D11A836893F.nii.gz downloaded\n",
            "637/913: ZxB76402A4CB4B5D54C00A30F3E999F71D29DB17A87A63228E.nii.gz downloaded\n",
            "638/913: ZxB7B55BFB145A343DB765258B0168F4083BE1972BD26F6D27.nii.gz downloaded\n",
            "639/913: ZxB97DC74E3BD1FC3EA2A39E78A59307BC77D5BCFB817840A0.nii.gz downloaded\n",
            "640/913: ZxB7D0B8532AC67796F7A9C1CD3F5D0E322EA7EF5992C6CA28.nii.gz downloaded\n",
            "641/913: ZxB98B85147CC28210B6234DA9EB7291C8671FD05EF1B163A3.nii.gz downloaded\n",
            "642/913: ZxB98D6A25EFB6B46257F13934DCBB67D67AABF1C197EBE918.nii.gz downloaded\n",
            "643/913: ZxBB3DA9A26362010408F93623114AC6FC48DDF06AC08A330B.nii.gz downloaded\n",
            "644/913: ZxB98D6A25EFB6B462DCD1468CF91B9B20C9F3616162C9E910.nii.gz downloaded\n",
            "645/913: ZxBCBA63BCCC1F7498FED5EE52802F4CB8572148F71BB5DEF3.nii.gz downloaded\n",
            "646/913: ZxBC48DEDAFC634693369C437ECA036D138D526992710C1E35.nii.gz downloaded\n",
            "647/913: ZxBCBA63BCCC1F7498AA92F4AF08511FFED09105BBFC63864E.nii.gz downloaded\n",
            "648/913: ZxBD12CBC5C10EDBB74BB5F0BD1DCAE7CE747854FC26ECB0BD.nii.gz downloaded\n",
            "649/913: ZxBD18E2DB7C51055DAF5B040481555B72D876A164010ECE45.nii.gz downloaded\n",
            "650/913: ZxBD18E2DB7C51055D5BA0317AF712F4D62E832C8FF35E916A.nii.gz downloaded\n",
            "651/913: ZxBD701431A8CE2FCB64098D585DF85DEA5181054BC20287D9.nii.gz downloaded\n",
            "652/913: ZxBD18E2DB7C51055D98D919A70E777B443B1839383002FDC0.nii.gz downloaded\n",
            "653/913: ZxBDAEDDE98351E478390DEB26B963A196E4A1B3D14C84E4F9.nii.gz downloaded\n",
            "654/913: ZxBE2A252CBA88052F4A6B548249B9D70F14E4552A09EFAC38.nii.gz downloaded\n",
            "655/913: ZxBD795C706A61AD0B20883C21877B09AFE59A5712FEC79EE6.nii.gz downloaded\n",
            "656/913: ZxBF9F6B8246A17E801F8444628309579BB19B24E8CCEC8153.nii.gz downloaded\n",
            "657/913: ZxBF4F3E1B31BB16E1DE2DFCD18AE121A6E64EB6602ED786DE.nii.gz downloaded\n",
            "658/913: ZxBEDA1D54EFEE77C5738FB5212C79AF06F67D93F2ACB61181.nii.gz downloaded\n",
            "659/913: ZxBF0F698B411246917A364BB025AA55E8D9B87833BB0D243D.nii.gz downloaded\n",
            "660/913: ZxC00AC887E580A439FB94EA0D14AA397D0E6A03655F32DE93.nii.gz downloaded\n",
            "661/913: ZxBFC362B2190DDFF8D3544073C39876A387B7143312625D30.nii.gz downloaded\n",
            "662/913: ZxC03412C145236A975609D495BC44B224260C3D9C4B96F23F.nii.gz downloaded\n",
            "663/913: ZxC00AC887E580A4399B5056E80AC55C95B43C634576F25D38.nii.gz downloaded\n",
            "664/913: ZxC21457C628454D036163771228053A7B04598F4CE0729DCE.nii.gz downloaded\n",
            "665/913: ZxC12A3E53C68E43C08218A1D261005883B0DF75AB7EC74631.nii.gz downloaded\n",
            "666/913: ZxC164015E40831B3B0E18A1E8FD9918DC82FF93BA48FAEED9.nii.gz downloaded\n",
            "667/913: ZxC2713F3C71BF01D81229251584A45694670859098A88DEB2.nii.gz downloaded\n",
            "668/913: ZxC302B531947E9D201CDC1FED08DC86F9DA4EFC29D26F9395.nii.gz downloaded\n",
            "669/913: ZxC406494721881851E1F496D5B54F4BCAD696815C35261E8B.nii.gz downloaded\n",
            "670/913: ZxC3159DBA2C781D710771BCA8F153D7303E1A5BD5755A176C.nii.gz downloaded\n",
            "671/913: ZxC42D3022E6C3CE0C9DD574BF1D93C2D9C1E994479C7E2B0B.nii.gz downloaded\n",
            "672/913: ZxC503A28B6BA92D6C0C9D87384B3B6CF6823CCA627A333938.nii.gz downloaded\n",
            "673/913: ZxC4F6B3B9C7E6DDBC7F1AD6F7FC97B7F3B3D68691720D4435.nii.gz downloaded\n",
            "674/913: ZxC5B47FC8970E84C0273DC3589FD1B49BE48E90082115EC11.nii.gz downloaded\n",
            "675/913: ZxC5B47FC8970E84C0A97545B64C3ABB98FA94324938D6CF7A.nii.gz downloaded\n",
            "676/913: ZxC5A60F462D64FC58AE3EF3CFC49C43D1F431325347CE517D.nii.gz downloaded\n",
            "677/913: ZxC6318FB836AF67167CE6490FFAE77E15B56B251B3A041BB8.nii.gz downloaded\n",
            "678/913: ZxC737C208E6570BA6984B75AC38E3C1588195434CDC017712.nii.gz downloaded\n",
            "679/913: ZxC7727DD69A597334CAC5442CC8D6A29205AD44A84A5D7413.nii.gz downloaded\n",
            "680/913: ZxC77C44FFAF20FF4D0097F83493E57B79C4CC5340939DE0AF.nii.gz downloaded\n",
            "681/913: ZxC73F3156008A07EBD69E384ECE987A0EF33EABE28189C16C.nii.gz downloaded\n",
            "682/913: ZxC826DAC67B41123025DA20E3AD13E51B6635CBC9F77937C7.nii.gz downloaded\n",
            "683/913: ZxC84914C04740C6E11D7199081CA921DAEA8E1BCAEB31F2F3.nii.gz downloaded\n",
            "684/913: ZxC7F93D23D81997D7158951EDAAC448DE709828F562E63B5C.nii.gz downloaded\n",
            "685/913: ZxC8B75DF8D012DD456F86FF58D58AA7094D2A7E810CDF8B89.nii.gz downloaded\n",
            "686/913: ZxC91A03F282E7ACD722E61B901D4E1C17D67E09F5A338B54B.nii.gz downloaded\n",
            "687/913: ZxCA065A9EBA3CD2FEBF2D7988CE5C02639004993FDACC584C.nii.gz downloaded\n",
            "688/913: ZxC947111E5302673E7B5336FD32C66BE6ACDD4B0D88053726.nii.gz downloaded\n",
            "689/913: ZxC947111E5302673E8F1E6011EBDEB6DB454BBC84348ED44D.nii.gz downloaded\n",
            "690/913: ZxCAE3BA395D8A16C03B99832D4D91B87170F2E863B2B502C0.nii.gz downloaded\n",
            "691/913: ZxCBB6AB235F8ED687B2E5F9B7E53A17774B138022B5AC6C06.nii.gz downloaded\n",
            "692/913: ZxCA41B3DD150137F9CA7D1459E9B006264D085DD41FFA3E31.nii.gz downloaded\n",
            "693/913: ZxCC42A7155619FA3723A3480D50BA7AEF6E56FB0AEBDED37E.nii.gz downloaded\n",
            "694/913: ZxCC42A7155619FA371FB3DB2B935EACC3D6EBD78BBFB45C31.nii.gz downloaded\n",
            "695/913: ZxCC42A7155619FA37696F6AC52A2BFB096D4099EADECA102B.nii.gz downloaded\n",
            "696/913: ZxCC856535297BF790CD4E1DD7BE48287AA4388D720C3EE609.nii.gz downloaded\n",
            "697/913: ZxCCAD69483E1ACED22C04C1D9E52283557FB83E247458ED16.nii.gz downloaded\n",
            "698/913: ZxCD050BB27F55FD0609CC2696F4A942E48F72FBFC999D7302.nii.gz downloaded\n",
            "699/913: ZxCCB3EEF9389115B646E3EB47019192E0854726CDB3E312B6.nii.gz downloaded\n",
            "700/913: ZxCD32F5B7681F372A88B3BBD26D9A96CC175CE6CFB96DCD5F.nii.gz downloaded\n",
            "701/913: ZxCD138093124CBE786F17D95DA59451835AABC33BC92BFA08.nii.gz downloaded\n",
            "702/913: ZxCD22575B2A17483C01B82F2F6DE4BC5E4EAF57DC653B24DC.nii.gz downloaded\n",
            "703/913: ZxCD257EAFFF590C8D384A40AF09D935286DF87F244B7F3775.nii.gz downloaded\n",
            "704/913: ZxCDBAABEAFF0945F2F51DDE708608B8FF955E96D01442BFCB.nii.gz downloaded\n",
            "705/913: ZxCDBAABEAFF0945F2DA1AD4FCD880F23DB474DA1FEF110000.nii.gz downloaded\n",
            "706/913: ZxCDA55434361C322D5A7B1D1BAF7053A6FE617652236BAFE6.nii.gz downloaded\n",
            "707/913: ZxCDF84F878A35674F0EA93802F8AC19331D291374E53ABFF3.nii.gz downloaded\n",
            "708/913: ZxCE3233B397229FB57DAF857481BD37BC969F4FA2ED9DC368.nii.gz downloaded\n",
            "709/913: ZxCEE7370FFD5B76396A645657D137C9BDF605494DD491495F.nii.gz downloaded\n",
            "710/913: ZxCEE7370FFD5B7639DB5450230398A3E2755399858B4FB4CF.nii.gz downloaded\n",
            "711/913: ZxCEAADBFE3E9E3BE3C5826BBFA949786D726FF1ECD0F66550.nii.gz downloaded\n",
            "712/913: ZxCE7B50D10790FBB39FC1B6628A65F67A6C2985DB420ED52D.nii.gz downloaded\n",
            "713/913: ZxD0A2B4448866BE260C17D6EC02D17FE93428DE78EA7D891E.nii.gz downloaded\n",
            "714/913: ZxCF53832A87A2A46F03F446DEA9CBDC35495D8AEDAD135C28.nii.gz downloaded\n",
            "715/913: ZxCFA9C6201E4F0D869A606586FE8E4F72A47076447E1C019E.nii.gz downloaded\n",
            "716/913: ZxD04A91569E96BC232412EBF2B3932A78F5E87E4810FEE32B.nii.gz downloaded\n",
            "717/913: ZxD1290BA3F2C808F2F3C5F8DDE17A1E377342D93BFA10E60E.nii.gz downloaded\n",
            "718/913: ZxD1290BA3F2C808F2F80F8C16260A410922E6A41441749C1F.nii.gz downloaded\n",
            "719/913: ZxD0D2911E085A983D6671361E4B4C6D3FC7C35E31ACDA7D2D.nii.gz downloaded\n",
            "720/913: ZxD26D574FB8A8997517EAD6CBA252D0260177319EDE6F8B2E.nii.gz downloaded\n",
            "721/913: ZxD1B631F69DBC3DEBF37414EEB04811A4324DA6C04CF7755C.nii.gz downloaded\n",
            "722/913: ZxD26D574FB8A899756132B8BFC67A656D4F934414F840EEE7.nii.gz downloaded\n",
            "723/913: ZxD246E0861FA461FEF9102BD21868EA7DA8E53DD651292A31.nii.gz downloaded\n",
            "724/913: ZxD2F758309F2A7F030892DF6DA54A0FD72A5F54C5F7525E21.nii.gz downloaded\n",
            "725/913: ZxD2FBB4FF1C67CBFF9F74149571CFB50D96778C44FB2E6925.nii.gz downloaded\n",
            "726/913: ZxD3CB0C4524F67A4D1B248517BD74525E363D1A47170D6D9E.nii.gz downloaded\n",
            "727/913: ZxD3A1E3E05CB6DAF6253A186B00684DCF2B1456D2C8A4C6E4.nii.gz downloaded\n",
            "728/913: ZxD3CB0C4524F67A4D646342B31322E3423F01E5FC56377C1A.nii.gz downloaded\n",
            "729/913: ZxD3CB0C4524F67A4DC680470CA749853F06FDEC73A6C14A4B.nii.gz downloaded\n",
            "730/913: ZxD3CB0C4524F67A4DC5FBFBA465B378E9AC0BACDD0EF9709F.nii.gz downloaded\n",
            "731/913: ZxD3CE7A44D5758F55184AD0B489A4B11590D73AB825543485.nii.gz downloaded\n",
            "732/913: ZxD4239CF331412759E7CB0E19371370F77FB73C911058F88F.nii.gz downloaded\n",
            "733/913: ZxD3CB0C4524F67A4DE1B73D2F73ECB0AD3A977955E0723A65.nii.gz downloaded\n",
            "734/913: ZxD4239CF331412759F1486169DA0268914B82EFFBAD8DCCE8.nii.gz downloaded\n",
            "735/913: ZxD4CE4B3B95995BE6E2E7864BDCEBFCDCF32B2C8F5579C682.nii.gz downloaded\n",
            "736/913: ZxD4C1AF01E7091BC3AB7EAE60CEAB8E356341351816C62D07.nii.gz downloaded\n",
            "737/913: ZxD4C1AF01E7091BC3D79A3DB1D0455BC0C143FAFF7D3B1036.nii.gz downloaded\n",
            "738/913: ZxD4CF37EF147DDEE980BAB4F5256CC86CA734F199E5512303.nii.gz downloaded\n",
            "739/913: ZxD60E89EC0F1BAB99880FC7C708FCB91A8C6C9016A4C07EE1.nii.gz downloaded\n",
            "740/913: ZxD5F8B7159FF3E7A2505AC148847D33C0617D505DE63C90DD.nii.gz downloaded\n",
            "741/913: ZxD5641DC2CF623756BAD8376E4F115597BE8498D65B27171B.nii.gz downloaded\n",
            "742/913: ZxD5E948C05461036341B88C0FFADF9B249FBE732D0D04EE04.nii.gz downloaded\n",
            "743/913: ZxD6DF80C967D2E90E1C9C5C27C1E582E828600D58A5E60075.nii.gz downloaded\n",
            "744/913: ZxD6C4F406BC86A116D7BB2ABC21FCDFCBA4130E5D631FD37D.nii.gz downloaded\n",
            "745/913: ZxD6C4F406BC86A11674870FC931D83E6EC6103F574DA73EB6.nii.gz downloaded\n",
            "746/913: ZxD6DF80C967D2E90E940E324ADA5DC75FB2EACEE9B975DC65.nii.gz downloaded\n",
            "747/913: ZxD75CC02AC0569F138B2A31126FFDC8E423AEAF8780510D07.nii.gz downloaded\n",
            "748/913: ZxD6DF80C967D2E90EBC2FEF38B1FF4CA7300C08C43BAD9AF0.nii.gz downloaded\n",
            "749/913: ZxD71EEE470B02A3F9A6E9392C61F29ABA2BF148719238E49D.nii.gz downloaded\n",
            "750/913: ZxD8736DEB1A7AFA67733E095769BBD236FFAD5150198E5109.nii.gz downloaded\n",
            "751/913: ZxD77AFB6361664508339CE17B0DF5B3AAED1BDA42A3502DF1.nii.gz downloaded\n",
            "752/913: ZxD7FF1A5CCDB3268EB8F0E8BED1F6BC4E036E21F79A779D91.nii.gz downloaded\n",
            "753/913: ZxD8B95D482831EFF00D2BB3D481433C0A924C3D020E8A3231.nii.gz downloaded\n",
            "754/913: ZxD8B230C0D0BEF0B9672C0DC060C5AA5FA3004A55B570427D.nii.gz downloaded\n",
            "755/913: ZxD98473A9FF420798519F7DE551DA5AA0E3449DD102379136.nii.gz downloaded\n",
            "756/913: ZxD8B05B79AB0360DC6AA08EAF2ABE755F8D85605805879606.nii.gz downloaded\n",
            "757/913: ZxDAAC876CFA344939B56A8FA4A9C2A0F0CF2E01E5A7BBD71F.nii.gz downloaded\n",
            "758/913: ZxDAADCC811EB06CD6036574077638DB70FD14E6F1C6BD4DA0.nii.gz downloaded\n",
            "759/913: ZxD9C2EB1D5809287187CFD08FABD6728D20DD6F5F6B17FEA9.nii.gz downloaded\n",
            "760/913: ZxDAAC876CFA3449393E221D61C00718DF4B6518BE90AF2800.nii.gz downloaded\n",
            "761/913: ZxDAADCC811EB06CD6BB950F7E47C153D7E3542485781AFEB5.nii.gz downloaded\n",
            "762/913: ZxDC02DACADFA8F2EE23859AFF42F9C5EEADD9086044C13C2F.nii.gz downloaded\n",
            "763/913: ZxDAFFB1D590F380D577E92A3E75618B9A54A1E02F3C6B05A2.nii.gz downloaded\n",
            "764/913: ZxDC7428EC3D364278C8C572A91D43CE78DBA3BE21C586EB3F.nii.gz downloaded\n",
            "765/913: ZxDCB1D0A8AFA3BE4CA12B6011371A4C18E857E6B34D0F6CBD.nii.gz downloaded\n",
            "766/913: ZxDC93EC2BB81B007F33928801B97350A6D04B45D18D49D8DB.nii.gz downloaded\n",
            "767/913: ZxDD934EA54F9887DE7226F9600B5832B9F911E437BB3C7E8B.nii.gz downloaded\n",
            "768/913: ZxDD934EA54F9887DE80AC3A5335A0251C1A50CC3AFF831D62.nii.gz downloaded\n",
            "769/913: ZxDDC98783970DFB11D4A232662B73F4B55348FEB38E7FB3BB.nii.gz downloaded\n",
            "770/913: ZxDDCE376763976E9B39DF8D27930E5D778F03F9FEDDBC93FB.nii.gz downloaded\n",
            "771/913: ZxDE6E31871D3BCA3D46EE27E9AA51F93AB021F98290A56E90.nii.gz downloaded\n",
            "772/913: ZxDF3DC44BB2FB0AB2DA9CC3A8231C0A5903627DFBF3950A49.nii.gz downloaded\n",
            "773/913: ZxDF0A09367AE792F5AC3F13CE884AA881C81F5D851CCFA042.nii.gz downloaded\n",
            "774/913: ZxDF52BE07D8B451590C980B79E102F084B2CA2A249043B4F7.nii.gz downloaded\n",
            "775/913: ZxE083D32FF1E7514BB2C10F023D95C83EB001D6872FE26011.nii.gz downloaded\n",
            "776/913: ZxE0AE769C4E0DA3D0B09A0DC1C10A72996137BE937DA56ECB.nii.gz downloaded\n",
            "777/913: ZxE083D32FF1E7514B0EDA38FFAE02012D86DDA8048E23E970.nii.gz downloaded\n",
            "778/913: ZxE14FC86D8DB8F334E238A7401495A6EA732432C1C512A641.nii.gz downloaded\n",
            "779/913: ZxE17161666FB01B0EC79D49DF3ECC93A77665EF5D978008F5.nii.gz downloaded\n",
            "780/913: ZxE19A26EE88FD1A5FDD1D4B225EB98B385544451605D664CB.nii.gz downloaded\n",
            "781/913: ZxE1BDE57D85B29E6B15D177EDCC0F89D6C6A550710B94F025.nii.gz downloaded\n",
            "782/913: ZxE1C1EDEA0C9958088B1F8DDDB67DA5BE4C07D089FFF2341C.nii.gz downloaded\n",
            "783/913: ZxE1BDE57D85B29E6B389E1EDFECA4768AE3321FF8D240C449.nii.gz downloaded\n",
            "784/913: ZxE1BEB9512A571D2E99020DC75503D198D8B93858B7A0C5DA.nii.gz downloaded\n",
            "785/913: ZxE247A12F8E55F962276E63028E66629A545B16754A43A10D.nii.gz downloaded\n",
            "786/913: ZxE22AA5B99B19F2C890526A3A3AD6AEC539EC1B3F06C1D967.nii.gz downloaded\n",
            "787/913: ZxE21C85C15C106DC872B2004FDBDDABCDF5E809CB43226796.nii.gz downloaded\n",
            "788/913: ZxE379608F86D71DD9646D356111707185B39FB15D03AB10CF.nii.gz downloaded\n",
            "789/913: ZxE379608F86D71DD957F64A826080DEC2BEC3664FE2D70DBE.nii.gz downloaded\n",
            "790/913: ZxE371E276426F15AAE78232321244D88B84128A3F7F8DC886.nii.gz downloaded\n",
            "791/913: ZxE371E276426F15AA8D214C6719F38F0D2344C50355E0393C.nii.gz downloaded\n",
            "792/913: ZxE40263269849298C9B82E3E259D319CD00326138BAED92EC.nii.gz downloaded\n",
            "793/913: ZxE4394052AA994301FCCF1981DCAB7FA6894C9CA788A8ACDC.nii.gz downloaded\n",
            "794/913: ZxE404B57455DB220618733B94A9C0E789AEB8E30AE3AEA44F.nii.gz downloaded\n",
            "795/913: ZxE379608F86D71DD9A2EE5FE1F9BCA94B1526AF3E1F5D036D.nii.gz downloaded\n",
            "796/913: ZxE4E1AD806CFDD7387E31269942B1C41457D1083FF77EBDA9.nii.gz downloaded\n",
            "797/913: ZxE51CD6EA3575F74215EDBE0D4E68DB731A4D9BF04E148504.nii.gz downloaded\n",
            "798/913: ZxE4B06F9D3330C64E3A3B6CBE49F2672B30913D7F3B9A6F91.nii.gz downloaded\n",
            "799/913: ZxE51CD6EA3575F7427A643DAF6A69364FF2F87E167717AFB2.nii.gz downloaded\n",
            "800/913: ZxE51CD6EA3575F742F16697D93AAB0FC5685020198DD07026.nii.gz downloaded\n",
            "801/913: ZxE51CD6EA3575F742FB1EB0773C7CB441A80836F0DE8DB3A9.nii.gz downloaded\n",
            "802/913: ZxE51CD6EA3575F7429C27DEF64C4BFCADCD22BBA3960B34A8.nii.gz downloaded\n",
            "803/913: ZxE5D510997A6C170C726F8AC962519B52E5615D89C34CE030.nii.gz downloaded\n",
            "804/913: ZxE5D406C8012C9EBEB11C5548C38B4E6925EC1CBECC33E524.nii.gz downloaded\n",
            "805/913: ZxE5432B1C0A8C6480EDCE8D6A04FD05C2893FA3335EEDC24A.nii.gz downloaded\n",
            "806/913: ZxE7279474581D135218F20333FE314E94583F697B1F36C9A1.nii.gz downloaded\n",
            "807/913: ZxE71B4C9943155CFC6C816D437F8F2C635B530E56B512DB2E.nii.gz downloaded\n",
            "808/913: ZxE62B5B6443A95B3A5713E8421C66F78DD835DE3F31E5A4DB.nii.gz downloaded\n",
            "809/913: ZxE7D33E9191145656D2090033DDB15467D0ABEF5B9CD3BA07.nii.gz downloaded\n",
            "810/913: ZxE76F21E1207D9B333A8ACB0D226F0AE32CAE95B9A3719154.nii.gz downloaded\n",
            "811/913: ZxE76F21E1207D9B33203B948479CE51CF2660CA56CEF4802F.nii.gz downloaded\n",
            "812/913: ZxE7E2340E9CF9166B6678365A0067728037A84C3D9AFF7C54.nii.gz downloaded\n",
            "813/913: ZxE7E2340E9CF9166BF0A907CA26D681BCC9AA5D58036067C3.nii.gz downloaded\n",
            "814/913: ZxE84E7BDF03716E4777D192E2B3EFC3F52E88D0AEA4B2D2B4.nii.gz downloaded\n",
            "815/913: ZxE838529A9632FE4ED138A9C6833B57C5AA66F9A094A926EC.nii.gz downloaded\n",
            "816/913: ZxE9221E1FC86DE0DDD166CB91CB6770DB293046EECA5CF889.nii.gz downloaded\n",
            "817/913: ZxE90454592D06545CC14B4A48E7BB560D689A90D0B1C5B3F2.nii.gz downloaded\n",
            "818/913: ZxE8BB30B13CD98B71FBDEFD813621F5B6C62329C1F80AE0BF.nii.gz downloaded\n",
            "819/913: ZxE973E9FCEBE3F7263431A7B7D86046C56FFE33AB14126156.nii.gz downloaded\n",
            "820/913: ZxE973E9FCEBE3F726D6E4569815ABEF96F5C03D19C5C421D7.nii.gz downloaded\n",
            "821/913: ZxE95E62069BD19852B3213F41681B488E3608E3272E5DEB14.nii.gz downloaded\n",
            "822/913: ZxEA628EF42779B6CE7E30493E1FAA3EC3F9F22FB4DA178DDB.nii.gz downloaded\n",
            "823/913: ZxEA4F23B79CF6B8981977B8B2A2F930403ABA5D6E4227FB82.nii.gz downloaded\n",
            "824/913: ZxEC0E5E55E3DBBEEEFF25AEE8D486FF799B784094D0691E46.nii.gz downloaded\n",
            "825/913: ZxEACFC663D819866E172E1DD2EC69EF67339C975F9A23A451.nii.gz downloaded\n",
            "826/913: ZxEA84E9C33FF59089079E65848869AE432A0E481F841465AE.nii.gz downloaded\n",
            "827/913: ZxEC4B3844F2A31399BBCEA3D0AD8E65FB317414DAF0A4BF04.nii.gz downloaded\n",
            "828/913: ZxED2E914A90709FC7025E86E7E0C607F5DDFF77BFA7DF33AD.nii.gz downloaded\n",
            "829/913: ZxEC4B3844F2A31399E6F4425E419F18603BBC720D8BDF8589.nii.gz downloaded\n",
            "830/913: ZxED2E914A90709FC7ABF2128E5E869C16038B04D30BA302CA.nii.gz downloaded\n",
            "831/913: ZxED2E914A90709FC7AA6D521F96ECF8FBC5E1BDE9B0B33F80.nii.gz downloaded\n",
            "832/913: ZxEDA3B604F954952AD37479E6397076219F913FA374133536.nii.gz downloaded\n",
            "833/913: ZxED7B1BDA85AD42455DBFBF89EE268C7A0D8EEE5718603F6A.nii.gz downloaded\n",
            "834/913: ZxEDA3B604F954952A1B17F96513DFFF49661FFEC58FB62C8D.nii.gz downloaded\n",
            "835/913: ZxEDC3B8653928851A2D4A9E8C15F06DAFFA206D965821B634.nii.gz downloaded\n",
            "836/913: ZxEDAC8FBEDCAA7CDF1EFEC9F6632D7ABCABDB4A3B4DF2103C.nii.gz downloaded\n",
            "837/913: ZxEDE48C5B4D220391526FD0794173A5FD0153C6526362987C.nii.gz downloaded\n",
            "838/913: ZxEEF586ADFB6E46F62FB6693837C48E4682A4D4517F457635.nii.gz downloaded\n",
            "839/913: ZxEE9C011A6281CD150FDA654D8FA330DC28BF038E2A0AF9C3.nii.gz downloaded\n",
            "840/913: ZxEEE8DBA4F76BDE201ED4EFE8362A11C774ED0E05F09F2146.nii.gz downloaded\n",
            "841/913: ZxEF67EB2287C54DE9D545EA9F8D764BD5702AF9829424464E.nii.gz downloaded\n",
            "842/913: ZxEF0BE9C4F50812C7588CC926E37C66096A185BF929592C69.nii.gz downloaded\n",
            "843/913: ZxEF511B489D3D04DD06E2FA29A75D940146DD16563BD866C4.nii.gz downloaded\n",
            "844/913: ZxEFE5BD25C865B7E8EC5C4FB637D285F20044EECAA9ADF616.nii.gz downloaded\n",
            "845/913: ZxEF9D1B1DF042534A0939E5FB0778C2616810D53369BE544D.nii.gz downloaded\n",
            "846/913: ZxF04C2DF647FC447F3743DCA712745B7BD7A7297A54FE5FC8.nii.gz downloaded\n",
            "847/913: ZxF05120573C427C0597890DF3A1CE26BC669097F3F1694F7C.nii.gz downloaded\n",
            "848/913: ZxF11089D64DA1DFE18A84F981E53FFFC6654045FF6009E0B2.nii.gz downloaded\n",
            "849/913: ZxF1263E938D17E1CD8CCEE22297A51F306D5B93C1DBD4BDBC.nii.gz downloaded\n",
            "850/913: ZxF1D8E31B55562E67EBA90A70362DA561740036733C5C1E5C.nii.gz downloaded\n",
            "851/913: ZxF1141B608E0DB6FFD087499CA1EE80EF6EBBF7089754B466.nii.gz downloaded\n",
            "852/913: ZxF2705A350ACE282D407763E07A9521B129903BCDED48B8DD.nii.gz downloaded\n",
            "853/913: ZxF2CBBEF4B2DBE32F70C902DAE7CDD8738979F5595658F783.nii.gz downloaded\n",
            "854/913: ZxF21344F244DC0BDA313A08EBC59DD9D38C96FCC9A7DB2DB4.nii.gz downloaded\n",
            "855/913: ZxF315E683A82DD572491CCFD95E06CE8D48242B630B275726.nii.gz downloaded\n",
            "856/913: ZxF315D58E2CF14B76EA69E8709BBFC07A2CA3FC1E068040D5.nii.gz downloaded\n",
            "857/913: ZxF4E35FFB8721136A4933F9FBDB076B935DC6F2B47E42125B.nii.gz downloaded\n",
            "858/913: ZxF3EDCFF4D2AB58B7B057CA8F15C5213975B3648FE3EDDAC9.nii.gz downloaded\n",
            "859/913: ZxF4650E9B1504D7A61A287B264E50A320FC0F56206D8F889A.nii.gz downloaded\n",
            "860/913: ZxF3EDCFF4D2AB58B7AF8CD5FEA1AE792A697564A3A0D1158C.nii.gz downloaded\n",
            "861/913: ZxF5096D162C108C6D1633924346CE778E67DA71A47BCECD0E.nii.gz downloaded\n",
            "862/913: ZxF4E35FFB8721136AF9AA14E6F0C380A4C0B3BAB5F2560EE8.nii.gz downloaded\n",
            "863/913: ZxF66AF9C3CA0DD99E006E8F6FA52C8A3ABA723F5A21294F9A.nii.gz downloaded\n",
            "864/913: ZxF652001E94225B4A23A4A954155BE1BEB9FA4804B68769F6.nii.gz downloaded\n",
            "865/913: ZxF652001E94225B4ADFB12383336103ECFEBA6D204AA32B9E.nii.gz downloaded\n",
            "866/913: ZxF58A14D8AA05B54FD82F791D4C0A024ECD0F41D9CB4E740D.nii.gz downloaded\n",
            "867/913: ZxF68BEE7E1F60DFA987A5CAF050A21BB2C8E5752CC1995DC8.nii.gz downloaded\n",
            "868/913: ZxF68BEE7E1F60DFA9C9AB9165A7C798CF667472DA902812F6.nii.gz downloaded\n",
            "869/913: ZxF6C74D5FFC69B6EA16D84D90132DF4FEEC24B8AFB78AC6B6.nii.gz downloaded\n",
            "870/913: ZxF6C74D5FFC69B6EAB402E825C2C7190CDBFFE4FBF2B6BC74.nii.gz downloaded\n",
            "871/913: ZxF6EE91DABD349B4AB88DFDE359B6D2C44837410638B68866.nii.gz downloaded\n",
            "872/913: ZxF740369C873AA046C77D3A7F253BB0780E00233DB92B4037.nii.gz downloaded\n",
            "873/913: ZxF6EE91DABD349B4A40832147C04C15C06A14E3CCD221F33C.nii.gz downloaded\n",
            "874/913: ZxF7E38D9EAC1BF4A8900F4833760CD4BC93B28F2DD1DA4662.nii.gz downloaded\n",
            "875/913: ZxF77F6D49315BC4745300157B6FABC8BEE25F0F4C4C0209DC.nii.gz downloaded\n",
            "876/913: ZxF78584259A680C72F8E790CB81DFB1AD7CE260C49C0D9692.nii.gz downloaded\n",
            "877/913: ZxF78584259A680C72789533BACB5A9B762D04B3EFE5A3376E.nii.gz downloaded\n",
            "878/913: ZxF752E48B1F00DB74869D170A132A88E33A4B892B007EBFBE.nii.gz downloaded\n",
            "879/913: ZxF8C431A13165137AB38AD9F8401ECF01C7FF9311D4C5EFFB.nii.gz downloaded\n",
            "880/913: ZxF9654BAB07B0415EC280458E14F382A4DABCC4076DF3359D.nii.gz downloaded\n",
            "881/913: ZxF8D0A211F87F12AF7B420DB5FDFE118A6D4C1A911885425B.nii.gz downloaded\n",
            "882/913: ZxF7E38D9EAC1BF4A89DE0FBC6B8A3E2248ACFFDE3782E18AE.nii.gz downloaded\n",
            "883/913: ZxF9F4AF14D7B1EF7CD85451CABDD3FE1FDE0CF669B1D18B67.nii.gz downloaded\n",
            "884/913: ZxF9F4AF14D7B1EF7C3EE19FF778359FEE681702C00D80568F.nii.gz downloaded\n",
            "885/913: ZxF9F4AF14D7B1EF7C8A8B81093B86586B95997D0897E53F7C.nii.gz downloaded\n",
            "886/913: ZxF9F4AF14D7B1EF7C8A9B752879EC4ECFFB5FCDFCF843C9C3.nii.gz downloaded\n",
            "887/913: ZxF9F4AF14D7B1EF7CE722B4FC916ECAA3B0DD72CD861A4460.nii.gz downloaded\n",
            "888/913: ZxFA97E60E42060D9059E3756F2068A6F7F11DCA3C42469C33.nii.gz downloaded\n",
            "889/913: ZxF9F4AF14D7B1EF7CDC6F8B4AF9C24B1D2679C76AAC1B8010.nii.gz downloaded\n",
            "890/913: ZxF9FB7F731AE2DCEAA653D01FDDCFB8C1F55078F52FD3CBF0.nii.gz downloaded\n",
            "891/913: ZxFBB0181FCAF1CAB696C6F9AE42517E0BA6245896131FB124.nii.gz downloaded\n",
            "892/913: ZxFABAF7EB4A6A337DAC455318150E97C294299A3806397653.nii.gz downloaded\n",
            "893/913: ZxFB899E31B6D8BE100DFFC67985BA43EDB2743EE7A3CCE22C.nii.gz downloaded\n",
            "894/913: ZxFBBCCC5E909887D98798E50C1BA4E75F67FFFBF33B653064.nii.gz downloaded\n",
            "895/913: ZxFD05F92AFD745EFDDF1E3123D3080D14D0C5EB6FD54083D9.nii.gz downloaded\n",
            "896/913: ZxFC585268A1A63205CF3C1BB8A4A0A2C32F68004414D9F1D1.nii.gz downloaded\n",
            "897/913: ZxFC07BE7D85CCF82D60FB84BBFD2CBA613C665DEABDEBCB7F.nii.gz downloaded\n",
            "898/913: ZxFC844751E4BC264FA5C360F4807B1B04F639935B755AE982.nii.gz downloaded\n",
            "899/913: ZxFD808B7419E590992EA61CABB2AFFA616410E02635529AD8.nii.gz downloaded\n",
            "900/913: ZxFD808B7419E590990E1632C52DF44EE1E26A2CBF9C4A616D.nii.gz downloaded\n",
            "901/913: ZxFE087EAB297CA731B8DBD01407C31C992274CA97F8770F37.nii.gz downloaded\n",
            "902/913: ZxFD8D565F7CFAEA22C980A585E7A7937AAE5EB20D3C6590E3.nii.gz downloaded\n",
            "903/913: ZxFE269EDFD4EE0330B3D6C645D89AE017B8B14C72E713EBB4.nii.gz downloaded\n",
            "904/913: ZxFE280A8E0C448EA083FEDDDC85B47E70AF62C489881C066B.nii.gz downloaded\n",
            "905/913: ZxFEFF9C9555D60C4A447AE2172976D86C6F1E6018597F8530.nii.gz downloaded\n",
            "906/913: ZxFF33BBA53245DC11656AD674EDAC74459F773A394590234E.nii.gz downloaded\n",
            "907/913: ZxFF3D6B912E3F1986C7A67E92219D38CCA5FC12F6DFC9D169.nii.gz downloaded\n",
            "908/913: ZxFF050F121B008A9A3447A15F3C5F8A780BC44C8C62B2A4F6.nii.gz downloaded\n",
            "909/913: ZxFF416C96EF954FE1720C04968292DDE45BBEC2E4E5A74055.nii.gz downloaded\n",
            "910/913: ZxFF823BD50CB342CE9DEDCD690E770B716F837D2CE9A22352.nii.gz downloaded\n",
            "911/913: ZxFF51EAF10B09D34C7AE7C6543942C9000C78DF2C64EAF6A3.nii.gz downloaded\n",
            "912/913: ZxFFDF9619CAEA38ABE54015BA803F317F987FD3903FA531CF.nii.gz downloaded\n",
            "913/913: ZxFF51EAF10B09D34C5B5B3068CE83017279F3AFB5644E093F.nii.gz downloaded\n"
          ]
        }
      ]
    },
    {
      "cell_type": "code",
      "source": [
        "!curl ipecho.net/plain"
      ],
      "metadata": {
        "colab": {
          "base_uri": "https://localhost:8080/"
        },
        "id": "M0o3a7eXiV7b",
        "outputId": "7d4a55c5-a9c9-4141-847e-ba4d7d8ae5ed"
      },
      "execution_count": null,
      "outputs": [
        {
          "output_type": "stream",
          "name": "stdout",
          "text": [
            "34.80.136.131"
          ]
        }
      ]
    },
    {
      "cell_type": "markdown",
      "source": [
        "Use http request pulic links of google drive files  to download (error 403. be blocked from google)"
      ],
      "metadata": {
        "id": "0e-g7Blb91a0"
      }
    },
    {
      "cell_type": "code",
      "source": [
        "# from kora.xattr import get_id\n",
        "# import requests\n",
        "# from fake_useragent import UserAgent\n",
        "# import time\n",
        "\n",
        "# # user_agents = [\n",
        "# #     \"Mozilla/5.0 (Windows NT 10.0; Win64; x64) AppleWebKit/537.36 (KHTML, like Gecko) Chrome/90.0.4430.212 Safari/537.36\",  # Chrome on Windows 10\n",
        "# #     \"Mozilla/5.0 (Macintosh; Intel Mac OS X 10_15_7) AppleWebKit/605.1.15 (KHTML, like Gecko) Version/14.0.3 Safari/605.1.15\",  # Safari on macOS\n",
        "# #     \"Mozilla/5.0 (Windows NT 10.0; Win64; x64; rv:88.0) Gecko/20100101 Firefox/88.0\",  # Firefox on Windows 10\n",
        "# #     \"Mozilla/5.0 (iPhone; CPU iPhone OS 14_4 like Mac OS X) AppleWebKit/605.1.15 (KHTML, like Gecko) Version/14.0 Mobile/15E148 Safari/604.1\",  # Safari on iPhone\n",
        "# #     \"Mozilla/5.0 (Linux; Android 10; SM-G973F) AppleWebKit/537.36 (KHTML, like Gecko) Chrome/90.0.4430.210 Mobile Safari/537.36\",  # Chrome on Android\n",
        "# #     \"Mozilla/5.0 (X11; Ubuntu; Linux x86_64; rv:88.0) Gecko/20100101 Firefox/88.0\"  # Firefox on Ubuntu Linux\n",
        "# # ]\n",
        "# # headers = {\n",
        "# #     'User-Agent': random.choice(user_agents)\n",
        "# # }\n",
        "# ua = UserAgent()\n",
        "\n",
        "# files_on_drive = os.listdir(drive_rootdir+'/'+datadir)\n",
        "# files_in_localdir = os.listdir(f\"/content/{datadir}\")\n",
        "# files_to_download = [f for f in files_on_drive if f not in files_in_localdir]\n",
        "# files = [(filename, get_id(f'{drive_rootdir}/{datadir}/{filename}')) for filename in files_to_download]\n",
        "# # print(headers)\n",
        "\n",
        "# t = random.randint(20,30)\n",
        "\n",
        "# with requests.Session() as session:\n",
        "#   for idx, (name, id) in enumerate(files):\n",
        "#     headers = {'User-Agent': ua.random}\n",
        "#     # print(headers)\n",
        "#     url = f\"https://drive.google.com/uc?id={id}&confirm=t\"\n",
        "#     # url = f\"https://drive.google.com/file/d/{id}/view?usp=drive_link\"\n",
        "#     # url = f\"https://drive.google.com//uc?id={id}&confirm=t&usp=sharing\"\n",
        "#     response = session.get(url, headers=headers, allow_redirects=True)\n",
        "#     if response.status_code == 200:\n",
        "#         with open(f\"/content/{datadir}/{name}\", 'wb') as file:\n",
        "#             file.write(response.content)\n",
        "#         print(f\"{idx+1}/{len(files)}: {name}\")\n",
        "#     elif response.status_code == 403:\n",
        "#         print(f\"Error: Unable to download file. Status code: {response.status_code}\")\n",
        "#         # headers = {\n",
        "#         #   'User-Agent': random.choice(user_agents)\n",
        "#         # }\n",
        "#         # print(headers)\n",
        "#         s = random.randint(300,600)\n",
        "#         print(f\"sleeping {s} secondes...\")\n",
        "#         time.sleep(s)\n",
        "#     else:\n",
        "#         print(f\"Error: Unable to download file. Status code: {response.status_code}\")\n",
        "\n",
        "#     # if (idx+1) % t  == 0:\n",
        "#     #   s = random.randint(60,300)\n",
        "#     #   print(f\"sleeping {s} secondes...\")\n",
        "#     #   time.sleep(s)\n",
        "#     #   t = random.randint(20,30)\n",
        "\n",
        "# # files_on_drive = os.listdir(drive_rootdir+'/'+datadir)\n",
        "# # files_in_localdir = os.listdir(f\"/content/{datadir}\")\n",
        "# # files_to_download = [f for f in files_on_drive if f not in files_in_localdir]\n",
        "# # files = [(filename, get_id(f'{drive_rootdir}/{datadir}/{filename}')) for filename in files_to_download]\n",
        "# # for idx, (name, id) in enumerate(files):\n",
        "# #   gdown.download(f\"https://drive.google.com/uc?id={id}&confirm=t\", output=f\"/content/{datadir}/{name}\", quiet=True, use_cookies=False)\n",
        "# #   print(f\"{idx+1}/{len(files)}: {name}\")"
      ],
      "metadata": {
        "id": "RUZd5b8QlKRZ"
      },
      "execution_count": null,
      "outputs": []
    },
    {
      "cell_type": "code",
      "source": [
        "len(os.listdir(datadir))"
      ],
      "metadata": {
        "id": "xXH5tN8Jq4Vn",
        "colab": {
          "base_uri": "https://localhost:8080/"
        },
        "outputId": "35f7e44b-311b-4b7d-8f82-b1af9e91f8df"
      },
      "execution_count": 114,
      "outputs": [
        {
          "output_type": "execute_result",
          "data": {
            "text/plain": [
              "56"
            ]
          },
          "metadata": {},
          "execution_count": 114
        }
      ]
    },
    {
      "cell_type": "markdown",
      "source": [
        "Directly reading files from mounted google drive  \n",
        "**unknown error**: stuck after reading 9 nii files"
      ],
      "metadata": {
        "id": "b8N6QgZI-vWk"
      }
    },
    {
      "cell_type": "code",
      "source": [
        "# # 測試直接從mount下載\n",
        "# labelpath = '/content/drive/MyDrive/AOCR2024/TrainValid_ground_truth.csv'\n",
        "# datadir =\"/content/drive/MyDrive/AOCR2024/Train_Valid_Image\"\n",
        "\n",
        "# process_data2(termi=5,shift=0,dropFalse=0,dropPos=0)"
      ],
      "metadata": {
        "id": "vWZgPEJQ0C9o"
      },
      "execution_count": null,
      "outputs": []
    },
    {
      "cell_type": "code",
      "source": [
        "# # 測試下載\n",
        "# labelpath = '/content/drive/MyDrive/AOCR2024/TrainValid_ground_truth.csv'\n",
        "\n",
        "# dflabel = read_label(labelpath)\n",
        "# images, labels, _ =  process_data2(termi=3,shift=2,dropFalse=0,dropPos=0)"
      ],
      "metadata": {
        "colab": {
          "base_uri": "https://localhost:8080/"
        },
        "id": "dzXqivsbxDmZ",
        "outputId": "b9d47b5c-0e87-49dc-aa36-4738833d65d3"
      },
      "execution_count": 91,
      "outputs": [
        {
          "output_type": "stream",
          "name": "stdout",
          "text": [
            "xlim=[60, 316]\n",
            "ylim=[150, 406]\n",
            "zlim=[11, 71]\n",
            "Process 0: Zx0AA2C956EEA5EAEA0DC0DA2606A8F8D0F334B97FDD860E1F finished...\n",
            "Process 1: Zx08DA48B45B5C7D0182C369B8E0B013CAF9EEA43199E8AFEF finished...\n",
            "Process 2: Zx0800DE5C96380322E442453B99E25D6F1282F2C4A610A497 finished...\n",
            "read 3 scans\n"
          ]
        }
      ]
    },
    {
      "cell_type": "code",
      "source": [
        "# s1 = labels[0:60]\n",
        "# s2 = labels[60:120]\n",
        "# s3 = labels[120:180]\n",
        "# s2"
      ],
      "metadata": {
        "id": "m-pRFYuy0xca"
      },
      "execution_count": 95,
      "outputs": []
    },
    {
      "cell_type": "markdown",
      "metadata": {
        "id": "s0ME8m8YBRFR"
      },
      "source": [
        "# 資料處理"
      ]
    },
    {
      "cell_type": "code",
      "source": [
        "labelpath = '/content/drive/MyDrive/AOCR2024/TrainValid_ground_truth.csv'\n",
        "\n",
        "dflabel = read_label(labelpath)\n",
        "total_nii = len(os.listdir(datadir))\n",
        "images, labels, _ =  process_data2(termi=1,shift=2,dropFalse=,dropPos=0)"
      ],
      "metadata": {
        "id": "WFJpwdc4cSci",
        "colab": {
          "base_uri": "https://localhost:8080/"
        },
        "outputId": "0f22dae5-97f4-42e4-b9ba-7392a9c0282a"
      },
      "execution_count": 64,
      "outputs": [
        {
          "output_type": "stream",
          "name": "stdout",
          "text": [
            "xlim=[60, 316]\n",
            "ylim=[150, 406]\n",
            "zlim=[11, 71]\n",
            "Process 0: ZxF315D58E2CF14B76EA69E8709BBFC07A2CA3FC1E068040D5 finished...\n",
            "read 1 scans\n"
          ]
        }
      ]
    },
    {
      "cell_type": "code",
      "source": [
        "# images.shape"
      ],
      "metadata": {
        "colab": {
          "base_uri": "https://localhost:8080/"
        },
        "id": "zpg7WQ-YIvCl",
        "outputId": "c8f7a8ba-9c14-4a80-d8f7-3f44351bc472"
      },
      "execution_count": 65,
      "outputs": [
        {
          "output_type": "execute_result",
          "data": {
            "text/plain": [
              "torch.Size([2, 1, 256, 256])"
            ]
          },
          "metadata": {},
          "execution_count": 65
        }
      ]
    },
    {
      "cell_type": "code",
      "source": [
        "# len(labels)"
      ],
      "metadata": {
        "colab": {
          "base_uri": "https://localhost:8080/"
        },
        "id": "WC2Zjl9fI0pm",
        "outputId": "9b73454e-b0b0-4563-ed19-eaec959ad1bc"
      },
      "execution_count": 66,
      "outputs": [
        {
          "output_type": "execute_result",
          "data": {
            "text/plain": [
              "2"
            ]
          },
          "metadata": {},
          "execution_count": 66
        }
      ]
    },
    {
      "cell_type": "code",
      "source": [
        "# labels"
      ],
      "metadata": {
        "id": "x9QVRrY2L1VN",
        "outputId": "99bd949e-c67c-4cdf-9622-01e8cf6d227d",
        "colab": {
          "base_uri": "https://localhost:8080/"
        }
      },
      "execution_count": 67,
      "outputs": [
        {
          "output_type": "execute_result",
          "data": {
            "text/plain": [
              "tensor([1., 1.])"
            ]
          },
          "metadata": {},
          "execution_count": 67
        }
      ]
    },
    {
      "cell_type": "code",
      "source": [
        "# images"
      ],
      "metadata": {
        "id": "1U8IlMjbME2H",
        "outputId": "b99ee227-e99b-4b6f-fd1c-7013e390e33e",
        "colab": {
          "base_uri": "https://localhost:8080/"
        }
      },
      "execution_count": 68,
      "outputs": [
        {
          "output_type": "execute_result",
          "data": {
            "text/plain": [
              "tensor([[[[  -99.,  -105.,  -108.,  ..., -1002.,  -993.,  -986.],\n",
              "          [  -90.,  -101.,  -114.,  ..., -1000.,  -990.,  -987.],\n",
              "          [  -91.,   -97.,  -105.,  ..., -1003., -1001.,  -998.],\n",
              "          ...,\n",
              "          [  293.,   275.,   240.,  ...,  -955.,  -965.,  -954.],\n",
              "          [  318.,   295.,   265.,  ...,  -956.,  -969.,  -960.],\n",
              "          [  300.,   285.,   279.,  ...,  -952.,  -962.,  -945.]]],\n",
              "\n",
              "\n",
              "        [[[ -122.,  -110.,  -100.,  ...,  -986.,  -989., -1001.],\n",
              "          [ -114.,  -109.,  -102.,  ...,  -986.,  -994., -1004.],\n",
              "          [ -105.,  -101.,  -103.,  ..., -1001., -1010., -1007.],\n",
              "          ...,\n",
              "          [   89.,   109.,    93.,  ...,  -937.,  -966.,  -952.],\n",
              "          [   99.,   117.,   113.,  ...,  -937.,  -961.,  -939.],\n",
              "          [  113.,   130.,   129.,  ...,  -939.,  -943.,  -919.]]]])"
            ]
          },
          "metadata": {},
          "execution_count": 68
        }
      ]
    },
    {
      "cell_type": "code",
      "source": [
        "# %reset_selective images"
      ],
      "metadata": {
        "id": "jeAD7ynnVOWw"
      },
      "execution_count": null,
      "outputs": []
    },
    {
      "cell_type": "code",
      "source": [
        "# %reset"
      ],
      "metadata": {
        "id": "ZWaEl6uf0eLv"
      },
      "execution_count": null,
      "outputs": []
    },
    {
      "cell_type": "markdown",
      "metadata": {
        "id": "0IX5HYZuSKG-"
      },
      "source": [
        "# 訓練 (EfficiencyNetV2_m)"
      ]
    },
    {
      "cell_type": "code",
      "source": [
        "class CustomDataset(Dataset):\n",
        "    def __init__(self, images, labels):\n",
        "        self.images = images\n",
        "        self.labels = labels\n",
        "\n",
        "    def __len__(self):\n",
        "        return len(self.images)\n",
        "\n",
        "    def __getitem__(self, idx):\n",
        "        return self.images[idx], self.labels[idx]"
      ],
      "metadata": {
        "id": "PjcZY1-Oehib"
      },
      "execution_count": null,
      "outputs": []
    },
    {
      "cell_type": "code",
      "source": [
        "model_name = \"tf_efficientnetv2_m\"\n",
        "pretrained_model = timm.create_model(model_name, pretrained=True)\n",
        "\n",
        "# 修改輸入通道\n",
        "pretrained_model.conv_stem = nn.Conv2d(1, 24, kernel_size=3, stride=2, padding=1, bias=False)\n",
        "\n",
        "# 修改輸出類別\n",
        "num_classes = 1\n",
        "pretrained_model.classifier = nn.Linear(pretrained_model.classifier.in_features, num_classes)\n",
        "\n",
        "# 添加 Sigmoid 激活函數\n",
        "pretrained_model = nn.Sequential(\n",
        "    pretrained_model,\n",
        "    nn.Sigmoid()\n",
        ")\n",
        "\n",
        "# 檢查模型結構\n",
        "# print(pretrained_model)\n"
      ],
      "metadata": {
        "id": "jZ0cSVS51BHz"
      },
      "execution_count": null,
      "outputs": []
    },
    {
      "cell_type": "code",
      "source": [
        "def between_epoch():\n",
        "  del images, labels\n",
        "  images, labels, _ = process_data2(termi=total_nii, shift=0,dropFalse=0.8, dropPos=0)\n",
        "  dataset = CustomDataset(images, labels)\n",
        "  dataloader = DataLoader(dataset, batch_size=batch_size, shuffle=True, drop_last=True)\n",
        "  return dataloader"
      ],
      "metadata": {
        "id": "Ykire39uf_n_"
      },
      "execution_count": null,
      "outputs": []
    },
    {
      "cell_type": "code",
      "execution_count": null,
      "metadata": {
        "id": "SdKCQjs_Ozum"
      },
      "outputs": [],
      "source": [
        "# 訓練參數\n",
        "num_epochs = 10\n",
        "batch_size = 8\n",
        "lr = 0.01\n",
        "running_loss_list = []\n",
        "\n",
        "# 初始化模型、損失函數和優化器\n",
        "model = pretrained_model\n",
        "criterion = nn.BCELoss()\n",
        "optimizer = optim.Adam(model.parameters(), lr)\n",
        "model = model.to(device)\n",
        "\n",
        "dataset = CustomDataset(images, labels)\n",
        "dataloader = DataLoader(dataset, batch_size=batch_size, shuffle=True, drop_last=True)\n",
        "\n",
        "for epoch in range(num_epochs):\n",
        "    model.train()\n",
        "    running_loss = 0.0\n",
        "\n",
        "    for batch_images, batch_labels in dataloader:\n",
        "        batch_images, batch_labels = batch_images.to(device), batch_labels.to(device)\n",
        "\n",
        "        optimizer.zero_grad()\n",
        "        outputs = model(batch_images)\n",
        "        outputs = outputs.squeeze()\n",
        "        loss = criterion(outputs, batch_labels)\n",
        "        loss.backward()\n",
        "        optimizer.step()\n",
        "\n",
        "        running_loss += loss.item()\n",
        "\n",
        "    dataloader = between_epoch()\n",
        "\n",
        "    running_loss_list.append(running_loss/len(dataloader))\n",
        "    print(f\"Epoch {epoch+1}, Loss: {running_loss/len(dataloader)}\")"
      ]
    },
    {
      "cell_type": "markdown",
      "metadata": {
        "id": "rhLO9PaUESQh"
      },
      "source": [
        "## Loss圖"
      ]
    },
    {
      "cell_type": "code",
      "execution_count": null,
      "metadata": {
        "id": "uvRouRxFEXy2"
      },
      "outputs": [],
      "source": [
        "import matplotlib.pyplot as plt\n",
        "plt.plot(np.arange(1,num_epochs+1)[:len(running_loss_list)], running_loss_list)\n",
        "plt.title('Loss')\n",
        "plt.xlabel('Epoch')\n",
        "plt.ylabel('Loss')"
      ]
    },
    {
      "cell_type": "markdown",
      "metadata": {
        "id": "fRrn6mOmBRFU"
      },
      "source": [
        "# 儲存模型參數\n",
        "\n"
      ]
    },
    {
      "cell_type": "code",
      "execution_count": null,
      "metadata": {
        "id": "2Jnh7hW3BRFU"
      },
      "outputs": [],
      "source": [
        "filename = save_model(model)\n",
        "\n",
        "params = {\n",
        "    'num_epochs': num_epochs,\n",
        "    'batch_size': batch_size,\n",
        "    'learning_rate': lr,\n",
        "}\n",
        "\n",
        "if os.path.isfile(filename+'.json'):\n",
        "    print(f\"{filename}.json exist.\")\n",
        "else:\n",
        "    with open(f'{filename}.json', 'w') as f:\n",
        "        json.dump(params, f)"
      ]
    },
    {
      "cell_type": "markdown",
      "metadata": {
        "id": "oBcppdev6LlG"
      },
      "source": [
        "# 讀取模型參數"
      ]
    },
    {
      "cell_type": "code",
      "source": [
        "# model = pretrained_model\n",
        "# model = model.to(device)"
      ],
      "metadata": {
        "id": "Pfx0VwbRN9uq"
      },
      "execution_count": null,
      "outputs": []
    },
    {
      "cell_type": "code",
      "execution_count": null,
      "metadata": {
        "id": "5NUlm7dg5sRE"
      },
      "outputs": [],
      "source": [
        "import json\n",
        "filename = input(\"請輸入要獲取模型路徑:\")\n",
        "\n",
        "if not os.path.isfile(filename+'.pth'):\n",
        "    print(f\"{filename}.pth not exist.\")\n",
        "else:\n",
        "    print(model.load_state_dict(torch.load(filename+'.pth')))\n",
        "\n",
        "with open(f'{filename}.json', 'r') as f:\n",
        "    params = json.load(f)\n"
      ]
    },
    {
      "cell_type": "markdown",
      "metadata": {
        "id": "6v_lVRL47kzj"
      },
      "source": [
        "# 評估\n"
      ]
    },
    {
      "cell_type": "code",
      "source": [
        "data = read_data(\"TrainValid_Image/train_data\",termi=80,shift=80)\n",
        "# data = read_data(\"Test1_Image/test_data\",termi=3,shift=1)\n",
        "dflabel = read_label(\"TrainValid_ground_truth.csv\")"
      ],
      "metadata": {
        "id": "uLNoNdr155p8"
      },
      "execution_count": null,
      "outputs": []
    },
    {
      "cell_type": "code",
      "source": [
        "images,labels,info = process_data(data, dflabel)"
      ],
      "metadata": {
        "id": "4ZfJbfii6FFt"
      },
      "execution_count": null,
      "outputs": []
    },
    {
      "cell_type": "code",
      "execution_count": null,
      "metadata": {
        "id": "QtWJ-YYy5l2E"
      },
      "outputs": [],
      "source": [
        "# 評估設置\n",
        "num_epochs = params['num_epochs']\n",
        "batch_size = params['batch_size']\n",
        "\n",
        "#最後data不滿一個batch\n",
        "num_batches = len(images) // batch_size\n",
        "if len(images) % batch_size != 0:\n",
        "  num_batches += 1"
      ]
    },
    {
      "cell_type": "code",
      "execution_count": null,
      "metadata": {
        "id": "4M1qST-FslSs"
      },
      "outputs": [],
      "source": [
        "model.eval()\n",
        "\n",
        "predict_list = torch.tensor([]).to(device)\n",
        "with torch.no_grad():  # 不更新梯度\n",
        "    correct = 0\n",
        "    total = 0\n",
        "    for i in range(num_batches):\n",
        "        batch_images = images[i*batch_size:(i+1)*batch_size].to(device)\n",
        "        batch_labels = labels[i*batch_size:(i+1)*batch_size].to(device)\n",
        "\n",
        "        outputs = model(batch_images)\n",
        "        predicted = (outputs.squeeze() > 0.5).int()\n",
        "        if predicted.dim() == 0:\n",
        "          predicted = predicted.unsqueeze(0)\n",
        "        predict_list = torch.cat((predict_list,predicted),0)\n",
        "\n",
        "\n",
        "predict_listq = predict_list.cpu()\n",
        "\n"
      ]
    },
    {
      "cell_type": "code",
      "execution_count": null,
      "metadata": {
        "id": "5s7klq4YR5Qg"
      },
      "outputs": [],
      "source": [
        "print_results(predict_listq, labels[:len(predict_list)])"
      ]
    },
    {
      "cell_type": "markdown",
      "metadata": {
        "id": "ml59tSf2QXty"
      },
      "source": [
        "# 輸出至submission.csv"
      ]
    },
    {
      "cell_type": "code",
      "source": [
        "def cont(l):\n",
        "  \"1是否連續\"\n",
        "  f1 = False\n",
        "  f2 = False\n",
        "  for i in range(len(l)):\n",
        "    if (l[i] == 1):\n",
        "      f1 = True\n",
        "    if (l[i] == 0):\n",
        "      if (f1):\n",
        "        f2 = True\n",
        "    if (l[i] == 1) and f2:\n",
        "      return False\n",
        "  return True\n",
        "\n",
        "def yes(predict):\n",
        "  return int(sum(predict) >= 3)\n",
        "\n",
        "\n",
        "\n",
        "predict_list = predict_listq.numpy()\n",
        "\n",
        "## 還原id與對應label，假設key按照scan輸入順序排列,每個key對應的scan的cuts數是nslice\n",
        "output = {}\n",
        "k = 0  #第幾個scan\n",
        "ii = 0   #每個key輪到第幾個\n",
        "id, nslice = info[k][0], info[k][1]\n",
        "for i in range(len(predict_list)):\n",
        "\n",
        "  if (ii >= nslice):\n",
        "    #該換下一個scan了\n",
        "    output[id] = yes(predict_list[i-nslice:i]) #評估方式\n",
        "\n",
        "    k += 1\n",
        "    ii = 0\n",
        "    id, nslice = info[k][0], info[k][1]\n",
        "\n",
        "  label = predict_list[i]\n",
        "  output[id+f'_{ii}'] = int(predict_list[i])\n",
        "  ii += 1\n",
        "\n",
        "output[id] = yes(predict_list[(i+1)-ii:]) #補上最後一個scan評估\n",
        "# import pdb\n",
        "# pdb.set_trace()\n",
        "output = list(output.items())\n",
        "dfout = pd.DataFrame(output)\n",
        "dfout.columns = ['id', 'label']\n",
        "dfout = dfout.sort_values(by='id', key=lambda x: x.map(custom_sort_key))\n",
        "filename = input(\"輸入提交檔名(enter for submission)\")\n",
        "if filename == '':\n",
        "  filename = 'submission'\n",
        "dfout.to_csv(filename+'.csv', index=False)"
      ],
      "metadata": {
        "id": "eGcPvyce5uDJ"
      },
      "execution_count": null,
      "outputs": []
    },
    {
      "cell_type": "code",
      "source": [
        "info"
      ],
      "metadata": {
        "id": "T2eaN23dXgfm"
      },
      "execution_count": null,
      "outputs": []
    },
    {
      "cell_type": "code",
      "execution_count": null,
      "metadata": {
        "id": "lhDYVsGNxVTZ"
      },
      "outputs": [],
      "source": [
        "dfout"
      ]
    },
    {
      "cell_type": "markdown",
      "source": [
        "# 查看submission.csv"
      ],
      "metadata": {
        "id": "wKe-NfBAeN8i"
      }
    },
    {
      "cell_type": "code",
      "source": [
        "!pwd"
      ],
      "metadata": {
        "id": "lC6LJpkZr4xC"
      },
      "execution_count": null,
      "outputs": []
    },
    {
      "cell_type": "code",
      "source": [
        "dftest = read_submission('fisrt_80.csv')\n",
        "# dftest = read_submission('submission.csv')\n",
        "dflabel = read_label(\"TrainValid_ground_truth.csv\")"
      ],
      "metadata": {
        "id": "oDM_yM-5bdCT"
      },
      "execution_count": null,
      "outputs": []
    },
    {
      "cell_type": "code",
      "source": [
        "len(dftest)"
      ],
      "metadata": {
        "id": "fRSaPgTBnbE2"
      },
      "execution_count": null,
      "outputs": []
    },
    {
      "cell_type": "code",
      "source": [
        "import re\n",
        "\n",
        "\n",
        "# 抓出scan-level data\n",
        "pattern = re.compile(r'.*_[0-9]+$')  # 正則表達式匹配 \"_數字\" 結尾\n",
        "mask = ~dftest.index.str.match(pattern)\n",
        "scan_guess = np.array(dftest[mask]['label'])\n",
        "scan_truth = np.array(dflabel.loc[dftest[mask]['label'].index]['label'])\n",
        "\n",
        "mask = ~mask\n",
        "cut_guess = np.array(dftest[mask]['label'])\n",
        "cut_truth = np.array(dflabel.loc[dftest[mask]['label'].index]['label'])"
      ],
      "metadata": {
        "id": "BD1NfxWTb2iL"
      },
      "execution_count": null,
      "outputs": []
    },
    {
      "cell_type": "code",
      "source": [
        "ss = 10\n",
        "print(\"=\"*ss + \"F1 score on scan level\" + \"=\"*ss)\n",
        "print_results(scan_guess, scan_truth)\n",
        "print(),print()\n",
        "print(\"=\"*ss + \"F1 score on cut level\" +\"=\"*ss )\n",
        "print_results(cut_guess, cut_truth)"
      ],
      "metadata": {
        "id": "fyMlAtUWuW8Y"
      },
      "execution_count": null,
      "outputs": []
    },
    {
      "cell_type": "markdown",
      "source": [
        "# 其他指令\n",
        "不在工作流\n",
        "當參考"
      ],
      "metadata": {
        "id": "FG2tqJ1kMhzt"
      }
    },
    {
      "cell_type": "code",
      "source": [
        "import time\n",
        "datadir = 'Train_Valid_Image'\n",
        "for idx, afile in enumerate(os.listdir(datadir)):\n",
        "  file_path = os.path.join(datadir, afile)\n",
        "  time.sleep(1)\n",
        "  nii_file =  nib.load(file_path)\n",
        "  print(f\"{idx}: read {afile}\")"
      ],
      "metadata": {
        "id": "eazF7afOHa8l"
      },
      "execution_count": null,
      "outputs": []
    },
    {
      "cell_type": "code",
      "source": [
        "pattern = re.compile(r'.*_[0-9]+$')  # 正則表達式匹配 \"_數字\" 結尾\n",
        "mask = dftest.index.to_series().str.match(pattern)\n",
        "dflabel_ = dftest[mask]\n",
        "dflabel_.index.map(lambda x : x.split('_')[1]).sort_values()[-3:]"
      ],
      "metadata": {
        "id": "lEForON9S9qE"
      },
      "execution_count": null,
      "outputs": []
    },
    {
      "cell_type": "code",
      "source": [
        "import random\n",
        "\n",
        "# 假設這是您的列表\n",
        "my_list = np.array([1, 2, 3, 4])\n",
        "\n",
        "mask = [True, False, False, True]\n",
        "my_list[mask]"
      ],
      "metadata": {
        "id": "37C0pWRQTCyU"
      },
      "execution_count": null,
      "outputs": []
    },
    {
      "cell_type": "code",
      "source": [
        "datadir =\"TrainValid_Image/train_data\"\n",
        "labelpath = 'TrainValid_ground_truth.csv'\n",
        "labels_ = read_label(labelpath)\n",
        "\n",
        "\n",
        "filelist = os.listdir(datadir)\n",
        "filelist = filelist[10:20]\n",
        "selecteds = [labels_.loc[labels_.index.str.startswith(afile.strip('.nii')+'_')] for afile in filelist]\n",
        "scans_info = []\n",
        "# preallocated\n",
        "print(\"enter\")\n",
        "numcuts = [len(selected) for selected in selecteds]\n",
        "numcut = sum(numcuts)"
      ],
      "metadata": {
        "id": "el4YgUCT6LgR"
      },
      "execution_count": null,
      "outputs": []
    },
    {
      "cell_type": "code",
      "source": [
        "numcuts = [len(selected) for selected in selecteds]"
      ],
      "metadata": {
        "id": "TBvrMIwo6nhH"
      },
      "execution_count": null,
      "outputs": []
    },
    {
      "cell_type": "code",
      "source": [
        "img = nib.load('Train_Valid_Image/Zx00AD16F8B97A53DE6E7CFE260BDF122F0E655659A3DF1628.nii.gz')\n"
      ],
      "metadata": {
        "id": "E9rP7qJsIFZx"
      },
      "execution_count": null,
      "outputs": []
    },
    {
      "cell_type": "code",
      "source": [
        "drive.flush_and_unmount()"
      ],
      "metadata": {
        "id": "RFBfoC3iMo1T"
      },
      "execution_count": null,
      "outputs": []
    },
    {
      "cell_type": "code",
      "source": [
        "t1 = torch.randint(3,(5,1,2,2))\n",
        "lab = torch.tensor([1,1,1,1,1])\n",
        "t1"
      ],
      "metadata": {
        "id": "v3E6Q2z4R6-S"
      },
      "execution_count": null,
      "outputs": []
    },
    {
      "cell_type": "code",
      "source": [
        "remove_positive_images(t1,lab,0.79)"
      ],
      "metadata": {
        "id": "vMKO8czxSMd8"
      },
      "execution_count": null,
      "outputs": []
    },
    {
      "cell_type": "code",
      "source": [
        "!pip install -U --no-cache-dir gdown gdown"
      ],
      "metadata": {
        "id": "-WWE6jOKCD0Z"
      },
      "execution_count": null,
      "outputs": []
    },
    {
      "cell_type": "code",
      "source": [
        "!pip install --upgrade --no-cache-dir gdown"
      ],
      "metadata": {
        "id": "v57WjC4VAtaa"
      },
      "execution_count": null,
      "outputs": []
    },
    {
      "cell_type": "code",
      "source": [
        "!gdown https://drive.google.com/drive/folders/1C7HXpHMw1Alvwif9hO97FUzfn4rhxG8B -O Train_Valid_Image --folder --remaining-ok"
      ],
      "metadata": {
        "id": "1T5_yrOg7RLQ"
      },
      "execution_count": null,
      "outputs": []
    }
  ],
  "metadata": {
    "colab": {
      "provenance": [],
      "collapsed_sections": [
        "RpwX2ZFOBRFT",
        "0IX5HYZuSKG-",
        "rhLO9PaUESQh"
      ],
      "machine_shape": "hm",
      "gpuType": "V100",
      "include_colab_link": true
    },
    "kernelspec": {
      "display_name": "Python 3",
      "name": "python3"
    },
    "language_info": {
      "codemirror_mode": {
        "name": "ipython",
        "version": 3
      },
      "file_extension": ".py",
      "mimetype": "text/x-python",
      "name": "python",
      "nbconvert_exporter": "python",
      "pygments_lexer": "ipython3",
      "version": "3.11.5"
    },
    "accelerator": "GPU"
  },
  "nbformat": 4,
  "nbformat_minor": 0
}