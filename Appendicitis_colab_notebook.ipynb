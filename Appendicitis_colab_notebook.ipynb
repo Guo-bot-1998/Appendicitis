{
  "cells": [
    {
      "cell_type": "markdown",
      "metadata": {
        "id": "view-in-github",
        "colab_type": "text"
      },
      "source": [
        "<a href=\"https://colab.research.google.com/github/Guo-bot-1998/Appendicitis/blob/master/Appendicitis_colab_notebook.ipynb\" target=\"_parent\"><img src=\"https://colab.research.google.com/assets/colab-badge.svg\" alt=\"Open In Colab\"/></a>"
      ]
    },
    {
      "cell_type": "markdown",
      "metadata": {
        "id": "coYrDLBnCbwQ"
      },
      "source": [
        "# import"
      ]
    },
    {
      "cell_type": "code",
      "execution_count": 1,
      "metadata": {
        "id": "Q4kBLfXWRg7N",
        "colab": {
          "base_uri": "https://localhost:8080/"
        },
        "outputId": "bf18efc0-5eff-4a99-b0d3-ade98a774392"
      },
      "outputs": [
        {
          "output_type": "stream",
          "name": "stdout",
          "text": [
            "Collecting timm\n",
            "  Downloading timm-0.9.12-py3-none-any.whl (2.2 MB)\n",
            "\u001b[?25l     \u001b[90m━━━━━━━━━━━━━━━━━━━━━━━━━━━━━━━━━━━━━━━━\u001b[0m \u001b[32m0.0/2.2 MB\u001b[0m \u001b[31m?\u001b[0m eta \u001b[36m-:--:--\u001b[0m\r\u001b[2K     \u001b[91m━\u001b[0m\u001b[90m╺\u001b[0m\u001b[90m━━━━━━━━━━━━━━━━━━━━━━━━━━━━━━━━━━━━━━\u001b[0m \u001b[32m0.1/2.2 MB\u001b[0m \u001b[31m2.2 MB/s\u001b[0m eta \u001b[36m0:00:01\u001b[0m\r\u001b[2K     \u001b[91m━━━━━━━━━━━━━━━━━━━━━━━━━\u001b[0m\u001b[91m╸\u001b[0m\u001b[90m━━━━━━━━━━━━━━\u001b[0m \u001b[32m1.4/2.2 MB\u001b[0m \u001b[31m21.0 MB/s\u001b[0m eta \u001b[36m0:00:01\u001b[0m\r\u001b[2K     \u001b[90m━━━━━━━━━━━━━━━━━━━━━━━━━━━━━━━━━━━━━━━━\u001b[0m \u001b[32m2.2/2.2 MB\u001b[0m \u001b[31m25.1 MB/s\u001b[0m eta \u001b[36m0:00:00\u001b[0m\n",
            "\u001b[?25hRequirement already satisfied: torch>=1.7 in /usr/local/lib/python3.10/dist-packages (from timm) (2.1.0+cu121)\n",
            "Requirement already satisfied: torchvision in /usr/local/lib/python3.10/dist-packages (from timm) (0.16.0+cu121)\n",
            "Requirement already satisfied: pyyaml in /usr/local/lib/python3.10/dist-packages (from timm) (6.0.1)\n",
            "Requirement already satisfied: huggingface-hub in /usr/local/lib/python3.10/dist-packages (from timm) (0.20.2)\n",
            "Requirement already satisfied: safetensors in /usr/local/lib/python3.10/dist-packages (from timm) (0.4.1)\n",
            "Requirement already satisfied: filelock in /usr/local/lib/python3.10/dist-packages (from torch>=1.7->timm) (3.13.1)\n",
            "Requirement already satisfied: typing-extensions in /usr/local/lib/python3.10/dist-packages (from torch>=1.7->timm) (4.5.0)\n",
            "Requirement already satisfied: sympy in /usr/local/lib/python3.10/dist-packages (from torch>=1.7->timm) (1.12)\n",
            "Requirement already satisfied: networkx in /usr/local/lib/python3.10/dist-packages (from torch>=1.7->timm) (3.2.1)\n",
            "Requirement already satisfied: jinja2 in /usr/local/lib/python3.10/dist-packages (from torch>=1.7->timm) (3.1.3)\n",
            "Requirement already satisfied: fsspec in /usr/local/lib/python3.10/dist-packages (from torch>=1.7->timm) (2023.6.0)\n",
            "Requirement already satisfied: triton==2.1.0 in /usr/local/lib/python3.10/dist-packages (from torch>=1.7->timm) (2.1.0)\n",
            "Requirement already satisfied: requests in /usr/local/lib/python3.10/dist-packages (from huggingface-hub->timm) (2.31.0)\n",
            "Requirement already satisfied: tqdm>=4.42.1 in /usr/local/lib/python3.10/dist-packages (from huggingface-hub->timm) (4.66.1)\n",
            "Requirement already satisfied: packaging>=20.9 in /usr/local/lib/python3.10/dist-packages (from huggingface-hub->timm) (23.2)\n",
            "Requirement already satisfied: numpy in /usr/local/lib/python3.10/dist-packages (from torchvision->timm) (1.23.5)\n",
            "Requirement already satisfied: pillow!=8.3.*,>=5.3.0 in /usr/local/lib/python3.10/dist-packages (from torchvision->timm) (9.4.0)\n",
            "Requirement already satisfied: MarkupSafe>=2.0 in /usr/local/lib/python3.10/dist-packages (from jinja2->torch>=1.7->timm) (2.1.3)\n",
            "Requirement already satisfied: charset-normalizer<4,>=2 in /usr/local/lib/python3.10/dist-packages (from requests->huggingface-hub->timm) (3.3.2)\n",
            "Requirement already satisfied: idna<4,>=2.5 in /usr/local/lib/python3.10/dist-packages (from requests->huggingface-hub->timm) (3.6)\n",
            "Requirement already satisfied: urllib3<3,>=1.21.1 in /usr/local/lib/python3.10/dist-packages (from requests->huggingface-hub->timm) (2.0.7)\n",
            "Requirement already satisfied: certifi>=2017.4.17 in /usr/local/lib/python3.10/dist-packages (from requests->huggingface-hub->timm) (2023.11.17)\n",
            "Requirement already satisfied: mpmath>=0.19 in /usr/local/lib/python3.10/dist-packages (from sympy->torch>=1.7->timm) (1.3.0)\n",
            "Installing collected packages: timm\n",
            "Successfully installed timm-0.9.12\n",
            "Requirement already satisfied: tqdm in /usr/local/lib/python3.10/dist-packages (4.66.1)\n",
            "Collecting kora\n",
            "  Downloading kora-0.9.20-py3-none-any.whl (57 kB)\n",
            "\u001b[2K     \u001b[90m━━━━━━━━━━━━━━━━━━━━━━━━━━━━━━━━━━━━━━━━\u001b[0m \u001b[32m57.7/57.7 kB\u001b[0m \u001b[31m1.8 MB/s\u001b[0m eta \u001b[36m0:00:00\u001b[0m\n",
            "\u001b[?25hRequirement already satisfied: ipython in /usr/local/lib/python3.10/dist-packages (from kora) (7.34.0)\n",
            "Requirement already satisfied: fastcore in /usr/local/lib/python3.10/dist-packages (from kora) (1.5.29)\n",
            "Requirement already satisfied: pip in /usr/local/lib/python3.10/dist-packages (from fastcore->kora) (23.1.2)\n",
            "Requirement already satisfied: packaging in /usr/local/lib/python3.10/dist-packages (from fastcore->kora) (23.2)\n",
            "Requirement already satisfied: setuptools>=18.5 in /usr/local/lib/python3.10/dist-packages (from ipython->kora) (67.7.2)\n",
            "Collecting jedi>=0.16 (from ipython->kora)\n",
            "  Downloading jedi-0.19.1-py2.py3-none-any.whl (1.6 MB)\n",
            "\u001b[2K     \u001b[90m━━━━━━━━━━━━━━━━━━━━━━━━━━━━━━━━━━━━━━━━\u001b[0m \u001b[32m1.6/1.6 MB\u001b[0m \u001b[31m41.3 MB/s\u001b[0m eta \u001b[36m0:00:00\u001b[0m\n",
            "\u001b[?25hRequirement already satisfied: decorator in /usr/local/lib/python3.10/dist-packages (from ipython->kora) (4.4.2)\n",
            "Requirement already satisfied: pickleshare in /usr/local/lib/python3.10/dist-packages (from ipython->kora) (0.7.5)\n",
            "Requirement already satisfied: traitlets>=4.2 in /usr/local/lib/python3.10/dist-packages (from ipython->kora) (5.7.1)\n",
            "Requirement already satisfied: prompt-toolkit!=3.0.0,!=3.0.1,<3.1.0,>=2.0.0 in /usr/local/lib/python3.10/dist-packages (from ipython->kora) (3.0.43)\n",
            "Requirement already satisfied: pygments in /usr/local/lib/python3.10/dist-packages (from ipython->kora) (2.16.1)\n",
            "Requirement already satisfied: backcall in /usr/local/lib/python3.10/dist-packages (from ipython->kora) (0.2.0)\n",
            "Requirement already satisfied: matplotlib-inline in /usr/local/lib/python3.10/dist-packages (from ipython->kora) (0.1.6)\n",
            "Requirement already satisfied: pexpect>4.3 in /usr/local/lib/python3.10/dist-packages (from ipython->kora) (4.9.0)\n",
            "Requirement already satisfied: parso<0.9.0,>=0.8.3 in /usr/local/lib/python3.10/dist-packages (from jedi>=0.16->ipython->kora) (0.8.3)\n",
            "Requirement already satisfied: ptyprocess>=0.5 in /usr/local/lib/python3.10/dist-packages (from pexpect>4.3->ipython->kora) (0.7.0)\n",
            "Requirement already satisfied: wcwidth in /usr/local/lib/python3.10/dist-packages (from prompt-toolkit!=3.0.0,!=3.0.1,<3.1.0,>=2.0.0->ipython->kora) (0.2.13)\n",
            "Installing collected packages: jedi, kora\n",
            "Successfully installed jedi-0.19.1 kora-0.9.20\n"
          ]
        }
      ],
      "source": [
        "!pip install timm\n",
        "!pip install tqdm\n",
        "!pip install kora"
      ]
    },
    {
      "cell_type": "code",
      "execution_count": 2,
      "metadata": {
        "id": "bQ4w8h2LkY0g"
      },
      "outputs": [],
      "source": [
        "import nibabel as nib\n",
        "import numpy as np\n",
        "import os\n",
        "import pandas as pd\n",
        "import nibabel as nib\n",
        "import torch\n",
        "import torch.nn as nn\n",
        "import torchvision.transforms as transforms\n",
        "import torch.optim as optim\n",
        "import random\n",
        "import re\n",
        "import json\n",
        "import timm\n",
        "import gdown\n",
        "from torch.utils.data import Dataset, DataLoader\n",
        "from sklearn.model_selection import KFold\n",
        "from matplotlib import pyplot as plt\n",
        "from google.colab import widgets\n",
        "\n",
        "from tqdm.asyncio import tqdm\n",
        "from kora.xattr import get_id\n",
        "import asyncio\n",
        "import aiohttp\n",
        "import nest_asyncio\n",
        "nest_asyncio.apply()\n",
        "loop = asyncio.get_event_loop()"
      ]
    },
    {
      "cell_type": "markdown",
      "source": [
        "## 存取"
      ],
      "metadata": {
        "id": "Oc3DYvY3WsL4"
      }
    },
    {
      "cell_type": "code",
      "source": [
        "def get_data_disk(driveroot, targetdir):\n",
        "  \"\"\"從雲端資料夾targetdir下載檔案到colab root底下同名資料夾\n",
        "  只下載沒有下載的檔案.\n",
        "\n",
        "  driveroot為雲端檔案資料夾root\"\"\"\n",
        "\n",
        "  if not os.path.exists('/content/' + targetdir):\n",
        "    os.makedirs(targetdir)\n",
        "    print(f\"making {targetdir} dir...\")\n",
        "\n",
        "  files_on_drive = os.listdir(driveroot+'/'+targetdir)\n",
        "  files_in_localdir = os.listdir(f\"/content/{targetdir}\")\n",
        "  files_to_download = [f for f in files_on_drive if f not in files_in_localdir]\n",
        "  files = [(filename, get_id(f'{driveroot}/{targetdir}/{filename}')) for filename in files_to_download]\n",
        "\n",
        "\n",
        "  for idx, (name, file_id) in enumerate(files):\n",
        "\n",
        "    if not file_id:\n",
        "      print(f\"未找到文件: {name}\")\n",
        "      continue\n",
        "\n",
        "    # 下载文件\n",
        "    request = drive_service.files().get_media(fileId=file_id)\n",
        "    fh = io.BytesIO()\n",
        "    downloader = MediaIoBaseDownload(fh, request)\n",
        "\n",
        "    done = False\n",
        "    while not done:\n",
        "      status, done = downloader.next_chunk()\n",
        "      # print(f\"下载 {name} 进度: {int(status.progress() * 100)}%\")\n",
        "\n",
        "    # 将文件内容写入本地文件\n",
        "    local_file_path = os.path.join('/content', targetdir, name)\n",
        "\n",
        "    with open(local_file_path, 'wb') as f:\n",
        "      fh.seek(0)\n",
        "      f.write(fh.read())\n",
        "\n",
        "    print(f\"{idx+1}/{len(files)}: {name} downloaded\")\n",
        "\n",
        "\n",
        "\n",
        "\n",
        "async def download_file(session, name, file_id, file_path, token):\n",
        "  if not file_id:\n",
        "    print(f\"未找到文件: {name}\")\n",
        "    return\n",
        "\n",
        "  download_url = f\"https://www.googleapis.com/drive/v3/files/{file_id}?alt=media\"\n",
        "  headers = {\"Authorization\": f\"Bearer {token}\"}\n",
        "\n",
        "  async with session.get(download_url, headers=headers) as response:\n",
        "    if response.status == 200:\n",
        "      with open(file_path, 'wb') as f:\n",
        "        while True:\n",
        "          chunk = await response.content.read(1024)\n",
        "          if not chunk:\n",
        "            break\n",
        "          f.write(chunk)\n",
        "      # print(f\"Downloaded: {name}...\")\n",
        "    else:\n",
        "      print(f\"Failed: {name}!! status: {response.status}\")\n",
        "\n",
        "\n",
        "# 定义异步获取数据的主函数\n",
        "async def get_data_disk_async(driveroot, targetdir, token):\n",
        "  # 生成文件夹的绝对路径\n",
        "  drive_folder_path = os.path.join(driveroot, targetdir)\n",
        "  local_folder_path = os.path.join('/content', targetdir)\n",
        "\n",
        "  if not os.path.exists(local_folder_path):\n",
        "    os.makedirs(local_folder_path)\n",
        "    print(f\"making {targetdir} dir...\")\n",
        "\n",
        "  # 获取文件列表\n",
        "  files_on_drive = os.listdir(drive_folder_path)\n",
        "  files_in_localdir = os.listdir(local_folder_path)\n",
        "  files_to_download = [f for f in files_on_drive if f not in files_in_localdir]\n",
        "  files = [(filename, get_id(os.path.join(drive_folder_path, filename))) for filename in files_to_download]\n",
        "\n",
        "  async with aiohttp.ClientSession() as session:\n",
        "    tasks = []\n",
        "    for idx, (name, file_id) in enumerate(files):\n",
        "      local_file_path = os.path.join(local_folder_path, name)\n",
        "      task = asyncio.create_task(download_file(session, name, file_id, local_file_path, token))\n",
        "      tasks.append(task)\n",
        "\n",
        "    # 使用 tqdm 包装任务列表以显示进度条\n",
        "    for f in tqdm.as_completed(tasks, total=len(tasks)):\n",
        "      await f\n",
        "\n",
        "\n",
        "\n",
        "def process_data2(traindir, shift=0, termi=10, dropFalse=0.85, dropPos=0, files=None):\n",
        "  \"\"\"Reading data in \"traindir\" and process them.\n",
        "  Taking care of memory efficiency\"\n",
        "\n",
        "  Args:\n",
        "    shift: 從第幾個開始讀取 (當files給定時無效)\n",
        "    termi: 讀取幾個 (當files給定時無效)\n",
        "    dropFalse: 被刪除的有闌尾炎的張數比例\n",
        "    dropPos: 被刪除的有闌尾炎的張數比例\n",
        "    files: 要讀取的檔案id，預設是None\n",
        "\n",
        "  Returns:\n",
        "    images: 输出的图像数据\n",
        "    labels: 输出的标签数据\n",
        "  \"\"\"\n",
        "\n",
        "  if not files:\n",
        "    filelist = os.listdir(traindir)\n",
        "    filelist = filelist[shift:shift+termi]\n",
        "  else: filelist = files\n",
        "\n",
        "  return loading_data(traindir, filelist, dropFalse, dropPos)\n",
        "\n",
        "\n",
        "\n",
        "def loading_data(traindir, filelist, dropFalse, dropPos)\\\n",
        " -> tuple[torch.tensor, torch.tensor]:\n",
        "\n",
        "  print(f\"reading {traindir=}...\")\n",
        "  labels_ = read_label(labelpath)\n",
        "\n",
        "  if labels_.index.name != 'id':\n",
        "    labels_.set_index('id', inplace=True)\n",
        "\n",
        "  #裁減過的圖片放在Cropped_[範圍]的資料夾下,用路徑名稱判斷資料使否裁減過\n",
        "  cropmatch = re.search(r'Cropped', traindir)\n",
        "  if not cropmatch:\n",
        "    print(\"讀取未切片的資料夾\")\n",
        "    xlim, ylim, zlim = [0,512], [0,512], [0,None]\n",
        "  else:\n",
        "    #範圍 = xstart-xend_ystart-yend_zstart-zend\n",
        "    ismatch = re.search(r'(\\d+-\\d+)_(\\d+-\\d+)_(\\d+-\\d+)', traindir)\n",
        "    if ismatch:\n",
        "      dimens = ismatch.group(0)\n",
        "      labelidx = dimens.split('_')\n",
        "      xlim = [int(idx) for idx in labelidx[0].split('-')]\n",
        "      ylim = [int(idx) for idx in labelidx[1].split('-')]\n",
        "      zlim = [int(idx) for idx in labelidx[2].split('-')]\n",
        "      print(f\"{xlim=}\\n{ylim=}\\n{zlim=}\")\n",
        "      if xlim[0] >= xlim[1] or ylim[0] >= ylim[1] or zlim[0] >= zlim[1]:\n",
        "        print(\"切片格式不正确\")\n",
        "        return\n",
        "    else:\n",
        "      print(\"切片格式不正确\")\n",
        "      return\n",
        "\n",
        "\n",
        "\n",
        "  # preallocated(有無裁減過影響preallocated的大小)\n",
        "  if not cropmatch:\n",
        "    selecteds = [labels_.loc[labels_.index.str.startswith(afile.strip('.nii.gz')+'_')] for afile in filelist]\n",
        "    numcuts = [len(selected) for selected in selecteds]\n",
        "    numcuts = sum(numcuts)\n",
        "  else:\n",
        "    numcuts = (zlim[1]-zlim[0]) * len(filelist)\n",
        "  images = torch.zeros(numcuts,1, ylim[-1]-ylim[0],xlim[-1]-xlim[0])\n",
        "  labels = -torch.ones(numcuts)\n",
        "  nimgs = 0\n",
        "  nprocess = 0\n",
        "\n",
        "  for key in filelist:\n",
        "    file_path = os.path.join(traindir, key)\n",
        "    key = key.strip('.nii.gz')\n",
        "    scan  = labels_.loc[labels_.index.str.startswith(key+'_')]\n",
        "    value = nib.load(file_path).get_fdata()\n",
        "\n",
        "    label_t = torch.tensor(scan['label'][zlim[0]:zlim[-1]]) #每個scan只拿zlim範圍，不滿60張的拿完\n",
        "    image_t = torch.from_numpy(value).float().permute(2, 0, 1).unsqueeze(1)\n",
        "\n",
        "    #有幾筆不是512x512, 剪成512x512\n",
        "    if (not cropmatch) and (image_t.shape[2] != 512 or image_t.shape[3] != 512):\n",
        "      image_t = cropping(image_t)\n",
        "\n",
        "    image_t, label_t = remove_false_images(image_t, label_t, dropFalse)\n",
        "    image_t, label_t = remove_positive_images(image_t, label_t, dropPos)\n",
        "\n",
        "    n_new = len(label_t)\n",
        "\n",
        "    images[nimgs:nimgs+n_new] = image_t\n",
        "    labels[nimgs:nimgs+n_new] = label_t\n",
        "    nimgs += len(label_t)\n",
        "    print(f\"Process {nprocess}: {key} finished...\")\n",
        "    nprocess += 1\n",
        "\n",
        "\n",
        "  #after drop\n",
        "  counts = count_zero(images)\n",
        "  images = torch.asarray(images[:len(images)-counts])\n",
        "  labels = labels[labels != -1]\n",
        "\n",
        "  return images, labels.float()\n",
        "\n",
        "\n",
        "\n",
        "\n",
        "def read_test(testdir,shift=0,termi=10):\n",
        "  \"\"\"Reading data in \"testdir\"\n",
        "  not memory efficient\n",
        "  Args:\n",
        "    shift: 從第幾個開始讀取\n",
        "    termi: 讀取幾個\n",
        "  Returns:\n",
        "    images: 输出的图像数据\n",
        "    scans_info: 每個scan的檔名和切片數(原本nii檔所包含的數量)\n",
        "\n",
        "  \"\"\"\n",
        "\n",
        "\n",
        "  filelist = os.listdir(testdir)\n",
        "  filelist = filelist[shift:shift+termi]\n",
        "  scans_info = []\n",
        "\n",
        "  images = []\n",
        "  nprocess = 0\n",
        "\n",
        "  for key in filelist:\n",
        "    file_path = os.path.join(testdir, key)\n",
        "    key = key.strip('.nii.gz')\n",
        "    value = nib.load(file_path).get_fdata()\n",
        "    scans_info.append((key, value.shape[2]))\n",
        "\n",
        "    image_t = torch.from_numpy(value).float().permute(2, 0, 1).unsqueeze(1)\n",
        "\n",
        "    images.append(image_t)\n",
        "    print(f\"{nprocess}: Read test {key} finished...\")\n",
        "    nprocess += 1\n",
        "\n",
        "  images = torch.cat(images,dim=0)\n",
        "  print(f\"read {len(scans_info)} scans\")\n",
        "\n",
        "  return images, scans_info\n",
        "\n",
        "\n",
        "\n",
        "\n",
        "def save_model(model, modelname=\"\", dirname=\"\", root=os.path.realpath(\"/content/drive/MyDrive/AOCR2024/params\")):\n",
        "\n",
        "  if not model:\n",
        "    print(\"not given model\")\n",
        "    return\n",
        "\n",
        "  if not os.path.exists(root):\n",
        "    print(f\"{root} not exists!\")\n",
        "    return\n",
        "\n",
        "  print(f\"model will be saved as {root}/{dirname}/{modelname}\")\n",
        "\n",
        "  if not modelname:\n",
        "    modelname = input(\"請輸入模型儲存的檔名:\")\n",
        "  if not dirname:\n",
        "    dirname = input(\"請輸入模型儲存的資料夾:\")\n",
        "\n",
        "  filename = f\"{root}/{dirname}/{modelname}\"\n",
        "\n",
        "  if not os.path.exists(os.path.dirname(filename)):\n",
        "    os.mkdir(os.path.dirname(filename))\n",
        "\n",
        "  if os.path.isfile(filename+'.pth'):\n",
        "      print(f\"{filename}.pth exist.\")\n",
        "  else:  #Adam的方向也要存放\n",
        "      torch.save({'model_state_dict': model.state_dict(),\n",
        "        'optimizer_state_dict': optimizer.state_dict()}, f'{filename}.pth')\n",
        "\n",
        "  return filename\n",
        "\n",
        "\n",
        "\n",
        "def load_model(_model, opti=None, modelname=\"\", dirname=\"\", root=os.path.realpath(\"/content/drive/MyDrive/AOCR2024/params\")):\n",
        "  \"\"\"加載模型參數與優化器，如果沒給優化器，則返回None\n",
        "   如果沒找到訓練參數, 則返回None\n",
        "   如果沒給資料夾名稱，則產生input prompt請user輸入\n",
        "    return model, opti, params\n",
        "  \"\"\"\n",
        "  if not modelname:\n",
        "    modelname = input(\"請輸入模型參數檔案名稱:\")\n",
        "  if not dirname:\n",
        "    dirname = input(\"請輸入儲存模型的母資料夾名稱:\")\n",
        "\n",
        "  filename = f\"{root}/{dirname}/{modelname}\"\n",
        "  checkpoint = torch.load(filename+'.pth')\n",
        "  _params = None\n",
        "\n",
        "\n",
        "  print(_model.load_state_dict(checkpoint['model_state_dict']))\n",
        "\n",
        "  if os.path.isfile(filename+'.json'):\n",
        "    with open(f'{filename}.json', 'r') as f:\n",
        "      _params = json.load(f)\n",
        "  if opti:\n",
        "    opti.load_state_dict(checkpoint['optimizer_state_dict'])\n",
        "\n",
        "  return _model,opti,_params, filename\n",
        "\n",
        "\n",
        "\n",
        "\n",
        "\n",
        "\n",
        "def read_label(excel_path) -> pd.DataFrame:\n",
        "  \"\"\"Reads a csv file containing ground-truth.\n",
        "    The csv file should have two columns: 'id' and 'label'.\n",
        "  \"\"\"\n",
        "  with open(excel_path, 'r') as f:\n",
        "    df = pd.read_csv(f)\n",
        "    df.set_index('id', inplace=True)\n",
        "    return df\n",
        "\n",
        "\n",
        "def read_split(excel_path):\n",
        "  with open(excel_path, 'r') as f:\n",
        "    df = pd.read_csv(f)\n",
        "    return df\n",
        "\n",
        "def write_error(logpath, e, nprocess):\n",
        "  # with open(logpath, 'a') as f:\n",
        "    # f.write(f\"{nprocess:} error occured: {e}\\n\") ##! may stuck the program!!\n",
        "  print(f\"{nprocess:} error occured: {e}\\n\")\n",
        "\n",
        "\n",
        "def read_submission(excel_path) -> pd.DataFrame:\n",
        "  \"\"\"Reads a csv file containing submission file.\n",
        "    The csv file should follow the format given by Kaggle.\n",
        "  \"\"\"\n",
        "  with open(excel_path, 'r') as f:\n",
        "    df = pd.read_csv(f)\n",
        "    df.set_index('id', inplace=True)\n",
        "    return df\n",
        "\n",
        "\n"
      ],
      "metadata": {
        "id": "KLs_ItZEW0F1"
      },
      "execution_count": 3,
      "outputs": []
    },
    {
      "cell_type": "markdown",
      "source": [
        "## 列印結果"
      ],
      "metadata": {
        "id": "Fnggb7x7X8Q0"
      }
    },
    {
      "cell_type": "code",
      "source": [
        "def get_confusion(guess, truth):\n",
        "  if torch.is_tensor(guess):\n",
        "    guess = guess.cpu().numpy()\n",
        "  if torch.is_tensor(truth):\n",
        "    truth = truth.cpu().numpy()\n",
        "\n",
        "  right = guess == truth\n",
        "  wrong = np.logical_not(right)\n",
        "  TP = np.sum(np.logical_and(right, truth == np.ones(right.shape)))\n",
        "  TN = np.sum(np.logical_and(right, truth == np.zeros(right.shape)))\n",
        "  FN = np.sum(np.logical_and(wrong, truth == np.ones(wrong.shape)))\n",
        "  FP = np.sum(np.logical_and(wrong, truth == np.zeros(wrong.shape)))\n",
        "  return (TP,FP,FN,TN)\n",
        "\n",
        "\n",
        "def get_score(TP,FP,FN,TN):\n",
        "  recall = TP/(TP + FN)\n",
        "  precision = TP/(TP + FP)\n",
        "  recall = 0 if np.isnan(recall) else recall.item()\n",
        "  precision = 0 if np.isnan(precision) else precision.item()\n",
        "  F1 = 0 if recall + precision == 0 else  (2*recall*precision/(recall+precision))\n",
        "\n",
        "  return recall, precision, F1\n",
        "\n",
        "\n",
        "def print_results(prediction, labels_):\n",
        "  TP,FP,FN,TN = get_confusion(prediction, labels_)\n",
        "  recall, precision, F1 = get_score(TP,FP,FN,TN)\n",
        "  print(f\"\\n\\\n",
        "      真實值\\n\\\n",
        "  預  +-----+-----+\\n\\\n",
        "  測| TP: {TP}| FP: {FP}|\\n\\\n",
        "  值| FN: {FN}| TN: {TN}|\\n\\\n",
        "      +-----+-----+ \\n\")\n",
        "\n",
        "  print(f\"{recall=}\\n{precision=}\\n{F1=}\\n\")\n",
        "\n",
        "def create_tab(tabnames):\n",
        "  tb = widgets.TabBar(tabnames)\n",
        "  return tb\n",
        "\n",
        "\n",
        "def display_train(train_info, predict_info_valid, predict_info_train):\n",
        "  t_loss, t_accu, v_loss, v_accu = train_info\n",
        "  predict_list_v, labels_v = predict_info_valid\n",
        "  TP_v,FP_v,FN_v,TN_v = get_confusion(predict_list_v, labels_v)\n",
        "  recall_v, precision_v, F1_v = get_score(TP_v,FP_v,FN_v,TN_v)\n",
        "\n",
        "  predict_list_t, labels_t = predict_info_train\n",
        "  TP_t,FP_t,FN_t,TN_t = get_confusion(predict_list_t, labels_t)\n",
        "  recall_t, precision_t, F1_t = get_score(TP_t,FP_t,FN_t,TN_t)\n",
        "\n",
        "  msg = [f\"Epoch  train_loss  train_accu   valid_loss  valid_accu\",\n",
        "    f\"(valid)recall      precision    F1\",\n",
        "    f\"(train)recall      precision    F1\"]\n",
        "\n",
        "  print('-'*len(msg[0]))\n",
        "  print(msg[0])\n",
        "  print(f\"{epoch:>5d}: {t_loss:<10.8f}  {t_accu:<10.8f}%  {v_loss:<10.8f}  {v_accu:<10.8f}%\")\n",
        "  print(msg[1])\n",
        "  print(f\"       {recall_v:<6.8f}  {precision_v:<11.8f}  {F1_v:<.8f}\")\n",
        "  print(f\"       {TP_v=}  {FP_v=}  {FN_v=}  {TN_v=}\")\n",
        "  print(msg[2])\n",
        "  print(f\"       {recall_t:<6.8f}  {precision_t:<11.8f}  {F1_t:<.8f}\")\n",
        "  print(f\"       {TP_t=}  {FP_t=}  {FN_t=}  {TN_t=}\")\n",
        "  print('-'*len(msg[0]))"
      ],
      "metadata": {
        "id": "1gFEpWQ-X7nc"
      },
      "execution_count": 4,
      "outputs": []
    },
    {
      "cell_type": "markdown",
      "source": [
        "## 數據裁減\n",
        "\n",
        "\n"
      ],
      "metadata": {
        "id": "UsmaGmRwWmxv"
      }
    },
    {
      "cell_type": "code",
      "source": [
        "def argumenting(images, labels, n=5):\n",
        "  \"\"\"\n",
        "  數據增強。\n",
        "  在images裡面把所有有闌尾炎的cut複製給定次數，並\n",
        "  插入回images的隨機位置裡面\n",
        "\n",
        "  Args:\n",
        "    images: 输入的图像数据\n",
        "    labels: 输入的标签数据\n",
        "    n: 每个样本複製多少次\n",
        "\n",
        "  Returns:\n",
        "    增強后的图像数据和标签数据\n",
        "  \"\"\"\n",
        "  where = (labels == True).nonzero(as_tuple=True)[0]\n",
        "  bad_images = images[where]\n",
        "\n",
        "  rep_imgs = bad_images.repeat(n, 1, 1, 1)\n",
        "  rep_labels = torch.ones(rep_imgs.shape[0], dtype=labels.dtype)\n",
        "\n",
        "  # import pdb\n",
        "  # pdb.set_trace()\n",
        "  # 隨機插入argumented圖片\n",
        "  nimg = images.shape[0]\n",
        "  rnd_pos = torch.randint(0, nimg, (rep_imgs.shape[0],))\n",
        "  images = torch.cat((images, rep_imgs), dim=0)\n",
        "  images = images[torch.argsort(torch.cat((torch.arange(nimg), rnd_pos)))]\n",
        "\n",
        "  # 對應對置插入標籤\n",
        "  labels = torch.cat((labels, rep_labels), dim=0)\n",
        "  labels = labels[torch.argsort(torch.cat((torch.arange(nimg), rnd_pos)))]\n",
        "\n",
        "  return images, labels\n",
        "\n",
        "def remove_false_images(images, labels, ratio):\n",
        "    \"\"\"\n",
        "    隨機在images裡面移除一定比例的無闌尾炎cut\n",
        "\n",
        "    Args:\n",
        "      images: 输入的图像数据\n",
        "      labels: 输入的标签数据\n",
        "      ratio: 移除的比例\n",
        "\n",
        "    Returns:\n",
        "      移除后的图像数据和标签数据\n",
        "    \"\"\"\n",
        "    # 找出 labels == 0 的索引\n",
        "    where_false = (labels == 0).nonzero(as_tuple=True)[0]\n",
        "    mask = torch.ones(len(images), dtype=torch.bool)\n",
        "    indices_filter = torch.randperm(len(where_false))[:int(len(where_false)*ratio)]\n",
        "    mask[where_false[indices_filter]] = False\n",
        "    images = images[mask]\n",
        "    labels = labels[mask]\n",
        "\n",
        "    return images, labels\n",
        "\n",
        "def remove_positive_images(images, labels, ratio):\n",
        "    # 找出 labels == 1 的索引\n",
        "    where_positive = (labels == 1).nonzero(as_tuple=True)[0]\n",
        "    mask = torch.ones(len(images), dtype=torch.bool)\n",
        "    indices_filter = torch.randperm(len(where_positive))[:int(len(where_positive)*ratio)]\n",
        "    mask[where_positive[indices_filter]] = False\n",
        "    images = images[mask]\n",
        "    labels = labels[mask]\n",
        "\n",
        "    return images, labels\n",
        "\n",
        "\n",
        "def k_fold_split_indices(num_samples, k=5,shuffle_=True):\n",
        "  \"\"\"返回geneartor for index. 省記憶體\"\"\"\n",
        "  state_ = None\n",
        "  if shuffle_:\n",
        "    state_ = 42\n",
        "  kf = KFold(n_splits=k, shuffle=shuffle_, random_state=state_)\n",
        "  return ((train_index, test_index) for train_index, test_index in kf.split(range(num_samples)))\n",
        "\n",
        "\n",
        "splitpath = r\"/content/drive/MyDrive/AOCR2024/TrainValid_split.csv\"\n",
        "def get_split(splitpath=splitpath):\n",
        "  dfsplit = read_split(splitpath)\n",
        "  train_ids,valid_ids = (dfsplit[dfsplit['group']=='Train'])['id'].tolist(),(dfsplit[dfsplit['group']=='Valid'])['id'].tolist()\n",
        "  train_ids,valid_ids = [train_id +'.nii.gz' for train_id in train_ids], [valid_id +'.nii.gz' for valid_id in valid_ids]\n",
        "  return train_ids,valid_ids"
      ],
      "metadata": {
        "id": "6nLNS0uRWl5X"
      },
      "execution_count": 5,
      "outputs": []
    },
    {
      "cell_type": "markdown",
      "source": [
        "## 數據處理"
      ],
      "metadata": {
        "id": "bxDFwGkyhKtX"
      }
    },
    {
      "cell_type": "markdown",
      "source": [
        "## 其他"
      ],
      "metadata": {
        "id": "BdwzEjFhbR4z"
      }
    },
    {
      "cell_type": "code",
      "execution_count": 6,
      "metadata": {
        "id": "7dmJYugUB_3w"
      },
      "outputs": [],
      "source": [
        "\n",
        "def count_zero(images):\n",
        "  count = 0\n",
        "  for image in images:\n",
        "    if not torch.any(image):\n",
        "      count += 1\n",
        "  return count\n",
        "\n",
        "def cropping(image):\n",
        "  if image.shape[2] != 512:\n",
        "    start = (image.shape[2] - 512) // 2\n",
        "    end = start + 512\n",
        "    image = image[:, :, start:end, :]\n",
        "\n",
        "  if image.shape[3] != 512:\n",
        "    start = (image.shape[3] - 512) // 2\n",
        "    end = start + 512\n",
        "    image = image[:, :, :, start:end]\n",
        "  return image\n",
        "\n",
        "\n",
        "\n",
        "\n",
        "def custom_sort_key(val):\n",
        "    parts = val.split('_')\n",
        "    if len(parts) == 2 and parts[1].isdigit():\n",
        "        return (parts[0], int(parts[1]))\n",
        "    return (parts[0], -1)  # 使沒有_(數字)的id排最前面\n",
        "\n",
        "\n",
        "def isgpu():\n",
        "    \"\"\"檢查是否有 CUDA 支持的 GPU\"\"\"\n",
        "    if torch.cuda.is_available():\n",
        "        device = torch.device(\"cuda\")\n",
        "        print(\"GPU is available\")\n",
        "    else:\n",
        "        device = torch.device(\"cpu\")\n",
        "        # raise(\"GPU not available\")\n",
        "    return device\n"
      ]
    },
    {
      "cell_type": "code",
      "execution_count": 7,
      "metadata": {
        "id": "Ud4x-GeICQxw",
        "colab": {
          "base_uri": "https://localhost:8080/"
        },
        "outputId": "b4a0e453-dcd7-4ca3-e0e3-4f1cdcbda6a6"
      },
      "outputs": [
        {
          "output_type": "stream",
          "name": "stdout",
          "text": [
            "GPU is available\n"
          ]
        }
      ],
      "source": [
        "device = isgpu()"
      ]
    },
    {
      "cell_type": "markdown",
      "metadata": {
        "id": "lV66iCZmCrBJ"
      },
      "source": [
        "# 掛載\n"
      ]
    },
    {
      "cell_type": "code",
      "execution_count": 8,
      "metadata": {
        "id": "bKUXzQOdBRFQ",
        "colab": {
          "base_uri": "https://localhost:8080/"
        },
        "outputId": "dac4d4d1-5e59-4890-f7d7-c281b352f3dd"
      },
      "outputs": [
        {
          "output_type": "stream",
          "name": "stdout",
          "text": [
            "Mounted at /content/drive/\n"
          ]
        }
      ],
      "source": [
        "from google.colab import drive\n",
        "drive.mount('/content/drive/',)"
      ]
    },
    {
      "cell_type": "code",
      "source": [
        "cd /content/"
      ],
      "metadata": {
        "colab": {
          "base_uri": "https://localhost:8080/"
        },
        "id": "0akdyBvSPfiG",
        "outputId": "677336c9-e417-4862-a273-cf0d3d8dfc08"
      },
      "execution_count": 9,
      "outputs": [
        {
          "output_type": "stream",
          "name": "stdout",
          "text": [
            "/content\n"
          ]
        }
      ]
    },
    {
      "cell_type": "code",
      "source": [
        "!pwd"
      ],
      "metadata": {
        "id": "5qbhdYNrGRxf",
        "colab": {
          "base_uri": "https://localhost:8080/"
        },
        "outputId": "90b8a5cb-d65e-4994-92cb-7ef00440edc9"
      },
      "execution_count": 10,
      "outputs": [
        {
          "output_type": "stream",
          "name": "stdout",
          "text": [
            "/content\n"
          ]
        }
      ]
    },
    {
      "cell_type": "code",
      "source": [
        "drive_rootdir = \"/content/drive/MyDrive/AOCR2024\"\n",
        "labelpath = '/content/drive/MyDrive/AOCR2024/TrainValidTest_ground_truth.csv'\n",
        "# datadir =\"Train_Valid_Image\"\n",
        "datadir =\"Cropped_60-316_150-406_11-71/Train_Valid_Image_cropped\"\n"
      ],
      "metadata": {
        "id": "dzzWlsmwlPCZ"
      },
      "execution_count": 11,
      "outputs": []
    },
    {
      "cell_type": "markdown",
      "source": [
        "Use service account to access googledrive"
      ],
      "metadata": {
        "id": "CwxsNMJG9E-V"
      }
    },
    {
      "cell_type": "code",
      "source": [
        "from google.oauth2 import service_account\n",
        "import googleapiclient.discovery\n",
        "\n",
        "# 左側Secret存有private key\n",
        "from google.colab import userdata\n",
        "private_key = userdata.get('private_key')\n",
        "private_key_id = userdata.get('private_key_id')\n",
        "\n",
        "credentials_info = {\n",
        "    \"type\": \"service_account\",\n",
        "    \"project_id\": \"appendicitis-407217\",\n",
        "    \"private_key_id\": private_key_id,\n",
        "    \"private_key\": private_key,\n",
        "    \"client_email\": \"appendix@appendicitis-407217.iam.gserviceaccount.com\",\n",
        "    \"client_id\": \"106423688397478405739\",\n",
        "    \"auth_uri\": \"https://accounts.google.com/o/oauth2/auth\",\n",
        "    \"token_uri\": \"https://oauth2.googleapis.com/token\",\n",
        "    \"auth_provider_x509_cert_url\": \"https://www.googleapis.com/oauth2/v1/certs\",\n",
        "    \"client_x509_cert_url\": \"https://www.googleapis.com/robot/v1/metadata/x509/appendix%40appendicitis-407217.iam.gserviceaccount.com\"\n",
        "}\n",
        "\n",
        "credentials = service_account.Credentials.from_service_account_info(\n",
        "    credentials_info,\n",
        "    scopes=[\"https://www.googleapis.com/auth/drive\"]\n",
        ")\n",
        "\n",
        "# 使用凭证创建Google Drive服务实例\n",
        "service = googleapiclient.discovery.build('drive', 'v3', credentials=credentials)"
      ],
      "metadata": {
        "id": "p46LlGr13crr"
      },
      "execution_count": 12,
      "outputs": []
    },
    {
      "cell_type": "markdown",
      "source": [
        "# 資料下載(非同步)"
      ],
      "metadata": {
        "id": "rnXxst5LARb5"
      }
    },
    {
      "cell_type": "code",
      "source": [
        "from google.auth.transport.requests import Request\n",
        "request = Request()\n",
        "credentials.refresh(request)\n",
        "loop.run_until_complete(get_data_disk_async(drive_rootdir, datadir,token = credentials.token))"
      ],
      "metadata": {
        "id": "lVtVoGK4AL6p",
        "colab": {
          "base_uri": "https://localhost:8080/"
        },
        "outputId": "acc68f7b-591e-475c-85ba-85152007b91b"
      },
      "execution_count": 13,
      "outputs": [
        {
          "output_type": "stream",
          "name": "stdout",
          "text": [
            "making Cropped_60-316_150-406_11-71/Train_Valid_Image_cropped dir...\n"
          ]
        },
        {
          "output_type": "stream",
          "name": "stderr",
          "text": [
            "100%|██████████| 1000/1000 [00:38<00:00, 25.76it/s]\n"
          ]
        }
      ]
    },
    {
      "cell_type": "code",
      "source": [
        "!curl ipecho.net/plain"
      ],
      "metadata": {
        "id": "M0o3a7eXiV7b",
        "colab": {
          "base_uri": "https://localhost:8080/"
        },
        "outputId": "b588b4ad-9802-4ea6-d1a9-6afb31a78a61"
      },
      "execution_count": 14,
      "outputs": [
        {
          "output_type": "stream",
          "name": "stdout",
          "text": [
            "34.143.249.64"
          ]
        }
      ]
    },
    {
      "cell_type": "code",
      "source": [
        "len(os.listdir(datadir))"
      ],
      "metadata": {
        "id": "xXH5tN8Jq4Vn",
        "colab": {
          "base_uri": "https://localhost:8080/"
        },
        "outputId": "a368ec87-661c-4d0f-e928-c8e44927f0d0"
      },
      "execution_count": 15,
      "outputs": [
        {
          "output_type": "execute_result",
          "data": {
            "text/plain": [
              "1000"
            ]
          },
          "metadata": {},
          "execution_count": 15
        }
      ]
    },
    {
      "cell_type": "markdown",
      "source": [
        "## 下載測試資料\n"
      ],
      "metadata": {
        "id": "YIMoEupxVJzs"
      }
    },
    {
      "cell_type": "code",
      "source": [
        "testdir = \"Cropped_60-316_150-406_11-71/Test_Image_cropped\"\n",
        "from google.auth.transport.requests import Request\n",
        "request = Request()\n",
        "credentials.refresh(request)\n",
        "loop.run_until_complete(get_data_disk_async(drive_rootdir, testdir,token = credentials.token))\n"
      ],
      "metadata": {
        "colab": {
          "base_uri": "https://localhost:8080/"
        },
        "id": "zII29FoMVJGM",
        "outputId": "a3ce9b39-c06f-48a9-aa5d-ecd97f1173cc"
      },
      "execution_count": 22,
      "outputs": [
        {
          "output_type": "stream",
          "name": "stderr",
          "text": [
            "0it [00:00, ?it/s]\n"
          ]
        }
      ]
    },
    {
      "cell_type": "code",
      "source": [
        "len(os.listdir(testdir))"
      ],
      "metadata": {
        "colab": {
          "base_uri": "https://localhost:8080/"
        },
        "id": "GHbng809Vqwl",
        "outputId": "fc1333bd-9956-4ea7-e74e-3840c03b0126"
      },
      "execution_count": 23,
      "outputs": [
        {
          "output_type": "execute_result",
          "data": {
            "text/plain": [
              "200"
            ]
          },
          "metadata": {},
          "execution_count": 23
        }
      ]
    },
    {
      "cell_type": "markdown",
      "source": [
        "# Dataset/Model"
      ],
      "metadata": {
        "id": "mei5EcNldUJr"
      }
    },
    {
      "cell_type": "code",
      "source": [
        "import copy\n",
        "\n",
        "class CustomDataset(Dataset):\n",
        "    def __init__(self, images, labels, mode='train', transform=None):\n",
        "        self.images = images\n",
        "        self.labels = labels\n",
        "        self.mode = mode\n",
        "        self.transform = transform\n",
        "\n",
        "\n",
        "    def __len__(self):\n",
        "        return len(self.images)\n",
        "\n",
        "    def __getitem__(self, idx):\n",
        "      image = self.images[idx]\n",
        "      if self.transform:\n",
        "        image = self.transform(self.images[idx])\n",
        "\n",
        "      if self.mode in ['train', 'valid']:\n",
        "          return image, self.labels[idx]\n",
        "      elif self.mode == 'test':\n",
        "          return image"
      ],
      "metadata": {
        "id": "65xrLIRzdMpE"
      },
      "execution_count": 24,
      "outputs": []
    },
    {
      "cell_type": "markdown",
      "source": [
        "## helper"
      ],
      "metadata": {
        "id": "Y0FW7UWHjAyw"
      }
    },
    {
      "cell_type": "code",
      "source": [
        "def train(loader, model_, optimizer, criterion, threshold, device):\n",
        "  \"\"\"模型輸出值超過threshold當作陽性\"\"\"\n",
        "  model_.train()\n",
        "  running_loss = 0.0\n",
        "  correct_count = 0\n",
        "  total_count = 0\n",
        "  predict_list_ = torch.tensor(()).to(device)\n",
        "  labels_ = torch.tensor(()).to(device)\n",
        "\n",
        "  for batch_images, batch_labels in loader:\n",
        "      batch_images, batch_labels = batch_images.to(device), batch_labels.to(device)\n",
        "      optimizer.zero_grad()\n",
        "      outputs = model_(batch_images).squeeze()\n",
        "      predicted_t = (outputs > threshold).int()\n",
        "      loss = criterion(outputs, batch_labels)\n",
        "      loss.backward()\n",
        "      optimizer.step()\n",
        "\n",
        "      running_loss += loss.item()\n",
        "      total_count += batch_labels.size(0)\n",
        "      correct_count += (predicted_t == batch_labels).sum().item()\n",
        "      predict_list_ = torch.concat((predict_list_, predicted_t), 0)\n",
        "      labels_ = torch.concat((labels_, batch_labels), 0)\n",
        "\n",
        "\n",
        "  epoch_loss = running_loss / len(loader)\n",
        "  epoch_accuracy = 100 * correct_count / total_count\n",
        "\n",
        "  return epoch_loss, epoch_accuracy, predict_list_, labels_\n",
        "\n",
        "\n",
        "\n",
        "def valid(loader, model_, criterion, threshold, device):\n",
        "  \"\"\"模型輸出值超過threshold當作陽性\"\"\"\n",
        "  model_.eval()\n",
        "  testing_loss = 0.0\n",
        "  correct = 0\n",
        "  total = 0\n",
        "  predict_list_ = torch.tensor(()).to(device)\n",
        "  labels_ = torch.tensor(()).to(device)\n",
        "\n",
        "  with torch.no_grad():\n",
        "      for i, (batch_images, batch_labels) in enumerate(loader):\n",
        "          batch_images, batch_labels = batch_images.to(device), batch_labels.to(device)\n",
        "          outputs = model_(batch_images).squeeze()\n",
        "          predicted_v = (outputs > threshold).int()\n",
        "          loss = criterion(outputs, batch_labels)\n",
        "\n",
        "          testing_loss += loss.item() #單個batch平均loss\n",
        "          bsize = batch_labels.size(0)\n",
        "          total += bsize\n",
        "          correct += (predicted_v == batch_labels).sum().item()\n",
        "          predict_list_ = torch.concat((predict_list_, predicted_v), 0)\n",
        "          labels_ = torch.concat((labels_, batch_labels), 0)\n",
        "\n",
        "  valid_loss = testing_loss / len(loader) #單個epoch平均loss\n",
        "  valid_accuracy = 100 * correct / total\n",
        "\n",
        "  return valid_loss, valid_accuracy, predict_list_, labels_\n",
        "\n",
        "\n"
      ],
      "metadata": {
        "id": "FA_Fqv_Ex4K_"
      },
      "execution_count": 25,
      "outputs": []
    },
    {
      "cell_type": "code",
      "source": [
        "class ModelError(Exception):\n",
        "    def __init__(self, message):\n",
        "        super().__init__(message)"
      ],
      "metadata": {
        "id": "IKgx6hYL_4LG"
      },
      "execution_count": 26,
      "outputs": []
    },
    {
      "cell_type": "code",
      "source": [
        "del model_name"
      ],
      "metadata": {
        "id": "46wAMI9nBiwG"
      },
      "execution_count": 52,
      "outputs": []
    },
    {
      "cell_type": "markdown",
      "source": [
        "# Unet(with/without) decoder"
      ],
      "metadata": {
        "id": "5Q4bQ1pkDyWY"
      }
    },
    {
      "cell_type": "code",
      "source": [
        "model_name_temp = \"unet_without_decoder\"\n",
        "\n",
        "if 'model_name' in globals():\n",
        "  if (model_name != model_name_temp):\n",
        "    raise ModelError('已經初始化其他model了')\n",
        "else:\n",
        "  model_name = model_name_temp\n",
        "\n",
        "\n",
        "# class UNet(nn.Module):\n",
        "#     def __init__(self, in_channels=1, out_channels=1):\n",
        "#         super(UNet, self).__init__()\n",
        "#         self.inc = DoubleConv(in_channels, 64)\n",
        "#         self.down1 = DoubleConv(64, 128)\n",
        "#         self.down2 = DoubleConv(128, 256)\n",
        "#         self.down3 = DoubleConv(256, 512)\n",
        "#         self.down4 = DoubleConv(512, 512)\n",
        "#         self.up1 = DoubleConv(1024, 256)\n",
        "#         self.up2 = DoubleConv(512, 128)\n",
        "#         self.up3 = DoubleConv(256, 64)\n",
        "#         self.up4 = DoubleConv(128, 64)\n",
        "#         self.outc = nn.Conv2d(64, out_channels, kernel_size=1)\n",
        "#         self.avgpool = nn.AdaptiveAvgPool2d(1)  # 添加全局平均池化层\n",
        "#         self.sigmoid = nn.Sigmoid()  # 添加 Sigmoid 激活函数\n",
        "\n",
        "#     def forward(self, x):\n",
        "#         x1 = self.inc(x)\n",
        "#         x2 = self.down1(nn.MaxPool2d(2)(x1))\n",
        "#         x3 = self.down2(nn.MaxPool2d(2)(x2))\n",
        "#         x4 = self.down3(nn.MaxPool2d(2)(x3))\n",
        "#         x5 = self.down4(nn.MaxPool2d(2)(x4))\n",
        "#         x = self.up1(torch.cat([nn.Upsample(scale_factor=2)(x5), x4], dim=1))\n",
        "#         x = self.up2(torch.cat([nn.Upsample(scale_factor=2)(x), x3], dim=1))\n",
        "#         x = self.up3(torch.cat([nn.Upsample(scale_factor=2)(x), x2], dim=1))\n",
        "#         x = self.up4(torch.cat([nn.Upsample(scale_factor=2)(x), x1], dim=1))\n",
        "#         x = self.outc(x)\n",
        "#         x = self.avgpool(x)  # 应用全局平均池化\n",
        "#         x = torch.flatten(x, 1)  # 展平\n",
        "#         x = self.sigmoid(x)  # 应用 Sigmoid 激活函数\n",
        "#         return x\n",
        "\n",
        "\n",
        "## 沒有decoder的\n",
        "class DoubleConv(nn.Module):\n",
        "    \"\"\"(convolution => [BN] => ReLU) * 2\"\"\"\n",
        "\n",
        "    def __init__(self, in_channels, out_channels, mid_channels=None):\n",
        "        super().__init__()\n",
        "        if not mid_channels:\n",
        "            mid_channels = out_channels\n",
        "        self.double_conv = nn.Sequential(\n",
        "            nn.Conv2d(in_channels, mid_channels, kernel_size=3, padding=1),\n",
        "            nn.BatchNorm2d(mid_channels),\n",
        "            nn.ReLU(inplace=True),\n",
        "            nn.Conv2d(mid_channels, out_channels, kernel_size=3, padding=1),\n",
        "            nn.BatchNorm2d(out_channels),\n",
        "            nn.ReLU(inplace=True)\n",
        "        )\n",
        "\n",
        "    def forward(self, x):\n",
        "        return self.double_conv(x)\n",
        "\n",
        "class UNet(nn.Module):\n",
        "    def __init__(self, in_channels=1, out_channels=1):\n",
        "        super(UNet, self).__init__()\n",
        "        self.inc = DoubleConv(in_channels, 64)\n",
        "        self.down1 = DoubleConv(64, 128)\n",
        "        self.down2 = DoubleConv(128, 256)\n",
        "        self.down3 = DoubleConv(256, 512)\n",
        "        self.down4 = DoubleConv(512, 512)\n",
        "\n",
        "        self.avgpool = nn.AdaptiveAvgPool2d(1)  # 添加全局平均池化层\n",
        "        self.fc = nn.Linear(512, out_channels)  # 添加全连接层\n",
        "        self.sigmoid = nn.Sigmoid()  # 添加 Sigmoid 激活函数\n",
        "\n",
        "    def forward(self, x):\n",
        "        x = self.inc(x)\n",
        "        x = self.down1(nn.MaxPool2d(2)(x))\n",
        "        x = self.down2(nn.MaxPool2d(2)(x))\n",
        "        x = self.down3(nn.MaxPool2d(2)(x))\n",
        "        x = self.down4(nn.MaxPool2d(2)(x))\n",
        "\n",
        "        x = self.avgpool(x)  # 应用全局平均池化\n",
        "        x = torch.flatten(x, 1)  # 展平\n",
        "        x = self.fc(x)  # 应用全连接层\n",
        "        x = self.sigmoid(x)  # 应用 Sigmoid 激活函数\n",
        "        return x\n",
        "\n",
        "# 创建 U-Net 模型实例\n",
        "unet_model = UNet(in_channels=1, out_channels=1)"
      ],
      "metadata": {
        "id": "2OTcf0RADr-w"
      },
      "execution_count": 67,
      "outputs": []
    },
    {
      "cell_type": "markdown",
      "source": [
        "# 三層Unet(with/without) decoder"
      ],
      "metadata": {
        "id": "x8RWYhU03A7a"
      }
    },
    {
      "cell_type": "code",
      "source": [
        "model_name_temp = \"unet_without_decoder\"\n",
        "\n",
        "if 'model_name' in globals():\n",
        "  if (model_name != model_name_temp):\n",
        "    raise ModelError('已經初始化其他model了')\n",
        "else:\n",
        "  model_name = model_name_temp\n",
        "\n",
        "\n",
        "# class UNet(nn.Module):\n",
        "#     def __init__(self, in_channels=1, out_channels=1):\n",
        "#         super(UNet, self).__init__()\n",
        "#         self.inc = DoubleConv(in_channels, 64)\n",
        "#         self.down1 = DoubleConv(64, 128)\n",
        "#         self.down2 = DoubleConv(128, 256)\n",
        "#         self.down3 = DoubleConv(256, 512)\n",
        "#         self.down4 = DoubleConv(512, 512)\n",
        "#         self.up1 = DoubleConv(1024, 256)\n",
        "#         self.up2 = DoubleConv(512, 128)\n",
        "#         self.up3 = DoubleConv(256, 64)\n",
        "#         self.up4 = DoubleConv(128, 64)\n",
        "#         self.outc = nn.Conv2d(64, out_channels, kernel_size=1)\n",
        "#         self.avgpool = nn.AdaptiveAvgPool2d(1)  # 添加全局平均池化层\n",
        "#         self.sigmoid = nn.Sigmoid()  # 添加 Sigmoid 激活函数\n",
        "\n",
        "#     def forward(self, x):\n",
        "#         x1 = self.inc(x)\n",
        "#         x2 = self.down1(nn.MaxPool2d(2)(x1))\n",
        "#         x3 = self.down2(nn.MaxPool2d(2)(x2))\n",
        "#         x4 = self.down3(nn.MaxPool2d(2)(x3))\n",
        "#         x5 = self.down4(nn.MaxPool2d(2)(x4))\n",
        "#         x = self.up1(torch.cat([nn.Upsample(scale_factor=2)(x5), x4], dim=1))\n",
        "#         x = self.up2(torch.cat([nn.Upsample(scale_factor=2)(x), x3], dim=1))\n",
        "#         x = self.up3(torch.cat([nn.Upsample(scale_factor=2)(x), x2], dim=1))\n",
        "#         x = self.up4(torch.cat([nn.Upsample(scale_factor=2)(x), x1], dim=1))\n",
        "#         x = self.outc(x)\n",
        "#         x = self.avgpool(x)  # 应用全局平均池化\n",
        "#         x = torch.flatten(x, 1)  # 展平\n",
        "#         x = self.sigmoid(x)  # 应用 Sigmoid 激活函数\n",
        "#         return x\n",
        "\n",
        "\n",
        "## 沒有decoder的\n",
        "class DoubleConv(nn.Module):\n",
        "    \"\"\"(convolution => [BN] => ReLU) * 2\"\"\"\n",
        "\n",
        "    def __init__(self, in_channels, out_channels, mid_channels=None):\n",
        "        super().__init__()\n",
        "        if not mid_channels:\n",
        "            mid_channels = out_channels\n",
        "        self.double_conv = nn.Sequential(\n",
        "            nn.Conv2d(in_channels, mid_channels, kernel_size=5, padding=1),\n",
        "            nn.BatchNorm2d(mid_channels),\n",
        "            nn.ReLU(inplace=True),\n",
        "            nn.Conv2d(mid_channels, out_channels, kernel_size=5, padding=1),\n",
        "            nn.BatchNorm2d(out_channels),\n",
        "            nn.ReLU(inplace=True)\n",
        "        )\n",
        "\n",
        "    def forward(self, x):\n",
        "        return self.double_conv(x)\n",
        "\n",
        "class UNet(nn.Module):\n",
        "    def __init__(self, in_channels=1, out_channels=1):\n",
        "        super(UNet, self).__init__()\n",
        "        self.inc = DoubleConv(in_channels, 64)\n",
        "        self.down1 = DoubleConv(64, 128)\n",
        "        self.down2 = DoubleConv(128, 512)\n",
        "        # self.down3 = DoubleConv(256, 512)\n",
        "        # self.down4 = DoubleConv(512, 512)\n",
        "\n",
        "        self.avgpool = nn.AdaptiveAvgPool2d(1)  # 添加全局平均池化层\n",
        "        self.fc = nn.Linear(512, out_channels)  # 添加全连接层\n",
        "        self.sigmoid = nn.Sigmoid()  # 添加 Sigmoid 激活函数\n",
        "\n",
        "    def forward(self, x):\n",
        "        x = self.inc(x)\n",
        "        x = self.down1(nn.MaxPool2d(2)(x))\n",
        "        x = self.down2(nn.MaxPool2d(2)(x))\n",
        "        # x = self.down3(nn.MaxPool2d(2)(x))\n",
        "        # x = self.down4(nn.MaxPool2d(2)(x))\n",
        "\n",
        "        x = self.avgpool(x)  # 应用全局平均池化\n",
        "        x = torch.flatten(x, 1)  # 展平\n",
        "        x = self.fc(x)  # 应用全连接层\n",
        "        x = self.sigmoid(x)  # 应用 Sigmoid 激活函数\n",
        "        return x\n",
        "\n",
        "# 创建 U-Net 模型实例\n",
        "unet_model = UNet(in_channels=1, out_channels=1)"
      ],
      "metadata": {
        "id": "rgsobOz22_yN"
      },
      "execution_count": 53,
      "outputs": []
    },
    {
      "cell_type": "markdown",
      "source": [
        "# EfficiencyNetV2_s\n"
      ],
      "metadata": {
        "id": "I7XRbTugDsrY"
      }
    },
    {
      "cell_type": "code",
      "source": [
        "model_name_temp = \"tf_efficientnetv2_s\"\n",
        "\n",
        "if 'model_name' in globals():\n",
        "  if (model_name != model_name_temp):\n",
        "    raise ModelError(f'已經初始化其他model了： {model_name}')\n",
        "else:\n",
        "  model_name = model_name_temp\n",
        "\n",
        "\n",
        "pretrained_model = timm.create_model(model_name, pretrained=True)\n",
        "\n",
        "# 修改輸入通道\n",
        "pretrained_model.conv_stem = nn.Conv2d(1, 24, kernel_size=3, stride=2, padding=1, bias=False)\n",
        "\n",
        "# 修改輸出類別\n",
        "num_classes = 1\n",
        "pretrained_model.classifier = nn.Linear(pretrained_model.classifier.in_features, num_classes)\n",
        "\n",
        "# # 修改 global_pool 層\n",
        "# if hasattr(pretrained_model, 'global_pool'):\n",
        "#     # 使用 AdaptiveMaxPool2d 替代 SelectAdaptivePool2d\n",
        "#     pretrained_model.global_pool = nn.Sequential(\n",
        "#         nn.AdaptiveMaxPool2d(1),\n",
        "#         nn.Flatten(start_dim=1, end_dim=-1)\n",
        "#     )\n",
        "# else:\n",
        "#     raise AttributeError(\"Global pooling layer not found in the model\")\n",
        "\n",
        "# 添加 Sigmoid 激活函數\n",
        "pretrained_model = nn.Sequential(\n",
        "    pretrained_model,\n",
        "    nn.Sigmoid()\n",
        ")\n",
        "\n",
        "\n",
        "# 檢查模型結構\n",
        "print(pretrained_model)\n",
        "\n",
        "\n"
      ],
      "metadata": {
        "id": "jZ0cSVS51BHz",
        "colab": {
          "base_uri": "https://localhost:8080/",
          "height": 1000,
          "referenced_widgets": [
            "308af6c8e3974186a3a9989f747c2f9a",
            "6acd3091c2c24be499082abc6f22f768",
            "2c3e872c75544c428721f5c2f03f4af4",
            "c26c9a52ce6a43e2825837129f605232",
            "074f41319e454b55ba4743978a86bee9",
            "6ecd3e91adbc4d959285becbee70959e",
            "b0a5017d19ea4f668e5b025810a87c64",
            "1d03d8e42cc4451ba1337f806178e0bb",
            "462561cb62d445e2880520c9117a50c1",
            "5b671e30c685494fbd005b45b613f6c9",
            "b47b282697db469085687d8116b19847"
          ]
        },
        "outputId": "b5de7dbb-b784-4da4-c90c-cd5b2a6faef9"
      },
      "execution_count": 28,
      "outputs": [
        {
          "output_type": "stream",
          "name": "stderr",
          "text": [
            "/usr/local/lib/python3.10/dist-packages/huggingface_hub/utils/_token.py:88: UserWarning: \n",
            "The secret `HF_TOKEN` does not exist in your Colab secrets.\n",
            "To authenticate with the Hugging Face Hub, create a token in your settings tab (https://huggingface.co/settings/tokens), set it as secret in your Google Colab and restart your session.\n",
            "You will be able to reuse this secret in all of your notebooks.\n",
            "Please note that authentication is recommended but still optional to access public models or datasets.\n",
            "  warnings.warn(\n"
          ]
        },
        {
          "output_type": "display_data",
          "data": {
            "text/plain": [
              "model.safetensors:   0%|          | 0.00/86.5M [00:00<?, ?B/s]"
            ],
            "application/vnd.jupyter.widget-view+json": {
              "version_major": 2,
              "version_minor": 0,
              "model_id": "308af6c8e3974186a3a9989f747c2f9a"
            }
          },
          "metadata": {}
        },
        {
          "output_type": "stream",
          "name": "stdout",
          "text": [
            "Sequential(\n",
            "  (0): EfficientNet(\n",
            "    (conv_stem): Conv2d(1, 24, kernel_size=(3, 3), stride=(2, 2), padding=(1, 1), bias=False)\n",
            "    (bn1): BatchNormAct2d(\n",
            "      24, eps=0.001, momentum=0.1, affine=True, track_running_stats=True\n",
            "      (drop): Identity()\n",
            "      (act): SiLU(inplace=True)\n",
            "    )\n",
            "    (blocks): Sequential(\n",
            "      (0): Sequential(\n",
            "        (0): ConvBnAct(\n",
            "          (conv): Conv2d(24, 24, kernel_size=(3, 3), stride=(1, 1), padding=(1, 1), bias=False)\n",
            "          (bn1): BatchNormAct2d(\n",
            "            24, eps=0.001, momentum=0.1, affine=True, track_running_stats=True\n",
            "            (drop): Identity()\n",
            "            (act): SiLU(inplace=True)\n",
            "          )\n",
            "          (drop_path): Identity()\n",
            "        )\n",
            "        (1): ConvBnAct(\n",
            "          (conv): Conv2d(24, 24, kernel_size=(3, 3), stride=(1, 1), padding=(1, 1), bias=False)\n",
            "          (bn1): BatchNormAct2d(\n",
            "            24, eps=0.001, momentum=0.1, affine=True, track_running_stats=True\n",
            "            (drop): Identity()\n",
            "            (act): SiLU(inplace=True)\n",
            "          )\n",
            "          (drop_path): Identity()\n",
            "        )\n",
            "      )\n",
            "      (1): Sequential(\n",
            "        (0): EdgeResidual(\n",
            "          (conv_exp): Conv2dSame(24, 96, kernel_size=(3, 3), stride=(2, 2), bias=False)\n",
            "          (bn1): BatchNormAct2d(\n",
            "            96, eps=0.001, momentum=0.1, affine=True, track_running_stats=True\n",
            "            (drop): Identity()\n",
            "            (act): SiLU(inplace=True)\n",
            "          )\n",
            "          (se): Identity()\n",
            "          (conv_pwl): Conv2d(96, 48, kernel_size=(1, 1), stride=(1, 1), bias=False)\n",
            "          (bn2): BatchNormAct2d(\n",
            "            48, eps=0.001, momentum=0.1, affine=True, track_running_stats=True\n",
            "            (drop): Identity()\n",
            "            (act): Identity()\n",
            "          )\n",
            "          (drop_path): Identity()\n",
            "        )\n",
            "        (1): EdgeResidual(\n",
            "          (conv_exp): Conv2d(48, 192, kernel_size=(3, 3), stride=(1, 1), padding=(1, 1), bias=False)\n",
            "          (bn1): BatchNormAct2d(\n",
            "            192, eps=0.001, momentum=0.1, affine=True, track_running_stats=True\n",
            "            (drop): Identity()\n",
            "            (act): SiLU(inplace=True)\n",
            "          )\n",
            "          (se): Identity()\n",
            "          (conv_pwl): Conv2d(192, 48, kernel_size=(1, 1), stride=(1, 1), bias=False)\n",
            "          (bn2): BatchNormAct2d(\n",
            "            48, eps=0.001, momentum=0.1, affine=True, track_running_stats=True\n",
            "            (drop): Identity()\n",
            "            (act): Identity()\n",
            "          )\n",
            "          (drop_path): Identity()\n",
            "        )\n",
            "        (2): EdgeResidual(\n",
            "          (conv_exp): Conv2d(48, 192, kernel_size=(3, 3), stride=(1, 1), padding=(1, 1), bias=False)\n",
            "          (bn1): BatchNormAct2d(\n",
            "            192, eps=0.001, momentum=0.1, affine=True, track_running_stats=True\n",
            "            (drop): Identity()\n",
            "            (act): SiLU(inplace=True)\n",
            "          )\n",
            "          (se): Identity()\n",
            "          (conv_pwl): Conv2d(192, 48, kernel_size=(1, 1), stride=(1, 1), bias=False)\n",
            "          (bn2): BatchNormAct2d(\n",
            "            48, eps=0.001, momentum=0.1, affine=True, track_running_stats=True\n",
            "            (drop): Identity()\n",
            "            (act): Identity()\n",
            "          )\n",
            "          (drop_path): Identity()\n",
            "        )\n",
            "        (3): EdgeResidual(\n",
            "          (conv_exp): Conv2d(48, 192, kernel_size=(3, 3), stride=(1, 1), padding=(1, 1), bias=False)\n",
            "          (bn1): BatchNormAct2d(\n",
            "            192, eps=0.001, momentum=0.1, affine=True, track_running_stats=True\n",
            "            (drop): Identity()\n",
            "            (act): SiLU(inplace=True)\n",
            "          )\n",
            "          (se): Identity()\n",
            "          (conv_pwl): Conv2d(192, 48, kernel_size=(1, 1), stride=(1, 1), bias=False)\n",
            "          (bn2): BatchNormAct2d(\n",
            "            48, eps=0.001, momentum=0.1, affine=True, track_running_stats=True\n",
            "            (drop): Identity()\n",
            "            (act): Identity()\n",
            "          )\n",
            "          (drop_path): Identity()\n",
            "        )\n",
            "      )\n",
            "      (2): Sequential(\n",
            "        (0): EdgeResidual(\n",
            "          (conv_exp): Conv2dSame(48, 192, kernel_size=(3, 3), stride=(2, 2), bias=False)\n",
            "          (bn1): BatchNormAct2d(\n",
            "            192, eps=0.001, momentum=0.1, affine=True, track_running_stats=True\n",
            "            (drop): Identity()\n",
            "            (act): SiLU(inplace=True)\n",
            "          )\n",
            "          (se): Identity()\n",
            "          (conv_pwl): Conv2d(192, 64, kernel_size=(1, 1), stride=(1, 1), bias=False)\n",
            "          (bn2): BatchNormAct2d(\n",
            "            64, eps=0.001, momentum=0.1, affine=True, track_running_stats=True\n",
            "            (drop): Identity()\n",
            "            (act): Identity()\n",
            "          )\n",
            "          (drop_path): Identity()\n",
            "        )\n",
            "        (1): EdgeResidual(\n",
            "          (conv_exp): Conv2d(64, 256, kernel_size=(3, 3), stride=(1, 1), padding=(1, 1), bias=False)\n",
            "          (bn1): BatchNormAct2d(\n",
            "            256, eps=0.001, momentum=0.1, affine=True, track_running_stats=True\n",
            "            (drop): Identity()\n",
            "            (act): SiLU(inplace=True)\n",
            "          )\n",
            "          (se): Identity()\n",
            "          (conv_pwl): Conv2d(256, 64, kernel_size=(1, 1), stride=(1, 1), bias=False)\n",
            "          (bn2): BatchNormAct2d(\n",
            "            64, eps=0.001, momentum=0.1, affine=True, track_running_stats=True\n",
            "            (drop): Identity()\n",
            "            (act): Identity()\n",
            "          )\n",
            "          (drop_path): Identity()\n",
            "        )\n",
            "        (2): EdgeResidual(\n",
            "          (conv_exp): Conv2d(64, 256, kernel_size=(3, 3), stride=(1, 1), padding=(1, 1), bias=False)\n",
            "          (bn1): BatchNormAct2d(\n",
            "            256, eps=0.001, momentum=0.1, affine=True, track_running_stats=True\n",
            "            (drop): Identity()\n",
            "            (act): SiLU(inplace=True)\n",
            "          )\n",
            "          (se): Identity()\n",
            "          (conv_pwl): Conv2d(256, 64, kernel_size=(1, 1), stride=(1, 1), bias=False)\n",
            "          (bn2): BatchNormAct2d(\n",
            "            64, eps=0.001, momentum=0.1, affine=True, track_running_stats=True\n",
            "            (drop): Identity()\n",
            "            (act): Identity()\n",
            "          )\n",
            "          (drop_path): Identity()\n",
            "        )\n",
            "        (3): EdgeResidual(\n",
            "          (conv_exp): Conv2d(64, 256, kernel_size=(3, 3), stride=(1, 1), padding=(1, 1), bias=False)\n",
            "          (bn1): BatchNormAct2d(\n",
            "            256, eps=0.001, momentum=0.1, affine=True, track_running_stats=True\n",
            "            (drop): Identity()\n",
            "            (act): SiLU(inplace=True)\n",
            "          )\n",
            "          (se): Identity()\n",
            "          (conv_pwl): Conv2d(256, 64, kernel_size=(1, 1), stride=(1, 1), bias=False)\n",
            "          (bn2): BatchNormAct2d(\n",
            "            64, eps=0.001, momentum=0.1, affine=True, track_running_stats=True\n",
            "            (drop): Identity()\n",
            "            (act): Identity()\n",
            "          )\n",
            "          (drop_path): Identity()\n",
            "        )\n",
            "      )\n",
            "      (3): Sequential(\n",
            "        (0): InvertedResidual(\n",
            "          (conv_pw): Conv2d(64, 256, kernel_size=(1, 1), stride=(1, 1), bias=False)\n",
            "          (bn1): BatchNormAct2d(\n",
            "            256, eps=0.001, momentum=0.1, affine=True, track_running_stats=True\n",
            "            (drop): Identity()\n",
            "            (act): SiLU(inplace=True)\n",
            "          )\n",
            "          (conv_dw): Conv2dSame(256, 256, kernel_size=(3, 3), stride=(2, 2), groups=256, bias=False)\n",
            "          (bn2): BatchNormAct2d(\n",
            "            256, eps=0.001, momentum=0.1, affine=True, track_running_stats=True\n",
            "            (drop): Identity()\n",
            "            (act): SiLU(inplace=True)\n",
            "          )\n",
            "          (se): SqueezeExcite(\n",
            "            (conv_reduce): Conv2d(256, 16, kernel_size=(1, 1), stride=(1, 1))\n",
            "            (act1): SiLU(inplace=True)\n",
            "            (conv_expand): Conv2d(16, 256, kernel_size=(1, 1), stride=(1, 1))\n",
            "            (gate): Sigmoid()\n",
            "          )\n",
            "          (conv_pwl): Conv2d(256, 128, kernel_size=(1, 1), stride=(1, 1), bias=False)\n",
            "          (bn3): BatchNormAct2d(\n",
            "            128, eps=0.001, momentum=0.1, affine=True, track_running_stats=True\n",
            "            (drop): Identity()\n",
            "            (act): Identity()\n",
            "          )\n",
            "          (drop_path): Identity()\n",
            "        )\n",
            "        (1): InvertedResidual(\n",
            "          (conv_pw): Conv2d(128, 512, kernel_size=(1, 1), stride=(1, 1), bias=False)\n",
            "          (bn1): BatchNormAct2d(\n",
            "            512, eps=0.001, momentum=0.1, affine=True, track_running_stats=True\n",
            "            (drop): Identity()\n",
            "            (act): SiLU(inplace=True)\n",
            "          )\n",
            "          (conv_dw): Conv2d(512, 512, kernel_size=(3, 3), stride=(1, 1), padding=(1, 1), groups=512, bias=False)\n",
            "          (bn2): BatchNormAct2d(\n",
            "            512, eps=0.001, momentum=0.1, affine=True, track_running_stats=True\n",
            "            (drop): Identity()\n",
            "            (act): SiLU(inplace=True)\n",
            "          )\n",
            "          (se): SqueezeExcite(\n",
            "            (conv_reduce): Conv2d(512, 32, kernel_size=(1, 1), stride=(1, 1))\n",
            "            (act1): SiLU(inplace=True)\n",
            "            (conv_expand): Conv2d(32, 512, kernel_size=(1, 1), stride=(1, 1))\n",
            "            (gate): Sigmoid()\n",
            "          )\n",
            "          (conv_pwl): Conv2d(512, 128, kernel_size=(1, 1), stride=(1, 1), bias=False)\n",
            "          (bn3): BatchNormAct2d(\n",
            "            128, eps=0.001, momentum=0.1, affine=True, track_running_stats=True\n",
            "            (drop): Identity()\n",
            "            (act): Identity()\n",
            "          )\n",
            "          (drop_path): Identity()\n",
            "        )\n",
            "        (2): InvertedResidual(\n",
            "          (conv_pw): Conv2d(128, 512, kernel_size=(1, 1), stride=(1, 1), bias=False)\n",
            "          (bn1): BatchNormAct2d(\n",
            "            512, eps=0.001, momentum=0.1, affine=True, track_running_stats=True\n",
            "            (drop): Identity()\n",
            "            (act): SiLU(inplace=True)\n",
            "          )\n",
            "          (conv_dw): Conv2d(512, 512, kernel_size=(3, 3), stride=(1, 1), padding=(1, 1), groups=512, bias=False)\n",
            "          (bn2): BatchNormAct2d(\n",
            "            512, eps=0.001, momentum=0.1, affine=True, track_running_stats=True\n",
            "            (drop): Identity()\n",
            "            (act): SiLU(inplace=True)\n",
            "          )\n",
            "          (se): SqueezeExcite(\n",
            "            (conv_reduce): Conv2d(512, 32, kernel_size=(1, 1), stride=(1, 1))\n",
            "            (act1): SiLU(inplace=True)\n",
            "            (conv_expand): Conv2d(32, 512, kernel_size=(1, 1), stride=(1, 1))\n",
            "            (gate): Sigmoid()\n",
            "          )\n",
            "          (conv_pwl): Conv2d(512, 128, kernel_size=(1, 1), stride=(1, 1), bias=False)\n",
            "          (bn3): BatchNormAct2d(\n",
            "            128, eps=0.001, momentum=0.1, affine=True, track_running_stats=True\n",
            "            (drop): Identity()\n",
            "            (act): Identity()\n",
            "          )\n",
            "          (drop_path): Identity()\n",
            "        )\n",
            "        (3): InvertedResidual(\n",
            "          (conv_pw): Conv2d(128, 512, kernel_size=(1, 1), stride=(1, 1), bias=False)\n",
            "          (bn1): BatchNormAct2d(\n",
            "            512, eps=0.001, momentum=0.1, affine=True, track_running_stats=True\n",
            "            (drop): Identity()\n",
            "            (act): SiLU(inplace=True)\n",
            "          )\n",
            "          (conv_dw): Conv2d(512, 512, kernel_size=(3, 3), stride=(1, 1), padding=(1, 1), groups=512, bias=False)\n",
            "          (bn2): BatchNormAct2d(\n",
            "            512, eps=0.001, momentum=0.1, affine=True, track_running_stats=True\n",
            "            (drop): Identity()\n",
            "            (act): SiLU(inplace=True)\n",
            "          )\n",
            "          (se): SqueezeExcite(\n",
            "            (conv_reduce): Conv2d(512, 32, kernel_size=(1, 1), stride=(1, 1))\n",
            "            (act1): SiLU(inplace=True)\n",
            "            (conv_expand): Conv2d(32, 512, kernel_size=(1, 1), stride=(1, 1))\n",
            "            (gate): Sigmoid()\n",
            "          )\n",
            "          (conv_pwl): Conv2d(512, 128, kernel_size=(1, 1), stride=(1, 1), bias=False)\n",
            "          (bn3): BatchNormAct2d(\n",
            "            128, eps=0.001, momentum=0.1, affine=True, track_running_stats=True\n",
            "            (drop): Identity()\n",
            "            (act): Identity()\n",
            "          )\n",
            "          (drop_path): Identity()\n",
            "        )\n",
            "        (4): InvertedResidual(\n",
            "          (conv_pw): Conv2d(128, 512, kernel_size=(1, 1), stride=(1, 1), bias=False)\n",
            "          (bn1): BatchNormAct2d(\n",
            "            512, eps=0.001, momentum=0.1, affine=True, track_running_stats=True\n",
            "            (drop): Identity()\n",
            "            (act): SiLU(inplace=True)\n",
            "          )\n",
            "          (conv_dw): Conv2d(512, 512, kernel_size=(3, 3), stride=(1, 1), padding=(1, 1), groups=512, bias=False)\n",
            "          (bn2): BatchNormAct2d(\n",
            "            512, eps=0.001, momentum=0.1, affine=True, track_running_stats=True\n",
            "            (drop): Identity()\n",
            "            (act): SiLU(inplace=True)\n",
            "          )\n",
            "          (se): SqueezeExcite(\n",
            "            (conv_reduce): Conv2d(512, 32, kernel_size=(1, 1), stride=(1, 1))\n",
            "            (act1): SiLU(inplace=True)\n",
            "            (conv_expand): Conv2d(32, 512, kernel_size=(1, 1), stride=(1, 1))\n",
            "            (gate): Sigmoid()\n",
            "          )\n",
            "          (conv_pwl): Conv2d(512, 128, kernel_size=(1, 1), stride=(1, 1), bias=False)\n",
            "          (bn3): BatchNormAct2d(\n",
            "            128, eps=0.001, momentum=0.1, affine=True, track_running_stats=True\n",
            "            (drop): Identity()\n",
            "            (act): Identity()\n",
            "          )\n",
            "          (drop_path): Identity()\n",
            "        )\n",
            "        (5): InvertedResidual(\n",
            "          (conv_pw): Conv2d(128, 512, kernel_size=(1, 1), stride=(1, 1), bias=False)\n",
            "          (bn1): BatchNormAct2d(\n",
            "            512, eps=0.001, momentum=0.1, affine=True, track_running_stats=True\n",
            "            (drop): Identity()\n",
            "            (act): SiLU(inplace=True)\n",
            "          )\n",
            "          (conv_dw): Conv2d(512, 512, kernel_size=(3, 3), stride=(1, 1), padding=(1, 1), groups=512, bias=False)\n",
            "          (bn2): BatchNormAct2d(\n",
            "            512, eps=0.001, momentum=0.1, affine=True, track_running_stats=True\n",
            "            (drop): Identity()\n",
            "            (act): SiLU(inplace=True)\n",
            "          )\n",
            "          (se): SqueezeExcite(\n",
            "            (conv_reduce): Conv2d(512, 32, kernel_size=(1, 1), stride=(1, 1))\n",
            "            (act1): SiLU(inplace=True)\n",
            "            (conv_expand): Conv2d(32, 512, kernel_size=(1, 1), stride=(1, 1))\n",
            "            (gate): Sigmoid()\n",
            "          )\n",
            "          (conv_pwl): Conv2d(512, 128, kernel_size=(1, 1), stride=(1, 1), bias=False)\n",
            "          (bn3): BatchNormAct2d(\n",
            "            128, eps=0.001, momentum=0.1, affine=True, track_running_stats=True\n",
            "            (drop): Identity()\n",
            "            (act): Identity()\n",
            "          )\n",
            "          (drop_path): Identity()\n",
            "        )\n",
            "      )\n",
            "      (4): Sequential(\n",
            "        (0): InvertedResidual(\n",
            "          (conv_pw): Conv2d(128, 768, kernel_size=(1, 1), stride=(1, 1), bias=False)\n",
            "          (bn1): BatchNormAct2d(\n",
            "            768, eps=0.001, momentum=0.1, affine=True, track_running_stats=True\n",
            "            (drop): Identity()\n",
            "            (act): SiLU(inplace=True)\n",
            "          )\n",
            "          (conv_dw): Conv2d(768, 768, kernel_size=(3, 3), stride=(1, 1), padding=(1, 1), groups=768, bias=False)\n",
            "          (bn2): BatchNormAct2d(\n",
            "            768, eps=0.001, momentum=0.1, affine=True, track_running_stats=True\n",
            "            (drop): Identity()\n",
            "            (act): SiLU(inplace=True)\n",
            "          )\n",
            "          (se): SqueezeExcite(\n",
            "            (conv_reduce): Conv2d(768, 32, kernel_size=(1, 1), stride=(1, 1))\n",
            "            (act1): SiLU(inplace=True)\n",
            "            (conv_expand): Conv2d(32, 768, kernel_size=(1, 1), stride=(1, 1))\n",
            "            (gate): Sigmoid()\n",
            "          )\n",
            "          (conv_pwl): Conv2d(768, 160, kernel_size=(1, 1), stride=(1, 1), bias=False)\n",
            "          (bn3): BatchNormAct2d(\n",
            "            160, eps=0.001, momentum=0.1, affine=True, track_running_stats=True\n",
            "            (drop): Identity()\n",
            "            (act): Identity()\n",
            "          )\n",
            "          (drop_path): Identity()\n",
            "        )\n",
            "        (1): InvertedResidual(\n",
            "          (conv_pw): Conv2d(160, 960, kernel_size=(1, 1), stride=(1, 1), bias=False)\n",
            "          (bn1): BatchNormAct2d(\n",
            "            960, eps=0.001, momentum=0.1, affine=True, track_running_stats=True\n",
            "            (drop): Identity()\n",
            "            (act): SiLU(inplace=True)\n",
            "          )\n",
            "          (conv_dw): Conv2d(960, 960, kernel_size=(3, 3), stride=(1, 1), padding=(1, 1), groups=960, bias=False)\n",
            "          (bn2): BatchNormAct2d(\n",
            "            960, eps=0.001, momentum=0.1, affine=True, track_running_stats=True\n",
            "            (drop): Identity()\n",
            "            (act): SiLU(inplace=True)\n",
            "          )\n",
            "          (se): SqueezeExcite(\n",
            "            (conv_reduce): Conv2d(960, 40, kernel_size=(1, 1), stride=(1, 1))\n",
            "            (act1): SiLU(inplace=True)\n",
            "            (conv_expand): Conv2d(40, 960, kernel_size=(1, 1), stride=(1, 1))\n",
            "            (gate): Sigmoid()\n",
            "          )\n",
            "          (conv_pwl): Conv2d(960, 160, kernel_size=(1, 1), stride=(1, 1), bias=False)\n",
            "          (bn3): BatchNormAct2d(\n",
            "            160, eps=0.001, momentum=0.1, affine=True, track_running_stats=True\n",
            "            (drop): Identity()\n",
            "            (act): Identity()\n",
            "          )\n",
            "          (drop_path): Identity()\n",
            "        )\n",
            "        (2): InvertedResidual(\n",
            "          (conv_pw): Conv2d(160, 960, kernel_size=(1, 1), stride=(1, 1), bias=False)\n",
            "          (bn1): BatchNormAct2d(\n",
            "            960, eps=0.001, momentum=0.1, affine=True, track_running_stats=True\n",
            "            (drop): Identity()\n",
            "            (act): SiLU(inplace=True)\n",
            "          )\n",
            "          (conv_dw): Conv2d(960, 960, kernel_size=(3, 3), stride=(1, 1), padding=(1, 1), groups=960, bias=False)\n",
            "          (bn2): BatchNormAct2d(\n",
            "            960, eps=0.001, momentum=0.1, affine=True, track_running_stats=True\n",
            "            (drop): Identity()\n",
            "            (act): SiLU(inplace=True)\n",
            "          )\n",
            "          (se): SqueezeExcite(\n",
            "            (conv_reduce): Conv2d(960, 40, kernel_size=(1, 1), stride=(1, 1))\n",
            "            (act1): SiLU(inplace=True)\n",
            "            (conv_expand): Conv2d(40, 960, kernel_size=(1, 1), stride=(1, 1))\n",
            "            (gate): Sigmoid()\n",
            "          )\n",
            "          (conv_pwl): Conv2d(960, 160, kernel_size=(1, 1), stride=(1, 1), bias=False)\n",
            "          (bn3): BatchNormAct2d(\n",
            "            160, eps=0.001, momentum=0.1, affine=True, track_running_stats=True\n",
            "            (drop): Identity()\n",
            "            (act): Identity()\n",
            "          )\n",
            "          (drop_path): Identity()\n",
            "        )\n",
            "        (3): InvertedResidual(\n",
            "          (conv_pw): Conv2d(160, 960, kernel_size=(1, 1), stride=(1, 1), bias=False)\n",
            "          (bn1): BatchNormAct2d(\n",
            "            960, eps=0.001, momentum=0.1, affine=True, track_running_stats=True\n",
            "            (drop): Identity()\n",
            "            (act): SiLU(inplace=True)\n",
            "          )\n",
            "          (conv_dw): Conv2d(960, 960, kernel_size=(3, 3), stride=(1, 1), padding=(1, 1), groups=960, bias=False)\n",
            "          (bn2): BatchNormAct2d(\n",
            "            960, eps=0.001, momentum=0.1, affine=True, track_running_stats=True\n",
            "            (drop): Identity()\n",
            "            (act): SiLU(inplace=True)\n",
            "          )\n",
            "          (se): SqueezeExcite(\n",
            "            (conv_reduce): Conv2d(960, 40, kernel_size=(1, 1), stride=(1, 1))\n",
            "            (act1): SiLU(inplace=True)\n",
            "            (conv_expand): Conv2d(40, 960, kernel_size=(1, 1), stride=(1, 1))\n",
            "            (gate): Sigmoid()\n",
            "          )\n",
            "          (conv_pwl): Conv2d(960, 160, kernel_size=(1, 1), stride=(1, 1), bias=False)\n",
            "          (bn3): BatchNormAct2d(\n",
            "            160, eps=0.001, momentum=0.1, affine=True, track_running_stats=True\n",
            "            (drop): Identity()\n",
            "            (act): Identity()\n",
            "          )\n",
            "          (drop_path): Identity()\n",
            "        )\n",
            "        (4): InvertedResidual(\n",
            "          (conv_pw): Conv2d(160, 960, kernel_size=(1, 1), stride=(1, 1), bias=False)\n",
            "          (bn1): BatchNormAct2d(\n",
            "            960, eps=0.001, momentum=0.1, affine=True, track_running_stats=True\n",
            "            (drop): Identity()\n",
            "            (act): SiLU(inplace=True)\n",
            "          )\n",
            "          (conv_dw): Conv2d(960, 960, kernel_size=(3, 3), stride=(1, 1), padding=(1, 1), groups=960, bias=False)\n",
            "          (bn2): BatchNormAct2d(\n",
            "            960, eps=0.001, momentum=0.1, affine=True, track_running_stats=True\n",
            "            (drop): Identity()\n",
            "            (act): SiLU(inplace=True)\n",
            "          )\n",
            "          (se): SqueezeExcite(\n",
            "            (conv_reduce): Conv2d(960, 40, kernel_size=(1, 1), stride=(1, 1))\n",
            "            (act1): SiLU(inplace=True)\n",
            "            (conv_expand): Conv2d(40, 960, kernel_size=(1, 1), stride=(1, 1))\n",
            "            (gate): Sigmoid()\n",
            "          )\n",
            "          (conv_pwl): Conv2d(960, 160, kernel_size=(1, 1), stride=(1, 1), bias=False)\n",
            "          (bn3): BatchNormAct2d(\n",
            "            160, eps=0.001, momentum=0.1, affine=True, track_running_stats=True\n",
            "            (drop): Identity()\n",
            "            (act): Identity()\n",
            "          )\n",
            "          (drop_path): Identity()\n",
            "        )\n",
            "        (5): InvertedResidual(\n",
            "          (conv_pw): Conv2d(160, 960, kernel_size=(1, 1), stride=(1, 1), bias=False)\n",
            "          (bn1): BatchNormAct2d(\n",
            "            960, eps=0.001, momentum=0.1, affine=True, track_running_stats=True\n",
            "            (drop): Identity()\n",
            "            (act): SiLU(inplace=True)\n",
            "          )\n",
            "          (conv_dw): Conv2d(960, 960, kernel_size=(3, 3), stride=(1, 1), padding=(1, 1), groups=960, bias=False)\n",
            "          (bn2): BatchNormAct2d(\n",
            "            960, eps=0.001, momentum=0.1, affine=True, track_running_stats=True\n",
            "            (drop): Identity()\n",
            "            (act): SiLU(inplace=True)\n",
            "          )\n",
            "          (se): SqueezeExcite(\n",
            "            (conv_reduce): Conv2d(960, 40, kernel_size=(1, 1), stride=(1, 1))\n",
            "            (act1): SiLU(inplace=True)\n",
            "            (conv_expand): Conv2d(40, 960, kernel_size=(1, 1), stride=(1, 1))\n",
            "            (gate): Sigmoid()\n",
            "          )\n",
            "          (conv_pwl): Conv2d(960, 160, kernel_size=(1, 1), stride=(1, 1), bias=False)\n",
            "          (bn3): BatchNormAct2d(\n",
            "            160, eps=0.001, momentum=0.1, affine=True, track_running_stats=True\n",
            "            (drop): Identity()\n",
            "            (act): Identity()\n",
            "          )\n",
            "          (drop_path): Identity()\n",
            "        )\n",
            "        (6): InvertedResidual(\n",
            "          (conv_pw): Conv2d(160, 960, kernel_size=(1, 1), stride=(1, 1), bias=False)\n",
            "          (bn1): BatchNormAct2d(\n",
            "            960, eps=0.001, momentum=0.1, affine=True, track_running_stats=True\n",
            "            (drop): Identity()\n",
            "            (act): SiLU(inplace=True)\n",
            "          )\n",
            "          (conv_dw): Conv2d(960, 960, kernel_size=(3, 3), stride=(1, 1), padding=(1, 1), groups=960, bias=False)\n",
            "          (bn2): BatchNormAct2d(\n",
            "            960, eps=0.001, momentum=0.1, affine=True, track_running_stats=True\n",
            "            (drop): Identity()\n",
            "            (act): SiLU(inplace=True)\n",
            "          )\n",
            "          (se): SqueezeExcite(\n",
            "            (conv_reduce): Conv2d(960, 40, kernel_size=(1, 1), stride=(1, 1))\n",
            "            (act1): SiLU(inplace=True)\n",
            "            (conv_expand): Conv2d(40, 960, kernel_size=(1, 1), stride=(1, 1))\n",
            "            (gate): Sigmoid()\n",
            "          )\n",
            "          (conv_pwl): Conv2d(960, 160, kernel_size=(1, 1), stride=(1, 1), bias=False)\n",
            "          (bn3): BatchNormAct2d(\n",
            "            160, eps=0.001, momentum=0.1, affine=True, track_running_stats=True\n",
            "            (drop): Identity()\n",
            "            (act): Identity()\n",
            "          )\n",
            "          (drop_path): Identity()\n",
            "        )\n",
            "        (7): InvertedResidual(\n",
            "          (conv_pw): Conv2d(160, 960, kernel_size=(1, 1), stride=(1, 1), bias=False)\n",
            "          (bn1): BatchNormAct2d(\n",
            "            960, eps=0.001, momentum=0.1, affine=True, track_running_stats=True\n",
            "            (drop): Identity()\n",
            "            (act): SiLU(inplace=True)\n",
            "          )\n",
            "          (conv_dw): Conv2d(960, 960, kernel_size=(3, 3), stride=(1, 1), padding=(1, 1), groups=960, bias=False)\n",
            "          (bn2): BatchNormAct2d(\n",
            "            960, eps=0.001, momentum=0.1, affine=True, track_running_stats=True\n",
            "            (drop): Identity()\n",
            "            (act): SiLU(inplace=True)\n",
            "          )\n",
            "          (se): SqueezeExcite(\n",
            "            (conv_reduce): Conv2d(960, 40, kernel_size=(1, 1), stride=(1, 1))\n",
            "            (act1): SiLU(inplace=True)\n",
            "            (conv_expand): Conv2d(40, 960, kernel_size=(1, 1), stride=(1, 1))\n",
            "            (gate): Sigmoid()\n",
            "          )\n",
            "          (conv_pwl): Conv2d(960, 160, kernel_size=(1, 1), stride=(1, 1), bias=False)\n",
            "          (bn3): BatchNormAct2d(\n",
            "            160, eps=0.001, momentum=0.1, affine=True, track_running_stats=True\n",
            "            (drop): Identity()\n",
            "            (act): Identity()\n",
            "          )\n",
            "          (drop_path): Identity()\n",
            "        )\n",
            "        (8): InvertedResidual(\n",
            "          (conv_pw): Conv2d(160, 960, kernel_size=(1, 1), stride=(1, 1), bias=False)\n",
            "          (bn1): BatchNormAct2d(\n",
            "            960, eps=0.001, momentum=0.1, affine=True, track_running_stats=True\n",
            "            (drop): Identity()\n",
            "            (act): SiLU(inplace=True)\n",
            "          )\n",
            "          (conv_dw): Conv2d(960, 960, kernel_size=(3, 3), stride=(1, 1), padding=(1, 1), groups=960, bias=False)\n",
            "          (bn2): BatchNormAct2d(\n",
            "            960, eps=0.001, momentum=0.1, affine=True, track_running_stats=True\n",
            "            (drop): Identity()\n",
            "            (act): SiLU(inplace=True)\n",
            "          )\n",
            "          (se): SqueezeExcite(\n",
            "            (conv_reduce): Conv2d(960, 40, kernel_size=(1, 1), stride=(1, 1))\n",
            "            (act1): SiLU(inplace=True)\n",
            "            (conv_expand): Conv2d(40, 960, kernel_size=(1, 1), stride=(1, 1))\n",
            "            (gate): Sigmoid()\n",
            "          )\n",
            "          (conv_pwl): Conv2d(960, 160, kernel_size=(1, 1), stride=(1, 1), bias=False)\n",
            "          (bn3): BatchNormAct2d(\n",
            "            160, eps=0.001, momentum=0.1, affine=True, track_running_stats=True\n",
            "            (drop): Identity()\n",
            "            (act): Identity()\n",
            "          )\n",
            "          (drop_path): Identity()\n",
            "        )\n",
            "      )\n",
            "      (5): Sequential(\n",
            "        (0): InvertedResidual(\n",
            "          (conv_pw): Conv2d(160, 960, kernel_size=(1, 1), stride=(1, 1), bias=False)\n",
            "          (bn1): BatchNormAct2d(\n",
            "            960, eps=0.001, momentum=0.1, affine=True, track_running_stats=True\n",
            "            (drop): Identity()\n",
            "            (act): SiLU(inplace=True)\n",
            "          )\n",
            "          (conv_dw): Conv2dSame(960, 960, kernel_size=(3, 3), stride=(2, 2), groups=960, bias=False)\n",
            "          (bn2): BatchNormAct2d(\n",
            "            960, eps=0.001, momentum=0.1, affine=True, track_running_stats=True\n",
            "            (drop): Identity()\n",
            "            (act): SiLU(inplace=True)\n",
            "          )\n",
            "          (se): SqueezeExcite(\n",
            "            (conv_reduce): Conv2d(960, 40, kernel_size=(1, 1), stride=(1, 1))\n",
            "            (act1): SiLU(inplace=True)\n",
            "            (conv_expand): Conv2d(40, 960, kernel_size=(1, 1), stride=(1, 1))\n",
            "            (gate): Sigmoid()\n",
            "          )\n",
            "          (conv_pwl): Conv2d(960, 256, kernel_size=(1, 1), stride=(1, 1), bias=False)\n",
            "          (bn3): BatchNormAct2d(\n",
            "            256, eps=0.001, momentum=0.1, affine=True, track_running_stats=True\n",
            "            (drop): Identity()\n",
            "            (act): Identity()\n",
            "          )\n",
            "          (drop_path): Identity()\n",
            "        )\n",
            "        (1): InvertedResidual(\n",
            "          (conv_pw): Conv2d(256, 1536, kernel_size=(1, 1), stride=(1, 1), bias=False)\n",
            "          (bn1): BatchNormAct2d(\n",
            "            1536, eps=0.001, momentum=0.1, affine=True, track_running_stats=True\n",
            "            (drop): Identity()\n",
            "            (act): SiLU(inplace=True)\n",
            "          )\n",
            "          (conv_dw): Conv2d(1536, 1536, kernel_size=(3, 3), stride=(1, 1), padding=(1, 1), groups=1536, bias=False)\n",
            "          (bn2): BatchNormAct2d(\n",
            "            1536, eps=0.001, momentum=0.1, affine=True, track_running_stats=True\n",
            "            (drop): Identity()\n",
            "            (act): SiLU(inplace=True)\n",
            "          )\n",
            "          (se): SqueezeExcite(\n",
            "            (conv_reduce): Conv2d(1536, 64, kernel_size=(1, 1), stride=(1, 1))\n",
            "            (act1): SiLU(inplace=True)\n",
            "            (conv_expand): Conv2d(64, 1536, kernel_size=(1, 1), stride=(1, 1))\n",
            "            (gate): Sigmoid()\n",
            "          )\n",
            "          (conv_pwl): Conv2d(1536, 256, kernel_size=(1, 1), stride=(1, 1), bias=False)\n",
            "          (bn3): BatchNormAct2d(\n",
            "            256, eps=0.001, momentum=0.1, affine=True, track_running_stats=True\n",
            "            (drop): Identity()\n",
            "            (act): Identity()\n",
            "          )\n",
            "          (drop_path): Identity()\n",
            "        )\n",
            "        (2): InvertedResidual(\n",
            "          (conv_pw): Conv2d(256, 1536, kernel_size=(1, 1), stride=(1, 1), bias=False)\n",
            "          (bn1): BatchNormAct2d(\n",
            "            1536, eps=0.001, momentum=0.1, affine=True, track_running_stats=True\n",
            "            (drop): Identity()\n",
            "            (act): SiLU(inplace=True)\n",
            "          )\n",
            "          (conv_dw): Conv2d(1536, 1536, kernel_size=(3, 3), stride=(1, 1), padding=(1, 1), groups=1536, bias=False)\n",
            "          (bn2): BatchNormAct2d(\n",
            "            1536, eps=0.001, momentum=0.1, affine=True, track_running_stats=True\n",
            "            (drop): Identity()\n",
            "            (act): SiLU(inplace=True)\n",
            "          )\n",
            "          (se): SqueezeExcite(\n",
            "            (conv_reduce): Conv2d(1536, 64, kernel_size=(1, 1), stride=(1, 1))\n",
            "            (act1): SiLU(inplace=True)\n",
            "            (conv_expand): Conv2d(64, 1536, kernel_size=(1, 1), stride=(1, 1))\n",
            "            (gate): Sigmoid()\n",
            "          )\n",
            "          (conv_pwl): Conv2d(1536, 256, kernel_size=(1, 1), stride=(1, 1), bias=False)\n",
            "          (bn3): BatchNormAct2d(\n",
            "            256, eps=0.001, momentum=0.1, affine=True, track_running_stats=True\n",
            "            (drop): Identity()\n",
            "            (act): Identity()\n",
            "          )\n",
            "          (drop_path): Identity()\n",
            "        )\n",
            "        (3): InvertedResidual(\n",
            "          (conv_pw): Conv2d(256, 1536, kernel_size=(1, 1), stride=(1, 1), bias=False)\n",
            "          (bn1): BatchNormAct2d(\n",
            "            1536, eps=0.001, momentum=0.1, affine=True, track_running_stats=True\n",
            "            (drop): Identity()\n",
            "            (act): SiLU(inplace=True)\n",
            "          )\n",
            "          (conv_dw): Conv2d(1536, 1536, kernel_size=(3, 3), stride=(1, 1), padding=(1, 1), groups=1536, bias=False)\n",
            "          (bn2): BatchNormAct2d(\n",
            "            1536, eps=0.001, momentum=0.1, affine=True, track_running_stats=True\n",
            "            (drop): Identity()\n",
            "            (act): SiLU(inplace=True)\n",
            "          )\n",
            "          (se): SqueezeExcite(\n",
            "            (conv_reduce): Conv2d(1536, 64, kernel_size=(1, 1), stride=(1, 1))\n",
            "            (act1): SiLU(inplace=True)\n",
            "            (conv_expand): Conv2d(64, 1536, kernel_size=(1, 1), stride=(1, 1))\n",
            "            (gate): Sigmoid()\n",
            "          )\n",
            "          (conv_pwl): Conv2d(1536, 256, kernel_size=(1, 1), stride=(1, 1), bias=False)\n",
            "          (bn3): BatchNormAct2d(\n",
            "            256, eps=0.001, momentum=0.1, affine=True, track_running_stats=True\n",
            "            (drop): Identity()\n",
            "            (act): Identity()\n",
            "          )\n",
            "          (drop_path): Identity()\n",
            "        )\n",
            "        (4): InvertedResidual(\n",
            "          (conv_pw): Conv2d(256, 1536, kernel_size=(1, 1), stride=(1, 1), bias=False)\n",
            "          (bn1): BatchNormAct2d(\n",
            "            1536, eps=0.001, momentum=0.1, affine=True, track_running_stats=True\n",
            "            (drop): Identity()\n",
            "            (act): SiLU(inplace=True)\n",
            "          )\n",
            "          (conv_dw): Conv2d(1536, 1536, kernel_size=(3, 3), stride=(1, 1), padding=(1, 1), groups=1536, bias=False)\n",
            "          (bn2): BatchNormAct2d(\n",
            "            1536, eps=0.001, momentum=0.1, affine=True, track_running_stats=True\n",
            "            (drop): Identity()\n",
            "            (act): SiLU(inplace=True)\n",
            "          )\n",
            "          (se): SqueezeExcite(\n",
            "            (conv_reduce): Conv2d(1536, 64, kernel_size=(1, 1), stride=(1, 1))\n",
            "            (act1): SiLU(inplace=True)\n",
            "            (conv_expand): Conv2d(64, 1536, kernel_size=(1, 1), stride=(1, 1))\n",
            "            (gate): Sigmoid()\n",
            "          )\n",
            "          (conv_pwl): Conv2d(1536, 256, kernel_size=(1, 1), stride=(1, 1), bias=False)\n",
            "          (bn3): BatchNormAct2d(\n",
            "            256, eps=0.001, momentum=0.1, affine=True, track_running_stats=True\n",
            "            (drop): Identity()\n",
            "            (act): Identity()\n",
            "          )\n",
            "          (drop_path): Identity()\n",
            "        )\n",
            "        (5): InvertedResidual(\n",
            "          (conv_pw): Conv2d(256, 1536, kernel_size=(1, 1), stride=(1, 1), bias=False)\n",
            "          (bn1): BatchNormAct2d(\n",
            "            1536, eps=0.001, momentum=0.1, affine=True, track_running_stats=True\n",
            "            (drop): Identity()\n",
            "            (act): SiLU(inplace=True)\n",
            "          )\n",
            "          (conv_dw): Conv2d(1536, 1536, kernel_size=(3, 3), stride=(1, 1), padding=(1, 1), groups=1536, bias=False)\n",
            "          (bn2): BatchNormAct2d(\n",
            "            1536, eps=0.001, momentum=0.1, affine=True, track_running_stats=True\n",
            "            (drop): Identity()\n",
            "            (act): SiLU(inplace=True)\n",
            "          )\n",
            "          (se): SqueezeExcite(\n",
            "            (conv_reduce): Conv2d(1536, 64, kernel_size=(1, 1), stride=(1, 1))\n",
            "            (act1): SiLU(inplace=True)\n",
            "            (conv_expand): Conv2d(64, 1536, kernel_size=(1, 1), stride=(1, 1))\n",
            "            (gate): Sigmoid()\n",
            "          )\n",
            "          (conv_pwl): Conv2d(1536, 256, kernel_size=(1, 1), stride=(1, 1), bias=False)\n",
            "          (bn3): BatchNormAct2d(\n",
            "            256, eps=0.001, momentum=0.1, affine=True, track_running_stats=True\n",
            "            (drop): Identity()\n",
            "            (act): Identity()\n",
            "          )\n",
            "          (drop_path): Identity()\n",
            "        )\n",
            "        (6): InvertedResidual(\n",
            "          (conv_pw): Conv2d(256, 1536, kernel_size=(1, 1), stride=(1, 1), bias=False)\n",
            "          (bn1): BatchNormAct2d(\n",
            "            1536, eps=0.001, momentum=0.1, affine=True, track_running_stats=True\n",
            "            (drop): Identity()\n",
            "            (act): SiLU(inplace=True)\n",
            "          )\n",
            "          (conv_dw): Conv2d(1536, 1536, kernel_size=(3, 3), stride=(1, 1), padding=(1, 1), groups=1536, bias=False)\n",
            "          (bn2): BatchNormAct2d(\n",
            "            1536, eps=0.001, momentum=0.1, affine=True, track_running_stats=True\n",
            "            (drop): Identity()\n",
            "            (act): SiLU(inplace=True)\n",
            "          )\n",
            "          (se): SqueezeExcite(\n",
            "            (conv_reduce): Conv2d(1536, 64, kernel_size=(1, 1), stride=(1, 1))\n",
            "            (act1): SiLU(inplace=True)\n",
            "            (conv_expand): Conv2d(64, 1536, kernel_size=(1, 1), stride=(1, 1))\n",
            "            (gate): Sigmoid()\n",
            "          )\n",
            "          (conv_pwl): Conv2d(1536, 256, kernel_size=(1, 1), stride=(1, 1), bias=False)\n",
            "          (bn3): BatchNormAct2d(\n",
            "            256, eps=0.001, momentum=0.1, affine=True, track_running_stats=True\n",
            "            (drop): Identity()\n",
            "            (act): Identity()\n",
            "          )\n",
            "          (drop_path): Identity()\n",
            "        )\n",
            "        (7): InvertedResidual(\n",
            "          (conv_pw): Conv2d(256, 1536, kernel_size=(1, 1), stride=(1, 1), bias=False)\n",
            "          (bn1): BatchNormAct2d(\n",
            "            1536, eps=0.001, momentum=0.1, affine=True, track_running_stats=True\n",
            "            (drop): Identity()\n",
            "            (act): SiLU(inplace=True)\n",
            "          )\n",
            "          (conv_dw): Conv2d(1536, 1536, kernel_size=(3, 3), stride=(1, 1), padding=(1, 1), groups=1536, bias=False)\n",
            "          (bn2): BatchNormAct2d(\n",
            "            1536, eps=0.001, momentum=0.1, affine=True, track_running_stats=True\n",
            "            (drop): Identity()\n",
            "            (act): SiLU(inplace=True)\n",
            "          )\n",
            "          (se): SqueezeExcite(\n",
            "            (conv_reduce): Conv2d(1536, 64, kernel_size=(1, 1), stride=(1, 1))\n",
            "            (act1): SiLU(inplace=True)\n",
            "            (conv_expand): Conv2d(64, 1536, kernel_size=(1, 1), stride=(1, 1))\n",
            "            (gate): Sigmoid()\n",
            "          )\n",
            "          (conv_pwl): Conv2d(1536, 256, kernel_size=(1, 1), stride=(1, 1), bias=False)\n",
            "          (bn3): BatchNormAct2d(\n",
            "            256, eps=0.001, momentum=0.1, affine=True, track_running_stats=True\n",
            "            (drop): Identity()\n",
            "            (act): Identity()\n",
            "          )\n",
            "          (drop_path): Identity()\n",
            "        )\n",
            "        (8): InvertedResidual(\n",
            "          (conv_pw): Conv2d(256, 1536, kernel_size=(1, 1), stride=(1, 1), bias=False)\n",
            "          (bn1): BatchNormAct2d(\n",
            "            1536, eps=0.001, momentum=0.1, affine=True, track_running_stats=True\n",
            "            (drop): Identity()\n",
            "            (act): SiLU(inplace=True)\n",
            "          )\n",
            "          (conv_dw): Conv2d(1536, 1536, kernel_size=(3, 3), stride=(1, 1), padding=(1, 1), groups=1536, bias=False)\n",
            "          (bn2): BatchNormAct2d(\n",
            "            1536, eps=0.001, momentum=0.1, affine=True, track_running_stats=True\n",
            "            (drop): Identity()\n",
            "            (act): SiLU(inplace=True)\n",
            "          )\n",
            "          (se): SqueezeExcite(\n",
            "            (conv_reduce): Conv2d(1536, 64, kernel_size=(1, 1), stride=(1, 1))\n",
            "            (act1): SiLU(inplace=True)\n",
            "            (conv_expand): Conv2d(64, 1536, kernel_size=(1, 1), stride=(1, 1))\n",
            "            (gate): Sigmoid()\n",
            "          )\n",
            "          (conv_pwl): Conv2d(1536, 256, kernel_size=(1, 1), stride=(1, 1), bias=False)\n",
            "          (bn3): BatchNormAct2d(\n",
            "            256, eps=0.001, momentum=0.1, affine=True, track_running_stats=True\n",
            "            (drop): Identity()\n",
            "            (act): Identity()\n",
            "          )\n",
            "          (drop_path): Identity()\n",
            "        )\n",
            "        (9): InvertedResidual(\n",
            "          (conv_pw): Conv2d(256, 1536, kernel_size=(1, 1), stride=(1, 1), bias=False)\n",
            "          (bn1): BatchNormAct2d(\n",
            "            1536, eps=0.001, momentum=0.1, affine=True, track_running_stats=True\n",
            "            (drop): Identity()\n",
            "            (act): SiLU(inplace=True)\n",
            "          )\n",
            "          (conv_dw): Conv2d(1536, 1536, kernel_size=(3, 3), stride=(1, 1), padding=(1, 1), groups=1536, bias=False)\n",
            "          (bn2): BatchNormAct2d(\n",
            "            1536, eps=0.001, momentum=0.1, affine=True, track_running_stats=True\n",
            "            (drop): Identity()\n",
            "            (act): SiLU(inplace=True)\n",
            "          )\n",
            "          (se): SqueezeExcite(\n",
            "            (conv_reduce): Conv2d(1536, 64, kernel_size=(1, 1), stride=(1, 1))\n",
            "            (act1): SiLU(inplace=True)\n",
            "            (conv_expand): Conv2d(64, 1536, kernel_size=(1, 1), stride=(1, 1))\n",
            "            (gate): Sigmoid()\n",
            "          )\n",
            "          (conv_pwl): Conv2d(1536, 256, kernel_size=(1, 1), stride=(1, 1), bias=False)\n",
            "          (bn3): BatchNormAct2d(\n",
            "            256, eps=0.001, momentum=0.1, affine=True, track_running_stats=True\n",
            "            (drop): Identity()\n",
            "            (act): Identity()\n",
            "          )\n",
            "          (drop_path): Identity()\n",
            "        )\n",
            "        (10): InvertedResidual(\n",
            "          (conv_pw): Conv2d(256, 1536, kernel_size=(1, 1), stride=(1, 1), bias=False)\n",
            "          (bn1): BatchNormAct2d(\n",
            "            1536, eps=0.001, momentum=0.1, affine=True, track_running_stats=True\n",
            "            (drop): Identity()\n",
            "            (act): SiLU(inplace=True)\n",
            "          )\n",
            "          (conv_dw): Conv2d(1536, 1536, kernel_size=(3, 3), stride=(1, 1), padding=(1, 1), groups=1536, bias=False)\n",
            "          (bn2): BatchNormAct2d(\n",
            "            1536, eps=0.001, momentum=0.1, affine=True, track_running_stats=True\n",
            "            (drop): Identity()\n",
            "            (act): SiLU(inplace=True)\n",
            "          )\n",
            "          (se): SqueezeExcite(\n",
            "            (conv_reduce): Conv2d(1536, 64, kernel_size=(1, 1), stride=(1, 1))\n",
            "            (act1): SiLU(inplace=True)\n",
            "            (conv_expand): Conv2d(64, 1536, kernel_size=(1, 1), stride=(1, 1))\n",
            "            (gate): Sigmoid()\n",
            "          )\n",
            "          (conv_pwl): Conv2d(1536, 256, kernel_size=(1, 1), stride=(1, 1), bias=False)\n",
            "          (bn3): BatchNormAct2d(\n",
            "            256, eps=0.001, momentum=0.1, affine=True, track_running_stats=True\n",
            "            (drop): Identity()\n",
            "            (act): Identity()\n",
            "          )\n",
            "          (drop_path): Identity()\n",
            "        )\n",
            "        (11): InvertedResidual(\n",
            "          (conv_pw): Conv2d(256, 1536, kernel_size=(1, 1), stride=(1, 1), bias=False)\n",
            "          (bn1): BatchNormAct2d(\n",
            "            1536, eps=0.001, momentum=0.1, affine=True, track_running_stats=True\n",
            "            (drop): Identity()\n",
            "            (act): SiLU(inplace=True)\n",
            "          )\n",
            "          (conv_dw): Conv2d(1536, 1536, kernel_size=(3, 3), stride=(1, 1), padding=(1, 1), groups=1536, bias=False)\n",
            "          (bn2): BatchNormAct2d(\n",
            "            1536, eps=0.001, momentum=0.1, affine=True, track_running_stats=True\n",
            "            (drop): Identity()\n",
            "            (act): SiLU(inplace=True)\n",
            "          )\n",
            "          (se): SqueezeExcite(\n",
            "            (conv_reduce): Conv2d(1536, 64, kernel_size=(1, 1), stride=(1, 1))\n",
            "            (act1): SiLU(inplace=True)\n",
            "            (conv_expand): Conv2d(64, 1536, kernel_size=(1, 1), stride=(1, 1))\n",
            "            (gate): Sigmoid()\n",
            "          )\n",
            "          (conv_pwl): Conv2d(1536, 256, kernel_size=(1, 1), stride=(1, 1), bias=False)\n",
            "          (bn3): BatchNormAct2d(\n",
            "            256, eps=0.001, momentum=0.1, affine=True, track_running_stats=True\n",
            "            (drop): Identity()\n",
            "            (act): Identity()\n",
            "          )\n",
            "          (drop_path): Identity()\n",
            "        )\n",
            "        (12): InvertedResidual(\n",
            "          (conv_pw): Conv2d(256, 1536, kernel_size=(1, 1), stride=(1, 1), bias=False)\n",
            "          (bn1): BatchNormAct2d(\n",
            "            1536, eps=0.001, momentum=0.1, affine=True, track_running_stats=True\n",
            "            (drop): Identity()\n",
            "            (act): SiLU(inplace=True)\n",
            "          )\n",
            "          (conv_dw): Conv2d(1536, 1536, kernel_size=(3, 3), stride=(1, 1), padding=(1, 1), groups=1536, bias=False)\n",
            "          (bn2): BatchNormAct2d(\n",
            "            1536, eps=0.001, momentum=0.1, affine=True, track_running_stats=True\n",
            "            (drop): Identity()\n",
            "            (act): SiLU(inplace=True)\n",
            "          )\n",
            "          (se): SqueezeExcite(\n",
            "            (conv_reduce): Conv2d(1536, 64, kernel_size=(1, 1), stride=(1, 1))\n",
            "            (act1): SiLU(inplace=True)\n",
            "            (conv_expand): Conv2d(64, 1536, kernel_size=(1, 1), stride=(1, 1))\n",
            "            (gate): Sigmoid()\n",
            "          )\n",
            "          (conv_pwl): Conv2d(1536, 256, kernel_size=(1, 1), stride=(1, 1), bias=False)\n",
            "          (bn3): BatchNormAct2d(\n",
            "            256, eps=0.001, momentum=0.1, affine=True, track_running_stats=True\n",
            "            (drop): Identity()\n",
            "            (act): Identity()\n",
            "          )\n",
            "          (drop_path): Identity()\n",
            "        )\n",
            "        (13): InvertedResidual(\n",
            "          (conv_pw): Conv2d(256, 1536, kernel_size=(1, 1), stride=(1, 1), bias=False)\n",
            "          (bn1): BatchNormAct2d(\n",
            "            1536, eps=0.001, momentum=0.1, affine=True, track_running_stats=True\n",
            "            (drop): Identity()\n",
            "            (act): SiLU(inplace=True)\n",
            "          )\n",
            "          (conv_dw): Conv2d(1536, 1536, kernel_size=(3, 3), stride=(1, 1), padding=(1, 1), groups=1536, bias=False)\n",
            "          (bn2): BatchNormAct2d(\n",
            "            1536, eps=0.001, momentum=0.1, affine=True, track_running_stats=True\n",
            "            (drop): Identity()\n",
            "            (act): SiLU(inplace=True)\n",
            "          )\n",
            "          (se): SqueezeExcite(\n",
            "            (conv_reduce): Conv2d(1536, 64, kernel_size=(1, 1), stride=(1, 1))\n",
            "            (act1): SiLU(inplace=True)\n",
            "            (conv_expand): Conv2d(64, 1536, kernel_size=(1, 1), stride=(1, 1))\n",
            "            (gate): Sigmoid()\n",
            "          )\n",
            "          (conv_pwl): Conv2d(1536, 256, kernel_size=(1, 1), stride=(1, 1), bias=False)\n",
            "          (bn3): BatchNormAct2d(\n",
            "            256, eps=0.001, momentum=0.1, affine=True, track_running_stats=True\n",
            "            (drop): Identity()\n",
            "            (act): Identity()\n",
            "          )\n",
            "          (drop_path): Identity()\n",
            "        )\n",
            "        (14): InvertedResidual(\n",
            "          (conv_pw): Conv2d(256, 1536, kernel_size=(1, 1), stride=(1, 1), bias=False)\n",
            "          (bn1): BatchNormAct2d(\n",
            "            1536, eps=0.001, momentum=0.1, affine=True, track_running_stats=True\n",
            "            (drop): Identity()\n",
            "            (act): SiLU(inplace=True)\n",
            "          )\n",
            "          (conv_dw): Conv2d(1536, 1536, kernel_size=(3, 3), stride=(1, 1), padding=(1, 1), groups=1536, bias=False)\n",
            "          (bn2): BatchNormAct2d(\n",
            "            1536, eps=0.001, momentum=0.1, affine=True, track_running_stats=True\n",
            "            (drop): Identity()\n",
            "            (act): SiLU(inplace=True)\n",
            "          )\n",
            "          (se): SqueezeExcite(\n",
            "            (conv_reduce): Conv2d(1536, 64, kernel_size=(1, 1), stride=(1, 1))\n",
            "            (act1): SiLU(inplace=True)\n",
            "            (conv_expand): Conv2d(64, 1536, kernel_size=(1, 1), stride=(1, 1))\n",
            "            (gate): Sigmoid()\n",
            "          )\n",
            "          (conv_pwl): Conv2d(1536, 256, kernel_size=(1, 1), stride=(1, 1), bias=False)\n",
            "          (bn3): BatchNormAct2d(\n",
            "            256, eps=0.001, momentum=0.1, affine=True, track_running_stats=True\n",
            "            (drop): Identity()\n",
            "            (act): Identity()\n",
            "          )\n",
            "          (drop_path): Identity()\n",
            "        )\n",
            "      )\n",
            "    )\n",
            "    (conv_head): Conv2d(256, 1280, kernel_size=(1, 1), stride=(1, 1), bias=False)\n",
            "    (bn2): BatchNormAct2d(\n",
            "      1280, eps=0.001, momentum=0.1, affine=True, track_running_stats=True\n",
            "      (drop): Identity()\n",
            "      (act): SiLU(inplace=True)\n",
            "    )\n",
            "    (global_pool): SelectAdaptivePool2d(pool_type=avg, flatten=Flatten(start_dim=1, end_dim=-1))\n",
            "    (classifier): Linear(in_features=1280, out_features=1, bias=True)\n",
            "  )\n",
            "  (1): Sigmoid()\n",
            ")\n"
          ]
        }
      ]
    },
    {
      "cell_type": "code",
      "source": [
        "del model_name"
      ],
      "metadata": {
        "id": "bWarSJJG59Xz"
      },
      "execution_count": 54,
      "outputs": []
    },
    {
      "cell_type": "markdown",
      "metadata": {
        "id": "s0ME8m8YBRFR"
      },
      "source": [
        "# 資料處理"
      ]
    },
    {
      "cell_type": "markdown",
      "source": [
        "## 二八切割"
      ],
      "metadata": {
        "id": "BlxYg5o29uzi"
      }
    },
    {
      "cell_type": "code",
      "source": [
        "train_id, valid_id = get_split()\n",
        "images_valid, labels_valid = process_data2(datadir, dropFalse=0, files=valid_id)\n",
        "images, labels = process_data2(datadir, dropFalse=0, files=train_id)"
      ],
      "metadata": {
        "id": "DwIR_e8b8BWw",
        "colab": {
          "base_uri": "https://localhost:8080/"
        },
        "outputId": "a6af65d0-c3b2-45a6-abe0-4b8063052b58"
      },
      "execution_count": 29,
      "outputs": [
        {
          "output_type": "stream",
          "name": "stdout",
          "text": [
            "reading traindir='Cropped_60-316_150-406_11-71/Train_Valid_Image_cropped'...\n",
            "xlim=[60, 316]\n",
            "ylim=[150, 406]\n",
            "zlim=[11, 71]\n",
            "Process 0: Zx015DF8E20804DB94E24A9B2D9DD387A47EF1C620A02026DC finished...\n",
            "Process 1: Zx01F90B532F87127DB647612B6621F2065CA58692B921CEB4 finished...\n",
            "Process 2: Zx0494BD052F6F8D5A583699BBC329C318AC7B5BE50FD9ACDA finished...\n",
            "Process 3: Zx0800DE5C96380322C65ABA398FC93B5CBDF75B20B11DDF6E finished...\n",
            "Process 4: Zx09972B8FA6215EEC75DB4194B16C000F47B5F87AFB64A12B finished...\n",
            "Process 5: Zx0A1564C092259CD377329E07006281E876D09F9B48E77002 finished...\n",
            "Process 6: Zx0AE5424009C101F7422C5BD9DD2C3B0E13E834114A32883A finished...\n",
            "Process 7: Zx0BA755CD6D068378215FE1AE4751945053ED5D2F2C2A40E7 finished...\n",
            "Process 8: Zx0CA5CE197AA9378EE23F949BDFC91790D4FED5D6FD06F5A2 finished...\n",
            "Process 9: Zx0CFB1637BD27964BE741B2AA07BC7C84B2B61731E47782E0 finished...\n",
            "Process 10: Zx0E094D2402D05592511D0DED9E7ED9E999B468C249E9253F finished...\n",
            "Process 11: Zx0E96DE51997AF17C5C54835EAD6B7512C66F91BFDB491B9F finished...\n",
            "Process 12: Zx0F09553E6591D068AAB2811C40BA511B70E378F39A37839A finished...\n",
            "Process 13: Zx114AC1555B9AD6790B7A1BDE0521553F4A9A83AEAF30A859 finished...\n",
            "Process 14: Zx13CC64ABE904CB3E29A95612A74C34E8F5F6B4BA181694BD finished...\n",
            "Process 15: Zx152DDBF3A8894FFDC2C923DF7F1099488C30A8943FE31860 finished...\n",
            "Process 16: Zx15FB4DF1D36A7B4A19617A2C71E216AC807960B0EF51AC83 finished...\n",
            "Process 17: Zx160CFC2664FE311B6AC70F6906A5E84B13D273AD7B24162B finished...\n",
            "Process 18: Zx16F4FD8907D539630058B97C3DA72D8CE2C4154A1011F3D7 finished...\n",
            "Process 19: Zx1761966B642ABA595F2D8E53DAED57654117D2271DF05D4B finished...\n",
            "Process 20: Zx19075B1C1417E664BEDD1C5C7F782D359A1DC198D01A79DF finished...\n",
            "Process 21: Zx19216E0DC2CA308E80238A39CC927E17148D86C6DF471355 finished...\n",
            "Process 22: Zx19DC911CF61B42EEA04DF8635951103535C9FB92AD779276 finished...\n",
            "Process 23: Zx1A3FF9BBC87A0A6379CA804FA7025BE5E55D98B90E6E911E finished...\n",
            "Process 24: Zx2030E3E34625286FA6745CAFEF3F4CD81DEDDFA875C5EC23 finished...\n",
            "Process 25: Zx226CB151F5DE15D8C8C6E3F3EE8BC533BDBE65DE1A805731 finished...\n",
            "Process 26: Zx25DFF1358FA299AFC3345BEE8BCD80031225017D9F4DD365 finished...\n",
            "Process 27: Zx2821AF61A3DBB7F40C01DEA2F7BBAE3C7FB59CA82BC55B55 finished...\n",
            "Process 28: Zx28A11914F19501C527FADC7432C8E020873181C0B365E863 finished...\n",
            "Process 29: Zx291FD6850838B643BC1A7878279A2373C32A719B91C042EC finished...\n",
            "Process 30: Zx29D944DDC12D73E608734644C33D08170EC666B3E934AE93 finished...\n",
            "Process 31: Zx2A1210AAD0C7673D871C9B73A00CC394F65B0A224D6EABC9 finished...\n",
            "Process 32: Zx2BCE9A7537D7DB08D8254B88EDFA79D2B5FAD113ED12B54E finished...\n",
            "Process 33: Zx2D185653AC6B5E02F95806D73E5A84A02024E037C1DEB887 finished...\n",
            "Process 34: Zx2D76DB29AAD2347759160B311EE70109FFF026792C16979A finished...\n",
            "Process 35: Zx2E111520B77E85EE6229F346D75F64EC7CDFCA78821E4341 finished...\n",
            "Process 36: Zx2FA626656496845ECE881190B184E327F4D8061B2B2900DE finished...\n",
            "Process 37: Zx2FDB8744E9FC6EA517DB8C7AF02186F20EB405618EAD35AA finished...\n",
            "Process 38: Zx30D3D7722571163D6FDAC8D42EA822DE9309AA749507E680 finished...\n",
            "Process 39: Zx30D54DEFE5A1F6690A387C332411376210FE4A5839471C12 finished...\n",
            "Process 40: Zx310CE606A29627070A772BE54B8CD0BA3E47BAE4172C4EB0 finished...\n",
            "Process 41: Zx3306AD6CF1A7BFC1BF6522E172650664AA1DBB0EE61F704B finished...\n",
            "Process 42: Zx33E6FDDA6850D397D243D3A55567D29DABFB0503956B9083 finished...\n",
            "Process 43: Zx347D7961BD3B95547A18229A9DEB77A9C5B2216DF6890865 finished...\n",
            "Process 44: Zx35277990C2DBE37B4185DB808829526C76F8D6CDBC5C7CD7 finished...\n",
            "Process 45: Zx36871521E7690C7E8E2298CBEBC159037F9562AFAD8FDFF8 finished...\n",
            "Process 46: Zx379A5F7814F0914A5DDC1624A2FB846629F088027004D2A6 finished...\n",
            "Process 47: Zx39297C72B360D9264B30FF2723EADD32A2EA4EE4794DFAFB finished...\n",
            "Process 48: Zx3AB91ED4F2F9AA3B6F1005851941D52458DDAD3716622571 finished...\n",
            "Process 49: Zx3AB91ED4F2F9AA3BBF9B2425E1278FBEC919A0ACCDC4A02B finished...\n",
            "Process 50: Zx3D212F640E8BAB683711B0A2B808E94D20EC94C210350D4F finished...\n",
            "Process 51: Zx3E70E64F4B2979E3961895A1F7F48F5A61F3CA426349C95C finished...\n",
            "Process 52: Zx3F0AA5B24089383F472A355FE4001AAA047B39E0C9D9D4DD finished...\n",
            "Process 53: Zx3F283561EB5064407786E2685CF0EEF42F1C052BB005B1E0 finished...\n",
            "Process 54: Zx3FAF29A82573ABC3779238FCADF11919914026A8EFAB5E98 finished...\n",
            "Process 55: Zx4343A182A4B16B07C4E9DC4CC327DCA2B2D54632240F5179 finished...\n",
            "Process 56: Zx455FA34A3BE4D4684F10C3599344433D802C092D1BF1A9D5 finished...\n",
            "Process 57: Zx457D19099A1876FB80E029E8598A9DF202D02CB9E139BFEF finished...\n",
            "Process 58: Zx47C8EC892A72C9A3A5F181DDD2EC43B051D9CB1FF54C714A finished...\n",
            "Process 59: Zx47F849224B4386F104A777D40C2EB9E46E8D4D948E0DF149 finished...\n",
            "Process 60: Zx493F535A5628330079FF05762DFFCD954E2E98F33925D070 finished...\n",
            "Process 61: Zx4DEAB0155B0B49D7A6C97DC1BAFCA3A840D5FA76882F3909 finished...\n",
            "Process 62: Zx4ED2135FF0A55C3DDB2DCB18431F46E19C069FB908C473B6 finished...\n",
            "Process 63: Zx4ED2135FF0A55C3DE2379661289AFC75E374FE6B5DC4C7AC finished...\n",
            "Process 64: Zx501820D23A5CB94739758DB1736517B8A4ACBE83C6927DB9 finished...\n",
            "Process 65: Zx516EDA06AFC86A9609937263C8F528620516202A547FC1BA finished...\n",
            "Process 66: Zx516EDA06AFC86A96E299B23DAF55DAA97F52807639AA71C7 finished...\n",
            "Process 67: Zx54D9C6D4D1A2099BC5128685BAA055EA5D0EBDFCAF3F5C90 finished...\n",
            "Process 68: Zx565D74889318B8045234D290A85A4D77CDBC698F9C455063 finished...\n",
            "Process 69: Zx57410A845E6E8D25823E485244B4E8F17DDFC08B2883A6BA finished...\n",
            "Process 70: Zx5B636F130DAA91A7110091642B376E06730C8832C8C0E569 finished...\n",
            "Process 71: Zx5C5DF9F03CB8A6BAC406BDF666C115EDC0A4C836B500164F finished...\n",
            "Process 72: Zx5E3E3815ED9017334024C80AAF61BC4579BEBD361C5B7475 finished...\n",
            "Process 73: Zx5FA9D4DFFAB39260647D74BF41D27B7EC5D16E01356F2CA2 finished...\n",
            "Process 74: Zx5FD6AFAD51E0F6009E9E6726BC6F6F5958F10F03345BE35C finished...\n",
            "Process 75: Zx600898F0FDBE062A65C1DE5C5162A85C96A07C8856FE6A91 finished...\n",
            "Process 76: Zx600898F0FDBE062AF67DD3D380F200539F52E04E8CA222DA finished...\n",
            "Process 77: Zx628BB0B11A734D09D44015B4D5F10CAD90535C412485404A finished...\n",
            "Process 78: Zx62B066968229B590D678A308537742F33C3A693E7C93B4D9 finished...\n",
            "Process 79: Zx636EDE3E464774759F4FFC43AD1CA60FA256F09F41B06F36 finished...\n",
            "Process 80: Zx63736C111D570844D142C38F9A68489F1C3AF66961367134 finished...\n",
            "Process 81: Zx637726D3EB093D3049C1FA44F7E885DDFB5FAB4AC2C1820E finished...\n",
            "Process 82: Zx64D8ABDFA2E7D3053A50B6A3E3EB3761A40EDF894C4D8EE2 finished...\n",
            "Process 83: Zx6727174D77521EE5DBEDCBBA7660C4E2A32651135D737817 finished...\n",
            "Process 84: Zx67A67EEF79554FEDB4301392109B55148BE639246BDBEEBA finished...\n",
            "Process 85: Zx6AEA21162FAE2D40E5720009794D60020B137000B885BE06 finished...\n",
            "Process 86: Zx6C265FEDB560B114FB7CA8D19212ACB34F9AACEE409DDAAB finished...\n",
            "Process 87: Zx6C2E49E5A10FF2383A6D6E9E296B9BA1B5D6ED90DAED83ED finished...\n",
            "Process 88: Zx6EC130BB2F5E1ECB19C1DE97A5366FE2F3049D42D76122EC finished...\n",
            "Process 89: Zx6FF2EB37C2EA7D75AFDB72C27D1CFF4D7306CA415ACD6910 finished...\n",
            "Process 90: Zx7001D8A2879148E2DB5762644ECD07771C241962E4E0C629 finished...\n",
            "Process 91: Zx77A9ACDFBD87C032A6D4BD47C9303939BAB7F698FDA3DB84 finished...\n",
            "Process 92: Zx791155B439440F506C9D48D6BE3E8C215CFC9406E63E9980 finished...\n",
            "Process 93: Zx7960025CB586E7BF6FA909BED691E51ACD5B404162529B21 finished...\n",
            "Process 94: Zx79B59C3FC0E0419702D6AB6D3F87DC16968921B209E2FAF3 finished...\n",
            "Process 95: Zx7B822BF6444125EFAE0CBE34BFE082FAB35F87CD34A7CFCE finished...\n",
            "Process 96: Zx7D3427750776456FAE73FAD9BE0A5AB930A4A8A445B914AC finished...\n",
            "Process 97: Zx7D8D4EE4E705B047A0C06E182E991F5EDD818C202CCD2204 finished...\n",
            "Process 98: Zx7D9191CF3AC6C1D93283C7120BC4246CCB12EC8FA504570F finished...\n",
            "Process 99: Zx7EB8CBD8E387BF63ED581C37CAFE7980CB4D992C1D714120 finished...\n",
            "Process 100: Zx7EB9931AA0941B211A8753255BF0F5B979AF82872A0C0D7D finished...\n",
            "Process 101: Zx7F5C9B0247EDA7DFDDFA071A1FB4CC8DC6346FDCDB1F9925 finished...\n",
            "Process 102: Zx7FF1443ED897B9B54788562D4CD333296BDFD657E0767B2B finished...\n",
            "Process 103: Zx8019CD217D62047D3A5E39B116BF85416F30FC2B90B43D26 finished...\n",
            "Process 104: Zx80A5561818F25AC07CF5BBD9824B1C5E953DD87A0349CA71 finished...\n",
            "Process 105: Zx860EE7EB77360E72DA038ADF6937F13B8B5D3C868AB15B0C finished...\n",
            "Process 106: Zx88ACB7F8111B28133F6ABC943B7FAD919B0F8A0C05ED78F0 finished...\n",
            "Process 107: Zx88D671F78475F1666A356A95B0A80F6065868CB68F83FFBA finished...\n",
            "Process 108: Zx89B488AF6EEB32B25E26A6CA85C4C1C4B92A64FC21849295 finished...\n",
            "Process 109: Zx89FC1E08F4883C85AB68717F0426C0C74E27023C72AA4B8B finished...\n",
            "Process 110: Zx8C1A2078EF9BE45B85DEC3292FCC3BADD5AA593597A6F21A finished...\n",
            "Process 111: Zx8C85F35CE4EDBFA5FCB3FDD340DB179EF49C37C39B0FDB6E finished...\n",
            "Process 112: Zx8CB9D88383D22A202509E149F9E08171C4FDF085C4080F8E finished...\n",
            "Process 113: Zx8E3B91ED97D86D109CFA0D0A330B3EC8D65D58EA4C3A5BA6 finished...\n",
            "Process 114: Zx8F595A739BFF895B064C35695C85220229B0A1913459AB78 finished...\n",
            "Process 115: Zx8F8A147874051D878B272B30A4BBB599BB4455C8821CE579 finished...\n",
            "Process 116: Zx90019D6EB68057875071272397766A7ADE4635DF6C097558 finished...\n",
            "Process 117: Zx91BF216E50E0A5CA5D56DE31AC383F4BA7024C31BAA17644 finished...\n",
            "Process 118: Zx97261754F3796E1915B0FD671479F1AB0374CB2046EE22EB finished...\n",
            "Process 119: Zx9727ED2AF24A37B2F9BC2D929138ADF34CEC353B03AC7EB1 finished...\n",
            "Process 120: Zx9809790DF26AECDF9037CC13A779C2109AD2303A52D064A2 finished...\n",
            "Process 121: Zx9A4E499E3BA61229D5D60C22ADA56973D6266643DA2F37B3 finished...\n",
            "Process 122: Zx9ACD059285DAFEEA6A2AA4E3165D5D07214AE7ECDDFC4A16 finished...\n",
            "Process 123: Zx9B4C35462848C326141CFD0DC5F1C4EF283FC19334B3E9B7 finished...\n",
            "Process 124: Zx9C70756B5B6BC8D3C7F5415BECA195B3C406529E304D5B44 finished...\n",
            "Process 125: Zx9D0627C5FADDC3AABAA7082E72F91F2645851F71A8CDDF71 finished...\n",
            "Process 126: Zx9D76C42817583BCA25AF1F14469B372700E105BFC7452D78 finished...\n",
            "Process 127: Zx9FAE5E8EE578A076D0A2FB260477EAC119844611FEE70C48 finished...\n",
            "Process 128: ZxA1CECA46F4B0B1A2E2F950D08409F265138A1910A04F5C7C finished...\n",
            "Process 129: ZxA3F00A9B31186E9B131CF5D73AFC8C6F378E8E9AB62D78E2 finished...\n",
            "Process 130: ZxA4950C0ACC3EF8B26CA55C0BCC9F4B2AAF4AC97E9BE083C9 finished...\n",
            "Process 131: ZxA659E69F833B05BB97B93549E620AED2BAE6BE7237F8AF3C finished...\n",
            "Process 132: ZxA9790D652CB6D05C84BDBF01F47D0AFB4FE35E5DE8DF784F finished...\n",
            "Process 133: ZxAA767131DAB25B91FFFD47090A45916170B3CCC54BB52D65 finished...\n",
            "Process 134: ZxAAC0790F72C11A21866712169EF48A1707029E18B6F772CB finished...\n",
            "Process 135: ZxAC7AF4D4AA93212046D8BD720933BB15B7DC75032DDCDDF0 finished...\n",
            "Process 136: ZxACB9617CCE03C1D886BBE06140035A822CD22387DC32B8B6 finished...\n",
            "Process 137: ZxAD02986A72D719698CB0EF1AE7F6D312C8937BB41BC0FCD0 finished...\n",
            "Process 138: ZxAE590FC3798601D32F4FEA88F30C04E22452E5D3D6E1329B finished...\n",
            "Process 139: ZxAE84E65DFAE5468AE5985496628B1F6645A3F29550DDFE54 finished...\n",
            "Process 140: ZxB1E644A9BA91B24975341F46EB4710A1373080D30B129229 finished...\n",
            "Process 141: ZxB341A2039401E8A693C60443A7CA3856C074FE2B3D0CDDBB finished...\n",
            "Process 142: ZxB5153E511119429D1DBFB3ADA85DACE4978C0D66980F3A77 finished...\n",
            "Process 143: ZxB98D6A25EFB6B462DCD1468CF91B9B20C9F3616162C9E910 finished...\n",
            "Process 144: ZxBD18E2DB7C51055DAF5B040481555B72D876A164010ECE45 finished...\n",
            "Process 145: ZxBE2A252CBA88052F4A6B548249B9D70F14E4552A09EFAC38 finished...\n",
            "Process 146: ZxBF4F3E1B31BB16E1DE2DFCD18AE121A6E64EB6602ED786DE finished...\n",
            "Process 147: ZxC00AC887E580A439FB94EA0D14AA397D0E6A03655F32DE93 finished...\n",
            "Process 148: ZxC164015E40831B3B0E18A1E8FD9918DC82FF93BA48FAEED9 finished...\n",
            "Process 149: ZxC2713F3C71BF01D81229251584A45694670859098A88DEB2 finished...\n",
            "Process 150: ZxC3159DBA2C781D710771BCA8F153D7303E1A5BD5755A176C finished...\n",
            "Process 151: ZxC42D3022E6C3CE0C9DD574BF1D93C2D9C1E994479C7E2B0B finished...\n",
            "Process 152: ZxC4F6B3B9C7E6DDBC7F1AD6F7FC97B7F3B3D68691720D4435 finished...\n",
            "Process 153: ZxC5B47FC8970E84C0273DC3589FD1B49BE48E90082115EC11 finished...\n",
            "Process 154: ZxC7F93D23D81997D7158951EDAAC448DE709828F562E63B5C finished...\n",
            "Process 155: ZxC84914C04740C6E11D7199081CA921DAEA8E1BCAEB31F2F3 finished...\n",
            "Process 156: ZxCA41B3DD150137F9CA7D1459E9B006264D085DD41FFA3E31 finished...\n",
            "Process 157: ZxCCB3EEF9389115B646E3EB47019192E0854726CDB3E312B6 finished...\n",
            "Process 158: ZxCD050BB27F55FD0609CC2696F4A942E48F72FBFC999D7302 finished...\n",
            "Process 159: ZxCD22575B2A17483C01B82F2F6DE4BC5E4EAF57DC653B24DC finished...\n",
            "Process 160: ZxD04A91569E96BC232412EBF2B3932A78F5E87E4810FEE32B finished...\n",
            "Process 161: ZxD1290BA3F2C808F2F3C5F8DDE17A1E377342D93BFA10E60E finished...\n",
            "Process 162: ZxD1290BA3F2C808F2F80F8C16260A410922E6A41441749C1F finished...\n",
            "Process 163: ZxD3CB0C4524F67A4DC680470CA749853F06FDEC73A6C14A4B finished...\n",
            "Process 164: ZxD77AFB6361664508339CE17B0DF5B3AAED1BDA42A3502DF1 finished...\n",
            "Process 165: ZxD8736DEB1A7AFA67733E095769BBD236FFAD5150198E5109 finished...\n",
            "Process 166: ZxD8B05B79AB0360DC6AA08EAF2ABE755F8D85605805879606 finished...\n",
            "Process 167: ZxD9C2EB1D5809287187CFD08FABD6728D20DD6F5F6B17FEA9 finished...\n",
            "Process 168: ZxDAADCC811EB06CD6BB950F7E47C153D7E3542485781AFEB5 finished...\n",
            "Process 169: ZxDCB1D0A8AFA3BE4CA12B6011371A4C18E857E6B34D0F6CBD finished...\n",
            "Process 170: ZxDD934EA54F9887DE80AC3A5335A0251C1A50CC3AFF831D62 finished...\n",
            "Process 171: ZxE14FC86D8DB8F334E238A7401495A6EA732432C1C512A641 finished...\n",
            "Process 172: ZxE17161666FB01B0EC79D49DF3ECC93A77665EF5D978008F5 finished...\n",
            "Process 173: ZxE1BDE57D85B29E6B389E1EDFECA4768AE3321FF8D240C449 finished...\n",
            "Process 174: ZxE22AA5B99B19F2C890526A3A3AD6AEC539EC1B3F06C1D967 finished...\n",
            "Process 175: ZxE371E276426F15AA8D214C6719F38F0D2344C50355E0393C finished...\n",
            "Process 176: ZxE371E276426F15AAE78232321244D88B84128A3F7F8DC886 finished...\n",
            "Process 177: ZxE379608F86D71DD957F64A826080DEC2BEC3664FE2D70DBE finished...\n",
            "Process 178: ZxE379608F86D71DD9A2EE5FE1F9BCA94B1526AF3E1F5D036D finished...\n",
            "Process 179: ZxE51CD6EA3575F7429C27DEF64C4BFCADCD22BBA3960B34A8 finished...\n",
            "Process 180: ZxE5432B1C0A8C6480EDCE8D6A04FD05C2893FA3335EEDC24A finished...\n",
            "Process 181: ZxE5D406C8012C9EBEB11C5548C38B4E6925EC1CBECC33E524 finished...\n",
            "Process 182: ZxE90454592D06545CC14B4A48E7BB560D689A90D0B1C5B3F2 finished...\n",
            "Process 183: ZxE95E62069BD19852B3213F41681B488E3608E3272E5DEB14 finished...\n",
            "Process 184: ZxEACFC663D819866E172E1DD2EC69EF67339C975F9A23A451 finished...\n",
            "Process 185: ZxED7B1BDA85AD42455DBFBF89EE268C7A0D8EEE5718603F6A finished...\n",
            "Process 186: ZxEF511B489D3D04DD06E2FA29A75D940146DD16563BD866C4 finished...\n",
            "Process 187: ZxEF67EB2287C54DE9D545EA9F8D764BD5702AF9829424464E finished...\n",
            "Process 188: ZxF05120573C427C0597890DF3A1CE26BC669097F3F1694F7C finished...\n",
            "Process 189: ZxF11089D64DA1DFE18A84F981E53FFFC6654045FF6009E0B2 finished...\n",
            "Process 190: ZxF1D8E31B55562E67EBA90A70362DA561740036733C5C1E5C finished...\n",
            "Process 191: ZxF68BEE7E1F60DFA987A5CAF050A21BB2C8E5752CC1995DC8 finished...\n",
            "Process 192: ZxF6C74D5FFC69B6EA16D84D90132DF4FEEC24B8AFB78AC6B6 finished...\n",
            "Process 193: ZxF752E48B1F00DB74869D170A132A88E33A4B892B007EBFBE finished...\n",
            "Process 194: ZxF9F4AF14D7B1EF7C8A8B81093B86586B95997D0897E53F7C finished...\n",
            "Process 195: ZxF9F4AF14D7B1EF7C8A9B752879EC4ECFFB5FCDFCF843C9C3 finished...\n",
            "Process 196: ZxF9F4AF14D7B1EF7CD85451CABDD3FE1FDE0CF669B1D18B67 finished...\n",
            "Process 197: ZxF9F4AF14D7B1EF7CDC6F8B4AF9C24B1D2679C76AAC1B8010 finished...\n",
            "Process 198: ZxFABAF7EB4A6A337DAC455318150E97C294299A3806397653 finished...\n",
            "Process 199: ZxFFDF9619CAEA38ABE54015BA803F317F987FD3903FA531CF finished...\n",
            "reading traindir='Cropped_60-316_150-406_11-71/Train_Valid_Image_cropped'...\n",
            "xlim=[60, 316]\n",
            "ylim=[150, 406]\n",
            "zlim=[11, 71]\n",
            "Process 0: Zx00AD16F8B97A53DE6E7CFE260BDF122F0E655659A3DF1628 finished...\n",
            "Process 1: Zx00FE1B9A88E88C71CF81D0736F23E88BB9C35E2BCDECF501 finished...\n",
            "Process 2: Zx00FE1B9A88E88C71F8D11F50C2B5FBFEB3461E67BE1E83B8 finished...\n",
            "Process 3: Zx014E4DF04789E7E61C3B4876CE4D122DC14E0BB842E42E7D finished...\n",
            "Process 4: Zx016CBC4284052F6A74A56DAFFB0B39B95D4DEC066028AA4A finished...\n",
            "Process 5: Zx018905C639589E81D4C91553041B845F583C3365B076C8E1 finished...\n",
            "Process 6: Zx01F90B532F87127D864B9194B92EDDC3B0EA988ABB5E1D1C finished...\n",
            "Process 7: Zx039B4A139FC862D542D2AACC247C46DFCE9EAA705B5DEF40 finished...\n",
            "Process 8: Zx04424F2CF83E0AD3059C7706FBE311FDC83AAA8265D2325D finished...\n",
            "Process 9: Zx04424F2CF83E0AD3DDF3CC99A41482D909CBC495238F2FEC finished...\n",
            "Process 10: Zx052D253409F40A03B71D313382692559FB09F771A41F754A finished...\n",
            "Process 11: Zx0534778884B0E2267FCC4CF2BBF361589CD1D845F4A9C9DB finished...\n",
            "Process 12: Zx05576CE976F91BF416232FAF4CDF5F6C5DF852ADCA2B9DD8 finished...\n",
            "Process 13: Zx06DF7CE50F0A454CB7E53B3918C49334BFB49CACC36B7438 finished...\n",
            "Process 14: Zx07C5208D04A267A61BFB6EC968FBBB3DF25C245A6893273D finished...\n",
            "Process 15: Zx0800DE5C96380322A41C31B46264D40D1B72FEC49745785C finished...\n",
            "Process 16: Zx0800DE5C96380322E442453B99E25D6F1282F2C4A610A497 finished...\n",
            "Process 17: Zx081F9B5A0C06A23AE10DC1E14E6B9B4DFC71FBCF3B559AEB finished...\n",
            "Process 18: Zx08DA48B45B5C7D0182C369B8E0B013CAF9EEA43199E8AFEF finished...\n",
            "Process 19: Zx09413D933AD838CE8DB00704AB349855FE4721FC26037F37 finished...\n",
            "Process 20: Zx09D290397499695039422FD2002292BD781E5203436441A3 finished...\n",
            "Process 21: Zx09D29039749969505F54A1E8982B5BF5670F5EEABAE98ECF finished...\n",
            "Process 22: Zx0A5FF3169135AF89B21F2A97A7278E517EC8B499B0F14C20 finished...\n",
            "Process 23: Zx0AA2C956EEA5EAEA0DC0DA2606A8F8D0F334B97FDD860E1F finished...\n",
            "Process 24: Zx0B06041DB37FAF0160B564B48791D3B58804B731DD57F4AB finished...\n",
            "Process 25: Zx0BCA7F5108A7E8BCC2AB6094DE20A5C243897FCB0C82E20A finished...\n",
            "Process 26: Zx0C72F2127A469CAA6A49C516DC18B2706A43700721B5D8AB finished...\n",
            "Process 27: Zx0CAA076280D8EBEAA52926C4C6F1DB221F5C58F6EC8B2593 finished...\n",
            "Process 28: Zx0CE3BA2363A72325A7BB82B688463DBB79D224C67883F062 finished...\n",
            "Process 29: Zx0CFEAEA49D4E19D1219A4C230C6D82751179B29EE9CA9F49 finished...\n",
            "Process 30: Zx0D204781E3C58AD6EB37CC2E6EC18B935B00F9CC5D987220 finished...\n",
            "Process 31: Zx0E392B7839BC0EDBDA8BEAC12F819B61409DC2804FB3F997 finished...\n",
            "Process 32: Zx0E3C20D9BB248666701B02B803ECE6BC4306B85A53E6DE38 finished...\n",
            "Process 33: Zx0E64921E82ED12C88791307B1B09E979ADC3FBD3845D3927 finished...\n",
            "Process 34: Zx1060A72A4F5C5FFE63F395F263138C39C901CEA1B608B5D3 finished...\n",
            "Process 35: Zx10E5A02B21E2368FB1C4CE0CBD7EFC890FAA56ECB35CBED2 finished...\n",
            "Process 36: Zx117267214EB944C6E8593100AAC6E8FE5D47143C67350F53 finished...\n",
            "Process 37: Zx11E4702AA837EC465D5D80C1BC23104AD4388C527E94033D finished...\n",
            "Process 38: Zx12530E751E5315C37CEE489CA53DAD4806EAF276AEC9F18B finished...\n",
            "Process 39: Zx12530E751E5315C38EEF85D4C1B0308338838B8C2983106D finished...\n",
            "Process 40: Zx12530E751E5315C3F09F11CFCE42D6BA786BE280C8BA5C5D finished...\n",
            "Process 41: Zx12CD0450CBDF59B92B8BFF3AE5296DF73C619990C8117DCE finished...\n",
            "Process 42: Zx12E8C030B31F39B52D2C9FA262B92370A9C7BAFDA12373AF finished...\n",
            "Process 43: Zx12E8C030B31F39B5C0374AE9C7AA0FD527E0F819E430AA4D finished...\n",
            "Process 44: Zx12E8C030B31F39B5C62831916119C7108A9A7C2EA7625746 finished...\n",
            "Process 45: Zx13380F22EFEA0B62205EC17938D2A84A71C8153C1D25B7CF finished...\n",
            "Process 46: Zx14087FD7C271A7D92C0F8CF2AD8131123F9C59DAE6DA5705 finished...\n",
            "Process 47: Zx14E419FB0929647C385FCFE5FC3DE04521DBD602302EC152 finished...\n",
            "Process 48: Zx14E419FB0929647CE43F1FACB88A1F623BAF9D0F6836372F finished...\n",
            "Process 49: Zx15FB4DF1D36A7B4AA9B00B4D8DE5B757A9EDD1490640008D finished...\n",
            "Process 50: Zx15FB4DF1D36A7B4AD94C813D415FA88503C2381519A8357D finished...\n",
            "Process 51: Zx162F641C827B6EE83C571BF7AEA8A018024AC788B8C0B158 finished...\n",
            "Process 52: Zx16D93043D5D4E4D3393FB6C9DC8E305AA39CC4FCDD1B952F finished...\n",
            "Process 53: Zx171AFF296B798AB089F4652DF7A4E18DF96CFEE1B08244E8 finished...\n",
            "Process 54: Zx171AFF296B798AB09AD7911E3669EB7736CE2062AE9F80DA finished...\n",
            "Process 55: Zx17405CFB23569FC22C6738129E6305B6EF0398BE89533406 finished...\n",
            "Process 56: Zx1843C96056436B4D01517C950238025999165FE4A16A8110 finished...\n",
            "Process 57: Zx1843C96056436B4D91A7A4727E773B3964907516AA7E203F finished...\n",
            "Process 58: Zx1882493D839CC3171D0FEA7AE764BB5BC308D707E75CCB60 finished...\n",
            "Process 59: Zx188AD4803C40A1FBE691B933154BA5659529C18A8032265F finished...\n",
            "Process 60: Zx1950A84DEF7878F0254E551A842C621B4740CE91E85CE8E2 finished...\n",
            "Process 61: Zx1950A84DEF7878F043E3BB7A5D65E310BC050172FCA7CC14 finished...\n",
            "Process 62: Zx1950A84DEF7878F0CDEE2AE1E07365E7C7F651215ED72155 finished...\n",
            "Process 63: Zx1950A84DEF7878F0F9E32AF9F820CA049C5880BA46C37601 finished...\n",
            "Process 64: Zx1950A84DEF7878F0FA4F817AEE5D56DF2534349D8C94B8F5 finished...\n",
            "Process 65: Zx1977ADC4FB423A510927DE5147FA1581381604AC0BB7E825 finished...\n",
            "Process 66: Zx19A878BE9D7FCDD564CF0D0630D0E05F305D03B734E6FBE5 finished...\n",
            "Process 67: Zx19DC911CF61B42EE4F9E967F39224A9297426E7C6AC03D8E finished...\n",
            "Process 68: Zx1A447D96D387B7C45053917769DF2A154E9A765A87D51A24 finished...\n",
            "Process 69: Zx1A5E6FEE5BA94F6D9C91E1BBACAE6959AB96EB6442A0524B finished...\n",
            "Process 70: Zx1A8AFCB885E0D8BC44A0ED9AEF59DD90D90777A8345747EE finished...\n",
            "Process 71: Zx1AC280D33D45A2973879438429EB6E09CB3DF1914B26DED8 finished...\n",
            "Process 72: Zx1BBA21D9DA37F2D063D4A85F624E8D72C0410728E334B442 finished...\n",
            "Process 73: Zx1BDF4C967678080E6779C2713B10F3B23CE3C1CC7F2CC8BB finished...\n",
            "Process 74: Zx1C6B814369828D2A1FE29B8B7CD4D21752A8CB1AE56781F5 finished...\n",
            "Process 75: Zx1D4DA6EB30F0E21BAE9B15E262721240DDC420DD988AAC16 finished...\n",
            "Process 76: Zx1E550FA95B8A7552A06CE65E3BEED1EE034D46B71AC2990F finished...\n",
            "Process 77: Zx1ECC8B15EE2388642B2C05331250EEB951BE580304D38622 finished...\n",
            "Process 78: Zx1ED66EE4F0492C4C63EED347F5480C328DED4C1955880614 finished...\n",
            "Process 79: Zx1F0951EDF2B31E5E932707FD021961BFCF8586E917ABD120 finished...\n",
            "Process 80: Zx1F0C08B15A2FA4B85694E240248D208FBA9CDCFA1B19D3E5 finished...\n",
            "Process 81: Zx1F2D6E616335D5D7A26B93C9CBB01658781603DFF3B46DF8 finished...\n",
            "Process 82: Zx1F83D85BC2A7A55A165937332E32D7646399FC21D7283669 finished...\n",
            "Process 83: Zx2030E3E34625286F57D63B10F1912D4A18F991C22F6463A1 finished...\n",
            "Process 84: Zx2030E3E34625286FAA000B1D4CFF2D07BD489B513C82E9A8 finished...\n",
            "Process 85: Zx208D824934941221A20E8F9C315A6AF45B61E20DB5B3F4E5 finished...\n",
            "Process 86: Zx20BDA35C14C29E61E035F264496CD4F4F97D288082512F40 finished...\n",
            "Process 87: Zx213F87C44A60B71BFE117EB0EB9A5870E0CEB9197701FF60 finished...\n",
            "Process 88: Zx215A14F9057233B70538C32D1748F817319662FD34E6690A finished...\n",
            "Process 89: Zx220A8CBFA565CB8498E6FB702C7E03B920F2361EE7B62A6D finished...\n",
            "Process 90: Zx22D56AA7E544151923FF1A90F02F59919EC170C85187649E finished...\n",
            "Process 91: Zx239BC1FBE61089C9B2368A86E36BDF3136292547D9C0EBC4 finished...\n",
            "Process 92: Zx23BEFE24BACE6B24798B7B8ADA70E5DE0151270247B6EB07 finished...\n",
            "Process 93: Zx23BEFE24BACE6B249C37C240B74348796802474012995344 finished...\n",
            "Process 94: Zx23CE39ADA19715437B08F04B4F1E962B9E854E1DE01B814F finished...\n",
            "Process 95: Zx23F8F44ED97A93B2C3487F13DBE296C7A694804866EFF350 finished...\n",
            "Process 96: Zx246E98149CE2B848DD11D93B1DAC382E56997966B5FB4B1A finished...\n",
            "Process 97: Zx24711EE075325408C49B564C1D646B2F1A6BE15A31716D85 finished...\n",
            "Process 98: Zx247C48E8B7D1EABBA1DEF5CD4AC1D8E8ACAFA8C759A85107 finished...\n",
            "Process 99: Zx25DFF1358FA299AFD313E29BFC17C150096D2B97BDB7E2ED finished...\n",
            "Process 100: Zx25DFF1358FA299AFF037CA3B98580B73B25B4E2B3B4172F3 finished...\n",
            "Process 101: Zx265C799B18CE4D6DE5A3671D65F5B018D713919204868A0F finished...\n",
            "Process 102: Zx2727C103B14E93A07709A14282274DD35B6A23AA6127CB0B finished...\n",
            "Process 103: Zx27ECA58C0AE0031815C0AE04CA9002F10E1FCB7F5686AE48 finished...\n",
            "Process 104: Zx28C2905F39B77B64E242963BF9BA3069E135FDCC8A782720 finished...\n",
            "Process 105: Zx28CA9394EF10537307B5B8DDC24D756E20354ED9E8B3237A finished...\n",
            "Process 106: Zx29249C3340706D8A658BC96F288DE057693CDCA0C50018FF finished...\n",
            "Process 107: Zx2933A24F5182C585C1ADECFA9FF9EDDB3F9432CBB9E30A24 finished...\n",
            "Process 108: Zx29D944DDC12D73E641FD78628DA3CCDAD0CCD13F9C098056 finished...\n",
            "Process 109: Zx2A3C9F90B97FC5CF48D8F0046D61E7AA7B868D85B83054AE finished...\n",
            "Process 110: Zx2AAE948072335FDABDFFA2D972B5638F4069A5D8D0B432B8 finished...\n",
            "Process 111: Zx2AB19BB5DD94C321AF90101CD847A97A335713B9A85CD6E3 finished...\n",
            "Process 112: Zx2AF7910D2CCF58C07FF4E3EFC228F15E7DBD8E71193CA7BF finished...\n",
            "Process 113: Zx2B401975A0A7FE26B9906E1047BB2A92BC4D80CCC69F0DC8 finished...\n",
            "Process 114: Zx2B7652752183E77F7E8BC4D7F8608C151B41BFCA53475095 finished...\n",
            "Process 115: Zx2BDF57DC47BEBC12497878BED38545FC731D32F176C58DC9 finished...\n",
            "Process 116: Zx2BDF57DC47BEBC12CC3C156DC1BCE0C07D16D40692007D96 finished...\n",
            "Process 117: Zx2D43BBDA962A8DC656EF3C61E52CC75604BAD0E6AD08F938 finished...\n",
            "Process 118: Zx2DD7E0642A4827E03C235724922D866A37D619A859B89A73 finished...\n",
            "Process 119: Zx2DFEA8EA90862E241A9E13821C48D3B2E872D0C2A8A32B0B finished...\n",
            "Process 120: Zx2E05E179442C54DBB858D2E4A4793809F073143901DE68FF finished...\n",
            "Process 121: Zx2E37BB6B0F79F459E7F8431E590AE9020866183BAC616B5E finished...\n",
            "Process 122: Zx2FA626656496845ED534D6B5B760541A21647F2F5D42B581 finished...\n",
            "Process 123: Zx2FA626656496845ED6C525AEB7549C132AA41B54CE30EA53 finished...\n",
            "Process 124: Zx2FDB8744E9FC6EA5EF801273D38E91C4DF8A76ABD71C8668 finished...\n",
            "Process 125: Zx3093899D9E29307AC4914C2AADFC81EE001ADB65AC761C42 finished...\n",
            "Process 126: Zx30EB98600B79F8C276472CFEDB2C86FD69F24202CC043683 finished...\n",
            "Process 127: Zx3140C2C02EDB97CF639FD86D9858631782AA626B70EBD723 finished...\n",
            "Process 128: Zx31F5838671135830967C7971C05599F30898ECE6B723A12B finished...\n",
            "Process 129: Zx31F707B0E35DF9B8B4A76C9966A99CF199418456428E600C finished...\n",
            "Process 130: Zx328EF1C62C85DF795D818DD80646CAB28474E58B37DFEDA1 finished...\n",
            "Process 131: Zx33560A1F5550D0D3F5A3877D204D89E91636D7B0E10E71F0 finished...\n",
            "Process 132: Zx339923E0B41545328BB08A03DF57E5D8769CDC9340662F72 finished...\n",
            "Process 133: Zx34C115FB55D8474D6F19B61FC5388EE4CF710E60F31443C5 finished...\n",
            "Process 134: Zx357B92BC3020A6B71E71EAAE33CC0DF854572A263A40A123 finished...\n",
            "Process 135: Zx35E3E6E7CBA729A6039A604D4E5030CDE9F1D1B8E4B25F23 finished...\n",
            "Process 136: Zx35E3E6E7CBA729A68C78E99308353E84782E6E91469ECDC3 finished...\n",
            "Process 137: Zx35E3E6E7CBA729A69C4D5E5FF5C1FF0B522175A77B8C4CB2 finished...\n",
            "Process 138: Zx35E3E6E7CBA729A69FFB90491C3F4F8A7CCC1928F15531FE finished...\n",
            "Process 139: Zx35E3E6E7CBA729A6FB73B987CF05071ECC712D25113641E4 finished...\n",
            "Process 140: Zx35E3E6E7CBA729A6FC8BC9B2BD86D23A421B431FF734CD90 finished...\n",
            "Process 141: Zx368E67F85BF96985DC439B3FE00ABF3E804296FA6D8C771B finished...\n",
            "Process 142: Zx36B440051EEC06B876C7C58CC95BE6A4967D53C10BED4B2D finished...\n",
            "Process 143: Zx379B34C33DA0FAC86BD8ADFCFC1B2CF739D4C90FEFD47551 finished...\n",
            "Process 144: Zx37CF014F6D0060337C7856CEE7CB09E488C90A330822072D finished...\n",
            "Process 145: Zx37F988F53E9C391591766FE9726D7E92F0D6153B245C18BC finished...\n",
            "Process 146: Zx3889EF0BF9B77B23721E34BC2031D10FE9DF1A9419F4BB2E finished...\n",
            "Process 147: Zx392DC2738CF9E3FE3D894559CF117E10EF36BBDC218E7896 finished...\n",
            "Process 148: Zx396059C7C80AF72A2B9B5987A8DB6F28222500A9F881535A finished...\n",
            "Process 149: Zx3A219BC45F1B5BAB2AF0AFDABDA623D33DD885F24C4D36CE finished...\n",
            "Process 150: Zx3A3EABEA40351DA0CAFC4329114A1D243B5675706C49F661 finished...\n",
            "Process 151: Zx3A5E7419657D5644214B6C229CD7862ED9D7FC5DBFBD56F6 finished...\n",
            "Process 152: Zx3A5E7419657D5644ED0DF48D1BD528DE82D174588DE43B26 finished...\n",
            "Process 153: Zx3AB91ED4F2F9AA3B7A57258D3F98FCCD7E26E12DDE6A45B3 finished...\n",
            "Process 154: Zx3B1D6C9714B7C54C43C7170067F7F17876E134172A8F59AF finished...\n",
            "Process 155: Zx3BBC3ED501BABA5D16E5B523FCD04D4C2AB0E94792A4401E finished...\n",
            "Process 156: Zx3C73BAEB9FF5DF9B3A6958528BDC3FC0CA1D8180877BACB7 finished...\n",
            "Process 157: Zx3C911819A0051992F399041B71D79C707FB5FD77A1B605A8 finished...\n",
            "Process 158: Zx3CAF1DB7C360026E40C13D13A8990245800B461709D2A425 finished...\n",
            "Process 159: Zx3CAF1DB7C360026EC045CCBAF6DD38283021AEF22B25D811 finished...\n",
            "Process 160: Zx3CDC546A37075405DFB8BF11A7BE8449A084A84EF4EA554E finished...\n",
            "Process 161: Zx3CDCA9F641D62305C95CE3BD60D231589DA1BB1068CDC923 finished...\n",
            "Process 162: Zx3CF258177C07C53E74433236D3E2AC22B45A8FFEC3DF495E finished...\n",
            "Process 163: Zx3D2CD874E8BDB341DEA1814FADD0130D265176FA561C0799 finished...\n",
            "Process 164: Zx3D83B53CBABAA156CAF6096C44B4820E38236E4FB31E4A61 finished...\n",
            "Process 165: Zx3D9CAD8F3C4AD007279632AA3B99D80B2120EC4D76E81C98 finished...\n",
            "Process 166: Zx3E54BDA9793D4E7B0A260267CD3901E9B5ADECDD307E0E32 finished...\n",
            "Process 167: Zx3EE32B570B8DB6863F4DA6447AE91C61D04AFF02F7E64F04 finished...\n",
            "Process 168: Zx3EFC704096878550259560DBD492CCDAC89B53588BA1B90B finished...\n",
            "Process 169: Zx3F0AA5B24089383F0C3CCA7C081EF5810B5C8B85C069D780 finished...\n",
            "Process 170: Zx3FBF0E56F75857106A79F089DD99578868683577250E1038 finished...\n",
            "Process 171: Zx401C2F09F8961880B81DE71DC3591264C061FA1F64536698 finished...\n",
            "Process 172: Zx40816DF96E52884DF695E52EF19263822DE95B49F0649B4B finished...\n",
            "Process 173: Zx40F840D637C6BE3A1BE6C9EC9082C0F9FC4989466ABF83AD finished...\n",
            "Process 174: Zx40F840D637C6BE3A6FE087E78441E9BEEADE6FB46EED707E finished...\n",
            "Process 175: Zx412666ED5D058647EA3C1C62B7B2E3EA254193AAC85F3CC1 finished...\n",
            "Process 176: Zx418C74DF2B303C5B8E30971984584650747FFD8B71B7CF90 finished...\n",
            "Process 177: Zx41EBD2C0D9F5ED631FEF89B057AA2B0E20A73098795E7D69 finished...\n",
            "Process 178: Zx4266C1F9BEFA9C6A16FD59791D1CC9569A8EB0209378ED9A finished...\n",
            "Process 179: Zx4266C1F9BEFA9C6A74B3118E30AB5E08510E6818B3513FB9 finished...\n",
            "Process 180: Zx4266C1F9BEFA9C6AA0DE3C909EB501A8AB41DBF83C8A0110 finished...\n",
            "Process 181: Zx4266C1F9BEFA9C6AAEE9EF65BFE5E6191A7B2B2AB0382526 finished...\n",
            "Process 182: Zx427D8F8A6DEFF9BF7B2EF54E37E95B76F6153BDFDE9D9A48 finished...\n",
            "Process 183: Zx427D8F8A6DEFF9BF809FB207806C6707A43B2B9D9E3D4E72 finished...\n",
            "Process 184: Zx4285BE9103DDFF6D87B65634773FDAA54C9C783C27505529 finished...\n",
            "Process 185: Zx436CAA0C532C93523AA7FB9BC51F9A3737EAFA1D61767CC4 finished...\n",
            "Process 186: Zx43FC969EA95F318B07022BABAE9D90249E0CFACFF25F792B finished...\n",
            "Process 187: Zx441D6426B1525578210227CCB9A039239447D429709EFAF7 finished...\n",
            "Process 188: Zx447638CD7DD8D149C3BEF257EABAABF4C46F734C71AE6981 finished...\n",
            "Process 189: Zx447638CD7DD8D149D3B2E284E3E26B33E9999753A141C5C8 finished...\n",
            "Process 190: Zx44DDADDF8B1E5B444E883375CD5462450F3905013F5C97C7 finished...\n",
            "Process 191: Zx4553C091B4BEFA9D501DF368358E07BAD8C6CB96EF0E3653 finished...\n",
            "Process 192: Zx4553C091B4BEFA9D8CC7280E593AFF94F9E98724858A0654 finished...\n",
            "Process 193: Zx455FA34A3BE4D468CEECAB6E05B340B28E79975DC74FB194 finished...\n",
            "Process 194: Zx45F13921C226C17F102A4F606603CDDBEA75BE28A72E2BE0 finished...\n",
            "Process 195: Zx45F13921C226C17F462A75B6CC7838AA21C2D3021AC18ACC finished...\n",
            "Process 196: Zx45F13921C226C17F9A7B30076DC71FEFEF892B3B7EF4B61E finished...\n",
            "Process 197: Zx45FD7D8A9273DD8852F512C92FB230C54878555B75598939 finished...\n",
            "Process 198: Zx46869E52A3F149236E92AFF4B153AF238C79D10725FA71D7 finished...\n",
            "Process 199: Zx46869E52A3F149239D84F215C0B9EDB557D049DAE7C12BED finished...\n",
            "Process 200: Zx46924D16A41AB87F8EA418222C570A092D58F528C0E17C9C finished...\n",
            "Process 201: Zx46E8D3737980BCE318ECFF231D8E8E68BADF834D2C904812 finished...\n",
            "Process 202: Zx46E8D3737980BCE3A7193955279C6617A926C56BF6DC2916 finished...\n",
            "Process 203: Zx4725243262554FDC2B80C3627CAE5B3951CB1B81134D392D finished...\n",
            "Process 204: Zx4725243262554FDCE62048D48AED30EB82CCA45F300E2133 finished...\n",
            "Process 205: Zx47787568849DA67380F1BECE18D8185F851E92DEB0B22466 finished...\n",
            "Process 206: Zx47787568849DA673E708BFD5C10F6C55109F48B2BD0220CF finished...\n",
            "Process 207: Zx47F849224B4386F1F88873AE64402F3E1783E527C68B174C finished...\n",
            "Process 208: Zx48E620D924CB07B41E645DBEC9D7AA57AE2EAC78CA45BC5A finished...\n",
            "Process 209: Zx496C13E394BED37D1BCB2A89DBC1FECFAE893DEB04DC773D finished...\n",
            "Process 210: Zx4A3A3EB7F67074DEA9C5668137108C5BDFFE5AD82B6C9968 finished...\n",
            "Process 211: Zx4B3FCDA4F002E6F7DC5B4E3A1C0B374F878D53CD81E1E43A finished...\n",
            "Process 212: Zx4B6596BC6B8F4E453F94CD18A4F442557E1C337ABE838769 finished...\n",
            "Process 213: Zx4B6596BC6B8F4E45528220BA49716ABC5A1D36C7AB70748C finished...\n",
            "Process 214: Zx4BBBE8ED4ABA846DB16B6B6D6836D742D8EF280D0E45CD33 finished...\n",
            "Process 215: Zx4C840C22A6CE7B1E6D6CFD56353E464340097A6A450AD1FF finished...\n",
            "Process 216: Zx4CD16CC71906F530428B1C4283EAB7915D7BF3C29CF4EA15 finished...\n",
            "Process 217: Zx4CD16CC71906F530977DB9230FE057C82495D1E34DF0FE3D finished...\n",
            "Process 218: Zx4CD16CC71906F53098070226ADFA18E786514A2D5955BC24 finished...\n",
            "Process 219: Zx4DC770B0CEF5E3B5CACF89B1C31282A563AA1186358D099C finished...\n",
            "Process 220: Zx4E65E57D92E3B1AACBD961CAB8541E13A5975685B7E45EDB finished...\n",
            "Process 221: Zx4EAFC9446FC2FDA96475B0F321C447A4D8889B907C7D9914 finished...\n",
            "Process 222: Zx4ED2135FF0A55C3D7A4B8D120D480744B2AB59059A00E138 finished...\n",
            "Process 223: Zx4ED2135FF0A55C3D7F1BAED00A9DB4024C7C414B49313DFD finished...\n",
            "Process 224: Zx4ED2135FF0A55C3D813B23BFE9225DC9B3593766EF832279 finished...\n",
            "Process 225: Zx4ED2135FF0A55C3DF37F0C3D518BEF91E06140DA413A2713 finished...\n",
            "Process 226: Zx4EE17C1A79A4E37821C471B90E1694F15799373A2669C6E7 finished...\n",
            "Process 227: Zx4EE17C1A79A4E378EA88BEA9904B740828B28D6018979D29 finished...\n",
            "Process 228: Zx4F4C96D1D988000B83C914F75CF613B65D523A6FE968772C finished...\n",
            "Process 229: Zx4F7C67B1B416E7F41724AED528381DCE36E232E1B962B78A finished...\n",
            "Process 230: Zx4FF8FA975791743419B6BAB67980A5A742C8B1F1C7CA1D53 finished...\n",
            "Process 231: Zx5018996AE3D312B7C7CC6D1D0E2D547ED07A494F0D3A709E finished...\n",
            "Process 232: Zx504AF1B40D661E3182C6531F7B46480E7F41078D06CDCFAF finished...\n",
            "Process 233: Zx504AF1B40D661E318808E342755F5F8F5F2176329B1099FC finished...\n",
            "Process 234: Zx50A6A79EE36E3CCD5AA6014B76839AC1847143AD49447EA3 finished...\n",
            "Process 235: Zx516EDA06AFC86A96CF83E05B1E2C72062F6B42B007CCC45F finished...\n",
            "Process 236: Zx516EDA06AFC86A96DEF620D64057D24304932BBB29032A2C finished...\n",
            "Process 237: Zx51A80B3E99993CFE8D49D032D315D5AA7470D7B51AAA3BA5 finished...\n",
            "Process 238: Zx51CD05AAA1BF2AF178052BEEE6720CCE39FDAF9ABB7F7EBF finished...\n",
            "Process 239: Zx52A1B18E58F40C8FB77C2A69696B8742CD80BDED294F9DEA finished...\n",
            "Process 240: Zx52C5BF85821A07F0BA9C171C7A9848144E1316D64660557C finished...\n",
            "Process 241: Zx52F220173F215CEE2AF44E2741D07661594B72C69AE57DEE finished...\n",
            "Process 242: Zx533EC33D04581309BAE79E02170CAA48037AB85859283614 finished...\n",
            "Process 243: Zx53427F159B58FC850825C73FE4FD5EE6F9F5004A129732CD finished...\n",
            "Process 244: Zx539AA3BFF2614BB114CAAD4E135B24474C2FD45BDCF3C18D finished...\n",
            "Process 245: Zx539AA3BFF2614BB11EC301F922DF1D6EB66F648CFD86B6EE finished...\n",
            "Process 246: Zx539DB79E41F6AA2BDC7E79B33C76FB6FD5585583B66DDB1D finished...\n",
            "Process 247: Zx53C966B8FF31C915F35CBBABB90687CADB06D59789663C41 finished...\n",
            "Process 248: Zx54187A4FBD409DDD063160262732D37E9CAEFA2A2FC29570 finished...\n",
            "Process 249: Zx548829E2295B777477EEF5AD7B52516483F97FE03FFCD0EF finished...\n",
            "Process 250: Zx54ADC117CB68757CD26FAECB856335BAEA518BADA3B1D562 finished...\n",
            "Process 251: Zx54E4C11D0D91C0320F543B0FCAE06DBC6E06E12714DD7B01 finished...\n",
            "Process 252: Zx552814BC181CA38B4610252231F024FFC655093C180B1094 finished...\n",
            "Process 253: Zx556FFA44D63AD311B1EA1654E65E580B12F368456EB8402A finished...\n",
            "Process 254: Zx55AD3019A3318C2B3949A3914CC9AC3C90BBF24D783964DB finished...\n",
            "Process 255: Zx55AD3019A3318C2B6C699D41E4EBE763BC4E47BF4E9BFD8D finished...\n",
            "Process 256: Zx55AD3019A3318C2B9B2E59E2B3FF6297E8A5FA91A1B64E5E finished...\n",
            "Process 257: Zx55AD3019A3318C2BD693F2094679AD6751F86FF222B86674 finished...\n",
            "Process 258: Zx55AD3019A3318C2BF1342646FC3BC5AFD28C776950E8D4C4 finished...\n",
            "Process 259: Zx560FA552A9EA24CC8B312C0989F2E7131DE48CD20C69FFCC finished...\n",
            "Process 260: Zx567CD9145A3FAD22F4F9AF5F7704C9AC0822FA6A2845A546 finished...\n",
            "Process 261: Zx569638AE4C6131C024DC3ACB924A14606A7FE61AA98AF107 finished...\n",
            "Process 262: Zx5697C4D4B57C86BAC72CF2508522FF72DB9C1398212C92E3 finished...\n",
            "Process 263: Zx570BE55F360243A2C82C21EADDBA4B7CDBBB67C1C675B6CA finished...\n",
            "Process 264: Zx570BE55F360243A2D789EA5346E536AA3B16516B7A428776 finished...\n",
            "Process 265: Zx5744CEC558A46B4B1C9CB6E9F1BB82DD31F624849A7D8889 finished...\n",
            "Process 266: Zx576D16727D7458A29DD6308F918A95629EBD04C50E0663C3 finished...\n",
            "Process 267: Zx585B8A00D898282575834078CEA6E95B517214E5BDA4346E finished...\n",
            "Process 268: Zx58903BF72C6A38433166E6F075772C175673B81B9F1F10AB finished...\n",
            "Process 269: Zx58B3541B1F7C60025FEE6D5327EF78531440992371F5596E finished...\n",
            "Process 270: Zx59081DADCE950F83F408A7E2B9243A95897D2AB71975AE9A finished...\n",
            "Process 271: Zx592AC19BC9D9FA058832C0A3BBF004D193EE9FCD53D7941B finished...\n",
            "Process 272: Zx59AF27E8861C2B84EA3D742C5BA50ED0FDABD819FEC40D5C finished...\n",
            "Process 273: Zx5A9FEA715FD1A8263F2E5B132F4C8BBD4C8F4DD842DD2A1B finished...\n",
            "Process 274: Zx5AA1D80CF63593C15D3C2765D610F5BA7982C25680FAF048 finished...\n",
            "Process 275: Zx5AE6C0BC2598BDD4418E7A8658ADA771F8FD493920A3575C finished...\n",
            "Process 276: Zx5B2EA8EFC623BB938351A9D7366D39863A1400448399461B finished...\n",
            "Process 277: Zx5B2EA8EFC623BB93EE133D50B26042A9BB1B0A00D0166B7D finished...\n",
            "Process 278: Zx5B4958EAA06DEB89D67B8BD142312D0F7310519CDB56C6DA finished...\n",
            "Process 279: Zx5B765CDC56B851B4598AF1200F042643D3195B7D11F263CF finished...\n",
            "Process 280: Zx5E17136591B2A37232A19F78B2FB7A148374C27F3E4AF04B finished...\n",
            "Process 281: Zx5E17136591B2A372477FADCF1395486EEADFD11F92592F3D finished...\n",
            "Process 282: Zx5E6AD13F5302AA05595B9EB5450DD27CBB58794EA6C7A614 finished...\n",
            "Process 283: Zx5E8347EB932D86FD061C76415E5274A2B4C198692DF29C64 finished...\n",
            "Process 284: Zx5ED102CA7FB8181668D560C18DB7F2D039681F36BD74CDFD finished...\n",
            "Process 285: Zx5ED676E3244BB1F8C12245004E0CBBB5E906C8181F79B425 finished...\n",
            "Process 286: Zx5ED676E3244BB1F8F29FED01A9C6EC7A22CC92EB941DE0FE finished...\n",
            "Process 287: Zx5ED8A3BACE488CFAD795B5660B429EEB6B818FE598C0CB98 finished...\n",
            "Process 288: Zx5F2AEE74B2E52EBF5A636F34F538722F96B95B952F107966 finished...\n",
            "Process 289: Zx5F2AEE74B2E52EBF6F3AB9AC2114C9935CCD157AD868C901 finished...\n",
            "Process 290: Zx5F2AEE74B2E52EBFD474D6D6E344A6FAECEA7E540513098A finished...\n",
            "Process 291: Zx5F4477ECD6AC7C4EC0081C65A0CEADBA6EDE867305DB7CBA finished...\n",
            "Process 292: Zx5F4477ECD6AC7C4ECB44EF66D9225614C4DCDE42A5CF50F7 finished...\n",
            "Process 293: Zx5FB948563D7915F08329339DBA9632722C0A554057C2AB47 finished...\n",
            "Process 294: Zx5FC5BB8A8DEDB54D8DF151F0E53DC6DF425F551F8C23C86F finished...\n",
            "Process 295: Zx5FC5BB8A8DEDB54DACD271062B296BAA0CCE2FCBF13D07D3 finished...\n",
            "Process 296: Zx600BB33B3216E05B3AC413C88A493360C21EE4F2375C48A5 finished...\n",
            "Process 297: Zx600BB33B3216E05B9B225F545650A4CA45BB1C63C3D2A2A8 finished...\n",
            "Process 298: Zx600E30623048158F7533EB1DCED6BE3B5202FFF03D4D6510 finished...\n",
            "Process 299: Zx60858041F3848EF43F3AF1650B34638570A767547A5AA32B finished...\n",
            "Process 300: Zx613684AFEC73B7A5AA16CA4069B403460CF4F594FA68CF3E finished...\n",
            "Process 301: Zx615BF0336F2C1E791E08E758A9D582776B56C66DCEBD5883 finished...\n",
            "Process 302: Zx61704E649960C4029C1C1AD27E6317C2F8C748C8B932A3AD finished...\n",
            "Process 303: Zx6255D6DBE1B906A9F3A402EC7F758DB66E06ED0CB2FFBF79 finished...\n",
            "Process 304: Zx62B066968229B5907BDD0B2438B643250368BBD932D0D7DD finished...\n",
            "Process 305: Zx62B066968229B590A10133BBF71E44E9F0616A9B4B736B4E finished...\n",
            "Process 306: Zx62B066968229B590EBB11C47F554D33E80C6E51634B8634C finished...\n",
            "Process 307: Zx6318BA5A929812A3EA20A9A6012BBDEAB8B71DB56B559150 finished...\n",
            "Process 308: Zx63194BF7E3385CFDC26585F0DF2185ACC740B745201AFBEE finished...\n",
            "Process 309: Zx636EDE3E4647747562CEE36581CC8883234F2231166B697C finished...\n",
            "Process 310: Zx636EDE3E46477475F68A5D49A7A32440949F06C39C0073BB finished...\n",
            "Process 311: Zx64A95AEC2BE98B00C48F17A4D5ECEF6081B0F041E66A9775 finished...\n",
            "Process 312: Zx64A95AEC2BE98B00C9CB7485C4517A67FFA4C7D5D78C5BE2 finished...\n",
            "Process 313: Zx64D8ABDFA2E7D305567FF5A35BD00F37D18A724E05FDE931 finished...\n",
            "Process 314: Zx64E8FCD44CF250DDF6FEA4135678D14B0FA63C2D8F5909D0 finished...\n",
            "Process 315: Zx64EAF1574DDAF8EDE415B3471C6EF446DAC86817AF514F35 finished...\n",
            "Process 316: Zx65269658C21EAC9802652A31DABC4D9FE8F885FE382BFF87 finished...\n",
            "Process 317: Zx65269658C21EAC987B7A7AEE55A1AB22A23D0BC79E0F8A66 finished...\n",
            "Process 318: Zx656588024899FE03C3CEC05B7B5778D041E1ECD352CFE59C finished...\n",
            "Process 319: Zx657D9745A22BCF4D734ABB69FE7048520DF1376DB1C13C35 finished...\n",
            "Process 320: Zx65B039F2B5CA9CD437E732E0B9E358CC5AC409AA867EDCD6 finished...\n",
            "Process 321: Zx66A0D23C9547D4B05E3A2C2D406455F5B9AED49E9BD81CB7 finished...\n",
            "Process 322: Zx66C236B993CD7FAFC2F125311C65147E643691D3B5C42826 finished...\n",
            "Process 323: Zx6727174D77521EE5B2C4F676EF887A75CEE9B74E4ED97F66 finished...\n",
            "Process 324: Zx67415A03D61E77340BB5A07721A9EEE79141C9853DE4F7D6 finished...\n",
            "Process 325: Zx67415A03D61E773414BD11A6A8DB2DEF90B76615A5E494F7 finished...\n",
            "Process 326: Zx67415A03D61E7734C5EB110B87EF37FC912D606A17F24F1C finished...\n",
            "Process 327: Zx67441E002546BA1D6C7EEF3BDC1E58825CC1E98E5BAE4BB4 finished...\n",
            "Process 328: Zx6807F4B56B7D076909FC86782C5E1231A9498349EA153C18 finished...\n",
            "Process 329: Zx6807F4B56B7D07692E6BE9484415FA09CE9C1D1E0F1AB0D7 finished...\n",
            "Process 330: Zx681A11F58D74D4599A6B2A227605EA0C1B77B69A7D2D12D3 finished...\n",
            "Process 331: Zx68514F0FF623A26E16658ACFCBAF06BB2F5824CABEE60F38 finished...\n",
            "Process 332: Zx696C242456C97E11A3BA8A04884698607FA2811493CECACC finished...\n",
            "Process 333: Zx698005FBCCA840800D6D5315F1EE49CFA39AB5E532D91B85 finished...\n",
            "Process 334: Zx6983E16FD09E59A77137CF4C90F9B854CD3EC63D4E914DF7 finished...\n",
            "Process 335: Zx6983E16FD09E59A7A4304A2E1E9870A3335CCAF2C16F4C3B finished...\n",
            "Process 336: Zx6A2D61812017EDFAFA14F333CA7CD54CFF7BA3827489EF68 finished...\n",
            "Process 337: Zx6A6B918136F89E64C6F45744F6CB3C010B3AB2D50B72118D finished...\n",
            "Process 338: Zx6A887B63AD55475F2484B04AC037056DDF7179FB3E5B760A finished...\n",
            "Process 339: Zx6AFD1A8ED05D371EE384AC2BF8421A38BE60F0A912DA7F77 finished...\n",
            "Process 340: Zx6B33B06C99F2514BE9D2E82E45B19C44CBBE035F7E17B9DB finished...\n",
            "Process 341: Zx6B36B1FCC373347CD82A62A9ABB7A987AF08526FC746A1B5 finished...\n",
            "Process 342: Zx6B714C12101460C52C133A7BDAD58B40301BB61DF002785E finished...\n",
            "Process 343: Zx6B714C12101460C54F1A626F8566E9BAD0EA737A57784718 finished...\n",
            "Process 344: Zx6B714C12101460C58457BD7C868E4711F1EA31991F0C39BB finished...\n",
            "Process 345: Zx6C2E49E5A10FF238DCB0F5E21F267A50C4132EFB02426EF3 finished...\n",
            "Process 346: Zx6C601C55643BC046FB5E0B957E9BE1D4D7FD4B1F6774E4AC finished...\n",
            "Process 347: Zx6C638D9BFE2F6F6DA32FF3576D00729299CDE6AE847F1693 finished...\n",
            "Process 348: Zx6CFEF464C113FCF500FF85095B28D6B6AA3D9138C1FA567C finished...\n",
            "Process 349: Zx6D601A7BDC8A50726539FBD1CCD040AF41E51715701CCD23 finished...\n",
            "Process 350: Zx6E4F40BA9C3B3DD587F74C4C9C3E1F55A5006E999087B426 finished...\n",
            "Process 351: Zx6E63C4468346B19BABA5627E439A103C894ADF645DF1126C finished...\n",
            "Process 352: Zx6EC130BB2F5E1ECB845D551B2761210EDF8867DA59252129 finished...\n",
            "Process 353: Zx6EC6B03372854DCB4444042A10D001CE18D091130CCCB466 finished...\n",
            "Process 354: Zx6EEF54C45F5D2938ACB60707F0C99019CA3D388C931E8FD1 finished...\n",
            "Process 355: Zx6F79649FE009CAFCA0846DE94398CB2D3566259CBFD0760C finished...\n",
            "Process 356: Zx6F79649FE009CAFCE973032FB8B733822FF1E6F1D98DECDE finished...\n",
            "Process 357: Zx6F9A86DB1959C933E05FB1586832FD90A346C2742BABBF81 finished...\n",
            "Process 358: Zx6FF2EB37C2EA7D75399976E6209F9A1AB7D5F70CCD6C48A8 finished...\n",
            "Process 359: Zx704DFAE6D896E5739551E9490C9CBDAD0EB751D39CA494D0 finished...\n",
            "Process 360: Zx704DFAE6D896E573D76A27EB451CBB8B20B2DD0C366904AB finished...\n",
            "Process 361: Zx705B3531CEB972E1F928E8425B89AD7DF17BF2D273C14ADC finished...\n",
            "Process 362: Zx707FA86CFFC26B0362484221AF3AD855F4AB921A47B28055 finished...\n",
            "Process 363: Zx709C61C9E271E65BFB0954073448C2BDCC1F496B07639C52 finished...\n",
            "Process 364: Zx70EA988D4E33BC00C76989F2FF828C0397AE1D94C4F1EDEB finished...\n",
            "Process 365: Zx710EA1D8309EC121ECE1420A7A6C998721E75E03F71F6BE9 finished...\n",
            "Process 366: Zx71882377B86909CE2C7110CA50FB4FEC2E803144C9A9F126 finished...\n",
            "Process 367: Zx733E40280941D5A0840BFD2F29D76952A88322C5D99A67CC finished...\n",
            "Process 368: Zx73549B6A40980CE41A0801EF54DDA1E5D9FCC7CB6CBDE1EA finished...\n",
            "Process 369: Zx73AF7FBD658B2F32513C6CDC15806C5E8BD8E9B8CABAF381 finished...\n",
            "Process 370: Zx73F7FEEA92E425410EACB44DD2FF4ECC3175F0034E2D8950 finished...\n",
            "Process 371: Zx744CC902CEFF398E5BFFDA5DAC03530EDCA34E098E7D8521 finished...\n",
            "Process 372: Zx749FEB71D265630FEBB01B7E68573CC22AE4EE41BDDCCBEF finished...\n",
            "Process 373: Zx766A344876F00BE04369DB7048D95965D644794560A8C2F5 finished...\n",
            "Process 374: Zx76E046BDD20F13BC9DF52FD603260826F3A33C213013279E finished...\n",
            "Process 375: Zx76EA0AAF9604A2B299435142D79C05C4848E505FBFB3327A finished...\n",
            "Process 376: Zx7859C612513D0CA669CA6F0A5F4BDBB73477628D42101B7E finished...\n",
            "Process 377: Zx7951881EF40FC42633A4A53A0E13653EEDD3AD8C6837E6B5 finished...\n",
            "Process 378: Zx7951881EF40FC42651E18D72C193BD61B85C56A1DFA1EB9F finished...\n",
            "Process 379: Zx7951881EF40FC426835655F2DCC4CCDF9DC96F9B99694109 finished...\n",
            "Process 380: Zx7951881EF40FC426F06360F413ECA9C2E6ED202A7202534F finished...\n",
            "Process 381: Zx7951881EF40FC426FDE57EC6B8481F168CBD526EE2EC764E finished...\n",
            "Process 382: Zx79D67DE4C64C5E5FC73196916AB5E19A69B2E230E335A57B finished...\n",
            "Process 383: Zx7A1F719E8B5B30455273FCB5DEC0C74A33BAE4D6D032DF70 finished...\n",
            "Process 384: Zx7A21222F0FF5E778316945EE1DFC7F0F3B1D06CCEAA59C8E finished...\n",
            "Process 385: Zx7ADA6A1993F1295DB4741D5821C2CC8DF205FB66CA563137 finished...\n",
            "Process 386: Zx7C1ADB5EC3F881C119CD62993F89148864B049DB14C5318A finished...\n",
            "Process 387: Zx7C5F892360CCBA6213B2028AD122A1DAE02324EE2546380C finished...\n",
            "Process 388: Zx7D0AAC73984A8AC95FD33AD2522F92587DF9B8371D7C79F8 finished...\n",
            "Process 389: Zx7D5AB573090376F781DC164A66E6BDA1FA3E4F8D8AEDF9EE finished...\n",
            "Process 390: Zx7D5AB573090376F79A9B8798AEE4C2B73CA9538E432FE2D9 finished...\n",
            "Process 391: Zx7FB045DDBDDCDDC6CD339BCD1BCB21923607C957CCA0D448 finished...\n",
            "Process 392: Zx800E47489EF47140BEE20BD13FE0BE47F9406FF9473A59D2 finished...\n",
            "Process 393: Zx8024D25AB9871F3D18E5A4DCF93B28F923CC7481341C493B finished...\n",
            "Process 394: Zx808CBF85580C8A524E90D1A1B7E63CA54AB01CE941892A2C finished...\n",
            "Process 395: Zx808CBF85580C8A52F625D7FC9667F12DA964A7194E5A900F finished...\n",
            "Process 396: Zx80B7A4D341349B1DEEC43695767B3092D0B6C145AC4AC374 finished...\n",
            "Process 397: Zx8104110A401AA0F1936937E0C991C0560D0BD7A52FA5AD62 finished...\n",
            "Process 398: Zx8139B3F5503CDA776780627D00478D990FE14D835009F4A7 finished...\n",
            "Process 399: Zx822B1193233F74F5A5E5D0ACC8219BF8AE4EFABE2FCB080C finished...\n",
            "Process 400: Zx82469BB018D926020D941A2CD7789B1FE69584EE93D61262 finished...\n",
            "Process 401: Zx82469BB018D926021A0DE68D53829466728F761F7A9FE2BC finished...\n",
            "Process 402: Zx826F31C25810C6A99F981287354D792E761C8429008CA0B6 finished...\n",
            "Process 403: Zx826F31C25810C6A9E11C65F8346F837853F61BA660429400 finished...\n",
            "Process 404: Zx826F31C25810C6A9F8FDC54DDAF33D8DCD5D1BD839A83538 finished...\n",
            "Process 405: Zx8311956639D7E7D4B356DC60FF69D205EADC526A489E6039 finished...\n",
            "Process 406: Zx835BE89BC06B937B9B23B4F1D90881508F079ADB12ABBFDA finished...\n",
            "Process 407: Zx835BE89BC06B937BA926418179E4FA07E6735C97C53A176D finished...\n",
            "Process 408: Zx836945F670A552472975ECD5BAD33B1D8FDB441859DC209F finished...\n",
            "Process 409: Zx83C22F6F75B8C1821DFFE750AC7C5FF7AA44F40803C9AD45 finished...\n",
            "Process 410: Zx842609653BFCBCE7E6E3A08743153D621778B34268156550 finished...\n",
            "Process 411: Zx84C6541C8F8016148DEE71E2452989CFE24A78B33E600C22 finished...\n",
            "Process 412: Zx85587FA5B4B2A9CC5C006A0FDCB2BCB0C43E3C187AE0E654 finished...\n",
            "Process 413: Zx85587FA5B4B2A9CCF771CA89EF3F2F3D8CB02CD05A59A8CE finished...\n",
            "Process 414: Zx85CDD7AD4B9541C999C60977FF7BD08E14321F60BA772359 finished...\n",
            "Process 415: Zx85D50811D1EA1A11B03AB2CE32A6A66D3FC2703A2D3B9DB3 finished...\n",
            "Process 416: Zx8622D93E1FDBB9901E53A50C9646AAB037D44C6BAE148A96 finished...\n",
            "Process 417: Zx86E8594B94A97B534BC20D7FD912495340BD42C4D9CFA918 finished...\n",
            "Process 418: Zx86F99E7E390C00CB15F6C06905D1DB9D85D0104D663448D6 finished...\n",
            "Process 419: Zx87AD2F6D0872195177833288BEC6C7C75475952000F32E4B finished...\n",
            "Process 420: Zx87AF1F682BC71658E2CFA9467AF58FBF1E6EA5854B301C38 finished...\n",
            "Process 421: Zx881D4370D4E2B3EB2E6825C81E19A9097CA157CD762C4E76 finished...\n",
            "Process 422: Zx884CC84AEA488B322F652EA32D97F65A0B1FFE335A73D87C finished...\n",
            "Process 423: Zx885197EA25ED1851808083B77B6868C3530394B3C9D55E19 finished...\n",
            "Process 424: Zx88ACB7F8111B2813505A7A561719C7A0C8890C9F8CCEFE4C finished...\n",
            "Process 425: Zx88B03F6A7F5A1AD08A8578B8F8DFB5CDAACC33CB497FEC37 finished...\n",
            "Process 426: Zx88B74210C12C5EACAB1558A7CFDF086BFF154B63C8EA1E4B finished...\n",
            "Process 427: Zx88CDD4E017AF5C828FE5F36039B1951EB155BD25D0B97A04 finished...\n",
            "Process 428: Zx892330D71B2D63CAA1B4F53109D8A1A9B1A54D4C130413FF finished...\n",
            "Process 429: Zx8A4DCFA5AD1BFFBBF72066AAC854D02C47E1EC6D16C33E9B finished...\n",
            "Process 430: Zx8AED30772B9345517DA7A78056E7C70C0336DE70F18FB786 finished...\n",
            "Process 431: Zx8AED30772B934551EAF242D511B28908E41DEC9953E2003A finished...\n",
            "Process 432: Zx8AFC7B72C841CC55B4428EE569AA872C993B0B82200BAECC finished...\n",
            "Process 433: Zx8B007FE85539264AE654496D82273C5857447B309FEDD6A1 finished...\n",
            "Process 434: Zx8B08329735765986677EB5A08765BBE99C49578728989F1E finished...\n",
            "Process 435: Zx8B381C6BB4B224AAFB36137CABD70504FB29B4BF6966BAF1 finished...\n",
            "Process 436: Zx8B4DDDE2EF0F838C1E46F70D88C7C7C0A1274CC062AC821D finished...\n",
            "Process 437: Zx8C2082663880EE021B90E42E51461164FC3DF5AF0FF3B195 finished...\n",
            "Process 438: Zx8CF89665CB88F1FFB96AA9196091B5DF0641059D070B07D2 finished...\n",
            "Process 439: Zx8D3C7550919257B9889A79C1A99B8EB256894F128FCB63B5 finished...\n",
            "Process 440: Zx8DFA64D65C82A9504675F3BE68244D5DB54E1DEBBC651FC2 finished...\n",
            "Process 441: Zx8E3B91ED97D86D10777008EF1942E22752901949BB33D1EC finished...\n",
            "Process 442: Zx8EEE7D7746F8BC3E0E5099D301AA0DD58DC232C21AF1598F finished...\n",
            "Process 443: Zx8F7A2D7C8E918A752B8C9B2558F538DA1B59E9EF05C0DAD0 finished...\n",
            "Process 444: Zx8F8A147874051D87580335860FFB6C12566887B9EEFC838A finished...\n",
            "Process 445: Zx8F95BFDF3B3FC9F85913828B2A504CBB45535F3A81F78ADD finished...\n",
            "Process 446: Zx90019D6EB6805787B122BE1359C1647FCBEE4D9179EB1A9F finished...\n",
            "Process 447: Zx900F64CC3D30629A754ED04007971BD74531C686C8541AEE finished...\n",
            "Process 448: Zx906BB2AE190BB79BAFBF33A49394FEC1628B8B1EF264FFAC finished...\n",
            "Process 449: Zx90A7EF10C9806EEFF37EB4C85FF08E0D7923700BEDA3BB89 finished...\n",
            "Process 450: Zx9178DA08432AE6C72E651926E66C439966406A8A9B90EDCA finished...\n",
            "Process 451: Zx918F8C7BBD3F587FD3F2673BDB7C9998E14206BD7E3B0398 finished...\n",
            "Process 452: Zx93014DFEDEF5C296DFA22750CE2784F183A3019BF3325C3D finished...\n",
            "Process 453: Zx93EC2D1600D91567375B0ECB647508DA93F1F35D76B24C23 finished...\n",
            "Process 454: Zx93EC2D1600D91567B00A1006B88CD5D72005520F5B45A7F1 finished...\n",
            "Process 455: Zx949BBA19176EEEEE12A38BCF6569054C88BD26578D5F6D2F finished...\n",
            "Process 456: Zx949BBA19176EEEEE5E81F9595B665E43DA1B7CDD046003BD finished...\n",
            "Process 457: Zx94B02A482BADC62C022512769E16EAE1B10C6D0A7ADC8B45 finished...\n",
            "Process 458: Zx94B02A482BADC62CAFC39992E43329F1D9D6A705ED7FD8D6 finished...\n",
            "Process 459: Zx94B3091A70945039B59E48553186CB022A5EA84DF4F1805A finished...\n",
            "Process 460: Zx9574DFB02B6FB06A36D9BE171710E1D155344F79C63C788C finished...\n",
            "Process 461: Zx9574DFB02B6FB06A386AED7F477E6F756B81014B1172904D finished...\n",
            "Process 462: Zx9574DFB02B6FB06A99FFA85CF26EDFFB5AC29A1E7968F189 finished...\n",
            "Process 463: Zx95760F4DDFEEDF4CD00784402D23636239E31D7EABCD7939 finished...\n",
            "Process 464: Zx95B9DA7994352855AC56A8423C0A0F1B68A3748E99C6E77E finished...\n",
            "Process 465: Zx95F33E17F7F8218E9FA35FC3D79D8EB9E02019709C3A5EC2 finished...\n",
            "Process 466: Zx962763BC29A2C4FC1D3F0B87FFA4D3256B5864D20EA5E8DA finished...\n",
            "Process 467: Zx9687D8530B98BF197ADF4F6311C64517BF27DA7643D6F7F9 finished...\n",
            "Process 468: Zx96C0C360AEBF01B06DB0555FDC9B7FDD5B3D2E3648428AAD finished...\n",
            "Process 469: Zx9727ED2AF24A37B21185FC63967F6988A58B21BCBF52E846 finished...\n",
            "Process 470: Zx97928AD5A213289C6B95B389DF91F14F90ACD2828C8AFD57 finished...\n",
            "Process 471: Zx97E643B8E4A5DEB351E18CB763B8CFB27D5A870812A6C453 finished...\n",
            "Process 472: Zx986577E2EB1057F93287CCCFEC27380501F7AF20DF2B5CCB finished...\n",
            "Process 473: Zx986A45AC9267FF16AB73E0A33F49A60A615E7B4DC3974643 finished...\n",
            "Process 474: Zx98BEC5DDF705BC23BA3D7DEAC87D8FF588F07F47D9C9492B finished...\n",
            "Process 475: Zx9977B241B90F7BC8B9BB80086A4DF457D122DC866D682F4D finished...\n",
            "Process 476: Zx9A0E70ACF621144B79A903E7F63D1E9CCD4F69EBEC9BF7BA finished...\n",
            "Process 477: Zx9A0E70ACF621144BDE9A072548A6C14CB9709B8BB0C00FA9 finished...\n",
            "Process 478: Zx9A29DA6E21ACD7A0B49FCF887A0BF4FFD207CA7A3CDE7F85 finished...\n",
            "Process 479: Zx9A37AA6BF8B44163F6E9BFF94168F0F0091DC98C3C9C19A1 finished...\n",
            "Process 480: Zx9C2634AFDDE5A83EA11ECB13AB6417BEB06B0D5E1287C3FA finished...\n",
            "Process 481: Zx9C4D13B3283A0D24249372719EB45237B43F4F1DA6F5BB9C finished...\n",
            "Process 482: Zx9C4D13B3283A0D2496EAFFCF4B47A36CE7B8803204238899 finished...\n",
            "Process 483: Zx9C51ACC8639C583BFC19993D6BE6C355E6AB9A9570D4F21B finished...\n",
            "Process 484: Zx9C70756B5B6BC8D316D57140CC7A53DF3802066E4B88F2ED finished...\n",
            "Process 485: Zx9C70756B5B6BC8D35F998E8DC0978B1B683122D560D25B45 finished...\n",
            "Process 486: Zx9D05ACEE4197AAC102E263F3A4A3CB86A5AF5A25B5BB74D7 finished...\n",
            "Process 487: Zx9D05ACEE4197AAC1772BAC5BEFF54C1C4C50B7CC97F54B0C finished...\n",
            "Process 488: Zx9D18EA978D3BD10A326DC4749DD01290C243E5DC9963868D finished...\n",
            "Process 489: Zx9D18EA978D3BD10A39721787340925858FD09F4E7B168615 finished...\n",
            "Process 490: Zx9D28426F44724AE86117620C1784533EF1B501151875EB8C finished...\n",
            "Process 491: Zx9D6CE06969D7A50F451E40C9629E57D88E230878E019241C finished...\n",
            "Process 492: Zx9DD6040F52E36EDB6C0385CCD5F1D725BBC97B6345A59F60 finished...\n",
            "Process 493: Zx9E1D272B5003FE2AB53F6BE7CE3E5B7F905643402B415AA3 finished...\n",
            "Process 494: Zx9F55333E9B6FAB3A3A2B43885AAF93774464C16E9F455E53 finished...\n",
            "Process 495: Zx9F70740616E28A470CCC31414C246AA78A7A26D407DD2431 finished...\n",
            "Process 496: Zx9F900B383927BA7598F4791BC0CD23B85C9B319EAD69A8AA finished...\n",
            "Process 497: Zx9FAE5E8EE578A07677FFED34689A2B272F1FD4FFFC9E23B1 finished...\n",
            "Process 498: Zx9FAE5E8EE578A0768598453692C15615CF0BB5909AE24784 finished...\n",
            "Process 499: Zx9FAE5E8EE578A076899C0329C54F8A6BE48B2C4B47965266 finished...\n",
            "Process 500: Zx9FE816B863546C24945213D4A35C9F890BD4EC91F238517A finished...\n",
            "Process 501: ZxA0584678F6AD9E851E8AA69B22B44DB4BD85A9E5FD2F285A finished...\n",
            "Process 502: ZxA077D5FA438E8FB93945C1D84AAD7586E7DC586B08B92F30 finished...\n",
            "Process 503: ZxA1CECA46F4B0B1A28F45357DA3B8964AB5A446B2E2C27FD9 finished...\n",
            "Process 504: ZxA31B066CA4D3269F11DEA8AB97B59258C7C00A369871B1CA finished...\n",
            "Process 505: ZxA31B066CA4D3269FD8002A9BB0327A8EAB8B562CBF93C146 finished...\n",
            "Process 506: ZxA321207AC10B29464A450F8C1D22603E48CADBC8083F434C finished...\n",
            "Process 507: ZxA321207AC10B29466F29532180D4D0BF1DB1D1CAAD5A7497 finished...\n",
            "Process 508: ZxA321207AC10B29467B512EE00066F7504C3284E8A1FA466B finished...\n",
            "Process 509: ZxA3860A70B3B944A7ACB74339F4972794B2603E38D69E7EA0 finished...\n",
            "Process 510: ZxA3D1C1319FB1EE466697013B492A537DF50B2CB8BBD22A87 finished...\n",
            "Process 511: ZxA3D67DE1137F5382DF1FA2D1FCA81908745EFC3511F4CD9C finished...\n",
            "Process 512: ZxA3D67DE1137F5382F34F4A0940395DCAA7DD0722E3E67493 finished...\n",
            "Process 513: ZxA3F00A9B31186E9B120A21B2F8654B895A6CE7A7C2B7010A finished...\n",
            "Process 514: ZxA493CEB18FDED9A909C361632B6BE7F124261E9AE0B8153F finished...\n",
            "Process 515: ZxA4950C0ACC3EF8B27254E91E15CC969DDF9BF7C200A2B945 finished...\n",
            "Process 516: ZxA4B4F8BA185766C22D4008861F7B1E77EF8FDD5FC608D82E finished...\n",
            "Process 517: ZxA4B4F8BA185766C2DD74FDE9943CC08DA93A93E8E1DFAC15 finished...\n",
            "Process 518: ZxA4D59B81F2E473A627002B789E7971D9B33E9549990A73C6 finished...\n",
            "Process 519: ZxA4D64354CFBAA70DB029AAA999531939E9DD4807CC0ACCC2 finished...\n",
            "Process 520: ZxA5736BF1D6548AC69E1D384152F062008F77D25050E397F4 finished...\n",
            "Process 521: ZxA587DD3F3B7DEFF324487D39123C2C626E291DCF7376E42D finished...\n",
            "Process 522: ZxA5C007B2167B56E373C34A0053EF963CFBB1A2E856879D26 finished...\n",
            "Process 523: ZxA659E69F833B05BB21DBB10048F9F43AFD7562CA75E089F5 finished...\n",
            "Process 524: ZxA66CEAE1B2351EF9061F5C2EF272C6020662D2258D1784A4 finished...\n",
            "Process 525: ZxA66CEAE1B2351EF9A123CEE1F7F017EC1466289E519D9E28 finished...\n",
            "Process 526: ZxA6885ECFAC658140234CF7659E0C602A21901A78F60E7F77 finished...\n",
            "Process 527: ZxA6E61E4E15A62519AAAE723617782AB9F2DA93CAAE5A0219 finished...\n",
            "Process 528: ZxA6FD89D310764F7745439AE747297835DCDE8439C089EC4F finished...\n",
            "Process 529: ZxA8783853AC1492F1BEECA64B03416D3BBF7BED1DE0985EA3 finished...\n",
            "Process 530: ZxA88C8EF3B0DD7C105F06B48C151FB6813378C955C1EA6203 finished...\n",
            "Process 531: ZxA8D32A5ECB8168C7F4604548458D9F688890E7B72A77A1A8 finished...\n",
            "Process 532: ZxA92FB80B3A6C412260E6651B0695D3E4BB37DF4B0B958496 finished...\n",
            "Process 533: ZxA9699F56C35B1D82E9703F233BD3208C31BEBE3E7907731A finished...\n",
            "Process 534: ZxA9790D652CB6D05C92E6AA5B2A87CDF102B6B5C8B92EB30C finished...\n",
            "Process 535: ZxA99F1F57C0D78BB4975028D7451513ECFA1F8FDCC1D8291C finished...\n",
            "Process 536: ZxAA273BD453728DAC178542491E52536C17E294ADCC76CB08 finished...\n",
            "Process 537: ZxAA4A09DA10FB3BF1FD33955272CCB989E4A91230EA99B1D0 finished...\n",
            "Process 538: ZxAA65D147C435CAD5D711D4D03CE7EE6CD8FBD0995F71F8E1 finished...\n",
            "Process 539: ZxAAC0790F72C11A212DEA673071C71F172814ED2C4FBE33DE finished...\n",
            "Process 540: ZxAAC0790F72C11A218649543318C0B0934E8AE52E0C790A88 finished...\n",
            "Process 541: ZxAAE23650B9B4AA345EB7CD76F65A787606B6A4C55C368DB8 finished...\n",
            "Process 542: ZxAAE23650B9B4AA34FC19B3EB0C8AD9B558DF076EA062D893 finished...\n",
            "Process 543: ZxAB1E6165A4F97FA4FE3FB7CED514D82A0D51BBA8DB0E2996 finished...\n",
            "Process 544: ZxAB6294B37A449AA964BC84B740714D10CD41C7D4C33D551F finished...\n",
            "Process 545: ZxAB8413E050E6B483F28D7CEBAA5E4FCD6BE77076D62CC03A finished...\n",
            "Process 546: ZxABC17CFAF4F6320E505A7C6A13181DC809ABF975501DBCDE finished...\n",
            "Process 547: ZxABF6FDD87B0B73F19B814C758A8894708A51B9B5EB5CC401 finished...\n",
            "Process 548: ZxAC0234ABF4E1D10F4AD0FD22EFBDFD8396669E8B6915E601 finished...\n",
            "Process 549: ZxAC7AF4D4AA93212033604DA258A3C5D6345F8A2537466754 finished...\n",
            "Process 550: ZxAC7B1B38B96FB7BD667F7AA8D95FA2E3AFDAFA42631FE379 finished...\n",
            "Process 551: ZxACB9617CCE03C1D8C28CFD4B649F9EEB1424D85723BDD5EB finished...\n",
            "Process 552: ZxACC4447A6BA1EC403FAB6F640D08F5A88F6A29DE3377AAA9 finished...\n",
            "Process 553: ZxACE4DC150A104C59EAB2D90DEA73A51C71F3C5716FF3FA96 finished...\n",
            "Process 554: ZxACE4DC150A104C59EBFB93F5244D1163F4F88256C211F9EF finished...\n",
            "Process 555: ZxAD760D383496BF993B7C3CEF0B9AB2E3EC475B14006F010A finished...\n",
            "Process 556: ZxAE238E8191029A131318F8CCF587A791E2CC0BD5F7D57D80 finished...\n",
            "Process 557: ZxAE84E65DFAE5468A0DF71C5CBAF7E394833897B064792C49 finished...\n",
            "Process 558: ZxAEAB452B8148E0693BE2B17C694B413B079525301BD6871E finished...\n",
            "Process 559: ZxAEAB452B8148E069C525E7AC43CF55113D042814C416F5E4 finished...\n",
            "Process 560: ZxAF3DA5750B69E9563B8455022C045F1238ED679D42F2FCAF finished...\n",
            "Process 561: ZxAF3DA5750B69E956D4F2ADDC3AA55218AF66620AA1BA92CB finished...\n",
            "Process 562: ZxB03C746D57B71A3D860F8A8DA5FF0351F1A9C6BF623710A3 finished...\n",
            "Process 563: ZxB06BFA95ACC19A1BC118657AD2BE2BE1DED5318B7CE6DC30 finished...\n",
            "Process 564: ZxB0B65F16B756C04C10DB557AFD1ABF998061A1044CE55F0D finished...\n",
            "Process 565: ZxB21FB0DEB2B1D4EF7B1AC7D8513AE12E32E302099A6530F6 finished...\n",
            "Process 566: ZxB22D1878278D3BF03FDC7DE7C41FF35397D34E011BBC1D5A finished...\n",
            "Process 567: ZxB2377D8D34D0A21075B50F5899C98EAD9EC1ADD69A063446 finished...\n",
            "Process 568: ZxB257D7CAB6A2BBB1FC9E3FB91F79D11FB72D53418B2AD7E6 finished...\n",
            "Process 569: ZxB304722538ECC8C844777B65CEF009FFB10289254AD0B202 finished...\n",
            "Process 570: ZxB37B766FA98EB172F4358F562A02176F61F691DA7C1AFBCE finished...\n",
            "Process 571: ZxB37E1CC1CCB0A0DC0B3D60AD80125B43ADAAE0C8717CC0CC finished...\n",
            "Process 572: ZxB37E1CC1CCB0A0DC5C9448C89F09222BA2AE06CAF45A4135 finished...\n",
            "Process 573: ZxB506B2272F125EB0A5851A203282C03E5F16118AA97798EF finished...\n",
            "Process 574: ZxB5837FCBA699D78F704AB333AE198A5DC67F47FE18BE61AE finished...\n",
            "Process 575: ZxB632718A589D2E6979A0795C786A12100D22627F2BBF3CFC finished...\n",
            "Process 576: ZxB75028940E6684147107D401A7E501BEA366F6EE3A9F527D finished...\n",
            "Process 577: ZxB76402A4CB4B5D54C00A30F3E999F71D29DB17A87A63228E finished...\n",
            "Process 578: ZxB7B55BFB145A343D06B37D039EC47901EF9B1D11A836893F finished...\n",
            "Process 579: ZxB7B55BFB145A343D3326E0AE0CF6188183B10F3FB55D6E51 finished...\n",
            "Process 580: ZxB7B55BFB145A343D49B4E988FCCD3DCF867EE9B954124CC6 finished...\n",
            "Process 581: ZxB7B55BFB145A343DB765258B0168F4083BE1972BD26F6D27 finished...\n",
            "Process 582: ZxB7D0B8532AC67796F7A9C1CD3F5D0E322EA7EF5992C6CA28 finished...\n",
            "Process 583: ZxB97DC74E3BD1FC3EA2A39E78A59307BC77D5BCFB817840A0 finished...\n",
            "Process 584: ZxB98B85147CC28210B6234DA9EB7291C8671FD05EF1B163A3 finished...\n",
            "Process 585: ZxB98D6A25EFB6B46257F13934DCBB67D67AABF1C197EBE918 finished...\n",
            "Process 586: ZxBB3DA9A26362010408F93623114AC6FC48DDF06AC08A330B finished...\n",
            "Process 587: ZxBC48DEDAFC634693369C437ECA036D138D526992710C1E35 finished...\n",
            "Process 588: ZxBCBA63BCCC1F7498AA92F4AF08511FFED09105BBFC63864E finished...\n",
            "Process 589: ZxBCBA63BCCC1F7498FED5EE52802F4CB8572148F71BB5DEF3 finished...\n",
            "Process 590: ZxBD12CBC5C10EDBB74BB5F0BD1DCAE7CE747854FC26ECB0BD finished...\n",
            "Process 591: ZxBD18E2DB7C51055D5BA0317AF712F4D62E832C8FF35E916A finished...\n",
            "Process 592: ZxBD18E2DB7C51055D98D919A70E777B443B1839383002FDC0 finished...\n",
            "Process 593: ZxBD701431A8CE2FCB64098D585DF85DEA5181054BC20287D9 finished...\n",
            "Process 594: ZxBD795C706A61AD0B20883C21877B09AFE59A5712FEC79EE6 finished...\n",
            "Process 595: ZxBDAEDDE98351E478390DEB26B963A196E4A1B3D14C84E4F9 finished...\n",
            "Process 596: ZxBEDA1D54EFEE77C5738FB5212C79AF06F67D93F2ACB61181 finished...\n",
            "Process 597: ZxBF0F698B411246917A364BB025AA55E8D9B87833BB0D243D finished...\n",
            "Process 598: ZxBF9F6B8246A17E801F8444628309579BB19B24E8CCEC8153 finished...\n",
            "Process 599: ZxBFC362B2190DDFF8D3544073C39876A387B7143312625D30 finished...\n",
            "Process 600: ZxC00AC887E580A4399B5056E80AC55C95B43C634576F25D38 finished...\n",
            "Process 601: ZxC03412C145236A975609D495BC44B224260C3D9C4B96F23F finished...\n",
            "Process 602: ZxC12A3E53C68E43C08218A1D261005883B0DF75AB7EC74631 finished...\n",
            "Process 603: ZxC21457C628454D036163771228053A7B04598F4CE0729DCE finished...\n",
            "Process 604: ZxC302B531947E9D201CDC1FED08DC86F9DA4EFC29D26F9395 finished...\n",
            "Process 605: ZxC406494721881851E1F496D5B54F4BCAD696815C35261E8B finished...\n",
            "Process 606: ZxC503A28B6BA92D6C0C9D87384B3B6CF6823CCA627A333938 finished...\n",
            "Process 607: ZxC5A60F462D64FC58AE3EF3CFC49C43D1F431325347CE517D finished...\n",
            "Process 608: ZxC5B47FC8970E84C0A97545B64C3ABB98FA94324938D6CF7A finished...\n",
            "Process 609: ZxC6318FB836AF67167CE6490FFAE77E15B56B251B3A041BB8 finished...\n",
            "Process 610: ZxC737C208E6570BA6984B75AC38E3C1588195434CDC017712 finished...\n",
            "Process 611: ZxC73F3156008A07EBD69E384ECE987A0EF33EABE28189C16C finished...\n",
            "Process 612: ZxC7727DD69A597334CAC5442CC8D6A29205AD44A84A5D7413 finished...\n",
            "Process 613: ZxC77C44FFAF20FF4D0097F83493E57B79C4CC5340939DE0AF finished...\n",
            "Process 614: ZxC826DAC67B41123025DA20E3AD13E51B6635CBC9F77937C7 finished...\n",
            "Process 615: ZxC8B75DF8D012DD456F86FF58D58AA7094D2A7E810CDF8B89 finished...\n",
            "Process 616: ZxC91A03F282E7ACD722E61B901D4E1C17D67E09F5A338B54B finished...\n",
            "Process 617: ZxC947111E5302673E7B5336FD32C66BE6ACDD4B0D88053726 finished...\n",
            "Process 618: ZxC947111E5302673E8F1E6011EBDEB6DB454BBC84348ED44D finished...\n",
            "Process 619: ZxCA065A9EBA3CD2FEBF2D7988CE5C02639004993FDACC584C finished...\n",
            "Process 620: ZxCAE3BA395D8A16C03B99832D4D91B87170F2E863B2B502C0 finished...\n",
            "Process 621: ZxCBB6AB235F8ED687B2E5F9B7E53A17774B138022B5AC6C06 finished...\n",
            "Process 622: ZxCC42A7155619FA371FB3DB2B935EACC3D6EBD78BBFB45C31 finished...\n",
            "Process 623: ZxCC42A7155619FA3723A3480D50BA7AEF6E56FB0AEBDED37E finished...\n",
            "Process 624: ZxCC42A7155619FA37696F6AC52A2BFB096D4099EADECA102B finished...\n",
            "Process 625: ZxCC856535297BF790CD4E1DD7BE48287AA4388D720C3EE609 finished...\n",
            "Process 626: ZxCCAD69483E1ACED22C04C1D9E52283557FB83E247458ED16 finished...\n",
            "Process 627: ZxCD138093124CBE786F17D95DA59451835AABC33BC92BFA08 finished...\n",
            "Process 628: ZxCD257EAFFF590C8D384A40AF09D935286DF87F244B7F3775 finished...\n",
            "Process 629: ZxCD32F5B7681F372A88B3BBD26D9A96CC175CE6CFB96DCD5F finished...\n",
            "Process 630: ZxCDA55434361C322D5A7B1D1BAF7053A6FE617652236BAFE6 finished...\n",
            "Process 631: ZxCDBAABEAFF0945F2DA1AD4FCD880F23DB474DA1FEF110000 finished...\n",
            "Process 632: ZxCDBAABEAFF0945F2F51DDE708608B8FF955E96D01442BFCB finished...\n",
            "Process 633: ZxCDF84F878A35674F0EA93802F8AC19331D291374E53ABFF3 finished...\n",
            "Process 634: ZxCE3233B397229FB57DAF857481BD37BC969F4FA2ED9DC368 finished...\n",
            "Process 635: ZxCE7B50D10790FBB39FC1B6628A65F67A6C2985DB420ED52D finished...\n",
            "Process 636: ZxCEAADBFE3E9E3BE3C5826BBFA949786D726FF1ECD0F66550 finished...\n",
            "Process 637: ZxCEE7370FFD5B76396A645657D137C9BDF605494DD491495F finished...\n",
            "Process 638: ZxCEE7370FFD5B7639DB5450230398A3E2755399858B4FB4CF finished...\n",
            "Process 639: ZxCF53832A87A2A46F03F446DEA9CBDC35495D8AEDAD135C28 finished...\n",
            "Process 640: ZxCFA9C6201E4F0D869A606586FE8E4F72A47076447E1C019E finished...\n",
            "Process 641: ZxD0A2B4448866BE260C17D6EC02D17FE93428DE78EA7D891E finished...\n",
            "Process 642: ZxD0D2911E085A983D6671361E4B4C6D3FC7C35E31ACDA7D2D finished...\n",
            "Process 643: ZxD1B631F69DBC3DEBF37414EEB04811A4324DA6C04CF7755C finished...\n",
            "Process 644: ZxD246E0861FA461FEF9102BD21868EA7DA8E53DD651292A31 finished...\n",
            "Process 645: ZxD26D574FB8A8997517EAD6CBA252D0260177319EDE6F8B2E finished...\n",
            "Process 646: ZxD26D574FB8A899756132B8BFC67A656D4F934414F840EEE7 finished...\n",
            "Process 647: ZxD2F758309F2A7F030892DF6DA54A0FD72A5F54C5F7525E21 finished...\n",
            "Process 648: ZxD2FBB4FF1C67CBFF9F74149571CFB50D96778C44FB2E6925 finished...\n",
            "Process 649: ZxD3A1E3E05CB6DAF6253A186B00684DCF2B1456D2C8A4C6E4 finished...\n",
            "Process 650: ZxD3CB0C4524F67A4D1B248517BD74525E363D1A47170D6D9E finished...\n",
            "Process 651: ZxD3CB0C4524F67A4D646342B31322E3423F01E5FC56377C1A finished...\n",
            "Process 652: ZxD3CB0C4524F67A4DC5FBFBA465B378E9AC0BACDD0EF9709F finished...\n",
            "Process 653: ZxD3CB0C4524F67A4DE1B73D2F73ECB0AD3A977955E0723A65 finished...\n",
            "Process 654: ZxD3CE7A44D5758F55184AD0B489A4B11590D73AB825543485 finished...\n",
            "Process 655: ZxD4239CF331412759E7CB0E19371370F77FB73C911058F88F finished...\n",
            "Process 656: ZxD4239CF331412759F1486169DA0268914B82EFFBAD8DCCE8 finished...\n",
            "Process 657: ZxD4C1AF01E7091BC3AB7EAE60CEAB8E356341351816C62D07 finished...\n",
            "Process 658: ZxD4C1AF01E7091BC3D79A3DB1D0455BC0C143FAFF7D3B1036 finished...\n",
            "Process 659: ZxD4CE4B3B95995BE6E2E7864BDCEBFCDCF32B2C8F5579C682 finished...\n",
            "Process 660: ZxD4CF37EF147DDEE980BAB4F5256CC86CA734F199E5512303 finished...\n",
            "Process 661: ZxD5641DC2CF623756BAD8376E4F115597BE8498D65B27171B finished...\n",
            "Process 662: ZxD5E948C05461036341B88C0FFADF9B249FBE732D0D04EE04 finished...\n",
            "Process 663: ZxD5F8B7159FF3E7A2505AC148847D33C0617D505DE63C90DD finished...\n",
            "Process 664: ZxD60E89EC0F1BAB99880FC7C708FCB91A8C6C9016A4C07EE1 finished...\n",
            "Process 665: ZxD6C4F406BC86A11674870FC931D83E6EC6103F574DA73EB6 finished...\n",
            "Process 666: ZxD6C4F406BC86A116D7BB2ABC21FCDFCBA4130E5D631FD37D finished...\n",
            "Process 667: ZxD6DF80C967D2E90E1C9C5C27C1E582E828600D58A5E60075 finished...\n",
            "Process 668: ZxD6DF80C967D2E90E940E324ADA5DC75FB2EACEE9B975DC65 finished...\n",
            "Process 669: ZxD6DF80C967D2E90EBC2FEF38B1FF4CA7300C08C43BAD9AF0 finished...\n",
            "Process 670: ZxD71EEE470B02A3F9A6E9392C61F29ABA2BF148719238E49D finished...\n",
            "Process 671: ZxD75CC02AC0569F138B2A31126FFDC8E423AEAF8780510D07 finished...\n",
            "Process 672: ZxD7FF1A5CCDB3268EB8F0E8BED1F6BC4E036E21F79A779D91 finished...\n",
            "Process 673: ZxD8B230C0D0BEF0B9672C0DC060C5AA5FA3004A55B570427D finished...\n",
            "Process 674: ZxD8B95D482831EFF00D2BB3D481433C0A924C3D020E8A3231 finished...\n",
            "Process 675: ZxD98473A9FF420798519F7DE551DA5AA0E3449DD102379136 finished...\n",
            "Process 676: ZxDAAC876CFA3449393E221D61C00718DF4B6518BE90AF2800 finished...\n",
            "Process 677: ZxDAAC876CFA344939B56A8FA4A9C2A0F0CF2E01E5A7BBD71F finished...\n",
            "Process 678: ZxDAADCC811EB06CD6036574077638DB70FD14E6F1C6BD4DA0 finished...\n",
            "Process 679: ZxDAFFB1D590F380D577E92A3E75618B9A54A1E02F3C6B05A2 finished...\n",
            "Process 680: ZxDC02DACADFA8F2EE23859AFF42F9C5EEADD9086044C13C2F finished...\n",
            "Process 681: ZxDC7428EC3D364278C8C572A91D43CE78DBA3BE21C586EB3F finished...\n",
            "Process 682: ZxDC93EC2BB81B007F33928801B97350A6D04B45D18D49D8DB finished...\n",
            "Process 683: ZxDD934EA54F9887DE7226F9600B5832B9F911E437BB3C7E8B finished...\n",
            "Process 684: ZxDDC98783970DFB11D4A232662B73F4B55348FEB38E7FB3BB finished...\n",
            "Process 685: ZxDDCE376763976E9B39DF8D27930E5D778F03F9FEDDBC93FB finished...\n",
            "Process 686: ZxDE6E31871D3BCA3D46EE27E9AA51F93AB021F98290A56E90 finished...\n",
            "Process 687: ZxDF0A09367AE792F5AC3F13CE884AA881C81F5D851CCFA042 finished...\n",
            "Process 688: ZxDF3DC44BB2FB0AB2DA9CC3A8231C0A5903627DFBF3950A49 finished...\n",
            "Process 689: ZxDF52BE07D8B451590C980B79E102F084B2CA2A249043B4F7 finished...\n",
            "Process 690: ZxE083D32FF1E7514B0EDA38FFAE02012D86DDA8048E23E970 finished...\n",
            "Process 691: ZxE083D32FF1E7514BB2C10F023D95C83EB001D6872FE26011 finished...\n",
            "Process 692: ZxE0AE769C4E0DA3D0B09A0DC1C10A72996137BE937DA56ECB finished...\n",
            "Process 693: ZxE19A26EE88FD1A5FDD1D4B225EB98B385544451605D664CB finished...\n",
            "Process 694: ZxE1BDE57D85B29E6B15D177EDCC0F89D6C6A550710B94F025 finished...\n",
            "Process 695: ZxE1BEB9512A571D2E99020DC75503D198D8B93858B7A0C5DA finished...\n",
            "Process 696: ZxE1C1EDEA0C9958088B1F8DDDB67DA5BE4C07D089FFF2341C finished...\n",
            "Process 697: ZxE21C85C15C106DC872B2004FDBDDABCDF5E809CB43226796 finished...\n",
            "Process 698: ZxE247A12F8E55F962276E63028E66629A545B16754A43A10D finished...\n",
            "Process 699: ZxE379608F86D71DD9646D356111707185B39FB15D03AB10CF finished...\n",
            "Process 700: ZxE40263269849298C9B82E3E259D319CD00326138BAED92EC finished...\n",
            "Process 701: ZxE404B57455DB220618733B94A9C0E789AEB8E30AE3AEA44F finished...\n",
            "Process 702: ZxE4394052AA994301FCCF1981DCAB7FA6894C9CA788A8ACDC finished...\n",
            "Process 703: ZxE4B06F9D3330C64E3A3B6CBE49F2672B30913D7F3B9A6F91 finished...\n",
            "Process 704: ZxE4E1AD806CFDD7387E31269942B1C41457D1083FF77EBDA9 finished...\n",
            "Process 705: ZxE51CD6EA3575F74215EDBE0D4E68DB731A4D9BF04E148504 finished...\n",
            "Process 706: ZxE51CD6EA3575F7427A643DAF6A69364FF2F87E167717AFB2 finished...\n",
            "Process 707: ZxE51CD6EA3575F742F16697D93AAB0FC5685020198DD07026 finished...\n",
            "Process 708: ZxE51CD6EA3575F742FB1EB0773C7CB441A80836F0DE8DB3A9 finished...\n",
            "Process 709: ZxE5D510997A6C170C726F8AC962519B52E5615D89C34CE030 finished...\n",
            "Process 710: ZxE62B5B6443A95B3A5713E8421C66F78DD835DE3F31E5A4DB finished...\n",
            "Process 711: ZxE71B4C9943155CFC6C816D437F8F2C635B530E56B512DB2E finished...\n",
            "Process 712: ZxE7279474581D135218F20333FE314E94583F697B1F36C9A1 finished...\n",
            "Process 713: ZxE76F21E1207D9B33203B948479CE51CF2660CA56CEF4802F finished...\n",
            "Process 714: ZxE76F21E1207D9B333A8ACB0D226F0AE32CAE95B9A3719154 finished...\n",
            "Process 715: ZxE7D33E9191145656D2090033DDB15467D0ABEF5B9CD3BA07 finished...\n",
            "Process 716: ZxE7E2340E9CF9166B6678365A0067728037A84C3D9AFF7C54 finished...\n",
            "Process 717: ZxE7E2340E9CF9166BF0A907CA26D681BCC9AA5D58036067C3 finished...\n",
            "Process 718: ZxE838529A9632FE4ED138A9C6833B57C5AA66F9A094A926EC finished...\n",
            "Process 719: ZxE84E7BDF03716E4777D192E2B3EFC3F52E88D0AEA4B2D2B4 finished...\n",
            "Process 720: ZxE8BB30B13CD98B71FBDEFD813621F5B6C62329C1F80AE0BF finished...\n",
            "Process 721: ZxE9221E1FC86DE0DDD166CB91CB6770DB293046EECA5CF889 finished...\n",
            "Process 722: ZxE973E9FCEBE3F7263431A7B7D86046C56FFE33AB14126156 finished...\n",
            "Process 723: ZxE973E9FCEBE3F726D6E4569815ABEF96F5C03D19C5C421D7 finished...\n",
            "Process 724: ZxEA4F23B79CF6B8981977B8B2A2F930403ABA5D6E4227FB82 finished...\n",
            "Process 725: ZxEA628EF42779B6CE7E30493E1FAA3EC3F9F22FB4DA178DDB finished...\n",
            "Process 726: ZxEA84E9C33FF59089079E65848869AE432A0E481F841465AE finished...\n",
            "Process 727: ZxEC0E5E55E3DBBEEEFF25AEE8D486FF799B784094D0691E46 finished...\n",
            "Process 728: ZxEC4B3844F2A31399BBCEA3D0AD8E65FB317414DAF0A4BF04 finished...\n",
            "Process 729: ZxEC4B3844F2A31399E6F4425E419F18603BBC720D8BDF8589 finished...\n",
            "Process 730: ZxED2E914A90709FC7025E86E7E0C607F5DDFF77BFA7DF33AD finished...\n",
            "Process 731: ZxED2E914A90709FC7AA6D521F96ECF8FBC5E1BDE9B0B33F80 finished...\n",
            "Process 732: ZxED2E914A90709FC7ABF2128E5E869C16038B04D30BA302CA finished...\n",
            "Process 733: ZxEDA3B604F954952A1B17F96513DFFF49661FFEC58FB62C8D finished...\n",
            "Process 734: ZxEDA3B604F954952AD37479E6397076219F913FA374133536 finished...\n",
            "Process 735: ZxEDAC8FBEDCAA7CDF1EFEC9F6632D7ABCABDB4A3B4DF2103C finished...\n",
            "Process 736: ZxEDC3B8653928851A2D4A9E8C15F06DAFFA206D965821B634 finished...\n",
            "Process 737: ZxEDE48C5B4D220391526FD0794173A5FD0153C6526362987C finished...\n",
            "Process 738: ZxEE9C011A6281CD150FDA654D8FA330DC28BF038E2A0AF9C3 finished...\n",
            "Process 739: ZxEEE8DBA4F76BDE201ED4EFE8362A11C774ED0E05F09F2146 finished...\n",
            "Process 740: ZxEEF586ADFB6E46F62FB6693837C48E4682A4D4517F457635 finished...\n",
            "Process 741: ZxEF0BE9C4F50812C7588CC926E37C66096A185BF929592C69 finished...\n",
            "Process 742: ZxEF9D1B1DF042534A0939E5FB0778C2616810D53369BE544D finished...\n",
            "Process 743: ZxEFE5BD25C865B7E8EC5C4FB637D285F20044EECAA9ADF616 finished...\n",
            "Process 744: ZxF04C2DF647FC447F3743DCA712745B7BD7A7297A54FE5FC8 finished...\n",
            "Process 745: ZxF1141B608E0DB6FFD087499CA1EE80EF6EBBF7089754B466 finished...\n",
            "Process 746: ZxF1263E938D17E1CD8CCEE22297A51F306D5B93C1DBD4BDBC finished...\n",
            "Process 747: ZxF21344F244DC0BDA313A08EBC59DD9D38C96FCC9A7DB2DB4 finished...\n",
            "Process 748: ZxF2705A350ACE282D407763E07A9521B129903BCDED48B8DD finished...\n",
            "Process 749: ZxF2CBBEF4B2DBE32F70C902DAE7CDD8738979F5595658F783 finished...\n",
            "Process 750: ZxF315D58E2CF14B76EA69E8709BBFC07A2CA3FC1E068040D5 finished...\n",
            "Process 751: ZxF315E683A82DD572491CCFD95E06CE8D48242B630B275726 finished...\n",
            "Process 752: ZxF3EDCFF4D2AB58B7AF8CD5FEA1AE792A697564A3A0D1158C finished...\n",
            "Process 753: ZxF3EDCFF4D2AB58B7B057CA8F15C5213975B3648FE3EDDAC9 finished...\n",
            "Process 754: ZxF4650E9B1504D7A61A287B264E50A320FC0F56206D8F889A finished...\n",
            "Process 755: ZxF4E35FFB8721136A4933F9FBDB076B935DC6F2B47E42125B finished...\n",
            "Process 756: ZxF4E35FFB8721136AF9AA14E6F0C380A4C0B3BAB5F2560EE8 finished...\n",
            "Process 757: ZxF5096D162C108C6D1633924346CE778E67DA71A47BCECD0E finished...\n",
            "Process 758: ZxF58A14D8AA05B54FD82F791D4C0A024ECD0F41D9CB4E740D finished...\n",
            "Process 759: ZxF652001E94225B4A23A4A954155BE1BEB9FA4804B68769F6 finished...\n",
            "Process 760: ZxF652001E94225B4ADFB12383336103ECFEBA6D204AA32B9E finished...\n",
            "Process 761: ZxF66AF9C3CA0DD99E006E8F6FA52C8A3ABA723F5A21294F9A finished...\n",
            "Process 762: ZxF68BEE7E1F60DFA9C9AB9165A7C798CF667472DA902812F6 finished...\n",
            "Process 763: ZxF6C74D5FFC69B6EAB402E825C2C7190CDBFFE4FBF2B6BC74 finished...\n",
            "Process 764: ZxF6EE91DABD349B4A40832147C04C15C06A14E3CCD221F33C finished...\n",
            "Process 765: ZxF6EE91DABD349B4AB88DFDE359B6D2C44837410638B68866 finished...\n",
            "Process 766: ZxF740369C873AA046C77D3A7F253BB0780E00233DB92B4037 finished...\n",
            "Process 767: ZxF77F6D49315BC4745300157B6FABC8BEE25F0F4C4C0209DC finished...\n",
            "Process 768: ZxF78584259A680C72789533BACB5A9B762D04B3EFE5A3376E finished...\n",
            "Process 769: ZxF78584259A680C72F8E790CB81DFB1AD7CE260C49C0D9692 finished...\n",
            "Process 770: ZxF7E38D9EAC1BF4A8900F4833760CD4BC93B28F2DD1DA4662 finished...\n",
            "Process 771: ZxF7E38D9EAC1BF4A89DE0FBC6B8A3E2248ACFFDE3782E18AE finished...\n",
            "Process 772: ZxF8C431A13165137AB38AD9F8401ECF01C7FF9311D4C5EFFB finished...\n",
            "Process 773: ZxF8D0A211F87F12AF7B420DB5FDFE118A6D4C1A911885425B finished...\n",
            "Process 774: ZxF9654BAB07B0415EC280458E14F382A4DABCC4076DF3359D finished...\n",
            "Process 775: ZxF9F4AF14D7B1EF7C3EE19FF778359FEE681702C00D80568F finished...\n",
            "Process 776: ZxF9F4AF14D7B1EF7CE722B4FC916ECAA3B0DD72CD861A4460 finished...\n",
            "Process 777: ZxF9FB7F731AE2DCEAA653D01FDDCFB8C1F55078F52FD3CBF0 finished...\n",
            "Process 778: ZxFA97E60E42060D9059E3756F2068A6F7F11DCA3C42469C33 finished...\n",
            "Process 779: ZxFB899E31B6D8BE100DFFC67985BA43EDB2743EE7A3CCE22C finished...\n",
            "Process 780: ZxFBB0181FCAF1CAB696C6F9AE42517E0BA6245896131FB124 finished...\n",
            "Process 781: ZxFBBCCC5E909887D98798E50C1BA4E75F67FFFBF33B653064 finished...\n",
            "Process 782: ZxFC07BE7D85CCF82D60FB84BBFD2CBA613C665DEABDEBCB7F finished...\n",
            "Process 783: ZxFC585268A1A63205CF3C1BB8A4A0A2C32F68004414D9F1D1 finished...\n",
            "Process 784: ZxFC844751E4BC264FA5C360F4807B1B04F639935B755AE982 finished...\n",
            "Process 785: ZxFD05F92AFD745EFDDF1E3123D3080D14D0C5EB6FD54083D9 finished...\n",
            "Process 786: ZxFD808B7419E590990E1632C52DF44EE1E26A2CBF9C4A616D finished...\n",
            "Process 787: ZxFD808B7419E590992EA61CABB2AFFA616410E02635529AD8 finished...\n",
            "Process 788: ZxFD8D565F7CFAEA22C980A585E7A7937AAE5EB20D3C6590E3 finished...\n",
            "Process 789: ZxFE087EAB297CA731B8DBD01407C31C992274CA97F8770F37 finished...\n",
            "Process 790: ZxFE269EDFD4EE0330B3D6C645D89AE017B8B14C72E713EBB4 finished...\n",
            "Process 791: ZxFE280A8E0C448EA083FEDDDC85B47E70AF62C489881C066B finished...\n",
            "Process 792: ZxFEFF9C9555D60C4A447AE2172976D86C6F1E6018597F8530 finished...\n",
            "Process 793: ZxFF050F121B008A9A3447A15F3C5F8A780BC44C8C62B2A4F6 finished...\n",
            "Process 794: ZxFF33BBA53245DC11656AD674EDAC74459F773A394590234E finished...\n",
            "Process 795: ZxFF3D6B912E3F1986C7A67E92219D38CCA5FC12F6DFC9D169 finished...\n",
            "Process 796: ZxFF416C96EF954FE1720C04968292DDE45BBEC2E4E5A74055 finished...\n",
            "Process 797: ZxFF51EAF10B09D34C5B5B3068CE83017279F3AFB5644E093F finished...\n",
            "Process 798: ZxFF51EAF10B09D34C7AE7C6543942C9000C78DF2C64EAF6A3 finished...\n",
            "Process 799: ZxFF823BD50CB342CE9DEDCD690E770B716F837D2CE9A22352 finished...\n"
          ]
        }
      ]
    },
    {
      "cell_type": "code",
      "source": [
        "print(images_valid.shape)\n",
        "print(len(labels_valid))\n",
        "\n",
        "print(images.shape)\n",
        "print(len(labels))"
      ],
      "metadata": {
        "id": "1srhJYwsDe7I",
        "colab": {
          "base_uri": "https://localhost:8080/"
        },
        "outputId": "04ab524b-ff38-492b-90e1-a9175103eb50"
      },
      "execution_count": 21,
      "outputs": [
        {
          "output_type": "stream",
          "name": "stdout",
          "text": [
            "torch.Size([12000, 1, 256, 256])\n",
            "12000\n",
            "torch.Size([47968, 1, 256, 256])\n",
            "47968\n"
          ]
        }
      ]
    },
    {
      "cell_type": "markdown",
      "source": [
        "## 不割"
      ],
      "metadata": {
        "id": "_uiU4tgDE-Fg"
      }
    },
    {
      "cell_type": "code",
      "source": [
        "dflabel = read_label(labelpath)\n",
        "total_nii = len(os.listdir(datadir))\n",
        "images, labels =  process_data2(traindir=datadir, termi=10,shift=0,dropFalse=0,dropPos=0)"
      ],
      "metadata": {
        "id": "WFJpwdc4cSci"
      },
      "execution_count": null,
      "outputs": []
    },
    {
      "cell_type": "markdown",
      "source": [
        "valid當training"
      ],
      "metadata": {
        "id": "Auwx4EE2JuxI"
      }
    },
    {
      "cell_type": "code",
      "source": [
        "train_id, valid_id = get_split()\n",
        "images_valid, labels_valid = process_data2(datadir, dropFalse=0, files=valid_id)\n",
        "images, labels = images_valid, labels_valid"
      ],
      "metadata": {
        "id": "ahaOBBHsf6SP"
      },
      "execution_count": null,
      "outputs": []
    },
    {
      "cell_type": "markdown",
      "source": [
        "check"
      ],
      "metadata": {
        "id": "0WasSlbUEkK4"
      }
    },
    {
      "cell_type": "code",
      "source": [
        "images_train, labels_train = remove_false_images(images, labels, 0.90)\n",
        "print(images_train.shape)\n",
        "print(len(labels_train))\n",
        "print(images.shape)\n"
      ],
      "metadata": {
        "id": "1U8IlMjbME2H"
      },
      "execution_count": null,
      "outputs": []
    },
    {
      "cell_type": "markdown",
      "source": [
        "## k-fold"
      ],
      "metadata": {
        "id": "9dSulThKilGf"
      }
    },
    {
      "cell_type": "code",
      "source": [
        "import gc\n",
        "folds_indices = k_fold_split_indices(len(images), k=5, shuffle_=True)\n",
        "# 使用生成的索引\n",
        "for idx, (train_index, test_index) in enumerate(folds_indices):\n",
        "\n",
        "  train_images, test_images = images[train_index], images[test_index]\n",
        "  train_labels, test_labels = labels[train_index], labels[test_index]\n",
        "  print(f\"Fold {idx}: 训练集大小 {train_index}, 测试集大小 {test_index}\")\n",
        "  del train_images, test_images, train_labels, test_labels\n",
        "  gc.collect()\n",
        "#"
      ],
      "metadata": {
        "id": "AcRC4MkKhFf_"
      },
      "execution_count": null,
      "outputs": []
    },
    {
      "cell_type": "code",
      "source": [
        "# len(labels_train)"
      ],
      "metadata": {
        "id": "WC2Zjl9fI0pm"
      },
      "execution_count": null,
      "outputs": []
    },
    {
      "cell_type": "code",
      "source": [
        "#  %reset_selective images_train, labels_train"
      ],
      "metadata": {
        "id": "jeAD7ynnVOWw"
      },
      "execution_count": null,
      "outputs": []
    },
    {
      "cell_type": "code",
      "source": [
        "# %reset"
      ],
      "metadata": {
        "id": "ZWaEl6uf0eLv"
      },
      "execution_count": null,
      "outputs": []
    },
    {
      "cell_type": "markdown",
      "source": [
        "## 處理測試資料，合併到訓練集裡面"
      ],
      "metadata": {
        "id": "y5aFTwjoWCj1"
      }
    },
    {
      "cell_type": "code",
      "source": [
        "images_fortrain, labels_fortrain = process_data2(testdir, shift=0, termi=200, dropFalse=0, dropPos=0)"
      ],
      "metadata": {
        "colab": {
          "base_uri": "https://localhost:8080/"
        },
        "id": "q5WWXrSAV85E",
        "outputId": "72f15263-9de2-4d1a-c4c2-786ec9eaca69"
      },
      "execution_count": 42,
      "outputs": [
        {
          "output_type": "stream",
          "name": "stdout",
          "text": [
            "reading traindir='Cropped_60-316_150-406_11-71/Test_Image_cropped'...\n",
            "xlim=[60, 316]\n",
            "ylim=[150, 406]\n",
            "zlim=[11, 71]\n",
            "Process 0: Zx8E3B91ED97D86D1072C6EA9220FD29DAFB96CD6BB8DC6850 finished...\n",
            "Process 1: Zx2982812805D4A3FA5078DB705FF20793142A1A712F5108B5 finished...\n",
            "Process 2: ZxD3CB0C4524F67A4D47F1690790F72DB31FECE3ECCB2B6B08 finished...\n",
            "Process 3: Zx61704E649960C4025BB3AA0B31C1A75C71442BF48DAC3E19 finished...\n",
            "Process 4: ZxE1BDE57D85B29E6B1FF4B9DB4EE825804A67EF6AAB90BCCE finished...\n",
            "Process 5: ZxCC42A7155619FA3703EAF742893B8B292D91D0D647A15B0A finished...\n",
            "Process 6: Zx577646F814CED80AB3D413794C12892EEB3B60D14B6215C6 finished...\n",
            "Process 7: ZxA1ABBC6166B65AC2A7937A2159F61BA67D2DA16F3ED4D0FB finished...\n",
            "Process 8: ZxE7E2340E9CF9166BA3E027E0C1D7FC58A90E1BE3552A780A finished...\n",
            "Process 9: Zx3AB91ED4F2F9AA3B238DDC9EEE0BF3E122BE00BCE2D2CD99 finished...\n",
            "Process 10: Zx00FE1B9A88E88C71917ECC1EDD774252C072CA5FDB12C01B finished...\n",
            "Process 11: Zx55393C140B1339C1BC5F7EE2C28DB481D9BC6ECF9EF814ED finished...\n",
            "Process 12: Zx9C3E8837FD6AE59582C5B3B20ABF573D9A30A6899BB913B4 finished...\n",
            "Process 13: Zx3E9F250FDB4CDFDD119C47120154DD2C6F04365B6325F3DD finished...\n",
            "Process 14: ZxF6938B66955EC3D5CD0973DF5A2E10245E91AB67F1F7CA12 finished...\n",
            "Process 15: Zx2D76DB29AAD23477754A6C853E7D6917BE22266389693139 finished...\n",
            "Process 16: ZxBAB5670A04D4D41D52F63DAC2EC24A2A4A63507B496E57F3 finished...\n",
            "Process 17: Zx810EEE22A83CEDD08D733E023EF1858017C63E01468C3375 finished...\n",
            "Process 18: Zx6A20D18C293857B202D0F932B1E918FE4FF89CF55E0A1741 finished...\n",
            "Process 19: ZxDAADCC811EB06CD64F6CD95DA33D7FF99AF478AD17111F24 finished...\n",
            "Process 20: Zx0D0A3D4D2C6DF934AF9D016A5B8923F6BF5746DA99CA00D6 finished...\n",
            "Process 21: Zx851C7A3C539A11B40A6785E54176FC3F76040A4BAC40B927 finished...\n",
            "Process 22: Zx52BBC4E7ED7777892AB6E97DF4AD7334895A02CDC8314620 finished...\n",
            "Process 23: ZxECEBC097C0357F22D220854F3E699B1E6E47D05029D25C35 finished...\n",
            "Process 24: Zx8B4DDDE2EF0F838CF94EE3E5A54F490DE1110936ECD0A58B finished...\n",
            "Process 25: ZxE083D32FF1E7514B2C885A8E1285EB3331934DB0C6A6DCF3 finished...\n",
            "Process 26: Zx84FAA59C32FC9035A9EADACBD1F04853861DA97718E616A0 finished...\n",
            "Process 27: ZxE5CBD5D7C3EBE3E942304BD4EB09A7A83E3BC794E9E33B83 finished...\n",
            "Process 28: ZxE371E276426F15AAE1808E2EE266D836F56FE71105D84CDD finished...\n",
            "Process 29: Zx9C4D13B3283A0D24EB8014606E8846EAD2CB820DE4C67567 finished...\n",
            "Process 30: Zx0FF377252BE891AC0DC9A1CABC405DA08650AFE8A28C9D04 finished...\n",
            "Process 31: Zx8D0A1B1F228ED6A8432C127F54D9C7EA84E700AB61F6DD1A finished...\n",
            "Process 32: ZxC99A216B2CA9144722A9669539FFDFA69F5C56621346CBA1 finished...\n",
            "Process 33: Zx27F7969620CB7F945A322CD82C1A20F4424F070945ECE5A5 finished...\n",
            "Process 34: ZxF180C421408A751F52C2309203D70BA0774A28B4A3020E08 finished...\n",
            "Process 35: Zx16043EED6C38D1B0045FDC752A66A80E336E352A945ED37F finished...\n",
            "Process 36: Zx6D019E3A69B0605FEDE60BE518EAE1E353541C5B72C893CE finished...\n",
            "Process 37: Zx856FBE2C71AFB86C6974EBD23B9878ED38822BCA17B456F0 finished...\n",
            "Process 38: Zx8B2FEAF57D149F9048595E14FA3078891FCA954ECDE95769 finished...\n",
            "Process 39: Zx86F99E7E390C00CBFAEAEDC2A0020694B6FA82354ABACE5C finished...\n",
            "Process 40: ZxBF002BC7F5AFD8F25C9E269D2500DD36732079B9702EFC8F finished...\n",
            "Process 41: ZxA7928107608AC56E5D6A089B9DEBF2583A47AE95DD4FB78F finished...\n",
            "Process 42: ZxAC7AF4D4AA932120D6F7CFF7148CFEF0ACD6211715D2252B finished...\n",
            "Process 43: Zx328EF1C62C85DF79015B9A9018D3FDCC53BEA3F1711C1D82 finished...\n",
            "Process 44: ZxE5D406C8012C9EBE0DC15746B084DF2A1F6045B4C552CDBD finished...\n",
            "Process 45: ZxAA57F4E78EA8967BE55B487212E949020905717B7BD45A6F finished...\n",
            "Process 46: Zx7031F9BB97AE153DADE975962D6EA993DBD6740AE49A9536 finished...\n",
            "Process 47: Zx3140C2C02EDB97CF7495E57512F57FA27B80CCA6A163B91A finished...\n",
            "Process 48: ZxB7F4FBA41E566CE60E2832A4D9469B4E243287F8453C0FEC finished...\n",
            "Process 49: ZxC3159DBA2C781D71F3793A251818B7E9B8798E60E914DA7D finished...\n",
            "Process 50: Zx44AD1A2E2930231F8A0F7BB197B1676E04B455B6297F02F9 finished...\n",
            "Process 51: ZxF3D2F7AC036135C8A369A42C6D803C3082F2B83D888E3B9F finished...\n",
            "Process 52: Zx85DBFD62B25C76EF9C2376E34C58F850DC14D0C665C55334 finished...\n",
            "Process 53: Zx64D8ABDFA2E7D3055E2ED5D31C600500EC76D713C7BB60CE finished...\n",
            "Process 54: Zx640054B03A4D99000CBF7B9EF10375F672E1AA38EF541280 finished...\n",
            "Process 55: Zx4DEAB0155B0B49D713B6346DBE29F387512957A19E1C395F finished...\n",
            "Process 56: Zx46314067B5F762DDC67BCF0A3EF1AC783C03FE4A90CBABC5 finished...\n",
            "Process 57: ZxEACFC663D819866EDD952D746FCEA3AB7FBD9FC4C8AA43EF finished...\n",
            "Process 58: ZxBD7EA944E5CE4F96C6C2DE27DA76AD6866D739A6BF08D651 finished...\n",
            "Process 59: ZxC049A25D75C5FC9B7261ECB00B16D05743D36782F8D868F2 finished...\n",
            "Process 60: Zx959FD71EF77A62AEF1D80F3C0CAE8BD5F13286FE113791F4 finished...\n",
            "Process 61: Zx4FEAB4F8AA64AA6F339F2CDBBF7F4A1D0FE208E6EE5E76E8 finished...\n",
            "Process 62: ZxCCAD69483E1ACED22A63E8F8200E21C24B4B4FADCF70E81B finished...\n",
            "Process 63: ZxAB18B96AE76F63471C014832B1C113384A4D69696F2FD236 finished...\n",
            "Process 64: Zx7A459FA5026054431B669EA98F76009E4AB2F1C298C78833 finished...\n",
            "Process 65: ZxDAECCFA7F3FE9FCE75E371DD91A51C94905CB84252BA61C1 finished...\n",
            "Process 66: Zx210EA4E4E64FD80F7A268A48B2C266E51AD4313EDBF3C427 finished...\n",
            "Process 67: Zx86DF1F0CFB8C91DEBBFA15D1990C4F3612BF8E7368659AF4 finished...\n",
            "Process 68: Zx835BE89BC06B937B44952AA9FFA51254C7B60F8FDDA36FC0 finished...\n",
            "Process 69: Zx5A55FB599A3CC3C556CC21378C817CAEE33BD3E09767B29F finished...\n",
            "Process 70: Zx660601FDDD18C5026CFAEB6F4F3CAC89508251B9585FCE08 finished...\n",
            "Process 71: Zx256A9E945D19FB28335E22C805EC9CDC4F4E23A7B3871D4F finished...\n",
            "Process 72: Zx6D019E3A69B0605FCE6D0FEFDBE35A8A885394AC5BDD7979 finished...\n",
            "Process 73: Zx379A5F7814F0914AC2A577D0E6A1DAB8135D4B74CF2B3EEB finished...\n",
            "Process 74: ZxF3EDCFF4D2AB58B7B3B86A31CCBC22EA51E0B2037419A274 finished...\n",
            "Process 75: Zx1BE880E938C82FBD4C04159D47738D8E78875219BE6D7D6B finished...\n",
            "Process 76: ZxAE3E837D9540D0A43FEEE80E0B043AAB3265CE56B285F842 finished...\n",
            "Process 77: ZxEB847811235EA8F873A7C4C53779694E0E2473C003B04374 finished...\n",
            "Process 78: ZxC38DBF9E5731EC4DB691765413E5D69788316A6F019A40A9 finished...\n",
            "Process 79: Zx0CFEAEA49D4E19D1DB3BAE1248C9AE42D815CA7B52CC9E76 finished...\n",
            "Process 80: ZxF5776D71E8D63B2ED23AE03D3AD3E3D608F64D3589C655F0 finished...\n",
            "Process 81: Zx0E3C20D9BB248666F8C1605B9A9D726237A5626AD91AF5DF finished...\n",
            "Process 82: ZxA8CBC73ECB3DE48C21A02D065EDE60841A43F4CDE41474E6 finished...\n",
            "Process 83: Zx4F54B6C5232290798B967948DE6D2D33CB2085006FD32EE9 finished...\n",
            "Process 84: Zx61A82FD417A655FEF3CBDA74333F883F4C966F58FA8875C1 finished...\n",
            "Process 85: ZxD6C4F406BC86A11667A76E66676A79B78A83F5DE3219D466 finished...\n",
            "Process 86: Zx212DBD941DEC06E9E3BF9D108811FA07B37CC848C4D10968 finished...\n",
            "Process 87: Zx48074DB9E0145933E2EED0A7E4EB0D3B0A9447A110736D8D finished...\n",
            "Process 88: Zx7864EB3372794DF83DB16DE28BD8C7BE147782904DA1EA43 finished...\n",
            "Process 89: Zx3FC388FF59A43E76DCBA3C47ABC0E803E488FA570BEDED99 finished...\n",
            "Process 90: Zx6CFEF464C113FCF5983B9E8586AD70C82296EB86BFC86DEF finished...\n",
            "Process 91: ZxAC7AF4D4AA932120A68BFD69005A1703DA8A2033BB771129 finished...\n",
            "Process 92: ZxF9F4AF14D7B1EF7CC7C36C7350DA3F8C2ABAEF4156220EB5 finished...\n",
            "Process 93: ZxCCB3EEF9389115B6F0ECCF3C05DB35F72DF7F4687E2CAAAE finished...\n",
            "Process 94: ZxA77C7D446989AF14E4D6515139AC3F4E2071BB7CF943664F finished...\n",
            "Process 95: Zx72654315F137ACEAA7C4E715B2C02C79DE59D12727448238 finished...\n",
            "Process 96: ZxF4E35FFB8721136AAD8B4F59F2EABC53213E2397CC86AF45 finished...\n",
            "Process 97: ZxB072D9EB3C28DC960D25FCDE121C2B12AC3A9003ECB9BA73 finished...\n",
            "Process 98: Zx05D5C78127C46803A2A09A76E03ED07405D28012A0536000 finished...\n",
            "Process 99: Zx4ED2135FF0A55C3D290B387F0B5E443E70DA94473B1169A6 finished...\n",
            "Process 100: Zx1146D4F02782E6D5015CDEB8FB751D6C7BB7E6471FC5FBFF finished...\n",
            "Process 101: Zx3E443FFD3162E0841D1B1867408C7E72C62DF2C248F33381 finished...\n",
            "Process 102: Zx826F31C25810C6A92E6879FEAB8C6F0A9E5879FE5C0BCE54 finished...\n",
            "Process 103: Zx7D3427750776456FBFC0D290420EA1BB26620ABF358BB33C finished...\n",
            "Process 104: Zx36871521E7690C7EB47E0B086054163CD08276241FB95857 finished...\n",
            "Process 105: ZxB1E0F925241ED36712EE604AE4CE7557A39F4DFB88C99ADB finished...\n",
            "Process 106: Zx462D1C00BC85CEB1B498D610BEB4C815742BD99BF9D84B27 finished...\n",
            "Process 107: Zx1065B0DE07F9AF895D255A52750579EE21428FAB2E575FE3 finished...\n",
            "Process 108: Zx8B0832973576598673A6F003640D79CEB483C84607557929 finished...\n",
            "Process 109: Zx2FDB8744E9FC6EA59F3C32FC9F8CFF7C94D3379593055320 finished...\n",
            "Process 110: ZxE0AE769C4E0DA3D095EF59A5158D7D0E0FB8881C1C87290D finished...\n",
            "Process 111: Zx79810E662F875E2DCDC4A784D6D1729959C7BA82541D5F07 finished...\n",
            "Process 112: ZxD4239CF33141275958AA9821650C17F95CB8DEFB66FC2819 finished...\n",
            "Process 113: Zx2982812805D4A3FAF6386CE06C15E8EA4878D456AF74CC6A finished...\n",
            "Process 114: ZxC47F6DEB1B764D01C01D88E9523BE18C243BD50275F39C11 finished...\n",
            "Process 115: Zx4BDAA35DBBA1FC9A5DBF7CE0974E45ACFDF5183C71F06DD3 finished...\n",
            "Process 116: Zx5E17136591B2A37246BA311D014805D60D28A4B289CEE9D5 finished...\n",
            "Process 117: ZxF7D357AEE2A4BBBEFD63CD09EEFA4D04BD73982DD22D224B finished...\n",
            "Process 118: ZxC0BF045C0FF2C57FDDFF01992EEFB0239866E7B895606193 finished...\n",
            "Process 119: Zx291FD6850838B6434EDE060CF2F2F05E904D018C0B6C1745 finished...\n",
            "Process 120: ZxE08294E802F8B2087DC270DC9B3AD7B04B736B85E3EF8203 finished...\n",
            "Process 121: ZxDAADCC811EB06CD6C671F66C50D2AEE8248E6E981702946C finished...\n",
            "Process 122: ZxD737ACF4FBC037DDCE79CC95AF6AB5830833237FDE328BB2 finished...\n",
            "Process 123: Zx3B29D889A4EF0EE3BB96E2E05F7242BC09F2C9A1219D39EE finished...\n",
            "Process 124: Zx5FDF7405FE28DC2B7F05E89A4234A1D79A8254B310AB2622 finished...\n",
            "Process 125: ZxC77F423A0022CBFB1CEAFDEC68518B55EFEB963D13235BA7 finished...\n",
            "Process 126: Zx3A5E7419657D564469836B830DBA881063FD52F656BFB5FE finished...\n",
            "Process 127: Zx760621E0AF1739CDC30E3925F0FE271EB515E4314C2926EE finished...\n",
            "Process 128: ZxC823CFB8F488A6A02B8B88DF93C052ED1B441EE6F73FFF60 finished...\n",
            "Process 129: ZxE7E2340E9CF9166BA6232EE39329B72C09CBCC193F17F22F finished...\n",
            "Process 130: Zx0D7F914BAEC987017F3C179833AAFC697C1DA5A8F6CB6F16 finished...\n",
            "Process 131: ZxFF51EAF10B09D34CAEEEA49B2A8310C1011E389C1AFE6C8B finished...\n",
            "Process 132: ZxABBAAF0EEA6CBA21DF39AFED984D906B7BD96982F6C06468 finished...\n",
            "Process 133: ZxD728C29B1AB1174904572E02CBD0D1F14DFB3BDDEF751F76 finished...\n",
            "Process 134: Zx895AFA076D05047BBB1EA220348784720B7DAE22A24092D5 finished...\n",
            "Process 135: ZxBF3FC363583711F537B0734C09EF0D0EC1822EF492C8BDD0 finished...\n",
            "Process 136: Zx11624B7B7AEBCF0FAFD0B992BC272C41C953A7703E56E6DA finished...\n",
            "Process 137: Zx1A017ECAEE14A219D0A3E97E6CCF962DC599F00C30EAEE01 finished...\n",
            "Process 138: ZxAE2B6C5E94A75BE79DE5A69BB833DBADB427371CF1FAEA81 finished...\n",
            "Process 139: ZxBD701431A8CE2FCBE17870735E9C7ABDEF32D58FA493E633 finished...\n",
            "Process 140: ZxE7E2340E9CF9166B859C8DB0E01A1821AACFD7B6F7C8CC5E finished...\n",
            "Process 141: ZxF53C2950250724FAFCE85F4EA06C42230601FB1EF6FD2F5F finished...\n",
            "Process 142: Zx8772600856FB4699309D69D7B0EF5B44D47F1AE80B7ED96E finished...\n",
            "Process 143: ZxFD1F717CFC351F53504AE27E08931AC4862A9E958889D91B finished...\n",
            "Process 144: ZxAEA8C5DDF7E396A8F82325EDE5CD22DC77292443081D45A4 finished...\n",
            "Process 145: Zx21F1648A3334CE363E4D72ED92F795868BC52F94D1DA5F0F finished...\n",
            "Process 146: ZxED6AC7D7D100CB8233964BB488F306113CF2E5D580C44CB7 finished...\n",
            "Process 147: Zx9C4D13B3283A0D247EB48FE50B18F5AB681D7EEDADC6BF08 finished...\n",
            "Process 148: Zx84E867361F7643F909F9AD46A866344BD303DCB0B7422A43 finished...\n",
            "Process 149: Zx05B14FDAD8DE03B10E1C560619C12C542747E39A00BC1943 finished...\n",
            "Process 150: Zx55B9557768622554D44DA0BE7934F01CB7B74FBA00FD7F55 finished...\n",
            "Process 151: ZxB534085A5208F3E99AA30C9A94F50BE1C28BE8E70B57963D finished...\n",
            "Process 152: ZxF71ECCDB9E475A04D81ACE4A25F7238E1CE035DB3D219969 finished...\n",
            "Process 153: ZxF2378B53C1470562C06AA771722B99673A4B3E08A476BCE2 finished...\n",
            "Process 154: Zx9B15E2FF7223946D2A14BB147A9C3A5C24BBA915A161FB23 finished...\n",
            "Process 155: Zx822B1193233F74F58E17D3EB9B97B6EEBBC498274C32B448 finished...\n",
            "Process 156: ZxB8AC2E1E1828B3E4154C4F56DE452017213A2467DBE597A7 finished...\n",
            "Process 157: Zx06170DED67884FED8E4A2B173346E1A698644BB8D971FFCB finished...\n",
            "Process 158: ZxCC42A7155619FA3760F34B3728552176A4CD129ABCB96913 finished...\n",
            "Process 159: Zx36871521E7690C7E3AA2576BEE4AF54E5F4089FE39BEA81C finished...\n",
            "Process 160: Zx8FA5381E33D4F284AC25A22E03C6A7BA8885155F9886648E finished...\n",
            "Process 161: Zx7F411E894A937F74C087D521932763C8800CB193A14168A4 finished...\n",
            "Process 162: Zx15FB4DF1D36A7B4AE59373BDA3B21394428E0F28E09A68CC finished...\n",
            "Process 163: Zx827790BC022017406F3E84D557007B408AFA1BFB53E0E7B7 finished...\n",
            "Process 164: Zx01948F47276376729E6CD0FC35E175861DDDE016E73A6F61 finished...\n",
            "Process 165: ZxD3F478A29A3B53F594C4567283A5AC0B5C6BA5CB9BF0558E finished...\n",
            "Process 166: Zx59081DADCE950F832F9112744686936C70AB8F8B6065AFB8 finished...\n",
            "Process 167: Zx9E10DB88FC4075E3A7AF9DFEB82AB49DEBB1D9A4F7C862B2 finished...\n",
            "Process 168: ZxCA41B3DD150137F93EE879006F0F1FB61973AC29872C8D80 finished...\n",
            "Process 169: Zx5ED8A3BACE488CFAAA89822E730FA5F8002643EA164B4B6A finished...\n",
            "Process 170: ZxF21344F244DC0BDA3B27BC9E2BB1E8468E51468BB125E264 finished...\n",
            "Process 171: Zx8D496A0DDFCA968C5DC557BCFCEABA6692FBB444199083FD finished...\n",
            "Process 172: Zx2E26A711E16137B7517C3B5748E84B807F967B69BEDDB9C6 finished...\n",
            "Process 173: ZxDAADCC811EB06CD677BC2B725B5D2084623C2BF31273631E finished...\n",
            "Process 174: Zx326A6AF603902A18E97CDAAF17A261DA3FAB17666702B15B finished...\n",
            "Process 175: Zx414A94D38319FEB009EF2F13F4CCCF67D3B3D8AC4BDCE87E finished...\n",
            "Process 176: Zx9E72763D18F9E5558F3DF5814A320D734857F2F4AA7DD9B2 finished...\n",
            "Process 177: ZxAA8B28FA1E8D06C188EE9C18DB8B266482E52379CB2F7B5B finished...\n",
            "Process 178: ZxAE84E65DFAE5468A0E0476F8B943380CE6B004D338BBAA45 finished...\n",
            "Process 179: ZxF332A3871704C6676C1EEFAB7741BDCECE5920E14A3ABB64 finished...\n",
            "Process 180: Zx368E67F85BF969857FA5374541E87EA36E19120066C76067 finished...\n",
            "Process 181: ZxAC7AF4D4AA9321200D55CFBA2EABBE92A7E8929F11E2F68D finished...\n",
            "Process 182: Zx19171CE8121BE20876FC7F1BDB6C0153CEC9A2BCEF2C9EB9 finished...\n",
            "Process 183: Zx561A0194BAFE437E42DC4174960114C23C4D0C91A4B3F0EE finished...\n",
            "Process 184: Zx32E1FB4E11BA19092F6CB3BDCA2C1A342B846CD990D12DB5 finished...\n",
            "Process 185: Zx9C822BD0D1F6C87165C63371AE66D8879468E642C705000A finished...\n",
            "Process 186: Zx93EC2D1600D91567580248DC875B2DFEC706DD1038674F81 finished...\n",
            "Process 187: ZxC603C543C6AFBFCDBD7C4E19389893035928DA4FA999679C finished...\n",
            "Process 188: Zx328EF1C62C85DF79504039E3352CDB682C7F28F58ADAD093 finished...\n",
            "Process 189: Zx7D5AB573090376F74879594BF6B7810FF805022673B201F6 finished...\n",
            "Process 190: Zx0B26523F097982195CAE5A8EC2674CE36E15988A529317CD finished...\n",
            "Process 191: Zx52C5BF85821A07F02621F8A278EF38B09DDB517C9542A645 finished...\n",
            "Process 192: ZxF2BAE7BD1B43B020EF0AD7CA4582EA418EE8EC6353284FAE finished...\n",
            "Process 193: Zx3662B675A48E317E52C7542D32A2DB1BBC0352C1EDAB368F finished...\n",
            "Process 194: ZxCE42C31F5FC5F2B9EF2F36E7EB5B096F0C7F4F25E2AB0445 finished...\n",
            "Process 195: ZxDF24140F6D64020DCE6928DF659EF2DE52AD5E30917AEFC7 finished...\n",
            "Process 196: Zx368BA8B514BD8B0144CF287FF1F4B01FAC6C5FE0BFEFEDE6 finished...\n",
            "Process 197: Zx34B443B478E3B00E19DF19CE2797FB9A3AE5169ABF55F387 finished...\n",
            "Process 198: ZxECD23E48A996137D78C3EC8056146FCDEDDF7F1299834684 finished...\n",
            "Process 199: ZxBB04FC96C2A0271553C7183885E0469D73C9D57B3995840E finished...\n"
          ]
        }
      ]
    },
    {
      "cell_type": "code",
      "source": [
        "print(images_fortrain.shape)\n",
        "print(labels_fortrain.shape)"
      ],
      "metadata": {
        "colab": {
          "base_uri": "https://localhost:8080/"
        },
        "id": "jcUrybiWmPHH",
        "outputId": "44c58c0f-276f-4c16-fcc4-60baccc3e798"
      },
      "execution_count": 43,
      "outputs": [
        {
          "output_type": "stream",
          "name": "stdout",
          "text": [
            "torch.Size([12000, 1, 256, 256])\n",
            "torch.Size([12000])\n"
          ]
        }
      ]
    },
    {
      "cell_type": "code",
      "source": [
        "labels = torch.concat((labels, labels_fortrain), 0)\n",
        "images = torch.concat((images, images_fortrain), 0)"
      ],
      "metadata": {
        "id": "l-duiiMesDhB"
      },
      "execution_count": 24,
      "outputs": []
    },
    {
      "cell_type": "code",
      "source": [
        "images = images_fortrain\n",
        "labels = labels_fortrain"
      ],
      "metadata": {
        "id": "MUL2W9N3HUBF"
      },
      "execution_count": 44,
      "outputs": []
    },
    {
      "cell_type": "markdown",
      "source": [
        "## 標準化"
      ],
      "metadata": {
        "id": "5NBLcR3QugLM"
      }
    },
    {
      "cell_type": "markdown",
      "source": [
        "為了方便, 只用training set的數據計算平均值與標準差, 並套用在所用數據集的標準化中"
      ],
      "metadata": {
        "id": "qTpOFP3Wp1VX"
      }
    },
    {
      "cell_type": "code",
      "source": [
        "mean, std = torch.mean(images), torch.std(images)\n",
        "transform_standard = transforms.Normalize(mean=mean, std=std)"
      ],
      "metadata": {
        "id": "PLBuLp05q4kV"
      },
      "execution_count": 30,
      "outputs": []
    },
    {
      "cell_type": "markdown",
      "metadata": {
        "id": "0IX5HYZuSKG-"
      },
      "source": [
        "# 訓練"
      ]
    },
    {
      "cell_type": "markdown",
      "source": [
        "## 初始化 for first run"
      ],
      "metadata": {
        "id": "Sw6E0WZOELfW"
      }
    },
    {
      "cell_type": "code",
      "source": [
        "# model = pretrained_model\n",
        "model = unet_model\n",
        "print(model_name)"
      ],
      "metadata": {
        "colab": {
          "base_uri": "https://localhost:8080/"
        },
        "id": "tiWOM0VQOvxO",
        "outputId": "533876c4-7662-4dfb-c347-9205eb81824e"
      },
      "execution_count": 26,
      "outputs": [
        {
          "output_type": "stream",
          "name": "stdout",
          "text": [
            "unet_without_decoder\n"
          ]
        }
      ]
    },
    {
      "cell_type": "code",
      "source": [
        "model = model.to(device)\n",
        "num_epochs =200\n",
        "batch_size = 128\n",
        "lr = 0.01\n",
        "droprate = 0\n",
        "criterion = nn.BCELoss()\n",
        "optimizer = optim.Adam(model.parameters(), lr)\n",
        "\n",
        "# optimizer = optim.SGD(model.parameters(), lr=lr, momentum=0.9)\n",
        "\n",
        "# Define the learning rate scheduler\n",
        "# You'll need to choose appropriate values for T_0 and T_mult\n",
        "# T_0 = 10  # Example value\n",
        "# T_mult = 2  # Example value\n",
        "# lr_scheduler = optim.lr_scheduler.CosineAnnealingWarmRestarts(optimizer, T_0=T_0, T_mult=T_mult)\n",
        "\n",
        "\n",
        "print(model)\n",
        "\n",
        "start = 0"
      ],
      "metadata": {
        "id": "AbYR6JQl3UMA",
        "colab": {
          "base_uri": "https://localhost:8080/"
        },
        "outputId": "bfd76643-8ac6-4b86-dbe0-1339e7348892"
      },
      "execution_count": 49,
      "outputs": [
        {
          "output_type": "stream",
          "name": "stdout",
          "text": [
            "UNet(\n",
            "  (inc): DoubleConv(\n",
            "    (double_conv): Sequential(\n",
            "      (0): Conv2d(1, 64, kernel_size=(3, 3), stride=(1, 1), padding=(1, 1))\n",
            "      (1): BatchNorm2d(64, eps=1e-05, momentum=0.1, affine=True, track_running_stats=True)\n",
            "      (2): ReLU(inplace=True)\n",
            "      (3): Conv2d(64, 64, kernel_size=(3, 3), stride=(1, 1), padding=(1, 1))\n",
            "      (4): BatchNorm2d(64, eps=1e-05, momentum=0.1, affine=True, track_running_stats=True)\n",
            "      (5): ReLU(inplace=True)\n",
            "    )\n",
            "  )\n",
            "  (down1): DoubleConv(\n",
            "    (double_conv): Sequential(\n",
            "      (0): Conv2d(64, 128, kernel_size=(3, 3), stride=(1, 1), padding=(1, 1))\n",
            "      (1): BatchNorm2d(128, eps=1e-05, momentum=0.1, affine=True, track_running_stats=True)\n",
            "      (2): ReLU(inplace=True)\n",
            "      (3): Conv2d(128, 128, kernel_size=(3, 3), stride=(1, 1), padding=(1, 1))\n",
            "      (4): BatchNorm2d(128, eps=1e-05, momentum=0.1, affine=True, track_running_stats=True)\n",
            "      (5): ReLU(inplace=True)\n",
            "    )\n",
            "  )\n",
            "  (down2): DoubleConv(\n",
            "    (double_conv): Sequential(\n",
            "      (0): Conv2d(128, 256, kernel_size=(3, 3), stride=(1, 1), padding=(1, 1))\n",
            "      (1): BatchNorm2d(256, eps=1e-05, momentum=0.1, affine=True, track_running_stats=True)\n",
            "      (2): ReLU(inplace=True)\n",
            "      (3): Conv2d(256, 256, kernel_size=(3, 3), stride=(1, 1), padding=(1, 1))\n",
            "      (4): BatchNorm2d(256, eps=1e-05, momentum=0.1, affine=True, track_running_stats=True)\n",
            "      (5): ReLU(inplace=True)\n",
            "    )\n",
            "  )\n",
            "  (down3): DoubleConv(\n",
            "    (double_conv): Sequential(\n",
            "      (0): Conv2d(256, 512, kernel_size=(3, 3), stride=(1, 1), padding=(1, 1))\n",
            "      (1): BatchNorm2d(512, eps=1e-05, momentum=0.1, affine=True, track_running_stats=True)\n",
            "      (2): ReLU(inplace=True)\n",
            "      (3): Conv2d(512, 512, kernel_size=(3, 3), stride=(1, 1), padding=(1, 1))\n",
            "      (4): BatchNorm2d(512, eps=1e-05, momentum=0.1, affine=True, track_running_stats=True)\n",
            "      (5): ReLU(inplace=True)\n",
            "    )\n",
            "  )\n",
            "  (down4): DoubleConv(\n",
            "    (double_conv): Sequential(\n",
            "      (0): Conv2d(512, 512, kernel_size=(3, 3), stride=(1, 1), padding=(1, 1))\n",
            "      (1): BatchNorm2d(512, eps=1e-05, momentum=0.1, affine=True, track_running_stats=True)\n",
            "      (2): ReLU(inplace=True)\n",
            "      (3): Conv2d(512, 512, kernel_size=(3, 3), stride=(1, 1), padding=(1, 1))\n",
            "      (4): BatchNorm2d(512, eps=1e-05, momentum=0.1, affine=True, track_running_stats=True)\n",
            "      (5): ReLU(inplace=True)\n",
            "    )\n",
            "  )\n",
            "  (avgpool): AdaptiveAvgPool2d(output_size=1)\n",
            "  (fc): Linear(in_features=512, out_features=1, bias=True)\n",
            "  (sigmoid): Sigmoid()\n",
            ")\n"
          ]
        }
      ]
    },
    {
      "cell_type": "code",
      "source": [
        "images_train, labels_train = remove_false_images(images, labels, droprate)\n",
        "# train_dataset = CustomDataset(images_train, labels_train, transform=transform_standard)\n",
        "train_dataset = CustomDataset(images_train, labels_train, transform=None)\n",
        "train_loader = DataLoader(train_dataset, batch_size=batch_size, shuffle=True, drop_last=True)\n",
        "\n",
        "valid_dataset = CustomDataset(images_valid, labels_valid, transform=None)\n",
        "# valid_dataset = CustomDataset(images_valid, labels_valid, transform=transform_standard)\n",
        "valid_loader = DataLoader(valid_dataset, batch_size=batch_size, shuffle=False, drop_last=False)"
      ],
      "metadata": {
        "id": "OOjWojECehbQ"
      },
      "execution_count": 50,
      "outputs": []
    },
    {
      "cell_type": "markdown",
      "source": [
        "## 初始化 for not first run"
      ],
      "metadata": {
        "id": "hIdh88yk2Y9x"
      }
    },
    {
      "cell_type": "code",
      "source": [
        "# model = pretrained_model\n",
        "model = unet_model\n",
        "print(model_name)\n"
      ],
      "metadata": {
        "id": "QSeqP7_zO1FO",
        "colab": {
          "base_uri": "https://localhost:8080/"
        },
        "outputId": "386db4e4-9c0e-4c66-b9a9-1c7b615ad8c8"
      },
      "execution_count": 72,
      "outputs": [
        {
          "output_type": "stream",
          "name": "stdout",
          "text": [
            "unet_without_decoder\n"
          ]
        }
      ]
    },
    {
      "cell_type": "code",
      "source": [
        "model = model.to(device)\n",
        "num_epochs = 100\n",
        "lr = 0.01\n",
        "droprate = 0.8\n",
        "criterion = nn.BCELoss()\n",
        "optimizer = optim.Adam(model.parameters(), lr)\n",
        "# optimizer = optim.SGD(model.parameters(), lr=lr, momentum=0.9)\n",
        "model, optimizer, params, filename = load_model(model, optimizer)\n",
        "\n",
        "# # Define the learning rate scheduler\n",
        "# # You'll need to choose appropriate values for T_0 and T_mult\n",
        "# T_0 = 10  # Example value\n",
        "# T_mult = 2  # Example value\n",
        "# lr_scheduler = optim.lr_scheduler.CosineAnnealingWarmRestarts(optimizer, T_0=T_0, T_mult=T_mult)\n",
        "\n",
        "try:\n",
        "  batch_size = params['batch_size']\n",
        "except:\n",
        "  batch_size = int(input(\"batch_size:\"))\n",
        "print(batch_size)\n",
        "start = int(filename.split('_')[-1]) + 1\n",
        "\n",
        "print(model_name)"
      ],
      "metadata": {
        "id": "PQkT5JF-2JYA",
        "colab": {
          "base_uri": "https://localhost:8080/"
        },
        "outputId": "addd58a8-23ee-4e7a-9daf-3ca37453ebb1"
      },
      "execution_count": 73,
      "outputs": [
        {
          "output_type": "stream",
          "name": "stdout",
          "text": [
            "請輸入模型參數檔案名稱:unet_without_decoder_20\n",
            "請輸入儲存模型的母資料夾名稱:unet_0.8_onlytrain\n",
            "<All keys matched successfully>\n",
            "batch_size:128\n",
            "128\n",
            "unet_without_decoder\n"
          ]
        }
      ]
    },
    {
      "cell_type": "code",
      "source": [
        "print(model_name)"
      ],
      "metadata": {
        "id": "s4ZhWiyQGIWn"
      },
      "execution_count": null,
      "outputs": []
    },
    {
      "cell_type": "code",
      "source": [
        "images_train, labels_train = remove_false_images(images, labels, droprate)\n",
        "\n",
        "train_dataset = CustomDataset(images_train, labels_train, transform=transform_standard)\n",
        "train_loader = DataLoader(train_dataset, batch_size=batch_size, shuffle=True, drop_last=True)\n",
        "\n",
        "valid_dataset = CustomDataset(images_valid, labels_valid, transform=transform_standard)\n",
        "valid_loader = DataLoader(valid_dataset, batch_size=batch_size, shuffle=False, drop_last=False)"
      ],
      "metadata": {
        "id": "Y01JgzmTeqSP"
      },
      "execution_count": null,
      "outputs": []
    },
    {
      "cell_type": "markdown",
      "source": [
        "## 訓練"
      ],
      "metadata": {
        "id": "Y6ycO0JKab3I"
      }
    },
    {
      "cell_type": "code",
      "source": [
        "modeldirname = input(\"dirname: \")\n",
        "\n",
        "\n",
        "running_loss_list = []\n",
        "testing_loss_list = []\n",
        "running_accu_list = []\n",
        "testing_accu_list = []\n",
        "\n",
        "\n",
        "\n",
        "tabnames = [f\"{epoch*10}~{epoch*10+9}\" for epoch in range(num_epochs//10)]\n",
        "tab = create_tab(tabnames)\n",
        "\n",
        "for epoch in range(start, num_epochs):\n",
        "\n",
        "    epoch_loss, epoch_accuracy, predict_list_train, labels_train_display = train(train_loader, model, optimizer, criterion, 0.5, device)\n",
        "    valid_loss, valid_accuracy, predict_list_valid, labels_valid_display = valid(valid_loader, model, criterion, 0.5, device)\n",
        "    # lr_scheduler.step()  # learning rate 調整\n",
        "\n",
        "    running_loss_list.append(epoch_loss)\n",
        "    testing_loss_list.append(valid_loss)\n",
        "    running_accu_list.append(epoch_accuracy)\n",
        "    testing_accu_list.append(valid_accuracy)\n",
        "\n",
        "\n",
        "    with tab.output_to(epoch//10):\n",
        "      display_train((epoch_loss, epoch_accuracy, valid_loss, valid_accuracy),\n",
        "                    (predict_list_valid, labels_valid_display),\n",
        "                    (predict_list_train, labels_train_display))\n",
        "\n",
        "    images_train, labels_train = remove_false_images(images, labels, droprate)\n",
        "    # train_dataset = CustomDataset(images_train, labels_train,transform=transform_standard)\n",
        "    train_dataset = CustomDataset(images_train, labels_train,transform=None)\n",
        "    train_loader = DataLoader(train_dataset, batch_size=batch_size, shuffle=True, drop_last=True)\n",
        "\n",
        "    if epoch % 10 == 0:\n",
        "      savepath = save_model(model, f'{model_name}_{epoch}', dirname=modeldirname)\n",
        "\n",
        "savepath = save_model(model, f'{model_name}_{num_epochs}', dirname=modeldirname)\n"
      ],
      "metadata": {
        "id": "VYZi4cO75LJZ",
        "colab": {
          "base_uri": "https://localhost:8080/",
          "height": 1000,
          "resources": {
            "http://localhost:8080/nbextensions/google.colab/tabbar.css": {
              "data": "Lmdvb2ctdGFie3Bvc2l0aW9uOnJlbGF0aXZlO3BhZGRpbmc6NHB4IDhweDtjb2xvcjojMDBjO3RleHQtZGVjb3JhdGlvbjp1bmRlcmxpbmU7Y3Vyc29yOmRlZmF1bHR9Lmdvb2ctdGFiLWJhci10b3AgLmdvb2ctdGFie21hcmdpbjoxcHggNHB4IDAgMDtib3JkZXItYm90dG9tOjA7ZmxvYXQ6bGVmdH0uZ29vZy10YWItYmFyLXRvcDphZnRlciwuZ29vZy10YWItYmFyLWJvdHRvbTphZnRlcntjb250ZW50OiIgIjtkaXNwbGF5OmJsb2NrO2hlaWdodDowO2NsZWFyOmJvdGg7dmlzaWJpbGl0eTpoaWRkZW59Lmdvb2ctdGFiLWJhci1ib3R0b20gLmdvb2ctdGFie21hcmdpbjowIDRweCAxcHggMDtib3JkZXItdG9wOjA7ZmxvYXQ6bGVmdH0uZ29vZy10YWItYmFyLXN0YXJ0IC5nb29nLXRhYnttYXJnaW46MCAwIDRweCAxcHg7Ym9yZGVyLXJpZ2h0OjB9Lmdvb2ctdGFiLWJhci1lbmQgLmdvb2ctdGFie21hcmdpbjowIDFweCA0cHggMDtib3JkZXItbGVmdDowfS5nb29nLXRhYi1ob3ZlcntiYWNrZ3JvdW5kOiNlZWV9Lmdvb2ctdGFiLWRpc2FibGVke2NvbG9yOiM2NjZ9Lmdvb2ctdGFiLXNlbGVjdGVke2NvbG9yOiMwMDA7YmFja2dyb3VuZDojZmZmO3RleHQtZGVjb3JhdGlvbjpub25lO2ZvbnQtd2VpZ2h0OmJvbGQ7Ym9yZGVyOjFweCBzb2xpZCAjNmI5MGRhfS5nb29nLXRhYi1iYXItdG9we3BhZGRpbmctdG9wOjVweCFpbXBvcnRhbnQ7cGFkZGluZy1sZWZ0OjVweCFpbXBvcnRhbnQ7Ym9yZGVyLWJvdHRvbToxcHggc29saWQgIzZiOTBkYSFpbXBvcnRhbnR9Lmdvb2ctdGFiLWJhci10b3AgLmdvb2ctdGFiLXNlbGVjdGVke3RvcDoxcHg7bWFyZ2luLXRvcDowO3BhZGRpbmctYm90dG9tOjVweH0uZ29vZy10YWItYmFyLWJvdHRvbSAuZ29vZy10YWItc2VsZWN0ZWR7dG9wOi0xcHg7bWFyZ2luLWJvdHRvbTowO3BhZGRpbmctdG9wOjVweH0uZ29vZy10YWItYmFyLXN0YXJ0IC5nb29nLXRhYi1zZWxlY3RlZHtsZWZ0OjFweDttYXJnaW4tbGVmdDowO3BhZGRpbmctcmlnaHQ6OXB4fS5nb29nLXRhYi1iYXItZW5kIC5nb29nLXRhYi1zZWxlY3RlZHtsZWZ0Oi0xcHg7bWFyZ2luLXJpZ2h0OjA7cGFkZGluZy1sZWZ0OjlweH0uZ29vZy10YWItYmFye21hcmdpbjowO2JvcmRlcjowO3BhZGRpbmc6MDtsaXN0LXN0eWxlOm5vbmU7Y3Vyc29yOmRlZmF1bHQ7b3V0bGluZTpub25lO2JhY2tncm91bmQ6I2ViZWZmOX0uZ29vZy10YWItYmFyLWNsZWFye2NsZWFyOmJvdGg7aGVpZ2h0OjA7b3ZlcmZsb3c6aGlkZGVufS5nb29nLXRhYi1iYXItc3RhcnR7ZmxvYXQ6bGVmdH0uZ29vZy10YWItYmFyLWVuZHtmbG9hdDpyaWdodH0qIGh0bWwgLmdvb2ctdGFiLWJhci1zdGFydHttYXJnaW4tcmlnaHQ6LTNweH0qIGh0bWwgLmdvb2ctdGFiLWJhci1lbmR7bWFyZ2luLWxlZnQ6LTNweH0=",
              "ok": true,
              "headers": [
                [
                  "content-type",
                  "text/css"
                ]
              ],
              "status": 200,
              "status_text": ""
            },
            "http://localhost:8080/nbextensions/google.colab/tabbar_main.min.js": {
              "data": "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",
              "ok": true,
              "headers": [
                [
                  "content-type",
                  "application/javascript"
                ]
              ],
              "status": 200,
              "status_text": ""
            }
          }
        },
        "outputId": "3c75aff9-ee2a-43bd-ad2c-1cedfba66525"
      },
      "execution_count": null,
      "outputs": [
        {
          "name": "stdout",
          "output_type": "stream",
          "text": [
            "dirname: test\n"
          ]
        },
        {
          "output_type": "display_data",
          "data": {
            "text/plain": [
              "<IPython.core.display.HTML object>"
            ],
            "text/html": [
              "<link rel=stylesheet type=text/css href='/nbextensions/google.colab/tabbar.css'></link>"
            ]
          },
          "metadata": {}
        },
        {
          "output_type": "display_data",
          "data": {
            "text/plain": [
              "<IPython.core.display.HTML object>"
            ],
            "text/html": [
              "<script src='/nbextensions/google.colab/tabbar_main.min.js'></script>"
            ]
          },
          "metadata": {}
        },
        {
          "output_type": "display_data",
          "data": {
            "text/plain": [
              "<IPython.core.display.HTML object>"
            ],
            "text/html": [
              "<div id=\"id5\"></div>"
            ]
          },
          "metadata": {}
        },
        {
          "output_type": "display_data",
          "data": {
            "text/plain": [
              "<IPython.core.display.Javascript object>"
            ],
            "application/javascript": [
              "window[\"c8bf218e-ba18-11ee-a1de-0242ac1c000c\"] = colab_lib.createTabBar({\"location\": \"top\", \"elementId\": \"id5\", \"tabNames\": [\"0~9\", \"10~19\", \"20~29\", \"30~39\", \"40~49\", \"50~59\", \"60~69\", \"70~79\", \"80~89\", \"90~99\", \"100~109\", \"110~119\", \"120~129\", \"130~139\", \"140~149\", \"150~159\", \"160~169\", \"170~179\", \"180~189\", \"190~199\"], \"initialSelection\": 0, \"contentBorder\": [\"0px\"], \"contentHeight\": [\"initial\"], \"borderColor\": [\"#a7a7a7\"]});\n",
              "//# sourceURL=js_5055ab67f1"
            ]
          },
          "metadata": {}
        },
        {
          "output_type": "display_data",
          "data": {
            "text/plain": [
              "<IPython.core.display.Javascript object>"
            ],
            "application/javascript": [
              "window[\"c8bf55d2-ba18-11ee-a1de-0242ac1c000c\"] = window[\"id5\"].setSelectedTabIndex(0);\n",
              "//# sourceURL=js_596c1b560b"
            ]
          },
          "metadata": {}
        },
        {
          "output_type": "display_data",
          "data": {
            "text/plain": [
              "<IPython.core.display.Javascript object>"
            ],
            "application/javascript": [
              "window[\"e01873e4-ba18-11ee-a1de-0242ac1c000c\"] = google.colab.output.getActiveOutputArea();\n",
              "//# sourceURL=js_54997534bf"
            ]
          },
          "metadata": {}
        },
        {
          "output_type": "display_data",
          "data": {
            "text/plain": [
              "<IPython.core.display.Javascript object>"
            ],
            "application/javascript": [
              "window[\"e018c22c-ba18-11ee-a1de-0242ac1c000c\"] = document.querySelector(\"#id5_content_0\");\n",
              "//# sourceURL=js_4a066b145e"
            ]
          },
          "metadata": {}
        },
        {
          "output_type": "display_data",
          "data": {
            "text/plain": [
              "<IPython.core.display.Javascript object>"
            ],
            "application/javascript": [
              "window[\"e018fc7e-ba18-11ee-a1de-0242ac1c000c\"] = google.colab.output.setActiveOutputArea(window[\"e018c22c-ba18-11ee-a1de-0242ac1c000c\"]);\n",
              "//# sourceURL=js_4c845575bb"
            ]
          },
          "metadata": {}
        },
        {
          "output_type": "display_data",
          "data": {
            "text/plain": [
              "<IPython.core.display.Javascript object>"
            ],
            "application/javascript": [
              "window[\"e0193432-ba18-11ee-a1de-0242ac1c000c\"] = window[\"id5\"].setSelectedTabIndex(0);\n",
              "//# sourceURL=js_05e08e4742"
            ]
          },
          "metadata": {}
        },
        {
          "output_type": "stream",
          "name": "stdout",
          "text": [
            "------------------------------------------------------\n",
            "Epoch  train_loss  train_accu   valid_loss  valid_accu\n",
            "    0: 0.15566128  93.46438172%  0.27465272  85.96666667%\n",
            "(valid)recall      precision    F1\n",
            "       0.47194719  0.26270667   0.33752950\n",
            "       TP_v=429  FP_v=1204  FN_v=480  TN_v=9887\n",
            "(train)recall      precision    F1\n",
            "       0.10435931  0.44134078   0.16880342\n",
            "       TP_t=79  FP_t=100  FN_t=678  TN_t=11047\n",
            "------------------------------------------------------\n"
          ]
        },
        {
          "output_type": "display_data",
          "data": {
            "text/plain": [
              "<IPython.core.display.Javascript object>"
            ],
            "application/javascript": [
              "window[\"e01a856c-ba18-11ee-a1de-0242ac1c000c\"] = google.colab.output.setActiveOutputArea(window[\"e01873e4-ba18-11ee-a1de-0242ac1c000c\"]);\n",
              "//# sourceURL=js_ba72347e12"
            ]
          },
          "metadata": {}
        },
        {
          "output_type": "stream",
          "name": "stdout",
          "text": [
            "model will be saved as /content/drive/MyDrive/AOCR2024/params/test/unet_without_decoder_0\n",
            "/content/drive/MyDrive/AOCR2024/params/test/unet_without_decoder_0.pth exist.\n"
          ]
        },
        {
          "output_type": "display_data",
          "data": {
            "text/plain": [
              "<IPython.core.display.Javascript object>"
            ],
            "application/javascript": [
              "window[\"f7f3d238-ba18-11ee-a1de-0242ac1c000c\"] = google.colab.output.getActiveOutputArea();\n",
              "//# sourceURL=js_2468cce196"
            ]
          },
          "metadata": {}
        },
        {
          "output_type": "display_data",
          "data": {
            "text/plain": [
              "<IPython.core.display.Javascript object>"
            ],
            "application/javascript": [
              "window[\"f7f42062-ba18-11ee-a1de-0242ac1c000c\"] = document.querySelector(\"#id5_content_0\");\n",
              "//# sourceURL=js_09157fe8ba"
            ]
          },
          "metadata": {}
        },
        {
          "output_type": "display_data",
          "data": {
            "text/plain": [
              "<IPython.core.display.Javascript object>"
            ],
            "application/javascript": [
              "window[\"f7f45d34-ba18-11ee-a1de-0242ac1c000c\"] = google.colab.output.setActiveOutputArea(window[\"f7f42062-ba18-11ee-a1de-0242ac1c000c\"]);\n",
              "//# sourceURL=js_362a9efe5d"
            ]
          },
          "metadata": {}
        },
        {
          "output_type": "display_data",
          "data": {
            "text/plain": [
              "<IPython.core.display.Javascript object>"
            ],
            "application/javascript": [
              "window[\"f7f496b4-ba18-11ee-a1de-0242ac1c000c\"] = window[\"id5\"].setSelectedTabIndex(0);\n",
              "//# sourceURL=js_9b0d391386"
            ]
          },
          "metadata": {}
        },
        {
          "output_type": "stream",
          "name": "stdout",
          "text": [
            "------------------------------------------------------\n",
            "Epoch  train_loss  train_accu   valid_loss  valid_accu\n",
            "    1: 0.14753831  93.90961022%  0.21192089  92.10000000%\n",
            "(valid)recall      precision    F1\n",
            "       0.08470847  0.39896373   0.13974592\n",
            "       TP_v=77  FP_v=116  FN_v=832  TN_v=10975\n",
            "(train)recall      precision    F1\n",
            "       0.17105263  0.57777778   0.26395939\n",
            "       TP_t=130  FP_t=95  FN_t=630  TN_t=11049\n",
            "------------------------------------------------------\n"
          ]
        },
        {
          "output_type": "display_data",
          "data": {
            "text/plain": [
              "<IPython.core.display.Javascript object>"
            ],
            "application/javascript": [
              "window[\"f7f5fa22-ba18-11ee-a1de-0242ac1c000c\"] = google.colab.output.setActiveOutputArea(window[\"f7f3d238-ba18-11ee-a1de-0242ac1c000c\"]);\n",
              "//# sourceURL=js_0121ea19fe"
            ]
          },
          "metadata": {}
        },
        {
          "output_type": "display_data",
          "data": {
            "text/plain": [
              "<IPython.core.display.Javascript object>"
            ],
            "application/javascript": [
              "window[\"0fd6b60e-ba19-11ee-a1de-0242ac1c000c\"] = google.colab.output.getActiveOutputArea();\n",
              "//# sourceURL=js_b5af4d000d"
            ]
          },
          "metadata": {}
        },
        {
          "output_type": "display_data",
          "data": {
            "text/plain": [
              "<IPython.core.display.Javascript object>"
            ],
            "application/javascript": [
              "window[\"0fd6f650-ba19-11ee-a1de-0242ac1c000c\"] = document.querySelector(\"#id5_content_0\");\n",
              "//# sourceURL=js_d7f2efa813"
            ]
          },
          "metadata": {}
        },
        {
          "output_type": "display_data",
          "data": {
            "text/plain": [
              "<IPython.core.display.Javascript object>"
            ],
            "application/javascript": [
              "window[\"0fd731f6-ba19-11ee-a1de-0242ac1c000c\"] = google.colab.output.setActiveOutputArea(window[\"0fd6f650-ba19-11ee-a1de-0242ac1c000c\"]);\n",
              "//# sourceURL=js_57ac4193c2"
            ]
          },
          "metadata": {}
        },
        {
          "output_type": "display_data",
          "data": {
            "text/plain": [
              "<IPython.core.display.Javascript object>"
            ],
            "application/javascript": [
              "window[\"0fd76590-ba19-11ee-a1de-0242ac1c000c\"] = window[\"id5\"].setSelectedTabIndex(0);\n",
              "//# sourceURL=js_aeb50c5a97"
            ]
          },
          "metadata": {}
        },
        {
          "output_type": "stream",
          "name": "stdout",
          "text": [
            "------------------------------------------------------\n",
            "Epoch  train_loss  train_accu   valid_loss  valid_accu\n",
            "    2: 0.14028813  94.12802419%  0.20435815  91.85833333%\n",
            "(valid)recall      precision    F1\n",
            "       0.10451045  0.36821705   0.16281063\n",
            "       TP_v=95  FP_v=163  FN_v=814  TN_v=10928\n",
            "(train)recall      precision    F1\n",
            "       0.20211361  0.61693548   0.30447761\n",
            "       TP_t=153  FP_t=95  FN_t=604  TN_t=11052\n",
            "------------------------------------------------------\n"
          ]
        },
        {
          "output_type": "display_data",
          "data": {
            "text/plain": [
              "<IPython.core.display.Javascript object>"
            ],
            "application/javascript": [
              "window[\"0fd8aae0-ba19-11ee-a1de-0242ac1c000c\"] = google.colab.output.setActiveOutputArea(window[\"0fd6b60e-ba19-11ee-a1de-0242ac1c000c\"]);\n",
              "//# sourceURL=js_ac31dffb8f"
            ]
          },
          "metadata": {}
        },
        {
          "output_type": "display_data",
          "data": {
            "text/plain": [
              "<IPython.core.display.Javascript object>"
            ],
            "application/javascript": [
              "window[\"27be5bfa-ba19-11ee-a1de-0242ac1c000c\"] = google.colab.output.getActiveOutputArea();\n",
              "//# sourceURL=js_b4da64bfea"
            ]
          },
          "metadata": {}
        },
        {
          "output_type": "display_data",
          "data": {
            "text/plain": [
              "<IPython.core.display.Javascript object>"
            ],
            "application/javascript": [
              "window[\"27beb05a-ba19-11ee-a1de-0242ac1c000c\"] = document.querySelector(\"#id5_content_0\");\n",
              "//# sourceURL=js_cfbe0ad696"
            ]
          },
          "metadata": {}
        },
        {
          "output_type": "display_data",
          "data": {
            "text/plain": [
              "<IPython.core.display.Javascript object>"
            ],
            "application/javascript": [
              "window[\"27beeeb2-ba19-11ee-a1de-0242ac1c000c\"] = google.colab.output.setActiveOutputArea(window[\"27beb05a-ba19-11ee-a1de-0242ac1c000c\"]);\n",
              "//# sourceURL=js_adbb849f20"
            ]
          },
          "metadata": {}
        },
        {
          "output_type": "display_data",
          "data": {
            "text/plain": [
              "<IPython.core.display.Javascript object>"
            ],
            "application/javascript": [
              "window[\"27bf280a-ba19-11ee-a1de-0242ac1c000c\"] = window[\"id5\"].setSelectedTabIndex(0);\n",
              "//# sourceURL=js_bde38e1ce8"
            ]
          },
          "metadata": {}
        },
        {
          "output_type": "stream",
          "name": "stdout",
          "text": [
            "------------------------------------------------------\n",
            "Epoch  train_loss  train_accu   valid_loss  valid_accu\n",
            "    3: 0.13102156  94.43884409%  0.41246243  92.42500000%\n",
            "(valid)recall      precision    F1\n",
            "       0.00000000  0.00000000   0.00000000\n",
            "       TP_v=0  FP_v=0  FN_v=909  TN_v=11091\n",
            "(train)recall      precision    F1\n",
            "       0.29947230  0.63407821   0.40681004\n",
            "       TP_t=227  FP_t=131  FN_t=531  TN_t=11015\n",
            "------------------------------------------------------\n"
          ]
        },
        {
          "output_type": "stream",
          "name": "stderr",
          "text": [
            "<ipython-input-4-56f58e11bbf3>:18: RuntimeWarning: invalid value encountered in long_scalars\n",
            "  precision = TP/(TP + FP)\n"
          ]
        },
        {
          "output_type": "display_data",
          "data": {
            "text/plain": [
              "<IPython.core.display.Javascript object>"
            ],
            "application/javascript": [
              "window[\"27c09dd4-ba19-11ee-a1de-0242ac1c000c\"] = google.colab.output.setActiveOutputArea(window[\"27be5bfa-ba19-11ee-a1de-0242ac1c000c\"]);\n",
              "//# sourceURL=js_985b3a92b7"
            ]
          },
          "metadata": {}
        },
        {
          "output_type": "display_data",
          "data": {
            "text/plain": [
              "<IPython.core.display.Javascript object>"
            ],
            "application/javascript": [
              "window[\"3f5b4eda-ba19-11ee-a1de-0242ac1c000c\"] = google.colab.output.getActiveOutputArea();\n",
              "//# sourceURL=js_3cea301829"
            ]
          },
          "metadata": {}
        },
        {
          "output_type": "display_data",
          "data": {
            "text/plain": [
              "<IPython.core.display.Javascript object>"
            ],
            "application/javascript": [
              "window[\"3f5b9dfe-ba19-11ee-a1de-0242ac1c000c\"] = document.querySelector(\"#id5_content_0\");\n",
              "//# sourceURL=js_7a7698346b"
            ]
          },
          "metadata": {}
        },
        {
          "output_type": "display_data",
          "data": {
            "text/plain": [
              "<IPython.core.display.Javascript object>"
            ],
            "application/javascript": [
              "window[\"3f5bdc92-ba19-11ee-a1de-0242ac1c000c\"] = google.colab.output.setActiveOutputArea(window[\"3f5b9dfe-ba19-11ee-a1de-0242ac1c000c\"]);\n",
              "//# sourceURL=js_2dfe6494a5"
            ]
          },
          "metadata": {}
        },
        {
          "output_type": "display_data",
          "data": {
            "text/plain": [
              "<IPython.core.display.Javascript object>"
            ],
            "application/javascript": [
              "window[\"3f5c1108-ba19-11ee-a1de-0242ac1c000c\"] = window[\"id5\"].setSelectedTabIndex(0);\n",
              "//# sourceURL=js_9792e8d85b"
            ]
          },
          "metadata": {}
        },
        {
          "output_type": "stream",
          "name": "stdout",
          "text": [
            "------------------------------------------------------\n",
            "Epoch  train_loss  train_accu   valid_loss  valid_accu\n",
            "    4: 0.12570615  94.53125000%  0.21965063  90.57500000%\n",
            "(valid)recall      precision    F1\n",
            "       0.26072607  0.34051724   0.29532710\n",
            "       TP_v=237  FP_v=459  FN_v=672  TN_v=10632\n",
            "(train)recall      precision    F1\n",
            "       0.34034166  0.63480392   0.44311377\n",
            "       TP_t=259  FP_t=149  FN_t=502  TN_t=10994\n",
            "------------------------------------------------------\n"
          ]
        },
        {
          "output_type": "display_data",
          "data": {
            "text/plain": [
              "<IPython.core.display.Javascript object>"
            ],
            "application/javascript": [
              "window[\"3f5d74e4-ba19-11ee-a1de-0242ac1c000c\"] = google.colab.output.setActiveOutputArea(window[\"3f5b4eda-ba19-11ee-a1de-0242ac1c000c\"]);\n",
              "//# sourceURL=js_0242d3d9f7"
            ]
          },
          "metadata": {}
        },
        {
          "output_type": "display_data",
          "data": {
            "text/plain": [
              "<IPython.core.display.Javascript object>"
            ],
            "application/javascript": [
              "window[\"5744e52e-ba19-11ee-a1de-0242ac1c000c\"] = google.colab.output.getActiveOutputArea();\n",
              "//# sourceURL=js_c583277ebf"
            ]
          },
          "metadata": {}
        },
        {
          "output_type": "display_data",
          "data": {
            "text/plain": [
              "<IPython.core.display.Javascript object>"
            ],
            "application/javascript": [
              "window[\"57453f6a-ba19-11ee-a1de-0242ac1c000c\"] = document.querySelector(\"#id5_content_0\");\n",
              "//# sourceURL=js_817f541f3a"
            ]
          },
          "metadata": {}
        },
        {
          "output_type": "display_data",
          "data": {
            "text/plain": [
              "<IPython.core.display.Javascript object>"
            ],
            "application/javascript": [
              "window[\"574581d2-ba19-11ee-a1de-0242ac1c000c\"] = google.colab.output.setActiveOutputArea(window[\"57453f6a-ba19-11ee-a1de-0242ac1c000c\"]);\n",
              "//# sourceURL=js_f1e34b76e1"
            ]
          },
          "metadata": {}
        },
        {
          "output_type": "display_data",
          "data": {
            "text/plain": [
              "<IPython.core.display.Javascript object>"
            ],
            "application/javascript": [
              "window[\"5745c6d8-ba19-11ee-a1de-0242ac1c000c\"] = window[\"id5\"].setSelectedTabIndex(0);\n",
              "//# sourceURL=js_1c4eabf2bd"
            ]
          },
          "metadata": {}
        },
        {
          "output_type": "stream",
          "name": "stdout",
          "text": [
            "------------------------------------------------------\n",
            "Epoch  train_loss  train_accu   valid_loss  valid_accu\n",
            "    5: 0.11663245  95.07728495%  0.39857434  80.54166667%\n",
            "(valid)recall      precision    F1\n",
            "       0.74147415  0.24297044   0.36600597\n",
            "       TP_v=674  FP_v=2100  FN_v=235  TN_v=8991\n",
            "(train)recall      precision    F1\n",
            "       0.43007916  0.67916667   0.52665590\n",
            "       TP_t=326  FP_t=154  FN_t=432  TN_t=10992\n",
            "------------------------------------------------------\n"
          ]
        },
        {
          "output_type": "display_data",
          "data": {
            "text/plain": [
              "<IPython.core.display.Javascript object>"
            ],
            "application/javascript": [
              "window[\"57474a1c-ba19-11ee-a1de-0242ac1c000c\"] = google.colab.output.setActiveOutputArea(window[\"5744e52e-ba19-11ee-a1de-0242ac1c000c\"]);\n",
              "//# sourceURL=js_1226047382"
            ]
          },
          "metadata": {}
        },
        {
          "output_type": "display_data",
          "data": {
            "text/plain": [
              "<IPython.core.display.Javascript object>"
            ],
            "application/javascript": [
              "window[\"6f1365c2-ba19-11ee-a1de-0242ac1c000c\"] = google.colab.output.getActiveOutputArea();\n",
              "//# sourceURL=js_8570f7700b"
            ]
          },
          "metadata": {}
        },
        {
          "output_type": "display_data",
          "data": {
            "text/plain": [
              "<IPython.core.display.Javascript object>"
            ],
            "application/javascript": [
              "window[\"6f13a1fe-ba19-11ee-a1de-0242ac1c000c\"] = document.querySelector(\"#id5_content_0\");\n",
              "//# sourceURL=js_62ac49ecc3"
            ]
          },
          "metadata": {}
        },
        {
          "output_type": "display_data",
          "data": {
            "text/plain": [
              "<IPython.core.display.Javascript object>"
            ],
            "application/javascript": [
              "window[\"6f13e948-ba19-11ee-a1de-0242ac1c000c\"] = google.colab.output.setActiveOutputArea(window[\"6f13a1fe-ba19-11ee-a1de-0242ac1c000c\"]);\n",
              "//# sourceURL=js_f4b828955b"
            ]
          },
          "metadata": {}
        },
        {
          "output_type": "display_data",
          "data": {
            "text/plain": [
              "<IPython.core.display.Javascript object>"
            ],
            "application/javascript": [
              "window[\"6f141da0-ba19-11ee-a1de-0242ac1c000c\"] = window[\"id5\"].setSelectedTabIndex(0);\n",
              "//# sourceURL=js_1589fa88fc"
            ]
          },
          "metadata": {}
        },
        {
          "output_type": "stream",
          "name": "stdout",
          "text": [
            "------------------------------------------------------\n",
            "Epoch  train_loss  train_accu   valid_loss  valid_accu\n",
            "    6: 0.11083455  95.24529570%  0.29024108  92.44166667%\n",
            "(valid)recall      precision    F1\n",
            "       0.01430143  0.54166667   0.02786710\n",
            "       TP_v=13  FP_v=11  FN_v=896  TN_v=11080\n",
            "(train)recall      precision    F1\n",
            "       0.46754967  0.68278530   0.55503145\n",
            "       TP_t=353  FP_t=164  FN_t=402  TN_t=10985\n",
            "------------------------------------------------------\n"
          ]
        },
        {
          "output_type": "display_data",
          "data": {
            "text/plain": [
              "<IPython.core.display.Javascript object>"
            ],
            "application/javascript": [
              "window[\"6f156ce6-ba19-11ee-a1de-0242ac1c000c\"] = google.colab.output.setActiveOutputArea(window[\"6f1365c2-ba19-11ee-a1de-0242ac1c000c\"]);\n",
              "//# sourceURL=js_ec3d031813"
            ]
          },
          "metadata": {}
        },
        {
          "output_type": "display_data",
          "data": {
            "text/plain": [
              "<IPython.core.display.Javascript object>"
            ],
            "application/javascript": [
              "window[\"86c7cb0e-ba19-11ee-a1de-0242ac1c000c\"] = google.colab.output.getActiveOutputArea();\n",
              "//# sourceURL=js_5ed516bb3c"
            ]
          },
          "metadata": {}
        },
        {
          "output_type": "display_data",
          "data": {
            "text/plain": [
              "<IPython.core.display.Javascript object>"
            ],
            "application/javascript": [
              "window[\"86c80ca4-ba19-11ee-a1de-0242ac1c000c\"] = document.querySelector(\"#id5_content_0\");\n",
              "//# sourceURL=js_182cc722e3"
            ]
          },
          "metadata": {}
        },
        {
          "output_type": "display_data",
          "data": {
            "text/plain": [
              "<IPython.core.display.Javascript object>"
            ],
            "application/javascript": [
              "window[\"86c84b38-ba19-11ee-a1de-0242ac1c000c\"] = google.colab.output.setActiveOutputArea(window[\"86c80ca4-ba19-11ee-a1de-0242ac1c000c\"]);\n",
              "//# sourceURL=js_b9089429b8"
            ]
          },
          "metadata": {}
        },
        {
          "output_type": "display_data",
          "data": {
            "text/plain": [
              "<IPython.core.display.Javascript object>"
            ],
            "application/javascript": [
              "window[\"86c87fe0-ba19-11ee-a1de-0242ac1c000c\"] = window[\"id5\"].setSelectedTabIndex(0);\n",
              "//# sourceURL=js_79427c75ec"
            ]
          },
          "metadata": {}
        },
        {
          "output_type": "stream",
          "name": "stdout",
          "text": [
            "------------------------------------------------------\n",
            "Epoch  train_loss  train_accu   valid_loss  valid_accu\n",
            "    7: 0.10679966  95.44690860%  0.26572724  92.35000000%\n",
            "(valid)recall      precision    F1\n",
            "       0.00220022  0.15384615   0.00433839\n",
            "       TP_v=2  FP_v=11  FN_v=907  TN_v=11080\n",
            "(train)recall      precision    F1\n",
            "       0.48877147  0.70476190   0.57722309\n",
            "       TP_t=370  FP_t=155  FN_t=387  TN_t=10992\n",
            "------------------------------------------------------\n"
          ]
        },
        {
          "output_type": "display_data",
          "data": {
            "text/plain": [
              "<IPython.core.display.Javascript object>"
            ],
            "application/javascript": [
              "window[\"86c9d2d2-ba19-11ee-a1de-0242ac1c000c\"] = google.colab.output.setActiveOutputArea(window[\"86c7cb0e-ba19-11ee-a1de-0242ac1c000c\"]);\n",
              "//# sourceURL=js_c853b44d30"
            ]
          },
          "metadata": {}
        },
        {
          "output_type": "display_data",
          "data": {
            "text/plain": [
              "<IPython.core.display.Javascript object>"
            ],
            "application/javascript": [
              "window[\"9e6a7ad6-ba19-11ee-a1de-0242ac1c000c\"] = google.colab.output.getActiveOutputArea();\n",
              "//# sourceURL=js_0d4900134d"
            ]
          },
          "metadata": {}
        },
        {
          "output_type": "display_data",
          "data": {
            "text/plain": [
              "<IPython.core.display.Javascript object>"
            ],
            "application/javascript": [
              "window[\"9e6ac978-ba19-11ee-a1de-0242ac1c000c\"] = document.querySelector(\"#id5_content_0\");\n",
              "//# sourceURL=js_5782e2662e"
            ]
          },
          "metadata": {}
        },
        {
          "output_type": "display_data",
          "data": {
            "text/plain": [
              "<IPython.core.display.Javascript object>"
            ],
            "application/javascript": [
              "window[\"9e6b0e10-ba19-11ee-a1de-0242ac1c000c\"] = google.colab.output.setActiveOutputArea(window[\"9e6ac978-ba19-11ee-a1de-0242ac1c000c\"]);\n",
              "//# sourceURL=js_9f838be52f"
            ]
          },
          "metadata": {}
        },
        {
          "output_type": "display_data",
          "data": {
            "text/plain": [
              "<IPython.core.display.Javascript object>"
            ],
            "application/javascript": [
              "window[\"9e6b466e-ba19-11ee-a1de-0242ac1c000c\"] = window[\"id5\"].setSelectedTabIndex(0);\n",
              "//# sourceURL=js_fed39bc26c"
            ]
          },
          "metadata": {}
        },
        {
          "output_type": "stream",
          "name": "stdout",
          "text": [
            "------------------------------------------------------\n",
            "Epoch  train_loss  train_accu   valid_loss  valid_accu\n",
            "    8: 0.09431713  96.00134409%  0.24619651  92.15833333%\n",
            "(valid)recall      precision    F1\n",
            "       0.17711771  0.45480226   0.25494854\n",
            "       TP_v=161  FP_v=193  FN_v=748  TN_v=10898\n",
            "(train)recall      precision    F1\n",
            "       0.55013193  0.75543478   0.63664122\n",
            "       TP_t=417  FP_t=135  FN_t=341  TN_t=11011\n",
            "------------------------------------------------------\n"
          ]
        },
        {
          "output_type": "display_data",
          "data": {
            "text/plain": [
              "<IPython.core.display.Javascript object>"
            ],
            "application/javascript": [
              "window[\"9e6c985c-ba19-11ee-a1de-0242ac1c000c\"] = google.colab.output.setActiveOutputArea(window[\"9e6a7ad6-ba19-11ee-a1de-0242ac1c000c\"]);\n",
              "//# sourceURL=js_bfae596f36"
            ]
          },
          "metadata": {}
        },
        {
          "output_type": "display_data",
          "data": {
            "text/plain": [
              "<IPython.core.display.Javascript object>"
            ],
            "application/javascript": [
              "window[\"b61e7506-ba19-11ee-a1de-0242ac1c000c\"] = google.colab.output.getActiveOutputArea();\n",
              "//# sourceURL=js_580114790f"
            ]
          },
          "metadata": {}
        },
        {
          "output_type": "display_data",
          "data": {
            "text/plain": [
              "<IPython.core.display.Javascript object>"
            ],
            "application/javascript": [
              "window[\"b61eb2be-ba19-11ee-a1de-0242ac1c000c\"] = document.querySelector(\"#id5_content_0\");\n",
              "//# sourceURL=js_24c851f6c1"
            ]
          },
          "metadata": {}
        },
        {
          "output_type": "display_data",
          "data": {
            "text/plain": [
              "<IPython.core.display.Javascript object>"
            ],
            "application/javascript": [
              "window[\"b61ef47c-ba19-11ee-a1de-0242ac1c000c\"] = google.colab.output.setActiveOutputArea(window[\"b61eb2be-ba19-11ee-a1de-0242ac1c000c\"]);\n",
              "//# sourceURL=js_5908ac78ed"
            ]
          },
          "metadata": {}
        },
        {
          "output_type": "display_data",
          "data": {
            "text/plain": [
              "<IPython.core.display.Javascript object>"
            ],
            "application/javascript": [
              "window[\"b61f2ea6-ba19-11ee-a1de-0242ac1c000c\"] = window[\"id5\"].setSelectedTabIndex(0);\n",
              "//# sourceURL=js_c8a49a1f88"
            ]
          },
          "metadata": {}
        },
        {
          "output_type": "stream",
          "name": "stdout",
          "text": [
            "------------------------------------------------------\n",
            "Epoch  train_loss  train_accu   valid_loss  valid_accu\n",
            "    9: 0.08251702  96.67338710%  0.33234025  92.43333333%\n",
            "(valid)recall      precision    F1\n",
            "       0.00440044  0.57142857   0.00873362\n",
            "       TP_v=4  FP_v=3  FN_v=905  TN_v=11088\n",
            "(train)recall      precision    F1\n",
            "       0.64947090  0.78938907   0.71262700\n",
            "       TP_t=491  FP_t=131  FN_t=265  TN_t=11017\n",
            "------------------------------------------------------\n"
          ]
        },
        {
          "output_type": "display_data",
          "data": {
            "text/plain": [
              "<IPython.core.display.Javascript object>"
            ],
            "application/javascript": [
              "window[\"b620879c-ba19-11ee-a1de-0242ac1c000c\"] = google.colab.output.setActiveOutputArea(window[\"b61e7506-ba19-11ee-a1de-0242ac1c000c\"]);\n",
              "//# sourceURL=js_51083d7bc2"
            ]
          },
          "metadata": {}
        },
        {
          "output_type": "display_data",
          "data": {
            "text/plain": [
              "<IPython.core.display.Javascript object>"
            ],
            "application/javascript": [
              "window[\"cde20e46-ba19-11ee-a1de-0242ac1c000c\"] = google.colab.output.getActiveOutputArea();\n",
              "//# sourceURL=js_682eb38284"
            ]
          },
          "metadata": {}
        },
        {
          "output_type": "display_data",
          "data": {
            "text/plain": [
              "<IPython.core.display.Javascript object>"
            ],
            "application/javascript": [
              "window[\"cde258ec-ba19-11ee-a1de-0242ac1c000c\"] = document.querySelector(\"#id5_content_1\");\n",
              "//# sourceURL=js_a53c1581b8"
            ]
          },
          "metadata": {}
        },
        {
          "output_type": "display_data",
          "data": {
            "text/plain": [
              "<IPython.core.display.Javascript object>"
            ],
            "application/javascript": [
              "window[\"cde2a5d6-ba19-11ee-a1de-0242ac1c000c\"] = google.colab.output.setActiveOutputArea(window[\"cde258ec-ba19-11ee-a1de-0242ac1c000c\"]);\n",
              "//# sourceURL=js_9e890dd5c5"
            ]
          },
          "metadata": {}
        },
        {
          "output_type": "display_data",
          "data": {
            "text/plain": [
              "<IPython.core.display.Javascript object>"
            ],
            "application/javascript": [
              "window[\"cde2e096-ba19-11ee-a1de-0242ac1c000c\"] = window[\"id5\"].setSelectedTabIndex(1);\n",
              "//# sourceURL=js_12c204faab"
            ]
          },
          "metadata": {}
        },
        {
          "output_type": "stream",
          "name": "stdout",
          "text": [
            "------------------------------------------------------\n",
            "Epoch  train_loss  train_accu   valid_loss  valid_accu\n",
            "   10: 0.06708106  97.29502688%  0.39871859  92.25000000%\n",
            "(valid)recall      precision    F1\n",
            "       0.07810781  0.43558282   0.13246269\n",
            "       TP_v=71  FP_v=92  FN_v=838  TN_v=10999\n",
            "(train)recall      precision    F1\n",
            "       0.72582781  0.82654600   0.77291961\n",
            "       TP_t=548  FP_t=115  FN_t=207  TN_t=11034\n",
            "------------------------------------------------------\n"
          ]
        },
        {
          "output_type": "display_data",
          "data": {
            "text/plain": [
              "<IPython.core.display.Javascript object>"
            ],
            "application/javascript": [
              "window[\"cde468a8-ba19-11ee-a1de-0242ac1c000c\"] = google.colab.output.setActiveOutputArea(window[\"cde20e46-ba19-11ee-a1de-0242ac1c000c\"]);\n",
              "//# sourceURL=js_90d874df59"
            ]
          },
          "metadata": {}
        },
        {
          "output_type": "stream",
          "name": "stdout",
          "text": [
            "model will be saved as /content/drive/MyDrive/AOCR2024/params/test/unet_without_decoder_10\n"
          ]
        },
        {
          "output_type": "display_data",
          "data": {
            "text/plain": [
              "<IPython.core.display.Javascript object>"
            ],
            "application/javascript": [
              "window[\"e5b6f162-ba19-11ee-a1de-0242ac1c000c\"] = google.colab.output.getActiveOutputArea();\n",
              "//# sourceURL=js_cd001d9a1c"
            ]
          },
          "metadata": {}
        },
        {
          "output_type": "display_data",
          "data": {
            "text/plain": [
              "<IPython.core.display.Javascript object>"
            ],
            "application/javascript": [
              "window[\"e5b73294-ba19-11ee-a1de-0242ac1c000c\"] = document.querySelector(\"#id5_content_1\");\n",
              "//# sourceURL=js_07a67d95d8"
            ]
          },
          "metadata": {}
        },
        {
          "output_type": "display_data",
          "data": {
            "text/plain": [
              "<IPython.core.display.Javascript object>"
            ],
            "application/javascript": [
              "window[\"e5b76d90-ba19-11ee-a1de-0242ac1c000c\"] = google.colab.output.setActiveOutputArea(window[\"e5b73294-ba19-11ee-a1de-0242ac1c000c\"]);\n",
              "//# sourceURL=js_ef42a6da10"
            ]
          },
          "metadata": {}
        },
        {
          "output_type": "display_data",
          "data": {
            "text/plain": [
              "<IPython.core.display.Javascript object>"
            ],
            "application/javascript": [
              "window[\"e5b7a224-ba19-11ee-a1de-0242ac1c000c\"] = window[\"id5\"].setSelectedTabIndex(1);\n",
              "//# sourceURL=js_ba4117de46"
            ]
          },
          "metadata": {}
        },
        {
          "output_type": "stream",
          "name": "stdout",
          "text": [
            "------------------------------------------------------\n",
            "Epoch  train_loss  train_accu   valid_loss  valid_accu\n",
            "   11: 0.06256790  97.27822581%  0.33604300  91.74166667%\n",
            "(valid)recall      precision    F1\n",
            "       0.17381738  0.39698492   0.24177506\n",
            "       TP_v=158  FP_v=240  FN_v=751  TN_v=10851\n",
            "(train)recall      precision    F1\n",
            "       0.73517787  0.81938326   0.77500000\n",
            "       TP_t=558  FP_t=123  FN_t=201  TN_t=11022\n",
            "------------------------------------------------------\n"
          ]
        },
        {
          "output_type": "display_data",
          "data": {
            "text/plain": [
              "<IPython.core.display.Javascript object>"
            ],
            "application/javascript": [
              "window[\"e5b8f98a-ba19-11ee-a1de-0242ac1c000c\"] = google.colab.output.setActiveOutputArea(window[\"e5b6f162-ba19-11ee-a1de-0242ac1c000c\"]);\n",
              "//# sourceURL=js_94c18f8f56"
            ]
          },
          "metadata": {}
        },
        {
          "output_type": "display_data",
          "data": {
            "text/plain": [
              "<IPython.core.display.Javascript object>"
            ],
            "application/javascript": [
              "window[\"fd64aa48-ba19-11ee-a1de-0242ac1c000c\"] = google.colab.output.getActiveOutputArea();\n",
              "//# sourceURL=js_e06d98ad2d"
            ]
          },
          "metadata": {}
        },
        {
          "output_type": "display_data",
          "data": {
            "text/plain": [
              "<IPython.core.display.Javascript object>"
            ],
            "application/javascript": [
              "window[\"fd650484-ba19-11ee-a1de-0242ac1c000c\"] = document.querySelector(\"#id5_content_1\");\n",
              "//# sourceURL=js_8ae84ed423"
            ]
          },
          "metadata": {}
        },
        {
          "output_type": "display_data",
          "data": {
            "text/plain": [
              "<IPython.core.display.Javascript object>"
            ],
            "application/javascript": [
              "window[\"fd654ae8-ba19-11ee-a1de-0242ac1c000c\"] = google.colab.output.setActiveOutputArea(window[\"fd650484-ba19-11ee-a1de-0242ac1c000c\"]);\n",
              "//# sourceURL=js_25ade2b7be"
            ]
          },
          "metadata": {}
        },
        {
          "output_type": "display_data",
          "data": {
            "text/plain": [
              "<IPython.core.display.Javascript object>"
            ],
            "application/javascript": [
              "window[\"fd6583c8-ba19-11ee-a1de-0242ac1c000c\"] = window[\"id5\"].setSelectedTabIndex(1);\n",
              "//# sourceURL=js_9e096edcab"
            ]
          },
          "metadata": {}
        },
        {
          "output_type": "stream",
          "name": "stdout",
          "text": [
            "------------------------------------------------------\n",
            "Epoch  train_loss  train_accu   valid_loss  valid_accu\n",
            "   12: 0.05195892  97.90826613%  0.33402328  92.25833333%\n",
            "(valid)recall      precision    F1\n",
            "       0.18041804  0.47126437   0.26093874\n",
            "       TP_v=164  FP_v=184  FN_v=745  TN_v=10907\n",
            "(train)recall      precision    F1\n",
            "       0.79575597  0.86330935   0.82815735\n",
            "       TP_t=600  FP_t=95  FN_t=154  TN_t=11055\n",
            "------------------------------------------------------\n"
          ]
        },
        {
          "output_type": "display_data",
          "data": {
            "text/plain": [
              "<IPython.core.display.Javascript object>"
            ],
            "application/javascript": [
              "window[\"fd66edbc-ba19-11ee-a1de-0242ac1c000c\"] = google.colab.output.setActiveOutputArea(window[\"fd64aa48-ba19-11ee-a1de-0242ac1c000c\"]);\n",
              "//# sourceURL=js_c32198a49f"
            ]
          },
          "metadata": {}
        },
        {
          "output_type": "display_data",
          "data": {
            "text/plain": [
              "<IPython.core.display.Javascript object>"
            ],
            "application/javascript": [
              "window[\"154d7b80-ba1a-11ee-a1de-0242ac1c000c\"] = google.colab.output.getActiveOutputArea();\n",
              "//# sourceURL=js_cd50e4eb8b"
            ]
          },
          "metadata": {}
        },
        {
          "output_type": "display_data",
          "data": {
            "text/plain": [
              "<IPython.core.display.Javascript object>"
            ],
            "application/javascript": [
              "window[\"154dc478-ba1a-11ee-a1de-0242ac1c000c\"] = document.querySelector(\"#id5_content_1\");\n",
              "//# sourceURL=js_02caac8220"
            ]
          },
          "metadata": {}
        },
        {
          "output_type": "display_data",
          "data": {
            "text/plain": [
              "<IPython.core.display.Javascript object>"
            ],
            "application/javascript": [
              "window[\"154dfbaa-ba1a-11ee-a1de-0242ac1c000c\"] = google.colab.output.setActiveOutputArea(window[\"154dc478-ba1a-11ee-a1de-0242ac1c000c\"]);\n",
              "//# sourceURL=js_9ae09ca1b0"
            ]
          },
          "metadata": {}
        },
        {
          "output_type": "display_data",
          "data": {
            "text/plain": [
              "<IPython.core.display.Javascript object>"
            ],
            "application/javascript": [
              "window[\"154e3016-ba1a-11ee-a1de-0242ac1c000c\"] = window[\"id5\"].setSelectedTabIndex(1);\n",
              "//# sourceURL=js_3bd9eacadd"
            ]
          },
          "metadata": {}
        },
        {
          "output_type": "stream",
          "name": "stdout",
          "text": [
            "------------------------------------------------------\n",
            "Epoch  train_loss  train_accu   valid_loss  valid_accu\n",
            "   13: 0.04936517  98.16868280%  0.44112828  91.57500000%\n",
            "(valid)recall      precision    F1\n",
            "       0.20682068  0.39330544   0.27108868\n",
            "       TP_v=188  FP_v=290  FN_v=721  TN_v=10801\n",
            "(train)recall      precision    F1\n",
            "       0.82585752  0.87921348   0.85170068\n",
            "       TP_t=626  FP_t=86  FN_t=132  TN_t=11060\n",
            "------------------------------------------------------\n"
          ]
        },
        {
          "output_type": "display_data",
          "data": {
            "text/plain": [
              "<IPython.core.display.Javascript object>"
            ],
            "application/javascript": [
              "window[\"154f769c-ba1a-11ee-a1de-0242ac1c000c\"] = google.colab.output.setActiveOutputArea(window[\"154d7b80-ba1a-11ee-a1de-0242ac1c000c\"]);\n",
              "//# sourceURL=js_d5164a0dec"
            ]
          },
          "metadata": {}
        },
        {
          "output_type": "display_data",
          "data": {
            "text/plain": [
              "<IPython.core.display.Javascript object>"
            ],
            "application/javascript": [
              "window[\"2cfacc60-ba1a-11ee-a1de-0242ac1c000c\"] = google.colab.output.getActiveOutputArea();\n",
              "//# sourceURL=js_492f50a873"
            ]
          },
          "metadata": {}
        },
        {
          "output_type": "display_data",
          "data": {
            "text/plain": [
              "<IPython.core.display.Javascript object>"
            ],
            "application/javascript": [
              "window[\"2cfb0bc6-ba1a-11ee-a1de-0242ac1c000c\"] = document.querySelector(\"#id5_content_1\");\n",
              "//# sourceURL=js_8037abd48f"
            ]
          },
          "metadata": {}
        },
        {
          "output_type": "display_data",
          "data": {
            "text/plain": [
              "<IPython.core.display.Javascript object>"
            ],
            "application/javascript": [
              "window[\"2cfb5004-ba1a-11ee-a1de-0242ac1c000c\"] = google.colab.output.setActiveOutputArea(window[\"2cfb0bc6-ba1a-11ee-a1de-0242ac1c000c\"]);\n",
              "//# sourceURL=js_cc32bbe446"
            ]
          },
          "metadata": {}
        },
        {
          "output_type": "display_data",
          "data": {
            "text/plain": [
              "<IPython.core.display.Javascript object>"
            ],
            "application/javascript": [
              "window[\"2cfb8402-ba1a-11ee-a1de-0242ac1c000c\"] = window[\"id5\"].setSelectedTabIndex(1);\n",
              "//# sourceURL=js_f2b79d9769"
            ]
          },
          "metadata": {}
        },
        {
          "output_type": "stream",
          "name": "stdout",
          "text": [
            "------------------------------------------------------\n",
            "Epoch  train_loss  train_accu   valid_loss  valid_accu\n",
            "   14: 0.03102444  98.79872312%  0.58483214  91.01666667%\n",
            "(valid)recall      precision    F1\n",
            "       0.26072607  0.36858476   0.30541237\n",
            "       TP_v=237  FP_v=406  FN_v=672  TN_v=10685\n",
            "(train)recall      precision    F1\n",
            "       0.89487516  0.91532258   0.90498339\n",
            "       TP_t=681  FP_t=63  FN_t=80  TN_t=11080\n",
            "------------------------------------------------------\n"
          ]
        },
        {
          "output_type": "display_data",
          "data": {
            "text/plain": [
              "<IPython.core.display.Javascript object>"
            ],
            "application/javascript": [
              "window[\"2cfcddac-ba1a-11ee-a1de-0242ac1c000c\"] = google.colab.output.setActiveOutputArea(window[\"2cfacc60-ba1a-11ee-a1de-0242ac1c000c\"]);\n",
              "//# sourceURL=js_34b974cdae"
            ]
          },
          "metadata": {}
        },
        {
          "output_type": "display_data",
          "data": {
            "text/plain": [
              "<IPython.core.display.Javascript object>"
            ],
            "application/javascript": [
              "window[\"4539f986-ba1a-11ee-a1de-0242ac1c000c\"] = google.colab.output.getActiveOutputArea();\n",
              "//# sourceURL=js_ebf8863e5f"
            ]
          },
          "metadata": {}
        },
        {
          "output_type": "display_data",
          "data": {
            "text/plain": [
              "<IPython.core.display.Javascript object>"
            ],
            "application/javascript": [
              "window[\"453a4792-ba1a-11ee-a1de-0242ac1c000c\"] = document.querySelector(\"#id5_content_1\");\n",
              "//# sourceURL=js_7b34bd945e"
            ]
          },
          "metadata": {}
        },
        {
          "output_type": "display_data",
          "data": {
            "text/plain": [
              "<IPython.core.display.Javascript object>"
            ],
            "application/javascript": [
              "window[\"453a931e-ba1a-11ee-a1de-0242ac1c000c\"] = google.colab.output.setActiveOutputArea(window[\"453a4792-ba1a-11ee-a1de-0242ac1c000c\"]);\n",
              "//# sourceURL=js_683237d9ba"
            ]
          },
          "metadata": {}
        },
        {
          "output_type": "display_data",
          "data": {
            "text/plain": [
              "<IPython.core.display.Javascript object>"
            ],
            "application/javascript": [
              "window[\"453ad6b2-ba1a-11ee-a1de-0242ac1c000c\"] = window[\"id5\"].setSelectedTabIndex(1);\n",
              "//# sourceURL=js_5f7c8eab73"
            ]
          },
          "metadata": {}
        },
        {
          "output_type": "stream",
          "name": "stdout",
          "text": [
            "------------------------------------------------------\n",
            "Epoch  train_loss  train_accu   valid_loss  valid_accu\n",
            "   15: 0.02324983  99.13474462%  0.54311469  91.23333333%\n",
            "(valid)recall      precision    F1\n",
            "       0.18371837  0.35010482   0.24098124\n",
            "       TP_v=167  FP_v=310  FN_v=742  TN_v=10781\n",
            "(train)recall      precision    F1\n",
            "       0.91788079  0.94414169   0.93082606\n",
            "       TP_t=693  FP_t=41  FN_t=62  TN_t=11108\n",
            "------------------------------------------------------\n"
          ]
        },
        {
          "output_type": "display_data",
          "data": {
            "text/plain": [
              "<IPython.core.display.Javascript object>"
            ],
            "application/javascript": [
              "window[\"453c7620-ba1a-11ee-a1de-0242ac1c000c\"] = google.colab.output.setActiveOutputArea(window[\"4539f986-ba1a-11ee-a1de-0242ac1c000c\"]);\n",
              "//# sourceURL=js_ef5a04db81"
            ]
          },
          "metadata": {}
        },
        {
          "output_type": "display_data",
          "data": {
            "text/plain": [
              "<IPython.core.display.Javascript object>"
            ],
            "application/javascript": [
              "window[\"5cdc5eee-ba1a-11ee-a1de-0242ac1c000c\"] = google.colab.output.getActiveOutputArea();\n",
              "//# sourceURL=js_c0d2fb240e"
            ]
          },
          "metadata": {}
        },
        {
          "output_type": "display_data",
          "data": {
            "text/plain": [
              "<IPython.core.display.Javascript object>"
            ],
            "application/javascript": [
              "window[\"5cdca566-ba1a-11ee-a1de-0242ac1c000c\"] = document.querySelector(\"#id5_content_1\");\n",
              "//# sourceURL=js_06db0c1f19"
            ]
          },
          "metadata": {}
        },
        {
          "output_type": "display_data",
          "data": {
            "text/plain": [
              "<IPython.core.display.Javascript object>"
            ],
            "application/javascript": [
              "window[\"5cdceecc-ba1a-11ee-a1de-0242ac1c000c\"] = google.colab.output.setActiveOutputArea(window[\"5cdca566-ba1a-11ee-a1de-0242ac1c000c\"]);\n",
              "//# sourceURL=js_ecba666641"
            ]
          },
          "metadata": {}
        },
        {
          "output_type": "display_data",
          "data": {
            "text/plain": [
              "<IPython.core.display.Javascript object>"
            ],
            "application/javascript": [
              "window[\"5cdd35a8-ba1a-11ee-a1de-0242ac1c000c\"] = window[\"id5\"].setSelectedTabIndex(1);\n",
              "//# sourceURL=js_ebd6270187"
            ]
          },
          "metadata": {}
        },
        {
          "output_type": "stream",
          "name": "stdout",
          "text": [
            "------------------------------------------------------\n",
            "Epoch  train_loss  train_accu   valid_loss  valid_accu\n",
            "   16: 0.01950575  99.31115591%  0.42863797  88.09166667%\n",
            "(valid)recall      precision    F1\n",
            "       0.48514851  0.31455064   0.38165296\n",
            "       TP_v=441  FP_v=961  FN_v=468  TN_v=10130\n",
            "(train)recall      precision    F1\n",
            "       0.94334651  0.94834437   0.94583884\n",
            "       TP_t=716  FP_t=39  FN_t=43  TN_t=11106\n",
            "------------------------------------------------------\n"
          ]
        },
        {
          "output_type": "display_data",
          "data": {
            "text/plain": [
              "<IPython.core.display.Javascript object>"
            ],
            "application/javascript": [
              "window[\"5cde993e-ba1a-11ee-a1de-0242ac1c000c\"] = google.colab.output.setActiveOutputArea(window[\"5cdc5eee-ba1a-11ee-a1de-0242ac1c000c\"]);\n",
              "//# sourceURL=js_a8cc62c82e"
            ]
          },
          "metadata": {}
        },
        {
          "output_type": "display_data",
          "data": {
            "text/plain": [
              "<IPython.core.display.Javascript object>"
            ],
            "application/javascript": [
              "window[\"74825134-ba1a-11ee-a1de-0242ac1c000c\"] = google.colab.output.getActiveOutputArea();\n",
              "//# sourceURL=js_2f19e3489e"
            ]
          },
          "metadata": {}
        },
        {
          "output_type": "display_data",
          "data": {
            "text/plain": [
              "<IPython.core.display.Javascript object>"
            ],
            "application/javascript": [
              "window[\"74829e00-ba1a-11ee-a1de-0242ac1c000c\"] = document.querySelector(\"#id5_content_1\");\n",
              "//# sourceURL=js_0b1124b2f7"
            ]
          },
          "metadata": {}
        },
        {
          "output_type": "display_data",
          "data": {
            "text/plain": [
              "<IPython.core.display.Javascript object>"
            ],
            "application/javascript": [
              "window[\"7482e8ba-ba1a-11ee-a1de-0242ac1c000c\"] = google.colab.output.setActiveOutputArea(window[\"74829e00-ba1a-11ee-a1de-0242ac1c000c\"]);\n",
              "//# sourceURL=js_85f3f8a2a5"
            ]
          },
          "metadata": {}
        },
        {
          "output_type": "display_data",
          "data": {
            "text/plain": [
              "<IPython.core.display.Javascript object>"
            ],
            "application/javascript": [
              "window[\"74832ee2-ba1a-11ee-a1de-0242ac1c000c\"] = window[\"id5\"].setSelectedTabIndex(1);\n",
              "//# sourceURL=js_55cf5ed00e"
            ]
          },
          "metadata": {}
        },
        {
          "output_type": "stream",
          "name": "stdout",
          "text": [
            "------------------------------------------------------\n",
            "Epoch  train_loss  train_accu   valid_loss  valid_accu\n",
            "   17: 0.01371862  99.55477151%  0.53047665  91.83333333%\n",
            "(valid)recall      precision    F1\n",
            "       0.18371837  0.41234568   0.25418569\n",
            "       TP_v=167  FP_v=238  FN_v=742  TN_v=10853\n",
            "(train)recall      precision    F1\n",
            "       0.96560847  0.96433289   0.96497026\n",
            "       TP_t=730  FP_t=27  FN_t=26  TN_t=11121\n",
            "------------------------------------------------------\n"
          ]
        },
        {
          "output_type": "display_data",
          "data": {
            "text/plain": [
              "<IPython.core.display.Javascript object>"
            ],
            "application/javascript": [
              "window[\"7485099c-ba1a-11ee-a1de-0242ac1c000c\"] = google.colab.output.setActiveOutputArea(window[\"74825134-ba1a-11ee-a1de-0242ac1c000c\"]);\n",
              "//# sourceURL=js_eb50e288ed"
            ]
          },
          "metadata": {}
        },
        {
          "output_type": "display_data",
          "data": {
            "text/plain": [
              "<IPython.core.display.Javascript object>"
            ],
            "application/javascript": [
              "window[\"8c3864da-ba1a-11ee-a1de-0242ac1c000c\"] = google.colab.output.getActiveOutputArea();\n",
              "//# sourceURL=js_5c8b776c15"
            ]
          },
          "metadata": {}
        },
        {
          "output_type": "display_data",
          "data": {
            "text/plain": [
              "<IPython.core.display.Javascript object>"
            ],
            "application/javascript": [
              "window[\"8c38b52a-ba1a-11ee-a1de-0242ac1c000c\"] = document.querySelector(\"#id5_content_1\");\n",
              "//# sourceURL=js_bd1b0d8e3b"
            ]
          },
          "metadata": {}
        },
        {
          "output_type": "display_data",
          "data": {
            "text/plain": [
              "<IPython.core.display.Javascript object>"
            ],
            "application/javascript": [
              "window[\"8c38fe7c-ba1a-11ee-a1de-0242ac1c000c\"] = google.colab.output.setActiveOutputArea(window[\"8c38b52a-ba1a-11ee-a1de-0242ac1c000c\"]);\n",
              "//# sourceURL=js_fafa02395e"
            ]
          },
          "metadata": {}
        },
        {
          "output_type": "display_data",
          "data": {
            "text/plain": [
              "<IPython.core.display.Javascript object>"
            ],
            "application/javascript": [
              "window[\"8c3943be-ba1a-11ee-a1de-0242ac1c000c\"] = window[\"id5\"].setSelectedTabIndex(1);\n",
              "//# sourceURL=js_e57b55a012"
            ]
          },
          "metadata": {}
        },
        {
          "output_type": "stream",
          "name": "stdout",
          "text": [
            "------------------------------------------------------\n",
            "Epoch  train_loss  train_accu   valid_loss  valid_accu\n",
            "   18: 0.02200102  99.15154570%  1.28423890  92.42500000%\n",
            "(valid)recall      precision    F1\n",
            "       0.00000000  0.00000000   0.00000000\n",
            "       TP_v=0  FP_v=0  FN_v=909  TN_v=11091\n",
            "(train)recall      precision    F1\n",
            "       0.92621871  0.93983957   0.93297943\n",
            "       TP_t=703  FP_t=45  FN_t=56  TN_t=11100\n",
            "------------------------------------------------------\n"
          ]
        },
        {
          "output_type": "display_data",
          "data": {
            "text/plain": [
              "<IPython.core.display.Javascript object>"
            ],
            "application/javascript": [
              "window[\"8c3b920e-ba1a-11ee-a1de-0242ac1c000c\"] = google.colab.output.setActiveOutputArea(window[\"8c3864da-ba1a-11ee-a1de-0242ac1c000c\"]);\n",
              "//# sourceURL=js_c22f8d51c9"
            ]
          },
          "metadata": {}
        },
        {
          "output_type": "display_data",
          "data": {
            "text/plain": [
              "<IPython.core.display.Javascript object>"
            ],
            "application/javascript": [
              "window[\"a40af186-ba1a-11ee-a1de-0242ac1c000c\"] = google.colab.output.getActiveOutputArea();\n",
              "//# sourceURL=js_3c4353ffb2"
            ]
          },
          "metadata": {}
        },
        {
          "output_type": "display_data",
          "data": {
            "text/plain": [
              "<IPython.core.display.Javascript object>"
            ],
            "application/javascript": [
              "window[\"a40b3cf4-ba1a-11ee-a1de-0242ac1c000c\"] = document.querySelector(\"#id5_content_1\");\n",
              "//# sourceURL=js_b6bb9e9b90"
            ]
          },
          "metadata": {}
        },
        {
          "output_type": "display_data",
          "data": {
            "text/plain": [
              "<IPython.core.display.Javascript object>"
            ],
            "application/javascript": [
              "window[\"a40b87cc-ba1a-11ee-a1de-0242ac1c000c\"] = google.colab.output.setActiveOutputArea(window[\"a40b3cf4-ba1a-11ee-a1de-0242ac1c000c\"]);\n",
              "//# sourceURL=js_e42f8de7c1"
            ]
          },
          "metadata": {}
        },
        {
          "output_type": "display_data",
          "data": {
            "text/plain": [
              "<IPython.core.display.Javascript object>"
            ],
            "application/javascript": [
              "window[\"a40bcc64-ba1a-11ee-a1de-0242ac1c000c\"] = window[\"id5\"].setSelectedTabIndex(1);\n",
              "//# sourceURL=js_1c40c4b52d"
            ]
          },
          "metadata": {}
        },
        {
          "output_type": "stream",
          "name": "stdout",
          "text": [
            "------------------------------------------------------\n",
            "Epoch  train_loss  train_accu   valid_loss  valid_accu\n",
            "   19: 0.00922122  99.73118280%  0.69653204  91.64166667%\n",
            "(valid)recall      precision    F1\n",
            "       0.12321232  0.35220126   0.18255909\n",
            "       TP_v=112  FP_v=206  FN_v=797  TN_v=10885\n",
            "(train)recall      precision    F1\n",
            "       0.96965699  0.98790323   0.97869507\n",
            "       TP_t=735  FP_t=9  FN_t=23  TN_t=11137\n",
            "------------------------------------------------------\n"
          ]
        },
        {
          "output_type": "display_data",
          "data": {
            "text/plain": [
              "<IPython.core.display.Javascript object>"
            ],
            "application/javascript": [
              "window[\"a40dc334-ba1a-11ee-a1de-0242ac1c000c\"] = google.colab.output.setActiveOutputArea(window[\"a40af186-ba1a-11ee-a1de-0242ac1c000c\"]);\n",
              "//# sourceURL=js_e0acfd8289"
            ]
          },
          "metadata": {}
        },
        {
          "output_type": "display_data",
          "data": {
            "text/plain": [
              "<IPython.core.display.Javascript object>"
            ],
            "application/javascript": [
              "window[\"bbab6dd4-ba1a-11ee-a1de-0242ac1c000c\"] = google.colab.output.getActiveOutputArea();\n",
              "//# sourceURL=js_4c9e400908"
            ]
          },
          "metadata": {}
        },
        {
          "output_type": "display_data",
          "data": {
            "text/plain": [
              "<IPython.core.display.Javascript object>"
            ],
            "application/javascript": [
              "window[\"bbabadee-ba1a-11ee-a1de-0242ac1c000c\"] = document.querySelector(\"#id5_content_2\");\n",
              "//# sourceURL=js_3b52f2a753"
            ]
          },
          "metadata": {}
        },
        {
          "output_type": "display_data",
          "data": {
            "text/plain": [
              "<IPython.core.display.Javascript object>"
            ],
            "application/javascript": [
              "window[\"bbabeaf2-ba1a-11ee-a1de-0242ac1c000c\"] = google.colab.output.setActiveOutputArea(window[\"bbabadee-ba1a-11ee-a1de-0242ac1c000c\"]);\n",
              "//# sourceURL=js_c1ab22fa96"
            ]
          },
          "metadata": {}
        },
        {
          "output_type": "display_data",
          "data": {
            "text/plain": [
              "<IPython.core.display.Javascript object>"
            ],
            "application/javascript": [
              "window[\"bbac20d0-ba1a-11ee-a1de-0242ac1c000c\"] = window[\"id5\"].setSelectedTabIndex(2);\n",
              "//# sourceURL=js_2310e1a47f"
            ]
          },
          "metadata": {}
        },
        {
          "output_type": "stream",
          "name": "stdout",
          "text": [
            "------------------------------------------------------\n",
            "Epoch  train_loss  train_accu   valid_loss  valid_accu\n",
            "   20: 0.01629414  99.39516129%  0.66316053  92.03333333%\n",
            "(valid)recall      precision    F1\n",
            "       0.11991199  0.41132075   0.18568995\n",
            "       TP_v=109  FP_v=156  FN_v=800  TN_v=10935\n",
            "(train)recall      precision    F1\n",
            "       0.94591029  0.95855615   0.95219124\n",
            "       TP_t=717  FP_t=31  FN_t=41  TN_t=11115\n",
            "------------------------------------------------------\n"
          ]
        },
        {
          "output_type": "display_data",
          "data": {
            "text/plain": [
              "<IPython.core.display.Javascript object>"
            ],
            "application/javascript": [
              "window[\"bbad76a6-ba1a-11ee-a1de-0242ac1c000c\"] = google.colab.output.setActiveOutputArea(window[\"bbab6dd4-ba1a-11ee-a1de-0242ac1c000c\"]);\n",
              "//# sourceURL=js_3625235fce"
            ]
          },
          "metadata": {}
        },
        {
          "output_type": "stream",
          "name": "stdout",
          "text": [
            "model will be saved as /content/drive/MyDrive/AOCR2024/params/test/unet_without_decoder_20\n"
          ]
        },
        {
          "output_type": "display_data",
          "data": {
            "text/plain": [
              "<IPython.core.display.Javascript object>"
            ],
            "application/javascript": [
              "window[\"d3a10cd2-ba1a-11ee-a1de-0242ac1c000c\"] = google.colab.output.getActiveOutputArea();\n",
              "//# sourceURL=js_a3d92a1a40"
            ]
          },
          "metadata": {}
        },
        {
          "output_type": "display_data",
          "data": {
            "text/plain": [
              "<IPython.core.display.Javascript object>"
            ],
            "application/javascript": [
              "window[\"d3a15fa2-ba1a-11ee-a1de-0242ac1c000c\"] = document.querySelector(\"#id5_content_2\");\n",
              "//# sourceURL=js_76f7998bfa"
            ]
          },
          "metadata": {}
        },
        {
          "output_type": "display_data",
          "data": {
            "text/plain": [
              "<IPython.core.display.Javascript object>"
            ],
            "application/javascript": [
              "window[\"d3a1a412-ba1a-11ee-a1de-0242ac1c000c\"] = google.colab.output.setActiveOutputArea(window[\"d3a15fa2-ba1a-11ee-a1de-0242ac1c000c\"]);\n",
              "//# sourceURL=js_11bb5b1d79"
            ]
          },
          "metadata": {}
        },
        {
          "output_type": "display_data",
          "data": {
            "text/plain": [
              "<IPython.core.display.Javascript object>"
            ],
            "application/javascript": [
              "window[\"d3a1daf4-ba1a-11ee-a1de-0242ac1c000c\"] = window[\"id5\"].setSelectedTabIndex(2);\n",
              "//# sourceURL=js_5efb38af69"
            ]
          },
          "metadata": {}
        },
        {
          "output_type": "stream",
          "name": "stdout",
          "text": [
            "------------------------------------------------------\n",
            "Epoch  train_loss  train_accu   valid_loss  valid_accu\n",
            "   21: 0.01188495  99.60517473%  0.51336774  91.31666667%\n",
            "(valid)recall      precision    F1\n",
            "       0.21782178  0.37429112   0.27538248\n",
            "       TP_v=198  FP_v=331  FN_v=711  TN_v=10760\n",
            "(train)recall      precision    F1\n",
            "       0.96184211  0.97596796   0.96885355\n",
            "       TP_t=731  FP_t=18  FN_t=29  TN_t=11126\n",
            "------------------------------------------------------\n"
          ]
        },
        {
          "output_type": "display_data",
          "data": {
            "text/plain": [
              "<IPython.core.display.Javascript object>"
            ],
            "application/javascript": [
              "window[\"d3a32eb8-ba1a-11ee-a1de-0242ac1c000c\"] = google.colab.output.setActiveOutputArea(window[\"d3a10cd2-ba1a-11ee-a1de-0242ac1c000c\"]);\n",
              "//# sourceURL=js_dffb1555b1"
            ]
          },
          "metadata": {}
        },
        {
          "output_type": "display_data",
          "data": {
            "text/plain": [
              "<IPython.core.display.Javascript object>"
            ],
            "application/javascript": [
              "window[\"ebbe9208-ba1a-11ee-a1de-0242ac1c000c\"] = google.colab.output.getActiveOutputArea();\n",
              "//# sourceURL=js_a461a785fc"
            ]
          },
          "metadata": {}
        },
        {
          "output_type": "display_data",
          "data": {
            "text/plain": [
              "<IPython.core.display.Javascript object>"
            ],
            "application/javascript": [
              "window[\"ebbee7ee-ba1a-11ee-a1de-0242ac1c000c\"] = document.querySelector(\"#id5_content_2\");\n",
              "//# sourceURL=js_9509b75ef1"
            ]
          },
          "metadata": {}
        },
        {
          "output_type": "display_data",
          "data": {
            "text/plain": [
              "<IPython.core.display.Javascript object>"
            ],
            "application/javascript": [
              "window[\"ebbf3618-ba1a-11ee-a1de-0242ac1c000c\"] = google.colab.output.setActiveOutputArea(window[\"ebbee7ee-ba1a-11ee-a1de-0242ac1c000c\"]);\n",
              "//# sourceURL=js_e620368e72"
            ]
          },
          "metadata": {}
        },
        {
          "output_type": "display_data",
          "data": {
            "text/plain": [
              "<IPython.core.display.Javascript object>"
            ],
            "application/javascript": [
              "window[\"ebbf7a74-ba1a-11ee-a1de-0242ac1c000c\"] = window[\"id5\"].setSelectedTabIndex(2);\n",
              "//# sourceURL=js_e08affc122"
            ]
          },
          "metadata": {}
        },
        {
          "output_type": "stream",
          "name": "stdout",
          "text": [
            "------------------------------------------------------\n",
            "Epoch  train_loss  train_accu   valid_loss  valid_accu\n",
            "   22: 0.00515151  99.82358871%  0.62863785  92.04166667%\n",
            "(valid)recall      precision    F1\n",
            "       0.17711771  0.43750000   0.25215348\n",
            "       TP_v=161  FP_v=207  FN_v=748  TN_v=10884\n",
            "(train)recall      precision    F1\n",
            "       0.98541114  0.98671979   0.98606503\n",
            "       TP_t=743  FP_t=10  FN_t=11  TN_t=11140\n",
            "------------------------------------------------------\n"
          ]
        },
        {
          "output_type": "display_data",
          "data": {
            "text/plain": [
              "<IPython.core.display.Javascript object>"
            ],
            "application/javascript": [
              "window[\"ebc11488-ba1a-11ee-a1de-0242ac1c000c\"] = google.colab.output.setActiveOutputArea(window[\"ebbe9208-ba1a-11ee-a1de-0242ac1c000c\"]);\n",
              "//# sourceURL=js_d92779c1e3"
            ]
          },
          "metadata": {}
        },
        {
          "output_type": "display_data",
          "data": {
            "text/plain": [
              "<IPython.core.display.Javascript object>"
            ],
            "application/javascript": [
              "window[\"037a20c4-ba1b-11ee-a1de-0242ac1c000c\"] = google.colab.output.getActiveOutputArea();\n",
              "//# sourceURL=js_af46368ee5"
            ]
          },
          "metadata": {}
        },
        {
          "output_type": "display_data",
          "data": {
            "text/plain": [
              "<IPython.core.display.Javascript object>"
            ],
            "application/javascript": [
              "window[\"037a652a-ba1b-11ee-a1de-0242ac1c000c\"] = document.querySelector(\"#id5_content_2\");\n",
              "//# sourceURL=js_f6920500dd"
            ]
          },
          "metadata": {}
        },
        {
          "output_type": "display_data",
          "data": {
            "text/plain": [
              "<IPython.core.display.Javascript object>"
            ],
            "application/javascript": [
              "window[\"037aa81e-ba1b-11ee-a1de-0242ac1c000c\"] = google.colab.output.setActiveOutputArea(window[\"037a652a-ba1b-11ee-a1de-0242ac1c000c\"]);\n",
              "//# sourceURL=js_5926f3ee18"
            ]
          },
          "metadata": {}
        },
        {
          "output_type": "display_data",
          "data": {
            "text/plain": [
              "<IPython.core.display.Javascript object>"
            ],
            "application/javascript": [
              "window[\"037addd4-ba1b-11ee-a1de-0242ac1c000c\"] = window[\"id5\"].setSelectedTabIndex(2);\n",
              "//# sourceURL=js_a09227f419"
            ]
          },
          "metadata": {}
        },
        {
          "output_type": "stream",
          "name": "stdout",
          "text": [
            "------------------------------------------------------\n",
            "Epoch  train_loss  train_accu   valid_loss  valid_accu\n",
            "   23: 0.00536912  99.84038978%  0.60275401  88.33333333%\n",
            "(valid)recall      precision    F1\n",
            "       0.45764576  0.31443689   0.37275986\n",
            "       TP_v=416  FP_v=907  FN_v=493  TN_v=10184\n",
            "(train)recall      precision    F1\n",
            "       0.98280423  0.99198932   0.98737542\n",
            "       TP_t=743  FP_t=6  FN_t=13  TN_t=11142\n",
            "------------------------------------------------------\n"
          ]
        },
        {
          "output_type": "display_data",
          "data": {
            "text/plain": [
              "<IPython.core.display.Javascript object>"
            ],
            "application/javascript": [
              "window[\"037c2a86-ba1b-11ee-a1de-0242ac1c000c\"] = google.colab.output.setActiveOutputArea(window[\"037a20c4-ba1b-11ee-a1de-0242ac1c000c\"]);\n",
              "//# sourceURL=js_9e05f45518"
            ]
          },
          "metadata": {}
        },
        {
          "output_type": "display_data",
          "data": {
            "text/plain": [
              "<IPython.core.display.Javascript object>"
            ],
            "application/javascript": [
              "window[\"1b1cfa6c-ba1b-11ee-a1de-0242ac1c000c\"] = google.colab.output.getActiveOutputArea();\n",
              "//# sourceURL=js_9389e861b4"
            ]
          },
          "metadata": {}
        },
        {
          "output_type": "display_data",
          "data": {
            "text/plain": [
              "<IPython.core.display.Javascript object>"
            ],
            "application/javascript": [
              "window[\"1b1d4b16-ba1b-11ee-a1de-0242ac1c000c\"] = document.querySelector(\"#id5_content_2\");\n",
              "//# sourceURL=js_73c4565d06"
            ]
          },
          "metadata": {}
        },
        {
          "output_type": "display_data",
          "data": {
            "text/plain": [
              "<IPython.core.display.Javascript object>"
            ],
            "application/javascript": [
              "window[\"1b1d8428-ba1b-11ee-a1de-0242ac1c000c\"] = google.colab.output.setActiveOutputArea(window[\"1b1d4b16-ba1b-11ee-a1de-0242ac1c000c\"]);\n",
              "//# sourceURL=js_f4fc7f4e17"
            ]
          },
          "metadata": {}
        },
        {
          "output_type": "display_data",
          "data": {
            "text/plain": [
              "<IPython.core.display.Javascript object>"
            ],
            "application/javascript": [
              "window[\"1b1dbba0-ba1b-11ee-a1de-0242ac1c000c\"] = window[\"id5\"].setSelectedTabIndex(2);\n",
              "//# sourceURL=js_3455039dd9"
            ]
          },
          "metadata": {}
        },
        {
          "output_type": "stream",
          "name": "stdout",
          "text": [
            "------------------------------------------------------\n",
            "Epoch  train_loss  train_accu   valid_loss  valid_accu\n",
            "   24: 0.00438761  99.88239247%  0.61822135  91.85833333%\n",
            "(valid)recall      precision    F1\n",
            "       0.19361936  0.41904762   0.26486080\n",
            "       TP_v=176  FP_v=244  FN_v=733  TN_v=10847\n",
            "(train)recall      precision    F1\n",
            "       0.99211564  0.98951507   0.99081365\n",
            "       TP_t=755  FP_t=8  FN_t=6  TN_t=11135\n",
            "------------------------------------------------------\n"
          ]
        },
        {
          "output_type": "display_data",
          "data": {
            "text/plain": [
              "<IPython.core.display.Javascript object>"
            ],
            "application/javascript": [
              "window[\"1b1f051e-ba1b-11ee-a1de-0242ac1c000c\"] = google.colab.output.setActiveOutputArea(window[\"1b1cfa6c-ba1b-11ee-a1de-0242ac1c000c\"]);\n",
              "//# sourceURL=js_5ec38c3969"
            ]
          },
          "metadata": {}
        },
        {
          "output_type": "display_data",
          "data": {
            "text/plain": [
              "<IPython.core.display.Javascript object>"
            ],
            "application/javascript": [
              "window[\"32ba636c-ba1b-11ee-a1de-0242ac1c000c\"] = google.colab.output.getActiveOutputArea();\n",
              "//# sourceURL=js_72d1650f76"
            ]
          },
          "metadata": {}
        },
        {
          "output_type": "display_data",
          "data": {
            "text/plain": [
              "<IPython.core.display.Javascript object>"
            ],
            "application/javascript": [
              "window[\"32baa142-ba1b-11ee-a1de-0242ac1c000c\"] = document.querySelector(\"#id5_content_2\");\n",
              "//# sourceURL=js_691bd3cce4"
            ]
          },
          "metadata": {}
        },
        {
          "output_type": "display_data",
          "data": {
            "text/plain": [
              "<IPython.core.display.Javascript object>"
            ],
            "application/javascript": [
              "window[\"32badafe-ba1b-11ee-a1de-0242ac1c000c\"] = google.colab.output.setActiveOutputArea(window[\"32baa142-ba1b-11ee-a1de-0242ac1c000c\"]);\n",
              "//# sourceURL=js_713eccebe7"
            ]
          },
          "metadata": {}
        },
        {
          "output_type": "display_data",
          "data": {
            "text/plain": [
              "<IPython.core.display.Javascript object>"
            ],
            "application/javascript": [
              "window[\"32bb2608-ba1b-11ee-a1de-0242ac1c000c\"] = window[\"id5\"].setSelectedTabIndex(2);\n",
              "//# sourceURL=js_f4c862f2ab"
            ]
          },
          "metadata": {}
        },
        {
          "output_type": "stream",
          "name": "stdout",
          "text": [
            "------------------------------------------------------\n",
            "Epoch  train_loss  train_accu   valid_loss  valid_accu\n",
            "   25: 0.00070893  100.00000000%  0.75205569  92.25000000%\n",
            "(valid)recall      precision    F1\n",
            "       0.19031903  0.47138965   0.27115987\n",
            "       TP_v=173  FP_v=194  FN_v=736  TN_v=10897\n",
            "(train)recall      precision    F1\n",
            "       1.00000000  1.00000000   1.00000000\n",
            "       TP_t=756  FP_t=0  FN_t=0  TN_t=11148\n",
            "------------------------------------------------------\n"
          ]
        },
        {
          "output_type": "display_data",
          "data": {
            "text/plain": [
              "<IPython.core.display.Javascript object>"
            ],
            "application/javascript": [
              "window[\"32bc7ada-ba1b-11ee-a1de-0242ac1c000c\"] = google.colab.output.setActiveOutputArea(window[\"32ba636c-ba1b-11ee-a1de-0242ac1c000c\"]);\n",
              "//# sourceURL=js_4cf143387b"
            ]
          },
          "metadata": {}
        },
        {
          "output_type": "display_data",
          "data": {
            "text/plain": [
              "<IPython.core.display.Javascript object>"
            ],
            "application/javascript": [
              "window[\"4a8702c0-ba1b-11ee-a1de-0242ac1c000c\"] = google.colab.output.getActiveOutputArea();\n",
              "//# sourceURL=js_ced2f3b60d"
            ]
          },
          "metadata": {}
        },
        {
          "output_type": "display_data",
          "data": {
            "text/plain": [
              "<IPython.core.display.Javascript object>"
            ],
            "application/javascript": [
              "window[\"4a874e9c-ba1b-11ee-a1de-0242ac1c000c\"] = document.querySelector(\"#id5_content_2\");\n",
              "//# sourceURL=js_f111f5cd4c"
            ]
          },
          "metadata": {}
        },
        {
          "output_type": "display_data",
          "data": {
            "text/plain": [
              "<IPython.core.display.Javascript object>"
            ],
            "application/javascript": [
              "window[\"4a879776-ba1b-11ee-a1de-0242ac1c000c\"] = google.colab.output.setActiveOutputArea(window[\"4a874e9c-ba1b-11ee-a1de-0242ac1c000c\"]);\n",
              "//# sourceURL=js_275fc204e7"
            ]
          },
          "metadata": {}
        },
        {
          "output_type": "display_data",
          "data": {
            "text/plain": [
              "<IPython.core.display.Javascript object>"
            ],
            "application/javascript": [
              "window[\"4a87cc14-ba1b-11ee-a1de-0242ac1c000c\"] = window[\"id5\"].setSelectedTabIndex(2);\n",
              "//# sourceURL=js_4482da0762"
            ]
          },
          "metadata": {}
        },
        {
          "output_type": "stream",
          "name": "stdout",
          "text": [
            "------------------------------------------------------\n",
            "Epoch  train_loss  train_accu   valid_loss  valid_accu\n",
            "   26: 0.00016880  100.00000000%  0.74719046  92.05833333%\n",
            "(valid)recall      precision    F1\n",
            "       0.20242024  0.44660194   0.27857684\n",
            "       TP_v=184  FP_v=228  FN_v=725  TN_v=10863\n",
            "(train)recall      precision    F1\n",
            "       1.00000000  1.00000000   1.00000000\n",
            "       TP_t=752  FP_t=0  FN_t=0  TN_t=11152\n",
            "------------------------------------------------------\n"
          ]
        },
        {
          "output_type": "display_data",
          "data": {
            "text/plain": [
              "<IPython.core.display.Javascript object>"
            ],
            "application/javascript": [
              "window[\"4a891d1c-ba1b-11ee-a1de-0242ac1c000c\"] = google.colab.output.setActiveOutputArea(window[\"4a8702c0-ba1b-11ee-a1de-0242ac1c000c\"]);\n",
              "//# sourceURL=js_e867055633"
            ]
          },
          "metadata": {}
        },
        {
          "output_type": "display_data",
          "data": {
            "text/plain": [
              "<IPython.core.display.Javascript object>"
            ],
            "application/javascript": [
              "window[\"622cb3a2-ba1b-11ee-a1de-0242ac1c000c\"] = google.colab.output.getActiveOutputArea();\n",
              "//# sourceURL=js_abbefdd463"
            ]
          },
          "metadata": {}
        },
        {
          "output_type": "display_data",
          "data": {
            "text/plain": [
              "<IPython.core.display.Javascript object>"
            ],
            "application/javascript": [
              "window[\"622d0028-ba1b-11ee-a1de-0242ac1c000c\"] = document.querySelector(\"#id5_content_2\");\n",
              "//# sourceURL=js_3d1713510d"
            ]
          },
          "metadata": {}
        },
        {
          "output_type": "display_data",
          "data": {
            "text/plain": [
              "<IPython.core.display.Javascript object>"
            ],
            "application/javascript": [
              "window[\"622d549c-ba1b-11ee-a1de-0242ac1c000c\"] = google.colab.output.setActiveOutputArea(window[\"622d0028-ba1b-11ee-a1de-0242ac1c000c\"]);\n",
              "//# sourceURL=js_2cc1ca2ce2"
            ]
          },
          "metadata": {}
        },
        {
          "output_type": "display_data",
          "data": {
            "text/plain": [
              "<IPython.core.display.Javascript object>"
            ],
            "application/javascript": [
              "window[\"622d989e-ba1b-11ee-a1de-0242ac1c000c\"] = window[\"id5\"].setSelectedTabIndex(2);\n",
              "//# sourceURL=js_608a964783"
            ]
          },
          "metadata": {}
        },
        {
          "output_type": "stream",
          "name": "stdout",
          "text": [
            "------------------------------------------------------\n",
            "Epoch  train_loss  train_accu   valid_loss  valid_accu\n",
            "   27: 0.00008823  100.00000000%  0.77279906  92.19166667%\n",
            "(valid)recall      precision    F1\n",
            "       0.19581958  0.46354167   0.27532869\n",
            "       TP_v=178  FP_v=206  FN_v=731  TN_v=10885\n",
            "(train)recall      precision    F1\n",
            "       1.00000000  1.00000000   1.00000000\n",
            "       TP_t=759  FP_t=0  FN_t=0  TN_t=11145\n",
            "------------------------------------------------------\n"
          ]
        },
        {
          "output_type": "display_data",
          "data": {
            "text/plain": [
              "<IPython.core.display.Javascript object>"
            ],
            "application/javascript": [
              "window[\"622f3726-ba1b-11ee-a1de-0242ac1c000c\"] = google.colab.output.setActiveOutputArea(window[\"622cb3a2-ba1b-11ee-a1de-0242ac1c000c\"]);\n",
              "//# sourceURL=js_bf15d1abcc"
            ]
          },
          "metadata": {}
        },
        {
          "output_type": "display_data",
          "data": {
            "text/plain": [
              "<IPython.core.display.Javascript object>"
            ],
            "application/javascript": [
              "window[\"79d012c4-ba1b-11ee-a1de-0242ac1c000c\"] = google.colab.output.getActiveOutputArea();\n",
              "//# sourceURL=js_7e7468bacc"
            ]
          },
          "metadata": {}
        },
        {
          "output_type": "display_data",
          "data": {
            "text/plain": [
              "<IPython.core.display.Javascript object>"
            ],
            "application/javascript": [
              "window[\"79d05fea-ba1b-11ee-a1de-0242ac1c000c\"] = document.querySelector(\"#id5_content_2\");\n",
              "//# sourceURL=js_d784e03b51"
            ]
          },
          "metadata": {}
        },
        {
          "output_type": "display_data",
          "data": {
            "text/plain": [
              "<IPython.core.display.Javascript object>"
            ],
            "application/javascript": [
              "window[\"79d0b576-ba1b-11ee-a1de-0242ac1c000c\"] = google.colab.output.setActiveOutputArea(window[\"79d05fea-ba1b-11ee-a1de-0242ac1c000c\"]);\n",
              "//# sourceURL=js_c569902ea5"
            ]
          },
          "metadata": {}
        },
        {
          "output_type": "display_data",
          "data": {
            "text/plain": [
              "<IPython.core.display.Javascript object>"
            ],
            "application/javascript": [
              "window[\"79d0f25c-ba1b-11ee-a1de-0242ac1c000c\"] = window[\"id5\"].setSelectedTabIndex(2);\n",
              "//# sourceURL=js_1921869eef"
            ]
          },
          "metadata": {}
        },
        {
          "output_type": "stream",
          "name": "stdout",
          "text": [
            "------------------------------------------------------\n",
            "Epoch  train_loss  train_accu   valid_loss  valid_accu\n",
            "   28: 0.00008502  100.00000000%  0.75418650  92.11666667%\n",
            "(valid)recall      precision    F1\n",
            "       0.21342134  0.45647059   0.29085457\n",
            "       TP_v=194  FP_v=231  FN_v=715  TN_v=10860\n",
            "(train)recall      precision    F1\n",
            "       1.00000000  1.00000000   1.00000000\n",
            "       TP_t=757  FP_t=0  FN_t=0  TN_t=11147\n",
            "------------------------------------------------------\n"
          ]
        },
        {
          "output_type": "display_data",
          "data": {
            "text/plain": [
              "<IPython.core.display.Javascript object>"
            ],
            "application/javascript": [
              "window[\"79d29abc-ba1b-11ee-a1de-0242ac1c000c\"] = google.colab.output.setActiveOutputArea(window[\"79d012c4-ba1b-11ee-a1de-0242ac1c000c\"]);\n",
              "//# sourceURL=js_08b8e27af4"
            ]
          },
          "metadata": {}
        },
        {
          "output_type": "display_data",
          "data": {
            "text/plain": [
              "<IPython.core.display.Javascript object>"
            ],
            "application/javascript": [
              "window[\"91673f8e-ba1b-11ee-a1de-0242ac1c000c\"] = google.colab.output.getActiveOutputArea();\n",
              "//# sourceURL=js_fbd7ce353a"
            ]
          },
          "metadata": {}
        },
        {
          "output_type": "display_data",
          "data": {
            "text/plain": [
              "<IPython.core.display.Javascript object>"
            ],
            "application/javascript": [
              "window[\"916799c0-ba1b-11ee-a1de-0242ac1c000c\"] = document.querySelector(\"#id5_content_2\");\n",
              "//# sourceURL=js_25ae250cdd"
            ]
          },
          "metadata": {}
        },
        {
          "output_type": "display_data",
          "data": {
            "text/plain": [
              "<IPython.core.display.Javascript object>"
            ],
            "application/javascript": [
              "window[\"9167f78a-ba1b-11ee-a1de-0242ac1c000c\"] = google.colab.output.setActiveOutputArea(window[\"916799c0-ba1b-11ee-a1de-0242ac1c000c\"]);\n",
              "//# sourceURL=js_866ade5b3a"
            ]
          },
          "metadata": {}
        },
        {
          "output_type": "display_data",
          "data": {
            "text/plain": [
              "<IPython.core.display.Javascript object>"
            ],
            "application/javascript": [
              "window[\"91683d76-ba1b-11ee-a1de-0242ac1c000c\"] = window[\"id5\"].setSelectedTabIndex(2);\n",
              "//# sourceURL=js_07689fa05f"
            ]
          },
          "metadata": {}
        },
        {
          "output_type": "stream",
          "name": "stdout",
          "text": [
            "------------------------------------------------------\n",
            "Epoch  train_loss  train_accu   valid_loss  valid_accu\n",
            "   29: 0.00005635  100.00000000%  0.78839900  92.22500000%\n",
            "(valid)recall      precision    F1\n",
            "       0.19801980  0.46875000   0.27842227\n",
            "       TP_v=180  FP_v=204  FN_v=729  TN_v=10887\n",
            "(train)recall      precision    F1\n",
            "       1.00000000  1.00000000   1.00000000\n",
            "       TP_t=755  FP_t=0  FN_t=0  TN_t=11149\n",
            "------------------------------------------------------\n"
          ]
        },
        {
          "output_type": "display_data",
          "data": {
            "text/plain": [
              "<IPython.core.display.Javascript object>"
            ],
            "application/javascript": [
              "window[\"916a2122-ba1b-11ee-a1de-0242ac1c000c\"] = google.colab.output.setActiveOutputArea(window[\"91673f8e-ba1b-11ee-a1de-0242ac1c000c\"]);\n",
              "//# sourceURL=js_bef8141dce"
            ]
          },
          "metadata": {}
        },
        {
          "output_type": "display_data",
          "data": {
            "text/plain": [
              "<IPython.core.display.Javascript object>"
            ],
            "application/javascript": [
              "window[\"a902d694-ba1b-11ee-a1de-0242ac1c000c\"] = google.colab.output.getActiveOutputArea();\n",
              "//# sourceURL=js_24c8bfd60c"
            ]
          },
          "metadata": {}
        },
        {
          "output_type": "display_data",
          "data": {
            "text/plain": [
              "<IPython.core.display.Javascript object>"
            ],
            "application/javascript": [
              "window[\"a90321a8-ba1b-11ee-a1de-0242ac1c000c\"] = document.querySelector(\"#id5_content_3\");\n",
              "//# sourceURL=js_723d52635d"
            ]
          },
          "metadata": {}
        },
        {
          "output_type": "display_data",
          "data": {
            "text/plain": [
              "<IPython.core.display.Javascript object>"
            ],
            "application/javascript": [
              "window[\"a9036852-ba1b-11ee-a1de-0242ac1c000c\"] = google.colab.output.setActiveOutputArea(window[\"a90321a8-ba1b-11ee-a1de-0242ac1c000c\"]);\n",
              "//# sourceURL=js_5a63707bab"
            ]
          },
          "metadata": {}
        },
        {
          "output_type": "display_data",
          "data": {
            "text/plain": [
              "<IPython.core.display.Javascript object>"
            ],
            "application/javascript": [
              "window[\"a903afb0-ba1b-11ee-a1de-0242ac1c000c\"] = window[\"id5\"].setSelectedTabIndex(3);\n",
              "//# sourceURL=js_0b5f1cc560"
            ]
          },
          "metadata": {}
        },
        {
          "output_type": "stream",
          "name": "stdout",
          "text": [
            "------------------------------------------------------\n",
            "Epoch  train_loss  train_accu   valid_loss  valid_accu\n",
            "   30: 0.00004705  100.00000000%  0.79772921  92.20000000%\n",
            "(valid)recall      precision    F1\n",
            "       0.19471947  0.46456693   0.27441860\n",
            "       TP_v=177  FP_v=204  FN_v=732  TN_v=10887\n",
            "(train)recall      precision    F1\n",
            "       1.00000000  1.00000000   1.00000000\n",
            "       TP_t=760  FP_t=0  FN_t=0  TN_t=11144\n",
            "------------------------------------------------------\n"
          ]
        },
        {
          "output_type": "display_data",
          "data": {
            "text/plain": [
              "<IPython.core.display.Javascript object>"
            ],
            "application/javascript": [
              "window[\"a90584ac-ba1b-11ee-a1de-0242ac1c000c\"] = google.colab.output.setActiveOutputArea(window[\"a902d694-ba1b-11ee-a1de-0242ac1c000c\"]);\n",
              "//# sourceURL=js_af214eeb43"
            ]
          },
          "metadata": {}
        },
        {
          "output_type": "stream",
          "name": "stdout",
          "text": [
            "model will be saved as /content/drive/MyDrive/AOCR2024/params/test/unet_without_decoder_30\n"
          ]
        },
        {
          "output_type": "display_data",
          "data": {
            "text/plain": [
              "<IPython.core.display.Javascript object>"
            ],
            "application/javascript": [
              "window[\"c0d03302-ba1b-11ee-a1de-0242ac1c000c\"] = google.colab.output.getActiveOutputArea();\n",
              "//# sourceURL=js_c5a8d7eafc"
            ]
          },
          "metadata": {}
        },
        {
          "output_type": "display_data",
          "data": {
            "text/plain": [
              "<IPython.core.display.Javascript object>"
            ],
            "application/javascript": [
              "window[\"c0d0850a-ba1b-11ee-a1de-0242ac1c000c\"] = document.querySelector(\"#id5_content_3\");\n",
              "//# sourceURL=js_3c743e7806"
            ]
          },
          "metadata": {}
        },
        {
          "output_type": "display_data",
          "data": {
            "text/plain": [
              "<IPython.core.display.Javascript object>"
            ],
            "application/javascript": [
              "window[\"c0d0c8da-ba1b-11ee-a1de-0242ac1c000c\"] = google.colab.output.setActiveOutputArea(window[\"c0d0850a-ba1b-11ee-a1de-0242ac1c000c\"]);\n",
              "//# sourceURL=js_3751907cff"
            ]
          },
          "metadata": {}
        },
        {
          "output_type": "display_data",
          "data": {
            "text/plain": [
              "<IPython.core.display.Javascript object>"
            ],
            "application/javascript": [
              "window[\"c0d0fe7c-ba1b-11ee-a1de-0242ac1c000c\"] = window[\"id5\"].setSelectedTabIndex(3);\n",
              "//# sourceURL=js_7a9a2b3c3d"
            ]
          },
          "metadata": {}
        },
        {
          "output_type": "stream",
          "name": "stdout",
          "text": [
            "------------------------------------------------------\n",
            "Epoch  train_loss  train_accu   valid_loss  valid_accu\n",
            "   31: 0.00005773  100.00000000%  0.75897318  91.97500000%\n",
            "(valid)recall      precision    F1\n",
            "       0.23212321  0.44327731   0.30469314\n",
            "       TP_v=211  FP_v=265  FN_v=698  TN_v=10826\n",
            "(train)recall      precision    F1\n",
            "       1.00000000  1.00000000   1.00000000\n",
            "       TP_t=757  FP_t=0  FN_t=0  TN_t=11147\n",
            "------------------------------------------------------\n"
          ]
        },
        {
          "output_type": "display_data",
          "data": {
            "text/plain": [
              "<IPython.core.display.Javascript object>"
            ],
            "application/javascript": [
              "window[\"c0d2515a-ba1b-11ee-a1de-0242ac1c000c\"] = google.colab.output.setActiveOutputArea(window[\"c0d03302-ba1b-11ee-a1de-0242ac1c000c\"]);\n",
              "//# sourceURL=js_1b5f2bbfaf"
            ]
          },
          "metadata": {}
        },
        {
          "output_type": "display_data",
          "data": {
            "text/plain": [
              "<IPython.core.display.Javascript object>"
            ],
            "application/javascript": [
              "window[\"d86d0c2e-ba1b-11ee-a1de-0242ac1c000c\"] = google.colab.output.getActiveOutputArea();\n",
              "//# sourceURL=js_33a446d8ba"
            ]
          },
          "metadata": {}
        },
        {
          "output_type": "display_data",
          "data": {
            "text/plain": [
              "<IPython.core.display.Javascript object>"
            ],
            "application/javascript": [
              "window[\"d86d4c52-ba1b-11ee-a1de-0242ac1c000c\"] = document.querySelector(\"#id5_content_3\");\n",
              "//# sourceURL=js_84b7f249e1"
            ]
          },
          "metadata": {}
        },
        {
          "output_type": "display_data",
          "data": {
            "text/plain": [
              "<IPython.core.display.Javascript object>"
            ],
            "application/javascript": [
              "window[\"d86d9a5e-ba1b-11ee-a1de-0242ac1c000c\"] = google.colab.output.setActiveOutputArea(window[\"d86d4c52-ba1b-11ee-a1de-0242ac1c000c\"]);\n",
              "//# sourceURL=js_bf6c99d572"
            ]
          },
          "metadata": {}
        },
        {
          "output_type": "display_data",
          "data": {
            "text/plain": [
              "<IPython.core.display.Javascript object>"
            ],
            "application/javascript": [
              "window[\"d86de126-ba1b-11ee-a1de-0242ac1c000c\"] = window[\"id5\"].setSelectedTabIndex(3);\n",
              "//# sourceURL=js_e38091fc68"
            ]
          },
          "metadata": {}
        },
        {
          "output_type": "stream",
          "name": "stdout",
          "text": [
            "------------------------------------------------------\n",
            "Epoch  train_loss  train_accu   valid_loss  valid_accu\n",
            "   32: 0.00004897  100.00000000%  0.81990144  92.30833333%\n",
            "(valid)recall      precision    F1\n",
            "       0.19581958  0.48108108   0.27834246\n",
            "       TP_v=178  FP_v=192  FN_v=731  TN_v=10899\n",
            "(train)recall      precision    F1\n",
            "       1.00000000  1.00000000   1.00000000\n",
            "       TP_t=760  FP_t=0  FN_t=0  TN_t=11144\n",
            "------------------------------------------------------\n"
          ]
        },
        {
          "output_type": "display_data",
          "data": {
            "text/plain": [
              "<IPython.core.display.Javascript object>"
            ],
            "application/javascript": [
              "window[\"d86fbb7c-ba1b-11ee-a1de-0242ac1c000c\"] = google.colab.output.setActiveOutputArea(window[\"d86d0c2e-ba1b-11ee-a1de-0242ac1c000c\"]);\n",
              "//# sourceURL=js_eb0e8847bc"
            ]
          },
          "metadata": {}
        },
        {
          "output_type": "display_data",
          "data": {
            "text/plain": [
              "<IPython.core.display.Javascript object>"
            ],
            "application/javascript": [
              "window[\"f003fd20-ba1b-11ee-a1de-0242ac1c000c\"] = google.colab.output.getActiveOutputArea();\n",
              "//# sourceURL=js_3f3147ce3c"
            ]
          },
          "metadata": {}
        },
        {
          "output_type": "display_data",
          "data": {
            "text/plain": [
              "<IPython.core.display.Javascript object>"
            ],
            "application/javascript": [
              "window[\"f0043ca4-ba1b-11ee-a1de-0242ac1c000c\"] = document.querySelector(\"#id5_content_3\");\n",
              "//# sourceURL=js_fe30d930c2"
            ]
          },
          "metadata": {}
        },
        {
          "output_type": "display_data",
          "data": {
            "text/plain": [
              "<IPython.core.display.Javascript object>"
            ],
            "application/javascript": [
              "window[\"f0047a84-ba1b-11ee-a1de-0242ac1c000c\"] = google.colab.output.setActiveOutputArea(window[\"f0043ca4-ba1b-11ee-a1de-0242ac1c000c\"]);\n",
              "//# sourceURL=js_8436b612e5"
            ]
          },
          "metadata": {}
        },
        {
          "output_type": "display_data",
          "data": {
            "text/plain": [
              "<IPython.core.display.Javascript object>"
            ],
            "application/javascript": [
              "window[\"f004b63e-ba1b-11ee-a1de-0242ac1c000c\"] = window[\"id5\"].setSelectedTabIndex(3);\n",
              "//# sourceURL=js_a166755ad5"
            ]
          },
          "metadata": {}
        },
        {
          "output_type": "stream",
          "name": "stdout",
          "text": [
            "------------------------------------------------------\n",
            "Epoch  train_loss  train_accu   valid_loss  valid_accu\n",
            "   33: 0.00003715  100.00000000%  0.80218940  92.24166667%\n",
            "(valid)recall      precision    F1\n",
            "       0.20792079  0.47250000   0.28877005\n",
            "       TP_v=189  FP_v=211  FN_v=720  TN_v=10880\n",
            "(train)recall      precision    F1\n",
            "       1.00000000  1.00000000   1.00000000\n",
            "       TP_t=756  FP_t=0  FN_t=0  TN_t=11148\n",
            "------------------------------------------------------\n"
          ]
        },
        {
          "output_type": "display_data",
          "data": {
            "text/plain": [
              "<IPython.core.display.Javascript object>"
            ],
            "application/javascript": [
              "window[\"f0060912-ba1b-11ee-a1de-0242ac1c000c\"] = google.colab.output.setActiveOutputArea(window[\"f003fd20-ba1b-11ee-a1de-0242ac1c000c\"]);\n",
              "//# sourceURL=js_93f9e00124"
            ]
          },
          "metadata": {}
        },
        {
          "output_type": "display_data",
          "data": {
            "text/plain": [
              "<IPython.core.display.Javascript object>"
            ],
            "application/javascript": [
              "window[\"07a5076c-ba1c-11ee-a1de-0242ac1c000c\"] = google.colab.output.getActiveOutputArea();\n",
              "//# sourceURL=js_1152f66245"
            ]
          },
          "metadata": {}
        },
        {
          "output_type": "display_data",
          "data": {
            "text/plain": [
              "<IPython.core.display.Javascript object>"
            ],
            "application/javascript": [
              "window[\"07a54b6e-ba1c-11ee-a1de-0242ac1c000c\"] = document.querySelector(\"#id5_content_3\");\n",
              "//# sourceURL=js_d4ad570a27"
            ]
          },
          "metadata": {}
        },
        {
          "output_type": "display_data",
          "data": {
            "text/plain": [
              "<IPython.core.display.Javascript object>"
            ],
            "application/javascript": [
              "window[\"07a5990c-ba1c-11ee-a1de-0242ac1c000c\"] = google.colab.output.setActiveOutputArea(window[\"07a54b6e-ba1c-11ee-a1de-0242ac1c000c\"]);\n",
              "//# sourceURL=js_62f06e0830"
            ]
          },
          "metadata": {}
        },
        {
          "output_type": "display_data",
          "data": {
            "text/plain": [
              "<IPython.core.display.Javascript object>"
            ],
            "application/javascript": [
              "window[\"07a5e222-ba1c-11ee-a1de-0242ac1c000c\"] = window[\"id5\"].setSelectedTabIndex(3);\n",
              "//# sourceURL=js_a08ff1912a"
            ]
          },
          "metadata": {}
        },
        {
          "output_type": "stream",
          "name": "stdout",
          "text": [
            "------------------------------------------------------\n",
            "Epoch  train_loss  train_accu   valid_loss  valid_accu\n",
            "   34: 0.00003417  100.00000000%  0.81540135  92.21666667%\n",
            "(valid)recall      precision    F1\n",
            "       0.20132013  0.46803069   0.28153846\n",
            "       TP_v=183  FP_v=208  FN_v=726  TN_v=10883\n",
            "(train)recall      precision    F1\n",
            "       1.00000000  1.00000000   1.00000000\n",
            "       TP_t=759  FP_t=0  FN_t=0  TN_t=11145\n",
            "------------------------------------------------------\n"
          ]
        },
        {
          "output_type": "display_data",
          "data": {
            "text/plain": [
              "<IPython.core.display.Javascript object>"
            ],
            "application/javascript": [
              "window[\"07a78c9e-ba1c-11ee-a1de-0242ac1c000c\"] = google.colab.output.setActiveOutputArea(window[\"07a5076c-ba1c-11ee-a1de-0242ac1c000c\"]);\n",
              "//# sourceURL=js_8381331913"
            ]
          },
          "metadata": {}
        },
        {
          "output_type": "display_data",
          "data": {
            "text/plain": [
              "<IPython.core.display.Javascript object>"
            ],
            "application/javascript": [
              "window[\"1f530b2a-ba1c-11ee-a1de-0242ac1c000c\"] = google.colab.output.getActiveOutputArea();\n",
              "//# sourceURL=js_21effc5267"
            ]
          },
          "metadata": {}
        },
        {
          "output_type": "display_data",
          "data": {
            "text/plain": [
              "<IPython.core.display.Javascript object>"
            ],
            "application/javascript": [
              "window[\"1f5356de-ba1c-11ee-a1de-0242ac1c000c\"] = document.querySelector(\"#id5_content_3\");\n",
              "//# sourceURL=js_170d21b53f"
            ]
          },
          "metadata": {}
        },
        {
          "output_type": "display_data",
          "data": {
            "text/plain": [
              "<IPython.core.display.Javascript object>"
            ],
            "application/javascript": [
              "window[\"1f53a4ae-ba1c-11ee-a1de-0242ac1c000c\"] = google.colab.output.setActiveOutputArea(window[\"1f5356de-ba1c-11ee-a1de-0242ac1c000c\"]);\n",
              "//# sourceURL=js_7798c9a58d"
            ]
          },
          "metadata": {}
        },
        {
          "output_type": "display_data",
          "data": {
            "text/plain": [
              "<IPython.core.display.Javascript object>"
            ],
            "application/javascript": [
              "window[\"1f53e432-ba1c-11ee-a1de-0242ac1c000c\"] = window[\"id5\"].setSelectedTabIndex(3);\n",
              "//# sourceURL=js_3bc88c5b70"
            ]
          },
          "metadata": {}
        },
        {
          "output_type": "stream",
          "name": "stdout",
          "text": [
            "------------------------------------------------------\n",
            "Epoch  train_loss  train_accu   valid_loss  valid_accu\n",
            "   35: 0.00002606  100.00000000%  0.84762789  92.31666667%\n",
            "(valid)recall      precision    F1\n",
            "       0.19251925  0.48209366   0.27515723\n",
            "       TP_v=175  FP_v=188  FN_v=734  TN_v=10903\n",
            "(train)recall      precision    F1\n",
            "       1.00000000  1.00000000   1.00000000\n",
            "       TP_t=761  FP_t=0  FN_t=0  TN_t=11143\n",
            "------------------------------------------------------\n"
          ]
        },
        {
          "output_type": "display_data",
          "data": {
            "text/plain": [
              "<IPython.core.display.Javascript object>"
            ],
            "application/javascript": [
              "window[\"1f55462e-ba1c-11ee-a1de-0242ac1c000c\"] = google.colab.output.setActiveOutputArea(window[\"1f530b2a-ba1c-11ee-a1de-0242ac1c000c\"]);\n",
              "//# sourceURL=js_69176ca659"
            ]
          },
          "metadata": {}
        }
      ]
    },
    {
      "cell_type": "code",
      "source": [
        "import gc\n",
        "torch.cuda.empty_cache()\n",
        "gc.collect()"
      ],
      "metadata": {
        "id": "i7HKs1m8v7zd",
        "outputId": "9505893b-e1b4-4916-a41c-b750d96d3178",
        "colab": {
          "base_uri": "https://localhost:8080/"
        }
      },
      "execution_count": null,
      "outputs": [
        {
          "output_type": "execute_result",
          "data": {
            "text/plain": [
              "3"
            ]
          },
          "metadata": {},
          "execution_count": 102
        }
      ]
    },
    {
      "cell_type": "code",
      "source": [
        "savepath = save_model(model, f'{model_name}_{epoch}', dirname=modeldirname)"
      ],
      "metadata": {
        "id": "npIxjjyOiD-W",
        "colab": {
          "base_uri": "https://localhost:8080/"
        },
        "outputId": "fa57dc30-bd9d-402c-a926-5699052b455f"
      },
      "execution_count": null,
      "outputs": [
        {
          "output_type": "stream",
          "name": "stdout",
          "text": [
            "model will be saved as /content/drive/.shortcut-targets-by-id/1sDWsPGsIDappaJPbkJswWmLhx1q6LRdv/AOCR2024/params/tf_efficientnetv2_b0_ADAM_cosannealing/efficientnet_b0_94\n"
          ]
        }
      ]
    },
    {
      "cell_type": "markdown",
      "metadata": {
        "id": "rhLO9PaUESQh"
      },
      "source": [
        "### Loss圖"
      ]
    },
    {
      "cell_type": "code",
      "execution_count": 35,
      "metadata": {
        "id": "uvRouRxFEXy2",
        "colab": {
          "base_uri": "https://localhost:8080/",
          "height": 579
        },
        "outputId": "a333d8ac-f408-4bb3-d0e0-f25ca7a03c76"
      },
      "outputs": [
        {
          "output_type": "display_data",
          "data": {
            "text/plain": [
              "<Figure size 1200x600 with 2 Axes>"
            ],
            "image/png": "[encoded data removed]"
          },
          "metadata": {}
        }
      ],
      "source": [
        "import matplotlib.pyplot as plt\n",
        "import json\n",
        "from matplotlib.ticker import MaxNLocator\n",
        "\n",
        "\n",
        "\n",
        "n_epochs = len(running_loss_list)\n",
        "fig, ax = plt.subplots(1, 2, figsize=(12, 6))\n",
        "\n",
        "ax[0].plot(np.arange(start, start+n_epochs,dtype=int), running_loss_list, label='Training Loss')\n",
        "ax[0].plot(np.arange(start, start+n_epochs,dtype=int), testing_loss_list, label='Testing Loss')\n",
        "ax[0].set_title('Loss compare')\n",
        "ax[0].set_xlabel('Epoch')\n",
        "ax[0].set_ylabel('Loss')\n",
        "ax[0].legend()\n",
        "ax[0].xaxis.set_major_locator(MaxNLocator(integer=True))  # 設置 X 軸只顯示整數\n",
        "\n",
        "ax[1].plot(np.arange(start, start+n_epochs,dtype=int), running_accu_list, label='Training Accuracy')\n",
        "ax[1].plot(np.arange(start, start+n_epochs,dtype=int), testing_accu_list, label='Testing Accuracy')\n",
        "ax[1].set_title('Accuracy compare')\n",
        "ax[1].set_xlabel('Epoch')\n",
        "ax[1].set_ylabel('Accuracy')\n",
        "ax[1].legend()\n",
        "ax[1].xaxis.set_major_locator(MaxNLocator(integer=True))  # 設置 X 軸只顯示整數\n",
        "\n",
        "plt.tight_layout()\n",
        "\n",
        "figname = f'{os.path.dirname(savepath)}/{model_name}_loss.png'\n",
        "if os.path.isfile(figname):\n",
        "  print(f\"{figname} exist.\")\n",
        "else:\n",
        "  plt.savefig(figname)\n",
        "plt.show()\n",
        "\n",
        "lossname = f'{os.path.dirname(savepath)}/{model_name}_loss.json'\n",
        "\n",
        "\n",
        "#若是從checkpoint跑模型,把loss data接上去,loss data預設在模型參數資料夾下\n",
        "if os.path.isfile(lossname):\n",
        "  with open(lossname, 'r') as f:\n",
        "    data_to_save = json.load(f)\n",
        "  data_to_save['running_loss_list'].extend(running_loss_list)\n",
        "  data_to_save['testing_loss_list'].extend(testing_loss_list)\n",
        "  data_to_save['running_accu_list'].extend(running_accu_list)\n",
        "  data_to_save['testing_accu_list'].extend(testing_accu_list)\n",
        "else:\n",
        "  data_to_save = {\n",
        "      'running_loss_list': running_loss_list,\n",
        "      'testing_loss_list': testing_loss_list,\n",
        "      'running_accu_list': running_accu_list,\n",
        "      'testing_accu_list': testing_accu_list\n",
        "  }\n",
        "\n",
        "with open(lossname, 'w') as f:\n",
        "    json.dump(data_to_save, f, indent=4)"
      ]
    },
    {
      "cell_type": "markdown",
      "metadata": {
        "id": "fRrn6mOmBRFU"
      },
      "source": [
        "# 儲存模型參數\n",
        "\n"
      ]
    },
    {
      "cell_type": "code",
      "source": [
        "print(f'{model_name}_{epoch}')\n",
        "print(f'{modeldirname}')"
      ],
      "metadata": {
        "id": "-m6jzALfUceO",
        "colab": {
          "base_uri": "https://localhost:8080/"
        },
        "outputId": "3e7b0d04-5d49-41b7-8b7d-0c424a4b74eb"
      },
      "execution_count": 36,
      "outputs": [
        {
          "output_type": "stream",
          "name": "stdout",
          "text": [
            "unet_without_decoder_81\n",
            "unet_0.8_testintrain\n"
          ]
        }
      ]
    },
    {
      "cell_type": "code",
      "execution_count": 37,
      "metadata": {
        "id": "2Jnh7hW3BRFU",
        "colab": {
          "base_uri": "https://localhost:8080/"
        },
        "outputId": "dd08b26a-2be4-43c6-b48d-99176d79923f"
      },
      "outputs": [
        {
          "output_type": "stream",
          "name": "stdout",
          "text": [
            "model will be saved as /content/drive/MyDrive/AOCR2024/params//\n",
            "請輸入模型儲存的檔名:unet_without_decoder_80\n",
            "請輸入模型儲存的資料夾:unet_0.8_testintrain\n",
            "/content/drive/MyDrive/AOCR2024/params/unet_0.8_testintrain/unet_without_decoder_80.pth exist.\n"
          ]
        }
      ],
      "source": [
        "\n",
        "filename = save_model(model)\n",
        "\n",
        "\n",
        "params = {\n",
        "    'num_epochs': epoch,\n",
        "    'batch_size': batch_size,\n",
        "    'learning_rate': lr,\n",
        "    'droprate': droprate\n",
        "}\n",
        "\n",
        "if os.path.isfile(filename+'.json'):\n",
        "    print(f\"{filename}.json exist.\")\n",
        "else:\n",
        "    with open(f'{filename}.json', 'w') as f:\n",
        "        json.dump(params, f)"
      ]
    },
    {
      "cell_type": "markdown",
      "metadata": {
        "id": "oBcppdev6LlG"
      },
      "source": [
        "# 讀取模型參數"
      ]
    },
    {
      "cell_type": "code",
      "source": [
        "# model = pretrained_model\n",
        "model = unet_model\n",
        "print(model_name)"
      ],
      "metadata": {
        "id": "aiADsN5Y2riI",
        "colab": {
          "base_uri": "https://localhost:8080/"
        },
        "outputId": "ad5db97e-2a3c-4de8-e8fd-e73c437e8d2e"
      },
      "execution_count": 69,
      "outputs": [
        {
          "output_type": "stream",
          "name": "stdout",
          "text": [
            "unet_without_decoder\n"
          ]
        }
      ]
    },
    {
      "cell_type": "code",
      "source": [
        "model = model.to(device)\n",
        "model ,_ ,params ,_ = load_model(model)"
      ],
      "metadata": {
        "id": "Pfx0VwbRN9uq",
        "colab": {
          "base_uri": "https://localhost:8080/"
        },
        "outputId": "f72b3ae6-0eb3-468e-f721-38ea61088fa8"
      },
      "execution_count": 70,
      "outputs": [
        {
          "output_type": "stream",
          "name": "stdout",
          "text": [
            "請輸入模型參數檔案名稱:unet_without_decoder_60\n",
            "請輸入儲存模型的母資料夾名稱:unet_adam_0.9\n",
            "<All keys matched successfully>\n"
          ]
        }
      ]
    },
    {
      "cell_type": "markdown",
      "metadata": {
        "id": "6v_lVRL47kzj"
      },
      "source": [
        "# 單次評估\n"
      ]
    },
    {
      "cell_type": "code",
      "execution_count": null,
      "metadata": {
        "id": "QtWJ-YYy5l2E"
      },
      "outputs": [],
      "source": [
        "# 評估設置\n",
        "try:\n",
        "  batch_size = params['batch_size']\n",
        "except:\n",
        "  batch_size = int(input(\"batch_size:\"))\n",
        "print(batch_size)\n",
        "\n",
        "\n",
        "valid_dataset = CustomDataset(images_train, labels_train, transform=transform_standard)\n",
        "valid_loader = DataLoader(valid_dataset, batch_size=batch_size, shuffle=False)"
      ]
    },
    {
      "cell_type": "code",
      "source": [
        "criterion = nn.BCELoss()\n",
        "valid_loss, valid_accuracy, predict_list = valid(valid_loader, model, criterion, 0.5, device)\n",
        "\n",
        "print(f\"Accuracy of the network on the test images: {valid_accuracy}%\")\n",
        "print(f\"Loss: {valid_loss}\")\n",
        "predict_listq = predict_list.cpu()\n"
      ],
      "metadata": {
        "id": "bsCqxcZQ4Mww"
      },
      "execution_count": null,
      "outputs": []
    },
    {
      "cell_type": "markdown",
      "source": [
        "Accuracy of the network on the 15592   \n",
        "training images: 99.20472036942022%  \n",
        "Loss: 0.03187363331013983\n"
      ],
      "metadata": {
        "id": "fwmwmUjjiYQ8"
      }
    },
    {
      "cell_type": "code",
      "execution_count": null,
      "metadata": {
        "id": "5s7klq4YR5Qg"
      },
      "outputs": [],
      "source": [
        "print_results(predict_listq, labels[:len(predict_listq)])"
      ]
    },
    {
      "cell_type": "markdown",
      "source": [
        "# 測試"
      ],
      "metadata": {
        "id": "H_IU8lUico-0"
      }
    },
    {
      "cell_type": "code",
      "source": [
        "testdir = \"Cropped_60-316_150-406_11-71/Test_Image_cropped\""
      ],
      "metadata": {
        "id": "kcS21lFCs0bL"
      },
      "execution_count": 71,
      "outputs": []
    },
    {
      "cell_type": "code",
      "source": [
        "from google.auth.transport.requests import Request\n",
        "request = Request()\n",
        "credentials.refresh(request)\n",
        "loop.run_until_complete(get_data_disk_async(drive_rootdir, testdir,token = credentials.token))"
      ],
      "metadata": {
        "id": "6rOoi2_QH-zi",
        "colab": {
          "base_uri": "https://localhost:8080/"
        },
        "outputId": "a3f39496-7718-4137-c2df-b682c21c2d0e"
      },
      "execution_count": 55,
      "outputs": [
        {
          "output_type": "stream",
          "name": "stderr",
          "text": [
            "0it [00:00, ?it/s]\n"
          ]
        }
      ]
    },
    {
      "cell_type": "code",
      "source": [
        "images_test, info = read_test(testdir,termi=200,shift=0)"
      ],
      "metadata": {
        "id": "tL3mzD9qi-3a",
        "colab": {
          "base_uri": "https://localhost:8080/"
        },
        "outputId": "d85c3f29-8d5f-40d2-d3cf-a486a6d61f8d"
      },
      "execution_count": 35,
      "outputs": [
        {
          "output_type": "stream",
          "name": "stdout",
          "text": [
            "0: Read test Zx8E3B91ED97D86D1072C6EA9220FD29DAFB96CD6BB8DC6850 finished...\n",
            "1: Read test Zx2982812805D4A3FA5078DB705FF20793142A1A712F5108B5 finished...\n",
            "2: Read test ZxD3CB0C4524F67A4D47F1690790F72DB31FECE3ECCB2B6B08 finished...\n",
            "3: Read test Zx61704E649960C4025BB3AA0B31C1A75C71442BF48DAC3E19 finished...\n",
            "4: Read test ZxE1BDE57D85B29E6B1FF4B9DB4EE825804A67EF6AAB90BCCE finished...\n",
            "5: Read test ZxCC42A7155619FA3703EAF742893B8B292D91D0D647A15B0A finished...\n",
            "6: Read test Zx577646F814CED80AB3D413794C12892EEB3B60D14B6215C6 finished...\n",
            "7: Read test ZxA1ABBC6166B65AC2A7937A2159F61BA67D2DA16F3ED4D0FB finished...\n",
            "8: Read test ZxE7E2340E9CF9166BA3E027E0C1D7FC58A90E1BE3552A780A finished...\n",
            "9: Read test Zx3AB91ED4F2F9AA3B238DDC9EEE0BF3E122BE00BCE2D2CD99 finished...\n",
            "10: Read test Zx00FE1B9A88E88C71917ECC1EDD774252C072CA5FDB12C01B finished...\n",
            "11: Read test Zx55393C140B1339C1BC5F7EE2C28DB481D9BC6ECF9EF814ED finished...\n",
            "12: Read test Zx9C3E8837FD6AE59582C5B3B20ABF573D9A30A6899BB913B4 finished...\n",
            "13: Read test Zx3E9F250FDB4CDFDD119C47120154DD2C6F04365B6325F3DD finished...\n",
            "14: Read test ZxF6938B66955EC3D5CD0973DF5A2E10245E91AB67F1F7CA12 finished...\n",
            "15: Read test Zx2D76DB29AAD23477754A6C853E7D6917BE22266389693139 finished...\n",
            "16: Read test ZxBAB5670A04D4D41D52F63DAC2EC24A2A4A63507B496E57F3 finished...\n",
            "17: Read test Zx810EEE22A83CEDD08D733E023EF1858017C63E01468C3375 finished...\n",
            "18: Read test Zx6A20D18C293857B202D0F932B1E918FE4FF89CF55E0A1741 finished...\n",
            "19: Read test ZxDAADCC811EB06CD64F6CD95DA33D7FF99AF478AD17111F24 finished...\n",
            "20: Read test Zx0D0A3D4D2C6DF934AF9D016A5B8923F6BF5746DA99CA00D6 finished...\n",
            "21: Read test Zx851C7A3C539A11B40A6785E54176FC3F76040A4BAC40B927 finished...\n",
            "22: Read test Zx52BBC4E7ED7777892AB6E97DF4AD7334895A02CDC8314620 finished...\n",
            "23: Read test ZxECEBC097C0357F22D220854F3E699B1E6E47D05029D25C35 finished...\n",
            "24: Read test Zx8B4DDDE2EF0F838CF94EE3E5A54F490DE1110936ECD0A58B finished...\n",
            "25: Read test ZxE083D32FF1E7514B2C885A8E1285EB3331934DB0C6A6DCF3 finished...\n",
            "26: Read test Zx84FAA59C32FC9035A9EADACBD1F04853861DA97718E616A0 finished...\n",
            "27: Read test ZxE5CBD5D7C3EBE3E942304BD4EB09A7A83E3BC794E9E33B83 finished...\n",
            "28: Read test ZxE371E276426F15AAE1808E2EE266D836F56FE71105D84CDD finished...\n",
            "29: Read test Zx9C4D13B3283A0D24EB8014606E8846EAD2CB820DE4C67567 finished...\n",
            "30: Read test Zx0FF377252BE891AC0DC9A1CABC405DA08650AFE8A28C9D04 finished...\n",
            "31: Read test Zx8D0A1B1F228ED6A8432C127F54D9C7EA84E700AB61F6DD1A finished...\n",
            "32: Read test ZxC99A216B2CA9144722A9669539FFDFA69F5C56621346CBA1 finished...\n",
            "33: Read test Zx27F7969620CB7F945A322CD82C1A20F4424F070945ECE5A5 finished...\n",
            "34: Read test ZxF180C421408A751F52C2309203D70BA0774A28B4A3020E08 finished...\n",
            "35: Read test Zx16043EED6C38D1B0045FDC752A66A80E336E352A945ED37F finished...\n",
            "36: Read test Zx6D019E3A69B0605FEDE60BE518EAE1E353541C5B72C893CE finished...\n",
            "37: Read test Zx856FBE2C71AFB86C6974EBD23B9878ED38822BCA17B456F0 finished...\n",
            "38: Read test Zx8B2FEAF57D149F9048595E14FA3078891FCA954ECDE95769 finished...\n",
            "39: Read test Zx86F99E7E390C00CBFAEAEDC2A0020694B6FA82354ABACE5C finished...\n",
            "40: Read test ZxBF002BC7F5AFD8F25C9E269D2500DD36732079B9702EFC8F finished...\n",
            "41: Read test ZxA7928107608AC56E5D6A089B9DEBF2583A47AE95DD4FB78F finished...\n",
            "42: Read test ZxAC7AF4D4AA932120D6F7CFF7148CFEF0ACD6211715D2252B finished...\n",
            "43: Read test Zx328EF1C62C85DF79015B9A9018D3FDCC53BEA3F1711C1D82 finished...\n",
            "44: Read test ZxE5D406C8012C9EBE0DC15746B084DF2A1F6045B4C552CDBD finished...\n",
            "45: Read test ZxAA57F4E78EA8967BE55B487212E949020905717B7BD45A6F finished...\n",
            "46: Read test Zx7031F9BB97AE153DADE975962D6EA993DBD6740AE49A9536 finished...\n",
            "47: Read test Zx3140C2C02EDB97CF7495E57512F57FA27B80CCA6A163B91A finished...\n",
            "48: Read test ZxB7F4FBA41E566CE60E2832A4D9469B4E243287F8453C0FEC finished...\n",
            "49: Read test ZxC3159DBA2C781D71F3793A251818B7E9B8798E60E914DA7D finished...\n",
            "50: Read test Zx44AD1A2E2930231F8A0F7BB197B1676E04B455B6297F02F9 finished...\n",
            "51: Read test ZxF3D2F7AC036135C8A369A42C6D803C3082F2B83D888E3B9F finished...\n",
            "52: Read test Zx85DBFD62B25C76EF9C2376E34C58F850DC14D0C665C55334 finished...\n",
            "53: Read test Zx64D8ABDFA2E7D3055E2ED5D31C600500EC76D713C7BB60CE finished...\n",
            "54: Read test Zx640054B03A4D99000CBF7B9EF10375F672E1AA38EF541280 finished...\n",
            "55: Read test Zx4DEAB0155B0B49D713B6346DBE29F387512957A19E1C395F finished...\n",
            "56: Read test Zx46314067B5F762DDC67BCF0A3EF1AC783C03FE4A90CBABC5 finished...\n",
            "57: Read test ZxEACFC663D819866EDD952D746FCEA3AB7FBD9FC4C8AA43EF finished...\n",
            "58: Read test ZxBD7EA944E5CE4F96C6C2DE27DA76AD6866D739A6BF08D651 finished...\n",
            "59: Read test ZxC049A25D75C5FC9B7261ECB00B16D05743D36782F8D868F2 finished...\n",
            "60: Read test Zx959FD71EF77A62AEF1D80F3C0CAE8BD5F13286FE113791F4 finished...\n",
            "61: Read test Zx4FEAB4F8AA64AA6F339F2CDBBF7F4A1D0FE208E6EE5E76E8 finished...\n",
            "62: Read test ZxCCAD69483E1ACED22A63E8F8200E21C24B4B4FADCF70E81B finished...\n",
            "63: Read test ZxAB18B96AE76F63471C014832B1C113384A4D69696F2FD236 finished...\n",
            "64: Read test Zx7A459FA5026054431B669EA98F76009E4AB2F1C298C78833 finished...\n",
            "65: Read test ZxDAECCFA7F3FE9FCE75E371DD91A51C94905CB84252BA61C1 finished...\n",
            "66: Read test Zx210EA4E4E64FD80F7A268A48B2C266E51AD4313EDBF3C427 finished...\n",
            "67: Read test Zx86DF1F0CFB8C91DEBBFA15D1990C4F3612BF8E7368659AF4 finished...\n",
            "68: Read test Zx835BE89BC06B937B44952AA9FFA51254C7B60F8FDDA36FC0 finished...\n",
            "69: Read test Zx5A55FB599A3CC3C556CC21378C817CAEE33BD3E09767B29F finished...\n",
            "70: Read test Zx660601FDDD18C5026CFAEB6F4F3CAC89508251B9585FCE08 finished...\n",
            "71: Read test Zx256A9E945D19FB28335E22C805EC9CDC4F4E23A7B3871D4F finished...\n",
            "72: Read test Zx6D019E3A69B0605FCE6D0FEFDBE35A8A885394AC5BDD7979 finished...\n",
            "73: Read test Zx379A5F7814F0914AC2A577D0E6A1DAB8135D4B74CF2B3EEB finished...\n",
            "74: Read test ZxF3EDCFF4D2AB58B7B3B86A31CCBC22EA51E0B2037419A274 finished...\n",
            "75: Read test Zx1BE880E938C82FBD4C04159D47738D8E78875219BE6D7D6B finished...\n",
            "76: Read test ZxAE3E837D9540D0A43FEEE80E0B043AAB3265CE56B285F842 finished...\n",
            "77: Read test ZxEB847811235EA8F873A7C4C53779694E0E2473C003B04374 finished...\n",
            "78: Read test ZxC38DBF9E5731EC4DB691765413E5D69788316A6F019A40A9 finished...\n",
            "79: Read test Zx0CFEAEA49D4E19D1DB3BAE1248C9AE42D815CA7B52CC9E76 finished...\n",
            "80: Read test ZxF5776D71E8D63B2ED23AE03D3AD3E3D608F64D3589C655F0 finished...\n",
            "81: Read test Zx0E3C20D9BB248666F8C1605B9A9D726237A5626AD91AF5DF finished...\n",
            "82: Read test ZxA8CBC73ECB3DE48C21A02D065EDE60841A43F4CDE41474E6 finished...\n",
            "83: Read test Zx4F54B6C5232290798B967948DE6D2D33CB2085006FD32EE9 finished...\n",
            "84: Read test Zx61A82FD417A655FEF3CBDA74333F883F4C966F58FA8875C1 finished...\n",
            "85: Read test ZxD6C4F406BC86A11667A76E66676A79B78A83F5DE3219D466 finished...\n",
            "86: Read test Zx212DBD941DEC06E9E3BF9D108811FA07B37CC848C4D10968 finished...\n",
            "87: Read test Zx48074DB9E0145933E2EED0A7E4EB0D3B0A9447A110736D8D finished...\n",
            "88: Read test Zx7864EB3372794DF83DB16DE28BD8C7BE147782904DA1EA43 finished...\n",
            "89: Read test Zx3FC388FF59A43E76DCBA3C47ABC0E803E488FA570BEDED99 finished...\n",
            "90: Read test Zx6CFEF464C113FCF5983B9E8586AD70C82296EB86BFC86DEF finished...\n",
            "91: Read test ZxAC7AF4D4AA932120A68BFD69005A1703DA8A2033BB771129 finished...\n",
            "92: Read test ZxF9F4AF14D7B1EF7CC7C36C7350DA3F8C2ABAEF4156220EB5 finished...\n",
            "93: Read test ZxCCB3EEF9389115B6F0ECCF3C05DB35F72DF7F4687E2CAAAE finished...\n",
            "94: Read test ZxA77C7D446989AF14E4D6515139AC3F4E2071BB7CF943664F finished...\n",
            "95: Read test Zx72654315F137ACEAA7C4E715B2C02C79DE59D12727448238 finished...\n",
            "96: Read test ZxF4E35FFB8721136AAD8B4F59F2EABC53213E2397CC86AF45 finished...\n",
            "97: Read test ZxB072D9EB3C28DC960D25FCDE121C2B12AC3A9003ECB9BA73 finished...\n",
            "98: Read test Zx05D5C78127C46803A2A09A76E03ED07405D28012A0536000 finished...\n",
            "99: Read test Zx4ED2135FF0A55C3D290B387F0B5E443E70DA94473B1169A6 finished...\n",
            "100: Read test Zx1146D4F02782E6D5015CDEB8FB751D6C7BB7E6471FC5FBFF finished...\n",
            "101: Read test Zx3E443FFD3162E0841D1B1867408C7E72C62DF2C248F33381 finished...\n",
            "102: Read test Zx826F31C25810C6A92E6879FEAB8C6F0A9E5879FE5C0BCE54 finished...\n",
            "103: Read test Zx7D3427750776456FBFC0D290420EA1BB26620ABF358BB33C finished...\n",
            "104: Read test Zx36871521E7690C7EB47E0B086054163CD08276241FB95857 finished...\n",
            "105: Read test ZxB1E0F925241ED36712EE604AE4CE7557A39F4DFB88C99ADB finished...\n",
            "106: Read test Zx462D1C00BC85CEB1B498D610BEB4C815742BD99BF9D84B27 finished...\n",
            "107: Read test Zx1065B0DE07F9AF895D255A52750579EE21428FAB2E575FE3 finished...\n",
            "108: Read test Zx8B0832973576598673A6F003640D79CEB483C84607557929 finished...\n",
            "109: Read test Zx2FDB8744E9FC6EA59F3C32FC9F8CFF7C94D3379593055320 finished...\n",
            "110: Read test ZxE0AE769C4E0DA3D095EF59A5158D7D0E0FB8881C1C87290D finished...\n",
            "111: Read test Zx79810E662F875E2DCDC4A784D6D1729959C7BA82541D5F07 finished...\n",
            "112: Read test ZxD4239CF33141275958AA9821650C17F95CB8DEFB66FC2819 finished...\n",
            "113: Read test Zx2982812805D4A3FAF6386CE06C15E8EA4878D456AF74CC6A finished...\n",
            "114: Read test ZxC47F6DEB1B764D01C01D88E9523BE18C243BD50275F39C11 finished...\n",
            "115: Read test Zx4BDAA35DBBA1FC9A5DBF7CE0974E45ACFDF5183C71F06DD3 finished...\n",
            "116: Read test Zx5E17136591B2A37246BA311D014805D60D28A4B289CEE9D5 finished...\n",
            "117: Read test ZxF7D357AEE2A4BBBEFD63CD09EEFA4D04BD73982DD22D224B finished...\n",
            "118: Read test ZxC0BF045C0FF2C57FDDFF01992EEFB0239866E7B895606193 finished...\n",
            "119: Read test Zx291FD6850838B6434EDE060CF2F2F05E904D018C0B6C1745 finished...\n",
            "120: Read test ZxE08294E802F8B2087DC270DC9B3AD7B04B736B85E3EF8203 finished...\n",
            "121: Read test ZxDAADCC811EB06CD6C671F66C50D2AEE8248E6E981702946C finished...\n",
            "122: Read test ZxD737ACF4FBC037DDCE79CC95AF6AB5830833237FDE328BB2 finished...\n",
            "123: Read test Zx3B29D889A4EF0EE3BB96E2E05F7242BC09F2C9A1219D39EE finished...\n",
            "124: Read test Zx5FDF7405FE28DC2B7F05E89A4234A1D79A8254B310AB2622 finished...\n",
            "125: Read test ZxC77F423A0022CBFB1CEAFDEC68518B55EFEB963D13235BA7 finished...\n",
            "126: Read test Zx3A5E7419657D564469836B830DBA881063FD52F656BFB5FE finished...\n",
            "127: Read test Zx760621E0AF1739CDC30E3925F0FE271EB515E4314C2926EE finished...\n",
            "128: Read test ZxC823CFB8F488A6A02B8B88DF93C052ED1B441EE6F73FFF60 finished...\n",
            "129: Read test ZxE7E2340E9CF9166BA6232EE39329B72C09CBCC193F17F22F finished...\n",
            "130: Read test Zx0D7F914BAEC987017F3C179833AAFC697C1DA5A8F6CB6F16 finished...\n",
            "131: Read test ZxFF51EAF10B09D34CAEEEA49B2A8310C1011E389C1AFE6C8B finished...\n",
            "132: Read test ZxABBAAF0EEA6CBA21DF39AFED984D906B7BD96982F6C06468 finished...\n",
            "133: Read test ZxD728C29B1AB1174904572E02CBD0D1F14DFB3BDDEF751F76 finished...\n",
            "134: Read test Zx895AFA076D05047BBB1EA220348784720B7DAE22A24092D5 finished...\n",
            "135: Read test ZxBF3FC363583711F537B0734C09EF0D0EC1822EF492C8BDD0 finished...\n",
            "136: Read test Zx11624B7B7AEBCF0FAFD0B992BC272C41C953A7703E56E6DA finished...\n",
            "137: Read test Zx1A017ECAEE14A219D0A3E97E6CCF962DC599F00C30EAEE01 finished...\n",
            "138: Read test ZxAE2B6C5E94A75BE79DE5A69BB833DBADB427371CF1FAEA81 finished...\n",
            "139: Read test ZxBD701431A8CE2FCBE17870735E9C7ABDEF32D58FA493E633 finished...\n",
            "140: Read test ZxE7E2340E9CF9166B859C8DB0E01A1821AACFD7B6F7C8CC5E finished...\n",
            "141: Read test ZxF53C2950250724FAFCE85F4EA06C42230601FB1EF6FD2F5F finished...\n",
            "142: Read test Zx8772600856FB4699309D69D7B0EF5B44D47F1AE80B7ED96E finished...\n",
            "143: Read test ZxFD1F717CFC351F53504AE27E08931AC4862A9E958889D91B finished...\n",
            "144: Read test ZxAEA8C5DDF7E396A8F82325EDE5CD22DC77292443081D45A4 finished...\n",
            "145: Read test Zx21F1648A3334CE363E4D72ED92F795868BC52F94D1DA5F0F finished...\n",
            "146: Read test ZxED6AC7D7D100CB8233964BB488F306113CF2E5D580C44CB7 finished...\n",
            "147: Read test Zx9C4D13B3283A0D247EB48FE50B18F5AB681D7EEDADC6BF08 finished...\n",
            "148: Read test Zx84E867361F7643F909F9AD46A866344BD303DCB0B7422A43 finished...\n",
            "149: Read test Zx05B14FDAD8DE03B10E1C560619C12C542747E39A00BC1943 finished...\n",
            "150: Read test Zx55B9557768622554D44DA0BE7934F01CB7B74FBA00FD7F55 finished...\n",
            "151: Read test ZxB534085A5208F3E99AA30C9A94F50BE1C28BE8E70B57963D finished...\n",
            "152: Read test ZxF71ECCDB9E475A04D81ACE4A25F7238E1CE035DB3D219969 finished...\n",
            "153: Read test ZxF2378B53C1470562C06AA771722B99673A4B3E08A476BCE2 finished...\n",
            "154: Read test Zx9B15E2FF7223946D2A14BB147A9C3A5C24BBA915A161FB23 finished...\n",
            "155: Read test Zx822B1193233F74F58E17D3EB9B97B6EEBBC498274C32B448 finished...\n",
            "156: Read test ZxB8AC2E1E1828B3E4154C4F56DE452017213A2467DBE597A7 finished...\n",
            "157: Read test Zx06170DED67884FED8E4A2B173346E1A698644BB8D971FFCB finished...\n",
            "158: Read test ZxCC42A7155619FA3760F34B3728552176A4CD129ABCB96913 finished...\n",
            "159: Read test Zx36871521E7690C7E3AA2576BEE4AF54E5F4089FE39BEA81C finished...\n",
            "160: Read test Zx8FA5381E33D4F284AC25A22E03C6A7BA8885155F9886648E finished...\n",
            "161: Read test Zx7F411E894A937F74C087D521932763C8800CB193A14168A4 finished...\n",
            "162: Read test Zx15FB4DF1D36A7B4AE59373BDA3B21394428E0F28E09A68CC finished...\n",
            "163: Read test Zx827790BC022017406F3E84D557007B408AFA1BFB53E0E7B7 finished...\n",
            "164: Read test Zx01948F47276376729E6CD0FC35E175861DDDE016E73A6F61 finished...\n",
            "165: Read test ZxD3F478A29A3B53F594C4567283A5AC0B5C6BA5CB9BF0558E finished...\n",
            "166: Read test Zx59081DADCE950F832F9112744686936C70AB8F8B6065AFB8 finished...\n",
            "167: Read test Zx9E10DB88FC4075E3A7AF9DFEB82AB49DEBB1D9A4F7C862B2 finished...\n",
            "168: Read test ZxCA41B3DD150137F93EE879006F0F1FB61973AC29872C8D80 finished...\n",
            "169: Read test Zx5ED8A3BACE488CFAAA89822E730FA5F8002643EA164B4B6A finished...\n",
            "170: Read test ZxF21344F244DC0BDA3B27BC9E2BB1E8468E51468BB125E264 finished...\n",
            "171: Read test Zx8D496A0DDFCA968C5DC557BCFCEABA6692FBB444199083FD finished...\n",
            "172: Read test Zx2E26A711E16137B7517C3B5748E84B807F967B69BEDDB9C6 finished...\n",
            "173: Read test ZxDAADCC811EB06CD677BC2B725B5D2084623C2BF31273631E finished...\n",
            "174: Read test Zx326A6AF603902A18E97CDAAF17A261DA3FAB17666702B15B finished...\n",
            "175: Read test Zx414A94D38319FEB009EF2F13F4CCCF67D3B3D8AC4BDCE87E finished...\n",
            "176: Read test Zx9E72763D18F9E5558F3DF5814A320D734857F2F4AA7DD9B2 finished...\n",
            "177: Read test ZxAA8B28FA1E8D06C188EE9C18DB8B266482E52379CB2F7B5B finished...\n",
            "178: Read test ZxAE84E65DFAE5468A0E0476F8B943380CE6B004D338BBAA45 finished...\n",
            "179: Read test ZxF332A3871704C6676C1EEFAB7741BDCECE5920E14A3ABB64 finished...\n",
            "180: Read test Zx368E67F85BF969857FA5374541E87EA36E19120066C76067 finished...\n",
            "181: Read test ZxAC7AF4D4AA9321200D55CFBA2EABBE92A7E8929F11E2F68D finished...\n",
            "182: Read test Zx19171CE8121BE20876FC7F1BDB6C0153CEC9A2BCEF2C9EB9 finished...\n",
            "183: Read test Zx561A0194BAFE437E42DC4174960114C23C4D0C91A4B3F0EE finished...\n",
            "184: Read test Zx32E1FB4E11BA19092F6CB3BDCA2C1A342B846CD990D12DB5 finished...\n",
            "185: Read test Zx9C822BD0D1F6C87165C63371AE66D8879468E642C705000A finished...\n",
            "186: Read test Zx93EC2D1600D91567580248DC875B2DFEC706DD1038674F81 finished...\n",
            "187: Read test ZxC603C543C6AFBFCDBD7C4E19389893035928DA4FA999679C finished...\n",
            "188: Read test Zx328EF1C62C85DF79504039E3352CDB682C7F28F58ADAD093 finished...\n",
            "189: Read test Zx7D5AB573090376F74879594BF6B7810FF805022673B201F6 finished...\n",
            "190: Read test Zx0B26523F097982195CAE5A8EC2674CE36E15988A529317CD finished...\n",
            "191: Read test Zx52C5BF85821A07F02621F8A278EF38B09DDB517C9542A645 finished...\n",
            "192: Read test ZxF2BAE7BD1B43B020EF0AD7CA4582EA418EE8EC6353284FAE finished...\n",
            "193: Read test Zx3662B675A48E317E52C7542D32A2DB1BBC0352C1EDAB368F finished...\n",
            "194: Read test ZxCE42C31F5FC5F2B9EF2F36E7EB5B096F0C7F4F25E2AB0445 finished...\n",
            "195: Read test ZxDF24140F6D64020DCE6928DF659EF2DE52AD5E30917AEFC7 finished...\n",
            "196: Read test Zx368BA8B514BD8B0144CF287FF1F4B01FAC6C5FE0BFEFEDE6 finished...\n",
            "197: Read test Zx34B443B478E3B00E19DF19CE2797FB9A3AE5169ABF55F387 finished...\n",
            "198: Read test ZxECD23E48A996137D78C3EC8056146FCDEDDF7F1299834684 finished...\n",
            "199: Read test ZxBB04FC96C2A0271553C7183885E0469D73C9D57B3995840E finished...\n",
            "read 200 scans\n"
          ]
        }
      ]
    },
    {
      "cell_type": "code",
      "source": [
        "len(images_test)"
      ],
      "metadata": {
        "colab": {
          "base_uri": "https://localhost:8080/"
        },
        "id": "X6HAuMYbMsKK",
        "outputId": "2491d959-6831-4ef0-bd2b-4dcb44006aa4"
      },
      "execution_count": 56,
      "outputs": [
        {
          "output_type": "execute_result",
          "data": {
            "text/plain": [
              "12000"
            ]
          },
          "metadata": {},
          "execution_count": 56
        }
      ]
    },
    {
      "cell_type": "code",
      "source": [
        "try:\n",
        "  batch_size = params['batch_size']\n",
        "except:\n",
        "  batch_size = int(input(\"batch_size:\"))\n",
        "print(batch_size)\n",
        "\n",
        "\n",
        "# 對testing dataset做normalization\n",
        "dataset = CustomDataset(images_test, None, mode='test', transform=transform_standard)\n",
        "# dataset = CustomDataset(images_test, None, mode='test', transform=None)\n",
        "dataloader = DataLoader(dataset, batch_size=batch_size, shuffle=False)\n"
      ],
      "metadata": {
        "id": "khCyQWK7d4G7",
        "colab": {
          "base_uri": "https://localhost:8080/"
        },
        "outputId": "1273feae-dec2-4d94-a76b-a79f041f46c7"
      },
      "execution_count": 73,
      "outputs": [
        {
          "output_type": "stream",
          "name": "stdout",
          "text": [
            "batch_size:128\n",
            "128\n"
          ]
        }
      ]
    },
    {
      "cell_type": "code",
      "source": [
        "model.eval()\n",
        "\n",
        "predict_list = torch.tensor([]).to(device)\n",
        "with torch.no_grad():  # 不更新梯度\n",
        "    for j, batch_images in enumerate(dataloader):\n",
        "        batch_images = batch_images.to(device)\n",
        "        outputs = model(batch_images)\n",
        "        predicted = (outputs.squeeze() > 0.5).int()\n",
        "\n",
        "        # if predicted.dim() == 0:\n",
        "        #   predicted = predicted.unsqueeze(0)\n",
        "        predict_list = torch.cat((predict_list,predicted),0)\n",
        "\n",
        "\n",
        "predict_listq = predict_list.cpu()"
      ],
      "metadata": {
        "id": "N-IzPXwRcrxE"
      },
      "execution_count": 74,
      "outputs": []
    },
    {
      "cell_type": "code",
      "source": [
        "predict_listq.sum()"
      ],
      "metadata": {
        "id": "nzT97RCx9NxP",
        "colab": {
          "base_uri": "https://localhost:8080/"
        },
        "outputId": "235d1ffa-91a3-4867-8f2e-4467570609b5"
      },
      "execution_count": 75,
      "outputs": [
        {
          "output_type": "execute_result",
          "data": {
            "text/plain": [
              "tensor(977.)"
            ]
          },
          "metadata": {},
          "execution_count": 75
        }
      ]
    },
    {
      "cell_type": "markdown",
      "metadata": {
        "id": "ml59tSf2QXty"
      },
      "source": [
        "# 輸出至提交格式"
      ]
    },
    {
      "cell_type": "markdown",
      "source": [
        "images讀進來是疊在一起的。 需要info紀錄images檔名順序與分割情況"
      ],
      "metadata": {
        "id": "Z7I_nNXjjlGW"
      }
    },
    {
      "cell_type": "markdown",
      "source": [
        "訓練過程不改變資料順序, 所以輸出順序同輸入.   \n",
        "predict值跟隨images順序, 照著info把每個predict值(label)與檔名(id)對上. 輸出成提交格式"
      ],
      "metadata": {
        "id": "4teg7YRZj9Vq"
      }
    },
    {
      "cell_type": "code",
      "source": [
        "def yes(predict):\n",
        "  return int(sum(predict) >= 3)\n",
        "\n",
        "\n",
        "\n",
        "predict_list = predict_listq.numpy()\n",
        "\n",
        "## 還原id與對應label，假設key按照scan輸入順序排列,每個key對應的scan的cuts數是nslice\n",
        "output = {}\n",
        "k = 0  #第幾個scan\n",
        "ii = 0   #每個key輪到第幾個\n",
        "id, nslice = info[k][0], info[k][1]\n",
        "for i in range(len(predict_list)):\n",
        "\n",
        "  if (ii >= nslice):\n",
        "    #該換下一個scan了\n",
        "    output[id] = yes(predict_list[i-nslice:i]) #評估方式\n",
        "\n",
        "    k += 1\n",
        "    ii = 0\n",
        "    id, nslice = info[k][0], info[k][1]\n",
        "\n",
        "  label = predict_list[i]\n",
        "  output[id+f'_{ii}'] = int(predict_list[i])\n",
        "  ii += 1\n",
        "\n",
        "output[id] = yes(predict_list[(i+1)-ii:]) #補上最後一個scan評估\n",
        "output = list(output.items())\n",
        "dfout = pd.DataFrame(output)\n",
        "dfout.columns = ['id', 'label']\n",
        "dfout = dfout.sort_values(by='id', key=lambda x: x.map(custom_sort_key)) #把母label移動到子label前面\n",
        "filename = input(\"輸入提交路徑 (empty for submission\\submission.csv)\")\n",
        "dfout.to_csv(os.path.join(drive_rootdir,'params','submission',filename)+'.csv', index=False)"
      ],
      "metadata": {
        "id": "eGcPvyce5uDJ",
        "colab": {
          "base_uri": "https://localhost:8080/"
        },
        "outputId": "8fee577d-d0b0-45c6-d343-72a4af812774"
      },
      "execution_count": 76,
      "outputs": [
        {
          "name": "stdout",
          "output_type": "stream",
          "text": [
            "輸入提交路徑 (empty for submission\\submission.csv)unet_adam_0.9_60\n"
          ]
        }
      ]
    },
    {
      "cell_type": "markdown",
      "source": [
        "# 讀取提交格式的檔案"
      ],
      "metadata": {
        "id": "wKe-NfBAeN8i"
      }
    },
    {
      "cell_type": "code",
      "source": [
        "dftest = read_submission('fisrt_80.csv')\n",
        "# dftest = read_submission('submission.csv')\n",
        "dflabel = read_label(\"TrainValid_ground_truth.csv\")"
      ],
      "metadata": {
        "id": "oDM_yM-5bdCT"
      },
      "execution_count": null,
      "outputs": []
    },
    {
      "cell_type": "code",
      "source": [
        "len(dftest)"
      ],
      "metadata": {
        "id": "fRSaPgTBnbE2"
      },
      "execution_count": null,
      "outputs": []
    },
    {
      "cell_type": "code",
      "source": [
        "import re\n",
        "\n",
        "\n",
        "# 抓出scan-level data\n",
        "pattern = re.compile(r'.*_[0-9]+$')  # 正則表達式匹配 \"_數字\" 結尾\n",
        "mask = ~dftest.index.str.match(pattern)\n",
        "scan_guess = np.array(dftest[mask]['label'])\n",
        "scan_truth = np.array(dflabel.loc[dftest[mask]['label'].index]['label'])\n",
        "\n",
        "mask = ~mask\n",
        "cut_guess = np.array(dftest[mask]['label'])\n",
        "cut_truth = np.array(dflabel.loc[dftest[mask]['label'].index]['label'])"
      ],
      "metadata": {
        "id": "BD1NfxWTb2iL"
      },
      "execution_count": null,
      "outputs": []
    },
    {
      "cell_type": "code",
      "source": [
        "ss = 10\n",
        "print(\"=\"*ss + \"F1 score on scan level\" + \"=\"*ss)\n",
        "print_results(scan_guess, scan_truth)\n",
        "print(),print()\n",
        "print(\"=\"*ss + \"F1 score on cut level\" +\"=\"*ss )\n",
        "print_results(cut_guess, cut_truth)"
      ],
      "metadata": {
        "id": "fyMlAtUWuW8Y"
      },
      "execution_count": null,
      "outputs": []
    },
    {
      "cell_type": "markdown",
      "source": [
        "# 其他指令\n",
        "不在工作流\n",
        "臨時使用"
      ],
      "metadata": {
        "id": "FG2tqJ1kMhzt"
      }
    },
    {
      "cell_type": "markdown",
      "source": [
        "**驗證數據集標準化**"
      ],
      "metadata": {
        "id": "gFJJAhnlEl-k"
      }
    },
    {
      "cell_type": "code",
      "source": [
        "from torch.utils.data import DataLoader\n",
        "import torch\n",
        "\n",
        "def calculate_mean_std(dataset):\n",
        "    dataloader = DataLoader(dataset, batch_size=32, shuffle=False, num_workers=0)\n",
        "\n",
        "    # 初始化总和和平方总和变量，以及样本数量\n",
        "    total_sum = 0.0\n",
        "    total_sq_sum = 0.0\n",
        "    total_count = 0\n",
        "\n",
        "    for data in dataloader:\n",
        "        images, _ = data  # 假设每个数据是 (image, label) 格式\n",
        "\n",
        "        # 将图像数据移至CPU并转换为一维\n",
        "        images = images.view(images.size(0), -1)\n",
        "        total_sum += images.sum(dim=1).sum(dim=0)\n",
        "        total_sq_sum += (images ** 2).sum(dim=1).sum(dim=0)\n",
        "        total_count += images.size(0) * images.size(1)\n",
        "\n",
        "    # 计算总平均值和标准差\n",
        "    mean = total_sum / total_count\n",
        "    std = (total_sq_sum / total_count - mean ** 2) ** 0.5\n",
        "\n",
        "    return mean, std\n",
        "\n",
        "\n"
      ],
      "metadata": {
        "id": "0-qBKHPwEyQu"
      },
      "execution_count": null,
      "outputs": []
    },
    {
      "cell_type": "code",
      "source": [
        "import torch\n",
        "# 獲取數據\n",
        "images, labels = process_data2(datadir, termi=100, dropFalse=0)"
      ],
      "metadata": {
        "id": "7SOL9kAo65kH"
      },
      "execution_count": null,
      "outputs": []
    },
    {
      "cell_type": "code",
      "source": [
        "\n",
        "# 計算原始圖片mean\n",
        "original_mean = torch.mean(images)\n",
        "original_std = torch.std(images)\n",
        "print(f'Original Mean: {original_mean}')\n",
        "print(f'Original Std: {original_std}')\n",
        "\n",
        "# 製作數據集\n",
        "transform = transforms.Normalize(mean=original_mean, std=original_std)\n",
        "dataset = CustomDataset(images, labels , transform=transform)\n",
        "normalized_mean, normalized_std = calculate_mean_std(dataset)\n",
        "\n",
        "\n",
        "# 输出\n",
        "print(f'Normalized Mean: {normalized_mean}')\n",
        "print(f'Normalized Std: {normalized_std}')\n",
        "\n",
        "\n",
        "\n",
        "# # 計算原始圖片mean\n",
        "# original_mean = torch.mean(images)\n",
        "# original_std = torch.std(images)\n",
        "# print(f'Original Mean: {original_mean}')\n",
        "# print(f'Original Std: {original_std}')\n",
        "\n",
        "# # 製作數據集\n",
        "# transform = transforms.Normalize(mean=original_mean, std=original_std)\n",
        "# dataset = CustomDataset(images, labels)\n",
        "\n",
        "# normalized_images, normalized_labels = dataset[:]\n",
        "# normalized_mean, normalized_std = torch.mean(normalized_images), torch.std(normalized_images)\n",
        "\n",
        "\n",
        "# print(f'Normalized Mean: {normalized_mean}')\n",
        "# print(f'Normalized Std: {normalized_std}')\n"
      ],
      "metadata": {
        "id": "-HYdGkl5QbeI"
      },
      "execution_count": null,
      "outputs": []
    },
    {
      "cell_type": "markdown",
      "source": [
        "**下載每個checkpoint的參數並validate**"
      ],
      "metadata": {
        "id": "vuA-32FnE_AG"
      }
    },
    {
      "cell_type": "code",
      "source": [
        "filelist = os.listdir('/content/drive/MyDrive/AOCR2024/params/tf_efficientnetv2_s_SGD_cosannealing')\n",
        "current_folder = 'tf_efficientnetv2_s_SGD_cosannealing'"
      ],
      "metadata": {
        "id": "VuGH0qPyNF52"
      },
      "execution_count": null,
      "outputs": []
    },
    {
      "cell_type": "code",
      "source": [
        "# model = unet_model\n",
        "model = pretrained_model\n",
        "\n",
        "model = model.to(device)\n",
        "print(model_name)\n",
        "\n",
        "criterion = nn.BCELoss()"
      ],
      "metadata": {
        "colab": {
          "base_uri": "https://localhost:8080/"
        },
        "id": "PtdrO1WSE_Im",
        "outputId": "4d9eedf0-1bb8-4d62-e639-60cda49c5463"
      },
      "execution_count": null,
      "outputs": [
        {
          "output_type": "stream",
          "name": "stdout",
          "text": [
            "tf_efficientnetv2_s\n"
          ]
        }
      ]
    },
    {
      "cell_type": "code",
      "source": [
        "train_id, valid_id = get_split()\n",
        "images_valid, labels_valid = process_data2(datadir, dropFalse=0, files=valid_id)\n",
        "images_validtrain, labels_validtrain =  process_data2(traindir=datadir,dropFalse=0,dropPos=0, files=train_id)"
      ],
      "metadata": {
        "colab": {
          "base_uri": "https://localhost:8080/"
        },
        "id": "hOkEks67SHr3",
        "outputId": "ba09041b-5edc-4583-f32d-d29fcd55e172"
      },
      "execution_count": null,
      "outputs": [
        {
          "output_type": "stream",
          "name": "stdout",
          "text": [
            "reading traindir='Cropped_60-316_150-406_11-71/Train_Valid_Image_cropped'...\n",
            "xlim=[60, 316]\n",
            "ylim=[150, 406]\n",
            "zlim=[11, 71]\n",
            "Process 0: Zx015DF8E20804DB94E24A9B2D9DD387A47EF1C620A02026DC finished...\n",
            "Process 1: Zx01F90B532F87127DB647612B6621F2065CA58692B921CEB4 finished...\n",
            "Process 2: Zx0494BD052F6F8D5A583699BBC329C318AC7B5BE50FD9ACDA finished...\n",
            "Process 3: Zx0800DE5C96380322C65ABA398FC93B5CBDF75B20B11DDF6E finished...\n",
            "Process 4: Zx09972B8FA6215EEC75DB4194B16C000F47B5F87AFB64A12B finished...\n",
            "Process 5: Zx0A1564C092259CD377329E07006281E876D09F9B48E77002 finished...\n",
            "Process 6: Zx0AE5424009C101F7422C5BD9DD2C3B0E13E834114A32883A finished...\n",
            "Process 7: Zx0BA755CD6D068378215FE1AE4751945053ED5D2F2C2A40E7 finished...\n",
            "Process 8: Zx0CA5CE197AA9378EE23F949BDFC91790D4FED5D6FD06F5A2 finished...\n",
            "Process 9: Zx0CFB1637BD27964BE741B2AA07BC7C84B2B61731E47782E0 finished...\n",
            "Process 10: Zx0E094D2402D05592511D0DED9E7ED9E999B468C249E9253F finished...\n",
            "Process 11: Zx0E96DE51997AF17C5C54835EAD6B7512C66F91BFDB491B9F finished...\n",
            "Process 12: Zx0F09553E6591D068AAB2811C40BA511B70E378F39A37839A finished...\n",
            "Process 13: Zx114AC1555B9AD6790B7A1BDE0521553F4A9A83AEAF30A859 finished...\n",
            "Process 14: Zx13CC64ABE904CB3E29A95612A74C34E8F5F6B4BA181694BD finished...\n",
            "Process 15: Zx152DDBF3A8894FFDC2C923DF7F1099488C30A8943FE31860 finished...\n",
            "Process 16: Zx15FB4DF1D36A7B4A19617A2C71E216AC807960B0EF51AC83 finished...\n",
            "Process 17: Zx160CFC2664FE311B6AC70F6906A5E84B13D273AD7B24162B finished...\n",
            "Process 18: Zx16F4FD8907D539630058B97C3DA72D8CE2C4154A1011F3D7 finished...\n",
            "Process 19: Zx1761966B642ABA595F2D8E53DAED57654117D2271DF05D4B finished...\n",
            "Process 20: Zx19075B1C1417E664BEDD1C5C7F782D359A1DC198D01A79DF finished...\n",
            "Process 21: Zx19216E0DC2CA308E80238A39CC927E17148D86C6DF471355 finished...\n",
            "Process 22: Zx19DC911CF61B42EEA04DF8635951103535C9FB92AD779276 finished...\n",
            "Process 23: Zx1A3FF9BBC87A0A6379CA804FA7025BE5E55D98B90E6E911E finished...\n",
            "Process 24: Zx2030E3E34625286FA6745CAFEF3F4CD81DEDDFA875C5EC23 finished...\n",
            "Process 25: Zx226CB151F5DE15D8C8C6E3F3EE8BC533BDBE65DE1A805731 finished...\n",
            "Process 26: Zx25DFF1358FA299AFC3345BEE8BCD80031225017D9F4DD365 finished...\n",
            "Process 27: Zx2821AF61A3DBB7F40C01DEA2F7BBAE3C7FB59CA82BC55B55 finished...\n",
            "Process 28: Zx28A11914F19501C527FADC7432C8E020873181C0B365E863 finished...\n",
            "Process 29: Zx291FD6850838B643BC1A7878279A2373C32A719B91C042EC finished...\n",
            "Process 30: Zx29D944DDC12D73E608734644C33D08170EC666B3E934AE93 finished...\n",
            "Process 31: Zx2A1210AAD0C7673D871C9B73A00CC394F65B0A224D6EABC9 finished...\n",
            "Process 32: Zx2BCE9A7537D7DB08D8254B88EDFA79D2B5FAD113ED12B54E finished...\n",
            "Process 33: Zx2D185653AC6B5E02F95806D73E5A84A02024E037C1DEB887 finished...\n",
            "Process 34: Zx2D76DB29AAD2347759160B311EE70109FFF026792C16979A finished...\n",
            "Process 35: Zx2E111520B77E85EE6229F346D75F64EC7CDFCA78821E4341 finished...\n",
            "Process 36: Zx2FA626656496845ECE881190B184E327F4D8061B2B2900DE finished...\n",
            "Process 37: Zx2FDB8744E9FC6EA517DB8C7AF02186F20EB405618EAD35AA finished...\n",
            "Process 38: Zx30D3D7722571163D6FDAC8D42EA822DE9309AA749507E680 finished...\n",
            "Process 39: Zx30D54DEFE5A1F6690A387C332411376210FE4A5839471C12 finished...\n",
            "Process 40: Zx310CE606A29627070A772BE54B8CD0BA3E47BAE4172C4EB0 finished...\n",
            "Process 41: Zx3306AD6CF1A7BFC1BF6522E172650664AA1DBB0EE61F704B finished...\n",
            "Process 42: Zx33E6FDDA6850D397D243D3A55567D29DABFB0503956B9083 finished...\n",
            "Process 43: Zx347D7961BD3B95547A18229A9DEB77A9C5B2216DF6890865 finished...\n",
            "Process 44: Zx35277990C2DBE37B4185DB808829526C76F8D6CDBC5C7CD7 finished...\n",
            "Process 45: Zx36871521E7690C7E8E2298CBEBC159037F9562AFAD8FDFF8 finished...\n",
            "Process 46: Zx379A5F7814F0914A5DDC1624A2FB846629F088027004D2A6 finished...\n",
            "Process 47: Zx39297C72B360D9264B30FF2723EADD32A2EA4EE4794DFAFB finished...\n",
            "Process 48: Zx3AB91ED4F2F9AA3B6F1005851941D52458DDAD3716622571 finished...\n",
            "Process 49: Zx3AB91ED4F2F9AA3BBF9B2425E1278FBEC919A0ACCDC4A02B finished...\n",
            "Process 50: Zx3D212F640E8BAB683711B0A2B808E94D20EC94C210350D4F finished...\n",
            "Process 51: Zx3E70E64F4B2979E3961895A1F7F48F5A61F3CA426349C95C finished...\n",
            "Process 52: Zx3F0AA5B24089383F472A355FE4001AAA047B39E0C9D9D4DD finished...\n",
            "Process 53: Zx3F283561EB5064407786E2685CF0EEF42F1C052BB005B1E0 finished...\n",
            "Process 54: Zx3FAF29A82573ABC3779238FCADF11919914026A8EFAB5E98 finished...\n",
            "Process 55: Zx4343A182A4B16B07C4E9DC4CC327DCA2B2D54632240F5179 finished...\n",
            "Process 56: Zx455FA34A3BE4D4684F10C3599344433D802C092D1BF1A9D5 finished...\n",
            "Process 57: Zx457D19099A1876FB80E029E8598A9DF202D02CB9E139BFEF finished...\n",
            "Process 58: Zx47C8EC892A72C9A3A5F181DDD2EC43B051D9CB1FF54C714A finished...\n",
            "Process 59: Zx47F849224B4386F104A777D40C2EB9E46E8D4D948E0DF149 finished...\n",
            "Process 60: Zx493F535A5628330079FF05762DFFCD954E2E98F33925D070 finished...\n",
            "Process 61: Zx4DEAB0155B0B49D7A6C97DC1BAFCA3A840D5FA76882F3909 finished...\n",
            "Process 62: Zx4ED2135FF0A55C3DDB2DCB18431F46E19C069FB908C473B6 finished...\n",
            "Process 63: Zx4ED2135FF0A55C3DE2379661289AFC75E374FE6B5DC4C7AC finished...\n",
            "Process 64: Zx501820D23A5CB94739758DB1736517B8A4ACBE83C6927DB9 finished...\n",
            "Process 65: Zx516EDA06AFC86A9609937263C8F528620516202A547FC1BA finished...\n",
            "Process 66: Zx516EDA06AFC86A96E299B23DAF55DAA97F52807639AA71C7 finished...\n",
            "Process 67: Zx54D9C6D4D1A2099BC5128685BAA055EA5D0EBDFCAF3F5C90 finished...\n",
            "Process 68: Zx565D74889318B8045234D290A85A4D77CDBC698F9C455063 finished...\n",
            "Process 69: Zx57410A845E6E8D25823E485244B4E8F17DDFC08B2883A6BA finished...\n",
            "Process 70: Zx5B636F130DAA91A7110091642B376E06730C8832C8C0E569 finished...\n",
            "Process 71: Zx5C5DF9F03CB8A6BAC406BDF666C115EDC0A4C836B500164F finished...\n",
            "Process 72: Zx5E3E3815ED9017334024C80AAF61BC4579BEBD361C5B7475 finished...\n",
            "Process 73: Zx5FA9D4DFFAB39260647D74BF41D27B7EC5D16E01356F2CA2 finished...\n",
            "Process 74: Zx5FD6AFAD51E0F6009E9E6726BC6F6F5958F10F03345BE35C finished...\n",
            "Process 75: Zx600898F0FDBE062A65C1DE5C5162A85C96A07C8856FE6A91 finished...\n",
            "Process 76: Zx600898F0FDBE062AF67DD3D380F200539F52E04E8CA222DA finished...\n",
            "Process 77: Zx628BB0B11A734D09D44015B4D5F10CAD90535C412485404A finished...\n",
            "Process 78: Zx62B066968229B590D678A308537742F33C3A693E7C93B4D9 finished...\n",
            "Process 79: Zx636EDE3E464774759F4FFC43AD1CA60FA256F09F41B06F36 finished...\n",
            "Process 80: Zx63736C111D570844D142C38F9A68489F1C3AF66961367134 finished...\n",
            "Process 81: Zx637726D3EB093D3049C1FA44F7E885DDFB5FAB4AC2C1820E finished...\n",
            "Process 82: Zx64D8ABDFA2E7D3053A50B6A3E3EB3761A40EDF894C4D8EE2 finished...\n",
            "Process 83: Zx6727174D77521EE5DBEDCBBA7660C4E2A32651135D737817 finished...\n",
            "Process 84: Zx67A67EEF79554FEDB4301392109B55148BE639246BDBEEBA finished...\n",
            "Process 85: Zx6AEA21162FAE2D40E5720009794D60020B137000B885BE06 finished...\n",
            "Process 86: Zx6C265FEDB560B114FB7CA8D19212ACB34F9AACEE409DDAAB finished...\n",
            "Process 87: Zx6C2E49E5A10FF2383A6D6E9E296B9BA1B5D6ED90DAED83ED finished...\n",
            "Process 88: Zx6EC130BB2F5E1ECB19C1DE97A5366FE2F3049D42D76122EC finished...\n",
            "Process 89: Zx6FF2EB37C2EA7D75AFDB72C27D1CFF4D7306CA415ACD6910 finished...\n",
            "Process 90: Zx7001D8A2879148E2DB5762644ECD07771C241962E4E0C629 finished...\n",
            "Process 91: Zx77A9ACDFBD87C032A6D4BD47C9303939BAB7F698FDA3DB84 finished...\n",
            "Process 92: Zx791155B439440F506C9D48D6BE3E8C215CFC9406E63E9980 finished...\n",
            "Process 93: Zx7960025CB586E7BF6FA909BED691E51ACD5B404162529B21 finished...\n",
            "Process 94: Zx79B59C3FC0E0419702D6AB6D3F87DC16968921B209E2FAF3 finished...\n",
            "Process 95: Zx7B822BF6444125EFAE0CBE34BFE082FAB35F87CD34A7CFCE finished...\n",
            "Process 96: Zx7D3427750776456FAE73FAD9BE0A5AB930A4A8A445B914AC finished...\n",
            "Process 97: Zx7D8D4EE4E705B047A0C06E182E991F5EDD818C202CCD2204 finished...\n",
            "Process 98: Zx7D9191CF3AC6C1D93283C7120BC4246CCB12EC8FA504570F finished...\n",
            "Process 99: Zx7EB8CBD8E387BF63ED581C37CAFE7980CB4D992C1D714120 finished...\n",
            "Process 100: Zx7EB9931AA0941B211A8753255BF0F5B979AF82872A0C0D7D finished...\n",
            "Process 101: Zx7F5C9B0247EDA7DFDDFA071A1FB4CC8DC6346FDCDB1F9925 finished...\n",
            "Process 102: Zx7FF1443ED897B9B54788562D4CD333296BDFD657E0767B2B finished...\n",
            "Process 103: Zx8019CD217D62047D3A5E39B116BF85416F30FC2B90B43D26 finished...\n",
            "Process 104: Zx80A5561818F25AC07CF5BBD9824B1C5E953DD87A0349CA71 finished...\n",
            "Process 105: Zx860EE7EB77360E72DA038ADF6937F13B8B5D3C868AB15B0C finished...\n",
            "Process 106: Zx88ACB7F8111B28133F6ABC943B7FAD919B0F8A0C05ED78F0 finished...\n",
            "Process 107: Zx88D671F78475F1666A356A95B0A80F6065868CB68F83FFBA finished...\n",
            "Process 108: Zx89B488AF6EEB32B25E26A6CA85C4C1C4B92A64FC21849295 finished...\n",
            "Process 109: Zx89FC1E08F4883C85AB68717F0426C0C74E27023C72AA4B8B finished...\n",
            "Process 110: Zx8C1A2078EF9BE45B85DEC3292FCC3BADD5AA593597A6F21A finished...\n",
            "Process 111: Zx8C85F35CE4EDBFA5FCB3FDD340DB179EF49C37C39B0FDB6E finished...\n",
            "Process 112: Zx8CB9D88383D22A202509E149F9E08171C4FDF085C4080F8E finished...\n",
            "Process 113: Zx8E3B91ED97D86D109CFA0D0A330B3EC8D65D58EA4C3A5BA6 finished...\n",
            "Process 114: Zx8F595A739BFF895B064C35695C85220229B0A1913459AB78 finished...\n",
            "Process 115: Zx8F8A147874051D878B272B30A4BBB599BB4455C8821CE579 finished...\n",
            "Process 116: Zx90019D6EB68057875071272397766A7ADE4635DF6C097558 finished...\n",
            "Process 117: Zx91BF216E50E0A5CA5D56DE31AC383F4BA7024C31BAA17644 finished...\n",
            "Process 118: Zx97261754F3796E1915B0FD671479F1AB0374CB2046EE22EB finished...\n",
            "Process 119: Zx9727ED2AF24A37B2F9BC2D929138ADF34CEC353B03AC7EB1 finished...\n",
            "Process 120: Zx9809790DF26AECDF9037CC13A779C2109AD2303A52D064A2 finished...\n",
            "Process 121: Zx9A4E499E3BA61229D5D60C22ADA56973D6266643DA2F37B3 finished...\n",
            "Process 122: Zx9ACD059285DAFEEA6A2AA4E3165D5D07214AE7ECDDFC4A16 finished...\n",
            "Process 123: Zx9B4C35462848C326141CFD0DC5F1C4EF283FC19334B3E9B7 finished...\n",
            "Process 124: Zx9C70756B5B6BC8D3C7F5415BECA195B3C406529E304D5B44 finished...\n",
            "Process 125: Zx9D0627C5FADDC3AABAA7082E72F91F2645851F71A8CDDF71 finished...\n",
            "Process 126: Zx9D76C42817583BCA25AF1F14469B372700E105BFC7452D78 finished...\n",
            "Process 127: Zx9FAE5E8EE578A076D0A2FB260477EAC119844611FEE70C48 finished...\n",
            "Process 128: ZxA1CECA46F4B0B1A2E2F950D08409F265138A1910A04F5C7C finished...\n",
            "Process 129: ZxA3F00A9B31186E9B131CF5D73AFC8C6F378E8E9AB62D78E2 finished...\n",
            "Process 130: ZxA4950C0ACC3EF8B26CA55C0BCC9F4B2AAF4AC97E9BE083C9 finished...\n",
            "Process 131: ZxA659E69F833B05BB97B93549E620AED2BAE6BE7237F8AF3C finished...\n",
            "Process 132: ZxA9790D652CB6D05C84BDBF01F47D0AFB4FE35E5DE8DF784F finished...\n",
            "Process 133: ZxAA767131DAB25B91FFFD47090A45916170B3CCC54BB52D65 finished...\n",
            "Process 134: ZxAAC0790F72C11A21866712169EF48A1707029E18B6F772CB finished...\n",
            "Process 135: ZxAC7AF4D4AA93212046D8BD720933BB15B7DC75032DDCDDF0 finished...\n",
            "Process 136: ZxACB9617CCE03C1D886BBE06140035A822CD22387DC32B8B6 finished...\n",
            "Process 137: ZxAD02986A72D719698CB0EF1AE7F6D312C8937BB41BC0FCD0 finished...\n",
            "Process 138: ZxAE590FC3798601D32F4FEA88F30C04E22452E5D3D6E1329B finished...\n",
            "Process 139: ZxAE84E65DFAE5468AE5985496628B1F6645A3F29550DDFE54 finished...\n",
            "Process 140: ZxB1E644A9BA91B24975341F46EB4710A1373080D30B129229 finished...\n",
            "Process 141: ZxB341A2039401E8A693C60443A7CA3856C074FE2B3D0CDDBB finished...\n",
            "Process 142: ZxB5153E511119429D1DBFB3ADA85DACE4978C0D66980F3A77 finished...\n",
            "Process 143: ZxB98D6A25EFB6B462DCD1468CF91B9B20C9F3616162C9E910 finished...\n",
            "Process 144: ZxBD18E2DB7C51055DAF5B040481555B72D876A164010ECE45 finished...\n",
            "Process 145: ZxBE2A252CBA88052F4A6B548249B9D70F14E4552A09EFAC38 finished...\n",
            "Process 146: ZxBF4F3E1B31BB16E1DE2DFCD18AE121A6E64EB6602ED786DE finished...\n",
            "Process 147: ZxC00AC887E580A439FB94EA0D14AA397D0E6A03655F32DE93 finished...\n",
            "Process 148: ZxC164015E40831B3B0E18A1E8FD9918DC82FF93BA48FAEED9 finished...\n",
            "Process 149: ZxC2713F3C71BF01D81229251584A45694670859098A88DEB2 finished...\n",
            "Process 150: ZxC3159DBA2C781D710771BCA8F153D7303E1A5BD5755A176C finished...\n",
            "Process 151: ZxC42D3022E6C3CE0C9DD574BF1D93C2D9C1E994479C7E2B0B finished...\n",
            "Process 152: ZxC4F6B3B9C7E6DDBC7F1AD6F7FC97B7F3B3D68691720D4435 finished...\n",
            "Process 153: ZxC5B47FC8970E84C0273DC3589FD1B49BE48E90082115EC11 finished...\n",
            "Process 154: ZxC7F93D23D81997D7158951EDAAC448DE709828F562E63B5C finished...\n",
            "Process 155: ZxC84914C04740C6E11D7199081CA921DAEA8E1BCAEB31F2F3 finished...\n",
            "Process 156: ZxCA41B3DD150137F9CA7D1459E9B006264D085DD41FFA3E31 finished...\n",
            "Process 157: ZxCCB3EEF9389115B646E3EB47019192E0854726CDB3E312B6 finished...\n",
            "Process 158: ZxCD050BB27F55FD0609CC2696F4A942E48F72FBFC999D7302 finished...\n",
            "Process 159: ZxCD22575B2A17483C01B82F2F6DE4BC5E4EAF57DC653B24DC finished...\n",
            "Process 160: ZxD04A91569E96BC232412EBF2B3932A78F5E87E4810FEE32B finished...\n",
            "Process 161: ZxD1290BA3F2C808F2F3C5F8DDE17A1E377342D93BFA10E60E finished...\n",
            "Process 162: ZxD1290BA3F2C808F2F80F8C16260A410922E6A41441749C1F finished...\n",
            "Process 163: ZxD3CB0C4524F67A4DC680470CA749853F06FDEC73A6C14A4B finished...\n",
            "Process 164: ZxD77AFB6361664508339CE17B0DF5B3AAED1BDA42A3502DF1 finished...\n",
            "Process 165: ZxD8736DEB1A7AFA67733E095769BBD236FFAD5150198E5109 finished...\n",
            "Process 166: ZxD8B05B79AB0360DC6AA08EAF2ABE755F8D85605805879606 finished...\n",
            "Process 167: ZxD9C2EB1D5809287187CFD08FABD6728D20DD6F5F6B17FEA9 finished...\n",
            "Process 168: ZxDAADCC811EB06CD6BB950F7E47C153D7E3542485781AFEB5 finished...\n",
            "Process 169: ZxDCB1D0A8AFA3BE4CA12B6011371A4C18E857E6B34D0F6CBD finished...\n",
            "Process 170: ZxDD934EA54F9887DE80AC3A5335A0251C1A50CC3AFF831D62 finished...\n",
            "Process 171: ZxE14FC86D8DB8F334E238A7401495A6EA732432C1C512A641 finished...\n",
            "Process 172: ZxE17161666FB01B0EC79D49DF3ECC93A77665EF5D978008F5 finished...\n",
            "Process 173: ZxE1BDE57D85B29E6B389E1EDFECA4768AE3321FF8D240C449 finished...\n",
            "Process 174: ZxE22AA5B99B19F2C890526A3A3AD6AEC539EC1B3F06C1D967 finished...\n",
            "Process 175: ZxE371E276426F15AA8D214C6719F38F0D2344C50355E0393C finished...\n",
            "Process 176: ZxE371E276426F15AAE78232321244D88B84128A3F7F8DC886 finished...\n",
            "Process 177: ZxE379608F86D71DD957F64A826080DEC2BEC3664FE2D70DBE finished...\n",
            "Process 178: ZxE379608F86D71DD9A2EE5FE1F9BCA94B1526AF3E1F5D036D finished...\n",
            "Process 179: ZxE51CD6EA3575F7429C27DEF64C4BFCADCD22BBA3960B34A8 finished...\n",
            "Process 180: ZxE5432B1C0A8C6480EDCE8D6A04FD05C2893FA3335EEDC24A finished...\n",
            "Process 181: ZxE5D406C8012C9EBEB11C5548C38B4E6925EC1CBECC33E524 finished...\n",
            "Process 182: ZxE90454592D06545CC14B4A48E7BB560D689A90D0B1C5B3F2 finished...\n",
            "Process 183: ZxE95E62069BD19852B3213F41681B488E3608E3272E5DEB14 finished...\n",
            "Process 184: ZxEACFC663D819866E172E1DD2EC69EF67339C975F9A23A451 finished...\n",
            "Process 185: ZxED7B1BDA85AD42455DBFBF89EE268C7A0D8EEE5718603F6A finished...\n",
            "Process 186: ZxEF511B489D3D04DD06E2FA29A75D940146DD16563BD866C4 finished...\n",
            "Process 187: ZxEF67EB2287C54DE9D545EA9F8D764BD5702AF9829424464E finished...\n",
            "Process 188: ZxF05120573C427C0597890DF3A1CE26BC669097F3F1694F7C finished...\n",
            "Process 189: ZxF11089D64DA1DFE18A84F981E53FFFC6654045FF6009E0B2 finished...\n",
            "Process 190: ZxF1D8E31B55562E67EBA90A70362DA561740036733C5C1E5C finished...\n",
            "Process 191: ZxF68BEE7E1F60DFA987A5CAF050A21BB2C8E5752CC1995DC8 finished...\n",
            "Process 192: ZxF6C74D5FFC69B6EA16D84D90132DF4FEEC24B8AFB78AC6B6 finished...\n",
            "Process 193: ZxF752E48B1F00DB74869D170A132A88E33A4B892B007EBFBE finished...\n",
            "Process 194: ZxF9F4AF14D7B1EF7C8A8B81093B86586B95997D0897E53F7C finished...\n",
            "Process 195: ZxF9F4AF14D7B1EF7C8A9B752879EC4ECFFB5FCDFCF843C9C3 finished...\n",
            "Process 196: ZxF9F4AF14D7B1EF7CD85451CABDD3FE1FDE0CF669B1D18B67 finished...\n",
            "Process 197: ZxF9F4AF14D7B1EF7CDC6F8B4AF9C24B1D2679C76AAC1B8010 finished...\n",
            "Process 198: ZxFABAF7EB4A6A337DAC455318150E97C294299A3806397653 finished...\n",
            "Process 199: ZxFFDF9619CAEA38ABE54015BA803F317F987FD3903FA531CF finished...\n",
            "reading traindir='Cropped_60-316_150-406_11-71/Train_Valid_Image_cropped'...\n",
            "xlim=[60, 316]\n",
            "ylim=[150, 406]\n",
            "zlim=[11, 71]\n",
            "Process 0: Zx00AD16F8B97A53DE6E7CFE260BDF122F0E655659A3DF1628 finished...\n",
            "Process 1: Zx00FE1B9A88E88C71CF81D0736F23E88BB9C35E2BCDECF501 finished...\n",
            "Process 2: Zx00FE1B9A88E88C71F8D11F50C2B5FBFEB3461E67BE1E83B8 finished...\n",
            "Process 3: Zx014E4DF04789E7E61C3B4876CE4D122DC14E0BB842E42E7D finished...\n",
            "Process 4: Zx016CBC4284052F6A74A56DAFFB0B39B95D4DEC066028AA4A finished...\n",
            "Process 5: Zx018905C639589E81D4C91553041B845F583C3365B076C8E1 finished...\n",
            "Process 6: Zx01F90B532F87127D864B9194B92EDDC3B0EA988ABB5E1D1C finished...\n",
            "Process 7: Zx039B4A139FC862D542D2AACC247C46DFCE9EAA705B5DEF40 finished...\n",
            "Process 8: Zx04424F2CF83E0AD3059C7706FBE311FDC83AAA8265D2325D finished...\n",
            "Process 9: Zx04424F2CF83E0AD3DDF3CC99A41482D909CBC495238F2FEC finished...\n",
            "Process 10: Zx052D253409F40A03B71D313382692559FB09F771A41F754A finished...\n",
            "Process 11: Zx0534778884B0E2267FCC4CF2BBF361589CD1D845F4A9C9DB finished...\n",
            "Process 12: Zx05576CE976F91BF416232FAF4CDF5F6C5DF852ADCA2B9DD8 finished...\n",
            "Process 13: Zx06DF7CE50F0A454CB7E53B3918C49334BFB49CACC36B7438 finished...\n",
            "Process 14: Zx07C5208D04A267A61BFB6EC968FBBB3DF25C245A6893273D finished...\n",
            "Process 15: Zx0800DE5C96380322A41C31B46264D40D1B72FEC49745785C finished...\n",
            "Process 16: Zx0800DE5C96380322E442453B99E25D6F1282F2C4A610A497 finished...\n",
            "Process 17: Zx081F9B5A0C06A23AE10DC1E14E6B9B4DFC71FBCF3B559AEB finished...\n",
            "Process 18: Zx08DA48B45B5C7D0182C369B8E0B013CAF9EEA43199E8AFEF finished...\n",
            "Process 19: Zx09413D933AD838CE8DB00704AB349855FE4721FC26037F37 finished...\n",
            "Process 20: Zx09D290397499695039422FD2002292BD781E5203436441A3 finished...\n",
            "Process 21: Zx09D29039749969505F54A1E8982B5BF5670F5EEABAE98ECF finished...\n",
            "Process 22: Zx0A5FF3169135AF89B21F2A97A7278E517EC8B499B0F14C20 finished...\n",
            "Process 23: Zx0AA2C956EEA5EAEA0DC0DA2606A8F8D0F334B97FDD860E1F finished...\n",
            "Process 24: Zx0B06041DB37FAF0160B564B48791D3B58804B731DD57F4AB finished...\n",
            "Process 25: Zx0BCA7F5108A7E8BCC2AB6094DE20A5C243897FCB0C82E20A finished...\n",
            "Process 26: Zx0C72F2127A469CAA6A49C516DC18B2706A43700721B5D8AB finished...\n",
            "Process 27: Zx0CAA076280D8EBEAA52926C4C6F1DB221F5C58F6EC8B2593 finished...\n",
            "Process 28: Zx0CE3BA2363A72325A7BB82B688463DBB79D224C67883F062 finished...\n",
            "Process 29: Zx0CFEAEA49D4E19D1219A4C230C6D82751179B29EE9CA9F49 finished...\n",
            "Process 30: Zx0D204781E3C58AD6EB37CC2E6EC18B935B00F9CC5D987220 finished...\n",
            "Process 31: Zx0E392B7839BC0EDBDA8BEAC12F819B61409DC2804FB3F997 finished...\n",
            "Process 32: Zx0E3C20D9BB248666701B02B803ECE6BC4306B85A53E6DE38 finished...\n",
            "Process 33: Zx0E64921E82ED12C88791307B1B09E979ADC3FBD3845D3927 finished...\n",
            "Process 34: Zx1060A72A4F5C5FFE63F395F263138C39C901CEA1B608B5D3 finished...\n",
            "Process 35: Zx10E5A02B21E2368FB1C4CE0CBD7EFC890FAA56ECB35CBED2 finished...\n",
            "Process 36: Zx117267214EB944C6E8593100AAC6E8FE5D47143C67350F53 finished...\n",
            "Process 37: Zx11E4702AA837EC465D5D80C1BC23104AD4388C527E94033D finished...\n",
            "Process 38: Zx12530E751E5315C37CEE489CA53DAD4806EAF276AEC9F18B finished...\n",
            "Process 39: Zx12530E751E5315C38EEF85D4C1B0308338838B8C2983106D finished...\n",
            "Process 40: Zx12530E751E5315C3F09F11CFCE42D6BA786BE280C8BA5C5D finished...\n",
            "Process 41: Zx12CD0450CBDF59B92B8BFF3AE5296DF73C619990C8117DCE finished...\n",
            "Process 42: Zx12E8C030B31F39B52D2C9FA262B92370A9C7BAFDA12373AF finished...\n",
            "Process 43: Zx12E8C030B31F39B5C0374AE9C7AA0FD527E0F819E430AA4D finished...\n",
            "Process 44: Zx12E8C030B31F39B5C62831916119C7108A9A7C2EA7625746 finished...\n",
            "Process 45: Zx13380F22EFEA0B62205EC17938D2A84A71C8153C1D25B7CF finished...\n",
            "Process 46: Zx14087FD7C271A7D92C0F8CF2AD8131123F9C59DAE6DA5705 finished...\n",
            "Process 47: Zx14E419FB0929647C385FCFE5FC3DE04521DBD602302EC152 finished...\n",
            "Process 48: Zx14E419FB0929647CE43F1FACB88A1F623BAF9D0F6836372F finished...\n",
            "Process 49: Zx15FB4DF1D36A7B4AA9B00B4D8DE5B757A9EDD1490640008D finished...\n",
            "Process 50: Zx15FB4DF1D36A7B4AD94C813D415FA88503C2381519A8357D finished...\n",
            "Process 51: Zx162F641C827B6EE83C571BF7AEA8A018024AC788B8C0B158 finished...\n",
            "Process 52: Zx16D93043D5D4E4D3393FB6C9DC8E305AA39CC4FCDD1B952F finished...\n",
            "Process 53: Zx171AFF296B798AB089F4652DF7A4E18DF96CFEE1B08244E8 finished...\n",
            "Process 54: Zx171AFF296B798AB09AD7911E3669EB7736CE2062AE9F80DA finished...\n",
            "Process 55: Zx17405CFB23569FC22C6738129E6305B6EF0398BE89533406 finished...\n",
            "Process 56: Zx1843C96056436B4D01517C950238025999165FE4A16A8110 finished...\n",
            "Process 57: Zx1843C96056436B4D91A7A4727E773B3964907516AA7E203F finished...\n",
            "Process 58: Zx1882493D839CC3171D0FEA7AE764BB5BC308D707E75CCB60 finished...\n",
            "Process 59: Zx188AD4803C40A1FBE691B933154BA5659529C18A8032265F finished...\n",
            "Process 60: Zx1950A84DEF7878F0254E551A842C621B4740CE91E85CE8E2 finished...\n",
            "Process 61: Zx1950A84DEF7878F043E3BB7A5D65E310BC050172FCA7CC14 finished...\n",
            "Process 62: Zx1950A84DEF7878F0CDEE2AE1E07365E7C7F651215ED72155 finished...\n",
            "Process 63: Zx1950A84DEF7878F0F9E32AF9F820CA049C5880BA46C37601 finished...\n",
            "Process 64: Zx1950A84DEF7878F0FA4F817AEE5D56DF2534349D8C94B8F5 finished...\n",
            "Process 65: Zx1977ADC4FB423A510927DE5147FA1581381604AC0BB7E825 finished...\n",
            "Process 66: Zx19A878BE9D7FCDD564CF0D0630D0E05F305D03B734E6FBE5 finished...\n",
            "Process 67: Zx19DC911CF61B42EE4F9E967F39224A9297426E7C6AC03D8E finished...\n",
            "Process 68: Zx1A447D96D387B7C45053917769DF2A154E9A765A87D51A24 finished...\n",
            "Process 69: Zx1A5E6FEE5BA94F6D9C91E1BBACAE6959AB96EB6442A0524B finished...\n",
            "Process 70: Zx1A8AFCB885E0D8BC44A0ED9AEF59DD90D90777A8345747EE finished...\n",
            "Process 71: Zx1AC280D33D45A2973879438429EB6E09CB3DF1914B26DED8 finished...\n",
            "Process 72: Zx1BBA21D9DA37F2D063D4A85F624E8D72C0410728E334B442 finished...\n",
            "Process 73: Zx1BDF4C967678080E6779C2713B10F3B23CE3C1CC7F2CC8BB finished...\n",
            "Process 74: Zx1C6B814369828D2A1FE29B8B7CD4D21752A8CB1AE56781F5 finished...\n",
            "Process 75: Zx1D4DA6EB30F0E21BAE9B15E262721240DDC420DD988AAC16 finished...\n",
            "Process 76: Zx1E550FA95B8A7552A06CE65E3BEED1EE034D46B71AC2990F finished...\n",
            "Process 77: Zx1ECC8B15EE2388642B2C05331250EEB951BE580304D38622 finished...\n",
            "Process 78: Zx1ED66EE4F0492C4C63EED347F5480C328DED4C1955880614 finished...\n",
            "Process 79: Zx1F0951EDF2B31E5E932707FD021961BFCF8586E917ABD120 finished...\n",
            "Process 80: Zx1F0C08B15A2FA4B85694E240248D208FBA9CDCFA1B19D3E5 finished...\n",
            "Process 81: Zx1F2D6E616335D5D7A26B93C9CBB01658781603DFF3B46DF8 finished...\n",
            "Process 82: Zx1F83D85BC2A7A55A165937332E32D7646399FC21D7283669 finished...\n",
            "Process 83: Zx2030E3E34625286F57D63B10F1912D4A18F991C22F6463A1 finished...\n",
            "Process 84: Zx2030E3E34625286FAA000B1D4CFF2D07BD489B513C82E9A8 finished...\n",
            "Process 85: Zx208D824934941221A20E8F9C315A6AF45B61E20DB5B3F4E5 finished...\n",
            "Process 86: Zx20BDA35C14C29E61E035F264496CD4F4F97D288082512F40 finished...\n",
            "Process 87: Zx213F87C44A60B71BFE117EB0EB9A5870E0CEB9197701FF60 finished...\n",
            "Process 88: Zx215A14F9057233B70538C32D1748F817319662FD34E6690A finished...\n",
            "Process 89: Zx220A8CBFA565CB8498E6FB702C7E03B920F2361EE7B62A6D finished...\n",
            "Process 90: Zx22D56AA7E544151923FF1A90F02F59919EC170C85187649E finished...\n",
            "Process 91: Zx239BC1FBE61089C9B2368A86E36BDF3136292547D9C0EBC4 finished...\n",
            "Process 92: Zx23BEFE24BACE6B24798B7B8ADA70E5DE0151270247B6EB07 finished...\n",
            "Process 93: Zx23BEFE24BACE6B249C37C240B74348796802474012995344 finished...\n",
            "Process 94: Zx23CE39ADA19715437B08F04B4F1E962B9E854E1DE01B814F finished...\n",
            "Process 95: Zx23F8F44ED97A93B2C3487F13DBE296C7A694804866EFF350 finished...\n",
            "Process 96: Zx246E98149CE2B848DD11D93B1DAC382E56997966B5FB4B1A finished...\n",
            "Process 97: Zx24711EE075325408C49B564C1D646B2F1A6BE15A31716D85 finished...\n",
            "Process 98: Zx247C48E8B7D1EABBA1DEF5CD4AC1D8E8ACAFA8C759A85107 finished...\n",
            "Process 99: Zx25DFF1358FA299AFD313E29BFC17C150096D2B97BDB7E2ED finished...\n",
            "Process 100: Zx25DFF1358FA299AFF037CA3B98580B73B25B4E2B3B4172F3 finished...\n",
            "Process 101: Zx265C799B18CE4D6DE5A3671D65F5B018D713919204868A0F finished...\n",
            "Process 102: Zx2727C103B14E93A07709A14282274DD35B6A23AA6127CB0B finished...\n",
            "Process 103: Zx27ECA58C0AE0031815C0AE04CA9002F10E1FCB7F5686AE48 finished...\n",
            "Process 104: Zx28C2905F39B77B64E242963BF9BA3069E135FDCC8A782720 finished...\n",
            "Process 105: Zx28CA9394EF10537307B5B8DDC24D756E20354ED9E8B3237A finished...\n",
            "Process 106: Zx29249C3340706D8A658BC96F288DE057693CDCA0C50018FF finished...\n",
            "Process 107: Zx2933A24F5182C585C1ADECFA9FF9EDDB3F9432CBB9E30A24 finished...\n",
            "Process 108: Zx29D944DDC12D73E641FD78628DA3CCDAD0CCD13F9C098056 finished...\n",
            "Process 109: Zx2A3C9F90B97FC5CF48D8F0046D61E7AA7B868D85B83054AE finished...\n",
            "Process 110: Zx2AAE948072335FDABDFFA2D972B5638F4069A5D8D0B432B8 finished...\n",
            "Process 111: Zx2AB19BB5DD94C321AF90101CD847A97A335713B9A85CD6E3 finished...\n",
            "Process 112: Zx2AF7910D2CCF58C07FF4E3EFC228F15E7DBD8E71193CA7BF finished...\n",
            "Process 113: Zx2B401975A0A7FE26B9906E1047BB2A92BC4D80CCC69F0DC8 finished...\n",
            "Process 114: Zx2B7652752183E77F7E8BC4D7F8608C151B41BFCA53475095 finished...\n",
            "Process 115: Zx2BDF57DC47BEBC12497878BED38545FC731D32F176C58DC9 finished...\n",
            "Process 116: Zx2BDF57DC47BEBC12CC3C156DC1BCE0C07D16D40692007D96 finished...\n",
            "Process 117: Zx2D43BBDA962A8DC656EF3C61E52CC75604BAD0E6AD08F938 finished...\n",
            "Process 118: Zx2DD7E0642A4827E03C235724922D866A37D619A859B89A73 finished...\n",
            "Process 119: Zx2DFEA8EA90862E241A9E13821C48D3B2E872D0C2A8A32B0B finished...\n",
            "Process 120: Zx2E05E179442C54DBB858D2E4A4793809F073143901DE68FF finished...\n",
            "Process 121: Zx2E37BB6B0F79F459E7F8431E590AE9020866183BAC616B5E finished...\n",
            "Process 122: Zx2FA626656496845ED534D6B5B760541A21647F2F5D42B581 finished...\n",
            "Process 123: Zx2FA626656496845ED6C525AEB7549C132AA41B54CE30EA53 finished...\n",
            "Process 124: Zx2FDB8744E9FC6EA5EF801273D38E91C4DF8A76ABD71C8668 finished...\n",
            "Process 125: Zx3093899D9E29307AC4914C2AADFC81EE001ADB65AC761C42 finished...\n",
            "Process 126: Zx30EB98600B79F8C276472CFEDB2C86FD69F24202CC043683 finished...\n",
            "Process 127: Zx3140C2C02EDB97CF639FD86D9858631782AA626B70EBD723 finished...\n",
            "Process 128: Zx31F5838671135830967C7971C05599F30898ECE6B723A12B finished...\n",
            "Process 129: Zx31F707B0E35DF9B8B4A76C9966A99CF199418456428E600C finished...\n",
            "Process 130: Zx328EF1C62C85DF795D818DD80646CAB28474E58B37DFEDA1 finished...\n",
            "Process 131: Zx33560A1F5550D0D3F5A3877D204D89E91636D7B0E10E71F0 finished...\n",
            "Process 132: Zx339923E0B41545328BB08A03DF57E5D8769CDC9340662F72 finished...\n",
            "Process 133: Zx34C115FB55D8474D6F19B61FC5388EE4CF710E60F31443C5 finished...\n",
            "Process 134: Zx357B92BC3020A6B71E71EAAE33CC0DF854572A263A40A123 finished...\n",
            "Process 135: Zx35E3E6E7CBA729A6039A604D4E5030CDE9F1D1B8E4B25F23 finished...\n",
            "Process 136: Zx35E3E6E7CBA729A68C78E99308353E84782E6E91469ECDC3 finished...\n",
            "Process 137: Zx35E3E6E7CBA729A69C4D5E5FF5C1FF0B522175A77B8C4CB2 finished...\n",
            "Process 138: Zx35E3E6E7CBA729A69FFB90491C3F4F8A7CCC1928F15531FE finished...\n",
            "Process 139: Zx35E3E6E7CBA729A6FB73B987CF05071ECC712D25113641E4 finished...\n",
            "Process 140: Zx35E3E6E7CBA729A6FC8BC9B2BD86D23A421B431FF734CD90 finished...\n",
            "Process 141: Zx368E67F85BF96985DC439B3FE00ABF3E804296FA6D8C771B finished...\n",
            "Process 142: Zx36B440051EEC06B876C7C58CC95BE6A4967D53C10BED4B2D finished...\n",
            "Process 143: Zx379B34C33DA0FAC86BD8ADFCFC1B2CF739D4C90FEFD47551 finished...\n",
            "Process 144: Zx37CF014F6D0060337C7856CEE7CB09E488C90A330822072D finished...\n",
            "Process 145: Zx37F988F53E9C391591766FE9726D7E92F0D6153B245C18BC finished...\n",
            "Process 146: Zx3889EF0BF9B77B23721E34BC2031D10FE9DF1A9419F4BB2E finished...\n",
            "Process 147: Zx392DC2738CF9E3FE3D894559CF117E10EF36BBDC218E7896 finished...\n",
            "Process 148: Zx396059C7C80AF72A2B9B5987A8DB6F28222500A9F881535A finished...\n",
            "Process 149: Zx3A219BC45F1B5BAB2AF0AFDABDA623D33DD885F24C4D36CE finished...\n",
            "Process 150: Zx3A3EABEA40351DA0CAFC4329114A1D243B5675706C49F661 finished...\n",
            "Process 151: Zx3A5E7419657D5644214B6C229CD7862ED9D7FC5DBFBD56F6 finished...\n",
            "Process 152: Zx3A5E7419657D5644ED0DF48D1BD528DE82D174588DE43B26 finished...\n",
            "Process 153: Zx3AB91ED4F2F9AA3B7A57258D3F98FCCD7E26E12DDE6A45B3 finished...\n",
            "Process 154: Zx3B1D6C9714B7C54C43C7170067F7F17876E134172A8F59AF finished...\n",
            "Process 155: Zx3BBC3ED501BABA5D16E5B523FCD04D4C2AB0E94792A4401E finished...\n",
            "Process 156: Zx3C73BAEB9FF5DF9B3A6958528BDC3FC0CA1D8180877BACB7 finished...\n",
            "Process 157: Zx3C911819A0051992F399041B71D79C707FB5FD77A1B605A8 finished...\n",
            "Process 158: Zx3CAF1DB7C360026E40C13D13A8990245800B461709D2A425 finished...\n",
            "Process 159: Zx3CAF1DB7C360026EC045CCBAF6DD38283021AEF22B25D811 finished...\n",
            "Process 160: Zx3CDC546A37075405DFB8BF11A7BE8449A084A84EF4EA554E finished...\n",
            "Process 161: Zx3CDCA9F641D62305C95CE3BD60D231589DA1BB1068CDC923 finished...\n",
            "Process 162: Zx3CF258177C07C53E74433236D3E2AC22B45A8FFEC3DF495E finished...\n",
            "Process 163: Zx3D2CD874E8BDB341DEA1814FADD0130D265176FA561C0799 finished...\n",
            "Process 164: Zx3D83B53CBABAA156CAF6096C44B4820E38236E4FB31E4A61 finished...\n",
            "Process 165: Zx3D9CAD8F3C4AD007279632AA3B99D80B2120EC4D76E81C98 finished...\n",
            "Process 166: Zx3E54BDA9793D4E7B0A260267CD3901E9B5ADECDD307E0E32 finished...\n",
            "Process 167: Zx3EE32B570B8DB6863F4DA6447AE91C61D04AFF02F7E64F04 finished...\n",
            "Process 168: Zx3EFC704096878550259560DBD492CCDAC89B53588BA1B90B finished...\n",
            "Process 169: Zx3F0AA5B24089383F0C3CCA7C081EF5810B5C8B85C069D780 finished...\n",
            "Process 170: Zx3FBF0E56F75857106A79F089DD99578868683577250E1038 finished...\n",
            "Process 171: Zx401C2F09F8961880B81DE71DC3591264C061FA1F64536698 finished...\n",
            "Process 172: Zx40816DF96E52884DF695E52EF19263822DE95B49F0649B4B finished...\n",
            "Process 173: Zx40F840D637C6BE3A1BE6C9EC9082C0F9FC4989466ABF83AD finished...\n",
            "Process 174: Zx40F840D637C6BE3A6FE087E78441E9BEEADE6FB46EED707E finished...\n",
            "Process 175: Zx412666ED5D058647EA3C1C62B7B2E3EA254193AAC85F3CC1 finished...\n",
            "Process 176: Zx418C74DF2B303C5B8E30971984584650747FFD8B71B7CF90 finished...\n",
            "Process 177: Zx41EBD2C0D9F5ED631FEF89B057AA2B0E20A73098795E7D69 finished...\n",
            "Process 178: Zx4266C1F9BEFA9C6A16FD59791D1CC9569A8EB0209378ED9A finished...\n",
            "Process 179: Zx4266C1F9BEFA9C6A74B3118E30AB5E08510E6818B3513FB9 finished...\n",
            "Process 180: Zx4266C1F9BEFA9C6AA0DE3C909EB501A8AB41DBF83C8A0110 finished...\n",
            "Process 181: Zx4266C1F9BEFA9C6AAEE9EF65BFE5E6191A7B2B2AB0382526 finished...\n",
            "Process 182: Zx427D8F8A6DEFF9BF7B2EF54E37E95B76F6153BDFDE9D9A48 finished...\n",
            "Process 183: Zx427D8F8A6DEFF9BF809FB207806C6707A43B2B9D9E3D4E72 finished...\n",
            "Process 184: Zx4285BE9103DDFF6D87B65634773FDAA54C9C783C27505529 finished...\n",
            "Process 185: Zx436CAA0C532C93523AA7FB9BC51F9A3737EAFA1D61767CC4 finished...\n",
            "Process 186: Zx43FC969EA95F318B07022BABAE9D90249E0CFACFF25F792B finished...\n",
            "Process 187: Zx441D6426B1525578210227CCB9A039239447D429709EFAF7 finished...\n",
            "Process 188: Zx447638CD7DD8D149C3BEF257EABAABF4C46F734C71AE6981 finished...\n",
            "Process 189: Zx447638CD7DD8D149D3B2E284E3E26B33E9999753A141C5C8 finished...\n",
            "Process 190: Zx44DDADDF8B1E5B444E883375CD5462450F3905013F5C97C7 finished...\n",
            "Process 191: Zx4553C091B4BEFA9D501DF368358E07BAD8C6CB96EF0E3653 finished...\n",
            "Process 192: Zx4553C091B4BEFA9D8CC7280E593AFF94F9E98724858A0654 finished...\n",
            "Process 193: Zx455FA34A3BE4D468CEECAB6E05B340B28E79975DC74FB194 finished...\n",
            "Process 194: Zx45F13921C226C17F102A4F606603CDDBEA75BE28A72E2BE0 finished...\n",
            "Process 195: Zx45F13921C226C17F462A75B6CC7838AA21C2D3021AC18ACC finished...\n",
            "Process 196: Zx45F13921C226C17F9A7B30076DC71FEFEF892B3B7EF4B61E finished...\n",
            "Process 197: Zx45FD7D8A9273DD8852F512C92FB230C54878555B75598939 finished...\n",
            "Process 198: Zx46869E52A3F149236E92AFF4B153AF238C79D10725FA71D7 finished...\n",
            "Process 199: Zx46869E52A3F149239D84F215C0B9EDB557D049DAE7C12BED finished...\n",
            "Process 200: Zx46924D16A41AB87F8EA418222C570A092D58F528C0E17C9C finished...\n",
            "Process 201: Zx46E8D3737980BCE318ECFF231D8E8E68BADF834D2C904812 finished...\n",
            "Process 202: Zx46E8D3737980BCE3A7193955279C6617A926C56BF6DC2916 finished...\n",
            "Process 203: Zx4725243262554FDC2B80C3627CAE5B3951CB1B81134D392D finished...\n",
            "Process 204: Zx4725243262554FDCE62048D48AED30EB82CCA45F300E2133 finished...\n",
            "Process 205: Zx47787568849DA67380F1BECE18D8185F851E92DEB0B22466 finished...\n",
            "Process 206: Zx47787568849DA673E708BFD5C10F6C55109F48B2BD0220CF finished...\n",
            "Process 207: Zx47F849224B4386F1F88873AE64402F3E1783E527C68B174C finished...\n",
            "Process 208: Zx48E620D924CB07B41E645DBEC9D7AA57AE2EAC78CA45BC5A finished...\n",
            "Process 209: Zx496C13E394BED37D1BCB2A89DBC1FECFAE893DEB04DC773D finished...\n",
            "Process 210: Zx4A3A3EB7F67074DEA9C5668137108C5BDFFE5AD82B6C9968 finished...\n",
            "Process 211: Zx4B3FCDA4F002E6F7DC5B4E3A1C0B374F878D53CD81E1E43A finished...\n",
            "Process 212: Zx4B6596BC6B8F4E453F94CD18A4F442557E1C337ABE838769 finished...\n",
            "Process 213: Zx4B6596BC6B8F4E45528220BA49716ABC5A1D36C7AB70748C finished...\n",
            "Process 214: Zx4BBBE8ED4ABA846DB16B6B6D6836D742D8EF280D0E45CD33 finished...\n",
            "Process 215: Zx4C840C22A6CE7B1E6D6CFD56353E464340097A6A450AD1FF finished...\n",
            "Process 216: Zx4CD16CC71906F530428B1C4283EAB7915D7BF3C29CF4EA15 finished...\n",
            "Process 217: Zx4CD16CC71906F530977DB9230FE057C82495D1E34DF0FE3D finished...\n",
            "Process 218: Zx4CD16CC71906F53098070226ADFA18E786514A2D5955BC24 finished...\n",
            "Process 219: Zx4DC770B0CEF5E3B5CACF89B1C31282A563AA1186358D099C finished...\n",
            "Process 220: Zx4E65E57D92E3B1AACBD961CAB8541E13A5975685B7E45EDB finished...\n",
            "Process 221: Zx4EAFC9446FC2FDA96475B0F321C447A4D8889B907C7D9914 finished...\n",
            "Process 222: Zx4ED2135FF0A55C3D7A4B8D120D480744B2AB59059A00E138 finished...\n",
            "Process 223: Zx4ED2135FF0A55C3D7F1BAED00A9DB4024C7C414B49313DFD finished...\n",
            "Process 224: Zx4ED2135FF0A55C3D813B23BFE9225DC9B3593766EF832279 finished...\n",
            "Process 225: Zx4ED2135FF0A55C3DF37F0C3D518BEF91E06140DA413A2713 finished...\n",
            "Process 226: Zx4EE17C1A79A4E37821C471B90E1694F15799373A2669C6E7 finished...\n",
            "Process 227: Zx4EE17C1A79A4E378EA88BEA9904B740828B28D6018979D29 finished...\n",
            "Process 228: Zx4F4C96D1D988000B83C914F75CF613B65D523A6FE968772C finished...\n",
            "Process 229: Zx4F7C67B1B416E7F41724AED528381DCE36E232E1B962B78A finished...\n",
            "Process 230: Zx4FF8FA975791743419B6BAB67980A5A742C8B1F1C7CA1D53 finished...\n",
            "Process 231: Zx5018996AE3D312B7C7CC6D1D0E2D547ED07A494F0D3A709E finished...\n",
            "Process 232: Zx504AF1B40D661E3182C6531F7B46480E7F41078D06CDCFAF finished...\n",
            "Process 233: Zx504AF1B40D661E318808E342755F5F8F5F2176329B1099FC finished...\n",
            "Process 234: Zx50A6A79EE36E3CCD5AA6014B76839AC1847143AD49447EA3 finished...\n",
            "Process 235: Zx516EDA06AFC86A96CF83E05B1E2C72062F6B42B007CCC45F finished...\n",
            "Process 236: Zx516EDA06AFC86A96DEF620D64057D24304932BBB29032A2C finished...\n",
            "Process 237: Zx51A80B3E99993CFE8D49D032D315D5AA7470D7B51AAA3BA5 finished...\n",
            "Process 238: Zx51CD05AAA1BF2AF178052BEEE6720CCE39FDAF9ABB7F7EBF finished...\n",
            "Process 239: Zx52A1B18E58F40C8FB77C2A69696B8742CD80BDED294F9DEA finished...\n",
            "Process 240: Zx52C5BF85821A07F0BA9C171C7A9848144E1316D64660557C finished...\n",
            "Process 241: Zx52F220173F215CEE2AF44E2741D07661594B72C69AE57DEE finished...\n",
            "Process 242: Zx533EC33D04581309BAE79E02170CAA48037AB85859283614 finished...\n",
            "Process 243: Zx53427F159B58FC850825C73FE4FD5EE6F9F5004A129732CD finished...\n",
            "Process 244: Zx539AA3BFF2614BB114CAAD4E135B24474C2FD45BDCF3C18D finished...\n",
            "Process 245: Zx539AA3BFF2614BB11EC301F922DF1D6EB66F648CFD86B6EE finished...\n",
            "Process 246: Zx539DB79E41F6AA2BDC7E79B33C76FB6FD5585583B66DDB1D finished...\n",
            "Process 247: Zx53C966B8FF31C915F35CBBABB90687CADB06D59789663C41 finished...\n",
            "Process 248: Zx54187A4FBD409DDD063160262732D37E9CAEFA2A2FC29570 finished...\n",
            "Process 249: Zx548829E2295B777477EEF5AD7B52516483F97FE03FFCD0EF finished...\n",
            "Process 250: Zx54ADC117CB68757CD26FAECB856335BAEA518BADA3B1D562 finished...\n",
            "Process 251: Zx54E4C11D0D91C0320F543B0FCAE06DBC6E06E12714DD7B01 finished...\n",
            "Process 252: Zx552814BC181CA38B4610252231F024FFC655093C180B1094 finished...\n",
            "Process 253: Zx556FFA44D63AD311B1EA1654E65E580B12F368456EB8402A finished...\n",
            "Process 254: Zx55AD3019A3318C2B3949A3914CC9AC3C90BBF24D783964DB finished...\n",
            "Process 255: Zx55AD3019A3318C2B6C699D41E4EBE763BC4E47BF4E9BFD8D finished...\n",
            "Process 256: Zx55AD3019A3318C2B9B2E59E2B3FF6297E8A5FA91A1B64E5E finished...\n",
            "Process 257: Zx55AD3019A3318C2BD693F2094679AD6751F86FF222B86674 finished...\n",
            "Process 258: Zx55AD3019A3318C2BF1342646FC3BC5AFD28C776950E8D4C4 finished...\n",
            "Process 259: Zx560FA552A9EA24CC8B312C0989F2E7131DE48CD20C69FFCC finished...\n",
            "Process 260: Zx567CD9145A3FAD22F4F9AF5F7704C9AC0822FA6A2845A546 finished...\n",
            "Process 261: Zx569638AE4C6131C024DC3ACB924A14606A7FE61AA98AF107 finished...\n",
            "Process 262: Zx5697C4D4B57C86BAC72CF2508522FF72DB9C1398212C92E3 finished...\n",
            "Process 263: Zx570BE55F360243A2C82C21EADDBA4B7CDBBB67C1C675B6CA finished...\n",
            "Process 264: Zx570BE55F360243A2D789EA5346E536AA3B16516B7A428776 finished...\n",
            "Process 265: Zx5744CEC558A46B4B1C9CB6E9F1BB82DD31F624849A7D8889 finished...\n",
            "Process 266: Zx576D16727D7458A29DD6308F918A95629EBD04C50E0663C3 finished...\n",
            "Process 267: Zx585B8A00D898282575834078CEA6E95B517214E5BDA4346E finished...\n",
            "Process 268: Zx58903BF72C6A38433166E6F075772C175673B81B9F1F10AB finished...\n",
            "Process 269: Zx58B3541B1F7C60025FEE6D5327EF78531440992371F5596E finished...\n",
            "Process 270: Zx59081DADCE950F83F408A7E2B9243A95897D2AB71975AE9A finished...\n",
            "Process 271: Zx592AC19BC9D9FA058832C0A3BBF004D193EE9FCD53D7941B finished...\n",
            "Process 272: Zx59AF27E8861C2B84EA3D742C5BA50ED0FDABD819FEC40D5C finished...\n",
            "Process 273: Zx5A9FEA715FD1A8263F2E5B132F4C8BBD4C8F4DD842DD2A1B finished...\n",
            "Process 274: Zx5AA1D80CF63593C15D3C2765D610F5BA7982C25680FAF048 finished...\n",
            "Process 275: Zx5AE6C0BC2598BDD4418E7A8658ADA771F8FD493920A3575C finished...\n",
            "Process 276: Zx5B2EA8EFC623BB938351A9D7366D39863A1400448399461B finished...\n",
            "Process 277: Zx5B2EA8EFC623BB93EE133D50B26042A9BB1B0A00D0166B7D finished...\n",
            "Process 278: Zx5B4958EAA06DEB89D67B8BD142312D0F7310519CDB56C6DA finished...\n",
            "Process 279: Zx5B765CDC56B851B4598AF1200F042643D3195B7D11F263CF finished...\n",
            "Process 280: Zx5E17136591B2A37232A19F78B2FB7A148374C27F3E4AF04B finished...\n",
            "Process 281: Zx5E17136591B2A372477FADCF1395486EEADFD11F92592F3D finished...\n",
            "Process 282: Zx5E6AD13F5302AA05595B9EB5450DD27CBB58794EA6C7A614 finished...\n",
            "Process 283: Zx5E8347EB932D86FD061C76415E5274A2B4C198692DF29C64 finished...\n",
            "Process 284: Zx5ED102CA7FB8181668D560C18DB7F2D039681F36BD74CDFD finished...\n",
            "Process 285: Zx5ED676E3244BB1F8C12245004E0CBBB5E906C8181F79B425 finished...\n",
            "Process 286: Zx5ED676E3244BB1F8F29FED01A9C6EC7A22CC92EB941DE0FE finished...\n",
            "Process 287: Zx5ED8A3BACE488CFAD795B5660B429EEB6B818FE598C0CB98 finished...\n",
            "Process 288: Zx5F2AEE74B2E52EBF5A636F34F538722F96B95B952F107966 finished...\n",
            "Process 289: Zx5F2AEE74B2E52EBF6F3AB9AC2114C9935CCD157AD868C901 finished...\n",
            "Process 290: Zx5F2AEE74B2E52EBFD474D6D6E344A6FAECEA7E540513098A finished...\n",
            "Process 291: Zx5F4477ECD6AC7C4EC0081C65A0CEADBA6EDE867305DB7CBA finished...\n",
            "Process 292: Zx5F4477ECD6AC7C4ECB44EF66D9225614C4DCDE42A5CF50F7 finished...\n",
            "Process 293: Zx5FB948563D7915F08329339DBA9632722C0A554057C2AB47 finished...\n",
            "Process 294: Zx5FC5BB8A8DEDB54D8DF151F0E53DC6DF425F551F8C23C86F finished...\n",
            "Process 295: Zx5FC5BB8A8DEDB54DACD271062B296BAA0CCE2FCBF13D07D3 finished...\n",
            "Process 296: Zx600BB33B3216E05B3AC413C88A493360C21EE4F2375C48A5 finished...\n",
            "Process 297: Zx600BB33B3216E05B9B225F545650A4CA45BB1C63C3D2A2A8 finished...\n",
            "Process 298: Zx600E30623048158F7533EB1DCED6BE3B5202FFF03D4D6510 finished...\n",
            "Process 299: Zx60858041F3848EF43F3AF1650B34638570A767547A5AA32B finished...\n",
            "Process 300: Zx613684AFEC73B7A5AA16CA4069B403460CF4F594FA68CF3E finished...\n",
            "Process 301: Zx615BF0336F2C1E791E08E758A9D582776B56C66DCEBD5883 finished...\n",
            "Process 302: Zx61704E649960C4029C1C1AD27E6317C2F8C748C8B932A3AD finished...\n",
            "Process 303: Zx6255D6DBE1B906A9F3A402EC7F758DB66E06ED0CB2FFBF79 finished...\n",
            "Process 304: Zx62B066968229B5907BDD0B2438B643250368BBD932D0D7DD finished...\n",
            "Process 305: Zx62B066968229B590A10133BBF71E44E9F0616A9B4B736B4E finished...\n",
            "Process 306: Zx62B066968229B590EBB11C47F554D33E80C6E51634B8634C finished...\n",
            "Process 307: Zx6318BA5A929812A3EA20A9A6012BBDEAB8B71DB56B559150 finished...\n",
            "Process 308: Zx63194BF7E3385CFDC26585F0DF2185ACC740B745201AFBEE finished...\n",
            "Process 309: Zx636EDE3E4647747562CEE36581CC8883234F2231166B697C finished...\n",
            "Process 310: Zx636EDE3E46477475F68A5D49A7A32440949F06C39C0073BB finished...\n",
            "Process 311: Zx64A95AEC2BE98B00C48F17A4D5ECEF6081B0F041E66A9775 finished...\n",
            "Process 312: Zx64A95AEC2BE98B00C9CB7485C4517A67FFA4C7D5D78C5BE2 finished...\n",
            "Process 313: Zx64D8ABDFA2E7D305567FF5A35BD00F37D18A724E05FDE931 finished...\n",
            "Process 314: Zx64E8FCD44CF250DDF6FEA4135678D14B0FA63C2D8F5909D0 finished...\n",
            "Process 315: Zx64EAF1574DDAF8EDE415B3471C6EF446DAC86817AF514F35 finished...\n",
            "Process 316: Zx65269658C21EAC9802652A31DABC4D9FE8F885FE382BFF87 finished...\n",
            "Process 317: Zx65269658C21EAC987B7A7AEE55A1AB22A23D0BC79E0F8A66 finished...\n",
            "Process 318: Zx656588024899FE03C3CEC05B7B5778D041E1ECD352CFE59C finished...\n",
            "Process 319: Zx657D9745A22BCF4D734ABB69FE7048520DF1376DB1C13C35 finished...\n",
            "Process 320: Zx65B039F2B5CA9CD437E732E0B9E358CC5AC409AA867EDCD6 finished...\n",
            "Process 321: Zx66A0D23C9547D4B05E3A2C2D406455F5B9AED49E9BD81CB7 finished...\n",
            "Process 322: Zx66C236B993CD7FAFC2F125311C65147E643691D3B5C42826 finished...\n",
            "Process 323: Zx6727174D77521EE5B2C4F676EF887A75CEE9B74E4ED97F66 finished...\n",
            "Process 324: Zx67415A03D61E77340BB5A07721A9EEE79141C9853DE4F7D6 finished...\n",
            "Process 325: Zx67415A03D61E773414BD11A6A8DB2DEF90B76615A5E494F7 finished...\n",
            "Process 326: Zx67415A03D61E7734C5EB110B87EF37FC912D606A17F24F1C finished...\n",
            "Process 327: Zx67441E002546BA1D6C7EEF3BDC1E58825CC1E98E5BAE4BB4 finished...\n",
            "Process 328: Zx6807F4B56B7D076909FC86782C5E1231A9498349EA153C18 finished...\n",
            "Process 329: Zx6807F4B56B7D07692E6BE9484415FA09CE9C1D1E0F1AB0D7 finished...\n",
            "Process 330: Zx681A11F58D74D4599A6B2A227605EA0C1B77B69A7D2D12D3 finished...\n",
            "Process 331: Zx68514F0FF623A26E16658ACFCBAF06BB2F5824CABEE60F38 finished...\n",
            "Process 332: Zx696C242456C97E11A3BA8A04884698607FA2811493CECACC finished...\n",
            "Process 333: Zx698005FBCCA840800D6D5315F1EE49CFA39AB5E532D91B85 finished...\n",
            "Process 334: Zx6983E16FD09E59A77137CF4C90F9B854CD3EC63D4E914DF7 finished...\n",
            "Process 335: Zx6983E16FD09E59A7A4304A2E1E9870A3335CCAF2C16F4C3B finished...\n",
            "Process 336: Zx6A2D61812017EDFAFA14F333CA7CD54CFF7BA3827489EF68 finished...\n",
            "Process 337: Zx6A6B918136F89E64C6F45744F6CB3C010B3AB2D50B72118D finished...\n",
            "Process 338: Zx6A887B63AD55475F2484B04AC037056DDF7179FB3E5B760A finished...\n",
            "Process 339: Zx6AFD1A8ED05D371EE384AC2BF8421A38BE60F0A912DA7F77 finished...\n",
            "Process 340: Zx6B33B06C99F2514BE9D2E82E45B19C44CBBE035F7E17B9DB finished...\n",
            "Process 341: Zx6B36B1FCC373347CD82A62A9ABB7A987AF08526FC746A1B5 finished...\n",
            "Process 342: Zx6B714C12101460C52C133A7BDAD58B40301BB61DF002785E finished...\n",
            "Process 343: Zx6B714C12101460C54F1A626F8566E9BAD0EA737A57784718 finished...\n",
            "Process 344: Zx6B714C12101460C58457BD7C868E4711F1EA31991F0C39BB finished...\n",
            "Process 345: Zx6C2E49E5A10FF238DCB0F5E21F267A50C4132EFB02426EF3 finished...\n",
            "Process 346: Zx6C601C55643BC046FB5E0B957E9BE1D4D7FD4B1F6774E4AC finished...\n",
            "Process 347: Zx6C638D9BFE2F6F6DA32FF3576D00729299CDE6AE847F1693 finished...\n",
            "Process 348: Zx6CFEF464C113FCF500FF85095B28D6B6AA3D9138C1FA567C finished...\n",
            "Process 349: Zx6D601A7BDC8A50726539FBD1CCD040AF41E51715701CCD23 finished...\n",
            "Process 350: Zx6E4F40BA9C3B3DD587F74C4C9C3E1F55A5006E999087B426 finished...\n",
            "Process 351: Zx6E63C4468346B19BABA5627E439A103C894ADF645DF1126C finished...\n",
            "Process 352: Zx6EC130BB2F5E1ECB845D551B2761210EDF8867DA59252129 finished...\n",
            "Process 353: Zx6EC6B03372854DCB4444042A10D001CE18D091130CCCB466 finished...\n",
            "Process 354: Zx6EEF54C45F5D2938ACB60707F0C99019CA3D388C931E8FD1 finished...\n",
            "Process 355: Zx6F79649FE009CAFCA0846DE94398CB2D3566259CBFD0760C finished...\n",
            "Process 356: Zx6F79649FE009CAFCE973032FB8B733822FF1E6F1D98DECDE finished...\n",
            "Process 357: Zx6F9A86DB1959C933E05FB1586832FD90A346C2742BABBF81 finished...\n",
            "Process 358: Zx6FF2EB37C2EA7D75399976E6209F9A1AB7D5F70CCD6C48A8 finished...\n",
            "Process 359: Zx704DFAE6D896E5739551E9490C9CBDAD0EB751D39CA494D0 finished...\n",
            "Process 360: Zx704DFAE6D896E573D76A27EB451CBB8B20B2DD0C366904AB finished...\n",
            "Process 361: Zx705B3531CEB972E1F928E8425B89AD7DF17BF2D273C14ADC finished...\n",
            "Process 362: Zx707FA86CFFC26B0362484221AF3AD855F4AB921A47B28055 finished...\n",
            "Process 363: Zx709C61C9E271E65BFB0954073448C2BDCC1F496B07639C52 finished...\n",
            "Process 364: Zx70EA988D4E33BC00C76989F2FF828C0397AE1D94C4F1EDEB finished...\n",
            "Process 365: Zx710EA1D8309EC121ECE1420A7A6C998721E75E03F71F6BE9 finished...\n",
            "Process 366: Zx71882377B86909CE2C7110CA50FB4FEC2E803144C9A9F126 finished...\n",
            "Process 367: Zx733E40280941D5A0840BFD2F29D76952A88322C5D99A67CC finished...\n",
            "Process 368: Zx73549B6A40980CE41A0801EF54DDA1E5D9FCC7CB6CBDE1EA finished...\n",
            "Process 369: Zx73AF7FBD658B2F32513C6CDC15806C5E8BD8E9B8CABAF381 finished...\n",
            "Process 370: Zx73F7FEEA92E425410EACB44DD2FF4ECC3175F0034E2D8950 finished...\n",
            "Process 371: Zx744CC902CEFF398E5BFFDA5DAC03530EDCA34E098E7D8521 finished...\n",
            "Process 372: Zx749FEB71D265630FEBB01B7E68573CC22AE4EE41BDDCCBEF finished...\n",
            "Process 373: Zx766A344876F00BE04369DB7048D95965D644794560A8C2F5 finished...\n",
            "Process 374: Zx76E046BDD20F13BC9DF52FD603260826F3A33C213013279E finished...\n",
            "Process 375: Zx76EA0AAF9604A2B299435142D79C05C4848E505FBFB3327A finished...\n",
            "Process 376: Zx7859C612513D0CA669CA6F0A5F4BDBB73477628D42101B7E finished...\n",
            "Process 377: Zx7951881EF40FC42633A4A53A0E13653EEDD3AD8C6837E6B5 finished...\n",
            "Process 378: Zx7951881EF40FC42651E18D72C193BD61B85C56A1DFA1EB9F finished...\n",
            "Process 379: Zx7951881EF40FC426835655F2DCC4CCDF9DC96F9B99694109 finished...\n",
            "Process 380: Zx7951881EF40FC426F06360F413ECA9C2E6ED202A7202534F finished...\n",
            "Process 381: Zx7951881EF40FC426FDE57EC6B8481F168CBD526EE2EC764E finished...\n",
            "Process 382: Zx79D67DE4C64C5E5FC73196916AB5E19A69B2E230E335A57B finished...\n",
            "Process 383: Zx7A1F719E8B5B30455273FCB5DEC0C74A33BAE4D6D032DF70 finished...\n",
            "Process 384: Zx7A21222F0FF5E778316945EE1DFC7F0F3B1D06CCEAA59C8E finished...\n",
            "Process 385: Zx7ADA6A1993F1295DB4741D5821C2CC8DF205FB66CA563137 finished...\n",
            "Process 386: Zx7C1ADB5EC3F881C119CD62993F89148864B049DB14C5318A finished...\n",
            "Process 387: Zx7C5F892360CCBA6213B2028AD122A1DAE02324EE2546380C finished...\n",
            "Process 388: Zx7D0AAC73984A8AC95FD33AD2522F92587DF9B8371D7C79F8 finished...\n",
            "Process 389: Zx7D5AB573090376F781DC164A66E6BDA1FA3E4F8D8AEDF9EE finished...\n",
            "Process 390: Zx7D5AB573090376F79A9B8798AEE4C2B73CA9538E432FE2D9 finished...\n",
            "Process 391: Zx7FB045DDBDDCDDC6CD339BCD1BCB21923607C957CCA0D448 finished...\n",
            "Process 392: Zx800E47489EF47140BEE20BD13FE0BE47F9406FF9473A59D2 finished...\n",
            "Process 393: Zx8024D25AB9871F3D18E5A4DCF93B28F923CC7481341C493B finished...\n",
            "Process 394: Zx808CBF85580C8A524E90D1A1B7E63CA54AB01CE941892A2C finished...\n",
            "Process 395: Zx808CBF85580C8A52F625D7FC9667F12DA964A7194E5A900F finished...\n",
            "Process 396: Zx80B7A4D341349B1DEEC43695767B3092D0B6C145AC4AC374 finished...\n",
            "Process 397: Zx8104110A401AA0F1936937E0C991C0560D0BD7A52FA5AD62 finished...\n",
            "Process 398: Zx8139B3F5503CDA776780627D00478D990FE14D835009F4A7 finished...\n",
            "Process 399: Zx822B1193233F74F5A5E5D0ACC8219BF8AE4EFABE2FCB080C finished...\n",
            "Process 400: Zx82469BB018D926020D941A2CD7789B1FE69584EE93D61262 finished...\n",
            "Process 401: Zx82469BB018D926021A0DE68D53829466728F761F7A9FE2BC finished...\n",
            "Process 402: Zx826F31C25810C6A99F981287354D792E761C8429008CA0B6 finished...\n",
            "Process 403: Zx826F31C25810C6A9E11C65F8346F837853F61BA660429400 finished...\n",
            "Process 404: Zx826F31C25810C6A9F8FDC54DDAF33D8DCD5D1BD839A83538 finished...\n",
            "Process 405: Zx8311956639D7E7D4B356DC60FF69D205EADC526A489E6039 finished...\n",
            "Process 406: Zx835BE89BC06B937B9B23B4F1D90881508F079ADB12ABBFDA finished...\n",
            "Process 407: Zx835BE89BC06B937BA926418179E4FA07E6735C97C53A176D finished...\n",
            "Process 408: Zx836945F670A552472975ECD5BAD33B1D8FDB441859DC209F finished...\n",
            "Process 409: Zx83C22F6F75B8C1821DFFE750AC7C5FF7AA44F40803C9AD45 finished...\n",
            "Process 410: Zx842609653BFCBCE7E6E3A08743153D621778B34268156550 finished...\n",
            "Process 411: Zx84C6541C8F8016148DEE71E2452989CFE24A78B33E600C22 finished...\n",
            "Process 412: Zx85587FA5B4B2A9CC5C006A0FDCB2BCB0C43E3C187AE0E654 finished...\n",
            "Process 413: Zx85587FA5B4B2A9CCF771CA89EF3F2F3D8CB02CD05A59A8CE finished...\n",
            "Process 414: Zx85CDD7AD4B9541C999C60977FF7BD08E14321F60BA772359 finished...\n",
            "Process 415: Zx85D50811D1EA1A11B03AB2CE32A6A66D3FC2703A2D3B9DB3 finished...\n",
            "Process 416: Zx8622D93E1FDBB9901E53A50C9646AAB037D44C6BAE148A96 finished...\n",
            "Process 417: Zx86E8594B94A97B534BC20D7FD912495340BD42C4D9CFA918 finished...\n",
            "Process 418: Zx86F99E7E390C00CB15F6C06905D1DB9D85D0104D663448D6 finished...\n",
            "Process 419: Zx87AD2F6D0872195177833288BEC6C7C75475952000F32E4B finished...\n",
            "Process 420: Zx87AF1F682BC71658E2CFA9467AF58FBF1E6EA5854B301C38 finished...\n",
            "Process 421: Zx881D4370D4E2B3EB2E6825C81E19A9097CA157CD762C4E76 finished...\n",
            "Process 422: Zx884CC84AEA488B322F652EA32D97F65A0B1FFE335A73D87C finished...\n",
            "Process 423: Zx885197EA25ED1851808083B77B6868C3530394B3C9D55E19 finished...\n",
            "Process 424: Zx88ACB7F8111B2813505A7A561719C7A0C8890C9F8CCEFE4C finished...\n",
            "Process 425: Zx88B03F6A7F5A1AD08A8578B8F8DFB5CDAACC33CB497FEC37 finished...\n",
            "Process 426: Zx88B74210C12C5EACAB1558A7CFDF086BFF154B63C8EA1E4B finished...\n",
            "Process 427: Zx88CDD4E017AF5C828FE5F36039B1951EB155BD25D0B97A04 finished...\n",
            "Process 428: Zx892330D71B2D63CAA1B4F53109D8A1A9B1A54D4C130413FF finished...\n",
            "Process 429: Zx8A4DCFA5AD1BFFBBF72066AAC854D02C47E1EC6D16C33E9B finished...\n",
            "Process 430: Zx8AED30772B9345517DA7A78056E7C70C0336DE70F18FB786 finished...\n",
            "Process 431: Zx8AED30772B934551EAF242D511B28908E41DEC9953E2003A finished...\n",
            "Process 432: Zx8AFC7B72C841CC55B4428EE569AA872C993B0B82200BAECC finished...\n",
            "Process 433: Zx8B007FE85539264AE654496D82273C5857447B309FEDD6A1 finished...\n",
            "Process 434: Zx8B08329735765986677EB5A08765BBE99C49578728989F1E finished...\n",
            "Process 435: Zx8B381C6BB4B224AAFB36137CABD70504FB29B4BF6966BAF1 finished...\n",
            "Process 436: Zx8B4DDDE2EF0F838C1E46F70D88C7C7C0A1274CC062AC821D finished...\n",
            "Process 437: Zx8C2082663880EE021B90E42E51461164FC3DF5AF0FF3B195 finished...\n",
            "Process 438: Zx8CF89665CB88F1FFB96AA9196091B5DF0641059D070B07D2 finished...\n",
            "Process 439: Zx8D3C7550919257B9889A79C1A99B8EB256894F128FCB63B5 finished...\n",
            "Process 440: Zx8DFA64D65C82A9504675F3BE68244D5DB54E1DEBBC651FC2 finished...\n",
            "Process 441: Zx8E3B91ED97D86D10777008EF1942E22752901949BB33D1EC finished...\n",
            "Process 442: Zx8EEE7D7746F8BC3E0E5099D301AA0DD58DC232C21AF1598F finished...\n",
            "Process 443: Zx8F7A2D7C8E918A752B8C9B2558F538DA1B59E9EF05C0DAD0 finished...\n",
            "Process 444: Zx8F8A147874051D87580335860FFB6C12566887B9EEFC838A finished...\n",
            "Process 445: Zx8F95BFDF3B3FC9F85913828B2A504CBB45535F3A81F78ADD finished...\n",
            "Process 446: Zx90019D6EB6805787B122BE1359C1647FCBEE4D9179EB1A9F finished...\n",
            "Process 447: Zx900F64CC3D30629A754ED04007971BD74531C686C8541AEE finished...\n",
            "Process 448: Zx906BB2AE190BB79BAFBF33A49394FEC1628B8B1EF264FFAC finished...\n",
            "Process 449: Zx90A7EF10C9806EEFF37EB4C85FF08E0D7923700BEDA3BB89 finished...\n",
            "Process 450: Zx9178DA08432AE6C72E651926E66C439966406A8A9B90EDCA finished...\n",
            "Process 451: Zx918F8C7BBD3F587FD3F2673BDB7C9998E14206BD7E3B0398 finished...\n",
            "Process 452: Zx93014DFEDEF5C296DFA22750CE2784F183A3019BF3325C3D finished...\n",
            "Process 453: Zx93EC2D1600D91567375B0ECB647508DA93F1F35D76B24C23 finished...\n",
            "Process 454: Zx93EC2D1600D91567B00A1006B88CD5D72005520F5B45A7F1 finished...\n",
            "Process 455: Zx949BBA19176EEEEE12A38BCF6569054C88BD26578D5F6D2F finished...\n",
            "Process 456: Zx949BBA19176EEEEE5E81F9595B665E43DA1B7CDD046003BD finished...\n",
            "Process 457: Zx94B02A482BADC62C022512769E16EAE1B10C6D0A7ADC8B45 finished...\n",
            "Process 458: Zx94B02A482BADC62CAFC39992E43329F1D9D6A705ED7FD8D6 finished...\n",
            "Process 459: Zx94B3091A70945039B59E48553186CB022A5EA84DF4F1805A finished...\n",
            "Process 460: Zx9574DFB02B6FB06A36D9BE171710E1D155344F79C63C788C finished...\n",
            "Process 461: Zx9574DFB02B6FB06A386AED7F477E6F756B81014B1172904D finished...\n",
            "Process 462: Zx9574DFB02B6FB06A99FFA85CF26EDFFB5AC29A1E7968F189 finished...\n",
            "Process 463: Zx95760F4DDFEEDF4CD00784402D23636239E31D7EABCD7939 finished...\n",
            "Process 464: Zx95B9DA7994352855AC56A8423C0A0F1B68A3748E99C6E77E finished...\n",
            "Process 465: Zx95F33E17F7F8218E9FA35FC3D79D8EB9E02019709C3A5EC2 finished...\n",
            "Process 466: Zx962763BC29A2C4FC1D3F0B87FFA4D3256B5864D20EA5E8DA finished...\n",
            "Process 467: Zx9687D8530B98BF197ADF4F6311C64517BF27DA7643D6F7F9 finished...\n",
            "Process 468: Zx96C0C360AEBF01B06DB0555FDC9B7FDD5B3D2E3648428AAD finished...\n",
            "Process 469: Zx9727ED2AF24A37B21185FC63967F6988A58B21BCBF52E846 finished...\n",
            "Process 470: Zx97928AD5A213289C6B95B389DF91F14F90ACD2828C8AFD57 finished...\n",
            "Process 471: Zx97E643B8E4A5DEB351E18CB763B8CFB27D5A870812A6C453 finished...\n",
            "Process 472: Zx986577E2EB1057F93287CCCFEC27380501F7AF20DF2B5CCB finished...\n",
            "Process 473: Zx986A45AC9267FF16AB73E0A33F49A60A615E7B4DC3974643 finished...\n",
            "Process 474: Zx98BEC5DDF705BC23BA3D7DEAC87D8FF588F07F47D9C9492B finished...\n",
            "Process 475: Zx9977B241B90F7BC8B9BB80086A4DF457D122DC866D682F4D finished...\n",
            "Process 476: Zx9A0E70ACF621144B79A903E7F63D1E9CCD4F69EBEC9BF7BA finished...\n",
            "Process 477: Zx9A0E70ACF621144BDE9A072548A6C14CB9709B8BB0C00FA9 finished...\n",
            "Process 478: Zx9A29DA6E21ACD7A0B49FCF887A0BF4FFD207CA7A3CDE7F85 finished...\n",
            "Process 479: Zx9A37AA6BF8B44163F6E9BFF94168F0F0091DC98C3C9C19A1 finished...\n",
            "Process 480: Zx9C2634AFDDE5A83EA11ECB13AB6417BEB06B0D5E1287C3FA finished...\n",
            "Process 481: Zx9C4D13B3283A0D24249372719EB45237B43F4F1DA6F5BB9C finished...\n",
            "Process 482: Zx9C4D13B3283A0D2496EAFFCF4B47A36CE7B8803204238899 finished...\n",
            "Process 483: Zx9C51ACC8639C583BFC19993D6BE6C355E6AB9A9570D4F21B finished...\n",
            "Process 484: Zx9C70756B5B6BC8D316D57140CC7A53DF3802066E4B88F2ED finished...\n",
            "Process 485: Zx9C70756B5B6BC8D35F998E8DC0978B1B683122D560D25B45 finished...\n",
            "Process 486: Zx9D05ACEE4197AAC102E263F3A4A3CB86A5AF5A25B5BB74D7 finished...\n",
            "Process 487: Zx9D05ACEE4197AAC1772BAC5BEFF54C1C4C50B7CC97F54B0C finished...\n",
            "Process 488: Zx9D18EA978D3BD10A326DC4749DD01290C243E5DC9963868D finished...\n",
            "Process 489: Zx9D18EA978D3BD10A39721787340925858FD09F4E7B168615 finished...\n",
            "Process 490: Zx9D28426F44724AE86117620C1784533EF1B501151875EB8C finished...\n",
            "Process 491: Zx9D6CE06969D7A50F451E40C9629E57D88E230878E019241C finished...\n",
            "Process 492: Zx9DD6040F52E36EDB6C0385CCD5F1D725BBC97B6345A59F60 finished...\n",
            "Process 493: Zx9E1D272B5003FE2AB53F6BE7CE3E5B7F905643402B415AA3 finished...\n",
            "Process 494: Zx9F55333E9B6FAB3A3A2B43885AAF93774464C16E9F455E53 finished...\n",
            "Process 495: Zx9F70740616E28A470CCC31414C246AA78A7A26D407DD2431 finished...\n",
            "Process 496: Zx9F900B383927BA7598F4791BC0CD23B85C9B319EAD69A8AA finished...\n",
            "Process 497: Zx9FAE5E8EE578A07677FFED34689A2B272F1FD4FFFC9E23B1 finished...\n",
            "Process 498: Zx9FAE5E8EE578A0768598453692C15615CF0BB5909AE24784 finished...\n",
            "Process 499: Zx9FAE5E8EE578A076899C0329C54F8A6BE48B2C4B47965266 finished...\n",
            "Process 500: Zx9FE816B863546C24945213D4A35C9F890BD4EC91F238517A finished...\n",
            "Process 501: ZxA0584678F6AD9E851E8AA69B22B44DB4BD85A9E5FD2F285A finished...\n",
            "Process 502: ZxA077D5FA438E8FB93945C1D84AAD7586E7DC586B08B92F30 finished...\n",
            "Process 503: ZxA1CECA46F4B0B1A28F45357DA3B8964AB5A446B2E2C27FD9 finished...\n",
            "Process 504: ZxA31B066CA4D3269F11DEA8AB97B59258C7C00A369871B1CA finished...\n",
            "Process 505: ZxA31B066CA4D3269FD8002A9BB0327A8EAB8B562CBF93C146 finished...\n",
            "Process 506: ZxA321207AC10B29464A450F8C1D22603E48CADBC8083F434C finished...\n",
            "Process 507: ZxA321207AC10B29466F29532180D4D0BF1DB1D1CAAD5A7497 finished...\n",
            "Process 508: ZxA321207AC10B29467B512EE00066F7504C3284E8A1FA466B finished...\n",
            "Process 509: ZxA3860A70B3B944A7ACB74339F4972794B2603E38D69E7EA0 finished...\n",
            "Process 510: ZxA3D1C1319FB1EE466697013B492A537DF50B2CB8BBD22A87 finished...\n",
            "Process 511: ZxA3D67DE1137F5382DF1FA2D1FCA81908745EFC3511F4CD9C finished...\n",
            "Process 512: ZxA3D67DE1137F5382F34F4A0940395DCAA7DD0722E3E67493 finished...\n",
            "Process 513: ZxA3F00A9B31186E9B120A21B2F8654B895A6CE7A7C2B7010A finished...\n",
            "Process 514: ZxA493CEB18FDED9A909C361632B6BE7F124261E9AE0B8153F finished...\n",
            "Process 515: ZxA4950C0ACC3EF8B27254E91E15CC969DDF9BF7C200A2B945 finished...\n",
            "Process 516: ZxA4B4F8BA185766C22D4008861F7B1E77EF8FDD5FC608D82E finished...\n",
            "Process 517: ZxA4B4F8BA185766C2DD74FDE9943CC08DA93A93E8E1DFAC15 finished...\n",
            "Process 518: ZxA4D59B81F2E473A627002B789E7971D9B33E9549990A73C6 finished...\n",
            "Process 519: ZxA4D64354CFBAA70DB029AAA999531939E9DD4807CC0ACCC2 finished...\n",
            "Process 520: ZxA5736BF1D6548AC69E1D384152F062008F77D25050E397F4 finished...\n",
            "Process 521: ZxA587DD3F3B7DEFF324487D39123C2C626E291DCF7376E42D finished...\n",
            "Process 522: ZxA5C007B2167B56E373C34A0053EF963CFBB1A2E856879D26 finished...\n",
            "Process 523: ZxA659E69F833B05BB21DBB10048F9F43AFD7562CA75E089F5 finished...\n",
            "Process 524: ZxA66CEAE1B2351EF9061F5C2EF272C6020662D2258D1784A4 finished...\n",
            "Process 525: ZxA66CEAE1B2351EF9A123CEE1F7F017EC1466289E519D9E28 finished...\n",
            "Process 526: ZxA6885ECFAC658140234CF7659E0C602A21901A78F60E7F77 finished...\n",
            "Process 527: ZxA6E61E4E15A62519AAAE723617782AB9F2DA93CAAE5A0219 finished...\n",
            "Process 528: ZxA6FD89D310764F7745439AE747297835DCDE8439C089EC4F finished...\n",
            "Process 529: ZxA8783853AC1492F1BEECA64B03416D3BBF7BED1DE0985EA3 finished...\n",
            "Process 530: ZxA88C8EF3B0DD7C105F06B48C151FB6813378C955C1EA6203 finished...\n",
            "Process 531: ZxA8D32A5ECB8168C7F4604548458D9F688890E7B72A77A1A8 finished...\n",
            "Process 532: ZxA92FB80B3A6C412260E6651B0695D3E4BB37DF4B0B958496 finished...\n",
            "Process 533: ZxA9699F56C35B1D82E9703F233BD3208C31BEBE3E7907731A finished...\n",
            "Process 534: ZxA9790D652CB6D05C92E6AA5B2A87CDF102B6B5C8B92EB30C finished...\n",
            "Process 535: ZxA99F1F57C0D78BB4975028D7451513ECFA1F8FDCC1D8291C finished...\n",
            "Process 536: ZxAA273BD453728DAC178542491E52536C17E294ADCC76CB08 finished...\n",
            "Process 537: ZxAA4A09DA10FB3BF1FD33955272CCB989E4A91230EA99B1D0 finished...\n",
            "Process 538: ZxAA65D147C435CAD5D711D4D03CE7EE6CD8FBD0995F71F8E1 finished...\n",
            "Process 539: ZxAAC0790F72C11A212DEA673071C71F172814ED2C4FBE33DE finished...\n",
            "Process 540: ZxAAC0790F72C11A218649543318C0B0934E8AE52E0C790A88 finished...\n",
            "Process 541: ZxAAE23650B9B4AA345EB7CD76F65A787606B6A4C55C368DB8 finished...\n",
            "Process 542: ZxAAE23650B9B4AA34FC19B3EB0C8AD9B558DF076EA062D893 finished...\n",
            "Process 543: ZxAB1E6165A4F97FA4FE3FB7CED514D82A0D51BBA8DB0E2996 finished...\n",
            "Process 544: ZxAB6294B37A449AA964BC84B740714D10CD41C7D4C33D551F finished...\n",
            "Process 545: ZxAB8413E050E6B483F28D7CEBAA5E4FCD6BE77076D62CC03A finished...\n",
            "Process 546: ZxABC17CFAF4F6320E505A7C6A13181DC809ABF975501DBCDE finished...\n",
            "Process 547: ZxABF6FDD87B0B73F19B814C758A8894708A51B9B5EB5CC401 finished...\n",
            "Process 548: ZxAC0234ABF4E1D10F4AD0FD22EFBDFD8396669E8B6915E601 finished...\n",
            "Process 549: ZxAC7AF4D4AA93212033604DA258A3C5D6345F8A2537466754 finished...\n",
            "Process 550: ZxAC7B1B38B96FB7BD667F7AA8D95FA2E3AFDAFA42631FE379 finished...\n",
            "Process 551: ZxACB9617CCE03C1D8C28CFD4B649F9EEB1424D85723BDD5EB finished...\n",
            "Process 552: ZxACC4447A6BA1EC403FAB6F640D08F5A88F6A29DE3377AAA9 finished...\n",
            "Process 553: ZxACE4DC150A104C59EAB2D90DEA73A51C71F3C5716FF3FA96 finished...\n",
            "Process 554: ZxACE4DC150A104C59EBFB93F5244D1163F4F88256C211F9EF finished...\n",
            "Process 555: ZxAD760D383496BF993B7C3CEF0B9AB2E3EC475B14006F010A finished...\n",
            "Process 556: ZxAE238E8191029A131318F8CCF587A791E2CC0BD5F7D57D80 finished...\n",
            "Process 557: ZxAE84E65DFAE5468A0DF71C5CBAF7E394833897B064792C49 finished...\n",
            "Process 558: ZxAEAB452B8148E0693BE2B17C694B413B079525301BD6871E finished...\n",
            "Process 559: ZxAEAB452B8148E069C525E7AC43CF55113D042814C416F5E4 finished...\n",
            "Process 560: ZxAF3DA5750B69E9563B8455022C045F1238ED679D42F2FCAF finished...\n",
            "Process 561: ZxAF3DA5750B69E956D4F2ADDC3AA55218AF66620AA1BA92CB finished...\n",
            "Process 562: ZxB03C746D57B71A3D860F8A8DA5FF0351F1A9C6BF623710A3 finished...\n",
            "Process 563: ZxB06BFA95ACC19A1BC118657AD2BE2BE1DED5318B7CE6DC30 finished...\n",
            "Process 564: ZxB0B65F16B756C04C10DB557AFD1ABF998061A1044CE55F0D finished...\n",
            "Process 565: ZxB21FB0DEB2B1D4EF7B1AC7D8513AE12E32E302099A6530F6 finished...\n",
            "Process 566: ZxB22D1878278D3BF03FDC7DE7C41FF35397D34E011BBC1D5A finished...\n",
            "Process 567: ZxB2377D8D34D0A21075B50F5899C98EAD9EC1ADD69A063446 finished...\n",
            "Process 568: ZxB257D7CAB6A2BBB1FC9E3FB91F79D11FB72D53418B2AD7E6 finished...\n",
            "Process 569: ZxB304722538ECC8C844777B65CEF009FFB10289254AD0B202 finished...\n",
            "Process 570: ZxB37B766FA98EB172F4358F562A02176F61F691DA7C1AFBCE finished...\n",
            "Process 571: ZxB37E1CC1CCB0A0DC0B3D60AD80125B43ADAAE0C8717CC0CC finished...\n",
            "Process 572: ZxB37E1CC1CCB0A0DC5C9448C89F09222BA2AE06CAF45A4135 finished...\n",
            "Process 573: ZxB506B2272F125EB0A5851A203282C03E5F16118AA97798EF finished...\n",
            "Process 574: ZxB5837FCBA699D78F704AB333AE198A5DC67F47FE18BE61AE finished...\n",
            "Process 575: ZxB632718A589D2E6979A0795C786A12100D22627F2BBF3CFC finished...\n",
            "Process 576: ZxB75028940E6684147107D401A7E501BEA366F6EE3A9F527D finished...\n",
            "Process 577: ZxB76402A4CB4B5D54C00A30F3E999F71D29DB17A87A63228E finished...\n",
            "Process 578: ZxB7B55BFB145A343D06B37D039EC47901EF9B1D11A836893F finished...\n",
            "Process 579: ZxB7B55BFB145A343D3326E0AE0CF6188183B10F3FB55D6E51 finished...\n",
            "Process 580: ZxB7B55BFB145A343D49B4E988FCCD3DCF867EE9B954124CC6 finished...\n",
            "Process 581: ZxB7B55BFB145A343DB765258B0168F4083BE1972BD26F6D27 finished...\n",
            "Process 582: ZxB7D0B8532AC67796F7A9C1CD3F5D0E322EA7EF5992C6CA28 finished...\n",
            "Process 583: ZxB97DC74E3BD1FC3EA2A39E78A59307BC77D5BCFB817840A0 finished...\n",
            "Process 584: ZxB98B85147CC28210B6234DA9EB7291C8671FD05EF1B163A3 finished...\n",
            "Process 585: ZxB98D6A25EFB6B46257F13934DCBB67D67AABF1C197EBE918 finished...\n",
            "Process 586: ZxBB3DA9A26362010408F93623114AC6FC48DDF06AC08A330B finished...\n",
            "Process 587: ZxBC48DEDAFC634693369C437ECA036D138D526992710C1E35 finished...\n",
            "Process 588: ZxBCBA63BCCC1F7498AA92F4AF08511FFED09105BBFC63864E finished...\n",
            "Process 589: ZxBCBA63BCCC1F7498FED5EE52802F4CB8572148F71BB5DEF3 finished...\n",
            "Process 590: ZxBD12CBC5C10EDBB74BB5F0BD1DCAE7CE747854FC26ECB0BD finished...\n",
            "Process 591: ZxBD18E2DB7C51055D5BA0317AF712F4D62E832C8FF35E916A finished...\n",
            "Process 592: ZxBD18E2DB7C51055D98D919A70E777B443B1839383002FDC0 finished...\n",
            "Process 593: ZxBD701431A8CE2FCB64098D585DF85DEA5181054BC20287D9 finished...\n",
            "Process 594: ZxBD795C706A61AD0B20883C21877B09AFE59A5712FEC79EE6 finished...\n",
            "Process 595: ZxBDAEDDE98351E478390DEB26B963A196E4A1B3D14C84E4F9 finished...\n",
            "Process 596: ZxBEDA1D54EFEE77C5738FB5212C79AF06F67D93F2ACB61181 finished...\n",
            "Process 597: ZxBF0F698B411246917A364BB025AA55E8D9B87833BB0D243D finished...\n",
            "Process 598: ZxBF9F6B8246A17E801F8444628309579BB19B24E8CCEC8153 finished...\n",
            "Process 599: ZxBFC362B2190DDFF8D3544073C39876A387B7143312625D30 finished...\n",
            "Process 600: ZxC00AC887E580A4399B5056E80AC55C95B43C634576F25D38 finished...\n",
            "Process 601: ZxC03412C145236A975609D495BC44B224260C3D9C4B96F23F finished...\n",
            "Process 602: ZxC12A3E53C68E43C08218A1D261005883B0DF75AB7EC74631 finished...\n",
            "Process 603: ZxC21457C628454D036163771228053A7B04598F4CE0729DCE finished...\n",
            "Process 604: ZxC302B531947E9D201CDC1FED08DC86F9DA4EFC29D26F9395 finished...\n",
            "Process 605: ZxC406494721881851E1F496D5B54F4BCAD696815C35261E8B finished...\n",
            "Process 606: ZxC503A28B6BA92D6C0C9D87384B3B6CF6823CCA627A333938 finished...\n",
            "Process 607: ZxC5A60F462D64FC58AE3EF3CFC49C43D1F431325347CE517D finished...\n",
            "Process 608: ZxC5B47FC8970E84C0A97545B64C3ABB98FA94324938D6CF7A finished...\n",
            "Process 609: ZxC6318FB836AF67167CE6490FFAE77E15B56B251B3A041BB8 finished...\n",
            "Process 610: ZxC737C208E6570BA6984B75AC38E3C1588195434CDC017712 finished...\n",
            "Process 611: ZxC73F3156008A07EBD69E384ECE987A0EF33EABE28189C16C finished...\n",
            "Process 612: ZxC7727DD69A597334CAC5442CC8D6A29205AD44A84A5D7413 finished...\n",
            "Process 613: ZxC77C44FFAF20FF4D0097F83493E57B79C4CC5340939DE0AF finished...\n",
            "Process 614: ZxC826DAC67B41123025DA20E3AD13E51B6635CBC9F77937C7 finished...\n",
            "Process 615: ZxC8B75DF8D012DD456F86FF58D58AA7094D2A7E810CDF8B89 finished...\n",
            "Process 616: ZxC91A03F282E7ACD722E61B901D4E1C17D67E09F5A338B54B finished...\n",
            "Process 617: ZxC947111E5302673E7B5336FD32C66BE6ACDD4B0D88053726 finished...\n",
            "Process 618: ZxC947111E5302673E8F1E6011EBDEB6DB454BBC84348ED44D finished...\n",
            "Process 619: ZxCA065A9EBA3CD2FEBF2D7988CE5C02639004993FDACC584C finished...\n",
            "Process 620: ZxCAE3BA395D8A16C03B99832D4D91B87170F2E863B2B502C0 finished...\n",
            "Process 621: ZxCBB6AB235F8ED687B2E5F9B7E53A17774B138022B5AC6C06 finished...\n",
            "Process 622: ZxCC42A7155619FA371FB3DB2B935EACC3D6EBD78BBFB45C31 finished...\n",
            "Process 623: ZxCC42A7155619FA3723A3480D50BA7AEF6E56FB0AEBDED37E finished...\n",
            "Process 624: ZxCC42A7155619FA37696F6AC52A2BFB096D4099EADECA102B finished...\n",
            "Process 625: ZxCC856535297BF790CD4E1DD7BE48287AA4388D720C3EE609 finished...\n",
            "Process 626: ZxCCAD69483E1ACED22C04C1D9E52283557FB83E247458ED16 finished...\n",
            "Process 627: ZxCD138093124CBE786F17D95DA59451835AABC33BC92BFA08 finished...\n",
            "Process 628: ZxCD257EAFFF590C8D384A40AF09D935286DF87F244B7F3775 finished...\n",
            "Process 629: ZxCD32F5B7681F372A88B3BBD26D9A96CC175CE6CFB96DCD5F finished...\n",
            "Process 630: ZxCDA55434361C322D5A7B1D1BAF7053A6FE617652236BAFE6 finished...\n",
            "Process 631: ZxCDBAABEAFF0945F2DA1AD4FCD880F23DB474DA1FEF110000 finished...\n",
            "Process 632: ZxCDBAABEAFF0945F2F51DDE708608B8FF955E96D01442BFCB finished...\n",
            "Process 633: ZxCDF84F878A35674F0EA93802F8AC19331D291374E53ABFF3 finished...\n",
            "Process 634: ZxCE3233B397229FB57DAF857481BD37BC969F4FA2ED9DC368 finished...\n",
            "Process 635: ZxCE7B50D10790FBB39FC1B6628A65F67A6C2985DB420ED52D finished...\n",
            "Process 636: ZxCEAADBFE3E9E3BE3C5826BBFA949786D726FF1ECD0F66550 finished...\n",
            "Process 637: ZxCEE7370FFD5B76396A645657D137C9BDF605494DD491495F finished...\n",
            "Process 638: ZxCEE7370FFD5B7639DB5450230398A3E2755399858B4FB4CF finished...\n",
            "Process 639: ZxCF53832A87A2A46F03F446DEA9CBDC35495D8AEDAD135C28 finished...\n",
            "Process 640: ZxCFA9C6201E4F0D869A606586FE8E4F72A47076447E1C019E finished...\n",
            "Process 641: ZxD0A2B4448866BE260C17D6EC02D17FE93428DE78EA7D891E finished...\n",
            "Process 642: ZxD0D2911E085A983D6671361E4B4C6D3FC7C35E31ACDA7D2D finished...\n",
            "Process 643: ZxD1B631F69DBC3DEBF37414EEB04811A4324DA6C04CF7755C finished...\n",
            "Process 644: ZxD246E0861FA461FEF9102BD21868EA7DA8E53DD651292A31 finished...\n",
            "Process 645: ZxD26D574FB8A8997517EAD6CBA252D0260177319EDE6F8B2E finished...\n",
            "Process 646: ZxD26D574FB8A899756132B8BFC67A656D4F934414F840EEE7 finished...\n",
            "Process 647: ZxD2F758309F2A7F030892DF6DA54A0FD72A5F54C5F7525E21 finished...\n",
            "Process 648: ZxD2FBB4FF1C67CBFF9F74149571CFB50D96778C44FB2E6925 finished...\n",
            "Process 649: ZxD3A1E3E05CB6DAF6253A186B00684DCF2B1456D2C8A4C6E4 finished...\n",
            "Process 650: ZxD3CB0C4524F67A4D1B248517BD74525E363D1A47170D6D9E finished...\n",
            "Process 651: ZxD3CB0C4524F67A4D646342B31322E3423F01E5FC56377C1A finished...\n",
            "Process 652: ZxD3CB0C4524F67A4DC5FBFBA465B378E9AC0BACDD0EF9709F finished...\n",
            "Process 653: ZxD3CB0C4524F67A4DE1B73D2F73ECB0AD3A977955E0723A65 finished...\n",
            "Process 654: ZxD3CE7A44D5758F55184AD0B489A4B11590D73AB825543485 finished...\n",
            "Process 655: ZxD4239CF331412759E7CB0E19371370F77FB73C911058F88F finished...\n",
            "Process 656: ZxD4239CF331412759F1486169DA0268914B82EFFBAD8DCCE8 finished...\n",
            "Process 657: ZxD4C1AF01E7091BC3AB7EAE60CEAB8E356341351816C62D07 finished...\n",
            "Process 658: ZxD4C1AF01E7091BC3D79A3DB1D0455BC0C143FAFF7D3B1036 finished...\n",
            "Process 659: ZxD4CE4B3B95995BE6E2E7864BDCEBFCDCF32B2C8F5579C682 finished...\n",
            "Process 660: ZxD4CF37EF147DDEE980BAB4F5256CC86CA734F199E5512303 finished...\n",
            "Process 661: ZxD5641DC2CF623756BAD8376E4F115597BE8498D65B27171B finished...\n",
            "Process 662: ZxD5E948C05461036341B88C0FFADF9B249FBE732D0D04EE04 finished...\n",
            "Process 663: ZxD5F8B7159FF3E7A2505AC148847D33C0617D505DE63C90DD finished...\n",
            "Process 664: ZxD60E89EC0F1BAB99880FC7C708FCB91A8C6C9016A4C07EE1 finished...\n",
            "Process 665: ZxD6C4F406BC86A11674870FC931D83E6EC6103F574DA73EB6 finished...\n",
            "Process 666: ZxD6C4F406BC86A116D7BB2ABC21FCDFCBA4130E5D631FD37D finished...\n",
            "Process 667: ZxD6DF80C967D2E90E1C9C5C27C1E582E828600D58A5E60075 finished...\n",
            "Process 668: ZxD6DF80C967D2E90E940E324ADA5DC75FB2EACEE9B975DC65 finished...\n",
            "Process 669: ZxD6DF80C967D2E90EBC2FEF38B1FF4CA7300C08C43BAD9AF0 finished...\n",
            "Process 670: ZxD71EEE470B02A3F9A6E9392C61F29ABA2BF148719238E49D finished...\n",
            "Process 671: ZxD75CC02AC0569F138B2A31126FFDC8E423AEAF8780510D07 finished...\n",
            "Process 672: ZxD7FF1A5CCDB3268EB8F0E8BED1F6BC4E036E21F79A779D91 finished...\n",
            "Process 673: ZxD8B230C0D0BEF0B9672C0DC060C5AA5FA3004A55B570427D finished...\n",
            "Process 674: ZxD8B95D482831EFF00D2BB3D481433C0A924C3D020E8A3231 finished...\n",
            "Process 675: ZxD98473A9FF420798519F7DE551DA5AA0E3449DD102379136 finished...\n",
            "Process 676: ZxDAAC876CFA3449393E221D61C00718DF4B6518BE90AF2800 finished...\n",
            "Process 677: ZxDAAC876CFA344939B56A8FA4A9C2A0F0CF2E01E5A7BBD71F finished...\n",
            "Process 678: ZxDAADCC811EB06CD6036574077638DB70FD14E6F1C6BD4DA0 finished...\n",
            "Process 679: ZxDAFFB1D590F380D577E92A3E75618B9A54A1E02F3C6B05A2 finished...\n",
            "Process 680: ZxDC02DACADFA8F2EE23859AFF42F9C5EEADD9086044C13C2F finished...\n",
            "Process 681: ZxDC7428EC3D364278C8C572A91D43CE78DBA3BE21C586EB3F finished...\n",
            "Process 682: ZxDC93EC2BB81B007F33928801B97350A6D04B45D18D49D8DB finished...\n",
            "Process 683: ZxDD934EA54F9887DE7226F9600B5832B9F911E437BB3C7E8B finished...\n",
            "Process 684: ZxDDC98783970DFB11D4A232662B73F4B55348FEB38E7FB3BB finished...\n",
            "Process 685: ZxDDCE376763976E9B39DF8D27930E5D778F03F9FEDDBC93FB finished...\n",
            "Process 686: ZxDE6E31871D3BCA3D46EE27E9AA51F93AB021F98290A56E90 finished...\n",
            "Process 687: ZxDF0A09367AE792F5AC3F13CE884AA881C81F5D851CCFA042 finished...\n",
            "Process 688: ZxDF3DC44BB2FB0AB2DA9CC3A8231C0A5903627DFBF3950A49 finished...\n",
            "Process 689: ZxDF52BE07D8B451590C980B79E102F084B2CA2A249043B4F7 finished...\n",
            "Process 690: ZxE083D32FF1E7514B0EDA38FFAE02012D86DDA8048E23E970 finished...\n",
            "Process 691: ZxE083D32FF1E7514BB2C10F023D95C83EB001D6872FE26011 finished...\n",
            "Process 692: ZxE0AE769C4E0DA3D0B09A0DC1C10A72996137BE937DA56ECB finished...\n",
            "Process 693: ZxE19A26EE88FD1A5FDD1D4B225EB98B385544451605D664CB finished...\n",
            "Process 694: ZxE1BDE57D85B29E6B15D177EDCC0F89D6C6A550710B94F025 finished...\n",
            "Process 695: ZxE1BEB9512A571D2E99020DC75503D198D8B93858B7A0C5DA finished...\n",
            "Process 696: ZxE1C1EDEA0C9958088B1F8DDDB67DA5BE4C07D089FFF2341C finished...\n",
            "Process 697: ZxE21C85C15C106DC872B2004FDBDDABCDF5E809CB43226796 finished...\n",
            "Process 698: ZxE247A12F8E55F962276E63028E66629A545B16754A43A10D finished...\n",
            "Process 699: ZxE379608F86D71DD9646D356111707185B39FB15D03AB10CF finished...\n",
            "Process 700: ZxE40263269849298C9B82E3E259D319CD00326138BAED92EC finished...\n",
            "Process 701: ZxE404B57455DB220618733B94A9C0E789AEB8E30AE3AEA44F finished...\n",
            "Process 702: ZxE4394052AA994301FCCF1981DCAB7FA6894C9CA788A8ACDC finished...\n",
            "Process 703: ZxE4B06F9D3330C64E3A3B6CBE49F2672B30913D7F3B9A6F91 finished...\n",
            "Process 704: ZxE4E1AD806CFDD7387E31269942B1C41457D1083FF77EBDA9 finished...\n",
            "Process 705: ZxE51CD6EA3575F74215EDBE0D4E68DB731A4D9BF04E148504 finished...\n",
            "Process 706: ZxE51CD6EA3575F7427A643DAF6A69364FF2F87E167717AFB2 finished...\n",
            "Process 707: ZxE51CD6EA3575F742F16697D93AAB0FC5685020198DD07026 finished...\n",
            "Process 708: ZxE51CD6EA3575F742FB1EB0773C7CB441A80836F0DE8DB3A9 finished...\n",
            "Process 709: ZxE5D510997A6C170C726F8AC962519B52E5615D89C34CE030 finished...\n",
            "Process 710: ZxE62B5B6443A95B3A5713E8421C66F78DD835DE3F31E5A4DB finished...\n",
            "Process 711: ZxE71B4C9943155CFC6C816D437F8F2C635B530E56B512DB2E finished...\n",
            "Process 712: ZxE7279474581D135218F20333FE314E94583F697B1F36C9A1 finished...\n",
            "Process 713: ZxE76F21E1207D9B33203B948479CE51CF2660CA56CEF4802F finished...\n",
            "Process 714: ZxE76F21E1207D9B333A8ACB0D226F0AE32CAE95B9A3719154 finished...\n",
            "Process 715: ZxE7D33E9191145656D2090033DDB15467D0ABEF5B9CD3BA07 finished...\n",
            "Process 716: ZxE7E2340E9CF9166B6678365A0067728037A84C3D9AFF7C54 finished...\n",
            "Process 717: ZxE7E2340E9CF9166BF0A907CA26D681BCC9AA5D58036067C3 finished...\n",
            "Process 718: ZxE838529A9632FE4ED138A9C6833B57C5AA66F9A094A926EC finished...\n",
            "Process 719: ZxE84E7BDF03716E4777D192E2B3EFC3F52E88D0AEA4B2D2B4 finished...\n",
            "Process 720: ZxE8BB30B13CD98B71FBDEFD813621F5B6C62329C1F80AE0BF finished...\n",
            "Process 721: ZxE9221E1FC86DE0DDD166CB91CB6770DB293046EECA5CF889 finished...\n",
            "Process 722: ZxE973E9FCEBE3F7263431A7B7D86046C56FFE33AB14126156 finished...\n",
            "Process 723: ZxE973E9FCEBE3F726D6E4569815ABEF96F5C03D19C5C421D7 finished...\n",
            "Process 724: ZxEA4F23B79CF6B8981977B8B2A2F930403ABA5D6E4227FB82 finished...\n",
            "Process 725: ZxEA628EF42779B6CE7E30493E1FAA3EC3F9F22FB4DA178DDB finished...\n",
            "Process 726: ZxEA84E9C33FF59089079E65848869AE432A0E481F841465AE finished...\n",
            "Process 727: ZxEC0E5E55E3DBBEEEFF25AEE8D486FF799B784094D0691E46 finished...\n",
            "Process 728: ZxEC4B3844F2A31399BBCEA3D0AD8E65FB317414DAF0A4BF04 finished...\n",
            "Process 729: ZxEC4B3844F2A31399E6F4425E419F18603BBC720D8BDF8589 finished...\n",
            "Process 730: ZxED2E914A90709FC7025E86E7E0C607F5DDFF77BFA7DF33AD finished...\n",
            "Process 731: ZxED2E914A90709FC7AA6D521F96ECF8FBC5E1BDE9B0B33F80 finished...\n",
            "Process 732: ZxED2E914A90709FC7ABF2128E5E869C16038B04D30BA302CA finished...\n",
            "Process 733: ZxEDA3B604F954952A1B17F96513DFFF49661FFEC58FB62C8D finished...\n",
            "Process 734: ZxEDA3B604F954952AD37479E6397076219F913FA374133536 finished...\n",
            "Process 735: ZxEDAC8FBEDCAA7CDF1EFEC9F6632D7ABCABDB4A3B4DF2103C finished...\n",
            "Process 736: ZxEDC3B8653928851A2D4A9E8C15F06DAFFA206D965821B634 finished...\n",
            "Process 737: ZxEDE48C5B4D220391526FD0794173A5FD0153C6526362987C finished...\n",
            "Process 738: ZxEE9C011A6281CD150FDA654D8FA330DC28BF038E2A0AF9C3 finished...\n",
            "Process 739: ZxEEE8DBA4F76BDE201ED4EFE8362A11C774ED0E05F09F2146 finished...\n",
            "Process 740: ZxEEF586ADFB6E46F62FB6693837C48E4682A4D4517F457635 finished...\n",
            "Process 741: ZxEF0BE9C4F50812C7588CC926E37C66096A185BF929592C69 finished...\n",
            "Process 742: ZxEF9D1B1DF042534A0939E5FB0778C2616810D53369BE544D finished...\n",
            "Process 743: ZxEFE5BD25C865B7E8EC5C4FB637D285F20044EECAA9ADF616 finished...\n",
            "Process 744: ZxF04C2DF647FC447F3743DCA712745B7BD7A7297A54FE5FC8 finished...\n",
            "Process 745: ZxF1141B608E0DB6FFD087499CA1EE80EF6EBBF7089754B466 finished...\n",
            "Process 746: ZxF1263E938D17E1CD8CCEE22297A51F306D5B93C1DBD4BDBC finished...\n",
            "Process 747: ZxF21344F244DC0BDA313A08EBC59DD9D38C96FCC9A7DB2DB4 finished...\n",
            "Process 748: ZxF2705A350ACE282D407763E07A9521B129903BCDED48B8DD finished...\n",
            "Process 749: ZxF2CBBEF4B2DBE32F70C902DAE7CDD8738979F5595658F783 finished...\n",
            "Process 750: ZxF315D58E2CF14B76EA69E8709BBFC07A2CA3FC1E068040D5 finished...\n",
            "Process 751: ZxF315E683A82DD572491CCFD95E06CE8D48242B630B275726 finished...\n",
            "Process 752: ZxF3EDCFF4D2AB58B7AF8CD5FEA1AE792A697564A3A0D1158C finished...\n",
            "Process 753: ZxF3EDCFF4D2AB58B7B057CA8F15C5213975B3648FE3EDDAC9 finished...\n",
            "Process 754: ZxF4650E9B1504D7A61A287B264E50A320FC0F56206D8F889A finished...\n",
            "Process 755: ZxF4E35FFB8721136A4933F9FBDB076B935DC6F2B47E42125B finished...\n",
            "Process 756: ZxF4E35FFB8721136AF9AA14E6F0C380A4C0B3BAB5F2560EE8 finished...\n",
            "Process 757: ZxF5096D162C108C6D1633924346CE778E67DA71A47BCECD0E finished...\n",
            "Process 758: ZxF58A14D8AA05B54FD82F791D4C0A024ECD0F41D9CB4E740D finished...\n",
            "Process 759: ZxF652001E94225B4A23A4A954155BE1BEB9FA4804B68769F6 finished...\n",
            "Process 760: ZxF652001E94225B4ADFB12383336103ECFEBA6D204AA32B9E finished...\n",
            "Process 761: ZxF66AF9C3CA0DD99E006E8F6FA52C8A3ABA723F5A21294F9A finished...\n",
            "Process 762: ZxF68BEE7E1F60DFA9C9AB9165A7C798CF667472DA902812F6 finished...\n",
            "Process 763: ZxF6C74D5FFC69B6EAB402E825C2C7190CDBFFE4FBF2B6BC74 finished...\n",
            "Process 764: ZxF6EE91DABD349B4A40832147C04C15C06A14E3CCD221F33C finished...\n",
            "Process 765: ZxF6EE91DABD349B4AB88DFDE359B6D2C44837410638B68866 finished...\n",
            "Process 766: ZxF740369C873AA046C77D3A7F253BB0780E00233DB92B4037 finished...\n",
            "Process 767: ZxF77F6D49315BC4745300157B6FABC8BEE25F0F4C4C0209DC finished...\n",
            "Process 768: ZxF78584259A680C72789533BACB5A9B762D04B3EFE5A3376E finished...\n",
            "Process 769: ZxF78584259A680C72F8E790CB81DFB1AD7CE260C49C0D9692 finished...\n",
            "Process 770: ZxF7E38D9EAC1BF4A8900F4833760CD4BC93B28F2DD1DA4662 finished...\n",
            "Process 771: ZxF7E38D9EAC1BF4A89DE0FBC6B8A3E2248ACFFDE3782E18AE finished...\n",
            "Process 772: ZxF8C431A13165137AB38AD9F8401ECF01C7FF9311D4C5EFFB finished...\n",
            "Process 773: ZxF8D0A211F87F12AF7B420DB5FDFE118A6D4C1A911885425B finished...\n",
            "Process 774: ZxF9654BAB07B0415EC280458E14F382A4DABCC4076DF3359D finished...\n",
            "Process 775: ZxF9F4AF14D7B1EF7C3EE19FF778359FEE681702C00D80568F finished...\n",
            "Process 776: ZxF9F4AF14D7B1EF7CE722B4FC916ECAA3B0DD72CD861A4460 finished...\n",
            "Process 777: ZxF9FB7F731AE2DCEAA653D01FDDCFB8C1F55078F52FD3CBF0 finished...\n",
            "Process 778: ZxFA97E60E42060D9059E3756F2068A6F7F11DCA3C42469C33 finished...\n",
            "Process 779: ZxFB899E31B6D8BE100DFFC67985BA43EDB2743EE7A3CCE22C finished...\n",
            "Process 780: ZxFBB0181FCAF1CAB696C6F9AE42517E0BA6245896131FB124 finished...\n",
            "Process 781: ZxFBBCCC5E909887D98798E50C1BA4E75F67FFFBF33B653064 finished...\n",
            "Process 782: ZxFC07BE7D85CCF82D60FB84BBFD2CBA613C665DEABDEBCB7F finished...\n",
            "Process 783: ZxFC585268A1A63205CF3C1BB8A4A0A2C32F68004414D9F1D1 finished...\n",
            "Process 784: ZxFC844751E4BC264FA5C360F4807B1B04F639935B755AE982 finished...\n",
            "Process 785: ZxFD05F92AFD745EFDDF1E3123D3080D14D0C5EB6FD54083D9 finished...\n",
            "Process 786: ZxFD808B7419E590990E1632C52DF44EE1E26A2CBF9C4A616D finished...\n",
            "Process 787: ZxFD808B7419E590992EA61CABB2AFFA616410E02635529AD8 finished...\n",
            "Process 788: ZxFD8D565F7CFAEA22C980A585E7A7937AAE5EB20D3C6590E3 finished...\n",
            "Process 789: ZxFE087EAB297CA731B8DBD01407C31C992274CA97F8770F37 finished...\n",
            "Process 790: ZxFE269EDFD4EE0330B3D6C645D89AE017B8B14C72E713EBB4 finished...\n",
            "Process 791: ZxFE280A8E0C448EA083FEDDDC85B47E70AF62C489881C066B finished...\n",
            "Process 792: ZxFEFF9C9555D60C4A447AE2172976D86C6F1E6018597F8530 finished...\n",
            "Process 793: ZxFF050F121B008A9A3447A15F3C5F8A780BC44C8C62B2A4F6 finished...\n",
            "Process 794: ZxFF33BBA53245DC11656AD674EDAC74459F773A394590234E finished...\n",
            "Process 795: ZxFF3D6B912E3F1986C7A67E92219D38CCA5FC12F6DFC9D169 finished...\n",
            "Process 796: ZxFF416C96EF954FE1720C04968292DDE45BBEC2E4E5A74055 finished...\n",
            "Process 797: ZxFF51EAF10B09D34C5B5B3068CE83017279F3AFB5644E093F finished...\n",
            "Process 798: ZxFF51EAF10B09D34C7AE7C6543942C9000C78DF2C64EAF6A3 finished...\n",
            "Process 799: ZxFF823BD50CB342CE9DEDCD690E770B716F837D2CE9A22352 finished...\n"
          ]
        }
      ]
    },
    {
      "cell_type": "code",
      "source": [
        "batch_size = 64\n",
        "mean_train_, std_train_ = torch.mean(images_validtrain), torch.std(images_validtrain)\n",
        "transform_train_ = transforms.Normalize(mean=mean_train_, std=std_train_)\n",
        "validtrain_dataset = CustomDataset(images_validtrain, labels_validtrain, transform=transform_train_)\n",
        "validtrain_loader = DataLoader(validtrain_dataset, batch_size=batch_size, shuffle=True, drop_last=False)\n",
        "\n",
        "valid_dataset = CustomDataset(images_valid, labels_valid, mode='valid', transform=transform_train_)\n",
        "valid_loader = DataLoader(valid_dataset, batch_size=batch_size, shuffle=True, drop_last=False)\n",
        "\n",
        "running_loss_list = []\n",
        "testing_loss_list = []\n",
        "running_accu_list = []\n",
        "testing_accu_list = []\n",
        "\n",
        "for current_model in filelist[2:]:\n",
        "  model,_,params,_ = load_model(model, modelname=current_model.rstrip('.pth'),dirname=current_folder)\n",
        "\n",
        "\n",
        "  epoch_loss, epoch_accuracy, predict_list_validtrain, predict_labels_validtrain  = valid(validtrain_loader, model, criterion, 0.5, device)\n",
        "  valid_loss, valid_accuracy, predict_list, predict_labels_valid = valid(valid_loader, model, criterion, 0.5, device)\n",
        "\n",
        "  running_loss_list.append(epoch_loss)\n",
        "  testing_loss_list.append(valid_loss)\n",
        "  running_accu_list.append(epoch_accuracy)\n",
        "  testing_accu_list.append(valid_accuracy)\n",
        "\n",
        "  predict_listq = predict_list.cpu()\n",
        "  predict_listq_validtrain = predict_list_validtrain.cpu()\n",
        "\n",
        "  print(f\"Accuracy of the {current_model} on the valid images: {valid_accuracy}%\")\n",
        "  print(f\"Loss: {valid_loss}\")\n",
        "  print_results(predict_listq, predict_labels_valid)\n",
        "\n",
        "\n",
        "  print(f\"Accuracy of the {current_model} on the validtrain images: {epoch_accuracy}%\")\n",
        "  print(f\"Loss: {epoch_loss}\")\n",
        "  print_results(predict_listq_validtrain, predict_labels_validtrain)"
      ],
      "metadata": {
        "colab": {
          "base_uri": "https://localhost:8080/",
          "height": 872
        },
        "id": "p8T-aQ5U3KUP",
        "outputId": "ae311f4d-c75a-4534-b5ef-c9d6d8bfa1db"
      },
      "execution_count": null,
      "outputs": [
        {
          "output_type": "stream",
          "name": "stdout",
          "text": [
            "<All keys matched successfully>\n",
            "Accuracy of the tf_efficientnetv2_s_20.pth on the valid images: 92.99166666666666%\n",
            "Loss: 0.4579299952527706\n",
            "\n",
            "      真實值\n",
            "  預  +-----+-----+\n",
            "  測| TP: 245| FP: 177|\n",
            "  值| FN: 664| TN: 10914|\n",
            "      +-----+-----+ \n",
            "\n",
            "recall=0.26952695269526955\n",
            "precision=0.580568720379147\n",
            "F1=0.3681442524417732\n",
            "\n",
            "Accuracy of the tf_efficientnetv2_s_20.pth on the validtrain images: 99.86866244162775%\n",
            "Loss: 0.003950398122997285\n",
            "\n",
            "      真實值\n",
            "  預  +-----+-----+\n",
            "  測| TP: 224| FP: 3426|\n",
            "  值| FN: 3365| TN: 40953|\n",
            "      +-----+-----+ \n",
            "\n",
            "recall=0.06241292839230984\n",
            "precision=0.06136986301369863\n",
            "F1=0.06188700096698439\n",
            "\n",
            "<All keys matched successfully>\n"
          ]
        },
        {
          "output_type": "error",
          "ename": "KeyboardInterrupt",
          "evalue": "",
          "traceback": [
            "\u001b[0;31m---------------------------------------------------------------------------\u001b[0m",
            "\u001b[0;31mKeyboardInterrupt\u001b[0m                         Traceback (most recent call last)",
            "\u001b[0;32m<ipython-input-28-57344c671e7d>\u001b[0m in \u001b[0;36m<cell line: 15>\u001b[0;34m()\u001b[0m\n\u001b[1;32m     17\u001b[0m \u001b[0;34m\u001b[0m\u001b[0m\n\u001b[1;32m     18\u001b[0m \u001b[0;34m\u001b[0m\u001b[0m\n\u001b[0;32m---> 19\u001b[0;31m   \u001b[0mepoch_loss\u001b[0m\u001b[0;34m,\u001b[0m \u001b[0mepoch_accuracy\u001b[0m\u001b[0;34m,\u001b[0m \u001b[0mpredict_list_validtrain\u001b[0m\u001b[0;34m,\u001b[0m \u001b[0mpredict_labels_validtrain\u001b[0m  \u001b[0;34m=\u001b[0m \u001b[0mvalid\u001b[0m\u001b[0;34m(\u001b[0m\u001b[0mvalidtrain_loader\u001b[0m\u001b[0;34m,\u001b[0m \u001b[0mmodel\u001b[0m\u001b[0;34m,\u001b[0m \u001b[0mcriterion\u001b[0m\u001b[0;34m,\u001b[0m \u001b[0;36m0.5\u001b[0m\u001b[0;34m,\u001b[0m \u001b[0mdevice\u001b[0m\u001b[0;34m)\u001b[0m\u001b[0;34m\u001b[0m\u001b[0;34m\u001b[0m\u001b[0m\n\u001b[0m\u001b[1;32m     20\u001b[0m   \u001b[0mvalid_loss\u001b[0m\u001b[0;34m,\u001b[0m \u001b[0mvalid_accuracy\u001b[0m\u001b[0;34m,\u001b[0m \u001b[0mpredict_list\u001b[0m\u001b[0;34m,\u001b[0m \u001b[0mpredict_labels_valid\u001b[0m \u001b[0;34m=\u001b[0m \u001b[0mvalid\u001b[0m\u001b[0;34m(\u001b[0m\u001b[0mvalid_loader\u001b[0m\u001b[0;34m,\u001b[0m \u001b[0mmodel\u001b[0m\u001b[0;34m,\u001b[0m \u001b[0mcriterion\u001b[0m\u001b[0;34m,\u001b[0m \u001b[0;36m0.5\u001b[0m\u001b[0;34m,\u001b[0m \u001b[0mdevice\u001b[0m\u001b[0;34m)\u001b[0m\u001b[0;34m\u001b[0m\u001b[0;34m\u001b[0m\u001b[0m\n\u001b[1;32m     21\u001b[0m \u001b[0;34m\u001b[0m\u001b[0m\n",
            "\u001b[0;32m<ipython-input-17-7c13fd896370>\u001b[0m in \u001b[0;36mvalid\u001b[0;34m(loader, model_, criterion, threshold, device)\u001b[0m\n\u001b[1;32m     46\u001b[0m           \u001b[0mloss\u001b[0m \u001b[0;34m=\u001b[0m \u001b[0mcriterion\u001b[0m\u001b[0;34m(\u001b[0m\u001b[0moutputs\u001b[0m\u001b[0;34m,\u001b[0m \u001b[0mbatch_labels\u001b[0m\u001b[0;34m)\u001b[0m\u001b[0;34m\u001b[0m\u001b[0;34m\u001b[0m\u001b[0m\n\u001b[1;32m     47\u001b[0m \u001b[0;34m\u001b[0m\u001b[0m\n\u001b[0;32m---> 48\u001b[0;31m           \u001b[0mtesting_loss\u001b[0m \u001b[0;34m+=\u001b[0m \u001b[0mloss\u001b[0m\u001b[0;34m.\u001b[0m\u001b[0mitem\u001b[0m\u001b[0;34m(\u001b[0m\u001b[0;34m)\u001b[0m \u001b[0;31m#單個batch平均loss\u001b[0m\u001b[0;34m\u001b[0m\u001b[0;34m\u001b[0m\u001b[0m\n\u001b[0m\u001b[1;32m     49\u001b[0m           \u001b[0mbsize\u001b[0m \u001b[0;34m=\u001b[0m \u001b[0mbatch_labels\u001b[0m\u001b[0;34m.\u001b[0m\u001b[0msize\u001b[0m\u001b[0;34m(\u001b[0m\u001b[0;36m0\u001b[0m\u001b[0;34m)\u001b[0m\u001b[0;34m\u001b[0m\u001b[0;34m\u001b[0m\u001b[0m\n\u001b[1;32m     50\u001b[0m           \u001b[0mtotal\u001b[0m \u001b[0;34m+=\u001b[0m \u001b[0mbsize\u001b[0m\u001b[0;34m\u001b[0m\u001b[0;34m\u001b[0m\u001b[0m\n",
            "\u001b[0;31mKeyboardInterrupt\u001b[0m: "
          ]
        }
      ]
    },
    {
      "cell_type": "code",
      "source": [
        "import matplotlib.pyplot as plt\n",
        "import json\n",
        "from matplotlib.ticker import MaxNLocator\n",
        "\n",
        "savepath = \"/content/drive/MyDrive/AOCR2024/params/tf_efficientnetv2_s_cos/tf_efficientnetv2_s_400\"\n",
        "n_epochs = len(running_loss_list)\n",
        "fig, ax = plt.subplots(1, 2, figsize=(12, 6))\n",
        "\n",
        "ax[0].plot( running_loss_list, label='Training Loss')\n",
        "ax[0].plot( testing_loss_list, label='Testing Loss')\n",
        "ax[0].set_title('Loss compare')\n",
        "ax[0].set_xlabel('Epoch')\n",
        "ax[0].set_ylabel('Loss')\n",
        "ax[0].legend()\n",
        "ax[0].xaxis.set_major_locator(MaxNLocator(integer=True))  # 設置 X 軸只顯示整數\n",
        "\n",
        "ax[1].plot( running_accu_list, label='Training Accuracy')\n",
        "ax[1].plot( testing_accu_list, label='Testing Accuracy')\n",
        "ax[1].set_title('Accuracy compare')\n",
        "ax[1].set_xlabel('Epoch')\n",
        "ax[1].set_ylabel('Accuracy')\n",
        "ax[1].legend()\n",
        "ax[1].xaxis.set_major_locator(MaxNLocator(integer=True))  # 設置 X 軸只顯示整數\n",
        "\n",
        "plt.tight_layout()\n",
        "\n",
        "figname = f'{os.path.dirname(savepath)}/{model_name}_loss.png'\n",
        "if os.path.isfile(figname):\n",
        "  print(f\"{figname} exist.\")\n",
        "else:\n",
        "  plt.savefig(figname)\n",
        "plt.show()\n",
        "\n",
        "lossname = f'{os.path.dirname(savepath)}/{model_name}_loss.json'\n",
        "\n",
        "\n",
        "#若是從checkpoint跑模型,把loss data接上去,loss data預設在模型參數資料夾下\n",
        "if os.path.isfile(lossname):\n",
        "  with open(lossname, 'r') as f:\n",
        "    data_to_save = json.load(f)\n",
        "  data_to_save['running_loss_list'].extend(running_loss_list)\n",
        "  data_to_save['testing_loss_list'].extend(testing_loss_list)\n",
        "  data_to_save['running_accu_list'].extend(running_accu_list)\n",
        "  data_to_save['testing_accu_list'].extend(testing_accu_list)\n",
        "else:\n",
        "  data_to_save = {\n",
        "      'running_loss_list': running_loss_list,\n",
        "      'testing_loss_list': testing_loss_list,\n",
        "      'running_accu_list': running_accu_list,\n",
        "      'testing_accu_list': testing_accu_list\n",
        "  }\n",
        "\n",
        "with open(lossname, 'w') as f:\n",
        "    json.dump(data_to_save, f, indent=4)"
      ],
      "metadata": {
        "id": "OhtujRavHQZ7"
      },
      "execution_count": null,
      "outputs": []
    },
    {
      "cell_type": "markdown",
      "source": [
        "drive檔案處理"
      ],
      "metadata": {
        "id": "iYNdv3iuH1B-"
      }
    },
    {
      "cell_type": "markdown",
      "source": [
        "重命名檔案"
      ],
      "metadata": {
        "id": "w_tcloGiLX5t"
      }
    },
    {
      "cell_type": "code",
      "source": [
        "cd /content/drive/MyDrive/AOCR2024/params"
      ],
      "metadata": {
        "id": "8FwVVgRBHz2Y"
      },
      "execution_count": null,
      "outputs": []
    },
    {
      "cell_type": "code",
      "source": [
        "# %shell for file in tf_efficientnetv2_m*; do mv \"$file\" \"${file/tf_efficientnetv2_m/unet}\"; done"
      ],
      "metadata": {
        "id": "gjPo1mWSIF0H"
      },
      "execution_count": null,
      "outputs": []
    },
    {
      "cell_type": "code",
      "source": [
        "import matplotlib.pyplot as plt\n",
        "\n",
        "x = range(10,210,10)\n",
        "y = [0.21497405485544846,0.3526900085397096,0.42987249544626593,0.408731241473397,0.43421052631578944,0.41770102536427417,0.43779342723004694,0.42740414833438095,0.47986434930055116,0.4362030905077262,0.4241719930273096,0.3555230431602049,0.20746132848043677,0.4176013805004314,0.4490445859872611,0.17557251908396945,0.40830945558739257,0.472430224642614,0.47833775419982316,0.1071060762100927]\n",
        "plt.plot(x,y)"
      ],
      "metadata": {
        "colab": {
          "base_uri": "https://localhost:8080/",
          "height": 447
        },
        "id": "RaH5SuYnIQX5",
        "outputId": "ea2350be-3517-4f60-c1ee-1cb69eb5b5ef"
      },
      "execution_count": 47,
      "outputs": [
        {
          "output_type": "execute_result",
          "data": {
            "text/plain": [
              "[<matplotlib.lines.Line2D at 0x7dc974b502b0>]"
            ]
          },
          "metadata": {},
          "execution_count": 47
        },
        {
          "output_type": "display_data",
          "data": {
            "text/plain": [
              "<Figure size 640x480 with 1 Axes>"
            ],
            "image/png": "[encoded data removed]"
          },
          "metadata": {}
        }
      ]
    }
  ],
  "metadata": {
    "colab": {
      "provenance": [],
      "collapsed_sections": [
        "RpwX2ZFOBRFT",
        "0IX5HYZuSKG-",
        "rhLO9PaUESQh"
      ],
      "toc_visible": true,
      "machine_shape": "hm",
      "include_colab_link": true
    },
    "kernelspec": {
      "display_name": "Python 3",
      "name": "python3"
    },
    "language_info": {
      "codemirror_mode": {
        "name": "ipython",
        "version": 3
      },
      "file_extension": ".py",
      "mimetype": "text/x-python",
      "name": "python",
      "nbconvert_exporter": "python",
      "pygments_lexer": "ipython3",
      "version": "3.11.5"
    },
    "widgets": {
      "application/vnd.jupyter.widget-state+json": {
        "308af6c8e3974186a3a9989f747c2f9a": {
          "model_module": "@jupyter-widgets/controls",
          "model_name": "HBoxModel",
          "model_module_version": "1.5.0",
          "state": {
            "_dom_classes": [],
            "_model_module": "@jupyter-widgets/controls",
            "_model_module_version": "1.5.0",
            "_model_name": "HBoxModel",
            "_view_count": null,
            "_view_module": "@jupyter-widgets/controls",
            "_view_module_version": "1.5.0",
            "_view_name": "HBoxView",
            "box_style": "",
            "children": [
              "IPY_MODEL_6acd3091c2c24be499082abc6f22f768",
              "IPY_MODEL_2c3e872c75544c428721f5c2f03f4af4",
              "IPY_MODEL_c26c9a52ce6a43e2825837129f605232"
            ],
            "layout": "IPY_MODEL_074f41319e454b55ba4743978a86bee9"
          }
        },
        "6acd3091c2c24be499082abc6f22f768": {
          "model_module": "@jupyter-widgets/controls",
          "model_name": "HTMLModel",
          "model_module_version": "1.5.0",
          "state": {
            "_dom_classes": [],
            "_model_module": "@jupyter-widgets/controls",
            "_model_module_version": "1.5.0",
            "_model_name": "HTMLModel",
            "_view_count": null,
            "_view_module": "@jupyter-widgets/controls",
            "_view_module_version": "1.5.0",
            "_view_name": "HTMLView",
            "description": "",
            "description_tooltip": null,
            "layout": "IPY_MODEL_6ecd3e91adbc4d959285becbee70959e",
            "placeholder": "​",
            "style": "IPY_MODEL_b0a5017d19ea4f668e5b025810a87c64",
            "value": "model.safetensors: 100%"
          }
        },
        "2c3e872c75544c428721f5c2f03f4af4": {
          "model_module": "@jupyter-widgets/controls",
          "model_name": "FloatProgressModel",
          "model_module_version": "1.5.0",
          "state": {
            "_dom_classes": [],
            "_model_module": "@jupyter-widgets/controls",
            "_model_module_version": "1.5.0",
            "_model_name": "FloatProgressModel",
            "_view_count": null,
            "_view_module": "@jupyter-widgets/controls",
            "_view_module_version": "1.5.0",
            "_view_name": "ProgressView",
            "bar_style": "success",
            "description": "",
            "description_tooltip": null,
            "layout": "IPY_MODEL_1d03d8e42cc4451ba1337f806178e0bb",
            "max": 86523256,
            "min": 0,
            "orientation": "horizontal",
            "style": "IPY_MODEL_462561cb62d445e2880520c9117a50c1",
            "value": 86523256
          }
        },
        "c26c9a52ce6a43e2825837129f605232": {
          "model_module": "@jupyter-widgets/controls",
          "model_name": "HTMLModel",
          "model_module_version": "1.5.0",
          "state": {
            "_dom_classes": [],
            "_model_module": "@jupyter-widgets/controls",
            "_model_module_version": "1.5.0",
            "_model_name": "HTMLModel",
            "_view_count": null,
            "_view_module": "@jupyter-widgets/controls",
            "_view_module_version": "1.5.0",
            "_view_name": "HTMLView",
            "description": "",
            "description_tooltip": null,
            "layout": "IPY_MODEL_5b671e30c685494fbd005b45b613f6c9",
            "placeholder": "​",
            "style": "IPY_MODEL_b47b282697db469085687d8116b19847",
            "value": " 86.5M/86.5M [00:00&lt;00:00, 213MB/s]"
          }
        },
        "074f41319e454b55ba4743978a86bee9": {
          "model_module": "@jupyter-widgets/base",
          "model_name": "LayoutModel",
          "model_module_version": "1.2.0",
          "state": {
            "_model_module": "@jupyter-widgets/base",
            "_model_module_version": "1.2.0",
            "_model_name": "LayoutModel",
            "_view_count": null,
            "_view_module": "@jupyter-widgets/base",
            "_view_module_version": "1.2.0",
            "_view_name": "LayoutView",
            "align_content": null,
            "align_items": null,
            "align_self": null,
            "border": null,
            "bottom": null,
            "display": null,
            "flex": null,
            "flex_flow": null,
            "grid_area": null,
            "grid_auto_columns": null,
            "grid_auto_flow": null,
            "grid_auto_rows": null,
            "grid_column": null,
            "grid_gap": null,
            "grid_row": null,
            "grid_template_areas": null,
            "grid_template_columns": null,
            "grid_template_rows": null,
            "height": null,
            "justify_content": null,
            "justify_items": null,
            "left": null,
            "margin": null,
            "max_height": null,
            "max_width": null,
            "min_height": null,
            "min_width": null,
            "object_fit": null,
            "object_position": null,
            "order": null,
            "overflow": null,
            "overflow_x": null,
            "overflow_y": null,
            "padding": null,
            "right": null,
            "top": null,
            "visibility": null,
            "width": null
          }
        },
        "6ecd3e91adbc4d959285becbee70959e": {
          "model_module": "@jupyter-widgets/base",
          "model_name": "LayoutModel",
          "model_module_version": "1.2.0",
          "state": {
            "_model_module": "@jupyter-widgets/base",
            "_model_module_version": "1.2.0",
            "_model_name": "LayoutModel",
            "_view_count": null,
            "_view_module": "@jupyter-widgets/base",
            "_view_module_version": "1.2.0",
            "_view_name": "LayoutView",
            "align_content": null,
            "align_items": null,
            "align_self": null,
            "border": null,
            "bottom": null,
            "display": null,
            "flex": null,
            "flex_flow": null,
            "grid_area": null,
            "grid_auto_columns": null,
            "grid_auto_flow": null,
            "grid_auto_rows": null,
            "grid_column": null,
            "grid_gap": null,
            "grid_row": null,
            "grid_template_areas": null,
            "grid_template_columns": null,
            "grid_template_rows": null,
            "height": null,
            "justify_content": null,
            "justify_items": null,
            "left": null,
            "margin": null,
            "max_height": null,
            "max_width": null,
            "min_height": null,
            "min_width": null,
            "object_fit": null,
            "object_position": null,
            "order": null,
            "overflow": null,
            "overflow_x": null,
            "overflow_y": null,
            "padding": null,
            "right": null,
            "top": null,
            "visibility": null,
            "width": null
          }
        },
        "b0a5017d19ea4f668e5b025810a87c64": {
          "model_module": "@jupyter-widgets/controls",
          "model_name": "DescriptionStyleModel",
          "model_module_version": "1.5.0",
          "state": {
            "_model_module": "@jupyter-widgets/controls",
            "_model_module_version": "1.5.0",
            "_model_name": "DescriptionStyleModel",
            "_view_count": null,
            "_view_module": "@jupyter-widgets/base",
            "_view_module_version": "1.2.0",
            "_view_name": "StyleView",
            "description_width": ""
          }
        },
        "1d03d8e42cc4451ba1337f806178e0bb": {
          "model_module": "@jupyter-widgets/base",
          "model_name": "LayoutModel",
          "model_module_version": "1.2.0",
          "state": {
            "_model_module": "@jupyter-widgets/base",
            "_model_module_version": "1.2.0",
            "_model_name": "LayoutModel",
            "_view_count": null,
            "_view_module": "@jupyter-widgets/base",
            "_view_module_version": "1.2.0",
            "_view_name": "LayoutView",
            "align_content": null,
            "align_items": null,
            "align_self": null,
            "border": null,
            "bottom": null,
            "display": null,
            "flex": null,
            "flex_flow": null,
            "grid_area": null,
            "grid_auto_columns": null,
            "grid_auto_flow": null,
            "grid_auto_rows": null,
            "grid_column": null,
            "grid_gap": null,
            "grid_row": null,
            "grid_template_areas": null,
            "grid_template_columns": null,
            "grid_template_rows": null,
            "height": null,
            "justify_content": null,
            "justify_items": null,
            "left": null,
            "margin": null,
            "max_height": null,
            "max_width": null,
            "min_height": null,
            "min_width": null,
            "object_fit": null,
            "object_position": null,
            "order": null,
            "overflow": null,
            "overflow_x": null,
            "overflow_y": null,
            "padding": null,
            "right": null,
            "top": null,
            "visibility": null,
            "width": null
          }
        },
        "462561cb62d445e2880520c9117a50c1": {
          "model_module": "@jupyter-widgets/controls",
          "model_name": "ProgressStyleModel",
          "model_module_version": "1.5.0",
          "state": {
            "_model_module": "@jupyter-widgets/controls",
            "_model_module_version": "1.5.0",
            "_model_name": "ProgressStyleModel",
            "_view_count": null,
            "_view_module": "@jupyter-widgets/base",
            "_view_module_version": "1.2.0",
            "_view_name": "StyleView",
            "bar_color": null,
            "description_width": ""
          }
        },
        "5b671e30c685494fbd005b45b613f6c9": {
          "model_module": "@jupyter-widgets/base",
          "model_name": "LayoutModel",
          "model_module_version": "1.2.0",
          "state": {
            "_model_module": "@jupyter-widgets/base",
            "_model_module_version": "1.2.0",
            "_model_name": "LayoutModel",
            "_view_count": null,
            "_view_module": "@jupyter-widgets/base",
            "_view_module_version": "1.2.0",
            "_view_name": "LayoutView",
            "align_content": null,
            "align_items": null,
            "align_self": null,
            "border": null,
            "bottom": null,
            "display": null,
            "flex": null,
            "flex_flow": null,
            "grid_area": null,
            "grid_auto_columns": null,
            "grid_auto_flow": null,
            "grid_auto_rows": null,
            "grid_column": null,
            "grid_gap": null,
            "grid_row": null,
            "grid_template_areas": null,
            "grid_template_columns": null,
            "grid_template_rows": null,
            "height": null,
            "justify_content": null,
            "justify_items": null,
            "left": null,
            "margin": null,
            "max_height": null,
            "max_width": null,
            "min_height": null,
            "min_width": null,
            "object_fit": null,
            "object_position": null,
            "order": null,
            "overflow": null,
            "overflow_x": null,
            "overflow_y": null,
            "padding": null,
            "right": null,
            "top": null,
            "visibility": null,
            "width": null
          }
        },
        "b47b282697db469085687d8116b19847": {
          "model_module": "@jupyter-widgets/controls",
          "model_name": "DescriptionStyleModel",
          "model_module_version": "1.5.0",
          "state": {
            "_model_module": "@jupyter-widgets/controls",
            "_model_module_version": "1.5.0",
            "_model_name": "DescriptionStyleModel",
            "_view_count": null,
            "_view_module": "@jupyter-widgets/base",
            "_view_module_version": "1.2.0",
            "_view_name": "StyleView",
            "description_width": ""
          }
        }
      }
    }
  },
  "nbformat": 4,
  "nbformat_minor": 0
}