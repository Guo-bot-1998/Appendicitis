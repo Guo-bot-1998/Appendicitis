{
  "cells": [
    {
      "cell_type": "markdown",
      "metadata": {
        "id": "view-in-github",
        "colab_type": "text"
      },
      "source": [
        "<a href=\"https://colab.research.google.com/github/Guo-bot-1998/Appendicitis/blob/master/Appendicitis_colab_notebook.ipynb\" target=\"_parent\"><img src=\"https://colab.research.google.com/assets/colab-badge.svg\" alt=\"Open In Colab\"/></a>"
      ]
    },
    {
      "cell_type": "markdown",
      "metadata": {
        "id": "coYrDLBnCbwQ"
      },
      "source": [
        "# import"
      ]
    },
    {
      "cell_type": "code",
      "execution_count": 1,
      "metadata": {
        "id": "Q4kBLfXWRg7N",
        "colab": {
          "base_uri": "https://localhost:8080/"
        },
        "outputId": "09a73c62-acf0-4f9c-fa56-e88385ce8225"
      },
      "outputs": [
        {
          "output_type": "stream",
          "name": "stdout",
          "text": [
            "Collecting timm\n",
            "  Downloading timm-0.9.12-py3-none-any.whl (2.2 MB)\n",
            "\u001b[?25l     \u001b[90m━━━━━━━━━━━━━━━━━━━━━━━━━━━━━━━━━━━━━━━━\u001b[0m \u001b[32m0.0/2.2 MB\u001b[0m \u001b[31m?\u001b[0m eta \u001b[36m-:--:--\u001b[0m\r\u001b[2K     \u001b[91m━━━━━\u001b[0m\u001b[91m╸\u001b[0m\u001b[90m━━━━━━━━━━━━━━━━━━━━━━━━━━━━━━━━━━\u001b[0m \u001b[32m0.3/2.2 MB\u001b[0m \u001b[31m9.4 MB/s\u001b[0m eta \u001b[36m0:00:01\u001b[0m\r\u001b[2K     \u001b[91m━━━━━━━━━━━━━━━━━━\u001b[0m\u001b[91m╸\u001b[0m\u001b[90m━━━━━━━━━━━━━━━━━━━━━\u001b[0m \u001b[32m1.0/2.2 MB\u001b[0m \u001b[31m15.6 MB/s\u001b[0m eta \u001b[36m0:00:01\u001b[0m\r\u001b[2K     \u001b[91m━━━━━━━━━━━━━━━━━━━━━━━━━━━━━━━━━━━━\u001b[0m\u001b[90m╺\u001b[0m\u001b[90m━━━\u001b[0m \u001b[32m2.0/2.2 MB\u001b[0m \u001b[31m19.7 MB/s\u001b[0m eta \u001b[36m0:00:01\u001b[0m\r\u001b[2K     \u001b[90m━━━━━━━━━━━━━━━━━━━━━━━━━━━━━━━━━━━━━━━━\u001b[0m \u001b[32m2.2/2.2 MB\u001b[0m \u001b[31m18.2 MB/s\u001b[0m eta \u001b[36m0:00:00\u001b[0m\n",
            "\u001b[?25hRequirement already satisfied: torch>=1.7 in /usr/local/lib/python3.10/dist-packages (from timm) (2.1.0+cu121)\n",
            "Requirement already satisfied: torchvision in /usr/local/lib/python3.10/dist-packages (from timm) (0.16.0+cu121)\n",
            "Requirement already satisfied: pyyaml in /usr/local/lib/python3.10/dist-packages (from timm) (6.0.1)\n",
            "Requirement already satisfied: huggingface-hub in /usr/local/lib/python3.10/dist-packages (from timm) (0.20.3)\n",
            "Requirement already satisfied: safetensors in /usr/local/lib/python3.10/dist-packages (from timm) (0.4.2)\n",
            "Requirement already satisfied: filelock in /usr/local/lib/python3.10/dist-packages (from torch>=1.7->timm) (3.13.1)\n",
            "Requirement already satisfied: typing-extensions in /usr/local/lib/python3.10/dist-packages (from torch>=1.7->timm) (4.9.0)\n",
            "Requirement already satisfied: sympy in /usr/local/lib/python3.10/dist-packages (from torch>=1.7->timm) (1.12)\n",
            "Requirement already satisfied: networkx in /usr/local/lib/python3.10/dist-packages (from torch>=1.7->timm) (3.2.1)\n",
            "Requirement already satisfied: jinja2 in /usr/local/lib/python3.10/dist-packages (from torch>=1.7->timm) (3.1.3)\n",
            "Requirement already satisfied: fsspec in /usr/local/lib/python3.10/dist-packages (from torch>=1.7->timm) (2023.6.0)\n",
            "Requirement already satisfied: triton==2.1.0 in /usr/local/lib/python3.10/dist-packages (from torch>=1.7->timm) (2.1.0)\n",
            "Requirement already satisfied: requests in /usr/local/lib/python3.10/dist-packages (from huggingface-hub->timm) (2.31.0)\n",
            "Requirement already satisfied: tqdm>=4.42.1 in /usr/local/lib/python3.10/dist-packages (from huggingface-hub->timm) (4.66.1)\n",
            "Requirement already satisfied: packaging>=20.9 in /usr/local/lib/python3.10/dist-packages (from huggingface-hub->timm) (23.2)\n",
            "Requirement already satisfied: numpy in /usr/local/lib/python3.10/dist-packages (from torchvision->timm) (1.23.5)\n",
            "Requirement already satisfied: pillow!=8.3.*,>=5.3.0 in /usr/local/lib/python3.10/dist-packages (from torchvision->timm) (9.4.0)\n",
            "Requirement already satisfied: MarkupSafe>=2.0 in /usr/local/lib/python3.10/dist-packages (from jinja2->torch>=1.7->timm) (2.1.5)\n",
            "Requirement already satisfied: charset-normalizer<4,>=2 in /usr/local/lib/python3.10/dist-packages (from requests->huggingface-hub->timm) (3.3.2)\n",
            "Requirement already satisfied: idna<4,>=2.5 in /usr/local/lib/python3.10/dist-packages (from requests->huggingface-hub->timm) (3.6)\n",
            "Requirement already satisfied: urllib3<3,>=1.21.1 in /usr/local/lib/python3.10/dist-packages (from requests->huggingface-hub->timm) (2.0.7)\n",
            "Requirement already satisfied: certifi>=2017.4.17 in /usr/local/lib/python3.10/dist-packages (from requests->huggingface-hub->timm) (2024.2.2)\n",
            "Requirement already satisfied: mpmath>=0.19 in /usr/local/lib/python3.10/dist-packages (from sympy->torch>=1.7->timm) (1.3.0)\n",
            "Installing collected packages: timm\n",
            "Successfully installed timm-0.9.12\n",
            "Requirement already satisfied: tqdm in /usr/local/lib/python3.10/dist-packages (4.66.1)\n",
            "Collecting kora\n",
            "  Downloading kora-0.9.20-py3-none-any.whl (57 kB)\n",
            "\u001b[2K     \u001b[90m━━━━━━━━━━━━━━━━━━━━━━━━━━━━━━━━━━━━━━━━\u001b[0m \u001b[32m57.7/57.7 kB\u001b[0m \u001b[31m2.5 MB/s\u001b[0m eta \u001b[36m0:00:00\u001b[0m\n",
            "\u001b[?25hRequirement already satisfied: ipython in /usr/local/lib/python3.10/dist-packages (from kora) (7.34.0)\n",
            "Requirement already satisfied: fastcore in /usr/local/lib/python3.10/dist-packages (from kora) (1.5.29)\n",
            "Requirement already satisfied: pip in /usr/local/lib/python3.10/dist-packages (from fastcore->kora) (23.1.2)\n",
            "Requirement already satisfied: packaging in /usr/local/lib/python3.10/dist-packages (from fastcore->kora) (23.2)\n",
            "Requirement already satisfied: setuptools>=18.5 in /usr/local/lib/python3.10/dist-packages (from ipython->kora) (67.7.2)\n",
            "Collecting jedi>=0.16 (from ipython->kora)\n",
            "  Downloading jedi-0.19.1-py2.py3-none-any.whl (1.6 MB)\n",
            "\u001b[2K     \u001b[90m━━━━━━━━━━━━━━━━━━━━━━━━━━━━━━━━━━━━━━━━\u001b[0m \u001b[32m1.6/1.6 MB\u001b[0m \u001b[31m14.5 MB/s\u001b[0m eta \u001b[36m0:00:00\u001b[0m\n",
            "\u001b[?25hRequirement already satisfied: decorator in /usr/local/lib/python3.10/dist-packages (from ipython->kora) (4.4.2)\n",
            "Requirement already satisfied: pickleshare in /usr/local/lib/python3.10/dist-packages (from ipython->kora) (0.7.5)\n",
            "Requirement already satisfied: traitlets>=4.2 in /usr/local/lib/python3.10/dist-packages (from ipython->kora) (5.7.1)\n",
            "Requirement already satisfied: prompt-toolkit!=3.0.0,!=3.0.1,<3.1.0,>=2.0.0 in /usr/local/lib/python3.10/dist-packages (from ipython->kora) (3.0.43)\n",
            "Requirement already satisfied: pygments in /usr/local/lib/python3.10/dist-packages (from ipython->kora) (2.16.1)\n",
            "Requirement already satisfied: backcall in /usr/local/lib/python3.10/dist-packages (from ipython->kora) (0.2.0)\n",
            "Requirement already satisfied: matplotlib-inline in /usr/local/lib/python3.10/dist-packages (from ipython->kora) (0.1.6)\n",
            "Requirement already satisfied: pexpect>4.3 in /usr/local/lib/python3.10/dist-packages (from ipython->kora) (4.9.0)\n",
            "Requirement already satisfied: parso<0.9.0,>=0.8.3 in /usr/local/lib/python3.10/dist-packages (from jedi>=0.16->ipython->kora) (0.8.3)\n",
            "Requirement already satisfied: ptyprocess>=0.5 in /usr/local/lib/python3.10/dist-packages (from pexpect>4.3->ipython->kora) (0.7.0)\n",
            "Requirement already satisfied: wcwidth in /usr/local/lib/python3.10/dist-packages (from prompt-toolkit!=3.0.0,!=3.0.1,<3.1.0,>=2.0.0->ipython->kora) (0.2.13)\n",
            "Installing collected packages: jedi, kora\n",
            "Successfully installed jedi-0.19.1 kora-0.9.20\n"
          ]
        }
      ],
      "source": [
        "!pip install timm\n",
        "!pip install tqdm\n",
        "!pip install kora"
      ]
    },
    {
      "cell_type": "code",
      "execution_count": 2,
      "metadata": {
        "id": "bQ4w8h2LkY0g"
      },
      "outputs": [],
      "source": [
        "import nibabel as nib\n",
        "import numpy as np\n",
        "import os\n",
        "import pandas as pd\n",
        "import nibabel as nib\n",
        "import torch\n",
        "import torch.nn as nn\n",
        "import torchvision.transforms as transforms\n",
        "import torch.optim as optim\n",
        "import random\n",
        "import re\n",
        "import json\n",
        "import timm\n",
        "import gdown\n",
        "from torch.utils.data import Dataset, DataLoader\n",
        "from sklearn.model_selection import KFold\n",
        "from matplotlib import pyplot as plt\n",
        "from google.colab import widgets\n",
        "\n",
        "from tqdm.asyncio import tqdm\n",
        "from kora.xattr import get_id\n",
        "import asyncio\n",
        "import aiohttp\n",
        "import nest_asyncio\n",
        "nest_asyncio.apply()\n",
        "loop = asyncio.get_event_loop()"
      ]
    },
    {
      "cell_type": "markdown",
      "source": [
        "## 存取"
      ],
      "metadata": {
        "id": "Oc3DYvY3WsL4"
      }
    },
    {
      "cell_type": "code",
      "source": [
        "def get_data_disk(driveroot, targetdir):\n",
        "  \"\"\"從雲端資料夾targetdir下載檔案到colab root底下同名資料夾\n",
        "  只下載沒有下載的檔案.\n",
        "\n",
        "  driveroot為雲端檔案資料夾root\"\"\"\n",
        "\n",
        "  if not os.path.exists('/content/' + targetdir):\n",
        "    os.makedirs(targetdir)\n",
        "    print(f\"making {targetdir} dir...\")\n",
        "\n",
        "  files_on_drive = os.listdir(driveroot+'/'+targetdir)\n",
        "  files_in_localdir = os.listdir(f\"/content/{targetdir}\")\n",
        "  files_to_download = [f for f in files_on_drive if f not in files_in_localdir]\n",
        "  files = [(filename, get_id(f'{driveroot}/{targetdir}/{filename}')) for filename in files_to_download]\n",
        "\n",
        "\n",
        "  for idx, (name, file_id) in enumerate(files):\n",
        "\n",
        "    if not file_id:\n",
        "      print(f\"未找到文件: {name}\")\n",
        "      continue\n",
        "\n",
        "    # 下载文件\n",
        "    request = drive_service.files().get_media(fileId=file_id)\n",
        "    fh = io.BytesIO()\n",
        "    downloader = MediaIoBaseDownload(fh, request)\n",
        "\n",
        "    done = False\n",
        "    while not done:\n",
        "      status, done = downloader.next_chunk()\n",
        "      # print(f\"下载 {name} 进度: {int(status.progress() * 100)}%\")\n",
        "\n",
        "    # 将文件内容写入本地文件\n",
        "    local_file_path = os.path.join('/content', targetdir, name)\n",
        "\n",
        "    with open(local_file_path, 'wb') as f:\n",
        "      fh.seek(0)\n",
        "      f.write(fh.read())\n",
        "\n",
        "    print(f\"{idx+1}/{len(files)}: {name} downloaded\")\n",
        "\n",
        "\n",
        "\n",
        "\n",
        "async def download_file(session, name, file_id, file_path, token):\n",
        "  if not file_id:\n",
        "    print(f\"未找到文件: {name}\")\n",
        "    return\n",
        "\n",
        "  download_url = f\"https://www.googleapis.com/drive/v3/files/{file_id}?alt=media\"\n",
        "  headers = {\"Authorization\": f\"Bearer {token}\"}\n",
        "\n",
        "  async with session.get(download_url, headers=headers) as response:\n",
        "    if response.status == 200:\n",
        "      with open(file_path, 'wb') as f:\n",
        "        while True:\n",
        "          chunk = await response.content.read(1024)\n",
        "          if not chunk:\n",
        "            break\n",
        "          f.write(chunk)\n",
        "      # print(f\"Downloaded: {name}...\")\n",
        "    else:\n",
        "      print(f\"Failed: {name}!! status: {response.status}\")\n",
        "\n",
        "\n",
        "# 定义异步获取数据的主函数\n",
        "async def get_data_disk_async(driveroot, targetdir, token):\n",
        "  # 生成文件夹的绝对路径\n",
        "  drive_folder_path = os.path.join(driveroot, targetdir)\n",
        "  local_folder_path = os.path.join('/content', targetdir)\n",
        "\n",
        "  if not os.path.exists(local_folder_path):\n",
        "    os.makedirs(local_folder_path)\n",
        "    print(f\"making {targetdir} dir...\")\n",
        "\n",
        "  # 获取文件列表\n",
        "  files_on_drive = os.listdir(drive_folder_path)\n",
        "  files_in_localdir = os.listdir(local_folder_path)\n",
        "  files_to_download = [f for f in files_on_drive if f not in files_in_localdir]\n",
        "  files = [(filename, get_id(os.path.join(drive_folder_path, filename))) for filename in files_to_download]\n",
        "\n",
        "  async with aiohttp.ClientSession() as session:\n",
        "    tasks = []\n",
        "    for idx, (name, file_id) in enumerate(files):\n",
        "      local_file_path = os.path.join(local_folder_path, name)\n",
        "      task = asyncio.create_task(download_file(session, name, file_id, local_file_path, token))\n",
        "      tasks.append(task)\n",
        "\n",
        "    # 使用 tqdm 包装任务列表以显示进度条\n",
        "    for f in tqdm.as_completed(tasks, total=len(tasks)):\n",
        "      await f\n",
        "\n",
        "\n",
        "\n",
        "def process_data2(traindir, shift=0, termi=10, dropFalse=0.85, dropPos=0, files=None):\n",
        "  \"\"\"Reading data in \"traindir\" and process them.\n",
        "  Taking care of memory efficiency\"\n",
        "\n",
        "  Args:\n",
        "    shift: 從第幾個開始讀取 (當files給定時無效)\n",
        "    termi: 讀取幾個 (當files給定時無效)\n",
        "    dropFalse: 被刪除的有闌尾炎的張數比例\n",
        "    dropPos: 被刪除的有闌尾炎的張數比例\n",
        "    files: 要讀取的檔案id，預設是None\n",
        "\n",
        "  Returns:\n",
        "    images: 输出的图像数据\n",
        "    labels: 输出的标签数据\n",
        "  \"\"\"\n",
        "\n",
        "  if not files:\n",
        "    filelist = os.listdir(traindir)\n",
        "    filelist = filelist[shift:shift+termi]\n",
        "  else: filelist = files\n",
        "\n",
        "  return loading_data(traindir, filelist, dropFalse, dropPos)\n",
        "\n",
        "\n",
        "\n",
        "def loading_data(traindir, filelist, dropFalse, dropPos)\\\n",
        " -> tuple[torch.tensor, torch.tensor]:\n",
        "\n",
        "  print(f\"reading {traindir=}...\")\n",
        "  labels_ = read_label(labelpath)\n",
        "\n",
        "  if labels_.index.name != 'id':\n",
        "    labels_.set_index('id', inplace=True)\n",
        "\n",
        "  #裁減過的圖片放在Cropped_[範圍]的資料夾下,用路徑名稱判斷資料使否裁減過\n",
        "  cropmatch = re.search(r'Cropped', traindir)\n",
        "  if not cropmatch:\n",
        "    print(\"讀取未切片的資料夾\")\n",
        "    xlim, ylim, zlim = [0,512], [0,512], [0,None]\n",
        "  else:\n",
        "    #範圍 = xstart-xend_ystart-yend_zstart-zend\n",
        "    ismatch = re.search(r'(\\d+-\\d+)_(\\d+-\\d+)_(\\d+-\\d+)', traindir)\n",
        "    if ismatch:\n",
        "      dimens = ismatch.group(0)\n",
        "      labelidx = dimens.split('_')\n",
        "      xlim = [int(idx) for idx in labelidx[0].split('-')]\n",
        "      ylim = [int(idx) for idx in labelidx[1].split('-')]\n",
        "      zlim = [int(idx) for idx in labelidx[2].split('-')]\n",
        "      print(f\"{xlim=}\\n{ylim=}\\n{zlim=}\")\n",
        "      if xlim[0] >= xlim[1] or ylim[0] >= ylim[1] or zlim[0] >= zlim[1]:\n",
        "        print(\"切片格式不正确\")\n",
        "        return\n",
        "    else:\n",
        "      print(\"切片格式不正确\")\n",
        "      return\n",
        "\n",
        "\n",
        "\n",
        "  # preallocated(有無裁減過影響preallocated的大小)\n",
        "  if not cropmatch:\n",
        "    selecteds = [labels_.loc[labels_.index.str.startswith(afile.strip('.nii.gz')+'_')] for afile in filelist]\n",
        "    numcuts = [len(selected) for selected in selecteds]\n",
        "    numcuts = sum(numcuts)\n",
        "  else:\n",
        "    numcuts = (zlim[1]-zlim[0]) * len(filelist)\n",
        "  images = torch.zeros(numcuts,1, ylim[-1]-ylim[0],xlim[-1]-xlim[0])\n",
        "  labels = -torch.ones(numcuts)\n",
        "  nimgs = 0\n",
        "  nprocess = 0\n",
        "\n",
        "  for key in filelist:\n",
        "    file_path = os.path.join(traindir, key)\n",
        "    key = key.strip('.nii.gz')\n",
        "    scan  = labels_.loc[labels_.index.str.startswith(key+'_')]\n",
        "    value = nib.load(file_path).get_fdata()\n",
        "\n",
        "    label_t = torch.tensor(scan['label'][zlim[0]:zlim[-1]]) #每個scan只拿zlim範圍，不滿60張的拿完\n",
        "    image_t = torch.from_numpy(value).float().permute(2, 0, 1).unsqueeze(1)\n",
        "\n",
        "    #有幾筆不是512x512, 剪成512x512\n",
        "    if (not cropmatch) and (image_t.shape[2] != 512 or image_t.shape[3] != 512):\n",
        "      image_t = cropping(image_t)\n",
        "\n",
        "    image_t, label_t = remove_false_images(image_t, label_t, dropFalse)\n",
        "    image_t, label_t = remove_positive_images(image_t, label_t, dropPos)\n",
        "\n",
        "    n_new = len(label_t)\n",
        "\n",
        "    images[nimgs:nimgs+n_new] = image_t\n",
        "    labels[nimgs:nimgs+n_new] = label_t\n",
        "    nimgs += len(label_t)\n",
        "    print(f\"Process {nprocess}: {key} finished...\")\n",
        "    nprocess += 1\n",
        "\n",
        "\n",
        "  #after drop\n",
        "  counts = count_zero(images)\n",
        "  images = torch.asarray(images[:len(images)-counts])\n",
        "  labels = labels[labels != -1]\n",
        "\n",
        "  return images, labels.float()\n",
        "\n",
        "\n",
        "\n",
        "\n",
        "def read_test(testdir,shift=0,termi=10):\n",
        "  \"\"\"Reading data in \"testdir\"\n",
        "  not memory efficient\n",
        "  Args:\n",
        "    shift: 從第幾個開始讀取\n",
        "    termi: 讀取幾個\n",
        "  Returns:\n",
        "    images: 输出的图像数据\n",
        "    scans_info: 每個scan的檔名和切片數(原本nii檔所包含的數量)\n",
        "\n",
        "  \"\"\"\n",
        "\n",
        "\n",
        "  filelist = os.listdir(testdir)\n",
        "  filelist = filelist[shift:shift+termi]\n",
        "  scans_info = []\n",
        "\n",
        "  images = []\n",
        "  nprocess = 0\n",
        "\n",
        "  for key in filelist:\n",
        "    file_path = os.path.join(testdir, key)\n",
        "    key = key.strip('.nii.gz')\n",
        "    value = nib.load(file_path).get_fdata()\n",
        "    scans_info.append((key, value.shape[2]))\n",
        "\n",
        "    image_t = torch.from_numpy(value).float().permute(2, 0, 1).unsqueeze(1)\n",
        "\n",
        "    images.append(image_t)\n",
        "    print(f\"{nprocess}: Read test {key} finished...\")\n",
        "    nprocess += 1\n",
        "\n",
        "  images = torch.cat(images,dim=0)\n",
        "  print(f\"read {len(scans_info)} scans\")\n",
        "\n",
        "  return images, scans_info\n",
        "\n",
        "\n",
        "\n",
        "\n",
        "def save_model(model, modelname=\"\", dirname=\"\", root=os.path.realpath(\"/content/drive/MyDrive/AOCR2024/params\")):\n",
        "\n",
        "  if not model:\n",
        "    print(\"not given model\")\n",
        "    return\n",
        "\n",
        "  if not os.path.exists(root):\n",
        "    print(f\"{root} not exists!\")\n",
        "    return\n",
        "\n",
        "  print(f\"model will be saved as {root}/{dirname}/{modelname}\")\n",
        "\n",
        "  if not modelname:\n",
        "    modelname = input(\"請輸入模型儲存的檔名:\")\n",
        "  if not dirname:\n",
        "    dirname = input(\"請輸入模型儲存的資料夾:\")\n",
        "\n",
        "  filename = f\"{root}/{dirname}/{modelname}\"\n",
        "\n",
        "  if not os.path.exists(os.path.dirname(filename)):\n",
        "    os.mkdir(os.path.dirname(filename))\n",
        "\n",
        "  if os.path.isfile(filename+'.pth'):\n",
        "      print(f\"{filename}.pth exist.\")\n",
        "  else:  #Adam的方向也要存放\n",
        "      torch.save({'model_state_dict': model.state_dict(),\n",
        "        'optimizer_state_dict': optimizer.state_dict()}, f'{filename}.pth')\n",
        "\n",
        "  return filename\n",
        "\n",
        "\n",
        "\n",
        "def load_model(_model, opti=None, modelname=\"\", dirname=\"\", root=os.path.realpath(\"/content/drive/MyDrive/AOCR2024/params\")):\n",
        "  \"\"\"加載模型參數與優化器，如果沒給優化器，則返回None\n",
        "   如果沒找到訓練參數, 則返回None\n",
        "   如果沒給資料夾名稱，則產生input prompt請user輸入\n",
        "    return model, opti, params, filename\n",
        "  \"\"\"\n",
        "  if not modelname:\n",
        "    modelname = input(\"請輸入模型參數檔案名稱:\")\n",
        "  if not dirname:\n",
        "    dirname = input(\"請輸入儲存模型的母資料夾名稱:\")\n",
        "\n",
        "  filename = f\"{root}/{dirname}/{modelname}\"\n",
        "  checkpoint = torch.load(filename+'.pth')\n",
        "  _params = None\n",
        "\n",
        "\n",
        "  print(_model.load_state_dict(checkpoint['model_state_dict']))\n",
        "\n",
        "  if os.path.isfile(filename+'.json'):\n",
        "    with open(f'{filename}.json', 'r') as f:\n",
        "      _params = json.load(f)\n",
        "  if opti:\n",
        "    opti.load_state_dict(checkpoint['optimizer_state_dict'])\n",
        "\n",
        "  return _model,opti,_params, filename\n",
        "\n",
        "\n",
        "\n",
        "\n",
        "\n",
        "\n",
        "def read_label(excel_path) -> pd.DataFrame:\n",
        "  \"\"\"Reads a csv file containing ground-truth.\n",
        "    The csv file should have two columns: 'id' and 'label'.\n",
        "  \"\"\"\n",
        "  with open(excel_path, 'r') as f:\n",
        "    df = pd.read_csv(f)\n",
        "    df.set_index('id', inplace=True)\n",
        "    return df\n",
        "\n",
        "\n",
        "def read_split(excel_path):\n",
        "  with open(excel_path, 'r') as f:\n",
        "    df = pd.read_csv(f)\n",
        "    return df\n",
        "\n",
        "def write_error(logpath, e, nprocess):\n",
        "  # with open(logpath, 'a') as f:\n",
        "    # f.write(f\"{nprocess:} error occured: {e}\\n\") ##! may stuck the program!!\n",
        "  print(f\"{nprocess:} error occured: {e}\\n\")\n",
        "\n",
        "\n",
        "def read_submission(excel_path) -> pd.DataFrame:\n",
        "  \"\"\"Reads a csv file containing submission file.\n",
        "    The csv file should follow the format given by Kaggle.\n",
        "  \"\"\"\n",
        "  with open(excel_path, 'r') as f:\n",
        "    df = pd.read_csv(f)\n",
        "    df.set_index('id', inplace=True)\n",
        "    return df\n",
        "\n",
        "\n"
      ],
      "metadata": {
        "id": "KLs_ItZEW0F1"
      },
      "execution_count": 3,
      "outputs": []
    },
    {
      "cell_type": "markdown",
      "source": [
        "## 列印結果"
      ],
      "metadata": {
        "id": "Fnggb7x7X8Q0"
      }
    },
    {
      "cell_type": "code",
      "source": [
        "def get_confusion(guess, truth):\n",
        "  if torch.is_tensor(guess):\n",
        "    guess = guess.cpu().numpy()\n",
        "  if torch.is_tensor(truth):\n",
        "    truth = truth.cpu().numpy()\n",
        "\n",
        "  right = guess == truth\n",
        "  wrong = np.logical_not(right)\n",
        "  TP = np.sum(np.logical_and(right, truth == np.ones(right.shape)))\n",
        "  TN = np.sum(np.logical_and(right, truth == np.zeros(right.shape)))\n",
        "  FN = np.sum(np.logical_and(wrong, truth == np.ones(wrong.shape)))\n",
        "  FP = np.sum(np.logical_and(wrong, truth == np.zeros(wrong.shape)))\n",
        "  return (TP,FP,FN,TN)\n",
        "\n",
        "\n",
        "def get_score(TP,FP,FN,TN):\n",
        "  recall = TP/(TP + FN)\n",
        "  precision = TP/(TP + FP)\n",
        "  recall = 0 if np.isnan(recall) else recall.item()\n",
        "  precision = 0 if np.isnan(precision) else precision.item()\n",
        "  F1 = 0 if recall + precision == 0 else  (2*recall*precision/(recall+precision))\n",
        "\n",
        "  return recall, precision, F1\n",
        "\n",
        "\n",
        "def print_results(prediction, labels_):\n",
        "  TP,FP,FN,TN = get_confusion(prediction, labels_)\n",
        "  recall, precision, F1 = get_score(TP,FP,FN,TN)\n",
        "  print(f\"\\n\\\n",
        "      真實值\\n\\\n",
        "  預  +-----+-----+\\n\\\n",
        "  測| TP: {TP}| FP: {FP}|\\n\\\n",
        "  值| FN: {FN}| TN: {TN}|\\n\\\n",
        "      +-----+-----+ \\n\")\n",
        "\n",
        "  print(f\"{recall=}\\n{precision=}\\n{F1=}\\n\")\n",
        "\n",
        "def create_tab(tabnames):\n",
        "  tb = widgets.TabBar(tabnames)\n",
        "  return tb\n",
        "\n",
        "\n",
        "def display_train(train_info, predict_info_valid, predict_info_train):\n",
        "  t_loss, t_accu, v_loss, v_accu = train_info\n",
        "  predict_list_v, labels_v = predict_info_valid\n",
        "  TP_v,FP_v,FN_v,TN_v = get_confusion(predict_list_v, labels_v)\n",
        "  recall_v, precision_v, F1_v = get_score(TP_v,FP_v,FN_v,TN_v)\n",
        "\n",
        "  predict_list_t, labels_t = predict_info_train\n",
        "  TP_t,FP_t,FN_t,TN_t = get_confusion(predict_list_t, labels_t)\n",
        "  recall_t, precision_t, F1_t = get_score(TP_t,FP_t,FN_t,TN_t)\n",
        "\n",
        "  msg = [f\"Epoch  train_loss  train_accu   valid_loss  valid_accu\",\n",
        "    f\"(valid)recall      precision    F1\",\n",
        "    f\"(train)recall      precision    F1\"]\n",
        "\n",
        "  print('-'*len(msg[0]))\n",
        "  print(msg[0])\n",
        "  print(f\"{epoch:>5d}: {t_loss:<10.8f}  {t_accu:<10.8f}%  {v_loss:<10.8f}  {v_accu:<10.8f}%\")\n",
        "  print(msg[1])\n",
        "  print(f\"       {recall_v:<6.8f}  {precision_v:<11.8f}  {F1_v:<.8f}\")\n",
        "  print(f\"       {TP_v=}  {FP_v=}  {FN_v=}  {TN_v=}\")\n",
        "  print(msg[2])\n",
        "  print(f\"       {recall_t:<6.8f}  {precision_t:<11.8f}  {F1_t:<.8f}\")\n",
        "  print(f\"       {TP_t=}  {FP_t=}  {FN_t=}  {TN_t=}\")\n",
        "  print('-'*len(msg[0]))"
      ],
      "metadata": {
        "id": "1gFEpWQ-X7nc"
      },
      "execution_count": 4,
      "outputs": []
    },
    {
      "cell_type": "markdown",
      "source": [
        "## 數據裁減\n",
        "\n",
        "\n"
      ],
      "metadata": {
        "id": "UsmaGmRwWmxv"
      }
    },
    {
      "cell_type": "code",
      "source": [
        "def argumenting(images, labels, n=5):\n",
        "  \"\"\"\n",
        "  數據增強。\n",
        "  在images裡面把所有有闌尾炎的cut複製給定次數，並\n",
        "  插入回images的隨機位置裡面\n",
        "\n",
        "  Args:\n",
        "    images: 输入的图像数据\n",
        "    labels: 输入的标签数据\n",
        "    n: 每个样本複製多少次\n",
        "\n",
        "  Returns:\n",
        "    增強后的图像数据和标签数据\n",
        "  \"\"\"\n",
        "  where = (labels == True).nonzero(as_tuple=True)[0]\n",
        "  bad_images = images[where]\n",
        "\n",
        "  rep_imgs = bad_images.repeat(n, 1, 1, 1)\n",
        "  rep_labels = torch.ones(rep_imgs.shape[0], dtype=labels.dtype)\n",
        "\n",
        "  # import pdb\n",
        "  # pdb.set_trace()\n",
        "  # 隨機插入argumented圖片\n",
        "  nimg = images.shape[0]\n",
        "  rnd_pos = torch.randint(0, nimg, (rep_imgs.shape[0],))\n",
        "  images = torch.cat((images, rep_imgs), dim=0)\n",
        "  images = images[torch.argsort(torch.cat((torch.arange(nimg), rnd_pos)))]\n",
        "\n",
        "  # 對應對置插入標籤\n",
        "  labels = torch.cat((labels, rep_labels), dim=0)\n",
        "  labels = labels[torch.argsort(torch.cat((torch.arange(nimg), rnd_pos)))]\n",
        "\n",
        "  return images, labels\n",
        "\n",
        "def remove_false_images(images, labels, ratio):\n",
        "    \"\"\"\n",
        "    隨機在images裡面移除一定比例的無闌尾炎cut\n",
        "\n",
        "    Args:\n",
        "      images: 输入的图像数据\n",
        "      labels: 输入的标签数据\n",
        "      ratio: 移除的比例\n",
        "\n",
        "    Returns:\n",
        "      移除后的图像数据和标签数据\n",
        "    \"\"\"\n",
        "    # 找出 labels == 0 的索引\n",
        "    where_false = (labels == 0).nonzero(as_tuple=True)[0]\n",
        "    mask = torch.ones(len(images), dtype=torch.bool)\n",
        "    indices_filter = torch.randperm(len(where_false))[:int(len(where_false)*ratio)]\n",
        "    mask[where_false[indices_filter]] = False\n",
        "    images = images[mask]\n",
        "    labels = labels[mask]\n",
        "\n",
        "    return images, labels\n",
        "\n",
        "def remove_positive_images(images, labels, ratio):\n",
        "    # 找出 labels == 1 的索引\n",
        "    where_positive = (labels == 1).nonzero(as_tuple=True)[0]\n",
        "    mask = torch.ones(len(images), dtype=torch.bool)\n",
        "    indices_filter = torch.randperm(len(where_positive))[:int(len(where_positive)*ratio)]\n",
        "    mask[where_positive[indices_filter]] = False\n",
        "    images = images[mask]\n",
        "    labels = labels[mask]\n",
        "\n",
        "    return images, labels\n",
        "\n",
        "\n",
        "def k_fold_split_indices(num_samples, k=5,shuffle_=True):\n",
        "  \"\"\"返回geneartor for index. 省記憶體\"\"\"\n",
        "  state_ = None\n",
        "  if shuffle_:\n",
        "    state_ = 42\n",
        "  kf = KFold(n_splits=k, shuffle=shuffle_, random_state=state_)\n",
        "  return ((train_index, test_index) for train_index, test_index in kf.split(range(num_samples)))\n",
        "\n",
        "\n",
        "splitpath = r\"/content/drive/MyDrive/AOCR2024/TrainValid_split.csv\"\n",
        "def get_split(splitpath=splitpath):\n",
        "  dfsplit = read_split(splitpath)\n",
        "  train_ids,valid_ids = (dfsplit[dfsplit['group']=='Train'])['id'].tolist(),(dfsplit[dfsplit['group']=='Valid'])['id'].tolist()\n",
        "  train_ids,valid_ids = [train_id +'.nii.gz' for train_id in train_ids], [valid_id +'.nii.gz' for valid_id in valid_ids]\n",
        "  return train_ids,valid_ids"
      ],
      "metadata": {
        "id": "6nLNS0uRWl5X"
      },
      "execution_count": 5,
      "outputs": []
    },
    {
      "cell_type": "markdown",
      "source": [
        "## 數據處理"
      ],
      "metadata": {
        "id": "bxDFwGkyhKtX"
      }
    },
    {
      "cell_type": "markdown",
      "source": [
        "## 其他"
      ],
      "metadata": {
        "id": "BdwzEjFhbR4z"
      }
    },
    {
      "cell_type": "code",
      "execution_count": 6,
      "metadata": {
        "id": "7dmJYugUB_3w"
      },
      "outputs": [],
      "source": [
        "\n",
        "def count_zero(images):\n",
        "  count = 0\n",
        "  for image in images:\n",
        "    if not torch.any(image):\n",
        "      count += 1\n",
        "  return count\n",
        "\n",
        "def cropping(image):\n",
        "  if image.shape[2] != 512:\n",
        "    start = (image.shape[2] - 512) // 2\n",
        "    end = start + 512\n",
        "    image = image[:, :, start:end, :]\n",
        "\n",
        "  if image.shape[3] != 512:\n",
        "    start = (image.shape[3] - 512) // 2\n",
        "    end = start + 512\n",
        "    image = image[:, :, :, start:end]\n",
        "  return image\n",
        "\n",
        "\n",
        "\n",
        "\n",
        "def custom_sort_key(val):\n",
        "    parts = val.split('_')\n",
        "    if len(parts) == 2 and parts[1].isdigit():\n",
        "        return (parts[0], int(parts[1]))\n",
        "    return (parts[0], -1)  # 使沒有_(數字)的id排最前面\n",
        "\n",
        "\n",
        "def isgpu():\n",
        "    \"\"\"檢查是否有 CUDA 支持的 GPU\"\"\"\n",
        "    if torch.cuda.is_available():\n",
        "        device = torch.device(\"cuda\")\n",
        "        print(\"GPU is available\")\n",
        "    else:\n",
        "        device = torch.device(\"cpu\")\n",
        "        # raise(\"GPU not available\")\n",
        "    return device\n"
      ]
    },
    {
      "cell_type": "code",
      "execution_count": 7,
      "metadata": {
        "id": "Ud4x-GeICQxw",
        "colab": {
          "base_uri": "https://localhost:8080/"
        },
        "outputId": "95591efb-cd02-49ea-d350-5418bde47f01"
      },
      "outputs": [
        {
          "output_type": "stream",
          "name": "stdout",
          "text": [
            "GPU is available\n"
          ]
        }
      ],
      "source": [
        "device = isgpu()"
      ]
    },
    {
      "cell_type": "markdown",
      "metadata": {
        "id": "lV66iCZmCrBJ"
      },
      "source": [
        "# 掛載\n"
      ]
    },
    {
      "cell_type": "code",
      "execution_count": 29,
      "metadata": {
        "id": "bKUXzQOdBRFQ",
        "colab": {
          "base_uri": "https://localhost:8080/"
        },
        "outputId": "829ae66e-fb3d-4df0-d889-20538079e7c8"
      },
      "outputs": [
        {
          "output_type": "stream",
          "name": "stdout",
          "text": [
            "Drive already mounted at /content/drive/; to attempt to forcibly remount, call drive.mount(\"/content/drive/\", force_remount=True).\n"
          ]
        }
      ],
      "source": [
        "from google.colab import drive\n",
        "drive.mount('/content/drive/',)"
      ]
    },
    {
      "cell_type": "code",
      "source": [
        "cd /content/"
      ],
      "metadata": {
        "colab": {
          "base_uri": "https://localhost:8080/"
        },
        "id": "0akdyBvSPfiG",
        "outputId": "80172022-6512-4bef-8089-1967670a920d"
      },
      "execution_count": 30,
      "outputs": [
        {
          "output_type": "stream",
          "name": "stdout",
          "text": [
            "/content\n"
          ]
        }
      ]
    },
    {
      "cell_type": "code",
      "source": [
        "!pwd"
      ],
      "metadata": {
        "id": "5qbhdYNrGRxf",
        "colab": {
          "base_uri": "https://localhost:8080/"
        },
        "outputId": "51117268-e9bd-441f-c6df-f655fbbbbedf"
      },
      "execution_count": 31,
      "outputs": [
        {
          "output_type": "stream",
          "name": "stdout",
          "text": [
            "/content\n"
          ]
        }
      ]
    },
    {
      "cell_type": "code",
      "source": [
        "drive_rootdir = \"/content/drive/MyDrive/AOCR2024\"\n",
        "labelpath = '/content/drive/MyDrive/AOCR2024/TrainValidTest2_ground_truth.csv'\n",
        "# datadir =\"Train_Valid_Image\"\n",
        "datadir =\"Cropped_60-316_150-406_11-71/Train_Valid_Image_cropped\"\n"
      ],
      "metadata": {
        "id": "dzzWlsmwlPCZ"
      },
      "execution_count": 32,
      "outputs": []
    },
    {
      "cell_type": "markdown",
      "source": [
        "Use service account to access googledrive"
      ],
      "metadata": {
        "id": "CwxsNMJG9E-V"
      }
    },
    {
      "cell_type": "code",
      "source": [
        "from google.oauth2 import service_account\n",
        "import googleapiclient.discovery\n",
        "\n",
        "# 左側Secret存有private key\n",
        "from google.colab import userdata\n",
        "private_key = userdata.get('private_key')\n",
        "private_key_id = userdata.get('private_key_id')\n",
        "\n",
        "credentials_info = {\n",
        "    \"type\": \"service_account\",\n",
        "    \"project_id\": \"appendicitis-407217\",\n",
        "    \"private_key_id\": private_key_id,\n",
        "    \"private_key\": private_key,\n",
        "    \"client_email\": \"appendix@appendicitis-407217.iam.gserviceaccount.com\",\n",
        "    \"client_id\": \"106423688397478405739\",\n",
        "    \"auth_uri\": \"https://accounts.google.com/o/oauth2/auth\",\n",
        "    \"token_uri\": \"https://oauth2.googleapis.com/token\",\n",
        "    \"auth_provider_x509_cert_url\": \"https://www.googleapis.com/oauth2/v1/certs\",\n",
        "    \"client_x509_cert_url\": \"https://www.googleapis.com/robot/v1/metadata/x509/appendix%40appendicitis-407217.iam.gserviceaccount.com\"\n",
        "}\n",
        "\n",
        "credentials = service_account.Credentials.from_service_account_info(\n",
        "    credentials_info,\n",
        "    scopes=[\"https://www.googleapis.com/auth/drive\"]\n",
        ")\n",
        "\n",
        "# 使用凭证创建Google Drive服务实例\n",
        "service = googleapiclient.discovery.build('drive', 'v3', credentials=credentials)"
      ],
      "metadata": {
        "id": "p46LlGr13crr"
      },
      "execution_count": 33,
      "outputs": []
    },
    {
      "cell_type": "markdown",
      "source": [
        "# 資料下載(非同步)"
      ],
      "metadata": {
        "id": "rnXxst5LARb5"
      }
    },
    {
      "cell_type": "code",
      "source": [
        "from google.auth.transport.requests import Request\n",
        "request = Request()\n",
        "credentials.refresh(request)\n",
        "loop.run_until_complete(get_data_disk_async(drive_rootdir, datadir,token = credentials.token))"
      ],
      "metadata": {
        "id": "lVtVoGK4AL6p",
        "colab": {
          "base_uri": "https://localhost:8080/"
        },
        "outputId": "8795d380-7513-486d-fa06-ab4241689cd4"
      },
      "execution_count": 13,
      "outputs": [
        {
          "output_type": "stream",
          "name": "stdout",
          "text": [
            "making Cropped_60-316_150-406_11-71/Train_Valid_Image_cropped dir...\n"
          ]
        },
        {
          "output_type": "stream",
          "name": "stderr",
          "text": [
            "100%|██████████| 1000/1000 [00:43<00:00, 22.79it/s]\n"
          ]
        }
      ]
    },
    {
      "cell_type": "code",
      "source": [
        "!curl ipecho.net/plain"
      ],
      "metadata": {
        "id": "M0o3a7eXiV7b",
        "colab": {
          "base_uri": "https://localhost:8080/"
        },
        "outputId": "0c13c22b-1dce-4fd9-eaee-dd4960251876"
      },
      "execution_count": 14,
      "outputs": [
        {
          "output_type": "stream",
          "name": "stdout",
          "text": [
            "34.69.40.140"
          ]
        }
      ]
    },
    {
      "cell_type": "code",
      "source": [
        "len(os.listdir(datadir))"
      ],
      "metadata": {
        "id": "xXH5tN8Jq4Vn",
        "colab": {
          "base_uri": "https://localhost:8080/"
        },
        "outputId": "a1651f5f-8f75-408a-9355-6218da18c7ca"
      },
      "execution_count": 15,
      "outputs": [
        {
          "output_type": "execute_result",
          "data": {
            "text/plain": [
              "1000"
            ]
          },
          "metadata": {},
          "execution_count": 15
        }
      ]
    },
    {
      "cell_type": "markdown",
      "source": [
        "## 下載測試資料\n"
      ],
      "metadata": {
        "id": "YIMoEupxVJzs"
      }
    },
    {
      "cell_type": "code",
      "source": [
        "testdir = \"Cropped_60-316_150-406_11-71/Test2_Image_cropped\"\n",
        "from google.auth.transport.requests import Request\n",
        "request = Request()\n",
        "credentials.refresh(request)\n",
        "loop.run_until_complete(get_data_disk_async(drive_rootdir, testdir,token = credentials.token))\n"
      ],
      "metadata": {
        "colab": {
          "base_uri": "https://localhost:8080/"
        },
        "id": "zII29FoMVJGM",
        "outputId": "04a9738c-946e-4226-dbed-f377585755e9"
      },
      "execution_count": 23,
      "outputs": [
        {
          "output_type": "stream",
          "name": "stdout",
          "text": [
            "making Cropped_60-316_150-406_11-71/Test2_Image_cropped dir...\n"
          ]
        },
        {
          "output_type": "stream",
          "name": "stderr",
          "text": [
            "100%|██████████| 200/200 [00:09<00:00, 20.35it/s]\n"
          ]
        }
      ]
    },
    {
      "cell_type": "code",
      "source": [
        "len(os.listdir(testdir))"
      ],
      "metadata": {
        "colab": {
          "base_uri": "https://localhost:8080/"
        },
        "id": "GHbng809Vqwl",
        "outputId": "6dcae37b-aa02-460a-a784-49c77f85af57"
      },
      "execution_count": 25,
      "outputs": [
        {
          "output_type": "execute_result",
          "data": {
            "text/plain": [
              "200"
            ]
          },
          "metadata": {},
          "execution_count": 25
        }
      ]
    },
    {
      "cell_type": "markdown",
      "source": [
        "# Dataset/Model"
      ],
      "metadata": {
        "id": "mei5EcNldUJr"
      }
    },
    {
      "cell_type": "code",
      "source": [
        "import copy\n",
        "\n",
        "class CustomDataset(Dataset):\n",
        "    def __init__(self, images, labels, mode='train', transform=None):\n",
        "        self.images = images\n",
        "        self.labels = labels\n",
        "        self.mode = mode\n",
        "        self.transform = transform\n",
        "\n",
        "\n",
        "    def __len__(self):\n",
        "        return len(self.images)\n",
        "\n",
        "    def __getitem__(self, idx):\n",
        "      image = self.images[idx]\n",
        "      if self.transform:\n",
        "        image = self.transform(self.images[idx])\n",
        "\n",
        "      if self.mode in ['train', 'valid']:\n",
        "          return image, self.labels[idx]\n",
        "      elif self.mode == 'test':\n",
        "          return image"
      ],
      "metadata": {
        "id": "65xrLIRzdMpE"
      },
      "execution_count": 13,
      "outputs": []
    },
    {
      "cell_type": "markdown",
      "source": [
        "## helper"
      ],
      "metadata": {
        "id": "Y0FW7UWHjAyw"
      }
    },
    {
      "cell_type": "code",
      "source": [
        "def train(loader, model_, optimizer, criterion, threshold, device):\n",
        "  \"\"\"模型輸出值超過threshold當作陽性\"\"\"\n",
        "  model_.train()\n",
        "  running_loss = 0.0\n",
        "  correct_count = 0\n",
        "  total_count = 0\n",
        "  predict_list_ = torch.tensor(()).to(device)\n",
        "  labels_ = torch.tensor(()).to(device)\n",
        "\n",
        "  for batch_images, batch_labels in loader:\n",
        "      batch_images, batch_labels = batch_images.to(device), batch_labels.to(device)\n",
        "      optimizer.zero_grad()\n",
        "      outputs = model_(batch_images).squeeze()\n",
        "      predicted_t = (outputs > threshold).int()\n",
        "      loss = criterion(outputs, batch_labels)\n",
        "      loss.backward()\n",
        "      optimizer.step()\n",
        "\n",
        "      running_loss += loss.item()\n",
        "      total_count += batch_labels.size(0)\n",
        "      correct_count += (predicted_t == batch_labels).sum().item()\n",
        "      predict_list_ = torch.concat((predict_list_, predicted_t), 0)\n",
        "      labels_ = torch.concat((labels_, batch_labels), 0)\n",
        "\n",
        "\n",
        "  epoch_loss = running_loss / len(loader)\n",
        "  epoch_accuracy = 100 * correct_count / total_count\n",
        "\n",
        "  return epoch_loss, epoch_accuracy, predict_list_, labels_\n",
        "\n",
        "\n",
        "\n",
        "def valid(loader, model_, criterion, threshold, device):\n",
        "  \"\"\"模型輸出值超過threshold當作陽性\"\"\"\n",
        "  model_.eval()\n",
        "  testing_loss = 0.0\n",
        "  correct = 0\n",
        "  total = 0\n",
        "  predict_list_ = torch.tensor(()).to(device)\n",
        "  labels_ = torch.tensor(()).to(device)\n",
        "\n",
        "  with torch.no_grad():\n",
        "      for i, (batch_images, batch_labels) in enumerate(loader):\n",
        "          batch_images, batch_labels = batch_images.to(device), batch_labels.to(device)\n",
        "          outputs = model_(batch_images).squeeze()\n",
        "          predicted_v = (outputs > threshold).int()\n",
        "          loss = criterion(outputs, batch_labels)\n",
        "\n",
        "          testing_loss += loss.item() #單個batch平均loss\n",
        "          bsize = batch_labels.size(0)\n",
        "          total += bsize\n",
        "          correct += (predicted_v == batch_labels).sum().item()\n",
        "          predict_list_ = torch.concat((predict_list_, predicted_v), 0)\n",
        "          labels_ = torch.concat((labels_, batch_labels), 0)\n",
        "\n",
        "  valid_loss = testing_loss / len(loader) #單個epoch平均loss\n",
        "  valid_accuracy = 100 * correct / total\n",
        "\n",
        "  return valid_loss, valid_accuracy, predict_list_, labels_\n",
        "\n",
        "\n"
      ],
      "metadata": {
        "id": "FA_Fqv_Ex4K_"
      },
      "execution_count": 14,
      "outputs": []
    },
    {
      "cell_type": "code",
      "source": [
        "class ModelError(Exception):\n",
        "    def __init__(self, message):\n",
        "        super().__init__(message)"
      ],
      "metadata": {
        "id": "IKgx6hYL_4LG"
      },
      "execution_count": 15,
      "outputs": []
    },
    {
      "cell_type": "code",
      "source": [
        "# del model_name"
      ],
      "metadata": {
        "id": "Rk-Jw0TwcKG3"
      },
      "execution_count": 16,
      "outputs": []
    },
    {
      "cell_type": "markdown",
      "source": [
        "# Deleting model"
      ],
      "metadata": {
        "id": "U8NyieE5k5Rm"
      }
    },
    {
      "cell_type": "code",
      "source": [
        "del model_name"
      ],
      "metadata": {
        "id": "bWarSJJG59Xz"
      },
      "execution_count": 53,
      "outputs": []
    },
    {
      "cell_type": "markdown",
      "source": [
        "# Unet(with/without) decoder"
      ],
      "metadata": {
        "id": "5Q4bQ1pkDyWY"
      }
    },
    {
      "cell_type": "code",
      "source": [
        "model_name_temp = \"unet_without_decoder\"\n",
        "\n",
        "if 'model_name' in globals():\n",
        "  if (model_name != model_name_temp):\n",
        "    raise ModelError('已經初始化其他model了')\n",
        "else:\n",
        "  model_name = model_name_temp\n",
        "\n",
        "\n",
        "# class UNet(nn.Module):\n",
        "#     def __init__(self, in_channels=1, out_channels=1):\n",
        "#         super(UNet, self).__init__()\n",
        "#         self.inc = DoubleConv(in_channels, 64)\n",
        "#         self.down1 = DoubleConv(64, 128)\n",
        "#         self.down2 = DoubleConv(128, 256)\n",
        "#         self.down3 = DoubleConv(256, 512)\n",
        "#         self.down4 = DoubleConv(512, 512)\n",
        "#         self.up1 = DoubleConv(1024, 256)\n",
        "#         self.up2 = DoubleConv(512, 128)\n",
        "#         self.up3 = DoubleConv(256, 64)\n",
        "#         self.up4 = DoubleConv(128, 64)\n",
        "#         self.outc = nn.Conv2d(64, out_channels, kernel_size=1)\n",
        "#         self.avgpool = nn.AdaptiveAvgPool2d(1)  # 添加全局平均池化层\n",
        "#         self.sigmoid = nn.Sigmoid()  # 添加 Sigmoid 激活函数\n",
        "\n",
        "#     def forward(self, x):\n",
        "#         x1 = self.inc(x)\n",
        "#         x2 = self.down1(nn.MaxPool2d(2)(x1))\n",
        "#         x3 = self.down2(nn.MaxPool2d(2)(x2))\n",
        "#         x4 = self.down3(nn.MaxPool2d(2)(x3))\n",
        "#         x5 = self.down4(nn.MaxPool2d(2)(x4))\n",
        "#         x = self.up1(torch.cat([nn.Upsample(scale_factor=2)(x5), x4], dim=1))\n",
        "#         x = self.up2(torch.cat([nn.Upsample(scale_factor=2)(x), x3], dim=1))\n",
        "#         x = self.up3(torch.cat([nn.Upsample(scale_factor=2)(x), x2], dim=1))\n",
        "#         x = self.up4(torch.cat([nn.Upsample(scale_factor=2)(x), x1], dim=1))\n",
        "#         x = self.outc(x)\n",
        "#         x = self.avgpool(x)  # 应用全局平均池化\n",
        "#         x = torch.flatten(x, 1)  # 展平\n",
        "#         x = self.sigmoid(x)  # 应用 Sigmoid 激活函数\n",
        "#         return x\n",
        "\n",
        "\n",
        "## 沒有decoder的\n",
        "class DoubleConv(nn.Module):\n",
        "    \"\"\"(convolution => [BN] => ReLU) * 2\"\"\"\n",
        "\n",
        "    def __init__(self, in_channels, out_channels, mid_channels=None):\n",
        "        super().__init__()\n",
        "        if not mid_channels:\n",
        "            mid_channels = out_channels\n",
        "        self.double_conv = nn.Sequential(\n",
        "            nn.Conv2d(in_channels, mid_channels, kernel_size=3, padding=1),\n",
        "            nn.BatchNorm2d(mid_channels),\n",
        "            nn.ReLU(inplace=True),\n",
        "            nn.Conv2d(mid_channels, out_channels, kernel_size=3, padding=1),\n",
        "            nn.BatchNorm2d(out_channels),\n",
        "            nn.ReLU(inplace=True)\n",
        "        )\n",
        "\n",
        "    def forward(self, x):\n",
        "        return self.double_conv(x)\n",
        "\n",
        "class UNet(nn.Module):\n",
        "    def __init__(self, in_channels=1, out_channels=1):\n",
        "        super(UNet, self).__init__()\n",
        "        self.inc = DoubleConv(in_channels, 64)\n",
        "        self.down1 = DoubleConv(64, 128)\n",
        "        self.down2 = DoubleConv(128, 256)\n",
        "        self.down3 = DoubleConv(256, 512)\n",
        "        self.down4 = DoubleConv(512, 512)\n",
        "\n",
        "        self.avgpool = nn.AdaptiveAvgPool2d(1)  # 添加全局平均池化层\n",
        "        self.fc = nn.Linear(512, out_channels)  # 添加全连接层\n",
        "        self.sigmoid = nn.Sigmoid()  # 添加 Sigmoid 激活函数\n",
        "\n",
        "    def forward(self, x):\n",
        "        x = self.inc(x)\n",
        "        x = self.down1(nn.MaxPool2d(2)(x))\n",
        "        x = self.down2(nn.MaxPool2d(2)(x))\n",
        "        x = self.down3(nn.MaxPool2d(2)(x))\n",
        "        x = self.down4(nn.MaxPool2d(2)(x))\n",
        "\n",
        "        x = self.avgpool(x)  # 应用全局平均池化\n",
        "        x = torch.flatten(x, 1)  # 展平\n",
        "        x = self.fc(x)  # 应用全连接层\n",
        "        x = self.sigmoid(x)  # 应用 Sigmoid 激活函数\n",
        "        return x\n",
        "\n",
        "# 创建 U-Net 模型实例\n",
        "unet_model = UNet(in_channels=1, out_channels=1)"
      ],
      "metadata": {
        "id": "2OTcf0RADr-w"
      },
      "execution_count": 22,
      "outputs": []
    },
    {
      "cell_type": "markdown",
      "source": [
        "# 三層Unet(with/without) decoder"
      ],
      "metadata": {
        "id": "x8RWYhU03A7a"
      }
    },
    {
      "cell_type": "code",
      "source": [
        "model_name_temp = \"unet_without_decoder\"\n",
        "\n",
        "if 'model_name' in globals():\n",
        "  if (model_name != model_name_temp):\n",
        "    raise ModelError('已經初始化其他model了')\n",
        "else:\n",
        "  model_name = model_name_temp\n",
        "\n",
        "\n",
        "# class UNet(nn.Module):\n",
        "#     def __init__(self, in_channels=1, out_channels=1):\n",
        "#         super(UNet, self).__init__()\n",
        "#         self.inc = DoubleConv(in_channels, 64)\n",
        "#         self.down1 = DoubleConv(64, 128)\n",
        "#         self.down2 = DoubleConv(128, 256)\n",
        "#         self.down3 = DoubleConv(256, 512)\n",
        "#         self.down4 = DoubleConv(512, 512)\n",
        "#         self.up1 = DoubleConv(1024, 256)\n",
        "#         self.up2 = DoubleConv(512, 128)\n",
        "#         self.up3 = DoubleConv(256, 64)\n",
        "#         self.up4 = DoubleConv(128, 64)\n",
        "#         self.outc = nn.Conv2d(64, out_channels, kernel_size=1)\n",
        "#         self.avgpool = nn.AdaptiveAvgPool2d(1)  # 添加全局平均池化层\n",
        "#         self.sigmoid = nn.Sigmoid()  # 添加 Sigmoid 激活函数\n",
        "\n",
        "#     def forward(self, x):\n",
        "#         x1 = self.inc(x)\n",
        "#         x2 = self.down1(nn.MaxPool2d(2)(x1))\n",
        "#         x3 = self.down2(nn.MaxPool2d(2)(x2))\n",
        "#         x4 = self.down3(nn.MaxPool2d(2)(x3))\n",
        "#         x5 = self.down4(nn.MaxPool2d(2)(x4))\n",
        "#         x = self.up1(torch.cat([nn.Upsample(scale_factor=2)(x5), x4], dim=1))\n",
        "#         x = self.up2(torch.cat([nn.Upsample(scale_factor=2)(x), x3], dim=1))\n",
        "#         x = self.up3(torch.cat([nn.Upsample(scale_factor=2)(x), x2], dim=1))\n",
        "#         x = self.up4(torch.cat([nn.Upsample(scale_factor=2)(x), x1], dim=1))\n",
        "#         x = self.outc(x)\n",
        "#         x = self.avgpool(x)  # 应用全局平均池化\n",
        "#         x = torch.flatten(x, 1)  # 展平\n",
        "#         x = self.sigmoid(x)  # 应用 Sigmoid 激活函数\n",
        "#         return x\n",
        "\n",
        "\n",
        "## 沒有decoder的\n",
        "class DoubleConv(nn.Module):\n",
        "    \"\"\"(convolution => [BN] => ReLU) * 2\"\"\"\n",
        "\n",
        "    def __init__(self, in_channels, out_channels, mid_channels=None):\n",
        "        super().__init__()\n",
        "        if not mid_channels:\n",
        "            mid_channels = out_channels\n",
        "        self.double_conv = nn.Sequential(\n",
        "            nn.Conv2d(in_channels, mid_channels, kernel_size=5, padding=1),\n",
        "            nn.BatchNorm2d(mid_channels),\n",
        "            nn.ReLU(inplace=True),\n",
        "            nn.Conv2d(mid_channels, out_channels, kernel_size=5, padding=1),\n",
        "            nn.BatchNorm2d(out_channels),\n",
        "            nn.ReLU(inplace=True)\n",
        "        )\n",
        "\n",
        "    def forward(self, x):\n",
        "        return self.double_conv(x)\n",
        "\n",
        "class UNet(nn.Module):\n",
        "    def __init__(self, in_channels=1, out_channels=1):\n",
        "        super(UNet, self).__init__()\n",
        "        self.inc = DoubleConv(in_channels, 64)\n",
        "        self.down1 = DoubleConv(64, 128)\n",
        "        self.down2 = DoubleConv(128, 512)\n",
        "        # self.down3 = DoubleConv(256, 512)\n",
        "        # self.down4 = DoubleConv(512, 512)\n",
        "\n",
        "        self.avgpool = nn.AdaptiveAvgPool2d(1)  # 添加全局平均池化层\n",
        "        self.fc = nn.Linear(512, out_channels)  # 添加全连接层\n",
        "        self.sigmoid = nn.Sigmoid()  # 添加 Sigmoid 激活函数\n",
        "\n",
        "    def forward(self, x):\n",
        "        x = self.inc(x)\n",
        "        x = self.down1(nn.MaxPool2d(2)(x))\n",
        "        x = self.down2(nn.MaxPool2d(2)(x))\n",
        "        # x = self.down3(nn.MaxPool2d(2)(x))\n",
        "        # x = self.down4(nn.MaxPool2d(2)(x))\n",
        "\n",
        "        x = self.avgpool(x)  # 应用全局平均池化\n",
        "        x = torch.flatten(x, 1)  # 展平\n",
        "        x = self.fc(x)  # 应用全连接层\n",
        "        x = self.sigmoid(x)  # 应用 Sigmoid 激活函数\n",
        "        return x\n",
        "\n",
        "# 创建 U-Net 模型实例\n",
        "unet_model = UNet(in_channels=1, out_channels=1)"
      ],
      "metadata": {
        "id": "rgsobOz22_yN"
      },
      "execution_count": null,
      "outputs": []
    },
    {
      "cell_type": "markdown",
      "source": [
        "# EfficiencyNetV2_s\n"
      ],
      "metadata": {
        "id": "I7XRbTugDsrY"
      }
    },
    {
      "cell_type": "code",
      "source": [
        "model_name_temp = \"tf_efficientnetv2_s\"\n",
        "\n",
        "if 'model_name' in globals():\n",
        "  if (model_name != model_name_temp):\n",
        "    raise ModelError(f'已經初始化其他model了： {model_name}')\n",
        "else:\n",
        "  model_name = model_name_temp\n",
        "\n",
        "\n",
        "pretrained_model = timm.create_model(model_name, pretrained=True)\n",
        "\n",
        "# 修改輸入通道\n",
        "pretrained_model.conv_stem = nn.Conv2d(1, 24, kernel_size=3, stride=2, padding=1, bias=False)\n",
        "\n",
        "# 修改輸出類別\n",
        "num_classes = 1\n",
        "pretrained_model.classifier = nn.Linear(pretrained_model.classifier.in_features, num_classes)\n",
        "\n",
        "# # 修改 global_pool 層\n",
        "# if hasattr(pretrained_model, 'global_pool'):\n",
        "#     # 使用 AdaptiveMaxPool2d 替代 SelectAdaptivePool2d\n",
        "#     pretrained_model.global_pool = nn.Sequential(\n",
        "#         nn.AdaptiveMaxPool2d(1),\n",
        "#         nn.Flatten(start_dim=1, end_dim=-1)\n",
        "#     )\n",
        "# else:\n",
        "#     raise AttributeError(\"Global pooling layer not found in the model\")\n",
        "\n",
        "# 添加 Sigmoid 激活函數\n",
        "pretrained_model = nn.Sequential(\n",
        "    pretrained_model,\n",
        "    nn.Sigmoid()\n",
        ")\n",
        "\n",
        "\n",
        "# 檢查模型結構\n",
        "print(pretrained_model)\n",
        "\n",
        "\n"
      ],
      "metadata": {
        "id": "jZ0cSVS51BHz",
        "colab": {
          "base_uri": "https://localhost:8080/",
          "height": 1000,
          "referenced_widgets": [
            "c422512041a14bf3bf75c2da16702587",
            "4617aad21ecc4789ab2685a9a0232933",
            "f4113f300964419ba74f8ee52b3532d8",
            "6879c72172db465491d3f863e763c048",
            "bb56cf8a44044e44affaaffda04c3f75",
            "031ae41a6c14470d801d20aeb4eb0c24",
            "fa0c3a3e951847db9efc5213da4752cd",
            "a19c4d2cc3074dcaa1ec7cbe3b1fd0fa",
            "ee9c1a1cd8364b7885f6892ba6a4e763",
            "2cb88fc5218a4c2bbbcd192b78bf0e30",
            "34dba9ff20e549b8938edbf489264a96"
          ]
        },
        "outputId": "c7f67a0e-33ee-4b00-8a2a-0ad3f3ded5b8"
      },
      "execution_count": null,
      "outputs": [
        {
          "output_type": "stream",
          "name": "stderr",
          "text": [
            "/usr/local/lib/python3.10/dist-packages/huggingface_hub/utils/_token.py:88: UserWarning: \n",
            "The secret `HF_TOKEN` does not exist in your Colab secrets.\n",
            "To authenticate with the Hugging Face Hub, create a token in your settings tab (https://huggingface.co/settings/tokens), set it as secret in your Google Colab and restart your session.\n",
            "You will be able to reuse this secret in all of your notebooks.\n",
            "Please note that authentication is recommended but still optional to access public models or datasets.\n",
            "  warnings.warn(\n"
          ]
        },
        {
          "output_type": "display_data",
          "data": {
            "text/plain": [
              "model.safetensors:   0%|          | 0.00/86.5M [00:00<?, ?B/s]"
            ],
            "application/vnd.jupyter.widget-view+json": {
              "version_major": 2,
              "version_minor": 0,
              "model_id": "c422512041a14bf3bf75c2da16702587"
            }
          },
          "metadata": {}
        },
        {
          "output_type": "stream",
          "name": "stdout",
          "text": [
            "Sequential(\n",
            "  (0): EfficientNet(\n",
            "    (conv_stem): Conv2d(1, 24, kernel_size=(3, 3), stride=(2, 2), padding=(1, 1), bias=False)\n",
            "    (bn1): BatchNormAct2d(\n",
            "      24, eps=0.001, momentum=0.1, affine=True, track_running_stats=True\n",
            "      (drop): Identity()\n",
            "      (act): SiLU(inplace=True)\n",
            "    )\n",
            "    (blocks): Sequential(\n",
            "      (0): Sequential(\n",
            "        (0): ConvBnAct(\n",
            "          (conv): Conv2d(24, 24, kernel_size=(3, 3), stride=(1, 1), padding=(1, 1), bias=False)\n",
            "          (bn1): BatchNormAct2d(\n",
            "            24, eps=0.001, momentum=0.1, affine=True, track_running_stats=True\n",
            "            (drop): Identity()\n",
            "            (act): SiLU(inplace=True)\n",
            "          )\n",
            "          (drop_path): Identity()\n",
            "        )\n",
            "        (1): ConvBnAct(\n",
            "          (conv): Conv2d(24, 24, kernel_size=(3, 3), stride=(1, 1), padding=(1, 1), bias=False)\n",
            "          (bn1): BatchNormAct2d(\n",
            "            24, eps=0.001, momentum=0.1, affine=True, track_running_stats=True\n",
            "            (drop): Identity()\n",
            "            (act): SiLU(inplace=True)\n",
            "          )\n",
            "          (drop_path): Identity()\n",
            "        )\n",
            "      )\n",
            "      (1): Sequential(\n",
            "        (0): EdgeResidual(\n",
            "          (conv_exp): Conv2dSame(24, 96, kernel_size=(3, 3), stride=(2, 2), bias=False)\n",
            "          (bn1): BatchNormAct2d(\n",
            "            96, eps=0.001, momentum=0.1, affine=True, track_running_stats=True\n",
            "            (drop): Identity()\n",
            "            (act): SiLU(inplace=True)\n",
            "          )\n",
            "          (se): Identity()\n",
            "          (conv_pwl): Conv2d(96, 48, kernel_size=(1, 1), stride=(1, 1), bias=False)\n",
            "          (bn2): BatchNormAct2d(\n",
            "            48, eps=0.001, momentum=0.1, affine=True, track_running_stats=True\n",
            "            (drop): Identity()\n",
            "            (act): Identity()\n",
            "          )\n",
            "          (drop_path): Identity()\n",
            "        )\n",
            "        (1): EdgeResidual(\n",
            "          (conv_exp): Conv2d(48, 192, kernel_size=(3, 3), stride=(1, 1), padding=(1, 1), bias=False)\n",
            "          (bn1): BatchNormAct2d(\n",
            "            192, eps=0.001, momentum=0.1, affine=True, track_running_stats=True\n",
            "            (drop): Identity()\n",
            "            (act): SiLU(inplace=True)\n",
            "          )\n",
            "          (se): Identity()\n",
            "          (conv_pwl): Conv2d(192, 48, kernel_size=(1, 1), stride=(1, 1), bias=False)\n",
            "          (bn2): BatchNormAct2d(\n",
            "            48, eps=0.001, momentum=0.1, affine=True, track_running_stats=True\n",
            "            (drop): Identity()\n",
            "            (act): Identity()\n",
            "          )\n",
            "          (drop_path): Identity()\n",
            "        )\n",
            "        (2): EdgeResidual(\n",
            "          (conv_exp): Conv2d(48, 192, kernel_size=(3, 3), stride=(1, 1), padding=(1, 1), bias=False)\n",
            "          (bn1): BatchNormAct2d(\n",
            "            192, eps=0.001, momentum=0.1, affine=True, track_running_stats=True\n",
            "            (drop): Identity()\n",
            "            (act): SiLU(inplace=True)\n",
            "          )\n",
            "          (se): Identity()\n",
            "          (conv_pwl): Conv2d(192, 48, kernel_size=(1, 1), stride=(1, 1), bias=False)\n",
            "          (bn2): BatchNormAct2d(\n",
            "            48, eps=0.001, momentum=0.1, affine=True, track_running_stats=True\n",
            "            (drop): Identity()\n",
            "            (act): Identity()\n",
            "          )\n",
            "          (drop_path): Identity()\n",
            "        )\n",
            "        (3): EdgeResidual(\n",
            "          (conv_exp): Conv2d(48, 192, kernel_size=(3, 3), stride=(1, 1), padding=(1, 1), bias=False)\n",
            "          (bn1): BatchNormAct2d(\n",
            "            192, eps=0.001, momentum=0.1, affine=True, track_running_stats=True\n",
            "            (drop): Identity()\n",
            "            (act): SiLU(inplace=True)\n",
            "          )\n",
            "          (se): Identity()\n",
            "          (conv_pwl): Conv2d(192, 48, kernel_size=(1, 1), stride=(1, 1), bias=False)\n",
            "          (bn2): BatchNormAct2d(\n",
            "            48, eps=0.001, momentum=0.1, affine=True, track_running_stats=True\n",
            "            (drop): Identity()\n",
            "            (act): Identity()\n",
            "          )\n",
            "          (drop_path): Identity()\n",
            "        )\n",
            "      )\n",
            "      (2): Sequential(\n",
            "        (0): EdgeResidual(\n",
            "          (conv_exp): Conv2dSame(48, 192, kernel_size=(3, 3), stride=(2, 2), bias=False)\n",
            "          (bn1): BatchNormAct2d(\n",
            "            192, eps=0.001, momentum=0.1, affine=True, track_running_stats=True\n",
            "            (drop): Identity()\n",
            "            (act): SiLU(inplace=True)\n",
            "          )\n",
            "          (se): Identity()\n",
            "          (conv_pwl): Conv2d(192, 64, kernel_size=(1, 1), stride=(1, 1), bias=False)\n",
            "          (bn2): BatchNormAct2d(\n",
            "            64, eps=0.001, momentum=0.1, affine=True, track_running_stats=True\n",
            "            (drop): Identity()\n",
            "            (act): Identity()\n",
            "          )\n",
            "          (drop_path): Identity()\n",
            "        )\n",
            "        (1): EdgeResidual(\n",
            "          (conv_exp): Conv2d(64, 256, kernel_size=(3, 3), stride=(1, 1), padding=(1, 1), bias=False)\n",
            "          (bn1): BatchNormAct2d(\n",
            "            256, eps=0.001, momentum=0.1, affine=True, track_running_stats=True\n",
            "            (drop): Identity()\n",
            "            (act): SiLU(inplace=True)\n",
            "          )\n",
            "          (se): Identity()\n",
            "          (conv_pwl): Conv2d(256, 64, kernel_size=(1, 1), stride=(1, 1), bias=False)\n",
            "          (bn2): BatchNormAct2d(\n",
            "            64, eps=0.001, momentum=0.1, affine=True, track_running_stats=True\n",
            "            (drop): Identity()\n",
            "            (act): Identity()\n",
            "          )\n",
            "          (drop_path): Identity()\n",
            "        )\n",
            "        (2): EdgeResidual(\n",
            "          (conv_exp): Conv2d(64, 256, kernel_size=(3, 3), stride=(1, 1), padding=(1, 1), bias=False)\n",
            "          (bn1): BatchNormAct2d(\n",
            "            256, eps=0.001, momentum=0.1, affine=True, track_running_stats=True\n",
            "            (drop): Identity()\n",
            "            (act): SiLU(inplace=True)\n",
            "          )\n",
            "          (se): Identity()\n",
            "          (conv_pwl): Conv2d(256, 64, kernel_size=(1, 1), stride=(1, 1), bias=False)\n",
            "          (bn2): BatchNormAct2d(\n",
            "            64, eps=0.001, momentum=0.1, affine=True, track_running_stats=True\n",
            "            (drop): Identity()\n",
            "            (act): Identity()\n",
            "          )\n",
            "          (drop_path): Identity()\n",
            "        )\n",
            "        (3): EdgeResidual(\n",
            "          (conv_exp): Conv2d(64, 256, kernel_size=(3, 3), stride=(1, 1), padding=(1, 1), bias=False)\n",
            "          (bn1): BatchNormAct2d(\n",
            "            256, eps=0.001, momentum=0.1, affine=True, track_running_stats=True\n",
            "            (drop): Identity()\n",
            "            (act): SiLU(inplace=True)\n",
            "          )\n",
            "          (se): Identity()\n",
            "          (conv_pwl): Conv2d(256, 64, kernel_size=(1, 1), stride=(1, 1), bias=False)\n",
            "          (bn2): BatchNormAct2d(\n",
            "            64, eps=0.001, momentum=0.1, affine=True, track_running_stats=True\n",
            "            (drop): Identity()\n",
            "            (act): Identity()\n",
            "          )\n",
            "          (drop_path): Identity()\n",
            "        )\n",
            "      )\n",
            "      (3): Sequential(\n",
            "        (0): InvertedResidual(\n",
            "          (conv_pw): Conv2d(64, 256, kernel_size=(1, 1), stride=(1, 1), bias=False)\n",
            "          (bn1): BatchNormAct2d(\n",
            "            256, eps=0.001, momentum=0.1, affine=True, track_running_stats=True\n",
            "            (drop): Identity()\n",
            "            (act): SiLU(inplace=True)\n",
            "          )\n",
            "          (conv_dw): Conv2dSame(256, 256, kernel_size=(3, 3), stride=(2, 2), groups=256, bias=False)\n",
            "          (bn2): BatchNormAct2d(\n",
            "            256, eps=0.001, momentum=0.1, affine=True, track_running_stats=True\n",
            "            (drop): Identity()\n",
            "            (act): SiLU(inplace=True)\n",
            "          )\n",
            "          (se): SqueezeExcite(\n",
            "            (conv_reduce): Conv2d(256, 16, kernel_size=(1, 1), stride=(1, 1))\n",
            "            (act1): SiLU(inplace=True)\n",
            "            (conv_expand): Conv2d(16, 256, kernel_size=(1, 1), stride=(1, 1))\n",
            "            (gate): Sigmoid()\n",
            "          )\n",
            "          (conv_pwl): Conv2d(256, 128, kernel_size=(1, 1), stride=(1, 1), bias=False)\n",
            "          (bn3): BatchNormAct2d(\n",
            "            128, eps=0.001, momentum=0.1, affine=True, track_running_stats=True\n",
            "            (drop): Identity()\n",
            "            (act): Identity()\n",
            "          )\n",
            "          (drop_path): Identity()\n",
            "        )\n",
            "        (1): InvertedResidual(\n",
            "          (conv_pw): Conv2d(128, 512, kernel_size=(1, 1), stride=(1, 1), bias=False)\n",
            "          (bn1): BatchNormAct2d(\n",
            "            512, eps=0.001, momentum=0.1, affine=True, track_running_stats=True\n",
            "            (drop): Identity()\n",
            "            (act): SiLU(inplace=True)\n",
            "          )\n",
            "          (conv_dw): Conv2d(512, 512, kernel_size=(3, 3), stride=(1, 1), padding=(1, 1), groups=512, bias=False)\n",
            "          (bn2): BatchNormAct2d(\n",
            "            512, eps=0.001, momentum=0.1, affine=True, track_running_stats=True\n",
            "            (drop): Identity()\n",
            "            (act): SiLU(inplace=True)\n",
            "          )\n",
            "          (se): SqueezeExcite(\n",
            "            (conv_reduce): Conv2d(512, 32, kernel_size=(1, 1), stride=(1, 1))\n",
            "            (act1): SiLU(inplace=True)\n",
            "            (conv_expand): Conv2d(32, 512, kernel_size=(1, 1), stride=(1, 1))\n",
            "            (gate): Sigmoid()\n",
            "          )\n",
            "          (conv_pwl): Conv2d(512, 128, kernel_size=(1, 1), stride=(1, 1), bias=False)\n",
            "          (bn3): BatchNormAct2d(\n",
            "            128, eps=0.001, momentum=0.1, affine=True, track_running_stats=True\n",
            "            (drop): Identity()\n",
            "            (act): Identity()\n",
            "          )\n",
            "          (drop_path): Identity()\n",
            "        )\n",
            "        (2): InvertedResidual(\n",
            "          (conv_pw): Conv2d(128, 512, kernel_size=(1, 1), stride=(1, 1), bias=False)\n",
            "          (bn1): BatchNormAct2d(\n",
            "            512, eps=0.001, momentum=0.1, affine=True, track_running_stats=True\n",
            "            (drop): Identity()\n",
            "            (act): SiLU(inplace=True)\n",
            "          )\n",
            "          (conv_dw): Conv2d(512, 512, kernel_size=(3, 3), stride=(1, 1), padding=(1, 1), groups=512, bias=False)\n",
            "          (bn2): BatchNormAct2d(\n",
            "            512, eps=0.001, momentum=0.1, affine=True, track_running_stats=True\n",
            "            (drop): Identity()\n",
            "            (act): SiLU(inplace=True)\n",
            "          )\n",
            "          (se): SqueezeExcite(\n",
            "            (conv_reduce): Conv2d(512, 32, kernel_size=(1, 1), stride=(1, 1))\n",
            "            (act1): SiLU(inplace=True)\n",
            "            (conv_expand): Conv2d(32, 512, kernel_size=(1, 1), stride=(1, 1))\n",
            "            (gate): Sigmoid()\n",
            "          )\n",
            "          (conv_pwl): Conv2d(512, 128, kernel_size=(1, 1), stride=(1, 1), bias=False)\n",
            "          (bn3): BatchNormAct2d(\n",
            "            128, eps=0.001, momentum=0.1, affine=True, track_running_stats=True\n",
            "            (drop): Identity()\n",
            "            (act): Identity()\n",
            "          )\n",
            "          (drop_path): Identity()\n",
            "        )\n",
            "        (3): InvertedResidual(\n",
            "          (conv_pw): Conv2d(128, 512, kernel_size=(1, 1), stride=(1, 1), bias=False)\n",
            "          (bn1): BatchNormAct2d(\n",
            "            512, eps=0.001, momentum=0.1, affine=True, track_running_stats=True\n",
            "            (drop): Identity()\n",
            "            (act): SiLU(inplace=True)\n",
            "          )\n",
            "          (conv_dw): Conv2d(512, 512, kernel_size=(3, 3), stride=(1, 1), padding=(1, 1), groups=512, bias=False)\n",
            "          (bn2): BatchNormAct2d(\n",
            "            512, eps=0.001, momentum=0.1, affine=True, track_running_stats=True\n",
            "            (drop): Identity()\n",
            "            (act): SiLU(inplace=True)\n",
            "          )\n",
            "          (se): SqueezeExcite(\n",
            "            (conv_reduce): Conv2d(512, 32, kernel_size=(1, 1), stride=(1, 1))\n",
            "            (act1): SiLU(inplace=True)\n",
            "            (conv_expand): Conv2d(32, 512, kernel_size=(1, 1), stride=(1, 1))\n",
            "            (gate): Sigmoid()\n",
            "          )\n",
            "          (conv_pwl): Conv2d(512, 128, kernel_size=(1, 1), stride=(1, 1), bias=False)\n",
            "          (bn3): BatchNormAct2d(\n",
            "            128, eps=0.001, momentum=0.1, affine=True, track_running_stats=True\n",
            "            (drop): Identity()\n",
            "            (act): Identity()\n",
            "          )\n",
            "          (drop_path): Identity()\n",
            "        )\n",
            "        (4): InvertedResidual(\n",
            "          (conv_pw): Conv2d(128, 512, kernel_size=(1, 1), stride=(1, 1), bias=False)\n",
            "          (bn1): BatchNormAct2d(\n",
            "            512, eps=0.001, momentum=0.1, affine=True, track_running_stats=True\n",
            "            (drop): Identity()\n",
            "            (act): SiLU(inplace=True)\n",
            "          )\n",
            "          (conv_dw): Conv2d(512, 512, kernel_size=(3, 3), stride=(1, 1), padding=(1, 1), groups=512, bias=False)\n",
            "          (bn2): BatchNormAct2d(\n",
            "            512, eps=0.001, momentum=0.1, affine=True, track_running_stats=True\n",
            "            (drop): Identity()\n",
            "            (act): SiLU(inplace=True)\n",
            "          )\n",
            "          (se): SqueezeExcite(\n",
            "            (conv_reduce): Conv2d(512, 32, kernel_size=(1, 1), stride=(1, 1))\n",
            "            (act1): SiLU(inplace=True)\n",
            "            (conv_expand): Conv2d(32, 512, kernel_size=(1, 1), stride=(1, 1))\n",
            "            (gate): Sigmoid()\n",
            "          )\n",
            "          (conv_pwl): Conv2d(512, 128, kernel_size=(1, 1), stride=(1, 1), bias=False)\n",
            "          (bn3): BatchNormAct2d(\n",
            "            128, eps=0.001, momentum=0.1, affine=True, track_running_stats=True\n",
            "            (drop): Identity()\n",
            "            (act): Identity()\n",
            "          )\n",
            "          (drop_path): Identity()\n",
            "        )\n",
            "        (5): InvertedResidual(\n",
            "          (conv_pw): Conv2d(128, 512, kernel_size=(1, 1), stride=(1, 1), bias=False)\n",
            "          (bn1): BatchNormAct2d(\n",
            "            512, eps=0.001, momentum=0.1, affine=True, track_running_stats=True\n",
            "            (drop): Identity()\n",
            "            (act): SiLU(inplace=True)\n",
            "          )\n",
            "          (conv_dw): Conv2d(512, 512, kernel_size=(3, 3), stride=(1, 1), padding=(1, 1), groups=512, bias=False)\n",
            "          (bn2): BatchNormAct2d(\n",
            "            512, eps=0.001, momentum=0.1, affine=True, track_running_stats=True\n",
            "            (drop): Identity()\n",
            "            (act): SiLU(inplace=True)\n",
            "          )\n",
            "          (se): SqueezeExcite(\n",
            "            (conv_reduce): Conv2d(512, 32, kernel_size=(1, 1), stride=(1, 1))\n",
            "            (act1): SiLU(inplace=True)\n",
            "            (conv_expand): Conv2d(32, 512, kernel_size=(1, 1), stride=(1, 1))\n",
            "            (gate): Sigmoid()\n",
            "          )\n",
            "          (conv_pwl): Conv2d(512, 128, kernel_size=(1, 1), stride=(1, 1), bias=False)\n",
            "          (bn3): BatchNormAct2d(\n",
            "            128, eps=0.001, momentum=0.1, affine=True, track_running_stats=True\n",
            "            (drop): Identity()\n",
            "            (act): Identity()\n",
            "          )\n",
            "          (drop_path): Identity()\n",
            "        )\n",
            "      )\n",
            "      (4): Sequential(\n",
            "        (0): InvertedResidual(\n",
            "          (conv_pw): Conv2d(128, 768, kernel_size=(1, 1), stride=(1, 1), bias=False)\n",
            "          (bn1): BatchNormAct2d(\n",
            "            768, eps=0.001, momentum=0.1, affine=True, track_running_stats=True\n",
            "            (drop): Identity()\n",
            "            (act): SiLU(inplace=True)\n",
            "          )\n",
            "          (conv_dw): Conv2d(768, 768, kernel_size=(3, 3), stride=(1, 1), padding=(1, 1), groups=768, bias=False)\n",
            "          (bn2): BatchNormAct2d(\n",
            "            768, eps=0.001, momentum=0.1, affine=True, track_running_stats=True\n",
            "            (drop): Identity()\n",
            "            (act): SiLU(inplace=True)\n",
            "          )\n",
            "          (se): SqueezeExcite(\n",
            "            (conv_reduce): Conv2d(768, 32, kernel_size=(1, 1), stride=(1, 1))\n",
            "            (act1): SiLU(inplace=True)\n",
            "            (conv_expand): Conv2d(32, 768, kernel_size=(1, 1), stride=(1, 1))\n",
            "            (gate): Sigmoid()\n",
            "          )\n",
            "          (conv_pwl): Conv2d(768, 160, kernel_size=(1, 1), stride=(1, 1), bias=False)\n",
            "          (bn3): BatchNormAct2d(\n",
            "            160, eps=0.001, momentum=0.1, affine=True, track_running_stats=True\n",
            "            (drop): Identity()\n",
            "            (act): Identity()\n",
            "          )\n",
            "          (drop_path): Identity()\n",
            "        )\n",
            "        (1): InvertedResidual(\n",
            "          (conv_pw): Conv2d(160, 960, kernel_size=(1, 1), stride=(1, 1), bias=False)\n",
            "          (bn1): BatchNormAct2d(\n",
            "            960, eps=0.001, momentum=0.1, affine=True, track_running_stats=True\n",
            "            (drop): Identity()\n",
            "            (act): SiLU(inplace=True)\n",
            "          )\n",
            "          (conv_dw): Conv2d(960, 960, kernel_size=(3, 3), stride=(1, 1), padding=(1, 1), groups=960, bias=False)\n",
            "          (bn2): BatchNormAct2d(\n",
            "            960, eps=0.001, momentum=0.1, affine=True, track_running_stats=True\n",
            "            (drop): Identity()\n",
            "            (act): SiLU(inplace=True)\n",
            "          )\n",
            "          (se): SqueezeExcite(\n",
            "            (conv_reduce): Conv2d(960, 40, kernel_size=(1, 1), stride=(1, 1))\n",
            "            (act1): SiLU(inplace=True)\n",
            "            (conv_expand): Conv2d(40, 960, kernel_size=(1, 1), stride=(1, 1))\n",
            "            (gate): Sigmoid()\n",
            "          )\n",
            "          (conv_pwl): Conv2d(960, 160, kernel_size=(1, 1), stride=(1, 1), bias=False)\n",
            "          (bn3): BatchNormAct2d(\n",
            "            160, eps=0.001, momentum=0.1, affine=True, track_running_stats=True\n",
            "            (drop): Identity()\n",
            "            (act): Identity()\n",
            "          )\n",
            "          (drop_path): Identity()\n",
            "        )\n",
            "        (2): InvertedResidual(\n",
            "          (conv_pw): Conv2d(160, 960, kernel_size=(1, 1), stride=(1, 1), bias=False)\n",
            "          (bn1): BatchNormAct2d(\n",
            "            960, eps=0.001, momentum=0.1, affine=True, track_running_stats=True\n",
            "            (drop): Identity()\n",
            "            (act): SiLU(inplace=True)\n",
            "          )\n",
            "          (conv_dw): Conv2d(960, 960, kernel_size=(3, 3), stride=(1, 1), padding=(1, 1), groups=960, bias=False)\n",
            "          (bn2): BatchNormAct2d(\n",
            "            960, eps=0.001, momentum=0.1, affine=True, track_running_stats=True\n",
            "            (drop): Identity()\n",
            "            (act): SiLU(inplace=True)\n",
            "          )\n",
            "          (se): SqueezeExcite(\n",
            "            (conv_reduce): Conv2d(960, 40, kernel_size=(1, 1), stride=(1, 1))\n",
            "            (act1): SiLU(inplace=True)\n",
            "            (conv_expand): Conv2d(40, 960, kernel_size=(1, 1), stride=(1, 1))\n",
            "            (gate): Sigmoid()\n",
            "          )\n",
            "          (conv_pwl): Conv2d(960, 160, kernel_size=(1, 1), stride=(1, 1), bias=False)\n",
            "          (bn3): BatchNormAct2d(\n",
            "            160, eps=0.001, momentum=0.1, affine=True, track_running_stats=True\n",
            "            (drop): Identity()\n",
            "            (act): Identity()\n",
            "          )\n",
            "          (drop_path): Identity()\n",
            "        )\n",
            "        (3): InvertedResidual(\n",
            "          (conv_pw): Conv2d(160, 960, kernel_size=(1, 1), stride=(1, 1), bias=False)\n",
            "          (bn1): BatchNormAct2d(\n",
            "            960, eps=0.001, momentum=0.1, affine=True, track_running_stats=True\n",
            "            (drop): Identity()\n",
            "            (act): SiLU(inplace=True)\n",
            "          )\n",
            "          (conv_dw): Conv2d(960, 960, kernel_size=(3, 3), stride=(1, 1), padding=(1, 1), groups=960, bias=False)\n",
            "          (bn2): BatchNormAct2d(\n",
            "            960, eps=0.001, momentum=0.1, affine=True, track_running_stats=True\n",
            "            (drop): Identity()\n",
            "            (act): SiLU(inplace=True)\n",
            "          )\n",
            "          (se): SqueezeExcite(\n",
            "            (conv_reduce): Conv2d(960, 40, kernel_size=(1, 1), stride=(1, 1))\n",
            "            (act1): SiLU(inplace=True)\n",
            "            (conv_expand): Conv2d(40, 960, kernel_size=(1, 1), stride=(1, 1))\n",
            "            (gate): Sigmoid()\n",
            "          )\n",
            "          (conv_pwl): Conv2d(960, 160, kernel_size=(1, 1), stride=(1, 1), bias=False)\n",
            "          (bn3): BatchNormAct2d(\n",
            "            160, eps=0.001, momentum=0.1, affine=True, track_running_stats=True\n",
            "            (drop): Identity()\n",
            "            (act): Identity()\n",
            "          )\n",
            "          (drop_path): Identity()\n",
            "        )\n",
            "        (4): InvertedResidual(\n",
            "          (conv_pw): Conv2d(160, 960, kernel_size=(1, 1), stride=(1, 1), bias=False)\n",
            "          (bn1): BatchNormAct2d(\n",
            "            960, eps=0.001, momentum=0.1, affine=True, track_running_stats=True\n",
            "            (drop): Identity()\n",
            "            (act): SiLU(inplace=True)\n",
            "          )\n",
            "          (conv_dw): Conv2d(960, 960, kernel_size=(3, 3), stride=(1, 1), padding=(1, 1), groups=960, bias=False)\n",
            "          (bn2): BatchNormAct2d(\n",
            "            960, eps=0.001, momentum=0.1, affine=True, track_running_stats=True\n",
            "            (drop): Identity()\n",
            "            (act): SiLU(inplace=True)\n",
            "          )\n",
            "          (se): SqueezeExcite(\n",
            "            (conv_reduce): Conv2d(960, 40, kernel_size=(1, 1), stride=(1, 1))\n",
            "            (act1): SiLU(inplace=True)\n",
            "            (conv_expand): Conv2d(40, 960, kernel_size=(1, 1), stride=(1, 1))\n",
            "            (gate): Sigmoid()\n",
            "          )\n",
            "          (conv_pwl): Conv2d(960, 160, kernel_size=(1, 1), stride=(1, 1), bias=False)\n",
            "          (bn3): BatchNormAct2d(\n",
            "            160, eps=0.001, momentum=0.1, affine=True, track_running_stats=True\n",
            "            (drop): Identity()\n",
            "            (act): Identity()\n",
            "          )\n",
            "          (drop_path): Identity()\n",
            "        )\n",
            "        (5): InvertedResidual(\n",
            "          (conv_pw): Conv2d(160, 960, kernel_size=(1, 1), stride=(1, 1), bias=False)\n",
            "          (bn1): BatchNormAct2d(\n",
            "            960, eps=0.001, momentum=0.1, affine=True, track_running_stats=True\n",
            "            (drop): Identity()\n",
            "            (act): SiLU(inplace=True)\n",
            "          )\n",
            "          (conv_dw): Conv2d(960, 960, kernel_size=(3, 3), stride=(1, 1), padding=(1, 1), groups=960, bias=False)\n",
            "          (bn2): BatchNormAct2d(\n",
            "            960, eps=0.001, momentum=0.1, affine=True, track_running_stats=True\n",
            "            (drop): Identity()\n",
            "            (act): SiLU(inplace=True)\n",
            "          )\n",
            "          (se): SqueezeExcite(\n",
            "            (conv_reduce): Conv2d(960, 40, kernel_size=(1, 1), stride=(1, 1))\n",
            "            (act1): SiLU(inplace=True)\n",
            "            (conv_expand): Conv2d(40, 960, kernel_size=(1, 1), stride=(1, 1))\n",
            "            (gate): Sigmoid()\n",
            "          )\n",
            "          (conv_pwl): Conv2d(960, 160, kernel_size=(1, 1), stride=(1, 1), bias=False)\n",
            "          (bn3): BatchNormAct2d(\n",
            "            160, eps=0.001, momentum=0.1, affine=True, track_running_stats=True\n",
            "            (drop): Identity()\n",
            "            (act): Identity()\n",
            "          )\n",
            "          (drop_path): Identity()\n",
            "        )\n",
            "        (6): InvertedResidual(\n",
            "          (conv_pw): Conv2d(160, 960, kernel_size=(1, 1), stride=(1, 1), bias=False)\n",
            "          (bn1): BatchNormAct2d(\n",
            "            960, eps=0.001, momentum=0.1, affine=True, track_running_stats=True\n",
            "            (drop): Identity()\n",
            "            (act): SiLU(inplace=True)\n",
            "          )\n",
            "          (conv_dw): Conv2d(960, 960, kernel_size=(3, 3), stride=(1, 1), padding=(1, 1), groups=960, bias=False)\n",
            "          (bn2): BatchNormAct2d(\n",
            "            960, eps=0.001, momentum=0.1, affine=True, track_running_stats=True\n",
            "            (drop): Identity()\n",
            "            (act): SiLU(inplace=True)\n",
            "          )\n",
            "          (se): SqueezeExcite(\n",
            "            (conv_reduce): Conv2d(960, 40, kernel_size=(1, 1), stride=(1, 1))\n",
            "            (act1): SiLU(inplace=True)\n",
            "            (conv_expand): Conv2d(40, 960, kernel_size=(1, 1), stride=(1, 1))\n",
            "            (gate): Sigmoid()\n",
            "          )\n",
            "          (conv_pwl): Conv2d(960, 160, kernel_size=(1, 1), stride=(1, 1), bias=False)\n",
            "          (bn3): BatchNormAct2d(\n",
            "            160, eps=0.001, momentum=0.1, affine=True, track_running_stats=True\n",
            "            (drop): Identity()\n",
            "            (act): Identity()\n",
            "          )\n",
            "          (drop_path): Identity()\n",
            "        )\n",
            "        (7): InvertedResidual(\n",
            "          (conv_pw): Conv2d(160, 960, kernel_size=(1, 1), stride=(1, 1), bias=False)\n",
            "          (bn1): BatchNormAct2d(\n",
            "            960, eps=0.001, momentum=0.1, affine=True, track_running_stats=True\n",
            "            (drop): Identity()\n",
            "            (act): SiLU(inplace=True)\n",
            "          )\n",
            "          (conv_dw): Conv2d(960, 960, kernel_size=(3, 3), stride=(1, 1), padding=(1, 1), groups=960, bias=False)\n",
            "          (bn2): BatchNormAct2d(\n",
            "            960, eps=0.001, momentum=0.1, affine=True, track_running_stats=True\n",
            "            (drop): Identity()\n",
            "            (act): SiLU(inplace=True)\n",
            "          )\n",
            "          (se): SqueezeExcite(\n",
            "            (conv_reduce): Conv2d(960, 40, kernel_size=(1, 1), stride=(1, 1))\n",
            "            (act1): SiLU(inplace=True)\n",
            "            (conv_expand): Conv2d(40, 960, kernel_size=(1, 1), stride=(1, 1))\n",
            "            (gate): Sigmoid()\n",
            "          )\n",
            "          (conv_pwl): Conv2d(960, 160, kernel_size=(1, 1), stride=(1, 1), bias=False)\n",
            "          (bn3): BatchNormAct2d(\n",
            "            160, eps=0.001, momentum=0.1, affine=True, track_running_stats=True\n",
            "            (drop): Identity()\n",
            "            (act): Identity()\n",
            "          )\n",
            "          (drop_path): Identity()\n",
            "        )\n",
            "        (8): InvertedResidual(\n",
            "          (conv_pw): Conv2d(160, 960, kernel_size=(1, 1), stride=(1, 1), bias=False)\n",
            "          (bn1): BatchNormAct2d(\n",
            "            960, eps=0.001, momentum=0.1, affine=True, track_running_stats=True\n",
            "            (drop): Identity()\n",
            "            (act): SiLU(inplace=True)\n",
            "          )\n",
            "          (conv_dw): Conv2d(960, 960, kernel_size=(3, 3), stride=(1, 1), padding=(1, 1), groups=960, bias=False)\n",
            "          (bn2): BatchNormAct2d(\n",
            "            960, eps=0.001, momentum=0.1, affine=True, track_running_stats=True\n",
            "            (drop): Identity()\n",
            "            (act): SiLU(inplace=True)\n",
            "          )\n",
            "          (se): SqueezeExcite(\n",
            "            (conv_reduce): Conv2d(960, 40, kernel_size=(1, 1), stride=(1, 1))\n",
            "            (act1): SiLU(inplace=True)\n",
            "            (conv_expand): Conv2d(40, 960, kernel_size=(1, 1), stride=(1, 1))\n",
            "            (gate): Sigmoid()\n",
            "          )\n",
            "          (conv_pwl): Conv2d(960, 160, kernel_size=(1, 1), stride=(1, 1), bias=False)\n",
            "          (bn3): BatchNormAct2d(\n",
            "            160, eps=0.001, momentum=0.1, affine=True, track_running_stats=True\n",
            "            (drop): Identity()\n",
            "            (act): Identity()\n",
            "          )\n",
            "          (drop_path): Identity()\n",
            "        )\n",
            "      )\n",
            "      (5): Sequential(\n",
            "        (0): InvertedResidual(\n",
            "          (conv_pw): Conv2d(160, 960, kernel_size=(1, 1), stride=(1, 1), bias=False)\n",
            "          (bn1): BatchNormAct2d(\n",
            "            960, eps=0.001, momentum=0.1, affine=True, track_running_stats=True\n",
            "            (drop): Identity()\n",
            "            (act): SiLU(inplace=True)\n",
            "          )\n",
            "          (conv_dw): Conv2dSame(960, 960, kernel_size=(3, 3), stride=(2, 2), groups=960, bias=False)\n",
            "          (bn2): BatchNormAct2d(\n",
            "            960, eps=0.001, momentum=0.1, affine=True, track_running_stats=True\n",
            "            (drop): Identity()\n",
            "            (act): SiLU(inplace=True)\n",
            "          )\n",
            "          (se): SqueezeExcite(\n",
            "            (conv_reduce): Conv2d(960, 40, kernel_size=(1, 1), stride=(1, 1))\n",
            "            (act1): SiLU(inplace=True)\n",
            "            (conv_expand): Conv2d(40, 960, kernel_size=(1, 1), stride=(1, 1))\n",
            "            (gate): Sigmoid()\n",
            "          )\n",
            "          (conv_pwl): Conv2d(960, 256, kernel_size=(1, 1), stride=(1, 1), bias=False)\n",
            "          (bn3): BatchNormAct2d(\n",
            "            256, eps=0.001, momentum=0.1, affine=True, track_running_stats=True\n",
            "            (drop): Identity()\n",
            "            (act): Identity()\n",
            "          )\n",
            "          (drop_path): Identity()\n",
            "        )\n",
            "        (1): InvertedResidual(\n",
            "          (conv_pw): Conv2d(256, 1536, kernel_size=(1, 1), stride=(1, 1), bias=False)\n",
            "          (bn1): BatchNormAct2d(\n",
            "            1536, eps=0.001, momentum=0.1, affine=True, track_running_stats=True\n",
            "            (drop): Identity()\n",
            "            (act): SiLU(inplace=True)\n",
            "          )\n",
            "          (conv_dw): Conv2d(1536, 1536, kernel_size=(3, 3), stride=(1, 1), padding=(1, 1), groups=1536, bias=False)\n",
            "          (bn2): BatchNormAct2d(\n",
            "            1536, eps=0.001, momentum=0.1, affine=True, track_running_stats=True\n",
            "            (drop): Identity()\n",
            "            (act): SiLU(inplace=True)\n",
            "          )\n",
            "          (se): SqueezeExcite(\n",
            "            (conv_reduce): Conv2d(1536, 64, kernel_size=(1, 1), stride=(1, 1))\n",
            "            (act1): SiLU(inplace=True)\n",
            "            (conv_expand): Conv2d(64, 1536, kernel_size=(1, 1), stride=(1, 1))\n",
            "            (gate): Sigmoid()\n",
            "          )\n",
            "          (conv_pwl): Conv2d(1536, 256, kernel_size=(1, 1), stride=(1, 1), bias=False)\n",
            "          (bn3): BatchNormAct2d(\n",
            "            256, eps=0.001, momentum=0.1, affine=True, track_running_stats=True\n",
            "            (drop): Identity()\n",
            "            (act): Identity()\n",
            "          )\n",
            "          (drop_path): Identity()\n",
            "        )\n",
            "        (2): InvertedResidual(\n",
            "          (conv_pw): Conv2d(256, 1536, kernel_size=(1, 1), stride=(1, 1), bias=False)\n",
            "          (bn1): BatchNormAct2d(\n",
            "            1536, eps=0.001, momentum=0.1, affine=True, track_running_stats=True\n",
            "            (drop): Identity()\n",
            "            (act): SiLU(inplace=True)\n",
            "          )\n",
            "          (conv_dw): Conv2d(1536, 1536, kernel_size=(3, 3), stride=(1, 1), padding=(1, 1), groups=1536, bias=False)\n",
            "          (bn2): BatchNormAct2d(\n",
            "            1536, eps=0.001, momentum=0.1, affine=True, track_running_stats=True\n",
            "            (drop): Identity()\n",
            "            (act): SiLU(inplace=True)\n",
            "          )\n",
            "          (se): SqueezeExcite(\n",
            "            (conv_reduce): Conv2d(1536, 64, kernel_size=(1, 1), stride=(1, 1))\n",
            "            (act1): SiLU(inplace=True)\n",
            "            (conv_expand): Conv2d(64, 1536, kernel_size=(1, 1), stride=(1, 1))\n",
            "            (gate): Sigmoid()\n",
            "          )\n",
            "          (conv_pwl): Conv2d(1536, 256, kernel_size=(1, 1), stride=(1, 1), bias=False)\n",
            "          (bn3): BatchNormAct2d(\n",
            "            256, eps=0.001, momentum=0.1, affine=True, track_running_stats=True\n",
            "            (drop): Identity()\n",
            "            (act): Identity()\n",
            "          )\n",
            "          (drop_path): Identity()\n",
            "        )\n",
            "        (3): InvertedResidual(\n",
            "          (conv_pw): Conv2d(256, 1536, kernel_size=(1, 1), stride=(1, 1), bias=False)\n",
            "          (bn1): BatchNormAct2d(\n",
            "            1536, eps=0.001, momentum=0.1, affine=True, track_running_stats=True\n",
            "            (drop): Identity()\n",
            "            (act): SiLU(inplace=True)\n",
            "          )\n",
            "          (conv_dw): Conv2d(1536, 1536, kernel_size=(3, 3), stride=(1, 1), padding=(1, 1), groups=1536, bias=False)\n",
            "          (bn2): BatchNormAct2d(\n",
            "            1536, eps=0.001, momentum=0.1, affine=True, track_running_stats=True\n",
            "            (drop): Identity()\n",
            "            (act): SiLU(inplace=True)\n",
            "          )\n",
            "          (se): SqueezeExcite(\n",
            "            (conv_reduce): Conv2d(1536, 64, kernel_size=(1, 1), stride=(1, 1))\n",
            "            (act1): SiLU(inplace=True)\n",
            "            (conv_expand): Conv2d(64, 1536, kernel_size=(1, 1), stride=(1, 1))\n",
            "            (gate): Sigmoid()\n",
            "          )\n",
            "          (conv_pwl): Conv2d(1536, 256, kernel_size=(1, 1), stride=(1, 1), bias=False)\n",
            "          (bn3): BatchNormAct2d(\n",
            "            256, eps=0.001, momentum=0.1, affine=True, track_running_stats=True\n",
            "            (drop): Identity()\n",
            "            (act): Identity()\n",
            "          )\n",
            "          (drop_path): Identity()\n",
            "        )\n",
            "        (4): InvertedResidual(\n",
            "          (conv_pw): Conv2d(256, 1536, kernel_size=(1, 1), stride=(1, 1), bias=False)\n",
            "          (bn1): BatchNormAct2d(\n",
            "            1536, eps=0.001, momentum=0.1, affine=True, track_running_stats=True\n",
            "            (drop): Identity()\n",
            "            (act): SiLU(inplace=True)\n",
            "          )\n",
            "          (conv_dw): Conv2d(1536, 1536, kernel_size=(3, 3), stride=(1, 1), padding=(1, 1), groups=1536, bias=False)\n",
            "          (bn2): BatchNormAct2d(\n",
            "            1536, eps=0.001, momentum=0.1, affine=True, track_running_stats=True\n",
            "            (drop): Identity()\n",
            "            (act): SiLU(inplace=True)\n",
            "          )\n",
            "          (se): SqueezeExcite(\n",
            "            (conv_reduce): Conv2d(1536, 64, kernel_size=(1, 1), stride=(1, 1))\n",
            "            (act1): SiLU(inplace=True)\n",
            "            (conv_expand): Conv2d(64, 1536, kernel_size=(1, 1), stride=(1, 1))\n",
            "            (gate): Sigmoid()\n",
            "          )\n",
            "          (conv_pwl): Conv2d(1536, 256, kernel_size=(1, 1), stride=(1, 1), bias=False)\n",
            "          (bn3): BatchNormAct2d(\n",
            "            256, eps=0.001, momentum=0.1, affine=True, track_running_stats=True\n",
            "            (drop): Identity()\n",
            "            (act): Identity()\n",
            "          )\n",
            "          (drop_path): Identity()\n",
            "        )\n",
            "        (5): InvertedResidual(\n",
            "          (conv_pw): Conv2d(256, 1536, kernel_size=(1, 1), stride=(1, 1), bias=False)\n",
            "          (bn1): BatchNormAct2d(\n",
            "            1536, eps=0.001, momentum=0.1, affine=True, track_running_stats=True\n",
            "            (drop): Identity()\n",
            "            (act): SiLU(inplace=True)\n",
            "          )\n",
            "          (conv_dw): Conv2d(1536, 1536, kernel_size=(3, 3), stride=(1, 1), padding=(1, 1), groups=1536, bias=False)\n",
            "          (bn2): BatchNormAct2d(\n",
            "            1536, eps=0.001, momentum=0.1, affine=True, track_running_stats=True\n",
            "            (drop): Identity()\n",
            "            (act): SiLU(inplace=True)\n",
            "          )\n",
            "          (se): SqueezeExcite(\n",
            "            (conv_reduce): Conv2d(1536, 64, kernel_size=(1, 1), stride=(1, 1))\n",
            "            (act1): SiLU(inplace=True)\n",
            "            (conv_expand): Conv2d(64, 1536, kernel_size=(1, 1), stride=(1, 1))\n",
            "            (gate): Sigmoid()\n",
            "          )\n",
            "          (conv_pwl): Conv2d(1536, 256, kernel_size=(1, 1), stride=(1, 1), bias=False)\n",
            "          (bn3): BatchNormAct2d(\n",
            "            256, eps=0.001, momentum=0.1, affine=True, track_running_stats=True\n",
            "            (drop): Identity()\n",
            "            (act): Identity()\n",
            "          )\n",
            "          (drop_path): Identity()\n",
            "        )\n",
            "        (6): InvertedResidual(\n",
            "          (conv_pw): Conv2d(256, 1536, kernel_size=(1, 1), stride=(1, 1), bias=False)\n",
            "          (bn1): BatchNormAct2d(\n",
            "            1536, eps=0.001, momentum=0.1, affine=True, track_running_stats=True\n",
            "            (drop): Identity()\n",
            "            (act): SiLU(inplace=True)\n",
            "          )\n",
            "          (conv_dw): Conv2d(1536, 1536, kernel_size=(3, 3), stride=(1, 1), padding=(1, 1), groups=1536, bias=False)\n",
            "          (bn2): BatchNormAct2d(\n",
            "            1536, eps=0.001, momentum=0.1, affine=True, track_running_stats=True\n",
            "            (drop): Identity()\n",
            "            (act): SiLU(inplace=True)\n",
            "          )\n",
            "          (se): SqueezeExcite(\n",
            "            (conv_reduce): Conv2d(1536, 64, kernel_size=(1, 1), stride=(1, 1))\n",
            "            (act1): SiLU(inplace=True)\n",
            "            (conv_expand): Conv2d(64, 1536, kernel_size=(1, 1), stride=(1, 1))\n",
            "            (gate): Sigmoid()\n",
            "          )\n",
            "          (conv_pwl): Conv2d(1536, 256, kernel_size=(1, 1), stride=(1, 1), bias=False)\n",
            "          (bn3): BatchNormAct2d(\n",
            "            256, eps=0.001, momentum=0.1, affine=True, track_running_stats=True\n",
            "            (drop): Identity()\n",
            "            (act): Identity()\n",
            "          )\n",
            "          (drop_path): Identity()\n",
            "        )\n",
            "        (7): InvertedResidual(\n",
            "          (conv_pw): Conv2d(256, 1536, kernel_size=(1, 1), stride=(1, 1), bias=False)\n",
            "          (bn1): BatchNormAct2d(\n",
            "            1536, eps=0.001, momentum=0.1, affine=True, track_running_stats=True\n",
            "            (drop): Identity()\n",
            "            (act): SiLU(inplace=True)\n",
            "          )\n",
            "          (conv_dw): Conv2d(1536, 1536, kernel_size=(3, 3), stride=(1, 1), padding=(1, 1), groups=1536, bias=False)\n",
            "          (bn2): BatchNormAct2d(\n",
            "            1536, eps=0.001, momentum=0.1, affine=True, track_running_stats=True\n",
            "            (drop): Identity()\n",
            "            (act): SiLU(inplace=True)\n",
            "          )\n",
            "          (se): SqueezeExcite(\n",
            "            (conv_reduce): Conv2d(1536, 64, kernel_size=(1, 1), stride=(1, 1))\n",
            "            (act1): SiLU(inplace=True)\n",
            "            (conv_expand): Conv2d(64, 1536, kernel_size=(1, 1), stride=(1, 1))\n",
            "            (gate): Sigmoid()\n",
            "          )\n",
            "          (conv_pwl): Conv2d(1536, 256, kernel_size=(1, 1), stride=(1, 1), bias=False)\n",
            "          (bn3): BatchNormAct2d(\n",
            "            256, eps=0.001, momentum=0.1, affine=True, track_running_stats=True\n",
            "            (drop): Identity()\n",
            "            (act): Identity()\n",
            "          )\n",
            "          (drop_path): Identity()\n",
            "        )\n",
            "        (8): InvertedResidual(\n",
            "          (conv_pw): Conv2d(256, 1536, kernel_size=(1, 1), stride=(1, 1), bias=False)\n",
            "          (bn1): BatchNormAct2d(\n",
            "            1536, eps=0.001, momentum=0.1, affine=True, track_running_stats=True\n",
            "            (drop): Identity()\n",
            "            (act): SiLU(inplace=True)\n",
            "          )\n",
            "          (conv_dw): Conv2d(1536, 1536, kernel_size=(3, 3), stride=(1, 1), padding=(1, 1), groups=1536, bias=False)\n",
            "          (bn2): BatchNormAct2d(\n",
            "            1536, eps=0.001, momentum=0.1, affine=True, track_running_stats=True\n",
            "            (drop): Identity()\n",
            "            (act): SiLU(inplace=True)\n",
            "          )\n",
            "          (se): SqueezeExcite(\n",
            "            (conv_reduce): Conv2d(1536, 64, kernel_size=(1, 1), stride=(1, 1))\n",
            "            (act1): SiLU(inplace=True)\n",
            "            (conv_expand): Conv2d(64, 1536, kernel_size=(1, 1), stride=(1, 1))\n",
            "            (gate): Sigmoid()\n",
            "          )\n",
            "          (conv_pwl): Conv2d(1536, 256, kernel_size=(1, 1), stride=(1, 1), bias=False)\n",
            "          (bn3): BatchNormAct2d(\n",
            "            256, eps=0.001, momentum=0.1, affine=True, track_running_stats=True\n",
            "            (drop): Identity()\n",
            "            (act): Identity()\n",
            "          )\n",
            "          (drop_path): Identity()\n",
            "        )\n",
            "        (9): InvertedResidual(\n",
            "          (conv_pw): Conv2d(256, 1536, kernel_size=(1, 1), stride=(1, 1), bias=False)\n",
            "          (bn1): BatchNormAct2d(\n",
            "            1536, eps=0.001, momentum=0.1, affine=True, track_running_stats=True\n",
            "            (drop): Identity()\n",
            "            (act): SiLU(inplace=True)\n",
            "          )\n",
            "          (conv_dw): Conv2d(1536, 1536, kernel_size=(3, 3), stride=(1, 1), padding=(1, 1), groups=1536, bias=False)\n",
            "          (bn2): BatchNormAct2d(\n",
            "            1536, eps=0.001, momentum=0.1, affine=True, track_running_stats=True\n",
            "            (drop): Identity()\n",
            "            (act): SiLU(inplace=True)\n",
            "          )\n",
            "          (se): SqueezeExcite(\n",
            "            (conv_reduce): Conv2d(1536, 64, kernel_size=(1, 1), stride=(1, 1))\n",
            "            (act1): SiLU(inplace=True)\n",
            "            (conv_expand): Conv2d(64, 1536, kernel_size=(1, 1), stride=(1, 1))\n",
            "            (gate): Sigmoid()\n",
            "          )\n",
            "          (conv_pwl): Conv2d(1536, 256, kernel_size=(1, 1), stride=(1, 1), bias=False)\n",
            "          (bn3): BatchNormAct2d(\n",
            "            256, eps=0.001, momentum=0.1, affine=True, track_running_stats=True\n",
            "            (drop): Identity()\n",
            "            (act): Identity()\n",
            "          )\n",
            "          (drop_path): Identity()\n",
            "        )\n",
            "        (10): InvertedResidual(\n",
            "          (conv_pw): Conv2d(256, 1536, kernel_size=(1, 1), stride=(1, 1), bias=False)\n",
            "          (bn1): BatchNormAct2d(\n",
            "            1536, eps=0.001, momentum=0.1, affine=True, track_running_stats=True\n",
            "            (drop): Identity()\n",
            "            (act): SiLU(inplace=True)\n",
            "          )\n",
            "          (conv_dw): Conv2d(1536, 1536, kernel_size=(3, 3), stride=(1, 1), padding=(1, 1), groups=1536, bias=False)\n",
            "          (bn2): BatchNormAct2d(\n",
            "            1536, eps=0.001, momentum=0.1, affine=True, track_running_stats=True\n",
            "            (drop): Identity()\n",
            "            (act): SiLU(inplace=True)\n",
            "          )\n",
            "          (se): SqueezeExcite(\n",
            "            (conv_reduce): Conv2d(1536, 64, kernel_size=(1, 1), stride=(1, 1))\n",
            "            (act1): SiLU(inplace=True)\n",
            "            (conv_expand): Conv2d(64, 1536, kernel_size=(1, 1), stride=(1, 1))\n",
            "            (gate): Sigmoid()\n",
            "          )\n",
            "          (conv_pwl): Conv2d(1536, 256, kernel_size=(1, 1), stride=(1, 1), bias=False)\n",
            "          (bn3): BatchNormAct2d(\n",
            "            256, eps=0.001, momentum=0.1, affine=True, track_running_stats=True\n",
            "            (drop): Identity()\n",
            "            (act): Identity()\n",
            "          )\n",
            "          (drop_path): Identity()\n",
            "        )\n",
            "        (11): InvertedResidual(\n",
            "          (conv_pw): Conv2d(256, 1536, kernel_size=(1, 1), stride=(1, 1), bias=False)\n",
            "          (bn1): BatchNormAct2d(\n",
            "            1536, eps=0.001, momentum=0.1, affine=True, track_running_stats=True\n",
            "            (drop): Identity()\n",
            "            (act): SiLU(inplace=True)\n",
            "          )\n",
            "          (conv_dw): Conv2d(1536, 1536, kernel_size=(3, 3), stride=(1, 1), padding=(1, 1), groups=1536, bias=False)\n",
            "          (bn2): BatchNormAct2d(\n",
            "            1536, eps=0.001, momentum=0.1, affine=True, track_running_stats=True\n",
            "            (drop): Identity()\n",
            "            (act): SiLU(inplace=True)\n",
            "          )\n",
            "          (se): SqueezeExcite(\n",
            "            (conv_reduce): Conv2d(1536, 64, kernel_size=(1, 1), stride=(1, 1))\n",
            "            (act1): SiLU(inplace=True)\n",
            "            (conv_expand): Conv2d(64, 1536, kernel_size=(1, 1), stride=(1, 1))\n",
            "            (gate): Sigmoid()\n",
            "          )\n",
            "          (conv_pwl): Conv2d(1536, 256, kernel_size=(1, 1), stride=(1, 1), bias=False)\n",
            "          (bn3): BatchNormAct2d(\n",
            "            256, eps=0.001, momentum=0.1, affine=True, track_running_stats=True\n",
            "            (drop): Identity()\n",
            "            (act): Identity()\n",
            "          )\n",
            "          (drop_path): Identity()\n",
            "        )\n",
            "        (12): InvertedResidual(\n",
            "          (conv_pw): Conv2d(256, 1536, kernel_size=(1, 1), stride=(1, 1), bias=False)\n",
            "          (bn1): BatchNormAct2d(\n",
            "            1536, eps=0.001, momentum=0.1, affine=True, track_running_stats=True\n",
            "            (drop): Identity()\n",
            "            (act): SiLU(inplace=True)\n",
            "          )\n",
            "          (conv_dw): Conv2d(1536, 1536, kernel_size=(3, 3), stride=(1, 1), padding=(1, 1), groups=1536, bias=False)\n",
            "          (bn2): BatchNormAct2d(\n",
            "            1536, eps=0.001, momentum=0.1, affine=True, track_running_stats=True\n",
            "            (drop): Identity()\n",
            "            (act): SiLU(inplace=True)\n",
            "          )\n",
            "          (se): SqueezeExcite(\n",
            "            (conv_reduce): Conv2d(1536, 64, kernel_size=(1, 1), stride=(1, 1))\n",
            "            (act1): SiLU(inplace=True)\n",
            "            (conv_expand): Conv2d(64, 1536, kernel_size=(1, 1), stride=(1, 1))\n",
            "            (gate): Sigmoid()\n",
            "          )\n",
            "          (conv_pwl): Conv2d(1536, 256, kernel_size=(1, 1), stride=(1, 1), bias=False)\n",
            "          (bn3): BatchNormAct2d(\n",
            "            256, eps=0.001, momentum=0.1, affine=True, track_running_stats=True\n",
            "            (drop): Identity()\n",
            "            (act): Identity()\n",
            "          )\n",
            "          (drop_path): Identity()\n",
            "        )\n",
            "        (13): InvertedResidual(\n",
            "          (conv_pw): Conv2d(256, 1536, kernel_size=(1, 1), stride=(1, 1), bias=False)\n",
            "          (bn1): BatchNormAct2d(\n",
            "            1536, eps=0.001, momentum=0.1, affine=True, track_running_stats=True\n",
            "            (drop): Identity()\n",
            "            (act): SiLU(inplace=True)\n",
            "          )\n",
            "          (conv_dw): Conv2d(1536, 1536, kernel_size=(3, 3), stride=(1, 1), padding=(1, 1), groups=1536, bias=False)\n",
            "          (bn2): BatchNormAct2d(\n",
            "            1536, eps=0.001, momentum=0.1, affine=True, track_running_stats=True\n",
            "            (drop): Identity()\n",
            "            (act): SiLU(inplace=True)\n",
            "          )\n",
            "          (se): SqueezeExcite(\n",
            "            (conv_reduce): Conv2d(1536, 64, kernel_size=(1, 1), stride=(1, 1))\n",
            "            (act1): SiLU(inplace=True)\n",
            "            (conv_expand): Conv2d(64, 1536, kernel_size=(1, 1), stride=(1, 1))\n",
            "            (gate): Sigmoid()\n",
            "          )\n",
            "          (conv_pwl): Conv2d(1536, 256, kernel_size=(1, 1), stride=(1, 1), bias=False)\n",
            "          (bn3): BatchNormAct2d(\n",
            "            256, eps=0.001, momentum=0.1, affine=True, track_running_stats=True\n",
            "            (drop): Identity()\n",
            "            (act): Identity()\n",
            "          )\n",
            "          (drop_path): Identity()\n",
            "        )\n",
            "        (14): InvertedResidual(\n",
            "          (conv_pw): Conv2d(256, 1536, kernel_size=(1, 1), stride=(1, 1), bias=False)\n",
            "          (bn1): BatchNormAct2d(\n",
            "            1536, eps=0.001, momentum=0.1, affine=True, track_running_stats=True\n",
            "            (drop): Identity()\n",
            "            (act): SiLU(inplace=True)\n",
            "          )\n",
            "          (conv_dw): Conv2d(1536, 1536, kernel_size=(3, 3), stride=(1, 1), padding=(1, 1), groups=1536, bias=False)\n",
            "          (bn2): BatchNormAct2d(\n",
            "            1536, eps=0.001, momentum=0.1, affine=True, track_running_stats=True\n",
            "            (drop): Identity()\n",
            "            (act): SiLU(inplace=True)\n",
            "          )\n",
            "          (se): SqueezeExcite(\n",
            "            (conv_reduce): Conv2d(1536, 64, kernel_size=(1, 1), stride=(1, 1))\n",
            "            (act1): SiLU(inplace=True)\n",
            "            (conv_expand): Conv2d(64, 1536, kernel_size=(1, 1), stride=(1, 1))\n",
            "            (gate): Sigmoid()\n",
            "          )\n",
            "          (conv_pwl): Conv2d(1536, 256, kernel_size=(1, 1), stride=(1, 1), bias=False)\n",
            "          (bn3): BatchNormAct2d(\n",
            "            256, eps=0.001, momentum=0.1, affine=True, track_running_stats=True\n",
            "            (drop): Identity()\n",
            "            (act): Identity()\n",
            "          )\n",
            "          (drop_path): Identity()\n",
            "        )\n",
            "      )\n",
            "    )\n",
            "    (conv_head): Conv2d(256, 1280, kernel_size=(1, 1), stride=(1, 1), bias=False)\n",
            "    (bn2): BatchNormAct2d(\n",
            "      1280, eps=0.001, momentum=0.1, affine=True, track_running_stats=True\n",
            "      (drop): Identity()\n",
            "      (act): SiLU(inplace=True)\n",
            "    )\n",
            "    (global_pool): SelectAdaptivePool2d(pool_type=avg, flatten=Flatten(start_dim=1, end_dim=-1))\n",
            "    (classifier): Linear(in_features=1280, out_features=1, bias=True)\n",
            "  )\n",
            "  (1): Sigmoid()\n",
            ")\n"
          ]
        }
      ]
    },
    {
      "cell_type": "markdown",
      "source": [
        "# EfficiencyNet_b0\n",
        "\n"
      ],
      "metadata": {
        "id": "2XJri-IMuLx-"
      }
    },
    {
      "cell_type": "code",
      "source": [
        "model_name_temp = \"efficientnet_b0\"\n",
        "\n",
        "if 'model_name' in globals():\n",
        "  if (model_name != model_name_temp):\n",
        "    raise ModelError(f'已經初始化其他model了： {model_name}')\n",
        "else:\n",
        "  model_name = model_name_temp\n",
        "\n",
        "\n",
        "pretrained_model = timm.create_model(model_name, pretrained=True)\n",
        "\n",
        "# 修改輸入通道\n",
        "pretrained_model.conv_stem = nn.Conv2d(1, 32, kernel_size=3, stride=2, padding=1, bias=False)\n",
        "\n",
        "# 修改輸出類別\n",
        "num_classes = 1\n",
        "pretrained_model.classifier = nn.Linear(pretrained_model.classifier.in_features, num_classes)\n",
        "\n",
        "# # 修改 global_pool 層\n",
        "# if hasattr(pretrained_model, 'global_pool'):\n",
        "#     # 使用 AdaptiveMaxPool2d 替代 SelectAdaptivePool2d\n",
        "#     pretrained_model.global_pool = nn.Sequential(\n",
        "#         nn.AdaptiveMaxPool2d(1),\n",
        "#         nn.Flatten(start_dim=1, end_dim=-1)\n",
        "#     )\n",
        "# else:\n",
        "#     raise AttributeError(\"Global pooling layer not found in the model\")\n",
        "\n",
        "# 添加 Sigmoid 激活函數\n",
        "pretrained_model = nn.Sequential(\n",
        "    pretrained_model,\n",
        "    nn.Sigmoid()\n",
        ")\n",
        "\n",
        "\n",
        "# 檢查模型結構\n",
        "print(pretrained_model)"
      ],
      "metadata": {
        "colab": {
          "base_uri": "https://localhost:8080/",
          "height": 1000,
          "referenced_widgets": [
            "75f487ebf4724646add6709e2f26020a",
            "cb0241e6059442d4bc2edcc928140f42",
            "c99c77e5656c40cc9729c1d96eb39aa7",
            "afe91b706c9942879985d06db1379b0f",
            "dceb4dcee3af4ac5a71aeb662831bcd9",
            "39873aba219143d7a4163e4cf2177d5b",
            "8b305170e7d540968b0cde379c4156d5",
            "dfcdbc0a4eac4684894b2aca575da0ec",
            "2715cf6db3a84069a20b5f8c6b9d4d57",
            "44ee0033295543038589675a55b409cb",
            "ff5802dd787c49c38e8120196e05fa50"
          ]
        },
        "id": "-5HhuUTIuIG3",
        "outputId": "01837f49-48f8-4ae5-b1d4-dad18e064488"
      },
      "execution_count": 17,
      "outputs": [
        {
          "output_type": "stream",
          "name": "stderr",
          "text": [
            "/usr/local/lib/python3.10/dist-packages/huggingface_hub/utils/_token.py:88: UserWarning: \n",
            "The secret `HF_TOKEN` does not exist in your Colab secrets.\n",
            "To authenticate with the Hugging Face Hub, create a token in your settings tab (https://huggingface.co/settings/tokens), set it as secret in your Google Colab and restart your session.\n",
            "You will be able to reuse this secret in all of your notebooks.\n",
            "Please note that authentication is recommended but still optional to access public models or datasets.\n",
            "  warnings.warn(\n"
          ]
        },
        {
          "output_type": "display_data",
          "data": {
            "text/plain": [
              "model.safetensors:   0%|          | 0.00/21.4M [00:00<?, ?B/s]"
            ],
            "application/vnd.jupyter.widget-view+json": {
              "version_major": 2,
              "version_minor": 0,
              "model_id": "75f487ebf4724646add6709e2f26020a"
            }
          },
          "metadata": {}
        },
        {
          "output_type": "stream",
          "name": "stdout",
          "text": [
            "Sequential(\n",
            "  (0): EfficientNet(\n",
            "    (conv_stem): Conv2d(1, 32, kernel_size=(3, 3), stride=(2, 2), padding=(1, 1), bias=False)\n",
            "    (bn1): BatchNormAct2d(\n",
            "      32, eps=1e-05, momentum=0.1, affine=True, track_running_stats=True\n",
            "      (drop): Identity()\n",
            "      (act): SiLU(inplace=True)\n",
            "    )\n",
            "    (blocks): Sequential(\n",
            "      (0): Sequential(\n",
            "        (0): DepthwiseSeparableConv(\n",
            "          (conv_dw): Conv2d(32, 32, kernel_size=(3, 3), stride=(1, 1), padding=(1, 1), groups=32, bias=False)\n",
            "          (bn1): BatchNormAct2d(\n",
            "            32, eps=1e-05, momentum=0.1, affine=True, track_running_stats=True\n",
            "            (drop): Identity()\n",
            "            (act): SiLU(inplace=True)\n",
            "          )\n",
            "          (se): SqueezeExcite(\n",
            "            (conv_reduce): Conv2d(32, 8, kernel_size=(1, 1), stride=(1, 1))\n",
            "            (act1): SiLU(inplace=True)\n",
            "            (conv_expand): Conv2d(8, 32, kernel_size=(1, 1), stride=(1, 1))\n",
            "            (gate): Sigmoid()\n",
            "          )\n",
            "          (conv_pw): Conv2d(32, 16, kernel_size=(1, 1), stride=(1, 1), bias=False)\n",
            "          (bn2): BatchNormAct2d(\n",
            "            16, eps=1e-05, momentum=0.1, affine=True, track_running_stats=True\n",
            "            (drop): Identity()\n",
            "            (act): Identity()\n",
            "          )\n",
            "          (drop_path): Identity()\n",
            "        )\n",
            "      )\n",
            "      (1): Sequential(\n",
            "        (0): InvertedResidual(\n",
            "          (conv_pw): Conv2d(16, 96, kernel_size=(1, 1), stride=(1, 1), bias=False)\n",
            "          (bn1): BatchNormAct2d(\n",
            "            96, eps=1e-05, momentum=0.1, affine=True, track_running_stats=True\n",
            "            (drop): Identity()\n",
            "            (act): SiLU(inplace=True)\n",
            "          )\n",
            "          (conv_dw): Conv2d(96, 96, kernel_size=(3, 3), stride=(2, 2), padding=(1, 1), groups=96, bias=False)\n",
            "          (bn2): BatchNormAct2d(\n",
            "            96, eps=1e-05, momentum=0.1, affine=True, track_running_stats=True\n",
            "            (drop): Identity()\n",
            "            (act): SiLU(inplace=True)\n",
            "          )\n",
            "          (se): SqueezeExcite(\n",
            "            (conv_reduce): Conv2d(96, 4, kernel_size=(1, 1), stride=(1, 1))\n",
            "            (act1): SiLU(inplace=True)\n",
            "            (conv_expand): Conv2d(4, 96, kernel_size=(1, 1), stride=(1, 1))\n",
            "            (gate): Sigmoid()\n",
            "          )\n",
            "          (conv_pwl): Conv2d(96, 24, kernel_size=(1, 1), stride=(1, 1), bias=False)\n",
            "          (bn3): BatchNormAct2d(\n",
            "            24, eps=1e-05, momentum=0.1, affine=True, track_running_stats=True\n",
            "            (drop): Identity()\n",
            "            (act): Identity()\n",
            "          )\n",
            "          (drop_path): Identity()\n",
            "        )\n",
            "        (1): InvertedResidual(\n",
            "          (conv_pw): Conv2d(24, 144, kernel_size=(1, 1), stride=(1, 1), bias=False)\n",
            "          (bn1): BatchNormAct2d(\n",
            "            144, eps=1e-05, momentum=0.1, affine=True, track_running_stats=True\n",
            "            (drop): Identity()\n",
            "            (act): SiLU(inplace=True)\n",
            "          )\n",
            "          (conv_dw): Conv2d(144, 144, kernel_size=(3, 3), stride=(1, 1), padding=(1, 1), groups=144, bias=False)\n",
            "          (bn2): BatchNormAct2d(\n",
            "            144, eps=1e-05, momentum=0.1, affine=True, track_running_stats=True\n",
            "            (drop): Identity()\n",
            "            (act): SiLU(inplace=True)\n",
            "          )\n",
            "          (se): SqueezeExcite(\n",
            "            (conv_reduce): Conv2d(144, 6, kernel_size=(1, 1), stride=(1, 1))\n",
            "            (act1): SiLU(inplace=True)\n",
            "            (conv_expand): Conv2d(6, 144, kernel_size=(1, 1), stride=(1, 1))\n",
            "            (gate): Sigmoid()\n",
            "          )\n",
            "          (conv_pwl): Conv2d(144, 24, kernel_size=(1, 1), stride=(1, 1), bias=False)\n",
            "          (bn3): BatchNormAct2d(\n",
            "            24, eps=1e-05, momentum=0.1, affine=True, track_running_stats=True\n",
            "            (drop): Identity()\n",
            "            (act): Identity()\n",
            "          )\n",
            "          (drop_path): Identity()\n",
            "        )\n",
            "      )\n",
            "      (2): Sequential(\n",
            "        (0): InvertedResidual(\n",
            "          (conv_pw): Conv2d(24, 144, kernel_size=(1, 1), stride=(1, 1), bias=False)\n",
            "          (bn1): BatchNormAct2d(\n",
            "            144, eps=1e-05, momentum=0.1, affine=True, track_running_stats=True\n",
            "            (drop): Identity()\n",
            "            (act): SiLU(inplace=True)\n",
            "          )\n",
            "          (conv_dw): Conv2d(144, 144, kernel_size=(5, 5), stride=(2, 2), padding=(2, 2), groups=144, bias=False)\n",
            "          (bn2): BatchNormAct2d(\n",
            "            144, eps=1e-05, momentum=0.1, affine=True, track_running_stats=True\n",
            "            (drop): Identity()\n",
            "            (act): SiLU(inplace=True)\n",
            "          )\n",
            "          (se): SqueezeExcite(\n",
            "            (conv_reduce): Conv2d(144, 6, kernel_size=(1, 1), stride=(1, 1))\n",
            "            (act1): SiLU(inplace=True)\n",
            "            (conv_expand): Conv2d(6, 144, kernel_size=(1, 1), stride=(1, 1))\n",
            "            (gate): Sigmoid()\n",
            "          )\n",
            "          (conv_pwl): Conv2d(144, 40, kernel_size=(1, 1), stride=(1, 1), bias=False)\n",
            "          (bn3): BatchNormAct2d(\n",
            "            40, eps=1e-05, momentum=0.1, affine=True, track_running_stats=True\n",
            "            (drop): Identity()\n",
            "            (act): Identity()\n",
            "          )\n",
            "          (drop_path): Identity()\n",
            "        )\n",
            "        (1): InvertedResidual(\n",
            "          (conv_pw): Conv2d(40, 240, kernel_size=(1, 1), stride=(1, 1), bias=False)\n",
            "          (bn1): BatchNormAct2d(\n",
            "            240, eps=1e-05, momentum=0.1, affine=True, track_running_stats=True\n",
            "            (drop): Identity()\n",
            "            (act): SiLU(inplace=True)\n",
            "          )\n",
            "          (conv_dw): Conv2d(240, 240, kernel_size=(5, 5), stride=(1, 1), padding=(2, 2), groups=240, bias=False)\n",
            "          (bn2): BatchNormAct2d(\n",
            "            240, eps=1e-05, momentum=0.1, affine=True, track_running_stats=True\n",
            "            (drop): Identity()\n",
            "            (act): SiLU(inplace=True)\n",
            "          )\n",
            "          (se): SqueezeExcite(\n",
            "            (conv_reduce): Conv2d(240, 10, kernel_size=(1, 1), stride=(1, 1))\n",
            "            (act1): SiLU(inplace=True)\n",
            "            (conv_expand): Conv2d(10, 240, kernel_size=(1, 1), stride=(1, 1))\n",
            "            (gate): Sigmoid()\n",
            "          )\n",
            "          (conv_pwl): Conv2d(240, 40, kernel_size=(1, 1), stride=(1, 1), bias=False)\n",
            "          (bn3): BatchNormAct2d(\n",
            "            40, eps=1e-05, momentum=0.1, affine=True, track_running_stats=True\n",
            "            (drop): Identity()\n",
            "            (act): Identity()\n",
            "          )\n",
            "          (drop_path): Identity()\n",
            "        )\n",
            "      )\n",
            "      (3): Sequential(\n",
            "        (0): InvertedResidual(\n",
            "          (conv_pw): Conv2d(40, 240, kernel_size=(1, 1), stride=(1, 1), bias=False)\n",
            "          (bn1): BatchNormAct2d(\n",
            "            240, eps=1e-05, momentum=0.1, affine=True, track_running_stats=True\n",
            "            (drop): Identity()\n",
            "            (act): SiLU(inplace=True)\n",
            "          )\n",
            "          (conv_dw): Conv2d(240, 240, kernel_size=(3, 3), stride=(2, 2), padding=(1, 1), groups=240, bias=False)\n",
            "          (bn2): BatchNormAct2d(\n",
            "            240, eps=1e-05, momentum=0.1, affine=True, track_running_stats=True\n",
            "            (drop): Identity()\n",
            "            (act): SiLU(inplace=True)\n",
            "          )\n",
            "          (se): SqueezeExcite(\n",
            "            (conv_reduce): Conv2d(240, 10, kernel_size=(1, 1), stride=(1, 1))\n",
            "            (act1): SiLU(inplace=True)\n",
            "            (conv_expand): Conv2d(10, 240, kernel_size=(1, 1), stride=(1, 1))\n",
            "            (gate): Sigmoid()\n",
            "          )\n",
            "          (conv_pwl): Conv2d(240, 80, kernel_size=(1, 1), stride=(1, 1), bias=False)\n",
            "          (bn3): BatchNormAct2d(\n",
            "            80, eps=1e-05, momentum=0.1, affine=True, track_running_stats=True\n",
            "            (drop): Identity()\n",
            "            (act): Identity()\n",
            "          )\n",
            "          (drop_path): Identity()\n",
            "        )\n",
            "        (1): InvertedResidual(\n",
            "          (conv_pw): Conv2d(80, 480, kernel_size=(1, 1), stride=(1, 1), bias=False)\n",
            "          (bn1): BatchNormAct2d(\n",
            "            480, eps=1e-05, momentum=0.1, affine=True, track_running_stats=True\n",
            "            (drop): Identity()\n",
            "            (act): SiLU(inplace=True)\n",
            "          )\n",
            "          (conv_dw): Conv2d(480, 480, kernel_size=(3, 3), stride=(1, 1), padding=(1, 1), groups=480, bias=False)\n",
            "          (bn2): BatchNormAct2d(\n",
            "            480, eps=1e-05, momentum=0.1, affine=True, track_running_stats=True\n",
            "            (drop): Identity()\n",
            "            (act): SiLU(inplace=True)\n",
            "          )\n",
            "          (se): SqueezeExcite(\n",
            "            (conv_reduce): Conv2d(480, 20, kernel_size=(1, 1), stride=(1, 1))\n",
            "            (act1): SiLU(inplace=True)\n",
            "            (conv_expand): Conv2d(20, 480, kernel_size=(1, 1), stride=(1, 1))\n",
            "            (gate): Sigmoid()\n",
            "          )\n",
            "          (conv_pwl): Conv2d(480, 80, kernel_size=(1, 1), stride=(1, 1), bias=False)\n",
            "          (bn3): BatchNormAct2d(\n",
            "            80, eps=1e-05, momentum=0.1, affine=True, track_running_stats=True\n",
            "            (drop): Identity()\n",
            "            (act): Identity()\n",
            "          )\n",
            "          (drop_path): Identity()\n",
            "        )\n",
            "        (2): InvertedResidual(\n",
            "          (conv_pw): Conv2d(80, 480, kernel_size=(1, 1), stride=(1, 1), bias=False)\n",
            "          (bn1): BatchNormAct2d(\n",
            "            480, eps=1e-05, momentum=0.1, affine=True, track_running_stats=True\n",
            "            (drop): Identity()\n",
            "            (act): SiLU(inplace=True)\n",
            "          )\n",
            "          (conv_dw): Conv2d(480, 480, kernel_size=(3, 3), stride=(1, 1), padding=(1, 1), groups=480, bias=False)\n",
            "          (bn2): BatchNormAct2d(\n",
            "            480, eps=1e-05, momentum=0.1, affine=True, track_running_stats=True\n",
            "            (drop): Identity()\n",
            "            (act): SiLU(inplace=True)\n",
            "          )\n",
            "          (se): SqueezeExcite(\n",
            "            (conv_reduce): Conv2d(480, 20, kernel_size=(1, 1), stride=(1, 1))\n",
            "            (act1): SiLU(inplace=True)\n",
            "            (conv_expand): Conv2d(20, 480, kernel_size=(1, 1), stride=(1, 1))\n",
            "            (gate): Sigmoid()\n",
            "          )\n",
            "          (conv_pwl): Conv2d(480, 80, kernel_size=(1, 1), stride=(1, 1), bias=False)\n",
            "          (bn3): BatchNormAct2d(\n",
            "            80, eps=1e-05, momentum=0.1, affine=True, track_running_stats=True\n",
            "            (drop): Identity()\n",
            "            (act): Identity()\n",
            "          )\n",
            "          (drop_path): Identity()\n",
            "        )\n",
            "      )\n",
            "      (4): Sequential(\n",
            "        (0): InvertedResidual(\n",
            "          (conv_pw): Conv2d(80, 480, kernel_size=(1, 1), stride=(1, 1), bias=False)\n",
            "          (bn1): BatchNormAct2d(\n",
            "            480, eps=1e-05, momentum=0.1, affine=True, track_running_stats=True\n",
            "            (drop): Identity()\n",
            "            (act): SiLU(inplace=True)\n",
            "          )\n",
            "          (conv_dw): Conv2d(480, 480, kernel_size=(5, 5), stride=(1, 1), padding=(2, 2), groups=480, bias=False)\n",
            "          (bn2): BatchNormAct2d(\n",
            "            480, eps=1e-05, momentum=0.1, affine=True, track_running_stats=True\n",
            "            (drop): Identity()\n",
            "            (act): SiLU(inplace=True)\n",
            "          )\n",
            "          (se): SqueezeExcite(\n",
            "            (conv_reduce): Conv2d(480, 20, kernel_size=(1, 1), stride=(1, 1))\n",
            "            (act1): SiLU(inplace=True)\n",
            "            (conv_expand): Conv2d(20, 480, kernel_size=(1, 1), stride=(1, 1))\n",
            "            (gate): Sigmoid()\n",
            "          )\n",
            "          (conv_pwl): Conv2d(480, 112, kernel_size=(1, 1), stride=(1, 1), bias=False)\n",
            "          (bn3): BatchNormAct2d(\n",
            "            112, eps=1e-05, momentum=0.1, affine=True, track_running_stats=True\n",
            "            (drop): Identity()\n",
            "            (act): Identity()\n",
            "          )\n",
            "          (drop_path): Identity()\n",
            "        )\n",
            "        (1): InvertedResidual(\n",
            "          (conv_pw): Conv2d(112, 672, kernel_size=(1, 1), stride=(1, 1), bias=False)\n",
            "          (bn1): BatchNormAct2d(\n",
            "            672, eps=1e-05, momentum=0.1, affine=True, track_running_stats=True\n",
            "            (drop): Identity()\n",
            "            (act): SiLU(inplace=True)\n",
            "          )\n",
            "          (conv_dw): Conv2d(672, 672, kernel_size=(5, 5), stride=(1, 1), padding=(2, 2), groups=672, bias=False)\n",
            "          (bn2): BatchNormAct2d(\n",
            "            672, eps=1e-05, momentum=0.1, affine=True, track_running_stats=True\n",
            "            (drop): Identity()\n",
            "            (act): SiLU(inplace=True)\n",
            "          )\n",
            "          (se): SqueezeExcite(\n",
            "            (conv_reduce): Conv2d(672, 28, kernel_size=(1, 1), stride=(1, 1))\n",
            "            (act1): SiLU(inplace=True)\n",
            "            (conv_expand): Conv2d(28, 672, kernel_size=(1, 1), stride=(1, 1))\n",
            "            (gate): Sigmoid()\n",
            "          )\n",
            "          (conv_pwl): Conv2d(672, 112, kernel_size=(1, 1), stride=(1, 1), bias=False)\n",
            "          (bn3): BatchNormAct2d(\n",
            "            112, eps=1e-05, momentum=0.1, affine=True, track_running_stats=True\n",
            "            (drop): Identity()\n",
            "            (act): Identity()\n",
            "          )\n",
            "          (drop_path): Identity()\n",
            "        )\n",
            "        (2): InvertedResidual(\n",
            "          (conv_pw): Conv2d(112, 672, kernel_size=(1, 1), stride=(1, 1), bias=False)\n",
            "          (bn1): BatchNormAct2d(\n",
            "            672, eps=1e-05, momentum=0.1, affine=True, track_running_stats=True\n",
            "            (drop): Identity()\n",
            "            (act): SiLU(inplace=True)\n",
            "          )\n",
            "          (conv_dw): Conv2d(672, 672, kernel_size=(5, 5), stride=(1, 1), padding=(2, 2), groups=672, bias=False)\n",
            "          (bn2): BatchNormAct2d(\n",
            "            672, eps=1e-05, momentum=0.1, affine=True, track_running_stats=True\n",
            "            (drop): Identity()\n",
            "            (act): SiLU(inplace=True)\n",
            "          )\n",
            "          (se): SqueezeExcite(\n",
            "            (conv_reduce): Conv2d(672, 28, kernel_size=(1, 1), stride=(1, 1))\n",
            "            (act1): SiLU(inplace=True)\n",
            "            (conv_expand): Conv2d(28, 672, kernel_size=(1, 1), stride=(1, 1))\n",
            "            (gate): Sigmoid()\n",
            "          )\n",
            "          (conv_pwl): Conv2d(672, 112, kernel_size=(1, 1), stride=(1, 1), bias=False)\n",
            "          (bn3): BatchNormAct2d(\n",
            "            112, eps=1e-05, momentum=0.1, affine=True, track_running_stats=True\n",
            "            (drop): Identity()\n",
            "            (act): Identity()\n",
            "          )\n",
            "          (drop_path): Identity()\n",
            "        )\n",
            "      )\n",
            "      (5): Sequential(\n",
            "        (0): InvertedResidual(\n",
            "          (conv_pw): Conv2d(112, 672, kernel_size=(1, 1), stride=(1, 1), bias=False)\n",
            "          (bn1): BatchNormAct2d(\n",
            "            672, eps=1e-05, momentum=0.1, affine=True, track_running_stats=True\n",
            "            (drop): Identity()\n",
            "            (act): SiLU(inplace=True)\n",
            "          )\n",
            "          (conv_dw): Conv2d(672, 672, kernel_size=(5, 5), stride=(2, 2), padding=(2, 2), groups=672, bias=False)\n",
            "          (bn2): BatchNormAct2d(\n",
            "            672, eps=1e-05, momentum=0.1, affine=True, track_running_stats=True\n",
            "            (drop): Identity()\n",
            "            (act): SiLU(inplace=True)\n",
            "          )\n",
            "          (se): SqueezeExcite(\n",
            "            (conv_reduce): Conv2d(672, 28, kernel_size=(1, 1), stride=(1, 1))\n",
            "            (act1): SiLU(inplace=True)\n",
            "            (conv_expand): Conv2d(28, 672, kernel_size=(1, 1), stride=(1, 1))\n",
            "            (gate): Sigmoid()\n",
            "          )\n",
            "          (conv_pwl): Conv2d(672, 192, kernel_size=(1, 1), stride=(1, 1), bias=False)\n",
            "          (bn3): BatchNormAct2d(\n",
            "            192, eps=1e-05, momentum=0.1, affine=True, track_running_stats=True\n",
            "            (drop): Identity()\n",
            "            (act): Identity()\n",
            "          )\n",
            "          (drop_path): Identity()\n",
            "        )\n",
            "        (1): InvertedResidual(\n",
            "          (conv_pw): Conv2d(192, 1152, kernel_size=(1, 1), stride=(1, 1), bias=False)\n",
            "          (bn1): BatchNormAct2d(\n",
            "            1152, eps=1e-05, momentum=0.1, affine=True, track_running_stats=True\n",
            "            (drop): Identity()\n",
            "            (act): SiLU(inplace=True)\n",
            "          )\n",
            "          (conv_dw): Conv2d(1152, 1152, kernel_size=(5, 5), stride=(1, 1), padding=(2, 2), groups=1152, bias=False)\n",
            "          (bn2): BatchNormAct2d(\n",
            "            1152, eps=1e-05, momentum=0.1, affine=True, track_running_stats=True\n",
            "            (drop): Identity()\n",
            "            (act): SiLU(inplace=True)\n",
            "          )\n",
            "          (se): SqueezeExcite(\n",
            "            (conv_reduce): Conv2d(1152, 48, kernel_size=(1, 1), stride=(1, 1))\n",
            "            (act1): SiLU(inplace=True)\n",
            "            (conv_expand): Conv2d(48, 1152, kernel_size=(1, 1), stride=(1, 1))\n",
            "            (gate): Sigmoid()\n",
            "          )\n",
            "          (conv_pwl): Conv2d(1152, 192, kernel_size=(1, 1), stride=(1, 1), bias=False)\n",
            "          (bn3): BatchNormAct2d(\n",
            "            192, eps=1e-05, momentum=0.1, affine=True, track_running_stats=True\n",
            "            (drop): Identity()\n",
            "            (act): Identity()\n",
            "          )\n",
            "          (drop_path): Identity()\n",
            "        )\n",
            "        (2): InvertedResidual(\n",
            "          (conv_pw): Conv2d(192, 1152, kernel_size=(1, 1), stride=(1, 1), bias=False)\n",
            "          (bn1): BatchNormAct2d(\n",
            "            1152, eps=1e-05, momentum=0.1, affine=True, track_running_stats=True\n",
            "            (drop): Identity()\n",
            "            (act): SiLU(inplace=True)\n",
            "          )\n",
            "          (conv_dw): Conv2d(1152, 1152, kernel_size=(5, 5), stride=(1, 1), padding=(2, 2), groups=1152, bias=False)\n",
            "          (bn2): BatchNormAct2d(\n",
            "            1152, eps=1e-05, momentum=0.1, affine=True, track_running_stats=True\n",
            "            (drop): Identity()\n",
            "            (act): SiLU(inplace=True)\n",
            "          )\n",
            "          (se): SqueezeExcite(\n",
            "            (conv_reduce): Conv2d(1152, 48, kernel_size=(1, 1), stride=(1, 1))\n",
            "            (act1): SiLU(inplace=True)\n",
            "            (conv_expand): Conv2d(48, 1152, kernel_size=(1, 1), stride=(1, 1))\n",
            "            (gate): Sigmoid()\n",
            "          )\n",
            "          (conv_pwl): Conv2d(1152, 192, kernel_size=(1, 1), stride=(1, 1), bias=False)\n",
            "          (bn3): BatchNormAct2d(\n",
            "            192, eps=1e-05, momentum=0.1, affine=True, track_running_stats=True\n",
            "            (drop): Identity()\n",
            "            (act): Identity()\n",
            "          )\n",
            "          (drop_path): Identity()\n",
            "        )\n",
            "        (3): InvertedResidual(\n",
            "          (conv_pw): Conv2d(192, 1152, kernel_size=(1, 1), stride=(1, 1), bias=False)\n",
            "          (bn1): BatchNormAct2d(\n",
            "            1152, eps=1e-05, momentum=0.1, affine=True, track_running_stats=True\n",
            "            (drop): Identity()\n",
            "            (act): SiLU(inplace=True)\n",
            "          )\n",
            "          (conv_dw): Conv2d(1152, 1152, kernel_size=(5, 5), stride=(1, 1), padding=(2, 2), groups=1152, bias=False)\n",
            "          (bn2): BatchNormAct2d(\n",
            "            1152, eps=1e-05, momentum=0.1, affine=True, track_running_stats=True\n",
            "            (drop): Identity()\n",
            "            (act): SiLU(inplace=True)\n",
            "          )\n",
            "          (se): SqueezeExcite(\n",
            "            (conv_reduce): Conv2d(1152, 48, kernel_size=(1, 1), stride=(1, 1))\n",
            "            (act1): SiLU(inplace=True)\n",
            "            (conv_expand): Conv2d(48, 1152, kernel_size=(1, 1), stride=(1, 1))\n",
            "            (gate): Sigmoid()\n",
            "          )\n",
            "          (conv_pwl): Conv2d(1152, 192, kernel_size=(1, 1), stride=(1, 1), bias=False)\n",
            "          (bn3): BatchNormAct2d(\n",
            "            192, eps=1e-05, momentum=0.1, affine=True, track_running_stats=True\n",
            "            (drop): Identity()\n",
            "            (act): Identity()\n",
            "          )\n",
            "          (drop_path): Identity()\n",
            "        )\n",
            "      )\n",
            "      (6): Sequential(\n",
            "        (0): InvertedResidual(\n",
            "          (conv_pw): Conv2d(192, 1152, kernel_size=(1, 1), stride=(1, 1), bias=False)\n",
            "          (bn1): BatchNormAct2d(\n",
            "            1152, eps=1e-05, momentum=0.1, affine=True, track_running_stats=True\n",
            "            (drop): Identity()\n",
            "            (act): SiLU(inplace=True)\n",
            "          )\n",
            "          (conv_dw): Conv2d(1152, 1152, kernel_size=(3, 3), stride=(1, 1), padding=(1, 1), groups=1152, bias=False)\n",
            "          (bn2): BatchNormAct2d(\n",
            "            1152, eps=1e-05, momentum=0.1, affine=True, track_running_stats=True\n",
            "            (drop): Identity()\n",
            "            (act): SiLU(inplace=True)\n",
            "          )\n",
            "          (se): SqueezeExcite(\n",
            "            (conv_reduce): Conv2d(1152, 48, kernel_size=(1, 1), stride=(1, 1))\n",
            "            (act1): SiLU(inplace=True)\n",
            "            (conv_expand): Conv2d(48, 1152, kernel_size=(1, 1), stride=(1, 1))\n",
            "            (gate): Sigmoid()\n",
            "          )\n",
            "          (conv_pwl): Conv2d(1152, 320, kernel_size=(1, 1), stride=(1, 1), bias=False)\n",
            "          (bn3): BatchNormAct2d(\n",
            "            320, eps=1e-05, momentum=0.1, affine=True, track_running_stats=True\n",
            "            (drop): Identity()\n",
            "            (act): Identity()\n",
            "          )\n",
            "          (drop_path): Identity()\n",
            "        )\n",
            "      )\n",
            "    )\n",
            "    (conv_head): Conv2d(320, 1280, kernel_size=(1, 1), stride=(1, 1), bias=False)\n",
            "    (bn2): BatchNormAct2d(\n",
            "      1280, eps=1e-05, momentum=0.1, affine=True, track_running_stats=True\n",
            "      (drop): Identity()\n",
            "      (act): SiLU(inplace=True)\n",
            "    )\n",
            "    (global_pool): SelectAdaptivePool2d(pool_type=avg, flatten=Flatten(start_dim=1, end_dim=-1))\n",
            "    (classifier): Linear(in_features=1280, out_features=1, bias=True)\n",
            "  )\n",
            "  (1): Sigmoid()\n",
            ")\n"
          ]
        }
      ]
    },
    {
      "cell_type": "markdown",
      "source": [
        "# Other models\n",
        "\n",
        "\n",
        "    \"nnunet_v1\",\n",
        "    \"efficientnet_b0_v1\",  \n",
        "    \"efficientnet_s_v1\",\n",
        "    \"unet_v1\",\n",
        "    \"resnet50_v1\",\n",
        "    \"nnunet_v2\",\n",
        "    \"efficientnet_b0_v2\",  \n",
        "    \"efficientnet_s_v2\",\n",
        "    \"unet_v2\",\n",
        "    \"resnet50_v2\",\n",
        "    \"nnunet_v3\",\n",
        "    \"efficientnet_b0_v3\",  \n",
        "    \"efficientnet_s_v3\",\n",
        "    \"unet_v3\",\n",
        "    \"resnet50_v3\","
      ],
      "metadata": {
        "id": "3S8eq_WJ8RT6"
      }
    },
    {
      "cell_type": "code",
      "source": [],
      "metadata": {
        "id": "8qFo1ENeOJUC"
      },
      "execution_count": null,
      "outputs": []
    },
    {
      "cell_type": "code",
      "source": [],
      "metadata": {
        "id": "uv9H7-pvOJbp"
      },
      "execution_count": null,
      "outputs": []
    },
    {
      "cell_type": "code",
      "source": [],
      "metadata": {
        "id": "tpuLjUD5OJf6"
      },
      "execution_count": null,
      "outputs": []
    },
    {
      "cell_type": "code",
      "source": [],
      "metadata": {
        "id": "Hynt2Ga1OJjV"
      },
      "execution_count": null,
      "outputs": []
    },
    {
      "cell_type": "code",
      "source": [],
      "metadata": {
        "id": "tRboDBwPOP9h"
      },
      "execution_count": null,
      "outputs": []
    },
    {
      "cell_type": "code",
      "source": [],
      "metadata": {
        "id": "EKHCPmezOQAZ"
      },
      "execution_count": null,
      "outputs": []
    },
    {
      "cell_type": "code",
      "source": [],
      "metadata": {
        "id": "CF889JP_OQDh"
      },
      "execution_count": null,
      "outputs": []
    },
    {
      "cell_type": "code",
      "source": [],
      "metadata": {
        "id": "PTcoIcaQOQHC"
      },
      "execution_count": null,
      "outputs": []
    },
    {
      "cell_type": "code",
      "source": [],
      "metadata": {
        "id": "9jbLtqY3OQPz"
      },
      "execution_count": null,
      "outputs": []
    },
    {
      "cell_type": "code",
      "source": [],
      "metadata": {
        "id": "TEDD8jbKOQTO"
      },
      "execution_count": null,
      "outputs": []
    },
    {
      "cell_type": "code",
      "source": [],
      "metadata": {
        "id": "esaJsVbyOQWK"
      },
      "execution_count": null,
      "outputs": []
    },
    {
      "cell_type": "code",
      "source": [],
      "metadata": {
        "id": "xC3hBy3mOQZ1"
      },
      "execution_count": null,
      "outputs": []
    },
    {
      "cell_type": "code",
      "source": [],
      "metadata": {
        "id": "hUIyY8MHOQki"
      },
      "execution_count": null,
      "outputs": []
    },
    {
      "cell_type": "code",
      "source": [],
      "metadata": {
        "id": "GjjKNZcGOQn6"
      },
      "execution_count": null,
      "outputs": []
    },
    {
      "cell_type": "code",
      "source": [],
      "metadata": {
        "id": "5xfqRdeqOQry"
      },
      "execution_count": null,
      "outputs": []
    },
    {
      "cell_type": "markdown",
      "metadata": {
        "id": "s0ME8m8YBRFR"
      },
      "source": [
        "# 資料處理"
      ]
    },
    {
      "cell_type": "markdown",
      "source": [
        "## 二八切割"
      ],
      "metadata": {
        "id": "BlxYg5o29uzi"
      }
    },
    {
      "cell_type": "code",
      "source": [
        "train_id, valid_id = get_split()\n",
        "images_valid, labels_valid = process_data2(datadir, dropFalse=0, files=valid_id)\n",
        "images, labels = process_data2(datadir, dropFalse=0, files=train_id)"
      ],
      "metadata": {
        "id": "DwIR_e8b8BWw",
        "colab": {
          "base_uri": "https://localhost:8080/"
        },
        "outputId": "1a94e8d3-2d4a-4584-f1b0-27a5ecac9f59"
      },
      "execution_count": 28,
      "outputs": [
        {
          "output_type": "stream",
          "name": "stdout",
          "text": [
            "reading traindir='Cropped_60-316_150-406_11-71/Train_Valid_Image_cropped'...\n",
            "xlim=[60, 316]\n",
            "ylim=[150, 406]\n",
            "zlim=[11, 71]\n",
            "Process 0: Zx015DF8E20804DB94E24A9B2D9DD387A47EF1C620A02026DC finished...\n",
            "Process 1: Zx01F90B532F87127DB647612B6621F2065CA58692B921CEB4 finished...\n",
            "Process 2: Zx0494BD052F6F8D5A583699BBC329C318AC7B5BE50FD9ACDA finished...\n",
            "Process 3: Zx0800DE5C96380322C65ABA398FC93B5CBDF75B20B11DDF6E finished...\n",
            "Process 4: Zx09972B8FA6215EEC75DB4194B16C000F47B5F87AFB64A12B finished...\n",
            "Process 5: Zx0A1564C092259CD377329E07006281E876D09F9B48E77002 finished...\n",
            "Process 6: Zx0AE5424009C101F7422C5BD9DD2C3B0E13E834114A32883A finished...\n",
            "Process 7: Zx0BA755CD6D068378215FE1AE4751945053ED5D2F2C2A40E7 finished...\n",
            "Process 8: Zx0CA5CE197AA9378EE23F949BDFC91790D4FED5D6FD06F5A2 finished...\n",
            "Process 9: Zx0CFB1637BD27964BE741B2AA07BC7C84B2B61731E47782E0 finished...\n",
            "Process 10: Zx0E094D2402D05592511D0DED9E7ED9E999B468C249E9253F finished...\n",
            "Process 11: Zx0E96DE51997AF17C5C54835EAD6B7512C66F91BFDB491B9F finished...\n",
            "Process 12: Zx0F09553E6591D068AAB2811C40BA511B70E378F39A37839A finished...\n",
            "Process 13: Zx114AC1555B9AD6790B7A1BDE0521553F4A9A83AEAF30A859 finished...\n",
            "Process 14: Zx13CC64ABE904CB3E29A95612A74C34E8F5F6B4BA181694BD finished...\n",
            "Process 15: Zx152DDBF3A8894FFDC2C923DF7F1099488C30A8943FE31860 finished...\n",
            "Process 16: Zx15FB4DF1D36A7B4A19617A2C71E216AC807960B0EF51AC83 finished...\n",
            "Process 17: Zx160CFC2664FE311B6AC70F6906A5E84B13D273AD7B24162B finished...\n",
            "Process 18: Zx16F4FD8907D539630058B97C3DA72D8CE2C4154A1011F3D7 finished...\n",
            "Process 19: Zx1761966B642ABA595F2D8E53DAED57654117D2271DF05D4B finished...\n",
            "Process 20: Zx19075B1C1417E664BEDD1C5C7F782D359A1DC198D01A79DF finished...\n",
            "Process 21: Zx19216E0DC2CA308E80238A39CC927E17148D86C6DF471355 finished...\n",
            "Process 22: Zx19DC911CF61B42EEA04DF8635951103535C9FB92AD779276 finished...\n",
            "Process 23: Zx1A3FF9BBC87A0A6379CA804FA7025BE5E55D98B90E6E911E finished...\n",
            "Process 24: Zx2030E3E34625286FA6745CAFEF3F4CD81DEDDFA875C5EC23 finished...\n",
            "Process 25: Zx226CB151F5DE15D8C8C6E3F3EE8BC533BDBE65DE1A805731 finished...\n",
            "Process 26: Zx25DFF1358FA299AFC3345BEE8BCD80031225017D9F4DD365 finished...\n",
            "Process 27: Zx2821AF61A3DBB7F40C01DEA2F7BBAE3C7FB59CA82BC55B55 finished...\n",
            "Process 28: Zx28A11914F19501C527FADC7432C8E020873181C0B365E863 finished...\n",
            "Process 29: Zx291FD6850838B643BC1A7878279A2373C32A719B91C042EC finished...\n",
            "Process 30: Zx29D944DDC12D73E608734644C33D08170EC666B3E934AE93 finished...\n",
            "Process 31: Zx2A1210AAD0C7673D871C9B73A00CC394F65B0A224D6EABC9 finished...\n",
            "Process 32: Zx2BCE9A7537D7DB08D8254B88EDFA79D2B5FAD113ED12B54E finished...\n",
            "Process 33: Zx2D185653AC6B5E02F95806D73E5A84A02024E037C1DEB887 finished...\n",
            "Process 34: Zx2D76DB29AAD2347759160B311EE70109FFF026792C16979A finished...\n",
            "Process 35: Zx2E111520B77E85EE6229F346D75F64EC7CDFCA78821E4341 finished...\n",
            "Process 36: Zx2FA626656496845ECE881190B184E327F4D8061B2B2900DE finished...\n",
            "Process 37: Zx2FDB8744E9FC6EA517DB8C7AF02186F20EB405618EAD35AA finished...\n",
            "Process 38: Zx30D3D7722571163D6FDAC8D42EA822DE9309AA749507E680 finished...\n",
            "Process 39: Zx30D54DEFE5A1F6690A387C332411376210FE4A5839471C12 finished...\n",
            "Process 40: Zx310CE606A29627070A772BE54B8CD0BA3E47BAE4172C4EB0 finished...\n",
            "Process 41: Zx3306AD6CF1A7BFC1BF6522E172650664AA1DBB0EE61F704B finished...\n",
            "Process 42: Zx33E6FDDA6850D397D243D3A55567D29DABFB0503956B9083 finished...\n",
            "Process 43: Zx347D7961BD3B95547A18229A9DEB77A9C5B2216DF6890865 finished...\n",
            "Process 44: Zx35277990C2DBE37B4185DB808829526C76F8D6CDBC5C7CD7 finished...\n",
            "Process 45: Zx36871521E7690C7E8E2298CBEBC159037F9562AFAD8FDFF8 finished...\n",
            "Process 46: Zx379A5F7814F0914A5DDC1624A2FB846629F088027004D2A6 finished...\n",
            "Process 47: Zx39297C72B360D9264B30FF2723EADD32A2EA4EE4794DFAFB finished...\n",
            "Process 48: Zx3AB91ED4F2F9AA3B6F1005851941D52458DDAD3716622571 finished...\n",
            "Process 49: Zx3AB91ED4F2F9AA3BBF9B2425E1278FBEC919A0ACCDC4A02B finished...\n",
            "Process 50: Zx3D212F640E8BAB683711B0A2B808E94D20EC94C210350D4F finished...\n",
            "Process 51: Zx3E70E64F4B2979E3961895A1F7F48F5A61F3CA426349C95C finished...\n",
            "Process 52: Zx3F0AA5B24089383F472A355FE4001AAA047B39E0C9D9D4DD finished...\n",
            "Process 53: Zx3F283561EB5064407786E2685CF0EEF42F1C052BB005B1E0 finished...\n",
            "Process 54: Zx3FAF29A82573ABC3779238FCADF11919914026A8EFAB5E98 finished...\n",
            "Process 55: Zx4343A182A4B16B07C4E9DC4CC327DCA2B2D54632240F5179 finished...\n",
            "Process 56: Zx455FA34A3BE4D4684F10C3599344433D802C092D1BF1A9D5 finished...\n",
            "Process 57: Zx457D19099A1876FB80E029E8598A9DF202D02CB9E139BFEF finished...\n",
            "Process 58: Zx47C8EC892A72C9A3A5F181DDD2EC43B051D9CB1FF54C714A finished...\n",
            "Process 59: Zx47F849224B4386F104A777D40C2EB9E46E8D4D948E0DF149 finished...\n",
            "Process 60: Zx493F535A5628330079FF05762DFFCD954E2E98F33925D070 finished...\n",
            "Process 61: Zx4DEAB0155B0B49D7A6C97DC1BAFCA3A840D5FA76882F3909 finished...\n",
            "Process 62: Zx4ED2135FF0A55C3DDB2DCB18431F46E19C069FB908C473B6 finished...\n",
            "Process 63: Zx4ED2135FF0A55C3DE2379661289AFC75E374FE6B5DC4C7AC finished...\n",
            "Process 64: Zx501820D23A5CB94739758DB1736517B8A4ACBE83C6927DB9 finished...\n",
            "Process 65: Zx516EDA06AFC86A9609937263C8F528620516202A547FC1BA finished...\n",
            "Process 66: Zx516EDA06AFC86A96E299B23DAF55DAA97F52807639AA71C7 finished...\n",
            "Process 67: Zx54D9C6D4D1A2099BC5128685BAA055EA5D0EBDFCAF3F5C90 finished...\n",
            "Process 68: Zx565D74889318B8045234D290A85A4D77CDBC698F9C455063 finished...\n",
            "Process 69: Zx57410A845E6E8D25823E485244B4E8F17DDFC08B2883A6BA finished...\n",
            "Process 70: Zx5B636F130DAA91A7110091642B376E06730C8832C8C0E569 finished...\n",
            "Process 71: Zx5C5DF9F03CB8A6BAC406BDF666C115EDC0A4C836B500164F finished...\n",
            "Process 72: Zx5E3E3815ED9017334024C80AAF61BC4579BEBD361C5B7475 finished...\n",
            "Process 73: Zx5FA9D4DFFAB39260647D74BF41D27B7EC5D16E01356F2CA2 finished...\n",
            "Process 74: Zx5FD6AFAD51E0F6009E9E6726BC6F6F5958F10F03345BE35C finished...\n",
            "Process 75: Zx600898F0FDBE062A65C1DE5C5162A85C96A07C8856FE6A91 finished...\n",
            "Process 76: Zx600898F0FDBE062AF67DD3D380F200539F52E04E8CA222DA finished...\n",
            "Process 77: Zx628BB0B11A734D09D44015B4D5F10CAD90535C412485404A finished...\n",
            "Process 78: Zx62B066968229B590D678A308537742F33C3A693E7C93B4D9 finished...\n",
            "Process 79: Zx636EDE3E464774759F4FFC43AD1CA60FA256F09F41B06F36 finished...\n",
            "Process 80: Zx63736C111D570844D142C38F9A68489F1C3AF66961367134 finished...\n",
            "Process 81: Zx637726D3EB093D3049C1FA44F7E885DDFB5FAB4AC2C1820E finished...\n",
            "Process 82: Zx64D8ABDFA2E7D3053A50B6A3E3EB3761A40EDF894C4D8EE2 finished...\n",
            "Process 83: Zx6727174D77521EE5DBEDCBBA7660C4E2A32651135D737817 finished...\n",
            "Process 84: Zx67A67EEF79554FEDB4301392109B55148BE639246BDBEEBA finished...\n",
            "Process 85: Zx6AEA21162FAE2D40E5720009794D60020B137000B885BE06 finished...\n",
            "Process 86: Zx6C265FEDB560B114FB7CA8D19212ACB34F9AACEE409DDAAB finished...\n",
            "Process 87: Zx6C2E49E5A10FF2383A6D6E9E296B9BA1B5D6ED90DAED83ED finished...\n",
            "Process 88: Zx6EC130BB2F5E1ECB19C1DE97A5366FE2F3049D42D76122EC finished...\n",
            "Process 89: Zx6FF2EB37C2EA7D75AFDB72C27D1CFF4D7306CA415ACD6910 finished...\n",
            "Process 90: Zx7001D8A2879148E2DB5762644ECD07771C241962E4E0C629 finished...\n",
            "Process 91: Zx77A9ACDFBD87C032A6D4BD47C9303939BAB7F698FDA3DB84 finished...\n",
            "Process 92: Zx791155B439440F506C9D48D6BE3E8C215CFC9406E63E9980 finished...\n",
            "Process 93: Zx7960025CB586E7BF6FA909BED691E51ACD5B404162529B21 finished...\n",
            "Process 94: Zx79B59C3FC0E0419702D6AB6D3F87DC16968921B209E2FAF3 finished...\n",
            "Process 95: Zx7B822BF6444125EFAE0CBE34BFE082FAB35F87CD34A7CFCE finished...\n",
            "Process 96: Zx7D3427750776456FAE73FAD9BE0A5AB930A4A8A445B914AC finished...\n",
            "Process 97: Zx7D8D4EE4E705B047A0C06E182E991F5EDD818C202CCD2204 finished...\n",
            "Process 98: Zx7D9191CF3AC6C1D93283C7120BC4246CCB12EC8FA504570F finished...\n",
            "Process 99: Zx7EB8CBD8E387BF63ED581C37CAFE7980CB4D992C1D714120 finished...\n",
            "Process 100: Zx7EB9931AA0941B211A8753255BF0F5B979AF82872A0C0D7D finished...\n",
            "Process 101: Zx7F5C9B0247EDA7DFDDFA071A1FB4CC8DC6346FDCDB1F9925 finished...\n",
            "Process 102: Zx7FF1443ED897B9B54788562D4CD333296BDFD657E0767B2B finished...\n",
            "Process 103: Zx8019CD217D62047D3A5E39B116BF85416F30FC2B90B43D26 finished...\n",
            "Process 104: Zx80A5561818F25AC07CF5BBD9824B1C5E953DD87A0349CA71 finished...\n",
            "Process 105: Zx860EE7EB77360E72DA038ADF6937F13B8B5D3C868AB15B0C finished...\n",
            "Process 106: Zx88ACB7F8111B28133F6ABC943B7FAD919B0F8A0C05ED78F0 finished...\n",
            "Process 107: Zx88D671F78475F1666A356A95B0A80F6065868CB68F83FFBA finished...\n",
            "Process 108: Zx89B488AF6EEB32B25E26A6CA85C4C1C4B92A64FC21849295 finished...\n",
            "Process 109: Zx89FC1E08F4883C85AB68717F0426C0C74E27023C72AA4B8B finished...\n",
            "Process 110: Zx8C1A2078EF9BE45B85DEC3292FCC3BADD5AA593597A6F21A finished...\n",
            "Process 111: Zx8C85F35CE4EDBFA5FCB3FDD340DB179EF49C37C39B0FDB6E finished...\n",
            "Process 112: Zx8CB9D88383D22A202509E149F9E08171C4FDF085C4080F8E finished...\n",
            "Process 113: Zx8E3B91ED97D86D109CFA0D0A330B3EC8D65D58EA4C3A5BA6 finished...\n",
            "Process 114: Zx8F595A739BFF895B064C35695C85220229B0A1913459AB78 finished...\n",
            "Process 115: Zx8F8A147874051D878B272B30A4BBB599BB4455C8821CE579 finished...\n",
            "Process 116: Zx90019D6EB68057875071272397766A7ADE4635DF6C097558 finished...\n",
            "Process 117: Zx91BF216E50E0A5CA5D56DE31AC383F4BA7024C31BAA17644 finished...\n",
            "Process 118: Zx97261754F3796E1915B0FD671479F1AB0374CB2046EE22EB finished...\n",
            "Process 119: Zx9727ED2AF24A37B2F9BC2D929138ADF34CEC353B03AC7EB1 finished...\n",
            "Process 120: Zx9809790DF26AECDF9037CC13A779C2109AD2303A52D064A2 finished...\n",
            "Process 121: Zx9A4E499E3BA61229D5D60C22ADA56973D6266643DA2F37B3 finished...\n",
            "Process 122: Zx9ACD059285DAFEEA6A2AA4E3165D5D07214AE7ECDDFC4A16 finished...\n",
            "Process 123: Zx9B4C35462848C326141CFD0DC5F1C4EF283FC19334B3E9B7 finished...\n",
            "Process 124: Zx9C70756B5B6BC8D3C7F5415BECA195B3C406529E304D5B44 finished...\n",
            "Process 125: Zx9D0627C5FADDC3AABAA7082E72F91F2645851F71A8CDDF71 finished...\n",
            "Process 126: Zx9D76C42817583BCA25AF1F14469B372700E105BFC7452D78 finished...\n",
            "Process 127: Zx9FAE5E8EE578A076D0A2FB260477EAC119844611FEE70C48 finished...\n",
            "Process 128: ZxA1CECA46F4B0B1A2E2F950D08409F265138A1910A04F5C7C finished...\n",
            "Process 129: ZxA3F00A9B31186E9B131CF5D73AFC8C6F378E8E9AB62D78E2 finished...\n",
            "Process 130: ZxA4950C0ACC3EF8B26CA55C0BCC9F4B2AAF4AC97E9BE083C9 finished...\n",
            "Process 131: ZxA659E69F833B05BB97B93549E620AED2BAE6BE7237F8AF3C finished...\n",
            "Process 132: ZxA9790D652CB6D05C84BDBF01F47D0AFB4FE35E5DE8DF784F finished...\n",
            "Process 133: ZxAA767131DAB25B91FFFD47090A45916170B3CCC54BB52D65 finished...\n",
            "Process 134: ZxAAC0790F72C11A21866712169EF48A1707029E18B6F772CB finished...\n",
            "Process 135: ZxAC7AF4D4AA93212046D8BD720933BB15B7DC75032DDCDDF0 finished...\n",
            "Process 136: ZxACB9617CCE03C1D886BBE06140035A822CD22387DC32B8B6 finished...\n",
            "Process 137: ZxAD02986A72D719698CB0EF1AE7F6D312C8937BB41BC0FCD0 finished...\n",
            "Process 138: ZxAE590FC3798601D32F4FEA88F30C04E22452E5D3D6E1329B finished...\n",
            "Process 139: ZxAE84E65DFAE5468AE5985496628B1F6645A3F29550DDFE54 finished...\n",
            "Process 140: ZxB1E644A9BA91B24975341F46EB4710A1373080D30B129229 finished...\n",
            "Process 141: ZxB341A2039401E8A693C60443A7CA3856C074FE2B3D0CDDBB finished...\n",
            "Process 142: ZxB5153E511119429D1DBFB3ADA85DACE4978C0D66980F3A77 finished...\n",
            "Process 143: ZxB98D6A25EFB6B462DCD1468CF91B9B20C9F3616162C9E910 finished...\n",
            "Process 144: ZxBD18E2DB7C51055DAF5B040481555B72D876A164010ECE45 finished...\n",
            "Process 145: ZxBE2A252CBA88052F4A6B548249B9D70F14E4552A09EFAC38 finished...\n",
            "Process 146: ZxBF4F3E1B31BB16E1DE2DFCD18AE121A6E64EB6602ED786DE finished...\n",
            "Process 147: ZxC00AC887E580A439FB94EA0D14AA397D0E6A03655F32DE93 finished...\n",
            "Process 148: ZxC164015E40831B3B0E18A1E8FD9918DC82FF93BA48FAEED9 finished...\n",
            "Process 149: ZxC2713F3C71BF01D81229251584A45694670859098A88DEB2 finished...\n",
            "Process 150: ZxC3159DBA2C781D710771BCA8F153D7303E1A5BD5755A176C finished...\n",
            "Process 151: ZxC42D3022E6C3CE0C9DD574BF1D93C2D9C1E994479C7E2B0B finished...\n",
            "Process 152: ZxC4F6B3B9C7E6DDBC7F1AD6F7FC97B7F3B3D68691720D4435 finished...\n",
            "Process 153: ZxC5B47FC8970E84C0273DC3589FD1B49BE48E90082115EC11 finished...\n",
            "Process 154: ZxC7F93D23D81997D7158951EDAAC448DE709828F562E63B5C finished...\n",
            "Process 155: ZxC84914C04740C6E11D7199081CA921DAEA8E1BCAEB31F2F3 finished...\n",
            "Process 156: ZxCA41B3DD150137F9CA7D1459E9B006264D085DD41FFA3E31 finished...\n",
            "Process 157: ZxCCB3EEF9389115B646E3EB47019192E0854726CDB3E312B6 finished...\n",
            "Process 158: ZxCD050BB27F55FD0609CC2696F4A942E48F72FBFC999D7302 finished...\n",
            "Process 159: ZxCD22575B2A17483C01B82F2F6DE4BC5E4EAF57DC653B24DC finished...\n",
            "Process 160: ZxD04A91569E96BC232412EBF2B3932A78F5E87E4810FEE32B finished...\n",
            "Process 161: ZxD1290BA3F2C808F2F3C5F8DDE17A1E377342D93BFA10E60E finished...\n",
            "Process 162: ZxD1290BA3F2C808F2F80F8C16260A410922E6A41441749C1F finished...\n",
            "Process 163: ZxD3CB0C4524F67A4DC680470CA749853F06FDEC73A6C14A4B finished...\n",
            "Process 164: ZxD77AFB6361664508339CE17B0DF5B3AAED1BDA42A3502DF1 finished...\n",
            "Process 165: ZxD8736DEB1A7AFA67733E095769BBD236FFAD5150198E5109 finished...\n",
            "Process 166: ZxD8B05B79AB0360DC6AA08EAF2ABE755F8D85605805879606 finished...\n",
            "Process 167: ZxD9C2EB1D5809287187CFD08FABD6728D20DD6F5F6B17FEA9 finished...\n",
            "Process 168: ZxDAADCC811EB06CD6BB950F7E47C153D7E3542485781AFEB5 finished...\n",
            "Process 169: ZxDCB1D0A8AFA3BE4CA12B6011371A4C18E857E6B34D0F6CBD finished...\n",
            "Process 170: ZxDD934EA54F9887DE80AC3A5335A0251C1A50CC3AFF831D62 finished...\n",
            "Process 171: ZxE14FC86D8DB8F334E238A7401495A6EA732432C1C512A641 finished...\n",
            "Process 172: ZxE17161666FB01B0EC79D49DF3ECC93A77665EF5D978008F5 finished...\n",
            "Process 173: ZxE1BDE57D85B29E6B389E1EDFECA4768AE3321FF8D240C449 finished...\n",
            "Process 174: ZxE22AA5B99B19F2C890526A3A3AD6AEC539EC1B3F06C1D967 finished...\n",
            "Process 175: ZxE371E276426F15AA8D214C6719F38F0D2344C50355E0393C finished...\n",
            "Process 176: ZxE371E276426F15AAE78232321244D88B84128A3F7F8DC886 finished...\n",
            "Process 177: ZxE379608F86D71DD957F64A826080DEC2BEC3664FE2D70DBE finished...\n",
            "Process 178: ZxE379608F86D71DD9A2EE5FE1F9BCA94B1526AF3E1F5D036D finished...\n",
            "Process 179: ZxE51CD6EA3575F7429C27DEF64C4BFCADCD22BBA3960B34A8 finished...\n",
            "Process 180: ZxE5432B1C0A8C6480EDCE8D6A04FD05C2893FA3335EEDC24A finished...\n",
            "Process 181: ZxE5D406C8012C9EBEB11C5548C38B4E6925EC1CBECC33E524 finished...\n",
            "Process 182: ZxE90454592D06545CC14B4A48E7BB560D689A90D0B1C5B3F2 finished...\n",
            "Process 183: ZxE95E62069BD19852B3213F41681B488E3608E3272E5DEB14 finished...\n",
            "Process 184: ZxEACFC663D819866E172E1DD2EC69EF67339C975F9A23A451 finished...\n",
            "Process 185: ZxED7B1BDA85AD42455DBFBF89EE268C7A0D8EEE5718603F6A finished...\n",
            "Process 186: ZxEF511B489D3D04DD06E2FA29A75D940146DD16563BD866C4 finished...\n",
            "Process 187: ZxEF67EB2287C54DE9D545EA9F8D764BD5702AF9829424464E finished...\n",
            "Process 188: ZxF05120573C427C0597890DF3A1CE26BC669097F3F1694F7C finished...\n",
            "Process 189: ZxF11089D64DA1DFE18A84F981E53FFFC6654045FF6009E0B2 finished...\n",
            "Process 190: ZxF1D8E31B55562E67EBA90A70362DA561740036733C5C1E5C finished...\n",
            "Process 191: ZxF68BEE7E1F60DFA987A5CAF050A21BB2C8E5752CC1995DC8 finished...\n",
            "Process 192: ZxF6C74D5FFC69B6EA16D84D90132DF4FEEC24B8AFB78AC6B6 finished...\n",
            "Process 193: ZxF752E48B1F00DB74869D170A132A88E33A4B892B007EBFBE finished...\n",
            "Process 194: ZxF9F4AF14D7B1EF7C8A8B81093B86586B95997D0897E53F7C finished...\n",
            "Process 195: ZxF9F4AF14D7B1EF7C8A9B752879EC4ECFFB5FCDFCF843C9C3 finished...\n",
            "Process 196: ZxF9F4AF14D7B1EF7CD85451CABDD3FE1FDE0CF669B1D18B67 finished...\n",
            "Process 197: ZxF9F4AF14D7B1EF7CDC6F8B4AF9C24B1D2679C76AAC1B8010 finished...\n",
            "Process 198: ZxFABAF7EB4A6A337DAC455318150E97C294299A3806397653 finished...\n",
            "Process 199: ZxFFDF9619CAEA38ABE54015BA803F317F987FD3903FA531CF finished...\n",
            "reading traindir='Cropped_60-316_150-406_11-71/Train_Valid_Image_cropped'...\n",
            "xlim=[60, 316]\n",
            "ylim=[150, 406]\n",
            "zlim=[11, 71]\n",
            "Process 0: Zx00AD16F8B97A53DE6E7CFE260BDF122F0E655659A3DF1628 finished...\n",
            "Process 1: Zx00FE1B9A88E88C71CF81D0736F23E88BB9C35E2BCDECF501 finished...\n",
            "Process 2: Zx00FE1B9A88E88C71F8D11F50C2B5FBFEB3461E67BE1E83B8 finished...\n",
            "Process 3: Zx014E4DF04789E7E61C3B4876CE4D122DC14E0BB842E42E7D finished...\n",
            "Process 4: Zx016CBC4284052F6A74A56DAFFB0B39B95D4DEC066028AA4A finished...\n",
            "Process 5: Zx018905C639589E81D4C91553041B845F583C3365B076C8E1 finished...\n",
            "Process 6: Zx01F90B532F87127D864B9194B92EDDC3B0EA988ABB5E1D1C finished...\n",
            "Process 7: Zx039B4A139FC862D542D2AACC247C46DFCE9EAA705B5DEF40 finished...\n",
            "Process 8: Zx04424F2CF83E0AD3059C7706FBE311FDC83AAA8265D2325D finished...\n",
            "Process 9: Zx04424F2CF83E0AD3DDF3CC99A41482D909CBC495238F2FEC finished...\n",
            "Process 10: Zx052D253409F40A03B71D313382692559FB09F771A41F754A finished...\n",
            "Process 11: Zx0534778884B0E2267FCC4CF2BBF361589CD1D845F4A9C9DB finished...\n",
            "Process 12: Zx05576CE976F91BF416232FAF4CDF5F6C5DF852ADCA2B9DD8 finished...\n",
            "Process 13: Zx06DF7CE50F0A454CB7E53B3918C49334BFB49CACC36B7438 finished...\n",
            "Process 14: Zx07C5208D04A267A61BFB6EC968FBBB3DF25C245A6893273D finished...\n",
            "Process 15: Zx0800DE5C96380322A41C31B46264D40D1B72FEC49745785C finished...\n",
            "Process 16: Zx0800DE5C96380322E442453B99E25D6F1282F2C4A610A497 finished...\n",
            "Process 17: Zx081F9B5A0C06A23AE10DC1E14E6B9B4DFC71FBCF3B559AEB finished...\n",
            "Process 18: Zx08DA48B45B5C7D0182C369B8E0B013CAF9EEA43199E8AFEF finished...\n",
            "Process 19: Zx09413D933AD838CE8DB00704AB349855FE4721FC26037F37 finished...\n",
            "Process 20: Zx09D290397499695039422FD2002292BD781E5203436441A3 finished...\n",
            "Process 21: Zx09D29039749969505F54A1E8982B5BF5670F5EEABAE98ECF finished...\n",
            "Process 22: Zx0A5FF3169135AF89B21F2A97A7278E517EC8B499B0F14C20 finished...\n",
            "Process 23: Zx0AA2C956EEA5EAEA0DC0DA2606A8F8D0F334B97FDD860E1F finished...\n",
            "Process 24: Zx0B06041DB37FAF0160B564B48791D3B58804B731DD57F4AB finished...\n",
            "Process 25: Zx0BCA7F5108A7E8BCC2AB6094DE20A5C243897FCB0C82E20A finished...\n",
            "Process 26: Zx0C72F2127A469CAA6A49C516DC18B2706A43700721B5D8AB finished...\n",
            "Process 27: Zx0CAA076280D8EBEAA52926C4C6F1DB221F5C58F6EC8B2593 finished...\n",
            "Process 28: Zx0CE3BA2363A72325A7BB82B688463DBB79D224C67883F062 finished...\n",
            "Process 29: Zx0CFEAEA49D4E19D1219A4C230C6D82751179B29EE9CA9F49 finished...\n",
            "Process 30: Zx0D204781E3C58AD6EB37CC2E6EC18B935B00F9CC5D987220 finished...\n",
            "Process 31: Zx0E392B7839BC0EDBDA8BEAC12F819B61409DC2804FB3F997 finished...\n",
            "Process 32: Zx0E3C20D9BB248666701B02B803ECE6BC4306B85A53E6DE38 finished...\n",
            "Process 33: Zx0E64921E82ED12C88791307B1B09E979ADC3FBD3845D3927 finished...\n",
            "Process 34: Zx1060A72A4F5C5FFE63F395F263138C39C901CEA1B608B5D3 finished...\n",
            "Process 35: Zx10E5A02B21E2368FB1C4CE0CBD7EFC890FAA56ECB35CBED2 finished...\n",
            "Process 36: Zx117267214EB944C6E8593100AAC6E8FE5D47143C67350F53 finished...\n",
            "Process 37: Zx11E4702AA837EC465D5D80C1BC23104AD4388C527E94033D finished...\n",
            "Process 38: Zx12530E751E5315C37CEE489CA53DAD4806EAF276AEC9F18B finished...\n",
            "Process 39: Zx12530E751E5315C38EEF85D4C1B0308338838B8C2983106D finished...\n",
            "Process 40: Zx12530E751E5315C3F09F11CFCE42D6BA786BE280C8BA5C5D finished...\n",
            "Process 41: Zx12CD0450CBDF59B92B8BFF3AE5296DF73C619990C8117DCE finished...\n",
            "Process 42: Zx12E8C030B31F39B52D2C9FA262B92370A9C7BAFDA12373AF finished...\n",
            "Process 43: Zx12E8C030B31F39B5C0374AE9C7AA0FD527E0F819E430AA4D finished...\n",
            "Process 44: Zx12E8C030B31F39B5C62831916119C7108A9A7C2EA7625746 finished...\n",
            "Process 45: Zx13380F22EFEA0B62205EC17938D2A84A71C8153C1D25B7CF finished...\n",
            "Process 46: Zx14087FD7C271A7D92C0F8CF2AD8131123F9C59DAE6DA5705 finished...\n",
            "Process 47: Zx14E419FB0929647C385FCFE5FC3DE04521DBD602302EC152 finished...\n",
            "Process 48: Zx14E419FB0929647CE43F1FACB88A1F623BAF9D0F6836372F finished...\n",
            "Process 49: Zx15FB4DF1D36A7B4AA9B00B4D8DE5B757A9EDD1490640008D finished...\n",
            "Process 50: Zx15FB4DF1D36A7B4AD94C813D415FA88503C2381519A8357D finished...\n",
            "Process 51: Zx162F641C827B6EE83C571BF7AEA8A018024AC788B8C0B158 finished...\n",
            "Process 52: Zx16D93043D5D4E4D3393FB6C9DC8E305AA39CC4FCDD1B952F finished...\n",
            "Process 53: Zx171AFF296B798AB089F4652DF7A4E18DF96CFEE1B08244E8 finished...\n",
            "Process 54: Zx171AFF296B798AB09AD7911E3669EB7736CE2062AE9F80DA finished...\n",
            "Process 55: Zx17405CFB23569FC22C6738129E6305B6EF0398BE89533406 finished...\n",
            "Process 56: Zx1843C96056436B4D01517C950238025999165FE4A16A8110 finished...\n",
            "Process 57: Zx1843C96056436B4D91A7A4727E773B3964907516AA7E203F finished...\n",
            "Process 58: Zx1882493D839CC3171D0FEA7AE764BB5BC308D707E75CCB60 finished...\n",
            "Process 59: Zx188AD4803C40A1FBE691B933154BA5659529C18A8032265F finished...\n",
            "Process 60: Zx1950A84DEF7878F0254E551A842C621B4740CE91E85CE8E2 finished...\n",
            "Process 61: Zx1950A84DEF7878F043E3BB7A5D65E310BC050172FCA7CC14 finished...\n",
            "Process 62: Zx1950A84DEF7878F0CDEE2AE1E07365E7C7F651215ED72155 finished...\n",
            "Process 63: Zx1950A84DEF7878F0F9E32AF9F820CA049C5880BA46C37601 finished...\n",
            "Process 64: Zx1950A84DEF7878F0FA4F817AEE5D56DF2534349D8C94B8F5 finished...\n",
            "Process 65: Zx1977ADC4FB423A510927DE5147FA1581381604AC0BB7E825 finished...\n",
            "Process 66: Zx19A878BE9D7FCDD564CF0D0630D0E05F305D03B734E6FBE5 finished...\n",
            "Process 67: Zx19DC911CF61B42EE4F9E967F39224A9297426E7C6AC03D8E finished...\n",
            "Process 68: Zx1A447D96D387B7C45053917769DF2A154E9A765A87D51A24 finished...\n",
            "Process 69: Zx1A5E6FEE5BA94F6D9C91E1BBACAE6959AB96EB6442A0524B finished...\n",
            "Process 70: Zx1A8AFCB885E0D8BC44A0ED9AEF59DD90D90777A8345747EE finished...\n",
            "Process 71: Zx1AC280D33D45A2973879438429EB6E09CB3DF1914B26DED8 finished...\n",
            "Process 72: Zx1BBA21D9DA37F2D063D4A85F624E8D72C0410728E334B442 finished...\n",
            "Process 73: Zx1BDF4C967678080E6779C2713B10F3B23CE3C1CC7F2CC8BB finished...\n",
            "Process 74: Zx1C6B814369828D2A1FE29B8B7CD4D21752A8CB1AE56781F5 finished...\n",
            "Process 75: Zx1D4DA6EB30F0E21BAE9B15E262721240DDC420DD988AAC16 finished...\n",
            "Process 76: Zx1E550FA95B8A7552A06CE65E3BEED1EE034D46B71AC2990F finished...\n",
            "Process 77: Zx1ECC8B15EE2388642B2C05331250EEB951BE580304D38622 finished...\n",
            "Process 78: Zx1ED66EE4F0492C4C63EED347F5480C328DED4C1955880614 finished...\n",
            "Process 79: Zx1F0951EDF2B31E5E932707FD021961BFCF8586E917ABD120 finished...\n",
            "Process 80: Zx1F0C08B15A2FA4B85694E240248D208FBA9CDCFA1B19D3E5 finished...\n",
            "Process 81: Zx1F2D6E616335D5D7A26B93C9CBB01658781603DFF3B46DF8 finished...\n",
            "Process 82: Zx1F83D85BC2A7A55A165937332E32D7646399FC21D7283669 finished...\n",
            "Process 83: Zx2030E3E34625286F57D63B10F1912D4A18F991C22F6463A1 finished...\n",
            "Process 84: Zx2030E3E34625286FAA000B1D4CFF2D07BD489B513C82E9A8 finished...\n",
            "Process 85: Zx208D824934941221A20E8F9C315A6AF45B61E20DB5B3F4E5 finished...\n",
            "Process 86: Zx20BDA35C14C29E61E035F264496CD4F4F97D288082512F40 finished...\n",
            "Process 87: Zx213F87C44A60B71BFE117EB0EB9A5870E0CEB9197701FF60 finished...\n",
            "Process 88: Zx215A14F9057233B70538C32D1748F817319662FD34E6690A finished...\n",
            "Process 89: Zx220A8CBFA565CB8498E6FB702C7E03B920F2361EE7B62A6D finished...\n",
            "Process 90: Zx22D56AA7E544151923FF1A90F02F59919EC170C85187649E finished...\n",
            "Process 91: Zx239BC1FBE61089C9B2368A86E36BDF3136292547D9C0EBC4 finished...\n",
            "Process 92: Zx23BEFE24BACE6B24798B7B8ADA70E5DE0151270247B6EB07 finished...\n",
            "Process 93: Zx23BEFE24BACE6B249C37C240B74348796802474012995344 finished...\n",
            "Process 94: Zx23CE39ADA19715437B08F04B4F1E962B9E854E1DE01B814F finished...\n",
            "Process 95: Zx23F8F44ED97A93B2C3487F13DBE296C7A694804866EFF350 finished...\n",
            "Process 96: Zx246E98149CE2B848DD11D93B1DAC382E56997966B5FB4B1A finished...\n",
            "Process 97: Zx24711EE075325408C49B564C1D646B2F1A6BE15A31716D85 finished...\n",
            "Process 98: Zx247C48E8B7D1EABBA1DEF5CD4AC1D8E8ACAFA8C759A85107 finished...\n",
            "Process 99: Zx25DFF1358FA299AFD313E29BFC17C150096D2B97BDB7E2ED finished...\n",
            "Process 100: Zx25DFF1358FA299AFF037CA3B98580B73B25B4E2B3B4172F3 finished...\n",
            "Process 101: Zx265C799B18CE4D6DE5A3671D65F5B018D713919204868A0F finished...\n",
            "Process 102: Zx2727C103B14E93A07709A14282274DD35B6A23AA6127CB0B finished...\n",
            "Process 103: Zx27ECA58C0AE0031815C0AE04CA9002F10E1FCB7F5686AE48 finished...\n",
            "Process 104: Zx28C2905F39B77B64E242963BF9BA3069E135FDCC8A782720 finished...\n",
            "Process 105: Zx28CA9394EF10537307B5B8DDC24D756E20354ED9E8B3237A finished...\n",
            "Process 106: Zx29249C3340706D8A658BC96F288DE057693CDCA0C50018FF finished...\n",
            "Process 107: Zx2933A24F5182C585C1ADECFA9FF9EDDB3F9432CBB9E30A24 finished...\n",
            "Process 108: Zx29D944DDC12D73E641FD78628DA3CCDAD0CCD13F9C098056 finished...\n",
            "Process 109: Zx2A3C9F90B97FC5CF48D8F0046D61E7AA7B868D85B83054AE finished...\n",
            "Process 110: Zx2AAE948072335FDABDFFA2D972B5638F4069A5D8D0B432B8 finished...\n",
            "Process 111: Zx2AB19BB5DD94C321AF90101CD847A97A335713B9A85CD6E3 finished...\n",
            "Process 112: Zx2AF7910D2CCF58C07FF4E3EFC228F15E7DBD8E71193CA7BF finished...\n",
            "Process 113: Zx2B401975A0A7FE26B9906E1047BB2A92BC4D80CCC69F0DC8 finished...\n",
            "Process 114: Zx2B7652752183E77F7E8BC4D7F8608C151B41BFCA53475095 finished...\n",
            "Process 115: Zx2BDF57DC47BEBC12497878BED38545FC731D32F176C58DC9 finished...\n",
            "Process 116: Zx2BDF57DC47BEBC12CC3C156DC1BCE0C07D16D40692007D96 finished...\n",
            "Process 117: Zx2D43BBDA962A8DC656EF3C61E52CC75604BAD0E6AD08F938 finished...\n",
            "Process 118: Zx2DD7E0642A4827E03C235724922D866A37D619A859B89A73 finished...\n",
            "Process 119: Zx2DFEA8EA90862E241A9E13821C48D3B2E872D0C2A8A32B0B finished...\n",
            "Process 120: Zx2E05E179442C54DBB858D2E4A4793809F073143901DE68FF finished...\n",
            "Process 121: Zx2E37BB6B0F79F459E7F8431E590AE9020866183BAC616B5E finished...\n",
            "Process 122: Zx2FA626656496845ED534D6B5B760541A21647F2F5D42B581 finished...\n",
            "Process 123: Zx2FA626656496845ED6C525AEB7549C132AA41B54CE30EA53 finished...\n",
            "Process 124: Zx2FDB8744E9FC6EA5EF801273D38E91C4DF8A76ABD71C8668 finished...\n",
            "Process 125: Zx3093899D9E29307AC4914C2AADFC81EE001ADB65AC761C42 finished...\n",
            "Process 126: Zx30EB98600B79F8C276472CFEDB2C86FD69F24202CC043683 finished...\n",
            "Process 127: Zx3140C2C02EDB97CF639FD86D9858631782AA626B70EBD723 finished...\n",
            "Process 128: Zx31F5838671135830967C7971C05599F30898ECE6B723A12B finished...\n",
            "Process 129: Zx31F707B0E35DF9B8B4A76C9966A99CF199418456428E600C finished...\n",
            "Process 130: Zx328EF1C62C85DF795D818DD80646CAB28474E58B37DFEDA1 finished...\n",
            "Process 131: Zx33560A1F5550D0D3F5A3877D204D89E91636D7B0E10E71F0 finished...\n",
            "Process 132: Zx339923E0B41545328BB08A03DF57E5D8769CDC9340662F72 finished...\n",
            "Process 133: Zx34C115FB55D8474D6F19B61FC5388EE4CF710E60F31443C5 finished...\n",
            "Process 134: Zx357B92BC3020A6B71E71EAAE33CC0DF854572A263A40A123 finished...\n",
            "Process 135: Zx35E3E6E7CBA729A6039A604D4E5030CDE9F1D1B8E4B25F23 finished...\n",
            "Process 136: Zx35E3E6E7CBA729A68C78E99308353E84782E6E91469ECDC3 finished...\n",
            "Process 137: Zx35E3E6E7CBA729A69C4D5E5FF5C1FF0B522175A77B8C4CB2 finished...\n",
            "Process 138: Zx35E3E6E7CBA729A69FFB90491C3F4F8A7CCC1928F15531FE finished...\n",
            "Process 139: Zx35E3E6E7CBA729A6FB73B987CF05071ECC712D25113641E4 finished...\n",
            "Process 140: Zx35E3E6E7CBA729A6FC8BC9B2BD86D23A421B431FF734CD90 finished...\n",
            "Process 141: Zx368E67F85BF96985DC439B3FE00ABF3E804296FA6D8C771B finished...\n",
            "Process 142: Zx36B440051EEC06B876C7C58CC95BE6A4967D53C10BED4B2D finished...\n",
            "Process 143: Zx379B34C33DA0FAC86BD8ADFCFC1B2CF739D4C90FEFD47551 finished...\n",
            "Process 144: Zx37CF014F6D0060337C7856CEE7CB09E488C90A330822072D finished...\n",
            "Process 145: Zx37F988F53E9C391591766FE9726D7E92F0D6153B245C18BC finished...\n",
            "Process 146: Zx3889EF0BF9B77B23721E34BC2031D10FE9DF1A9419F4BB2E finished...\n",
            "Process 147: Zx392DC2738CF9E3FE3D894559CF117E10EF36BBDC218E7896 finished...\n",
            "Process 148: Zx396059C7C80AF72A2B9B5987A8DB6F28222500A9F881535A finished...\n",
            "Process 149: Zx3A219BC45F1B5BAB2AF0AFDABDA623D33DD885F24C4D36CE finished...\n",
            "Process 150: Zx3A3EABEA40351DA0CAFC4329114A1D243B5675706C49F661 finished...\n",
            "Process 151: Zx3A5E7419657D5644214B6C229CD7862ED9D7FC5DBFBD56F6 finished...\n",
            "Process 152: Zx3A5E7419657D5644ED0DF48D1BD528DE82D174588DE43B26 finished...\n",
            "Process 153: Zx3AB91ED4F2F9AA3B7A57258D3F98FCCD7E26E12DDE6A45B3 finished...\n",
            "Process 154: Zx3B1D6C9714B7C54C43C7170067F7F17876E134172A8F59AF finished...\n",
            "Process 155: Zx3BBC3ED501BABA5D16E5B523FCD04D4C2AB0E94792A4401E finished...\n",
            "Process 156: Zx3C73BAEB9FF5DF9B3A6958528BDC3FC0CA1D8180877BACB7 finished...\n",
            "Process 157: Zx3C911819A0051992F399041B71D79C707FB5FD77A1B605A8 finished...\n",
            "Process 158: Zx3CAF1DB7C360026E40C13D13A8990245800B461709D2A425 finished...\n",
            "Process 159: Zx3CAF1DB7C360026EC045CCBAF6DD38283021AEF22B25D811 finished...\n",
            "Process 160: Zx3CDC546A37075405DFB8BF11A7BE8449A084A84EF4EA554E finished...\n",
            "Process 161: Zx3CDCA9F641D62305C95CE3BD60D231589DA1BB1068CDC923 finished...\n",
            "Process 162: Zx3CF258177C07C53E74433236D3E2AC22B45A8FFEC3DF495E finished...\n",
            "Process 163: Zx3D2CD874E8BDB341DEA1814FADD0130D265176FA561C0799 finished...\n",
            "Process 164: Zx3D83B53CBABAA156CAF6096C44B4820E38236E4FB31E4A61 finished...\n",
            "Process 165: Zx3D9CAD8F3C4AD007279632AA3B99D80B2120EC4D76E81C98 finished...\n",
            "Process 166: Zx3E54BDA9793D4E7B0A260267CD3901E9B5ADECDD307E0E32 finished...\n",
            "Process 167: Zx3EE32B570B8DB6863F4DA6447AE91C61D04AFF02F7E64F04 finished...\n",
            "Process 168: Zx3EFC704096878550259560DBD492CCDAC89B53588BA1B90B finished...\n",
            "Process 169: Zx3F0AA5B24089383F0C3CCA7C081EF5810B5C8B85C069D780 finished...\n",
            "Process 170: Zx3FBF0E56F75857106A79F089DD99578868683577250E1038 finished...\n",
            "Process 171: Zx401C2F09F8961880B81DE71DC3591264C061FA1F64536698 finished...\n",
            "Process 172: Zx40816DF96E52884DF695E52EF19263822DE95B49F0649B4B finished...\n",
            "Process 173: Zx40F840D637C6BE3A1BE6C9EC9082C0F9FC4989466ABF83AD finished...\n",
            "Process 174: Zx40F840D637C6BE3A6FE087E78441E9BEEADE6FB46EED707E finished...\n",
            "Process 175: Zx412666ED5D058647EA3C1C62B7B2E3EA254193AAC85F3CC1 finished...\n",
            "Process 176: Zx418C74DF2B303C5B8E30971984584650747FFD8B71B7CF90 finished...\n",
            "Process 177: Zx41EBD2C0D9F5ED631FEF89B057AA2B0E20A73098795E7D69 finished...\n",
            "Process 178: Zx4266C1F9BEFA9C6A16FD59791D1CC9569A8EB0209378ED9A finished...\n",
            "Process 179: Zx4266C1F9BEFA9C6A74B3118E30AB5E08510E6818B3513FB9 finished...\n",
            "Process 180: Zx4266C1F9BEFA9C6AA0DE3C909EB501A8AB41DBF83C8A0110 finished...\n",
            "Process 181: Zx4266C1F9BEFA9C6AAEE9EF65BFE5E6191A7B2B2AB0382526 finished...\n",
            "Process 182: Zx427D8F8A6DEFF9BF7B2EF54E37E95B76F6153BDFDE9D9A48 finished...\n",
            "Process 183: Zx427D8F8A6DEFF9BF809FB207806C6707A43B2B9D9E3D4E72 finished...\n",
            "Process 184: Zx4285BE9103DDFF6D87B65634773FDAA54C9C783C27505529 finished...\n",
            "Process 185: Zx436CAA0C532C93523AA7FB9BC51F9A3737EAFA1D61767CC4 finished...\n",
            "Process 186: Zx43FC969EA95F318B07022BABAE9D90249E0CFACFF25F792B finished...\n",
            "Process 187: Zx441D6426B1525578210227CCB9A039239447D429709EFAF7 finished...\n",
            "Process 188: Zx447638CD7DD8D149C3BEF257EABAABF4C46F734C71AE6981 finished...\n",
            "Process 189: Zx447638CD7DD8D149D3B2E284E3E26B33E9999753A141C5C8 finished...\n",
            "Process 190: Zx44DDADDF8B1E5B444E883375CD5462450F3905013F5C97C7 finished...\n",
            "Process 191: Zx4553C091B4BEFA9D501DF368358E07BAD8C6CB96EF0E3653 finished...\n",
            "Process 192: Zx4553C091B4BEFA9D8CC7280E593AFF94F9E98724858A0654 finished...\n",
            "Process 193: Zx455FA34A3BE4D468CEECAB6E05B340B28E79975DC74FB194 finished...\n",
            "Process 194: Zx45F13921C226C17F102A4F606603CDDBEA75BE28A72E2BE0 finished...\n",
            "Process 195: Zx45F13921C226C17F462A75B6CC7838AA21C2D3021AC18ACC finished...\n",
            "Process 196: Zx45F13921C226C17F9A7B30076DC71FEFEF892B3B7EF4B61E finished...\n",
            "Process 197: Zx45FD7D8A9273DD8852F512C92FB230C54878555B75598939 finished...\n",
            "Process 198: Zx46869E52A3F149236E92AFF4B153AF238C79D10725FA71D7 finished...\n",
            "Process 199: Zx46869E52A3F149239D84F215C0B9EDB557D049DAE7C12BED finished...\n",
            "Process 200: Zx46924D16A41AB87F8EA418222C570A092D58F528C0E17C9C finished...\n",
            "Process 201: Zx46E8D3737980BCE318ECFF231D8E8E68BADF834D2C904812 finished...\n",
            "Process 202: Zx46E8D3737980BCE3A7193955279C6617A926C56BF6DC2916 finished...\n",
            "Process 203: Zx4725243262554FDC2B80C3627CAE5B3951CB1B81134D392D finished...\n",
            "Process 204: Zx4725243262554FDCE62048D48AED30EB82CCA45F300E2133 finished...\n",
            "Process 205: Zx47787568849DA67380F1BECE18D8185F851E92DEB0B22466 finished...\n",
            "Process 206: Zx47787568849DA673E708BFD5C10F6C55109F48B2BD0220CF finished...\n",
            "Process 207: Zx47F849224B4386F1F88873AE64402F3E1783E527C68B174C finished...\n",
            "Process 208: Zx48E620D924CB07B41E645DBEC9D7AA57AE2EAC78CA45BC5A finished...\n",
            "Process 209: Zx496C13E394BED37D1BCB2A89DBC1FECFAE893DEB04DC773D finished...\n",
            "Process 210: Zx4A3A3EB7F67074DEA9C5668137108C5BDFFE5AD82B6C9968 finished...\n",
            "Process 211: Zx4B3FCDA4F002E6F7DC5B4E3A1C0B374F878D53CD81E1E43A finished...\n",
            "Process 212: Zx4B6596BC6B8F4E453F94CD18A4F442557E1C337ABE838769 finished...\n",
            "Process 213: Zx4B6596BC6B8F4E45528220BA49716ABC5A1D36C7AB70748C finished...\n",
            "Process 214: Zx4BBBE8ED4ABA846DB16B6B6D6836D742D8EF280D0E45CD33 finished...\n",
            "Process 215: Zx4C840C22A6CE7B1E6D6CFD56353E464340097A6A450AD1FF finished...\n",
            "Process 216: Zx4CD16CC71906F530428B1C4283EAB7915D7BF3C29CF4EA15 finished...\n",
            "Process 217: Zx4CD16CC71906F530977DB9230FE057C82495D1E34DF0FE3D finished...\n",
            "Process 218: Zx4CD16CC71906F53098070226ADFA18E786514A2D5955BC24 finished...\n",
            "Process 219: Zx4DC770B0CEF5E3B5CACF89B1C31282A563AA1186358D099C finished...\n",
            "Process 220: Zx4E65E57D92E3B1AACBD961CAB8541E13A5975685B7E45EDB finished...\n",
            "Process 221: Zx4EAFC9446FC2FDA96475B0F321C447A4D8889B907C7D9914 finished...\n",
            "Process 222: Zx4ED2135FF0A55C3D7A4B8D120D480744B2AB59059A00E138 finished...\n",
            "Process 223: Zx4ED2135FF0A55C3D7F1BAED00A9DB4024C7C414B49313DFD finished...\n",
            "Process 224: Zx4ED2135FF0A55C3D813B23BFE9225DC9B3593766EF832279 finished...\n",
            "Process 225: Zx4ED2135FF0A55C3DF37F0C3D518BEF91E06140DA413A2713 finished...\n",
            "Process 226: Zx4EE17C1A79A4E37821C471B90E1694F15799373A2669C6E7 finished...\n",
            "Process 227: Zx4EE17C1A79A4E378EA88BEA9904B740828B28D6018979D29 finished...\n",
            "Process 228: Zx4F4C96D1D988000B83C914F75CF613B65D523A6FE968772C finished...\n",
            "Process 229: Zx4F7C67B1B416E7F41724AED528381DCE36E232E1B962B78A finished...\n",
            "Process 230: Zx4FF8FA975791743419B6BAB67980A5A742C8B1F1C7CA1D53 finished...\n",
            "Process 231: Zx5018996AE3D312B7C7CC6D1D0E2D547ED07A494F0D3A709E finished...\n",
            "Process 232: Zx504AF1B40D661E3182C6531F7B46480E7F41078D06CDCFAF finished...\n",
            "Process 233: Zx504AF1B40D661E318808E342755F5F8F5F2176329B1099FC finished...\n",
            "Process 234: Zx50A6A79EE36E3CCD5AA6014B76839AC1847143AD49447EA3 finished...\n",
            "Process 235: Zx516EDA06AFC86A96CF83E05B1E2C72062F6B42B007CCC45F finished...\n",
            "Process 236: Zx516EDA06AFC86A96DEF620D64057D24304932BBB29032A2C finished...\n",
            "Process 237: Zx51A80B3E99993CFE8D49D032D315D5AA7470D7B51AAA3BA5 finished...\n",
            "Process 238: Zx51CD05AAA1BF2AF178052BEEE6720CCE39FDAF9ABB7F7EBF finished...\n",
            "Process 239: Zx52A1B18E58F40C8FB77C2A69696B8742CD80BDED294F9DEA finished...\n",
            "Process 240: Zx52C5BF85821A07F0BA9C171C7A9848144E1316D64660557C finished...\n",
            "Process 241: Zx52F220173F215CEE2AF44E2741D07661594B72C69AE57DEE finished...\n",
            "Process 242: Zx533EC33D04581309BAE79E02170CAA48037AB85859283614 finished...\n",
            "Process 243: Zx53427F159B58FC850825C73FE4FD5EE6F9F5004A129732CD finished...\n",
            "Process 244: Zx539AA3BFF2614BB114CAAD4E135B24474C2FD45BDCF3C18D finished...\n",
            "Process 245: Zx539AA3BFF2614BB11EC301F922DF1D6EB66F648CFD86B6EE finished...\n",
            "Process 246: Zx539DB79E41F6AA2BDC7E79B33C76FB6FD5585583B66DDB1D finished...\n",
            "Process 247: Zx53C966B8FF31C915F35CBBABB90687CADB06D59789663C41 finished...\n",
            "Process 248: Zx54187A4FBD409DDD063160262732D37E9CAEFA2A2FC29570 finished...\n",
            "Process 249: Zx548829E2295B777477EEF5AD7B52516483F97FE03FFCD0EF finished...\n",
            "Process 250: Zx54ADC117CB68757CD26FAECB856335BAEA518BADA3B1D562 finished...\n",
            "Process 251: Zx54E4C11D0D91C0320F543B0FCAE06DBC6E06E12714DD7B01 finished...\n",
            "Process 252: Zx552814BC181CA38B4610252231F024FFC655093C180B1094 finished...\n",
            "Process 253: Zx556FFA44D63AD311B1EA1654E65E580B12F368456EB8402A finished...\n",
            "Process 254: Zx55AD3019A3318C2B3949A3914CC9AC3C90BBF24D783964DB finished...\n",
            "Process 255: Zx55AD3019A3318C2B6C699D41E4EBE763BC4E47BF4E9BFD8D finished...\n",
            "Process 256: Zx55AD3019A3318C2B9B2E59E2B3FF6297E8A5FA91A1B64E5E finished...\n",
            "Process 257: Zx55AD3019A3318C2BD693F2094679AD6751F86FF222B86674 finished...\n",
            "Process 258: Zx55AD3019A3318C2BF1342646FC3BC5AFD28C776950E8D4C4 finished...\n",
            "Process 259: Zx560FA552A9EA24CC8B312C0989F2E7131DE48CD20C69FFCC finished...\n",
            "Process 260: Zx567CD9145A3FAD22F4F9AF5F7704C9AC0822FA6A2845A546 finished...\n",
            "Process 261: Zx569638AE4C6131C024DC3ACB924A14606A7FE61AA98AF107 finished...\n",
            "Process 262: Zx5697C4D4B57C86BAC72CF2508522FF72DB9C1398212C92E3 finished...\n",
            "Process 263: Zx570BE55F360243A2C82C21EADDBA4B7CDBBB67C1C675B6CA finished...\n",
            "Process 264: Zx570BE55F360243A2D789EA5346E536AA3B16516B7A428776 finished...\n",
            "Process 265: Zx5744CEC558A46B4B1C9CB6E9F1BB82DD31F624849A7D8889 finished...\n",
            "Process 266: Zx576D16727D7458A29DD6308F918A95629EBD04C50E0663C3 finished...\n",
            "Process 267: Zx585B8A00D898282575834078CEA6E95B517214E5BDA4346E finished...\n",
            "Process 268: Zx58903BF72C6A38433166E6F075772C175673B81B9F1F10AB finished...\n",
            "Process 269: Zx58B3541B1F7C60025FEE6D5327EF78531440992371F5596E finished...\n",
            "Process 270: Zx59081DADCE950F83F408A7E2B9243A95897D2AB71975AE9A finished...\n",
            "Process 271: Zx592AC19BC9D9FA058832C0A3BBF004D193EE9FCD53D7941B finished...\n",
            "Process 272: Zx59AF27E8861C2B84EA3D742C5BA50ED0FDABD819FEC40D5C finished...\n",
            "Process 273: Zx5A9FEA715FD1A8263F2E5B132F4C8BBD4C8F4DD842DD2A1B finished...\n",
            "Process 274: Zx5AA1D80CF63593C15D3C2765D610F5BA7982C25680FAF048 finished...\n",
            "Process 275: Zx5AE6C0BC2598BDD4418E7A8658ADA771F8FD493920A3575C finished...\n",
            "Process 276: Zx5B2EA8EFC623BB938351A9D7366D39863A1400448399461B finished...\n",
            "Process 277: Zx5B2EA8EFC623BB93EE133D50B26042A9BB1B0A00D0166B7D finished...\n",
            "Process 278: Zx5B4958EAA06DEB89D67B8BD142312D0F7310519CDB56C6DA finished...\n",
            "Process 279: Zx5B765CDC56B851B4598AF1200F042643D3195B7D11F263CF finished...\n",
            "Process 280: Zx5E17136591B2A37232A19F78B2FB7A148374C27F3E4AF04B finished...\n",
            "Process 281: Zx5E17136591B2A372477FADCF1395486EEADFD11F92592F3D finished...\n",
            "Process 282: Zx5E6AD13F5302AA05595B9EB5450DD27CBB58794EA6C7A614 finished...\n",
            "Process 283: Zx5E8347EB932D86FD061C76415E5274A2B4C198692DF29C64 finished...\n",
            "Process 284: Zx5ED102CA7FB8181668D560C18DB7F2D039681F36BD74CDFD finished...\n",
            "Process 285: Zx5ED676E3244BB1F8C12245004E0CBBB5E906C8181F79B425 finished...\n",
            "Process 286: Zx5ED676E3244BB1F8F29FED01A9C6EC7A22CC92EB941DE0FE finished...\n",
            "Process 287: Zx5ED8A3BACE488CFAD795B5660B429EEB6B818FE598C0CB98 finished...\n",
            "Process 288: Zx5F2AEE74B2E52EBF5A636F34F538722F96B95B952F107966 finished...\n",
            "Process 289: Zx5F2AEE74B2E52EBF6F3AB9AC2114C9935CCD157AD868C901 finished...\n",
            "Process 290: Zx5F2AEE74B2E52EBFD474D6D6E344A6FAECEA7E540513098A finished...\n",
            "Process 291: Zx5F4477ECD6AC7C4EC0081C65A0CEADBA6EDE867305DB7CBA finished...\n",
            "Process 292: Zx5F4477ECD6AC7C4ECB44EF66D9225614C4DCDE42A5CF50F7 finished...\n",
            "Process 293: Zx5FB948563D7915F08329339DBA9632722C0A554057C2AB47 finished...\n",
            "Process 294: Zx5FC5BB8A8DEDB54D8DF151F0E53DC6DF425F551F8C23C86F finished...\n",
            "Process 295: Zx5FC5BB8A8DEDB54DACD271062B296BAA0CCE2FCBF13D07D3 finished...\n",
            "Process 296: Zx600BB33B3216E05B3AC413C88A493360C21EE4F2375C48A5 finished...\n",
            "Process 297: Zx600BB33B3216E05B9B225F545650A4CA45BB1C63C3D2A2A8 finished...\n",
            "Process 298: Zx600E30623048158F7533EB1DCED6BE3B5202FFF03D4D6510 finished...\n",
            "Process 299: Zx60858041F3848EF43F3AF1650B34638570A767547A5AA32B finished...\n",
            "Process 300: Zx613684AFEC73B7A5AA16CA4069B403460CF4F594FA68CF3E finished...\n",
            "Process 301: Zx615BF0336F2C1E791E08E758A9D582776B56C66DCEBD5883 finished...\n",
            "Process 302: Zx61704E649960C4029C1C1AD27E6317C2F8C748C8B932A3AD finished...\n",
            "Process 303: Zx6255D6DBE1B906A9F3A402EC7F758DB66E06ED0CB2FFBF79 finished...\n",
            "Process 304: Zx62B066968229B5907BDD0B2438B643250368BBD932D0D7DD finished...\n",
            "Process 305: Zx62B066968229B590A10133BBF71E44E9F0616A9B4B736B4E finished...\n",
            "Process 306: Zx62B066968229B590EBB11C47F554D33E80C6E51634B8634C finished...\n",
            "Process 307: Zx6318BA5A929812A3EA20A9A6012BBDEAB8B71DB56B559150 finished...\n",
            "Process 308: Zx63194BF7E3385CFDC26585F0DF2185ACC740B745201AFBEE finished...\n",
            "Process 309: Zx636EDE3E4647747562CEE36581CC8883234F2231166B697C finished...\n",
            "Process 310: Zx636EDE3E46477475F68A5D49A7A32440949F06C39C0073BB finished...\n",
            "Process 311: Zx64A95AEC2BE98B00C48F17A4D5ECEF6081B0F041E66A9775 finished...\n",
            "Process 312: Zx64A95AEC2BE98B00C9CB7485C4517A67FFA4C7D5D78C5BE2 finished...\n",
            "Process 313: Zx64D8ABDFA2E7D305567FF5A35BD00F37D18A724E05FDE931 finished...\n",
            "Process 314: Zx64E8FCD44CF250DDF6FEA4135678D14B0FA63C2D8F5909D0 finished...\n",
            "Process 315: Zx64EAF1574DDAF8EDE415B3471C6EF446DAC86817AF514F35 finished...\n",
            "Process 316: Zx65269658C21EAC9802652A31DABC4D9FE8F885FE382BFF87 finished...\n",
            "Process 317: Zx65269658C21EAC987B7A7AEE55A1AB22A23D0BC79E0F8A66 finished...\n",
            "Process 318: Zx656588024899FE03C3CEC05B7B5778D041E1ECD352CFE59C finished...\n",
            "Process 319: Zx657D9745A22BCF4D734ABB69FE7048520DF1376DB1C13C35 finished...\n",
            "Process 320: Zx65B039F2B5CA9CD437E732E0B9E358CC5AC409AA867EDCD6 finished...\n",
            "Process 321: Zx66A0D23C9547D4B05E3A2C2D406455F5B9AED49E9BD81CB7 finished...\n",
            "Process 322: Zx66C236B993CD7FAFC2F125311C65147E643691D3B5C42826 finished...\n",
            "Process 323: Zx6727174D77521EE5B2C4F676EF887A75CEE9B74E4ED97F66 finished...\n",
            "Process 324: Zx67415A03D61E77340BB5A07721A9EEE79141C9853DE4F7D6 finished...\n",
            "Process 325: Zx67415A03D61E773414BD11A6A8DB2DEF90B76615A5E494F7 finished...\n",
            "Process 326: Zx67415A03D61E7734C5EB110B87EF37FC912D606A17F24F1C finished...\n",
            "Process 327: Zx67441E002546BA1D6C7EEF3BDC1E58825CC1E98E5BAE4BB4 finished...\n",
            "Process 328: Zx6807F4B56B7D076909FC86782C5E1231A9498349EA153C18 finished...\n",
            "Process 329: Zx6807F4B56B7D07692E6BE9484415FA09CE9C1D1E0F1AB0D7 finished...\n",
            "Process 330: Zx681A11F58D74D4599A6B2A227605EA0C1B77B69A7D2D12D3 finished...\n",
            "Process 331: Zx68514F0FF623A26E16658ACFCBAF06BB2F5824CABEE60F38 finished...\n",
            "Process 332: Zx696C242456C97E11A3BA8A04884698607FA2811493CECACC finished...\n",
            "Process 333: Zx698005FBCCA840800D6D5315F1EE49CFA39AB5E532D91B85 finished...\n",
            "Process 334: Zx6983E16FD09E59A77137CF4C90F9B854CD3EC63D4E914DF7 finished...\n",
            "Process 335: Zx6983E16FD09E59A7A4304A2E1E9870A3335CCAF2C16F4C3B finished...\n",
            "Process 336: Zx6A2D61812017EDFAFA14F333CA7CD54CFF7BA3827489EF68 finished...\n",
            "Process 337: Zx6A6B918136F89E64C6F45744F6CB3C010B3AB2D50B72118D finished...\n",
            "Process 338: Zx6A887B63AD55475F2484B04AC037056DDF7179FB3E5B760A finished...\n",
            "Process 339: Zx6AFD1A8ED05D371EE384AC2BF8421A38BE60F0A912DA7F77 finished...\n",
            "Process 340: Zx6B33B06C99F2514BE9D2E82E45B19C44CBBE035F7E17B9DB finished...\n",
            "Process 341: Zx6B36B1FCC373347CD82A62A9ABB7A987AF08526FC746A1B5 finished...\n",
            "Process 342: Zx6B714C12101460C52C133A7BDAD58B40301BB61DF002785E finished...\n",
            "Process 343: Zx6B714C12101460C54F1A626F8566E9BAD0EA737A57784718 finished...\n",
            "Process 344: Zx6B714C12101460C58457BD7C868E4711F1EA31991F0C39BB finished...\n",
            "Process 345: Zx6C2E49E5A10FF238DCB0F5E21F267A50C4132EFB02426EF3 finished...\n",
            "Process 346: Zx6C601C55643BC046FB5E0B957E9BE1D4D7FD4B1F6774E4AC finished...\n",
            "Process 347: Zx6C638D9BFE2F6F6DA32FF3576D00729299CDE6AE847F1693 finished...\n",
            "Process 348: Zx6CFEF464C113FCF500FF85095B28D6B6AA3D9138C1FA567C finished...\n",
            "Process 349: Zx6D601A7BDC8A50726539FBD1CCD040AF41E51715701CCD23 finished...\n",
            "Process 350: Zx6E4F40BA9C3B3DD587F74C4C9C3E1F55A5006E999087B426 finished...\n",
            "Process 351: Zx6E63C4468346B19BABA5627E439A103C894ADF645DF1126C finished...\n",
            "Process 352: Zx6EC130BB2F5E1ECB845D551B2761210EDF8867DA59252129 finished...\n",
            "Process 353: Zx6EC6B03372854DCB4444042A10D001CE18D091130CCCB466 finished...\n",
            "Process 354: Zx6EEF54C45F5D2938ACB60707F0C99019CA3D388C931E8FD1 finished...\n",
            "Process 355: Zx6F79649FE009CAFCA0846DE94398CB2D3566259CBFD0760C finished...\n",
            "Process 356: Zx6F79649FE009CAFCE973032FB8B733822FF1E6F1D98DECDE finished...\n",
            "Process 357: Zx6F9A86DB1959C933E05FB1586832FD90A346C2742BABBF81 finished...\n",
            "Process 358: Zx6FF2EB37C2EA7D75399976E6209F9A1AB7D5F70CCD6C48A8 finished...\n",
            "Process 359: Zx704DFAE6D896E5739551E9490C9CBDAD0EB751D39CA494D0 finished...\n",
            "Process 360: Zx704DFAE6D896E573D76A27EB451CBB8B20B2DD0C366904AB finished...\n",
            "Process 361: Zx705B3531CEB972E1F928E8425B89AD7DF17BF2D273C14ADC finished...\n",
            "Process 362: Zx707FA86CFFC26B0362484221AF3AD855F4AB921A47B28055 finished...\n",
            "Process 363: Zx709C61C9E271E65BFB0954073448C2BDCC1F496B07639C52 finished...\n",
            "Process 364: Zx70EA988D4E33BC00C76989F2FF828C0397AE1D94C4F1EDEB finished...\n",
            "Process 365: Zx710EA1D8309EC121ECE1420A7A6C998721E75E03F71F6BE9 finished...\n",
            "Process 366: Zx71882377B86909CE2C7110CA50FB4FEC2E803144C9A9F126 finished...\n",
            "Process 367: Zx733E40280941D5A0840BFD2F29D76952A88322C5D99A67CC finished...\n",
            "Process 368: Zx73549B6A40980CE41A0801EF54DDA1E5D9FCC7CB6CBDE1EA finished...\n",
            "Process 369: Zx73AF7FBD658B2F32513C6CDC15806C5E8BD8E9B8CABAF381 finished...\n",
            "Process 370: Zx73F7FEEA92E425410EACB44DD2FF4ECC3175F0034E2D8950 finished...\n",
            "Process 371: Zx744CC902CEFF398E5BFFDA5DAC03530EDCA34E098E7D8521 finished...\n",
            "Process 372: Zx749FEB71D265630FEBB01B7E68573CC22AE4EE41BDDCCBEF finished...\n",
            "Process 373: Zx766A344876F00BE04369DB7048D95965D644794560A8C2F5 finished...\n",
            "Process 374: Zx76E046BDD20F13BC9DF52FD603260826F3A33C213013279E finished...\n",
            "Process 375: Zx76EA0AAF9604A2B299435142D79C05C4848E505FBFB3327A finished...\n",
            "Process 376: Zx7859C612513D0CA669CA6F0A5F4BDBB73477628D42101B7E finished...\n",
            "Process 377: Zx7951881EF40FC42633A4A53A0E13653EEDD3AD8C6837E6B5 finished...\n",
            "Process 378: Zx7951881EF40FC42651E18D72C193BD61B85C56A1DFA1EB9F finished...\n",
            "Process 379: Zx7951881EF40FC426835655F2DCC4CCDF9DC96F9B99694109 finished...\n",
            "Process 380: Zx7951881EF40FC426F06360F413ECA9C2E6ED202A7202534F finished...\n",
            "Process 381: Zx7951881EF40FC426FDE57EC6B8481F168CBD526EE2EC764E finished...\n",
            "Process 382: Zx79D67DE4C64C5E5FC73196916AB5E19A69B2E230E335A57B finished...\n",
            "Process 383: Zx7A1F719E8B5B30455273FCB5DEC0C74A33BAE4D6D032DF70 finished...\n",
            "Process 384: Zx7A21222F0FF5E778316945EE1DFC7F0F3B1D06CCEAA59C8E finished...\n",
            "Process 385: Zx7ADA6A1993F1295DB4741D5821C2CC8DF205FB66CA563137 finished...\n",
            "Process 386: Zx7C1ADB5EC3F881C119CD62993F89148864B049DB14C5318A finished...\n",
            "Process 387: Zx7C5F892360CCBA6213B2028AD122A1DAE02324EE2546380C finished...\n",
            "Process 388: Zx7D0AAC73984A8AC95FD33AD2522F92587DF9B8371D7C79F8 finished...\n",
            "Process 389: Zx7D5AB573090376F781DC164A66E6BDA1FA3E4F8D8AEDF9EE finished...\n",
            "Process 390: Zx7D5AB573090376F79A9B8798AEE4C2B73CA9538E432FE2D9 finished...\n",
            "Process 391: Zx7FB045DDBDDCDDC6CD339BCD1BCB21923607C957CCA0D448 finished...\n",
            "Process 392: Zx800E47489EF47140BEE20BD13FE0BE47F9406FF9473A59D2 finished...\n",
            "Process 393: Zx8024D25AB9871F3D18E5A4DCF93B28F923CC7481341C493B finished...\n",
            "Process 394: Zx808CBF85580C8A524E90D1A1B7E63CA54AB01CE941892A2C finished...\n",
            "Process 395: Zx808CBF85580C8A52F625D7FC9667F12DA964A7194E5A900F finished...\n",
            "Process 396: Zx80B7A4D341349B1DEEC43695767B3092D0B6C145AC4AC374 finished...\n",
            "Process 397: Zx8104110A401AA0F1936937E0C991C0560D0BD7A52FA5AD62 finished...\n",
            "Process 398: Zx8139B3F5503CDA776780627D00478D990FE14D835009F4A7 finished...\n",
            "Process 399: Zx822B1193233F74F5A5E5D0ACC8219BF8AE4EFABE2FCB080C finished...\n",
            "Process 400: Zx82469BB018D926020D941A2CD7789B1FE69584EE93D61262 finished...\n",
            "Process 401: Zx82469BB018D926021A0DE68D53829466728F761F7A9FE2BC finished...\n",
            "Process 402: Zx826F31C25810C6A99F981287354D792E761C8429008CA0B6 finished...\n",
            "Process 403: Zx826F31C25810C6A9E11C65F8346F837853F61BA660429400 finished...\n",
            "Process 404: Zx826F31C25810C6A9F8FDC54DDAF33D8DCD5D1BD839A83538 finished...\n",
            "Process 405: Zx8311956639D7E7D4B356DC60FF69D205EADC526A489E6039 finished...\n",
            "Process 406: Zx835BE89BC06B937B9B23B4F1D90881508F079ADB12ABBFDA finished...\n",
            "Process 407: Zx835BE89BC06B937BA926418179E4FA07E6735C97C53A176D finished...\n",
            "Process 408: Zx836945F670A552472975ECD5BAD33B1D8FDB441859DC209F finished...\n",
            "Process 409: Zx83C22F6F75B8C1821DFFE750AC7C5FF7AA44F40803C9AD45 finished...\n",
            "Process 410: Zx842609653BFCBCE7E6E3A08743153D621778B34268156550 finished...\n",
            "Process 411: Zx84C6541C8F8016148DEE71E2452989CFE24A78B33E600C22 finished...\n",
            "Process 412: Zx85587FA5B4B2A9CC5C006A0FDCB2BCB0C43E3C187AE0E654 finished...\n",
            "Process 413: Zx85587FA5B4B2A9CCF771CA89EF3F2F3D8CB02CD05A59A8CE finished...\n",
            "Process 414: Zx85CDD7AD4B9541C999C60977FF7BD08E14321F60BA772359 finished...\n",
            "Process 415: Zx85D50811D1EA1A11B03AB2CE32A6A66D3FC2703A2D3B9DB3 finished...\n",
            "Process 416: Zx8622D93E1FDBB9901E53A50C9646AAB037D44C6BAE148A96 finished...\n",
            "Process 417: Zx86E8594B94A97B534BC20D7FD912495340BD42C4D9CFA918 finished...\n",
            "Process 418: Zx86F99E7E390C00CB15F6C06905D1DB9D85D0104D663448D6 finished...\n",
            "Process 419: Zx87AD2F6D0872195177833288BEC6C7C75475952000F32E4B finished...\n",
            "Process 420: Zx87AF1F682BC71658E2CFA9467AF58FBF1E6EA5854B301C38 finished...\n",
            "Process 421: Zx881D4370D4E2B3EB2E6825C81E19A9097CA157CD762C4E76 finished...\n",
            "Process 422: Zx884CC84AEA488B322F652EA32D97F65A0B1FFE335A73D87C finished...\n",
            "Process 423: Zx885197EA25ED1851808083B77B6868C3530394B3C9D55E19 finished...\n",
            "Process 424: Zx88ACB7F8111B2813505A7A561719C7A0C8890C9F8CCEFE4C finished...\n",
            "Process 425: Zx88B03F6A7F5A1AD08A8578B8F8DFB5CDAACC33CB497FEC37 finished...\n",
            "Process 426: Zx88B74210C12C5EACAB1558A7CFDF086BFF154B63C8EA1E4B finished...\n",
            "Process 427: Zx88CDD4E017AF5C828FE5F36039B1951EB155BD25D0B97A04 finished...\n",
            "Process 428: Zx892330D71B2D63CAA1B4F53109D8A1A9B1A54D4C130413FF finished...\n",
            "Process 429: Zx8A4DCFA5AD1BFFBBF72066AAC854D02C47E1EC6D16C33E9B finished...\n",
            "Process 430: Zx8AED30772B9345517DA7A78056E7C70C0336DE70F18FB786 finished...\n",
            "Process 431: Zx8AED30772B934551EAF242D511B28908E41DEC9953E2003A finished...\n",
            "Process 432: Zx8AFC7B72C841CC55B4428EE569AA872C993B0B82200BAECC finished...\n",
            "Process 433: Zx8B007FE85539264AE654496D82273C5857447B309FEDD6A1 finished...\n",
            "Process 434: Zx8B08329735765986677EB5A08765BBE99C49578728989F1E finished...\n",
            "Process 435: Zx8B381C6BB4B224AAFB36137CABD70504FB29B4BF6966BAF1 finished...\n",
            "Process 436: Zx8B4DDDE2EF0F838C1E46F70D88C7C7C0A1274CC062AC821D finished...\n",
            "Process 437: Zx8C2082663880EE021B90E42E51461164FC3DF5AF0FF3B195 finished...\n",
            "Process 438: Zx8CF89665CB88F1FFB96AA9196091B5DF0641059D070B07D2 finished...\n",
            "Process 439: Zx8D3C7550919257B9889A79C1A99B8EB256894F128FCB63B5 finished...\n",
            "Process 440: Zx8DFA64D65C82A9504675F3BE68244D5DB54E1DEBBC651FC2 finished...\n",
            "Process 441: Zx8E3B91ED97D86D10777008EF1942E22752901949BB33D1EC finished...\n",
            "Process 442: Zx8EEE7D7746F8BC3E0E5099D301AA0DD58DC232C21AF1598F finished...\n",
            "Process 443: Zx8F7A2D7C8E918A752B8C9B2558F538DA1B59E9EF05C0DAD0 finished...\n",
            "Process 444: Zx8F8A147874051D87580335860FFB6C12566887B9EEFC838A finished...\n",
            "Process 445: Zx8F95BFDF3B3FC9F85913828B2A504CBB45535F3A81F78ADD finished...\n",
            "Process 446: Zx90019D6EB6805787B122BE1359C1647FCBEE4D9179EB1A9F finished...\n",
            "Process 447: Zx900F64CC3D30629A754ED04007971BD74531C686C8541AEE finished...\n",
            "Process 448: Zx906BB2AE190BB79BAFBF33A49394FEC1628B8B1EF264FFAC finished...\n",
            "Process 449: Zx90A7EF10C9806EEFF37EB4C85FF08E0D7923700BEDA3BB89 finished...\n",
            "Process 450: Zx9178DA08432AE6C72E651926E66C439966406A8A9B90EDCA finished...\n",
            "Process 451: Zx918F8C7BBD3F587FD3F2673BDB7C9998E14206BD7E3B0398 finished...\n",
            "Process 452: Zx93014DFEDEF5C296DFA22750CE2784F183A3019BF3325C3D finished...\n",
            "Process 453: Zx93EC2D1600D91567375B0ECB647508DA93F1F35D76B24C23 finished...\n",
            "Process 454: Zx93EC2D1600D91567B00A1006B88CD5D72005520F5B45A7F1 finished...\n",
            "Process 455: Zx949BBA19176EEEEE12A38BCF6569054C88BD26578D5F6D2F finished...\n",
            "Process 456: Zx949BBA19176EEEEE5E81F9595B665E43DA1B7CDD046003BD finished...\n",
            "Process 457: Zx94B02A482BADC62C022512769E16EAE1B10C6D0A7ADC8B45 finished...\n",
            "Process 458: Zx94B02A482BADC62CAFC39992E43329F1D9D6A705ED7FD8D6 finished...\n",
            "Process 459: Zx94B3091A70945039B59E48553186CB022A5EA84DF4F1805A finished...\n",
            "Process 460: Zx9574DFB02B6FB06A36D9BE171710E1D155344F79C63C788C finished...\n",
            "Process 461: Zx9574DFB02B6FB06A386AED7F477E6F756B81014B1172904D finished...\n",
            "Process 462: Zx9574DFB02B6FB06A99FFA85CF26EDFFB5AC29A1E7968F189 finished...\n",
            "Process 463: Zx95760F4DDFEEDF4CD00784402D23636239E31D7EABCD7939 finished...\n",
            "Process 464: Zx95B9DA7994352855AC56A8423C0A0F1B68A3748E99C6E77E finished...\n",
            "Process 465: Zx95F33E17F7F8218E9FA35FC3D79D8EB9E02019709C3A5EC2 finished...\n",
            "Process 466: Zx962763BC29A2C4FC1D3F0B87FFA4D3256B5864D20EA5E8DA finished...\n",
            "Process 467: Zx9687D8530B98BF197ADF4F6311C64517BF27DA7643D6F7F9 finished...\n",
            "Process 468: Zx96C0C360AEBF01B06DB0555FDC9B7FDD5B3D2E3648428AAD finished...\n",
            "Process 469: Zx9727ED2AF24A37B21185FC63967F6988A58B21BCBF52E846 finished...\n",
            "Process 470: Zx97928AD5A213289C6B95B389DF91F14F90ACD2828C8AFD57 finished...\n",
            "Process 471: Zx97E643B8E4A5DEB351E18CB763B8CFB27D5A870812A6C453 finished...\n",
            "Process 472: Zx986577E2EB1057F93287CCCFEC27380501F7AF20DF2B5CCB finished...\n",
            "Process 473: Zx986A45AC9267FF16AB73E0A33F49A60A615E7B4DC3974643 finished...\n",
            "Process 474: Zx98BEC5DDF705BC23BA3D7DEAC87D8FF588F07F47D9C9492B finished...\n",
            "Process 475: Zx9977B241B90F7BC8B9BB80086A4DF457D122DC866D682F4D finished...\n",
            "Process 476: Zx9A0E70ACF621144B79A903E7F63D1E9CCD4F69EBEC9BF7BA finished...\n",
            "Process 477: Zx9A0E70ACF621144BDE9A072548A6C14CB9709B8BB0C00FA9 finished...\n",
            "Process 478: Zx9A29DA6E21ACD7A0B49FCF887A0BF4FFD207CA7A3CDE7F85 finished...\n",
            "Process 479: Zx9A37AA6BF8B44163F6E9BFF94168F0F0091DC98C3C9C19A1 finished...\n",
            "Process 480: Zx9C2634AFDDE5A83EA11ECB13AB6417BEB06B0D5E1287C3FA finished...\n",
            "Process 481: Zx9C4D13B3283A0D24249372719EB45237B43F4F1DA6F5BB9C finished...\n",
            "Process 482: Zx9C4D13B3283A0D2496EAFFCF4B47A36CE7B8803204238899 finished...\n",
            "Process 483: Zx9C51ACC8639C583BFC19993D6BE6C355E6AB9A9570D4F21B finished...\n",
            "Process 484: Zx9C70756B5B6BC8D316D57140CC7A53DF3802066E4B88F2ED finished...\n",
            "Process 485: Zx9C70756B5B6BC8D35F998E8DC0978B1B683122D560D25B45 finished...\n",
            "Process 486: Zx9D05ACEE4197AAC102E263F3A4A3CB86A5AF5A25B5BB74D7 finished...\n",
            "Process 487: Zx9D05ACEE4197AAC1772BAC5BEFF54C1C4C50B7CC97F54B0C finished...\n",
            "Process 488: Zx9D18EA978D3BD10A326DC4749DD01290C243E5DC9963868D finished...\n",
            "Process 489: Zx9D18EA978D3BD10A39721787340925858FD09F4E7B168615 finished...\n",
            "Process 490: Zx9D28426F44724AE86117620C1784533EF1B501151875EB8C finished...\n",
            "Process 491: Zx9D6CE06969D7A50F451E40C9629E57D88E230878E019241C finished...\n",
            "Process 492: Zx9DD6040F52E36EDB6C0385CCD5F1D725BBC97B6345A59F60 finished...\n",
            "Process 493: Zx9E1D272B5003FE2AB53F6BE7CE3E5B7F905643402B415AA3 finished...\n",
            "Process 494: Zx9F55333E9B6FAB3A3A2B43885AAF93774464C16E9F455E53 finished...\n",
            "Process 495: Zx9F70740616E28A470CCC31414C246AA78A7A26D407DD2431 finished...\n",
            "Process 496: Zx9F900B383927BA7598F4791BC0CD23B85C9B319EAD69A8AA finished...\n",
            "Process 497: Zx9FAE5E8EE578A07677FFED34689A2B272F1FD4FFFC9E23B1 finished...\n",
            "Process 498: Zx9FAE5E8EE578A0768598453692C15615CF0BB5909AE24784 finished...\n",
            "Process 499: Zx9FAE5E8EE578A076899C0329C54F8A6BE48B2C4B47965266 finished...\n",
            "Process 500: Zx9FE816B863546C24945213D4A35C9F890BD4EC91F238517A finished...\n",
            "Process 501: ZxA0584678F6AD9E851E8AA69B22B44DB4BD85A9E5FD2F285A finished...\n",
            "Process 502: ZxA077D5FA438E8FB93945C1D84AAD7586E7DC586B08B92F30 finished...\n",
            "Process 503: ZxA1CECA46F4B0B1A28F45357DA3B8964AB5A446B2E2C27FD9 finished...\n",
            "Process 504: ZxA31B066CA4D3269F11DEA8AB97B59258C7C00A369871B1CA finished...\n",
            "Process 505: ZxA31B066CA4D3269FD8002A9BB0327A8EAB8B562CBF93C146 finished...\n",
            "Process 506: ZxA321207AC10B29464A450F8C1D22603E48CADBC8083F434C finished...\n",
            "Process 507: ZxA321207AC10B29466F29532180D4D0BF1DB1D1CAAD5A7497 finished...\n",
            "Process 508: ZxA321207AC10B29467B512EE00066F7504C3284E8A1FA466B finished...\n",
            "Process 509: ZxA3860A70B3B944A7ACB74339F4972794B2603E38D69E7EA0 finished...\n",
            "Process 510: ZxA3D1C1319FB1EE466697013B492A537DF50B2CB8BBD22A87 finished...\n",
            "Process 511: ZxA3D67DE1137F5382DF1FA2D1FCA81908745EFC3511F4CD9C finished...\n",
            "Process 512: ZxA3D67DE1137F5382F34F4A0940395DCAA7DD0722E3E67493 finished...\n",
            "Process 513: ZxA3F00A9B31186E9B120A21B2F8654B895A6CE7A7C2B7010A finished...\n",
            "Process 514: ZxA493CEB18FDED9A909C361632B6BE7F124261E9AE0B8153F finished...\n",
            "Process 515: ZxA4950C0ACC3EF8B27254E91E15CC969DDF9BF7C200A2B945 finished...\n",
            "Process 516: ZxA4B4F8BA185766C22D4008861F7B1E77EF8FDD5FC608D82E finished...\n",
            "Process 517: ZxA4B4F8BA185766C2DD74FDE9943CC08DA93A93E8E1DFAC15 finished...\n",
            "Process 518: ZxA4D59B81F2E473A627002B789E7971D9B33E9549990A73C6 finished...\n",
            "Process 519: ZxA4D64354CFBAA70DB029AAA999531939E9DD4807CC0ACCC2 finished...\n",
            "Process 520: ZxA5736BF1D6548AC69E1D384152F062008F77D25050E397F4 finished...\n",
            "Process 521: ZxA587DD3F3B7DEFF324487D39123C2C626E291DCF7376E42D finished...\n",
            "Process 522: ZxA5C007B2167B56E373C34A0053EF963CFBB1A2E856879D26 finished...\n",
            "Process 523: ZxA659E69F833B05BB21DBB10048F9F43AFD7562CA75E089F5 finished...\n",
            "Process 524: ZxA66CEAE1B2351EF9061F5C2EF272C6020662D2258D1784A4 finished...\n",
            "Process 525: ZxA66CEAE1B2351EF9A123CEE1F7F017EC1466289E519D9E28 finished...\n",
            "Process 526: ZxA6885ECFAC658140234CF7659E0C602A21901A78F60E7F77 finished...\n",
            "Process 527: ZxA6E61E4E15A62519AAAE723617782AB9F2DA93CAAE5A0219 finished...\n",
            "Process 528: ZxA6FD89D310764F7745439AE747297835DCDE8439C089EC4F finished...\n",
            "Process 529: ZxA8783853AC1492F1BEECA64B03416D3BBF7BED1DE0985EA3 finished...\n",
            "Process 530: ZxA88C8EF3B0DD7C105F06B48C151FB6813378C955C1EA6203 finished...\n",
            "Process 531: ZxA8D32A5ECB8168C7F4604548458D9F688890E7B72A77A1A8 finished...\n",
            "Process 532: ZxA92FB80B3A6C412260E6651B0695D3E4BB37DF4B0B958496 finished...\n",
            "Process 533: ZxA9699F56C35B1D82E9703F233BD3208C31BEBE3E7907731A finished...\n",
            "Process 534: ZxA9790D652CB6D05C92E6AA5B2A87CDF102B6B5C8B92EB30C finished...\n",
            "Process 535: ZxA99F1F57C0D78BB4975028D7451513ECFA1F8FDCC1D8291C finished...\n",
            "Process 536: ZxAA273BD453728DAC178542491E52536C17E294ADCC76CB08 finished...\n",
            "Process 537: ZxAA4A09DA10FB3BF1FD33955272CCB989E4A91230EA99B1D0 finished...\n",
            "Process 538: ZxAA65D147C435CAD5D711D4D03CE7EE6CD8FBD0995F71F8E1 finished...\n",
            "Process 539: ZxAAC0790F72C11A212DEA673071C71F172814ED2C4FBE33DE finished...\n",
            "Process 540: ZxAAC0790F72C11A218649543318C0B0934E8AE52E0C790A88 finished...\n",
            "Process 541: ZxAAE23650B9B4AA345EB7CD76F65A787606B6A4C55C368DB8 finished...\n",
            "Process 542: ZxAAE23650B9B4AA34FC19B3EB0C8AD9B558DF076EA062D893 finished...\n",
            "Process 543: ZxAB1E6165A4F97FA4FE3FB7CED514D82A0D51BBA8DB0E2996 finished...\n",
            "Process 544: ZxAB6294B37A449AA964BC84B740714D10CD41C7D4C33D551F finished...\n",
            "Process 545: ZxAB8413E050E6B483F28D7CEBAA5E4FCD6BE77076D62CC03A finished...\n",
            "Process 546: ZxABC17CFAF4F6320E505A7C6A13181DC809ABF975501DBCDE finished...\n",
            "Process 547: ZxABF6FDD87B0B73F19B814C758A8894708A51B9B5EB5CC401 finished...\n",
            "Process 548: ZxAC0234ABF4E1D10F4AD0FD22EFBDFD8396669E8B6915E601 finished...\n",
            "Process 549: ZxAC7AF4D4AA93212033604DA258A3C5D6345F8A2537466754 finished...\n",
            "Process 550: ZxAC7B1B38B96FB7BD667F7AA8D95FA2E3AFDAFA42631FE379 finished...\n",
            "Process 551: ZxACB9617CCE03C1D8C28CFD4B649F9EEB1424D85723BDD5EB finished...\n",
            "Process 552: ZxACC4447A6BA1EC403FAB6F640D08F5A88F6A29DE3377AAA9 finished...\n",
            "Process 553: ZxACE4DC150A104C59EAB2D90DEA73A51C71F3C5716FF3FA96 finished...\n",
            "Process 554: ZxACE4DC150A104C59EBFB93F5244D1163F4F88256C211F9EF finished...\n",
            "Process 555: ZxAD760D383496BF993B7C3CEF0B9AB2E3EC475B14006F010A finished...\n",
            "Process 556: ZxAE238E8191029A131318F8CCF587A791E2CC0BD5F7D57D80 finished...\n",
            "Process 557: ZxAE84E65DFAE5468A0DF71C5CBAF7E394833897B064792C49 finished...\n",
            "Process 558: ZxAEAB452B8148E0693BE2B17C694B413B079525301BD6871E finished...\n",
            "Process 559: ZxAEAB452B8148E069C525E7AC43CF55113D042814C416F5E4 finished...\n",
            "Process 560: ZxAF3DA5750B69E9563B8455022C045F1238ED679D42F2FCAF finished...\n",
            "Process 561: ZxAF3DA5750B69E956D4F2ADDC3AA55218AF66620AA1BA92CB finished...\n",
            "Process 562: ZxB03C746D57B71A3D860F8A8DA5FF0351F1A9C6BF623710A3 finished...\n",
            "Process 563: ZxB06BFA95ACC19A1BC118657AD2BE2BE1DED5318B7CE6DC30 finished...\n",
            "Process 564: ZxB0B65F16B756C04C10DB557AFD1ABF998061A1044CE55F0D finished...\n",
            "Process 565: ZxB21FB0DEB2B1D4EF7B1AC7D8513AE12E32E302099A6530F6 finished...\n",
            "Process 566: ZxB22D1878278D3BF03FDC7DE7C41FF35397D34E011BBC1D5A finished...\n",
            "Process 567: ZxB2377D8D34D0A21075B50F5899C98EAD9EC1ADD69A063446 finished...\n",
            "Process 568: ZxB257D7CAB6A2BBB1FC9E3FB91F79D11FB72D53418B2AD7E6 finished...\n",
            "Process 569: ZxB304722538ECC8C844777B65CEF009FFB10289254AD0B202 finished...\n",
            "Process 570: ZxB37B766FA98EB172F4358F562A02176F61F691DA7C1AFBCE finished...\n",
            "Process 571: ZxB37E1CC1CCB0A0DC0B3D60AD80125B43ADAAE0C8717CC0CC finished...\n",
            "Process 572: ZxB37E1CC1CCB0A0DC5C9448C89F09222BA2AE06CAF45A4135 finished...\n",
            "Process 573: ZxB506B2272F125EB0A5851A203282C03E5F16118AA97798EF finished...\n",
            "Process 574: ZxB5837FCBA699D78F704AB333AE198A5DC67F47FE18BE61AE finished...\n",
            "Process 575: ZxB632718A589D2E6979A0795C786A12100D22627F2BBF3CFC finished...\n",
            "Process 576: ZxB75028940E6684147107D401A7E501BEA366F6EE3A9F527D finished...\n",
            "Process 577: ZxB76402A4CB4B5D54C00A30F3E999F71D29DB17A87A63228E finished...\n",
            "Process 578: ZxB7B55BFB145A343D06B37D039EC47901EF9B1D11A836893F finished...\n",
            "Process 579: ZxB7B55BFB145A343D3326E0AE0CF6188183B10F3FB55D6E51 finished...\n",
            "Process 580: ZxB7B55BFB145A343D49B4E988FCCD3DCF867EE9B954124CC6 finished...\n",
            "Process 581: ZxB7B55BFB145A343DB765258B0168F4083BE1972BD26F6D27 finished...\n",
            "Process 582: ZxB7D0B8532AC67796F7A9C1CD3F5D0E322EA7EF5992C6CA28 finished...\n",
            "Process 583: ZxB97DC74E3BD1FC3EA2A39E78A59307BC77D5BCFB817840A0 finished...\n",
            "Process 584: ZxB98B85147CC28210B6234DA9EB7291C8671FD05EF1B163A3 finished...\n",
            "Process 585: ZxB98D6A25EFB6B46257F13934DCBB67D67AABF1C197EBE918 finished...\n",
            "Process 586: ZxBB3DA9A26362010408F93623114AC6FC48DDF06AC08A330B finished...\n",
            "Process 587: ZxBC48DEDAFC634693369C437ECA036D138D526992710C1E35 finished...\n",
            "Process 588: ZxBCBA63BCCC1F7498AA92F4AF08511FFED09105BBFC63864E finished...\n",
            "Process 589: ZxBCBA63BCCC1F7498FED5EE52802F4CB8572148F71BB5DEF3 finished...\n",
            "Process 590: ZxBD12CBC5C10EDBB74BB5F0BD1DCAE7CE747854FC26ECB0BD finished...\n",
            "Process 591: ZxBD18E2DB7C51055D5BA0317AF712F4D62E832C8FF35E916A finished...\n",
            "Process 592: ZxBD18E2DB7C51055D98D919A70E777B443B1839383002FDC0 finished...\n",
            "Process 593: ZxBD701431A8CE2FCB64098D585DF85DEA5181054BC20287D9 finished...\n",
            "Process 594: ZxBD795C706A61AD0B20883C21877B09AFE59A5712FEC79EE6 finished...\n",
            "Process 595: ZxBDAEDDE98351E478390DEB26B963A196E4A1B3D14C84E4F9 finished...\n",
            "Process 596: ZxBEDA1D54EFEE77C5738FB5212C79AF06F67D93F2ACB61181 finished...\n",
            "Process 597: ZxBF0F698B411246917A364BB025AA55E8D9B87833BB0D243D finished...\n",
            "Process 598: ZxBF9F6B8246A17E801F8444628309579BB19B24E8CCEC8153 finished...\n",
            "Process 599: ZxBFC362B2190DDFF8D3544073C39876A387B7143312625D30 finished...\n",
            "Process 600: ZxC00AC887E580A4399B5056E80AC55C95B43C634576F25D38 finished...\n",
            "Process 601: ZxC03412C145236A975609D495BC44B224260C3D9C4B96F23F finished...\n",
            "Process 602: ZxC12A3E53C68E43C08218A1D261005883B0DF75AB7EC74631 finished...\n",
            "Process 603: ZxC21457C628454D036163771228053A7B04598F4CE0729DCE finished...\n",
            "Process 604: ZxC302B531947E9D201CDC1FED08DC86F9DA4EFC29D26F9395 finished...\n",
            "Process 605: ZxC406494721881851E1F496D5B54F4BCAD696815C35261E8B finished...\n",
            "Process 606: ZxC503A28B6BA92D6C0C9D87384B3B6CF6823CCA627A333938 finished...\n",
            "Process 607: ZxC5A60F462D64FC58AE3EF3CFC49C43D1F431325347CE517D finished...\n",
            "Process 608: ZxC5B47FC8970E84C0A97545B64C3ABB98FA94324938D6CF7A finished...\n",
            "Process 609: ZxC6318FB836AF67167CE6490FFAE77E15B56B251B3A041BB8 finished...\n",
            "Process 610: ZxC737C208E6570BA6984B75AC38E3C1588195434CDC017712 finished...\n",
            "Process 611: ZxC73F3156008A07EBD69E384ECE987A0EF33EABE28189C16C finished...\n",
            "Process 612: ZxC7727DD69A597334CAC5442CC8D6A29205AD44A84A5D7413 finished...\n",
            "Process 613: ZxC77C44FFAF20FF4D0097F83493E57B79C4CC5340939DE0AF finished...\n",
            "Process 614: ZxC826DAC67B41123025DA20E3AD13E51B6635CBC9F77937C7 finished...\n",
            "Process 615: ZxC8B75DF8D012DD456F86FF58D58AA7094D2A7E810CDF8B89 finished...\n",
            "Process 616: ZxC91A03F282E7ACD722E61B901D4E1C17D67E09F5A338B54B finished...\n",
            "Process 617: ZxC947111E5302673E7B5336FD32C66BE6ACDD4B0D88053726 finished...\n",
            "Process 618: ZxC947111E5302673E8F1E6011EBDEB6DB454BBC84348ED44D finished...\n",
            "Process 619: ZxCA065A9EBA3CD2FEBF2D7988CE5C02639004993FDACC584C finished...\n",
            "Process 620: ZxCAE3BA395D8A16C03B99832D4D91B87170F2E863B2B502C0 finished...\n",
            "Process 621: ZxCBB6AB235F8ED687B2E5F9B7E53A17774B138022B5AC6C06 finished...\n",
            "Process 622: ZxCC42A7155619FA371FB3DB2B935EACC3D6EBD78BBFB45C31 finished...\n",
            "Process 623: ZxCC42A7155619FA3723A3480D50BA7AEF6E56FB0AEBDED37E finished...\n",
            "Process 624: ZxCC42A7155619FA37696F6AC52A2BFB096D4099EADECA102B finished...\n",
            "Process 625: ZxCC856535297BF790CD4E1DD7BE48287AA4388D720C3EE609 finished...\n",
            "Process 626: ZxCCAD69483E1ACED22C04C1D9E52283557FB83E247458ED16 finished...\n",
            "Process 627: ZxCD138093124CBE786F17D95DA59451835AABC33BC92BFA08 finished...\n",
            "Process 628: ZxCD257EAFFF590C8D384A40AF09D935286DF87F244B7F3775 finished...\n",
            "Process 629: ZxCD32F5B7681F372A88B3BBD26D9A96CC175CE6CFB96DCD5F finished...\n",
            "Process 630: ZxCDA55434361C322D5A7B1D1BAF7053A6FE617652236BAFE6 finished...\n",
            "Process 631: ZxCDBAABEAFF0945F2DA1AD4FCD880F23DB474DA1FEF110000 finished...\n",
            "Process 632: ZxCDBAABEAFF0945F2F51DDE708608B8FF955E96D01442BFCB finished...\n",
            "Process 633: ZxCDF84F878A35674F0EA93802F8AC19331D291374E53ABFF3 finished...\n",
            "Process 634: ZxCE3233B397229FB57DAF857481BD37BC969F4FA2ED9DC368 finished...\n",
            "Process 635: ZxCE7B50D10790FBB39FC1B6628A65F67A6C2985DB420ED52D finished...\n",
            "Process 636: ZxCEAADBFE3E9E3BE3C5826BBFA949786D726FF1ECD0F66550 finished...\n",
            "Process 637: ZxCEE7370FFD5B76396A645657D137C9BDF605494DD491495F finished...\n",
            "Process 638: ZxCEE7370FFD5B7639DB5450230398A3E2755399858B4FB4CF finished...\n",
            "Process 639: ZxCF53832A87A2A46F03F446DEA9CBDC35495D8AEDAD135C28 finished...\n",
            "Process 640: ZxCFA9C6201E4F0D869A606586FE8E4F72A47076447E1C019E finished...\n",
            "Process 641: ZxD0A2B4448866BE260C17D6EC02D17FE93428DE78EA7D891E finished...\n",
            "Process 642: ZxD0D2911E085A983D6671361E4B4C6D3FC7C35E31ACDA7D2D finished...\n",
            "Process 643: ZxD1B631F69DBC3DEBF37414EEB04811A4324DA6C04CF7755C finished...\n",
            "Process 644: ZxD246E0861FA461FEF9102BD21868EA7DA8E53DD651292A31 finished...\n",
            "Process 645: ZxD26D574FB8A8997517EAD6CBA252D0260177319EDE6F8B2E finished...\n",
            "Process 646: ZxD26D574FB8A899756132B8BFC67A656D4F934414F840EEE7 finished...\n",
            "Process 647: ZxD2F758309F2A7F030892DF6DA54A0FD72A5F54C5F7525E21 finished...\n",
            "Process 648: ZxD2FBB4FF1C67CBFF9F74149571CFB50D96778C44FB2E6925 finished...\n",
            "Process 649: ZxD3A1E3E05CB6DAF6253A186B00684DCF2B1456D2C8A4C6E4 finished...\n",
            "Process 650: ZxD3CB0C4524F67A4D1B248517BD74525E363D1A47170D6D9E finished...\n",
            "Process 651: ZxD3CB0C4524F67A4D646342B31322E3423F01E5FC56377C1A finished...\n",
            "Process 652: ZxD3CB0C4524F67A4DC5FBFBA465B378E9AC0BACDD0EF9709F finished...\n",
            "Process 653: ZxD3CB0C4524F67A4DE1B73D2F73ECB0AD3A977955E0723A65 finished...\n",
            "Process 654: ZxD3CE7A44D5758F55184AD0B489A4B11590D73AB825543485 finished...\n",
            "Process 655: ZxD4239CF331412759E7CB0E19371370F77FB73C911058F88F finished...\n",
            "Process 656: ZxD4239CF331412759F1486169DA0268914B82EFFBAD8DCCE8 finished...\n",
            "Process 657: ZxD4C1AF01E7091BC3AB7EAE60CEAB8E356341351816C62D07 finished...\n",
            "Process 658: ZxD4C1AF01E7091BC3D79A3DB1D0455BC0C143FAFF7D3B1036 finished...\n",
            "Process 659: ZxD4CE4B3B95995BE6E2E7864BDCEBFCDCF32B2C8F5579C682 finished...\n",
            "Process 660: ZxD4CF37EF147DDEE980BAB4F5256CC86CA734F199E5512303 finished...\n",
            "Process 661: ZxD5641DC2CF623756BAD8376E4F115597BE8498D65B27171B finished...\n",
            "Process 662: ZxD5E948C05461036341B88C0FFADF9B249FBE732D0D04EE04 finished...\n",
            "Process 663: ZxD5F8B7159FF3E7A2505AC148847D33C0617D505DE63C90DD finished...\n",
            "Process 664: ZxD60E89EC0F1BAB99880FC7C708FCB91A8C6C9016A4C07EE1 finished...\n",
            "Process 665: ZxD6C4F406BC86A11674870FC931D83E6EC6103F574DA73EB6 finished...\n",
            "Process 666: ZxD6C4F406BC86A116D7BB2ABC21FCDFCBA4130E5D631FD37D finished...\n",
            "Process 667: ZxD6DF80C967D2E90E1C9C5C27C1E582E828600D58A5E60075 finished...\n",
            "Process 668: ZxD6DF80C967D2E90E940E324ADA5DC75FB2EACEE9B975DC65 finished...\n",
            "Process 669: ZxD6DF80C967D2E90EBC2FEF38B1FF4CA7300C08C43BAD9AF0 finished...\n",
            "Process 670: ZxD71EEE470B02A3F9A6E9392C61F29ABA2BF148719238E49D finished...\n",
            "Process 671: ZxD75CC02AC0569F138B2A31126FFDC8E423AEAF8780510D07 finished...\n",
            "Process 672: ZxD7FF1A5CCDB3268EB8F0E8BED1F6BC4E036E21F79A779D91 finished...\n",
            "Process 673: ZxD8B230C0D0BEF0B9672C0DC060C5AA5FA3004A55B570427D finished...\n",
            "Process 674: ZxD8B95D482831EFF00D2BB3D481433C0A924C3D020E8A3231 finished...\n",
            "Process 675: ZxD98473A9FF420798519F7DE551DA5AA0E3449DD102379136 finished...\n",
            "Process 676: ZxDAAC876CFA3449393E221D61C00718DF4B6518BE90AF2800 finished...\n",
            "Process 677: ZxDAAC876CFA344939B56A8FA4A9C2A0F0CF2E01E5A7BBD71F finished...\n",
            "Process 678: ZxDAADCC811EB06CD6036574077638DB70FD14E6F1C6BD4DA0 finished...\n",
            "Process 679: ZxDAFFB1D590F380D577E92A3E75618B9A54A1E02F3C6B05A2 finished...\n",
            "Process 680: ZxDC02DACADFA8F2EE23859AFF42F9C5EEADD9086044C13C2F finished...\n",
            "Process 681: ZxDC7428EC3D364278C8C572A91D43CE78DBA3BE21C586EB3F finished...\n",
            "Process 682: ZxDC93EC2BB81B007F33928801B97350A6D04B45D18D49D8DB finished...\n",
            "Process 683: ZxDD934EA54F9887DE7226F9600B5832B9F911E437BB3C7E8B finished...\n",
            "Process 684: ZxDDC98783970DFB11D4A232662B73F4B55348FEB38E7FB3BB finished...\n",
            "Process 685: ZxDDCE376763976E9B39DF8D27930E5D778F03F9FEDDBC93FB finished...\n",
            "Process 686: ZxDE6E31871D3BCA3D46EE27E9AA51F93AB021F98290A56E90 finished...\n",
            "Process 687: ZxDF0A09367AE792F5AC3F13CE884AA881C81F5D851CCFA042 finished...\n",
            "Process 688: ZxDF3DC44BB2FB0AB2DA9CC3A8231C0A5903627DFBF3950A49 finished...\n",
            "Process 689: ZxDF52BE07D8B451590C980B79E102F084B2CA2A249043B4F7 finished...\n",
            "Process 690: ZxE083D32FF1E7514B0EDA38FFAE02012D86DDA8048E23E970 finished...\n",
            "Process 691: ZxE083D32FF1E7514BB2C10F023D95C83EB001D6872FE26011 finished...\n",
            "Process 692: ZxE0AE769C4E0DA3D0B09A0DC1C10A72996137BE937DA56ECB finished...\n",
            "Process 693: ZxE19A26EE88FD1A5FDD1D4B225EB98B385544451605D664CB finished...\n",
            "Process 694: ZxE1BDE57D85B29E6B15D177EDCC0F89D6C6A550710B94F025 finished...\n",
            "Process 695: ZxE1BEB9512A571D2E99020DC75503D198D8B93858B7A0C5DA finished...\n",
            "Process 696: ZxE1C1EDEA0C9958088B1F8DDDB67DA5BE4C07D089FFF2341C finished...\n",
            "Process 697: ZxE21C85C15C106DC872B2004FDBDDABCDF5E809CB43226796 finished...\n",
            "Process 698: ZxE247A12F8E55F962276E63028E66629A545B16754A43A10D finished...\n",
            "Process 699: ZxE379608F86D71DD9646D356111707185B39FB15D03AB10CF finished...\n",
            "Process 700: ZxE40263269849298C9B82E3E259D319CD00326138BAED92EC finished...\n",
            "Process 701: ZxE404B57455DB220618733B94A9C0E789AEB8E30AE3AEA44F finished...\n",
            "Process 702: ZxE4394052AA994301FCCF1981DCAB7FA6894C9CA788A8ACDC finished...\n",
            "Process 703: ZxE4B06F9D3330C64E3A3B6CBE49F2672B30913D7F3B9A6F91 finished...\n",
            "Process 704: ZxE4E1AD806CFDD7387E31269942B1C41457D1083FF77EBDA9 finished...\n",
            "Process 705: ZxE51CD6EA3575F74215EDBE0D4E68DB731A4D9BF04E148504 finished...\n",
            "Process 706: ZxE51CD6EA3575F7427A643DAF6A69364FF2F87E167717AFB2 finished...\n",
            "Process 707: ZxE51CD6EA3575F742F16697D93AAB0FC5685020198DD07026 finished...\n",
            "Process 708: ZxE51CD6EA3575F742FB1EB0773C7CB441A80836F0DE8DB3A9 finished...\n",
            "Process 709: ZxE5D510997A6C170C726F8AC962519B52E5615D89C34CE030 finished...\n",
            "Process 710: ZxE62B5B6443A95B3A5713E8421C66F78DD835DE3F31E5A4DB finished...\n",
            "Process 711: ZxE71B4C9943155CFC6C816D437F8F2C635B530E56B512DB2E finished...\n",
            "Process 712: ZxE7279474581D135218F20333FE314E94583F697B1F36C9A1 finished...\n",
            "Process 713: ZxE76F21E1207D9B33203B948479CE51CF2660CA56CEF4802F finished...\n",
            "Process 714: ZxE76F21E1207D9B333A8ACB0D226F0AE32CAE95B9A3719154 finished...\n",
            "Process 715: ZxE7D33E9191145656D2090033DDB15467D0ABEF5B9CD3BA07 finished...\n",
            "Process 716: ZxE7E2340E9CF9166B6678365A0067728037A84C3D9AFF7C54 finished...\n",
            "Process 717: ZxE7E2340E9CF9166BF0A907CA26D681BCC9AA5D58036067C3 finished...\n",
            "Process 718: ZxE838529A9632FE4ED138A9C6833B57C5AA66F9A094A926EC finished...\n",
            "Process 719: ZxE84E7BDF03716E4777D192E2B3EFC3F52E88D0AEA4B2D2B4 finished...\n",
            "Process 720: ZxE8BB30B13CD98B71FBDEFD813621F5B6C62329C1F80AE0BF finished...\n",
            "Process 721: ZxE9221E1FC86DE0DDD166CB91CB6770DB293046EECA5CF889 finished...\n",
            "Process 722: ZxE973E9FCEBE3F7263431A7B7D86046C56FFE33AB14126156 finished...\n",
            "Process 723: ZxE973E9FCEBE3F726D6E4569815ABEF96F5C03D19C5C421D7 finished...\n",
            "Process 724: ZxEA4F23B79CF6B8981977B8B2A2F930403ABA5D6E4227FB82 finished...\n",
            "Process 725: ZxEA628EF42779B6CE7E30493E1FAA3EC3F9F22FB4DA178DDB finished...\n",
            "Process 726: ZxEA84E9C33FF59089079E65848869AE432A0E481F841465AE finished...\n",
            "Process 727: ZxEC0E5E55E3DBBEEEFF25AEE8D486FF799B784094D0691E46 finished...\n",
            "Process 728: ZxEC4B3844F2A31399BBCEA3D0AD8E65FB317414DAF0A4BF04 finished...\n",
            "Process 729: ZxEC4B3844F2A31399E6F4425E419F18603BBC720D8BDF8589 finished...\n",
            "Process 730: ZxED2E914A90709FC7025E86E7E0C607F5DDFF77BFA7DF33AD finished...\n",
            "Process 731: ZxED2E914A90709FC7AA6D521F96ECF8FBC5E1BDE9B0B33F80 finished...\n",
            "Process 732: ZxED2E914A90709FC7ABF2128E5E869C16038B04D30BA302CA finished...\n",
            "Process 733: ZxEDA3B604F954952A1B17F96513DFFF49661FFEC58FB62C8D finished...\n",
            "Process 734: ZxEDA3B604F954952AD37479E6397076219F913FA374133536 finished...\n",
            "Process 735: ZxEDAC8FBEDCAA7CDF1EFEC9F6632D7ABCABDB4A3B4DF2103C finished...\n",
            "Process 736: ZxEDC3B8653928851A2D4A9E8C15F06DAFFA206D965821B634 finished...\n",
            "Process 737: ZxEDE48C5B4D220391526FD0794173A5FD0153C6526362987C finished...\n",
            "Process 738: ZxEE9C011A6281CD150FDA654D8FA330DC28BF038E2A0AF9C3 finished...\n",
            "Process 739: ZxEEE8DBA4F76BDE201ED4EFE8362A11C774ED0E05F09F2146 finished...\n",
            "Process 740: ZxEEF586ADFB6E46F62FB6693837C48E4682A4D4517F457635 finished...\n",
            "Process 741: ZxEF0BE9C4F50812C7588CC926E37C66096A185BF929592C69 finished...\n",
            "Process 742: ZxEF9D1B1DF042534A0939E5FB0778C2616810D53369BE544D finished...\n",
            "Process 743: ZxEFE5BD25C865B7E8EC5C4FB637D285F20044EECAA9ADF616 finished...\n",
            "Process 744: ZxF04C2DF647FC447F3743DCA712745B7BD7A7297A54FE5FC8 finished...\n",
            "Process 745: ZxF1141B608E0DB6FFD087499CA1EE80EF6EBBF7089754B466 finished...\n",
            "Process 746: ZxF1263E938D17E1CD8CCEE22297A51F306D5B93C1DBD4BDBC finished...\n",
            "Process 747: ZxF21344F244DC0BDA313A08EBC59DD9D38C96FCC9A7DB2DB4 finished...\n",
            "Process 748: ZxF2705A350ACE282D407763E07A9521B129903BCDED48B8DD finished...\n",
            "Process 749: ZxF2CBBEF4B2DBE32F70C902DAE7CDD8738979F5595658F783 finished...\n",
            "Process 750: ZxF315D58E2CF14B76EA69E8709BBFC07A2CA3FC1E068040D5 finished...\n",
            "Process 751: ZxF315E683A82DD572491CCFD95E06CE8D48242B630B275726 finished...\n",
            "Process 752: ZxF3EDCFF4D2AB58B7AF8CD5FEA1AE792A697564A3A0D1158C finished...\n",
            "Process 753: ZxF3EDCFF4D2AB58B7B057CA8F15C5213975B3648FE3EDDAC9 finished...\n",
            "Process 754: ZxF4650E9B1504D7A61A287B264E50A320FC0F56206D8F889A finished...\n",
            "Process 755: ZxF4E35FFB8721136A4933F9FBDB076B935DC6F2B47E42125B finished...\n",
            "Process 756: ZxF4E35FFB8721136AF9AA14E6F0C380A4C0B3BAB5F2560EE8 finished...\n",
            "Process 757: ZxF5096D162C108C6D1633924346CE778E67DA71A47BCECD0E finished...\n",
            "Process 758: ZxF58A14D8AA05B54FD82F791D4C0A024ECD0F41D9CB4E740D finished...\n",
            "Process 759: ZxF652001E94225B4A23A4A954155BE1BEB9FA4804B68769F6 finished...\n",
            "Process 760: ZxF652001E94225B4ADFB12383336103ECFEBA6D204AA32B9E finished...\n",
            "Process 761: ZxF66AF9C3CA0DD99E006E8F6FA52C8A3ABA723F5A21294F9A finished...\n",
            "Process 762: ZxF68BEE7E1F60DFA9C9AB9165A7C798CF667472DA902812F6 finished...\n",
            "Process 763: ZxF6C74D5FFC69B6EAB402E825C2C7190CDBFFE4FBF2B6BC74 finished...\n",
            "Process 764: ZxF6EE91DABD349B4A40832147C04C15C06A14E3CCD221F33C finished...\n",
            "Process 765: ZxF6EE91DABD349B4AB88DFDE359B6D2C44837410638B68866 finished...\n",
            "Process 766: ZxF740369C873AA046C77D3A7F253BB0780E00233DB92B4037 finished...\n",
            "Process 767: ZxF77F6D49315BC4745300157B6FABC8BEE25F0F4C4C0209DC finished...\n",
            "Process 768: ZxF78584259A680C72789533BACB5A9B762D04B3EFE5A3376E finished...\n",
            "Process 769: ZxF78584259A680C72F8E790CB81DFB1AD7CE260C49C0D9692 finished...\n",
            "Process 770: ZxF7E38D9EAC1BF4A8900F4833760CD4BC93B28F2DD1DA4662 finished...\n",
            "Process 771: ZxF7E38D9EAC1BF4A89DE0FBC6B8A3E2248ACFFDE3782E18AE finished...\n",
            "Process 772: ZxF8C431A13165137AB38AD9F8401ECF01C7FF9311D4C5EFFB finished...\n",
            "Process 773: ZxF8D0A211F87F12AF7B420DB5FDFE118A6D4C1A911885425B finished...\n",
            "Process 774: ZxF9654BAB07B0415EC280458E14F382A4DABCC4076DF3359D finished...\n",
            "Process 775: ZxF9F4AF14D7B1EF7C3EE19FF778359FEE681702C00D80568F finished...\n",
            "Process 776: ZxF9F4AF14D7B1EF7CE722B4FC916ECAA3B0DD72CD861A4460 finished...\n",
            "Process 777: ZxF9FB7F731AE2DCEAA653D01FDDCFB8C1F55078F52FD3CBF0 finished...\n",
            "Process 778: ZxFA97E60E42060D9059E3756F2068A6F7F11DCA3C42469C33 finished...\n",
            "Process 779: ZxFB899E31B6D8BE100DFFC67985BA43EDB2743EE7A3CCE22C finished...\n",
            "Process 780: ZxFBB0181FCAF1CAB696C6F9AE42517E0BA6245896131FB124 finished...\n",
            "Process 781: ZxFBBCCC5E909887D98798E50C1BA4E75F67FFFBF33B653064 finished...\n",
            "Process 782: ZxFC07BE7D85CCF82D60FB84BBFD2CBA613C665DEABDEBCB7F finished...\n",
            "Process 783: ZxFC585268A1A63205CF3C1BB8A4A0A2C32F68004414D9F1D1 finished...\n",
            "Process 784: ZxFC844751E4BC264FA5C360F4807B1B04F639935B755AE982 finished...\n",
            "Process 785: ZxFD05F92AFD745EFDDF1E3123D3080D14D0C5EB6FD54083D9 finished...\n",
            "Process 786: ZxFD808B7419E590990E1632C52DF44EE1E26A2CBF9C4A616D finished...\n",
            "Process 787: ZxFD808B7419E590992EA61CABB2AFFA616410E02635529AD8 finished...\n",
            "Process 788: ZxFD8D565F7CFAEA22C980A585E7A7937AAE5EB20D3C6590E3 finished...\n",
            "Process 789: ZxFE087EAB297CA731B8DBD01407C31C992274CA97F8770F37 finished...\n",
            "Process 790: ZxFE269EDFD4EE0330B3D6C645D89AE017B8B14C72E713EBB4 finished...\n",
            "Process 791: ZxFE280A8E0C448EA083FEDDDC85B47E70AF62C489881C066B finished...\n",
            "Process 792: ZxFEFF9C9555D60C4A447AE2172976D86C6F1E6018597F8530 finished...\n",
            "Process 793: ZxFF050F121B008A9A3447A15F3C5F8A780BC44C8C62B2A4F6 finished...\n",
            "Process 794: ZxFF33BBA53245DC11656AD674EDAC74459F773A394590234E finished...\n",
            "Process 795: ZxFF3D6B912E3F1986C7A67E92219D38CCA5FC12F6DFC9D169 finished...\n",
            "Process 796: ZxFF416C96EF954FE1720C04968292DDE45BBEC2E4E5A74055 finished...\n",
            "Process 797: ZxFF51EAF10B09D34C5B5B3068CE83017279F3AFB5644E093F finished...\n",
            "Process 798: ZxFF51EAF10B09D34C7AE7C6543942C9000C78DF2C64EAF6A3 finished...\n",
            "Process 799: ZxFF823BD50CB342CE9DEDCD690E770B716F837D2CE9A22352 finished...\n"
          ]
        }
      ]
    },
    {
      "cell_type": "code",
      "source": [
        "print(images_valid.shape)\n",
        "print(len(labels_valid))\n",
        "\n",
        "print(images.shape)\n",
        "print(len(labels))"
      ],
      "metadata": {
        "id": "1srhJYwsDe7I",
        "colab": {
          "base_uri": "https://localhost:8080/"
        },
        "outputId": "dc672d77-9326-477a-8162-fd6346f18537"
      },
      "execution_count": 29,
      "outputs": [
        {
          "output_type": "stream",
          "name": "stdout",
          "text": [
            "torch.Size([12000, 1, 256, 256])\n",
            "12000\n",
            "torch.Size([47968, 1, 256, 256])\n",
            "47968\n"
          ]
        }
      ]
    },
    {
      "cell_type": "markdown",
      "source": [
        "## 不割"
      ],
      "metadata": {
        "id": "_uiU4tgDE-Fg"
      }
    },
    {
      "cell_type": "code",
      "source": [
        "dflabel = read_label(labelpath)\n",
        "total_nii = len(os.listdir(datadir))\n",
        "images, labels =  process_data2(traindir=datadir, termi=10,shift=0,dropFalse=0,dropPos=0)"
      ],
      "metadata": {
        "id": "WFJpwdc4cSci"
      },
      "execution_count": null,
      "outputs": []
    },
    {
      "cell_type": "markdown",
      "source": [
        "valid當training"
      ],
      "metadata": {
        "id": "Auwx4EE2JuxI"
      }
    },
    {
      "cell_type": "code",
      "source": [
        "train_id, valid_id = get_split()\n",
        "images_valid, labels_valid = process_data2(datadir, dropFalse=0, files=valid_id)\n",
        "images, labels = images_valid, labels_valid"
      ],
      "metadata": {
        "id": "ahaOBBHsf6SP"
      },
      "execution_count": null,
      "outputs": []
    },
    {
      "cell_type": "markdown",
      "source": [
        "check"
      ],
      "metadata": {
        "id": "0WasSlbUEkK4"
      }
    },
    {
      "cell_type": "code",
      "source": [
        "images_train, labels_train = remove_false_images(images, labels, 0.90)\n",
        "print(images_train.shape)\n",
        "print(len(labels_train))\n",
        "print(images.shape)\n"
      ],
      "metadata": {
        "id": "1U8IlMjbME2H"
      },
      "execution_count": null,
      "outputs": []
    },
    {
      "cell_type": "markdown",
      "source": [
        "## k-fold"
      ],
      "metadata": {
        "id": "9dSulThKilGf"
      }
    },
    {
      "cell_type": "code",
      "source": [
        "import gc\n",
        "folds_indices = k_fold_split_indices(len(images), k=5, shuffle_=True)\n",
        "# 使用生成的索引\n",
        "for idx, (train_index, test_index) in enumerate(folds_indices):\n",
        "\n",
        "  train_images, test_images = images[train_index], images[test_index]\n",
        "  train_labels, test_labels = labels[train_index], labels[test_index]\n",
        "  print(f\"Fold {idx}: 训练集大小 {train_index}, 测试集大小 {test_index}\")\n",
        "  del train_images, test_images, train_labels, test_labels\n",
        "  gc.collect()\n",
        "#"
      ],
      "metadata": {
        "id": "AcRC4MkKhFf_"
      },
      "execution_count": null,
      "outputs": []
    },
    {
      "cell_type": "code",
      "source": [
        "# len(labels_train)"
      ],
      "metadata": {
        "id": "WC2Zjl9fI0pm"
      },
      "execution_count": null,
      "outputs": []
    },
    {
      "cell_type": "code",
      "source": [
        "#  %reset_selective images_train, labels_train"
      ],
      "metadata": {
        "id": "jeAD7ynnVOWw"
      },
      "execution_count": null,
      "outputs": []
    },
    {
      "cell_type": "code",
      "source": [
        "# %reset"
      ],
      "metadata": {
        "id": "ZWaEl6uf0eLv"
      },
      "execution_count": null,
      "outputs": []
    },
    {
      "cell_type": "markdown",
      "source": [
        "## 處理測試資料，合併到訓練集裡面"
      ],
      "metadata": {
        "id": "y5aFTwjoWCj1"
      }
    },
    {
      "cell_type": "code",
      "source": [
        "os.listdir(testdir)"
      ],
      "metadata": {
        "colab": {
          "base_uri": "https://localhost:8080/"
        },
        "id": "E-jDBwGFdHDQ",
        "outputId": "7efa22ed-43f5-4a88-8dde-c4feb14d3455"
      },
      "execution_count": 40,
      "outputs": [
        {
          "output_type": "execute_result",
          "data": {
            "text/plain": [
              "['Zx71882377B86909CEE1CBA263EBDA676AFCB8C1D9CEA6CA71.nii.gz',\n",
              " 'Zx0494BD052F6F8D5AE880019E479EA1645BA16DB866391057.nii.gz',\n",
              " 'Zx2F6788FE9FFAF1591EF193D5CEB128856187C9D472AB4FDE.nii.gz',\n",
              " 'Zx3EA89840088625B7D081A09EA0F49FA84E5EBBCA95505F42.nii.gz',\n",
              " 'ZxE5E3795CB8C405D25779A4C8E98F349634B0E59D401C2101.nii.gz',\n",
              " 'Zx35E3E6E7CBA729A6755099FE15F4A8050551F639AE0788F3.nii.gz',\n",
              " 'Zx27F7969620CB7F948297D76422B2E0615FB401C9A05EF138.nii.gz',\n",
              " 'Zx8B08329735765986AE0C886DF477C43FD61C24A73931F804.nii.gz',\n",
              " 'ZxD71EEE470B02A3F9E7F550F74B347A97F1550F005E58B6CD.nii.gz',\n",
              " 'Zx36871521E7690C7EB7193B282795ECE79AB201094307C5D9.nii.gz',\n",
              " 'Zx4AECB8B0B1D71D292538B8567BCF71F6AB68B67DA4BA7C6C.nii.gz',\n",
              " 'ZxB7B55BFB145A343D2491C9E70D2654AD9B97D296C5454198.nii.gz',\n",
              " 'ZxC03412C145236A979F54884F8D427DA70CCB9BBEE8C2AA3F.nii.gz',\n",
              " 'ZxB931D87EC6DEA3CB81C014696E2964352D70C597AAEDF117.nii.gz',\n",
              " 'Zx5CA7E965FECF5AD905091AD0B29B9FE3509D1A1207CF52A9.nii.gz',\n",
              " 'Zx7DE8D111679C66AC416BFC12DBD791F20EBC1C0566D3A47E.nii.gz',\n",
              " 'ZxE430908EE5B2BB8EBEE792A5F62B86C091124D4D69FCA58A.nii.gz',\n",
              " 'Zx85143C1BC973DDB514FCE4218124704B80B7F0B192A0BC91.nii.gz',\n",
              " 'Zx3FC388FF59A43E76C1BFD1A7C6D32B8BE14F3A6E89D6A6B1.nii.gz',\n",
              " 'Zx3E5AFBCBDDC3B7D0506A7922160EA8E57BC0544507412868.nii.gz',\n",
              " 'Zx7951881EF40FC426D9EA536E14C02675B7443B22D41B2B42.nii.gz',\n",
              " 'Zx8CD578B99733C202307D3D81C53D4DA667E41350D3856827.nii.gz',\n",
              " 'Zx85879AFAD59C81347F473E33E811C18C9800532D55585E13.nii.gz',\n",
              " 'Zx3F5595BEB5A2761172E1B40F051646CE407A5E33E6786A5B.nii.gz',\n",
              " 'Zx3306AD6CF1A7BFC10AC29595E184BB42B55AA62A12FC78E9.nii.gz',\n",
              " 'Zx2B592964C81989F06B501B1419187A0CBEE964C9E9122466.nii.gz',\n",
              " 'Zx949BBA19176EEEEE3AFCCD908B0891E76F9670D6C5BB6C73.nii.gz',\n",
              " 'ZxDAADCC811EB06CD6BA6EDF9D2ED20342AE4FFA6E470C0827.nii.gz',\n",
              " 'ZxEA8CCC7F823ABB0D42B21148A5D38F4640B98ABFC73674A7.nii.gz',\n",
              " 'ZxD013127CEE31029BABC9AD3C7449546176EEA993DAA72863.nii.gz',\n",
              " 'ZxE5E4971C1335562972E64FD6F0C77101E09A657145C29CD7.nii.gz',\n",
              " 'Zx3AB91ED4F2F9AA3B1208C07600984F1F79E2915E57734F4D.nii.gz',\n",
              " 'ZxF2CBBEF4B2DBE32F5920A3BBE0DAA9D302FB31C70AD7DE74.nii.gz',\n",
              " 'Zx48074DB9E01459331AE106F30CB73F5E1166F3F763F351F1.nii.gz',\n",
              " 'ZxD728C29B1AB11749C76B613B7BE763911E28BA672A1E5B01.nii.gz',\n",
              " 'Zx36871521E7690C7EABD194EDCC8A181433640C8213ED8AD6.nii.gz',\n",
              " 'ZxF65F59C939D3322831A7F34DB2609DB0FDCBAA8524344EA6.nii.gz',\n",
              " 'Zx1D4A80B800B97C21DB4D10BD1DCDED8FF4418FB50D6C3D88.nii.gz',\n",
              " 'ZxAF2EC9199E1D25F3084137AB571FE09B52DAFDAB69CFBC17.nii.gz',\n",
              " 'Zx5FD5C44590C60F14FEC396DA277FA818B896908F0340A5FB.nii.gz',\n",
              " 'ZxC9F46C6F976D94484D464D53C24046C06BDDBD4F262B8213.nii.gz',\n",
              " 'Zx257A4F4CF09FCDFC28B7EB5EB013B389E90A171250A496F9.nii.gz',\n",
              " 'ZxB6A661E35E75A54F87843C617CFDA1FE2BB322559A4475B9.nii.gz',\n",
              " 'ZxEDA3B604F954952ABC7CB68B31305691B58E255949330D59.nii.gz',\n",
              " 'Zx1065B0DE07F9AF89073FFC66C9268967D4F3483A4C0C7C9F.nii.gz',\n",
              " 'Zx2E7EE16A49C48C82F4E9AE6F6A0A03C175E1D980BAA1E94B.nii.gz',\n",
              " 'Zx354F1097EE9EEB8B9E632716007FB3E0CB5DF2E4A36AD2B2.nii.gz',\n",
              " 'ZxAA8B28FA1E8D06C15CC63EDDDC9421D7D18B0D27EF617760.nii.gz',\n",
              " 'ZxDF0C7B344362D4E98898E5ABA5AC9C07D7C2A634EF07FA5B.nii.gz',\n",
              " 'Zx35E3E6E7CBA729A68845444A5589F99DCEB9C757F6D09132.nii.gz',\n",
              " 'Zx8245F8189E7E284B4E7C7C88D84522E81B855ED77D15E7FC.nii.gz',\n",
              " 'ZxC73F3156008A07EB665CE46C85DB73B15A95D85CA34F6386.nii.gz',\n",
              " 'Zx0BA12428CDF2A4678C339FD539045623CC3FBD744FA03E42.nii.gz',\n",
              " 'Zx7952EE84755B887806E6907E2B9F2C7E3F0D0437094EF5B8.nii.gz',\n",
              " 'Zx52C5BF85821A07F0D03EC7267F60A38462FE1245738A563D.nii.gz',\n",
              " 'ZxF78584259A680C721919F406461A5BEB34CB12AA02E6B982.nii.gz',\n",
              " 'Zx4BF11609D0C2715544E40DC0A37BC6F20A67E9DFFE373944.nii.gz',\n",
              " 'ZxF9A3B94C4F199A8B3A631521FC70BB8C8D9C6AAEB5CC5258.nii.gz',\n",
              " 'ZxB632718A589D2E6909C01EBFE7E3E20990E2506677F0D712.nii.gz',\n",
              " 'Zx7A75D47E21E02DBAE7FF66B89806C6AE9390FEE8895758AF.nii.gz',\n",
              " 'ZxDC7DD3742ABAC2B412AE09E4AA36ADDABD06BDF5A910032F.nii.gz',\n",
              " 'Zx7F674AE62EED1ED72D0854B5C6A06484CC7DA77AD652C14C.nii.gz',\n",
              " 'ZxB512E8EA4BE540768A12690B14CAD246B7174E7CFFBF699B.nii.gz',\n",
              " 'Zx3B0D2EB1DE3A0BB5F3EB5A8CA6FD8D0250AD6FA4988C7D03.nii.gz',\n",
              " 'Zx71882377B86909CE2066EB62665939ECF91963F1FAA7D9F3.nii.gz',\n",
              " 'Zx8A3AF84D9F6BABC88CA2CEC413098A2BE6C5DB019DB6FC47.nii.gz',\n",
              " 'ZxB9084C9E9F075048F94430FE3F6732394206AAC243215A54.nii.gz',\n",
              " 'Zx3AB91ED4F2F9AA3B3EDFB8C612D35316A52E26B2E5362208.nii.gz',\n",
              " 'ZxE3C6C9AD59CE563BCD65BCDCD71C090447A882F9218ABD5F.nii.gz',\n",
              " 'ZxA66CEAE1B2351EF9D4EAD9B39CE3C09CE7F5FD8E1C7536D4.nii.gz',\n",
              " 'ZxC1A5FD041A41E0DF794EF28536603F04944748B1AEF00E82.nii.gz',\n",
              " 'ZxD8B230C0D0BEF0B94A1B362807445B19E3FA82746440300E.nii.gz',\n",
              " 'ZxF049552C571D3A76E0DB8E2AE9504D57C894F084D6EA9164.nii.gz',\n",
              " 'Zx636EDE3E46477475383EA3322A615FC45215834021A4E398.nii.gz',\n",
              " 'ZxAE590FC3798601D3DB251B78502E7EDCCBD4A506A7A60450.nii.gz',\n",
              " 'Zx78A49A4837BCDB270D7C89681980DF57D85223CFE156972D.nii.gz',\n",
              " 'Zx280E6239F1D4130B809F52FE5387992FAA73C2E2EE6A755D.nii.gz',\n",
              " 'ZxC8A06167AB52C9EC1889A64DC3A1172D1DD9E49455D613D7.nii.gz',\n",
              " 'Zx19216E0DC2CA308EEC6176BCC52D23A83B4992A4DC4BA0EC.nii.gz',\n",
              " 'Zx622188B87A74604DDD0B6EF3E44E6D78E79D963476AB6775.nii.gz',\n",
              " 'Zx7161D502A4795941D32A5F7E1299895B849B3CFD8D66A8FE.nii.gz',\n",
              " 'Zx3BBC3ED501BABA5DFED78A610690048DB00468E6FA512C2B.nii.gz',\n",
              " 'ZxB7B55BFB145A343D6E9FCF87CDD4578C820FF5C3A3BC8055.nii.gz',\n",
              " 'ZxDDC98783970DFB116C712055362B7FD45B53B5BC350DA7A3.nii.gz',\n",
              " 'ZxB304722538ECC8C8F2B7350BB83AAB4D0D07F66C5C97D560.nii.gz',\n",
              " 'ZxAE238E8191029A1367050737937744F3DB84AEC975764B30.nii.gz',\n",
              " 'Zx2FA626656496845EB2376B8AA9FF4954A40A5E69EF10C3B4.nii.gz',\n",
              " 'Zx178FE39F536F14FFA6941D48AB55EDDEACA9256F765AF4F6.nii.gz',\n",
              " 'ZxF049552C571D3A764513914D5A9335625DB3059B7EE7AD36.nii.gz',\n",
              " 'ZxAE84E65DFAE5468AFA7DB0E3DAF2A1D1F7227A41612D0847.nii.gz',\n",
              " 'Zx46609A1A01EEF1EE260736513C036F18CA2D1F1F5B378C95.nii.gz',\n",
              " 'ZxFA69689529627CE9D0F1B258DCC4F5CDC1523E356F8858AC.nii.gz',\n",
              " 'Zx64D8ABDFA2E7D305F79F86589C0F654B8519D9DA7ED18967.nii.gz',\n",
              " 'Zx8024D25AB9871F3D6119996C19581776DF5A4E00F1BBE710.nii.gz',\n",
              " 'ZxA76A5948715EEBACAF512446F2CD0381BD1D63291B6DFFC1.nii.gz',\n",
              " 'Zx8379BA736DA97638BFB436CA8B62FFA9B08AE3DF4F20FFFB.nii.gz',\n",
              " 'Zx42C035D21E28B861523728EAFCC8A52BAAF652130B5C1CDB.nii.gz',\n",
              " 'Zx59E1ACB980DCBF774F09D2BC83E1354E737A50DB63AF11F1.nii.gz',\n",
              " 'ZxDBD4CC3DF10B18C13B618C13E4DF5274880DA5C83D49C03B.nii.gz',\n",
              " 'Zx1950A84DEF7878F01030D4C3C3C3BBE13C85BCFB716A492E.nii.gz',\n",
              " 'Zx45F13921C226C17F39BDCB834EA6E460359E93DE33BAB417.nii.gz',\n",
              " 'Zx18A5DE09D8E03FD105E25EC869E03AF272707A3BF3438F98.nii.gz',\n",
              " 'ZxFBB0181FCAF1CAB6BA89BFABE505F2AB212CEE04C31F5F32.nii.gz',\n",
              " 'ZxDFF546F3ECA06B29F3EBA67D641AF9AAEF17C8803A105FDE.nii.gz',\n",
              " 'Zx9D76C42817583BCA2E6ECBB7A30FC18D59FF41953E62869D.nii.gz',\n",
              " 'Zx7ADA6A1993F1295D8B119858EC83BB03555A91B23DA7DA9D.nii.gz',\n",
              " 'ZxB03C746D57B71A3DBC6C9A309A9442EFEE301A6683F8C492.nii.gz',\n",
              " 'ZxFE280A8E0C448EA0E631B9E2CC071E375DD9DB0C3DED32B0.nii.gz',\n",
              " 'Zx5B525A0970D1691EDF8BEA50FF15763654BEBD2EFB3F8CBE.nii.gz',\n",
              " 'Zx17EBB1D53CF902D718F23DB9813E1B4213A24EF237D27C47.nii.gz',\n",
              " 'ZxA1ABBC6166B65AC27FC60221489EAC14116C71306692887E.nii.gz',\n",
              " 'Zx1E902196E08A1F4794D7C1ED213F6808087755181342A65C.nii.gz',\n",
              " 'ZxE1C1EDEA0C9958088A8D802BB5849C52F9B118F050FA9B38.nii.gz',\n",
              " 'Zx9734248EC9E3C233AB23AF374EC121333CE698867B81E02F.nii.gz',\n",
              " 'Zx5C5DF9F03CB8A6BA7085112157A525650BBC67D618B27032.nii.gz',\n",
              " 'Zx43AEAA1F5CDCD67251FA98D281E8E5889A68A5D7CB647038.nii.gz',\n",
              " 'Zx843A0EDC05CF7F9FCCE74343F15A4929EB633C4611C21C9C.nii.gz',\n",
              " 'Zx8F4206FB221FFC4D4BD6719A1E041BF31C10348309FC5F47.nii.gz',\n",
              " 'Zx0E3C20D9BB248666481C40266B1268B31F5B8854EDBBB1B0.nii.gz',\n",
              " 'ZxB9546F51948E2A93CCE2AE8D2819EF8BA3A8544E9EA95461.nii.gz',\n",
              " 'Zx808C443029DB5B6AC095AF2A731D2075CC0E3705F6DD1349.nii.gz',\n",
              " 'Zx11BC920F6F86611FD418A635F0BE66CF0B45537603DB7B12.nii.gz',\n",
              " 'ZxCCAFC52FC07B05526B2F9D53E2330154CB3553A8B42A29F7.nii.gz',\n",
              " 'ZxD6C4F406BC86A1166334BDBACAF6A8687D1112F823E51F2D.nii.gz',\n",
              " 'Zx4ED2135FF0A55C3D40FDE0395F6D182C059CA03A6DB72487.nii.gz',\n",
              " 'Zx7951881EF40FC42698651ACE92407F938216923AF657D89C.nii.gz',\n",
              " 'Zx8FCCE3EE05A7F900FB88DAFD7AEC6368CF58839553FF8E9B.nii.gz',\n",
              " 'ZxFD1F717CFC351F5313F3C19457044365FB313645BE11F883.nii.gz',\n",
              " 'ZxD38EEC87EAB674D681A9FCA6014871FB51F142980DD9F90B.nii.gz',\n",
              " 'ZxFFEA14E28F0F0EC02947B460CD09A073BFB3F14380A79DA7.nii.gz',\n",
              " 'ZxF5096D162C108C6DDC0BAE66AB2668BC7D982E180676104C.nii.gz',\n",
              " 'Zx5EF135FBC294D0FE406FD1817B7A554D96CE15F0F89EF37E.nii.gz',\n",
              " 'Zx3B29D889A4EF0EE304DD7E15404CC6BBA8E8CA0E66F205D5.nii.gz',\n",
              " 'Zx8772600856FB46997FC81B6D856C80C828C9D1661ED3448E.nii.gz',\n",
              " 'Zx17AF373D55BA4BD39A966B38450F745120A093520480DE44.nii.gz',\n",
              " 'ZxE72D2E3E015AA2FD1C12B18DA6E4E28E668C57EAF6E3E36F.nii.gz',\n",
              " 'ZxEA8CCC7F823ABB0DBF3D837D37685622FC2DEADDDA069B7E.nii.gz',\n",
              " 'Zx55E9D3CEB1D11AE4F0B57519F4D05CFAEE3E6F54304838BF.nii.gz',\n",
              " 'ZxD5CEC3B2ADA8FBEE42CF4CB075EF91F3184A3099168A8171.nii.gz',\n",
              " 'Zx23CE39ADA19715433C5678EBE8C87CB0E0A752AC1965C4E2.nii.gz',\n",
              " 'Zx768E7AE6850936D44C547E0C7DA6B569BBDE6B93D62F9D36.nii.gz',\n",
              " 'Zx70E9FD4DAFCFB248FDA32AADF1580052D0E6AB037DAF29FD.nii.gz',\n",
              " 'Zx8A3C1AB3C05137B542B3C484EF2017A79DF7EF42D5D268DE.nii.gz',\n",
              " 'ZxF9F4AF14D7B1EF7CE9542313E425800F6A2DAE478ABB9C05.nii.gz',\n",
              " 'ZxE462AA7D6F936626F131D143A8B501317CD81BE846118774.nii.gz',\n",
              " 'Zx0CA5CE197AA9378E57731501B77CB39DAF55B8CC73E2D27B.nii.gz',\n",
              " 'Zx1ECC8B15EE238864FFC4C941D43E27224B36842F346B5963.nii.gz',\n",
              " 'ZxFABAF7EB4A6A337D0FD00C6CC569B2FD4605BF2E81CA12F2.nii.gz',\n",
              " 'ZxBBDFDF6DF3DBB80E417A41F80EDFDFBCC8E4DB5FF73B8448.nii.gz',\n",
              " 'ZxC44A9B6624CC20D0B5956E0F2500E2A9A37A87468D38B592.nii.gz',\n",
              " 'Zx40B897A72CC87B33FB1D0AEF64F4C967B388A92A907D047A.nii.gz',\n",
              " 'Zx835BE89BC06B937B36E14E778D8899B69CB7A2F21850483D.nii.gz',\n",
              " 'ZxF73848F05D2E38AEDDDE635CC941CC4F431410F486B6CA4F.nii.gz',\n",
              " 'Zx7037B2012EB022B9699C7762DCB4193B1BB016817D7FC6C1.nii.gz',\n",
              " 'ZxCD401676465DBF07C39B84291FD0E3318518543F91E13A17.nii.gz',\n",
              " 'ZxA8F3EE8B5F7C781C6D3876A816CDBBBD55E8EEB27A4DF83E.nii.gz',\n",
              " 'Zx60C959AE9145108B34EF3C91E7382A93992612BFEAA28DA9.nii.gz',\n",
              " 'ZxDCB1D0A8AFA3BE4CD17AE303FAAA3BCE0D188F049591C1E8.nii.gz',\n",
              " 'Zx45D460F29B103B7B0AC5121E3F7151E7C2065BE7A504E672.nii.gz',\n",
              " 'Zx884CC84AEA488B321C9D551FA1C817BEECC294AC00BE6A8B.nii.gz',\n",
              " 'Zx19171CE8121BE208C4FEF4CBAE59A8020236406D727F2A17.nii.gz',\n",
              " 'Zx005B1BD0539BF17B1B06AEBAC4768A949110AF643B586186.nii.gz',\n",
              " 'Zx0515C10FBFD606AC31A317BBBA1F5DC569DA7543C8CC5593.nii.gz',\n",
              " 'Zx15FB4DF1D36A7B4A90C8D25D5E21A5220215A9A0B2E84281.nii.gz',\n",
              " 'Zx6F955902ECAB7A7218F49784316D05FE0C54FFE123314BE7.nii.gz',\n",
              " 'Zx11535F42DA5237C6D219410F7DA231DE345339E4C0EBB22F.nii.gz',\n",
              " 'ZxFACC37BE9FE9697E2A4C01BC968CD2B132D1116A912A09EC.nii.gz',\n",
              " 'ZxAD2FA990183BD4E19D884CBCC1FBE23CF018D4592B2C3883.nii.gz',\n",
              " 'Zx94B02A482BADC62CC3F364073C8D4897ADCD80E971A3BF50.nii.gz',\n",
              " 'Zx079628807D9A7AF3FAC84DF78D0EA36E8E1679FD58665039.nii.gz',\n",
              " 'ZxE4744C8524FAF4CA5CE84A77BA3C38AE947D3B9BB1A3CDEC.nii.gz',\n",
              " 'ZxC7121EE947B7287A9F0DB28C3A530C8144C145A0E8E3825F.nii.gz',\n",
              " 'Zx5480C528247A0B9962687B8B54F3DB8D00B45ED8E3F6D9FF.nii.gz',\n",
              " 'Zx1F3C9D69B022B7989F9BDED1FCFF1650B359EA2D804CC4E2.nii.gz',\n",
              " 'Zx1950A84DEF7878F065F3EC9E504A41070A45870C0F24CE12.nii.gz',\n",
              " 'ZxF38BBFB9FE9627CDE70B1108DF774E0AB34C618052C789D1.nii.gz',\n",
              " 'Zx4266C1F9BEFA9C6A48793BEE45C8F7C9440B2706F1C30D9B.nii.gz',\n",
              " 'Zx6A20D18C293857B2095621DC1F7722BE93965BFE289B65D0.nii.gz',\n",
              " 'ZxEC9E7A324DD98D725CF58433AF37C70632F62FE9E607F396.nii.gz',\n",
              " 'Zx1D1DA01764422E6A2D958E0A819EB3CAE63BAF13858AA1B0.nii.gz',\n",
              " 'ZxFDD67837B9312BB1DDA4F44DBF26C7B8238FA56EFB63E6BF.nii.gz',\n",
              " 'Zx88ACB7F8111B2813FCC6F993ADE72FE25FF02AA2EA0AB7CC.nii.gz',\n",
              " 'ZxED5AA0736BB397960B9D15A63874FB1314DCFB0FC9D0A1A4.nii.gz',\n",
              " 'ZxD4F149EA62C8E6C2D8C210404FF6C0AACD1A406CDBF58394.nii.gz',\n",
              " 'Zx683BB292E991972AAE79D24328C60D46EBC30D372DD48117.nii.gz',\n",
              " 'Zx62B066968229B5908D6FD1CAF036236B39A557DE6AEECE24.nii.gz',\n",
              " 'Zx9EC62DC8DBE97070001060419EEF3156AAE29EC4E94AFF86.nii.gz',\n",
              " 'ZxE1BDE57D85B29E6B896E2B728BFCCF8290B361010ACC2129.nii.gz',\n",
              " 'Zx414A94D38319FEB092E341DFD0A3FF6234A3F56A00814EFE.nii.gz',\n",
              " 'Zx4E9B847790B6766F4FBC6C279552E2B31798102A17E35592.nii.gz',\n",
              " 'Zx7001D8A2879148E20A1BD2B24D91AE152F0B57D5CAA74D56.nii.gz',\n",
              " 'Zx09B8B89D394E0093CD23DB8A173547E454F245C9EEA967CD.nii.gz',\n",
              " 'ZxA150F0E6EEFBF22692C54F121C5A0A9B396970E0EDFBB002.nii.gz',\n",
              " 'Zx16043EED6C38D1B0BF9543D51AB4509392D37812F3148E11.nii.gz',\n",
              " 'Zx671D9F8D2AFCEF87456B1A71EB80456089796EFC5693A0BD.nii.gz',\n",
              " 'Zx9851305502540F201FC3223E2A35A8912DEEAC658063600A.nii.gz',\n",
              " 'ZxF4650E9B1504D7A63FC953301E7215CE200BD48E4495D754.nii.gz',\n",
              " 'Zx644A0BCBD360F4F80D3982FFA3953F08D7E6573EC754196D.nii.gz',\n",
              " 'ZxFED2876751248DCA7583BC7EB8ECD8D61BCE326AB36776A0.nii.gz',\n",
              " 'Zx09972B8FA6215EECC782378C5672828C0D9CD0EC6C5D137B.nii.gz']"
            ]
          },
          "metadata": {},
          "execution_count": 40
        }
      ]
    },
    {
      "cell_type": "code",
      "source": [
        "images_fortrain, labels_fortrain = process_data2(testdir, shift=0, termi=1, dropFalse=1, dropPos=0)"
      ],
      "metadata": {
        "colab": {
          "base_uri": "https://localhost:8080/"
        },
        "id": "q5WWXrSAV85E",
        "outputId": "c743029b-66b6-4497-bd5d-e3d0e27757ab"
      },
      "execution_count": 47,
      "outputs": [
        {
          "output_type": "stream",
          "name": "stdout",
          "text": [
            "reading traindir='Cropped_60-316_150-406_11-71/Test2_Image_cropped'...\n",
            "xlim=[60, 316]\n",
            "ylim=[150, 406]\n",
            "zlim=[11, 71]\n",
            "Process 0: Zx71882377B86909CEE1CBA263EBDA676AFCB8C1D9CEA6CA71 finished...\n"
          ]
        }
      ]
    },
    {
      "cell_type": "code",
      "source": [
        "print(images_fortrain.shape)\n",
        "print(labels_fortrain.shape)"
      ],
      "metadata": {
        "colab": {
          "base_uri": "https://localhost:8080/"
        },
        "id": "jcUrybiWmPHH",
        "outputId": "dd35d755-17e2-4477-e42c-acd932815252"
      },
      "execution_count": 48,
      "outputs": [
        {
          "output_type": "stream",
          "name": "stdout",
          "text": [
            "torch.Size([4, 1, 256, 256])\n",
            "torch.Size([4])\n"
          ]
        }
      ]
    },
    {
      "cell_type": "code",
      "source": [
        "# labels_fortrain[labels_fortrain == 3] = 0"
      ],
      "metadata": {
        "id": "eOkAWI8_veiB"
      },
      "execution_count": null,
      "outputs": []
    },
    {
      "cell_type": "code",
      "source": [
        "labels = torch.concat((labels, labels_fortrain), 0)\n",
        "images = torch.concat((images, images_fortrain), 0)"
      ],
      "metadata": {
        "id": "l-duiiMesDhB"
      },
      "execution_count": null,
      "outputs": []
    },
    {
      "cell_type": "code",
      "source": [
        "# images = images_fortrain\n",
        "# labels = labels_fortrain"
      ],
      "metadata": {
        "id": "MUL2W9N3HUBF"
      },
      "execution_count": null,
      "outputs": []
    },
    {
      "cell_type": "markdown",
      "source": [
        "## 標準化"
      ],
      "metadata": {
        "id": "5NBLcR3QugLM"
      }
    },
    {
      "cell_type": "markdown",
      "source": [
        "為了方便, 只用training set的數據計算平均值與標準差, 並套用在所用數據集的標準化中"
      ],
      "metadata": {
        "id": "qTpOFP3Wp1VX"
      }
    },
    {
      "cell_type": "code",
      "source": [
        "mean, std = torch.mean(images), torch.std(images)\n",
        "transform_standard = transforms.Normalize(mean=mean, std=std)"
      ],
      "metadata": {
        "id": "PLBuLp05q4kV"
      },
      "execution_count": null,
      "outputs": []
    },
    {
      "cell_type": "code",
      "source": [
        "mean"
      ],
      "metadata": {
        "colab": {
          "base_uri": "https://localhost:8080/"
        },
        "id": "2FQmAUUP8fAk",
        "outputId": "e7eb93d6-ea63-43ed-d85e-8f3ec2da3eab"
      },
      "execution_count": null,
      "outputs": [
        {
          "output_type": "execute_result",
          "data": {
            "text/plain": [
              "tensor(-115.7880)"
            ]
          },
          "metadata": {},
          "execution_count": 27
        }
      ]
    },
    {
      "cell_type": "code",
      "source": [
        "std"
      ],
      "metadata": {
        "colab": {
          "base_uri": "https://localhost:8080/"
        },
        "id": "EWb26l0o8mlA",
        "outputId": "9e967c3f-e309-4d68-fd44-b1fbec3980e0"
      },
      "execution_count": null,
      "outputs": [
        {
          "output_type": "execute_result",
          "data": {
            "text/plain": [
              "tensor(365.4666)"
            ]
          },
          "metadata": {},
          "execution_count": 28
        }
      ]
    },
    {
      "cell_type": "markdown",
      "metadata": {
        "id": "0IX5HYZuSKG-"
      },
      "source": [
        "# 訓練"
      ]
    },
    {
      "cell_type": "markdown",
      "source": [
        "## 初始化 for first run"
      ],
      "metadata": {
        "id": "Sw6E0WZOELfW"
      }
    },
    {
      "cell_type": "code",
      "source": [
        "model = pretrained_model\n",
        "# model = unet_model\n",
        "print(model_name)"
      ],
      "metadata": {
        "colab": {
          "base_uri": "https://localhost:8080/"
        },
        "id": "tiWOM0VQOvxO",
        "outputId": "d0925555-ea69-4c44-d895-467f701fbad8"
      },
      "execution_count": null,
      "outputs": [
        {
          "output_type": "stream",
          "name": "stdout",
          "text": [
            "efficientnet_b0\n"
          ]
        }
      ]
    },
    {
      "cell_type": "code",
      "source": [
        "model = model.to(device)\n",
        "num_epochs = 200\n",
        "batch_size = 128\n",
        "lr = 0.01\n",
        "droprate = 0.8\n",
        "criterion = nn.BCELoss()\n",
        "optimizer = optim.Adam(model.parameters(), lr)\n",
        "\n",
        "# optimizer = optim.SGD(model.parameters(), lr=lr, momentum=0.9)\n",
        "\n",
        "# Define the learning rate scheduler\n",
        "# You'll need to choose appropriate values for T_0 and T_mult\n",
        "# T_0 = 10  # Example value\n",
        "# T_mult = 2  # Example value\n",
        "# lr_scheduler = optim.lr_scheduler.CosineAnnealingWarmRestarts(optimizer, T_0=T_0, T_mult=T_mult)\n",
        "\n",
        "\n",
        "print(model)\n",
        "\n",
        "start = 0"
      ],
      "metadata": {
        "id": "AbYR6JQl3UMA",
        "colab": {
          "base_uri": "https://localhost:8080/"
        },
        "outputId": "2b2e3fc1-1d69-4326-dd19-7d4db0ee133e"
      },
      "execution_count": null,
      "outputs": [
        {
          "output_type": "stream",
          "name": "stdout",
          "text": [
            "Sequential(\n",
            "  (0): EfficientNet(\n",
            "    (conv_stem): Conv2d(1, 32, kernel_size=(3, 3), stride=(2, 2), padding=(1, 1), bias=False)\n",
            "    (bn1): BatchNormAct2d(\n",
            "      32, eps=1e-05, momentum=0.1, affine=True, track_running_stats=True\n",
            "      (drop): Identity()\n",
            "      (act): SiLU(inplace=True)\n",
            "    )\n",
            "    (blocks): Sequential(\n",
            "      (0): Sequential(\n",
            "        (0): DepthwiseSeparableConv(\n",
            "          (conv_dw): Conv2d(32, 32, kernel_size=(3, 3), stride=(1, 1), padding=(1, 1), groups=32, bias=False)\n",
            "          (bn1): BatchNormAct2d(\n",
            "            32, eps=1e-05, momentum=0.1, affine=True, track_running_stats=True\n",
            "            (drop): Identity()\n",
            "            (act): SiLU(inplace=True)\n",
            "          )\n",
            "          (se): SqueezeExcite(\n",
            "            (conv_reduce): Conv2d(32, 8, kernel_size=(1, 1), stride=(1, 1))\n",
            "            (act1): SiLU(inplace=True)\n",
            "            (conv_expand): Conv2d(8, 32, kernel_size=(1, 1), stride=(1, 1))\n",
            "            (gate): Sigmoid()\n",
            "          )\n",
            "          (conv_pw): Conv2d(32, 16, kernel_size=(1, 1), stride=(1, 1), bias=False)\n",
            "          (bn2): BatchNormAct2d(\n",
            "            16, eps=1e-05, momentum=0.1, affine=True, track_running_stats=True\n",
            "            (drop): Identity()\n",
            "            (act): Identity()\n",
            "          )\n",
            "          (drop_path): Identity()\n",
            "        )\n",
            "      )\n",
            "      (1): Sequential(\n",
            "        (0): InvertedResidual(\n",
            "          (conv_pw): Conv2d(16, 96, kernel_size=(1, 1), stride=(1, 1), bias=False)\n",
            "          (bn1): BatchNormAct2d(\n",
            "            96, eps=1e-05, momentum=0.1, affine=True, track_running_stats=True\n",
            "            (drop): Identity()\n",
            "            (act): SiLU(inplace=True)\n",
            "          )\n",
            "          (conv_dw): Conv2d(96, 96, kernel_size=(3, 3), stride=(2, 2), padding=(1, 1), groups=96, bias=False)\n",
            "          (bn2): BatchNormAct2d(\n",
            "            96, eps=1e-05, momentum=0.1, affine=True, track_running_stats=True\n",
            "            (drop): Identity()\n",
            "            (act): SiLU(inplace=True)\n",
            "          )\n",
            "          (se): SqueezeExcite(\n",
            "            (conv_reduce): Conv2d(96, 4, kernel_size=(1, 1), stride=(1, 1))\n",
            "            (act1): SiLU(inplace=True)\n",
            "            (conv_expand): Conv2d(4, 96, kernel_size=(1, 1), stride=(1, 1))\n",
            "            (gate): Sigmoid()\n",
            "          )\n",
            "          (conv_pwl): Conv2d(96, 24, kernel_size=(1, 1), stride=(1, 1), bias=False)\n",
            "          (bn3): BatchNormAct2d(\n",
            "            24, eps=1e-05, momentum=0.1, affine=True, track_running_stats=True\n",
            "            (drop): Identity()\n",
            "            (act): Identity()\n",
            "          )\n",
            "          (drop_path): Identity()\n",
            "        )\n",
            "        (1): InvertedResidual(\n",
            "          (conv_pw): Conv2d(24, 144, kernel_size=(1, 1), stride=(1, 1), bias=False)\n",
            "          (bn1): BatchNormAct2d(\n",
            "            144, eps=1e-05, momentum=0.1, affine=True, track_running_stats=True\n",
            "            (drop): Identity()\n",
            "            (act): SiLU(inplace=True)\n",
            "          )\n",
            "          (conv_dw): Conv2d(144, 144, kernel_size=(3, 3), stride=(1, 1), padding=(1, 1), groups=144, bias=False)\n",
            "          (bn2): BatchNormAct2d(\n",
            "            144, eps=1e-05, momentum=0.1, affine=True, track_running_stats=True\n",
            "            (drop): Identity()\n",
            "            (act): SiLU(inplace=True)\n",
            "          )\n",
            "          (se): SqueezeExcite(\n",
            "            (conv_reduce): Conv2d(144, 6, kernel_size=(1, 1), stride=(1, 1))\n",
            "            (act1): SiLU(inplace=True)\n",
            "            (conv_expand): Conv2d(6, 144, kernel_size=(1, 1), stride=(1, 1))\n",
            "            (gate): Sigmoid()\n",
            "          )\n",
            "          (conv_pwl): Conv2d(144, 24, kernel_size=(1, 1), stride=(1, 1), bias=False)\n",
            "          (bn3): BatchNormAct2d(\n",
            "            24, eps=1e-05, momentum=0.1, affine=True, track_running_stats=True\n",
            "            (drop): Identity()\n",
            "            (act): Identity()\n",
            "          )\n",
            "          (drop_path): Identity()\n",
            "        )\n",
            "      )\n",
            "      (2): Sequential(\n",
            "        (0): InvertedResidual(\n",
            "          (conv_pw): Conv2d(24, 144, kernel_size=(1, 1), stride=(1, 1), bias=False)\n",
            "          (bn1): BatchNormAct2d(\n",
            "            144, eps=1e-05, momentum=0.1, affine=True, track_running_stats=True\n",
            "            (drop): Identity()\n",
            "            (act): SiLU(inplace=True)\n",
            "          )\n",
            "          (conv_dw): Conv2d(144, 144, kernel_size=(5, 5), stride=(2, 2), padding=(2, 2), groups=144, bias=False)\n",
            "          (bn2): BatchNormAct2d(\n",
            "            144, eps=1e-05, momentum=0.1, affine=True, track_running_stats=True\n",
            "            (drop): Identity()\n",
            "            (act): SiLU(inplace=True)\n",
            "          )\n",
            "          (se): SqueezeExcite(\n",
            "            (conv_reduce): Conv2d(144, 6, kernel_size=(1, 1), stride=(1, 1))\n",
            "            (act1): SiLU(inplace=True)\n",
            "            (conv_expand): Conv2d(6, 144, kernel_size=(1, 1), stride=(1, 1))\n",
            "            (gate): Sigmoid()\n",
            "          )\n",
            "          (conv_pwl): Conv2d(144, 40, kernel_size=(1, 1), stride=(1, 1), bias=False)\n",
            "          (bn3): BatchNormAct2d(\n",
            "            40, eps=1e-05, momentum=0.1, affine=True, track_running_stats=True\n",
            "            (drop): Identity()\n",
            "            (act): Identity()\n",
            "          )\n",
            "          (drop_path): Identity()\n",
            "        )\n",
            "        (1): InvertedResidual(\n",
            "          (conv_pw): Conv2d(40, 240, kernel_size=(1, 1), stride=(1, 1), bias=False)\n",
            "          (bn1): BatchNormAct2d(\n",
            "            240, eps=1e-05, momentum=0.1, affine=True, track_running_stats=True\n",
            "            (drop): Identity()\n",
            "            (act): SiLU(inplace=True)\n",
            "          )\n",
            "          (conv_dw): Conv2d(240, 240, kernel_size=(5, 5), stride=(1, 1), padding=(2, 2), groups=240, bias=False)\n",
            "          (bn2): BatchNormAct2d(\n",
            "            240, eps=1e-05, momentum=0.1, affine=True, track_running_stats=True\n",
            "            (drop): Identity()\n",
            "            (act): SiLU(inplace=True)\n",
            "          )\n",
            "          (se): SqueezeExcite(\n",
            "            (conv_reduce): Conv2d(240, 10, kernel_size=(1, 1), stride=(1, 1))\n",
            "            (act1): SiLU(inplace=True)\n",
            "            (conv_expand): Conv2d(10, 240, kernel_size=(1, 1), stride=(1, 1))\n",
            "            (gate): Sigmoid()\n",
            "          )\n",
            "          (conv_pwl): Conv2d(240, 40, kernel_size=(1, 1), stride=(1, 1), bias=False)\n",
            "          (bn3): BatchNormAct2d(\n",
            "            40, eps=1e-05, momentum=0.1, affine=True, track_running_stats=True\n",
            "            (drop): Identity()\n",
            "            (act): Identity()\n",
            "          )\n",
            "          (drop_path): Identity()\n",
            "        )\n",
            "      )\n",
            "      (3): Sequential(\n",
            "        (0): InvertedResidual(\n",
            "          (conv_pw): Conv2d(40, 240, kernel_size=(1, 1), stride=(1, 1), bias=False)\n",
            "          (bn1): BatchNormAct2d(\n",
            "            240, eps=1e-05, momentum=0.1, affine=True, track_running_stats=True\n",
            "            (drop): Identity()\n",
            "            (act): SiLU(inplace=True)\n",
            "          )\n",
            "          (conv_dw): Conv2d(240, 240, kernel_size=(3, 3), stride=(2, 2), padding=(1, 1), groups=240, bias=False)\n",
            "          (bn2): BatchNormAct2d(\n",
            "            240, eps=1e-05, momentum=0.1, affine=True, track_running_stats=True\n",
            "            (drop): Identity()\n",
            "            (act): SiLU(inplace=True)\n",
            "          )\n",
            "          (se): SqueezeExcite(\n",
            "            (conv_reduce): Conv2d(240, 10, kernel_size=(1, 1), stride=(1, 1))\n",
            "            (act1): SiLU(inplace=True)\n",
            "            (conv_expand): Conv2d(10, 240, kernel_size=(1, 1), stride=(1, 1))\n",
            "            (gate): Sigmoid()\n",
            "          )\n",
            "          (conv_pwl): Conv2d(240, 80, kernel_size=(1, 1), stride=(1, 1), bias=False)\n",
            "          (bn3): BatchNormAct2d(\n",
            "            80, eps=1e-05, momentum=0.1, affine=True, track_running_stats=True\n",
            "            (drop): Identity()\n",
            "            (act): Identity()\n",
            "          )\n",
            "          (drop_path): Identity()\n",
            "        )\n",
            "        (1): InvertedResidual(\n",
            "          (conv_pw): Conv2d(80, 480, kernel_size=(1, 1), stride=(1, 1), bias=False)\n",
            "          (bn1): BatchNormAct2d(\n",
            "            480, eps=1e-05, momentum=0.1, affine=True, track_running_stats=True\n",
            "            (drop): Identity()\n",
            "            (act): SiLU(inplace=True)\n",
            "          )\n",
            "          (conv_dw): Conv2d(480, 480, kernel_size=(3, 3), stride=(1, 1), padding=(1, 1), groups=480, bias=False)\n",
            "          (bn2): BatchNormAct2d(\n",
            "            480, eps=1e-05, momentum=0.1, affine=True, track_running_stats=True\n",
            "            (drop): Identity()\n",
            "            (act): SiLU(inplace=True)\n",
            "          )\n",
            "          (se): SqueezeExcite(\n",
            "            (conv_reduce): Conv2d(480, 20, kernel_size=(1, 1), stride=(1, 1))\n",
            "            (act1): SiLU(inplace=True)\n",
            "            (conv_expand): Conv2d(20, 480, kernel_size=(1, 1), stride=(1, 1))\n",
            "            (gate): Sigmoid()\n",
            "          )\n",
            "          (conv_pwl): Conv2d(480, 80, kernel_size=(1, 1), stride=(1, 1), bias=False)\n",
            "          (bn3): BatchNormAct2d(\n",
            "            80, eps=1e-05, momentum=0.1, affine=True, track_running_stats=True\n",
            "            (drop): Identity()\n",
            "            (act): Identity()\n",
            "          )\n",
            "          (drop_path): Identity()\n",
            "        )\n",
            "        (2): InvertedResidual(\n",
            "          (conv_pw): Conv2d(80, 480, kernel_size=(1, 1), stride=(1, 1), bias=False)\n",
            "          (bn1): BatchNormAct2d(\n",
            "            480, eps=1e-05, momentum=0.1, affine=True, track_running_stats=True\n",
            "            (drop): Identity()\n",
            "            (act): SiLU(inplace=True)\n",
            "          )\n",
            "          (conv_dw): Conv2d(480, 480, kernel_size=(3, 3), stride=(1, 1), padding=(1, 1), groups=480, bias=False)\n",
            "          (bn2): BatchNormAct2d(\n",
            "            480, eps=1e-05, momentum=0.1, affine=True, track_running_stats=True\n",
            "            (drop): Identity()\n",
            "            (act): SiLU(inplace=True)\n",
            "          )\n",
            "          (se): SqueezeExcite(\n",
            "            (conv_reduce): Conv2d(480, 20, kernel_size=(1, 1), stride=(1, 1))\n",
            "            (act1): SiLU(inplace=True)\n",
            "            (conv_expand): Conv2d(20, 480, kernel_size=(1, 1), stride=(1, 1))\n",
            "            (gate): Sigmoid()\n",
            "          )\n",
            "          (conv_pwl): Conv2d(480, 80, kernel_size=(1, 1), stride=(1, 1), bias=False)\n",
            "          (bn3): BatchNormAct2d(\n",
            "            80, eps=1e-05, momentum=0.1, affine=True, track_running_stats=True\n",
            "            (drop): Identity()\n",
            "            (act): Identity()\n",
            "          )\n",
            "          (drop_path): Identity()\n",
            "        )\n",
            "      )\n",
            "      (4): Sequential(\n",
            "        (0): InvertedResidual(\n",
            "          (conv_pw): Conv2d(80, 480, kernel_size=(1, 1), stride=(1, 1), bias=False)\n",
            "          (bn1): BatchNormAct2d(\n",
            "            480, eps=1e-05, momentum=0.1, affine=True, track_running_stats=True\n",
            "            (drop): Identity()\n",
            "            (act): SiLU(inplace=True)\n",
            "          )\n",
            "          (conv_dw): Conv2d(480, 480, kernel_size=(5, 5), stride=(1, 1), padding=(2, 2), groups=480, bias=False)\n",
            "          (bn2): BatchNormAct2d(\n",
            "            480, eps=1e-05, momentum=0.1, affine=True, track_running_stats=True\n",
            "            (drop): Identity()\n",
            "            (act): SiLU(inplace=True)\n",
            "          )\n",
            "          (se): SqueezeExcite(\n",
            "            (conv_reduce): Conv2d(480, 20, kernel_size=(1, 1), stride=(1, 1))\n",
            "            (act1): SiLU(inplace=True)\n",
            "            (conv_expand): Conv2d(20, 480, kernel_size=(1, 1), stride=(1, 1))\n",
            "            (gate): Sigmoid()\n",
            "          )\n",
            "          (conv_pwl): Conv2d(480, 112, kernel_size=(1, 1), stride=(1, 1), bias=False)\n",
            "          (bn3): BatchNormAct2d(\n",
            "            112, eps=1e-05, momentum=0.1, affine=True, track_running_stats=True\n",
            "            (drop): Identity()\n",
            "            (act): Identity()\n",
            "          )\n",
            "          (drop_path): Identity()\n",
            "        )\n",
            "        (1): InvertedResidual(\n",
            "          (conv_pw): Conv2d(112, 672, kernel_size=(1, 1), stride=(1, 1), bias=False)\n",
            "          (bn1): BatchNormAct2d(\n",
            "            672, eps=1e-05, momentum=0.1, affine=True, track_running_stats=True\n",
            "            (drop): Identity()\n",
            "            (act): SiLU(inplace=True)\n",
            "          )\n",
            "          (conv_dw): Conv2d(672, 672, kernel_size=(5, 5), stride=(1, 1), padding=(2, 2), groups=672, bias=False)\n",
            "          (bn2): BatchNormAct2d(\n",
            "            672, eps=1e-05, momentum=0.1, affine=True, track_running_stats=True\n",
            "            (drop): Identity()\n",
            "            (act): SiLU(inplace=True)\n",
            "          )\n",
            "          (se): SqueezeExcite(\n",
            "            (conv_reduce): Conv2d(672, 28, kernel_size=(1, 1), stride=(1, 1))\n",
            "            (act1): SiLU(inplace=True)\n",
            "            (conv_expand): Conv2d(28, 672, kernel_size=(1, 1), stride=(1, 1))\n",
            "            (gate): Sigmoid()\n",
            "          )\n",
            "          (conv_pwl): Conv2d(672, 112, kernel_size=(1, 1), stride=(1, 1), bias=False)\n",
            "          (bn3): BatchNormAct2d(\n",
            "            112, eps=1e-05, momentum=0.1, affine=True, track_running_stats=True\n",
            "            (drop): Identity()\n",
            "            (act): Identity()\n",
            "          )\n",
            "          (drop_path): Identity()\n",
            "        )\n",
            "        (2): InvertedResidual(\n",
            "          (conv_pw): Conv2d(112, 672, kernel_size=(1, 1), stride=(1, 1), bias=False)\n",
            "          (bn1): BatchNormAct2d(\n",
            "            672, eps=1e-05, momentum=0.1, affine=True, track_running_stats=True\n",
            "            (drop): Identity()\n",
            "            (act): SiLU(inplace=True)\n",
            "          )\n",
            "          (conv_dw): Conv2d(672, 672, kernel_size=(5, 5), stride=(1, 1), padding=(2, 2), groups=672, bias=False)\n",
            "          (bn2): BatchNormAct2d(\n",
            "            672, eps=1e-05, momentum=0.1, affine=True, track_running_stats=True\n",
            "            (drop): Identity()\n",
            "            (act): SiLU(inplace=True)\n",
            "          )\n",
            "          (se): SqueezeExcite(\n",
            "            (conv_reduce): Conv2d(672, 28, kernel_size=(1, 1), stride=(1, 1))\n",
            "            (act1): SiLU(inplace=True)\n",
            "            (conv_expand): Conv2d(28, 672, kernel_size=(1, 1), stride=(1, 1))\n",
            "            (gate): Sigmoid()\n",
            "          )\n",
            "          (conv_pwl): Conv2d(672, 112, kernel_size=(1, 1), stride=(1, 1), bias=False)\n",
            "          (bn3): BatchNormAct2d(\n",
            "            112, eps=1e-05, momentum=0.1, affine=True, track_running_stats=True\n",
            "            (drop): Identity()\n",
            "            (act): Identity()\n",
            "          )\n",
            "          (drop_path): Identity()\n",
            "        )\n",
            "      )\n",
            "      (5): Sequential(\n",
            "        (0): InvertedResidual(\n",
            "          (conv_pw): Conv2d(112, 672, kernel_size=(1, 1), stride=(1, 1), bias=False)\n",
            "          (bn1): BatchNormAct2d(\n",
            "            672, eps=1e-05, momentum=0.1, affine=True, track_running_stats=True\n",
            "            (drop): Identity()\n",
            "            (act): SiLU(inplace=True)\n",
            "          )\n",
            "          (conv_dw): Conv2d(672, 672, kernel_size=(5, 5), stride=(2, 2), padding=(2, 2), groups=672, bias=False)\n",
            "          (bn2): BatchNormAct2d(\n",
            "            672, eps=1e-05, momentum=0.1, affine=True, track_running_stats=True\n",
            "            (drop): Identity()\n",
            "            (act): SiLU(inplace=True)\n",
            "          )\n",
            "          (se): SqueezeExcite(\n",
            "            (conv_reduce): Conv2d(672, 28, kernel_size=(1, 1), stride=(1, 1))\n",
            "            (act1): SiLU(inplace=True)\n",
            "            (conv_expand): Conv2d(28, 672, kernel_size=(1, 1), stride=(1, 1))\n",
            "            (gate): Sigmoid()\n",
            "          )\n",
            "          (conv_pwl): Conv2d(672, 192, kernel_size=(1, 1), stride=(1, 1), bias=False)\n",
            "          (bn3): BatchNormAct2d(\n",
            "            192, eps=1e-05, momentum=0.1, affine=True, track_running_stats=True\n",
            "            (drop): Identity()\n",
            "            (act): Identity()\n",
            "          )\n",
            "          (drop_path): Identity()\n",
            "        )\n",
            "        (1): InvertedResidual(\n",
            "          (conv_pw): Conv2d(192, 1152, kernel_size=(1, 1), stride=(1, 1), bias=False)\n",
            "          (bn1): BatchNormAct2d(\n",
            "            1152, eps=1e-05, momentum=0.1, affine=True, track_running_stats=True\n",
            "            (drop): Identity()\n",
            "            (act): SiLU(inplace=True)\n",
            "          )\n",
            "          (conv_dw): Conv2d(1152, 1152, kernel_size=(5, 5), stride=(1, 1), padding=(2, 2), groups=1152, bias=False)\n",
            "          (bn2): BatchNormAct2d(\n",
            "            1152, eps=1e-05, momentum=0.1, affine=True, track_running_stats=True\n",
            "            (drop): Identity()\n",
            "            (act): SiLU(inplace=True)\n",
            "          )\n",
            "          (se): SqueezeExcite(\n",
            "            (conv_reduce): Conv2d(1152, 48, kernel_size=(1, 1), stride=(1, 1))\n",
            "            (act1): SiLU(inplace=True)\n",
            "            (conv_expand): Conv2d(48, 1152, kernel_size=(1, 1), stride=(1, 1))\n",
            "            (gate): Sigmoid()\n",
            "          )\n",
            "          (conv_pwl): Conv2d(1152, 192, kernel_size=(1, 1), stride=(1, 1), bias=False)\n",
            "          (bn3): BatchNormAct2d(\n",
            "            192, eps=1e-05, momentum=0.1, affine=True, track_running_stats=True\n",
            "            (drop): Identity()\n",
            "            (act): Identity()\n",
            "          )\n",
            "          (drop_path): Identity()\n",
            "        )\n",
            "        (2): InvertedResidual(\n",
            "          (conv_pw): Conv2d(192, 1152, kernel_size=(1, 1), stride=(1, 1), bias=False)\n",
            "          (bn1): BatchNormAct2d(\n",
            "            1152, eps=1e-05, momentum=0.1, affine=True, track_running_stats=True\n",
            "            (drop): Identity()\n",
            "            (act): SiLU(inplace=True)\n",
            "          )\n",
            "          (conv_dw): Conv2d(1152, 1152, kernel_size=(5, 5), stride=(1, 1), padding=(2, 2), groups=1152, bias=False)\n",
            "          (bn2): BatchNormAct2d(\n",
            "            1152, eps=1e-05, momentum=0.1, affine=True, track_running_stats=True\n",
            "            (drop): Identity()\n",
            "            (act): SiLU(inplace=True)\n",
            "          )\n",
            "          (se): SqueezeExcite(\n",
            "            (conv_reduce): Conv2d(1152, 48, kernel_size=(1, 1), stride=(1, 1))\n",
            "            (act1): SiLU(inplace=True)\n",
            "            (conv_expand): Conv2d(48, 1152, kernel_size=(1, 1), stride=(1, 1))\n",
            "            (gate): Sigmoid()\n",
            "          )\n",
            "          (conv_pwl): Conv2d(1152, 192, kernel_size=(1, 1), stride=(1, 1), bias=False)\n",
            "          (bn3): BatchNormAct2d(\n",
            "            192, eps=1e-05, momentum=0.1, affine=True, track_running_stats=True\n",
            "            (drop): Identity()\n",
            "            (act): Identity()\n",
            "          )\n",
            "          (drop_path): Identity()\n",
            "        )\n",
            "        (3): InvertedResidual(\n",
            "          (conv_pw): Conv2d(192, 1152, kernel_size=(1, 1), stride=(1, 1), bias=False)\n",
            "          (bn1): BatchNormAct2d(\n",
            "            1152, eps=1e-05, momentum=0.1, affine=True, track_running_stats=True\n",
            "            (drop): Identity()\n",
            "            (act): SiLU(inplace=True)\n",
            "          )\n",
            "          (conv_dw): Conv2d(1152, 1152, kernel_size=(5, 5), stride=(1, 1), padding=(2, 2), groups=1152, bias=False)\n",
            "          (bn2): BatchNormAct2d(\n",
            "            1152, eps=1e-05, momentum=0.1, affine=True, track_running_stats=True\n",
            "            (drop): Identity()\n",
            "            (act): SiLU(inplace=True)\n",
            "          )\n",
            "          (se): SqueezeExcite(\n",
            "            (conv_reduce): Conv2d(1152, 48, kernel_size=(1, 1), stride=(1, 1))\n",
            "            (act1): SiLU(inplace=True)\n",
            "            (conv_expand): Conv2d(48, 1152, kernel_size=(1, 1), stride=(1, 1))\n",
            "            (gate): Sigmoid()\n",
            "          )\n",
            "          (conv_pwl): Conv2d(1152, 192, kernel_size=(1, 1), stride=(1, 1), bias=False)\n",
            "          (bn3): BatchNormAct2d(\n",
            "            192, eps=1e-05, momentum=0.1, affine=True, track_running_stats=True\n",
            "            (drop): Identity()\n",
            "            (act): Identity()\n",
            "          )\n",
            "          (drop_path): Identity()\n",
            "        )\n",
            "      )\n",
            "      (6): Sequential(\n",
            "        (0): InvertedResidual(\n",
            "          (conv_pw): Conv2d(192, 1152, kernel_size=(1, 1), stride=(1, 1), bias=False)\n",
            "          (bn1): BatchNormAct2d(\n",
            "            1152, eps=1e-05, momentum=0.1, affine=True, track_running_stats=True\n",
            "            (drop): Identity()\n",
            "            (act): SiLU(inplace=True)\n",
            "          )\n",
            "          (conv_dw): Conv2d(1152, 1152, kernel_size=(3, 3), stride=(1, 1), padding=(1, 1), groups=1152, bias=False)\n",
            "          (bn2): BatchNormAct2d(\n",
            "            1152, eps=1e-05, momentum=0.1, affine=True, track_running_stats=True\n",
            "            (drop): Identity()\n",
            "            (act): SiLU(inplace=True)\n",
            "          )\n",
            "          (se): SqueezeExcite(\n",
            "            (conv_reduce): Conv2d(1152, 48, kernel_size=(1, 1), stride=(1, 1))\n",
            "            (act1): SiLU(inplace=True)\n",
            "            (conv_expand): Conv2d(48, 1152, kernel_size=(1, 1), stride=(1, 1))\n",
            "            (gate): Sigmoid()\n",
            "          )\n",
            "          (conv_pwl): Conv2d(1152, 320, kernel_size=(1, 1), stride=(1, 1), bias=False)\n",
            "          (bn3): BatchNormAct2d(\n",
            "            320, eps=1e-05, momentum=0.1, affine=True, track_running_stats=True\n",
            "            (drop): Identity()\n",
            "            (act): Identity()\n",
            "          )\n",
            "          (drop_path): Identity()\n",
            "        )\n",
            "      )\n",
            "    )\n",
            "    (conv_head): Conv2d(320, 1280, kernel_size=(1, 1), stride=(1, 1), bias=False)\n",
            "    (bn2): BatchNormAct2d(\n",
            "      1280, eps=1e-05, momentum=0.1, affine=True, track_running_stats=True\n",
            "      (drop): Identity()\n",
            "      (act): SiLU(inplace=True)\n",
            "    )\n",
            "    (global_pool): SelectAdaptivePool2d(pool_type=avg, flatten=Flatten(start_dim=1, end_dim=-1))\n",
            "    (classifier): Linear(in_features=1280, out_features=1, bias=True)\n",
            "  )\n",
            "  (1): Sigmoid()\n",
            ")\n"
          ]
        }
      ]
    },
    {
      "cell_type": "code",
      "source": [
        "images_train, labels_train = remove_false_images(images, labels, droprate)\n",
        "train_dataset = CustomDataset(images_train, labels_train, transform=transform_standard)\n",
        "# train_dataset = CustomDataset(images_train, labels_train, transform=None)\n",
        "train_loader = DataLoader(train_dataset, batch_size=batch_size, shuffle=True, drop_last=True)\n",
        "\n",
        "# valid_dataset = CustomDataset(images_valid, labels_valid, transform=None)\n",
        "valid_dataset = CustomDataset(images_valid, labels_valid, transform=transform_standard)\n",
        "valid_loader = DataLoader(valid_dataset, batch_size=batch_size, shuffle=False, drop_last=False)"
      ],
      "metadata": {
        "id": "OOjWojECehbQ"
      },
      "execution_count": null,
      "outputs": []
    },
    {
      "cell_type": "markdown",
      "source": [
        "## 初始化 for not first run"
      ],
      "metadata": {
        "id": "hIdh88yk2Y9x"
      }
    },
    {
      "cell_type": "code",
      "source": [
        "# model = pretrained_model\n",
        "model = unet_model\n",
        "print(model_name)\n"
      ],
      "metadata": {
        "id": "QSeqP7_zO1FO",
        "colab": {
          "base_uri": "https://localhost:8080/"
        },
        "outputId": "386db4e4-9c0e-4c66-b9a9-1c7b615ad8c8"
      },
      "execution_count": null,
      "outputs": [
        {
          "output_type": "stream",
          "name": "stdout",
          "text": [
            "unet_without_decoder\n"
          ]
        }
      ]
    },
    {
      "cell_type": "code",
      "source": [
        "model = model.to(device)\n",
        "num_epochs = 100\n",
        "lr = 0.01\n",
        "droprate = 0.8\n",
        "criterion = nn.BCELoss()\n",
        "optimizer = optim.Adam(model.parameters(), lr)\n",
        "# optimizer = optim.SGD(model.parameters(), lr=lr, momentum=0.9)\n",
        "model, optimizer, params, filename = load_model(model, optimizer)\n",
        "\n",
        "# # Define the learning rate scheduler\n",
        "# # You'll need to choose appropriate values for T_0 and T_mult\n",
        "# T_0 = 10  # Example value\n",
        "# T_mult = 2  # Example value\n",
        "# lr_scheduler = optim.lr_scheduler.CosineAnnealingWarmRestarts(optimizer, T_0=T_0, T_mult=T_mult)\n",
        "\n",
        "try:\n",
        "  batch_size = params['batch_size']\n",
        "except:\n",
        "  batch_size = int(input(\"batch_size:\"))\n",
        "print(batch_size)\n",
        "start = int(filename.split('_')[-1]) + 1\n",
        "\n",
        "print(model_name)"
      ],
      "metadata": {
        "id": "PQkT5JF-2JYA",
        "colab": {
          "base_uri": "https://localhost:8080/"
        },
        "outputId": "addd58a8-23ee-4e7a-9daf-3ca37453ebb1"
      },
      "execution_count": null,
      "outputs": [
        {
          "output_type": "stream",
          "name": "stdout",
          "text": [
            "請輸入模型參數檔案名稱:unet_without_decoder_20\n",
            "請輸入儲存模型的母資料夾名稱:unet_0.8_onlytrain\n",
            "<All keys matched successfully>\n",
            "batch_size:128\n",
            "128\n",
            "unet_without_decoder\n"
          ]
        }
      ]
    },
    {
      "cell_type": "code",
      "source": [
        "print(model_name)"
      ],
      "metadata": {
        "id": "s4ZhWiyQGIWn"
      },
      "execution_count": null,
      "outputs": []
    },
    {
      "cell_type": "code",
      "source": [
        "images_train, labels_train = remove_false_images(images, labels, droprate)\n",
        "\n",
        "train_dataset = CustomDataset(images_train, labels_train, transform=transform_standard)\n",
        "train_loader = DataLoader(train_dataset, batch_size=batch_size, shuffle=True, drop_last=True)\n",
        "\n",
        "valid_dataset = CustomDataset(images_valid, labels_valid, transform=transform_standard)\n",
        "valid_loader = DataLoader(valid_dataset, batch_size=batch_size, shuffle=False, drop_last=False)"
      ],
      "metadata": {
        "id": "Y01JgzmTeqSP"
      },
      "execution_count": null,
      "outputs": []
    },
    {
      "cell_type": "markdown",
      "source": [
        "## 訓練"
      ],
      "metadata": {
        "id": "Y6ycO0JKab3I"
      }
    },
    {
      "cell_type": "code",
      "source": [
        "modeldirname = input(\"dirname: \")\n",
        "\n",
        "\n",
        "running_loss_list = []\n",
        "testing_loss_list = []\n",
        "running_accu_list = []\n",
        "testing_accu_list = []\n",
        "\n",
        "\n",
        "\n",
        "tabnames = [f\"{epoch*10}~{epoch*10+9}\" for epoch in range(num_epochs//10)]\n",
        "tab = create_tab(tabnames)\n",
        "\n",
        "for epoch in range(start, num_epochs):\n",
        "\n",
        "    epoch_loss, epoch_accuracy, predict_list_train, labels_train_display = train(train_loader, model, optimizer, criterion, 0.5, device)\n",
        "    valid_loss, valid_accuracy, predict_list_valid, labels_valid_display = valid(valid_loader, model, criterion, 0.5, device)\n",
        "    # lr_scheduler.step()  # learning rate 調整\n",
        "\n",
        "    running_loss_list.append(epoch_loss)\n",
        "    testing_loss_list.append(valid_loss)\n",
        "    running_accu_list.append(epoch_accuracy)\n",
        "    testing_accu_list.append(valid_accuracy)\n",
        "\n",
        "\n",
        "    with tab.output_to(epoch//10):\n",
        "      display_train((epoch_loss, epoch_accuracy, valid_loss, valid_accuracy),\n",
        "                    (predict_list_valid, labels_valid_display),\n",
        "                    (predict_list_train, labels_train_display))\n",
        "\n",
        "    images_train, labels_train = remove_false_images(images, labels, droprate)\n",
        "    train_dataset = CustomDataset(images_train, labels_train,transform=transform_standard)\n",
        "    # train_dataset = CustomDataset(images_train, labels_train,transform=None)\n",
        "    train_loader = DataLoader(train_dataset, batch_size=batch_size, shuffle=True, drop_last=True)\n",
        "\n",
        "    if epoch % 1 == 0:\n",
        "      savepath = save_model(model, f'{model_name}_{epoch}', dirname=modeldirname)\n",
        "\n",
        "savepath = save_model(model, f'{model_name}_{num_epochs}', dirname=modeldirname)\n"
      ],
      "metadata": {
        "id": "VYZi4cO75LJZ",
        "colab": {
          "base_uri": "https://localhost:8080/",
          "height": 1000,
          "resources": {
            "http://localhost:8080/nbextensions/google.colab/tabbar.css": {
              "data": "Lmdvb2ctdGFie3Bvc2l0aW9uOnJlbGF0aXZlO3BhZGRpbmc6NHB4IDhweDtjb2xvcjojMDBjO3RleHQtZGVjb3JhdGlvbjp1bmRlcmxpbmU7Y3Vyc29yOmRlZmF1bHR9Lmdvb2ctdGFiLWJhci10b3AgLmdvb2ctdGFie21hcmdpbjoxcHggNHB4IDAgMDtib3JkZXItYm90dG9tOjA7ZmxvYXQ6bGVmdH0uZ29vZy10YWItYmFyLXRvcDphZnRlciwuZ29vZy10YWItYmFyLWJvdHRvbTphZnRlcntjb250ZW50OiIgIjtkaXNwbGF5OmJsb2NrO2hlaWdodDowO2NsZWFyOmJvdGg7dmlzaWJpbGl0eTpoaWRkZW59Lmdvb2ctdGFiLWJhci1ib3R0b20gLmdvb2ctdGFie21hcmdpbjowIDRweCAxcHggMDtib3JkZXItdG9wOjA7ZmxvYXQ6bGVmdH0uZ29vZy10YWItYmFyLXN0YXJ0IC5nb29nLXRhYnttYXJnaW46MCAwIDRweCAxcHg7Ym9yZGVyLXJpZ2h0OjB9Lmdvb2ctdGFiLWJhci1lbmQgLmdvb2ctdGFie21hcmdpbjowIDFweCA0cHggMDtib3JkZXItbGVmdDowfS5nb29nLXRhYi1ob3ZlcntiYWNrZ3JvdW5kOiNlZWV9Lmdvb2ctdGFiLWRpc2FibGVke2NvbG9yOiM2NjZ9Lmdvb2ctdGFiLXNlbGVjdGVke2NvbG9yOiMwMDA7YmFja2dyb3VuZDojZmZmO3RleHQtZGVjb3JhdGlvbjpub25lO2ZvbnQtd2VpZ2h0OmJvbGQ7Ym9yZGVyOjFweCBzb2xpZCAjNmI5MGRhfS5nb29nLXRhYi1iYXItdG9we3BhZGRpbmctdG9wOjVweCFpbXBvcnRhbnQ7cGFkZGluZy1sZWZ0OjVweCFpbXBvcnRhbnQ7Ym9yZGVyLWJvdHRvbToxcHggc29saWQgIzZiOTBkYSFpbXBvcnRhbnR9Lmdvb2ctdGFiLWJhci10b3AgLmdvb2ctdGFiLXNlbGVjdGVke3RvcDoxcHg7bWFyZ2luLXRvcDowO3BhZGRpbmctYm90dG9tOjVweH0uZ29vZy10YWItYmFyLWJvdHRvbSAuZ29vZy10YWItc2VsZWN0ZWR7dG9wOi0xcHg7bWFyZ2luLWJvdHRvbTowO3BhZGRpbmctdG9wOjVweH0uZ29vZy10YWItYmFyLXN0YXJ0IC5nb29nLXRhYi1zZWxlY3RlZHtsZWZ0OjFweDttYXJnaW4tbGVmdDowO3BhZGRpbmctcmlnaHQ6OXB4fS5nb29nLXRhYi1iYXItZW5kIC5nb29nLXRhYi1zZWxlY3RlZHtsZWZ0Oi0xcHg7bWFyZ2luLXJpZ2h0OjA7cGFkZGluZy1sZWZ0OjlweH0uZ29vZy10YWItYmFye21hcmdpbjowO2JvcmRlcjowO3BhZGRpbmc6MDtsaXN0LXN0eWxlOm5vbmU7Y3Vyc29yOmRlZmF1bHQ7b3V0bGluZTpub25lO2JhY2tncm91bmQ6I2ViZWZmOX0uZ29vZy10YWItYmFyLWNsZWFye2NsZWFyOmJvdGg7aGVpZ2h0OjA7b3ZlcmZsb3c6aGlkZGVufS5nb29nLXRhYi1iYXItc3RhcnR7ZmxvYXQ6bGVmdH0uZ29vZy10YWItYmFyLWVuZHtmbG9hdDpyaWdodH0qIGh0bWwgLmdvb2ctdGFiLWJhci1zdGFydHttYXJnaW4tcmlnaHQ6LTNweH0qIGh0bWwgLmdvb2ctdGFiLWJhci1lbmR7bWFyZ2luLWxlZnQ6LTNweH0=",
              "ok": true,
              "headers": [
                [
                  "content-type",
                  "text/css"
                ]
              ],
              "status": 200,
              "status_text": ""
            },
            "http://localhost:8080/nbextensions/google.colab/tabbar_main.min.js": {
              "data": "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",
              "ok": true,
              "headers": [
                [
                  "content-type",
                  "application/javascript"
                ]
              ],
              "status": 200,
              "status_text": ""
            }
          }
        },
        "outputId": "c9a4a7c9-31d0-4232-edcf-f84ed5cb4a4a"
      },
      "execution_count": null,
      "outputs": [
        {
          "name": "stdout",
          "output_type": "stream",
          "text": [
            "dirname: effi_b0_testintrain\n"
          ]
        },
        {
          "output_type": "display_data",
          "data": {
            "text/plain": [
              "<IPython.core.display.HTML object>"
            ],
            "text/html": [
              "<link rel=stylesheet type=text/css href='/nbextensions/google.colab/tabbar.css'></link>"
            ]
          },
          "metadata": {}
        },
        {
          "output_type": "display_data",
          "data": {
            "text/plain": [
              "<IPython.core.display.HTML object>"
            ],
            "text/html": [
              "<script src='/nbextensions/google.colab/tabbar_main.min.js'></script>"
            ]
          },
          "metadata": {}
        },
        {
          "output_type": "display_data",
          "data": {
            "text/plain": [
              "<IPython.core.display.HTML object>"
            ],
            "text/html": [
              "<div id=\"id6\"></div>"
            ]
          },
          "metadata": {}
        },
        {
          "output_type": "display_data",
          "data": {
            "text/plain": [
              "<IPython.core.display.Javascript object>"
            ],
            "application/javascript": [
              "window[\"ae3e4b7a-bac0-11ee-a17a-0242ac1c000c\"] = colab_lib.createTabBar({\"location\": \"top\", \"elementId\": \"id6\", \"tabNames\": [\"0~9\", \"10~19\", \"20~29\", \"30~39\", \"40~49\", \"50~59\", \"60~69\", \"70~79\", \"80~89\", \"90~99\", \"100~109\", \"110~119\", \"120~129\", \"130~139\", \"140~149\", \"150~159\", \"160~169\", \"170~179\", \"180~189\", \"190~199\"], \"initialSelection\": 0, \"contentBorder\": [\"0px\"], \"contentHeight\": [\"initial\"], \"borderColor\": [\"#a7a7a7\"]});\n",
              "//# sourceURL=js_06223ddb7e"
            ]
          },
          "metadata": {}
        },
        {
          "output_type": "display_data",
          "data": {
            "text/plain": [
              "<IPython.core.display.Javascript object>"
            ],
            "application/javascript": [
              "window[\"ae3e7fc8-bac0-11ee-a17a-0242ac1c000c\"] = window[\"id6\"].setSelectedTabIndex(0);\n",
              "//# sourceURL=js_4f4b1a2d2e"
            ]
          },
          "metadata": {}
        },
        {
          "output_type": "display_data",
          "data": {
            "text/plain": [
              "<IPython.core.display.Javascript object>"
            ],
            "application/javascript": [
              "window[\"bebb7ce8-bac0-11ee-a17a-0242ac1c000c\"] = google.colab.output.getActiveOutputArea();\n",
              "//# sourceURL=js_da8fc7d6ce"
            ]
          },
          "metadata": {}
        },
        {
          "output_type": "display_data",
          "data": {
            "text/plain": [
              "<IPython.core.display.Javascript object>"
            ],
            "application/javascript": [
              "window[\"bebbbd7a-bac0-11ee-a17a-0242ac1c000c\"] = document.querySelector(\"#id6_content_0\");\n",
              "//# sourceURL=js_f91c042979"
            ]
          },
          "metadata": {}
        },
        {
          "output_type": "display_data",
          "data": {
            "text/plain": [
              "<IPython.core.display.Javascript object>"
            ],
            "application/javascript": [
              "window[\"bebbf718-bac0-11ee-a17a-0242ac1c000c\"] = google.colab.output.setActiveOutputArea(window[\"bebbbd7a-bac0-11ee-a17a-0242ac1c000c\"]);\n",
              "//# sourceURL=js_f4abdeab95"
            ]
          },
          "metadata": {}
        },
        {
          "output_type": "display_data",
          "data": {
            "text/plain": [
              "<IPython.core.display.Javascript object>"
            ],
            "application/javascript": [
              "window[\"bebc2e2c-bac0-11ee-a17a-0242ac1c000c\"] = window[\"id6\"].setSelectedTabIndex(0);\n",
              "//# sourceURL=js_ef193c0a80"
            ]
          },
          "metadata": {}
        },
        {
          "output_type": "stream",
          "name": "stdout",
          "text": [
            "------------------------------------------------------\n",
            "Epoch  train_loss  train_accu   valid_loss  valid_accu\n",
            "    0: 0.27315432  87.56565126%  0.28531495  87.18333333%\n",
            "(valid)recall      precision    F1\n",
            "       0.49394939  0.29404060   0.36863711\n",
            "       TP_v=449  FP_v=1078  FN_v=460  TN_v=10013\n",
            "(train)recall      precision    F1\n",
            "       0.79294443  0.77542277   0.78408573\n",
            "       TP_t=3439  FP_t=996  FN_t=898  TN_t=9899\n",
            "------------------------------------------------------\n"
          ]
        },
        {
          "output_type": "display_data",
          "data": {
            "text/plain": [
              "<IPython.core.display.Javascript object>"
            ],
            "application/javascript": [
              "window[\"bebd879a-bac0-11ee-a17a-0242ac1c000c\"] = google.colab.output.setActiveOutputArea(window[\"bebb7ce8-bac0-11ee-a17a-0242ac1c000c\"]);\n",
              "//# sourceURL=js_b6aed92f3a"
            ]
          },
          "metadata": {}
        },
        {
          "output_type": "stream",
          "name": "stdout",
          "text": [
            "model will be saved as /content/drive/.shortcut-targets-by-id/1sDWsPGsIDappaJPbkJswWmLhx1q6LRdv/AOCR2024/params/effi_b0_testintrain/efficientnet_b0_0\n",
            "/content/drive/.shortcut-targets-by-id/1sDWsPGsIDappaJPbkJswWmLhx1q6LRdv/AOCR2024/params/effi_b0_testintrain/efficientnet_b0_0.pth exist.\n"
          ]
        },
        {
          "output_type": "display_data",
          "data": {
            "text/plain": [
              "<IPython.core.display.Javascript object>"
            ],
            "application/javascript": [
              "window[\"cfa783c6-bac0-11ee-a17a-0242ac1c000c\"] = google.colab.output.getActiveOutputArea();\n",
              "//# sourceURL=js_76f1d7a161"
            ]
          },
          "metadata": {}
        },
        {
          "output_type": "display_data",
          "data": {
            "text/plain": [
              "<IPython.core.display.Javascript object>"
            ],
            "application/javascript": [
              "window[\"cfa7dbbe-bac0-11ee-a17a-0242ac1c000c\"] = document.querySelector(\"#id6_content_0\");\n",
              "//# sourceURL=js_0c2e64751a"
            ]
          },
          "metadata": {}
        },
        {
          "output_type": "display_data",
          "data": {
            "text/plain": [
              "<IPython.core.display.Javascript object>"
            ],
            "application/javascript": [
              "window[\"cfa81af2-bac0-11ee-a17a-0242ac1c000c\"] = google.colab.output.setActiveOutputArea(window[\"cfa7dbbe-bac0-11ee-a17a-0242ac1c000c\"]);\n",
              "//# sourceURL=js_3658d35ff3"
            ]
          },
          "metadata": {}
        },
        {
          "output_type": "display_data",
          "data": {
            "text/plain": [
              "<IPython.core.display.Javascript object>"
            ],
            "application/javascript": [
              "window[\"cfa862b4-bac0-11ee-a17a-0242ac1c000c\"] = window[\"id6\"].setSelectedTabIndex(0);\n",
              "//# sourceURL=js_79050585d7"
            ]
          },
          "metadata": {}
        },
        {
          "output_type": "stream",
          "name": "stdout",
          "text": [
            "------------------------------------------------------\n",
            "Epoch  train_loss  train_accu   valid_loss  valid_accu\n",
            "    1: 0.25015110  89.02967437%  0.26863049  87.43333333%\n",
            "(valid)recall      precision    F1\n",
            "       0.56435644  0.31569231   0.40489345\n",
            "       TP_v=513  FP_v=1112  FN_v=396  TN_v=9979\n",
            "(train)recall      precision    F1\n",
            "       0.82663897  0.79560098   0.81082305\n",
            "       TP_t=3581  FP_t=920  FN_t=751  TN_t=9980\n",
            "------------------------------------------------------\n"
          ]
        },
        {
          "output_type": "display_data",
          "data": {
            "text/plain": [
              "<IPython.core.display.Javascript object>"
            ],
            "application/javascript": [
              "window[\"cfa9ed28-bac0-11ee-a17a-0242ac1c000c\"] = google.colab.output.setActiveOutputArea(window[\"cfa783c6-bac0-11ee-a17a-0242ac1c000c\"]);\n",
              "//# sourceURL=js_4f713f4e2d"
            ]
          },
          "metadata": {}
        },
        {
          "output_type": "stream",
          "name": "stdout",
          "text": [
            "model will be saved as /content/drive/.shortcut-targets-by-id/1sDWsPGsIDappaJPbkJswWmLhx1q6LRdv/AOCR2024/params/effi_b0_testintrain/efficientnet_b0_1\n"
          ]
        },
        {
          "output_type": "display_data",
          "data": {
            "text/plain": [
              "<IPython.core.display.Javascript object>"
            ],
            "application/javascript": [
              "window[\"e0cdbcd8-bac0-11ee-a17a-0242ac1c000c\"] = google.colab.output.getActiveOutputArea();\n",
              "//# sourceURL=js_929cbbaeb2"
            ]
          },
          "metadata": {}
        },
        {
          "output_type": "display_data",
          "data": {
            "text/plain": [
              "<IPython.core.display.Javascript object>"
            ],
            "application/javascript": [
              "window[\"e0ce05da-bac0-11ee-a17a-0242ac1c000c\"] = document.querySelector(\"#id6_content_0\");\n",
              "//# sourceURL=js_19aca88caf"
            ]
          },
          "metadata": {}
        },
        {
          "output_type": "display_data",
          "data": {
            "text/plain": [
              "<IPython.core.display.Javascript object>"
            ],
            "application/javascript": [
              "window[\"e0ce45cc-bac0-11ee-a17a-0242ac1c000c\"] = google.colab.output.setActiveOutputArea(window[\"e0ce05da-bac0-11ee-a17a-0242ac1c000c\"]);\n",
              "//# sourceURL=js_201758e329"
            ]
          },
          "metadata": {}
        },
        {
          "output_type": "display_data",
          "data": {
            "text/plain": [
              "<IPython.core.display.Javascript object>"
            ],
            "application/javascript": [
              "window[\"e0ce8000-bac0-11ee-a17a-0242ac1c000c\"] = window[\"id6\"].setSelectedTabIndex(0);\n",
              "//# sourceURL=js_f623b6be50"
            ]
          },
          "metadata": {}
        },
        {
          "output_type": "stream",
          "name": "stdout",
          "text": [
            "------------------------------------------------------\n",
            "Epoch  train_loss  train_accu   valid_loss  valid_accu\n",
            "    2: 0.22628242  90.00131303%  0.28839112  87.11666667%\n",
            "(valid)recall      precision    F1\n",
            "       0.76017602  0.34224864   0.47199454\n",
            "       TP_v=691  FP_v=1328  FN_v=218  TN_v=9763\n",
            "(train)recall      precision    F1\n",
            "       0.85005767  0.80846863   0.82874171\n",
            "       TP_t=3685  FP_t=873  FN_t=650  TN_t=10024\n",
            "------------------------------------------------------\n"
          ]
        },
        {
          "output_type": "display_data",
          "data": {
            "text/plain": [
              "<IPython.core.display.Javascript object>"
            ],
            "application/javascript": [
              "window[\"e0cffd86-bac0-11ee-a17a-0242ac1c000c\"] = google.colab.output.setActiveOutputArea(window[\"e0cdbcd8-bac0-11ee-a17a-0242ac1c000c\"]);\n",
              "//# sourceURL=js_db99551aa6"
            ]
          },
          "metadata": {}
        },
        {
          "output_type": "stream",
          "name": "stdout",
          "text": [
            "model will be saved as /content/drive/.shortcut-targets-by-id/1sDWsPGsIDappaJPbkJswWmLhx1q6LRdv/AOCR2024/params/effi_b0_testintrain/efficientnet_b0_2\n"
          ]
        },
        {
          "output_type": "display_data",
          "data": {
            "text/plain": [
              "<IPython.core.display.Javascript object>"
            ],
            "application/javascript": [
              "window[\"f32b930a-bac0-11ee-a17a-0242ac1c000c\"] = google.colab.output.getActiveOutputArea();\n",
              "//# sourceURL=js_1029855523"
            ]
          },
          "metadata": {}
        },
        {
          "output_type": "display_data",
          "data": {
            "text/plain": [
              "<IPython.core.display.Javascript object>"
            ],
            "application/javascript": [
              "window[\"f32bd536-bac0-11ee-a17a-0242ac1c000c\"] = document.querySelector(\"#id6_content_0\");\n",
              "//# sourceURL=js_2dc9bea687"
            ]
          },
          "metadata": {}
        },
        {
          "output_type": "display_data",
          "data": {
            "text/plain": [
              "<IPython.core.display.Javascript object>"
            ],
            "application/javascript": [
              "window[\"f32c0c0e-bac0-11ee-a17a-0242ac1c000c\"] = google.colab.output.setActiveOutputArea(window[\"f32bd536-bac0-11ee-a17a-0242ac1c000c\"]);\n",
              "//# sourceURL=js_5e4fc328c3"
            ]
          },
          "metadata": {}
        },
        {
          "output_type": "display_data",
          "data": {
            "text/plain": [
              "<IPython.core.display.Javascript object>"
            ],
            "application/javascript": [
              "window[\"f32c4160-bac0-11ee-a17a-0242ac1c000c\"] = window[\"id6\"].setSelectedTabIndex(0);\n",
              "//# sourceURL=js_39f0758490"
            ]
          },
          "metadata": {}
        },
        {
          "output_type": "stream",
          "name": "stdout",
          "text": [
            "------------------------------------------------------\n",
            "Epoch  train_loss  train_accu   valid_loss  valid_accu\n",
            "    3: 0.21068732  90.75630252%  0.18501097  92.60000000%\n",
            "(valid)recall      precision    F1\n",
            "       0.57095710  0.51032448   0.53894081\n",
            "       TP_v=519  FP_v=498  FN_v=390  TN_v=10593\n",
            "(train)recall      precision    F1\n",
            "       0.86267281  0.82177349   0.84172662\n",
            "       TP_t=3744  FP_t=812  FN_t=596  TN_t=10080\n",
            "------------------------------------------------------\n"
          ]
        },
        {
          "output_type": "display_data",
          "data": {
            "text/plain": [
              "<IPython.core.display.Javascript object>"
            ],
            "application/javascript": [
              "window[\"f32d9a42-bac0-11ee-a17a-0242ac1c000c\"] = google.colab.output.setActiveOutputArea(window[\"f32b930a-bac0-11ee-a17a-0242ac1c000c\"]);\n",
              "//# sourceURL=js_1d7d6edb29"
            ]
          },
          "metadata": {}
        },
        {
          "output_type": "stream",
          "name": "stdout",
          "text": [
            "model will be saved as /content/drive/.shortcut-targets-by-id/1sDWsPGsIDappaJPbkJswWmLhx1q6LRdv/AOCR2024/params/effi_b0_testintrain/efficientnet_b0_3\n"
          ]
        },
        {
          "output_type": "display_data",
          "data": {
            "text/plain": [
              "<IPython.core.display.Javascript object>"
            ],
            "application/javascript": [
              "window[\"050dd10a-bac1-11ee-a17a-0242ac1c000c\"] = google.colab.output.getActiveOutputArea();\n",
              "//# sourceURL=js_6ebe74ffc2"
            ]
          },
          "metadata": {}
        },
        {
          "output_type": "display_data",
          "data": {
            "text/plain": [
              "<IPython.core.display.Javascript object>"
            ],
            "application/javascript": [
              "window[\"050e2772-bac1-11ee-a17a-0242ac1c000c\"] = document.querySelector(\"#id6_content_0\");\n",
              "//# sourceURL=js_f04c394058"
            ]
          },
          "metadata": {}
        },
        {
          "output_type": "display_data",
          "data": {
            "text/plain": [
              "<IPython.core.display.Javascript object>"
            ],
            "application/javascript": [
              "window[\"050e6958-bac1-11ee-a17a-0242ac1c000c\"] = google.colab.output.setActiveOutputArea(window[\"050e2772-bac1-11ee-a17a-0242ac1c000c\"]);\n",
              "//# sourceURL=js_aa53ea3050"
            ]
          },
          "metadata": {}
        },
        {
          "output_type": "display_data",
          "data": {
            "text/plain": [
              "<IPython.core.display.Javascript object>"
            ],
            "application/javascript": [
              "window[\"050ea968-bac1-11ee-a17a-0242ac1c000c\"] = window[\"id6\"].setSelectedTabIndex(0);\n",
              "//# sourceURL=js_5173deb0bf"
            ]
          },
          "metadata": {}
        },
        {
          "output_type": "stream",
          "name": "stdout",
          "text": [
            "------------------------------------------------------\n",
            "Epoch  train_loss  train_accu   valid_loss  valid_accu\n",
            "    4: 0.19384256  91.68198529%  0.20497165  93.05000000%\n",
            "(valid)recall      precision    F1\n",
            "       0.30473047  0.57828810   0.39913545\n",
            "       TP_v=277  FP_v=202  FN_v=632  TN_v=10889\n",
            "(train)recall      precision    F1\n",
            "       0.87750865  0.83788546   0.85723944\n",
            "       TP_t=3804  FP_t=736  FN_t=531  TN_t=10161\n",
            "------------------------------------------------------\n"
          ]
        },
        {
          "output_type": "display_data",
          "data": {
            "text/plain": [
              "<IPython.core.display.Javascript object>"
            ],
            "application/javascript": [
              "window[\"05102338-bac1-11ee-a17a-0242ac1c000c\"] = google.colab.output.setActiveOutputArea(window[\"050dd10a-bac1-11ee-a17a-0242ac1c000c\"]);\n",
              "//# sourceURL=js_1ee167cbf3"
            ]
          },
          "metadata": {}
        },
        {
          "output_type": "stream",
          "name": "stdout",
          "text": [
            "model will be saved as /content/drive/.shortcut-targets-by-id/1sDWsPGsIDappaJPbkJswWmLhx1q6LRdv/AOCR2024/params/effi_b0_testintrain/efficientnet_b0_4\n"
          ]
        },
        {
          "output_type": "display_data",
          "data": {
            "text/plain": [
              "<IPython.core.display.Javascript object>"
            ],
            "application/javascript": [
              "window[\"16d0a6f6-bac1-11ee-a17a-0242ac1c000c\"] = google.colab.output.getActiveOutputArea();\n",
              "//# sourceURL=js_50acad152e"
            ]
          },
          "metadata": {}
        },
        {
          "output_type": "display_data",
          "data": {
            "text/plain": [
              "<IPython.core.display.Javascript object>"
            ],
            "application/javascript": [
              "window[\"16d0f610-bac1-11ee-a17a-0242ac1c000c\"] = document.querySelector(\"#id6_content_0\");\n",
              "//# sourceURL=js_26f65bc81a"
            ]
          },
          "metadata": {}
        },
        {
          "output_type": "display_data",
          "data": {
            "text/plain": [
              "<IPython.core.display.Javascript object>"
            ],
            "application/javascript": [
              "window[\"16d143ae-bac1-11ee-a17a-0242ac1c000c\"] = google.colab.output.setActiveOutputArea(window[\"16d0f610-bac1-11ee-a17a-0242ac1c000c\"]);\n",
              "//# sourceURL=js_c74fc7a406"
            ]
          },
          "metadata": {}
        },
        {
          "output_type": "display_data",
          "data": {
            "text/plain": [
              "<IPython.core.display.Javascript object>"
            ],
            "application/javascript": [
              "window[\"16d194c6-bac1-11ee-a17a-0242ac1c000c\"] = window[\"id6\"].setSelectedTabIndex(0);\n",
              "//# sourceURL=js_a036673f79"
            ]
          },
          "metadata": {}
        },
        {
          "output_type": "stream",
          "name": "stdout",
          "text": [
            "------------------------------------------------------\n",
            "Epoch  train_loss  train_accu   valid_loss  valid_accu\n",
            "    5: 0.17641011  92.46980042%  0.27871837  92.61666667%\n",
            "(valid)recall      precision    F1\n",
            "       0.29152915  0.52268245   0.37429379\n",
            "       TP_v=265  FP_v=242  FN_v=644  TN_v=10849\n",
            "(train)recall      precision    F1\n",
            "       0.88714517  0.85384274   0.87017544\n",
            "       TP_t=3844  FP_t=658  FN_t=489  TN_t=10241\n",
            "------------------------------------------------------\n"
          ]
        },
        {
          "output_type": "display_data",
          "data": {
            "text/plain": [
              "<IPython.core.display.Javascript object>"
            ],
            "application/javascript": [
              "window[\"16d33ec0-bac1-11ee-a17a-0242ac1c000c\"] = google.colab.output.setActiveOutputArea(window[\"16d0a6f6-bac1-11ee-a17a-0242ac1c000c\"]);\n",
              "//# sourceURL=js_f9c41d8eb5"
            ]
          },
          "metadata": {}
        },
        {
          "output_type": "stream",
          "name": "stdout",
          "text": [
            "model will be saved as /content/drive/.shortcut-targets-by-id/1sDWsPGsIDappaJPbkJswWmLhx1q6LRdv/AOCR2024/params/effi_b0_testintrain/efficientnet_b0_5\n"
          ]
        },
        {
          "output_type": "display_data",
          "data": {
            "text/plain": [
              "<IPython.core.display.Javascript object>"
            ],
            "application/javascript": [
              "window[\"27b3ed3e-bac1-11ee-a17a-0242ac1c000c\"] = google.colab.output.getActiveOutputArea();\n",
              "//# sourceURL=js_5d7ab8d1dc"
            ]
          },
          "metadata": {}
        },
        {
          "output_type": "display_data",
          "data": {
            "text/plain": [
              "<IPython.core.display.Javascript object>"
            ],
            "application/javascript": [
              "window[\"27b4326c-bac1-11ee-a17a-0242ac1c000c\"] = document.querySelector(\"#id6_content_0\");\n",
              "//# sourceURL=js_cd766495ae"
            ]
          },
          "metadata": {}
        },
        {
          "output_type": "display_data",
          "data": {
            "text/plain": [
              "<IPython.core.display.Javascript object>"
            ],
            "application/javascript": [
              "window[\"27b47402-bac1-11ee-a17a-0242ac1c000c\"] = google.colab.output.setActiveOutputArea(window[\"27b4326c-bac1-11ee-a17a-0242ac1c000c\"]);\n",
              "//# sourceURL=js_a19f4bc19e"
            ]
          },
          "metadata": {}
        },
        {
          "output_type": "display_data",
          "data": {
            "text/plain": [
              "<IPython.core.display.Javascript object>"
            ],
            "application/javascript": [
              "window[\"27b4bf7a-bac1-11ee-a17a-0242ac1c000c\"] = window[\"id6\"].setSelectedTabIndex(0);\n",
              "//# sourceURL=js_c05f1b9419"
            ]
          },
          "metadata": {}
        },
        {
          "output_type": "stream",
          "name": "stdout",
          "text": [
            "------------------------------------------------------\n",
            "Epoch  train_loss  train_accu   valid_loss  valid_accu\n",
            "    6: 0.16120101  93.38891807%  0.22305340  92.80000000%\n",
            "(valid)recall      precision    F1\n",
            "       0.31353135  0.54285714   0.39748954\n",
            "       TP_v=285  FP_v=240  FN_v=624  TN_v=10851\n",
            "(train)recall      precision    F1\n",
            "       0.90500346  0.86836283   0.88630462\n",
            "       TP_t=3925  FP_t=595  FN_t=412  TN_t=10300\n",
            "------------------------------------------------------\n"
          ]
        },
        {
          "output_type": "display_data",
          "data": {
            "text/plain": [
              "<IPython.core.display.Javascript object>"
            ],
            "application/javascript": [
              "window[\"27b6a394-bac1-11ee-a17a-0242ac1c000c\"] = google.colab.output.setActiveOutputArea(window[\"27b3ed3e-bac1-11ee-a17a-0242ac1c000c\"]);\n",
              "//# sourceURL=js_cda89aed7f"
            ]
          },
          "metadata": {}
        },
        {
          "output_type": "stream",
          "name": "stdout",
          "text": [
            "model will be saved as /content/drive/.shortcut-targets-by-id/1sDWsPGsIDappaJPbkJswWmLhx1q6LRdv/AOCR2024/params/effi_b0_testintrain/efficientnet_b0_6\n"
          ]
        },
        {
          "output_type": "display_data",
          "data": {
            "text/plain": [
              "<IPython.core.display.Javascript object>"
            ],
            "application/javascript": [
              "window[\"38d0ccea-bac1-11ee-a17a-0242ac1c000c\"] = google.colab.output.getActiveOutputArea();\n",
              "//# sourceURL=js_e25897cd1f"
            ]
          },
          "metadata": {}
        },
        {
          "output_type": "display_data",
          "data": {
            "text/plain": [
              "<IPython.core.display.Javascript object>"
            ],
            "application/javascript": [
              "window[\"38d11556-bac1-11ee-a17a-0242ac1c000c\"] = document.querySelector(\"#id6_content_0\");\n",
              "//# sourceURL=js_b78ce31d4c"
            ]
          },
          "metadata": {}
        },
        {
          "output_type": "display_data",
          "data": {
            "text/plain": [
              "<IPython.core.display.Javascript object>"
            ],
            "application/javascript": [
              "window[\"38d14f1c-bac1-11ee-a17a-0242ac1c000c\"] = google.colab.output.setActiveOutputArea(window[\"38d11556-bac1-11ee-a17a-0242ac1c000c\"]);\n",
              "//# sourceURL=js_9de76acaf0"
            ]
          },
          "metadata": {}
        },
        {
          "output_type": "display_data",
          "data": {
            "text/plain": [
              "<IPython.core.display.Javascript object>"
            ],
            "application/javascript": [
              "window[\"38d18446-bac1-11ee-a17a-0242ac1c000c\"] = window[\"id6\"].setSelectedTabIndex(0);\n",
              "//# sourceURL=js_22956d9aaf"
            ]
          },
          "metadata": {}
        },
        {
          "output_type": "stream",
          "name": "stdout",
          "text": [
            "------------------------------------------------------\n",
            "Epoch  train_loss  train_accu   valid_loss  valid_accu\n",
            "    7: 0.15164045  93.63182773%  0.22685185  92.75000000%\n",
            "(valid)recall      precision    F1\n",
            "       0.45214521  0.52490421   0.48581560\n",
            "       TP_v=411  FP_v=372  FN_v=498  TN_v=10719\n",
            "(train)recall      precision    F1\n",
            "       0.90961494  0.87220871   0.89051919\n",
            "       TP_t=3945  FP_t=578  FN_t=392  TN_t=10317\n",
            "------------------------------------------------------\n"
          ]
        },
        {
          "output_type": "display_data",
          "data": {
            "text/plain": [
              "<IPython.core.display.Javascript object>"
            ],
            "application/javascript": [
              "window[\"38d2d558-bac1-11ee-a17a-0242ac1c000c\"] = google.colab.output.setActiveOutputArea(window[\"38d0ccea-bac1-11ee-a17a-0242ac1c000c\"]);\n",
              "//# sourceURL=js_55276b4366"
            ]
          },
          "metadata": {}
        },
        {
          "output_type": "stream",
          "name": "stdout",
          "text": [
            "model will be saved as /content/drive/.shortcut-targets-by-id/1sDWsPGsIDappaJPbkJswWmLhx1q6LRdv/AOCR2024/params/effi_b0_testintrain/efficientnet_b0_7\n"
          ]
        },
        {
          "output_type": "display_data",
          "data": {
            "text/plain": [
              "<IPython.core.display.Javascript object>"
            ],
            "application/javascript": [
              "window[\"49bdf73a-bac1-11ee-a17a-0242ac1c000c\"] = google.colab.output.getActiveOutputArea();\n",
              "//# sourceURL=js_12366cd09a"
            ]
          },
          "metadata": {}
        },
        {
          "output_type": "display_data",
          "data": {
            "text/plain": [
              "<IPython.core.display.Javascript object>"
            ],
            "application/javascript": [
              "window[\"49be4438-bac1-11ee-a17a-0242ac1c000c\"] = document.querySelector(\"#id6_content_0\");\n",
              "//# sourceURL=js_503e7345ea"
            ]
          },
          "metadata": {}
        },
        {
          "output_type": "display_data",
          "data": {
            "text/plain": [
              "<IPython.core.display.Javascript object>"
            ],
            "application/javascript": [
              "window[\"49be7bc4-bac1-11ee-a17a-0242ac1c000c\"] = google.colab.output.setActiveOutputArea(window[\"49be4438-bac1-11ee-a17a-0242ac1c000c\"]);\n",
              "//# sourceURL=js_e2d93a38cf"
            ]
          },
          "metadata": {}
        },
        {
          "output_type": "display_data",
          "data": {
            "text/plain": [
              "<IPython.core.display.Javascript object>"
            ],
            "application/javascript": [
              "window[\"49beb08a-bac1-11ee-a17a-0242ac1c000c\"] = window[\"id6\"].setSelectedTabIndex(0);\n",
              "//# sourceURL=js_2bf7a7a87a"
            ]
          },
          "metadata": {}
        },
        {
          "output_type": "stream",
          "name": "stdout",
          "text": [
            "------------------------------------------------------\n",
            "Epoch  train_loss  train_accu   valid_loss  valid_accu\n",
            "    8: 0.13464383  94.59033613%  0.27023219  89.98333333%\n",
            "(valid)recall      precision    F1\n",
            "       0.62706271  0.39776692   0.48676345\n",
            "       TP_v=570  FP_v=863  FN_v=339  TN_v=10228\n",
            "(train)recall      precision    F1\n",
            "       0.92471132  0.88938250   0.90670290\n",
            "       TP_t=4004  FP_t=498  FN_t=326  TN_t=10404\n",
            "------------------------------------------------------\n"
          ]
        },
        {
          "output_type": "display_data",
          "data": {
            "text/plain": [
              "<IPython.core.display.Javascript object>"
            ],
            "application/javascript": [
              "window[\"49c00c82-bac1-11ee-a17a-0242ac1c000c\"] = google.colab.output.setActiveOutputArea(window[\"49bdf73a-bac1-11ee-a17a-0242ac1c000c\"]);\n",
              "//# sourceURL=js_c265dc4509"
            ]
          },
          "metadata": {}
        },
        {
          "output_type": "stream",
          "name": "stdout",
          "text": [
            "model will be saved as /content/drive/.shortcut-targets-by-id/1sDWsPGsIDappaJPbkJswWmLhx1q6LRdv/AOCR2024/params/effi_b0_testintrain/efficientnet_b0_8\n"
          ]
        },
        {
          "output_type": "display_data",
          "data": {
            "text/plain": [
              "<IPython.core.display.Javascript object>"
            ],
            "application/javascript": [
              "window[\"5ab5da62-bac1-11ee-a17a-0242ac1c000c\"] = google.colab.output.getActiveOutputArea();\n",
              "//# sourceURL=js_bd823e00b7"
            ]
          },
          "metadata": {}
        },
        {
          "output_type": "display_data",
          "data": {
            "text/plain": [
              "<IPython.core.display.Javascript object>"
            ],
            "application/javascript": [
              "window[\"5ab61bd0-bac1-11ee-a17a-0242ac1c000c\"] = document.querySelector(\"#id6_content_0\");\n",
              "//# sourceURL=js_ca176f45a2"
            ]
          },
          "metadata": {}
        },
        {
          "output_type": "display_data",
          "data": {
            "text/plain": [
              "<IPython.core.display.Javascript object>"
            ],
            "application/javascript": [
              "window[\"5ab655c8-bac1-11ee-a17a-0242ac1c000c\"] = google.colab.output.setActiveOutputArea(window[\"5ab61bd0-bac1-11ee-a17a-0242ac1c000c\"]);\n",
              "//# sourceURL=js_f9f46f82fb"
            ]
          },
          "metadata": {}
        },
        {
          "output_type": "display_data",
          "data": {
            "text/plain": [
              "<IPython.core.display.Javascript object>"
            ],
            "application/javascript": [
              "window[\"5ab68b92-bac1-11ee-a17a-0242ac1c000c\"] = window[\"id6\"].setSelectedTabIndex(0);\n",
              "//# sourceURL=js_b52b6cf995"
            ]
          },
          "metadata": {}
        },
        {
          "output_type": "stream",
          "name": "stdout",
          "text": [
            "------------------------------------------------------\n",
            "Epoch  train_loss  train_accu   valid_loss  valid_accu\n",
            "    9: 0.12950365  94.89233193%  0.27581511  93.05833333%\n",
            "(valid)recall      precision    F1\n",
            "       0.27502750  0.58962264   0.37509377\n",
            "       TP_v=250  FP_v=174  FN_v=659  TN_v=10917\n",
            "(train)recall      precision    F1\n",
            "       0.92896679  0.89550912   0.91193118\n",
            "       TP_t=4028  FP_t=470  FN_t=308  TN_t=10426\n",
            "------------------------------------------------------\n"
          ]
        },
        {
          "output_type": "display_data",
          "data": {
            "text/plain": [
              "<IPython.core.display.Javascript object>"
            ],
            "application/javascript": [
              "window[\"5ab7dca4-bac1-11ee-a17a-0242ac1c000c\"] = google.colab.output.setActiveOutputArea(window[\"5ab5da62-bac1-11ee-a17a-0242ac1c000c\"]);\n",
              "//# sourceURL=js_7728e1048e"
            ]
          },
          "metadata": {}
        },
        {
          "output_type": "stream",
          "name": "stdout",
          "text": [
            "model will be saved as /content/drive/.shortcut-targets-by-id/1sDWsPGsIDappaJPbkJswWmLhx1q6LRdv/AOCR2024/params/effi_b0_testintrain/efficientnet_b0_9\n"
          ]
        },
        {
          "output_type": "display_data",
          "data": {
            "text/plain": [
              "<IPython.core.display.Javascript object>"
            ],
            "application/javascript": [
              "window[\"6baa538e-bac1-11ee-a17a-0242ac1c000c\"] = google.colab.output.getActiveOutputArea();\n",
              "//# sourceURL=js_427c1396d4"
            ]
          },
          "metadata": {}
        },
        {
          "output_type": "display_data",
          "data": {
            "text/plain": [
              "<IPython.core.display.Javascript object>"
            ],
            "application/javascript": [
              "window[\"6baa95b0-bac1-11ee-a17a-0242ac1c000c\"] = document.querySelector(\"#id6_content_1\");\n",
              "//# sourceURL=js_4dfbc7282a"
            ]
          },
          "metadata": {}
        },
        {
          "output_type": "display_data",
          "data": {
            "text/plain": [
              "<IPython.core.display.Javascript object>"
            ],
            "application/javascript": [
              "window[\"6baad02a-bac1-11ee-a17a-0242ac1c000c\"] = google.colab.output.setActiveOutputArea(window[\"6baa95b0-bac1-11ee-a17a-0242ac1c000c\"]);\n",
              "//# sourceURL=js_1ded13f68f"
            ]
          },
          "metadata": {}
        },
        {
          "output_type": "display_data",
          "data": {
            "text/plain": [
              "<IPython.core.display.Javascript object>"
            ],
            "application/javascript": [
              "window[\"6bab052c-bac1-11ee-a17a-0242ac1c000c\"] = window[\"id6\"].setSelectedTabIndex(1);\n",
              "//# sourceURL=js_e8778dbe04"
            ]
          },
          "metadata": {}
        },
        {
          "output_type": "stream",
          "name": "stdout",
          "text": [
            "------------------------------------------------------\n",
            "Epoch  train_loss  train_accu   valid_loss  valid_accu\n",
            "   10: 0.11383748  95.56197479%  0.23394622  92.15833333%\n",
            "(valid)recall      precision    F1\n",
            "       0.54455446  0.48434442   0.51268773\n",
            "       TP_v=495  FP_v=527  FN_v=414  TN_v=10564\n",
            "(train)recall      precision    F1\n",
            "       0.93963134  0.90783615   0.92346014\n",
            "       TP_t=4078  FP_t=414  FN_t=262  TN_t=10478\n",
            "------------------------------------------------------\n"
          ]
        },
        {
          "output_type": "display_data",
          "data": {
            "text/plain": [
              "<IPython.core.display.Javascript object>"
            ],
            "application/javascript": [
              "window[\"6bac5f08-bac1-11ee-a17a-0242ac1c000c\"] = google.colab.output.setActiveOutputArea(window[\"6baa538e-bac1-11ee-a17a-0242ac1c000c\"]);\n",
              "//# sourceURL=js_8262a2234d"
            ]
          },
          "metadata": {}
        },
        {
          "output_type": "stream",
          "name": "stdout",
          "text": [
            "model will be saved as /content/drive/.shortcut-targets-by-id/1sDWsPGsIDappaJPbkJswWmLhx1q6LRdv/AOCR2024/params/effi_b0_testintrain/efficientnet_b0_10\n"
          ]
        },
        {
          "output_type": "display_data",
          "data": {
            "text/plain": [
              "<IPython.core.display.Javascript object>"
            ],
            "application/javascript": [
              "window[\"7c9cbdb2-bac1-11ee-a17a-0242ac1c000c\"] = google.colab.output.getActiveOutputArea();\n",
              "//# sourceURL=js_f94493792a"
            ]
          },
          "metadata": {}
        },
        {
          "output_type": "display_data",
          "data": {
            "text/plain": [
              "<IPython.core.display.Javascript object>"
            ],
            "application/javascript": [
              "window[\"7c9d03ee-bac1-11ee-a17a-0242ac1c000c\"] = document.querySelector(\"#id6_content_1\");\n",
              "//# sourceURL=js_a4cd2be4be"
            ]
          },
          "metadata": {}
        },
        {
          "output_type": "display_data",
          "data": {
            "text/plain": [
              "<IPython.core.display.Javascript object>"
            ],
            "application/javascript": [
              "window[\"7c9d5704-bac1-11ee-a17a-0242ac1c000c\"] = google.colab.output.setActiveOutputArea(window[\"7c9d03ee-bac1-11ee-a17a-0242ac1c000c\"]);\n",
              "//# sourceURL=js_1b044c6222"
            ]
          },
          "metadata": {}
        },
        {
          "output_type": "display_data",
          "data": {
            "text/plain": [
              "<IPython.core.display.Javascript object>"
            ],
            "application/javascript": [
              "window[\"7c9d9e6c-bac1-11ee-a17a-0242ac1c000c\"] = window[\"id6\"].setSelectedTabIndex(1);\n",
              "//# sourceURL=js_ae8ed8685b"
            ]
          },
          "metadata": {}
        },
        {
          "output_type": "stream",
          "name": "stdout",
          "text": [
            "------------------------------------------------------\n",
            "Epoch  train_loss  train_accu   valid_loss  valid_accu\n",
            "   11: 0.10895537  95.65388655%  0.29180304  90.35000000%\n",
            "(valid)recall      precision    F1\n",
            "       0.50495050  0.39331620   0.44219653\n",
            "       TP_v=459  FP_v=708  FN_v=450  TN_v=10383\n",
            "(train)recall      precision    F1\n",
            "       0.94044321  0.90978115   0.92485812\n",
            "       TP_t=4074  FP_t=404  FN_t=258  TN_t=10496\n",
            "------------------------------------------------------\n"
          ]
        },
        {
          "output_type": "display_data",
          "data": {
            "text/plain": [
              "<IPython.core.display.Javascript object>"
            ],
            "application/javascript": [
              "window[\"7c9f60c6-bac1-11ee-a17a-0242ac1c000c\"] = google.colab.output.setActiveOutputArea(window[\"7c9cbdb2-bac1-11ee-a17a-0242ac1c000c\"]);\n",
              "//# sourceURL=js_4798e6da9f"
            ]
          },
          "metadata": {}
        },
        {
          "output_type": "stream",
          "name": "stdout",
          "text": [
            "model will be saved as /content/drive/.shortcut-targets-by-id/1sDWsPGsIDappaJPbkJswWmLhx1q6LRdv/AOCR2024/params/effi_b0_testintrain/efficientnet_b0_11\n"
          ]
        },
        {
          "output_type": "display_data",
          "data": {
            "text/plain": [
              "<IPython.core.display.Javascript object>"
            ],
            "application/javascript": [
              "window[\"8d9fa958-bac1-11ee-a17a-0242ac1c000c\"] = google.colab.output.getActiveOutputArea();\n",
              "//# sourceURL=js_4b2d85331b"
            ]
          },
          "metadata": {}
        },
        {
          "output_type": "display_data",
          "data": {
            "text/plain": [
              "<IPython.core.display.Javascript object>"
            ],
            "application/javascript": [
              "window[\"8d9fe9b8-bac1-11ee-a17a-0242ac1c000c\"] = document.querySelector(\"#id6_content_1\");\n",
              "//# sourceURL=js_60d38ff4e6"
            ]
          },
          "metadata": {}
        },
        {
          "output_type": "display_data",
          "data": {
            "text/plain": [
              "<IPython.core.display.Javascript object>"
            ],
            "application/javascript": [
              "window[\"8da027d4-bac1-11ee-a17a-0242ac1c000c\"] = google.colab.output.setActiveOutputArea(window[\"8d9fe9b8-bac1-11ee-a17a-0242ac1c000c\"]);\n",
              "//# sourceURL=js_84c8ef2ec6"
            ]
          },
          "metadata": {}
        },
        {
          "output_type": "display_data",
          "data": {
            "text/plain": [
              "<IPython.core.display.Javascript object>"
            ],
            "application/javascript": [
              "window[\"8da062d0-bac1-11ee-a17a-0242ac1c000c\"] = window[\"id6\"].setSelectedTabIndex(1);\n",
              "//# sourceURL=js_0592e918e6"
            ]
          },
          "metadata": {}
        },
        {
          "output_type": "stream",
          "name": "stdout",
          "text": [
            "------------------------------------------------------\n",
            "Epoch  train_loss  train_accu   valid_loss  valid_accu\n",
            "   12: 0.09872848  96.30383403%  0.33171088  93.18333333%\n",
            "(valid)recall      precision    F1\n",
            "       0.29592959  0.60178971   0.39675516\n",
            "       TP_v=269  FP_v=178  FN_v=640  TN_v=10913\n",
            "(train)recall      precision    F1\n",
            "       0.95297372  0.92009793   0.93624731\n",
            "       TP_t=4134  FP_t=359  FN_t=204  TN_t=10535\n",
            "------------------------------------------------------\n"
          ]
        },
        {
          "output_type": "display_data",
          "data": {
            "text/plain": [
              "<IPython.core.display.Javascript object>"
            ],
            "application/javascript": [
              "window[\"8da1c17a-bac1-11ee-a17a-0242ac1c000c\"] = google.colab.output.setActiveOutputArea(window[\"8d9fa958-bac1-11ee-a17a-0242ac1c000c\"]);\n",
              "//# sourceURL=js_e801869cee"
            ]
          },
          "metadata": {}
        },
        {
          "output_type": "stream",
          "name": "stdout",
          "text": [
            "model will be saved as /content/drive/.shortcut-targets-by-id/1sDWsPGsIDappaJPbkJswWmLhx1q6LRdv/AOCR2024/params/effi_b0_testintrain/efficientnet_b0_12\n"
          ]
        },
        {
          "output_type": "display_data",
          "data": {
            "text/plain": [
              "<IPython.core.display.Javascript object>"
            ],
            "application/javascript": [
              "window[\"9ea088da-bac1-11ee-a17a-0242ac1c000c\"] = google.colab.output.getActiveOutputArea();\n",
              "//# sourceURL=js_1a4f7113d6"
            ]
          },
          "metadata": {}
        },
        {
          "output_type": "display_data",
          "data": {
            "text/plain": [
              "<IPython.core.display.Javascript object>"
            ],
            "application/javascript": [
              "window[\"9ea0cd18-bac1-11ee-a17a-0242ac1c000c\"] = document.querySelector(\"#id6_content_1\");\n",
              "//# sourceURL=js_eb3e6e3d57"
            ]
          },
          "metadata": {}
        },
        {
          "output_type": "display_data",
          "data": {
            "text/plain": [
              "<IPython.core.display.Javascript object>"
            ],
            "application/javascript": [
              "window[\"9ea1102a-bac1-11ee-a17a-0242ac1c000c\"] = google.colab.output.setActiveOutputArea(window[\"9ea0cd18-bac1-11ee-a17a-0242ac1c000c\"]);\n",
              "//# sourceURL=js_7a640ce817"
            ]
          },
          "metadata": {}
        },
        {
          "output_type": "display_data",
          "data": {
            "text/plain": [
              "<IPython.core.display.Javascript object>"
            ],
            "application/javascript": [
              "window[\"9ea147ac-bac1-11ee-a17a-0242ac1c000c\"] = window[\"id6\"].setSelectedTabIndex(1);\n",
              "//# sourceURL=js_71e26d5434"
            ]
          },
          "metadata": {}
        },
        {
          "output_type": "stream",
          "name": "stdout",
          "text": [
            "------------------------------------------------------\n",
            "Epoch  train_loss  train_accu   valid_loss  valid_accu\n",
            "   13: 0.08701019  96.85530462%  0.23867293  92.79166667%\n",
            "(valid)recall      precision    F1\n",
            "       0.44444444  0.52879581   0.48296473\n",
            "       TP_v=404  FP_v=360  FN_v=505  TN_v=10731\n",
            "(train)recall      precision    F1\n",
            "       0.95775623  0.93340832   0.94542554\n",
            "       TP_t=4149  FP_t=296  FN_t=183  TN_t=10604\n",
            "------------------------------------------------------\n"
          ]
        },
        {
          "output_type": "display_data",
          "data": {
            "text/plain": [
              "<IPython.core.display.Javascript object>"
            ],
            "application/javascript": [
              "window[\"9ea2aa7a-bac1-11ee-a17a-0242ac1c000c\"] = google.colab.output.setActiveOutputArea(window[\"9ea088da-bac1-11ee-a17a-0242ac1c000c\"]);\n",
              "//# sourceURL=js_9ad04b1975"
            ]
          },
          "metadata": {}
        },
        {
          "output_type": "stream",
          "name": "stdout",
          "text": [
            "model will be saved as /content/drive/.shortcut-targets-by-id/1sDWsPGsIDappaJPbkJswWmLhx1q6LRdv/AOCR2024/params/effi_b0_testintrain/efficientnet_b0_13\n"
          ]
        },
        {
          "output_type": "display_data",
          "data": {
            "text/plain": [
              "<IPython.core.display.Javascript object>"
            ],
            "application/javascript": [
              "window[\"af8fb10c-bac1-11ee-a17a-0242ac1c000c\"] = google.colab.output.getActiveOutputArea();\n",
              "//# sourceURL=js_0eef7f8bce"
            ]
          },
          "metadata": {}
        },
        {
          "output_type": "display_data",
          "data": {
            "text/plain": [
              "<IPython.core.display.Javascript object>"
            ],
            "application/javascript": [
              "window[\"af8ff982-bac1-11ee-a17a-0242ac1c000c\"] = document.querySelector(\"#id6_content_1\");\n",
              "//# sourceURL=js_104921b3b1"
            ]
          },
          "metadata": {}
        },
        {
          "output_type": "display_data",
          "data": {
            "text/plain": [
              "<IPython.core.display.Javascript object>"
            ],
            "application/javascript": [
              "window[\"af903708-bac1-11ee-a17a-0242ac1c000c\"] = google.colab.output.setActiveOutputArea(window[\"af8ff982-bac1-11ee-a17a-0242ac1c000c\"]);\n",
              "//# sourceURL=js_7a37a36765"
            ]
          },
          "metadata": {}
        },
        {
          "output_type": "display_data",
          "data": {
            "text/plain": [
              "<IPython.core.display.Javascript object>"
            ],
            "application/javascript": [
              "window[\"af906d72-bac1-11ee-a17a-0242ac1c000c\"] = window[\"id6\"].setSelectedTabIndex(1);\n",
              "//# sourceURL=js_37a8fdaa22"
            ]
          },
          "metadata": {}
        },
        {
          "output_type": "stream",
          "name": "stdout",
          "text": [
            "------------------------------------------------------\n",
            "Epoch  train_loss  train_accu   valid_loss  valid_accu\n",
            "   14: 0.08399707  96.78308824%  0.25943938  92.24166667%\n",
            "(valid)recall      precision    F1\n",
            "       0.57095710  0.48962264   0.52717115\n",
            "       TP_v=519  FP_v=541  FN_v=390  TN_v=10550\n",
            "(train)recall      precision    F1\n",
            "       0.95525830  0.93330329   0.94415318\n",
            "       TP_t=4142  FP_t=296  FN_t=194  TN_t=10600\n",
            "------------------------------------------------------\n"
          ]
        },
        {
          "output_type": "display_data",
          "data": {
            "text/plain": [
              "<IPython.core.display.Javascript object>"
            ],
            "application/javascript": [
              "window[\"af91c690-bac1-11ee-a17a-0242ac1c000c\"] = google.colab.output.setActiveOutputArea(window[\"af8fb10c-bac1-11ee-a17a-0242ac1c000c\"]);\n",
              "//# sourceURL=js_0b41e9b011"
            ]
          },
          "metadata": {}
        },
        {
          "output_type": "stream",
          "name": "stdout",
          "text": [
            "model will be saved as /content/drive/.shortcut-targets-by-id/1sDWsPGsIDappaJPbkJswWmLhx1q6LRdv/AOCR2024/params/effi_b0_testintrain/efficientnet_b0_14\n"
          ]
        },
        {
          "output_type": "display_data",
          "data": {
            "text/plain": [
              "<IPython.core.display.Javascript object>"
            ],
            "application/javascript": [
              "window[\"c07cd5a8-bac1-11ee-a17a-0242ac1c000c\"] = google.colab.output.getActiveOutputArea();\n",
              "//# sourceURL=js_db4564397a"
            ]
          },
          "metadata": {}
        },
        {
          "output_type": "display_data",
          "data": {
            "text/plain": [
              "<IPython.core.display.Javascript object>"
            ],
            "application/javascript": [
              "window[\"c07d21de-bac1-11ee-a17a-0242ac1c000c\"] = document.querySelector(\"#id6_content_1\");\n",
              "//# sourceURL=js_61343c9dbe"
            ]
          },
          "metadata": {}
        },
        {
          "output_type": "display_data",
          "data": {
            "text/plain": [
              "<IPython.core.display.Javascript object>"
            ],
            "application/javascript": [
              "window[\"c07d6996-bac1-11ee-a17a-0242ac1c000c\"] = google.colab.output.setActiveOutputArea(window[\"c07d21de-bac1-11ee-a17a-0242ac1c000c\"]);\n",
              "//# sourceURL=js_50091e5a65"
            ]
          },
          "metadata": {}
        },
        {
          "output_type": "display_data",
          "data": {
            "text/plain": [
              "<IPython.core.display.Javascript object>"
            ],
            "application/javascript": [
              "window[\"c07da79e-bac1-11ee-a17a-0242ac1c000c\"] = window[\"id6\"].setSelectedTabIndex(1);\n",
              "//# sourceURL=js_c007e46490"
            ]
          },
          "metadata": {}
        },
        {
          "output_type": "stream",
          "name": "stdout",
          "text": [
            "------------------------------------------------------\n",
            "Epoch  train_loss  train_accu   valid_loss  valid_accu\n",
            "   15: 0.08034652  96.90126050%  0.29843713  90.47500000%\n",
            "(valid)recall      precision    F1\n",
            "       0.64906491  0.41725601   0.50796384\n",
            "       TP_v=590  FP_v=824  FN_v=319  TN_v=10267\n",
            "(train)recall      precision    F1\n",
            "       0.95964953  0.93339314   0.94633925\n",
            "       TP_t=4162  FP_t=297  FN_t=175  TN_t=10598\n",
            "------------------------------------------------------\n"
          ]
        },
        {
          "output_type": "display_data",
          "data": {
            "text/plain": [
              "<IPython.core.display.Javascript object>"
            ],
            "application/javascript": [
              "window[\"c07f2718-bac1-11ee-a17a-0242ac1c000c\"] = google.colab.output.setActiveOutputArea(window[\"c07cd5a8-bac1-11ee-a17a-0242ac1c000c\"]);\n",
              "//# sourceURL=js_d94781fb9b"
            ]
          },
          "metadata": {}
        },
        {
          "output_type": "stream",
          "name": "stdout",
          "text": [
            "model will be saved as /content/drive/.shortcut-targets-by-id/1sDWsPGsIDappaJPbkJswWmLhx1q6LRdv/AOCR2024/params/effi_b0_testintrain/efficientnet_b0_15\n"
          ]
        },
        {
          "output_type": "display_data",
          "data": {
            "text/plain": [
              "<IPython.core.display.Javascript object>"
            ],
            "application/javascript": [
              "window[\"d189db0c-bac1-11ee-a17a-0242ac1c000c\"] = google.colab.output.getActiveOutputArea();\n",
              "//# sourceURL=js_b234f6db14"
            ]
          },
          "metadata": {}
        },
        {
          "output_type": "display_data",
          "data": {
            "text/plain": [
              "<IPython.core.display.Javascript object>"
            ],
            "application/javascript": [
              "window[\"d18a2a08-bac1-11ee-a17a-0242ac1c000c\"] = document.querySelector(\"#id6_content_1\");\n",
              "//# sourceURL=js_ee1158f66d"
            ]
          },
          "metadata": {}
        },
        {
          "output_type": "display_data",
          "data": {
            "text/plain": [
              "<IPython.core.display.Javascript object>"
            ],
            "application/javascript": [
              "window[\"d18a6428-bac1-11ee-a17a-0242ac1c000c\"] = google.colab.output.setActiveOutputArea(window[\"d18a2a08-bac1-11ee-a17a-0242ac1c000c\"]);\n",
              "//# sourceURL=js_8148d55e50"
            ]
          },
          "metadata": {}
        },
        {
          "output_type": "display_data",
          "data": {
            "text/plain": [
              "<IPython.core.display.Javascript object>"
            ],
            "application/javascript": [
              "window[\"d18a9a42-bac1-11ee-a17a-0242ac1c000c\"] = window[\"id6\"].setSelectedTabIndex(1);\n",
              "//# sourceURL=js_ec2e13262a"
            ]
          },
          "metadata": {}
        },
        {
          "output_type": "stream",
          "name": "stdout",
          "text": [
            "------------------------------------------------------\n",
            "Epoch  train_loss  train_accu   valid_loss  valid_accu\n",
            "   16: 0.07216727  97.33455882%  0.28157251  91.69166667%\n",
            "(valid)recall      precision    F1\n",
            "       0.45324532  0.45175439   0.45249863\n",
            "       TP_v=412  FP_v=500  FN_v=497  TN_v=10591\n",
            "(train)recall      precision    F1\n",
            "       0.96376644  0.94372881   0.95364238\n",
            "       TP_t=4176  FP_t=249  FN_t=157  TN_t=10650\n",
            "------------------------------------------------------\n"
          ]
        },
        {
          "output_type": "display_data",
          "data": {
            "text/plain": [
              "<IPython.core.display.Javascript object>"
            ],
            "application/javascript": [
              "window[\"d18bfd06-bac1-11ee-a17a-0242ac1c000c\"] = google.colab.output.setActiveOutputArea(window[\"d189db0c-bac1-11ee-a17a-0242ac1c000c\"]);\n",
              "//# sourceURL=js_9570884a31"
            ]
          },
          "metadata": {}
        },
        {
          "output_type": "stream",
          "name": "stdout",
          "text": [
            "model will be saved as /content/drive/.shortcut-targets-by-id/1sDWsPGsIDappaJPbkJswWmLhx1q6LRdv/AOCR2024/params/effi_b0_testintrain/efficientnet_b0_16\n"
          ]
        },
        {
          "output_type": "display_data",
          "data": {
            "text/plain": [
              "<IPython.core.display.Javascript object>"
            ],
            "application/javascript": [
              "window[\"e278478c-bac1-11ee-a17a-0242ac1c000c\"] = google.colab.output.getActiveOutputArea();\n",
              "//# sourceURL=js_97828083dd"
            ]
          },
          "metadata": {}
        },
        {
          "output_type": "display_data",
          "data": {
            "text/plain": [
              "<IPython.core.display.Javascript object>"
            ],
            "application/javascript": [
              "window[\"e27892e6-bac1-11ee-a17a-0242ac1c000c\"] = document.querySelector(\"#id6_content_1\");\n",
              "//# sourceURL=js_83c4a30a7d"
            ]
          },
          "metadata": {}
        },
        {
          "output_type": "display_data",
          "data": {
            "text/plain": [
              "<IPython.core.display.Javascript object>"
            ],
            "application/javascript": [
              "window[\"e278cb26-bac1-11ee-a17a-0242ac1c000c\"] = google.colab.output.setActiveOutputArea(window[\"e27892e6-bac1-11ee-a17a-0242ac1c000c\"]);\n",
              "//# sourceURL=js_5c05ec556b"
            ]
          },
          "metadata": {}
        },
        {
          "output_type": "display_data",
          "data": {
            "text/plain": [
              "<IPython.core.display.Javascript object>"
            ],
            "application/javascript": [
              "window[\"e2790208-bac1-11ee-a17a-0242ac1c000c\"] = window[\"id6\"].setSelectedTabIndex(1);\n",
              "//# sourceURL=js_7f15c3e809"
            ]
          },
          "metadata": {}
        },
        {
          "output_type": "stream",
          "name": "stdout",
          "text": [
            "------------------------------------------------------\n",
            "Epoch  train_loss  train_accu   valid_loss  valid_accu\n",
            "   17: 0.06313913  97.72846639%  0.31955728  92.08333333%\n",
            "(valid)recall      precision    F1\n",
            "       0.52915292  0.47956132   0.50313808\n",
            "       TP_v=481  FP_v=522  FN_v=428  TN_v=10569\n",
            "(train)recall      precision    F1\n",
            "       0.96908168  0.95194923   0.96043906\n",
            "       TP_t=4200  FP_t=212  FN_t=134  TN_t=10686\n",
            "------------------------------------------------------\n"
          ]
        },
        {
          "output_type": "display_data",
          "data": {
            "text/plain": [
              "<IPython.core.display.Javascript object>"
            ],
            "application/javascript": [
              "window[\"e27a58e2-bac1-11ee-a17a-0242ac1c000c\"] = google.colab.output.setActiveOutputArea(window[\"e278478c-bac1-11ee-a17a-0242ac1c000c\"]);\n",
              "//# sourceURL=js_3d7ad8054b"
            ]
          },
          "metadata": {}
        },
        {
          "output_type": "stream",
          "name": "stdout",
          "text": [
            "model will be saved as /content/drive/.shortcut-targets-by-id/1sDWsPGsIDappaJPbkJswWmLhx1q6LRdv/AOCR2024/params/effi_b0_testintrain/efficientnet_b0_17\n"
          ]
        },
        {
          "output_type": "display_data",
          "data": {
            "text/plain": [
              "<IPython.core.display.Javascript object>"
            ],
            "application/javascript": [
              "window[\"f3674840-bac1-11ee-a17a-0242ac1c000c\"] = google.colab.output.getActiveOutputArea();\n",
              "//# sourceURL=js_5a9f0e6144"
            ]
          },
          "metadata": {}
        },
        {
          "output_type": "display_data",
          "data": {
            "text/plain": [
              "<IPython.core.display.Javascript object>"
            ],
            "application/javascript": [
              "window[\"f3678986-bac1-11ee-a17a-0242ac1c000c\"] = document.querySelector(\"#id6_content_1\");\n",
              "//# sourceURL=js_a4f353403e"
            ]
          },
          "metadata": {}
        },
        {
          "output_type": "display_data",
          "data": {
            "text/plain": [
              "<IPython.core.display.Javascript object>"
            ],
            "application/javascript": [
              "window[\"f367d4e0-bac1-11ee-a17a-0242ac1c000c\"] = google.colab.output.setActiveOutputArea(window[\"f3678986-bac1-11ee-a17a-0242ac1c000c\"]);\n",
              "//# sourceURL=js_eccf891815"
            ]
          },
          "metadata": {}
        },
        {
          "output_type": "display_data",
          "data": {
            "text/plain": [
              "<IPython.core.display.Javascript object>"
            ],
            "application/javascript": [
              "window[\"f3680f64-bac1-11ee-a17a-0242ac1c000c\"] = window[\"id6\"].setSelectedTabIndex(1);\n",
              "//# sourceURL=js_d3ed1899c9"
            ]
          },
          "metadata": {}
        },
        {
          "output_type": "stream",
          "name": "stdout",
          "text": [
            "------------------------------------------------------\n",
            "Epoch  train_loss  train_accu   valid_loss  valid_accu\n",
            "   18: 0.06828362  97.42647059%  0.28958078  91.78333333%\n",
            "(valid)recall      precision    F1\n",
            "       0.45214521  0.45717464   0.45464602\n",
            "       TP_v=411  FP_v=488  FN_v=498  TN_v=10603\n",
            "(train)recall      precision    F1\n",
            "       0.96240775  0.94797819   0.95513848\n",
            "       TP_t=4173  FP_t=229  FN_t=163  TN_t=10667\n",
            "------------------------------------------------------\n"
          ]
        },
        {
          "output_type": "display_data",
          "data": {
            "text/plain": [
              "<IPython.core.display.Javascript object>"
            ],
            "application/javascript": [
              "window[\"f36976ba-bac1-11ee-a17a-0242ac1c000c\"] = google.colab.output.setActiveOutputArea(window[\"f3674840-bac1-11ee-a17a-0242ac1c000c\"]);\n",
              "//# sourceURL=js_19e12821d2"
            ]
          },
          "metadata": {}
        },
        {
          "output_type": "stream",
          "name": "stdout",
          "text": [
            "model will be saved as /content/drive/.shortcut-targets-by-id/1sDWsPGsIDappaJPbkJswWmLhx1q6LRdv/AOCR2024/params/effi_b0_testintrain/efficientnet_b0_18\n"
          ]
        },
        {
          "output_type": "display_data",
          "data": {
            "text/plain": [
              "<IPython.core.display.Javascript object>"
            ],
            "application/javascript": [
              "window[\"04605cea-bac2-11ee-a17a-0242ac1c000c\"] = google.colab.output.getActiveOutputArea();\n",
              "//# sourceURL=js_d57d0e8e7a"
            ]
          },
          "metadata": {}
        },
        {
          "output_type": "display_data",
          "data": {
            "text/plain": [
              "<IPython.core.display.Javascript object>"
            ],
            "application/javascript": [
              "window[\"0460ac9a-bac2-11ee-a17a-0242ac1c000c\"] = document.querySelector(\"#id6_content_1\");\n",
              "//# sourceURL=js_e51685a692"
            ]
          },
          "metadata": {}
        },
        {
          "output_type": "display_data",
          "data": {
            "text/plain": [
              "<IPython.core.display.Javascript object>"
            ],
            "application/javascript": [
              "window[\"0460e430-bac2-11ee-a17a-0242ac1c000c\"] = google.colab.output.setActiveOutputArea(window[\"0460ac9a-bac2-11ee-a17a-0242ac1c000c\"]);\n",
              "//# sourceURL=js_96a6a5f580"
            ]
          },
          "metadata": {}
        },
        {
          "output_type": "display_data",
          "data": {
            "text/plain": [
              "<IPython.core.display.Javascript object>"
            ],
            "application/javascript": [
              "window[\"04611978-bac2-11ee-a17a-0242ac1c000c\"] = window[\"id6\"].setSelectedTabIndex(1);\n",
              "//# sourceURL=js_b9afb31f69"
            ]
          },
          "metadata": {}
        },
        {
          "output_type": "stream",
          "name": "stdout",
          "text": [
            "------------------------------------------------------\n",
            "Epoch  train_loss  train_accu   valid_loss  valid_accu\n",
            "   19: 0.06296324  97.71533613%  0.30606742  92.53333333%\n",
            "(valid)recall      precision    F1\n",
            "       0.35203520  0.51036683   0.41666667\n",
            "       TP_v=320  FP_v=307  FN_v=589  TN_v=10784\n",
            "(train)recall      precision    F1\n",
            "       0.97026279  0.95054201   0.96030116\n",
            "       TP_t=4209  FP_t=219  FN_t=129  TN_t=10675\n",
            "------------------------------------------------------\n"
          ]
        },
        {
          "output_type": "display_data",
          "data": {
            "text/plain": [
              "<IPython.core.display.Javascript object>"
            ],
            "application/javascript": [
              "window[\"04627c64-bac2-11ee-a17a-0242ac1c000c\"] = google.colab.output.setActiveOutputArea(window[\"04605cea-bac2-11ee-a17a-0242ac1c000c\"]);\n",
              "//# sourceURL=js_bdcb66e02d"
            ]
          },
          "metadata": {}
        },
        {
          "output_type": "stream",
          "name": "stdout",
          "text": [
            "model will be saved as /content/drive/.shortcut-targets-by-id/1sDWsPGsIDappaJPbkJswWmLhx1q6LRdv/AOCR2024/params/effi_b0_testintrain/efficientnet_b0_19\n"
          ]
        },
        {
          "output_type": "display_data",
          "data": {
            "text/plain": [
              "<IPython.core.display.Javascript object>"
            ],
            "application/javascript": [
              "window[\"155a9376-bac2-11ee-a17a-0242ac1c000c\"] = google.colab.output.getActiveOutputArea();\n",
              "//# sourceURL=js_a960345919"
            ]
          },
          "metadata": {}
        },
        {
          "output_type": "display_data",
          "data": {
            "text/plain": [
              "<IPython.core.display.Javascript object>"
            ],
            "application/javascript": [
              "window[\"155ad85e-bac2-11ee-a17a-0242ac1c000c\"] = document.querySelector(\"#id6_content_2\");\n",
              "//# sourceURL=js_0d2aa1e6aa"
            ]
          },
          "metadata": {}
        },
        {
          "output_type": "display_data",
          "data": {
            "text/plain": [
              "<IPython.core.display.Javascript object>"
            ],
            "application/javascript": [
              "window[\"155b138c-bac2-11ee-a17a-0242ac1c000c\"] = google.colab.output.setActiveOutputArea(window[\"155ad85e-bac2-11ee-a17a-0242ac1c000c\"]);\n",
              "//# sourceURL=js_473b72c091"
            ]
          },
          "metadata": {}
        },
        {
          "output_type": "display_data",
          "data": {
            "text/plain": [
              "<IPython.core.display.Javascript object>"
            ],
            "application/javascript": [
              "window[\"155b45c8-bac2-11ee-a17a-0242ac1c000c\"] = window[\"id6\"].setSelectedTabIndex(2);\n",
              "//# sourceURL=js_18436f3a74"
            ]
          },
          "metadata": {}
        },
        {
          "output_type": "stream",
          "name": "stdout",
          "text": [
            "------------------------------------------------------\n",
            "Epoch  train_loss  train_accu   valid_loss  valid_accu\n",
            "   20: 0.05777830  97.93855042%  0.30427698  92.64166667%\n",
            "(valid)recall      precision    F1\n",
            "       0.48734873  0.51511628   0.50084794\n",
            "       TP_v=443  FP_v=417  FN_v=466  TN_v=10674\n",
            "(train)recall      precision    F1\n",
            "       0.97206833  0.95617620   0.96405678\n",
            "       TP_t=4211  FP_t=193  FN_t=121  TN_t=10707\n",
            "------------------------------------------------------\n"
          ]
        },
        {
          "output_type": "display_data",
          "data": {
            "text/plain": [
              "<IPython.core.display.Javascript object>"
            ],
            "application/javascript": [
              "window[\"155c9284-bac2-11ee-a17a-0242ac1c000c\"] = google.colab.output.setActiveOutputArea(window[\"155a9376-bac2-11ee-a17a-0242ac1c000c\"]);\n",
              "//# sourceURL=js_4176ae4541"
            ]
          },
          "metadata": {}
        },
        {
          "output_type": "stream",
          "name": "stdout",
          "text": [
            "model will be saved as /content/drive/.shortcut-targets-by-id/1sDWsPGsIDappaJPbkJswWmLhx1q6LRdv/AOCR2024/params/effi_b0_testintrain/efficientnet_b0_20\n"
          ]
        },
        {
          "output_type": "display_data",
          "data": {
            "text/plain": [
              "<IPython.core.display.Javascript object>"
            ],
            "application/javascript": [
              "window[\"264b5db4-bac2-11ee-a17a-0242ac1c000c\"] = google.colab.output.getActiveOutputArea();\n",
              "//# sourceURL=js_9436e94780"
            ]
          },
          "metadata": {}
        },
        {
          "output_type": "display_data",
          "data": {
            "text/plain": [
              "<IPython.core.display.Javascript object>"
            ],
            "application/javascript": [
              "window[\"264ba76a-bac2-11ee-a17a-0242ac1c000c\"] = document.querySelector(\"#id6_content_2\");\n",
              "//# sourceURL=js_55a2930bc3"
            ]
          },
          "metadata": {}
        },
        {
          "output_type": "display_data",
          "data": {
            "text/plain": [
              "<IPython.core.display.Javascript object>"
            ],
            "application/javascript": [
              "window[\"264be202-bac2-11ee-a17a-0242ac1c000c\"] = google.colab.output.setActiveOutputArea(window[\"264ba76a-bac2-11ee-a17a-0242ac1c000c\"]);\n",
              "//# sourceURL=js_3868495abc"
            ]
          },
          "metadata": {}
        },
        {
          "output_type": "display_data",
          "data": {
            "text/plain": [
              "<IPython.core.display.Javascript object>"
            ],
            "application/javascript": [
              "window[\"264c1560-bac2-11ee-a17a-0242ac1c000c\"] = window[\"id6\"].setSelectedTabIndex(2);\n",
              "//# sourceURL=js_fdfa3c7367"
            ]
          },
          "metadata": {}
        },
        {
          "output_type": "stream",
          "name": "stdout",
          "text": [
            "------------------------------------------------------\n",
            "Epoch  train_loss  train_accu   valid_loss  valid_accu\n",
            "   21: 0.05645808  97.93855042%  0.27711978  92.62500000%\n",
            "(valid)recall      precision    F1\n",
            "       0.46644664  0.51456311   0.48932487\n",
            "       TP_v=424  FP_v=400  FN_v=485  TN_v=10691\n",
            "(train)recall      precision    F1\n",
            "       0.97002536  0.95809611   0.96402383\n",
            "       TP_t=4207  FP_t=184  FN_t=130  TN_t=10711\n",
            "------------------------------------------------------\n"
          ]
        },
        {
          "output_type": "display_data",
          "data": {
            "text/plain": [
              "<IPython.core.display.Javascript object>"
            ],
            "application/javascript": [
              "window[\"264d6208-bac2-11ee-a17a-0242ac1c000c\"] = google.colab.output.setActiveOutputArea(window[\"264b5db4-bac2-11ee-a17a-0242ac1c000c\"]);\n",
              "//# sourceURL=js_ef056409f0"
            ]
          },
          "metadata": {}
        },
        {
          "output_type": "stream",
          "name": "stdout",
          "text": [
            "model will be saved as /content/drive/.shortcut-targets-by-id/1sDWsPGsIDappaJPbkJswWmLhx1q6LRdv/AOCR2024/params/effi_b0_testintrain/efficientnet_b0_21\n"
          ]
        },
        {
          "output_type": "display_data",
          "data": {
            "text/plain": [
              "<IPython.core.display.Javascript object>"
            ],
            "application/javascript": [
              "window[\"3754e21a-bac2-11ee-a17a-0242ac1c000c\"] = google.colab.output.getActiveOutputArea();\n",
              "//# sourceURL=js_21f2b969dc"
            ]
          },
          "metadata": {}
        },
        {
          "output_type": "display_data",
          "data": {
            "text/plain": [
              "<IPython.core.display.Javascript object>"
            ],
            "application/javascript": [
              "window[\"37553292-bac2-11ee-a17a-0242ac1c000c\"] = document.querySelector(\"#id6_content_2\");\n",
              "//# sourceURL=js_9eab86c573"
            ]
          },
          "metadata": {}
        },
        {
          "output_type": "display_data",
          "data": {
            "text/plain": [
              "<IPython.core.display.Javascript object>"
            ],
            "application/javascript": [
              "window[\"37557b26-bac2-11ee-a17a-0242ac1c000c\"] = google.colab.output.setActiveOutputArea(window[\"37553292-bac2-11ee-a17a-0242ac1c000c\"]);\n",
              "//# sourceURL=js_b6160a48be"
            ]
          },
          "metadata": {}
        },
        {
          "output_type": "display_data",
          "data": {
            "text/plain": [
              "<IPython.core.display.Javascript object>"
            ],
            "application/javascript": [
              "window[\"3755c3a6-bac2-11ee-a17a-0242ac1c000c\"] = window[\"id6\"].setSelectedTabIndex(2);\n",
              "//# sourceURL=js_3ae73c724a"
            ]
          },
          "metadata": {}
        },
        {
          "output_type": "stream",
          "name": "stdout",
          "text": [
            "------------------------------------------------------\n",
            "Epoch  train_loss  train_accu   valid_loss  valid_accu\n",
            "   22: 0.05050256  98.16832983%  0.29312158  92.35000000%\n",
            "(valid)recall      precision    F1\n",
            "       0.52915292  0.49536560   0.51170213\n",
            "       TP_v=481  FP_v=490  FN_v=428  TN_v=10601\n",
            "(train)recall      precision    F1\n",
            "       0.97557604  0.96074427   0.96810335\n",
            "       TP_t=4234  FP_t=173  FN_t=106  TN_t=10719\n",
            "------------------------------------------------------\n"
          ]
        },
        {
          "output_type": "display_data",
          "data": {
            "text/plain": [
              "<IPython.core.display.Javascript object>"
            ],
            "application/javascript": [
              "window[\"3757a6bc-bac2-11ee-a17a-0242ac1c000c\"] = google.colab.output.setActiveOutputArea(window[\"3754e21a-bac2-11ee-a17a-0242ac1c000c\"]);\n",
              "//# sourceURL=js_d251f097c5"
            ]
          },
          "metadata": {}
        },
        {
          "output_type": "stream",
          "name": "stdout",
          "text": [
            "model will be saved as /content/drive/.shortcut-targets-by-id/1sDWsPGsIDappaJPbkJswWmLhx1q6LRdv/AOCR2024/params/effi_b0_testintrain/efficientnet_b0_22\n"
          ]
        },
        {
          "output_type": "display_data",
          "data": {
            "text/plain": [
              "<IPython.core.display.Javascript object>"
            ],
            "application/javascript": [
              "window[\"48475044-bac2-11ee-a17a-0242ac1c000c\"] = google.colab.output.getActiveOutputArea();\n",
              "//# sourceURL=js_74d7ad4043"
            ]
          },
          "metadata": {}
        },
        {
          "output_type": "display_data",
          "data": {
            "text/plain": [
              "<IPython.core.display.Javascript object>"
            ],
            "application/javascript": [
              "window[\"4847a512-bac2-11ee-a17a-0242ac1c000c\"] = document.querySelector(\"#id6_content_2\");\n",
              "//# sourceURL=js_913eafd970"
            ]
          },
          "metadata": {}
        },
        {
          "output_type": "display_data",
          "data": {
            "text/plain": [
              "<IPython.core.display.Javascript object>"
            ],
            "application/javascript": [
              "window[\"4847e22a-bac2-11ee-a17a-0242ac1c000c\"] = google.colab.output.setActiveOutputArea(window[\"4847a512-bac2-11ee-a17a-0242ac1c000c\"]);\n",
              "//# sourceURL=js_bb88ff2c43"
            ]
          },
          "metadata": {}
        },
        {
          "output_type": "display_data",
          "data": {
            "text/plain": [
              "<IPython.core.display.Javascript object>"
            ],
            "application/javascript": [
              "window[\"48481984-bac2-11ee-a17a-0242ac1c000c\"] = window[\"id6\"].setSelectedTabIndex(2);\n",
              "//# sourceURL=js_ea846dcad6"
            ]
          },
          "metadata": {}
        },
        {
          "output_type": "stream",
          "name": "stdout",
          "text": [
            "------------------------------------------------------\n",
            "Epoch  train_loss  train_accu   valid_loss  valid_accu\n",
            "   23: 0.04513085  98.34558824%  0.40245502  93.10000000%\n",
            "(valid)recall      precision    F1\n",
            "       0.29372937  0.58940397   0.39207048\n",
            "       TP_v=267  FP_v=186  FN_v=642  TN_v=10905\n",
            "(train)recall      precision    F1\n",
            "       0.97673883  0.96561931   0.97114724\n",
            "       TP_t=4241  FP_t=151  FN_t=101  TN_t=10739\n",
            "------------------------------------------------------\n"
          ]
        },
        {
          "output_type": "display_data",
          "data": {
            "text/plain": [
              "<IPython.core.display.Javascript object>"
            ],
            "application/javascript": [
              "window[\"48496604-bac2-11ee-a17a-0242ac1c000c\"] = google.colab.output.setActiveOutputArea(window[\"48475044-bac2-11ee-a17a-0242ac1c000c\"]);\n",
              "//# sourceURL=js_ccbe997f73"
            ]
          },
          "metadata": {}
        },
        {
          "output_type": "stream",
          "name": "stdout",
          "text": [
            "model will be saved as /content/drive/.shortcut-targets-by-id/1sDWsPGsIDappaJPbkJswWmLhx1q6LRdv/AOCR2024/params/effi_b0_testintrain/efficientnet_b0_23\n"
          ]
        },
        {
          "output_type": "display_data",
          "data": {
            "text/plain": [
              "<IPython.core.display.Javascript object>"
            ],
            "application/javascript": [
              "window[\"5932ac96-bac2-11ee-a17a-0242ac1c000c\"] = google.colab.output.getActiveOutputArea();\n",
              "//# sourceURL=js_19c596bd16"
            ]
          },
          "metadata": {}
        },
        {
          "output_type": "display_data",
          "data": {
            "text/plain": [
              "<IPython.core.display.Javascript object>"
            ],
            "application/javascript": [
              "window[\"5932ee86-bac2-11ee-a17a-0242ac1c000c\"] = document.querySelector(\"#id6_content_2\");\n",
              "//# sourceURL=js_1dab2e190d"
            ]
          },
          "metadata": {}
        },
        {
          "output_type": "display_data",
          "data": {
            "text/plain": [
              "<IPython.core.display.Javascript object>"
            ],
            "application/javascript": [
              "window[\"593338d2-bac2-11ee-a17a-0242ac1c000c\"] = google.colab.output.setActiveOutputArea(window[\"5932ee86-bac2-11ee-a17a-0242ac1c000c\"]);\n",
              "//# sourceURL=js_ab6365f493"
            ]
          },
          "metadata": {}
        },
        {
          "output_type": "display_data",
          "data": {
            "text/plain": [
              "<IPython.core.display.Javascript object>"
            ],
            "application/javascript": [
              "window[\"59336d20-bac2-11ee-a17a-0242ac1c000c\"] = window[\"id6\"].setSelectedTabIndex(2);\n",
              "//# sourceURL=js_00221980da"
            ]
          },
          "metadata": {}
        },
        {
          "output_type": "stream",
          "name": "stdout",
          "text": [
            "------------------------------------------------------\n",
            "Epoch  train_loss  train_accu   valid_loss  valid_accu\n",
            "   24: 0.05209385  97.89915966%  0.30476063  92.32500000%\n",
            "(valid)recall      precision    F1\n",
            "       0.59845985  0.49454545   0.54156297\n",
            "       TP_v=544  FP_v=556  FN_v=365  TN_v=10535\n",
            "(train)recall      precision    F1\n",
            "       0.96954315  0.95717540   0.96331958\n",
            "       TP_t=4202  FP_t=188  FN_t=132  TN_t=10710\n",
            "------------------------------------------------------\n"
          ]
        },
        {
          "output_type": "display_data",
          "data": {
            "text/plain": [
              "<IPython.core.display.Javascript object>"
            ],
            "application/javascript": [
              "window[\"5934cc4c-bac2-11ee-a17a-0242ac1c000c\"] = google.colab.output.setActiveOutputArea(window[\"5932ac96-bac2-11ee-a17a-0242ac1c000c\"]);\n",
              "//# sourceURL=js_7f441f4140"
            ]
          },
          "metadata": {}
        },
        {
          "output_type": "stream",
          "name": "stdout",
          "text": [
            "model will be saved as /content/drive/.shortcut-targets-by-id/1sDWsPGsIDappaJPbkJswWmLhx1q6LRdv/AOCR2024/params/effi_b0_testintrain/efficientnet_b0_24\n"
          ]
        },
        {
          "output_type": "display_data",
          "data": {
            "text/plain": [
              "<IPython.core.display.Javascript object>"
            ],
            "application/javascript": [
              "window[\"6a339eb0-bac2-11ee-a17a-0242ac1c000c\"] = google.colab.output.getActiveOutputArea();\n",
              "//# sourceURL=js_8f521f2868"
            ]
          },
          "metadata": {}
        },
        {
          "output_type": "display_data",
          "data": {
            "text/plain": [
              "<IPython.core.display.Javascript object>"
            ],
            "application/javascript": [
              "window[\"6a33dea2-bac2-11ee-a17a-0242ac1c000c\"] = document.querySelector(\"#id6_content_2\");\n",
              "//# sourceURL=js_944dec27f5"
            ]
          },
          "metadata": {}
        },
        {
          "output_type": "display_data",
          "data": {
            "text/plain": [
              "<IPython.core.display.Javascript object>"
            ],
            "application/javascript": [
              "window[\"6a342060-bac2-11ee-a17a-0242ac1c000c\"] = google.colab.output.setActiveOutputArea(window[\"6a33dea2-bac2-11ee-a17a-0242ac1c000c\"]);\n",
              "//# sourceURL=js_8601aed46b"
            ]
          },
          "metadata": {}
        },
        {
          "output_type": "display_data",
          "data": {
            "text/plain": [
              "<IPython.core.display.Javascript object>"
            ],
            "application/javascript": [
              "window[\"6a3468fe-bac2-11ee-a17a-0242ac1c000c\"] = window[\"id6\"].setSelectedTabIndex(2);\n",
              "//# sourceURL=js_c5caf46fb0"
            ]
          },
          "metadata": {}
        },
        {
          "output_type": "stream",
          "name": "stdout",
          "text": [
            "------------------------------------------------------\n",
            "Epoch  train_loss  train_accu   valid_loss  valid_accu\n",
            "   25: 0.04214983  98.60819328%  0.40616504  93.01666667%\n",
            "(valid)recall      precision    F1\n",
            "       0.34433443  0.56396396   0.42759563\n",
            "       TP_v=313  FP_v=242  FN_v=596  TN_v=10849\n",
            "(train)recall      precision    F1\n",
            "       0.98016148  0.97120000   0.97566016\n",
            "       TP_t=4249  FP_t=126  FN_t=86  TN_t=10771\n",
            "------------------------------------------------------\n"
          ]
        },
        {
          "output_type": "display_data",
          "data": {
            "text/plain": [
              "<IPython.core.display.Javascript object>"
            ],
            "application/javascript": [
              "window[\"6a35d6ee-bac2-11ee-a17a-0242ac1c000c\"] = google.colab.output.setActiveOutputArea(window[\"6a339eb0-bac2-11ee-a17a-0242ac1c000c\"]);\n",
              "//# sourceURL=js_0e76b3afc2"
            ]
          },
          "metadata": {}
        },
        {
          "output_type": "stream",
          "name": "stdout",
          "text": [
            "model will be saved as /content/drive/.shortcut-targets-by-id/1sDWsPGsIDappaJPbkJswWmLhx1q6LRdv/AOCR2024/params/effi_b0_testintrain/efficientnet_b0_25\n"
          ]
        },
        {
          "output_type": "display_data",
          "data": {
            "text/plain": [
              "<IPython.core.display.Javascript object>"
            ],
            "application/javascript": [
              "window[\"7b285846-bac2-11ee-a17a-0242ac1c000c\"] = google.colab.output.getActiveOutputArea();\n",
              "//# sourceURL=js_08e2b8d716"
            ]
          },
          "metadata": {}
        },
        {
          "output_type": "display_data",
          "data": {
            "text/plain": [
              "<IPython.core.display.Javascript object>"
            ],
            "application/javascript": [
              "window[\"7b289ac2-bac2-11ee-a17a-0242ac1c000c\"] = document.querySelector(\"#id6_content_2\");\n",
              "//# sourceURL=js_ec799232fd"
            ]
          },
          "metadata": {}
        },
        {
          "output_type": "display_data",
          "data": {
            "text/plain": [
              "<IPython.core.display.Javascript object>"
            ],
            "application/javascript": [
              "window[\"7b28e9aa-bac2-11ee-a17a-0242ac1c000c\"] = google.colab.output.setActiveOutputArea(window[\"7b289ac2-bac2-11ee-a17a-0242ac1c000c\"]);\n",
              "//# sourceURL=js_1bbaaab585"
            ]
          },
          "metadata": {}
        },
        {
          "output_type": "display_data",
          "data": {
            "text/plain": [
              "<IPython.core.display.Javascript object>"
            ],
            "application/javascript": [
              "window[\"7b292604-bac2-11ee-a17a-0242ac1c000c\"] = window[\"id6\"].setSelectedTabIndex(2);\n",
              "//# sourceURL=js_0d324bccd4"
            ]
          },
          "metadata": {}
        },
        {
          "output_type": "stream",
          "name": "stdout",
          "text": [
            "------------------------------------------------------\n",
            "Epoch  train_loss  train_accu   valid_loss  valid_accu\n",
            "   26: 0.04341503  98.40467437%  0.34630723  92.50000000%\n",
            "(valid)recall      precision    F1\n",
            "       0.45544554  0.50549451   0.47916667\n",
            "       TP_v=414  FP_v=405  FN_v=495  TN_v=10686\n",
            "(train)recall      precision    F1\n",
            "       0.97692130  0.96732176   0.97209783\n",
            "       TP_t=4233  FP_t=143  FN_t=100  TN_t=10756\n",
            "------------------------------------------------------\n"
          ]
        },
        {
          "output_type": "display_data",
          "data": {
            "text/plain": [
              "<IPython.core.display.Javascript object>"
            ],
            "application/javascript": [
              "window[\"7b2aae48-bac2-11ee-a17a-0242ac1c000c\"] = google.colab.output.setActiveOutputArea(window[\"7b285846-bac2-11ee-a17a-0242ac1c000c\"]);\n",
              "//# sourceURL=js_798d62f656"
            ]
          },
          "metadata": {}
        },
        {
          "output_type": "stream",
          "name": "stdout",
          "text": [
            "model will be saved as /content/drive/.shortcut-targets-by-id/1sDWsPGsIDappaJPbkJswWmLhx1q6LRdv/AOCR2024/params/effi_b0_testintrain/efficientnet_b0_26\n"
          ]
        },
        {
          "output_type": "display_data",
          "data": {
            "text/plain": [
              "<IPython.core.display.Javascript object>"
            ],
            "application/javascript": [
              "window[\"8c16aaf4-bac2-11ee-a17a-0242ac1c000c\"] = google.colab.output.getActiveOutputArea();\n",
              "//# sourceURL=js_27b1d52549"
            ]
          },
          "metadata": {}
        },
        {
          "output_type": "display_data",
          "data": {
            "text/plain": [
              "<IPython.core.display.Javascript object>"
            ],
            "application/javascript": [
              "window[\"8c16f9dc-bac2-11ee-a17a-0242ac1c000c\"] = document.querySelector(\"#id6_content_2\");\n",
              "//# sourceURL=js_71e3859fbc"
            ]
          },
          "metadata": {}
        },
        {
          "output_type": "display_data",
          "data": {
            "text/plain": [
              "<IPython.core.display.Javascript object>"
            ],
            "application/javascript": [
              "window[\"8c1742ca-bac2-11ee-a17a-0242ac1c000c\"] = google.colab.output.setActiveOutputArea(window[\"8c16f9dc-bac2-11ee-a17a-0242ac1c000c\"]);\n",
              "//# sourceURL=js_fcf9754622"
            ]
          },
          "metadata": {}
        },
        {
          "output_type": "display_data",
          "data": {
            "text/plain": [
              "<IPython.core.display.Javascript object>"
            ],
            "application/javascript": [
              "window[\"8c17800a-bac2-11ee-a17a-0242ac1c000c\"] = window[\"id6\"].setSelectedTabIndex(2);\n",
              "//# sourceURL=js_adb8801a0c"
            ]
          },
          "metadata": {}
        },
        {
          "output_type": "stream",
          "name": "stdout",
          "text": [
            "------------------------------------------------------\n",
            "Epoch  train_loss  train_accu   valid_loss  valid_accu\n",
            "   27: 0.04350776  98.45719538%  0.31956961  91.77500000%\n",
            "(valid)recall      precision    F1\n",
            "       0.63476348  0.46834416   0.53900047\n",
            "       TP_v=577  FP_v=655  FN_v=332  TN_v=10436\n",
            "(train)recall      precision    F1\n",
            "       0.97713626  0.96885734   0.97297919\n",
            "       TP_t=4231  FP_t=136  FN_t=99  TN_t=10766\n",
            "------------------------------------------------------\n"
          ]
        },
        {
          "output_type": "display_data",
          "data": {
            "text/plain": [
              "<IPython.core.display.Javascript object>"
            ],
            "application/javascript": [
              "window[\"8c18f714-bac2-11ee-a17a-0242ac1c000c\"] = google.colab.output.setActiveOutputArea(window[\"8c16aaf4-bac2-11ee-a17a-0242ac1c000c\"]);\n",
              "//# sourceURL=js_0dcf8b20dc"
            ]
          },
          "metadata": {}
        },
        {
          "output_type": "stream",
          "name": "stdout",
          "text": [
            "model will be saved as /content/drive/.shortcut-targets-by-id/1sDWsPGsIDappaJPbkJswWmLhx1q6LRdv/AOCR2024/params/effi_b0_testintrain/efficientnet_b0_27\n"
          ]
        },
        {
          "output_type": "display_data",
          "data": {
            "text/plain": [
              "<IPython.core.display.Javascript object>"
            ],
            "application/javascript": [
              "window[\"9d04b22a-bac2-11ee-a17a-0242ac1c000c\"] = google.colab.output.getActiveOutputArea();\n",
              "//# sourceURL=js_b2996205a1"
            ]
          },
          "metadata": {}
        },
        {
          "output_type": "display_data",
          "data": {
            "text/plain": [
              "<IPython.core.display.Javascript object>"
            ],
            "application/javascript": [
              "window[\"9d0511d4-bac2-11ee-a17a-0242ac1c000c\"] = document.querySelector(\"#id6_content_2\");\n",
              "//# sourceURL=js_4e1bfdf5e0"
            ]
          },
          "metadata": {}
        },
        {
          "output_type": "display_data",
          "data": {
            "text/plain": [
              "<IPython.core.display.Javascript object>"
            ],
            "application/javascript": [
              "window[\"9d055b76-bac2-11ee-a17a-0242ac1c000c\"] = google.colab.output.setActiveOutputArea(window[\"9d0511d4-bac2-11ee-a17a-0242ac1c000c\"]);\n",
              "//# sourceURL=js_986dfc1426"
            ]
          },
          "metadata": {}
        },
        {
          "output_type": "display_data",
          "data": {
            "text/plain": [
              "<IPython.core.display.Javascript object>"
            ],
            "application/javascript": [
              "window[\"9d05a5e0-bac2-11ee-a17a-0242ac1c000c\"] = window[\"id6\"].setSelectedTabIndex(2);\n",
              "//# sourceURL=js_9431595d96"
            ]
          },
          "metadata": {}
        },
        {
          "output_type": "stream",
          "name": "stdout",
          "text": [
            "------------------------------------------------------\n",
            "Epoch  train_loss  train_accu   valid_loss  valid_accu\n",
            "   28: 0.03523608  98.69353992%  0.38198444  91.91666667%\n",
            "(valid)recall      precision    F1\n",
            "       0.48404840  0.46758767   0.47567568\n",
            "       TP_v=440  FP_v=501  FN_v=469  TN_v=10590\n",
            "(train)recall      precision    F1\n",
            "       0.98109292  0.97323879   0.97715007\n",
            "       TP_t=4255  FP_t=117  FN_t=82  TN_t=10778\n",
            "------------------------------------------------------\n"
          ]
        },
        {
          "output_type": "display_data",
          "data": {
            "text/plain": [
              "<IPython.core.display.Javascript object>"
            ],
            "application/javascript": [
              "window[\"9d07500c-bac2-11ee-a17a-0242ac1c000c\"] = google.colab.output.setActiveOutputArea(window[\"9d04b22a-bac2-11ee-a17a-0242ac1c000c\"]);\n",
              "//# sourceURL=js_30313d3b69"
            ]
          },
          "metadata": {}
        },
        {
          "output_type": "stream",
          "name": "stdout",
          "text": [
            "model will be saved as /content/drive/.shortcut-targets-by-id/1sDWsPGsIDappaJPbkJswWmLhx1q6LRdv/AOCR2024/params/effi_b0_testintrain/efficientnet_b0_28\n"
          ]
        },
        {
          "output_type": "display_data",
          "data": {
            "text/plain": [
              "<IPython.core.display.Javascript object>"
            ],
            "application/javascript": [
              "window[\"adfa4c84-bac2-11ee-a17a-0242ac1c000c\"] = google.colab.output.getActiveOutputArea();\n",
              "//# sourceURL=js_ef1305b24b"
            ]
          },
          "metadata": {}
        },
        {
          "output_type": "display_data",
          "data": {
            "text/plain": [
              "<IPython.core.display.Javascript object>"
            ],
            "application/javascript": [
              "window[\"adfaa71a-bac2-11ee-a17a-0242ac1c000c\"] = document.querySelector(\"#id6_content_2\");\n",
              "//# sourceURL=js_cbca13df2d"
            ]
          },
          "metadata": {}
        },
        {
          "output_type": "display_data",
          "data": {
            "text/plain": [
              "<IPython.core.display.Javascript object>"
            ],
            "application/javascript": [
              "window[\"adfaea5e-bac2-11ee-a17a-0242ac1c000c\"] = google.colab.output.setActiveOutputArea(window[\"adfaa71a-bac2-11ee-a17a-0242ac1c000c\"]);\n",
              "//# sourceURL=js_a75cded86d"
            ]
          },
          "metadata": {}
        },
        {
          "output_type": "display_data",
          "data": {
            "text/plain": [
              "<IPython.core.display.Javascript object>"
            ],
            "application/javascript": [
              "window[\"adfb1ed4-bac2-11ee-a17a-0242ac1c000c\"] = window[\"id6\"].setSelectedTabIndex(2);\n",
              "//# sourceURL=js_7e523a0d67"
            ]
          },
          "metadata": {}
        },
        {
          "output_type": "stream",
          "name": "stdout",
          "text": [
            "------------------------------------------------------\n",
            "Epoch  train_loss  train_accu   valid_loss  valid_accu\n",
            "   29: 0.03705719  98.68040966%  0.33244619  91.91666667%\n",
            "(valid)recall      precision    F1\n",
            "       0.61056106  0.47395389   0.53365385\n",
            "       TP_v=555  FP_v=616  FN_v=354  TN_v=10475\n",
            "(train)recall      precision    F1\n",
            "       0.98226624  0.97174755   0.97697858\n",
            "       TP_t=4265  FP_t=124  FN_t=77  TN_t=10766\n",
            "------------------------------------------------------\n"
          ]
        },
        {
          "output_type": "display_data",
          "data": {
            "text/plain": [
              "<IPython.core.display.Javascript object>"
            ],
            "application/javascript": [
              "window[\"adfc651e-bac2-11ee-a17a-0242ac1c000c\"] = google.colab.output.setActiveOutputArea(window[\"adfa4c84-bac2-11ee-a17a-0242ac1c000c\"]);\n",
              "//# sourceURL=js_0dc8017a9b"
            ]
          },
          "metadata": {}
        },
        {
          "output_type": "stream",
          "name": "stdout",
          "text": [
            "model will be saved as /content/drive/.shortcut-targets-by-id/1sDWsPGsIDappaJPbkJswWmLhx1q6LRdv/AOCR2024/params/effi_b0_testintrain/efficientnet_b0_29\n"
          ]
        },
        {
          "output_type": "display_data",
          "data": {
            "text/plain": [
              "<IPython.core.display.Javascript object>"
            ],
            "application/javascript": [
              "window[\"bee5eb66-bac2-11ee-a17a-0242ac1c000c\"] = google.colab.output.getActiveOutputArea();\n",
              "//# sourceURL=js_f14772f4c2"
            ]
          },
          "metadata": {}
        },
        {
          "output_type": "display_data",
          "data": {
            "text/plain": [
              "<IPython.core.display.Javascript object>"
            ],
            "application/javascript": [
              "window[\"bee63256-bac2-11ee-a17a-0242ac1c000c\"] = document.querySelector(\"#id6_content_3\");\n",
              "//# sourceURL=js_969a29cf3e"
            ]
          },
          "metadata": {}
        },
        {
          "output_type": "display_data",
          "data": {
            "text/plain": [
              "<IPython.core.display.Javascript object>"
            ],
            "application/javascript": [
              "window[\"bee67694-bac2-11ee-a17a-0242ac1c000c\"] = google.colab.output.setActiveOutputArea(window[\"bee63256-bac2-11ee-a17a-0242ac1c000c\"]);\n",
              "//# sourceURL=js_01159801bb"
            ]
          },
          "metadata": {}
        },
        {
          "output_type": "display_data",
          "data": {
            "text/plain": [
              "<IPython.core.display.Javascript object>"
            ],
            "application/javascript": [
              "window[\"bee6ac86-bac2-11ee-a17a-0242ac1c000c\"] = window[\"id6\"].setSelectedTabIndex(3);\n",
              "//# sourceURL=js_3d01abe12b"
            ]
          },
          "metadata": {}
        },
        {
          "output_type": "stream",
          "name": "stdout",
          "text": [
            "------------------------------------------------------\n",
            "Epoch  train_loss  train_accu   valid_loss  valid_accu\n",
            "   30: 0.03961113  98.55567227%  0.31203757  92.94166667%\n",
            "(valid)recall      precision    F1\n",
            "       0.43014301  0.54305556   0.48004911\n",
            "       TP_v=391  FP_v=329  FN_v=518  TN_v=10762\n",
            "(train)recall      precision    F1\n",
            "       0.97808535  0.97136312   0.97471264\n",
            "       TP_t=4240  FP_t=125  FN_t=95  TN_t=10772\n",
            "------------------------------------------------------\n"
          ]
        },
        {
          "output_type": "display_data",
          "data": {
            "text/plain": [
              "<IPython.core.display.Javascript object>"
            ],
            "application/javascript": [
              "window[\"bee7fec4-bac2-11ee-a17a-0242ac1c000c\"] = google.colab.output.setActiveOutputArea(window[\"bee5eb66-bac2-11ee-a17a-0242ac1c000c\"]);\n",
              "//# sourceURL=js_d39dc2b713"
            ]
          },
          "metadata": {}
        },
        {
          "output_type": "stream",
          "name": "stdout",
          "text": [
            "model will be saved as /content/drive/.shortcut-targets-by-id/1sDWsPGsIDappaJPbkJswWmLhx1q6LRdv/AOCR2024/params/effi_b0_testintrain/efficientnet_b0_30\n"
          ]
        },
        {
          "output_type": "display_data",
          "data": {
            "text/plain": [
              "<IPython.core.display.Javascript object>"
            ],
            "application/javascript": [
              "window[\"cfd62e18-bac2-11ee-a17a-0242ac1c000c\"] = google.colab.output.getActiveOutputArea();\n",
              "//# sourceURL=js_d1f081af76"
            ]
          },
          "metadata": {}
        },
        {
          "output_type": "display_data",
          "data": {
            "text/plain": [
              "<IPython.core.display.Javascript object>"
            ],
            "application/javascript": [
              "window[\"cfd67bac-bac2-11ee-a17a-0242ac1c000c\"] = document.querySelector(\"#id6_content_3\");\n",
              "//# sourceURL=js_752e180b2e"
            ]
          },
          "metadata": {}
        },
        {
          "output_type": "display_data",
          "data": {
            "text/plain": [
              "<IPython.core.display.Javascript object>"
            ],
            "application/javascript": [
              "window[\"cfd6bedc-bac2-11ee-a17a-0242ac1c000c\"] = google.colab.output.setActiveOutputArea(window[\"cfd67bac-bac2-11ee-a17a-0242ac1c000c\"]);\n",
              "//# sourceURL=js_6bdc54db3c"
            ]
          },
          "metadata": {}
        },
        {
          "output_type": "display_data",
          "data": {
            "text/plain": [
              "<IPython.core.display.Javascript object>"
            ],
            "application/javascript": [
              "window[\"cfd6fadc-bac2-11ee-a17a-0242ac1c000c\"] = window[\"id6\"].setSelectedTabIndex(3);\n",
              "//# sourceURL=js_cf7118acc8"
            ]
          },
          "metadata": {}
        },
        {
          "output_type": "stream",
          "name": "stdout",
          "text": [
            "------------------------------------------------------\n",
            "Epoch  train_loss  train_accu   valid_loss  valid_accu\n",
            "   31: 0.03234509  98.87079832%  0.34716856  92.88333333%\n",
            "(valid)recall      precision    F1\n",
            "       0.40814081  0.54002911   0.46491228\n",
            "       TP_v=371  FP_v=316  FN_v=538  TN_v=10775\n",
            "(train)recall      precision    F1\n",
            "       0.98476103  0.97574926   0.98023443\n",
            "       TP_t=4265  FP_t=106  FN_t=66  TN_t=10795\n",
            "------------------------------------------------------\n"
          ]
        },
        {
          "output_type": "display_data",
          "data": {
            "text/plain": [
              "<IPython.core.display.Javascript object>"
            ],
            "application/javascript": [
              "window[\"cfd87a06-bac2-11ee-a17a-0242ac1c000c\"] = google.colab.output.setActiveOutputArea(window[\"cfd62e18-bac2-11ee-a17a-0242ac1c000c\"]);\n",
              "//# sourceURL=js_ba4fe9b35a"
            ]
          },
          "metadata": {}
        },
        {
          "output_type": "stream",
          "name": "stdout",
          "text": [
            "model will be saved as /content/drive/.shortcut-targets-by-id/1sDWsPGsIDappaJPbkJswWmLhx1q6LRdv/AOCR2024/params/effi_b0_testintrain/efficientnet_b0_31\n"
          ]
        },
        {
          "output_type": "display_data",
          "data": {
            "text/plain": [
              "<IPython.core.display.Javascript object>"
            ],
            "application/javascript": [
              "window[\"e0dc28de-bac2-11ee-a17a-0242ac1c000c\"] = google.colab.output.getActiveOutputArea();\n",
              "//# sourceURL=js_6dc1877b12"
            ]
          },
          "metadata": {}
        },
        {
          "output_type": "display_data",
          "data": {
            "text/plain": [
              "<IPython.core.display.Javascript object>"
            ],
            "application/javascript": [
              "window[\"e0dc6510-bac2-11ee-a17a-0242ac1c000c\"] = document.querySelector(\"#id6_content_3\");\n",
              "//# sourceURL=js_52b8e7d66b"
            ]
          },
          "metadata": {}
        },
        {
          "output_type": "display_data",
          "data": {
            "text/plain": [
              "<IPython.core.display.Javascript object>"
            ],
            "application/javascript": [
              "window[\"e0dca3ea-bac2-11ee-a17a-0242ac1c000c\"] = google.colab.output.setActiveOutputArea(window[\"e0dc6510-bac2-11ee-a17a-0242ac1c000c\"]);\n",
              "//# sourceURL=js_8af6a1a87e"
            ]
          },
          "metadata": {}
        },
        {
          "output_type": "display_data",
          "data": {
            "text/plain": [
              "<IPython.core.display.Javascript object>"
            ],
            "application/javascript": [
              "window[\"e0dcd9a0-bac2-11ee-a17a-0242ac1c000c\"] = window[\"id6\"].setSelectedTabIndex(3);\n",
              "//# sourceURL=js_d79512cf5a"
            ]
          },
          "metadata": {}
        },
        {
          "output_type": "stream",
          "name": "stdout",
          "text": [
            "------------------------------------------------------\n",
            "Epoch  train_loss  train_accu   valid_loss  valid_accu\n",
            "   32: 0.03568835  98.64101891%  0.32123500  92.43333333%\n",
            "(valid)recall      precision    F1\n",
            "       0.49724972  0.50055371   0.49889625\n",
            "       TP_v=452  FP_v=451  FN_v=457  TN_v=10640\n",
            "(train)recall      precision    F1\n",
            "       0.98018890  0.97234918   0.97625330\n",
            "       TP_t=4255  FP_t=121  FN_t=86  TN_t=10770\n",
            "------------------------------------------------------\n"
          ]
        },
        {
          "output_type": "display_data",
          "data": {
            "text/plain": [
              "<IPython.core.display.Javascript object>"
            ],
            "application/javascript": [
              "window[\"e0de25ee-bac2-11ee-a17a-0242ac1c000c\"] = google.colab.output.setActiveOutputArea(window[\"e0dc28de-bac2-11ee-a17a-0242ac1c000c\"]);\n",
              "//# sourceURL=js_085ff398e1"
            ]
          },
          "metadata": {}
        },
        {
          "output_type": "stream",
          "name": "stdout",
          "text": [
            "model will be saved as /content/drive/.shortcut-targets-by-id/1sDWsPGsIDappaJPbkJswWmLhx1q6LRdv/AOCR2024/params/effi_b0_testintrain/efficientnet_b0_32\n"
          ]
        },
        {
          "output_type": "display_data",
          "data": {
            "text/plain": [
              "<IPython.core.display.Javascript object>"
            ],
            "application/javascript": [
              "window[\"f1d20816-bac2-11ee-a17a-0242ac1c000c\"] = google.colab.output.getActiveOutputArea();\n",
              "//# sourceURL=js_bca8f101e2"
            ]
          },
          "metadata": {}
        },
        {
          "output_type": "display_data",
          "data": {
            "text/plain": [
              "<IPython.core.display.Javascript object>"
            ],
            "application/javascript": [
              "window[\"f1d24b78-bac2-11ee-a17a-0242ac1c000c\"] = document.querySelector(\"#id6_content_3\");\n",
              "//# sourceURL=js_cd49d7e30e"
            ]
          },
          "metadata": {}
        },
        {
          "output_type": "display_data",
          "data": {
            "text/plain": [
              "<IPython.core.display.Javascript object>"
            ],
            "application/javascript": [
              "window[\"f1d28c3c-bac2-11ee-a17a-0242ac1c000c\"] = google.colab.output.setActiveOutputArea(window[\"f1d24b78-bac2-11ee-a17a-0242ac1c000c\"]);\n",
              "//# sourceURL=js_71a43ae97d"
            ]
          },
          "metadata": {}
        },
        {
          "output_type": "display_data",
          "data": {
            "text/plain": [
              "<IPython.core.display.Javascript object>"
            ],
            "application/javascript": [
              "window[\"f1d2c60c-bac2-11ee-a17a-0242ac1c000c\"] = window[\"id6\"].setSelectedTabIndex(3);\n",
              "//# sourceURL=js_92975d47dd"
            ]
          },
          "metadata": {}
        },
        {
          "output_type": "stream",
          "name": "stdout",
          "text": [
            "------------------------------------------------------\n",
            "Epoch  train_loss  train_accu   valid_loss  valid_accu\n",
            "   33: 0.03624021  98.66727941%  0.38200077  92.05000000%\n",
            "(valid)recall      precision    F1\n",
            "       0.50825083  0.47678019   0.49201278\n",
            "       TP_v=462  FP_v=507  FN_v=447  TN_v=10584\n",
            "(train)recall      precision    F1\n",
            "       0.98132780  0.97213976   0.97671217\n",
            "       TP_t=4257  FP_t=122  FN_t=81  TN_t=10772\n",
            "------------------------------------------------------\n"
          ]
        },
        {
          "output_type": "display_data",
          "data": {
            "text/plain": [
              "<IPython.core.display.Javascript object>"
            ],
            "application/javascript": [
              "window[\"f1d422a4-bac2-11ee-a17a-0242ac1c000c\"] = google.colab.output.setActiveOutputArea(window[\"f1d20816-bac2-11ee-a17a-0242ac1c000c\"]);\n",
              "//# sourceURL=js_6d72ec945e"
            ]
          },
          "metadata": {}
        },
        {
          "output_type": "stream",
          "name": "stdout",
          "text": [
            "model will be saved as /content/drive/.shortcut-targets-by-id/1sDWsPGsIDappaJPbkJswWmLhx1q6LRdv/AOCR2024/params/effi_b0_testintrain/efficientnet_b0_33\n"
          ]
        },
        {
          "output_type": "display_data",
          "data": {
            "text/plain": [
              "<IPython.core.display.Javascript object>"
            ],
            "application/javascript": [
              "window[\"02ca7a36-bac3-11ee-a17a-0242ac1c000c\"] = google.colab.output.getActiveOutputArea();\n",
              "//# sourceURL=js_66902ddefc"
            ]
          },
          "metadata": {}
        },
        {
          "output_type": "display_data",
          "data": {
            "text/plain": [
              "<IPython.core.display.Javascript object>"
            ],
            "application/javascript": [
              "window[\"02cab816-bac3-11ee-a17a-0242ac1c000c\"] = document.querySelector(\"#id6_content_3\");\n",
              "//# sourceURL=js_3eebfe641e"
            ]
          },
          "metadata": {}
        },
        {
          "output_type": "display_data",
          "data": {
            "text/plain": [
              "<IPython.core.display.Javascript object>"
            ],
            "application/javascript": [
              "window[\"02caf376-bac3-11ee-a17a-0242ac1c000c\"] = google.colab.output.setActiveOutputArea(window[\"02cab816-bac3-11ee-a17a-0242ac1c000c\"]);\n",
              "//# sourceURL=js_31bf83ca25"
            ]
          },
          "metadata": {}
        },
        {
          "output_type": "display_data",
          "data": {
            "text/plain": [
              "<IPython.core.display.Javascript object>"
            ],
            "application/javascript": [
              "window[\"02cb2742-bac3-11ee-a17a-0242ac1c000c\"] = window[\"id6\"].setSelectedTabIndex(3);\n",
              "//# sourceURL=js_4d3269d6ba"
            ]
          },
          "metadata": {}
        },
        {
          "output_type": "stream",
          "name": "stdout",
          "text": [
            "------------------------------------------------------\n",
            "Epoch  train_loss  train_accu   valid_loss  valid_accu\n",
            "   34: 0.03250812  98.85766807%  0.42379953  93.29166667%\n",
            "(valid)recall      precision    F1\n",
            "       0.33443344  0.60317460   0.43029016\n",
            "       TP_v=304  FP_v=200  FN_v=605  TN_v=10891\n",
            "(train)recall      precision    F1\n",
            "       0.98572415  0.97450489   0.98008242\n",
            "       TP_t=4281  FP_t=112  FN_t=62  TN_t=10777\n",
            "------------------------------------------------------\n"
          ]
        },
        {
          "output_type": "display_data",
          "data": {
            "text/plain": [
              "<IPython.core.display.Javascript object>"
            ],
            "application/javascript": [
              "window[\"02cc793a-bac3-11ee-a17a-0242ac1c000c\"] = google.colab.output.setActiveOutputArea(window[\"02ca7a36-bac3-11ee-a17a-0242ac1c000c\"]);\n",
              "//# sourceURL=js_d2466d90b4"
            ]
          },
          "metadata": {}
        },
        {
          "output_type": "stream",
          "name": "stdout",
          "text": [
            "model will be saved as /content/drive/.shortcut-targets-by-id/1sDWsPGsIDappaJPbkJswWmLhx1q6LRdv/AOCR2024/params/effi_b0_testintrain/efficientnet_b0_34\n"
          ]
        },
        {
          "output_type": "display_data",
          "data": {
            "text/plain": [
              "<IPython.core.display.Javascript object>"
            ],
            "application/javascript": [
              "window[\"13b2fd5a-bac3-11ee-a17a-0242ac1c000c\"] = google.colab.output.getActiveOutputArea();\n",
              "//# sourceURL=js_27fe26bf1c"
            ]
          },
          "metadata": {}
        },
        {
          "output_type": "display_data",
          "data": {
            "text/plain": [
              "<IPython.core.display.Javascript object>"
            ],
            "application/javascript": [
              "window[\"13b33a72-bac3-11ee-a17a-0242ac1c000c\"] = document.querySelector(\"#id6_content_3\");\n",
              "//# sourceURL=js_f7f7420352"
            ]
          },
          "metadata": {}
        },
        {
          "output_type": "display_data",
          "data": {
            "text/plain": [
              "<IPython.core.display.Javascript object>"
            ],
            "application/javascript": [
              "window[\"13b37f0a-bac3-11ee-a17a-0242ac1c000c\"] = google.colab.output.setActiveOutputArea(window[\"13b33a72-bac3-11ee-a17a-0242ac1c000c\"]);\n",
              "//# sourceURL=js_c8ca55b3e8"
            ]
          },
          "metadata": {}
        },
        {
          "output_type": "display_data",
          "data": {
            "text/plain": [
              "<IPython.core.display.Javascript object>"
            ],
            "application/javascript": [
              "window[\"13b3bb82-bac3-11ee-a17a-0242ac1c000c\"] = window[\"id6\"].setSelectedTabIndex(3);\n",
              "//# sourceURL=js_50b4fa1d35"
            ]
          },
          "metadata": {}
        },
        {
          "output_type": "stream",
          "name": "stdout",
          "text": [
            "------------------------------------------------------\n",
            "Epoch  train_loss  train_accu   valid_loss  valid_accu\n",
            "   35: 0.03230406  98.87079832%  0.38408893  93.26666667%\n",
            "(valid)recall      precision    F1\n",
            "       0.39493949  0.58184765   0.47051114\n",
            "       TP_v=359  FP_v=258  FN_v=550  TN_v=10833\n",
            "(train)recall      precision    F1\n",
            "       0.98339866  0.97709049   0.98023443\n",
            "       TP_t=4265  FP_t=100  FN_t=72  TN_t=10795\n",
            "------------------------------------------------------\n"
          ]
        },
        {
          "output_type": "display_data",
          "data": {
            "text/plain": [
              "<IPython.core.display.Javascript object>"
            ],
            "application/javascript": [
              "window[\"13b51702-bac3-11ee-a17a-0242ac1c000c\"] = google.colab.output.setActiveOutputArea(window[\"13b2fd5a-bac3-11ee-a17a-0242ac1c000c\"]);\n",
              "//# sourceURL=js_172fe829e5"
            ]
          },
          "metadata": {}
        },
        {
          "output_type": "stream",
          "name": "stdout",
          "text": [
            "model will be saved as /content/drive/.shortcut-targets-by-id/1sDWsPGsIDappaJPbkJswWmLhx1q6LRdv/AOCR2024/params/effi_b0_testintrain/efficientnet_b0_35\n"
          ]
        },
        {
          "output_type": "display_data",
          "data": {
            "text/plain": [
              "<IPython.core.display.Javascript object>"
            ],
            "application/javascript": [
              "window[\"24c22b84-bac3-11ee-a17a-0242ac1c000c\"] = google.colab.output.getActiveOutputArea();\n",
              "//# sourceURL=js_b88b645bb7"
            ]
          },
          "metadata": {}
        },
        {
          "output_type": "display_data",
          "data": {
            "text/plain": [
              "<IPython.core.display.Javascript object>"
            ],
            "application/javascript": [
              "window[\"24c27a26-bac3-11ee-a17a-0242ac1c000c\"] = document.querySelector(\"#id6_content_3\");\n",
              "//# sourceURL=js_ecf038b8b6"
            ]
          },
          "metadata": {}
        },
        {
          "output_type": "display_data",
          "data": {
            "text/plain": [
              "<IPython.core.display.Javascript object>"
            ],
            "application/javascript": [
              "window[\"24c2bfb8-bac3-11ee-a17a-0242ac1c000c\"] = google.colab.output.setActiveOutputArea(window[\"24c27a26-bac3-11ee-a17a-0242ac1c000c\"]);\n",
              "//# sourceURL=js_a42c3828cb"
            ]
          },
          "metadata": {}
        },
        {
          "output_type": "display_data",
          "data": {
            "text/plain": [
              "<IPython.core.display.Javascript object>"
            ],
            "application/javascript": [
              "window[\"24c2f636-bac3-11ee-a17a-0242ac1c000c\"] = window[\"id6\"].setSelectedTabIndex(3);\n",
              "//# sourceURL=js_a711afdd87"
            ]
          },
          "metadata": {}
        },
        {
          "output_type": "stream",
          "name": "stdout",
          "text": [
            "------------------------------------------------------\n",
            "Epoch  train_loss  train_accu   valid_loss  valid_accu\n",
            "   36: 0.02921513  98.93644958%  0.42424751  92.17500000%\n",
            "(valid)recall      precision    F1\n",
            "       0.55555556  0.48557692   0.51821447\n",
            "       TP_v=505  FP_v=535  FN_v=404  TN_v=10556\n",
            "(train)recall      precision    F1\n",
            "       0.98569781  0.97713240   0.98139642\n",
            "       TP_t=4273  FP_t=100  FN_t=62  TN_t=10797\n",
            "------------------------------------------------------\n"
          ]
        },
        {
          "output_type": "display_data",
          "data": {
            "text/plain": [
              "<IPython.core.display.Javascript object>"
            ],
            "application/javascript": [
              "window[\"24c45c92-bac3-11ee-a17a-0242ac1c000c\"] = google.colab.output.setActiveOutputArea(window[\"24c22b84-bac3-11ee-a17a-0242ac1c000c\"]);\n",
              "//# sourceURL=js_719b26ee6c"
            ]
          },
          "metadata": {}
        },
        {
          "output_type": "stream",
          "name": "stdout",
          "text": [
            "model will be saved as /content/drive/.shortcut-targets-by-id/1sDWsPGsIDappaJPbkJswWmLhx1q6LRdv/AOCR2024/params/effi_b0_testintrain/efficientnet_b0_36\n"
          ]
        },
        {
          "output_type": "display_data",
          "data": {
            "text/plain": [
              "<IPython.core.display.Javascript object>"
            ],
            "application/javascript": [
              "window[\"35b561f4-bac3-11ee-a17a-0242ac1c000c\"] = google.colab.output.getActiveOutputArea();\n",
              "//# sourceURL=js_764ead010f"
            ]
          },
          "metadata": {}
        },
        {
          "output_type": "display_data",
          "data": {
            "text/plain": [
              "<IPython.core.display.Javascript object>"
            ],
            "application/javascript": [
              "window[\"35b5aa38-bac3-11ee-a17a-0242ac1c000c\"] = document.querySelector(\"#id6_content_3\");\n",
              "//# sourceURL=js_8229dbb907"
            ]
          },
          "metadata": {}
        },
        {
          "output_type": "display_data",
          "data": {
            "text/plain": [
              "<IPython.core.display.Javascript object>"
            ],
            "application/javascript": [
              "window[\"35b5f07e-bac3-11ee-a17a-0242ac1c000c\"] = google.colab.output.setActiveOutputArea(window[\"35b5aa38-bac3-11ee-a17a-0242ac1c000c\"]);\n",
              "//# sourceURL=js_154cbe2813"
            ]
          },
          "metadata": {}
        },
        {
          "output_type": "display_data",
          "data": {
            "text/plain": [
              "<IPython.core.display.Javascript object>"
            ],
            "application/javascript": [
              "window[\"35b63912-bac3-11ee-a17a-0242ac1c000c\"] = window[\"id6\"].setSelectedTabIndex(3);\n",
              "//# sourceURL=js_b8a9e429ae"
            ]
          },
          "metadata": {}
        },
        {
          "output_type": "stream",
          "name": "stdout",
          "text": [
            "------------------------------------------------------\n",
            "Epoch  train_loss  train_accu   valid_loss  valid_accu\n",
            "   37: 0.03600022  98.69353992%  0.34610968  92.54166667%\n",
            "(valid)recall      precision    F1\n",
            "       0.57315732  0.50680934   0.53794528\n",
            "       TP_v=521  FP_v=507  FN_v=388  TN_v=10584\n",
            "(train)recall      precision    F1\n",
            "       0.98316421  0.97129187   0.97719198\n",
            "       TP_t=4263  FP_t=126  FN_t=73  TN_t=10770\n",
            "------------------------------------------------------\n"
          ]
        },
        {
          "output_type": "display_data",
          "data": {
            "text/plain": [
              "<IPython.core.display.Javascript object>"
            ],
            "application/javascript": [
              "window[\"35b8194e-bac3-11ee-a17a-0242ac1c000c\"] = google.colab.output.setActiveOutputArea(window[\"35b561f4-bac3-11ee-a17a-0242ac1c000c\"]);\n",
              "//# sourceURL=js_82987d8bb5"
            ]
          },
          "metadata": {}
        },
        {
          "output_type": "stream",
          "name": "stdout",
          "text": [
            "model will be saved as /content/drive/.shortcut-targets-by-id/1sDWsPGsIDappaJPbkJswWmLhx1q6LRdv/AOCR2024/params/effi_b0_testintrain/efficientnet_b0_37\n"
          ]
        },
        {
          "output_type": "display_data",
          "data": {
            "text/plain": [
              "<IPython.core.display.Javascript object>"
            ],
            "application/javascript": [
              "window[\"46ba9492-bac3-11ee-a17a-0242ac1c000c\"] = google.colab.output.getActiveOutputArea();\n",
              "//# sourceURL=js_61df9e6012"
            ]
          },
          "metadata": {}
        },
        {
          "output_type": "display_data",
          "data": {
            "text/plain": [
              "<IPython.core.display.Javascript object>"
            ],
            "application/javascript": [
              "window[\"46bb0b52-bac3-11ee-a17a-0242ac1c000c\"] = document.querySelector(\"#id6_content_3\");\n",
              "//# sourceURL=js_f1740454f0"
            ]
          },
          "metadata": {}
        },
        {
          "output_type": "display_data",
          "data": {
            "text/plain": [
              "<IPython.core.display.Javascript object>"
            ],
            "application/javascript": [
              "window[\"46bb4b26-bac3-11ee-a17a-0242ac1c000c\"] = google.colab.output.setActiveOutputArea(window[\"46bb0b52-bac3-11ee-a17a-0242ac1c000c\"]);\n",
              "//# sourceURL=js_ff12f87c2e"
            ]
          },
          "metadata": {}
        },
        {
          "output_type": "display_data",
          "data": {
            "text/plain": [
              "<IPython.core.display.Javascript object>"
            ],
            "application/javascript": [
              "window[\"46bb864a-bac3-11ee-a17a-0242ac1c000c\"] = window[\"id6\"].setSelectedTabIndex(3);\n",
              "//# sourceURL=js_3d579078be"
            ]
          },
          "metadata": {}
        },
        {
          "output_type": "stream",
          "name": "stdout",
          "text": [
            "------------------------------------------------------\n",
            "Epoch  train_loss  train_accu   valid_loss  valid_accu\n",
            "   38: 0.02503409  99.06775210%  0.45657793  92.50000000%\n",
            "(valid)recall      precision    F1\n",
            "       0.42574257  0.50588235   0.46236559\n",
            "       TP_v=387  FP_v=378  FN_v=522  TN_v=10713\n",
            "(train)recall      precision    F1\n",
            "       0.98593173  0.98140496   0.98366314\n",
            "       TP_t=4275  FP_t=81  FN_t=61  TN_t=10815\n",
            "------------------------------------------------------\n"
          ]
        },
        {
          "output_type": "display_data",
          "data": {
            "text/plain": [
              "<IPython.core.display.Javascript object>"
            ],
            "application/javascript": [
              "window[\"46bcf1b0-bac3-11ee-a17a-0242ac1c000c\"] = google.colab.output.setActiveOutputArea(window[\"46ba9492-bac3-11ee-a17a-0242ac1c000c\"]);\n",
              "//# sourceURL=js_63a6dfa52f"
            ]
          },
          "metadata": {}
        },
        {
          "output_type": "stream",
          "name": "stdout",
          "text": [
            "model will be saved as /content/drive/.shortcut-targets-by-id/1sDWsPGsIDappaJPbkJswWmLhx1q6LRdv/AOCR2024/params/effi_b0_testintrain/efficientnet_b0_38\n"
          ]
        },
        {
          "output_type": "display_data",
          "data": {
            "text/plain": [
              "<IPython.core.display.Javascript object>"
            ],
            "application/javascript": [
              "window[\"57c1230a-bac3-11ee-a17a-0242ac1c000c\"] = google.colab.output.getActiveOutputArea();\n",
              "//# sourceURL=js_7e807996a6"
            ]
          },
          "metadata": {}
        },
        {
          "output_type": "display_data",
          "data": {
            "text/plain": [
              "<IPython.core.display.Javascript object>"
            ],
            "application/javascript": [
              "window[\"57c17b66-bac3-11ee-a17a-0242ac1c000c\"] = document.querySelector(\"#id6_content_3\");\n",
              "//# sourceURL=js_32cbed2b66"
            ]
          },
          "metadata": {}
        },
        {
          "output_type": "display_data",
          "data": {
            "text/plain": [
              "<IPython.core.display.Javascript object>"
            ],
            "application/javascript": [
              "window[\"57c1bd9c-bac3-11ee-a17a-0242ac1c000c\"] = google.colab.output.setActiveOutputArea(window[\"57c17b66-bac3-11ee-a17a-0242ac1c000c\"]);\n",
              "//# sourceURL=js_834419d3fc"
            ]
          },
          "metadata": {}
        },
        {
          "output_type": "display_data",
          "data": {
            "text/plain": [
              "<IPython.core.display.Javascript object>"
            ],
            "application/javascript": [
              "window[\"57c1f37a-bac3-11ee-a17a-0242ac1c000c\"] = window[\"id6\"].setSelectedTabIndex(3);\n",
              "//# sourceURL=js_927a8779a5"
            ]
          },
          "metadata": {}
        },
        {
          "output_type": "stream",
          "name": "stdout",
          "text": [
            "------------------------------------------------------\n",
            "Epoch  train_loss  train_accu   valid_loss  valid_accu\n",
            "   39: 0.02478894  99.04149160%  0.39032090  92.35833333%\n",
            "(valid)recall      precision    F1\n",
            "       0.47084708  0.49537037   0.48279752\n",
            "       TP_v=428  FP_v=436  FN_v=481  TN_v=10655\n",
            "(train)recall      precision    F1\n",
            "       0.98571099  0.98073836   0.98321839\n",
            "       TP_t=4277  FP_t=84  FN_t=62  TN_t=10809\n",
            "------------------------------------------------------\n"
          ]
        },
        {
          "output_type": "display_data",
          "data": {
            "text/plain": [
              "<IPython.core.display.Javascript object>"
            ],
            "application/javascript": [
              "window[\"57c34414-bac3-11ee-a17a-0242ac1c000c\"] = google.colab.output.setActiveOutputArea(window[\"57c1230a-bac3-11ee-a17a-0242ac1c000c\"]);\n",
              "//# sourceURL=js_e913084a9e"
            ]
          },
          "metadata": {}
        },
        {
          "output_type": "stream",
          "name": "stdout",
          "text": [
            "model will be saved as /content/drive/.shortcut-targets-by-id/1sDWsPGsIDappaJPbkJswWmLhx1q6LRdv/AOCR2024/params/effi_b0_testintrain/efficientnet_b0_39\n"
          ]
        },
        {
          "output_type": "display_data",
          "data": {
            "text/plain": [
              "<IPython.core.display.Javascript object>"
            ],
            "application/javascript": [
              "window[\"68bbd560-bac3-11ee-a17a-0242ac1c000c\"] = google.colab.output.getActiveOutputArea();\n",
              "//# sourceURL=js_aad509bf8e"
            ]
          },
          "metadata": {}
        },
        {
          "output_type": "display_data",
          "data": {
            "text/plain": [
              "<IPython.core.display.Javascript object>"
            ],
            "application/javascript": [
              "window[\"68bc2a4c-bac3-11ee-a17a-0242ac1c000c\"] = document.querySelector(\"#id6_content_4\");\n",
              "//# sourceURL=js_9442e9ed29"
            ]
          },
          "metadata": {}
        },
        {
          "output_type": "display_data",
          "data": {
            "text/plain": [
              "<IPython.core.display.Javascript object>"
            ],
            "application/javascript": [
              "window[\"68bc69d0-bac3-11ee-a17a-0242ac1c000c\"] = google.colab.output.setActiveOutputArea(window[\"68bc2a4c-bac3-11ee-a17a-0242ac1c000c\"]);\n",
              "//# sourceURL=js_8e524ce812"
            ]
          },
          "metadata": {}
        },
        {
          "output_type": "display_data",
          "data": {
            "text/plain": [
              "<IPython.core.display.Javascript object>"
            ],
            "application/javascript": [
              "window[\"68bca224-bac3-11ee-a17a-0242ac1c000c\"] = window[\"id6\"].setSelectedTabIndex(4);\n",
              "//# sourceURL=js_d3195f01fd"
            ]
          },
          "metadata": {}
        },
        {
          "output_type": "stream",
          "name": "stdout",
          "text": [
            "------------------------------------------------------\n",
            "Epoch  train_loss  train_accu   valid_loss  valid_accu\n",
            "   40: 0.02834431  99.02836134%  0.41180494  91.37500000%\n",
            "(valid)recall      precision    F1\n",
            "       0.63036304  0.45047170   0.52544704\n",
            "       TP_v=573  FP_v=699  FN_v=336  TN_v=10392\n",
            "(train)recall      precision    F1\n",
            "       0.98617193  0.97984887   0.98300023\n",
            "       TP_t=4279  FP_t=88  FN_t=60  TN_t=10805\n",
            "------------------------------------------------------\n"
          ]
        },
        {
          "output_type": "display_data",
          "data": {
            "text/plain": [
              "<IPython.core.display.Javascript object>"
            ],
            "application/javascript": [
              "window[\"68bdffa2-bac3-11ee-a17a-0242ac1c000c\"] = google.colab.output.setActiveOutputArea(window[\"68bbd560-bac3-11ee-a17a-0242ac1c000c\"]);\n",
              "//# sourceURL=js_4bc0ac0a65"
            ]
          },
          "metadata": {}
        },
        {
          "output_type": "stream",
          "name": "stdout",
          "text": [
            "model will be saved as /content/drive/.shortcut-targets-by-id/1sDWsPGsIDappaJPbkJswWmLhx1q6LRdv/AOCR2024/params/effi_b0_testintrain/efficientnet_b0_40\n"
          ]
        },
        {
          "output_type": "display_data",
          "data": {
            "text/plain": [
              "<IPython.core.display.Javascript object>"
            ],
            "application/javascript": [
              "window[\"79c81fda-bac3-11ee-a17a-0242ac1c000c\"] = google.colab.output.getActiveOutputArea();\n",
              "//# sourceURL=js_50fdf936af"
            ]
          },
          "metadata": {}
        },
        {
          "output_type": "display_data",
          "data": {
            "text/plain": [
              "<IPython.core.display.Javascript object>"
            ],
            "application/javascript": [
              "window[\"79c85cde-bac3-11ee-a17a-0242ac1c000c\"] = document.querySelector(\"#id6_content_4\");\n",
              "//# sourceURL=js_b639493416"
            ]
          },
          "metadata": {}
        },
        {
          "output_type": "display_data",
          "data": {
            "text/plain": [
              "<IPython.core.display.Javascript object>"
            ],
            "application/javascript": [
              "window[\"79c8a392-bac3-11ee-a17a-0242ac1c000c\"] = google.colab.output.setActiveOutputArea(window[\"79c85cde-bac3-11ee-a17a-0242ac1c000c\"]);\n",
              "//# sourceURL=js_0dead6e333"
            ]
          },
          "metadata": {}
        },
        {
          "output_type": "display_data",
          "data": {
            "text/plain": [
              "<IPython.core.display.Javascript object>"
            ],
            "application/javascript": [
              "window[\"79c8f16c-bac3-11ee-a17a-0242ac1c000c\"] = window[\"id6\"].setSelectedTabIndex(4);\n",
              "//# sourceURL=js_de44390135"
            ]
          },
          "metadata": {}
        },
        {
          "output_type": "stream",
          "name": "stdout",
          "text": [
            "------------------------------------------------------\n",
            "Epoch  train_loss  train_accu   valid_loss  valid_accu\n",
            "   41: 0.02904970  98.98240546%  0.37248267  92.87500000%\n",
            "(valid)recall      precision    F1\n",
            "       0.50055006  0.53154206   0.51558074\n",
            "       TP_v=455  FP_v=401  FN_v=454  TN_v=10690\n",
            "(train)recall      precision    F1\n",
            "       0.98615598  0.97825589   0.98219005\n",
            "       TP_t=4274  FP_t=95  FN_t=60  TN_t=10803\n",
            "------------------------------------------------------\n"
          ]
        },
        {
          "output_type": "display_data",
          "data": {
            "text/plain": [
              "<IPython.core.display.Javascript object>"
            ],
            "application/javascript": [
              "window[\"79ca6e2a-bac3-11ee-a17a-0242ac1c000c\"] = google.colab.output.setActiveOutputArea(window[\"79c81fda-bac3-11ee-a17a-0242ac1c000c\"]);\n",
              "//# sourceURL=js_6cc2bfcf3c"
            ]
          },
          "metadata": {}
        },
        {
          "output_type": "stream",
          "name": "stdout",
          "text": [
            "model will be saved as /content/drive/.shortcut-targets-by-id/1sDWsPGsIDappaJPbkJswWmLhx1q6LRdv/AOCR2024/params/effi_b0_testintrain/efficientnet_b0_41\n"
          ]
        },
        {
          "output_type": "display_data",
          "data": {
            "text/plain": [
              "<IPython.core.display.Javascript object>"
            ],
            "application/javascript": [
              "window[\"8ab5e750-bac3-11ee-a17a-0242ac1c000c\"] = google.colab.output.getActiveOutputArea();\n",
              "//# sourceURL=js_a58d7f7b11"
            ]
          },
          "metadata": {}
        },
        {
          "output_type": "display_data",
          "data": {
            "text/plain": [
              "<IPython.core.display.Javascript object>"
            ],
            "application/javascript": [
              "window[\"8ab62d78-bac3-11ee-a17a-0242ac1c000c\"] = document.querySelector(\"#id6_content_4\");\n",
              "//# sourceURL=js_681d534d71"
            ]
          },
          "metadata": {}
        },
        {
          "output_type": "display_data",
          "data": {
            "text/plain": [
              "<IPython.core.display.Javascript object>"
            ],
            "application/javascript": [
              "window[\"8ab67026-bac3-11ee-a17a-0242ac1c000c\"] = google.colab.output.setActiveOutputArea(window[\"8ab62d78-bac3-11ee-a17a-0242ac1c000c\"]);\n",
              "//# sourceURL=js_5e1408933e"
            ]
          },
          "metadata": {}
        },
        {
          "output_type": "display_data",
          "data": {
            "text/plain": [
              "<IPython.core.display.Javascript object>"
            ],
            "application/javascript": [
              "window[\"8ab6a4c4-bac3-11ee-a17a-0242ac1c000c\"] = window[\"id6\"].setSelectedTabIndex(4);\n",
              "//# sourceURL=js_81fba9940e"
            ]
          },
          "metadata": {}
        },
        {
          "output_type": "stream",
          "name": "stdout",
          "text": [
            "------------------------------------------------------\n",
            "Epoch  train_loss  train_accu   valid_loss  valid_accu\n",
            "   42: 0.02461144  99.10057773%  0.34413935  92.20833333%\n",
            "(valid)recall      precision    F1\n",
            "       0.55335534  0.48740310   0.51828954\n",
            "       TP_v=503  FP_v=529  FN_v=406  TN_v=10562\n",
            "(train)recall      precision    F1\n",
            "       0.98636469  0.98205246   0.98420385\n",
            "       TP_t=4268  FP_t=78  FN_t=59  TN_t=10827\n",
            "------------------------------------------------------\n"
          ]
        },
        {
          "output_type": "display_data",
          "data": {
            "text/plain": [
              "<IPython.core.display.Javascript object>"
            ],
            "application/javascript": [
              "window[\"8ab7ed0c-bac3-11ee-a17a-0242ac1c000c\"] = google.colab.output.setActiveOutputArea(window[\"8ab5e750-bac3-11ee-a17a-0242ac1c000c\"]);\n",
              "//# sourceURL=js_3bfe03c72d"
            ]
          },
          "metadata": {}
        },
        {
          "output_type": "stream",
          "name": "stdout",
          "text": [
            "model will be saved as /content/drive/.shortcut-targets-by-id/1sDWsPGsIDappaJPbkJswWmLhx1q6LRdv/AOCR2024/params/effi_b0_testintrain/efficientnet_b0_42\n"
          ]
        },
        {
          "output_type": "display_data",
          "data": {
            "text/plain": [
              "<IPython.core.display.Javascript object>"
            ],
            "application/javascript": [
              "window[\"9bcc437c-bac3-11ee-a17a-0242ac1c000c\"] = google.colab.output.getActiveOutputArea();\n",
              "//# sourceURL=js_221c490c93"
            ]
          },
          "metadata": {}
        },
        {
          "output_type": "display_data",
          "data": {
            "text/plain": [
              "<IPython.core.display.Javascript object>"
            ],
            "application/javascript": [
              "window[\"9bcc8b5c-bac3-11ee-a17a-0242ac1c000c\"] = document.querySelector(\"#id6_content_4\");\n",
              "//# sourceURL=js_45f9724b80"
            ]
          },
          "metadata": {}
        },
        {
          "output_type": "display_data",
          "data": {
            "text/plain": [
              "<IPython.core.display.Javascript object>"
            ],
            "application/javascript": [
              "window[\"9bccc9be-bac3-11ee-a17a-0242ac1c000c\"] = google.colab.output.setActiveOutputArea(window[\"9bcc8b5c-bac3-11ee-a17a-0242ac1c000c\"]);\n",
              "//# sourceURL=js_d3bdfd5d91"
            ]
          },
          "metadata": {}
        },
        {
          "output_type": "display_data",
          "data": {
            "text/plain": [
              "<IPython.core.display.Javascript object>"
            ],
            "application/javascript": [
              "window[\"9bcd00d2-bac3-11ee-a17a-0242ac1c000c\"] = window[\"id6\"].setSelectedTabIndex(4);\n",
              "//# sourceURL=js_2e6203a08d"
            ]
          },
          "metadata": {}
        },
        {
          "output_type": "stream",
          "name": "stdout",
          "text": [
            "------------------------------------------------------\n",
            "Epoch  train_loss  train_accu   valid_loss  valid_accu\n",
            "   43: 0.02642049  99.10714286%  0.38061830  91.75000000%\n",
            "(valid)recall      precision    F1\n",
            "       0.46204620  0.45602606   0.45901639\n",
            "       TP_v=420  FP_v=501  FN_v=489  TN_v=10590\n",
            "(train)recall      precision    F1\n",
            "       0.98709083  0.98165979   0.98436782\n",
            "       TP_t=4282  FP_t=80  FN_t=56  TN_t=10814\n",
            "------------------------------------------------------\n"
          ]
        },
        {
          "output_type": "display_data",
          "data": {
            "text/plain": [
              "<IPython.core.display.Javascript object>"
            ],
            "application/javascript": [
              "window[\"9bce4dfc-bac3-11ee-a17a-0242ac1c000c\"] = google.colab.output.setActiveOutputArea(window[\"9bcc437c-bac3-11ee-a17a-0242ac1c000c\"]);\n",
              "//# sourceURL=js_a3f1316625"
            ]
          },
          "metadata": {}
        },
        {
          "output_type": "stream",
          "name": "stdout",
          "text": [
            "model will be saved as /content/drive/.shortcut-targets-by-id/1sDWsPGsIDappaJPbkJswWmLhx1q6LRdv/AOCR2024/params/effi_b0_testintrain/efficientnet_b0_43\n"
          ]
        },
        {
          "output_type": "display_data",
          "data": {
            "text/plain": [
              "<IPython.core.display.Javascript object>"
            ],
            "application/javascript": [
              "window[\"acc7d56a-bac3-11ee-a17a-0242ac1c000c\"] = google.colab.output.getActiveOutputArea();\n",
              "//# sourceURL=js_430fa65312"
            ]
          },
          "metadata": {}
        },
        {
          "output_type": "display_data",
          "data": {
            "text/plain": [
              "<IPython.core.display.Javascript object>"
            ],
            "application/javascript": [
              "window[\"acc828d0-bac3-11ee-a17a-0242ac1c000c\"] = document.querySelector(\"#id6_content_4\");\n",
              "//# sourceURL=js_c7a5018e19"
            ]
          },
          "metadata": {}
        },
        {
          "output_type": "display_data",
          "data": {
            "text/plain": [
              "<IPython.core.display.Javascript object>"
            ],
            "application/javascript": [
              "window[\"acc86f48-bac3-11ee-a17a-0242ac1c000c\"] = google.colab.output.setActiveOutputArea(window[\"acc828d0-bac3-11ee-a17a-0242ac1c000c\"]);\n",
              "//# sourceURL=js_4698404b6b"
            ]
          },
          "metadata": {}
        },
        {
          "output_type": "display_data",
          "data": {
            "text/plain": [
              "<IPython.core.display.Javascript object>"
            ],
            "application/javascript": [
              "window[\"acc8a968-bac3-11ee-a17a-0242ac1c000c\"] = window[\"id6\"].setSelectedTabIndex(4);\n",
              "//# sourceURL=js_064213dcb3"
            ]
          },
          "metadata": {}
        },
        {
          "output_type": "stream",
          "name": "stdout",
          "text": [
            "------------------------------------------------------\n",
            "Epoch  train_loss  train_accu   valid_loss  valid_accu\n",
            "   44: 0.02299986  99.20561975%  0.38891892  92.63333333%\n",
            "(valid)recall      precision    F1\n",
            "       0.50495050  0.51399776   0.50943396\n",
            "       TP_v=459  FP_v=434  FN_v=450  TN_v=10657\n",
            "(train)recall      precision    F1\n",
            "       0.98892478  0.98325304   0.98608075\n",
            "       TP_t=4286  FP_t=73  FN_t=48  TN_t=10825\n",
            "------------------------------------------------------\n"
          ]
        },
        {
          "output_type": "display_data",
          "data": {
            "text/plain": [
              "<IPython.core.display.Javascript object>"
            ],
            "application/javascript": [
              "window[\"acca0e20-bac3-11ee-a17a-0242ac1c000c\"] = google.colab.output.setActiveOutputArea(window[\"acc7d56a-bac3-11ee-a17a-0242ac1c000c\"]);\n",
              "//# sourceURL=js_3705887249"
            ]
          },
          "metadata": {}
        },
        {
          "output_type": "stream",
          "name": "stdout",
          "text": [
            "model will be saved as /content/drive/.shortcut-targets-by-id/1sDWsPGsIDappaJPbkJswWmLhx1q6LRdv/AOCR2024/params/effi_b0_testintrain/efficientnet_b0_44\n"
          ]
        },
        {
          "output_type": "display_data",
          "data": {
            "text/plain": [
              "<IPython.core.display.Javascript object>"
            ],
            "application/javascript": [
              "window[\"bdcbcfa6-bac3-11ee-a17a-0242ac1c000c\"] = google.colab.output.getActiveOutputArea();\n",
              "//# sourceURL=js_cfdcf871ec"
            ]
          },
          "metadata": {}
        },
        {
          "output_type": "display_data",
          "data": {
            "text/plain": [
              "<IPython.core.display.Javascript object>"
            ],
            "application/javascript": [
              "window[\"bdcc0f16-bac3-11ee-a17a-0242ac1c000c\"] = document.querySelector(\"#id6_content_4\");\n",
              "//# sourceURL=js_3492aadf2c"
            ]
          },
          "metadata": {}
        },
        {
          "output_type": "display_data",
          "data": {
            "text/plain": [
              "<IPython.core.display.Javascript object>"
            ],
            "application/javascript": [
              "window[\"bdcc5890-bac3-11ee-a17a-0242ac1c000c\"] = google.colab.output.setActiveOutputArea(window[\"bdcc0f16-bac3-11ee-a17a-0242ac1c000c\"]);\n",
              "//# sourceURL=js_3a5cca8339"
            ]
          },
          "metadata": {}
        },
        {
          "output_type": "display_data",
          "data": {
            "text/plain": [
              "<IPython.core.display.Javascript object>"
            ],
            "application/javascript": [
              "window[\"bdcc9026-bac3-11ee-a17a-0242ac1c000c\"] = window[\"id6\"].setSelectedTabIndex(4);\n",
              "//# sourceURL=js_eef6f19009"
            ]
          },
          "metadata": {}
        },
        {
          "output_type": "stream",
          "name": "stdout",
          "text": [
            "------------------------------------------------------\n",
            "Epoch  train_loss  train_accu   valid_loss  valid_accu\n",
            "   45: 0.02312943  99.28440126%  0.32883757  92.40833333%\n",
            "(valid)recall      precision    F1\n",
            "       0.56875688  0.49903475   0.53161954\n",
            "       TP_v=517  FP_v=519  FN_v=392  TN_v=10572\n",
            "(train)recall      precision    F1\n",
            "       0.98984537  0.98507120   0.98745252\n",
            "       TP_t=4289  FP_t=65  FN_t=44  TN_t=10834\n",
            "------------------------------------------------------\n"
          ]
        },
        {
          "output_type": "display_data",
          "data": {
            "text/plain": [
              "<IPython.core.display.Javascript object>"
            ],
            "application/javascript": [
              "window[\"bdce1b62-bac3-11ee-a17a-0242ac1c000c\"] = google.colab.output.setActiveOutputArea(window[\"bdcbcfa6-bac3-11ee-a17a-0242ac1c000c\"]);\n",
              "//# sourceURL=js_72ac6fe163"
            ]
          },
          "metadata": {}
        },
        {
          "output_type": "stream",
          "name": "stdout",
          "text": [
            "model will be saved as /content/drive/.shortcut-targets-by-id/1sDWsPGsIDappaJPbkJswWmLhx1q6LRdv/AOCR2024/params/effi_b0_testintrain/efficientnet_b0_45\n"
          ]
        },
        {
          "output_type": "display_data",
          "data": {
            "text/plain": [
              "<IPython.core.display.Javascript object>"
            ],
            "application/javascript": [
              "window[\"ced5f5c4-bac3-11ee-a17a-0242ac1c000c\"] = google.colab.output.getActiveOutputArea();\n",
              "//# sourceURL=js_08b4614327"
            ]
          },
          "metadata": {}
        },
        {
          "output_type": "display_data",
          "data": {
            "text/plain": [
              "<IPython.core.display.Javascript object>"
            ],
            "application/javascript": [
              "window[\"ced639ee-bac3-11ee-a17a-0242ac1c000c\"] = document.querySelector(\"#id6_content_4\");\n",
              "//# sourceURL=js_c66f4a5616"
            ]
          },
          "metadata": {}
        },
        {
          "output_type": "display_data",
          "data": {
            "text/plain": [
              "<IPython.core.display.Javascript object>"
            ],
            "application/javascript": [
              "window[\"ced67b52-bac3-11ee-a17a-0242ac1c000c\"] = google.colab.output.setActiveOutputArea(window[\"ced639ee-bac3-11ee-a17a-0242ac1c000c\"]);\n",
              "//# sourceURL=js_2079137c8d"
            ]
          },
          "metadata": {}
        },
        {
          "output_type": "display_data",
          "data": {
            "text/plain": [
              "<IPython.core.display.Javascript object>"
            ],
            "application/javascript": [
              "window[\"ced6af96-bac3-11ee-a17a-0242ac1c000c\"] = window[\"id6\"].setSelectedTabIndex(4);\n",
              "//# sourceURL=js_639388dfc1"
            ]
          },
          "metadata": {}
        },
        {
          "output_type": "stream",
          "name": "stdout",
          "text": [
            "------------------------------------------------------\n",
            "Epoch  train_loss  train_accu   valid_loss  valid_accu\n",
            "   46: 0.01902967  99.31722689%  0.51901420  93.38333333%\n",
            "(valid)recall      precision    F1\n",
            "       0.36963696  0.60323160   0.45839018\n",
            "       TP_v=336  FP_v=221  FN_v=573  TN_v=10870\n",
            "(train)recall      precision    F1\n",
            "       0.99029126  0.98573401   0.98800738\n",
            "       TP_t=4284  FP_t=62  FN_t=42  TN_t=10844\n",
            "------------------------------------------------------\n"
          ]
        },
        {
          "output_type": "display_data",
          "data": {
            "text/plain": [
              "<IPython.core.display.Javascript object>"
            ],
            "application/javascript": [
              "window[\"ced80512-bac3-11ee-a17a-0242ac1c000c\"] = google.colab.output.setActiveOutputArea(window[\"ced5f5c4-bac3-11ee-a17a-0242ac1c000c\"]);\n",
              "//# sourceURL=js_5f79ed51ff"
            ]
          },
          "metadata": {}
        },
        {
          "output_type": "stream",
          "name": "stdout",
          "text": [
            "model will be saved as /content/drive/.shortcut-targets-by-id/1sDWsPGsIDappaJPbkJswWmLhx1q6LRdv/AOCR2024/params/effi_b0_testintrain/efficientnet_b0_46\n"
          ]
        },
        {
          "output_type": "display_data",
          "data": {
            "text/plain": [
              "<IPython.core.display.Javascript object>"
            ],
            "application/javascript": [
              "window[\"dfe1af70-bac3-11ee-a17a-0242ac1c000c\"] = google.colab.output.getActiveOutputArea();\n",
              "//# sourceURL=js_12d4db3301"
            ]
          },
          "metadata": {}
        },
        {
          "output_type": "display_data",
          "data": {
            "text/plain": [
              "<IPython.core.display.Javascript object>"
            ],
            "application/javascript": [
              "window[\"dfe210e6-bac3-11ee-a17a-0242ac1c000c\"] = document.querySelector(\"#id6_content_4\");\n",
              "//# sourceURL=js_798ec53640"
            ]
          },
          "metadata": {}
        },
        {
          "output_type": "display_data",
          "data": {
            "text/plain": [
              "<IPython.core.display.Javascript object>"
            ],
            "application/javascript": [
              "window[\"dfe259e8-bac3-11ee-a17a-0242ac1c000c\"] = google.colab.output.setActiveOutputArea(window[\"dfe210e6-bac3-11ee-a17a-0242ac1c000c\"]);\n",
              "//# sourceURL=js_53d11ba7cc"
            ]
          },
          "metadata": {}
        },
        {
          "output_type": "display_data",
          "data": {
            "text/plain": [
              "<IPython.core.display.Javascript object>"
            ],
            "application/javascript": [
              "window[\"dfe29700-bac3-11ee-a17a-0242ac1c000c\"] = window[\"id6\"].setSelectedTabIndex(4);\n",
              "//# sourceURL=js_8cbe7e248a"
            ]
          },
          "metadata": {}
        },
        {
          "output_type": "stream",
          "name": "stdout",
          "text": [
            "------------------------------------------------------\n",
            "Epoch  train_loss  train_accu   valid_loss  valid_accu\n",
            "   47: 0.02363302  99.08744748%  0.42339955  93.07500000%\n",
            "(valid)recall      precision    F1\n",
            "       0.43234323  0.55508475   0.48608534\n",
            "       TP_v=393  FP_v=315  FN_v=516  TN_v=10776\n",
            "(train)recall      precision    F1\n",
            "       0.98523985  0.98274672   0.98399171\n",
            "       TP_t=4272  FP_t=75  FN_t=64  TN_t=10821\n",
            "------------------------------------------------------\n"
          ]
        },
        {
          "output_type": "display_data",
          "data": {
            "text/plain": [
              "<IPython.core.display.Javascript object>"
            ],
            "application/javascript": [
              "window[\"dfe3ee34-bac3-11ee-a17a-0242ac1c000c\"] = google.colab.output.setActiveOutputArea(window[\"dfe1af70-bac3-11ee-a17a-0242ac1c000c\"]);\n",
              "//# sourceURL=js_6ed66a7dad"
            ]
          },
          "metadata": {}
        },
        {
          "output_type": "stream",
          "name": "stdout",
          "text": [
            "model will be saved as /content/drive/.shortcut-targets-by-id/1sDWsPGsIDappaJPbkJswWmLhx1q6LRdv/AOCR2024/params/effi_b0_testintrain/efficientnet_b0_47\n"
          ]
        },
        {
          "output_type": "display_data",
          "data": {
            "text/plain": [
              "<IPython.core.display.Javascript object>"
            ],
            "application/javascript": [
              "window[\"f0e45dc2-bac3-11ee-a17a-0242ac1c000c\"] = google.colab.output.getActiveOutputArea();\n",
              "//# sourceURL=js_a0ae8ff572"
            ]
          },
          "metadata": {}
        },
        {
          "output_type": "display_data",
          "data": {
            "text/plain": [
              "<IPython.core.display.Javascript object>"
            ],
            "application/javascript": [
              "window[\"f0e4b7c2-bac3-11ee-a17a-0242ac1c000c\"] = document.querySelector(\"#id6_content_4\");\n",
              "//# sourceURL=js_375b52460a"
            ]
          },
          "metadata": {}
        },
        {
          "output_type": "display_data",
          "data": {
            "text/plain": [
              "<IPython.core.display.Javascript object>"
            ],
            "application/javascript": [
              "window[\"f0e50056-bac3-11ee-a17a-0242ac1c000c\"] = google.colab.output.setActiveOutputArea(window[\"f0e4b7c2-bac3-11ee-a17a-0242ac1c000c\"]);\n",
              "//# sourceURL=js_85bd49cbc9"
            ]
          },
          "metadata": {}
        },
        {
          "output_type": "display_data",
          "data": {
            "text/plain": [
              "<IPython.core.display.Javascript object>"
            ],
            "application/javascript": [
              "window[\"f0e53972-bac3-11ee-a17a-0242ac1c000c\"] = window[\"id6\"].setSelectedTabIndex(4);\n",
              "//# sourceURL=js_594c496c2b"
            ]
          },
          "metadata": {}
        },
        {
          "output_type": "stream",
          "name": "stdout",
          "text": [
            "------------------------------------------------------\n",
            "Epoch  train_loss  train_accu   valid_loss  valid_accu\n",
            "   48: 0.01982579  99.29753151%  0.48413244  92.27500000%\n",
            "(valid)recall      precision    F1\n",
            "       0.56105611  0.49132948   0.52388290\n",
            "       TP_v=510  FP_v=528  FN_v=399  TN_v=10563\n",
            "(train)recall      precision    F1\n",
            "       0.98846863  0.98687543   0.98767139\n",
            "       TP_t=4286  FP_t=57  FN_t=50  TN_t=10839\n",
            "------------------------------------------------------\n"
          ]
        },
        {
          "output_type": "display_data",
          "data": {
            "text/plain": [
              "<IPython.core.display.Javascript object>"
            ],
            "application/javascript": [
              "window[\"f0e690ba-bac3-11ee-a17a-0242ac1c000c\"] = google.colab.output.setActiveOutputArea(window[\"f0e45dc2-bac3-11ee-a17a-0242ac1c000c\"]);\n",
              "//# sourceURL=js_faf3d5f604"
            ]
          },
          "metadata": {}
        },
        {
          "output_type": "stream",
          "name": "stdout",
          "text": [
            "model will be saved as /content/drive/.shortcut-targets-by-id/1sDWsPGsIDappaJPbkJswWmLhx1q6LRdv/AOCR2024/params/effi_b0_testintrain/efficientnet_b0_48\n"
          ]
        },
        {
          "output_type": "display_data",
          "data": {
            "text/plain": [
              "<IPython.core.display.Javascript object>"
            ],
            "application/javascript": [
              "window[\"02882e82-bac4-11ee-a17a-0242ac1c000c\"] = google.colab.output.getActiveOutputArea();\n",
              "//# sourceURL=js_be06cbad76"
            ]
          },
          "metadata": {}
        },
        {
          "output_type": "display_data",
          "data": {
            "text/plain": [
              "<IPython.core.display.Javascript object>"
            ],
            "application/javascript": [
              "window[\"0288860c-bac4-11ee-a17a-0242ac1c000c\"] = document.querySelector(\"#id6_content_4\");\n",
              "//# sourceURL=js_ffdfa01ee0"
            ]
          },
          "metadata": {}
        },
        {
          "output_type": "display_data",
          "data": {
            "text/plain": [
              "<IPython.core.display.Javascript object>"
            ],
            "application/javascript": [
              "window[\"0288c798-bac4-11ee-a17a-0242ac1c000c\"] = google.colab.output.setActiveOutputArea(window[\"0288860c-bac4-11ee-a17a-0242ac1c000c\"]);\n",
              "//# sourceURL=js_67376db355"
            ]
          },
          "metadata": {}
        },
        {
          "output_type": "display_data",
          "data": {
            "text/plain": [
              "<IPython.core.display.Javascript object>"
            ],
            "application/javascript": [
              "window[\"0288ff56-bac4-11ee-a17a-0242ac1c000c\"] = window[\"id6\"].setSelectedTabIndex(4);\n",
              "//# sourceURL=js_0947ff03e3"
            ]
          },
          "metadata": {}
        },
        {
          "output_type": "stream",
          "name": "stdout",
          "text": [
            "------------------------------------------------------\n",
            "Epoch  train_loss  train_accu   valid_loss  valid_accu\n",
            "   49: 0.02220718  99.23188025%  0.48318767  93.22500000%\n",
            "(valid)recall      precision    F1\n",
            "       0.39933993  0.57619048   0.47173489\n",
            "       TP_v=363  FP_v=267  FN_v=546  TN_v=10824\n",
            "(train)recall      precision    F1\n",
            "       0.98915802  0.98393759   0.98654089\n",
            "       TP_t=4288  FP_t=70  FN_t=47  TN_t=10827\n",
            "------------------------------------------------------\n"
          ]
        },
        {
          "output_type": "display_data",
          "data": {
            "text/plain": [
              "<IPython.core.display.Javascript object>"
            ],
            "application/javascript": [
              "window[\"028a7886-bac4-11ee-a17a-0242ac1c000c\"] = google.colab.output.setActiveOutputArea(window[\"02882e82-bac4-11ee-a17a-0242ac1c000c\"]);\n",
              "//# sourceURL=js_2cb7a6a919"
            ]
          },
          "metadata": {}
        },
        {
          "output_type": "stream",
          "name": "stdout",
          "text": [
            "model will be saved as /content/drive/.shortcut-targets-by-id/1sDWsPGsIDappaJPbkJswWmLhx1q6LRdv/AOCR2024/params/effi_b0_testintrain/efficientnet_b0_49\n"
          ]
        },
        {
          "output_type": "display_data",
          "data": {
            "text/plain": [
              "<IPython.core.display.Javascript object>"
            ],
            "application/javascript": [
              "window[\"139b7986-bac4-11ee-a17a-0242ac1c000c\"] = google.colab.output.getActiveOutputArea();\n",
              "//# sourceURL=js_303d7abb1a"
            ]
          },
          "metadata": {}
        },
        {
          "output_type": "display_data",
          "data": {
            "text/plain": [
              "<IPython.core.display.Javascript object>"
            ],
            "application/javascript": [
              "window[\"139bbca2-bac4-11ee-a17a-0242ac1c000c\"] = document.querySelector(\"#id6_content_5\");\n",
              "//# sourceURL=js_6b727c2ed4"
            ]
          },
          "metadata": {}
        },
        {
          "output_type": "display_data",
          "data": {
            "text/plain": [
              "<IPython.core.display.Javascript object>"
            ],
            "application/javascript": [
              "window[\"139c0dce-bac4-11ee-a17a-0242ac1c000c\"] = google.colab.output.setActiveOutputArea(window[\"139bbca2-bac4-11ee-a17a-0242ac1c000c\"]);\n",
              "//# sourceURL=js_de929446cc"
            ]
          },
          "metadata": {}
        },
        {
          "output_type": "display_data",
          "data": {
            "text/plain": [
              "<IPython.core.display.Javascript object>"
            ],
            "application/javascript": [
              "window[\"139c56f8-bac4-11ee-a17a-0242ac1c000c\"] = window[\"id6\"].setSelectedTabIndex(5);\n",
              "//# sourceURL=js_02aa7d32a8"
            ]
          },
          "metadata": {}
        },
        {
          "output_type": "stream",
          "name": "stdout",
          "text": [
            "------------------------------------------------------\n",
            "Epoch  train_loss  train_accu   valid_loss  valid_accu\n",
            "   50: 0.02432837  99.19248950%  0.40388673  92.85833333%\n",
            "(valid)recall      precision    F1\n",
            "       0.49504950  0.53066038   0.51223677\n",
            "       TP_v=450  FP_v=398  FN_v=459  TN_v=10693\n",
            "(train)recall      precision    F1\n",
            "       0.98824072  0.98347866   0.98585394\n",
            "       TP_t=4286  FP_t=72  FN_t=51  TN_t=10823\n",
            "------------------------------------------------------\n"
          ]
        },
        {
          "output_type": "display_data",
          "data": {
            "text/plain": [
              "<IPython.core.display.Javascript object>"
            ],
            "application/javascript": [
              "window[\"139dfc2e-bac4-11ee-a17a-0242ac1c000c\"] = google.colab.output.setActiveOutputArea(window[\"139b7986-bac4-11ee-a17a-0242ac1c000c\"]);\n",
              "//# sourceURL=js_e7cf985c62"
            ]
          },
          "metadata": {}
        },
        {
          "output_type": "stream",
          "name": "stdout",
          "text": [
            "model will be saved as /content/drive/.shortcut-targets-by-id/1sDWsPGsIDappaJPbkJswWmLhx1q6LRdv/AOCR2024/params/effi_b0_testintrain/efficientnet_b0_50\n"
          ]
        },
        {
          "output_type": "display_data",
          "data": {
            "text/plain": [
              "<IPython.core.display.Javascript object>"
            ],
            "application/javascript": [
              "window[\"24faea04-bac4-11ee-a17a-0242ac1c000c\"] = google.colab.output.getActiveOutputArea();\n",
              "//# sourceURL=js_967f467b28"
            ]
          },
          "metadata": {}
        },
        {
          "output_type": "display_data",
          "data": {
            "text/plain": [
              "<IPython.core.display.Javascript object>"
            ],
            "application/javascript": [
              "window[\"24fb39be-bac4-11ee-a17a-0242ac1c000c\"] = document.querySelector(\"#id6_content_5\");\n",
              "//# sourceURL=js_78a54dceae"
            ]
          },
          "metadata": {}
        },
        {
          "output_type": "display_data",
          "data": {
            "text/plain": [
              "<IPython.core.display.Javascript object>"
            ],
            "application/javascript": [
              "window[\"24fb7f0a-bac4-11ee-a17a-0242ac1c000c\"] = google.colab.output.setActiveOutputArea(window[\"24fb39be-bac4-11ee-a17a-0242ac1c000c\"]);\n",
              "//# sourceURL=js_e5803a4796"
            ]
          },
          "metadata": {}
        },
        {
          "output_type": "display_data",
          "data": {
            "text/plain": [
              "<IPython.core.display.Javascript object>"
            ],
            "application/javascript": [
              "window[\"24fbb948-bac4-11ee-a17a-0242ac1c000c\"] = window[\"id6\"].setSelectedTabIndex(5);\n",
              "//# sourceURL=js_1f6fe18333"
            ]
          },
          "metadata": {}
        },
        {
          "output_type": "stream",
          "name": "stdout",
          "text": [
            "------------------------------------------------------\n",
            "Epoch  train_loss  train_accu   valid_loss  valid_accu\n",
            "   51: 0.02404132  99.13996849%  0.42622899  92.91666667%\n",
            "(valid)recall      precision    F1\n",
            "       0.46534653  0.53748412   0.49882075\n",
            "       TP_v=423  FP_v=364  FN_v=486  TN_v=10727\n",
            "(train)recall      precision    F1\n",
            "       0.98755474  0.98234755   0.98494426\n",
            "       TP_t=4285  FP_t=77  FN_t=54  TN_t=10816\n",
            "------------------------------------------------------\n"
          ]
        },
        {
          "output_type": "display_data",
          "data": {
            "text/plain": [
              "<IPython.core.display.Javascript object>"
            ],
            "application/javascript": [
              "window[\"24fd0e88-bac4-11ee-a17a-0242ac1c000c\"] = google.colab.output.setActiveOutputArea(window[\"24faea04-bac4-11ee-a17a-0242ac1c000c\"]);\n",
              "//# sourceURL=js_b3cc1cb97a"
            ]
          },
          "metadata": {}
        },
        {
          "output_type": "stream",
          "name": "stdout",
          "text": [
            "model will be saved as /content/drive/.shortcut-targets-by-id/1sDWsPGsIDappaJPbkJswWmLhx1q6LRdv/AOCR2024/params/effi_b0_testintrain/efficientnet_b0_51\n"
          ]
        },
        {
          "output_type": "display_data",
          "data": {
            "text/plain": [
              "<IPython.core.display.Javascript object>"
            ],
            "application/javascript": [
              "window[\"3619c828-bac4-11ee-a17a-0242ac1c000c\"] = google.colab.output.getActiveOutputArea();\n",
              "//# sourceURL=js_816ddbd121"
            ]
          },
          "metadata": {}
        },
        {
          "output_type": "display_data",
          "data": {
            "text/plain": [
              "<IPython.core.display.Javascript object>"
            ],
            "application/javascript": [
              "window[\"361a24b2-bac4-11ee-a17a-0242ac1c000c\"] = document.querySelector(\"#id6_content_5\");\n",
              "//# sourceURL=js_5a5cb5cfcb"
            ]
          },
          "metadata": {}
        },
        {
          "output_type": "display_data",
          "data": {
            "text/plain": [
              "<IPython.core.display.Javascript object>"
            ],
            "application/javascript": [
              "window[\"361a8d12-bac4-11ee-a17a-0242ac1c000c\"] = google.colab.output.setActiveOutputArea(window[\"361a24b2-bac4-11ee-a17a-0242ac1c000c\"]);\n",
              "//# sourceURL=js_a352b1ab32"
            ]
          },
          "metadata": {}
        },
        {
          "output_type": "display_data",
          "data": {
            "text/plain": [
              "<IPython.core.display.Javascript object>"
            ],
            "application/javascript": [
              "window[\"361adbd2-bac4-11ee-a17a-0242ac1c000c\"] = window[\"id6\"].setSelectedTabIndex(5);\n",
              "//# sourceURL=js_c5cf8b65bc"
            ]
          },
          "metadata": {}
        },
        {
          "output_type": "stream",
          "name": "stdout",
          "text": [
            "------------------------------------------------------\n",
            "Epoch  train_loss  train_accu   valid_loss  valid_accu\n",
            "   52: 0.01904032  99.33692227%  0.41263511  92.37500000%\n",
            "(valid)recall      precision    F1\n",
            "       0.51485149  0.49681529   0.50567261\n",
            "       TP_v=468  FP_v=474  FN_v=441  TN_v=10617\n",
            "(train)recall      precision    F1\n",
            "       0.99076426  0.98598346   0.98836808\n",
            "       TP_t=4291  FP_t=61  FN_t=40  TN_t=10840\n",
            "------------------------------------------------------\n"
          ]
        },
        {
          "output_type": "display_data",
          "data": {
            "text/plain": [
              "<IPython.core.display.Javascript object>"
            ],
            "application/javascript": [
              "window[\"361c5a66-bac4-11ee-a17a-0242ac1c000c\"] = google.colab.output.setActiveOutputArea(window[\"3619c828-bac4-11ee-a17a-0242ac1c000c\"]);\n",
              "//# sourceURL=js_b00840dd6d"
            ]
          },
          "metadata": {}
        },
        {
          "output_type": "stream",
          "name": "stdout",
          "text": [
            "model will be saved as /content/drive/.shortcut-targets-by-id/1sDWsPGsIDappaJPbkJswWmLhx1q6LRdv/AOCR2024/params/effi_b0_testintrain/efficientnet_b0_52\n"
          ]
        },
        {
          "output_type": "display_data",
          "data": {
            "text/plain": [
              "<IPython.core.display.Javascript object>"
            ],
            "application/javascript": [
              "window[\"47166cda-bac4-11ee-a17a-0242ac1c000c\"] = google.colab.output.getActiveOutputArea();\n",
              "//# sourceURL=js_9a8aa3c43e"
            ]
          },
          "metadata": {}
        },
        {
          "output_type": "display_data",
          "data": {
            "text/plain": [
              "<IPython.core.display.Javascript object>"
            ],
            "application/javascript": [
              "window[\"4716af9c-bac4-11ee-a17a-0242ac1c000c\"] = document.querySelector(\"#id6_content_5\");\n",
              "//# sourceURL=js_404c452d65"
            ]
          },
          "metadata": {}
        },
        {
          "output_type": "display_data",
          "data": {
            "text/plain": [
              "<IPython.core.display.Javascript object>"
            ],
            "application/javascript": [
              "window[\"4716ebc4-bac4-11ee-a17a-0242ac1c000c\"] = google.colab.output.setActiveOutputArea(window[\"4716af9c-bac4-11ee-a17a-0242ac1c000c\"]);\n",
              "//# sourceURL=js_d312442554"
            ]
          },
          "metadata": {}
        },
        {
          "output_type": "display_data",
          "data": {
            "text/plain": [
              "<IPython.core.display.Javascript object>"
            ],
            "application/javascript": [
              "window[\"471725da-bac4-11ee-a17a-0242ac1c000c\"] = window[\"id6\"].setSelectedTabIndex(5);\n",
              "//# sourceURL=js_ed367e7c11"
            ]
          },
          "metadata": {}
        },
        {
          "output_type": "stream",
          "name": "stdout",
          "text": [
            "------------------------------------------------------\n",
            "Epoch  train_loss  train_accu   valid_loss  valid_accu\n",
            "   53: 0.02255992  99.20561975%  0.48258947  93.38333333%\n",
            "(valid)recall      precision    F1\n",
            "       0.37403740  0.60176991   0.46132972\n",
            "       TP_v=340  FP_v=225  FN_v=569  TN_v=10866\n",
            "(train)recall      precision    F1\n",
            "       0.98868622  0.98346348   0.98606793\n",
            "       TP_t=4282  FP_t=72  FN_t=49  TN_t=10829\n",
            "------------------------------------------------------\n"
          ]
        },
        {
          "output_type": "display_data",
          "data": {
            "text/plain": [
              "<IPython.core.display.Javascript object>"
            ],
            "application/javascript": [
              "window[\"47187354-bac4-11ee-a17a-0242ac1c000c\"] = google.colab.output.setActiveOutputArea(window[\"47166cda-bac4-11ee-a17a-0242ac1c000c\"]);\n",
              "//# sourceURL=js_573f9a335a"
            ]
          },
          "metadata": {}
        },
        {
          "output_type": "stream",
          "name": "stdout",
          "text": [
            "model will be saved as /content/drive/.shortcut-targets-by-id/1sDWsPGsIDappaJPbkJswWmLhx1q6LRdv/AOCR2024/params/effi_b0_testintrain/efficientnet_b0_53\n"
          ]
        },
        {
          "output_type": "display_data",
          "data": {
            "text/plain": [
              "<IPython.core.display.Javascript object>"
            ],
            "application/javascript": [
              "window[\"583b13bc-bac4-11ee-a17a-0242ac1c000c\"] = google.colab.output.getActiveOutputArea();\n",
              "//# sourceURL=js_7a348c3178"
            ]
          },
          "metadata": {}
        },
        {
          "output_type": "display_data",
          "data": {
            "text/plain": [
              "<IPython.core.display.Javascript object>"
            ],
            "application/javascript": [
              "window[\"583b6b78-bac4-11ee-a17a-0242ac1c000c\"] = document.querySelector(\"#id6_content_5\");\n",
              "//# sourceURL=js_7973d93588"
            ]
          },
          "metadata": {}
        },
        {
          "output_type": "display_data",
          "data": {
            "text/plain": [
              "<IPython.core.display.Javascript object>"
            ],
            "application/javascript": [
              "window[\"583bad22-bac4-11ee-a17a-0242ac1c000c\"] = google.colab.output.setActiveOutputArea(window[\"583b6b78-bac4-11ee-a17a-0242ac1c000c\"]);\n",
              "//# sourceURL=js_3f8ebc3526"
            ]
          },
          "metadata": {}
        },
        {
          "output_type": "display_data",
          "data": {
            "text/plain": [
              "<IPython.core.display.Javascript object>"
            ],
            "application/javascript": [
              "window[\"583be68e-bac4-11ee-a17a-0242ac1c000c\"] = window[\"id6\"].setSelectedTabIndex(5);\n",
              "//# sourceURL=js_f1ae9adc94"
            ]
          },
          "metadata": {}
        },
        {
          "output_type": "stream",
          "name": "stdout",
          "text": [
            "------------------------------------------------------\n",
            "Epoch  train_loss  train_accu   valid_loss  valid_accu\n",
            "   54: 0.01817730  99.38287815%  0.48962101  92.73333333%\n",
            "(valid)recall      precision    F1\n",
            "       0.37183718  0.52895149   0.43669251\n",
            "       TP_v=338  FP_v=301  FN_v=571  TN_v=10790\n",
            "(train)recall      precision    F1\n",
            "       0.99078553  0.98760046   0.98919043\n",
            "       TP_t=4301  FP_t=54  FN_t=40  TN_t=10837\n",
            "------------------------------------------------------\n"
          ]
        },
        {
          "output_type": "display_data",
          "data": {
            "text/plain": [
              "<IPython.core.display.Javascript object>"
            ],
            "application/javascript": [
              "window[\"583d36a6-bac4-11ee-a17a-0242ac1c000c\"] = google.colab.output.setActiveOutputArea(window[\"583b13bc-bac4-11ee-a17a-0242ac1c000c\"]);\n",
              "//# sourceURL=js_e2451a11c4"
            ]
          },
          "metadata": {}
        },
        {
          "output_type": "stream",
          "name": "stdout",
          "text": [
            "model will be saved as /content/drive/.shortcut-targets-by-id/1sDWsPGsIDappaJPbkJswWmLhx1q6LRdv/AOCR2024/params/effi_b0_testintrain/efficientnet_b0_54\n"
          ]
        },
        {
          "output_type": "display_data",
          "data": {
            "text/plain": [
              "<IPython.core.display.Javascript object>"
            ],
            "application/javascript": [
              "window[\"698c5144-bac4-11ee-a17a-0242ac1c000c\"] = google.colab.output.getActiveOutputArea();\n",
              "//# sourceURL=js_7d7713cef5"
            ]
          },
          "metadata": {}
        },
        {
          "output_type": "display_data",
          "data": {
            "text/plain": [
              "<IPython.core.display.Javascript object>"
            ],
            "application/javascript": [
              "window[\"698ca9a0-bac4-11ee-a17a-0242ac1c000c\"] = document.querySelector(\"#id6_content_5\");\n",
              "//# sourceURL=js_c383d62efc"
            ]
          },
          "metadata": {}
        },
        {
          "output_type": "display_data",
          "data": {
            "text/plain": [
              "<IPython.core.display.Javascript object>"
            ],
            "application/javascript": [
              "window[\"698cf6e4-bac4-11ee-a17a-0242ac1c000c\"] = google.colab.output.setActiveOutputArea(window[\"698ca9a0-bac4-11ee-a17a-0242ac1c000c\"]);\n",
              "//# sourceURL=js_7554f96f72"
            ]
          },
          "metadata": {}
        },
        {
          "output_type": "display_data",
          "data": {
            "text/plain": [
              "<IPython.core.display.Javascript object>"
            ],
            "application/javascript": [
              "window[\"698d3d52-bac4-11ee-a17a-0242ac1c000c\"] = window[\"id6\"].setSelectedTabIndex(5);\n",
              "//# sourceURL=js_b4ec257069"
            ]
          },
          "metadata": {}
        },
        {
          "output_type": "stream",
          "name": "stdout",
          "text": [
            "------------------------------------------------------\n",
            "Epoch  train_loss  train_accu   valid_loss  valid_accu\n",
            "   55: 0.02175287  99.25157563%  0.43390314  92.18333333%\n",
            "(valid)recall      precision    F1\n",
            "       0.51815182  0.48506694   0.50106383\n",
            "       TP_v=471  FP_v=500  FN_v=438  TN_v=10591\n",
            "(train)recall      precision    F1\n",
            "       0.98801843  0.98574713   0.98688147\n",
            "       TP_t=4288  FP_t=62  FN_t=52  TN_t=10830\n",
            "------------------------------------------------------\n"
          ]
        },
        {
          "output_type": "display_data",
          "data": {
            "text/plain": [
              "<IPython.core.display.Javascript object>"
            ],
            "application/javascript": [
              "window[\"698e936e-bac4-11ee-a17a-0242ac1c000c\"] = google.colab.output.setActiveOutputArea(window[\"698c5144-bac4-11ee-a17a-0242ac1c000c\"]);\n",
              "//# sourceURL=js_7e4159b21c"
            ]
          },
          "metadata": {}
        },
        {
          "output_type": "stream",
          "name": "stdout",
          "text": [
            "model will be saved as /content/drive/.shortcut-targets-by-id/1sDWsPGsIDappaJPbkJswWmLhx1q6LRdv/AOCR2024/params/effi_b0_testintrain/efficientnet_b0_55\n"
          ]
        },
        {
          "output_type": "display_data",
          "data": {
            "text/plain": [
              "<IPython.core.display.Javascript object>"
            ],
            "application/javascript": [
              "window[\"7abae8f4-bac4-11ee-a17a-0242ac1c000c\"] = google.colab.output.getActiveOutputArea();\n",
              "//# sourceURL=js_a75f6db8f4"
            ]
          },
          "metadata": {}
        },
        {
          "output_type": "display_data",
          "data": {
            "text/plain": [
              "<IPython.core.display.Javascript object>"
            ],
            "application/javascript": [
              "window[\"7abb394e-bac4-11ee-a17a-0242ac1c000c\"] = document.querySelector(\"#id6_content_5\");\n",
              "//# sourceURL=js_ff3a096aa8"
            ]
          },
          "metadata": {}
        },
        {
          "output_type": "display_data",
          "data": {
            "text/plain": [
              "<IPython.core.display.Javascript object>"
            ],
            "application/javascript": [
              "window[\"7abb86d8-bac4-11ee-a17a-0242ac1c000c\"] = google.colab.output.setActiveOutputArea(window[\"7abb394e-bac4-11ee-a17a-0242ac1c000c\"]);\n",
              "//# sourceURL=js_3b7f364fca"
            ]
          },
          "metadata": {}
        },
        {
          "output_type": "display_data",
          "data": {
            "text/plain": [
              "<IPython.core.display.Javascript object>"
            ],
            "application/javascript": [
              "window[\"7abbce5e-bac4-11ee-a17a-0242ac1c000c\"] = window[\"id6\"].setSelectedTabIndex(5);\n",
              "//# sourceURL=js_261a8e6baf"
            ]
          },
          "metadata": {}
        },
        {
          "output_type": "stream",
          "name": "stdout",
          "text": [
            "------------------------------------------------------\n",
            "Epoch  train_loss  train_accu   valid_loss  valid_accu\n",
            "   56: 0.01950803  99.27127101%  0.45070826  93.47500000%\n",
            "(valid)recall      precision    F1\n",
            "       0.35313531  0.62209302   0.45052632\n",
            "       TP_v=321  FP_v=195  FN_v=588  TN_v=10896\n",
            "(train)recall      precision    F1\n",
            "       0.98962416  0.98485544   0.98723404\n",
            "       TP_t=4292  FP_t=66  FN_t=45  TN_t=10829\n",
            "------------------------------------------------------\n"
          ]
        },
        {
          "output_type": "display_data",
          "data": {
            "text/plain": [
              "<IPython.core.display.Javascript object>"
            ],
            "application/javascript": [
              "window[\"7abdb368-bac4-11ee-a17a-0242ac1c000c\"] = google.colab.output.setActiveOutputArea(window[\"7abae8f4-bac4-11ee-a17a-0242ac1c000c\"]);\n",
              "//# sourceURL=js_7984476c4c"
            ]
          },
          "metadata": {}
        },
        {
          "output_type": "stream",
          "name": "stdout",
          "text": [
            "model will be saved as /content/drive/.shortcut-targets-by-id/1sDWsPGsIDappaJPbkJswWmLhx1q6LRdv/AOCR2024/params/effi_b0_testintrain/efficientnet_b0_56\n"
          ]
        },
        {
          "output_type": "display_data",
          "data": {
            "text/plain": [
              "<IPython.core.display.Javascript object>"
            ],
            "application/javascript": [
              "window[\"8bbdc27a-bac4-11ee-a17a-0242ac1c000c\"] = google.colab.output.getActiveOutputArea();\n",
              "//# sourceURL=js_8dfa77c2e0"
            ]
          },
          "metadata": {}
        },
        {
          "output_type": "display_data",
          "data": {
            "text/plain": [
              "<IPython.core.display.Javascript object>"
            ],
            "application/javascript": [
              "window[\"8bbe1446-bac4-11ee-a17a-0242ac1c000c\"] = document.querySelector(\"#id6_content_5\");\n",
              "//# sourceURL=js_9c6998f1ec"
            ]
          },
          "metadata": {}
        },
        {
          "output_type": "display_data",
          "data": {
            "text/plain": [
              "<IPython.core.display.Javascript object>"
            ],
            "application/javascript": [
              "window[\"8bbe592e-bac4-11ee-a17a-0242ac1c000c\"] = google.colab.output.setActiveOutputArea(window[\"8bbe1446-bac4-11ee-a17a-0242ac1c000c\"]);\n",
              "//# sourceURL=js_170e4c938b"
            ]
          },
          "metadata": {}
        },
        {
          "output_type": "display_data",
          "data": {
            "text/plain": [
              "<IPython.core.display.Javascript object>"
            ],
            "application/javascript": [
              "window[\"8bbe9560-bac4-11ee-a17a-0242ac1c000c\"] = window[\"id6\"].setSelectedTabIndex(5);\n",
              "//# sourceURL=js_56cf3c3fb2"
            ]
          },
          "metadata": {}
        },
        {
          "output_type": "stream",
          "name": "stdout",
          "text": [
            "------------------------------------------------------\n",
            "Epoch  train_loss  train_accu   valid_loss  valid_accu\n",
            "   57: 0.01768859  99.40257353%  0.45656132  93.40000000%\n",
            "(valid)recall      precision    F1\n",
            "       0.44224422  0.58515284   0.50375940\n",
            "       TP_v=402  FP_v=285  FN_v=507  TN_v=10806\n",
            "(train)recall      precision    F1\n",
            "       0.99169550  0.98736794   0.98952699\n",
            "       TP_t=4299  FP_t=55  FN_t=36  TN_t=10842\n",
            "------------------------------------------------------\n"
          ]
        },
        {
          "output_type": "display_data",
          "data": {
            "text/plain": [
              "<IPython.core.display.Javascript object>"
            ],
            "application/javascript": [
              "window[\"8bbfe474-bac4-11ee-a17a-0242ac1c000c\"] = google.colab.output.setActiveOutputArea(window[\"8bbdc27a-bac4-11ee-a17a-0242ac1c000c\"]);\n",
              "//# sourceURL=js_f4a4768523"
            ]
          },
          "metadata": {}
        },
        {
          "output_type": "stream",
          "name": "stdout",
          "text": [
            "model will be saved as /content/drive/.shortcut-targets-by-id/1sDWsPGsIDappaJPbkJswWmLhx1q6LRdv/AOCR2024/params/effi_b0_testintrain/efficientnet_b0_57\n"
          ]
        },
        {
          "output_type": "display_data",
          "data": {
            "text/plain": [
              "<IPython.core.display.Javascript object>"
            ],
            "application/javascript": [
              "window[\"9ccb7260-bac4-11ee-a17a-0242ac1c000c\"] = google.colab.output.getActiveOutputArea();\n",
              "//# sourceURL=js_b1b941632d"
            ]
          },
          "metadata": {}
        },
        {
          "output_type": "display_data",
          "data": {
            "text/plain": [
              "<IPython.core.display.Javascript object>"
            ],
            "application/javascript": [
              "window[\"9ccbb900-bac4-11ee-a17a-0242ac1c000c\"] = document.querySelector(\"#id6_content_5\");\n",
              "//# sourceURL=js_7513220e23"
            ]
          },
          "metadata": {}
        },
        {
          "output_type": "display_data",
          "data": {
            "text/plain": [
              "<IPython.core.display.Javascript object>"
            ],
            "application/javascript": [
              "window[\"9ccc027a-bac4-11ee-a17a-0242ac1c000c\"] = google.colab.output.setActiveOutputArea(window[\"9ccbb900-bac4-11ee-a17a-0242ac1c000c\"]);\n",
              "//# sourceURL=js_987feff961"
            ]
          },
          "metadata": {}
        },
        {
          "output_type": "display_data",
          "data": {
            "text/plain": [
              "<IPython.core.display.Javascript object>"
            ],
            "application/javascript": [
              "window[\"9ccc41e0-bac4-11ee-a17a-0242ac1c000c\"] = window[\"id6\"].setSelectedTabIndex(5);\n",
              "//# sourceURL=js_dab66ce5f2"
            ]
          },
          "metadata": {}
        },
        {
          "output_type": "stream",
          "name": "stdout",
          "text": [
            "------------------------------------------------------\n",
            "Epoch  train_loss  train_accu   valid_loss  valid_accu\n",
            "   58: 0.02044708  99.33035714%  0.47057702  93.01666667%\n",
            "(valid)recall      precision    F1\n",
            "       0.36963696  0.55906822   0.44503311\n",
            "       TP_v=336  FP_v=265  FN_v=573  TN_v=10826\n",
            "(train)recall      precision    F1\n",
            "       0.98985474  0.98666973   0.98825967\n",
            "       TP_t=4293  FP_t=58  FN_t=44  TN_t=10837\n",
            "------------------------------------------------------\n"
          ]
        },
        {
          "output_type": "display_data",
          "data": {
            "text/plain": [
              "<IPython.core.display.Javascript object>"
            ],
            "application/javascript": [
              "window[\"9ccd9752-bac4-11ee-a17a-0242ac1c000c\"] = google.colab.output.setActiveOutputArea(window[\"9ccb7260-bac4-11ee-a17a-0242ac1c000c\"]);\n",
              "//# sourceURL=js_fb99e3f777"
            ]
          },
          "metadata": {}
        },
        {
          "output_type": "stream",
          "name": "stdout",
          "text": [
            "model will be saved as /content/drive/.shortcut-targets-by-id/1sDWsPGsIDappaJPbkJswWmLhx1q6LRdv/AOCR2024/params/effi_b0_testintrain/efficientnet_b0_58\n"
          ]
        },
        {
          "output_type": "display_data",
          "data": {
            "text/plain": [
              "<IPython.core.display.Javascript object>"
            ],
            "application/javascript": [
              "window[\"ae1419d2-bac4-11ee-a17a-0242ac1c000c\"] = google.colab.output.getActiveOutputArea();\n",
              "//# sourceURL=js_0b0f415438"
            ]
          },
          "metadata": {}
        },
        {
          "output_type": "display_data",
          "data": {
            "text/plain": [
              "<IPython.core.display.Javascript object>"
            ],
            "application/javascript": [
              "window[\"ae1459ce-bac4-11ee-a17a-0242ac1c000c\"] = document.querySelector(\"#id6_content_5\");\n",
              "//# sourceURL=js_e8531d915d"
            ]
          },
          "metadata": {}
        },
        {
          "output_type": "display_data",
          "data": {
            "text/plain": [
              "<IPython.core.display.Javascript object>"
            ],
            "application/javascript": [
              "window[\"ae14942a-bac4-11ee-a17a-0242ac1c000c\"] = google.colab.output.setActiveOutputArea(window[\"ae1459ce-bac4-11ee-a17a-0242ac1c000c\"]);\n",
              "//# sourceURL=js_a9af9f609b"
            ]
          },
          "metadata": {}
        },
        {
          "output_type": "display_data",
          "data": {
            "text/plain": [
              "<IPython.core.display.Javascript object>"
            ],
            "application/javascript": [
              "window[\"ae14d2be-bac4-11ee-a17a-0242ac1c000c\"] = window[\"id6\"].setSelectedTabIndex(5);\n",
              "//# sourceURL=js_e32dd366ca"
            ]
          },
          "metadata": {}
        },
        {
          "output_type": "stream",
          "name": "stdout",
          "text": [
            "------------------------------------------------------\n",
            "Epoch  train_loss  train_accu   valid_loss  valid_accu\n",
            "   59: 0.01831816  99.31722689%  0.39811362  92.83333333%\n",
            "(valid)recall      precision    F1\n",
            "       0.50275028  0.52832370   0.51521984\n",
            "       TP_v=457  FP_v=408  FN_v=452  TN_v=10683\n",
            "(train)recall      precision    F1\n",
            "       0.99008303  0.98598989   0.98803222\n",
            "       TP_t=4293  FP_t=61  FN_t=43  TN_t=10835\n",
            "------------------------------------------------------\n"
          ]
        },
        {
          "output_type": "display_data",
          "data": {
            "text/plain": [
              "<IPython.core.display.Javascript object>"
            ],
            "application/javascript": [
              "window[\"ae162858-bac4-11ee-a17a-0242ac1c000c\"] = google.colab.output.setActiveOutputArea(window[\"ae1419d2-bac4-11ee-a17a-0242ac1c000c\"]);\n",
              "//# sourceURL=js_6421fea997"
            ]
          },
          "metadata": {}
        },
        {
          "output_type": "stream",
          "name": "stdout",
          "text": [
            "model will be saved as /content/drive/.shortcut-targets-by-id/1sDWsPGsIDappaJPbkJswWmLhx1q6LRdv/AOCR2024/params/effi_b0_testintrain/efficientnet_b0_59\n"
          ]
        },
        {
          "output_type": "display_data",
          "data": {
            "text/plain": [
              "<IPython.core.display.Javascript object>"
            ],
            "application/javascript": [
              "window[\"bf7c3510-bac4-11ee-a17a-0242ac1c000c\"] = google.colab.output.getActiveOutputArea();\n",
              "//# sourceURL=js_d47d30d64f"
            ]
          },
          "metadata": {}
        },
        {
          "output_type": "display_data",
          "data": {
            "text/plain": [
              "<IPython.core.display.Javascript object>"
            ],
            "application/javascript": [
              "window[\"bf7c9136-bac4-11ee-a17a-0242ac1c000c\"] = document.querySelector(\"#id6_content_6\");\n",
              "//# sourceURL=js_8ab66ab684"
            ]
          },
          "metadata": {}
        },
        {
          "output_type": "display_data",
          "data": {
            "text/plain": [
              "<IPython.core.display.Javascript object>"
            ],
            "application/javascript": [
              "window[\"bf7cceee-bac4-11ee-a17a-0242ac1c000c\"] = google.colab.output.setActiveOutputArea(window[\"bf7c9136-bac4-11ee-a17a-0242ac1c000c\"]);\n",
              "//# sourceURL=js_8a138c65a4"
            ]
          },
          "metadata": {}
        },
        {
          "output_type": "display_data",
          "data": {
            "text/plain": [
              "<IPython.core.display.Javascript object>"
            ],
            "application/javascript": [
              "window[\"bf7d0b0c-bac4-11ee-a17a-0242ac1c000c\"] = window[\"id6\"].setSelectedTabIndex(6);\n",
              "//# sourceURL=js_3b5d7c2392"
            ]
          },
          "metadata": {}
        },
        {
          "output_type": "stream",
          "name": "stdout",
          "text": [
            "------------------------------------------------------\n",
            "Epoch  train_loss  train_accu   valid_loss  valid_accu\n",
            "   60: 0.02316493  99.21218487%  0.37459773  93.30833333%\n",
            "(valid)recall      precision    F1\n",
            "       0.43344334  0.57771261   0.49528598\n",
            "       TP_v=394  FP_v=288  FN_v=515  TN_v=10803\n",
            "(train)recall      precision    F1\n",
            "       0.98803497  0.98441082   0.98621957\n",
            "       TP_t=4294  FP_t=68  FN_t=52  TN_t=10818\n",
            "------------------------------------------------------\n"
          ]
        },
        {
          "output_type": "display_data",
          "data": {
            "text/plain": [
              "<IPython.core.display.Javascript object>"
            ],
            "application/javascript": [
              "window[\"bf7e6402-bac4-11ee-a17a-0242ac1c000c\"] = google.colab.output.setActiveOutputArea(window[\"bf7c3510-bac4-11ee-a17a-0242ac1c000c\"]);\n",
              "//# sourceURL=js_6669effe6e"
            ]
          },
          "metadata": {}
        },
        {
          "output_type": "stream",
          "name": "stdout",
          "text": [
            "model will be saved as /content/drive/.shortcut-targets-by-id/1sDWsPGsIDappaJPbkJswWmLhx1q6LRdv/AOCR2024/params/effi_b0_testintrain/efficientnet_b0_60\n"
          ]
        },
        {
          "output_type": "display_data",
          "data": {
            "text/plain": [
              "<IPython.core.display.Javascript object>"
            ],
            "application/javascript": [
              "window[\"d094c3b2-bac4-11ee-a17a-0242ac1c000c\"] = google.colab.output.getActiveOutputArea();\n",
              "//# sourceURL=js_c3ff1f2745"
            ]
          },
          "metadata": {}
        },
        {
          "output_type": "display_data",
          "data": {
            "text/plain": [
              "<IPython.core.display.Javascript object>"
            ],
            "application/javascript": [
              "window[\"d09501ec-bac4-11ee-a17a-0242ac1c000c\"] = document.querySelector(\"#id6_content_6\");\n",
              "//# sourceURL=js_975c9083f9"
            ]
          },
          "metadata": {}
        },
        {
          "output_type": "display_data",
          "data": {
            "text/plain": [
              "<IPython.core.display.Javascript object>"
            ],
            "application/javascript": [
              "window[\"d095502a-bac4-11ee-a17a-0242ac1c000c\"] = google.colab.output.setActiveOutputArea(window[\"d09501ec-bac4-11ee-a17a-0242ac1c000c\"]);\n",
              "//# sourceURL=js_b2f0effd9c"
            ]
          },
          "metadata": {}
        },
        {
          "output_type": "display_data",
          "data": {
            "text/plain": [
              "<IPython.core.display.Javascript object>"
            ],
            "application/javascript": [
              "window[\"d0959044-bac4-11ee-a17a-0242ac1c000c\"] = window[\"id6\"].setSelectedTabIndex(6);\n",
              "//# sourceURL=js_5bebbf7257"
            ]
          },
          "metadata": {}
        },
        {
          "output_type": "stream",
          "name": "stdout",
          "text": [
            "------------------------------------------------------\n",
            "Epoch  train_loss  train_accu   valid_loss  valid_accu\n",
            "   61: 0.02229867  99.23188025%  0.49647067  93.19166667%\n",
            "(valid)recall      precision    F1\n",
            "       0.29592959  0.60313901   0.39704797\n",
            "       TP_v=269  FP_v=177  FN_v=640  TN_v=10914\n",
            "(train)recall      precision    F1\n",
            "       0.98939114  0.98371933   0.98654709\n",
            "       TP_t=4290  FP_t=71  FN_t=46  TN_t=10825\n",
            "------------------------------------------------------\n"
          ]
        },
        {
          "output_type": "display_data",
          "data": {
            "text/plain": [
              "<IPython.core.display.Javascript object>"
            ],
            "application/javascript": [
              "window[\"d09740b0-bac4-11ee-a17a-0242ac1c000c\"] = google.colab.output.setActiveOutputArea(window[\"d094c3b2-bac4-11ee-a17a-0242ac1c000c\"]);\n",
              "//# sourceURL=js_10ca1c7fa5"
            ]
          },
          "metadata": {}
        },
        {
          "output_type": "stream",
          "name": "stdout",
          "text": [
            "model will be saved as /content/drive/.shortcut-targets-by-id/1sDWsPGsIDappaJPbkJswWmLhx1q6LRdv/AOCR2024/params/effi_b0_testintrain/efficientnet_b0_61\n"
          ]
        },
        {
          "output_type": "display_data",
          "data": {
            "text/plain": [
              "<IPython.core.display.Javascript object>"
            ],
            "application/javascript": [
              "window[\"e1e7d1fe-bac4-11ee-a17a-0242ac1c000c\"] = google.colab.output.getActiveOutputArea();\n",
              "//# sourceURL=js_fc759f22bb"
            ]
          },
          "metadata": {}
        },
        {
          "output_type": "display_data",
          "data": {
            "text/plain": [
              "<IPython.core.display.Javascript object>"
            ],
            "application/javascript": [
              "window[\"e1e80a20-bac4-11ee-a17a-0242ac1c000c\"] = document.querySelector(\"#id6_content_6\");\n",
              "//# sourceURL=js_d4c030fd70"
            ]
          },
          "metadata": {}
        },
        {
          "output_type": "display_data",
          "data": {
            "text/plain": [
              "<IPython.core.display.Javascript object>"
            ],
            "application/javascript": [
              "window[\"e1e84364-bac4-11ee-a17a-0242ac1c000c\"] = google.colab.output.setActiveOutputArea(window[\"e1e80a20-bac4-11ee-a17a-0242ac1c000c\"]);\n",
              "//# sourceURL=js_ccc7bb7a86"
            ]
          },
          "metadata": {}
        },
        {
          "output_type": "display_data",
          "data": {
            "text/plain": [
              "<IPython.core.display.Javascript object>"
            ],
            "application/javascript": [
              "window[\"e1e8780c-bac4-11ee-a17a-0242ac1c000c\"] = window[\"id6\"].setSelectedTabIndex(6);\n",
              "//# sourceURL=js_c7e9442b2b"
            ]
          },
          "metadata": {}
        },
        {
          "output_type": "stream",
          "name": "stdout",
          "text": [
            "------------------------------------------------------\n",
            "Epoch  train_loss  train_accu   valid_loss  valid_accu\n",
            "   62: 0.01764331  99.48135504%  0.44353332  93.42500000%\n",
            "(valid)recall      precision    F1\n",
            "       0.40484048  0.59740260   0.48262295\n",
            "       TP_v=368  FP_v=248  FN_v=541  TN_v=10843\n",
            "(train)recall      precision    F1\n",
            "       0.99215867  0.98964803   0.99090176\n",
            "       TP_t=4302  FP_t=45  FN_t=34  TN_t=10851\n",
            "------------------------------------------------------\n"
          ]
        },
        {
          "output_type": "display_data",
          "data": {
            "text/plain": [
              "<IPython.core.display.Javascript object>"
            ],
            "application/javascript": [
              "window[\"e1e9ba64-bac4-11ee-a17a-0242ac1c000c\"] = google.colab.output.setActiveOutputArea(window[\"e1e7d1fe-bac4-11ee-a17a-0242ac1c000c\"]);\n",
              "//# sourceURL=js_52137ea4c2"
            ]
          },
          "metadata": {}
        },
        {
          "output_type": "stream",
          "name": "stdout",
          "text": [
            "model will be saved as /content/drive/.shortcut-targets-by-id/1sDWsPGsIDappaJPbkJswWmLhx1q6LRdv/AOCR2024/params/effi_b0_testintrain/efficientnet_b0_62\n"
          ]
        },
        {
          "output_type": "display_data",
          "data": {
            "text/plain": [
              "<IPython.core.display.Javascript object>"
            ],
            "application/javascript": [
              "window[\"f2ff33c4-bac4-11ee-a17a-0242ac1c000c\"] = google.colab.output.getActiveOutputArea();\n",
              "//# sourceURL=js_5840742c38"
            ]
          },
          "metadata": {}
        },
        {
          "output_type": "display_data",
          "data": {
            "text/plain": [
              "<IPython.core.display.Javascript object>"
            ],
            "application/javascript": [
              "window[\"f2ff7604-bac4-11ee-a17a-0242ac1c000c\"] = document.querySelector(\"#id6_content_6\");\n",
              "//# sourceURL=js_6c99defaad"
            ]
          },
          "metadata": {}
        },
        {
          "output_type": "display_data",
          "data": {
            "text/plain": [
              "<IPython.core.display.Javascript object>"
            ],
            "application/javascript": [
              "window[\"f2ffbd30-bac4-11ee-a17a-0242ac1c000c\"] = google.colab.output.setActiveOutputArea(window[\"f2ff7604-bac4-11ee-a17a-0242ac1c000c\"]);\n",
              "//# sourceURL=js_5b41785d7d"
            ]
          },
          "metadata": {}
        },
        {
          "output_type": "display_data",
          "data": {
            "text/plain": [
              "<IPython.core.display.Javascript object>"
            ],
            "application/javascript": [
              "window[\"f30005ba-bac4-11ee-a17a-0242ac1c000c\"] = window[\"id6\"].setSelectedTabIndex(6);\n",
              "//# sourceURL=js_5f8cffbc83"
            ]
          },
          "metadata": {}
        },
        {
          "output_type": "stream",
          "name": "stdout",
          "text": [
            "------------------------------------------------------\n",
            "Epoch  train_loss  train_accu   valid_loss  valid_accu\n",
            "   63: 0.01697340  99.38944328%  0.47416347  93.23333333%\n",
            "(valid)recall      precision    F1\n",
            "       0.51595160  0.55766944   0.53600000\n",
            "       TP_v=469  FP_v=372  FN_v=440  TN_v=10719\n",
            "(train)recall      precision    F1\n",
            "       0.99031812  0.98826777   0.98929188\n",
            "       TP_t=4296  FP_t=51  FN_t=42  TN_t=10843\n",
            "------------------------------------------------------\n"
          ]
        },
        {
          "output_type": "display_data",
          "data": {
            "text/plain": [
              "<IPython.core.display.Javascript object>"
            ],
            "application/javascript": [
              "window[\"f3015a64-bac4-11ee-a17a-0242ac1c000c\"] = google.colab.output.setActiveOutputArea(window[\"f2ff33c4-bac4-11ee-a17a-0242ac1c000c\"]);\n",
              "//# sourceURL=js_3aad0eb6d3"
            ]
          },
          "metadata": {}
        },
        {
          "output_type": "stream",
          "name": "stdout",
          "text": [
            "model will be saved as /content/drive/.shortcut-targets-by-id/1sDWsPGsIDappaJPbkJswWmLhx1q6LRdv/AOCR2024/params/effi_b0_testintrain/efficientnet_b0_63\n"
          ]
        },
        {
          "output_type": "display_data",
          "data": {
            "text/plain": [
              "<IPython.core.display.Javascript object>"
            ],
            "application/javascript": [
              "window[\"044ef772-bac5-11ee-a17a-0242ac1c000c\"] = google.colab.output.getActiveOutputArea();\n",
              "//# sourceURL=js_3786f140db"
            ]
          },
          "metadata": {}
        },
        {
          "output_type": "display_data",
          "data": {
            "text/plain": [
              "<IPython.core.display.Javascript object>"
            ],
            "application/javascript": [
              "window[\"044f3e8a-bac5-11ee-a17a-0242ac1c000c\"] = document.querySelector(\"#id6_content_6\");\n",
              "//# sourceURL=js_83abc3482f"
            ]
          },
          "metadata": {}
        },
        {
          "output_type": "display_data",
          "data": {
            "text/plain": [
              "<IPython.core.display.Javascript object>"
            ],
            "application/javascript": [
              "window[\"044f8a2a-bac5-11ee-a17a-0242ac1c000c\"] = google.colab.output.setActiveOutputArea(window[\"044f3e8a-bac5-11ee-a17a-0242ac1c000c\"]);\n",
              "//# sourceURL=js_2f748e8864"
            ]
          },
          "metadata": {}
        },
        {
          "output_type": "display_data",
          "data": {
            "text/plain": [
              "<IPython.core.display.Javascript object>"
            ],
            "application/javascript": [
              "window[\"044fcc6a-bac5-11ee-a17a-0242ac1c000c\"] = window[\"id6\"].setSelectedTabIndex(6);\n",
              "//# sourceURL=js_50c4fa94de"
            ]
          },
          "metadata": {}
        },
        {
          "output_type": "stream",
          "name": "stdout",
          "text": [
            "------------------------------------------------------\n",
            "Epoch  train_loss  train_accu   valid_loss  valid_accu\n",
            "   64: 0.01857601  99.37631303%  0.49078976  93.61666667%\n",
            "(valid)recall      precision    F1\n",
            "       0.36413641  0.63776493   0.46358543\n",
            "       TP_v=331  FP_v=188  FN_v=578  TN_v=10903\n",
            "(train)recall      precision    F1\n",
            "       0.99077916  0.98736504   0.98906915\n",
            "       TP_t=4298  FP_t=55  FN_t=40  TN_t=10839\n",
            "------------------------------------------------------\n"
          ]
        },
        {
          "output_type": "display_data",
          "data": {
            "text/plain": [
              "<IPython.core.display.Javascript object>"
            ],
            "application/javascript": [
              "window[\"0451ac88-bac5-11ee-a17a-0242ac1c000c\"] = google.colab.output.setActiveOutputArea(window[\"044ef772-bac5-11ee-a17a-0242ac1c000c\"]);\n",
              "//# sourceURL=js_74b243689d"
            ]
          },
          "metadata": {}
        },
        {
          "output_type": "stream",
          "name": "stdout",
          "text": [
            "model will be saved as /content/drive/.shortcut-targets-by-id/1sDWsPGsIDappaJPbkJswWmLhx1q6LRdv/AOCR2024/params/effi_b0_testintrain/efficientnet_b0_64\n"
          ]
        },
        {
          "output_type": "display_data",
          "data": {
            "text/plain": [
              "<IPython.core.display.Javascript object>"
            ],
            "application/javascript": [
              "window[\"15a3d722-bac5-11ee-a17a-0242ac1c000c\"] = google.colab.output.getActiveOutputArea();\n",
              "//# sourceURL=js_2b2a51c922"
            ]
          },
          "metadata": {}
        },
        {
          "output_type": "display_data",
          "data": {
            "text/plain": [
              "<IPython.core.display.Javascript object>"
            ],
            "application/javascript": [
              "window[\"15a41da4-bac5-11ee-a17a-0242ac1c000c\"] = document.querySelector(\"#id6_content_6\");\n",
              "//# sourceURL=js_c97f3b3f9b"
            ]
          },
          "metadata": {}
        },
        {
          "output_type": "display_data",
          "data": {
            "text/plain": [
              "<IPython.core.display.Javascript object>"
            ],
            "application/javascript": [
              "window[\"15a45f94-bac5-11ee-a17a-0242ac1c000c\"] = google.colab.output.setActiveOutputArea(window[\"15a41da4-bac5-11ee-a17a-0242ac1c000c\"]);\n",
              "//# sourceURL=js_11e637d52f"
            ]
          },
          "metadata": {}
        },
        {
          "output_type": "display_data",
          "data": {
            "text/plain": [
              "<IPython.core.display.Javascript object>"
            ],
            "application/javascript": [
              "window[\"15a49f5e-bac5-11ee-a17a-0242ac1c000c\"] = window[\"id6\"].setSelectedTabIndex(6);\n",
              "//# sourceURL=js_6931b3d067"
            ]
          },
          "metadata": {}
        },
        {
          "output_type": "stream",
          "name": "stdout",
          "text": [
            "------------------------------------------------------\n",
            "Epoch  train_loss  train_accu   valid_loss  valid_accu\n",
            "   65: 0.01488338  99.44852941%  0.50664458  93.20000000%\n",
            "(valid)recall      precision    F1\n",
            "       0.39603960  0.57416268   0.46875000\n",
            "       TP_v=360  FP_v=267  FN_v=549  TN_v=10824\n",
            "(train)recall      precision    F1\n",
            "       0.99192804  0.98873563   0.99032927\n",
            "       TP_t=4301  FP_t=49  FN_t=35  TN_t=10847\n",
            "------------------------------------------------------\n"
          ]
        },
        {
          "output_type": "display_data",
          "data": {
            "text/plain": [
              "<IPython.core.display.Javascript object>"
            ],
            "application/javascript": [
              "window[\"15a6132a-bac5-11ee-a17a-0242ac1c000c\"] = google.colab.output.setActiveOutputArea(window[\"15a3d722-bac5-11ee-a17a-0242ac1c000c\"]);\n",
              "//# sourceURL=js_3892bc8939"
            ]
          },
          "metadata": {}
        },
        {
          "output_type": "stream",
          "name": "stdout",
          "text": [
            "model will be saved as /content/drive/.shortcut-targets-by-id/1sDWsPGsIDappaJPbkJswWmLhx1q6LRdv/AOCR2024/params/effi_b0_testintrain/efficientnet_b0_65\n"
          ]
        },
        {
          "output_type": "display_data",
          "data": {
            "text/plain": [
              "<IPython.core.display.Javascript object>"
            ],
            "application/javascript": [
              "window[\"26c51a98-bac5-11ee-a17a-0242ac1c000c\"] = google.colab.output.getActiveOutputArea();\n",
              "//# sourceURL=js_cdbdb8bf29"
            ]
          },
          "metadata": {}
        },
        {
          "output_type": "display_data",
          "data": {
            "text/plain": [
              "<IPython.core.display.Javascript object>"
            ],
            "application/javascript": [
              "window[\"26c57006-bac5-11ee-a17a-0242ac1c000c\"] = document.querySelector(\"#id6_content_6\");\n",
              "//# sourceURL=js_01f2799491"
            ]
          },
          "metadata": {}
        },
        {
          "output_type": "display_data",
          "data": {
            "text/plain": [
              "<IPython.core.display.Javascript object>"
            ],
            "application/javascript": [
              "window[\"26c5b84a-bac5-11ee-a17a-0242ac1c000c\"] = google.colab.output.setActiveOutputArea(window[\"26c57006-bac5-11ee-a17a-0242ac1c000c\"]);\n",
              "//# sourceURL=js_dd7f2ee947"
            ]
          },
          "metadata": {}
        },
        {
          "output_type": "display_data",
          "data": {
            "text/plain": [
              "<IPython.core.display.Javascript object>"
            ],
            "application/javascript": [
              "window[\"26c5f8a0-bac5-11ee-a17a-0242ac1c000c\"] = window[\"id6\"].setSelectedTabIndex(6);\n",
              "//# sourceURL=js_88e51c3b33"
            ]
          },
          "metadata": {}
        },
        {
          "output_type": "stream",
          "name": "stdout",
          "text": [
            "------------------------------------------------------\n",
            "Epoch  train_loss  train_accu   valid_loss  valid_accu\n",
            "   66: 0.02152088  99.28440126%  0.59971901  92.52500000%\n",
            "(valid)recall      precision    F1\n",
            "       0.30363036  0.51111111   0.38095238\n",
            "       TP_v=276  FP_v=264  FN_v=633  TN_v=10827\n",
            "(train)recall      precision    F1\n",
            "       0.99008531  0.98486239   0.98746694\n",
            "       TP_t=4294  FP_t=66  FN_t=43  TN_t=10829\n",
            "------------------------------------------------------\n"
          ]
        },
        {
          "output_type": "display_data",
          "data": {
            "text/plain": [
              "<IPython.core.display.Javascript object>"
            ],
            "application/javascript": [
              "window[\"26c775b8-bac5-11ee-a17a-0242ac1c000c\"] = google.colab.output.setActiveOutputArea(window[\"26c51a98-bac5-11ee-a17a-0242ac1c000c\"]);\n",
              "//# sourceURL=js_9b5293a4c2"
            ]
          },
          "metadata": {}
        },
        {
          "output_type": "stream",
          "name": "stdout",
          "text": [
            "model will be saved as /content/drive/.shortcut-targets-by-id/1sDWsPGsIDappaJPbkJswWmLhx1q6LRdv/AOCR2024/params/effi_b0_testintrain/efficientnet_b0_66\n"
          ]
        },
        {
          "output_type": "display_data",
          "data": {
            "text/plain": [
              "<IPython.core.display.Javascript object>"
            ],
            "application/javascript": [
              "window[\"3800ec24-bac5-11ee-a17a-0242ac1c000c\"] = google.colab.output.getActiveOutputArea();\n",
              "//# sourceURL=js_244a5fd9ee"
            ]
          },
          "metadata": {}
        },
        {
          "output_type": "display_data",
          "data": {
            "text/plain": [
              "<IPython.core.display.Javascript object>"
            ],
            "application/javascript": [
              "window[\"3801362a-bac5-11ee-a17a-0242ac1c000c\"] = document.querySelector(\"#id6_content_6\");\n",
              "//# sourceURL=js_42873e094e"
            ]
          },
          "metadata": {}
        },
        {
          "output_type": "display_data",
          "data": {
            "text/plain": [
              "<IPython.core.display.Javascript object>"
            ],
            "application/javascript": [
              "window[\"380181e8-bac5-11ee-a17a-0242ac1c000c\"] = google.colab.output.setActiveOutputArea(window[\"3801362a-bac5-11ee-a17a-0242ac1c000c\"]);\n",
              "//# sourceURL=js_49e0f497c2"
            ]
          },
          "metadata": {}
        },
        {
          "output_type": "display_data",
          "data": {
            "text/plain": [
              "<IPython.core.display.Javascript object>"
            ],
            "application/javascript": [
              "window[\"3801c63a-bac5-11ee-a17a-0242ac1c000c\"] = window[\"id6\"].setSelectedTabIndex(6);\n",
              "//# sourceURL=js_147911efb6"
            ]
          },
          "metadata": {}
        },
        {
          "output_type": "stream",
          "name": "stdout",
          "text": [
            "------------------------------------------------------\n",
            "Epoch  train_loss  train_accu   valid_loss  valid_accu\n",
            "   67: 0.01545856  99.44196429%  0.44330149  93.04166667%\n",
            "(valid)recall      precision    F1\n",
            "       0.41584158  0.55425220   0.47517285\n",
            "       TP_v=378  FP_v=304  FN_v=531  TN_v=10787\n",
            "(train)recall      precision    F1\n",
            "       0.99124020  0.98918795   0.99021301\n",
            "       TP_t=4300  FP_t=47  FN_t=38  TN_t=10847\n",
            "------------------------------------------------------\n"
          ]
        },
        {
          "output_type": "display_data",
          "data": {
            "text/plain": [
              "<IPython.core.display.Javascript object>"
            ],
            "application/javascript": [
              "window[\"38034c9e-bac5-11ee-a17a-0242ac1c000c\"] = google.colab.output.setActiveOutputArea(window[\"3800ec24-bac5-11ee-a17a-0242ac1c000c\"]);\n",
              "//# sourceURL=js_b9f0243e17"
            ]
          },
          "metadata": {}
        },
        {
          "output_type": "stream",
          "name": "stdout",
          "text": [
            "model will be saved as /content/drive/.shortcut-targets-by-id/1sDWsPGsIDappaJPbkJswWmLhx1q6LRdv/AOCR2024/params/effi_b0_testintrain/efficientnet_b0_67\n"
          ]
        },
        {
          "output_type": "display_data",
          "data": {
            "text/plain": [
              "<IPython.core.display.Javascript object>"
            ],
            "application/javascript": [
              "window[\"491f9f50-bac5-11ee-a17a-0242ac1c000c\"] = google.colab.output.getActiveOutputArea();\n",
              "//# sourceURL=js_f3e2672471"
            ]
          },
          "metadata": {}
        },
        {
          "output_type": "display_data",
          "data": {
            "text/plain": [
              "<IPython.core.display.Javascript object>"
            ],
            "application/javascript": [
              "window[\"491feadc-bac5-11ee-a17a-0242ac1c000c\"] = document.querySelector(\"#id6_content_6\");\n",
              "//# sourceURL=js_caba08ab48"
            ]
          },
          "metadata": {}
        },
        {
          "output_type": "display_data",
          "data": {
            "text/plain": [
              "<IPython.core.display.Javascript object>"
            ],
            "application/javascript": [
              "window[\"4920288a-bac5-11ee-a17a-0242ac1c000c\"] = google.colab.output.setActiveOutputArea(window[\"491feadc-bac5-11ee-a17a-0242ac1c000c\"]);\n",
              "//# sourceURL=js_0bc69a2bd5"
            ]
          },
          "metadata": {}
        },
        {
          "output_type": "display_data",
          "data": {
            "text/plain": [
              "<IPython.core.display.Javascript object>"
            ],
            "application/javascript": [
              "window[\"49206a98-bac5-11ee-a17a-0242ac1c000c\"] = window[\"id6\"].setSelectedTabIndex(6);\n",
              "//# sourceURL=js_05ce0d6c87"
            ]
          },
          "metadata": {}
        },
        {
          "output_type": "stream",
          "name": "stdout",
          "text": [
            "------------------------------------------------------\n",
            "Epoch  train_loss  train_accu   valid_loss  valid_accu\n",
            "   68: 0.01968234  99.26470588%  0.48373514  93.61666667%\n",
            "(valid)recall      precision    F1\n",
            "       0.43674367  0.60983103   0.50897436\n",
            "       TP_v=397  FP_v=254  FN_v=512  TN_v=10837\n",
            "(train)recall      precision    F1\n",
            "       0.98938135  0.98483456   0.98710272\n",
            "       TP_t=4286  FP_t=66  FN_t=46  TN_t=10834\n",
            "------------------------------------------------------\n"
          ]
        },
        {
          "output_type": "display_data",
          "data": {
            "text/plain": [
              "<IPython.core.display.Javascript object>"
            ],
            "application/javascript": [
              "window[\"4921c9b0-bac5-11ee-a17a-0242ac1c000c\"] = google.colab.output.setActiveOutputArea(window[\"491f9f50-bac5-11ee-a17a-0242ac1c000c\"]);\n",
              "//# sourceURL=js_9ee2488eba"
            ]
          },
          "metadata": {}
        },
        {
          "output_type": "stream",
          "name": "stdout",
          "text": [
            "model will be saved as /content/drive/.shortcut-targets-by-id/1sDWsPGsIDappaJPbkJswWmLhx1q6LRdv/AOCR2024/params/effi_b0_testintrain/efficientnet_b0_68\n"
          ]
        },
        {
          "output_type": "display_data",
          "data": {
            "text/plain": [
              "<IPython.core.display.Javascript object>"
            ],
            "application/javascript": [
              "window[\"5a61c770-bac5-11ee-a17a-0242ac1c000c\"] = google.colab.output.getActiveOutputArea();\n",
              "//# sourceURL=js_0b994f8c3a"
            ]
          },
          "metadata": {}
        },
        {
          "output_type": "display_data",
          "data": {
            "text/plain": [
              "<IPython.core.display.Javascript object>"
            ],
            "application/javascript": [
              "window[\"5a6211b2-bac5-11ee-a17a-0242ac1c000c\"] = document.querySelector(\"#id6_content_6\");\n",
              "//# sourceURL=js_a24a8d91d5"
            ]
          },
          "metadata": {}
        },
        {
          "output_type": "display_data",
          "data": {
            "text/plain": [
              "<IPython.core.display.Javascript object>"
            ],
            "application/javascript": [
              "window[\"5a625438-bac5-11ee-a17a-0242ac1c000c\"] = google.colab.output.setActiveOutputArea(window[\"5a6211b2-bac5-11ee-a17a-0242ac1c000c\"]);\n",
              "//# sourceURL=js_3d580174e0"
            ]
          },
          "metadata": {}
        },
        {
          "output_type": "display_data",
          "data": {
            "text/plain": [
              "<IPython.core.display.Javascript object>"
            ],
            "application/javascript": [
              "window[\"5a62911e-bac5-11ee-a17a-0242ac1c000c\"] = window[\"id6\"].setSelectedTabIndex(6);\n",
              "//# sourceURL=js_10574e01fa"
            ]
          },
          "metadata": {}
        },
        {
          "output_type": "stream",
          "name": "stdout",
          "text": [
            "------------------------------------------------------\n",
            "Epoch  train_loss  train_accu   valid_loss  valid_accu\n",
            "   69: 0.01637160  99.36974790%  0.39567346  93.04166667%\n",
            "(valid)recall      precision    F1\n",
            "       0.43894389  0.55110497   0.48867116\n",
            "       TP_v=399  FP_v=325  FN_v=510  TN_v=10766\n",
            "(train)recall      precision    F1\n",
            "       0.99030247  0.98756620   0.98893244\n",
            "       TP_t=4289  FP_t=54  FN_t=42  TN_t=10847\n",
            "------------------------------------------------------\n"
          ]
        },
        {
          "output_type": "display_data",
          "data": {
            "text/plain": [
              "<IPython.core.display.Javascript object>"
            ],
            "application/javascript": [
              "window[\"5a63f2fc-bac5-11ee-a17a-0242ac1c000c\"] = google.colab.output.setActiveOutputArea(window[\"5a61c770-bac5-11ee-a17a-0242ac1c000c\"]);\n",
              "//# sourceURL=js_0fb473f63e"
            ]
          },
          "metadata": {}
        },
        {
          "output_type": "stream",
          "name": "stdout",
          "text": [
            "model will be saved as /content/drive/.shortcut-targets-by-id/1sDWsPGsIDappaJPbkJswWmLhx1q6LRdv/AOCR2024/params/effi_b0_testintrain/efficientnet_b0_69\n"
          ]
        },
        {
          "output_type": "error",
          "ename": "KeyboardInterrupt",
          "evalue": "",
          "traceback": [
            "\u001b[0;31m---------------------------------------------------------------------------\u001b[0m",
            "\u001b[0;31mKeyboardInterrupt\u001b[0m                         Traceback (most recent call last)",
            "\u001b[0;32m<ipython-input-117-f2a244f4cc17>\u001b[0m in \u001b[0;36m<cell line: 14>\u001b[0;34m()\u001b[0m\n\u001b[1;32m     14\u001b[0m \u001b[0;32mfor\u001b[0m \u001b[0mepoch\u001b[0m \u001b[0;32min\u001b[0m \u001b[0mrange\u001b[0m\u001b[0;34m(\u001b[0m\u001b[0mstart\u001b[0m\u001b[0;34m,\u001b[0m \u001b[0mnum_epochs\u001b[0m\u001b[0;34m)\u001b[0m\u001b[0;34m:\u001b[0m\u001b[0;34m\u001b[0m\u001b[0;34m\u001b[0m\u001b[0m\n\u001b[1;32m     15\u001b[0m \u001b[0;34m\u001b[0m\u001b[0m\n\u001b[0;32m---> 16\u001b[0;31m     \u001b[0mepoch_loss\u001b[0m\u001b[0;34m,\u001b[0m \u001b[0mepoch_accuracy\u001b[0m\u001b[0;34m,\u001b[0m \u001b[0mpredict_list_train\u001b[0m\u001b[0;34m,\u001b[0m \u001b[0mlabels_train_display\u001b[0m \u001b[0;34m=\u001b[0m \u001b[0mtrain\u001b[0m\u001b[0;34m(\u001b[0m\u001b[0mtrain_loader\u001b[0m\u001b[0;34m,\u001b[0m \u001b[0mmodel\u001b[0m\u001b[0;34m,\u001b[0m \u001b[0moptimizer\u001b[0m\u001b[0;34m,\u001b[0m \u001b[0mcriterion\u001b[0m\u001b[0;34m,\u001b[0m \u001b[0;36m0.5\u001b[0m\u001b[0;34m,\u001b[0m \u001b[0mdevice\u001b[0m\u001b[0;34m)\u001b[0m\u001b[0;34m\u001b[0m\u001b[0;34m\u001b[0m\u001b[0m\n\u001b[0m\u001b[1;32m     17\u001b[0m     \u001b[0mvalid_loss\u001b[0m\u001b[0;34m,\u001b[0m \u001b[0mvalid_accuracy\u001b[0m\u001b[0;34m,\u001b[0m \u001b[0mpredict_list_valid\u001b[0m\u001b[0;34m,\u001b[0m \u001b[0mlabels_valid_display\u001b[0m \u001b[0;34m=\u001b[0m \u001b[0mvalid\u001b[0m\u001b[0;34m(\u001b[0m\u001b[0mvalid_loader\u001b[0m\u001b[0;34m,\u001b[0m \u001b[0mmodel\u001b[0m\u001b[0;34m,\u001b[0m \u001b[0mcriterion\u001b[0m\u001b[0;34m,\u001b[0m \u001b[0;36m0.5\u001b[0m\u001b[0;34m,\u001b[0m \u001b[0mdevice\u001b[0m\u001b[0;34m)\u001b[0m\u001b[0;34m\u001b[0m\u001b[0;34m\u001b[0m\u001b[0m\n\u001b[1;32m     18\u001b[0m     \u001b[0;31m# lr_scheduler.step()  # learning rate 調整\u001b[0m\u001b[0;34m\u001b[0m\u001b[0;34m\u001b[0m\u001b[0m\n",
            "\u001b[0;32m<ipython-input-82-731b47700088>\u001b[0m in \u001b[0;36mtrain\u001b[0;34m(loader, model_, optimizer, criterion, threshold, device)\u001b[0m\n\u001b[1;32m     17\u001b[0m       \u001b[0moptimizer\u001b[0m\u001b[0;34m.\u001b[0m\u001b[0mstep\u001b[0m\u001b[0;34m(\u001b[0m\u001b[0;34m)\u001b[0m\u001b[0;34m\u001b[0m\u001b[0;34m\u001b[0m\u001b[0m\n\u001b[1;32m     18\u001b[0m \u001b[0;34m\u001b[0m\u001b[0m\n\u001b[0;32m---> 19\u001b[0;31m       \u001b[0mrunning_loss\u001b[0m \u001b[0;34m+=\u001b[0m \u001b[0mloss\u001b[0m\u001b[0;34m.\u001b[0m\u001b[0mitem\u001b[0m\u001b[0;34m(\u001b[0m\u001b[0;34m)\u001b[0m\u001b[0;34m\u001b[0m\u001b[0;34m\u001b[0m\u001b[0m\n\u001b[0m\u001b[1;32m     20\u001b[0m       \u001b[0mtotal_count\u001b[0m \u001b[0;34m+=\u001b[0m \u001b[0mbatch_labels\u001b[0m\u001b[0;34m.\u001b[0m\u001b[0msize\u001b[0m\u001b[0;34m(\u001b[0m\u001b[0;36m0\u001b[0m\u001b[0;34m)\u001b[0m\u001b[0;34m\u001b[0m\u001b[0;34m\u001b[0m\u001b[0m\n\u001b[1;32m     21\u001b[0m       \u001b[0mcorrect_count\u001b[0m \u001b[0;34m+=\u001b[0m \u001b[0;34m(\u001b[0m\u001b[0mpredicted_t\u001b[0m \u001b[0;34m==\u001b[0m \u001b[0mbatch_labels\u001b[0m\u001b[0;34m)\u001b[0m\u001b[0;34m.\u001b[0m\u001b[0msum\u001b[0m\u001b[0;34m(\u001b[0m\u001b[0;34m)\u001b[0m\u001b[0;34m.\u001b[0m\u001b[0mitem\u001b[0m\u001b[0;34m(\u001b[0m\u001b[0;34m)\u001b[0m\u001b[0;34m\u001b[0m\u001b[0;34m\u001b[0m\u001b[0m\n",
            "\u001b[0;31mKeyboardInterrupt\u001b[0m: "
          ]
        }
      ]
    },
    {
      "cell_type": "code",
      "source": [
        "del images_train, labels_train, train_dataset , train_loader"
      ],
      "metadata": {
        "id": "sdHJB-5wwxJt"
      },
      "execution_count": null,
      "outputs": []
    },
    {
      "cell_type": "code",
      "source": [
        "import gc\n",
        "torch.cuda.empty_cache()\n",
        "gc.collect()"
      ],
      "metadata": {
        "id": "i7HKs1m8v7zd",
        "outputId": "e88569e2-4703-4f3c-949c-b26a4648f965",
        "colab": {
          "base_uri": "https://localhost:8080/"
        }
      },
      "execution_count": null,
      "outputs": [
        {
          "output_type": "execute_result",
          "data": {
            "text/plain": [
              "34"
            ]
          },
          "metadata": {},
          "execution_count": 114
        }
      ]
    },
    {
      "cell_type": "code",
      "source": [
        "savepath = save_model(model, f'{model_name}_{epoch}', dirname=modeldirname)"
      ],
      "metadata": {
        "id": "npIxjjyOiD-W",
        "colab": {
          "base_uri": "https://localhost:8080/"
        },
        "outputId": "fa57dc30-bd9d-402c-a926-5699052b455f"
      },
      "execution_count": null,
      "outputs": [
        {
          "output_type": "stream",
          "name": "stdout",
          "text": [
            "model will be saved as /content/drive/.shortcut-targets-by-id/1sDWsPGsIDappaJPbkJswWmLhx1q6LRdv/AOCR2024/params/tf_efficientnetv2_b0_ADAM_cosannealing/efficientnet_b0_94\n"
          ]
        }
      ]
    },
    {
      "cell_type": "markdown",
      "metadata": {
        "id": "rhLO9PaUESQh"
      },
      "source": [
        "### Loss圖"
      ]
    },
    {
      "cell_type": "code",
      "execution_count": null,
      "metadata": {
        "id": "uvRouRxFEXy2",
        "colab": {
          "base_uri": "https://localhost:8080/",
          "height": 607
        },
        "outputId": "818eafc6-96fe-4ae6-8da2-a03b2a0e81ea"
      },
      "outputs": [
        {
          "output_type": "display_data",
          "data": {
            "text/plain": [
              "<Figure size 1200x600 with 2 Axes>"
            ],
            "image/png": "[encoded data removed]"
          },
          "metadata": {}
        }
      ],
      "source": [
        "import matplotlib.pyplot as plt\n",
        "import json\n",
        "from matplotlib.ticker import MaxNLocator\n",
        "\n",
        "\n",
        "\n",
        "n_epochs = len(running_loss_list)\n",
        "fig, ax = plt.subplots(1, 2, figsize=(12, 6))\n",
        "\n",
        "ax[0].plot(np.arange(start, start+n_epochs,dtype=int), running_loss_list, label='Training Loss')\n",
        "ax[0].plot(np.arange(start, start+n_epochs,dtype=int), testing_loss_list, label='Testing Loss')\n",
        "ax[0].set_title('Loss compare')\n",
        "ax[0].set_xlabel('Epoch')\n",
        "ax[0].set_ylabel('Loss')\n",
        "ax[0].legend()\n",
        "ax[0].xaxis.set_major_locator(MaxNLocator(integer=True))  # 設置 X 軸只顯示整數\n",
        "\n",
        "ax[1].plot(np.arange(start, start+n_epochs,dtype=int), running_accu_list, label='Training Accuracy')\n",
        "ax[1].plot(np.arange(start, start+n_epochs,dtype=int), testing_accu_list, label='Testing Accuracy')\n",
        "ax[1].set_title('Accuracy compare')\n",
        "ax[1].set_xlabel('Epoch')\n",
        "ax[1].set_ylabel('Accuracy')\n",
        "ax[1].legend()\n",
        "ax[1].xaxis.set_major_locator(MaxNLocator(integer=True))  # 設置 X 軸只顯示整數\n",
        "\n",
        "plt.tight_layout()\n",
        "\n",
        "figname = f'{os.path.dirname(savepath)}/{model_name}_loss.png'\n",
        "if os.path.isfile(figname):\n",
        "  print(f\"{figname} exist.\")\n",
        "else:\n",
        "  plt.savefig(figname)\n",
        "plt.show()\n",
        "\n",
        "lossname = f'{os.path.dirname(savepath)}/{model_name}_loss.json'\n",
        "\n",
        "\n",
        "#若是從checkpoint跑模型,把loss data接上去,loss data預設在模型參數資料夾下\n",
        "if os.path.isfile(lossname):\n",
        "  with open(lossname, 'r') as f:\n",
        "    data_to_save = json.load(f)\n",
        "  data_to_save['running_loss_list'].extend(running_loss_list)\n",
        "  data_to_save['testing_loss_list'].extend(testing_loss_list)\n",
        "  data_to_save['running_accu_list'].extend(running_accu_list)\n",
        "  data_to_save['testing_accu_list'].extend(testing_accu_list)\n",
        "else:\n",
        "  data_to_save = {\n",
        "      'running_loss_list': running_loss_list,\n",
        "      'testing_loss_list': testing_loss_list,\n",
        "      'running_accu_list': running_accu_list,\n",
        "      'testing_accu_list': testing_accu_list\n",
        "  }\n",
        "\n",
        "with open(lossname, 'w') as f:\n",
        "    json.dump(data_to_save, f, indent=4)"
      ]
    },
    {
      "cell_type": "markdown",
      "metadata": {
        "id": "fRrn6mOmBRFU"
      },
      "source": [
        "# 儲存模型參數\n",
        "\n"
      ]
    },
    {
      "cell_type": "code",
      "source": [
        "print(f'{model_name}_{epoch}')\n",
        "print(f'{modeldirname}')"
      ],
      "metadata": {
        "id": "-m6jzALfUceO",
        "colab": {
          "base_uri": "https://localhost:8080/"
        },
        "outputId": "3e7b0d04-5d49-41b7-8b7d-0c424a4b74eb"
      },
      "execution_count": null,
      "outputs": [
        {
          "output_type": "stream",
          "name": "stdout",
          "text": [
            "unet_without_decoder_81\n",
            "unet_0.8_testintrain\n"
          ]
        }
      ]
    },
    {
      "cell_type": "code",
      "execution_count": null,
      "metadata": {
        "id": "2Jnh7hW3BRFU",
        "colab": {
          "base_uri": "https://localhost:8080/"
        },
        "outputId": "dd08b26a-2be4-43c6-b48d-99176d79923f"
      },
      "outputs": [
        {
          "output_type": "stream",
          "name": "stdout",
          "text": [
            "model will be saved as /content/drive/MyDrive/AOCR2024/params//\n",
            "請輸入模型儲存的檔名:unet_without_decoder_80\n",
            "請輸入模型儲存的資料夾:unet_0.8_testintrain\n",
            "/content/drive/MyDrive/AOCR2024/params/unet_0.8_testintrain/unet_without_decoder_80.pth exist.\n"
          ]
        }
      ],
      "source": [
        "\n",
        "filename = save_model(model)\n",
        "\n",
        "\n",
        "params = {\n",
        "    'num_epochs': epoch,\n",
        "    'batch_size': batch_size,\n",
        "    'learning_rate': lr,\n",
        "    'droprate': droprate\n",
        "}\n",
        "\n",
        "if os.path.isfile(filename+'.json'):\n",
        "    print(f\"{filename}.json exist.\")\n",
        "else:\n",
        "    with open(f'{filename}.json', 'w') as f:\n",
        "        json.dump(params, f)"
      ]
    },
    {
      "cell_type": "markdown",
      "metadata": {
        "id": "oBcppdev6LlG"
      },
      "source": [
        "# 讀取模型參數"
      ]
    },
    {
      "cell_type": "code",
      "source": [
        "model = pretrained_model\n",
        "# model = unet_model\n",
        "print(model_name)"
      ],
      "metadata": {
        "id": "aiADsN5Y2riI",
        "colab": {
          "base_uri": "https://localhost:8080/"
        },
        "outputId": "427d4da0-25b1-4c2c-8ae1-ae6697dfb6ac"
      },
      "execution_count": 43,
      "outputs": [
        {
          "output_type": "stream",
          "name": "stdout",
          "text": [
            "efficientnet_b0\n"
          ]
        }
      ]
    },
    {
      "cell_type": "code",
      "source": [
        "model = model.to(device)\n",
        "model ,_ ,params, model_path = load_model(model)"
      ],
      "metadata": {
        "id": "Pfx0VwbRN9uq",
        "colab": {
          "base_uri": "https://localhost:8080/"
        },
        "outputId": "a2256d2c-dd19-4b5d-8e8b-7ea7a5200be0"
      },
      "execution_count": 44,
      "outputs": [
        {
          "output_type": "stream",
          "name": "stdout",
          "text": [
            "請輸入模型參數檔案名稱:efficientnet_b0_70\n",
            "請輸入儲存模型的母資料夾名稱:efficientnetv2_b0_ADAM_cosannealing\n",
            "<All keys matched successfully>\n"
          ]
        }
      ]
    },
    {
      "cell_type": "markdown",
      "metadata": {
        "id": "6v_lVRL47kzj"
      },
      "source": [
        "# 單次評估\n"
      ]
    },
    {
      "cell_type": "code",
      "execution_count": null,
      "metadata": {
        "id": "QtWJ-YYy5l2E"
      },
      "outputs": [],
      "source": [
        "# 評估設置\n",
        "try:\n",
        "  batch_size = params['batch_size']\n",
        "except:\n",
        "  batch_size = int(input(\"batch_size:\"))\n",
        "print(batch_size)\n",
        "\n",
        "\n",
        "valid_dataset = CustomDataset(images_train, labels_train, transform=transform_standard)\n",
        "valid_loader = DataLoader(valid_dataset, batch_size=batch_size, shuffle=False)"
      ]
    },
    {
      "cell_type": "code",
      "source": [
        "criterion = nn.BCELoss()\n",
        "valid_loss, valid_accuracy, predict_list = valid(valid_loader, model, criterion, 0.5, device)\n",
        "\n",
        "print(f\"Accuracy of the network on the test images: {valid_accuracy}%\")\n",
        "print(f\"Loss: {valid_loss}\")\n",
        "predict_listq = predict_list.cpu()\n"
      ],
      "metadata": {
        "id": "bsCqxcZQ4Mww"
      },
      "execution_count": null,
      "outputs": []
    },
    {
      "cell_type": "markdown",
      "source": [
        "Accuracy of the network on the 15592   \n",
        "training images: 99.20472036942022%  \n",
        "Loss: 0.03187363331013983\n"
      ],
      "metadata": {
        "id": "fwmwmUjjiYQ8"
      }
    },
    {
      "cell_type": "code",
      "execution_count": null,
      "metadata": {
        "id": "5s7klq4YR5Qg"
      },
      "outputs": [],
      "source": [
        "print_results(predict_listq, labels[:len(predict_listq)])"
      ]
    },
    {
      "cell_type": "markdown",
      "source": [
        "# 測試"
      ],
      "metadata": {
        "id": "H_IU8lUico-0"
      }
    },
    {
      "cell_type": "code",
      "source": [
        "testdir = \"Cropped_60-316_150-406_11-71/Test_Image_cropped\""
      ],
      "metadata": {
        "id": "kcS21lFCs0bL"
      },
      "execution_count": 21,
      "outputs": []
    },
    {
      "cell_type": "code",
      "source": [
        "from google.auth.transport.requests import Request\n",
        "request = Request()\n",
        "credentials.refresh(request)\n",
        "loop.run_until_complete(get_data_disk_async(drive_rootdir, testdir,token = credentials.token))"
      ],
      "metadata": {
        "id": "6rOoi2_QH-zi",
        "colab": {
          "base_uri": "https://localhost:8080/"
        },
        "outputId": "b498c7ed-7576-400c-8468-aac04dada3dc"
      },
      "execution_count": 22,
      "outputs": [
        {
          "output_type": "stream",
          "name": "stdout",
          "text": [
            "making Cropped_60-316_150-406_11-71/Test_Image_cropped dir...\n"
          ]
        },
        {
          "output_type": "stream",
          "name": "stderr",
          "text": [
            "100%|██████████| 200/200 [00:11<00:00, 18.06it/s]\n"
          ]
        }
      ]
    },
    {
      "cell_type": "code",
      "source": [
        "images_test, info = read_test(testdir,termi=2,shift=0)"
      ],
      "metadata": {
        "id": "tL3mzD9qi-3a",
        "colab": {
          "base_uri": "https://localhost:8080/"
        },
        "outputId": "6ea273e9-469e-48ec-c419-52ab60be7574"
      },
      "execution_count": 23,
      "outputs": [
        {
          "output_type": "stream",
          "name": "stdout",
          "text": [
            "0: Read test ZxE0AE769C4E0DA3D095EF59A5158D7D0E0FB8881C1C87290D finished...\n",
            "1: Read test Zx0CFEAEA49D4E19D1DB3BAE1248C9AE42D815CA7B52CC9E76 finished...\n",
            "read 2 scans\n"
          ]
        }
      ]
    },
    {
      "cell_type": "code",
      "source": [
        "len(images_test)"
      ],
      "metadata": {
        "colab": {
          "base_uri": "https://localhost:8080/"
        },
        "id": "X6HAuMYbMsKK",
        "outputId": "8e4961a5-bfa8-4141-85f5-b7b3a6f808a7"
      },
      "execution_count": 24,
      "outputs": [
        {
          "output_type": "execute_result",
          "data": {
            "text/plain": [
              "120"
            ]
          },
          "metadata": {},
          "execution_count": 24
        }
      ]
    },
    {
      "cell_type": "code",
      "source": [
        "try:\n",
        "  batch_size = params['batch_size']\n",
        "except:\n",
        "  batch_size = int(input(\"batch_size:\"))\n",
        "print(batch_size)\n",
        "\n",
        "\n",
        "# 對testing dataset做normalization\n",
        "# dataset = CustomDataset(images_test, None, mode='test', transform=transform_standard)\n",
        "dataset = CustomDataset(images_test, None, mode='test', transform=None)\n",
        "dataloader = DataLoader(dataset, batch_size=batch_size, shuffle=False)\n"
      ],
      "metadata": {
        "id": "khCyQWK7d4G7",
        "colab": {
          "base_uri": "https://localhost:8080/"
        },
        "outputId": "2ab47eb7-7cd8-4d2e-b923-9a90ac0b62a2"
      },
      "execution_count": 25,
      "outputs": [
        {
          "output_type": "stream",
          "name": "stdout",
          "text": [
            "batch_size:16\n",
            "16\n"
          ]
        }
      ]
    },
    {
      "cell_type": "code",
      "source": [
        "model.eval()\n",
        "\n",
        "predict_list = torch.tensor([]).to(device)\n",
        "with torch.no_grad():  # 不更新梯度\n",
        "    for j, batch_images in enumerate(dataloader):\n",
        "        batch_images = batch_images.to(device)\n",
        "        outputs = model(batch_images)\n",
        "        predicted = (outputs.squeeze() > 0.5).int()\n",
        "\n",
        "        # if predicted.dim() == 0:\n",
        "        #   predicted = predicted.unsqueeze(0)\n",
        "        predict_list = torch.cat((predict_list,predicted),0)\n",
        "\n",
        "\n",
        "predict_listq = predict_list.cpu()"
      ],
      "metadata": {
        "id": "N-IzPXwRcrxE"
      },
      "execution_count": 45,
      "outputs": []
    },
    {
      "cell_type": "code",
      "source": [
        "predict_listq.sum()"
      ],
      "metadata": {
        "id": "nzT97RCx9NxP",
        "colab": {
          "base_uri": "https://localhost:8080/"
        },
        "outputId": "a70094de-2106-4cf2-c83e-300a51348326"
      },
      "execution_count": 47,
      "outputs": [
        {
          "output_type": "execute_result",
          "data": {
            "text/plain": [
              "tensor(0.)"
            ]
          },
          "metadata": {},
          "execution_count": 47
        }
      ]
    },
    {
      "cell_type": "markdown",
      "metadata": {
        "id": "ml59tSf2QXty"
      },
      "source": [
        "# 輸出至提交格式"
      ]
    },
    {
      "cell_type": "markdown",
      "source": [
        "images讀進來是疊在一起的。 需要info紀錄images檔名順序與分割情況"
      ],
      "metadata": {
        "id": "Z7I_nNXjjlGW"
      }
    },
    {
      "cell_type": "markdown",
      "source": [
        "訓練過程不改變資料順序, 所以輸出順序同輸入.   \n",
        "predict值跟隨images順序, 照著info把每個predict值(label)與檔名(id)對上. 輸出成提交格式"
      ],
      "metadata": {
        "id": "4teg7YRZj9Vq"
      }
    },
    {
      "cell_type": "code",
      "source": [
        "def yes(predict):\n",
        "  return int(sum(predict) >= 3)\n",
        "\n",
        "\n",
        "\n",
        "predict_list = predict_listq.numpy()\n",
        "\n",
        "## 還原id與對應label，假設key按照scan輸入順序排列,每個key對應的scan的cuts數是nslice\n",
        "output = {}\n",
        "k = 0  #第幾個scan\n",
        "ii = 0   #每個key輪到第幾個\n",
        "id, nslice = info[k][0], info[k][1]\n",
        "for i in range(len(predict_list)):\n",
        "\n",
        "  if (ii >= nslice):\n",
        "    #該換下一個scan了\n",
        "    output[id] = yes(predict_list[i-nslice:i]) #評估方式\n",
        "\n",
        "    k += 1\n",
        "    ii = 0\n",
        "    id, nslice = info[k][0], info[k][1]\n",
        "\n",
        "  label = predict_list[i]\n",
        "  output[id+f'_{ii}'] = int(predict_list[i])\n",
        "  ii += 1\n",
        "\n",
        "output[id] = yes(predict_list[(i+1)-ii:]) #補上最後一個scan評估\n",
        "output = list(output.items())\n",
        "dfout = pd.DataFrame(output)\n",
        "dfout.columns = ['id', 'label']\n",
        "dfout = dfout.sort_values(by='id', key=lambda x: x.map(custom_sort_key)) #把母label移動到子label前面\n",
        "# filename = input(\"輸入提交路徑 (empty for submission\\submission.csv)\")\n",
        "filename = \"/content/tmp.csv\"\n",
        "dfout.to_csv(filename, index=False)"
      ],
      "metadata": {
        "id": "eGcPvyce5uDJ"
      },
      "execution_count": 48,
      "outputs": []
    },
    {
      "cell_type": "markdown",
      "source": [
        "# 提交檔案後處理\n",
        "\n"
      ],
      "metadata": {
        "id": "BedM3DFwezA3"
      }
    },
    {
      "cell_type": "markdown",
      "source": [
        "## 把提交檔案(中間六十張)貼回sample_submission.csv"
      ],
      "metadata": {
        "id": "zIRKr3h8j1MQ"
      }
    },
    {
      "cell_type": "code",
      "source": [
        "\n",
        "\n",
        "def update_id(id_string):\n",
        "    # 分割 id 字符串，例如 'xxxxx_1' -> ['xxxxx', '1']\n",
        "\n",
        "    if '_' in id_string:\n",
        "        parts = id_string.split('_')\n",
        "        new_number = int(parts[-1]) + 11\n",
        "        return f\"{parts[0]}_{new_number}\"\n",
        "\n",
        "    return id_string\n",
        "\n",
        "\n",
        "# 使用正则表达式和刚定义的函数来更新'id'列\n",
        "# 加载两个CSV文件\n",
        "file_path_1 = os.path.join(drive_rootdir, 'sample_submission_2.csv')\n",
        "file_path_2 = filename\n",
        "\n",
        "data_1 = pd.read_csv(file_path_1)\n",
        "data_2 = pd.read_csv(file_path_2)\n",
        "\n",
        "# 母label遍0\n",
        "data_2.loc[~data_2['id'].str.contains('_'), 'label'] = 0\n",
        "data_2['id'] = data_2['id'].apply(update_id)\n",
        "# 合并数据集，确保data_2中的label覆盖到data_1中相同ID的label\n",
        "# 使用merge函数进行合并，并指定'how'和'on'参数\n",
        "merged_data = pd.merge(data_1, data_2, on='id', how='left', suffixes=('', '_new'))\n",
        "\n",
        "# 更新data_1的label列\n",
        "merged_data['label'] = merged_data['label_new'].combine_first(merged_data['label'])\n",
        "\n",
        "# 删除临时列\n",
        "merged_data.drop(columns=['label_new'], inplace=True)\n",
        "\n",
        "# 分割路径以提取所需部分\n",
        "parts = model_path.split('/')\n",
        "\n",
        "# 组合所需的部分\n",
        "middlefile = f\"{parts[-2]}_{parts[-1]}_answer.csv\"\n",
        "\n",
        "\n",
        "# 输出合并后的数据，或保存到新的CSV文件\n",
        "merged_data.to_csv(middlefile, index=False)"
      ],
      "metadata": {
        "id": "zxYflWXJhR3u"
      },
      "execution_count": 53,
      "outputs": []
    },
    {
      "cell_type": "markdown",
      "source": [
        "\n",
        "## 母label與子label調整(all.py)，輸出至"
      ],
      "metadata": {
        "id": "ADh7Df45hMgv"
      }
    },
    {
      "cell_type": "code",
      "source": [
        "import warnings\n",
        "warnings.filterwarnings('ignore')\n",
        "\n",
        "\n",
        "# 读取 CSV 文件\n",
        "file_path = middlefile\n",
        "df = pd.read_csv(file_path)\n",
        "\n",
        "# 确保 id 列是字符串类型\n",
        "df['id'] = df['id'].astype(str)\n",
        "\n",
        "# 分割 id 来区分母序列和子序列\n",
        "df['base_id'] = df['id'].str.extract(r'(.*?)(?:_\\d+)?$')\n",
        "df['is_mother'] = ~df['id'].str.contains('_')  # 母序列标记\n",
        "\n",
        "# 连续1的数量阈值\n",
        "continuous_one_threshold = 2\n",
        "\n",
        "# 初始化母序列的 label 更新标志\n",
        "df['update_mother_label'] = False\n",
        "\n",
        "# 对每个母序列分组\n",
        "for base_id, group in df.groupby('base_id'):\n",
        "    # 只检查子序列\n",
        "    sub_sequences = group[~group['is_mother']]\n",
        "\n",
        "    # 检查是否有连续三个1\n",
        "    consecutive_ones = 0\n",
        "    for _, row in sub_sequences.iterrows():\n",
        "        if row['label'] == 1:\n",
        "            consecutive_ones += 1\n",
        "            if consecutive_ones >= continuous_one_threshold:\n",
        "                df.loc[(df['base_id'] == base_id) & (df['is_mother']), 'update_mother_label'] = True\n",
        "                break\n",
        "        else:\n",
        "            consecutive_ones = 0\n",
        "\n",
        "# 更改符合条件的母序列的 label\n",
        "df.loc[df['update_mother_label'], 'label'] = 1\n",
        "df.loc[~df['update_mother_label'] & df['is_mother'], 'label'] = 0\n",
        "\n",
        "# 删除辅助列\n",
        "df.drop(['base_id', 'is_mother', 'update_mother_label'], axis=1, inplace=True)\n",
        "\n",
        "#确保 id 列是字符串类型\n",
        "df['id'] = df['id'].astype(str)\n",
        "\n",
        "# 分割 id 来区分母序列和子序列\n",
        "df['base_id'] = df['id'].str.extract(r'(.*?)(?:_\\d+)?$')\n",
        "\n",
        "# 找到母序列的 label 为 0 的行\n",
        "mother_ids_with_label_zero = df[(df['label'] == 0) & (~df['id'].str.contains('_'))]['base_id']\n",
        "\n",
        "# 将所有对应子序列的 label 改为 0\n",
        "for base_id in mother_ids_with_label_zero:\n",
        "    df.loc[df['base_id'] == base_id, 'label'] = 0\n",
        "\n",
        "# 删除辅助列\n",
        "df.drop(['base_id'], axis=1, inplace=True)\n",
        "\n",
        "# 确保 id 列是字符串类型\n",
        "df['id'] = df['id'].astype(str)\n",
        "\n",
        "# 创建一个标记是否为子序列的布尔列\n",
        "df['is_subsequence'] = df['id'].str.contains('_')\n",
        "\n",
        "# 添加一个用于存储周围0的计数的辅助列\n",
        "df['zero_count'] = 0\n",
        "\n",
        "# 定义检查周围0的数量的函数\n",
        "def count_zeros_around(index, df, range_count):\n",
        "    count = 0\n",
        "    for i in range(index - range_count, index + range_count + 1):\n",
        "        if i != index and 0 <= i < len(df) and df.at[i, 'label'] == 0:\n",
        "            count += 1\n",
        "    return count\n",
        "\n",
        "# 更新 zero_count 列\n",
        "range_count = 2  # 检查的前后范围\n",
        "for index, row in df.iterrows():\n",
        "    if row['is_subsequence'] and row['label'] == 1:\n",
        "        df.at[index, 'zero_count'] = count_zeros_around(index, df, range_count)\n",
        "\n",
        "# 定义需要的0的数量\n",
        "zero_threshold = 3  # 您可以根据需要调整这个值\n",
        "\n",
        "# 将满足条件的 label 改为 0\n",
        "df.loc[df['zero_count'] >= zero_threshold, 'label'] = 0\n",
        "\n",
        "# 删除辅助列\n",
        "df.drop(['is_subsequence', 'zero_count'], axis=1, inplace=True)\n",
        "\n",
        "# 保存修改后的数据到新的 CSV 文件\n",
        "\n",
        "output_path = os.path.join(drive_rootdir, 'params', 'submission', middlefile)\n",
        "df.to_csv(output_path, index=False)\n",
        "\n",
        "# 初始化一个空的 DataFrame 用于存储结果\n",
        "result_df = pd.DataFrame(columns=['id', 'label'])\n",
        "\n",
        "# 遍历每个不同的ID（排除包含后缀的ID）\n",
        "for unique_id in df['id'].str.extract(r'(.*?)(?:_\\d+)?$')[0].unique():\n",
        "    # 母序列\n",
        "    mother_row = df[df['id'] == unique_id]\n",
        "    if not mother_row.empty:\n",
        "        result_df = pd.concat([result_df, mother_row])\n",
        "\n",
        "    # 子序列\n",
        "    child_rows = df[df['id'].str.contains(f'^{unique_id}_')]\n",
        "    if not child_rows.empty:\n",
        "        child_rows['suffix'] = child_rows['id'].str.extract(r'_(\\d+)$').astype(int)\n",
        "        min_suffix = child_rows[child_rows['label'] == 1]['suffix'].min()\n",
        "        max_suffix = child_rows[child_rows['label'] == 1]['suffix'].max()\n",
        "\n",
        "        # 更新子序列中的标签\n",
        "        if pd.notna(min_suffix) and pd.notna(max_suffix):\n",
        "            child_rows.loc[(child_rows['suffix'] >= min_suffix) & (child_rows['suffix'] <= max_suffix), 'label'] = 1\n",
        "\n",
        "        result_df = pd.concat([result_df, child_rows.drop(columns=['suffix'])])\n",
        "\n",
        "# 重置索引\n",
        "result_df.reset_index(drop=True, inplace=True)\n",
        "\n",
        "df=result_df\n",
        "\n",
        "# 确保 id 列是字符串类型\n",
        "df['id'] = df['id'].astype(str)\n",
        "\n",
        "# 分割 id 来区分母序列和子序列\n",
        "df['base_id'] = df['id'].str.extract(r'(.*?)(?:_\\d+)?$')\n",
        "df['is_mother'] = ~df['id'].str.contains('_')  # 母序列标记\n",
        "\n",
        "# 连续1的数量阈值\n",
        "continuous_one_threshold = 3\n",
        "\n",
        "# 初始化母序列的 label 更新标志\n",
        "df['update_mother_label'] = False\n",
        "\n",
        "# 对每个母序列分组\n",
        "for base_id, group in df.groupby('base_id'):\n",
        "    # 只检查子序列\n",
        "    sub_sequences = group[~group['is_mother']]\n",
        "\n",
        "    # 检查是否有连续三个1\n",
        "    consecutive_ones = 0\n",
        "    for _, row in sub_sequences.iterrows():\n",
        "        if row['label'] == 1:\n",
        "            consecutive_ones += 1\n",
        "            if consecutive_ones >= continuous_one_threshold:\n",
        "                df.loc[(df['base_id'] == base_id) & (df['is_mother']), 'update_mother_label'] = True\n",
        "                break\n",
        "        else:\n",
        "            consecutive_ones = 0\n",
        "\n",
        "# 更改符合条件的母序列的 label\n",
        "df.loc[df['update_mother_label'], 'label'] = 1\n",
        "df.loc[~df['update_mother_label'] & df['is_mother'], 'label'] = 0\n",
        "\n",
        "# 删除辅助列\n",
        "df.drop(['base_id', 'is_mother', 'update_mother_label'], axis=1, inplace=True)\n",
        "\n",
        "# 确保 id 列是字符串类型\n",
        "df['id'] = df['id'].astype(str)\n",
        "\n",
        "# 分割 id 来区分母序列和子序列\n",
        "df['base_id'] = df['id'].str.extract(r'(.*?)(?:_\\d+)?$')\n",
        "\n",
        "# 找到母序列的 label 为 0 的行\n",
        "mother_ids_with_label_zero = df[(df['label'] == 0) & (~df['id'].str.contains('_'))]['base_id']\n",
        "\n",
        "# 将所有对应子序列的 label 改为 0\n",
        "for base_id in mother_ids_with_label_zero:\n",
        "    df.loc[df['base_id'] == base_id, 'label'] = 0\n",
        "\n",
        "# 删除辅助列\n",
        "df.drop(['base_id'], axis=1, inplace=True)\n",
        "\n",
        "# 保存修改后的数据到新的 CSV 文件\n",
        "output_path = os.path.join(drive_rootdir, 'params', 'submission', middlefile)\n",
        "df.to_csv(output_path, index=False)\n",
        "\n",
        "print(f\"Modified data saved to {output_path}\")\n",
        "\n",
        "\n"
      ],
      "metadata": {
        "colab": {
          "base_uri": "https://localhost:8080/"
        },
        "id": "IoxZtOsRfD65",
        "outputId": "7583ff06-de5c-4546-ca9a-eeef59a63ba1"
      },
      "execution_count": 55,
      "outputs": [
        {
          "output_type": "stream",
          "name": "stdout",
          "text": [
            "Modified data saved to /content/drive/MyDrive/AOCR2024/params/submission/efficientnetv2_b0_ADAM_cosannealing_efficientnet_b0_70_answer.csv\n"
          ]
        }
      ]
    },
    {
      "cell_type": "markdown",
      "source": [
        "# 讀取提交格式的檔案"
      ],
      "metadata": {
        "id": "wKe-NfBAeN8i"
      }
    },
    {
      "cell_type": "code",
      "source": [
        "dftest = read_submission('fisrt_80.csv')\n",
        "# dftest = read_submission('submission.csv')\n",
        "dflabel = read_label(\"TrainValid_ground_truth.csv\")"
      ],
      "metadata": {
        "id": "oDM_yM-5bdCT"
      },
      "execution_count": null,
      "outputs": []
    },
    {
      "cell_type": "code",
      "source": [
        "len(dftest)"
      ],
      "metadata": {
        "id": "fRSaPgTBnbE2"
      },
      "execution_count": null,
      "outputs": []
    },
    {
      "cell_type": "code",
      "source": [
        "import re\n",
        "\n",
        "\n",
        "# 抓出scan-level data\n",
        "pattern = re.compile(r'.*_[0-9]+$')  # 正則表達式匹配 \"_數字\" 結尾\n",
        "mask = ~dftest.index.str.match(pattern)\n",
        "scan_guess = np.array(dftest[mask]['label'])\n",
        "scan_truth = np.array(dflabel.loc[dftest[mask]['label'].index]['label'])\n",
        "\n",
        "mask = ~mask\n",
        "cut_guess = np.array(dftest[mask]['label'])\n",
        "cut_truth = np.array(dflabel.loc[dftest[mask]['label'].index]['label'])"
      ],
      "metadata": {
        "id": "BD1NfxWTb2iL"
      },
      "execution_count": null,
      "outputs": []
    },
    {
      "cell_type": "code",
      "source": [
        "ss = 10\n",
        "print(\"=\"*ss + \"F1 score on scan level\" + \"=\"*ss)\n",
        "print_results(scan_guess, scan_truth)\n",
        "print(),print()\n",
        "print(\"=\"*ss + \"F1 score on cut level\" +\"=\"*ss )\n",
        "print_results(cut_guess, cut_truth)"
      ],
      "metadata": {
        "id": "fyMlAtUWuW8Y"
      },
      "execution_count": null,
      "outputs": []
    },
    {
      "cell_type": "markdown",
      "source": [
        "# 其他指令\n",
        "不在工作流\n",
        "臨時使用"
      ],
      "metadata": {
        "id": "FG2tqJ1kMhzt"
      }
    },
    {
      "cell_type": "markdown",
      "source": [
        "**驗證數據集標準化**"
      ],
      "metadata": {
        "id": "gFJJAhnlEl-k"
      }
    },
    {
      "cell_type": "code",
      "source": [
        "from torch.utils.data import DataLoader\n",
        "import torch\n",
        "\n",
        "def calculate_mean_std(dataset):\n",
        "    dataloader = DataLoader(dataset, batch_size=32, shuffle=False, num_workers=0)\n",
        "\n",
        "    # 初始化总和和平方总和变量，以及样本数量\n",
        "    total_sum = 0.0\n",
        "    total_sq_sum = 0.0\n",
        "    total_count = 0\n",
        "\n",
        "    for data in dataloader:\n",
        "        images, _ = data  # 假设每个数据是 (image, label) 格式\n",
        "\n",
        "        # 将图像数据移至CPU并转换为一维\n",
        "        images = images.view(images.size(0), -1)\n",
        "        total_sum += images.sum(dim=1).sum(dim=0)\n",
        "        total_sq_sum += (images ** 2).sum(dim=1).sum(dim=0)\n",
        "        total_count += images.size(0) * images.size(1)\n",
        "\n",
        "    # 计算总平均值和标准差\n",
        "    mean = total_sum / total_count\n",
        "    std = (total_sq_sum / total_count - mean ** 2) ** 0.5\n",
        "\n",
        "    return mean, std\n",
        "\n",
        "\n"
      ],
      "metadata": {
        "id": "0-qBKHPwEyQu"
      },
      "execution_count": null,
      "outputs": []
    },
    {
      "cell_type": "code",
      "source": [
        "import torch\n",
        "# 獲取數據\n",
        "images, labels = process_data2(datadir, termi=100, dropFalse=0)"
      ],
      "metadata": {
        "id": "7SOL9kAo65kH"
      },
      "execution_count": null,
      "outputs": []
    },
    {
      "cell_type": "code",
      "source": [
        "\n",
        "# 計算原始圖片mean\n",
        "original_mean = torch.mean(images)\n",
        "original_std = torch.std(images)\n",
        "print(f'Original Mean: {original_mean}')\n",
        "print(f'Original Std: {original_std}')\n",
        "\n",
        "# 製作數據集\n",
        "transform = transforms.Normalize(mean=original_mean, std=original_std)\n",
        "dataset = CustomDataset(images, labels , transform=transform)\n",
        "normalized_mean, normalized_std = calculate_mean_std(dataset)\n",
        "\n",
        "\n",
        "# 输出\n",
        "print(f'Normalized Mean: {normalized_mean}')\n",
        "print(f'Normalized Std: {normalized_std}')\n",
        "\n",
        "\n",
        "\n",
        "# # 計算原始圖片mean\n",
        "# original_mean = torch.mean(images)\n",
        "# original_std = torch.std(images)\n",
        "# print(f'Original Mean: {original_mean}')\n",
        "# print(f'Original Std: {original_std}')\n",
        "\n",
        "# # 製作數據集\n",
        "# transform = transforms.Normalize(mean=original_mean, std=original_std)\n",
        "# dataset = CustomDataset(images, labels)\n",
        "\n",
        "# normalized_images, normalized_labels = dataset[:]\n",
        "# normalized_mean, normalized_std = torch.mean(normalized_images), torch.std(normalized_images)\n",
        "\n",
        "\n",
        "# print(f'Normalized Mean: {normalized_mean}')\n",
        "# print(f'Normalized Std: {normalized_std}')\n"
      ],
      "metadata": {
        "id": "-HYdGkl5QbeI"
      },
      "execution_count": null,
      "outputs": []
    },
    {
      "cell_type": "markdown",
      "source": [
        "**下載每個checkpoint的參數並validate**"
      ],
      "metadata": {
        "id": "vuA-32FnE_AG"
      }
    },
    {
      "cell_type": "code",
      "source": [
        "filelist = os.listdir('/content/drive/MyDrive/AOCR2024/params/tf_efficiency_s/b128_0.8')\n",
        "filelist = [f for f in filelist if '.pth' in f]\n",
        "current_folder = r'tf_efficiency_s/b128_0.8'"
      ],
      "metadata": {
        "id": "VuGH0qPyNF52"
      },
      "execution_count": null,
      "outputs": []
    },
    {
      "cell_type": "code",
      "source": [
        "# model = unet_model\n",
        "model = pretrained_model\n",
        "\n",
        "model = model.to(device)\n",
        "print(model_name)\n",
        "\n",
        "criterion = nn.BCELoss()"
      ],
      "metadata": {
        "colab": {
          "base_uri": "https://localhost:8080/"
        },
        "id": "PtdrO1WSE_Im",
        "outputId": "7711cb80-45de-4cfd-8b35-cd8581e56ab7"
      },
      "execution_count": null,
      "outputs": [
        {
          "output_type": "stream",
          "name": "stdout",
          "text": [
            "tf_efficientnetv2_s\n"
          ]
        }
      ]
    },
    {
      "cell_type": "code",
      "source": [
        "train_id, valid_id = get_split()\n",
        "images_valid, labels_valid = process_data2(datadir, dropFalse=0, files=valid_id)\n",
        "images_validtrain, labels_validtrain =  process_data2(traindir=datadir,dropFalse=0,dropPos=0, files=train_id)"
      ],
      "metadata": {
        "colab": {
          "base_uri": "https://localhost:8080/"
        },
        "id": "hOkEks67SHr3",
        "outputId": "6f0f8d82-b021-429a-8547-c20b20083d9d"
      },
      "execution_count": null,
      "outputs": [
        {
          "output_type": "stream",
          "name": "stdout",
          "text": [
            "reading traindir='Cropped_60-316_150-406_11-71/Train_Valid_Image_cropped'...\n",
            "xlim=[60, 316]\n",
            "ylim=[150, 406]\n",
            "zlim=[11, 71]\n",
            "Process 0: Zx015DF8E20804DB94E24A9B2D9DD387A47EF1C620A02026DC finished...\n",
            "Process 1: Zx01F90B532F87127DB647612B6621F2065CA58692B921CEB4 finished...\n",
            "Process 2: Zx0494BD052F6F8D5A583699BBC329C318AC7B5BE50FD9ACDA finished...\n",
            "Process 3: Zx0800DE5C96380322C65ABA398FC93B5CBDF75B20B11DDF6E finished...\n",
            "Process 4: Zx09972B8FA6215EEC75DB4194B16C000F47B5F87AFB64A12B finished...\n",
            "Process 5: Zx0A1564C092259CD377329E07006281E876D09F9B48E77002 finished...\n",
            "Process 6: Zx0AE5424009C101F7422C5BD9DD2C3B0E13E834114A32883A finished...\n",
            "Process 7: Zx0BA755CD6D068378215FE1AE4751945053ED5D2F2C2A40E7 finished...\n",
            "Process 8: Zx0CA5CE197AA9378EE23F949BDFC91790D4FED5D6FD06F5A2 finished...\n",
            "Process 9: Zx0CFB1637BD27964BE741B2AA07BC7C84B2B61731E47782E0 finished...\n",
            "Process 10: Zx0E094D2402D05592511D0DED9E7ED9E999B468C249E9253F finished...\n",
            "Process 11: Zx0E96DE51997AF17C5C54835EAD6B7512C66F91BFDB491B9F finished...\n",
            "Process 12: Zx0F09553E6591D068AAB2811C40BA511B70E378F39A37839A finished...\n",
            "Process 13: Zx114AC1555B9AD6790B7A1BDE0521553F4A9A83AEAF30A859 finished...\n",
            "Process 14: Zx13CC64ABE904CB3E29A95612A74C34E8F5F6B4BA181694BD finished...\n",
            "Process 15: Zx152DDBF3A8894FFDC2C923DF7F1099488C30A8943FE31860 finished...\n",
            "Process 16: Zx15FB4DF1D36A7B4A19617A2C71E216AC807960B0EF51AC83 finished...\n",
            "Process 17: Zx160CFC2664FE311B6AC70F6906A5E84B13D273AD7B24162B finished...\n",
            "Process 18: Zx16F4FD8907D539630058B97C3DA72D8CE2C4154A1011F3D7 finished...\n",
            "Process 19: Zx1761966B642ABA595F2D8E53DAED57654117D2271DF05D4B finished...\n",
            "Process 20: Zx19075B1C1417E664BEDD1C5C7F782D359A1DC198D01A79DF finished...\n",
            "Process 21: Zx19216E0DC2CA308E80238A39CC927E17148D86C6DF471355 finished...\n",
            "Process 22: Zx19DC911CF61B42EEA04DF8635951103535C9FB92AD779276 finished...\n",
            "Process 23: Zx1A3FF9BBC87A0A6379CA804FA7025BE5E55D98B90E6E911E finished...\n",
            "Process 24: Zx2030E3E34625286FA6745CAFEF3F4CD81DEDDFA875C5EC23 finished...\n",
            "Process 25: Zx226CB151F5DE15D8C8C6E3F3EE8BC533BDBE65DE1A805731 finished...\n",
            "Process 26: Zx25DFF1358FA299AFC3345BEE8BCD80031225017D9F4DD365 finished...\n",
            "Process 27: Zx2821AF61A3DBB7F40C01DEA2F7BBAE3C7FB59CA82BC55B55 finished...\n",
            "Process 28: Zx28A11914F19501C527FADC7432C8E020873181C0B365E863 finished...\n",
            "Process 29: Zx291FD6850838B643BC1A7878279A2373C32A719B91C042EC finished...\n",
            "Process 30: Zx29D944DDC12D73E608734644C33D08170EC666B3E934AE93 finished...\n",
            "Process 31: Zx2A1210AAD0C7673D871C9B73A00CC394F65B0A224D6EABC9 finished...\n",
            "Process 32: Zx2BCE9A7537D7DB08D8254B88EDFA79D2B5FAD113ED12B54E finished...\n",
            "Process 33: Zx2D185653AC6B5E02F95806D73E5A84A02024E037C1DEB887 finished...\n",
            "Process 34: Zx2D76DB29AAD2347759160B311EE70109FFF026792C16979A finished...\n",
            "Process 35: Zx2E111520B77E85EE6229F346D75F64EC7CDFCA78821E4341 finished...\n",
            "Process 36: Zx2FA626656496845ECE881190B184E327F4D8061B2B2900DE finished...\n",
            "Process 37: Zx2FDB8744E9FC6EA517DB8C7AF02186F20EB405618EAD35AA finished...\n",
            "Process 38: Zx30D3D7722571163D6FDAC8D42EA822DE9309AA749507E680 finished...\n",
            "Process 39: Zx30D54DEFE5A1F6690A387C332411376210FE4A5839471C12 finished...\n",
            "Process 40: Zx310CE606A29627070A772BE54B8CD0BA3E47BAE4172C4EB0 finished...\n",
            "Process 41: Zx3306AD6CF1A7BFC1BF6522E172650664AA1DBB0EE61F704B finished...\n",
            "Process 42: Zx33E6FDDA6850D397D243D3A55567D29DABFB0503956B9083 finished...\n",
            "Process 43: Zx347D7961BD3B95547A18229A9DEB77A9C5B2216DF6890865 finished...\n",
            "Process 44: Zx35277990C2DBE37B4185DB808829526C76F8D6CDBC5C7CD7 finished...\n",
            "Process 45: Zx36871521E7690C7E8E2298CBEBC159037F9562AFAD8FDFF8 finished...\n",
            "Process 46: Zx379A5F7814F0914A5DDC1624A2FB846629F088027004D2A6 finished...\n",
            "Process 47: Zx39297C72B360D9264B30FF2723EADD32A2EA4EE4794DFAFB finished...\n",
            "Process 48: Zx3AB91ED4F2F9AA3B6F1005851941D52458DDAD3716622571 finished...\n",
            "Process 49: Zx3AB91ED4F2F9AA3BBF9B2425E1278FBEC919A0ACCDC4A02B finished...\n",
            "Process 50: Zx3D212F640E8BAB683711B0A2B808E94D20EC94C210350D4F finished...\n",
            "Process 51: Zx3E70E64F4B2979E3961895A1F7F48F5A61F3CA426349C95C finished...\n",
            "Process 52: Zx3F0AA5B24089383F472A355FE4001AAA047B39E0C9D9D4DD finished...\n",
            "Process 53: Zx3F283561EB5064407786E2685CF0EEF42F1C052BB005B1E0 finished...\n",
            "Process 54: Zx3FAF29A82573ABC3779238FCADF11919914026A8EFAB5E98 finished...\n",
            "Process 55: Zx4343A182A4B16B07C4E9DC4CC327DCA2B2D54632240F5179 finished...\n",
            "Process 56: Zx455FA34A3BE4D4684F10C3599344433D802C092D1BF1A9D5 finished...\n",
            "Process 57: Zx457D19099A1876FB80E029E8598A9DF202D02CB9E139BFEF finished...\n",
            "Process 58: Zx47C8EC892A72C9A3A5F181DDD2EC43B051D9CB1FF54C714A finished...\n",
            "Process 59: Zx47F849224B4386F104A777D40C2EB9E46E8D4D948E0DF149 finished...\n",
            "Process 60: Zx493F535A5628330079FF05762DFFCD954E2E98F33925D070 finished...\n",
            "Process 61: Zx4DEAB0155B0B49D7A6C97DC1BAFCA3A840D5FA76882F3909 finished...\n",
            "Process 62: Zx4ED2135FF0A55C3DDB2DCB18431F46E19C069FB908C473B6 finished...\n",
            "Process 63: Zx4ED2135FF0A55C3DE2379661289AFC75E374FE6B5DC4C7AC finished...\n",
            "Process 64: Zx501820D23A5CB94739758DB1736517B8A4ACBE83C6927DB9 finished...\n",
            "Process 65: Zx516EDA06AFC86A9609937263C8F528620516202A547FC1BA finished...\n",
            "Process 66: Zx516EDA06AFC86A96E299B23DAF55DAA97F52807639AA71C7 finished...\n",
            "Process 67: Zx54D9C6D4D1A2099BC5128685BAA055EA5D0EBDFCAF3F5C90 finished...\n",
            "Process 68: Zx565D74889318B8045234D290A85A4D77CDBC698F9C455063 finished...\n",
            "Process 69: Zx57410A845E6E8D25823E485244B4E8F17DDFC08B2883A6BA finished...\n",
            "Process 70: Zx5B636F130DAA91A7110091642B376E06730C8832C8C0E569 finished...\n",
            "Process 71: Zx5C5DF9F03CB8A6BAC406BDF666C115EDC0A4C836B500164F finished...\n",
            "Process 72: Zx5E3E3815ED9017334024C80AAF61BC4579BEBD361C5B7475 finished...\n",
            "Process 73: Zx5FA9D4DFFAB39260647D74BF41D27B7EC5D16E01356F2CA2 finished...\n",
            "Process 74: Zx5FD6AFAD51E0F6009E9E6726BC6F6F5958F10F03345BE35C finished...\n",
            "Process 75: Zx600898F0FDBE062A65C1DE5C5162A85C96A07C8856FE6A91 finished...\n",
            "Process 76: Zx600898F0FDBE062AF67DD3D380F200539F52E04E8CA222DA finished...\n",
            "Process 77: Zx628BB0B11A734D09D44015B4D5F10CAD90535C412485404A finished...\n",
            "Process 78: Zx62B066968229B590D678A308537742F33C3A693E7C93B4D9 finished...\n",
            "Process 79: Zx636EDE3E464774759F4FFC43AD1CA60FA256F09F41B06F36 finished...\n",
            "Process 80: Zx63736C111D570844D142C38F9A68489F1C3AF66961367134 finished...\n",
            "Process 81: Zx637726D3EB093D3049C1FA44F7E885DDFB5FAB4AC2C1820E finished...\n",
            "Process 82: Zx64D8ABDFA2E7D3053A50B6A3E3EB3761A40EDF894C4D8EE2 finished...\n",
            "Process 83: Zx6727174D77521EE5DBEDCBBA7660C4E2A32651135D737817 finished...\n",
            "Process 84: Zx67A67EEF79554FEDB4301392109B55148BE639246BDBEEBA finished...\n",
            "Process 85: Zx6AEA21162FAE2D40E5720009794D60020B137000B885BE06 finished...\n",
            "Process 86: Zx6C265FEDB560B114FB7CA8D19212ACB34F9AACEE409DDAAB finished...\n",
            "Process 87: Zx6C2E49E5A10FF2383A6D6E9E296B9BA1B5D6ED90DAED83ED finished...\n",
            "Process 88: Zx6EC130BB2F5E1ECB19C1DE97A5366FE2F3049D42D76122EC finished...\n",
            "Process 89: Zx6FF2EB37C2EA7D75AFDB72C27D1CFF4D7306CA415ACD6910 finished...\n",
            "Process 90: Zx7001D8A2879148E2DB5762644ECD07771C241962E4E0C629 finished...\n",
            "Process 91: Zx77A9ACDFBD87C032A6D4BD47C9303939BAB7F698FDA3DB84 finished...\n",
            "Process 92: Zx791155B439440F506C9D48D6BE3E8C215CFC9406E63E9980 finished...\n",
            "Process 93: Zx7960025CB586E7BF6FA909BED691E51ACD5B404162529B21 finished...\n",
            "Process 94: Zx79B59C3FC0E0419702D6AB6D3F87DC16968921B209E2FAF3 finished...\n",
            "Process 95: Zx7B822BF6444125EFAE0CBE34BFE082FAB35F87CD34A7CFCE finished...\n",
            "Process 96: Zx7D3427750776456FAE73FAD9BE0A5AB930A4A8A445B914AC finished...\n",
            "Process 97: Zx7D8D4EE4E705B047A0C06E182E991F5EDD818C202CCD2204 finished...\n",
            "Process 98: Zx7D9191CF3AC6C1D93283C7120BC4246CCB12EC8FA504570F finished...\n",
            "Process 99: Zx7EB8CBD8E387BF63ED581C37CAFE7980CB4D992C1D714120 finished...\n",
            "Process 100: Zx7EB9931AA0941B211A8753255BF0F5B979AF82872A0C0D7D finished...\n",
            "Process 101: Zx7F5C9B0247EDA7DFDDFA071A1FB4CC8DC6346FDCDB1F9925 finished...\n",
            "Process 102: Zx7FF1443ED897B9B54788562D4CD333296BDFD657E0767B2B finished...\n",
            "Process 103: Zx8019CD217D62047D3A5E39B116BF85416F30FC2B90B43D26 finished...\n",
            "Process 104: Zx80A5561818F25AC07CF5BBD9824B1C5E953DD87A0349CA71 finished...\n",
            "Process 105: Zx860EE7EB77360E72DA038ADF6937F13B8B5D3C868AB15B0C finished...\n",
            "Process 106: Zx88ACB7F8111B28133F6ABC943B7FAD919B0F8A0C05ED78F0 finished...\n",
            "Process 107: Zx88D671F78475F1666A356A95B0A80F6065868CB68F83FFBA finished...\n",
            "Process 108: Zx89B488AF6EEB32B25E26A6CA85C4C1C4B92A64FC21849295 finished...\n",
            "Process 109: Zx89FC1E08F4883C85AB68717F0426C0C74E27023C72AA4B8B finished...\n",
            "Process 110: Zx8C1A2078EF9BE45B85DEC3292FCC3BADD5AA593597A6F21A finished...\n",
            "Process 111: Zx8C85F35CE4EDBFA5FCB3FDD340DB179EF49C37C39B0FDB6E finished...\n",
            "Process 112: Zx8CB9D88383D22A202509E149F9E08171C4FDF085C4080F8E finished...\n",
            "Process 113: Zx8E3B91ED97D86D109CFA0D0A330B3EC8D65D58EA4C3A5BA6 finished...\n",
            "Process 114: Zx8F595A739BFF895B064C35695C85220229B0A1913459AB78 finished...\n",
            "Process 115: Zx8F8A147874051D878B272B30A4BBB599BB4455C8821CE579 finished...\n",
            "Process 116: Zx90019D6EB68057875071272397766A7ADE4635DF6C097558 finished...\n",
            "Process 117: Zx91BF216E50E0A5CA5D56DE31AC383F4BA7024C31BAA17644 finished...\n",
            "Process 118: Zx97261754F3796E1915B0FD671479F1AB0374CB2046EE22EB finished...\n",
            "Process 119: Zx9727ED2AF24A37B2F9BC2D929138ADF34CEC353B03AC7EB1 finished...\n",
            "Process 120: Zx9809790DF26AECDF9037CC13A779C2109AD2303A52D064A2 finished...\n",
            "Process 121: Zx9A4E499E3BA61229D5D60C22ADA56973D6266643DA2F37B3 finished...\n",
            "Process 122: Zx9ACD059285DAFEEA6A2AA4E3165D5D07214AE7ECDDFC4A16 finished...\n",
            "Process 123: Zx9B4C35462848C326141CFD0DC5F1C4EF283FC19334B3E9B7 finished...\n",
            "Process 124: Zx9C70756B5B6BC8D3C7F5415BECA195B3C406529E304D5B44 finished...\n",
            "Process 125: Zx9D0627C5FADDC3AABAA7082E72F91F2645851F71A8CDDF71 finished...\n",
            "Process 126: Zx9D76C42817583BCA25AF1F14469B372700E105BFC7452D78 finished...\n",
            "Process 127: Zx9FAE5E8EE578A076D0A2FB260477EAC119844611FEE70C48 finished...\n",
            "Process 128: ZxA1CECA46F4B0B1A2E2F950D08409F265138A1910A04F5C7C finished...\n",
            "Process 129: ZxA3F00A9B31186E9B131CF5D73AFC8C6F378E8E9AB62D78E2 finished...\n",
            "Process 130: ZxA4950C0ACC3EF8B26CA55C0BCC9F4B2AAF4AC97E9BE083C9 finished...\n",
            "Process 131: ZxA659E69F833B05BB97B93549E620AED2BAE6BE7237F8AF3C finished...\n",
            "Process 132: ZxA9790D652CB6D05C84BDBF01F47D0AFB4FE35E5DE8DF784F finished...\n",
            "Process 133: ZxAA767131DAB25B91FFFD47090A45916170B3CCC54BB52D65 finished...\n",
            "Process 134: ZxAAC0790F72C11A21866712169EF48A1707029E18B6F772CB finished...\n",
            "Process 135: ZxAC7AF4D4AA93212046D8BD720933BB15B7DC75032DDCDDF0 finished...\n",
            "Process 136: ZxACB9617CCE03C1D886BBE06140035A822CD22387DC32B8B6 finished...\n",
            "Process 137: ZxAD02986A72D719698CB0EF1AE7F6D312C8937BB41BC0FCD0 finished...\n",
            "Process 138: ZxAE590FC3798601D32F4FEA88F30C04E22452E5D3D6E1329B finished...\n",
            "Process 139: ZxAE84E65DFAE5468AE5985496628B1F6645A3F29550DDFE54 finished...\n",
            "Process 140: ZxB1E644A9BA91B24975341F46EB4710A1373080D30B129229 finished...\n",
            "Process 141: ZxB341A2039401E8A693C60443A7CA3856C074FE2B3D0CDDBB finished...\n",
            "Process 142: ZxB5153E511119429D1DBFB3ADA85DACE4978C0D66980F3A77 finished...\n",
            "Process 143: ZxB98D6A25EFB6B462DCD1468CF91B9B20C9F3616162C9E910 finished...\n",
            "Process 144: ZxBD18E2DB7C51055DAF5B040481555B72D876A164010ECE45 finished...\n",
            "Process 145: ZxBE2A252CBA88052F4A6B548249B9D70F14E4552A09EFAC38 finished...\n",
            "Process 146: ZxBF4F3E1B31BB16E1DE2DFCD18AE121A6E64EB6602ED786DE finished...\n",
            "Process 147: ZxC00AC887E580A439FB94EA0D14AA397D0E6A03655F32DE93 finished...\n",
            "Process 148: ZxC164015E40831B3B0E18A1E8FD9918DC82FF93BA48FAEED9 finished...\n",
            "Process 149: ZxC2713F3C71BF01D81229251584A45694670859098A88DEB2 finished...\n",
            "Process 150: ZxC3159DBA2C781D710771BCA8F153D7303E1A5BD5755A176C finished...\n",
            "Process 151: ZxC42D3022E6C3CE0C9DD574BF1D93C2D9C1E994479C7E2B0B finished...\n",
            "Process 152: ZxC4F6B3B9C7E6DDBC7F1AD6F7FC97B7F3B3D68691720D4435 finished...\n",
            "Process 153: ZxC5B47FC8970E84C0273DC3589FD1B49BE48E90082115EC11 finished...\n",
            "Process 154: ZxC7F93D23D81997D7158951EDAAC448DE709828F562E63B5C finished...\n",
            "Process 155: ZxC84914C04740C6E11D7199081CA921DAEA8E1BCAEB31F2F3 finished...\n",
            "Process 156: ZxCA41B3DD150137F9CA7D1459E9B006264D085DD41FFA3E31 finished...\n",
            "Process 157: ZxCCB3EEF9389115B646E3EB47019192E0854726CDB3E312B6 finished...\n",
            "Process 158: ZxCD050BB27F55FD0609CC2696F4A942E48F72FBFC999D7302 finished...\n",
            "Process 159: ZxCD22575B2A17483C01B82F2F6DE4BC5E4EAF57DC653B24DC finished...\n",
            "Process 160: ZxD04A91569E96BC232412EBF2B3932A78F5E87E4810FEE32B finished...\n",
            "Process 161: ZxD1290BA3F2C808F2F3C5F8DDE17A1E377342D93BFA10E60E finished...\n",
            "Process 162: ZxD1290BA3F2C808F2F80F8C16260A410922E6A41441749C1F finished...\n",
            "Process 163: ZxD3CB0C4524F67A4DC680470CA749853F06FDEC73A6C14A4B finished...\n",
            "Process 164: ZxD77AFB6361664508339CE17B0DF5B3AAED1BDA42A3502DF1 finished...\n",
            "Process 165: ZxD8736DEB1A7AFA67733E095769BBD236FFAD5150198E5109 finished...\n",
            "Process 166: ZxD8B05B79AB0360DC6AA08EAF2ABE755F8D85605805879606 finished...\n",
            "Process 167: ZxD9C2EB1D5809287187CFD08FABD6728D20DD6F5F6B17FEA9 finished...\n",
            "Process 168: ZxDAADCC811EB06CD6BB950F7E47C153D7E3542485781AFEB5 finished...\n",
            "Process 169: ZxDCB1D0A8AFA3BE4CA12B6011371A4C18E857E6B34D0F6CBD finished...\n",
            "Process 170: ZxDD934EA54F9887DE80AC3A5335A0251C1A50CC3AFF831D62 finished...\n",
            "Process 171: ZxE14FC86D8DB8F334E238A7401495A6EA732432C1C512A641 finished...\n",
            "Process 172: ZxE17161666FB01B0EC79D49DF3ECC93A77665EF5D978008F5 finished...\n",
            "Process 173: ZxE1BDE57D85B29E6B389E1EDFECA4768AE3321FF8D240C449 finished...\n",
            "Process 174: ZxE22AA5B99B19F2C890526A3A3AD6AEC539EC1B3F06C1D967 finished...\n",
            "Process 175: ZxE371E276426F15AA8D214C6719F38F0D2344C50355E0393C finished...\n",
            "Process 176: ZxE371E276426F15AAE78232321244D88B84128A3F7F8DC886 finished...\n",
            "Process 177: ZxE379608F86D71DD957F64A826080DEC2BEC3664FE2D70DBE finished...\n",
            "Process 178: ZxE379608F86D71DD9A2EE5FE1F9BCA94B1526AF3E1F5D036D finished...\n",
            "Process 179: ZxE51CD6EA3575F7429C27DEF64C4BFCADCD22BBA3960B34A8 finished...\n",
            "Process 180: ZxE5432B1C0A8C6480EDCE8D6A04FD05C2893FA3335EEDC24A finished...\n",
            "Process 181: ZxE5D406C8012C9EBEB11C5548C38B4E6925EC1CBECC33E524 finished...\n",
            "Process 182: ZxE90454592D06545CC14B4A48E7BB560D689A90D0B1C5B3F2 finished...\n",
            "Process 183: ZxE95E62069BD19852B3213F41681B488E3608E3272E5DEB14 finished...\n",
            "Process 184: ZxEACFC663D819866E172E1DD2EC69EF67339C975F9A23A451 finished...\n",
            "Process 185: ZxED7B1BDA85AD42455DBFBF89EE268C7A0D8EEE5718603F6A finished...\n",
            "Process 186: ZxEF511B489D3D04DD06E2FA29A75D940146DD16563BD866C4 finished...\n",
            "Process 187: ZxEF67EB2287C54DE9D545EA9F8D764BD5702AF9829424464E finished...\n",
            "Process 188: ZxF05120573C427C0597890DF3A1CE26BC669097F3F1694F7C finished...\n",
            "Process 189: ZxF11089D64DA1DFE18A84F981E53FFFC6654045FF6009E0B2 finished...\n",
            "Process 190: ZxF1D8E31B55562E67EBA90A70362DA561740036733C5C1E5C finished...\n",
            "Process 191: ZxF68BEE7E1F60DFA987A5CAF050A21BB2C8E5752CC1995DC8 finished...\n",
            "Process 192: ZxF6C74D5FFC69B6EA16D84D90132DF4FEEC24B8AFB78AC6B6 finished...\n",
            "Process 193: ZxF752E48B1F00DB74869D170A132A88E33A4B892B007EBFBE finished...\n",
            "Process 194: ZxF9F4AF14D7B1EF7C8A8B81093B86586B95997D0897E53F7C finished...\n",
            "Process 195: ZxF9F4AF14D7B1EF7C8A9B752879EC4ECFFB5FCDFCF843C9C3 finished...\n",
            "Process 196: ZxF9F4AF14D7B1EF7CD85451CABDD3FE1FDE0CF669B1D18B67 finished...\n",
            "Process 197: ZxF9F4AF14D7B1EF7CDC6F8B4AF9C24B1D2679C76AAC1B8010 finished...\n",
            "Process 198: ZxFABAF7EB4A6A337DAC455318150E97C294299A3806397653 finished...\n",
            "Process 199: ZxFFDF9619CAEA38ABE54015BA803F317F987FD3903FA531CF finished...\n",
            "reading traindir='Cropped_60-316_150-406_11-71/Train_Valid_Image_cropped'...\n",
            "xlim=[60, 316]\n",
            "ylim=[150, 406]\n",
            "zlim=[11, 71]\n",
            "Process 0: Zx00AD16F8B97A53DE6E7CFE260BDF122F0E655659A3DF1628 finished...\n",
            "Process 1: Zx00FE1B9A88E88C71CF81D0736F23E88BB9C35E2BCDECF501 finished...\n",
            "Process 2: Zx00FE1B9A88E88C71F8D11F50C2B5FBFEB3461E67BE1E83B8 finished...\n",
            "Process 3: Zx014E4DF04789E7E61C3B4876CE4D122DC14E0BB842E42E7D finished...\n",
            "Process 4: Zx016CBC4284052F6A74A56DAFFB0B39B95D4DEC066028AA4A finished...\n",
            "Process 5: Zx018905C639589E81D4C91553041B845F583C3365B076C8E1 finished...\n",
            "Process 6: Zx01F90B532F87127D864B9194B92EDDC3B0EA988ABB5E1D1C finished...\n",
            "Process 7: Zx039B4A139FC862D542D2AACC247C46DFCE9EAA705B5DEF40 finished...\n",
            "Process 8: Zx04424F2CF83E0AD3059C7706FBE311FDC83AAA8265D2325D finished...\n",
            "Process 9: Zx04424F2CF83E0AD3DDF3CC99A41482D909CBC495238F2FEC finished...\n",
            "Process 10: Zx052D253409F40A03B71D313382692559FB09F771A41F754A finished...\n",
            "Process 11: Zx0534778884B0E2267FCC4CF2BBF361589CD1D845F4A9C9DB finished...\n",
            "Process 12: Zx05576CE976F91BF416232FAF4CDF5F6C5DF852ADCA2B9DD8 finished...\n",
            "Process 13: Zx06DF7CE50F0A454CB7E53B3918C49334BFB49CACC36B7438 finished...\n",
            "Process 14: Zx07C5208D04A267A61BFB6EC968FBBB3DF25C245A6893273D finished...\n",
            "Process 15: Zx0800DE5C96380322A41C31B46264D40D1B72FEC49745785C finished...\n",
            "Process 16: Zx0800DE5C96380322E442453B99E25D6F1282F2C4A610A497 finished...\n",
            "Process 17: Zx081F9B5A0C06A23AE10DC1E14E6B9B4DFC71FBCF3B559AEB finished...\n",
            "Process 18: Zx08DA48B45B5C7D0182C369B8E0B013CAF9EEA43199E8AFEF finished...\n",
            "Process 19: Zx09413D933AD838CE8DB00704AB349855FE4721FC26037F37 finished...\n",
            "Process 20: Zx09D290397499695039422FD2002292BD781E5203436441A3 finished...\n",
            "Process 21: Zx09D29039749969505F54A1E8982B5BF5670F5EEABAE98ECF finished...\n",
            "Process 22: Zx0A5FF3169135AF89B21F2A97A7278E517EC8B499B0F14C20 finished...\n",
            "Process 23: Zx0AA2C956EEA5EAEA0DC0DA2606A8F8D0F334B97FDD860E1F finished...\n",
            "Process 24: Zx0B06041DB37FAF0160B564B48791D3B58804B731DD57F4AB finished...\n",
            "Process 25: Zx0BCA7F5108A7E8BCC2AB6094DE20A5C243897FCB0C82E20A finished...\n",
            "Process 26: Zx0C72F2127A469CAA6A49C516DC18B2706A43700721B5D8AB finished...\n",
            "Process 27: Zx0CAA076280D8EBEAA52926C4C6F1DB221F5C58F6EC8B2593 finished...\n",
            "Process 28: Zx0CE3BA2363A72325A7BB82B688463DBB79D224C67883F062 finished...\n",
            "Process 29: Zx0CFEAEA49D4E19D1219A4C230C6D82751179B29EE9CA9F49 finished...\n",
            "Process 30: Zx0D204781E3C58AD6EB37CC2E6EC18B935B00F9CC5D987220 finished...\n",
            "Process 31: Zx0E392B7839BC0EDBDA8BEAC12F819B61409DC2804FB3F997 finished...\n",
            "Process 32: Zx0E3C20D9BB248666701B02B803ECE6BC4306B85A53E6DE38 finished...\n",
            "Process 33: Zx0E64921E82ED12C88791307B1B09E979ADC3FBD3845D3927 finished...\n",
            "Process 34: Zx1060A72A4F5C5FFE63F395F263138C39C901CEA1B608B5D3 finished...\n",
            "Process 35: Zx10E5A02B21E2368FB1C4CE0CBD7EFC890FAA56ECB35CBED2 finished...\n",
            "Process 36: Zx117267214EB944C6E8593100AAC6E8FE5D47143C67350F53 finished...\n",
            "Process 37: Zx11E4702AA837EC465D5D80C1BC23104AD4388C527E94033D finished...\n",
            "Process 38: Zx12530E751E5315C37CEE489CA53DAD4806EAF276AEC9F18B finished...\n",
            "Process 39: Zx12530E751E5315C38EEF85D4C1B0308338838B8C2983106D finished...\n",
            "Process 40: Zx12530E751E5315C3F09F11CFCE42D6BA786BE280C8BA5C5D finished...\n",
            "Process 41: Zx12CD0450CBDF59B92B8BFF3AE5296DF73C619990C8117DCE finished...\n",
            "Process 42: Zx12E8C030B31F39B52D2C9FA262B92370A9C7BAFDA12373AF finished...\n",
            "Process 43: Zx12E8C030B31F39B5C0374AE9C7AA0FD527E0F819E430AA4D finished...\n",
            "Process 44: Zx12E8C030B31F39B5C62831916119C7108A9A7C2EA7625746 finished...\n",
            "Process 45: Zx13380F22EFEA0B62205EC17938D2A84A71C8153C1D25B7CF finished...\n",
            "Process 46: Zx14087FD7C271A7D92C0F8CF2AD8131123F9C59DAE6DA5705 finished...\n",
            "Process 47: Zx14E419FB0929647C385FCFE5FC3DE04521DBD602302EC152 finished...\n",
            "Process 48: Zx14E419FB0929647CE43F1FACB88A1F623BAF9D0F6836372F finished...\n",
            "Process 49: Zx15FB4DF1D36A7B4AA9B00B4D8DE5B757A9EDD1490640008D finished...\n",
            "Process 50: Zx15FB4DF1D36A7B4AD94C813D415FA88503C2381519A8357D finished...\n",
            "Process 51: Zx162F641C827B6EE83C571BF7AEA8A018024AC788B8C0B158 finished...\n",
            "Process 52: Zx16D93043D5D4E4D3393FB6C9DC8E305AA39CC4FCDD1B952F finished...\n",
            "Process 53: Zx171AFF296B798AB089F4652DF7A4E18DF96CFEE1B08244E8 finished...\n",
            "Process 54: Zx171AFF296B798AB09AD7911E3669EB7736CE2062AE9F80DA finished...\n",
            "Process 55: Zx17405CFB23569FC22C6738129E6305B6EF0398BE89533406 finished...\n",
            "Process 56: Zx1843C96056436B4D01517C950238025999165FE4A16A8110 finished...\n",
            "Process 57: Zx1843C96056436B4D91A7A4727E773B3964907516AA7E203F finished...\n",
            "Process 58: Zx1882493D839CC3171D0FEA7AE764BB5BC308D707E75CCB60 finished...\n",
            "Process 59: Zx188AD4803C40A1FBE691B933154BA5659529C18A8032265F finished...\n",
            "Process 60: Zx1950A84DEF7878F0254E551A842C621B4740CE91E85CE8E2 finished...\n",
            "Process 61: Zx1950A84DEF7878F043E3BB7A5D65E310BC050172FCA7CC14 finished...\n",
            "Process 62: Zx1950A84DEF7878F0CDEE2AE1E07365E7C7F651215ED72155 finished...\n",
            "Process 63: Zx1950A84DEF7878F0F9E32AF9F820CA049C5880BA46C37601 finished...\n",
            "Process 64: Zx1950A84DEF7878F0FA4F817AEE5D56DF2534349D8C94B8F5 finished...\n",
            "Process 65: Zx1977ADC4FB423A510927DE5147FA1581381604AC0BB7E825 finished...\n",
            "Process 66: Zx19A878BE9D7FCDD564CF0D0630D0E05F305D03B734E6FBE5 finished...\n",
            "Process 67: Zx19DC911CF61B42EE4F9E967F39224A9297426E7C6AC03D8E finished...\n",
            "Process 68: Zx1A447D96D387B7C45053917769DF2A154E9A765A87D51A24 finished...\n",
            "Process 69: Zx1A5E6FEE5BA94F6D9C91E1BBACAE6959AB96EB6442A0524B finished...\n",
            "Process 70: Zx1A8AFCB885E0D8BC44A0ED9AEF59DD90D90777A8345747EE finished...\n",
            "Process 71: Zx1AC280D33D45A2973879438429EB6E09CB3DF1914B26DED8 finished...\n",
            "Process 72: Zx1BBA21D9DA37F2D063D4A85F624E8D72C0410728E334B442 finished...\n",
            "Process 73: Zx1BDF4C967678080E6779C2713B10F3B23CE3C1CC7F2CC8BB finished...\n",
            "Process 74: Zx1C6B814369828D2A1FE29B8B7CD4D21752A8CB1AE56781F5 finished...\n",
            "Process 75: Zx1D4DA6EB30F0E21BAE9B15E262721240DDC420DD988AAC16 finished...\n",
            "Process 76: Zx1E550FA95B8A7552A06CE65E3BEED1EE034D46B71AC2990F finished...\n",
            "Process 77: Zx1ECC8B15EE2388642B2C05331250EEB951BE580304D38622 finished...\n",
            "Process 78: Zx1ED66EE4F0492C4C63EED347F5480C328DED4C1955880614 finished...\n",
            "Process 79: Zx1F0951EDF2B31E5E932707FD021961BFCF8586E917ABD120 finished...\n",
            "Process 80: Zx1F0C08B15A2FA4B85694E240248D208FBA9CDCFA1B19D3E5 finished...\n",
            "Process 81: Zx1F2D6E616335D5D7A26B93C9CBB01658781603DFF3B46DF8 finished...\n",
            "Process 82: Zx1F83D85BC2A7A55A165937332E32D7646399FC21D7283669 finished...\n",
            "Process 83: Zx2030E3E34625286F57D63B10F1912D4A18F991C22F6463A1 finished...\n",
            "Process 84: Zx2030E3E34625286FAA000B1D4CFF2D07BD489B513C82E9A8 finished...\n",
            "Process 85: Zx208D824934941221A20E8F9C315A6AF45B61E20DB5B3F4E5 finished...\n",
            "Process 86: Zx20BDA35C14C29E61E035F264496CD4F4F97D288082512F40 finished...\n",
            "Process 87: Zx213F87C44A60B71BFE117EB0EB9A5870E0CEB9197701FF60 finished...\n",
            "Process 88: Zx215A14F9057233B70538C32D1748F817319662FD34E6690A finished...\n",
            "Process 89: Zx220A8CBFA565CB8498E6FB702C7E03B920F2361EE7B62A6D finished...\n",
            "Process 90: Zx22D56AA7E544151923FF1A90F02F59919EC170C85187649E finished...\n",
            "Process 91: Zx239BC1FBE61089C9B2368A86E36BDF3136292547D9C0EBC4 finished...\n",
            "Process 92: Zx23BEFE24BACE6B24798B7B8ADA70E5DE0151270247B6EB07 finished...\n",
            "Process 93: Zx23BEFE24BACE6B249C37C240B74348796802474012995344 finished...\n",
            "Process 94: Zx23CE39ADA19715437B08F04B4F1E962B9E854E1DE01B814F finished...\n",
            "Process 95: Zx23F8F44ED97A93B2C3487F13DBE296C7A694804866EFF350 finished...\n",
            "Process 96: Zx246E98149CE2B848DD11D93B1DAC382E56997966B5FB4B1A finished...\n",
            "Process 97: Zx24711EE075325408C49B564C1D646B2F1A6BE15A31716D85 finished...\n",
            "Process 98: Zx247C48E8B7D1EABBA1DEF5CD4AC1D8E8ACAFA8C759A85107 finished...\n",
            "Process 99: Zx25DFF1358FA299AFD313E29BFC17C150096D2B97BDB7E2ED finished...\n",
            "Process 100: Zx25DFF1358FA299AFF037CA3B98580B73B25B4E2B3B4172F3 finished...\n",
            "Process 101: Zx265C799B18CE4D6DE5A3671D65F5B018D713919204868A0F finished...\n",
            "Process 102: Zx2727C103B14E93A07709A14282274DD35B6A23AA6127CB0B finished...\n",
            "Process 103: Zx27ECA58C0AE0031815C0AE04CA9002F10E1FCB7F5686AE48 finished...\n",
            "Process 104: Zx28C2905F39B77B64E242963BF9BA3069E135FDCC8A782720 finished...\n",
            "Process 105: Zx28CA9394EF10537307B5B8DDC24D756E20354ED9E8B3237A finished...\n",
            "Process 106: Zx29249C3340706D8A658BC96F288DE057693CDCA0C50018FF finished...\n",
            "Process 107: Zx2933A24F5182C585C1ADECFA9FF9EDDB3F9432CBB9E30A24 finished...\n",
            "Process 108: Zx29D944DDC12D73E641FD78628DA3CCDAD0CCD13F9C098056 finished...\n",
            "Process 109: Zx2A3C9F90B97FC5CF48D8F0046D61E7AA7B868D85B83054AE finished...\n",
            "Process 110: Zx2AAE948072335FDABDFFA2D972B5638F4069A5D8D0B432B8 finished...\n",
            "Process 111: Zx2AB19BB5DD94C321AF90101CD847A97A335713B9A85CD6E3 finished...\n",
            "Process 112: Zx2AF7910D2CCF58C07FF4E3EFC228F15E7DBD8E71193CA7BF finished...\n",
            "Process 113: Zx2B401975A0A7FE26B9906E1047BB2A92BC4D80CCC69F0DC8 finished...\n",
            "Process 114: Zx2B7652752183E77F7E8BC4D7F8608C151B41BFCA53475095 finished...\n",
            "Process 115: Zx2BDF57DC47BEBC12497878BED38545FC731D32F176C58DC9 finished...\n",
            "Process 116: Zx2BDF57DC47BEBC12CC3C156DC1BCE0C07D16D40692007D96 finished...\n",
            "Process 117: Zx2D43BBDA962A8DC656EF3C61E52CC75604BAD0E6AD08F938 finished...\n",
            "Process 118: Zx2DD7E0642A4827E03C235724922D866A37D619A859B89A73 finished...\n",
            "Process 119: Zx2DFEA8EA90862E241A9E13821C48D3B2E872D0C2A8A32B0B finished...\n",
            "Process 120: Zx2E05E179442C54DBB858D2E4A4793809F073143901DE68FF finished...\n",
            "Process 121: Zx2E37BB6B0F79F459E7F8431E590AE9020866183BAC616B5E finished...\n",
            "Process 122: Zx2FA626656496845ED534D6B5B760541A21647F2F5D42B581 finished...\n",
            "Process 123: Zx2FA626656496845ED6C525AEB7549C132AA41B54CE30EA53 finished...\n",
            "Process 124: Zx2FDB8744E9FC6EA5EF801273D38E91C4DF8A76ABD71C8668 finished...\n",
            "Process 125: Zx3093899D9E29307AC4914C2AADFC81EE001ADB65AC761C42 finished...\n",
            "Process 126: Zx30EB98600B79F8C276472CFEDB2C86FD69F24202CC043683 finished...\n",
            "Process 127: Zx3140C2C02EDB97CF639FD86D9858631782AA626B70EBD723 finished...\n",
            "Process 128: Zx31F5838671135830967C7971C05599F30898ECE6B723A12B finished...\n",
            "Process 129: Zx31F707B0E35DF9B8B4A76C9966A99CF199418456428E600C finished...\n",
            "Process 130: Zx328EF1C62C85DF795D818DD80646CAB28474E58B37DFEDA1 finished...\n",
            "Process 131: Zx33560A1F5550D0D3F5A3877D204D89E91636D7B0E10E71F0 finished...\n",
            "Process 132: Zx339923E0B41545328BB08A03DF57E5D8769CDC9340662F72 finished...\n",
            "Process 133: Zx34C115FB55D8474D6F19B61FC5388EE4CF710E60F31443C5 finished...\n",
            "Process 134: Zx357B92BC3020A6B71E71EAAE33CC0DF854572A263A40A123 finished...\n",
            "Process 135: Zx35E3E6E7CBA729A6039A604D4E5030CDE9F1D1B8E4B25F23 finished...\n",
            "Process 136: Zx35E3E6E7CBA729A68C78E99308353E84782E6E91469ECDC3 finished...\n",
            "Process 137: Zx35E3E6E7CBA729A69C4D5E5FF5C1FF0B522175A77B8C4CB2 finished...\n",
            "Process 138: Zx35E3E6E7CBA729A69FFB90491C3F4F8A7CCC1928F15531FE finished...\n",
            "Process 139: Zx35E3E6E7CBA729A6FB73B987CF05071ECC712D25113641E4 finished...\n",
            "Process 140: Zx35E3E6E7CBA729A6FC8BC9B2BD86D23A421B431FF734CD90 finished...\n",
            "Process 141: Zx368E67F85BF96985DC439B3FE00ABF3E804296FA6D8C771B finished...\n",
            "Process 142: Zx36B440051EEC06B876C7C58CC95BE6A4967D53C10BED4B2D finished...\n",
            "Process 143: Zx379B34C33DA0FAC86BD8ADFCFC1B2CF739D4C90FEFD47551 finished...\n",
            "Process 144: Zx37CF014F6D0060337C7856CEE7CB09E488C90A330822072D finished...\n",
            "Process 145: Zx37F988F53E9C391591766FE9726D7E92F0D6153B245C18BC finished...\n",
            "Process 146: Zx3889EF0BF9B77B23721E34BC2031D10FE9DF1A9419F4BB2E finished...\n",
            "Process 147: Zx392DC2738CF9E3FE3D894559CF117E10EF36BBDC218E7896 finished...\n",
            "Process 148: Zx396059C7C80AF72A2B9B5987A8DB6F28222500A9F881535A finished...\n",
            "Process 149: Zx3A219BC45F1B5BAB2AF0AFDABDA623D33DD885F24C4D36CE finished...\n",
            "Process 150: Zx3A3EABEA40351DA0CAFC4329114A1D243B5675706C49F661 finished...\n",
            "Process 151: Zx3A5E7419657D5644214B6C229CD7862ED9D7FC5DBFBD56F6 finished...\n",
            "Process 152: Zx3A5E7419657D5644ED0DF48D1BD528DE82D174588DE43B26 finished...\n",
            "Process 153: Zx3AB91ED4F2F9AA3B7A57258D3F98FCCD7E26E12DDE6A45B3 finished...\n",
            "Process 154: Zx3B1D6C9714B7C54C43C7170067F7F17876E134172A8F59AF finished...\n",
            "Process 155: Zx3BBC3ED501BABA5D16E5B523FCD04D4C2AB0E94792A4401E finished...\n",
            "Process 156: Zx3C73BAEB9FF5DF9B3A6958528BDC3FC0CA1D8180877BACB7 finished...\n",
            "Process 157: Zx3C911819A0051992F399041B71D79C707FB5FD77A1B605A8 finished...\n",
            "Process 158: Zx3CAF1DB7C360026E40C13D13A8990245800B461709D2A425 finished...\n",
            "Process 159: Zx3CAF1DB7C360026EC045CCBAF6DD38283021AEF22B25D811 finished...\n",
            "Process 160: Zx3CDC546A37075405DFB8BF11A7BE8449A084A84EF4EA554E finished...\n",
            "Process 161: Zx3CDCA9F641D62305C95CE3BD60D231589DA1BB1068CDC923 finished...\n",
            "Process 162: Zx3CF258177C07C53E74433236D3E2AC22B45A8FFEC3DF495E finished...\n",
            "Process 163: Zx3D2CD874E8BDB341DEA1814FADD0130D265176FA561C0799 finished...\n",
            "Process 164: Zx3D83B53CBABAA156CAF6096C44B4820E38236E4FB31E4A61 finished...\n",
            "Process 165: Zx3D9CAD8F3C4AD007279632AA3B99D80B2120EC4D76E81C98 finished...\n",
            "Process 166: Zx3E54BDA9793D4E7B0A260267CD3901E9B5ADECDD307E0E32 finished...\n",
            "Process 167: Zx3EE32B570B8DB6863F4DA6447AE91C61D04AFF02F7E64F04 finished...\n",
            "Process 168: Zx3EFC704096878550259560DBD492CCDAC89B53588BA1B90B finished...\n",
            "Process 169: Zx3F0AA5B24089383F0C3CCA7C081EF5810B5C8B85C069D780 finished...\n",
            "Process 170: Zx3FBF0E56F75857106A79F089DD99578868683577250E1038 finished...\n",
            "Process 171: Zx401C2F09F8961880B81DE71DC3591264C061FA1F64536698 finished...\n",
            "Process 172: Zx40816DF96E52884DF695E52EF19263822DE95B49F0649B4B finished...\n",
            "Process 173: Zx40F840D637C6BE3A1BE6C9EC9082C0F9FC4989466ABF83AD finished...\n",
            "Process 174: Zx40F840D637C6BE3A6FE087E78441E9BEEADE6FB46EED707E finished...\n",
            "Process 175: Zx412666ED5D058647EA3C1C62B7B2E3EA254193AAC85F3CC1 finished...\n",
            "Process 176: Zx418C74DF2B303C5B8E30971984584650747FFD8B71B7CF90 finished...\n",
            "Process 177: Zx41EBD2C0D9F5ED631FEF89B057AA2B0E20A73098795E7D69 finished...\n",
            "Process 178: Zx4266C1F9BEFA9C6A16FD59791D1CC9569A8EB0209378ED9A finished...\n",
            "Process 179: Zx4266C1F9BEFA9C6A74B3118E30AB5E08510E6818B3513FB9 finished...\n",
            "Process 180: Zx4266C1F9BEFA9C6AA0DE3C909EB501A8AB41DBF83C8A0110 finished...\n",
            "Process 181: Zx4266C1F9BEFA9C6AAEE9EF65BFE5E6191A7B2B2AB0382526 finished...\n",
            "Process 182: Zx427D8F8A6DEFF9BF7B2EF54E37E95B76F6153BDFDE9D9A48 finished...\n",
            "Process 183: Zx427D8F8A6DEFF9BF809FB207806C6707A43B2B9D9E3D4E72 finished...\n",
            "Process 184: Zx4285BE9103DDFF6D87B65634773FDAA54C9C783C27505529 finished...\n",
            "Process 185: Zx436CAA0C532C93523AA7FB9BC51F9A3737EAFA1D61767CC4 finished...\n",
            "Process 186: Zx43FC969EA95F318B07022BABAE9D90249E0CFACFF25F792B finished...\n",
            "Process 187: Zx441D6426B1525578210227CCB9A039239447D429709EFAF7 finished...\n",
            "Process 188: Zx447638CD7DD8D149C3BEF257EABAABF4C46F734C71AE6981 finished...\n",
            "Process 189: Zx447638CD7DD8D149D3B2E284E3E26B33E9999753A141C5C8 finished...\n",
            "Process 190: Zx44DDADDF8B1E5B444E883375CD5462450F3905013F5C97C7 finished...\n",
            "Process 191: Zx4553C091B4BEFA9D501DF368358E07BAD8C6CB96EF0E3653 finished...\n",
            "Process 192: Zx4553C091B4BEFA9D8CC7280E593AFF94F9E98724858A0654 finished...\n",
            "Process 193: Zx455FA34A3BE4D468CEECAB6E05B340B28E79975DC74FB194 finished...\n",
            "Process 194: Zx45F13921C226C17F102A4F606603CDDBEA75BE28A72E2BE0 finished...\n",
            "Process 195: Zx45F13921C226C17F462A75B6CC7838AA21C2D3021AC18ACC finished...\n",
            "Process 196: Zx45F13921C226C17F9A7B30076DC71FEFEF892B3B7EF4B61E finished...\n",
            "Process 197: Zx45FD7D8A9273DD8852F512C92FB230C54878555B75598939 finished...\n",
            "Process 198: Zx46869E52A3F149236E92AFF4B153AF238C79D10725FA71D7 finished...\n",
            "Process 199: Zx46869E52A3F149239D84F215C0B9EDB557D049DAE7C12BED finished...\n",
            "Process 200: Zx46924D16A41AB87F8EA418222C570A092D58F528C0E17C9C finished...\n",
            "Process 201: Zx46E8D3737980BCE318ECFF231D8E8E68BADF834D2C904812 finished...\n",
            "Process 202: Zx46E8D3737980BCE3A7193955279C6617A926C56BF6DC2916 finished...\n",
            "Process 203: Zx4725243262554FDC2B80C3627CAE5B3951CB1B81134D392D finished...\n",
            "Process 204: Zx4725243262554FDCE62048D48AED30EB82CCA45F300E2133 finished...\n",
            "Process 205: Zx47787568849DA67380F1BECE18D8185F851E92DEB0B22466 finished...\n",
            "Process 206: Zx47787568849DA673E708BFD5C10F6C55109F48B2BD0220CF finished...\n",
            "Process 207: Zx47F849224B4386F1F88873AE64402F3E1783E527C68B174C finished...\n",
            "Process 208: Zx48E620D924CB07B41E645DBEC9D7AA57AE2EAC78CA45BC5A finished...\n",
            "Process 209: Zx496C13E394BED37D1BCB2A89DBC1FECFAE893DEB04DC773D finished...\n",
            "Process 210: Zx4A3A3EB7F67074DEA9C5668137108C5BDFFE5AD82B6C9968 finished...\n",
            "Process 211: Zx4B3FCDA4F002E6F7DC5B4E3A1C0B374F878D53CD81E1E43A finished...\n",
            "Process 212: Zx4B6596BC6B8F4E453F94CD18A4F442557E1C337ABE838769 finished...\n",
            "Process 213: Zx4B6596BC6B8F4E45528220BA49716ABC5A1D36C7AB70748C finished...\n",
            "Process 214: Zx4BBBE8ED4ABA846DB16B6B6D6836D742D8EF280D0E45CD33 finished...\n",
            "Process 215: Zx4C840C22A6CE7B1E6D6CFD56353E464340097A6A450AD1FF finished...\n",
            "Process 216: Zx4CD16CC71906F530428B1C4283EAB7915D7BF3C29CF4EA15 finished...\n",
            "Process 217: Zx4CD16CC71906F530977DB9230FE057C82495D1E34DF0FE3D finished...\n",
            "Process 218: Zx4CD16CC71906F53098070226ADFA18E786514A2D5955BC24 finished...\n",
            "Process 219: Zx4DC770B0CEF5E3B5CACF89B1C31282A563AA1186358D099C finished...\n",
            "Process 220: Zx4E65E57D92E3B1AACBD961CAB8541E13A5975685B7E45EDB finished...\n",
            "Process 221: Zx4EAFC9446FC2FDA96475B0F321C447A4D8889B907C7D9914 finished...\n",
            "Process 222: Zx4ED2135FF0A55C3D7A4B8D120D480744B2AB59059A00E138 finished...\n",
            "Process 223: Zx4ED2135FF0A55C3D7F1BAED00A9DB4024C7C414B49313DFD finished...\n",
            "Process 224: Zx4ED2135FF0A55C3D813B23BFE9225DC9B3593766EF832279 finished...\n",
            "Process 225: Zx4ED2135FF0A55C3DF37F0C3D518BEF91E06140DA413A2713 finished...\n",
            "Process 226: Zx4EE17C1A79A4E37821C471B90E1694F15799373A2669C6E7 finished...\n",
            "Process 227: Zx4EE17C1A79A4E378EA88BEA9904B740828B28D6018979D29 finished...\n",
            "Process 228: Zx4F4C96D1D988000B83C914F75CF613B65D523A6FE968772C finished...\n",
            "Process 229: Zx4F7C67B1B416E7F41724AED528381DCE36E232E1B962B78A finished...\n",
            "Process 230: Zx4FF8FA975791743419B6BAB67980A5A742C8B1F1C7CA1D53 finished...\n",
            "Process 231: Zx5018996AE3D312B7C7CC6D1D0E2D547ED07A494F0D3A709E finished...\n",
            "Process 232: Zx504AF1B40D661E3182C6531F7B46480E7F41078D06CDCFAF finished...\n",
            "Process 233: Zx504AF1B40D661E318808E342755F5F8F5F2176329B1099FC finished...\n",
            "Process 234: Zx50A6A79EE36E3CCD5AA6014B76839AC1847143AD49447EA3 finished...\n",
            "Process 235: Zx516EDA06AFC86A96CF83E05B1E2C72062F6B42B007CCC45F finished...\n",
            "Process 236: Zx516EDA06AFC86A96DEF620D64057D24304932BBB29032A2C finished...\n",
            "Process 237: Zx51A80B3E99993CFE8D49D032D315D5AA7470D7B51AAA3BA5 finished...\n",
            "Process 238: Zx51CD05AAA1BF2AF178052BEEE6720CCE39FDAF9ABB7F7EBF finished...\n",
            "Process 239: Zx52A1B18E58F40C8FB77C2A69696B8742CD80BDED294F9DEA finished...\n",
            "Process 240: Zx52C5BF85821A07F0BA9C171C7A9848144E1316D64660557C finished...\n",
            "Process 241: Zx52F220173F215CEE2AF44E2741D07661594B72C69AE57DEE finished...\n",
            "Process 242: Zx533EC33D04581309BAE79E02170CAA48037AB85859283614 finished...\n",
            "Process 243: Zx53427F159B58FC850825C73FE4FD5EE6F9F5004A129732CD finished...\n",
            "Process 244: Zx539AA3BFF2614BB114CAAD4E135B24474C2FD45BDCF3C18D finished...\n",
            "Process 245: Zx539AA3BFF2614BB11EC301F922DF1D6EB66F648CFD86B6EE finished...\n",
            "Process 246: Zx539DB79E41F6AA2BDC7E79B33C76FB6FD5585583B66DDB1D finished...\n",
            "Process 247: Zx53C966B8FF31C915F35CBBABB90687CADB06D59789663C41 finished...\n",
            "Process 248: Zx54187A4FBD409DDD063160262732D37E9CAEFA2A2FC29570 finished...\n",
            "Process 249: Zx548829E2295B777477EEF5AD7B52516483F97FE03FFCD0EF finished...\n",
            "Process 250: Zx54ADC117CB68757CD26FAECB856335BAEA518BADA3B1D562 finished...\n",
            "Process 251: Zx54E4C11D0D91C0320F543B0FCAE06DBC6E06E12714DD7B01 finished...\n",
            "Process 252: Zx552814BC181CA38B4610252231F024FFC655093C180B1094 finished...\n",
            "Process 253: Zx556FFA44D63AD311B1EA1654E65E580B12F368456EB8402A finished...\n",
            "Process 254: Zx55AD3019A3318C2B3949A3914CC9AC3C90BBF24D783964DB finished...\n",
            "Process 255: Zx55AD3019A3318C2B6C699D41E4EBE763BC4E47BF4E9BFD8D finished...\n",
            "Process 256: Zx55AD3019A3318C2B9B2E59E2B3FF6297E8A5FA91A1B64E5E finished...\n",
            "Process 257: Zx55AD3019A3318C2BD693F2094679AD6751F86FF222B86674 finished...\n",
            "Process 258: Zx55AD3019A3318C2BF1342646FC3BC5AFD28C776950E8D4C4 finished...\n",
            "Process 259: Zx560FA552A9EA24CC8B312C0989F2E7131DE48CD20C69FFCC finished...\n",
            "Process 260: Zx567CD9145A3FAD22F4F9AF5F7704C9AC0822FA6A2845A546 finished...\n",
            "Process 261: Zx569638AE4C6131C024DC3ACB924A14606A7FE61AA98AF107 finished...\n",
            "Process 262: Zx5697C4D4B57C86BAC72CF2508522FF72DB9C1398212C92E3 finished...\n",
            "Process 263: Zx570BE55F360243A2C82C21EADDBA4B7CDBBB67C1C675B6CA finished...\n",
            "Process 264: Zx570BE55F360243A2D789EA5346E536AA3B16516B7A428776 finished...\n",
            "Process 265: Zx5744CEC558A46B4B1C9CB6E9F1BB82DD31F624849A7D8889 finished...\n",
            "Process 266: Zx576D16727D7458A29DD6308F918A95629EBD04C50E0663C3 finished...\n",
            "Process 267: Zx585B8A00D898282575834078CEA6E95B517214E5BDA4346E finished...\n",
            "Process 268: Zx58903BF72C6A38433166E6F075772C175673B81B9F1F10AB finished...\n",
            "Process 269: Zx58B3541B1F7C60025FEE6D5327EF78531440992371F5596E finished...\n",
            "Process 270: Zx59081DADCE950F83F408A7E2B9243A95897D2AB71975AE9A finished...\n",
            "Process 271: Zx592AC19BC9D9FA058832C0A3BBF004D193EE9FCD53D7941B finished...\n",
            "Process 272: Zx59AF27E8861C2B84EA3D742C5BA50ED0FDABD819FEC40D5C finished...\n",
            "Process 273: Zx5A9FEA715FD1A8263F2E5B132F4C8BBD4C8F4DD842DD2A1B finished...\n",
            "Process 274: Zx5AA1D80CF63593C15D3C2765D610F5BA7982C25680FAF048 finished...\n",
            "Process 275: Zx5AE6C0BC2598BDD4418E7A8658ADA771F8FD493920A3575C finished...\n",
            "Process 276: Zx5B2EA8EFC623BB938351A9D7366D39863A1400448399461B finished...\n",
            "Process 277: Zx5B2EA8EFC623BB93EE133D50B26042A9BB1B0A00D0166B7D finished...\n",
            "Process 278: Zx5B4958EAA06DEB89D67B8BD142312D0F7310519CDB56C6DA finished...\n",
            "Process 279: Zx5B765CDC56B851B4598AF1200F042643D3195B7D11F263CF finished...\n",
            "Process 280: Zx5E17136591B2A37232A19F78B2FB7A148374C27F3E4AF04B finished...\n",
            "Process 281: Zx5E17136591B2A372477FADCF1395486EEADFD11F92592F3D finished...\n",
            "Process 282: Zx5E6AD13F5302AA05595B9EB5450DD27CBB58794EA6C7A614 finished...\n",
            "Process 283: Zx5E8347EB932D86FD061C76415E5274A2B4C198692DF29C64 finished...\n",
            "Process 284: Zx5ED102CA7FB8181668D560C18DB7F2D039681F36BD74CDFD finished...\n",
            "Process 285: Zx5ED676E3244BB1F8C12245004E0CBBB5E906C8181F79B425 finished...\n",
            "Process 286: Zx5ED676E3244BB1F8F29FED01A9C6EC7A22CC92EB941DE0FE finished...\n",
            "Process 287: Zx5ED8A3BACE488CFAD795B5660B429EEB6B818FE598C0CB98 finished...\n",
            "Process 288: Zx5F2AEE74B2E52EBF5A636F34F538722F96B95B952F107966 finished...\n",
            "Process 289: Zx5F2AEE74B2E52EBF6F3AB9AC2114C9935CCD157AD868C901 finished...\n",
            "Process 290: Zx5F2AEE74B2E52EBFD474D6D6E344A6FAECEA7E540513098A finished...\n",
            "Process 291: Zx5F4477ECD6AC7C4EC0081C65A0CEADBA6EDE867305DB7CBA finished...\n",
            "Process 292: Zx5F4477ECD6AC7C4ECB44EF66D9225614C4DCDE42A5CF50F7 finished...\n",
            "Process 293: Zx5FB948563D7915F08329339DBA9632722C0A554057C2AB47 finished...\n",
            "Process 294: Zx5FC5BB8A8DEDB54D8DF151F0E53DC6DF425F551F8C23C86F finished...\n",
            "Process 295: Zx5FC5BB8A8DEDB54DACD271062B296BAA0CCE2FCBF13D07D3 finished...\n",
            "Process 296: Zx600BB33B3216E05B3AC413C88A493360C21EE4F2375C48A5 finished...\n",
            "Process 297: Zx600BB33B3216E05B9B225F545650A4CA45BB1C63C3D2A2A8 finished...\n",
            "Process 298: Zx600E30623048158F7533EB1DCED6BE3B5202FFF03D4D6510 finished...\n",
            "Process 299: Zx60858041F3848EF43F3AF1650B34638570A767547A5AA32B finished...\n",
            "Process 300: Zx613684AFEC73B7A5AA16CA4069B403460CF4F594FA68CF3E finished...\n",
            "Process 301: Zx615BF0336F2C1E791E08E758A9D582776B56C66DCEBD5883 finished...\n",
            "Process 302: Zx61704E649960C4029C1C1AD27E6317C2F8C748C8B932A3AD finished...\n",
            "Process 303: Zx6255D6DBE1B906A9F3A402EC7F758DB66E06ED0CB2FFBF79 finished...\n",
            "Process 304: Zx62B066968229B5907BDD0B2438B643250368BBD932D0D7DD finished...\n",
            "Process 305: Zx62B066968229B590A10133BBF71E44E9F0616A9B4B736B4E finished...\n",
            "Process 306: Zx62B066968229B590EBB11C47F554D33E80C6E51634B8634C finished...\n",
            "Process 307: Zx6318BA5A929812A3EA20A9A6012BBDEAB8B71DB56B559150 finished...\n",
            "Process 308: Zx63194BF7E3385CFDC26585F0DF2185ACC740B745201AFBEE finished...\n",
            "Process 309: Zx636EDE3E4647747562CEE36581CC8883234F2231166B697C finished...\n",
            "Process 310: Zx636EDE3E46477475F68A5D49A7A32440949F06C39C0073BB finished...\n",
            "Process 311: Zx64A95AEC2BE98B00C48F17A4D5ECEF6081B0F041E66A9775 finished...\n",
            "Process 312: Zx64A95AEC2BE98B00C9CB7485C4517A67FFA4C7D5D78C5BE2 finished...\n",
            "Process 313: Zx64D8ABDFA2E7D305567FF5A35BD00F37D18A724E05FDE931 finished...\n",
            "Process 314: Zx64E8FCD44CF250DDF6FEA4135678D14B0FA63C2D8F5909D0 finished...\n",
            "Process 315: Zx64EAF1574DDAF8EDE415B3471C6EF446DAC86817AF514F35 finished...\n",
            "Process 316: Zx65269658C21EAC9802652A31DABC4D9FE8F885FE382BFF87 finished...\n",
            "Process 317: Zx65269658C21EAC987B7A7AEE55A1AB22A23D0BC79E0F8A66 finished...\n",
            "Process 318: Zx656588024899FE03C3CEC05B7B5778D041E1ECD352CFE59C finished...\n",
            "Process 319: Zx657D9745A22BCF4D734ABB69FE7048520DF1376DB1C13C35 finished...\n",
            "Process 320: Zx65B039F2B5CA9CD437E732E0B9E358CC5AC409AA867EDCD6 finished...\n",
            "Process 321: Zx66A0D23C9547D4B05E3A2C2D406455F5B9AED49E9BD81CB7 finished...\n",
            "Process 322: Zx66C236B993CD7FAFC2F125311C65147E643691D3B5C42826 finished...\n",
            "Process 323: Zx6727174D77521EE5B2C4F676EF887A75CEE9B74E4ED97F66 finished...\n",
            "Process 324: Zx67415A03D61E77340BB5A07721A9EEE79141C9853DE4F7D6 finished...\n",
            "Process 325: Zx67415A03D61E773414BD11A6A8DB2DEF90B76615A5E494F7 finished...\n",
            "Process 326: Zx67415A03D61E7734C5EB110B87EF37FC912D606A17F24F1C finished...\n",
            "Process 327: Zx67441E002546BA1D6C7EEF3BDC1E58825CC1E98E5BAE4BB4 finished...\n",
            "Process 328: Zx6807F4B56B7D076909FC86782C5E1231A9498349EA153C18 finished...\n",
            "Process 329: Zx6807F4B56B7D07692E6BE9484415FA09CE9C1D1E0F1AB0D7 finished...\n",
            "Process 330: Zx681A11F58D74D4599A6B2A227605EA0C1B77B69A7D2D12D3 finished...\n",
            "Process 331: Zx68514F0FF623A26E16658ACFCBAF06BB2F5824CABEE60F38 finished...\n",
            "Process 332: Zx696C242456C97E11A3BA8A04884698607FA2811493CECACC finished...\n",
            "Process 333: Zx698005FBCCA840800D6D5315F1EE49CFA39AB5E532D91B85 finished...\n",
            "Process 334: Zx6983E16FD09E59A77137CF4C90F9B854CD3EC63D4E914DF7 finished...\n",
            "Process 335: Zx6983E16FD09E59A7A4304A2E1E9870A3335CCAF2C16F4C3B finished...\n",
            "Process 336: Zx6A2D61812017EDFAFA14F333CA7CD54CFF7BA3827489EF68 finished...\n",
            "Process 337: Zx6A6B918136F89E64C6F45744F6CB3C010B3AB2D50B72118D finished...\n",
            "Process 338: Zx6A887B63AD55475F2484B04AC037056DDF7179FB3E5B760A finished...\n",
            "Process 339: Zx6AFD1A8ED05D371EE384AC2BF8421A38BE60F0A912DA7F77 finished...\n",
            "Process 340: Zx6B33B06C99F2514BE9D2E82E45B19C44CBBE035F7E17B9DB finished...\n",
            "Process 341: Zx6B36B1FCC373347CD82A62A9ABB7A987AF08526FC746A1B5 finished...\n",
            "Process 342: Zx6B714C12101460C52C133A7BDAD58B40301BB61DF002785E finished...\n",
            "Process 343: Zx6B714C12101460C54F1A626F8566E9BAD0EA737A57784718 finished...\n",
            "Process 344: Zx6B714C12101460C58457BD7C868E4711F1EA31991F0C39BB finished...\n",
            "Process 345: Zx6C2E49E5A10FF238DCB0F5E21F267A50C4132EFB02426EF3 finished...\n",
            "Process 346: Zx6C601C55643BC046FB5E0B957E9BE1D4D7FD4B1F6774E4AC finished...\n",
            "Process 347: Zx6C638D9BFE2F6F6DA32FF3576D00729299CDE6AE847F1693 finished...\n",
            "Process 348: Zx6CFEF464C113FCF500FF85095B28D6B6AA3D9138C1FA567C finished...\n",
            "Process 349: Zx6D601A7BDC8A50726539FBD1CCD040AF41E51715701CCD23 finished...\n",
            "Process 350: Zx6E4F40BA9C3B3DD587F74C4C9C3E1F55A5006E999087B426 finished...\n",
            "Process 351: Zx6E63C4468346B19BABA5627E439A103C894ADF645DF1126C finished...\n",
            "Process 352: Zx6EC130BB2F5E1ECB845D551B2761210EDF8867DA59252129 finished...\n",
            "Process 353: Zx6EC6B03372854DCB4444042A10D001CE18D091130CCCB466 finished...\n",
            "Process 354: Zx6EEF54C45F5D2938ACB60707F0C99019CA3D388C931E8FD1 finished...\n",
            "Process 355: Zx6F79649FE009CAFCA0846DE94398CB2D3566259CBFD0760C finished...\n",
            "Process 356: Zx6F79649FE009CAFCE973032FB8B733822FF1E6F1D98DECDE finished...\n",
            "Process 357: Zx6F9A86DB1959C933E05FB1586832FD90A346C2742BABBF81 finished...\n",
            "Process 358: Zx6FF2EB37C2EA7D75399976E6209F9A1AB7D5F70CCD6C48A8 finished...\n",
            "Process 359: Zx704DFAE6D896E5739551E9490C9CBDAD0EB751D39CA494D0 finished...\n",
            "Process 360: Zx704DFAE6D896E573D76A27EB451CBB8B20B2DD0C366904AB finished...\n",
            "Process 361: Zx705B3531CEB972E1F928E8425B89AD7DF17BF2D273C14ADC finished...\n",
            "Process 362: Zx707FA86CFFC26B0362484221AF3AD855F4AB921A47B28055 finished...\n",
            "Process 363: Zx709C61C9E271E65BFB0954073448C2BDCC1F496B07639C52 finished...\n",
            "Process 364: Zx70EA988D4E33BC00C76989F2FF828C0397AE1D94C4F1EDEB finished...\n",
            "Process 365: Zx710EA1D8309EC121ECE1420A7A6C998721E75E03F71F6BE9 finished...\n",
            "Process 366: Zx71882377B86909CE2C7110CA50FB4FEC2E803144C9A9F126 finished...\n",
            "Process 367: Zx733E40280941D5A0840BFD2F29D76952A88322C5D99A67CC finished...\n",
            "Process 368: Zx73549B6A40980CE41A0801EF54DDA1E5D9FCC7CB6CBDE1EA finished...\n",
            "Process 369: Zx73AF7FBD658B2F32513C6CDC15806C5E8BD8E9B8CABAF381 finished...\n",
            "Process 370: Zx73F7FEEA92E425410EACB44DD2FF4ECC3175F0034E2D8950 finished...\n",
            "Process 371: Zx744CC902CEFF398E5BFFDA5DAC03530EDCA34E098E7D8521 finished...\n",
            "Process 372: Zx749FEB71D265630FEBB01B7E68573CC22AE4EE41BDDCCBEF finished...\n",
            "Process 373: Zx766A344876F00BE04369DB7048D95965D644794560A8C2F5 finished...\n",
            "Process 374: Zx76E046BDD20F13BC9DF52FD603260826F3A33C213013279E finished...\n",
            "Process 375: Zx76EA0AAF9604A2B299435142D79C05C4848E505FBFB3327A finished...\n",
            "Process 376: Zx7859C612513D0CA669CA6F0A5F4BDBB73477628D42101B7E finished...\n",
            "Process 377: Zx7951881EF40FC42633A4A53A0E13653EEDD3AD8C6837E6B5 finished...\n",
            "Process 378: Zx7951881EF40FC42651E18D72C193BD61B85C56A1DFA1EB9F finished...\n",
            "Process 379: Zx7951881EF40FC426835655F2DCC4CCDF9DC96F9B99694109 finished...\n",
            "Process 380: Zx7951881EF40FC426F06360F413ECA9C2E6ED202A7202534F finished...\n",
            "Process 381: Zx7951881EF40FC426FDE57EC6B8481F168CBD526EE2EC764E finished...\n",
            "Process 382: Zx79D67DE4C64C5E5FC73196916AB5E19A69B2E230E335A57B finished...\n",
            "Process 383: Zx7A1F719E8B5B30455273FCB5DEC0C74A33BAE4D6D032DF70 finished...\n",
            "Process 384: Zx7A21222F0FF5E778316945EE1DFC7F0F3B1D06CCEAA59C8E finished...\n",
            "Process 385: Zx7ADA6A1993F1295DB4741D5821C2CC8DF205FB66CA563137 finished...\n",
            "Process 386: Zx7C1ADB5EC3F881C119CD62993F89148864B049DB14C5318A finished...\n",
            "Process 387: Zx7C5F892360CCBA6213B2028AD122A1DAE02324EE2546380C finished...\n",
            "Process 388: Zx7D0AAC73984A8AC95FD33AD2522F92587DF9B8371D7C79F8 finished...\n",
            "Process 389: Zx7D5AB573090376F781DC164A66E6BDA1FA3E4F8D8AEDF9EE finished...\n",
            "Process 390: Zx7D5AB573090376F79A9B8798AEE4C2B73CA9538E432FE2D9 finished...\n",
            "Process 391: Zx7FB045DDBDDCDDC6CD339BCD1BCB21923607C957CCA0D448 finished...\n",
            "Process 392: Zx800E47489EF47140BEE20BD13FE0BE47F9406FF9473A59D2 finished...\n",
            "Process 393: Zx8024D25AB9871F3D18E5A4DCF93B28F923CC7481341C493B finished...\n",
            "Process 394: Zx808CBF85580C8A524E90D1A1B7E63CA54AB01CE941892A2C finished...\n",
            "Process 395: Zx808CBF85580C8A52F625D7FC9667F12DA964A7194E5A900F finished...\n",
            "Process 396: Zx80B7A4D341349B1DEEC43695767B3092D0B6C145AC4AC374 finished...\n",
            "Process 397: Zx8104110A401AA0F1936937E0C991C0560D0BD7A52FA5AD62 finished...\n",
            "Process 398: Zx8139B3F5503CDA776780627D00478D990FE14D835009F4A7 finished...\n",
            "Process 399: Zx822B1193233F74F5A5E5D0ACC8219BF8AE4EFABE2FCB080C finished...\n",
            "Process 400: Zx82469BB018D926020D941A2CD7789B1FE69584EE93D61262 finished...\n",
            "Process 401: Zx82469BB018D926021A0DE68D53829466728F761F7A9FE2BC finished...\n",
            "Process 402: Zx826F31C25810C6A99F981287354D792E761C8429008CA0B6 finished...\n",
            "Process 403: Zx826F31C25810C6A9E11C65F8346F837853F61BA660429400 finished...\n",
            "Process 404: Zx826F31C25810C6A9F8FDC54DDAF33D8DCD5D1BD839A83538 finished...\n",
            "Process 405: Zx8311956639D7E7D4B356DC60FF69D205EADC526A489E6039 finished...\n",
            "Process 406: Zx835BE89BC06B937B9B23B4F1D90881508F079ADB12ABBFDA finished...\n",
            "Process 407: Zx835BE89BC06B937BA926418179E4FA07E6735C97C53A176D finished...\n",
            "Process 408: Zx836945F670A552472975ECD5BAD33B1D8FDB441859DC209F finished...\n",
            "Process 409: Zx83C22F6F75B8C1821DFFE750AC7C5FF7AA44F40803C9AD45 finished...\n",
            "Process 410: Zx842609653BFCBCE7E6E3A08743153D621778B34268156550 finished...\n",
            "Process 411: Zx84C6541C8F8016148DEE71E2452989CFE24A78B33E600C22 finished...\n",
            "Process 412: Zx85587FA5B4B2A9CC5C006A0FDCB2BCB0C43E3C187AE0E654 finished...\n",
            "Process 413: Zx85587FA5B4B2A9CCF771CA89EF3F2F3D8CB02CD05A59A8CE finished...\n",
            "Process 414: Zx85CDD7AD4B9541C999C60977FF7BD08E14321F60BA772359 finished...\n",
            "Process 415: Zx85D50811D1EA1A11B03AB2CE32A6A66D3FC2703A2D3B9DB3 finished...\n",
            "Process 416: Zx8622D93E1FDBB9901E53A50C9646AAB037D44C6BAE148A96 finished...\n",
            "Process 417: Zx86E8594B94A97B534BC20D7FD912495340BD42C4D9CFA918 finished...\n",
            "Process 418: Zx86F99E7E390C00CB15F6C06905D1DB9D85D0104D663448D6 finished...\n",
            "Process 419: Zx87AD2F6D0872195177833288BEC6C7C75475952000F32E4B finished...\n",
            "Process 420: Zx87AF1F682BC71658E2CFA9467AF58FBF1E6EA5854B301C38 finished...\n",
            "Process 421: Zx881D4370D4E2B3EB2E6825C81E19A9097CA157CD762C4E76 finished...\n",
            "Process 422: Zx884CC84AEA488B322F652EA32D97F65A0B1FFE335A73D87C finished...\n",
            "Process 423: Zx885197EA25ED1851808083B77B6868C3530394B3C9D55E19 finished...\n",
            "Process 424: Zx88ACB7F8111B2813505A7A561719C7A0C8890C9F8CCEFE4C finished...\n",
            "Process 425: Zx88B03F6A7F5A1AD08A8578B8F8DFB5CDAACC33CB497FEC37 finished...\n",
            "Process 426: Zx88B74210C12C5EACAB1558A7CFDF086BFF154B63C8EA1E4B finished...\n",
            "Process 427: Zx88CDD4E017AF5C828FE5F36039B1951EB155BD25D0B97A04 finished...\n",
            "Process 428: Zx892330D71B2D63CAA1B4F53109D8A1A9B1A54D4C130413FF finished...\n",
            "Process 429: Zx8A4DCFA5AD1BFFBBF72066AAC854D02C47E1EC6D16C33E9B finished...\n",
            "Process 430: Zx8AED30772B9345517DA7A78056E7C70C0336DE70F18FB786 finished...\n",
            "Process 431: Zx8AED30772B934551EAF242D511B28908E41DEC9953E2003A finished...\n",
            "Process 432: Zx8AFC7B72C841CC55B4428EE569AA872C993B0B82200BAECC finished...\n",
            "Process 433: Zx8B007FE85539264AE654496D82273C5857447B309FEDD6A1 finished...\n",
            "Process 434: Zx8B08329735765986677EB5A08765BBE99C49578728989F1E finished...\n",
            "Process 435: Zx8B381C6BB4B224AAFB36137CABD70504FB29B4BF6966BAF1 finished...\n",
            "Process 436: Zx8B4DDDE2EF0F838C1E46F70D88C7C7C0A1274CC062AC821D finished...\n",
            "Process 437: Zx8C2082663880EE021B90E42E51461164FC3DF5AF0FF3B195 finished...\n",
            "Process 438: Zx8CF89665CB88F1FFB96AA9196091B5DF0641059D070B07D2 finished...\n",
            "Process 439: Zx8D3C7550919257B9889A79C1A99B8EB256894F128FCB63B5 finished...\n",
            "Process 440: Zx8DFA64D65C82A9504675F3BE68244D5DB54E1DEBBC651FC2 finished...\n",
            "Process 441: Zx8E3B91ED97D86D10777008EF1942E22752901949BB33D1EC finished...\n",
            "Process 442: Zx8EEE7D7746F8BC3E0E5099D301AA0DD58DC232C21AF1598F finished...\n",
            "Process 443: Zx8F7A2D7C8E918A752B8C9B2558F538DA1B59E9EF05C0DAD0 finished...\n",
            "Process 444: Zx8F8A147874051D87580335860FFB6C12566887B9EEFC838A finished...\n",
            "Process 445: Zx8F95BFDF3B3FC9F85913828B2A504CBB45535F3A81F78ADD finished...\n",
            "Process 446: Zx90019D6EB6805787B122BE1359C1647FCBEE4D9179EB1A9F finished...\n",
            "Process 447: Zx900F64CC3D30629A754ED04007971BD74531C686C8541AEE finished...\n",
            "Process 448: Zx906BB2AE190BB79BAFBF33A49394FEC1628B8B1EF264FFAC finished...\n",
            "Process 449: Zx90A7EF10C9806EEFF37EB4C85FF08E0D7923700BEDA3BB89 finished...\n",
            "Process 450: Zx9178DA08432AE6C72E651926E66C439966406A8A9B90EDCA finished...\n",
            "Process 451: Zx918F8C7BBD3F587FD3F2673BDB7C9998E14206BD7E3B0398 finished...\n",
            "Process 452: Zx93014DFEDEF5C296DFA22750CE2784F183A3019BF3325C3D finished...\n",
            "Process 453: Zx93EC2D1600D91567375B0ECB647508DA93F1F35D76B24C23 finished...\n",
            "Process 454: Zx93EC2D1600D91567B00A1006B88CD5D72005520F5B45A7F1 finished...\n",
            "Process 455: Zx949BBA19176EEEEE12A38BCF6569054C88BD26578D5F6D2F finished...\n",
            "Process 456: Zx949BBA19176EEEEE5E81F9595B665E43DA1B7CDD046003BD finished...\n",
            "Process 457: Zx94B02A482BADC62C022512769E16EAE1B10C6D0A7ADC8B45 finished...\n",
            "Process 458: Zx94B02A482BADC62CAFC39992E43329F1D9D6A705ED7FD8D6 finished...\n",
            "Process 459: Zx94B3091A70945039B59E48553186CB022A5EA84DF4F1805A finished...\n",
            "Process 460: Zx9574DFB02B6FB06A36D9BE171710E1D155344F79C63C788C finished...\n",
            "Process 461: Zx9574DFB02B6FB06A386AED7F477E6F756B81014B1172904D finished...\n",
            "Process 462: Zx9574DFB02B6FB06A99FFA85CF26EDFFB5AC29A1E7968F189 finished...\n",
            "Process 463: Zx95760F4DDFEEDF4CD00784402D23636239E31D7EABCD7939 finished...\n",
            "Process 464: Zx95B9DA7994352855AC56A8423C0A0F1B68A3748E99C6E77E finished...\n",
            "Process 465: Zx95F33E17F7F8218E9FA35FC3D79D8EB9E02019709C3A5EC2 finished...\n",
            "Process 466: Zx962763BC29A2C4FC1D3F0B87FFA4D3256B5864D20EA5E8DA finished...\n",
            "Process 467: Zx9687D8530B98BF197ADF4F6311C64517BF27DA7643D6F7F9 finished...\n",
            "Process 468: Zx96C0C360AEBF01B06DB0555FDC9B7FDD5B3D2E3648428AAD finished...\n",
            "Process 469: Zx9727ED2AF24A37B21185FC63967F6988A58B21BCBF52E846 finished...\n",
            "Process 470: Zx97928AD5A213289C6B95B389DF91F14F90ACD2828C8AFD57 finished...\n",
            "Process 471: Zx97E643B8E4A5DEB351E18CB763B8CFB27D5A870812A6C453 finished...\n",
            "Process 472: Zx986577E2EB1057F93287CCCFEC27380501F7AF20DF2B5CCB finished...\n",
            "Process 473: Zx986A45AC9267FF16AB73E0A33F49A60A615E7B4DC3974643 finished...\n",
            "Process 474: Zx98BEC5DDF705BC23BA3D7DEAC87D8FF588F07F47D9C9492B finished...\n",
            "Process 475: Zx9977B241B90F7BC8B9BB80086A4DF457D122DC866D682F4D finished...\n",
            "Process 476: Zx9A0E70ACF621144B79A903E7F63D1E9CCD4F69EBEC9BF7BA finished...\n",
            "Process 477: Zx9A0E70ACF621144BDE9A072548A6C14CB9709B8BB0C00FA9 finished...\n",
            "Process 478: Zx9A29DA6E21ACD7A0B49FCF887A0BF4FFD207CA7A3CDE7F85 finished...\n",
            "Process 479: Zx9A37AA6BF8B44163F6E9BFF94168F0F0091DC98C3C9C19A1 finished...\n",
            "Process 480: Zx9C2634AFDDE5A83EA11ECB13AB6417BEB06B0D5E1287C3FA finished...\n",
            "Process 481: Zx9C4D13B3283A0D24249372719EB45237B43F4F1DA6F5BB9C finished...\n",
            "Process 482: Zx9C4D13B3283A0D2496EAFFCF4B47A36CE7B8803204238899 finished...\n",
            "Process 483: Zx9C51ACC8639C583BFC19993D6BE6C355E6AB9A9570D4F21B finished...\n",
            "Process 484: Zx9C70756B5B6BC8D316D57140CC7A53DF3802066E4B88F2ED finished...\n",
            "Process 485: Zx9C70756B5B6BC8D35F998E8DC0978B1B683122D560D25B45 finished...\n",
            "Process 486: Zx9D05ACEE4197AAC102E263F3A4A3CB86A5AF5A25B5BB74D7 finished...\n",
            "Process 487: Zx9D05ACEE4197AAC1772BAC5BEFF54C1C4C50B7CC97F54B0C finished...\n",
            "Process 488: Zx9D18EA978D3BD10A326DC4749DD01290C243E5DC9963868D finished...\n",
            "Process 489: Zx9D18EA978D3BD10A39721787340925858FD09F4E7B168615 finished...\n",
            "Process 490: Zx9D28426F44724AE86117620C1784533EF1B501151875EB8C finished...\n",
            "Process 491: Zx9D6CE06969D7A50F451E40C9629E57D88E230878E019241C finished...\n",
            "Process 492: Zx9DD6040F52E36EDB6C0385CCD5F1D725BBC97B6345A59F60 finished...\n",
            "Process 493: Zx9E1D272B5003FE2AB53F6BE7CE3E5B7F905643402B415AA3 finished...\n",
            "Process 494: Zx9F55333E9B6FAB3A3A2B43885AAF93774464C16E9F455E53 finished...\n",
            "Process 495: Zx9F70740616E28A470CCC31414C246AA78A7A26D407DD2431 finished...\n",
            "Process 496: Zx9F900B383927BA7598F4791BC0CD23B85C9B319EAD69A8AA finished...\n",
            "Process 497: Zx9FAE5E8EE578A07677FFED34689A2B272F1FD4FFFC9E23B1 finished...\n",
            "Process 498: Zx9FAE5E8EE578A0768598453692C15615CF0BB5909AE24784 finished...\n",
            "Process 499: Zx9FAE5E8EE578A076899C0329C54F8A6BE48B2C4B47965266 finished...\n",
            "Process 500: Zx9FE816B863546C24945213D4A35C9F890BD4EC91F238517A finished...\n",
            "Process 501: ZxA0584678F6AD9E851E8AA69B22B44DB4BD85A9E5FD2F285A finished...\n",
            "Process 502: ZxA077D5FA438E8FB93945C1D84AAD7586E7DC586B08B92F30 finished...\n",
            "Process 503: ZxA1CECA46F4B0B1A28F45357DA3B8964AB5A446B2E2C27FD9 finished...\n",
            "Process 504: ZxA31B066CA4D3269F11DEA8AB97B59258C7C00A369871B1CA finished...\n",
            "Process 505: ZxA31B066CA4D3269FD8002A9BB0327A8EAB8B562CBF93C146 finished...\n",
            "Process 506: ZxA321207AC10B29464A450F8C1D22603E48CADBC8083F434C finished...\n",
            "Process 507: ZxA321207AC10B29466F29532180D4D0BF1DB1D1CAAD5A7497 finished...\n",
            "Process 508: ZxA321207AC10B29467B512EE00066F7504C3284E8A1FA466B finished...\n",
            "Process 509: ZxA3860A70B3B944A7ACB74339F4972794B2603E38D69E7EA0 finished...\n",
            "Process 510: ZxA3D1C1319FB1EE466697013B492A537DF50B2CB8BBD22A87 finished...\n",
            "Process 511: ZxA3D67DE1137F5382DF1FA2D1FCA81908745EFC3511F4CD9C finished...\n",
            "Process 512: ZxA3D67DE1137F5382F34F4A0940395DCAA7DD0722E3E67493 finished...\n",
            "Process 513: ZxA3F00A9B31186E9B120A21B2F8654B895A6CE7A7C2B7010A finished...\n",
            "Process 514: ZxA493CEB18FDED9A909C361632B6BE7F124261E9AE0B8153F finished...\n",
            "Process 515: ZxA4950C0ACC3EF8B27254E91E15CC969DDF9BF7C200A2B945 finished...\n",
            "Process 516: ZxA4B4F8BA185766C22D4008861F7B1E77EF8FDD5FC608D82E finished...\n",
            "Process 517: ZxA4B4F8BA185766C2DD74FDE9943CC08DA93A93E8E1DFAC15 finished...\n",
            "Process 518: ZxA4D59B81F2E473A627002B789E7971D9B33E9549990A73C6 finished...\n",
            "Process 519: ZxA4D64354CFBAA70DB029AAA999531939E9DD4807CC0ACCC2 finished...\n",
            "Process 520: ZxA5736BF1D6548AC69E1D384152F062008F77D25050E397F4 finished...\n",
            "Process 521: ZxA587DD3F3B7DEFF324487D39123C2C626E291DCF7376E42D finished...\n",
            "Process 522: ZxA5C007B2167B56E373C34A0053EF963CFBB1A2E856879D26 finished...\n",
            "Process 523: ZxA659E69F833B05BB21DBB10048F9F43AFD7562CA75E089F5 finished...\n",
            "Process 524: ZxA66CEAE1B2351EF9061F5C2EF272C6020662D2258D1784A4 finished...\n",
            "Process 525: ZxA66CEAE1B2351EF9A123CEE1F7F017EC1466289E519D9E28 finished...\n",
            "Process 526: ZxA6885ECFAC658140234CF7659E0C602A21901A78F60E7F77 finished...\n",
            "Process 527: ZxA6E61E4E15A62519AAAE723617782AB9F2DA93CAAE5A0219 finished...\n",
            "Process 528: ZxA6FD89D310764F7745439AE747297835DCDE8439C089EC4F finished...\n",
            "Process 529: ZxA8783853AC1492F1BEECA64B03416D3BBF7BED1DE0985EA3 finished...\n",
            "Process 530: ZxA88C8EF3B0DD7C105F06B48C151FB6813378C955C1EA6203 finished...\n",
            "Process 531: ZxA8D32A5ECB8168C7F4604548458D9F688890E7B72A77A1A8 finished...\n",
            "Process 532: ZxA92FB80B3A6C412260E6651B0695D3E4BB37DF4B0B958496 finished...\n",
            "Process 533: ZxA9699F56C35B1D82E9703F233BD3208C31BEBE3E7907731A finished...\n",
            "Process 534: ZxA9790D652CB6D05C92E6AA5B2A87CDF102B6B5C8B92EB30C finished...\n",
            "Process 535: ZxA99F1F57C0D78BB4975028D7451513ECFA1F8FDCC1D8291C finished...\n",
            "Process 536: ZxAA273BD453728DAC178542491E52536C17E294ADCC76CB08 finished...\n",
            "Process 537: ZxAA4A09DA10FB3BF1FD33955272CCB989E4A91230EA99B1D0 finished...\n",
            "Process 538: ZxAA65D147C435CAD5D711D4D03CE7EE6CD8FBD0995F71F8E1 finished...\n",
            "Process 539: ZxAAC0790F72C11A212DEA673071C71F172814ED2C4FBE33DE finished...\n",
            "Process 540: ZxAAC0790F72C11A218649543318C0B0934E8AE52E0C790A88 finished...\n",
            "Process 541: ZxAAE23650B9B4AA345EB7CD76F65A787606B6A4C55C368DB8 finished...\n",
            "Process 542: ZxAAE23650B9B4AA34FC19B3EB0C8AD9B558DF076EA062D893 finished...\n",
            "Process 543: ZxAB1E6165A4F97FA4FE3FB7CED514D82A0D51BBA8DB0E2996 finished...\n",
            "Process 544: ZxAB6294B37A449AA964BC84B740714D10CD41C7D4C33D551F finished...\n",
            "Process 545: ZxAB8413E050E6B483F28D7CEBAA5E4FCD6BE77076D62CC03A finished...\n",
            "Process 546: ZxABC17CFAF4F6320E505A7C6A13181DC809ABF975501DBCDE finished...\n",
            "Process 547: ZxABF6FDD87B0B73F19B814C758A8894708A51B9B5EB5CC401 finished...\n",
            "Process 548: ZxAC0234ABF4E1D10F4AD0FD22EFBDFD8396669E8B6915E601 finished...\n",
            "Process 549: ZxAC7AF4D4AA93212033604DA258A3C5D6345F8A2537466754 finished...\n",
            "Process 550: ZxAC7B1B38B96FB7BD667F7AA8D95FA2E3AFDAFA42631FE379 finished...\n",
            "Process 551: ZxACB9617CCE03C1D8C28CFD4B649F9EEB1424D85723BDD5EB finished...\n",
            "Process 552: ZxACC4447A6BA1EC403FAB6F640D08F5A88F6A29DE3377AAA9 finished...\n",
            "Process 553: ZxACE4DC150A104C59EAB2D90DEA73A51C71F3C5716FF3FA96 finished...\n",
            "Process 554: ZxACE4DC150A104C59EBFB93F5244D1163F4F88256C211F9EF finished...\n",
            "Process 555: ZxAD760D383496BF993B7C3CEF0B9AB2E3EC475B14006F010A finished...\n",
            "Process 556: ZxAE238E8191029A131318F8CCF587A791E2CC0BD5F7D57D80 finished...\n",
            "Process 557: ZxAE84E65DFAE5468A0DF71C5CBAF7E394833897B064792C49 finished...\n",
            "Process 558: ZxAEAB452B8148E0693BE2B17C694B413B079525301BD6871E finished...\n",
            "Process 559: ZxAEAB452B8148E069C525E7AC43CF55113D042814C416F5E4 finished...\n",
            "Process 560: ZxAF3DA5750B69E9563B8455022C045F1238ED679D42F2FCAF finished...\n",
            "Process 561: ZxAF3DA5750B69E956D4F2ADDC3AA55218AF66620AA1BA92CB finished...\n",
            "Process 562: ZxB03C746D57B71A3D860F8A8DA5FF0351F1A9C6BF623710A3 finished...\n",
            "Process 563: ZxB06BFA95ACC19A1BC118657AD2BE2BE1DED5318B7CE6DC30 finished...\n",
            "Process 564: ZxB0B65F16B756C04C10DB557AFD1ABF998061A1044CE55F0D finished...\n",
            "Process 565: ZxB21FB0DEB2B1D4EF7B1AC7D8513AE12E32E302099A6530F6 finished...\n",
            "Process 566: ZxB22D1878278D3BF03FDC7DE7C41FF35397D34E011BBC1D5A finished...\n",
            "Process 567: ZxB2377D8D34D0A21075B50F5899C98EAD9EC1ADD69A063446 finished...\n",
            "Process 568: ZxB257D7CAB6A2BBB1FC9E3FB91F79D11FB72D53418B2AD7E6 finished...\n",
            "Process 569: ZxB304722538ECC8C844777B65CEF009FFB10289254AD0B202 finished...\n",
            "Process 570: ZxB37B766FA98EB172F4358F562A02176F61F691DA7C1AFBCE finished...\n",
            "Process 571: ZxB37E1CC1CCB0A0DC0B3D60AD80125B43ADAAE0C8717CC0CC finished...\n",
            "Process 572: ZxB37E1CC1CCB0A0DC5C9448C89F09222BA2AE06CAF45A4135 finished...\n",
            "Process 573: ZxB506B2272F125EB0A5851A203282C03E5F16118AA97798EF finished...\n",
            "Process 574: ZxB5837FCBA699D78F704AB333AE198A5DC67F47FE18BE61AE finished...\n",
            "Process 575: ZxB632718A589D2E6979A0795C786A12100D22627F2BBF3CFC finished...\n",
            "Process 576: ZxB75028940E6684147107D401A7E501BEA366F6EE3A9F527D finished...\n",
            "Process 577: ZxB76402A4CB4B5D54C00A30F3E999F71D29DB17A87A63228E finished...\n",
            "Process 578: ZxB7B55BFB145A343D06B37D039EC47901EF9B1D11A836893F finished...\n",
            "Process 579: ZxB7B55BFB145A343D3326E0AE0CF6188183B10F3FB55D6E51 finished...\n",
            "Process 580: ZxB7B55BFB145A343D49B4E988FCCD3DCF867EE9B954124CC6 finished...\n",
            "Process 581: ZxB7B55BFB145A343DB765258B0168F4083BE1972BD26F6D27 finished...\n",
            "Process 582: ZxB7D0B8532AC67796F7A9C1CD3F5D0E322EA7EF5992C6CA28 finished...\n",
            "Process 583: ZxB97DC74E3BD1FC3EA2A39E78A59307BC77D5BCFB817840A0 finished...\n",
            "Process 584: ZxB98B85147CC28210B6234DA9EB7291C8671FD05EF1B163A3 finished...\n",
            "Process 585: ZxB98D6A25EFB6B46257F13934DCBB67D67AABF1C197EBE918 finished...\n",
            "Process 586: ZxBB3DA9A26362010408F93623114AC6FC48DDF06AC08A330B finished...\n",
            "Process 587: ZxBC48DEDAFC634693369C437ECA036D138D526992710C1E35 finished...\n",
            "Process 588: ZxBCBA63BCCC1F7498AA92F4AF08511FFED09105BBFC63864E finished...\n",
            "Process 589: ZxBCBA63BCCC1F7498FED5EE52802F4CB8572148F71BB5DEF3 finished...\n",
            "Process 590: ZxBD12CBC5C10EDBB74BB5F0BD1DCAE7CE747854FC26ECB0BD finished...\n",
            "Process 591: ZxBD18E2DB7C51055D5BA0317AF712F4D62E832C8FF35E916A finished...\n",
            "Process 592: ZxBD18E2DB7C51055D98D919A70E777B443B1839383002FDC0 finished...\n",
            "Process 593: ZxBD701431A8CE2FCB64098D585DF85DEA5181054BC20287D9 finished...\n",
            "Process 594: ZxBD795C706A61AD0B20883C21877B09AFE59A5712FEC79EE6 finished...\n",
            "Process 595: ZxBDAEDDE98351E478390DEB26B963A196E4A1B3D14C84E4F9 finished...\n",
            "Process 596: ZxBEDA1D54EFEE77C5738FB5212C79AF06F67D93F2ACB61181 finished...\n",
            "Process 597: ZxBF0F698B411246917A364BB025AA55E8D9B87833BB0D243D finished...\n",
            "Process 598: ZxBF9F6B8246A17E801F8444628309579BB19B24E8CCEC8153 finished...\n",
            "Process 599: ZxBFC362B2190DDFF8D3544073C39876A387B7143312625D30 finished...\n",
            "Process 600: ZxC00AC887E580A4399B5056E80AC55C95B43C634576F25D38 finished...\n",
            "Process 601: ZxC03412C145236A975609D495BC44B224260C3D9C4B96F23F finished...\n",
            "Process 602: ZxC12A3E53C68E43C08218A1D261005883B0DF75AB7EC74631 finished...\n",
            "Process 603: ZxC21457C628454D036163771228053A7B04598F4CE0729DCE finished...\n",
            "Process 604: ZxC302B531947E9D201CDC1FED08DC86F9DA4EFC29D26F9395 finished...\n",
            "Process 605: ZxC406494721881851E1F496D5B54F4BCAD696815C35261E8B finished...\n",
            "Process 606: ZxC503A28B6BA92D6C0C9D87384B3B6CF6823CCA627A333938 finished...\n",
            "Process 607: ZxC5A60F462D64FC58AE3EF3CFC49C43D1F431325347CE517D finished...\n",
            "Process 608: ZxC5B47FC8970E84C0A97545B64C3ABB98FA94324938D6CF7A finished...\n",
            "Process 609: ZxC6318FB836AF67167CE6490FFAE77E15B56B251B3A041BB8 finished...\n",
            "Process 610: ZxC737C208E6570BA6984B75AC38E3C1588195434CDC017712 finished...\n",
            "Process 611: ZxC73F3156008A07EBD69E384ECE987A0EF33EABE28189C16C finished...\n",
            "Process 612: ZxC7727DD69A597334CAC5442CC8D6A29205AD44A84A5D7413 finished...\n",
            "Process 613: ZxC77C44FFAF20FF4D0097F83493E57B79C4CC5340939DE0AF finished...\n",
            "Process 614: ZxC826DAC67B41123025DA20E3AD13E51B6635CBC9F77937C7 finished...\n",
            "Process 615: ZxC8B75DF8D012DD456F86FF58D58AA7094D2A7E810CDF8B89 finished...\n",
            "Process 616: ZxC91A03F282E7ACD722E61B901D4E1C17D67E09F5A338B54B finished...\n",
            "Process 617: ZxC947111E5302673E7B5336FD32C66BE6ACDD4B0D88053726 finished...\n",
            "Process 618: ZxC947111E5302673E8F1E6011EBDEB6DB454BBC84348ED44D finished...\n",
            "Process 619: ZxCA065A9EBA3CD2FEBF2D7988CE5C02639004993FDACC584C finished...\n",
            "Process 620: ZxCAE3BA395D8A16C03B99832D4D91B87170F2E863B2B502C0 finished...\n",
            "Process 621: ZxCBB6AB235F8ED687B2E5F9B7E53A17774B138022B5AC6C06 finished...\n",
            "Process 622: ZxCC42A7155619FA371FB3DB2B935EACC3D6EBD78BBFB45C31 finished...\n",
            "Process 623: ZxCC42A7155619FA3723A3480D50BA7AEF6E56FB0AEBDED37E finished...\n",
            "Process 624: ZxCC42A7155619FA37696F6AC52A2BFB096D4099EADECA102B finished...\n",
            "Process 625: ZxCC856535297BF790CD4E1DD7BE48287AA4388D720C3EE609 finished...\n",
            "Process 626: ZxCCAD69483E1ACED22C04C1D9E52283557FB83E247458ED16 finished...\n",
            "Process 627: ZxCD138093124CBE786F17D95DA59451835AABC33BC92BFA08 finished...\n",
            "Process 628: ZxCD257EAFFF590C8D384A40AF09D935286DF87F244B7F3775 finished...\n",
            "Process 629: ZxCD32F5B7681F372A88B3BBD26D9A96CC175CE6CFB96DCD5F finished...\n",
            "Process 630: ZxCDA55434361C322D5A7B1D1BAF7053A6FE617652236BAFE6 finished...\n",
            "Process 631: ZxCDBAABEAFF0945F2DA1AD4FCD880F23DB474DA1FEF110000 finished...\n",
            "Process 632: ZxCDBAABEAFF0945F2F51DDE708608B8FF955E96D01442BFCB finished...\n",
            "Process 633: ZxCDF84F878A35674F0EA93802F8AC19331D291374E53ABFF3 finished...\n",
            "Process 634: ZxCE3233B397229FB57DAF857481BD37BC969F4FA2ED9DC368 finished...\n",
            "Process 635: ZxCE7B50D10790FBB39FC1B6628A65F67A6C2985DB420ED52D finished...\n",
            "Process 636: ZxCEAADBFE3E9E3BE3C5826BBFA949786D726FF1ECD0F66550 finished...\n",
            "Process 637: ZxCEE7370FFD5B76396A645657D137C9BDF605494DD491495F finished...\n",
            "Process 638: ZxCEE7370FFD5B7639DB5450230398A3E2755399858B4FB4CF finished...\n",
            "Process 639: ZxCF53832A87A2A46F03F446DEA9CBDC35495D8AEDAD135C28 finished...\n",
            "Process 640: ZxCFA9C6201E4F0D869A606586FE8E4F72A47076447E1C019E finished...\n",
            "Process 641: ZxD0A2B4448866BE260C17D6EC02D17FE93428DE78EA7D891E finished...\n",
            "Process 642: ZxD0D2911E085A983D6671361E4B4C6D3FC7C35E31ACDA7D2D finished...\n",
            "Process 643: ZxD1B631F69DBC3DEBF37414EEB04811A4324DA6C04CF7755C finished...\n",
            "Process 644: ZxD246E0861FA461FEF9102BD21868EA7DA8E53DD651292A31 finished...\n",
            "Process 645: ZxD26D574FB8A8997517EAD6CBA252D0260177319EDE6F8B2E finished...\n",
            "Process 646: ZxD26D574FB8A899756132B8BFC67A656D4F934414F840EEE7 finished...\n",
            "Process 647: ZxD2F758309F2A7F030892DF6DA54A0FD72A5F54C5F7525E21 finished...\n",
            "Process 648: ZxD2FBB4FF1C67CBFF9F74149571CFB50D96778C44FB2E6925 finished...\n",
            "Process 649: ZxD3A1E3E05CB6DAF6253A186B00684DCF2B1456D2C8A4C6E4 finished...\n",
            "Process 650: ZxD3CB0C4524F67A4D1B248517BD74525E363D1A47170D6D9E finished...\n",
            "Process 651: ZxD3CB0C4524F67A4D646342B31322E3423F01E5FC56377C1A finished...\n",
            "Process 652: ZxD3CB0C4524F67A4DC5FBFBA465B378E9AC0BACDD0EF9709F finished...\n",
            "Process 653: ZxD3CB0C4524F67A4DE1B73D2F73ECB0AD3A977955E0723A65 finished...\n",
            "Process 654: ZxD3CE7A44D5758F55184AD0B489A4B11590D73AB825543485 finished...\n",
            "Process 655: ZxD4239CF331412759E7CB0E19371370F77FB73C911058F88F finished...\n",
            "Process 656: ZxD4239CF331412759F1486169DA0268914B82EFFBAD8DCCE8 finished...\n",
            "Process 657: ZxD4C1AF01E7091BC3AB7EAE60CEAB8E356341351816C62D07 finished...\n",
            "Process 658: ZxD4C1AF01E7091BC3D79A3DB1D0455BC0C143FAFF7D3B1036 finished...\n",
            "Process 659: ZxD4CE4B3B95995BE6E2E7864BDCEBFCDCF32B2C8F5579C682 finished...\n",
            "Process 660: ZxD4CF37EF147DDEE980BAB4F5256CC86CA734F199E5512303 finished...\n",
            "Process 661: ZxD5641DC2CF623756BAD8376E4F115597BE8498D65B27171B finished...\n",
            "Process 662: ZxD5E948C05461036341B88C0FFADF9B249FBE732D0D04EE04 finished...\n",
            "Process 663: ZxD5F8B7159FF3E7A2505AC148847D33C0617D505DE63C90DD finished...\n",
            "Process 664: ZxD60E89EC0F1BAB99880FC7C708FCB91A8C6C9016A4C07EE1 finished...\n",
            "Process 665: ZxD6C4F406BC86A11674870FC931D83E6EC6103F574DA73EB6 finished...\n",
            "Process 666: ZxD6C4F406BC86A116D7BB2ABC21FCDFCBA4130E5D631FD37D finished...\n",
            "Process 667: ZxD6DF80C967D2E90E1C9C5C27C1E582E828600D58A5E60075 finished...\n",
            "Process 668: ZxD6DF80C967D2E90E940E324ADA5DC75FB2EACEE9B975DC65 finished...\n",
            "Process 669: ZxD6DF80C967D2E90EBC2FEF38B1FF4CA7300C08C43BAD9AF0 finished...\n",
            "Process 670: ZxD71EEE470B02A3F9A6E9392C61F29ABA2BF148719238E49D finished...\n",
            "Process 671: ZxD75CC02AC0569F138B2A31126FFDC8E423AEAF8780510D07 finished...\n",
            "Process 672: ZxD7FF1A5CCDB3268EB8F0E8BED1F6BC4E036E21F79A779D91 finished...\n",
            "Process 673: ZxD8B230C0D0BEF0B9672C0DC060C5AA5FA3004A55B570427D finished...\n",
            "Process 674: ZxD8B95D482831EFF00D2BB3D481433C0A924C3D020E8A3231 finished...\n",
            "Process 675: ZxD98473A9FF420798519F7DE551DA5AA0E3449DD102379136 finished...\n",
            "Process 676: ZxDAAC876CFA3449393E221D61C00718DF4B6518BE90AF2800 finished...\n",
            "Process 677: ZxDAAC876CFA344939B56A8FA4A9C2A0F0CF2E01E5A7BBD71F finished...\n",
            "Process 678: ZxDAADCC811EB06CD6036574077638DB70FD14E6F1C6BD4DA0 finished...\n",
            "Process 679: ZxDAFFB1D590F380D577E92A3E75618B9A54A1E02F3C6B05A2 finished...\n",
            "Process 680: ZxDC02DACADFA8F2EE23859AFF42F9C5EEADD9086044C13C2F finished...\n",
            "Process 681: ZxDC7428EC3D364278C8C572A91D43CE78DBA3BE21C586EB3F finished...\n",
            "Process 682: ZxDC93EC2BB81B007F33928801B97350A6D04B45D18D49D8DB finished...\n",
            "Process 683: ZxDD934EA54F9887DE7226F9600B5832B9F911E437BB3C7E8B finished...\n",
            "Process 684: ZxDDC98783970DFB11D4A232662B73F4B55348FEB38E7FB3BB finished...\n",
            "Process 685: ZxDDCE376763976E9B39DF8D27930E5D778F03F9FEDDBC93FB finished...\n",
            "Process 686: ZxDE6E31871D3BCA3D46EE27E9AA51F93AB021F98290A56E90 finished...\n",
            "Process 687: ZxDF0A09367AE792F5AC3F13CE884AA881C81F5D851CCFA042 finished...\n",
            "Process 688: ZxDF3DC44BB2FB0AB2DA9CC3A8231C0A5903627DFBF3950A49 finished...\n",
            "Process 689: ZxDF52BE07D8B451590C980B79E102F084B2CA2A249043B4F7 finished...\n",
            "Process 690: ZxE083D32FF1E7514B0EDA38FFAE02012D86DDA8048E23E970 finished...\n",
            "Process 691: ZxE083D32FF1E7514BB2C10F023D95C83EB001D6872FE26011 finished...\n",
            "Process 692: ZxE0AE769C4E0DA3D0B09A0DC1C10A72996137BE937DA56ECB finished...\n",
            "Process 693: ZxE19A26EE88FD1A5FDD1D4B225EB98B385544451605D664CB finished...\n",
            "Process 694: ZxE1BDE57D85B29E6B15D177EDCC0F89D6C6A550710B94F025 finished...\n",
            "Process 695: ZxE1BEB9512A571D2E99020DC75503D198D8B93858B7A0C5DA finished...\n",
            "Process 696: ZxE1C1EDEA0C9958088B1F8DDDB67DA5BE4C07D089FFF2341C finished...\n",
            "Process 697: ZxE21C85C15C106DC872B2004FDBDDABCDF5E809CB43226796 finished...\n",
            "Process 698: ZxE247A12F8E55F962276E63028E66629A545B16754A43A10D finished...\n",
            "Process 699: ZxE379608F86D71DD9646D356111707185B39FB15D03AB10CF finished...\n",
            "Process 700: ZxE40263269849298C9B82E3E259D319CD00326138BAED92EC finished...\n",
            "Process 701: ZxE404B57455DB220618733B94A9C0E789AEB8E30AE3AEA44F finished...\n",
            "Process 702: ZxE4394052AA994301FCCF1981DCAB7FA6894C9CA788A8ACDC finished...\n",
            "Process 703: ZxE4B06F9D3330C64E3A3B6CBE49F2672B30913D7F3B9A6F91 finished...\n",
            "Process 704: ZxE4E1AD806CFDD7387E31269942B1C41457D1083FF77EBDA9 finished...\n",
            "Process 705: ZxE51CD6EA3575F74215EDBE0D4E68DB731A4D9BF04E148504 finished...\n",
            "Process 706: ZxE51CD6EA3575F7427A643DAF6A69364FF2F87E167717AFB2 finished...\n",
            "Process 707: ZxE51CD6EA3575F742F16697D93AAB0FC5685020198DD07026 finished...\n",
            "Process 708: ZxE51CD6EA3575F742FB1EB0773C7CB441A80836F0DE8DB3A9 finished...\n",
            "Process 709: ZxE5D510997A6C170C726F8AC962519B52E5615D89C34CE030 finished...\n",
            "Process 710: ZxE62B5B6443A95B3A5713E8421C66F78DD835DE3F31E5A4DB finished...\n",
            "Process 711: ZxE71B4C9943155CFC6C816D437F8F2C635B530E56B512DB2E finished...\n",
            "Process 712: ZxE7279474581D135218F20333FE314E94583F697B1F36C9A1 finished...\n",
            "Process 713: ZxE76F21E1207D9B33203B948479CE51CF2660CA56CEF4802F finished...\n",
            "Process 714: ZxE76F21E1207D9B333A8ACB0D226F0AE32CAE95B9A3719154 finished...\n",
            "Process 715: ZxE7D33E9191145656D2090033DDB15467D0ABEF5B9CD3BA07 finished...\n",
            "Process 716: ZxE7E2340E9CF9166B6678365A0067728037A84C3D9AFF7C54 finished...\n",
            "Process 717: ZxE7E2340E9CF9166BF0A907CA26D681BCC9AA5D58036067C3 finished...\n",
            "Process 718: ZxE838529A9632FE4ED138A9C6833B57C5AA66F9A094A926EC finished...\n",
            "Process 719: ZxE84E7BDF03716E4777D192E2B3EFC3F52E88D0AEA4B2D2B4 finished...\n",
            "Process 720: ZxE8BB30B13CD98B71FBDEFD813621F5B6C62329C1F80AE0BF finished...\n",
            "Process 721: ZxE9221E1FC86DE0DDD166CB91CB6770DB293046EECA5CF889 finished...\n",
            "Process 722: ZxE973E9FCEBE3F7263431A7B7D86046C56FFE33AB14126156 finished...\n",
            "Process 723: ZxE973E9FCEBE3F726D6E4569815ABEF96F5C03D19C5C421D7 finished...\n",
            "Process 724: ZxEA4F23B79CF6B8981977B8B2A2F930403ABA5D6E4227FB82 finished...\n",
            "Process 725: ZxEA628EF42779B6CE7E30493E1FAA3EC3F9F22FB4DA178DDB finished...\n",
            "Process 726: ZxEA84E9C33FF59089079E65848869AE432A0E481F841465AE finished...\n",
            "Process 727: ZxEC0E5E55E3DBBEEEFF25AEE8D486FF799B784094D0691E46 finished...\n",
            "Process 728: ZxEC4B3844F2A31399BBCEA3D0AD8E65FB317414DAF0A4BF04 finished...\n",
            "Process 729: ZxEC4B3844F2A31399E6F4425E419F18603BBC720D8BDF8589 finished...\n",
            "Process 730: ZxED2E914A90709FC7025E86E7E0C607F5DDFF77BFA7DF33AD finished...\n",
            "Process 731: ZxED2E914A90709FC7AA6D521F96ECF8FBC5E1BDE9B0B33F80 finished...\n",
            "Process 732: ZxED2E914A90709FC7ABF2128E5E869C16038B04D30BA302CA finished...\n",
            "Process 733: ZxEDA3B604F954952A1B17F96513DFFF49661FFEC58FB62C8D finished...\n",
            "Process 734: ZxEDA3B604F954952AD37479E6397076219F913FA374133536 finished...\n",
            "Process 735: ZxEDAC8FBEDCAA7CDF1EFEC9F6632D7ABCABDB4A3B4DF2103C finished...\n",
            "Process 736: ZxEDC3B8653928851A2D4A9E8C15F06DAFFA206D965821B634 finished...\n",
            "Process 737: ZxEDE48C5B4D220391526FD0794173A5FD0153C6526362987C finished...\n",
            "Process 738: ZxEE9C011A6281CD150FDA654D8FA330DC28BF038E2A0AF9C3 finished...\n",
            "Process 739: ZxEEE8DBA4F76BDE201ED4EFE8362A11C774ED0E05F09F2146 finished...\n",
            "Process 740: ZxEEF586ADFB6E46F62FB6693837C48E4682A4D4517F457635 finished...\n",
            "Process 741: ZxEF0BE9C4F50812C7588CC926E37C66096A185BF929592C69 finished...\n",
            "Process 742: ZxEF9D1B1DF042534A0939E5FB0778C2616810D53369BE544D finished...\n",
            "Process 743: ZxEFE5BD25C865B7E8EC5C4FB637D285F20044EECAA9ADF616 finished...\n",
            "Process 744: ZxF04C2DF647FC447F3743DCA712745B7BD7A7297A54FE5FC8 finished...\n",
            "Process 745: ZxF1141B608E0DB6FFD087499CA1EE80EF6EBBF7089754B466 finished...\n",
            "Process 746: ZxF1263E938D17E1CD8CCEE22297A51F306D5B93C1DBD4BDBC finished...\n",
            "Process 747: ZxF21344F244DC0BDA313A08EBC59DD9D38C96FCC9A7DB2DB4 finished...\n",
            "Process 748: ZxF2705A350ACE282D407763E07A9521B129903BCDED48B8DD finished...\n",
            "Process 749: ZxF2CBBEF4B2DBE32F70C902DAE7CDD8738979F5595658F783 finished...\n",
            "Process 750: ZxF315D58E2CF14B76EA69E8709BBFC07A2CA3FC1E068040D5 finished...\n",
            "Process 751: ZxF315E683A82DD572491CCFD95E06CE8D48242B630B275726 finished...\n",
            "Process 752: ZxF3EDCFF4D2AB58B7AF8CD5FEA1AE792A697564A3A0D1158C finished...\n",
            "Process 753: ZxF3EDCFF4D2AB58B7B057CA8F15C5213975B3648FE3EDDAC9 finished...\n",
            "Process 754: ZxF4650E9B1504D7A61A287B264E50A320FC0F56206D8F889A finished...\n",
            "Process 755: ZxF4E35FFB8721136A4933F9FBDB076B935DC6F2B47E42125B finished...\n",
            "Process 756: ZxF4E35FFB8721136AF9AA14E6F0C380A4C0B3BAB5F2560EE8 finished...\n",
            "Process 757: ZxF5096D162C108C6D1633924346CE778E67DA71A47BCECD0E finished...\n",
            "Process 758: ZxF58A14D8AA05B54FD82F791D4C0A024ECD0F41D9CB4E740D finished...\n",
            "Process 759: ZxF652001E94225B4A23A4A954155BE1BEB9FA4804B68769F6 finished...\n",
            "Process 760: ZxF652001E94225B4ADFB12383336103ECFEBA6D204AA32B9E finished...\n",
            "Process 761: ZxF66AF9C3CA0DD99E006E8F6FA52C8A3ABA723F5A21294F9A finished...\n",
            "Process 762: ZxF68BEE7E1F60DFA9C9AB9165A7C798CF667472DA902812F6 finished...\n",
            "Process 763: ZxF6C74D5FFC69B6EAB402E825C2C7190CDBFFE4FBF2B6BC74 finished...\n",
            "Process 764: ZxF6EE91DABD349B4A40832147C04C15C06A14E3CCD221F33C finished...\n",
            "Process 765: ZxF6EE91DABD349B4AB88DFDE359B6D2C44837410638B68866 finished...\n",
            "Process 766: ZxF740369C873AA046C77D3A7F253BB0780E00233DB92B4037 finished...\n",
            "Process 767: ZxF77F6D49315BC4745300157B6FABC8BEE25F0F4C4C0209DC finished...\n",
            "Process 768: ZxF78584259A680C72789533BACB5A9B762D04B3EFE5A3376E finished...\n",
            "Process 769: ZxF78584259A680C72F8E790CB81DFB1AD7CE260C49C0D9692 finished...\n",
            "Process 770: ZxF7E38D9EAC1BF4A8900F4833760CD4BC93B28F2DD1DA4662 finished...\n",
            "Process 771: ZxF7E38D9EAC1BF4A89DE0FBC6B8A3E2248ACFFDE3782E18AE finished...\n",
            "Process 772: ZxF8C431A13165137AB38AD9F8401ECF01C7FF9311D4C5EFFB finished...\n",
            "Process 773: ZxF8D0A211F87F12AF7B420DB5FDFE118A6D4C1A911885425B finished...\n",
            "Process 774: ZxF9654BAB07B0415EC280458E14F382A4DABCC4076DF3359D finished...\n",
            "Process 775: ZxF9F4AF14D7B1EF7C3EE19FF778359FEE681702C00D80568F finished...\n",
            "Process 776: ZxF9F4AF14D7B1EF7CE722B4FC916ECAA3B0DD72CD861A4460 finished...\n",
            "Process 777: ZxF9FB7F731AE2DCEAA653D01FDDCFB8C1F55078F52FD3CBF0 finished...\n",
            "Process 778: ZxFA97E60E42060D9059E3756F2068A6F7F11DCA3C42469C33 finished...\n",
            "Process 779: ZxFB899E31B6D8BE100DFFC67985BA43EDB2743EE7A3CCE22C finished...\n",
            "Process 780: ZxFBB0181FCAF1CAB696C6F9AE42517E0BA6245896131FB124 finished...\n",
            "Process 781: ZxFBBCCC5E909887D98798E50C1BA4E75F67FFFBF33B653064 finished...\n",
            "Process 782: ZxFC07BE7D85CCF82D60FB84BBFD2CBA613C665DEABDEBCB7F finished...\n",
            "Process 783: ZxFC585268A1A63205CF3C1BB8A4A0A2C32F68004414D9F1D1 finished...\n",
            "Process 784: ZxFC844751E4BC264FA5C360F4807B1B04F639935B755AE982 finished...\n",
            "Process 785: ZxFD05F92AFD745EFDDF1E3123D3080D14D0C5EB6FD54083D9 finished...\n",
            "Process 786: ZxFD808B7419E590990E1632C52DF44EE1E26A2CBF9C4A616D finished...\n",
            "Process 787: ZxFD808B7419E590992EA61CABB2AFFA616410E02635529AD8 finished...\n",
            "Process 788: ZxFD8D565F7CFAEA22C980A585E7A7937AAE5EB20D3C6590E3 finished...\n",
            "Process 789: ZxFE087EAB297CA731B8DBD01407C31C992274CA97F8770F37 finished...\n",
            "Process 790: ZxFE269EDFD4EE0330B3D6C645D89AE017B8B14C72E713EBB4 finished...\n",
            "Process 791: ZxFE280A8E0C448EA083FEDDDC85B47E70AF62C489881C066B finished...\n",
            "Process 792: ZxFEFF9C9555D60C4A447AE2172976D86C6F1E6018597F8530 finished...\n",
            "Process 793: ZxFF050F121B008A9A3447A15F3C5F8A780BC44C8C62B2A4F6 finished...\n",
            "Process 794: ZxFF33BBA53245DC11656AD674EDAC74459F773A394590234E finished...\n",
            "Process 795: ZxFF3D6B912E3F1986C7A67E92219D38CCA5FC12F6DFC9D169 finished...\n",
            "Process 796: ZxFF416C96EF954FE1720C04968292DDE45BBEC2E4E5A74055 finished...\n",
            "Process 797: ZxFF51EAF10B09D34C5B5B3068CE83017279F3AFB5644E093F finished...\n",
            "Process 798: ZxFF51EAF10B09D34C7AE7C6543942C9000C78DF2C64EAF6A3 finished...\n",
            "Process 799: ZxFF823BD50CB342CE9DEDCD690E770B716F837D2CE9A22352 finished...\n"
          ]
        }
      ]
    },
    {
      "cell_type": "code",
      "source": [
        "batch_size = 128\n",
        "mean_train_, std_train_ = torch.mean(images_validtrain), torch.std(images_validtrain)\n",
        "transform_train_ = transforms.Normalize(mean=mean_train_, std=std_train_)\n",
        "# validtrain_dataset = CustomDataset(images_validtrain, labels_validtrain, transform=transform_train_)\n",
        "validtrain_dataset = CustomDataset(images_validtrain, labels_validtrain, transform=None)\n",
        "validtrain_loader = DataLoader(validtrain_dataset, batch_size=batch_size, shuffle=True, drop_last=False)\n",
        "\n",
        "# valid_dataset = CustomDataset(images_valid, labels_valid, mode='valid', transform=transform_train_)\n",
        "valid_dataset = CustomDataset(images_valid, labels_valid, mode='valid', transform=None)\n",
        "valid_loader = DataLoader(valid_dataset, batch_size=batch_size, shuffle=True, drop_last=False)\n",
        "\n",
        "running_loss_list = []\n",
        "testing_loss_list = []\n",
        "running_accu_list = []\n",
        "testing_accu_list = []\n",
        "\n",
        "for current_model in filelist[2:]:\n",
        "  model,_,params,_ = load_model(model, modelname=current_model.rstrip('.pth'),dirname=current_folder)\n",
        "\n",
        "\n",
        "  epoch_loss, epoch_accuracy, predict_list_validtrain, predict_labels_validtrain  = valid(validtrain_loader, model, criterion, 0.5, device)\n",
        "  valid_loss, valid_accuracy, predict_list, predict_labels_valid = valid(valid_loader, model, criterion, 0.5, device)\n",
        "\n",
        "  running_loss_list.append(epoch_loss)\n",
        "  testing_loss_list.append(valid_loss)\n",
        "  running_accu_list.append(epoch_accuracy)\n",
        "  testing_accu_list.append(valid_accuracy)\n",
        "\n",
        "  predict_listq = predict_list.cpu()\n",
        "  predict_listq_validtrain = predict_list_validtrain.cpu()\n",
        "\n",
        "  print(f\"Accuracy of the {current_model} on the valid images: {valid_accuracy}%\")\n",
        "  print(f\"Loss: {valid_loss}\")\n",
        "  print_results(predict_listq, predict_labels_valid)\n",
        "\n",
        "\n",
        "  print(f\"Accuracy of the {current_model} on the validtrain images: {epoch_accuracy}%\")\n",
        "  print(f\"Loss: {epoch_loss}\")\n",
        "  print_results(predict_listq_validtrain, predict_labels_validtrain)"
      ],
      "metadata": {
        "colab": {
          "base_uri": "https://localhost:8080/",
          "height": 1000
        },
        "id": "p8T-aQ5U3KUP",
        "outputId": "0be11a74-83b0-4026-be15-4e010fbffad0"
      },
      "execution_count": null,
      "outputs": [
        {
          "output_type": "stream",
          "name": "stdout",
          "text": [
            "<All keys matched successfully>\n",
            "Accuracy of the tf_efficientnetv2_s_50.pth on the valid images: 91.35833333333333%\n",
            "Loss: 0.574329961566849\n",
            "\n",
            "      真實值\n",
            "  預  +-----+-----+\n",
            "  測| TP: 295| FP: 423|\n",
            "  值| FN: 614| TN: 10668|\n",
            "      +-----+-----+ \n",
            "\n",
            "recall=0.32453245324532454\n",
            "precision=0.41086350974930363\n",
            "F1=0.36263060848186845\n",
            "\n",
            "Accuracy of the tf_efficientnetv2_s_50.pth on the validtrain images: 99.07438292194797%\n",
            "Loss: 0.026991445360006763\n",
            "\n",
            "      真實值\n",
            "  預  +-----+-----+\n",
            "  測| TP: 3493| FP: 348|\n",
            "  值| FN: 96| TN: 44031|\n",
            "      +-----+-----+ \n",
            "\n",
            "recall=0.9732516021175815\n",
            "precision=0.9093985941161156\n",
            "F1=0.9402422611036338\n",
            "\n",
            "<All keys matched successfully>\n",
            "Accuracy of the tf_efficientnetv2_s_60.pth on the valid images: 91.125%\n",
            "Loss: 0.5405721423473764\n",
            "\n",
            "      真實值\n",
            "  預  +-----+-----+\n",
            "  測| TP: 436| FP: 592|\n",
            "  值| FN: 473| TN: 10499|\n",
            "      +-----+-----+ \n",
            "\n",
            "recall=0.47964796479647964\n",
            "precision=0.42412451361867703\n",
            "F1=0.45018069179143005\n",
            "\n",
            "Accuracy of the tf_efficientnetv2_s_60.pth on the validtrain images: 99.21405937291527%\n",
            "Loss: 0.021036794480169194\n",
            "\n",
            "      真實值\n",
            "  預  +-----+-----+\n",
            "  測| TP: 3584| FP: 372|\n",
            "  值| FN: 5| TN: 44007|\n",
            "      +-----+-----+ \n",
            "\n",
            "recall=0.9986068542769574\n",
            "precision=0.9059656218402427\n",
            "F1=0.9500331345261762\n",
            "\n",
            "<All keys matched successfully>\n",
            "Accuracy of the tf_efficientnetv2_s_70.pth on the valid images: 91.08333333333333%\n",
            "Loss: 0.6103623988146477\n",
            "\n",
            "      真實值\n",
            "  預  +-----+-----+\n",
            "  測| TP: 333| FP: 494|\n",
            "  值| FN: 576| TN: 10597|\n",
            "      +-----+-----+ \n",
            "\n",
            "recall=0.36633663366336633\n",
            "precision=0.4026602176541717\n",
            "F1=0.3836405529953917\n",
            "\n",
            "Accuracy of the tf_efficientnetv2_s_70.pth on the validtrain images: 99.45797198132088%\n",
            "Loss: 0.01622529052159128\n",
            "\n",
            "      真實值\n",
            "  預  +-----+-----+\n",
            "  測| TP: 3577| FP: 248|\n",
            "  值| FN: 12| TN: 44131|\n",
            "      +-----+-----+ \n",
            "\n",
            "recall=0.9966564502646977\n",
            "precision=0.9351633986928105\n",
            "F1=0.9649312112220125\n",
            "\n",
            "<All keys matched successfully>\n",
            "Accuracy of the tf_efficientnetv2_s_80.pth on the valid images: 91.35833333333333%\n",
            "Loss: 0.6554652274923122\n",
            "\n",
            "      真實值\n",
            "  預  +-----+-----+\n",
            "  測| TP: 310| FP: 438|\n",
            "  值| FN: 599| TN: 10653|\n",
            "      +-----+-----+ \n",
            "\n",
            "recall=0.341034103410341\n",
            "precision=0.4144385026737968\n",
            "F1=0.37417018708509353\n",
            "\n",
            "Accuracy of the tf_efficientnetv2_s_80.pth on the validtrain images: 99.62266511007338%\n",
            "Loss: 0.010729658100686114\n",
            "\n",
            "      真實值\n",
            "  預  +-----+-----+\n",
            "  測| TP: 3579| FP: 171|\n",
            "  值| FN: 10| TN: 44208|\n",
            "      +-----+-----+ \n",
            "\n",
            "recall=0.9972137085539148\n",
            "precision=0.9544\n",
            "F1=0.9753372394059137\n",
            "\n",
            "<All keys matched successfully>\n",
            "Accuracy of the tf_efficientnetv2_s_90.pth on the valid images: 91.61666666666666%\n",
            "Loss: 0.6310527951634944\n",
            "\n",
            "      真實值\n",
            "  預  +-----+-----+\n",
            "  測| TP: 316| FP: 413|\n",
            "  值| FN: 593| TN: 10678|\n",
            "      +-----+-----+ \n",
            "\n",
            "recall=0.34763476347634764\n",
            "precision=0.4334705075445816\n",
            "F1=0.38583638583638585\n",
            "\n",
            "Accuracy of the tf_efficientnetv2_s_90.pth on the validtrain images: 99.5788859239493%\n",
            "Loss: 0.011730189332389273\n",
            "\n",
            "      真實值\n",
            "  預  +-----+-----+\n",
            "  測| TP: 3575| FP: 188|\n",
            "  值| FN: 14| TN: 44191|\n",
            "      +-----+-----+ \n",
            "\n",
            "recall=0.9960991919754806\n",
            "precision=0.9500398618123838\n",
            "F1=0.9725244831338411\n",
            "\n",
            "<All keys matched successfully>\n",
            "Accuracy of the tf_efficientnetv2_s_100.pth on the valid images: 92.55%\n",
            "Loss: 0.7624446093402011\n",
            "\n",
            "      真實值\n",
            "  預  +-----+-----+\n",
            "  測| TP: 290| FP: 275|\n",
            "  值| FN: 619| TN: 10816|\n",
            "      +-----+-----+ \n",
            "\n",
            "recall=0.31903190319031904\n",
            "precision=0.5132743362831859\n",
            "F1=0.3934871099050204\n",
            "\n",
            "Accuracy of the tf_efficientnetv2_s_100.pth on the validtrain images: 99.8478152101401%\n",
            "Loss: 0.006719139821934126\n",
            "\n",
            "      真實值\n",
            "  預  +-----+-----+\n",
            "  測| TP: 3574| FP: 58|\n",
            "  值| FN: 15| TN: 44321|\n",
            "      +-----+-----+ \n",
            "\n",
            "recall=0.9958205628308721\n",
            "precision=0.9840308370044053\n",
            "F1=0.9898905968702395\n",
            "\n",
            "<All keys matched successfully>\n",
            "Accuracy of the tf_efficientnetv2_s_110.pth on the valid images: 92.28333333333333%\n",
            "Loss: 0.644648588876775\n",
            "\n",
            "      真實值\n",
            "  預  +-----+-----+\n",
            "  測| TP: 294| FP: 311|\n",
            "  值| FN: 615| TN: 10780|\n",
            "      +-----+-----+ \n",
            "\n",
            "recall=0.3234323432343234\n",
            "precision=0.4859504132231405\n",
            "F1=0.38837516512549536\n",
            "\n",
            "Accuracy of the tf_efficientnetv2_s_110.pth on the validtrain images: 99.91661107404937%\n",
            "Loss: 0.0031032743204850704\n",
            "\n",
            "      真實值\n",
            "  預  +-----+-----+\n",
            "  測| TP: 3587| FP: 38|\n",
            "  值| FN: 2| TN: 44341|\n",
            "      +-----+-----+ \n",
            "\n",
            "recall=0.999442741710783\n",
            "precision=0.9895172413793103\n",
            "F1=0.9944552259495425\n",
            "\n",
            "<All keys matched successfully>\n",
            "Accuracy of the tf_efficientnetv2_s_120.pth on the valid images: 91.83333333333333%\n",
            "Loss: 0.6558447367650397\n",
            "\n",
            "      真實值\n",
            "  預  +-----+-----+\n",
            "  測| TP: 276| FP: 347|\n",
            "  值| FN: 633| TN: 10744|\n",
            "      +-----+-----+ \n",
            "\n",
            "recall=0.30363036303630364\n",
            "precision=0.44301765650080255\n",
            "F1=0.3603133159268929\n",
            "\n",
            "Accuracy of the tf_efficientnetv2_s_120.pth on the validtrain images: 99.65393595730487%\n",
            "Loss: 0.010404618176078656\n",
            "\n",
            "      真實值\n",
            "  預  +-----+-----+\n",
            "  測| TP: 3524| FP: 101|\n",
            "  值| FN: 65| TN: 44278|\n",
            "      +-----+-----+ \n",
            "\n",
            "recall=0.9818891056004458\n",
            "precision=0.9721379310344828\n",
            "F1=0.9769891876906017\n",
            "\n",
            "<All keys matched successfully>\n",
            "Accuracy of the tf_efficientnetv2_s_130.pth on the valid images: 91.69166666666666%\n",
            "Loss: 0.7316427926750894\n",
            "\n",
            "      真實值\n",
            "  預  +-----+-----+\n",
            "  測| TP: 281| FP: 369|\n",
            "  值| FN: 628| TN: 10722|\n",
            "      +-----+-----+ \n",
            "\n",
            "recall=0.30913091309130913\n",
            "precision=0.4323076923076923\n",
            "F1=0.3604874919820398\n",
            "\n",
            "Accuracy of the tf_efficientnetv2_s_130.pth on the validtrain images: 99.82696797865243%\n",
            "Loss: 0.006852536352157283\n",
            "\n",
            "      真實值\n",
            "  預  +-----+-----+\n",
            "  測| TP: 3586| FP: 80|\n",
            "  值| FN: 3| TN: 44299|\n",
            "      +-----+-----+ \n",
            "\n",
            "recall=0.9991641125661744\n",
            "precision=0.9781778505182761\n",
            "F1=0.9885596140592695\n",
            "\n",
            "<All keys matched successfully>\n",
            "Accuracy of the tf_efficientnetv2_s_140.pth on the valid images: 91.90833333333333%\n",
            "Loss: 0.7093262578895752\n",
            "\n",
            "      真實值\n",
            "  預  +-----+-----+\n",
            "  測| TP: 308| FP: 370|\n",
            "  值| FN: 601| TN: 10721|\n",
            "      +-----+-----+ \n",
            "\n",
            "recall=0.3388338833883388\n",
            "precision=0.45427728613569324\n",
            "F1=0.38815374921235035\n",
            "\n",
            "Accuracy of the tf_efficientnetv2_s_140.pth on the validtrain images: 99.78110406937958%\n",
            "Loss: 0.006914665875767241\n",
            "\n",
            "      真實值\n",
            "  預  +-----+-----+\n",
            "  測| TP: 3579| FP: 95|\n",
            "  值| FN: 10| TN: 44284|\n",
            "      +-----+-----+ \n",
            "\n",
            "recall=0.9972137085539148\n",
            "precision=0.9741426238432227\n",
            "F1=0.9855431639818257\n",
            "\n"
          ]
        },
        {
          "output_type": "error",
          "ename": "KeyboardInterrupt",
          "evalue": "",
          "traceback": [
            "\u001b[0;31m---------------------------------------------------------------------------\u001b[0m",
            "\u001b[0;31mKeyboardInterrupt\u001b[0m                         Traceback (most recent call last)",
            "\u001b[0;32m<ipython-input-56-afda9728ceb8>\u001b[0m in \u001b[0;36m<cell line: 17>\u001b[0;34m()\u001b[0m\n\u001b[1;32m     16\u001b[0m \u001b[0;34m\u001b[0m\u001b[0m\n\u001b[1;32m     17\u001b[0m \u001b[0;32mfor\u001b[0m \u001b[0mcurrent_model\u001b[0m \u001b[0;32min\u001b[0m \u001b[0mfilelist\u001b[0m\u001b[0;34m[\u001b[0m\u001b[0;36m2\u001b[0m\u001b[0;34m:\u001b[0m\u001b[0;34m]\u001b[0m\u001b[0;34m:\u001b[0m\u001b[0;34m\u001b[0m\u001b[0;34m\u001b[0m\u001b[0m\n\u001b[0;32m---> 18\u001b[0;31m   \u001b[0mmodel\u001b[0m\u001b[0;34m,\u001b[0m\u001b[0m_\u001b[0m\u001b[0;34m,\u001b[0m\u001b[0mparams\u001b[0m\u001b[0;34m,\u001b[0m\u001b[0m_\u001b[0m \u001b[0;34m=\u001b[0m \u001b[0mload_model\u001b[0m\u001b[0;34m(\u001b[0m\u001b[0mmodel\u001b[0m\u001b[0;34m,\u001b[0m \u001b[0mmodelname\u001b[0m\u001b[0;34m=\u001b[0m\u001b[0mcurrent_model\u001b[0m\u001b[0;34m.\u001b[0m\u001b[0mrstrip\u001b[0m\u001b[0;34m(\u001b[0m\u001b[0;34m'.pth'\u001b[0m\u001b[0;34m)\u001b[0m\u001b[0;34m,\u001b[0m\u001b[0mdirname\u001b[0m\u001b[0;34m=\u001b[0m\u001b[0mcurrent_folder\u001b[0m\u001b[0;34m)\u001b[0m\u001b[0;34m\u001b[0m\u001b[0;34m\u001b[0m\u001b[0m\n\u001b[0m\u001b[1;32m     19\u001b[0m \u001b[0;34m\u001b[0m\u001b[0m\n\u001b[1;32m     20\u001b[0m \u001b[0;34m\u001b[0m\u001b[0m\n",
            "\u001b[0;32m<ipython-input-3-2fc8ed138f5d>\u001b[0m in \u001b[0;36mload_model\u001b[0;34m(_model, opti, modelname, dirname, root)\u001b[0m\n\u001b[1;32m    282\u001b[0m \u001b[0;34m\u001b[0m\u001b[0m\n\u001b[1;32m    283\u001b[0m   \u001b[0mfilename\u001b[0m \u001b[0;34m=\u001b[0m \u001b[0;34mf\"{root}/{dirname}/{modelname}\"\u001b[0m\u001b[0;34m\u001b[0m\u001b[0;34m\u001b[0m\u001b[0m\n\u001b[0;32m--> 284\u001b[0;31m   \u001b[0mcheckpoint\u001b[0m \u001b[0;34m=\u001b[0m \u001b[0mtorch\u001b[0m\u001b[0;34m.\u001b[0m\u001b[0mload\u001b[0m\u001b[0;34m(\u001b[0m\u001b[0mfilename\u001b[0m\u001b[0;34m+\u001b[0m\u001b[0;34m'.pth'\u001b[0m\u001b[0;34m)\u001b[0m\u001b[0;34m\u001b[0m\u001b[0;34m\u001b[0m\u001b[0m\n\u001b[0m\u001b[1;32m    285\u001b[0m   \u001b[0m_params\u001b[0m \u001b[0;34m=\u001b[0m \u001b[0;32mNone\u001b[0m\u001b[0;34m\u001b[0m\u001b[0;34m\u001b[0m\u001b[0m\n\u001b[1;32m    286\u001b[0m \u001b[0;34m\u001b[0m\u001b[0m\n",
            "\u001b[0;32m/usr/local/lib/python3.10/dist-packages/torch/serialization.py\u001b[0m in \u001b[0;36mload\u001b[0;34m(f, map_location, pickle_module, weights_only, mmap, **pickle_load_args)\u001b[0m\n\u001b[1;32m   1012\u001b[0m                     \u001b[0;32mexcept\u001b[0m \u001b[0mRuntimeError\u001b[0m \u001b[0;32mas\u001b[0m \u001b[0me\u001b[0m\u001b[0;34m:\u001b[0m\u001b[0;34m\u001b[0m\u001b[0;34m\u001b[0m\u001b[0m\n\u001b[1;32m   1013\u001b[0m                         \u001b[0;32mraise\u001b[0m \u001b[0mpickle\u001b[0m\u001b[0;34m.\u001b[0m\u001b[0mUnpicklingError\u001b[0m\u001b[0;34m(\u001b[0m\u001b[0mUNSAFE_MESSAGE\u001b[0m \u001b[0;34m+\u001b[0m \u001b[0mstr\u001b[0m\u001b[0;34m(\u001b[0m\u001b[0me\u001b[0m\u001b[0;34m)\u001b[0m\u001b[0;34m)\u001b[0m \u001b[0;32mfrom\u001b[0m \u001b[0;32mNone\u001b[0m\u001b[0;34m\u001b[0m\u001b[0;34m\u001b[0m\u001b[0m\n\u001b[0;32m-> 1014\u001b[0;31m                 return _load(opened_zipfile,\n\u001b[0m\u001b[1;32m   1015\u001b[0m                              \u001b[0mmap_location\u001b[0m\u001b[0;34m,\u001b[0m\u001b[0;34m\u001b[0m\u001b[0;34m\u001b[0m\u001b[0m\n\u001b[1;32m   1016\u001b[0m                              \u001b[0mpickle_module\u001b[0m\u001b[0;34m,\u001b[0m\u001b[0;34m\u001b[0m\u001b[0;34m\u001b[0m\u001b[0m\n",
            "\u001b[0;32m/usr/local/lib/python3.10/dist-packages/torch/serialization.py\u001b[0m in \u001b[0;36m_load\u001b[0;34m(zip_file, map_location, pickle_module, pickle_file, overall_storage, **pickle_load_args)\u001b[0m\n\u001b[1;32m   1420\u001b[0m     \u001b[0munpickler\u001b[0m \u001b[0;34m=\u001b[0m \u001b[0mUnpicklerWrapper\u001b[0m\u001b[0;34m(\u001b[0m\u001b[0mdata_file\u001b[0m\u001b[0;34m,\u001b[0m \u001b[0;34m**\u001b[0m\u001b[0mpickle_load_args\u001b[0m\u001b[0;34m)\u001b[0m\u001b[0;34m\u001b[0m\u001b[0;34m\u001b[0m\u001b[0m\n\u001b[1;32m   1421\u001b[0m     \u001b[0munpickler\u001b[0m\u001b[0;34m.\u001b[0m\u001b[0mpersistent_load\u001b[0m \u001b[0;34m=\u001b[0m \u001b[0mpersistent_load\u001b[0m\u001b[0;34m\u001b[0m\u001b[0;34m\u001b[0m\u001b[0m\n\u001b[0;32m-> 1422\u001b[0;31m     \u001b[0mresult\u001b[0m \u001b[0;34m=\u001b[0m \u001b[0munpickler\u001b[0m\u001b[0;34m.\u001b[0m\u001b[0mload\u001b[0m\u001b[0;34m(\u001b[0m\u001b[0;34m)\u001b[0m\u001b[0;34m\u001b[0m\u001b[0;34m\u001b[0m\u001b[0m\n\u001b[0m\u001b[1;32m   1423\u001b[0m \u001b[0;34m\u001b[0m\u001b[0m\n\u001b[1;32m   1424\u001b[0m     \u001b[0mtorch\u001b[0m\u001b[0;34m.\u001b[0m\u001b[0m_utils\u001b[0m\u001b[0;34m.\u001b[0m\u001b[0m_validate_loaded_sparse_tensors\u001b[0m\u001b[0;34m(\u001b[0m\u001b[0;34m)\u001b[0m\u001b[0;34m\u001b[0m\u001b[0;34m\u001b[0m\u001b[0m\n",
            "\u001b[0;32m/usr/local/lib/python3.10/dist-packages/torch/serialization.py\u001b[0m in \u001b[0;36mpersistent_load\u001b[0;34m(saved_id)\u001b[0m\n\u001b[1;32m   1390\u001b[0m         \u001b[0;32melse\u001b[0m\u001b[0;34m:\u001b[0m\u001b[0;34m\u001b[0m\u001b[0;34m\u001b[0m\u001b[0m\n\u001b[1;32m   1391\u001b[0m             \u001b[0mnbytes\u001b[0m \u001b[0;34m=\u001b[0m \u001b[0mnumel\u001b[0m \u001b[0;34m*\u001b[0m \u001b[0mtorch\u001b[0m\u001b[0;34m.\u001b[0m\u001b[0m_utils\u001b[0m\u001b[0;34m.\u001b[0m\u001b[0m_element_size\u001b[0m\u001b[0;34m(\u001b[0m\u001b[0mdtype\u001b[0m\u001b[0;34m)\u001b[0m\u001b[0;34m\u001b[0m\u001b[0;34m\u001b[0m\u001b[0m\n\u001b[0;32m-> 1392\u001b[0;31m             \u001b[0mtyped_storage\u001b[0m \u001b[0;34m=\u001b[0m \u001b[0mload_tensor\u001b[0m\u001b[0;34m(\u001b[0m\u001b[0mdtype\u001b[0m\u001b[0;34m,\u001b[0m \u001b[0mnbytes\u001b[0m\u001b[0;34m,\u001b[0m \u001b[0mkey\u001b[0m\u001b[0;34m,\u001b[0m \u001b[0m_maybe_decode_ascii\u001b[0m\u001b[0;34m(\u001b[0m\u001b[0mlocation\u001b[0m\u001b[0;34m)\u001b[0m\u001b[0;34m)\u001b[0m\u001b[0;34m\u001b[0m\u001b[0;34m\u001b[0m\u001b[0m\n\u001b[0m\u001b[1;32m   1393\u001b[0m \u001b[0;34m\u001b[0m\u001b[0m\n\u001b[1;32m   1394\u001b[0m         \u001b[0;32mreturn\u001b[0m \u001b[0mtyped_storage\u001b[0m\u001b[0;34m\u001b[0m\u001b[0;34m\u001b[0m\u001b[0m\n",
            "\u001b[0;32m/usr/local/lib/python3.10/dist-packages/torch/serialization.py\u001b[0m in \u001b[0;36mload_tensor\u001b[0;34m(dtype, numel, key, location)\u001b[0m\n\u001b[1;32m   1355\u001b[0m             \u001b[0mstorage\u001b[0m \u001b[0;34m=\u001b[0m \u001b[0moverall_storage\u001b[0m\u001b[0;34m[\u001b[0m\u001b[0mstorage_offset\u001b[0m\u001b[0;34m:\u001b[0m\u001b[0mstorage_offset\u001b[0m \u001b[0;34m+\u001b[0m \u001b[0mnumel\u001b[0m\u001b[0;34m]\u001b[0m\u001b[0;34m\u001b[0m\u001b[0;34m\u001b[0m\u001b[0m\n\u001b[1;32m   1356\u001b[0m         \u001b[0;32melse\u001b[0m\u001b[0;34m:\u001b[0m\u001b[0;34m\u001b[0m\u001b[0;34m\u001b[0m\u001b[0m\n\u001b[0;32m-> 1357\u001b[0;31m             \u001b[0mstorage\u001b[0m \u001b[0;34m=\u001b[0m \u001b[0mzip_file\u001b[0m\u001b[0;34m.\u001b[0m\u001b[0mget_storage_from_record\u001b[0m\u001b[0;34m(\u001b[0m\u001b[0mname\u001b[0m\u001b[0;34m,\u001b[0m \u001b[0mnumel\u001b[0m\u001b[0;34m,\u001b[0m \u001b[0mtorch\u001b[0m\u001b[0;34m.\u001b[0m\u001b[0mUntypedStorage\u001b[0m\u001b[0;34m)\u001b[0m\u001b[0;34m.\u001b[0m\u001b[0m_typed_storage\u001b[0m\u001b[0;34m(\u001b[0m\u001b[0;34m)\u001b[0m\u001b[0;34m.\u001b[0m\u001b[0m_untyped_storage\u001b[0m\u001b[0;34m\u001b[0m\u001b[0;34m\u001b[0m\u001b[0m\n\u001b[0m\u001b[1;32m   1358\u001b[0m         \u001b[0;31m# swap here if byteswapping is needed\u001b[0m\u001b[0;34m\u001b[0m\u001b[0;34m\u001b[0m\u001b[0m\n\u001b[1;32m   1359\u001b[0m         \u001b[0;32mif\u001b[0m \u001b[0mbyteorderdata\u001b[0m \u001b[0;32mis\u001b[0m \u001b[0;32mnot\u001b[0m \u001b[0;32mNone\u001b[0m\u001b[0;34m:\u001b[0m\u001b[0;34m\u001b[0m\u001b[0;34m\u001b[0m\u001b[0m\n",
            "\u001b[0;31mKeyboardInterrupt\u001b[0m: "
          ]
        }
      ]
    },
    {
      "cell_type": "code",
      "source": [
        "import matplotlib.pyplot as plt\n",
        "import json\n",
        "from matplotlib.ticker import MaxNLocator\n",
        "\n",
        "savepath = \"/content/drive/MyDrive/AOCR2024/params/tf_efficientnetv2_s_cos/tf_efficientnetv2_s_400\"\n",
        "n_epochs = len(running_loss_list)\n",
        "fig, ax = plt.subplots(1, 2, figsize=(12, 6))\n",
        "\n",
        "ax[0].plot( running_loss_list, label='Training Loss')\n",
        "ax[0].plot( testing_loss_list, label='Testing Loss')\n",
        "ax[0].set_title('Loss compare')\n",
        "ax[0].set_xlabel('Epoch')\n",
        "ax[0].set_ylabel('Loss')\n",
        "ax[0].legend()\n",
        "ax[0].xaxis.set_major_locator(MaxNLocator(integer=True))  # 設置 X 軸只顯示整數\n",
        "\n",
        "ax[1].plot( running_accu_list, label='Training Accuracy')\n",
        "ax[1].plot( testing_accu_list, label='Testing Accuracy')\n",
        "ax[1].set_title('Accuracy compare')\n",
        "ax[1].set_xlabel('Epoch')\n",
        "ax[1].set_ylabel('Accuracy')\n",
        "ax[1].legend()\n",
        "ax[1].xaxis.set_major_locator(MaxNLocator(integer=True))  # 設置 X 軸只顯示整數\n",
        "\n",
        "plt.tight_layout()\n",
        "\n",
        "figname = f'{os.path.dirname(savepath)}/{model_name}_loss.png'\n",
        "if os.path.isfile(figname):\n",
        "  print(f\"{figname} exist.\")\n",
        "else:\n",
        "  plt.savefig(figname)\n",
        "plt.show()\n",
        "\n",
        "lossname = f'{os.path.dirname(savepath)}/{model_name}_loss.json'\n",
        "\n",
        "\n",
        "#若是從checkpoint跑模型,把loss data接上去,loss data預設在模型參數資料夾下\n",
        "if os.path.isfile(lossname):\n",
        "  with open(lossname, 'r') as f:\n",
        "    data_to_save = json.load(f)\n",
        "  data_to_save['running_loss_list'].extend(running_loss_list)\n",
        "  data_to_save['testing_loss_list'].extend(testing_loss_list)\n",
        "  data_to_save['running_accu_list'].extend(running_accu_list)\n",
        "  data_to_save['testing_accu_list'].extend(testing_accu_list)\n",
        "else:\n",
        "  data_to_save = {\n",
        "      'running_loss_list': running_loss_list,\n",
        "      'testing_loss_list': testing_loss_list,\n",
        "      'running_accu_list': running_accu_list,\n",
        "      'testing_accu_list': testing_accu_list\n",
        "  }\n",
        "\n",
        "with open(lossname, 'w') as f:\n",
        "    json.dump(data_to_save, f, indent=4)"
      ],
      "metadata": {
        "id": "OhtujRavHQZ7"
      },
      "execution_count": null,
      "outputs": []
    },
    {
      "cell_type": "markdown",
      "source": [
        "drive檔案處理"
      ],
      "metadata": {
        "id": "iYNdv3iuH1B-"
      }
    },
    {
      "cell_type": "markdown",
      "source": [
        "重命名檔案"
      ],
      "metadata": {
        "id": "w_tcloGiLX5t"
      }
    },
    {
      "cell_type": "code",
      "source": [
        "cd /content/drive/MyDrive/AOCR2024/params"
      ],
      "metadata": {
        "id": "8FwVVgRBHz2Y"
      },
      "execution_count": null,
      "outputs": []
    },
    {
      "cell_type": "code",
      "source": [
        "# %shell for file in tf_efficientnetv2_m*; do mv \"$file\" \"${file/tf_efficientnetv2_m/unet}\"; done"
      ],
      "metadata": {
        "id": "gjPo1mWSIF0H"
      },
      "execution_count": null,
      "outputs": []
    },
    {
      "cell_type": "code",
      "source": [
        "import matplotlib.pyplot as plt\n",
        "\n",
        "x = range(10,210,10)\n",
        "y = [0.21497405485544846,0.3526900085397096,0.42987249544626593,0.408731241473397,0.43421052631578944,0.41770102536427417,0.43779342723004694,0.42740414833438095,0.47986434930055116,0.4362030905077262,0.4241719930273096,0.3555230431602049,0.20746132848043677,0.4176013805004314,0.4490445859872611,0.17557251908396945,0.40830945558739257,0.472430224642614,0.47833775419982316,0.1071060762100927]\n",
        "plt.plot(x,y)"
      ],
      "metadata": {
        "colab": {
          "base_uri": "https://localhost:8080/",
          "height": 447
        },
        "id": "RaH5SuYnIQX5",
        "outputId": "ea2350be-3517-4f60-c1ee-1cb69eb5b5ef"
      },
      "execution_count": null,
      "outputs": [
        {
          "output_type": "execute_result",
          "data": {
            "text/plain": [
              "[<matplotlib.lines.Line2D at 0x7dc974b502b0>]"
            ]
          },
          "metadata": {},
          "execution_count": 47
        },
        {
          "output_type": "display_data",
          "data": {
            "text/plain": [
              "<Figure size 640x480 with 1 Axes>"
            ],
            "image/png": "[encoded data removed]"
          },
          "metadata": {}
        }
      ]
    }
  ],
  "metadata": {
    "colab": {
      "provenance": [],
      "collapsed_sections": [
        "RpwX2ZFOBRFT",
        "0IX5HYZuSKG-",
        "rhLO9PaUESQh"
      ],
      "machine_shape": "hm",
      "gpuType": "T4",
      "include_colab_link": true
    },
    "kernelspec": {
      "display_name": "Python 3",
      "name": "python3"
    },
    "language_info": {
      "codemirror_mode": {
        "name": "ipython",
        "version": 3
      },
      "file_extension": ".py",
      "mimetype": "text/x-python",
      "name": "python",
      "nbconvert_exporter": "python",
      "pygments_lexer": "ipython3",
      "version": "3.11.5"
    },
    "widgets": {
      "application/vnd.jupyter.widget-state+json": {
        "c422512041a14bf3bf75c2da16702587": {
          "model_module": "@jupyter-widgets/controls",
          "model_name": "HBoxModel",
          "model_module_version": "1.5.0",
          "state": {
            "_dom_classes": [],
            "_model_module": "@jupyter-widgets/controls",
            "_model_module_version": "1.5.0",
            "_model_name": "HBoxModel",
            "_view_count": null,
            "_view_module": "@jupyter-widgets/controls",
            "_view_module_version": "1.5.0",
            "_view_name": "HBoxView",
            "box_style": "",
            "children": [
              "IPY_MODEL_4617aad21ecc4789ab2685a9a0232933",
              "IPY_MODEL_f4113f300964419ba74f8ee52b3532d8",
              "IPY_MODEL_6879c72172db465491d3f863e763c048"
            ],
            "layout": "IPY_MODEL_bb56cf8a44044e44affaaffda04c3f75"
          }
        },
        "4617aad21ecc4789ab2685a9a0232933": {
          "model_module": "@jupyter-widgets/controls",
          "model_name": "HTMLModel",
          "model_module_version": "1.5.0",
          "state": {
            "_dom_classes": [],
            "_model_module": "@jupyter-widgets/controls",
            "_model_module_version": "1.5.0",
            "_model_name": "HTMLModel",
            "_view_count": null,
            "_view_module": "@jupyter-widgets/controls",
            "_view_module_version": "1.5.0",
            "_view_name": "HTMLView",
            "description": "",
            "description_tooltip": null,
            "layout": "IPY_MODEL_031ae41a6c14470d801d20aeb4eb0c24",
            "placeholder": "​",
            "style": "IPY_MODEL_fa0c3a3e951847db9efc5213da4752cd",
            "value": "model.safetensors: 100%"
          }
        },
        "f4113f300964419ba74f8ee52b3532d8": {
          "model_module": "@jupyter-widgets/controls",
          "model_name": "FloatProgressModel",
          "model_module_version": "1.5.0",
          "state": {
            "_dom_classes": [],
            "_model_module": "@jupyter-widgets/controls",
            "_model_module_version": "1.5.0",
            "_model_name": "FloatProgressModel",
            "_view_count": null,
            "_view_module": "@jupyter-widgets/controls",
            "_view_module_version": "1.5.0",
            "_view_name": "ProgressView",
            "bar_style": "success",
            "description": "",
            "description_tooltip": null,
            "layout": "IPY_MODEL_a19c4d2cc3074dcaa1ec7cbe3b1fd0fa",
            "max": 86523256,
            "min": 0,
            "orientation": "horizontal",
            "style": "IPY_MODEL_ee9c1a1cd8364b7885f6892ba6a4e763",
            "value": 86523256
          }
        },
        "6879c72172db465491d3f863e763c048": {
          "model_module": "@jupyter-widgets/controls",
          "model_name": "HTMLModel",
          "model_module_version": "1.5.0",
          "state": {
            "_dom_classes": [],
            "_model_module": "@jupyter-widgets/controls",
            "_model_module_version": "1.5.0",
            "_model_name": "HTMLModel",
            "_view_count": null,
            "_view_module": "@jupyter-widgets/controls",
            "_view_module_version": "1.5.0",
            "_view_name": "HTMLView",
            "description": "",
            "description_tooltip": null,
            "layout": "IPY_MODEL_2cb88fc5218a4c2bbbcd192b78bf0e30",
            "placeholder": "​",
            "style": "IPY_MODEL_34dba9ff20e549b8938edbf489264a96",
            "value": " 86.5M/86.5M [00:00&lt;00:00, 257MB/s]"
          }
        },
        "bb56cf8a44044e44affaaffda04c3f75": {
          "model_module": "@jupyter-widgets/base",
          "model_name": "LayoutModel",
          "model_module_version": "1.2.0",
          "state": {
            "_model_module": "@jupyter-widgets/base",
            "_model_module_version": "1.2.0",
            "_model_name": "LayoutModel",
            "_view_count": null,
            "_view_module": "@jupyter-widgets/base",
            "_view_module_version": "1.2.0",
            "_view_name": "LayoutView",
            "align_content": null,
            "align_items": null,
            "align_self": null,
            "border": null,
            "bottom": null,
            "display": null,
            "flex": null,
            "flex_flow": null,
            "grid_area": null,
            "grid_auto_columns": null,
            "grid_auto_flow": null,
            "grid_auto_rows": null,
            "grid_column": null,
            "grid_gap": null,
            "grid_row": null,
            "grid_template_areas": null,
            "grid_template_columns": null,
            "grid_template_rows": null,
            "height": null,
            "justify_content": null,
            "justify_items": null,
            "left": null,
            "margin": null,
            "max_height": null,
            "max_width": null,
            "min_height": null,
            "min_width": null,
            "object_fit": null,
            "object_position": null,
            "order": null,
            "overflow": null,
            "overflow_x": null,
            "overflow_y": null,
            "padding": null,
            "right": null,
            "top": null,
            "visibility": null,
            "width": null
          }
        },
        "031ae41a6c14470d801d20aeb4eb0c24": {
          "model_module": "@jupyter-widgets/base",
          "model_name": "LayoutModel",
          "model_module_version": "1.2.0",
          "state": {
            "_model_module": "@jupyter-widgets/base",
            "_model_module_version": "1.2.0",
            "_model_name": "LayoutModel",
            "_view_count": null,
            "_view_module": "@jupyter-widgets/base",
            "_view_module_version": "1.2.0",
            "_view_name": "LayoutView",
            "align_content": null,
            "align_items": null,
            "align_self": null,
            "border": null,
            "bottom": null,
            "display": null,
            "flex": null,
            "flex_flow": null,
            "grid_area": null,
            "grid_auto_columns": null,
            "grid_auto_flow": null,
            "grid_auto_rows": null,
            "grid_column": null,
            "grid_gap": null,
            "grid_row": null,
            "grid_template_areas": null,
            "grid_template_columns": null,
            "grid_template_rows": null,
            "height": null,
            "justify_content": null,
            "justify_items": null,
            "left": null,
            "margin": null,
            "max_height": null,
            "max_width": null,
            "min_height": null,
            "min_width": null,
            "object_fit": null,
            "object_position": null,
            "order": null,
            "overflow": null,
            "overflow_x": null,
            "overflow_y": null,
            "padding": null,
            "right": null,
            "top": null,
            "visibility": null,
            "width": null
          }
        },
        "fa0c3a3e951847db9efc5213da4752cd": {
          "model_module": "@jupyter-widgets/controls",
          "model_name": "DescriptionStyleModel",
          "model_module_version": "1.5.0",
          "state": {
            "_model_module": "@jupyter-widgets/controls",
            "_model_module_version": "1.5.0",
            "_model_name": "DescriptionStyleModel",
            "_view_count": null,
            "_view_module": "@jupyter-widgets/base",
            "_view_module_version": "1.2.0",
            "_view_name": "StyleView",
            "description_width": ""
          }
        },
        "a19c4d2cc3074dcaa1ec7cbe3b1fd0fa": {
          "model_module": "@jupyter-widgets/base",
          "model_name": "LayoutModel",
          "model_module_version": "1.2.0",
          "state": {
            "_model_module": "@jupyter-widgets/base",
            "_model_module_version": "1.2.0",
            "_model_name": "LayoutModel",
            "_view_count": null,
            "_view_module": "@jupyter-widgets/base",
            "_view_module_version": "1.2.0",
            "_view_name": "LayoutView",
            "align_content": null,
            "align_items": null,
            "align_self": null,
            "border": null,
            "bottom": null,
            "display": null,
            "flex": null,
            "flex_flow": null,
            "grid_area": null,
            "grid_auto_columns": null,
            "grid_auto_flow": null,
            "grid_auto_rows": null,
            "grid_column": null,
            "grid_gap": null,
            "grid_row": null,
            "grid_template_areas": null,
            "grid_template_columns": null,
            "grid_template_rows": null,
            "height": null,
            "justify_content": null,
            "justify_items": null,
            "left": null,
            "margin": null,
            "max_height": null,
            "max_width": null,
            "min_height": null,
            "min_width": null,
            "object_fit": null,
            "object_position": null,
            "order": null,
            "overflow": null,
            "overflow_x": null,
            "overflow_y": null,
            "padding": null,
            "right": null,
            "top": null,
            "visibility": null,
            "width": null
          }
        },
        "ee9c1a1cd8364b7885f6892ba6a4e763": {
          "model_module": "@jupyter-widgets/controls",
          "model_name": "ProgressStyleModel",
          "model_module_version": "1.5.0",
          "state": {
            "_model_module": "@jupyter-widgets/controls",
            "_model_module_version": "1.5.0",
            "_model_name": "ProgressStyleModel",
            "_view_count": null,
            "_view_module": "@jupyter-widgets/base",
            "_view_module_version": "1.2.0",
            "_view_name": "StyleView",
            "bar_color": null,
            "description_width": ""
          }
        },
        "2cb88fc5218a4c2bbbcd192b78bf0e30": {
          "model_module": "@jupyter-widgets/base",
          "model_name": "LayoutModel",
          "model_module_version": "1.2.0",
          "state": {
            "_model_module": "@jupyter-widgets/base",
            "_model_module_version": "1.2.0",
            "_model_name": "LayoutModel",
            "_view_count": null,
            "_view_module": "@jupyter-widgets/base",
            "_view_module_version": "1.2.0",
            "_view_name": "LayoutView",
            "align_content": null,
            "align_items": null,
            "align_self": null,
            "border": null,
            "bottom": null,
            "display": null,
            "flex": null,
            "flex_flow": null,
            "grid_area": null,
            "grid_auto_columns": null,
            "grid_auto_flow": null,
            "grid_auto_rows": null,
            "grid_column": null,
            "grid_gap": null,
            "grid_row": null,
            "grid_template_areas": null,
            "grid_template_columns": null,
            "grid_template_rows": null,
            "height": null,
            "justify_content": null,
            "justify_items": null,
            "left": null,
            "margin": null,
            "max_height": null,
            "max_width": null,
            "min_height": null,
            "min_width": null,
            "object_fit": null,
            "object_position": null,
            "order": null,
            "overflow": null,
            "overflow_x": null,
            "overflow_y": null,
            "padding": null,
            "right": null,
            "top": null,
            "visibility": null,
            "width": null
          }
        },
        "34dba9ff20e549b8938edbf489264a96": {
          "model_module": "@jupyter-widgets/controls",
          "model_name": "DescriptionStyleModel",
          "model_module_version": "1.5.0",
          "state": {
            "_model_module": "@jupyter-widgets/controls",
            "_model_module_version": "1.5.0",
            "_model_name": "DescriptionStyleModel",
            "_view_count": null,
            "_view_module": "@jupyter-widgets/base",
            "_view_module_version": "1.2.0",
            "_view_name": "StyleView",
            "description_width": ""
          }
        },
        "75f487ebf4724646add6709e2f26020a": {
          "model_module": "@jupyter-widgets/controls",
          "model_name": "HBoxModel",
          "model_module_version": "1.5.0",
          "state": {
            "_dom_classes": [],
            "_model_module": "@jupyter-widgets/controls",
            "_model_module_version": "1.5.0",
            "_model_name": "HBoxModel",
            "_view_count": null,
            "_view_module": "@jupyter-widgets/controls",
            "_view_module_version": "1.5.0",
            "_view_name": "HBoxView",
            "box_style": "",
            "children": [
              "IPY_MODEL_cb0241e6059442d4bc2edcc928140f42",
              "IPY_MODEL_c99c77e5656c40cc9729c1d96eb39aa7",
              "IPY_MODEL_afe91b706c9942879985d06db1379b0f"
            ],
            "layout": "IPY_MODEL_dceb4dcee3af4ac5a71aeb662831bcd9"
          }
        },
        "cb0241e6059442d4bc2edcc928140f42": {
          "model_module": "@jupyter-widgets/controls",
          "model_name": "HTMLModel",
          "model_module_version": "1.5.0",
          "state": {
            "_dom_classes": [],
            "_model_module": "@jupyter-widgets/controls",
            "_model_module_version": "1.5.0",
            "_model_name": "HTMLModel",
            "_view_count": null,
            "_view_module": "@jupyter-widgets/controls",
            "_view_module_version": "1.5.0",
            "_view_name": "HTMLView",
            "description": "",
            "description_tooltip": null,
            "layout": "IPY_MODEL_39873aba219143d7a4163e4cf2177d5b",
            "placeholder": "​",
            "style": "IPY_MODEL_8b305170e7d540968b0cde379c4156d5",
            "value": "model.safetensors: 100%"
          }
        },
        "c99c77e5656c40cc9729c1d96eb39aa7": {
          "model_module": "@jupyter-widgets/controls",
          "model_name": "FloatProgressModel",
          "model_module_version": "1.5.0",
          "state": {
            "_dom_classes": [],
            "_model_module": "@jupyter-widgets/controls",
            "_model_module_version": "1.5.0",
            "_model_name": "FloatProgressModel",
            "_view_count": null,
            "_view_module": "@jupyter-widgets/controls",
            "_view_module_version": "1.5.0",
            "_view_name": "ProgressView",
            "bar_style": "success",
            "description": "",
            "description_tooltip": null,
            "layout": "IPY_MODEL_dfcdbc0a4eac4684894b2aca575da0ec",
            "max": 21355344,
            "min": 0,
            "orientation": "horizontal",
            "style": "IPY_MODEL_2715cf6db3a84069a20b5f8c6b9d4d57",
            "value": 21355344
          }
        },
        "afe91b706c9942879985d06db1379b0f": {
          "model_module": "@jupyter-widgets/controls",
          "model_name": "HTMLModel",
          "model_module_version": "1.5.0",
          "state": {
            "_dom_classes": [],
            "_model_module": "@jupyter-widgets/controls",
            "_model_module_version": "1.5.0",
            "_model_name": "HTMLModel",
            "_view_count": null,
            "_view_module": "@jupyter-widgets/controls",
            "_view_module_version": "1.5.0",
            "_view_name": "HTMLView",
            "description": "",
            "description_tooltip": null,
            "layout": "IPY_MODEL_44ee0033295543038589675a55b409cb",
            "placeholder": "​",
            "style": "IPY_MODEL_ff5802dd787c49c38e8120196e05fa50",
            "value": " 21.4M/21.4M [00:00&lt;00:00, 93.1MB/s]"
          }
        },
        "dceb4dcee3af4ac5a71aeb662831bcd9": {
          "model_module": "@jupyter-widgets/base",
          "model_name": "LayoutModel",
          "model_module_version": "1.2.0",
          "state": {
            "_model_module": "@jupyter-widgets/base",
            "_model_module_version": "1.2.0",
            "_model_name": "LayoutModel",
            "_view_count": null,
            "_view_module": "@jupyter-widgets/base",
            "_view_module_version": "1.2.0",
            "_view_name": "LayoutView",
            "align_content": null,
            "align_items": null,
            "align_self": null,
            "border": null,
            "bottom": null,
            "display": null,
            "flex": null,
            "flex_flow": null,
            "grid_area": null,
            "grid_auto_columns": null,
            "grid_auto_flow": null,
            "grid_auto_rows": null,
            "grid_column": null,
            "grid_gap": null,
            "grid_row": null,
            "grid_template_areas": null,
            "grid_template_columns": null,
            "grid_template_rows": null,
            "height": null,
            "justify_content": null,
            "justify_items": null,
            "left": null,
            "margin": null,
            "max_height": null,
            "max_width": null,
            "min_height": null,
            "min_width": null,
            "object_fit": null,
            "object_position": null,
            "order": null,
            "overflow": null,
            "overflow_x": null,
            "overflow_y": null,
            "padding": null,
            "right": null,
            "top": null,
            "visibility": null,
            "width": null
          }
        },
        "39873aba219143d7a4163e4cf2177d5b": {
          "model_module": "@jupyter-widgets/base",
          "model_name": "LayoutModel",
          "model_module_version": "1.2.0",
          "state": {
            "_model_module": "@jupyter-widgets/base",
            "_model_module_version": "1.2.0",
            "_model_name": "LayoutModel",
            "_view_count": null,
            "_view_module": "@jupyter-widgets/base",
            "_view_module_version": "1.2.0",
            "_view_name": "LayoutView",
            "align_content": null,
            "align_items": null,
            "align_self": null,
            "border": null,
            "bottom": null,
            "display": null,
            "flex": null,
            "flex_flow": null,
            "grid_area": null,
            "grid_auto_columns": null,
            "grid_auto_flow": null,
            "grid_auto_rows": null,
            "grid_column": null,
            "grid_gap": null,
            "grid_row": null,
            "grid_template_areas": null,
            "grid_template_columns": null,
            "grid_template_rows": null,
            "height": null,
            "justify_content": null,
            "justify_items": null,
            "left": null,
            "margin": null,
            "max_height": null,
            "max_width": null,
            "min_height": null,
            "min_width": null,
            "object_fit": null,
            "object_position": null,
            "order": null,
            "overflow": null,
            "overflow_x": null,
            "overflow_y": null,
            "padding": null,
            "right": null,
            "top": null,
            "visibility": null,
            "width": null
          }
        },
        "8b305170e7d540968b0cde379c4156d5": {
          "model_module": "@jupyter-widgets/controls",
          "model_name": "DescriptionStyleModel",
          "model_module_version": "1.5.0",
          "state": {
            "_model_module": "@jupyter-widgets/controls",
            "_model_module_version": "1.5.0",
            "_model_name": "DescriptionStyleModel",
            "_view_count": null,
            "_view_module": "@jupyter-widgets/base",
            "_view_module_version": "1.2.0",
            "_view_name": "StyleView",
            "description_width": ""
          }
        },
        "dfcdbc0a4eac4684894b2aca575da0ec": {
          "model_module": "@jupyter-widgets/base",
          "model_name": "LayoutModel",
          "model_module_version": "1.2.0",
          "state": {
            "_model_module": "@jupyter-widgets/base",
            "_model_module_version": "1.2.0",
            "_model_name": "LayoutModel",
            "_view_count": null,
            "_view_module": "@jupyter-widgets/base",
            "_view_module_version": "1.2.0",
            "_view_name": "LayoutView",
            "align_content": null,
            "align_items": null,
            "align_self": null,
            "border": null,
            "bottom": null,
            "display": null,
            "flex": null,
            "flex_flow": null,
            "grid_area": null,
            "grid_auto_columns": null,
            "grid_auto_flow": null,
            "grid_auto_rows": null,
            "grid_column": null,
            "grid_gap": null,
            "grid_row": null,
            "grid_template_areas": null,
            "grid_template_columns": null,
            "grid_template_rows": null,
            "height": null,
            "justify_content": null,
            "justify_items": null,
            "left": null,
            "margin": null,
            "max_height": null,
            "max_width": null,
            "min_height": null,
            "min_width": null,
            "object_fit": null,
            "object_position": null,
            "order": null,
            "overflow": null,
            "overflow_x": null,
            "overflow_y": null,
            "padding": null,
            "right": null,
            "top": null,
            "visibility": null,
            "width": null
          }
        },
        "2715cf6db3a84069a20b5f8c6b9d4d57": {
          "model_module": "@jupyter-widgets/controls",
          "model_name": "ProgressStyleModel",
          "model_module_version": "1.5.0",
          "state": {
            "_model_module": "@jupyter-widgets/controls",
            "_model_module_version": "1.5.0",
            "_model_name": "ProgressStyleModel",
            "_view_count": null,
            "_view_module": "@jupyter-widgets/base",
            "_view_module_version": "1.2.0",
            "_view_name": "StyleView",
            "bar_color": null,
            "description_width": ""
          }
        },
        "44ee0033295543038589675a55b409cb": {
          "model_module": "@jupyter-widgets/base",
          "model_name": "LayoutModel",
          "model_module_version": "1.2.0",
          "state": {
            "_model_module": "@jupyter-widgets/base",
            "_model_module_version": "1.2.0",
            "_model_name": "LayoutModel",
            "_view_count": null,
            "_view_module": "@jupyter-widgets/base",
            "_view_module_version": "1.2.0",
            "_view_name": "LayoutView",
            "align_content": null,
            "align_items": null,
            "align_self": null,
            "border": null,
            "bottom": null,
            "display": null,
            "flex": null,
            "flex_flow": null,
            "grid_area": null,
            "grid_auto_columns": null,
            "grid_auto_flow": null,
            "grid_auto_rows": null,
            "grid_column": null,
            "grid_gap": null,
            "grid_row": null,
            "grid_template_areas": null,
            "grid_template_columns": null,
            "grid_template_rows": null,
            "height": null,
            "justify_content": null,
            "justify_items": null,
            "left": null,
            "margin": null,
            "max_height": null,
            "max_width": null,
            "min_height": null,
            "min_width": null,
            "object_fit": null,
            "object_position": null,
            "order": null,
            "overflow": null,
            "overflow_x": null,
            "overflow_y": null,
            "padding": null,
            "right": null,
            "top": null,
            "visibility": null,
            "width": null
          }
        },
        "ff5802dd787c49c38e8120196e05fa50": {
          "model_module": "@jupyter-widgets/controls",
          "model_name": "DescriptionStyleModel",
          "model_module_version": "1.5.0",
          "state": {
            "_model_module": "@jupyter-widgets/controls",
            "_model_module_version": "1.5.0",
            "_model_name": "DescriptionStyleModel",
            "_view_count": null,
            "_view_module": "@jupyter-widgets/base",
            "_view_module_version": "1.2.0",
            "_view_name": "StyleView",
            "description_width": ""
          }
        }
      }
    },
    "accelerator": "GPU"
  },
  "nbformat": 4,
  "nbformat_minor": 0
}