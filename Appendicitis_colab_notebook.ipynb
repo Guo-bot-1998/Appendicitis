{
  "cells": [
    {
      "cell_type": "markdown",
      "metadata": {
        "id": "view-in-github",
        "colab_type": "text"
      },
      "source": [
        "<a href=\"https://colab.research.google.com/github/Guo-bot-1998/Appendicitis/blob/master/Appendicitis_colab_notebook.ipynb\" target=\"_parent\"><img src=\"https://colab.research.google.com/assets/colab-badge.svg\" alt=\"Open In Colab\"/></a>"
      ]
    },
    {
      "cell_type": "markdown",
      "metadata": {
        "id": "coYrDLBnCbwQ"
      },
      "source": [
        "# import"
      ]
    },
    {
      "cell_type": "code",
      "execution_count": 1,
      "metadata": {
        "id": "Q4kBLfXWRg7N",
        "outputId": "55819727-939a-4f01-e06a-ae1d22ea46d0",
        "colab": {
          "base_uri": "https://localhost:8080/"
        }
      },
      "outputs": [
        {
          "output_type": "stream",
          "name": "stdout",
          "text": [
            "Collecting timm\n",
            "  Downloading timm-0.9.12-py3-none-any.whl (2.2 MB)\n",
            "\u001b[2K     \u001b[90m━━━━━━━━━━━━━━━━━━━━━━━━━━━━━━━━━━━━━━━━\u001b[0m \u001b[32m2.2/2.2 MB\u001b[0m \u001b[31m9.9 MB/s\u001b[0m eta \u001b[36m0:00:00\u001b[0m\n",
            "\u001b[?25hRequirement already satisfied: torch>=1.7 in /usr/local/lib/python3.10/dist-packages (from timm) (2.1.0+cu121)\n",
            "Requirement already satisfied: torchvision in /usr/local/lib/python3.10/dist-packages (from timm) (0.16.0+cu121)\n",
            "Requirement already satisfied: pyyaml in /usr/local/lib/python3.10/dist-packages (from timm) (6.0.1)\n",
            "Requirement already satisfied: huggingface-hub in /usr/local/lib/python3.10/dist-packages (from timm) (0.19.4)\n",
            "Requirement already satisfied: safetensors in /usr/local/lib/python3.10/dist-packages (from timm) (0.4.1)\n",
            "Requirement already satisfied: filelock in /usr/local/lib/python3.10/dist-packages (from torch>=1.7->timm) (3.13.1)\n",
            "Requirement already satisfied: typing-extensions in /usr/local/lib/python3.10/dist-packages (from torch>=1.7->timm) (4.5.0)\n",
            "Requirement already satisfied: sympy in /usr/local/lib/python3.10/dist-packages (from torch>=1.7->timm) (1.12)\n",
            "Requirement already satisfied: networkx in /usr/local/lib/python3.10/dist-packages (from torch>=1.7->timm) (3.2.1)\n",
            "Requirement already satisfied: jinja2 in /usr/local/lib/python3.10/dist-packages (from torch>=1.7->timm) (3.1.2)\n",
            "Requirement already satisfied: fsspec in /usr/local/lib/python3.10/dist-packages (from torch>=1.7->timm) (2023.6.0)\n",
            "Requirement already satisfied: triton==2.1.0 in /usr/local/lib/python3.10/dist-packages (from torch>=1.7->timm) (2.1.0)\n",
            "Requirement already satisfied: requests in /usr/local/lib/python3.10/dist-packages (from huggingface-hub->timm) (2.31.0)\n",
            "Requirement already satisfied: tqdm>=4.42.1 in /usr/local/lib/python3.10/dist-packages (from huggingface-hub->timm) (4.66.1)\n",
            "Requirement already satisfied: packaging>=20.9 in /usr/local/lib/python3.10/dist-packages (from huggingface-hub->timm) (23.2)\n",
            "Requirement already satisfied: numpy in /usr/local/lib/python3.10/dist-packages (from torchvision->timm) (1.23.5)\n",
            "Requirement already satisfied: pillow!=8.3.*,>=5.3.0 in /usr/local/lib/python3.10/dist-packages (from torchvision->timm) (9.4.0)\n",
            "Requirement already satisfied: MarkupSafe>=2.0 in /usr/local/lib/python3.10/dist-packages (from jinja2->torch>=1.7->timm) (2.1.3)\n",
            "Requirement already satisfied: charset-normalizer<4,>=2 in /usr/local/lib/python3.10/dist-packages (from requests->huggingface-hub->timm) (3.3.2)\n",
            "Requirement already satisfied: idna<4,>=2.5 in /usr/local/lib/python3.10/dist-packages (from requests->huggingface-hub->timm) (3.6)\n",
            "Requirement already satisfied: urllib3<3,>=1.21.1 in /usr/local/lib/python3.10/dist-packages (from requests->huggingface-hub->timm) (2.0.7)\n",
            "Requirement already satisfied: certifi>=2017.4.17 in /usr/local/lib/python3.10/dist-packages (from requests->huggingface-hub->timm) (2023.11.17)\n",
            "Requirement already satisfied: mpmath>=0.19 in /usr/local/lib/python3.10/dist-packages (from sympy->torch>=1.7->timm) (1.3.0)\n",
            "Installing collected packages: timm\n",
            "Successfully installed timm-0.9.12\n",
            "Requirement already satisfied: tqdm in /usr/local/lib/python3.10/dist-packages (4.66.1)\n",
            "Collecting kora\n",
            "  Downloading kora-0.9.20-py3-none-any.whl (57 kB)\n",
            "\u001b[2K     \u001b[90m━━━━━━━━━━━━━━━━━━━━━━━━━━━━━━━━━━━━━━━━\u001b[0m \u001b[32m57.7/57.7 kB\u001b[0m \u001b[31m1.5 MB/s\u001b[0m eta \u001b[36m0:00:00\u001b[0m\n",
            "\u001b[?25hRequirement already satisfied: ipython in /usr/local/lib/python3.10/dist-packages (from kora) (7.34.0)\n",
            "Requirement already satisfied: fastcore in /usr/local/lib/python3.10/dist-packages (from kora) (1.5.29)\n",
            "Requirement already satisfied: pip in /usr/local/lib/python3.10/dist-packages (from fastcore->kora) (23.1.2)\n",
            "Requirement already satisfied: packaging in /usr/local/lib/python3.10/dist-packages (from fastcore->kora) (23.2)\n",
            "Requirement already satisfied: setuptools>=18.5 in /usr/local/lib/python3.10/dist-packages (from ipython->kora) (67.7.2)\n",
            "Collecting jedi>=0.16 (from ipython->kora)\n",
            "  Downloading jedi-0.19.1-py2.py3-none-any.whl (1.6 MB)\n",
            "\u001b[2K     \u001b[90m━━━━━━━━━━━━━━━━━━━━━━━━━━━━━━━━━━━━━━━━\u001b[0m \u001b[32m1.6/1.6 MB\u001b[0m \u001b[31m22.1 MB/s\u001b[0m eta \u001b[36m0:00:00\u001b[0m\n",
            "\u001b[?25hRequirement already satisfied: decorator in /usr/local/lib/python3.10/dist-packages (from ipython->kora) (4.4.2)\n",
            "Requirement already satisfied: pickleshare in /usr/local/lib/python3.10/dist-packages (from ipython->kora) (0.7.5)\n",
            "Requirement already satisfied: traitlets>=4.2 in /usr/local/lib/python3.10/dist-packages (from ipython->kora) (5.7.1)\n",
            "Requirement already satisfied: prompt-toolkit!=3.0.0,!=3.0.1,<3.1.0,>=2.0.0 in /usr/local/lib/python3.10/dist-packages (from ipython->kora) (3.0.42)\n",
            "Requirement already satisfied: pygments in /usr/local/lib/python3.10/dist-packages (from ipython->kora) (2.16.1)\n",
            "Requirement already satisfied: backcall in /usr/local/lib/python3.10/dist-packages (from ipython->kora) (0.2.0)\n",
            "Requirement already satisfied: matplotlib-inline in /usr/local/lib/python3.10/dist-packages (from ipython->kora) (0.1.6)\n",
            "Requirement already satisfied: pexpect>4.3 in /usr/local/lib/python3.10/dist-packages (from ipython->kora) (4.9.0)\n",
            "Requirement already satisfied: parso<0.9.0,>=0.8.3 in /usr/local/lib/python3.10/dist-packages (from jedi>=0.16->ipython->kora) (0.8.3)\n",
            "Requirement already satisfied: ptyprocess>=0.5 in /usr/local/lib/python3.10/dist-packages (from pexpect>4.3->ipython->kora) (0.7.0)\n",
            "Requirement already satisfied: wcwidth in /usr/local/lib/python3.10/dist-packages (from prompt-toolkit!=3.0.0,!=3.0.1,<3.1.0,>=2.0.0->ipython->kora) (0.2.12)\n",
            "Installing collected packages: jedi, kora\n",
            "Successfully installed jedi-0.19.1 kora-0.9.20\n",
            "Collecting fake_useragent\n",
            "  Downloading fake_useragent-1.4.0-py3-none-any.whl (15 kB)\n",
            "Installing collected packages: fake_useragent\n",
            "Successfully installed fake_useragent-1.4.0\n"
          ]
        }
      ],
      "source": [
        "!pip install timm\n",
        "!pip install tqdm\n",
        "!pip install kora\n",
        "!pip install fake_useragent"
      ]
    },
    {
      "cell_type": "code",
      "execution_count": 2,
      "metadata": {
        "id": "bQ4w8h2LkY0g"
      },
      "outputs": [],
      "source": [
        "import nibabel as nib\n",
        "import numpy as np\n",
        "import os\n",
        "import pandas as pd\n",
        "import nibabel as nib\n",
        "import torch\n",
        "import torch.nn as nn\n",
        "import torch.optim as optim\n",
        "import random\n",
        "import re\n",
        "import json\n",
        "import tqdm\n",
        "import timm\n",
        "import gdown\n",
        "from torch.utils.data import Dataset, DataLoader\n",
        "from kora.xattr import get_id"
      ]
    },
    {
      "cell_type": "markdown",
      "source": [
        "## 存取"
      ],
      "metadata": {
        "id": "Oc3DYvY3WsL4"
      }
    },
    {
      "cell_type": "code",
      "source": [
        "def get_data_disk(driveroot, targetdir):\n",
        "  \"\"\"從雲端資料夾targetdir下載檔案到colab root底下同名資料夾\n",
        "  只下載沒有下載的檔案.\n",
        "\n",
        "  driveroot為雲端檔案資料夾root\"\"\"\n",
        "\n",
        "  if not os.path.exists('/content/' + targetdir):\n",
        "    os.makedirs(targetdir)\n",
        "    print(f\"making {targetdir} dir...\")\n",
        "\n",
        "  files_on_drive = os.listdir(driveroot+'/'+targetdir)\n",
        "  files_in_localdir = os.listdir(f\"/content/{targetdir}\")\n",
        "  files_to_download = [f for f in files_on_drive if f not in files_in_localdir]\n",
        "  files = [(filename, get_id(f'{driveroot}/{targetdir}/{filename}')) for filename in files_to_download]\n",
        "\n",
        "\n",
        "  for idx, (name, file_id) in enumerate(files):\n",
        "\n",
        "    if not file_id:\n",
        "      print(f\"未找到文件: {name}\")\n",
        "      continue\n",
        "\n",
        "    # 下载文件\n",
        "    request = drive_service.files().get_media(fileId=file_id)\n",
        "    fh = io.BytesIO()\n",
        "    downloader = MediaIoBaseDownload(fh, request)\n",
        "\n",
        "    done = False\n",
        "    while not done:\n",
        "      status, done = downloader.next_chunk()\n",
        "      # print(f\"下载 {name} 进度: {int(status.progress() * 100)}%\")\n",
        "\n",
        "    # 将文件内容写入本地文件\n",
        "    local_file_path = os.path.join('/content', targetdir, name)\n",
        "\n",
        "    with open(local_file_path, 'wb') as f:\n",
        "      fh.seek(0)\n",
        "      f.write(fh.read())\n",
        "\n",
        "    print(f\"{idx+1}/{len(files)}: {name} downloaded\")\n",
        "\n",
        "\n",
        "\n",
        "\n",
        "def process_data2(traindir, shift=0, termi=10, dropFalse=0.85, dropPos=0)\\\n",
        " -> tuple[torch.tensor, torch.tensor]:\n",
        "  \"\"\"Reading data in \"traindir\" and process them.\n",
        "  Taking care of memory efficiency\"\n",
        "\n",
        "  Args:\n",
        "    shift: 從第幾個開始讀取\n",
        "    termi: 讀取幾個\n",
        "    dropFalse: 被刪除的有闌尾炎的張數比例\n",
        "    dropPos: 被刪除的有闌尾炎的張數比例\n",
        "\n",
        "  Returns:\n",
        "    images: 输出的图像数据\n",
        "    labels: 输出的标签数据\n",
        "  \"\"\"\n",
        "  print(f\"reading {traindir=}...\")\n",
        "  labels_ = read_label(labelpath)\n",
        "\n",
        "  if labels_.index.name != 'id':\n",
        "    labels_.set_index('id', inplace=True)\n",
        "\n",
        "  #裁減過的圖片放在Cropped_[範圍]的資料夾下,用路徑名稱判斷資料使否裁減過\n",
        "  cropmatch = re.search(r'Cropped', traindir)\n",
        "  if not cropmatch:\n",
        "    print(\"讀取未切片的資料夾\")\n",
        "    xlim, ylim, zlim = [0,512], [0,512], [0,None]\n",
        "  else:\n",
        "    #範圍 = xstart-xend_ystart-yend_zstart-zend\n",
        "    ismatch = re.search(r'(\\d+-\\d+)_(\\d+-\\d+)_(\\d+-\\d+)', traindir)\n",
        "    if ismatch:\n",
        "      dimens = ismatch.group(0)\n",
        "      labelidx = dimens.split('_')\n",
        "      xlim = [int(idx) for idx in labelidx[0].split('-')]\n",
        "      ylim = [int(idx) for idx in labelidx[1].split('-')]\n",
        "      zlim = [int(idx) for idx in labelidx[2].split('-')]\n",
        "      print(f\"{xlim=}\\n{ylim=}\\n{zlim=}\")\n",
        "      if xlim[0] >= xlim[1] or ylim[0] >= ylim[1] or zlim[0] >= zlim[1]:\n",
        "        print(\"切片格式不正确\")\n",
        "        return\n",
        "    else:\n",
        "      print(\"切片格式不正确\")\n",
        "      return\n",
        "\n",
        "\n",
        "  filelist = os.listdir(traindir)\n",
        "  filelist = filelist[shift:shift+termi]\n",
        "\n",
        "  # preallocated\n",
        "  if not cropmatch:\n",
        "    selecteds = [labels_.loc[labels_.index.str.startswith(afile.strip('.nii.gz')+'_')] for afile in filelist]\n",
        "    numcuts = [len(selected) for selected in selecteds]\n",
        "    numcuts = sum(numcuts)\n",
        "  else:\n",
        "    numcuts = (zlim[1]-zlim[0]) * len(filelist)\n",
        "  images = torch.zeros(numcuts,1, ylim[-1]-ylim[0],xlim[-1]-xlim[0])\n",
        "  labels = -torch.ones(numcuts)\n",
        "  nimgs = 0\n",
        "  nprocess = 0\n",
        "\n",
        "  for key in filelist:\n",
        "    file_path = os.path.join(traindir, key)\n",
        "    key = key.strip('.nii.gz')\n",
        "    scan  = labels_.loc[labels_.index.str.startswith(key+'_')]\n",
        "    value = nib.load(file_path).get_fdata()\n",
        "\n",
        "    label_t = torch.tensor(scan['label'][zlim[0]:zlim[-1]])\n",
        "    image_t = torch.from_numpy(value).float().permute(2, 0, 1).unsqueeze(1)\n",
        "\n",
        "    #有幾筆不是512x512\n",
        "    if (not cropmatch) and (image_t.shape[2] != 512 or image_t.shape[3] != 512):\n",
        "      image_t = cropping(image_t)\n",
        "\n",
        "    image_t, label_t = remove_false_images(image_t, label_t, dropFalse)\n",
        "    image_t, label_t = remove_positive_images(image_t, label_t, dropPos)\n",
        "\n",
        "    n_new = len(label_t)\n",
        "\n",
        "    images[nimgs:nimgs+n_new] = image_t\n",
        "    labels[nimgs:nimgs+n_new] = label_t\n",
        "    nimgs += len(label_t)\n",
        "    print(f\"Process {nprocess}: {key} finished...\")\n",
        "    nprocess += 1\n",
        "\n",
        "\n",
        "  #after drop\n",
        "  counts = count_zero(images)\n",
        "  images = torch.asarray(images[:len(images)-counts])\n",
        "  labels = labels[labels != -1]\n",
        "\n",
        "  return images, labels.float()\n",
        "\n",
        "\n",
        "\n",
        "\n",
        "def read_test(testdir,shift=0,termi=10):\n",
        "  \"\"\"Reading data in \"testdir\"\n",
        "  not memory efficient\n",
        "  Args:\n",
        "    shift: 從第幾個開始讀取\n",
        "    termi: 讀取幾個\n",
        "  Returns:\n",
        "    images: 输出的图像数据\n",
        "    scans_info: 每個scan的檔名和切片數(原本nii檔所包含的數量)\n",
        "\n",
        "  \"\"\"\n",
        "\n",
        "\n",
        "  filelist = os.listdir(testdir)\n",
        "  filelist = filelist[shift:shift+termi]\n",
        "  scans_info = []\n",
        "\n",
        "  images = []\n",
        "  nprocess = 0\n",
        "\n",
        "  for key in filelist:\n",
        "    file_path = os.path.join(testdir, key)\n",
        "    key = key.strip('.nii.gz')\n",
        "    value = nib.load(file_path).get_fdata()\n",
        "    scans_info.append((key, value.shape[2]))\n",
        "\n",
        "    image_t = torch.from_numpy(value).float().permute(2, 0, 1).unsqueeze(1)\n",
        "\n",
        "    images.append(image_t)\n",
        "    print(f\"{nprocess}: Read test {key} finished...\")\n",
        "    nprocess += 1\n",
        "\n",
        "  images = torch.cat(images,dim=0)\n",
        "  print(f\"read {len(scans_info)} scans\")\n",
        "\n",
        "  return images, scans_info\n",
        "\n",
        "\n",
        "\n",
        "\n",
        "def save_model(model, modelname=\"\", dirname=\"\", root=os.path.realpath(\"/content/drive/MyDrive/AOCR2024/params\")):\n",
        "\n",
        "  if not model:\n",
        "    print(\"not given model\")\n",
        "    return\n",
        "\n",
        "  if not os.path.exists(root):\n",
        "    print(f\"{root} not exists!\")\n",
        "    return\n",
        "\n",
        "  print(f\"model will be saved as {root}/{dirname}/{modelname}\")\n",
        "\n",
        "  if not modelname:\n",
        "    modelname = input(\"請輸入模型儲存的檔名:\")\n",
        "  if not dirname:\n",
        "    dirname = input(\"請輸入模型儲存的資料夾:\")\n",
        "\n",
        "  filename = f\"{root}/{dirname}/{modelname}\"\n",
        "\n",
        "  if not os.path.exists(os.path.dirname(filename)):\n",
        "    os.mkdir(os.path.dirname(filename))\n",
        "\n",
        "  if os.path.isfile(filename+'.pth'):\n",
        "      print(f\"{filename}.pth exist.\")\n",
        "  else:\n",
        "      torch.save(model.state_dict(), f'{filename}.pth')\n",
        "\n",
        "  return filename\n",
        "\n",
        "\n",
        "\n",
        "def read_label(excel_path) -> pd.DataFrame:\n",
        "  \"\"\"Reads a csv file containing ground-truth.\n",
        "    The csv file should have two columns: 'id' and 'label'.\n",
        "  \"\"\"\n",
        "  with open(excel_path, 'r') as f:\n",
        "    df = pd.read_csv(f)\n",
        "    df.set_index('id', inplace=True)\n",
        "    return df\n",
        "\n",
        "\n",
        "\n",
        "def write_error(logpath, e, nprocess):\n",
        "  # with open(logpath, 'a') as f:\n",
        "    # f.write(f\"{nprocess:} error occured: {e}\\n\") ##! may stuck the program!!\n",
        "  print(f\"{nprocess:} error occured: {e}\\n\")\n",
        "\n",
        "\n",
        "def read_submission(excel_path) -> pd.DataFrame:\n",
        "  \"\"\"Reads a csv file containing submission file.\n",
        "    The csv file should follow the format given by Kaggle.\n",
        "  \"\"\"\n",
        "  with open(excel_path, 'r') as f:\n",
        "    df = pd.read_csv(f)\n",
        "    df.set_index('id', inplace=True)\n",
        "    return df\n",
        "\n",
        "\n"
      ],
      "metadata": {
        "id": "KLs_ItZEW0F1"
      },
      "execution_count": 3,
      "outputs": []
    },
    {
      "cell_type": "markdown",
      "source": [
        "## 列印結果"
      ],
      "metadata": {
        "id": "Fnggb7x7X8Q0"
      }
    },
    {
      "cell_type": "code",
      "source": [
        "def get_confusion(guess, truth):\n",
        "  right = guess == truth\n",
        "  wrong = np.logical_not(right)\n",
        "  TP = np.sum(np.logical_and(right, truth == np.ones(right.shape)))\n",
        "  TN = np.sum(np.logical_and(right, truth == np.zeros(right.shape)))\n",
        "  FN = np.sum(np.logical_and(wrong, truth == np.ones(wrong.shape)))\n",
        "  FP = np.sum(np.logical_and(wrong, truth == np.zeros(wrong.shape)))\n",
        "  return (TP,FP,FN,TN)\n",
        "\n",
        "\n",
        "\n",
        "def print_results(prediction, labels):\n",
        "  if torch.is_tensor(prediction):\n",
        "    prediction = prediction.cpu().numpy()\n",
        "  if torch.is_tensor(labels):\n",
        "    labels = labels.cpu().numpy()\n",
        "\n",
        "  TP,FP,FN,TN = get_confusion(prediction, labels)\n",
        "  print(f\"\\n\\\n",
        "      真實值\\n\\\n",
        "  預  +-----+-----+\\n\\\n",
        "  測| TP: {TP}| FP: {FP}|\\n\\\n",
        "  值| FN: {FN}| TN: {TN}|\\n\\\n",
        "      +-----+-----+ \\n\")\n",
        "\n",
        "  recall = TP/(TP + FN)\n",
        "  precision = TP/(TP + FP)\n",
        "  recall = 0 if np.isnan(recall) else recall.item()\n",
        "  precision = 0 if np.isnan(precision) else precision.item()\n",
        "  F1 = 0 if recall + precision == 0 else  (2*recall*precision/(recall+precision))\n",
        "\n",
        "  print(f\"{recall=}\\n{precision=}\\n{F1=}\\n\")"
      ],
      "metadata": {
        "id": "1gFEpWQ-X7nc"
      },
      "execution_count": 4,
      "outputs": []
    },
    {
      "cell_type": "markdown",
      "source": [
        "## 數據裁減\n",
        "\n",
        "\n"
      ],
      "metadata": {
        "id": "UsmaGmRwWmxv"
      }
    },
    {
      "cell_type": "code",
      "source": [
        "def argumenting(images, labels, n=5):\n",
        "  \"\"\"\n",
        "  數據增強。\n",
        "  在images裡面把所有有闌尾炎的cut複製給定次數，並\n",
        "  插入回images的隨機位置裡面\n",
        "\n",
        "  Args:\n",
        "    images: 输入的图像数据\n",
        "    labels: 输入的标签数据\n",
        "    n: 每个样本複製多少次\n",
        "\n",
        "  Returns:\n",
        "    增強后的图像数据和标签数据\n",
        "  \"\"\"\n",
        "  where = (labels == True).nonzero(as_tuple=True)[0]\n",
        "  bad_images = images[where]\n",
        "\n",
        "  rep_imgs = bad_images.repeat(n, 1, 1, 1)\n",
        "  rep_labels = torch.ones(rep_imgs.shape[0], dtype=labels.dtype)\n",
        "\n",
        "  # import pdb\n",
        "  # pdb.set_trace()\n",
        "  # 隨機插入argumented圖片\n",
        "  nimg = images.shape[0]\n",
        "  rnd_pos = torch.randint(0, nimg, (rep_imgs.shape[0],))\n",
        "  images = torch.cat((images, rep_imgs), dim=0)\n",
        "  images = images[torch.argsort(torch.cat((torch.arange(nimg), rnd_pos)))]\n",
        "\n",
        "  # 對應對置插入標籤\n",
        "  labels = torch.cat((labels, rep_labels), dim=0)\n",
        "  labels = labels[torch.argsort(torch.cat((torch.arange(nimg), rnd_pos)))]\n",
        "\n",
        "  return images, labels\n",
        "\n",
        "def remove_false_images(images, labels, ratio):\n",
        "    \"\"\"\n",
        "    隨機在images裡面移除一定比例的無闌尾炎cut\n",
        "\n",
        "    Args:\n",
        "      images: 输入的图像数据\n",
        "      labels: 输入的标签数据\n",
        "      ratio: 移除的比例\n",
        "\n",
        "    Returns:\n",
        "      移除后的图像数据和标签数据\n",
        "    \"\"\"\n",
        "    # 找出 labels == 0 的索引\n",
        "    where_false = (labels == 0).nonzero(as_tuple=True)[0]\n",
        "    mask = torch.ones(len(images), dtype=torch.bool)\n",
        "    indices_filter = torch.randperm(len(where_false))[:int(len(where_false)*ratio)]\n",
        "    mask[where_false[indices_filter]] = False\n",
        "    images = images[mask]\n",
        "    labels = labels[mask]\n",
        "\n",
        "    return images, labels\n",
        "\n",
        "def remove_positive_images(images, labels, ratio):\n",
        "    # 找出 labels == 1 的索引\n",
        "    where_positive = (labels == 1).nonzero(as_tuple=True)[0]\n",
        "    mask = torch.ones(len(images), dtype=torch.bool)\n",
        "    indices_filter = torch.randperm(len(where_positive))[:int(len(where_positive)*ratio)]\n",
        "    mask[where_positive[indices_filter]] = False\n",
        "    images = images[mask]\n",
        "    labels = labels[mask]\n",
        "\n",
        "    return images, labels"
      ],
      "metadata": {
        "id": "6nLNS0uRWl5X"
      },
      "execution_count": 5,
      "outputs": []
    },
    {
      "cell_type": "markdown",
      "source": [
        "## 其他"
      ],
      "metadata": {
        "id": "BdwzEjFhbR4z"
      }
    },
    {
      "cell_type": "code",
      "execution_count": 6,
      "metadata": {
        "id": "7dmJYugUB_3w"
      },
      "outputs": [],
      "source": [
        "\n",
        "def count_zero(images):\n",
        "  count = 0\n",
        "  for image in images:\n",
        "    if not torch.any(image):\n",
        "      count += 1\n",
        "  return count\n",
        "\n",
        "def cropping(image):\n",
        "  if image.shape[2] != 512:\n",
        "    start = (image.shape[2] - 512) // 2\n",
        "    end = start + 512\n",
        "    image = image[:, :, start:end, :]\n",
        "\n",
        "  if image.shape[3] != 512:\n",
        "    start = (image.shape[3] - 512) // 2\n",
        "    end = start + 512\n",
        "    image = image[:, :, :, start:end]\n",
        "  return image\n",
        "\n",
        "\n",
        "\n",
        "\n",
        "def custom_sort_key(val):\n",
        "    parts = val.split('_')\n",
        "    if len(parts) == 2 and parts[1].isdigit():\n",
        "        return (parts[0], int(parts[1]))\n",
        "    return (parts[0], -1)  # 使沒有_(數字)的id排最前面\n",
        "\n",
        "\n",
        "def isgpu():\n",
        "    \"\"\"檢查是否有 CUDA 支持的 GPU\"\"\"\n",
        "    if torch.cuda.is_available():\n",
        "        device = torch.device(\"cuda\")\n",
        "        print(\"GPU is available\")\n",
        "    else:\n",
        "        device = torch.device(\"cpu\")\n",
        "        # raise(\"GPU not available\")\n",
        "    return device\n"
      ]
    },
    {
      "cell_type": "code",
      "execution_count": 7,
      "metadata": {
        "id": "Ud4x-GeICQxw",
        "outputId": "b77fe312-b37a-4bf7-c592-c908cf14c173",
        "colab": {
          "base_uri": "https://localhost:8080/"
        }
      },
      "outputs": [
        {
          "output_type": "stream",
          "name": "stdout",
          "text": [
            "GPU is available\n"
          ]
        }
      ],
      "source": [
        "device = isgpu()"
      ]
    },
    {
      "cell_type": "markdown",
      "metadata": {
        "id": "lV66iCZmCrBJ"
      },
      "source": [
        "# 掛載\n"
      ]
    },
    {
      "cell_type": "code",
      "execution_count": 8,
      "metadata": {
        "id": "bKUXzQOdBRFQ",
        "outputId": "dbb37132-1ce1-4325-8d41-58325b5141c3",
        "colab": {
          "base_uri": "https://localhost:8080/"
        }
      },
      "outputs": [
        {
          "output_type": "stream",
          "name": "stdout",
          "text": [
            "Mounted at /content/drive/\n"
          ]
        }
      ],
      "source": [
        "from google.colab import drive\n",
        "drive.mount('/content/drive/',)"
      ]
    },
    {
      "cell_type": "code",
      "source": [
        "!pwd"
      ],
      "metadata": {
        "id": "5qbhdYNrGRxf",
        "outputId": "7077bc59-6e5e-4699-bede-377f2cab5c21",
        "colab": {
          "base_uri": "https://localhost:8080/"
        }
      },
      "execution_count": 9,
      "outputs": [
        {
          "output_type": "stream",
          "name": "stdout",
          "text": [
            "/content\n"
          ]
        }
      ]
    },
    {
      "cell_type": "code",
      "source": [
        "drive_rootdir = \"/content/drive/MyDrive/AOCR2024\"\n",
        "labelpath = '/content/drive/MyDrive/AOCR2024/TrainValid_ground_truth.csv'\n",
        "# datadir =\"Train_Valid_Image\"\n",
        "datadir =\"Cropped_60-316_150-406_11-71/Train_Valid_Image_cropped\"\n"
      ],
      "metadata": {
        "id": "dzzWlsmwlPCZ"
      },
      "execution_count": 10,
      "outputs": []
    },
    {
      "cell_type": "markdown",
      "source": [
        "Use service account to access googledrive"
      ],
      "metadata": {
        "id": "CwxsNMJG9E-V"
      }
    },
    {
      "cell_type": "code",
      "source": [
        "import io\n",
        "import googleapiclient.discovery\n",
        "from google.auth.exceptions import TransportError\n",
        "from google.oauth2.service_account import Credentials\n",
        "from googleapiclient.http import MediaIoBaseDownload\n",
        "\n",
        "DriveAPIcredentials = r\"/content/drive/MyDrive/AOCR2024/creds/appendicitis-407217-c2f141040794.json\"\n",
        "credentials = Credentials.from_service_account_file(DriveAPIcredentials,scopes=[\"https://www.googleapis.com/auth/drive\"])\n",
        "drive_service = googleapiclient.discovery.build('drive', 'v3', credentials=credentials)"
      ],
      "metadata": {
        "id": "p46LlGr13crr"
      },
      "execution_count": 11,
      "outputs": []
    },
    {
      "cell_type": "markdown",
      "source": [
        "# 資料下載\n"
      ],
      "metadata": {
        "id": "3OZg-WX2NgQL"
      }
    },
    {
      "cell_type": "markdown",
      "source": [
        "preparing the folder on colab and setting path\n",
        "\n",
        "913 in 39 mins"
      ],
      "metadata": {
        "id": "S1ngtGDK-lgT"
      }
    },
    {
      "cell_type": "code",
      "source": [
        "get_data_disk(drive_rootdir, datadir)"
      ],
      "metadata": {
        "colab": {
          "base_uri": "https://localhost:8080/"
        },
        "id": "vFY-Mi1k6uS8",
        "outputId": "5b2c2204-f0f9-406a-c50c-ea645e1b4b9c"
      },
      "execution_count": null,
      "outputs": [
        {
          "output_type": "stream",
          "name": "stdout",
          "text": [
            "making Cropped_60-316_150-406_11-71/Train_Valid_Image_cropped dir...\n",
            "1/1000: Zx00FE1B9A88E88C71CF81D0736F23E88BB9C35E2BCDECF501.nii.gz downloaded\n",
            "2/1000: Zx00AD16F8B97A53DE6E7CFE260BDF122F0E655659A3DF1628.nii.gz downloaded\n",
            "3/1000: Zx015DF8E20804DB94E24A9B2D9DD387A47EF1C620A02026DC.nii.gz downloaded\n",
            "4/1000: Zx016CBC4284052F6A74A56DAFFB0B39B95D4DEC066028AA4A.nii.gz downloaded\n",
            "5/1000: Zx00FE1B9A88E88C71F8D11F50C2B5FBFEB3461E67BE1E83B8.nii.gz downloaded\n",
            "6/1000: Zx014E4DF04789E7E61C3B4876CE4D122DC14E0BB842E42E7D.nii.gz downloaded\n",
            "7/1000: Zx01F90B532F87127DB647612B6621F2065CA58692B921CEB4.nii.gz downloaded\n",
            "8/1000: Zx01F90B532F87127D864B9194B92EDDC3B0EA988ABB5E1D1C.nii.gz downloaded\n",
            "9/1000: Zx039B4A139FC862D542D2AACC247C46DFCE9EAA705B5DEF40.nii.gz downloaded\n",
            "10/1000: Zx018905C639589E81D4C91553041B845F583C3365B076C8E1.nii.gz downloaded\n",
            "11/1000: Zx0494BD052F6F8D5A583699BBC329C318AC7B5BE50FD9ACDA.nii.gz downloaded\n",
            "12/1000: Zx052D253409F40A03B71D313382692559FB09F771A41F754A.nii.gz downloaded\n",
            "13/1000: Zx04424F2CF83E0AD3DDF3CC99A41482D909CBC495238F2FEC.nii.gz downloaded\n",
            "14/1000: Zx04424F2CF83E0AD3059C7706FBE311FDC83AAA8265D2325D.nii.gz downloaded\n",
            "15/1000: Zx06DF7CE50F0A454CB7E53B3918C49334BFB49CACC36B7438.nii.gz downloaded\n",
            "16/1000: Zx05576CE976F91BF416232FAF4CDF5F6C5DF852ADCA2B9DD8.nii.gz downloaded\n",
            "17/1000: Zx0534778884B0E2267FCC4CF2BBF361589CD1D845F4A9C9DB.nii.gz downloaded\n",
            "18/1000: Zx07C5208D04A267A61BFB6EC968FBBB3DF25C245A6893273D.nii.gz downloaded\n",
            "19/1000: Zx081F9B5A0C06A23AE10DC1E14E6B9B4DFC71FBCF3B559AEB.nii.gz downloaded\n",
            "20/1000: Zx0800DE5C96380322C65ABA398FC93B5CBDF75B20B11DDF6E.nii.gz downloaded\n",
            "21/1000: Zx0800DE5C96380322E442453B99E25D6F1282F2C4A610A497.nii.gz downloaded\n",
            "22/1000: Zx0800DE5C96380322A41C31B46264D40D1B72FEC49745785C.nii.gz downloaded\n",
            "23/1000: Zx09413D933AD838CE8DB00704AB349855FE4721FC26037F37.nii.gz downloaded\n",
            "24/1000: Zx09972B8FA6215EEC75DB4194B16C000F47B5F87AFB64A12B.nii.gz downloaded\n",
            "25/1000: Zx08DA48B45B5C7D0182C369B8E0B013CAF9EEA43199E8AFEF.nii.gz downloaded\n",
            "26/1000: Zx0A5FF3169135AF89B21F2A97A7278E517EC8B499B0F14C20.nii.gz downloaded\n",
            "27/1000: Zx0A1564C092259CD377329E07006281E876D09F9B48E77002.nii.gz downloaded\n",
            "28/1000: Zx09D29039749969505F54A1E8982B5BF5670F5EEABAE98ECF.nii.gz downloaded\n",
            "29/1000: Zx09D290397499695039422FD2002292BD781E5203436441A3.nii.gz downloaded\n",
            "30/1000: Zx0AE5424009C101F7422C5BD9DD2C3B0E13E834114A32883A.nii.gz downloaded\n",
            "31/1000: Zx0AA2C956EEA5EAEA0DC0DA2606A8F8D0F334B97FDD860E1F.nii.gz downloaded\n",
            "32/1000: Zx0B06041DB37FAF0160B564B48791D3B58804B731DD57F4AB.nii.gz downloaded\n",
            "33/1000: Zx0C72F2127A469CAA6A49C516DC18B2706A43700721B5D8AB.nii.gz downloaded\n",
            "34/1000: Zx0CA5CE197AA9378EE23F949BDFC91790D4FED5D6FD06F5A2.nii.gz downloaded\n",
            "35/1000: Zx0BCA7F5108A7E8BCC2AB6094DE20A5C243897FCB0C82E20A.nii.gz downloaded\n",
            "36/1000: Zx0BA755CD6D068378215FE1AE4751945053ED5D2F2C2A40E7.nii.gz downloaded\n",
            "37/1000: Zx0CFB1637BD27964BE741B2AA07BC7C84B2B61731E47782E0.nii.gz downloaded\n",
            "38/1000: Zx0CAA076280D8EBEAA52926C4C6F1DB221F5C58F6EC8B2593.nii.gz downloaded\n",
            "39/1000: Zx0CFEAEA49D4E19D1219A4C230C6D82751179B29EE9CA9F49.nii.gz downloaded\n",
            "40/1000: Zx0CE3BA2363A72325A7BB82B688463DBB79D224C67883F062.nii.gz downloaded\n",
            "41/1000: Zx0D204781E3C58AD6EB37CC2E6EC18B935B00F9CC5D987220.nii.gz downloaded\n",
            "42/1000: Zx0E094D2402D05592511D0DED9E7ED9E999B468C249E9253F.nii.gz downloaded\n",
            "43/1000: Zx0E392B7839BC0EDBDA8BEAC12F819B61409DC2804FB3F997.nii.gz downloaded\n",
            "44/1000: Zx0E64921E82ED12C88791307B1B09E979ADC3FBD3845D3927.nii.gz downloaded\n",
            "45/1000: Zx0E96DE51997AF17C5C54835EAD6B7512C66F91BFDB491B9F.nii.gz downloaded\n",
            "46/1000: Zx0E3C20D9BB248666701B02B803ECE6BC4306B85A53E6DE38.nii.gz downloaded\n",
            "47/1000: Zx1060A72A4F5C5FFE63F395F263138C39C901CEA1B608B5D3.nii.gz downloaded\n",
            "48/1000: Zx0F09553E6591D068AAB2811C40BA511B70E378F39A37839A.nii.gz downloaded\n",
            "49/1000: Zx114AC1555B9AD6790B7A1BDE0521553F4A9A83AEAF30A859.nii.gz downloaded\n",
            "50/1000: Zx10E5A02B21E2368FB1C4CE0CBD7EFC890FAA56ECB35CBED2.nii.gz downloaded\n",
            "51/1000: Zx11E4702AA837EC465D5D80C1BC23104AD4388C527E94033D.nii.gz downloaded\n",
            "52/1000: Zx117267214EB944C6E8593100AAC6E8FE5D47143C67350F53.nii.gz downloaded\n",
            "53/1000: Zx12530E751E5315C37CEE489CA53DAD4806EAF276AEC9F18B.nii.gz downloaded\n",
            "54/1000: Zx12CD0450CBDF59B92B8BFF3AE5296DF73C619990C8117DCE.nii.gz downloaded\n",
            "55/1000: Zx12530E751E5315C3F09F11CFCE42D6BA786BE280C8BA5C5D.nii.gz downloaded\n",
            "56/1000: Zx12E8C030B31F39B52D2C9FA262B92370A9C7BAFDA12373AF.nii.gz downloaded\n",
            "57/1000: Zx12530E751E5315C38EEF85D4C1B0308338838B8C2983106D.nii.gz downloaded\n",
            "58/1000: Zx12E8C030B31F39B5C62831916119C7108A9A7C2EA7625746.nii.gz downloaded\n",
            "59/1000: Zx13CC64ABE904CB3E29A95612A74C34E8F5F6B4BA181694BD.nii.gz downloaded\n",
            "60/1000: Zx12E8C030B31F39B5C0374AE9C7AA0FD527E0F819E430AA4D.nii.gz downloaded\n",
            "61/1000: Zx13380F22EFEA0B62205EC17938D2A84A71C8153C1D25B7CF.nii.gz downloaded\n",
            "62/1000: Zx14087FD7C271A7D92C0F8CF2AD8131123F9C59DAE6DA5705.nii.gz downloaded\n",
            "63/1000: Zx14E419FB0929647C385FCFE5FC3DE04521DBD602302EC152.nii.gz downloaded\n",
            "64/1000: Zx14E419FB0929647CE43F1FACB88A1F623BAF9D0F6836372F.nii.gz downloaded\n",
            "65/1000: Zx152DDBF3A8894FFDC2C923DF7F1099488C30A8943FE31860.nii.gz downloaded\n",
            "66/1000: Zx15FB4DF1D36A7B4AA9B00B4D8DE5B757A9EDD1490640008D.nii.gz downloaded\n",
            "67/1000: Zx15FB4DF1D36A7B4A19617A2C71E216AC807960B0EF51AC83.nii.gz downloaded\n",
            "68/1000: Zx15FB4DF1D36A7B4AD94C813D415FA88503C2381519A8357D.nii.gz downloaded\n",
            "69/1000: Zx160CFC2664FE311B6AC70F6906A5E84B13D273AD7B24162B.nii.gz downloaded\n",
            "70/1000: Zx16F4FD8907D539630058B97C3DA72D8CE2C4154A1011F3D7.nii.gz downloaded\n",
            "71/1000: Zx162F641C827B6EE83C571BF7AEA8A018024AC788B8C0B158.nii.gz downloaded\n",
            "72/1000: Zx16D93043D5D4E4D3393FB6C9DC8E305AA39CC4FCDD1B952F.nii.gz downloaded\n",
            "73/1000: Zx17405CFB23569FC22C6738129E6305B6EF0398BE89533406.nii.gz downloaded\n",
            "74/1000: Zx171AFF296B798AB089F4652DF7A4E18DF96CFEE1B08244E8.nii.gz downloaded\n",
            "75/1000: Zx171AFF296B798AB09AD7911E3669EB7736CE2062AE9F80DA.nii.gz downloaded\n",
            "76/1000: Zx1761966B642ABA595F2D8E53DAED57654117D2271DF05D4B.nii.gz downloaded\n",
            "77/1000: Zx1843C96056436B4D91A7A4727E773B3964907516AA7E203F.nii.gz downloaded\n",
            "78/1000: Zx1843C96056436B4D01517C950238025999165FE4A16A8110.nii.gz downloaded\n",
            "79/1000: Zx19075B1C1417E664BEDD1C5C7F782D359A1DC198D01A79DF.nii.gz downloaded\n",
            "80/1000: Zx188AD4803C40A1FBE691B933154BA5659529C18A8032265F.nii.gz downloaded\n",
            "81/1000: Zx1882493D839CC3171D0FEA7AE764BB5BC308D707E75CCB60.nii.gz downloaded\n",
            "82/1000: Zx1950A84DEF7878F0CDEE2AE1E07365E7C7F651215ED72155.nii.gz downloaded\n",
            "83/1000: Zx1950A84DEF7878F0254E551A842C621B4740CE91E85CE8E2.nii.gz downloaded\n",
            "84/1000: Zx1950A84DEF7878F043E3BB7A5D65E310BC050172FCA7CC14.nii.gz downloaded\n",
            "85/1000: Zx19216E0DC2CA308E80238A39CC927E17148D86C6DF471355.nii.gz downloaded\n",
            "86/1000: Zx1977ADC4FB423A510927DE5147FA1581381604AC0BB7E825.nii.gz downloaded\n",
            "87/1000: Zx1950A84DEF7878F0FA4F817AEE5D56DF2534349D8C94B8F5.nii.gz downloaded\n",
            "88/1000: Zx1950A84DEF7878F0F9E32AF9F820CA049C5880BA46C37601.nii.gz downloaded\n",
            "89/1000: Zx19DC911CF61B42EE4F9E967F39224A9297426E7C6AC03D8E.nii.gz downloaded\n",
            "90/1000: Zx19DC911CF61B42EEA04DF8635951103535C9FB92AD779276.nii.gz downloaded\n",
            "91/1000: Zx1A3FF9BBC87A0A6379CA804FA7025BE5E55D98B90E6E911E.nii.gz downloaded\n",
            "92/1000: Zx19A878BE9D7FCDD564CF0D0630D0E05F305D03B734E6FBE5.nii.gz downloaded\n",
            "93/1000: Zx1A8AFCB885E0D8BC44A0ED9AEF59DD90D90777A8345747EE.nii.gz downloaded\n",
            "94/1000: Zx1A447D96D387B7C45053917769DF2A154E9A765A87D51A24.nii.gz downloaded\n",
            "95/1000: Zx1A5E6FEE5BA94F6D9C91E1BBACAE6959AB96EB6442A0524B.nii.gz downloaded\n",
            "96/1000: Zx1AC280D33D45A2973879438429EB6E09CB3DF1914B26DED8.nii.gz downloaded\n",
            "97/1000: Zx1BBA21D9DA37F2D063D4A85F624E8D72C0410728E334B442.nii.gz downloaded\n",
            "98/1000: Zx1BDF4C967678080E6779C2713B10F3B23CE3C1CC7F2CC8BB.nii.gz downloaded\n",
            "99/1000: Zx1C6B814369828D2A1FE29B8B7CD4D21752A8CB1AE56781F5.nii.gz downloaded\n",
            "100/1000: Zx1ECC8B15EE2388642B2C05331250EEB951BE580304D38622.nii.gz downloaded\n",
            "101/1000: Zx1D4DA6EB30F0E21BAE9B15E262721240DDC420DD988AAC16.nii.gz downloaded\n",
            "102/1000: Zx1E550FA95B8A7552A06CE65E3BEED1EE034D46B71AC2990F.nii.gz downloaded\n",
            "103/1000: Zx1F0C08B15A2FA4B85694E240248D208FBA9CDCFA1B19D3E5.nii.gz downloaded\n",
            "104/1000: Zx1F0951EDF2B31E5E932707FD021961BFCF8586E917ABD120.nii.gz downloaded\n",
            "105/1000: Zx1ED66EE4F0492C4C63EED347F5480C328DED4C1955880614.nii.gz downloaded\n",
            "106/1000: Zx2030E3E34625286F57D63B10F1912D4A18F991C22F6463A1.nii.gz downloaded\n",
            "107/1000: Zx1F83D85BC2A7A55A165937332E32D7646399FC21D7283669.nii.gz downloaded\n",
            "108/1000: Zx1F2D6E616335D5D7A26B93C9CBB01658781603DFF3B46DF8.nii.gz downloaded\n",
            "109/1000: Zx2030E3E34625286FAA000B1D4CFF2D07BD489B513C82E9A8.nii.gz downloaded\n",
            "110/1000: Zx208D824934941221A20E8F9C315A6AF45B61E20DB5B3F4E5.nii.gz downloaded\n",
            "111/1000: Zx2030E3E34625286FA6745CAFEF3F4CD81DEDDFA875C5EC23.nii.gz downloaded\n",
            "112/1000: Zx20BDA35C14C29E61E035F264496CD4F4F97D288082512F40.nii.gz downloaded\n",
            "113/1000: Zx215A14F9057233B70538C32D1748F817319662FD34E6690A.nii.gz downloaded\n",
            "114/1000: Zx213F87C44A60B71BFE117EB0EB9A5870E0CEB9197701FF60.nii.gz downloaded\n",
            "115/1000: Zx226CB151F5DE15D8C8C6E3F3EE8BC533BDBE65DE1A805731.nii.gz downloaded\n",
            "116/1000: Zx220A8CBFA565CB8498E6FB702C7E03B920F2361EE7B62A6D.nii.gz downloaded\n",
            "117/1000: Zx239BC1FBE61089C9B2368A86E36BDF3136292547D9C0EBC4.nii.gz downloaded\n",
            "118/1000: Zx23BEFE24BACE6B249C37C240B74348796802474012995344.nii.gz downloaded\n",
            "119/1000: Zx22D56AA7E544151923FF1A90F02F59919EC170C85187649E.nii.gz downloaded\n",
            "120/1000: Zx23BEFE24BACE6B24798B7B8ADA70E5DE0151270247B6EB07.nii.gz downloaded\n",
            "121/1000: Zx23CE39ADA19715437B08F04B4F1E962B9E854E1DE01B814F.nii.gz downloaded\n",
            "122/1000: Zx23F8F44ED97A93B2C3487F13DBE296C7A694804866EFF350.nii.gz downloaded\n",
            "123/1000: Zx246E98149CE2B848DD11D93B1DAC382E56997966B5FB4B1A.nii.gz downloaded\n",
            "124/1000: Zx25DFF1358FA299AFC3345BEE8BCD80031225017D9F4DD365.nii.gz downloaded\n",
            "125/1000: Zx24711EE075325408C49B564C1D646B2F1A6BE15A31716D85.nii.gz downloaded\n",
            "126/1000: Zx25DFF1358FA299AFF037CA3B98580B73B25B4E2B3B4172F3.nii.gz downloaded\n",
            "127/1000: Zx25DFF1358FA299AFD313E29BFC17C150096D2B97BDB7E2ED.nii.gz downloaded\n",
            "128/1000: Zx247C48E8B7D1EABBA1DEF5CD4AC1D8E8ACAFA8C759A85107.nii.gz downloaded\n",
            "129/1000: Zx2727C103B14E93A07709A14282274DD35B6A23AA6127CB0B.nii.gz downloaded\n",
            "130/1000: Zx265C799B18CE4D6DE5A3671D65F5B018D713919204868A0F.nii.gz downloaded\n",
            "131/1000: Zx27ECA58C0AE0031815C0AE04CA9002F10E1FCB7F5686AE48.nii.gz downloaded\n",
            "132/1000: Zx28A11914F19501C527FADC7432C8E020873181C0B365E863.nii.gz downloaded\n",
            "133/1000: Zx2821AF61A3DBB7F40C01DEA2F7BBAE3C7FB59CA82BC55B55.nii.gz downloaded\n",
            "134/1000: Zx291FD6850838B643BC1A7878279A2373C32A719B91C042EC.nii.gz downloaded\n",
            "135/1000: Zx28CA9394EF10537307B5B8DDC24D756E20354ED9E8B3237A.nii.gz downloaded\n",
            "136/1000: Zx28C2905F39B77B64E242963BF9BA3069E135FDCC8A782720.nii.gz downloaded\n",
            "137/1000: Zx29249C3340706D8A658BC96F288DE057693CDCA0C50018FF.nii.gz downloaded\n",
            "138/1000: Zx29D944DDC12D73E641FD78628DA3CCDAD0CCD13F9C098056.nii.gz downloaded\n",
            "139/1000: Zx29D944DDC12D73E608734644C33D08170EC666B3E934AE93.nii.gz downloaded\n",
            "140/1000: Zx2933A24F5182C585C1ADECFA9FF9EDDB3F9432CBB9E30A24.nii.gz downloaded\n",
            "141/1000: Zx2AAE948072335FDABDFFA2D972B5638F4069A5D8D0B432B8.nii.gz downloaded\n",
            "142/1000: Zx2A1210AAD0C7673D871C9B73A00CC394F65B0A224D6EABC9.nii.gz downloaded\n",
            "143/1000: Zx2A3C9F90B97FC5CF48D8F0046D61E7AA7B868D85B83054AE.nii.gz downloaded\n",
            "144/1000: Zx2B401975A0A7FE26B9906E1047BB2A92BC4D80CCC69F0DC8.nii.gz downloaded\n",
            "145/1000: Zx2AB19BB5DD94C321AF90101CD847A97A335713B9A85CD6E3.nii.gz downloaded\n",
            "146/1000: Zx2AF7910D2CCF58C07FF4E3EFC228F15E7DBD8E71193CA7BF.nii.gz downloaded\n",
            "147/1000: Zx2BDF57DC47BEBC12497878BED38545FC731D32F176C58DC9.nii.gz downloaded\n",
            "148/1000: Zx2BDF57DC47BEBC12CC3C156DC1BCE0C07D16D40692007D96.nii.gz downloaded\n",
            "149/1000: Zx2BCE9A7537D7DB08D8254B88EDFA79D2B5FAD113ED12B54E.nii.gz downloaded\n",
            "150/1000: Zx2B7652752183E77F7E8BC4D7F8608C151B41BFCA53475095.nii.gz downloaded\n",
            "151/1000: Zx2DD7E0642A4827E03C235724922D866A37D619A859B89A73.nii.gz downloaded\n",
            "152/1000: Zx2D185653AC6B5E02F95806D73E5A84A02024E037C1DEB887.nii.gz downloaded\n",
            "153/1000: Zx2D76DB29AAD2347759160B311EE70109FFF026792C16979A.nii.gz downloaded\n",
            "154/1000: Zx2D43BBDA962A8DC656EF3C61E52CC75604BAD0E6AD08F938.nii.gz downloaded\n",
            "155/1000: Zx2E111520B77E85EE6229F346D75F64EC7CDFCA78821E4341.nii.gz downloaded\n",
            "156/1000: Zx2E05E179442C54DBB858D2E4A4793809F073143901DE68FF.nii.gz downloaded\n",
            "157/1000: Zx2DFEA8EA90862E241A9E13821C48D3B2E872D0C2A8A32B0B.nii.gz downloaded\n",
            "158/1000: Zx2E37BB6B0F79F459E7F8431E590AE9020866183BAC616B5E.nii.gz downloaded\n",
            "159/1000: Zx2FA626656496845ED534D6B5B760541A21647F2F5D42B581.nii.gz downloaded\n",
            "160/1000: Zx2FA626656496845ED6C525AEB7549C132AA41B54CE30EA53.nii.gz downloaded\n",
            "161/1000: Zx2FA626656496845ECE881190B184E327F4D8061B2B2900DE.nii.gz downloaded\n",
            "162/1000: Zx2FDB8744E9FC6EA5EF801273D38E91C4DF8A76ABD71C8668.nii.gz downloaded\n",
            "163/1000: Zx2FDB8744E9FC6EA517DB8C7AF02186F20EB405618EAD35AA.nii.gz downloaded\n",
            "164/1000: Zx3093899D9E29307AC4914C2AADFC81EE001ADB65AC761C42.nii.gz downloaded\n",
            "165/1000: Zx30EB98600B79F8C276472CFEDB2C86FD69F24202CC043683.nii.gz downloaded\n",
            "166/1000: Zx30D54DEFE5A1F6690A387C332411376210FE4A5839471C12.nii.gz downloaded\n",
            "167/1000: Zx30D3D7722571163D6FDAC8D42EA822DE9309AA749507E680.nii.gz downloaded\n",
            "168/1000: Zx31F5838671135830967C7971C05599F30898ECE6B723A12B.nii.gz downloaded\n",
            "169/1000: Zx3140C2C02EDB97CF639FD86D9858631782AA626B70EBD723.nii.gz downloaded\n",
            "170/1000: Zx310CE606A29627070A772BE54B8CD0BA3E47BAE4172C4EB0.nii.gz downloaded\n",
            "171/1000: Zx328EF1C62C85DF795D818DD80646CAB28474E58B37DFEDA1.nii.gz downloaded\n",
            "172/1000: Zx3306AD6CF1A7BFC1BF6522E172650664AA1DBB0EE61F704B.nii.gz downloaded\n",
            "173/1000: Zx31F707B0E35DF9B8B4A76C9966A99CF199418456428E600C.nii.gz downloaded\n",
            "174/1000: Zx33E6FDDA6850D397D243D3A55567D29DABFB0503956B9083.nii.gz downloaded\n",
            "175/1000: Zx33560A1F5550D0D3F5A3877D204D89E91636D7B0E10E71F0.nii.gz downloaded\n",
            "176/1000: Zx339923E0B41545328BB08A03DF57E5D8769CDC9340662F72.nii.gz downloaded\n",
            "177/1000: Zx347D7961BD3B95547A18229A9DEB77A9C5B2216DF6890865.nii.gz downloaded\n",
            "178/1000: Zx34C115FB55D8474D6F19B61FC5388EE4CF710E60F31443C5.nii.gz downloaded\n",
            "179/1000: Zx35277990C2DBE37B4185DB808829526C76F8D6CDBC5C7CD7.nii.gz downloaded\n",
            "180/1000: Zx35E3E6E7CBA729A68C78E99308353E84782E6E91469ECDC3.nii.gz downloaded\n",
            "181/1000: Zx35E3E6E7CBA729A6039A604D4E5030CDE9F1D1B8E4B25F23.nii.gz downloaded\n",
            "182/1000: Zx357B92BC3020A6B71E71EAAE33CC0DF854572A263A40A123.nii.gz downloaded\n",
            "183/1000: Zx35E3E6E7CBA729A69FFB90491C3F4F8A7CCC1928F15531FE.nii.gz downloaded\n",
            "184/1000: Zx35E3E6E7CBA729A69C4D5E5FF5C1FF0B522175A77B8C4CB2.nii.gz downloaded\n",
            "185/1000: Zx35E3E6E7CBA729A6FC8BC9B2BD86D23A421B431FF734CD90.nii.gz downloaded\n",
            "186/1000: Zx35E3E6E7CBA729A6FB73B987CF05071ECC712D25113641E4.nii.gz downloaded\n",
            "187/1000: Zx368E67F85BF96985DC439B3FE00ABF3E804296FA6D8C771B.nii.gz downloaded\n",
            "188/1000: Zx36B440051EEC06B876C7C58CC95BE6A4967D53C10BED4B2D.nii.gz downloaded\n",
            "189/1000: Zx36871521E7690C7E8E2298CBEBC159037F9562AFAD8FDFF8.nii.gz downloaded\n",
            "190/1000: Zx379A5F7814F0914A5DDC1624A2FB846629F088027004D2A6.nii.gz downloaded\n",
            "191/1000: Zx37F988F53E9C391591766FE9726D7E92F0D6153B245C18BC.nii.gz downloaded\n",
            "192/1000: Zx37CF014F6D0060337C7856CEE7CB09E488C90A330822072D.nii.gz downloaded\n",
            "193/1000: Zx3889EF0BF9B77B23721E34BC2031D10FE9DF1A9419F4BB2E.nii.gz downloaded\n",
            "194/1000: Zx379B34C33DA0FAC86BD8ADFCFC1B2CF739D4C90FEFD47551.nii.gz downloaded\n",
            "195/1000: Zx39297C72B360D9264B30FF2723EADD32A2EA4EE4794DFAFB.nii.gz downloaded\n",
            "196/1000: Zx396059C7C80AF72A2B9B5987A8DB6F28222500A9F881535A.nii.gz downloaded\n",
            "197/1000: Zx392DC2738CF9E3FE3D894559CF117E10EF36BBDC218E7896.nii.gz downloaded\n",
            "198/1000: Zx3A3EABEA40351DA0CAFC4329114A1D243B5675706C49F661.nii.gz downloaded\n",
            "199/1000: Zx3A219BC45F1B5BAB2AF0AFDABDA623D33DD885F24C4D36CE.nii.gz downloaded\n",
            "200/1000: Zx3A5E7419657D5644214B6C229CD7862ED9D7FC5DBFBD56F6.nii.gz downloaded\n",
            "201/1000: Zx3A5E7419657D5644ED0DF48D1BD528DE82D174588DE43B26.nii.gz downloaded\n",
            "202/1000: Zx3AB91ED4F2F9AA3B7A57258D3F98FCCD7E26E12DDE6A45B3.nii.gz downloaded\n",
            "203/1000: Zx3AB91ED4F2F9AA3B6F1005851941D52458DDAD3716622571.nii.gz downloaded\n",
            "204/1000: Zx3BBC3ED501BABA5D16E5B523FCD04D4C2AB0E94792A4401E.nii.gz downloaded\n",
            "205/1000: Zx3B1D6C9714B7C54C43C7170067F7F17876E134172A8F59AF.nii.gz downloaded\n",
            "206/1000: Zx3AB91ED4F2F9AA3BBF9B2425E1278FBEC919A0ACCDC4A02B.nii.gz downloaded\n",
            "207/1000: Zx3C73BAEB9FF5DF9B3A6958528BDC3FC0CA1D8180877BACB7.nii.gz downloaded\n",
            "208/1000: Zx3CAF1DB7C360026E40C13D13A8990245800B461709D2A425.nii.gz downloaded\n",
            "209/1000: Zx3C911819A0051992F399041B71D79C707FB5FD77A1B605A8.nii.gz downloaded\n",
            "210/1000: Zx3CDC546A37075405DFB8BF11A7BE8449A084A84EF4EA554E.nii.gz downloaded\n",
            "211/1000: Zx3CDCA9F641D62305C95CE3BD60D231589DA1BB1068CDC923.nii.gz downloaded\n",
            "212/1000: Zx3CAF1DB7C360026EC045CCBAF6DD38283021AEF22B25D811.nii.gz downloaded\n",
            "213/1000: Zx3CF258177C07C53E74433236D3E2AC22B45A8FFEC3DF495E.nii.gz downloaded\n",
            "214/1000: Zx3D2CD874E8BDB341DEA1814FADD0130D265176FA561C0799.nii.gz downloaded\n",
            "215/1000: Zx3D212F640E8BAB683711B0A2B808E94D20EC94C210350D4F.nii.gz downloaded\n",
            "216/1000: Zx3D83B53CBABAA156CAF6096C44B4820E38236E4FB31E4A61.nii.gz downloaded\n",
            "217/1000: Zx3E54BDA9793D4E7B0A260267CD3901E9B5ADECDD307E0E32.nii.gz downloaded\n",
            "218/1000: Zx3D9CAD8F3C4AD007279632AA3B99D80B2120EC4D76E81C98.nii.gz downloaded\n",
            "219/1000: Zx3E70E64F4B2979E3961895A1F7F48F5A61F3CA426349C95C.nii.gz downloaded\n",
            "220/1000: Zx3EE32B570B8DB6863F4DA6447AE91C61D04AFF02F7E64F04.nii.gz downloaded\n",
            "221/1000: Zx3F0AA5B24089383F472A355FE4001AAA047B39E0C9D9D4DD.nii.gz downloaded\n",
            "222/1000: Zx3F0AA5B24089383F0C3CCA7C081EF5810B5C8B85C069D780.nii.gz downloaded\n",
            "223/1000: Zx3EFC704096878550259560DBD492CCDAC89B53588BA1B90B.nii.gz downloaded\n",
            "224/1000: Zx3F283561EB5064407786E2685CF0EEF42F1C052BB005B1E0.nii.gz downloaded\n",
            "225/1000: Zx3FBF0E56F75857106A79F089DD99578868683577250E1038.nii.gz downloaded\n",
            "226/1000: Zx401C2F09F8961880B81DE71DC3591264C061FA1F64536698.nii.gz downloaded\n",
            "227/1000: Zx3FAF29A82573ABC3779238FCADF11919914026A8EFAB5E98.nii.gz downloaded\n",
            "228/1000: Zx40F840D637C6BE3A1BE6C9EC9082C0F9FC4989466ABF83AD.nii.gz downloaded\n",
            "229/1000: Zx40816DF96E52884DF695E52EF19263822DE95B49F0649B4B.nii.gz downloaded\n",
            "230/1000: Zx40F840D637C6BE3A6FE087E78441E9BEEADE6FB46EED707E.nii.gz downloaded\n",
            "231/1000: Zx418C74DF2B303C5B8E30971984584650747FFD8B71B7CF90.nii.gz downloaded\n",
            "232/1000: Zx41EBD2C0D9F5ED631FEF89B057AA2B0E20A73098795E7D69.nii.gz downloaded\n",
            "233/1000: Zx4266C1F9BEFA9C6A16FD59791D1CC9569A8EB0209378ED9A.nii.gz downloaded\n",
            "234/1000: Zx412666ED5D058647EA3C1C62B7B2E3EA254193AAC85F3CC1.nii.gz downloaded\n",
            "235/1000: Zx4266C1F9BEFA9C6A74B3118E30AB5E08510E6818B3513FB9.nii.gz downloaded\n",
            "236/1000: Zx4266C1F9BEFA9C6AAEE9EF65BFE5E6191A7B2B2AB0382526.nii.gz downloaded\n",
            "237/1000: Zx4266C1F9BEFA9C6AA0DE3C909EB501A8AB41DBF83C8A0110.nii.gz downloaded\n",
            "238/1000: Zx427D8F8A6DEFF9BF809FB207806C6707A43B2B9D9E3D4E72.nii.gz downloaded\n",
            "239/1000: Zx4285BE9103DDFF6D87B65634773FDAA54C9C783C27505529.nii.gz downloaded\n",
            "240/1000: Zx427D8F8A6DEFF9BF7B2EF54E37E95B76F6153BDFDE9D9A48.nii.gz downloaded\n",
            "241/1000: Zx4343A182A4B16B07C4E9DC4CC327DCA2B2D54632240F5179.nii.gz downloaded\n",
            "242/1000: Zx436CAA0C532C93523AA7FB9BC51F9A3737EAFA1D61767CC4.nii.gz downloaded\n",
            "243/1000: Zx43FC969EA95F318B07022BABAE9D90249E0CFACFF25F792B.nii.gz downloaded\n",
            "244/1000: Zx441D6426B1525578210227CCB9A039239447D429709EFAF7.nii.gz downloaded\n",
            "245/1000: Zx447638CD7DD8D149D3B2E284E3E26B33E9999753A141C5C8.nii.gz downloaded\n",
            "246/1000: Zx447638CD7DD8D149C3BEF257EABAABF4C46F734C71AE6981.nii.gz downloaded\n",
            "247/1000: Zx44DDADDF8B1E5B444E883375CD5462450F3905013F5C97C7.nii.gz downloaded\n",
            "248/1000: Zx4553C091B4BEFA9D8CC7280E593AFF94F9E98724858A0654.nii.gz downloaded\n",
            "249/1000: Zx4553C091B4BEFA9D501DF368358E07BAD8C6CB96EF0E3653.nii.gz downloaded\n",
            "250/1000: Zx455FA34A3BE4D4684F10C3599344433D802C092D1BF1A9D5.nii.gz downloaded\n",
            "251/1000: Zx455FA34A3BE4D468CEECAB6E05B340B28E79975DC74FB194.nii.gz downloaded\n",
            "252/1000: Zx457D19099A1876FB80E029E8598A9DF202D02CB9E139BFEF.nii.gz downloaded\n",
            "253/1000: Zx45F13921C226C17F462A75B6CC7838AA21C2D3021AC18ACC.nii.gz downloaded\n",
            "254/1000: Zx45F13921C226C17F9A7B30076DC71FEFEF892B3B7EF4B61E.nii.gz downloaded\n",
            "255/1000: Zx45F13921C226C17F102A4F606603CDDBEA75BE28A72E2BE0.nii.gz downloaded\n",
            "256/1000: Zx45FD7D8A9273DD8852F512C92FB230C54878555B75598939.nii.gz downloaded\n",
            "257/1000: Zx46924D16A41AB87F8EA418222C570A092D58F528C0E17C9C.nii.gz downloaded\n",
            "258/1000: Zx46E8D3737980BCE318ECFF231D8E8E68BADF834D2C904812.nii.gz downloaded\n",
            "259/1000: Zx46869E52A3F149239D84F215C0B9EDB557D049DAE7C12BED.nii.gz downloaded\n",
            "260/1000: Zx46869E52A3F149236E92AFF4B153AF238C79D10725FA71D7.nii.gz downloaded\n",
            "261/1000: Zx46E8D3737980BCE3A7193955279C6617A926C56BF6DC2916.nii.gz downloaded\n",
            "262/1000: Zx4725243262554FDCE62048D48AED30EB82CCA45F300E2133.nii.gz downloaded\n",
            "263/1000: Zx47787568849DA67380F1BECE18D8185F851E92DEB0B22466.nii.gz downloaded\n",
            "264/1000: Zx4725243262554FDC2B80C3627CAE5B3951CB1B81134D392D.nii.gz downloaded\n",
            "265/1000: Zx47787568849DA673E708BFD5C10F6C55109F48B2BD0220CF.nii.gz downloaded\n",
            "266/1000: Zx47F849224B4386F104A777D40C2EB9E46E8D4D948E0DF149.nii.gz downloaded\n",
            "267/1000: Zx47C8EC892A72C9A3A5F181DDD2EC43B051D9CB1FF54C714A.nii.gz downloaded\n",
            "268/1000: Zx48E620D924CB07B41E645DBEC9D7AA57AE2EAC78CA45BC5A.nii.gz downloaded\n",
            "269/1000: Zx496C13E394BED37D1BCB2A89DBC1FECFAE893DEB04DC773D.nii.gz downloaded\n",
            "270/1000: Zx47F849224B4386F1F88873AE64402F3E1783E527C68B174C.nii.gz downloaded\n",
            "271/1000: Zx493F535A5628330079FF05762DFFCD954E2E98F33925D070.nii.gz downloaded\n",
            "272/1000: Zx4B6596BC6B8F4E453F94CD18A4F442557E1C337ABE838769.nii.gz downloaded\n",
            "273/1000: Zx4A3A3EB7F67074DEA9C5668137108C5BDFFE5AD82B6C9968.nii.gz downloaded\n",
            "274/1000: Zx4B6596BC6B8F4E45528220BA49716ABC5A1D36C7AB70748C.nii.gz downloaded\n",
            "275/1000: Zx4B3FCDA4F002E6F7DC5B4E3A1C0B374F878D53CD81E1E43A.nii.gz downloaded\n",
            "276/1000: Zx4CD16CC71906F530428B1C4283EAB7915D7BF3C29CF4EA15.nii.gz downloaded\n",
            "277/1000: Zx4BBBE8ED4ABA846DB16B6B6D6836D742D8EF280D0E45CD33.nii.gz downloaded\n",
            "278/1000: Zx4C840C22A6CE7B1E6D6CFD56353E464340097A6A450AD1FF.nii.gz downloaded\n",
            "279/1000: Zx4DC770B0CEF5E3B5CACF89B1C31282A563AA1186358D099C.nii.gz downloaded\n",
            "280/1000: Zx4CD16CC71906F530977DB9230FE057C82495D1E34DF0FE3D.nii.gz downloaded\n",
            "281/1000: Zx4CD16CC71906F53098070226ADFA18E786514A2D5955BC24.nii.gz downloaded\n",
            "282/1000: Zx4E65E57D92E3B1AACBD961CAB8541E13A5975685B7E45EDB.nii.gz downloaded\n",
            "283/1000: Zx4DEAB0155B0B49D7A6C97DC1BAFCA3A840D5FA76882F3909.nii.gz downloaded\n",
            "284/1000: Zx4EAFC9446FC2FDA96475B0F321C447A4D8889B907C7D9914.nii.gz downloaded\n",
            "285/1000: Zx4ED2135FF0A55C3D7A4B8D120D480744B2AB59059A00E138.nii.gz downloaded\n",
            "286/1000: Zx4ED2135FF0A55C3D7F1BAED00A9DB4024C7C414B49313DFD.nii.gz downloaded\n",
            "287/1000: Zx4ED2135FF0A55C3DDB2DCB18431F46E19C069FB908C473B6.nii.gz downloaded\n",
            "288/1000: Zx4ED2135FF0A55C3D813B23BFE9225DC9B3593766EF832279.nii.gz downloaded\n",
            "289/1000: Zx4ED2135FF0A55C3DE2379661289AFC75E374FE6B5DC4C7AC.nii.gz downloaded\n",
            "290/1000: Zx4F4C96D1D988000B83C914F75CF613B65D523A6FE968772C.nii.gz downloaded\n",
            "291/1000: Zx4EE17C1A79A4E37821C471B90E1694F15799373A2669C6E7.nii.gz downloaded\n",
            "292/1000: Zx4ED2135FF0A55C3DF37F0C3D518BEF91E06140DA413A2713.nii.gz downloaded\n",
            "293/1000: Zx4EE17C1A79A4E378EA88BEA9904B740828B28D6018979D29.nii.gz downloaded\n",
            "294/1000: Zx4FF8FA975791743419B6BAB67980A5A742C8B1F1C7CA1D53.nii.gz downloaded\n",
            "295/1000: Zx4F7C67B1B416E7F41724AED528381DCE36E232E1B962B78A.nii.gz downloaded\n",
            "296/1000: Zx501820D23A5CB94739758DB1736517B8A4ACBE83C6927DB9.nii.gz downloaded\n",
            "297/1000: Zx504AF1B40D661E3182C6531F7B46480E7F41078D06CDCFAF.nii.gz downloaded\n",
            "298/1000: Zx504AF1B40D661E318808E342755F5F8F5F2176329B1099FC.nii.gz downloaded\n",
            "299/1000: Zx50A6A79EE36E3CCD5AA6014B76839AC1847143AD49447EA3.nii.gz downloaded\n",
            "300/1000: Zx5018996AE3D312B7C7CC6D1D0E2D547ED07A494F0D3A709E.nii.gz downloaded\n",
            "301/1000: Zx516EDA06AFC86A96DEF620D64057D24304932BBB29032A2C.nii.gz downloaded\n",
            "302/1000: Zx516EDA06AFC86A96E299B23DAF55DAA97F52807639AA71C7.nii.gz downloaded\n",
            "303/1000: Zx516EDA06AFC86A96CF83E05B1E2C72062F6B42B007CCC45F.nii.gz downloaded\n",
            "304/1000: Zx516EDA06AFC86A9609937263C8F528620516202A547FC1BA.nii.gz downloaded\n",
            "305/1000: Zx52A1B18E58F40C8FB77C2A69696B8742CD80BDED294F9DEA.nii.gz downloaded\n",
            "306/1000: Zx51A80B3E99993CFE8D49D032D315D5AA7470D7B51AAA3BA5.nii.gz downloaded\n",
            "307/1000: Zx51CD05AAA1BF2AF178052BEEE6720CCE39FDAF9ABB7F7EBF.nii.gz downloaded\n",
            "308/1000: Zx52F220173F215CEE2AF44E2741D07661594B72C69AE57DEE.nii.gz downloaded\n",
            "309/1000: Zx53427F159B58FC850825C73FE4FD5EE6F9F5004A129732CD.nii.gz downloaded\n",
            "310/1000: Zx533EC33D04581309BAE79E02170CAA48037AB85859283614.nii.gz downloaded\n",
            "311/1000: Zx52C5BF85821A07F0BA9C171C7A9848144E1316D64660557C.nii.gz downloaded\n",
            "312/1000: Zx539DB79E41F6AA2BDC7E79B33C76FB6FD5585583B66DDB1D.nii.gz downloaded\n",
            "313/1000: Zx539AA3BFF2614BB114CAAD4E135B24474C2FD45BDCF3C18D.nii.gz downloaded\n",
            "314/1000: Zx53C966B8FF31C915F35CBBABB90687CADB06D59789663C41.nii.gz downloaded\n",
            "315/1000: Zx539AA3BFF2614BB11EC301F922DF1D6EB66F648CFD86B6EE.nii.gz downloaded\n",
            "316/1000: Zx54ADC117CB68757CD26FAECB856335BAEA518BADA3B1D562.nii.gz downloaded\n",
            "317/1000: Zx548829E2295B777477EEF5AD7B52516483F97FE03FFCD0EF.nii.gz downloaded\n",
            "318/1000: Zx54187A4FBD409DDD063160262732D37E9CAEFA2A2FC29570.nii.gz downloaded\n",
            "319/1000: Zx54D9C6D4D1A2099BC5128685BAA055EA5D0EBDFCAF3F5C90.nii.gz downloaded\n",
            "320/1000: Zx552814BC181CA38B4610252231F024FFC655093C180B1094.nii.gz downloaded\n",
            "321/1000: Zx54E4C11D0D91C0320F543B0FCAE06DBC6E06E12714DD7B01.nii.gz downloaded\n",
            "322/1000: Zx55AD3019A3318C2B3949A3914CC9AC3C90BBF24D783964DB.nii.gz downloaded\n",
            "323/1000: Zx556FFA44D63AD311B1EA1654E65E580B12F368456EB8402A.nii.gz downloaded\n",
            "324/1000: Zx55AD3019A3318C2B6C699D41E4EBE763BC4E47BF4E9BFD8D.nii.gz downloaded\n",
            "325/1000: Zx55AD3019A3318C2BF1342646FC3BC5AFD28C776950E8D4C4.nii.gz downloaded\n",
            "326/1000: Zx55AD3019A3318C2BD693F2094679AD6751F86FF222B86674.nii.gz downloaded\n",
            "327/1000: Zx55AD3019A3318C2B9B2E59E2B3FF6297E8A5FA91A1B64E5E.nii.gz downloaded\n",
            "328/1000: Zx567CD9145A3FAD22F4F9AF5F7704C9AC0822FA6A2845A546.nii.gz downloaded\n",
            "329/1000: Zx560FA552A9EA24CC8B312C0989F2E7131DE48CD20C69FFCC.nii.gz downloaded\n",
            "330/1000: Zx565D74889318B8045234D290A85A4D77CDBC698F9C455063.nii.gz downloaded\n",
            "331/1000: Zx570BE55F360243A2C82C21EADDBA4B7CDBBB67C1C675B6CA.nii.gz downloaded\n",
            "332/1000: Zx569638AE4C6131C024DC3ACB924A14606A7FE61AA98AF107.nii.gz downloaded\n",
            "333/1000: Zx5697C4D4B57C86BAC72CF2508522FF72DB9C1398212C92E3.nii.gz downloaded\n",
            "334/1000: Zx570BE55F360243A2D789EA5346E536AA3B16516B7A428776.nii.gz downloaded\n"
          ]
        }
      ]
    },
    {
      "cell_type": "code",
      "source": [
        "!curl ipecho.net/plain"
      ],
      "metadata": {
        "colab": {
          "base_uri": "https://localhost:8080/"
        },
        "id": "M0o3a7eXiV7b",
        "outputId": "7d4a55c5-a9c9-4141-847e-ba4d7d8ae5ed"
      },
      "execution_count": null,
      "outputs": [
        {
          "output_type": "stream",
          "name": "stdout",
          "text": [
            "34.80.136.131"
          ]
        }
      ]
    },
    {
      "cell_type": "markdown",
      "source": [
        "Use http request pulic links of google drive files  to download (error 403. be blocked from google)"
      ],
      "metadata": {
        "id": "0e-g7Blb91a0"
      }
    },
    {
      "cell_type": "code",
      "source": [
        "# from kora.xattr import get_id\n",
        "# import requests\n",
        "# from fake_useragent import UserAgent\n",
        "# import time\n",
        "\n",
        "# # user_agents = [\n",
        "# #     \"Mozilla/5.0 (Windows NT 10.0; Win64; x64) AppleWebKit/537.36 (KHTML, like Gecko) Chrome/90.0.4430.212 Safari/537.36\",  # Chrome on Windows 10\n",
        "# #     \"Mozilla/5.0 (Macintosh; Intel Mac OS X 10_15_7) AppleWebKit/605.1.15 (KHTML, like Gecko) Version/14.0.3 Safari/605.1.15\",  # Safari on macOS\n",
        "# #     \"Mozilla/5.0 (Windows NT 10.0; Win64; x64; rv:88.0) Gecko/20100101 Firefox/88.0\",  # Firefox on Windows 10\n",
        "# #     \"Mozilla/5.0 (iPhone; CPU iPhone OS 14_4 like Mac OS X) AppleWebKit/605.1.15 (KHTML, like Gecko) Version/14.0 Mobile/15E148 Safari/604.1\",  # Safari on iPhone\n",
        "# #     \"Mozilla/5.0 (Linux; Android 10; SM-G973F) AppleWebKit/537.36 (KHTML, like Gecko) Chrome/90.0.4430.210 Mobile Safari/537.36\",  # Chrome on Android\n",
        "# #     \"Mozilla/5.0 (X11; Ubuntu; Linux x86_64; rv:88.0) Gecko/20100101 Firefox/88.0\"  # Firefox on Ubuntu Linux\n",
        "# # ]\n",
        "# # headers = {\n",
        "# #     'User-Agent': random.choice(user_agents)\n",
        "# # }\n",
        "# ua = UserAgent()\n",
        "\n",
        "# files_on_drive = os.listdir(drive_rootdir+'/'+datadir)\n",
        "# files_in_localdir = os.listdir(f\"/content/{datadir}\")\n",
        "# files_to_download = [f for f in files_on_drive if f not in files_in_localdir]\n",
        "# files = [(filename, get_id(f'{drive_rootdir}/{datadir}/{filename}')) for filename in files_to_download]\n",
        "# # print(headers)\n",
        "\n",
        "# t = random.randint(20,30)\n",
        "\n",
        "# with requests.Session() as session:\n",
        "#   for idx, (name, id) in enumerate(files):\n",
        "#     headers = {'User-Agent': ua.random}\n",
        "#     # print(headers)\n",
        "#     url = f\"https://drive.google.com/uc?id={id}&confirm=t\"\n",
        "#     # url = f\"https://drive.google.com/file/d/{id}/view?usp=drive_link\"\n",
        "#     # url = f\"https://drive.google.com//uc?id={id}&confirm=t&usp=sharing\"\n",
        "#     response = session.get(url, headers=headers, allow_redirects=True)\n",
        "#     if response.status_code == 200:\n",
        "#         with open(f\"/content/{datadir}/{name}\", 'wb') as file:\n",
        "#             file.write(response.content)\n",
        "#         print(f\"{idx+1}/{len(files)}: {name}\")\n",
        "#     elif response.status_code == 403:\n",
        "#         print(f\"Error: Unable to download file. Status code: {response.status_code}\")\n",
        "#         # headers = {\n",
        "#         #   'User-Agent': random.choice(user_agents)\n",
        "#         # }\n",
        "#         # print(headers)\n",
        "#         s = random.randint(300,600)\n",
        "#         print(f\"sleeping {s} secondes...\")\n",
        "#         time.sleep(s)\n",
        "#     else:\n",
        "#         print(f\"Error: Unable to download file. Status code: {response.status_code}\")\n",
        "\n",
        "#     # if (idx+1) % t  == 0:\n",
        "#     #   s = random.randint(60,300)\n",
        "#     #   print(f\"sleeping {s} secondes...\")\n",
        "#     #   time.sleep(s)\n",
        "#     #   t = random.randint(20,30)\n",
        "\n",
        "# # files_on_drive = os.listdir(drive_rootdir+'/'+datadir)\n",
        "# # files_in_localdir = os.listdir(f\"/content/{datadir}\")\n",
        "# # files_to_download = [f for f in files_on_drive if f not in files_in_localdir]\n",
        "# # files = [(filename, get_id(f'{drive_rootdir}/{datadir}/{filename}')) for filename in files_to_download]\n",
        "# # for idx, (name, id) in enumerate(files):\n",
        "# #   gdown.download(f\"https://drive.google.com/uc?id={id}&confirm=t\", output=f\"/content/{datadir}/{name}\", quiet=True, use_cookies=False)\n",
        "# #   print(f\"{idx+1}/{len(files)}: {name}\")"
      ],
      "metadata": {
        "id": "RUZd5b8QlKRZ"
      },
      "execution_count": null,
      "outputs": []
    },
    {
      "cell_type": "code",
      "source": [
        "len(os.listdir(datadir))"
      ],
      "metadata": {
        "id": "xXH5tN8Jq4Vn"
      },
      "execution_count": null,
      "outputs": []
    },
    {
      "cell_type": "markdown",
      "source": [
        "Directly reading files from mounted google drive  \n",
        "**unknown error**: stuck after reading 9 nii files"
      ],
      "metadata": {
        "id": "b8N6QgZI-vWk"
      }
    },
    {
      "cell_type": "code",
      "source": [
        "# # 測試直接從mount下載\n",
        "# labelpath = '/content/drive/MyDrive/AOCR2024/TrainValid_ground_truth.csv'\n",
        "# datadir =\"/content/drive/MyDrive/AOCR2024/Train_Valid_Image\"\n",
        "\n",
        "# process_data2(termi=5,shift=0,dropFalse=0,dropPos=0)"
      ],
      "metadata": {
        "id": "vWZgPEJQ0C9o"
      },
      "execution_count": null,
      "outputs": []
    },
    {
      "cell_type": "code",
      "source": [
        "# # 測試下載\n",
        "# labelpath = '/content/drive/MyDrive/AOCR2024/TrainValid_ground_truth.csv'\n",
        "\n",
        "# dflabel = read_label(labelpath)\n",
        "# images, labels, _ =  process_data2(termi=3,shift=2,dropFalse=0,dropPos=0)"
      ],
      "metadata": {
        "colab": {
          "base_uri": "https://localhost:8080/"
        },
        "id": "dzXqivsbxDmZ",
        "outputId": "b9d47b5c-0e87-49dc-aa36-4738833d65d3"
      },
      "execution_count": null,
      "outputs": [
        {
          "output_type": "stream",
          "name": "stdout",
          "text": [
            "xlim=[60, 316]\n",
            "ylim=[150, 406]\n",
            "zlim=[11, 71]\n",
            "Process 0: Zx0AA2C956EEA5EAEA0DC0DA2606A8F8D0F334B97FDD860E1F finished...\n",
            "Process 1: Zx08DA48B45B5C7D0182C369B8E0B013CAF9EEA43199E8AFEF finished...\n",
            "Process 2: Zx0800DE5C96380322E442453B99E25D6F1282F2C4A610A497 finished...\n",
            "read 3 scans\n"
          ]
        }
      ]
    },
    {
      "cell_type": "code",
      "source": [
        "# s1 = labels[0:60]\n",
        "# s2 = labels[60:120]\n",
        "# s3 = labels[120:180]\n",
        "# s2"
      ],
      "metadata": {
        "id": "m-pRFYuy0xca"
      },
      "execution_count": null,
      "outputs": []
    },
    {
      "cell_type": "markdown",
      "source": [
        "# Dataset/Model"
      ],
      "metadata": {
        "id": "mei5EcNldUJr"
      }
    },
    {
      "cell_type": "code",
      "source": [
        "class CustomDataset(Dataset):\n",
        "    def __init__(self, images, labels, mode='train'):\n",
        "        self.images = images\n",
        "        self.labels = labels\n",
        "        self.mode = mode\n",
        "\n",
        "    def __len__(self):\n",
        "        return len(self.images)\n",
        "\n",
        "    def __getitem__(self, idx):\n",
        "      if self.mode == 'train' or self.mode=='valid':\n",
        "        return self.images[idx], self.labels[idx]\n",
        "      elif self.mode == 'test':\n",
        "        return self.images[idx]"
      ],
      "metadata": {
        "id": "65xrLIRzdMpE"
      },
      "execution_count": null,
      "outputs": []
    },
    {
      "cell_type": "code",
      "source": [
        "model_name = \"tf_efficientnetv2_m\"\n",
        "pretrained_model = timm.create_model(model_name, pretrained=True)\n",
        "\n",
        "# 修改輸入通道\n",
        "pretrained_model.conv_stem = nn.Conv2d(1, 24, kernel_size=3, stride=2, padding=1, bias=False)\n",
        "\n",
        "# 修改輸出類別\n",
        "num_classes = 1\n",
        "pretrained_model.classifier = nn.Linear(pretrained_model.classifier.in_features, num_classes)\n",
        "\n",
        "# 添加 Sigmoid 激活函數\n",
        "pretrained_model = nn.Sequential(\n",
        "    pretrained_model,\n",
        "    nn.Sigmoid()\n",
        ")\n",
        "\n",
        "\n",
        "# 檢查模型結構\n",
        "# print(pretrained_model)\n"
      ],
      "metadata": {
        "id": "jZ0cSVS51BHz"
      },
      "execution_count": null,
      "outputs": []
    },
    {
      "cell_type": "markdown",
      "metadata": {
        "id": "s0ME8m8YBRFR"
      },
      "source": [
        "# 資料處理"
      ]
    },
    {
      "cell_type": "code",
      "source": [
        "dflabel = read_label(labelpath)\n",
        "total_nii = len(os.listdir(datadir))\n",
        "images, labels =  process_data2(traindir=datadir, termi=total_nii,shift=0,dropFalse=0,dropPos=0)"
      ],
      "metadata": {
        "id": "WFJpwdc4cSci"
      },
      "execution_count": null,
      "outputs": []
    },
    {
      "cell_type": "code",
      "source": [
        "images_train, labels_train = remove_false_images(images, labels, 0.95)"
      ],
      "metadata": {
        "id": "MfNH0-bbSi6r"
      },
      "execution_count": null,
      "outputs": []
    },
    {
      "cell_type": "code",
      "source": [
        "# images_train, labels_train = remove_positive_images(images_train, labels_train, 0.5)\n"
      ],
      "metadata": {
        "id": "yb6v64WbS2HI"
      },
      "execution_count": null,
      "outputs": []
    },
    {
      "cell_type": "code",
      "source": [
        "# images_train, labels_train = images, labels"
      ],
      "metadata": {
        "id": "NDW0AWpymMjL"
      },
      "execution_count": null,
      "outputs": []
    },
    {
      "cell_type": "code",
      "source": [
        "print(images_train.shape)\n",
        "print(len(labels_train))\n",
        "print(images.shape)"
      ],
      "metadata": {
        "id": "1U8IlMjbME2H"
      },
      "execution_count": null,
      "outputs": []
    },
    {
      "cell_type": "code",
      "source": [
        "# len(labels_train)"
      ],
      "metadata": {
        "id": "WC2Zjl9fI0pm"
      },
      "execution_count": null,
      "outputs": []
    },
    {
      "cell_type": "code",
      "source": [
        "# labels_train"
      ],
      "metadata": {
        "id": "x9QVRrY2L1VN"
      },
      "execution_count": null,
      "outputs": []
    },
    {
      "cell_type": "code",
      "source": [
        "#  %reset_selective images_train, labels_train"
      ],
      "metadata": {
        "id": "jeAD7ynnVOWw"
      },
      "execution_count": null,
      "outputs": []
    },
    {
      "cell_type": "code",
      "source": [
        "# %reset_selective dataset"
      ],
      "metadata": {
        "id": "TExWLDrnQcC4"
      },
      "execution_count": null,
      "outputs": []
    },
    {
      "cell_type": "code",
      "source": [
        "# %reset_selective dataloader"
      ],
      "metadata": {
        "id": "HxHsNkSZQetn"
      },
      "execution_count": null,
      "outputs": []
    },
    {
      "cell_type": "code",
      "source": [
        "# %reset"
      ],
      "metadata": {
        "id": "ZWaEl6uf0eLv"
      },
      "execution_count": null,
      "outputs": []
    },
    {
      "cell_type": "markdown",
      "metadata": {
        "id": "0IX5HYZuSKG-"
      },
      "source": [
        "# 訓練 (EfficiencyNetV2_m)"
      ]
    },
    {
      "cell_type": "markdown",
      "source": [
        "第一次跑model 跑這\n"
      ],
      "metadata": {
        "id": "0ilQ1VQr3etT"
      }
    },
    {
      "cell_type": "code",
      "source": [
        "model = pretrained_model\n",
        "model = model.to(device)\n",
        "start = 0"
      ],
      "metadata": {
        "id": "AbYR6JQl3UMA"
      },
      "execution_count": null,
      "outputs": []
    },
    {
      "cell_type": "markdown",
      "source": [
        "若是有接續跑模型   \n",
        "跑這epoch要對上"
      ],
      "metadata": {
        "id": "hIdh88yk2Y9x"
      }
    },
    {
      "cell_type": "code",
      "source": [
        "model = pretrained_model\n",
        "model = model.to(device)\n",
        "\n",
        "import json\n",
        "filename = input(\"請輸入要獲取模型路徑:\")\n",
        "\n",
        "if not os.path.isfile(filename+'.pth'):\n",
        "    print(f\"{filename}.pth not exist.\")\n",
        "else:\n",
        "    print(model.load_state_dict(torch.load(filename+'.pth')))\n",
        "\n",
        "if os.path.isfile(filename+'.json'):\n",
        "  with open(f'{filename}.json', 'r') as f:\n",
        "      params = json.load(f)\n",
        "\n",
        "start = int(filename.split('_')[-1]) + 1"
      ],
      "metadata": {
        "id": "PQkT5JF-2JYA"
      },
      "execution_count": null,
      "outputs": []
    },
    {
      "cell_type": "code",
      "execution_count": null,
      "metadata": {
        "id": "SdKCQjs_Ozum"
      },
      "outputs": [],
      "source": [
        "# 訓練參數\n",
        "num_epochs = 190\n",
        "batch_size = 16\n",
        "lr = 0.01\n",
        "running_loss_list = []\n",
        "modeldirname=input(\"dirname: \")\n",
        "\n",
        "# 初始化模型、損失函數和優化器\n",
        "\n",
        "criterion = nn.BCELoss()\n",
        "optimizer = optim.Adam(model.parameters(), lr)\n",
        "\n",
        "\n",
        "\n",
        "dataset = CustomDataset(images_train, labels_train)\n",
        "dataloader = DataLoader(dataset, batch_size=batch_size, shuffle=True, drop_last=True)\n",
        "model.train()\n",
        "\n",
        "for epoch in range(start, num_epochs):\n",
        "    running_loss = 0.0\n",
        "\n",
        "    for j, (batch_images, batch_labels) in enumerate(dataloader):\n",
        "        batch_images, batch_labels = batch_images.to(device), batch_labels.to(device)\n",
        "\n",
        "        optimizer.zero_grad()\n",
        "        outputs = model(batch_images)\n",
        "        outputs = outputs.squeeze()\n",
        "        loss = criterion(outputs, batch_labels)\n",
        "        loss.backward()\n",
        "        optimizer.step()\n",
        "\n",
        "        running_loss += loss.item()\n",
        "\n",
        "    if epoch % 10 == 0:\n",
        "      savepath = save_model(model, f'{model_name}_{epoch}', dirname=modeldirname)\n",
        "\n",
        "    images_train, labels_train = remove_false_images(images, labels, 0.8)\n",
        "    dataset = CustomDataset(images_train, labels_train)\n",
        "    dataloader = DataLoader(dataset, batch_size=batch_size, shuffle=True, drop_last=True)\n",
        "\n",
        "    running_loss_list.append(running_loss/len(dataloader))\n",
        "    print(f\"Epoch {epoch}, Loss: {running_loss/len(dataloader)}\")\n",
        "\n",
        "savepath = save_model(model, f'{model_name}_{epoch}', dirname=modeldirname)"
      ]
    },
    {
      "cell_type": "markdown",
      "metadata": {
        "id": "rhLO9PaUESQh"
      },
      "source": [
        "## Loss圖"
      ]
    },
    {
      "cell_type": "code",
      "execution_count": null,
      "metadata": {
        "id": "uvRouRxFEXy2"
      },
      "outputs": [],
      "source": [
        "import matplotlib.pyplot as plt\n",
        "plt.plot(np.arange(1,num_epochs+1)[:len(running_loss_list)], running_loss_list)\n",
        "plt.title('Loss')\n",
        "plt.xlabel('Epoch')\n",
        "plt.ylabel('Loss')\n",
        "\n",
        "# figname = f'{os.path.dirname(savepath)}/{model_name}_loss.png'\n",
        "# if os.path.isfile(figname):\n",
        "#   print(f\"{figname} exist.\")\n",
        "# else:\n",
        "#   plt.savefig(figname)\n",
        "plt.show()\n",
        "\n",
        "lossname = f'{os.path.dirname(savepath)}/{model_name}_loss.json'\n",
        "\n",
        "with open(f'{lossname}', 'a') as f:\n",
        "  json.dump(running_loss_list, f)"
      ]
    },
    {
      "cell_type": "markdown",
      "metadata": {
        "id": "fRrn6mOmBRFU"
      },
      "source": [
        "# 儲存模型參數\n",
        "\n"
      ]
    },
    {
      "cell_type": "code",
      "execution_count": null,
      "metadata": {
        "id": "2Jnh7hW3BRFU",
        "colab": {
          "base_uri": "https://localhost:8080/"
        },
        "outputId": "4845b62c-53b8-44a9-849b-736f33da9000"
      },
      "outputs": [
        {
          "name": "stdout",
          "output_type": "stream",
          "text": [
            "model will be saved under /content/drive/.shortcut-targets-by-id/1sDWsPGsIDappaJPbkJswWmLhx1q6LRdv/AOCR2024/params\n",
            "請輸入模型儲存的檔名:tf_efficientnetv2_m_100\n",
            "請輸入模型儲存的資料夾:dropFalse0.8\n"
          ]
        }
      ],
      "source": [
        "filename = save_model(model)\n",
        "\n",
        "params = {\n",
        "    'num_epochs': num_epochs,\n",
        "    'batch_size': batch_size,\n",
        "    'learning_rate': lr,\n",
        "}\n",
        "\n",
        "if os.path.isfile(filename+'.json'):\n",
        "    print(f\"{filename}.json exist.\")\n",
        "else:\n",
        "    with open(f'{filename}.json', 'w') as f:\n",
        "        json.dump(params, f)"
      ]
    },
    {
      "cell_type": "markdown",
      "metadata": {
        "id": "oBcppdev6LlG"
      },
      "source": [
        "# 讀取模型參數"
      ]
    },
    {
      "cell_type": "code",
      "source": [
        "model = pretrained_model\n",
        "model = model.to(device)"
      ],
      "metadata": {
        "id": "Pfx0VwbRN9uq"
      },
      "execution_count": 19,
      "outputs": []
    },
    {
      "cell_type": "code",
      "execution_count": 20,
      "metadata": {
        "id": "5NUlm7dg5sRE",
        "colab": {
          "base_uri": "https://localhost:8080/"
        },
        "outputId": "0b5ff5cc-9a42-4137-d486-8d0ff75f7223"
      },
      "outputs": [
        {
          "output_type": "stream",
          "name": "stdout",
          "text": [
            "請輸入要獲取模型路徑:/content/drive/MyDrive/AOCR2024/params/dropFalse0.95/tf_efficientnetv2_m_10\n",
            "<All keys matched successfully>\n"
          ]
        }
      ],
      "source": [
        "import json\n",
        "filename = input(\"請輸入要獲取模型路徑:\")\n",
        "\n",
        "if not os.path.isfile(filename+'.pth'):\n",
        "    print(f\"{filename}.pth not exist.\")\n",
        "else:\n",
        "    print(model.load_state_dict(torch.load(filename+'.pth')))\n",
        "\n",
        "if os.path.isfile(filename+'.json'):\n",
        "  with open(f'{filename}.json', 'r') as f:\n",
        "      params = json.load(f)"
      ]
    },
    {
      "cell_type": "markdown",
      "metadata": {
        "id": "6v_lVRL47kzj"
      },
      "source": [
        "# 評估\n"
      ]
    },
    {
      "cell_type": "code",
      "execution_count": 40,
      "metadata": {
        "id": "QtWJ-YYy5l2E",
        "colab": {
          "base_uri": "https://localhost:8080/",
          "height": 247
        },
        "outputId": "72a63d09-ed60-48c2-fae8-07826b0dec7d"
      },
      "outputs": [
        {
          "output_type": "stream",
          "name": "stdout",
          "text": [
            "16\n"
          ]
        },
        {
          "output_type": "error",
          "ename": "NameError",
          "evalue": "ignored",
          "traceback": [
            "\u001b[0;31m---------------------------------------------------------------------------\u001b[0m",
            "\u001b[0;31mNameError\u001b[0m                                 Traceback (most recent call last)",
            "\u001b[0;32m<ipython-input-40-88d10400ff5b>\u001b[0m in \u001b[0;36m<cell line: 8>\u001b[0;34m()\u001b[0m\n\u001b[1;32m      6\u001b[0m \u001b[0mprint\u001b[0m\u001b[0;34m(\u001b[0m\u001b[0mbatch_size\u001b[0m\u001b[0;34m)\u001b[0m\u001b[0;34m\u001b[0m\u001b[0;34m\u001b[0m\u001b[0m\n\u001b[1;32m      7\u001b[0m \u001b[0;34m\u001b[0m\u001b[0m\n\u001b[0;32m----> 8\u001b[0;31m \u001b[0mdataset\u001b[0m \u001b[0;34m=\u001b[0m \u001b[0mCustomDataset\u001b[0m\u001b[0;34m(\u001b[0m\u001b[0mimages_train\u001b[0m\u001b[0;34m[\u001b[0m\u001b[0;34m:\u001b[0m\u001b[0;36m8000\u001b[0m\u001b[0;34m]\u001b[0m\u001b[0;34m,\u001b[0m \u001b[0mlabels_train\u001b[0m\u001b[0;34m)\u001b[0m\u001b[0;34m\u001b[0m\u001b[0;34m\u001b[0m\u001b[0m\n\u001b[0m\u001b[1;32m      9\u001b[0m \u001b[0mdataloader\u001b[0m \u001b[0;34m=\u001b[0m \u001b[0mDataLoader\u001b[0m\u001b[0;34m(\u001b[0m\u001b[0mdataset\u001b[0m\u001b[0;34m,\u001b[0m \u001b[0mbatch_size\u001b[0m\u001b[0;34m=\u001b[0m\u001b[0mbatch_size\u001b[0m\u001b[0;34m,\u001b[0m \u001b[0mshuffle\u001b[0m\u001b[0;34m=\u001b[0m\u001b[0;32mFalse\u001b[0m\u001b[0;34m)\u001b[0m\u001b[0;34m\u001b[0m\u001b[0;34m\u001b[0m\u001b[0m\n",
            "\u001b[0;31mNameError\u001b[0m: name 'images_train' is not defined"
          ]
        }
      ],
      "source": [
        "# 評估設置\n",
        "try:\n",
        "  batch_size = params['batch_size']\n",
        "except:\n",
        "  batch_size = int(input(\"batch_size:\"))\n",
        "print(batch_size)\n",
        "\n",
        "dataset = CustomDataset(images_train, labels_train)\n",
        "dataloader = DataLoader(dataset, batch_size=batch_size, shuffle=False)"
      ]
    },
    {
      "cell_type": "code",
      "execution_count": null,
      "metadata": {
        "id": "4M1qST-FslSs",
        "colab": {
          "base_uri": "https://localhost:8080/"
        },
        "outputId": "981bb1f9-d5bf-4f7f-dae6-5fcc30b8b714"
      },
      "outputs": [
        {
          "output_type": "stream",
          "name": "stdout",
          "text": [
            "Accuracy of the network on the 8000 test images: 99.1875%\n",
            "Loss: 0.0209375872412013\n"
          ]
        }
      ],
      "source": [
        "\n",
        "# testing_loss_list = []\n",
        "criterion = nn.BCELoss()\n",
        "predict_list = torch.tensor([]).to(device)\n",
        "\n",
        "model.eval()\n",
        "with torch.no_grad():\n",
        "    testing_loss = 0.0\n",
        "    correct = 0\n",
        "    total = 0\n",
        "    for j, (batch_images, batch_labels) in enumerate(dataloader):\n",
        "        batch_images, batch_labels = batch_images.to(device), batch_labels.to(device)\n",
        "        outputs = model(batch_images).squeeze()\n",
        "        predicted = (outputs > 0.5).int()\n",
        "        loss = criterion(outputs, batch_labels)\n",
        "        testing_loss += loss.item()\n",
        "        # if predicted.dim() == 0:\n",
        "        #   predicted = predicted.unsqueeze(0)\n",
        "        predict_list = torch.cat((predict_list,predicted),0)\n",
        "        total += batch_labels.size(0)\n",
        "        correct += (predicted == batch_labels).sum().item()\n",
        "\n",
        "print(f\"Accuracy of the network on the {len(predict_list)} test images: {100 * correct / total}%\")\n",
        "print(f\"Loss: {testing_loss/len(dataloader)}\")\n",
        "predict_listq = predict_list.cpu()\n",
        "\n"
      ]
    },
    {
      "cell_type": "markdown",
      "source": [
        "Accuracy of the network on the 15592   \n",
        "training images: 99.20472036942022%  \n",
        "Loss: 0.03187363331013983\n"
      ],
      "metadata": {
        "id": "fwmwmUjjiYQ8"
      }
    },
    {
      "cell_type": "code",
      "execution_count": null,
      "metadata": {
        "id": "5s7klq4YR5Qg",
        "colab": {
          "base_uri": "https://localhost:8080/"
        },
        "outputId": "e31c4ae1-f2aa-425b-9863-bd9bba68c0a0"
      },
      "outputs": [
        {
          "output_type": "stream",
          "name": "stdout",
          "text": [
            "\n",
            "      真實值\n",
            "  預  +-----+-----+\n",
            "  測| TP: 608| FP: 61|\n",
            "  值| FN: 4| TN: 7327|\n",
            "      +-----+-----+ \n",
            "\n",
            "recall=0.9934640522875817\n",
            "precision=0.9088191330343797\n",
            "F1=0.9492583918813428\n",
            "\n"
          ]
        }
      ],
      "source": [
        "print_results(predict_listq, labels)"
      ]
    },
    {
      "cell_type": "markdown",
      "source": [
        "# Test"
      ],
      "metadata": {
        "id": "H_IU8lUico-0"
      }
    },
    {
      "cell_type": "markdown",
      "source": [
        "images讀進來是疊在一起的。 需要info紀錄images檔名順序與分割情況"
      ],
      "metadata": {
        "id": "Z7I_nNXjjlGW"
      }
    },
    {
      "cell_type": "code",
      "source": [
        "testdir = \"Cropped_60-316_150-406_11-71/Test_Image_cropped\""
      ],
      "metadata": {
        "id": "kcS21lFCs0bL"
      },
      "execution_count": 55,
      "outputs": []
    },
    {
      "cell_type": "code",
      "source": [
        "get_data_disk(drive_rootdir, testdir)\n"
      ],
      "metadata": {
        "colab": {
          "base_uri": "https://localhost:8080/"
        },
        "id": "vxthJJDHsvVs",
        "outputId": "43035050-2bb0-4c44-c13f-55dc24ee0547"
      },
      "execution_count": 31,
      "outputs": [
        {
          "output_type": "stream",
          "name": "stdout",
          "text": [
            "making Cropped_60-316_150-406_11-71/Test_Image_cropped...\n",
            "1/200: Zx05B14FDAD8DE03B10E1C560619C12C542747E39A00BC1943.nii.gz downloaded\n",
            "2/200: Zx01948F47276376729E6CD0FC35E175861DDDE016E73A6F61.nii.gz downloaded\n",
            "3/200: Zx00FE1B9A88E88C71917ECC1EDD774252C072CA5FDB12C01B.nii.gz downloaded\n",
            "4/200: Zx05D5C78127C46803A2A09A76E03ED07405D28012A0536000.nii.gz downloaded\n",
            "5/200: Zx06170DED67884FED8E4A2B173346E1A698644BB8D971FFCB.nii.gz downloaded\n",
            "6/200: Zx0B26523F097982195CAE5A8EC2674CE36E15988A529317CD.nii.gz downloaded\n",
            "7/200: Zx0CFEAEA49D4E19D1DB3BAE1248C9AE42D815CA7B52CC9E76.nii.gz downloaded\n",
            "8/200: Zx0D0A3D4D2C6DF934AF9D016A5B8923F6BF5746DA99CA00D6.nii.gz downloaded\n",
            "9/200: Zx0D7F914BAEC987017F3C179833AAFC697C1DA5A8F6CB6F16.nii.gz downloaded\n",
            "10/200: Zx0FF377252BE891AC0DC9A1CABC405DA08650AFE8A28C9D04.nii.gz downloaded\n",
            "11/200: Zx1065B0DE07F9AF895D255A52750579EE21428FAB2E575FE3.nii.gz downloaded\n",
            "12/200: Zx0E3C20D9BB248666F8C1605B9A9D726237A5626AD91AF5DF.nii.gz downloaded\n",
            "13/200: Zx15FB4DF1D36A7B4AE59373BDA3B21394428E0F28E09A68CC.nii.gz downloaded\n",
            "14/200: Zx1146D4F02782E6D5015CDEB8FB751D6C7BB7E6471FC5FBFF.nii.gz downloaded\n",
            "15/200: Zx11624B7B7AEBCF0FAFD0B992BC272C41C953A7703E56E6DA.nii.gz downloaded\n",
            "16/200: Zx16043EED6C38D1B0045FDC752A66A80E336E352A945ED37F.nii.gz downloaded\n",
            "17/200: Zx19171CE8121BE20876FC7F1BDB6C0153CEC9A2BCEF2C9EB9.nii.gz downloaded\n",
            "18/200: Zx1A017ECAEE14A219D0A3E97E6CCF962DC599F00C30EAEE01.nii.gz downloaded\n",
            "19/200: Zx1BE880E938C82FBD4C04159D47738D8E78875219BE6D7D6B.nii.gz downloaded\n",
            "20/200: Zx210EA4E4E64FD80F7A268A48B2C266E51AD4313EDBF3C427.nii.gz downloaded\n",
            "21/200: Zx21F1648A3334CE363E4D72ED92F795868BC52F94D1DA5F0F.nii.gz downloaded\n",
            "22/200: Zx212DBD941DEC06E9E3BF9D108811FA07B37CC848C4D10968.nii.gz downloaded\n",
            "23/200: Zx27F7969620CB7F945A322CD82C1A20F4424F070945ECE5A5.nii.gz downloaded\n",
            "24/200: Zx256A9E945D19FB28335E22C805EC9CDC4F4E23A7B3871D4F.nii.gz downloaded\n",
            "25/200: Zx2982812805D4A3FA5078DB705FF20793142A1A712F5108B5.nii.gz downloaded\n",
            "26/200: Zx291FD6850838B6434EDE060CF2F2F05E904D018C0B6C1745.nii.gz downloaded\n",
            "27/200: Zx2982812805D4A3FAF6386CE06C15E8EA4878D456AF74CC6A.nii.gz downloaded\n",
            "28/200: Zx3140C2C02EDB97CF7495E57512F57FA27B80CCA6A163B91A.nii.gz downloaded\n",
            "29/200: Zx2D76DB29AAD23477754A6C853E7D6917BE22266389693139.nii.gz downloaded\n",
            "30/200: Zx2FDB8744E9FC6EA59F3C32FC9F8CFF7C94D3379593055320.nii.gz downloaded\n",
            "31/200: Zx2E26A711E16137B7517C3B5748E84B807F967B69BEDDB9C6.nii.gz downloaded\n",
            "32/200: Zx326A6AF603902A18E97CDAAF17A261DA3FAB17666702B15B.nii.gz downloaded\n",
            "33/200: Zx328EF1C62C85DF79015B9A9018D3FDCC53BEA3F1711C1D82.nii.gz downloaded\n",
            "34/200: Zx328EF1C62C85DF79504039E3352CDB682C7F28F58ADAD093.nii.gz downloaded\n",
            "35/200: Zx34B443B478E3B00E19DF19CE2797FB9A3AE5169ABF55F387.nii.gz downloaded\n",
            "36/200: Zx32E1FB4E11BA19092F6CB3BDCA2C1A342B846CD990D12DB5.nii.gz downloaded\n",
            "37/200: Zx36871521E7690C7EB47E0B086054163CD08276241FB95857.nii.gz downloaded\n",
            "38/200: Zx36871521E7690C7E3AA2576BEE4AF54E5F4089FE39BEA81C.nii.gz downloaded\n",
            "39/200: Zx3662B675A48E317E52C7542D32A2DB1BBC0352C1EDAB368F.nii.gz downloaded\n",
            "40/200: Zx379A5F7814F0914AC2A577D0E6A1DAB8135D4B74CF2B3EEB.nii.gz downloaded\n",
            "41/200: Zx368BA8B514BD8B0144CF287FF1F4B01FAC6C5FE0BFEFEDE6.nii.gz downloaded\n",
            "42/200: Zx368E67F85BF969857FA5374541E87EA36E19120066C76067.nii.gz downloaded\n",
            "43/200: Zx3AB91ED4F2F9AA3B238DDC9EEE0BF3E122BE00BCE2D2CD99.nii.gz downloaded\n",
            "44/200: Zx3A5E7419657D564469836B830DBA881063FD52F656BFB5FE.nii.gz downloaded\n",
            "45/200: Zx3B29D889A4EF0EE3BB96E2E05F7242BC09F2C9A1219D39EE.nii.gz downloaded\n",
            "46/200: Zx3E9F250FDB4CDFDD119C47120154DD2C6F04365B6325F3DD.nii.gz downloaded\n",
            "47/200: Zx3E443FFD3162E0841D1B1867408C7E72C62DF2C248F33381.nii.gz downloaded\n",
            "48/200: Zx3FC388FF59A43E76DCBA3C47ABC0E803E488FA570BEDED99.nii.gz downloaded\n",
            "49/200: Zx414A94D38319FEB009EF2F13F4CCCF67D3B3D8AC4BDCE87E.nii.gz downloaded\n",
            "50/200: Zx44AD1A2E2930231F8A0F7BB197B1676E04B455B6297F02F9.nii.gz downloaded\n",
            "51/200: Zx46314067B5F762DDC67BCF0A3EF1AC783C03FE4A90CBABC5.nii.gz downloaded\n",
            "52/200: Zx48074DB9E0145933E2EED0A7E4EB0D3B0A9447A110736D8D.nii.gz downloaded\n",
            "53/200: Zx462D1C00BC85CEB1B498D610BEB4C815742BD99BF9D84B27.nii.gz downloaded\n",
            "54/200: Zx4BDAA35DBBA1FC9A5DBF7CE0974E45ACFDF5183C71F06DD3.nii.gz downloaded\n",
            "55/200: Zx4DEAB0155B0B49D713B6346DBE29F387512957A19E1C395F.nii.gz downloaded\n",
            "56/200: Zx4ED2135FF0A55C3D290B387F0B5E443E70DA94473B1169A6.nii.gz downloaded\n",
            "57/200: Zx4F54B6C5232290798B967948DE6D2D33CB2085006FD32EE9.nii.gz downloaded\n",
            "58/200: Zx4FEAB4F8AA64AA6F339F2CDBBF7F4A1D0FE208E6EE5E76E8.nii.gz downloaded\n",
            "59/200: Zx55B9557768622554D44DA0BE7934F01CB7B74FBA00FD7F55.nii.gz downloaded\n",
            "60/200: Zx52C5BF85821A07F02621F8A278EF38B09DDB517C9542A645.nii.gz downloaded\n",
            "61/200: Zx52BBC4E7ED7777892AB6E97DF4AD7334895A02CDC8314620.nii.gz downloaded\n",
            "62/200: Zx55393C140B1339C1BC5F7EE2C28DB481D9BC6ECF9EF814ED.nii.gz downloaded\n",
            "63/200: Zx561A0194BAFE437E42DC4174960114C23C4D0C91A4B3F0EE.nii.gz downloaded\n",
            "64/200: Zx577646F814CED80AB3D413794C12892EEB3B60D14B6215C6.nii.gz downloaded\n",
            "65/200: Zx5A55FB599A3CC3C556CC21378C817CAEE33BD3E09767B29F.nii.gz downloaded\n",
            "66/200: Zx59081DADCE950F832F9112744686936C70AB8F8B6065AFB8.nii.gz downloaded\n",
            "67/200: Zx5E17136591B2A37246BA311D014805D60D28A4B289CEE9D5.nii.gz downloaded\n",
            "68/200: Zx5FDF7405FE28DC2B7F05E89A4234A1D79A8254B310AB2622.nii.gz downloaded\n",
            "69/200: Zx5ED8A3BACE488CFAAA89822E730FA5F8002643EA164B4B6A.nii.gz downloaded\n",
            "70/200: Zx64D8ABDFA2E7D3055E2ED5D31C600500EC76D713C7BB60CE.nii.gz downloaded\n",
            "71/200: Zx61704E649960C4025BB3AA0B31C1A75C71442BF48DAC3E19.nii.gz downloaded\n",
            "72/200: Zx640054B03A4D99000CBF7B9EF10375F672E1AA38EF541280.nii.gz downloaded\n",
            "73/200: Zx61A82FD417A655FEF3CBDA74333F883F4C966F58FA8875C1.nii.gz downloaded\n",
            "74/200: Zx6A20D18C293857B202D0F932B1E918FE4FF89CF55E0A1741.nii.gz downloaded\n",
            "75/200: Zx660601FDDD18C5026CFAEB6F4F3CAC89508251B9585FCE08.nii.gz downloaded\n",
            "76/200: Zx6D019E3A69B0605FCE6D0FEFDBE35A8A885394AC5BDD7979.nii.gz downloaded\n",
            "77/200: Zx6CFEF464C113FCF5983B9E8586AD70C82296EB86BFC86DEF.nii.gz downloaded\n",
            "78/200: Zx6D019E3A69B0605FEDE60BE518EAE1E353541C5B72C893CE.nii.gz downloaded\n",
            "79/200: Zx7031F9BB97AE153DADE975962D6EA993DBD6740AE49A9536.nii.gz downloaded\n",
            "80/200: Zx760621E0AF1739CDC30E3925F0FE271EB515E4314C2926EE.nii.gz downloaded\n",
            "81/200: Zx72654315F137ACEAA7C4E715B2C02C79DE59D12727448238.nii.gz downloaded\n",
            "82/200: Zx7864EB3372794DF83DB16DE28BD8C7BE147782904DA1EA43.nii.gz downloaded\n",
            "83/200: Zx79810E662F875E2DCDC4A784D6D1729959C7BA82541D5F07.nii.gz downloaded\n",
            "84/200: Zx7A459FA5026054431B669EA98F76009E4AB2F1C298C78833.nii.gz downloaded\n",
            "85/200: Zx7D3427750776456FBFC0D290420EA1BB26620ABF358BB33C.nii.gz downloaded\n",
            "86/200: Zx7F411E894A937F74C087D521932763C8800CB193A14168A4.nii.gz downloaded\n",
            "87/200: Zx7D5AB573090376F74879594BF6B7810FF805022673B201F6.nii.gz downloaded\n",
            "88/200: Zx810EEE22A83CEDD08D733E023EF1858017C63E01468C3375.nii.gz downloaded\n",
            "89/200: Zx822B1193233F74F58E17D3EB9B97B6EEBBC498274C32B448.nii.gz downloaded\n",
            "90/200: Zx826F31C25810C6A92E6879FEAB8C6F0A9E5879FE5C0BCE54.nii.gz downloaded\n",
            "91/200: Zx835BE89BC06B937B44952AA9FFA51254C7B60F8FDDA36FC0.nii.gz downloaded\n",
            "92/200: Zx827790BC022017406F3E84D557007B408AFA1BFB53E0E7B7.nii.gz downloaded\n",
            "93/200: Zx84E867361F7643F909F9AD46A866344BD303DCB0B7422A43.nii.gz downloaded\n",
            "94/200: Zx84FAA59C32FC9035A9EADACBD1F04853861DA97718E616A0.nii.gz downloaded\n",
            "95/200: Zx851C7A3C539A11B40A6785E54176FC3F76040A4BAC40B927.nii.gz downloaded\n",
            "96/200: Zx856FBE2C71AFB86C6974EBD23B9878ED38822BCA17B456F0.nii.gz downloaded\n",
            "97/200: Zx86DF1F0CFB8C91DEBBFA15D1990C4F3612BF8E7368659AF4.nii.gz downloaded\n",
            "98/200: Zx85DBFD62B25C76EF9C2376E34C58F850DC14D0C665C55334.nii.gz downloaded\n",
            "99/200: Zx8772600856FB4699309D69D7B0EF5B44D47F1AE80B7ED96E.nii.gz downloaded\n",
            "100/200: Zx86F99E7E390C00CBFAEAEDC2A0020694B6FA82354ABACE5C.nii.gz downloaded\n",
            "101/200: Zx895AFA076D05047BBB1EA220348784720B7DAE22A24092D5.nii.gz downloaded\n",
            "102/200: Zx8D0A1B1F228ED6A8432C127F54D9C7EA84E700AB61F6DD1A.nii.gz downloaded\n",
            "103/200: Zx8B4DDDE2EF0F838CF94EE3E5A54F490DE1110936ECD0A58B.nii.gz downloaded\n",
            "104/200: Zx8B2FEAF57D149F9048595E14FA3078891FCA954ECDE95769.nii.gz downloaded\n",
            "105/200: Zx8B0832973576598673A6F003640D79CEB483C84607557929.nii.gz downloaded\n",
            "106/200: Zx8D496A0DDFCA968C5DC557BCFCEABA6692FBB444199083FD.nii.gz downloaded\n",
            "107/200: Zx8E3B91ED97D86D1072C6EA9220FD29DAFB96CD6BB8DC6850.nii.gz downloaded\n",
            "108/200: Zx959FD71EF77A62AEF1D80F3C0CAE8BD5F13286FE113791F4.nii.gz downloaded\n",
            "109/200: Zx8FA5381E33D4F284AC25A22E03C6A7BA8885155F9886648E.nii.gz downloaded\n",
            "110/200: Zx93EC2D1600D91567580248DC875B2DFEC706DD1038674F81.nii.gz downloaded\n",
            "111/200: Zx9C3E8837FD6AE59582C5B3B20ABF573D9A30A6899BB913B4.nii.gz downloaded\n",
            "112/200: Zx9C4D13B3283A0D247EB48FE50B18F5AB681D7EEDADC6BF08.nii.gz downloaded\n",
            "113/200: Zx9B15E2FF7223946D2A14BB147A9C3A5C24BBA915A161FB23.nii.gz downloaded\n",
            "114/200: Zx9E72763D18F9E5558F3DF5814A320D734857F2F4AA7DD9B2.nii.gz downloaded\n",
            "115/200: Zx9E10DB88FC4075E3A7AF9DFEB82AB49DEBB1D9A4F7C862B2.nii.gz downloaded\n",
            "116/200: Zx9C4D13B3283A0D24EB8014606E8846EAD2CB820DE4C67567.nii.gz downloaded\n",
            "117/200: Zx9C822BD0D1F6C87165C63371AE66D8879468E642C705000A.nii.gz downloaded\n",
            "118/200: ZxA7928107608AC56E5D6A089B9DEBF2583A47AE95DD4FB78F.nii.gz downloaded\n",
            "119/200: ZxA1ABBC6166B65AC2A7937A2159F61BA67D2DA16F3ED4D0FB.nii.gz downloaded\n",
            "120/200: ZxA77C7D446989AF14E4D6515139AC3F4E2071BB7CF943664F.nii.gz downloaded\n",
            "121/200: ZxAA57F4E78EA8967BE55B487212E949020905717B7BD45A6F.nii.gz downloaded\n",
            "122/200: ZxA8CBC73ECB3DE48C21A02D065EDE60841A43F4CDE41474E6.nii.gz downloaded\n",
            "123/200: ZxAA8B28FA1E8D06C188EE9C18DB8B266482E52379CB2F7B5B.nii.gz downloaded\n",
            "124/200: ZxAC7AF4D4AA9321200D55CFBA2EABBE92A7E8929F11E2F68D.nii.gz downloaded\n",
            "125/200: ZxABBAAF0EEA6CBA21DF39AFED984D906B7BD96982F6C06468.nii.gz downloaded\n",
            "126/200: ZxAB18B96AE76F63471C014832B1C113384A4D69696F2FD236.nii.gz downloaded\n",
            "127/200: ZxAC7AF4D4AA932120A68BFD69005A1703DA8A2033BB771129.nii.gz downloaded\n",
            "128/200: ZxAE3E837D9540D0A43FEEE80E0B043AAB3265CE56B285F842.nii.gz downloaded\n",
            "129/200: ZxAE2B6C5E94A75BE79DE5A69BB833DBADB427371CF1FAEA81.nii.gz downloaded\n",
            "130/200: ZxAC7AF4D4AA932120D6F7CFF7148CFEF0ACD6211715D2252B.nii.gz downloaded\n",
            "131/200: ZxB1E0F925241ED36712EE604AE4CE7557A39F4DFB88C99ADB.nii.gz downloaded\n",
            "132/200: ZxAEA8C5DDF7E396A8F82325EDE5CD22DC77292443081D45A4.nii.gz downloaded\n",
            "133/200: ZxB072D9EB3C28DC960D25FCDE121C2B12AC3A9003ECB9BA73.nii.gz downloaded\n",
            "134/200: ZxAE84E65DFAE5468A0E0476F8B943380CE6B004D338BBAA45.nii.gz downloaded\n",
            "135/200: ZxB7F4FBA41E566CE60E2832A4D9469B4E243287F8453C0FEC.nii.gz downloaded\n",
            "136/200: ZxB534085A5208F3E99AA30C9A94F50BE1C28BE8E70B57963D.nii.gz downloaded\n",
            "137/200: ZxBAB5670A04D4D41D52F63DAC2EC24A2A4A63507B496E57F3.nii.gz downloaded\n",
            "138/200: ZxBB04FC96C2A0271553C7183885E0469D73C9D57B3995840E.nii.gz downloaded\n",
            "139/200: ZxB8AC2E1E1828B3E4154C4F56DE452017213A2467DBE597A7.nii.gz downloaded\n",
            "140/200: ZxBD7EA944E5CE4F96C6C2DE27DA76AD6866D739A6BF08D651.nii.gz downloaded\n",
            "141/200: ZxBF002BC7F5AFD8F25C9E269D2500DD36732079B9702EFC8F.nii.gz downloaded\n",
            "142/200: ZxBD701431A8CE2FCBE17870735E9C7ABDEF32D58FA493E633.nii.gz downloaded\n",
            "143/200: ZxC049A25D75C5FC9B7261ECB00B16D05743D36782F8D868F2.nii.gz downloaded\n",
            "144/200: ZxC0BF045C0FF2C57FDDFF01992EEFB0239866E7B895606193.nii.gz downloaded\n",
            "145/200: ZxBF3FC363583711F537B0734C09EF0D0EC1822EF492C8BDD0.nii.gz downloaded\n",
            "146/200: ZxC38DBF9E5731EC4DB691765413E5D69788316A6F019A40A9.nii.gz downloaded\n",
            "147/200: ZxC3159DBA2C781D71F3793A251818B7E9B8798E60E914DA7D.nii.gz downloaded\n",
            "148/200: ZxC47F6DEB1B764D01C01D88E9523BE18C243BD50275F39C11.nii.gz downloaded\n",
            "149/200: ZxC823CFB8F488A6A02B8B88DF93C052ED1B441EE6F73FFF60.nii.gz downloaded\n",
            "150/200: ZxC77F423A0022CBFB1CEAFDEC68518B55EFEB963D13235BA7.nii.gz downloaded\n",
            "151/200: ZxC603C543C6AFBFCDBD7C4E19389893035928DA4FA999679C.nii.gz downloaded\n",
            "152/200: ZxCC42A7155619FA3760F34B3728552176A4CD129ABCB96913.nii.gz downloaded\n",
            "153/200: ZxCA41B3DD150137F93EE879006F0F1FB61973AC29872C8D80.nii.gz downloaded\n",
            "154/200: ZxCC42A7155619FA3703EAF742893B8B292D91D0D647A15B0A.nii.gz downloaded\n",
            "155/200: ZxC99A216B2CA9144722A9669539FFDFA69F5C56621346CBA1.nii.gz downloaded\n",
            "156/200: ZxCCAD69483E1ACED22A63E8F8200E21C24B4B4FADCF70E81B.nii.gz downloaded\n",
            "157/200: ZxCCB3EEF9389115B6F0ECCF3C05DB35F72DF7F4687E2CAAAE.nii.gz downloaded\n",
            "158/200: ZxCE42C31F5FC5F2B9EF2F36E7EB5B096F0C7F4F25E2AB0445.nii.gz downloaded\n",
            "159/200: ZxD4239CF33141275958AA9821650C17F95CB8DEFB66FC2819.nii.gz downloaded\n",
            "160/200: ZxD3CB0C4524F67A4D47F1690790F72DB31FECE3ECCB2B6B08.nii.gz downloaded\n",
            "161/200: ZxD3F478A29A3B53F594C4567283A5AC0B5C6BA5CB9BF0558E.nii.gz downloaded\n",
            "162/200: ZxD6C4F406BC86A11667A76E66676A79B78A83F5DE3219D466.nii.gz downloaded\n",
            "163/200: ZxDAADCC811EB06CD677BC2B725B5D2084623C2BF31273631E.nii.gz downloaded\n",
            "164/200: ZxD737ACF4FBC037DDCE79CC95AF6AB5830833237FDE328BB2.nii.gz downloaded\n",
            "165/200: ZxD728C29B1AB1174904572E02CBD0D1F14DFB3BDDEF751F76.nii.gz downloaded\n",
            "166/200: ZxDAADCC811EB06CD64F6CD95DA33D7FF99AF478AD17111F24.nii.gz downloaded\n",
            "167/200: ZxDAADCC811EB06CD6C671F66C50D2AEE8248E6E981702946C.nii.gz downloaded\n",
            "168/200: ZxDAECCFA7F3FE9FCE75E371DD91A51C94905CB84252BA61C1.nii.gz downloaded\n",
            "169/200: ZxDF24140F6D64020DCE6928DF659EF2DE52AD5E30917AEFC7.nii.gz downloaded\n",
            "170/200: ZxE083D32FF1E7514B2C885A8E1285EB3331934DB0C6A6DCF3.nii.gz downloaded\n",
            "171/200: ZxE0AE769C4E0DA3D095EF59A5158D7D0E0FB8881C1C87290D.nii.gz downloaded\n",
            "172/200: ZxE08294E802F8B2087DC270DC9B3AD7B04B736B85E3EF8203.nii.gz downloaded\n",
            "173/200: ZxE371E276426F15AAE1808E2EE266D836F56FE71105D84CDD.nii.gz downloaded\n",
            "174/200: ZxE1BDE57D85B29E6B1FF4B9DB4EE825804A67EF6AAB90BCCE.nii.gz downloaded\n",
            "175/200: ZxE5CBD5D7C3EBE3E942304BD4EB09A7A83E3BC794E9E33B83.nii.gz downloaded\n",
            "176/200: ZxE7E2340E9CF9166BA6232EE39329B72C09CBCC193F17F22F.nii.gz downloaded\n",
            "177/200: ZxE7E2340E9CF9166BA3E027E0C1D7FC58A90E1BE3552A780A.nii.gz downloaded\n",
            "178/200: ZxE7E2340E9CF9166B859C8DB0E01A1821AACFD7B6F7C8CC5E.nii.gz downloaded\n",
            "179/200: ZxE5D406C8012C9EBE0DC15746B084DF2A1F6045B4C552CDBD.nii.gz downloaded\n",
            "180/200: ZxEB847811235EA8F873A7C4C53779694E0E2473C003B04374.nii.gz downloaded\n",
            "181/200: ZxEACFC663D819866EDD952D746FCEA3AB7FBD9FC4C8AA43EF.nii.gz downloaded\n",
            "182/200: ZxED6AC7D7D100CB8233964BB488F306113CF2E5D580C44CB7.nii.gz downloaded\n",
            "183/200: ZxECD23E48A996137D78C3EC8056146FCDEDDF7F1299834684.nii.gz downloaded\n",
            "184/200: ZxECEBC097C0357F22D220854F3E699B1E6E47D05029D25C35.nii.gz downloaded\n",
            "185/200: ZxF2378B53C1470562C06AA771722B99673A4B3E08A476BCE2.nii.gz downloaded\n",
            "186/200: ZxF21344F244DC0BDA3B27BC9E2BB1E8468E51468BB125E264.nii.gz downloaded\n",
            "187/200: ZxF180C421408A751F52C2309203D70BA0774A28B4A3020E08.nii.gz downloaded\n",
            "188/200: ZxF3D2F7AC036135C8A369A42C6D803C3082F2B83D888E3B9F.nii.gz downloaded\n",
            "189/200: ZxF3EDCFF4D2AB58B7B3B86A31CCBC22EA51E0B2037419A274.nii.gz downloaded\n",
            "190/200: ZxF332A3871704C6676C1EEFAB7741BDCECE5920E14A3ABB64.nii.gz downloaded\n",
            "191/200: ZxF2BAE7BD1B43B020EF0AD7CA4582EA418EE8EC6353284FAE.nii.gz downloaded\n",
            "192/200: ZxF53C2950250724FAFCE85F4EA06C42230601FB1EF6FD2F5F.nii.gz downloaded\n",
            "193/200: ZxF6938B66955EC3D5CD0973DF5A2E10245E91AB67F1F7CA12.nii.gz downloaded\n",
            "194/200: ZxF5776D71E8D63B2ED23AE03D3AD3E3D608F64D3589C655F0.nii.gz downloaded\n",
            "195/200: ZxF4E35FFB8721136AAD8B4F59F2EABC53213E2397CC86AF45.nii.gz downloaded\n",
            "196/200: ZxF7D357AEE2A4BBBEFD63CD09EEFA4D04BD73982DD22D224B.nii.gz downloaded\n",
            "197/200: ZxF71ECCDB9E475A04D81ACE4A25F7238E1CE035DB3D219969.nii.gz downloaded\n",
            "198/200: ZxF9F4AF14D7B1EF7CC7C36C7350DA3F8C2ABAEF4156220EB5.nii.gz downloaded\n",
            "199/200: ZxFF51EAF10B09D34CAEEEA49B2A8310C1011E389C1AFE6C8B.nii.gz downloaded\n",
            "200/200: ZxFD1F717CFC351F53504AE27E08931AC4862A9E958889D91B.nii.gz downloaded\n"
          ]
        }
      ]
    },
    {
      "cell_type": "code",
      "source": [
        "images_test, info = read_test(testdir,termi=200,shift=0)"
      ],
      "metadata": {
        "id": "tL3mzD9qi-3a",
        "colab": {
          "base_uri": "https://localhost:8080/"
        },
        "outputId": "e715c85a-eb59-48f1-d031-b4a8e673bf79"
      },
      "execution_count": 56,
      "outputs": [
        {
          "output_type": "stream",
          "name": "stdout",
          "text": [
            "0: Read test Zx2982812805D4A3FA5078DB705FF20793142A1A712F5108B5 finished...\n",
            "1: Read test ZxC603C543C6AFBFCDBD7C4E19389893035928DA4FA999679C finished...\n",
            "2: Read test Zx3FC388FF59A43E76DCBA3C47ABC0E803E488FA570BEDED99 finished...\n",
            "3: Read test ZxA7928107608AC56E5D6A089B9DEBF2583A47AE95DD4FB78F finished...\n",
            "4: Read test ZxAE84E65DFAE5468A0E0476F8B943380CE6B004D338BBAA45 finished...\n",
            "5: Read test Zx7F411E894A937F74C087D521932763C8800CB193A14168A4 finished...\n",
            "6: Read test ZxD6C4F406BC86A11667A76E66676A79B78A83F5DE3219D466 finished...\n",
            "7: Read test Zx4F54B6C5232290798B967948DE6D2D33CB2085006FD32EE9 finished...\n",
            "8: Read test ZxDAADCC811EB06CD677BC2B725B5D2084623C2BF31273631E finished...\n",
            "9: Read test ZxC823CFB8F488A6A02B8B88DF93C052ED1B441EE6F73FFF60 finished...\n",
            "10: Read test ZxCC42A7155619FA3703EAF742893B8B292D91D0D647A15B0A finished...\n",
            "11: Read test ZxF6938B66955EC3D5CD0973DF5A2E10245E91AB67F1F7CA12 finished...\n",
            "12: Read test ZxAEA8C5DDF7E396A8F82325EDE5CD22DC77292443081D45A4 finished...\n",
            "13: Read test Zx5A55FB599A3CC3C556CC21378C817CAEE33BD3E09767B29F finished...\n",
            "14: Read test ZxF71ECCDB9E475A04D81ACE4A25F7238E1CE035DB3D219969 finished...\n",
            "15: Read test ZxE7E2340E9CF9166B859C8DB0E01A1821AACFD7B6F7C8CC5E finished...\n",
            "16: Read test ZxE083D32FF1E7514B2C885A8E1285EB3331934DB0C6A6DCF3 finished...\n",
            "17: Read test Zx760621E0AF1739CDC30E3925F0FE271EB515E4314C2926EE finished...\n",
            "18: Read test Zx36871521E7690C7E3AA2576BEE4AF54E5F4089FE39BEA81C finished...\n",
            "19: Read test ZxB8AC2E1E1828B3E4154C4F56DE452017213A2467DBE597A7 finished...\n",
            "20: Read test Zx827790BC022017406F3E84D557007B408AFA1BFB53E0E7B7 finished...\n",
            "21: Read test Zx326A6AF603902A18E97CDAAF17A261DA3FAB17666702B15B finished...\n",
            "22: Read test Zx7D3427750776456FBFC0D290420EA1BB26620ABF358BB33C finished...\n",
            "23: Read test Zx0FF377252BE891AC0DC9A1CABC405DA08650AFE8A28C9D04 finished...\n",
            "24: Read test Zx84FAA59C32FC9035A9EADACBD1F04853861DA97718E616A0 finished...\n",
            "25: Read test Zx3662B675A48E317E52C7542D32A2DB1BBC0352C1EDAB368F finished...\n",
            "26: Read test ZxECD23E48A996137D78C3EC8056146FCDEDDF7F1299834684 finished...\n",
            "27: Read test Zx93EC2D1600D91567580248DC875B2DFEC706DD1038674F81 finished...\n",
            "28: Read test ZxE7E2340E9CF9166BA6232EE39329B72C09CBCC193F17F22F finished...\n",
            "29: Read test ZxD728C29B1AB1174904572E02CBD0D1F14DFB3BDDEF751F76 finished...\n",
            "30: Read test Zx79810E662F875E2DCDC4A784D6D1729959C7BA82541D5F07 finished...\n",
            "31: Read test Zx55B9557768622554D44DA0BE7934F01CB7B74FBA00FD7F55 finished...\n",
            "32: Read test Zx1065B0DE07F9AF895D255A52750579EE21428FAB2E575FE3 finished...\n",
            "33: Read test ZxF7D357AEE2A4BBBEFD63CD09EEFA4D04BD73982DD22D224B finished...\n",
            "34: Read test Zx34B443B478E3B00E19DF19CE2797FB9A3AE5169ABF55F387 finished...\n",
            "35: Read test Zx0CFEAEA49D4E19D1DB3BAE1248C9AE42D815CA7B52CC9E76 finished...\n",
            "36: Read test Zx3E443FFD3162E0841D1B1867408C7E72C62DF2C248F33381 finished...\n",
            "37: Read test Zx5ED8A3BACE488CFAAA89822E730FA5F8002643EA164B4B6A finished...\n",
            "38: Read test Zx44AD1A2E2930231F8A0F7BB197B1676E04B455B6297F02F9 finished...\n",
            "39: Read test Zx48074DB9E0145933E2EED0A7E4EB0D3B0A9447A110736D8D finished...\n",
            "40: Read test Zx4ED2135FF0A55C3D290B387F0B5E443E70DA94473B1169A6 finished...\n",
            "41: Read test Zx2982812805D4A3FAF6386CE06C15E8EA4878D456AF74CC6A finished...\n",
            "42: Read test Zx256A9E945D19FB28335E22C805EC9CDC4F4E23A7B3871D4F finished...\n",
            "43: Read test Zx0D0A3D4D2C6DF934AF9D016A5B8923F6BF5746DA99CA00D6 finished...\n",
            "44: Read test ZxE08294E802F8B2087DC270DC9B3AD7B04B736B85E3EF8203 finished...\n",
            "45: Read test ZxB534085A5208F3E99AA30C9A94F50BE1C28BE8E70B57963D finished...\n",
            "46: Read test ZxAA8B28FA1E8D06C188EE9C18DB8B266482E52379CB2F7B5B finished...\n",
            "47: Read test Zx1146D4F02782E6D5015CDEB8FB751D6C7BB7E6471FC5FBFF finished...\n",
            "48: Read test Zx212DBD941DEC06E9E3BF9D108811FA07B37CC848C4D10968 finished...\n",
            "49: Read test Zx8E3B91ED97D86D1072C6EA9220FD29DAFB96CD6BB8DC6850 finished...\n",
            "50: Read test Zx0D7F914BAEC987017F3C179833AAFC697C1DA5A8F6CB6F16 finished...\n",
            "51: Read test ZxBAB5670A04D4D41D52F63DAC2EC24A2A4A63507B496E57F3 finished...\n",
            "52: Read test Zx27F7969620CB7F945A322CD82C1A20F4424F070945ECE5A5 finished...\n",
            "53: Read test ZxE5D406C8012C9EBE0DC15746B084DF2A1F6045B4C552CDBD finished...\n",
            "54: Read test ZxFF51EAF10B09D34CAEEEA49B2A8310C1011E389C1AFE6C8B finished...\n",
            "55: Read test Zx61A82FD417A655FEF3CBDA74333F883F4C966F58FA8875C1 finished...\n",
            "56: Read test ZxDAECCFA7F3FE9FCE75E371DD91A51C94905CB84252BA61C1 finished...\n",
            "57: Read test Zx5FDF7405FE28DC2B7F05E89A4234A1D79A8254B310AB2622 finished...\n",
            "58: Read test Zx328EF1C62C85DF79015B9A9018D3FDCC53BEA3F1711C1D82 finished...\n",
            "59: Read test ZxAC7AF4D4AA932120A68BFD69005A1703DA8A2033BB771129 finished...\n",
            "60: Read test ZxF21344F244DC0BDA3B27BC9E2BB1E8468E51468BB125E264 finished...\n",
            "61: Read test Zx9E10DB88FC4075E3A7AF9DFEB82AB49DEBB1D9A4F7C862B2 finished...\n",
            "62: Read test ZxDAADCC811EB06CD6C671F66C50D2AEE8248E6E981702946C finished...\n",
            "63: Read test ZxB072D9EB3C28DC960D25FCDE121C2B12AC3A9003ECB9BA73 finished...\n",
            "64: Read test Zx46314067B5F762DDC67BCF0A3EF1AC783C03FE4A90CBABC5 finished...\n",
            "65: Read test Zx3140C2C02EDB97CF7495E57512F57FA27B80CCA6A163B91A finished...\n",
            "66: Read test ZxCCAD69483E1ACED22A63E8F8200E21C24B4B4FADCF70E81B finished...\n",
            "67: Read test ZxEACFC663D819866EDD952D746FCEA3AB7FBD9FC4C8AA43EF finished...\n",
            "68: Read test ZxAC7AF4D4AA932120D6F7CFF7148CFEF0ACD6211715D2252B finished...\n",
            "69: Read test Zx61704E649960C4025BB3AA0B31C1A75C71442BF48DAC3E19 finished...\n",
            "70: Read test Zx3A5E7419657D564469836B830DBA881063FD52F656BFB5FE finished...\n",
            "71: Read test ZxEB847811235EA8F873A7C4C53779694E0E2473C003B04374 finished...\n",
            "72: Read test ZxBD7EA944E5CE4F96C6C2DE27DA76AD6866D739A6BF08D651 finished...\n",
            "73: Read test Zx32E1FB4E11BA19092F6CB3BDCA2C1A342B846CD990D12DB5 finished...\n",
            "74: Read test Zx2D76DB29AAD23477754A6C853E7D6917BE22266389693139 finished...\n",
            "75: Read test ZxF3EDCFF4D2AB58B7B3B86A31CCBC22EA51E0B2037419A274 finished...\n",
            "76: Read test ZxF53C2950250724FAFCE85F4EA06C42230601FB1EF6FD2F5F finished...\n",
            "77: Read test ZxECEBC097C0357F22D220854F3E699B1E6E47D05029D25C35 finished...\n",
            "78: Read test ZxE7E2340E9CF9166BA3E027E0C1D7FC58A90E1BE3552A780A finished...\n",
            "79: Read test Zx3AB91ED4F2F9AA3B238DDC9EEE0BF3E122BE00BCE2D2CD99 finished...\n",
            "80: Read test Zx1A017ECAEE14A219D0A3E97E6CCF962DC599F00C30EAEE01 finished...\n",
            "81: Read test Zx9B15E2FF7223946D2A14BB147A9C3A5C24BBA915A161FB23 finished...\n",
            "82: Read test ZxCA41B3DD150137F93EE879006F0F1FB61973AC29872C8D80 finished...\n",
            "83: Read test Zx640054B03A4D99000CBF7B9EF10375F672E1AA38EF541280 finished...\n",
            "84: Read test ZxAB18B96AE76F63471C014832B1C113384A4D69696F2FD236 finished...\n",
            "85: Read test Zx835BE89BC06B937B44952AA9FFA51254C7B60F8FDDA36FC0 finished...\n",
            "86: Read test Zx826F31C25810C6A92E6879FEAB8C6F0A9E5879FE5C0BCE54 finished...\n",
            "87: Read test Zx11624B7B7AEBCF0FAFD0B992BC272C41C953A7703E56E6DA finished...\n",
            "88: Read test Zx8B4DDDE2EF0F838CF94EE3E5A54F490DE1110936ECD0A58B finished...\n",
            "89: Read test Zx19171CE8121BE20876FC7F1BDB6C0153CEC9A2BCEF2C9EB9 finished...\n",
            "90: Read test Zx379A5F7814F0914AC2A577D0E6A1DAB8135D4B74CF2B3EEB finished...\n",
            "91: Read test Zx9C4D13B3283A0D24EB8014606E8846EAD2CB820DE4C67567 finished...\n",
            "92: Read test ZxBF002BC7F5AFD8F25C9E269D2500DD36732079B9702EFC8F finished...\n",
            "93: Read test Zx1BE880E938C82FBD4C04159D47738D8E78875219BE6D7D6B finished...\n",
            "94: Read test ZxF4E35FFB8721136AAD8B4F59F2EABC53213E2397CC86AF45 finished...\n",
            "95: Read test ZxE5CBD5D7C3EBE3E942304BD4EB09A7A83E3BC794E9E33B83 finished...\n",
            "96: Read test ZxE371E276426F15AAE1808E2EE266D836F56FE71105D84CDD finished...\n",
            "97: Read test ZxBB04FC96C2A0271553C7183885E0469D73C9D57B3995840E finished...\n",
            "98: Read test ZxB7F4FBA41E566CE60E2832A4D9469B4E243287F8453C0FEC finished...\n",
            "99: Read test Zx15FB4DF1D36A7B4AE59373BDA3B21394428E0F28E09A68CC finished...\n",
            "100: Read test Zx414A94D38319FEB009EF2F13F4CCCF67D3B3D8AC4BDCE87E finished...\n",
            "101: Read test ZxED6AC7D7D100CB8233964BB488F306113CF2E5D580C44CB7 finished...\n",
            "102: Read test ZxF5776D71E8D63B2ED23AE03D3AD3E3D608F64D3589C655F0 finished...\n",
            "103: Read test Zx8772600856FB4699309D69D7B0EF5B44D47F1AE80B7ED96E finished...\n",
            "104: Read test Zx9C822BD0D1F6C87165C63371AE66D8879468E642C705000A finished...\n",
            "105: Read test Zx0B26523F097982195CAE5A8EC2674CE36E15988A529317CD finished...\n",
            "106: Read test ZxDF24140F6D64020DCE6928DF659EF2DE52AD5E30917AEFC7 finished...\n",
            "107: Read test ZxC049A25D75C5FC9B7261ECB00B16D05743D36782F8D868F2 finished...\n",
            "108: Read test Zx36871521E7690C7EB47E0B086054163CD08276241FB95857 finished...\n",
            "109: Read test ZxCCB3EEF9389115B6F0ECCF3C05DB35F72DF7F4687E2CAAAE finished...\n",
            "110: Read test ZxF2378B53C1470562C06AA771722B99673A4B3E08A476BCE2 finished...\n",
            "111: Read test ZxF3D2F7AC036135C8A369A42C6D803C3082F2B83D888E3B9F finished...\n",
            "112: Read test Zx6D019E3A69B0605FCE6D0FEFDBE35A8A885394AC5BDD7979 finished...\n",
            "113: Read test ZxF332A3871704C6676C1EEFAB7741BDCECE5920E14A3ABB64 finished...\n",
            "114: Read test ZxC99A216B2CA9144722A9669539FFDFA69F5C56621346CBA1 finished...\n",
            "115: Read test Zx5E17136591B2A37246BA311D014805D60D28A4B289CEE9D5 finished...\n",
            "116: Read test Zx9C4D13B3283A0D247EB48FE50B18F5AB681D7EEDADC6BF08 finished...\n",
            "117: Read test ZxAE3E837D9540D0A43FEEE80E0B043AAB3265CE56B285F842 finished...\n",
            "118: Read test ZxA8CBC73ECB3DE48C21A02D065EDE60841A43F4CDE41474E6 finished...\n",
            "119: Read test Zx810EEE22A83CEDD08D733E023EF1858017C63E01468C3375 finished...\n",
            "120: Read test Zx462D1C00BC85CEB1B498D610BEB4C815742BD99BF9D84B27 finished...\n",
            "121: Read test Zx368BA8B514BD8B0144CF287FF1F4B01FAC6C5FE0BFEFEDE6 finished...\n",
            "122: Read test ZxF180C421408A751F52C2309203D70BA0774A28B4A3020E08 finished...\n",
            "123: Read test ZxABBAAF0EEA6CBA21DF39AFED984D906B7BD96982F6C06468 finished...\n",
            "124: Read test Zx2FDB8744E9FC6EA59F3C32FC9F8CFF7C94D3379593055320 finished...\n",
            "125: Read test ZxC47F6DEB1B764D01C01D88E9523BE18C243BD50275F39C11 finished...\n",
            "126: Read test ZxC0BF045C0FF2C57FDDFF01992EEFB0239866E7B895606193 finished...\n",
            "127: Read test Zx959FD71EF77A62AEF1D80F3C0CAE8BD5F13286FE113791F4 finished...\n",
            "128: Read test Zx00FE1B9A88E88C71917ECC1EDD774252C072CA5FDB12C01B finished...\n",
            "129: Read test Zx8FA5381E33D4F284AC25A22E03C6A7BA8885155F9886648E finished...\n",
            "130: Read test Zx895AFA076D05047BBB1EA220348784720B7DAE22A24092D5 finished...\n",
            "131: Read test ZxBD701431A8CE2FCBE17870735E9C7ABDEF32D58FA493E633 finished...\n",
            "132: Read test Zx3E9F250FDB4CDFDD119C47120154DD2C6F04365B6325F3DD finished...\n",
            "133: Read test Zx9C3E8837FD6AE59582C5B3B20ABF573D9A30A6899BB913B4 finished...\n",
            "134: Read test Zx4DEAB0155B0B49D713B6346DBE29F387512957A19E1C395F finished...\n",
            "135: Read test Zx8B0832973576598673A6F003640D79CEB483C84607557929 finished...\n",
            "136: Read test Zx7A459FA5026054431B669EA98F76009E4AB2F1C298C78833 finished...\n",
            "137: Read test Zx86DF1F0CFB8C91DEBBFA15D1990C4F3612BF8E7368659AF4 finished...\n",
            "138: Read test Zx55393C140B1339C1BC5F7EE2C28DB481D9BC6ECF9EF814ED finished...\n",
            "139: Read test Zx8B2FEAF57D149F9048595E14FA3078891FCA954ECDE95769 finished...\n",
            "140: Read test ZxDAADCC811EB06CD64F6CD95DA33D7FF99AF478AD17111F24 finished...\n",
            "141: Read test ZxA1ABBC6166B65AC2A7937A2159F61BA67D2DA16F3ED4D0FB finished...\n",
            "142: Read test Zx52C5BF85821A07F02621F8A278EF38B09DDB517C9542A645 finished...\n",
            "143: Read test Zx6D019E3A69B0605FEDE60BE518EAE1E353541C5B72C893CE finished...\n",
            "144: Read test Zx86F99E7E390C00CBFAEAEDC2A0020694B6FA82354ABACE5C finished...\n",
            "145: Read test ZxD737ACF4FBC037DDCE79CC95AF6AB5830833237FDE328BB2 finished...\n",
            "146: Read test ZxE1BDE57D85B29E6B1FF4B9DB4EE825804A67EF6AAB90BCCE finished...\n",
            "147: Read test Zx21F1648A3334CE363E4D72ED92F795868BC52F94D1DA5F0F finished...\n",
            "148: Read test Zx2E26A711E16137B7517C3B5748E84B807F967B69BEDDB9C6 finished...\n",
            "149: Read test ZxF9F4AF14D7B1EF7CC7C36C7350DA3F8C2ABAEF4156220EB5 finished...\n",
            "150: Read test Zx01948F47276376729E6CD0FC35E175861DDDE016E73A6F61 finished...\n",
            "151: Read test Zx9E72763D18F9E5558F3DF5814A320D734857F2F4AA7DD9B2 finished...\n",
            "152: Read test Zx328EF1C62C85DF79504039E3352CDB682C7F28F58ADAD093 finished...\n",
            "153: Read test Zx577646F814CED80AB3D413794C12892EEB3B60D14B6215C6 finished...\n",
            "154: Read test Zx16043EED6C38D1B0045FDC752A66A80E336E352A945ED37F finished...\n",
            "155: Read test Zx05B14FDAD8DE03B10E1C560619C12C542747E39A00BC1943 finished...\n",
            "156: Read test ZxCE42C31F5FC5F2B9EF2F36E7EB5B096F0C7F4F25E2AB0445 finished...\n",
            "157: Read test ZxBF3FC363583711F537B0734C09EF0D0EC1822EF492C8BDD0 finished...\n",
            "158: Read test ZxAA57F4E78EA8967BE55B487212E949020905717B7BD45A6F finished...\n",
            "159: Read test ZxD3F478A29A3B53F594C4567283A5AC0B5C6BA5CB9BF0558E finished...\n",
            "160: Read test ZxCC42A7155619FA3760F34B3728552176A4CD129ABCB96913 finished...\n",
            "161: Read test ZxC38DBF9E5731EC4DB691765413E5D69788316A6F019A40A9 finished...\n",
            "162: Read test Zx4FEAB4F8AA64AA6F339F2CDBBF7F4A1D0FE208E6EE5E76E8 finished...\n",
            "163: Read test Zx59081DADCE950F832F9112744686936C70AB8F8B6065AFB8 finished...\n",
            "164: Read test Zx660601FDDD18C5026CFAEB6F4F3CAC89508251B9585FCE08 finished...\n",
            "165: Read test Zx7031F9BB97AE153DADE975962D6EA993DBD6740AE49A9536 finished...\n",
            "166: Read test Zx210EA4E4E64FD80F7A268A48B2C266E51AD4313EDBF3C427 finished...\n",
            "167: Read test Zx291FD6850838B6434EDE060CF2F2F05E904D018C0B6C1745 finished...\n",
            "168: Read test ZxB1E0F925241ED36712EE604AE4CE7557A39F4DFB88C99ADB finished...\n",
            "169: Read test Zx64D8ABDFA2E7D3055E2ED5D31C600500EC76D713C7BB60CE finished...\n",
            "170: Read test Zx856FBE2C71AFB86C6974EBD23B9878ED38822BCA17B456F0 finished...\n",
            "171: Read test Zx851C7A3C539A11B40A6785E54176FC3F76040A4BAC40B927 finished...\n",
            "172: Read test Zx4BDAA35DBBA1FC9A5DBF7CE0974E45ACFDF5183C71F06DD3 finished...\n",
            "173: Read test ZxD3CB0C4524F67A4D47F1690790F72DB31FECE3ECCB2B6B08 finished...\n",
            "174: Read test Zx06170DED67884FED8E4A2B173346E1A698644BB8D971FFCB finished...\n",
            "175: Read test Zx05D5C78127C46803A2A09A76E03ED07405D28012A0536000 finished...\n",
            "176: Read test Zx85DBFD62B25C76EF9C2376E34C58F850DC14D0C665C55334 finished...\n",
            "177: Read test Zx7D5AB573090376F74879594BF6B7810FF805022673B201F6 finished...\n",
            "178: Read test Zx368E67F85BF969857FA5374541E87EA36E19120066C76067 finished...\n",
            "179: Read test ZxC77F423A0022CBFB1CEAFDEC68518B55EFEB963D13235BA7 finished...\n",
            "180: Read test Zx84E867361F7643F909F9AD46A866344BD303DCB0B7422A43 finished...\n",
            "181: Read test ZxF2BAE7BD1B43B020EF0AD7CA4582EA418EE8EC6353284FAE finished...\n",
            "182: Read test Zx8D0A1B1F228ED6A8432C127F54D9C7EA84E700AB61F6DD1A finished...\n",
            "183: Read test ZxAC7AF4D4AA9321200D55CFBA2EABBE92A7E8929F11E2F68D finished...\n",
            "184: Read test ZxE0AE769C4E0DA3D095EF59A5158D7D0E0FB8881C1C87290D finished...\n",
            "185: Read test ZxC3159DBA2C781D71F3793A251818B7E9B8798E60E914DA7D finished...\n",
            "186: Read test Zx72654315F137ACEAA7C4E715B2C02C79DE59D12727448238 finished...\n",
            "187: Read test Zx6A20D18C293857B202D0F932B1E918FE4FF89CF55E0A1741 finished...\n",
            "188: Read test Zx8D496A0DDFCA968C5DC557BCFCEABA6692FBB444199083FD finished...\n",
            "189: Read test ZxAE2B6C5E94A75BE79DE5A69BB833DBADB427371CF1FAEA81 finished...\n",
            "190: Read test Zx7864EB3372794DF83DB16DE28BD8C7BE147782904DA1EA43 finished...\n",
            "191: Read test Zx52BBC4E7ED7777892AB6E97DF4AD7334895A02CDC8314620 finished...\n",
            "192: Read test ZxA77C7D446989AF14E4D6515139AC3F4E2071BB7CF943664F finished...\n",
            "193: Read test Zx3B29D889A4EF0EE3BB96E2E05F7242BC09F2C9A1219D39EE finished...\n",
            "194: Read test ZxD4239CF33141275958AA9821650C17F95CB8DEFB66FC2819 finished...\n",
            "195: Read test Zx822B1193233F74F58E17D3EB9B97B6EEBBC498274C32B448 finished...\n",
            "196: Read test Zx561A0194BAFE437E42DC4174960114C23C4D0C91A4B3F0EE finished...\n",
            "197: Read test ZxFD1F717CFC351F53504AE27E08931AC4862A9E958889D91B finished...\n",
            "198: Read test Zx0E3C20D9BB248666F8C1605B9A9D726237A5626AD91AF5DF finished...\n",
            "199: Read test Zx6CFEF464C113FCF5983B9E8586AD70C82296EB86BFC86DEF finished...\n",
            "read 200 scans\n"
          ]
        }
      ]
    },
    {
      "cell_type": "code",
      "source": [
        "images_test.shape"
      ],
      "metadata": {
        "colab": {
          "base_uri": "https://localhost:8080/"
        },
        "id": "fK-YaPTk98bu",
        "outputId": "c7ac684c-c442-46a4-fbd4-fc417e9f6913"
      },
      "execution_count": 57,
      "outputs": [
        {
          "output_type": "execute_result",
          "data": {
            "text/plain": [
              "torch.Size([12000, 1, 256, 256])"
            ]
          },
          "metadata": {},
          "execution_count": 57
        }
      ]
    },
    {
      "cell_type": "code",
      "source": [
        "%reset_selective images_test"
      ],
      "metadata": {
        "colab": {
          "base_uri": "https://localhost:8080/"
        },
        "id": "9y-GcsSABdgu",
        "outputId": "72139de0-006a-4352-acba-f7cc81a60225"
      },
      "execution_count": 71,
      "outputs": [
        {
          "name": "stdout",
          "output_type": "stream",
          "text": [
            "Once deleted, variables cannot be recovered. Proceed (y/[n])?  y\n"
          ]
        }
      ]
    },
    {
      "cell_type": "code",
      "source": [
        "try:\n",
        "  batch_size = params['batch_size']\n",
        "except:\n",
        "  batch_size = int(input(\"batch_size:\"))\n",
        "print(batch_size)\n",
        "\n",
        "dataset = CustomDataset(images_test, None, mode='test')\n",
        "dataloader = DataLoader(dataset, batch_size=batch_size, shuffle=False)\n"
      ],
      "metadata": {
        "id": "khCyQWK7d4G7",
        "colab": {
          "base_uri": "https://localhost:8080/"
        },
        "outputId": "b44785fb-59e2-497d-fa95-772c225005ac"
      },
      "execution_count": 58,
      "outputs": [
        {
          "output_type": "stream",
          "name": "stdout",
          "text": [
            "16\n"
          ]
        }
      ]
    },
    {
      "cell_type": "code",
      "source": [
        "model.eval()\n",
        "\n",
        "predict_list = torch.tensor([]).to(device)\n",
        "with torch.no_grad():  # 不更新梯度\n",
        "    for j, batch_images in enumerate(dataloader):\n",
        "        batch_images = batch_images.to(device)\n",
        "        outputs = model(batch_images)\n",
        "        predicted = (outputs.squeeze() > 0.5).int()\n",
        "\n",
        "        # if predicted.dim() == 0:\n",
        "        #   predicted = predicted.unsqueeze(0)\n",
        "        predict_list = torch.cat((predict_list,predicted),0)\n",
        "\n",
        "\n",
        "predict_listq = predict_list.cpu()"
      ],
      "metadata": {
        "id": "N-IzPXwRcrxE"
      },
      "execution_count": 59,
      "outputs": []
    },
    {
      "cell_type": "code",
      "source": [
        "predict_listq.sum()"
      ],
      "metadata": {
        "colab": {
          "base_uri": "https://localhost:8080/"
        },
        "id": "nzT97RCx9NxP",
        "outputId": "9680b2de-e979-43d5-d873-401f16f280c9"
      },
      "execution_count": 60,
      "outputs": [
        {
          "output_type": "execute_result",
          "data": {
            "text/plain": [
              "tensor(977.)"
            ]
          },
          "metadata": {},
          "execution_count": 60
        }
      ]
    },
    {
      "cell_type": "markdown",
      "metadata": {
        "id": "ml59tSf2QXty"
      },
      "source": [
        "# 輸出至submission.csv"
      ]
    },
    {
      "cell_type": "markdown",
      "source": [
        "訓練過程不改變資料順序, 所以輸出順序同輸入.   \n",
        "predict值跟隨images順序, 照著info把每個predict值(label)與檔名(id)對上. 輸出成提交格式"
      ],
      "metadata": {
        "id": "4teg7YRZj9Vq"
      }
    },
    {
      "cell_type": "code",
      "source": [
        "def cont(l):\n",
        "  \"1是否連續\"\n",
        "  f1 = False\n",
        "  f2 = False\n",
        "  for i in range(len(l)):\n",
        "    if (l[i] == 1):\n",
        "      f1 = True\n",
        "    if (l[i] == 0):\n",
        "      if (f1):\n",
        "        f2 = True\n",
        "    if (l[i] == 1) and f2:\n",
        "      return False\n",
        "  return True\n",
        "\n",
        "def yes(predict):\n",
        "  return int(sum(predict) >= 3)\n",
        "\n",
        "\n",
        "\n",
        "predict_list = predict_listq.numpy()\n",
        "\n",
        "## 還原id與對應label，假設key按照scan輸入順序排列,每個key對應的scan的cuts數是nslice\n",
        "output = {}\n",
        "k = 0  #第幾個scan\n",
        "ii = 0   #每個key輪到第幾個\n",
        "id, nslice = info[k][0], info[k][1]\n",
        "for i in range(len(predict_list)):\n",
        "\n",
        "  if (ii >= nslice):\n",
        "    #該換下一個scan了\n",
        "    output[id] = yes(predict_list[i-nslice:i]) #評估方式\n",
        "\n",
        "    k += 1\n",
        "    ii = 0\n",
        "    id, nslice = info[k][0], info[k][1]\n",
        "\n",
        "  label = predict_list[i]\n",
        "  output[id+f'_{ii}'] = int(predict_list[i])\n",
        "  ii += 1\n",
        "\n",
        "output[id] = yes(predict_list[(i+1)-ii:]) #補上最後一個scan評估\n",
        "# import pdb\n",
        "# pdb.set_trace()\n",
        "output = list(output.items())\n",
        "dfout = pd.DataFrame(output)\n",
        "dfout.columns = ['id', 'label']\n",
        "dfout = dfout.sort_values(by='id', key=lambda x: x.map(custom_sort_key))\n",
        "filename = input(\"輸入提交路徑(default for submission)\")\n",
        "if filename == '':\n",
        "  filename = 'submission'\n",
        "dfout.to_csv(f\"{filename}\"+'.csv', index=False)"
      ],
      "metadata": {
        "id": "eGcPvyce5uDJ",
        "colab": {
          "base_uri": "https://localhost:8080/"
        },
        "outputId": "10eb0d23-6016-439f-a6cd-afc1b0b1a550"
      },
      "execution_count": 61,
      "outputs": [
        {
          "name": "stdout",
          "output_type": "stream",
          "text": [
            "輸入提交路徑(default for submission)/content/drive/MyDrive/AOCR2024/params/dropFalse0.8/cropped\n"
          ]
        }
      ]
    },
    {
      "cell_type": "code",
      "source": [
        "info"
      ],
      "metadata": {
        "id": "T2eaN23dXgfm"
      },
      "execution_count": null,
      "outputs": []
    },
    {
      "cell_type": "code",
      "execution_count": null,
      "metadata": {
        "id": "lhDYVsGNxVTZ"
      },
      "outputs": [],
      "source": [
        "dfout"
      ]
    },
    {
      "cell_type": "markdown",
      "source": [
        "# 查看submission.csv"
      ],
      "metadata": {
        "id": "wKe-NfBAeN8i"
      }
    },
    {
      "cell_type": "code",
      "source": [
        "!pwd"
      ],
      "metadata": {
        "id": "lC6LJpkZr4xC"
      },
      "execution_count": null,
      "outputs": []
    },
    {
      "cell_type": "code",
      "source": [
        "dftest = read_submission('fisrt_80.csv')\n",
        "# dftest = read_submission('submission.csv')\n",
        "dflabel = read_label(\"TrainValid_ground_truth.csv\")"
      ],
      "metadata": {
        "id": "oDM_yM-5bdCT"
      },
      "execution_count": null,
      "outputs": []
    },
    {
      "cell_type": "code",
      "source": [
        "len(dftest)"
      ],
      "metadata": {
        "id": "fRSaPgTBnbE2"
      },
      "execution_count": null,
      "outputs": []
    },
    {
      "cell_type": "code",
      "source": [
        "import re\n",
        "\n",
        "\n",
        "# 抓出scan-level data\n",
        "pattern = re.compile(r'.*_[0-9]+$')  # 正則表達式匹配 \"_數字\" 結尾\n",
        "mask = ~dftest.index.str.match(pattern)\n",
        "scan_guess = np.array(dftest[mask]['label'])\n",
        "scan_truth = np.array(dflabel.loc[dftest[mask]['label'].index]['label'])\n",
        "\n",
        "mask = ~mask\n",
        "cut_guess = np.array(dftest[mask]['label'])\n",
        "cut_truth = np.array(dflabel.loc[dftest[mask]['label'].index]['label'])"
      ],
      "metadata": {
        "id": "BD1NfxWTb2iL"
      },
      "execution_count": null,
      "outputs": []
    },
    {
      "cell_type": "code",
      "source": [
        "ss = 10\n",
        "print(\"=\"*ss + \"F1 score on scan level\" + \"=\"*ss)\n",
        "print_results(scan_guess, scan_truth)\n",
        "print(),print()\n",
        "print(\"=\"*ss + \"F1 score on cut level\" +\"=\"*ss )\n",
        "print_results(cut_guess, cut_truth)"
      ],
      "metadata": {
        "id": "fyMlAtUWuW8Y"
      },
      "execution_count": null,
      "outputs": []
    },
    {
      "cell_type": "markdown",
      "source": [
        "# 其他指令\n",
        "不在工作流\n",
        "當參考"
      ],
      "metadata": {
        "id": "FG2tqJ1kMhzt"
      }
    },
    {
      "cell_type": "code",
      "source": [
        "import time\n",
        "datadir = 'Train_Valid_Image'\n",
        "for idx, afile in enumerate(os.listdir(datadir)):\n",
        "  file_path = os.path.join(datadir, afile)\n",
        "  time.sleep(1)\n",
        "  nii_file =  nib.load(file_path)\n",
        "  print(f\"{idx}: read {afile}\")"
      ],
      "metadata": {
        "id": "eazF7afOHa8l"
      },
      "execution_count": null,
      "outputs": []
    },
    {
      "cell_type": "code",
      "source": [
        "pattern = re.compile(r'.*_[0-9]+$')  # 正則表達式匹配 \"_數字\" 結尾\n",
        "mask = dftest.index.to_series().str.match(pattern)\n",
        "dflabel_ = dftest[mask]\n",
        "dflabel_.index.map(lambda x : x.split('_')[1]).sort_values()[-3:]"
      ],
      "metadata": {
        "id": "lEForON9S9qE"
      },
      "execution_count": null,
      "outputs": []
    },
    {
      "cell_type": "code",
      "source": [
        "import random\n",
        "\n",
        "# 假設這是您的列表\n",
        "my_list = np.array([1, 2, 3, 4])\n",
        "\n",
        "mask = [True, False, False, True]\n",
        "my_list[mask]"
      ],
      "metadata": {
        "id": "37C0pWRQTCyU"
      },
      "execution_count": null,
      "outputs": []
    },
    {
      "cell_type": "code",
      "source": [
        "datadir =\"TrainValid_Image/train_data\"\n",
        "labelpath = 'TrainValid_ground_truth.csv'\n",
        "labels_ = read_label(labelpath)\n",
        "\n",
        "\n",
        "filelist = os.listdir(datadir)\n",
        "filelist = filelist[10:20]\n",
        "selecteds = [labels_.loc[labels_.index.str.startswith(afile.strip('.nii')+'_')] for afile in filelist]\n",
        "scans_info = []\n",
        "# preallocated\n",
        "print(\"enter\")\n",
        "numcuts = [len(selected) for selected in selecteds]\n",
        "numcut = sum(numcuts)"
      ],
      "metadata": {
        "id": "el4YgUCT6LgR"
      },
      "execution_count": null,
      "outputs": []
    },
    {
      "cell_type": "code",
      "source": [
        "numcuts = [len(selected) for selected in selecteds]"
      ],
      "metadata": {
        "id": "TBvrMIwo6nhH"
      },
      "execution_count": null,
      "outputs": []
    },
    {
      "cell_type": "code",
      "source": [
        "img = nib.load('Train_Valid_Image/Zx00AD16F8B97A53DE6E7CFE260BDF122F0E655659A3DF1628.nii.gz')\n"
      ],
      "metadata": {
        "id": "E9rP7qJsIFZx"
      },
      "execution_count": null,
      "outputs": []
    },
    {
      "cell_type": "code",
      "source": [
        "drive.flush_and_unmount()"
      ],
      "metadata": {
        "id": "RFBfoC3iMo1T"
      },
      "execution_count": null,
      "outputs": []
    },
    {
      "cell_type": "code",
      "source": [
        "t1 = torch.randint(3,(5,1,2,2))\n",
        "lab = torch.tensor([1,1,1,1,1])\n",
        "t1"
      ],
      "metadata": {
        "id": "v3E6Q2z4R6-S"
      },
      "execution_count": null,
      "outputs": []
    },
    {
      "cell_type": "code",
      "source": [
        "remove_positive_images(t1,lab,0.79)"
      ],
      "metadata": {
        "id": "vMKO8czxSMd8"
      },
      "execution_count": null,
      "outputs": []
    },
    {
      "cell_type": "code",
      "source": [
        "!pip install -U --no-cache-dir gdown gdown"
      ],
      "metadata": {
        "id": "-WWE6jOKCD0Z"
      },
      "execution_count": null,
      "outputs": []
    },
    {
      "cell_type": "code",
      "source": [
        "!pip install --upgrade --no-cache-dir gdown"
      ],
      "metadata": {
        "id": "v57WjC4VAtaa"
      },
      "execution_count": null,
      "outputs": []
    },
    {
      "cell_type": "code",
      "source": [
        "!gdown https://drive.google.com/drive/folders/1C7HXpHMw1Alvwif9hO97FUzfn4rhxG8B -O Train_Valid_Image --folder --remaining-ok"
      ],
      "metadata": {
        "id": "1T5_yrOg7RLQ"
      },
      "execution_count": null,
      "outputs": []
    }
  ],
  "metadata": {
    "colab": {
      "provenance": [],
      "collapsed_sections": [
        "RpwX2ZFOBRFT",
        "0IX5HYZuSKG-",
        "rhLO9PaUESQh"
      ],
      "machine_shape": "hm",
      "gpuType": "V100",
      "include_colab_link": true
    },
    "kernelspec": {
      "display_name": "Python 3",
      "name": "python3"
    },
    "language_info": {
      "codemirror_mode": {
        "name": "ipython",
        "version": 3
      },
      "file_extension": ".py",
      "mimetype": "text/x-python",
      "name": "python",
      "nbconvert_exporter": "python",
      "pygments_lexer": "ipython3",
      "version": "3.11.5"
    },
    "accelerator": "GPU"
  },
  "nbformat": 4,
  "nbformat_minor": 0
}