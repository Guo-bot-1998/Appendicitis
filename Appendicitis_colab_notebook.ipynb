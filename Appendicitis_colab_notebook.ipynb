{
  "cells": [
    {
      "cell_type": "markdown",
      "metadata": {
        "id": "view-in-github",
        "colab_type": "text"
      },
      "source": [
        "<a href=\"https://colab.research.google.com/github/Guo-bot-1998/Appendicitis/blob/master/Appendicitis_colab_notebook.ipynb\" target=\"_parent\"><img src=\"https://colab.research.google.com/assets/colab-badge.svg\" alt=\"Open In Colab\"/></a>"
      ]
    },
    {
      "cell_type": "markdown",
      "source": [
        "# import"
      ],
      "metadata": {
        "id": "coYrDLBnCbwQ"
      }
    },
    {
      "cell_type": "code",
      "source": [
        "!pip install timm"
      ],
      "metadata": {
        "id": "Q4kBLfXWRg7N"
      },
      "execution_count": null,
      "outputs": []
    },
    {
      "cell_type": "code",
      "execution_count": null,
      "metadata": {
        "id": "bQ4w8h2LkY0g"
      },
      "outputs": [],
      "source": [
        "import nibabel as nib\n",
        "import numpy as np\n",
        "import os\n",
        "import pandas as pd\n",
        "import nibabel as nib\n",
        "import torch\n",
        "import torch.nn as nn\n",
        "import torch.optim as optim\n",
        "import timm"
      ]
    },
    {
      "cell_type": "code",
      "source": [
        "\n",
        "def read_data(directory, shift=0, termi=10):\n",
        "    \"\"\"\n",
        "    Traverse directories starting from 'directory', find .nil files,\n",
        "    and read them into NumPy arrays.\n",
        "    \"\"\"\n",
        "    data_dict = {}\n",
        "    k = 0\n",
        "    ncut = 0\n",
        "    for root, dirs, files in os.walk(directory):\n",
        "        for file in files:\n",
        "            if file.endswith('.nii'):\n",
        "                if (k<shift)       :\n",
        "                  k += 1\n",
        "                  continue\n",
        "                file_path = os.path.join(root, file)\n",
        "                nii_file =  nib.load(file_path)\n",
        "                data = nii_file.get_fdata()\n",
        "                data_dict[file.strip('.nii')] = data\n",
        "                ncut +=  1\n",
        "                if ncut == termi:\n",
        "                  return data_dict\n",
        "    return data_dict\n",
        "\n",
        "def read_label(excel_path):\n",
        "  with open(excel_path, 'r') as f:\n",
        "    df = pd.read_csv(f)\n",
        "    return df\n",
        "\n",
        "\n",
        "def isgpu():\n",
        "    \"\"\"檢查是否有 CUDA 支持的 GPU\"\"\"\n",
        "    if torch.cuda.is_available():\n",
        "        device = torch.device(\"cuda\")\n",
        "        print(\"GPU is available\")\n",
        "    else:\n",
        "        device = torch.device(\"cpu\")\n",
        "        raise(\"GPU not available\")\n",
        "    return device"
      ],
      "metadata": {
        "id": "7dmJYugUB_3w"
      },
      "execution_count": 16,
      "outputs": []
    },
    {
      "cell_type": "code",
      "source": [
        "device = isgpu()"
      ],
      "metadata": {
        "colab": {
          "base_uri": "https://localhost:8080/"
        },
        "id": "Ud4x-GeICQxw",
        "outputId": "b37775c6-32b8-43b5-ae48-d48e6d0abad7"
      },
      "execution_count": 17,
      "outputs": [
        {
          "output_type": "stream",
          "name": "stdout",
          "text": [
            "GPU is available\n"
          ]
        }
      ]
    },
    {
      "cell_type": "code",
      "execution_count": null,
      "metadata": {
        "id": "bKUXzQOdBRFQ"
      },
      "outputs": [],
      "source": [
        "from google.colab import drive\n",
        "drive.mount('/content/drive')"
      ]
    },
    {
      "cell_type": "markdown",
      "source": [
        "# 路徑\n"
      ],
      "metadata": {
        "id": "lV66iCZmCrBJ"
      }
    },
    {
      "cell_type": "code",
      "execution_count": null,
      "metadata": {
        "id": "9s8UZdV7BRFR"
      },
      "outputs": [],
      "source": [
        "cd /content/drive/MyDrive/AOCR2024"
      ]
    },
    {
      "cell_type": "code",
      "source": [
        "!pwd"
      ],
      "metadata": {
        "id": "HW3_Dmi-CxYQ"
      },
      "execution_count": null,
      "outputs": []
    },
    {
      "cell_type": "markdown",
      "metadata": {
        "id": "s0ME8m8YBRFR"
      },
      "source": [
        "# 處理資料"
      ]
    },
    {
      "cell_type": "code",
      "execution_count": 11,
      "metadata": {
        "id": "fqawg3ryBRFS",
        "outputId": "5948961d-9012-4388-f26e-ebd8a8495658",
        "colab": {
          "base_uri": "https://localhost:8080/"
        }
      },
      "outputs": [
        {
          "output_type": "execute_result",
          "data": {
            "text/plain": [
              "10"
            ]
          },
          "metadata": {},
          "execution_count": 11
        }
      ],
      "source": [
        "data = read_data(\"TrainValid_Image/train_data\")\n",
        "df = read_label(\"TrainValid_ground_truth.csv\")\n",
        "df.set_index('id', inplace=True)\n",
        "# df\n",
        "processed = []\n",
        "for key, value in data.items():\n",
        "  scan  = df.loc[df.index.str.startswith(key+'_')]\n",
        "  labels = np.array(scan['label'])\n",
        "  processed.append((value, labels))\n",
        "len(processed)"
      ]
    },
    {
      "cell_type": "code",
      "execution_count": 14,
      "metadata": {
        "id": "i2GYILzD8EO-"
      },
      "outputs": [],
      "source": [
        "# 轉換每個掃描中的圖像和標籤\n",
        "images_list = []\n",
        "labels_list = []\n",
        "\n",
        "for value, label in processed:\n",
        "    # value.shape 為 (512, 512, n)，label.shape 為 (n,)\n",
        "    for i in range(value.shape[2]):\n",
        "        image = value[:, :, i]\n",
        "        image_tensor = torch.from_numpy(image).float().unsqueeze(0)  # 添加通道維度\n",
        "        label_tensor = torch.tensor(label[i], dtype=torch.float32)\n",
        "        images_list.append(image_tensor)\n",
        "        labels_list.append(label_tensor)\n",
        "\n",
        "# 合併成批次數據\n",
        "images = torch.stack(images_list)\n",
        "labels = torch.stack(labels_list)\n"
      ]
    },
    {
      "cell_type": "markdown",
      "metadata": {
        "id": "RpwX2ZFOBRFT"
      },
      "source": [
        "# 訓練 (Unet with only encoder)"
      ]
    },
    {
      "cell_type": "code",
      "source": [
        "class FC(nn.Module):\n",
        "    def __init__(self, in_channels):\n",
        "        super(FC, self).__init__()\n",
        "\n",
        "        # Encoder部分\n",
        "        self.encoder = nn.Sequential(\n",
        "            nn.Conv2d(in_channels, 64, kernel_size=3, padding=1),\n",
        "            nn.ReLU(inplace=True),\n",
        "            nn.Conv2d(64, 64, kernel_size=3, padding=1),\n",
        "            nn.ReLU(inplace=True),\n",
        "            nn.Conv2d(64, 128, kernel_size=3, padding=1),\n",
        "            nn.ReLU(inplace=True),\n",
        "            nn.MaxPool2d(kernel_size=2, stride=2),\n",
        "            nn.Conv2d(128, 256, kernel_size=3, padding=1),\n",
        "            nn.ReLU(inplace=True),\n",
        "            nn.MaxPool2d(kernel_size=2, stride=2)\n",
        "        )\n",
        "\n",
        "        self.fc = nn.Linear(128 * 128 * 256, 1)  # x 和 y 是經過 encoder 處理後的特徵圖尺寸\n",
        "\n",
        "\n",
        "    def forward(self, x):\n",
        "        x = self.encoder(x)\n",
        "        x = torch.flatten(x, 1)\n",
        "        x = self.fc(x)\n",
        "        x = torch.sigmoid(x)\n",
        "        return x"
      ],
      "metadata": {
        "id": "BbxXQeUUDWpp"
      },
      "execution_count": 12,
      "outputs": []
    },
    {
      "cell_type": "markdown",
      "source": [
        "## 訓練 (EfficiencyNetV2_m)"
      ],
      "metadata": {
        "id": "0IX5HYZuSKG-"
      }
    },
    {
      "cell_type": "code",
      "source": [
        "model_name = \"tf_efficientnetv2_m\"\n",
        "pretrained_model = timm.create_model(model_name, pretrained=True)\n",
        "\n",
        "# 修改輸入通道\n",
        "pretrained_model.conv_stem = nn.Conv2d(1, 32, kernel_size=3, stride=2, padding=1, bias=False)\n",
        "\n",
        "# 修改輸出類別\n",
        "num_classes = 2\n",
        "pretrained_model.classifier = nn.Linear(pretrained_model.classifier.in_features, num_classes)\n",
        "\n",
        "# 添加 Sigmoid 激活函數\n",
        "pretrained_model = nn.Sequential(\n",
        "    pretrained_model,\n",
        "    nn.Sigmoid()\n",
        ")\n",
        "\n",
        "# 檢查模型結構\n",
        "# print(pretrained_model)"
      ],
      "metadata": {
        "id": "bG8g6C--RnbW"
      },
      "execution_count": null,
      "outputs": []
    },
    {
      "cell_type": "code",
      "execution_count": 18,
      "metadata": {
        "id": "1LuuNhizBRFT",
        "colab": {
          "base_uri": "https://localhost:8080/"
        },
        "outputId": "d0fc9772-8952-431c-d502-ef72ff0dd6d6"
      },
      "outputs": [
        {
          "output_type": "stream",
          "name": "stdout",
          "text": [
            "Epoch 1, Loss: 4.375001157141257\n",
            "Epoch 2, Loss: 4.375\n",
            "Epoch 3, Loss: 4.375\n"
          ]
        }
      ],
      "source": [
        "num_epochs = 3\n",
        "batch_size = 16\n",
        "lr = 0.001\n",
        "num_batches = len(images) // batch_size\n",
        "\n",
        "\n",
        "# 初始化模型、損失函數和優化器\n",
        "model = FC(in_channels=1).to(device)\n",
        "# model = pretrained_model\n",
        "\n",
        "if images.dtype != model.encoder[0].weight.dtype:\n",
        "    images = images.type(model.encoder[0].weight.dtype)\n",
        "\n",
        "criterion = nn.BCELoss()\n",
        "optimizer = optim.Adam(model.parameters(), lr)\n",
        "\n",
        "\n",
        "# 訓練循環\n",
        "for epoch in range(num_epochs):\n",
        "    model.train()\n",
        "    running_loss = 0.0\n",
        "\n",
        "    for i in range(num_batches):\n",
        "        batch_images = images[i*batch_size:(i+1)*batch_size].to(device)\n",
        "        batch_labels = labels[i*batch_size:(i+1)*batch_size].to(device)\n",
        "\n",
        "        optimizer.zero_grad()\n",
        "        outputs = model(batch_images)\n",
        "        outputs = outputs.squeeze()\n",
        "        loss = criterion(outputs, batch_labels)\n",
        "        loss.backward()\n",
        "        optimizer.step()\n",
        "\n",
        "        running_loss += loss.item()\n",
        "\n",
        "    print(f\"Epoch {epoch+1}, Loss: {running_loss/num_batches}\")\n"
      ]
    },
    {
      "cell_type": "markdown",
      "metadata": {
        "id": "fRrn6mOmBRFU"
      },
      "source": [
        "# 儲存模型參數"
      ]
    },
    {
      "cell_type": "code",
      "source": [
        "cd /content/drive/MyDrive/AOCR2024"
      ],
      "metadata": {
        "id": "lX5worG8toux",
        "outputId": "af87733a-f617-4707-a59d-51c1d8567bf1",
        "colab": {
          "base_uri": "https://localhost:8080/"
        }
      },
      "execution_count": 22,
      "outputs": [
        {
          "output_type": "stream",
          "name": "stdout",
          "text": [
            "/content/drive/MyDrive/AOCR2024\n"
          ]
        }
      ]
    },
    {
      "cell_type": "code",
      "execution_count": 24,
      "metadata": {
        "id": "2Jnh7hW3BRFU",
        "outputId": "36749597-66f4-45d1-f18e-ea7b1c68a24e",
        "colab": {
          "base_uri": "https://localhost:8080/"
        }
      },
      "outputs": [
        {
          "output_type": "stream",
          "name": "stdout",
          "text": [
            "請輸入要儲存的編號:\n",
            "params/FC/FC.pth exist.\n",
            "params/FC/FC.json exist.\n"
          ]
        }
      ],
      "source": [
        "import json\n",
        "appendix = input(\"請輸入要儲存的編號:\")\n",
        "modelname = model.__class__.__name__\n",
        "filename = f\"params/{modelname}/{modelname}{appendix}\"\n",
        "if os.path.isfile(filename+'.pth'):\n",
        "    print(f\"{filename}.pth exist.\")\n",
        "else:\n",
        "    torch.save(model.state_dict(), f'{filename}.pth')\n",
        "\n",
        "params = {\n",
        "    'num_epochs': num_epochs,\n",
        "    'batch_size': batch_size,\n",
        "    'learning_rate': lr\n",
        "}\n",
        "\n",
        "if os.path.isfile(filename+'.json'):\n",
        "    print(f\"{filename}.json exist.\")\n",
        "else:\n",
        "    with open(f'{filename}.json', 'w') as f:\n",
        "        json.dump(params, f)"
      ]
    },
    {
      "cell_type": "code",
      "source": [
        "model.eval()\n",
        "with torch.no_grad():  # 不更新梯度\n",
        "    correct = 0\n",
        "    total = 0\n",
        "    for i in range(num_batches):\n",
        "        batch_images = images[i*batch_size:(i+1)*batch_size].to(device)\n",
        "        batch_labels = labels[i*batch_size:(i+1)*batch_size].to(device)\n",
        "\n",
        "        outputs = model(batch_images)\n",
        "        predicted = (outputs.squeeze() > 0.5).float()\n",
        "\n",
        "        total += batch_labels.size(0)\n",
        "        correct += (predicted == batch_labels).sum().item()\n",
        "\n",
        "    accuracy = correct / total\n",
        "    print(f'Accuracy on the data: {accuracy * 100:.2f}%')"
      ],
      "metadata": {
        "id": "4M1qST-FslSs",
        "outputId": "460b5b35-6faf-4a32-fb77-abcc10d55b6e",
        "colab": {
          "base_uri": "https://localhost:8080/"
        }
      },
      "execution_count": 21,
      "outputs": [
        {
          "output_type": "stream",
          "name": "stdout",
          "text": [
            "Accuracy on the data: 95.62%\n"
          ]
        }
      ]
    },
    {
      "cell_type": "markdown",
      "metadata": {
        "id": "WtiEV6fFBRFU"
      },
      "source": [
        "True Postive / Total Postive\n",
        "F1"
      ]
    }
  ],
  "metadata": {
    "accelerator": "GPU",
    "colab": {
      "gpuType": "V100",
      "provenance": [],
      "include_colab_link": true
    },
    "kernelspec": {
      "display_name": "Python 3",
      "name": "python3"
    },
    "language_info": {
      "codemirror_mode": {
        "name": "ipython",
        "version": 3
      },
      "file_extension": ".py",
      "mimetype": "text/x-python",
      "name": "python",
      "nbconvert_exporter": "python",
      "pygments_lexer": "ipython3",
      "version": "3.11.5"
    }
  },
  "nbformat": 4,
  "nbformat_minor": 0
}