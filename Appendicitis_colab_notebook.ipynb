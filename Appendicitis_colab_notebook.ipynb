{
  "cells": [
    {
      "cell_type": "markdown",
      "metadata": {
        "id": "view-in-github",
        "colab_type": "text"
      },
      "source": [
        "<a href=\"https://colab.research.google.com/github/Guo-bot-1998/Appendicitis/blob/master/Appendicitis_colab_notebook.ipynb\" target=\"_parent\"><img src=\"https://colab.research.google.com/assets/colab-badge.svg\" alt=\"Open In Colab\"/></a>"
      ]
    },
    {
      "cell_type": "markdown",
      "source": [
        "# import"
      ],
      "metadata": {
        "id": "coYrDLBnCbwQ"
      }
    },
    {
      "cell_type": "code",
      "source": [
        "!pip install timm"
      ],
      "metadata": {
        "id": "Q4kBLfXWRg7N"
      },
      "execution_count": null,
      "outputs": []
    },
    {
      "cell_type": "code",
      "execution_count": null,
      "metadata": {
        "id": "bQ4w8h2LkY0g"
      },
      "outputs": [],
      "source": [
        "import nibabel as nib\n",
        "import numpy as np\n",
        "import os\n",
        "import pandas as pd\n",
        "import nibabel as nib\n",
        "import torch\n",
        "import torch.nn as nn\n",
        "import torch.optim as optim\n",
        "import timm"
      ]
    },
    {
      "cell_type": "code",
      "source": [
        "\n",
        "def read_data(directory, shift=0, termi=10):\n",
        "    \"\"\"\n",
        "    Traverse directories starting from 'directory', find .nil files,\n",
        "    and read them into NumPy arrays.\n",
        "    \"\"\"\n",
        "    data_dict = {}\n",
        "    k = 0\n",
        "    ncut = 0\n",
        "    for root, dirs, files in os.walk(directory):\n",
        "        for file in files:\n",
        "            if file.endswith('.nii'):\n",
        "                if (k<shift)       :\n",
        "                  k += 1\n",
        "                  continue\n",
        "                file_path = os.path.join(root, file)\n",
        "                nii_file =  nib.load(file_path)\n",
        "                data = nii_file.get_fdata()\n",
        "                data_dict[file.strip('.nii')] = data\n",
        "                ncut +=  1\n",
        "                if ncut == termi:\n",
        "                  return data_dict\n",
        "    return data_dict\n",
        "\n",
        "def read_label(excel_path):\n",
        "  with open(excel_path, 'r') as f:\n",
        "    df = pd.read_csv(f)\n",
        "    return df\n",
        "\n",
        "\n",
        "def isgpu():\n",
        "    \"\"\"檢查是否有 CUDA 支持的 GPU\"\"\"\n",
        "    if torch.cuda.is_available():\n",
        "        device = torch.device(\"cuda\")\n",
        "        print(\"GPU is available\")\n",
        "    else:\n",
        "        device = torch.device(\"cpu\")\n",
        "        raise(\"GPU not available\")\n",
        "    return device"
      ],
      "metadata": {
        "id": "7dmJYugUB_3w"
      },
      "execution_count": null,
      "outputs": []
    },
    {
      "cell_type": "code",
      "source": [
        "device = isgpu()"
      ],
      "metadata": {
        "id": "Ud4x-GeICQxw"
      },
      "execution_count": null,
      "outputs": []
    },
    {
      "cell_type": "code",
      "execution_count": null,
      "metadata": {
        "id": "bKUXzQOdBRFQ"
      },
      "outputs": [],
      "source": [
        "from google.colab import drive\n",
        "drive.mount('/content/drive')"
      ]
    },
    {
      "cell_type": "markdown",
      "source": [
        "# 路徑\n"
      ],
      "metadata": {
        "id": "lV66iCZmCrBJ"
      }
    },
    {
      "cell_type": "code",
      "execution_count": null,
      "metadata": {
        "id": "9s8UZdV7BRFR"
      },
      "outputs": [],
      "source": [
        "cd /content/drive/MyDrive/AOCR2024"
      ]
    },
    {
      "cell_type": "code",
      "source": [
        "!pwd"
      ],
      "metadata": {
        "id": "HW3_Dmi-CxYQ"
      },
      "execution_count": null,
      "outputs": []
    },
    {
      "cell_type": "markdown",
      "metadata": {
        "id": "s0ME8m8YBRFR"
      },
      "source": [
        "# 處理資料"
      ]
    },
    {
      "cell_type": "code",
      "execution_count": null,
      "metadata": {
        "id": "fqawg3ryBRFS"
      },
      "outputs": [],
      "source": [
        "data = read_data(\"TrainValid_Image/train_data\")\n",
        "df = read_label(\"TrainValid_ground_truth.csv\")\n",
        "df.set_index('id', inplace=True)\n",
        "# df\n",
        "processed = []\n",
        "for key, value in data.items():\n",
        "  scan  = df.loc[df.index.str.startswith(key+'_')]\n",
        "  labels = np.array(scan['label'])\n",
        "  processed.append((value, labels))\n",
        "len(processed)"
      ]
    },
    {
      "cell_type": "code",
      "source": [
        "len(data.keys())"
      ],
      "metadata": {
        "id": "ZHit7goMT-ci",
        "outputId": "cfd02924-06fe-47f9-ce99-373f4876c088",
        "colab": {
          "base_uri": "https://localhost:8080/"
        }
      },
      "execution_count": 22,
      "outputs": [
        {
          "output_type": "execute_result",
          "data": {
            "text/plain": [
              "10"
            ]
          },
          "metadata": {},
          "execution_count": 22
        }
      ]
    },
    {
      "cell_type": "code",
      "source": [
        "# 把每個scan第三個維度的資訊取出來,訓練完好分辨哪個cut屬於哪個scan(訓練不改變cut的順序)\n",
        "nslices = [datatuple[0].shape[2] for datatuple in processed]\n",
        "keys = data.keys()\n",
        "assert(len(keys) == len(nslices))"
      ],
      "metadata": {
        "id": "_s8FLkCZVIvj"
      },
      "execution_count": 40,
      "outputs": []
    },
    {
      "cell_type": "code",
      "execution_count": 41,
      "metadata": {
        "id": "i2GYILzD8EO-"
      },
      "outputs": [],
      "source": [
        "\n",
        "# 轉換每個掃描中的圖像和標籤\n",
        "images_list = []\n",
        "labels_list = []\n",
        "\n",
        "for value, label in processed:\n",
        "    # value.shape 為 (512, 512, n)，label.shape 為 (n,)\n",
        "    for i in range(value.shape[2]):\n",
        "        image = value[:, :, i]\n",
        "        image_tensor = torch.from_numpy(image).float().unsqueeze(0)  # 添加通道維度\n",
        "        label_tensor = torch.tensor(label[i], dtype=torch.float32)\n",
        "        images_list.append(image_tensor)\n",
        "        labels_list.append(label_tensor)\n",
        "\n",
        "# 合併成批次數據\n",
        "images = torch.stack(images_list)\n",
        "labels = torch.stack(labels_list)\n"
      ]
    },
    {
      "cell_type": "markdown",
      "metadata": {
        "id": "RpwX2ZFOBRFT"
      },
      "source": [
        "# 訓練 (Unet with only encoder)"
      ]
    },
    {
      "cell_type": "code",
      "source": [
        "class FC(nn.Module):\n",
        "    def __init__(self, in_channels):\n",
        "        super(FC, self).__init__()\n",
        "\n",
        "        # Encoder部分\n",
        "        self.encoder = nn.Sequential(\n",
        "            nn.Conv2d(in_channels, 64, kernel_size=3, padding=1),\n",
        "            nn.ReLU(inplace=True),\n",
        "            nn.Conv2d(64, 64, kernel_size=3, padding=1),\n",
        "            nn.ReLU(inplace=True),\n",
        "            nn.Conv2d(64, 128, kernel_size=3, padding=1),\n",
        "            nn.ReLU(inplace=True),\n",
        "            nn.MaxPool2d(kernel_size=2, stride=2),\n",
        "            nn.Conv2d(128, 256, kernel_size=3, padding=1),\n",
        "            nn.ReLU(inplace=True),\n",
        "            nn.MaxPool2d(kernel_size=2, stride=2)\n",
        "        )\n",
        "\n",
        "        self.fc = nn.Linear(128 * 128 * 256, 1)  # x 和 y 是經過 encoder 處理後的特徵圖尺寸\n",
        "\n",
        "\n",
        "    def forward(self, x):\n",
        "        x = self.encoder(x)\n",
        "        x = torch.flatten(x, 1)\n",
        "        x = self.fc(x)\n",
        "        x = torch.sigmoid(x)\n",
        "        return x"
      ],
      "metadata": {
        "id": "BbxXQeUUDWpp"
      },
      "execution_count": 45,
      "outputs": []
    },
    {
      "cell_type": "markdown",
      "source": [
        "## 訓練 (EfficiencyNetV2_m)"
      ],
      "metadata": {
        "id": "0IX5HYZuSKG-"
      }
    },
    {
      "cell_type": "code",
      "source": [
        "model_name = \"tf_efficientnetv2_m\"\n",
        "pretrained_model = timm.create_model(model_name, pretrained=True)\n",
        "\n",
        "# 修改輸入通道\n",
        "pretrained_model.conv_stem = nn.Conv2d(1, 32, kernel_size=3, stride=2, padding=1, bias=False)\n",
        "\n",
        "# 修改輸出類別\n",
        "num_classes = 2\n",
        "pretrained_model.classifier = nn.Linear(pretrained_model.classifier.in_features, num_classes)\n",
        "\n",
        "# 添加 Sigmoid 激活函數\n",
        "pretrained_model = nn.Sequential(\n",
        "    pretrained_model,\n",
        "    nn.Sigmoid()\n",
        ")\n",
        "\n",
        "# 檢查模型結構\n",
        "# print(pretrained_model)"
      ],
      "metadata": {
        "id": "bG8g6C--RnbW"
      },
      "execution_count": null,
      "outputs": []
    },
    {
      "cell_type": "code",
      "execution_count": null,
      "metadata": {
        "id": "1LuuNhizBRFT"
      },
      "outputs": [],
      "source": [
        "num_epochs = 3\n",
        "batch_size = 16\n",
        "lr = 0.001\n",
        "num_batches = len(images) // batch_size\n",
        "# 初始化模型、損失函數和優化器\n",
        "model = FC(in_channels=1).to(device)\n",
        "# model = pretrained_model\n",
        "\n",
        "if images.dtype != model.encoder[0].weight.dtype:\n",
        "    images = images.type(model.encoder[0].weight.dtype)\n",
        "\n",
        "criterion = nn.BCELoss()\n",
        "optimizer = optim.Adam(model.parameters(), lr)\n",
        "\n",
        "\n",
        "# 訓練循環\n",
        "for epoch in range(num_epochs):\n",
        "    model.train()\n",
        "    running_loss = 0.0\n",
        "\n",
        "    for i in range(num_batches):\n",
        "        batch_images = images[i*batch_size:(i+1)*batch_size].to(device)\n",
        "        batch_labels = labels[i*batch_size:(i+1)*batch_size].to(device)\n",
        "\n",
        "        optimizer.zero_grad()\n",
        "        outputs = model(batch_images)\n",
        "        outputs = outputs.squeeze()\n",
        "        loss = criterion(outputs, batch_labels)\n",
        "        loss.backward()\n",
        "        optimizer.step()\n",
        "\n",
        "        running_loss += loss.item()\n",
        "\n",
        "    print(f\"Epoch {epoch+1}, Loss: {running_loss/num_batches}\")\n"
      ]
    },
    {
      "cell_type": "markdown",
      "metadata": {
        "id": "fRrn6mOmBRFU"
      },
      "source": [
        "# 儲存模型參數\n",
        "\n"
      ]
    },
    {
      "cell_type": "code",
      "source": [
        "cd /content/drive/MyDrive/AOCR2024"
      ],
      "metadata": {
        "id": "lX5worG8toux"
      },
      "execution_count": null,
      "outputs": []
    },
    {
      "cell_type": "code",
      "execution_count": null,
      "metadata": {
        "id": "2Jnh7hW3BRFU"
      },
      "outputs": [],
      "source": [
        "import json\n",
        "appendix = input(\"請輸入要儲存的編號:\")\n",
        "modelname = model.__class__.__name__\n",
        "filename = f\"params/{modelname}/{modelname}{appendix}\"\n",
        "if os.path.isfile(filename+'.pth'):\n",
        "    print(f\"{filename}.pth exist.\")\n",
        "else:\n",
        "    torch.save(model.state_dict(), f'{filename}.pth')\n",
        "\n",
        "params = {\n",
        "    'num_epochs': num_epochs,\n",
        "    'batch_size': batch_size,\n",
        "    'learning_rate': lr\n",
        "}\n",
        "\n",
        "if os.path.isfile(filename+'.json'):\n",
        "    print(f\"{filename}.json exist.\")\n",
        "else:\n",
        "    with open(f'{filename}.json', 'w') as f:\n",
        "        json.dump(params, f)"
      ]
    },
    {
      "cell_type": "markdown",
      "source": [
        "# 讀取模型參數"
      ],
      "metadata": {
        "id": "oBcppdev6LlG"
      }
    },
    {
      "cell_type": "code",
      "source": [
        "import json\n",
        "remove_digits = str.maketrans('', '', '0123456789')\n",
        "modelname = input(\"請輸入要獲取模型檔名:\")\n",
        "filename = f\"params/{modelname.translate(remove_digits)}/{modelname}\"\n",
        "\n",
        "if 'model' not in globals() or model.__class__.__name__ != modelname.translate(remove_digits):\n",
        "  exec(f'model = {modelname.translate(remove_digits)}(in_channels=1).to(device)')\n",
        "\n",
        "if not os.path.isfile(filename+'.pth'):\n",
        "    print(f\"{filename}.pth not exist.\")\n",
        "else:\n",
        "    print(model.load_state_dict(torch.load(filename+'.pth')))\n",
        "with open(f'{filename}.json', 'r') as f:\n",
        "    params = json.load(f)"
      ],
      "metadata": {
        "colab": {
          "base_uri": "https://localhost:8080/"
        },
        "id": "5NUlm7dg5sRE",
        "outputId": "d9b9ea42-49cb-44c1-a55a-fe581a3d396d"
      },
      "execution_count": 52,
      "outputs": [
        {
          "output_type": "stream",
          "name": "stdout",
          "text": [
            "請輸入要獲取模型檔名:FC1\n",
            "<All keys matched successfully>\n"
          ]
        }
      ]
    },
    {
      "cell_type": "markdown",
      "source": [
        "# 評估\n"
      ],
      "metadata": {
        "id": "6v_lVRL47kzj"
      }
    },
    {
      "cell_type": "code",
      "source": [
        "\n",
        "# 評估設置\n",
        "num_epochs = params['num_epochs']\n",
        "batch_size = params['batch_size']\n",
        "num_batches = len(images) / batch_size"
      ],
      "metadata": {
        "id": "QtWJ-YYy5l2E"
      },
      "execution_count": 53,
      "outputs": []
    },
    {
      "cell_type": "code",
      "source": [
        "model.eval()\n",
        "predict_list = []\n",
        "with torch.no_grad():  # 不更新梯度\n",
        "    correct = 0\n",
        "    total = 0\n",
        "    for i in range(num_batches):\n",
        "        batch_images = images[i*batch_size:(i+1)*batch_size].to(device)\n",
        "        batch_labels = labels[i*batch_size:(i+1)*batch_size].to(device)\n",
        "\n",
        "        outputs = model(batch_images)\n",
        "        predicted = (outputs.squeeze() > 0.5).int()\n",
        "        predict_list.append([predicted.cpu()])\n",
        "\n",
        "\n",
        "predict_list"
      ],
      "metadata": {
        "id": "4M1qST-FslSs"
      },
      "execution_count": null,
      "outputs": []
    },
    {
      "cell_type": "markdown",
      "source": [
        "# 輸出至submission.csv"
      ],
      "metadata": {
        "id": "ml59tSf2QXty"
      }
    },
    {
      "cell_type": "code",
      "source": [
        "submissions = pd.Series(predict_list)\n",
        "for i, key in enumerate(keys):\n",
        "  nslice = nslices[i]\n",
        "  for appendix in range(-1,len(nslice))\n",
        "    data = {key:predict_list}"
      ],
      "metadata": {
        "id": "dHHTCLr8QWMs",
        "outputId": "75d0d2e9-5792-4c65-e25c-13a2554e74c1",
        "colab": {
          "base_uri": "https://localhost:8080/"
        }
      },
      "execution_count": 76,
      "outputs": [
        {
          "output_type": "execute_result",
          "data": {
            "text/plain": [
              "0    ff\n",
              "dtype: object"
            ]
          },
          "metadata": {},
          "execution_count": 76
        }
      ]
    },
    {
      "cell_type": "code",
      "source": [],
      "metadata": {
        "id": "yEw09zEDpp37"
      },
      "execution_count": null,
      "outputs": []
    },
    {
      "cell_type": "markdown",
      "metadata": {
        "id": "WtiEV6fFBRFU"
      },
      "source": [
        "Measure Recall"
      ]
    }
  ],
  "metadata": {
    "accelerator": "TPU",
    "colab": {
      "provenance": [],
      "include_colab_link": true
    },
    "kernelspec": {
      "display_name": "Python 3",
      "name": "python3"
    },
    "language_info": {
      "codemirror_mode": {
        "name": "ipython",
        "version": 3
      },
      "file_extension": ".py",
      "mimetype": "text/x-python",
      "name": "python",
      "nbconvert_exporter": "python",
      "pygments_lexer": "ipython3",
      "version": "3.11.5"
    }
  },
  "nbformat": 4,
  "nbformat_minor": 0
}