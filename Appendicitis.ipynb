{
  "cells": [
    {
      "cell_type": "markdown",
      "metadata": {
        "colab_type": "text",
        "id": "view-in-github"
      },
      "source": [
        "<a href=\"https://colab.research.google.com/github/Guo-bot-1998/Appendicitis/blob/master/Unet.ipynb\" target=\"_parent\"><img src=\"https://colab.research.google.com/assets/colab-badge.svg\" alt=\"Open In Colab\"/></a>"
      ]
    },
    {
      "cell_type": "code",
      "execution_count": 1,
      "metadata": {
        "id": "bQ4w8h2LkY0g"
      },
      "outputs": [
        {
          "name": "stdout",
          "output_type": "stream",
          "text": [
            "GPU is available\n"
          ]
        }
      ],
      "source": [
        "import nibabel as nib\n",
        "import numpy as np\n",
        "import os\n",
        "import pandas as pd\n",
        "import nibabel as nib\n",
        "import torch\n",
        "import torch.nn as nn\n",
        "import torch.optim as optim\n",
        "from helper import  read_data\n",
        "from helper import  read_label\n",
        "from helper import isgpu\n",
        "\n",
        "\n",
        "device = isgpu()"
      ]
    },
    {
      "cell_type": "markdown",
      "metadata": {},
      "source": [
        "處理資料"
      ]
    },
    {
      "cell_type": "code",
      "execution_count": 2,
      "metadata": {},
      "outputs": [
        {
          "name": "stdout",
          "output_type": "stream",
          "text": [
            "D:\\Program\\data\\AOCR2024\n"
          ]
        }
      ],
      "source": [
        "cd D:\\Program\\data\\AOCR2024\\"
      ]
    },
    {
      "cell_type": "code",
      "execution_count": 3,
      "metadata": {},
      "outputs": [
        {
          "data": {
            "text/plain": [
              "2"
            ]
          },
          "execution_count": 3,
          "metadata": {},
          "output_type": "execute_result"
        }
      ],
      "source": [
        "data = read_data(\"TrainValid_Image\\\\train_data\", termi=2)\n",
        "df = read_label(\"TrainValid_ground_truth.csv\")\n",
        "df.set_index('id', inplace=True)\n",
        "# df\n",
        "processed = []\n",
        "for key, value in data.items():\n",
        "  scan  = df.loc[df.index.str.startswith(key+'_')]\n",
        "  labels = np.array(scan['label'])\n",
        "  processed.append((value, labels))\n",
        "len(processed)"
      ]
    },
    {
      "cell_type": "code",
      "execution_count": 4,
      "metadata": {
        "id": "i2GYILzD8EO-"
      },
      "outputs": [],
      "source": [
        "# 轉換每個掃描中的圖像和標籤\n",
        "images_list = []\n",
        "labels_list = []\n",
        "\n",
        "for value, label in processed:\n",
        "    # value.shape 為 (512, 512, n)，label.shape 為 (n,)\n",
        "    for i in range(value.shape[2]):\n",
        "        image = value[:, :, i]\n",
        "        image_tensor = torch.from_numpy(image).float().unsqueeze(0)  # 添加通道維度\n",
        "        label_tensor = torch.tensor(label[i], dtype=torch.float32)\n",
        "        images_list.append(image_tensor)\n",
        "        labels_list.append(label_tensor)\n",
        "\n",
        "# 合併成批次數據\n",
        "images = torch.stack(images_list)\n",
        "labels = torch.stack(labels_list)\n"
      ]
    },
    {
      "cell_type": "markdown",
      "metadata": {},
      "source": [
        "訓練"
      ]
    },
    {
      "cell_type": "code",
      "execution_count": 5,
      "metadata": {},
      "outputs": [
        {
          "name": "stdout",
          "output_type": "stream",
          "text": [
            "Epoch 1, Loss: 2.3039690017700196\n",
            "Epoch 2, Loss: 5.625\n",
            "Epoch 3, Loss: 5.625\n",
            "Epoch 4, Loss: 5.625\n",
            "Epoch 5, Loss: 5.625\n",
            "Epoch 6, Loss: 5.625\n",
            "Epoch 7, Loss: 5.625\n",
            "Epoch 8, Loss: 5.625\n",
            "Epoch 9, Loss: 5.625\n",
            "Epoch 10, Loss: 5.625\n"
          ]
        }
      ],
      "source": [
        "num_epochs = 10\n",
        "batch_size = 32\n",
        "lr = 0.001\n",
        "num_batches = len(images) // batch_size\n",
        "\n",
        "import models.Unet\n",
        "\n",
        "# 初始化模型、損失函數和優化器\n",
        "model = models.Unet.FC(in_channels=1).to(device)\n",
        "criterion = nn.BCELoss()\n",
        "optimizer = optim.Adam(model.parameters(), lr)\n",
        "\n",
        "\n",
        "\n",
        "# 訓練循環\n",
        "for epoch in range(num_epochs):\n",
        "    model.train()\n",
        "    running_loss = 0.0\n",
        "\n",
        "    for i in range(num_batches):\n",
        "        batch_images = images[i*batch_size:(i+1)*batch_size].to(device)\n",
        "        batch_labels = labels[i*batch_size:(i+1)*batch_size].to(device)\n",
        "\n",
        "        optimizer.zero_grad()\n",
        "        outputs = model(batch_images)\n",
        "        outputs = outputs.squeeze()\n",
        "        loss = criterion(outputs, batch_labels)\n",
        "        loss.backward()\n",
        "        optimizer.step()\n",
        "\n",
        "        running_loss += loss.item()\n",
        "\n",
        "    print(f\"Epoch {epoch+1}, Loss: {running_loss/num_batches}\")\n"
      ]
    },
    {
      "cell_type": "markdown",
      "metadata": {},
      "source": [
        "儲存模型參數"
      ]
    },
    {
      "cell_type": "code",
      "execution_count": 6,
      "metadata": {},
      "outputs": [
        {
          "name": "stdout",
          "output_type": "stream",
          "text": [
            "D:\\Program\\machineLearning\\Appendicitis\n"
          ]
        }
      ],
      "source": [
        "cd D:\\Program\\machineLearning\\Appendicitis\\"
      ]
    },
    {
      "cell_type": "code",
      "execution_count": 7,
      "metadata": {},
      "outputs": [
        {
          "name": "stdout",
          "output_type": "stream",
          "text": [
            "params/FC/FC.json exist.\n"
          ]
        }
      ],
      "source": [
        "import json\n",
        "appendix = input(\"請輸入要儲存的編號:\")\n",
        "modelname = model.__class__.__name__\n",
        "filename = f\"params/{modelname}/{modelname}{appendix}\"\n",
        "if os.path.isfile(filename+'.pth'):\n",
        "    print(f\"{filename}.pth exist.\")\n",
        "else:\n",
        "    torch.save(model.state_dict(), f'{filename}.pth')\n",
        "\n",
        "params = {\n",
        "    'num_epochs': num_epochs,\n",
        "    'batch_size': batch_size,\n",
        "    'learning_rate': lr\n",
        "}\n",
        "\n",
        "if os.path.isfile(filename+'.json'):\n",
        "    print(f\"{filename}.json exist.\")\n",
        "else:\n",
        "    with open(f'{filename}.json', 'w') as f:\n",
        "        json.dump(params, f)"
      ]
    },
    {
      "cell_type": "markdown",
      "metadata": {},
      "source": [
        "True Postive / Total Postive\n",
        "F1"
      ]
    }
  ],
  "metadata": {
    "accelerator": "GPU",
    "colab": {
      "authorship_tag": "ABX9TyPfQj8RiO9F8GMd/QdOzqJZ",
      "gpuType": "T4",
      "include_colab_link": true,
      "mount_file_id": "1TknLpSjt7VBPnrZlE8xUrKldVn4iqkzI",
      "provenance": []
    },
    "kernelspec": {
      "display_name": "Python 3",
      "name": "python3"
    },
    "language_info": {
      "codemirror_mode": {
        "name": "ipython",
        "version": 3
      },
      "file_extension": ".py",
      "mimetype": "text/x-python",
      "name": "python",
      "nbconvert_exporter": "python",
      "pygments_lexer": "ipython3",
      "version": "3.11.5"
    }
  },
  "nbformat": 4,
  "nbformat_minor": 0
}
