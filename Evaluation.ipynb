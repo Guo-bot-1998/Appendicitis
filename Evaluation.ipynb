{
 "cells": [
  {
   "cell_type": "code",
   "execution_count": 11,
   "metadata": {},
   "outputs": [
    {
     "name": "stdout",
     "output_type": "stream",
     "text": [
      "GPU is available\n"
     ]
    }
   ],
   "source": [
    "import numpy as np\n",
    "import os\n",
    "import nibabel as nib\n",
    "import torch\n",
    "import torch.nn as nn\n",
    "import torch.optim as optim\n",
    "from helper import  read_data\n",
    "from helper import  read_label\n",
    "from helper import isgpu\n",
    "\n",
    "device = isgpu()\n"
   ]
  },
  {
   "cell_type": "code",
   "execution_count": 12,
   "metadata": {},
   "outputs": [
    {
     "name": "stdout",
     "output_type": "stream",
     "text": [
      "D:\\Program\\machineLearning\\Appendicitis\n"
     ]
    }
   ],
   "source": [
    "cd D:\\Program\\machineLearning\\Appendicitis\\"
   ]
  },
  {
   "cell_type": "code",
   "execution_count": 13,
   "metadata": {},
   "outputs": [],
   "source": [
    "from  models.Unet import Basic\n",
    "model = Basic(in_channels=1).to(device)"
   ]
  },
  {
   "cell_type": "code",
   "execution_count": 14,
   "metadata": {},
   "outputs": [
    {
     "name": "stdout",
     "output_type": "stream",
     "text": [
      "<All keys matched successfully>\n"
     ]
    }
   ],
   "source": [
    "import json\n",
    "appendix = input(\"請輸入要獲取的編號:\")\n",
    "modelname = model.__class__.__name__\n",
    "filename = f\"params/{modelname}/{modelname}{appendix}\"\n",
    "\n",
    "if not os.path.isfile(filename+'.pth'):\n",
    "    print(f\"{filename}.pth not exist.\")\n",
    "else:\n",
    "    print(model.load_state_dict(torch.load(filename+'.pth')))\n",
    "with open(f'{filename}.json', 'r') as f:\n",
    "    params = json.load(f)\n",
    "        "
   ]
  },
  {
   "cell_type": "code",
   "execution_count": 15,
   "metadata": {},
   "outputs": [
    {
     "name": "stdout",
     "output_type": "stream",
     "text": [
      "D:\\Program\\data\\AOCR2024\n"
     ]
    }
   ],
   "source": [
    "cd D:\\Program\\data\\AOCR2024\\"
   ]
  },
  {
   "cell_type": "code",
   "execution_count": 16,
   "metadata": {},
   "outputs": [],
   "source": [
    "data = read_data(\"TrainValid_Image/train_data\", shift=30, termi=10)\n",
    "df = read_label(\"TrainValid_ground_truth.csv\")\n",
    "df.set_index('id', inplace=True)\n",
    "\n",
    "processed = []\n",
    "for key, value in data.items():\n",
    "  scan  = df.loc[df.index.str.startswith(key+'_')]\n",
    "  labels = np.array(scan['label'])\n",
    "  processed.append((value, labels))\n",
    "  \n",
    "# 轉換每個掃描中的圖像和標籤\n",
    "images_list = []\n",
    "labels_list = []\n",
    "\n",
    "for value, label in processed:\n",
    "    # value.shape 為 (512, 512, n)，label.shape 為 (n,)\n",
    "    for i in range(value.shape[2]):\n",
    "        image = value[:, :, i]\n",
    "        image_tensor = torch.from_numpy(image).float().unsqueeze(0)  # 添加通道維度\n",
    "        label_tensor = torch.tensor(label[i], dtype=torch.float32)\n",
    "        images_list.append(image_tensor)\n",
    "        labels_list.append(label_tensor)\n",
    "\n",
    "# 合併成批次數據\n",
    "images = torch.stack(images_list)\n",
    "labels = torch.stack(labels_list)"
   ]
  },
  {
   "cell_type": "code",
   "execution_count": 17,
   "metadata": {},
   "outputs": [],
   "source": [
    "# 評估設置\n",
    "num_epochs = params['num_epochs']\n",
    "batch_size = params['batch_size']\n",
    "num_batches = len(images) // batch_size"
   ]
  },
  {
   "cell_type": "code",
   "execution_count": 18,
   "metadata": {},
   "outputs": [
    {
     "name": "stdout",
     "output_type": "stream",
     "text": [
      "Accuracy on the data: 96.01%\n"
     ]
    }
   ],
   "source": [
    "model.eval()  \n",
    "with torch.no_grad():  # 不更新梯度\n",
    "    correct = 0\n",
    "    total = 0\n",
    "    for i in range(num_batches):\n",
    "        batch_images = images[i*batch_size:(i+1)*batch_size].to(device)\n",
    "        batch_labels = labels[i*batch_size:(i+1)*batch_size].to(device)\n",
    "\n",
    "        outputs = model(batch_images)\n",
    "        predicted = (outputs.squeeze() > 0.5).float()  \n",
    "\n",
    "        total += batch_labels.size(0)\n",
    "        correct += (predicted == batch_labels).sum().item()\n",
    "\n",
    "    accuracy = correct / total\n",
    "    print(f'Accuracy on the data: {accuracy * 100:.2f}%')"
   ]
  }
 ],
 "metadata": {
  "kernelspec": {
   "display_name": "pytorch",
   "language": "python",
   "name": "python3"
  },
  "language_info": {
   "codemirror_mode": {
    "name": "ipython",
    "version": 3
   },
   "file_extension": ".py",
   "mimetype": "text/x-python",
   "name": "python",
   "nbconvert_exporter": "python",
   "pygments_lexer": "ipython3",
   "version": "3.11.5"
  }
 },
 "nbformat": 4,
 "nbformat_minor": 2
}
